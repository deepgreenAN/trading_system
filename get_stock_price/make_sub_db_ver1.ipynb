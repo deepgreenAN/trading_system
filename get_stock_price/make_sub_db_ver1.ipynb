{
 "cells": [
  {
   "cell_type": "code",
   "execution_count": 1,
   "metadata": {
    "ExecuteTime": {
     "end_time": "2020-12-30T08:50:31.603584Z",
     "start_time": "2020-12-30T08:50:31.590618Z"
    }
   },
   "outputs": [],
   "source": [
    "%cd .."
   ]
  },
  {
   "cell_type": "code",
   "execution_count": 2,
   "metadata": {
    "ExecuteTime": {
     "end_time": "2020-12-30T08:50:31.625527Z",
     "start_time": "2020-12-30T08:50:31.607573Z"
    }
   },
   "outputs": [],
   "source": [
    "import datetime\n",
    "from pytz import timezone"
   ]
  },
  {
   "cell_type": "code",
   "execution_count": 3,
   "metadata": {
    "ExecuteTime": {
     "end_time": "2020-12-30T08:50:31.635499Z",
     "start_time": "2020-12-30T08:50:31.629514Z"
    }
   },
   "outputs": [],
   "source": [
    "from pathlib import Path"
   ]
  },
  {
   "cell_type": "code",
   "execution_count": 4,
   "metadata": {
    "ExecuteTime": {
     "end_time": "2020-12-30T08:50:34.202629Z",
     "start_time": "2020-12-30T08:50:31.639489Z"
    }
   },
   "outputs": [],
   "source": [
    "from get_stock_price import StockDatabase"
   ]
  },
  {
   "cell_type": "markdown",
   "metadata": {},
   "source": [
    "### データベースのコンストラクト "
   ]
  },
  {
   "cell_type": "code",
   "execution_count": 5,
   "metadata": {
    "ExecuteTime": {
     "end_time": "2020-12-30T08:50:35.811327Z",
     "start_time": "2020-12-30T08:50:34.207617Z"
    }
   },
   "outputs": [],
   "source": [
    "db_path = Path(\"db/stock_db\") / Path(\"stock.db\")\n",
    "stock_db = StockDatabase(db_path)"
   ]
  },
  {
   "cell_type": "markdown",
   "metadata": {},
   "source": [
    "### 新しいサブデータベースの作成 "
   ]
  },
  {
   "cell_type": "code",
   "execution_count": 6,
   "metadata": {
    "ExecuteTime": {
     "end_time": "2020-12-30T08:51:50.433337Z",
     "start_time": "2020-12-30T08:50:35.814320Z"
    }
   },
   "outputs": [
    {
     "name": "stdout",
     "output_type": "stream",
     "text": [
      "count :86"
     ]
    }
   ],
   "source": [
    "new_db_path = Path(\"db/sub_stock_db\") / Path(\"sub_stock.db\")\n",
    "\n",
    "jst_timezone = timezone(\"Asia/Tokyo\")\n",
    "start_datetime = jst_timezone.localize(datetime.datetime(2020,11,1,0,0,0))\n",
    "end_datetime = jst_timezone.localize(datetime.datetime(2020,12,1,0,0,0))\n",
    "#end_datetime = get_next_workday_jp(start_datetime, days=11)  # 営業日で一週間(5日間)\n",
    "\n",
    "stock_list = [\"4755\",\"9984\",\"6701\",\"6502\",\"7203\",\"7267\"]\n",
    "\n",
    "new_db = stock_db.make_db(new_db_path, \n",
    "                          stock_names=stock_list,\n",
    "                          start_datetime=start_datetime,\n",
    "                          end_datetime=end_datetime\n",
    "                         )"
   ]
  },
  {
   "cell_type": "code",
   "execution_count": 20,
   "metadata": {
    "ExecuteTime": {
     "end_time": "2020-12-30T08:52:24.193572Z",
     "start_time": "2020-12-30T08:52:23.324897Z"
    }
   },
   "outputs": [],
   "source": [
    "stock_names = [\"4755\"]\n",
    "stock_df = new_db.search_span(stock_names,\n",
    "                              start_datetime=start_datetime,\n",
    "                              end_datetime=end_datetime,\n",
    "                              freq_str=\"T\",\n",
    "                              to_tokyo=\"True\"\n",
    "                             )"
   ]
  },
  {
   "cell_type": "code",
   "execution_count": 21,
   "metadata": {
    "ExecuteTime": {
     "end_time": "2020-12-30T08:52:24.842835Z",
     "start_time": "2020-12-30T08:52:24.802943Z"
    }
   },
   "outputs": [
    {
     "data": {
      "text/html": [
       "<div>\n",
       "<style scoped>\n",
       "    .dataframe tbody tr th:only-of-type {\n",
       "        vertical-align: middle;\n",
       "    }\n",
       "\n",
       "    .dataframe tbody tr th {\n",
       "        vertical-align: top;\n",
       "    }\n",
       "\n",
       "    .dataframe thead th {\n",
       "        text-align: right;\n",
       "    }\n",
       "</style>\n",
       "<table border=\"1\" class=\"dataframe\">\n",
       "  <thead>\n",
       "    <tr style=\"text-align: right;\">\n",
       "      <th></th>\n",
       "      <th>Open_4755</th>\n",
       "      <th>High_4755</th>\n",
       "      <th>Low_4755</th>\n",
       "      <th>Close_4755</th>\n",
       "      <th>Volume_4755</th>\n",
       "    </tr>\n",
       "    <tr>\n",
       "      <th>timestamp</th>\n",
       "      <th></th>\n",
       "      <th></th>\n",
       "      <th></th>\n",
       "      <th></th>\n",
       "      <th></th>\n",
       "    </tr>\n",
       "  </thead>\n",
       "  <tbody>\n",
       "    <tr>\n",
       "      <th>2020-11-02 09:00:00+09:00</th>\n",
       "      <td>1005.0</td>\n",
       "      <td>1008.0</td>\n",
       "      <td>1000.0</td>\n",
       "      <td>1005.0</td>\n",
       "      <td>0.0</td>\n",
       "    </tr>\n",
       "    <tr>\n",
       "      <th>2020-11-02 09:01:00+09:00</th>\n",
       "      <td>1006.0</td>\n",
       "      <td>1017.0</td>\n",
       "      <td>1006.0</td>\n",
       "      <td>1016.0</td>\n",
       "      <td>53900.0</td>\n",
       "    </tr>\n",
       "    <tr>\n",
       "      <th>2020-11-02 09:02:00+09:00</th>\n",
       "      <td>1019.0</td>\n",
       "      <td>1019.0</td>\n",
       "      <td>1019.0</td>\n",
       "      <td>1019.0</td>\n",
       "      <td>63200.0</td>\n",
       "    </tr>\n",
       "    <tr>\n",
       "      <th>2020-11-02 09:03:00+09:00</th>\n",
       "      <td>1019.0</td>\n",
       "      <td>1020.0</td>\n",
       "      <td>1016.0</td>\n",
       "      <td>1017.0</td>\n",
       "      <td>79900.0</td>\n",
       "    </tr>\n",
       "    <tr>\n",
       "      <th>2020-11-02 09:04:00+09:00</th>\n",
       "      <td>1016.0</td>\n",
       "      <td>1017.0</td>\n",
       "      <td>1014.0</td>\n",
       "      <td>1017.0</td>\n",
       "      <td>41800.0</td>\n",
       "    </tr>\n",
       "    <tr>\n",
       "      <th>...</th>\n",
       "      <td>...</td>\n",
       "      <td>...</td>\n",
       "      <td>...</td>\n",
       "      <td>...</td>\n",
       "      <td>...</td>\n",
       "    </tr>\n",
       "    <tr>\n",
       "      <th>2020-11-30 23:55:00+09:00</th>\n",
       "      <td>NaN</td>\n",
       "      <td>NaN</td>\n",
       "      <td>NaN</td>\n",
       "      <td>NaN</td>\n",
       "      <td>NaN</td>\n",
       "    </tr>\n",
       "    <tr>\n",
       "      <th>2020-11-30 23:56:00+09:00</th>\n",
       "      <td>NaN</td>\n",
       "      <td>NaN</td>\n",
       "      <td>NaN</td>\n",
       "      <td>NaN</td>\n",
       "      <td>NaN</td>\n",
       "    </tr>\n",
       "    <tr>\n",
       "      <th>2020-11-30 23:57:00+09:00</th>\n",
       "      <td>NaN</td>\n",
       "      <td>NaN</td>\n",
       "      <td>NaN</td>\n",
       "      <td>NaN</td>\n",
       "      <td>NaN</td>\n",
       "    </tr>\n",
       "    <tr>\n",
       "      <th>2020-11-30 23:58:00+09:00</th>\n",
       "      <td>NaN</td>\n",
       "      <td>NaN</td>\n",
       "      <td>NaN</td>\n",
       "      <td>NaN</td>\n",
       "      <td>NaN</td>\n",
       "    </tr>\n",
       "    <tr>\n",
       "      <th>2020-11-30 23:59:00+09:00</th>\n",
       "      <td>NaN</td>\n",
       "      <td>NaN</td>\n",
       "      <td>NaN</td>\n",
       "      <td>NaN</td>\n",
       "      <td>NaN</td>\n",
       "    </tr>\n",
       "  </tbody>\n",
       "</table>\n",
       "<p>31860 rows × 5 columns</p>\n",
       "</div>"
      ],
      "text/plain": [
       "                           Open_4755  High_4755  Low_4755  Close_4755  \\\n",
       "timestamp                                                               \n",
       "2020-11-02 09:00:00+09:00     1005.0     1008.0    1000.0      1005.0   \n",
       "2020-11-02 09:01:00+09:00     1006.0     1017.0    1006.0      1016.0   \n",
       "2020-11-02 09:02:00+09:00     1019.0     1019.0    1019.0      1019.0   \n",
       "2020-11-02 09:03:00+09:00     1019.0     1020.0    1016.0      1017.0   \n",
       "2020-11-02 09:04:00+09:00     1016.0     1017.0    1014.0      1017.0   \n",
       "...                              ...        ...       ...         ...   \n",
       "2020-11-30 23:55:00+09:00        NaN        NaN       NaN         NaN   \n",
       "2020-11-30 23:56:00+09:00        NaN        NaN       NaN         NaN   \n",
       "2020-11-30 23:57:00+09:00        NaN        NaN       NaN         NaN   \n",
       "2020-11-30 23:58:00+09:00        NaN        NaN       NaN         NaN   \n",
       "2020-11-30 23:59:00+09:00        NaN        NaN       NaN         NaN   \n",
       "\n",
       "                           Volume_4755  \n",
       "timestamp                               \n",
       "2020-11-02 09:00:00+09:00          0.0  \n",
       "2020-11-02 09:01:00+09:00      53900.0  \n",
       "2020-11-02 09:02:00+09:00      63200.0  \n",
       "2020-11-02 09:03:00+09:00      79900.0  \n",
       "2020-11-02 09:04:00+09:00      41800.0  \n",
       "...                                ...  \n",
       "2020-11-30 23:55:00+09:00          NaN  \n",
       "2020-11-30 23:56:00+09:00          NaN  \n",
       "2020-11-30 23:57:00+09:00          NaN  \n",
       "2020-11-30 23:58:00+09:00          NaN  \n",
       "2020-11-30 23:59:00+09:00          NaN  \n",
       "\n",
       "[31860 rows x 5 columns]"
      ]
     },
     "execution_count": 21,
     "metadata": {},
     "output_type": "execute_result"
    }
   ],
   "source": [
    "stock_df"
   ]
  },
  {
   "cell_type": "code",
   "execution_count": 22,
   "metadata": {
    "ExecuteTime": {
     "end_time": "2020-12-30T08:52:52.558209Z",
     "start_time": "2020-12-30T08:52:50.841801Z"
    }
   },
   "outputs": [],
   "source": [
    "stock_names = [\"4755\"]\n",
    "stock_df = stock_db.search_span(stock_names,\n",
    "                              start_datetime=start_datetime,\n",
    "                              end_datetime=end_datetime,\n",
    "                              freq_str=\"T\",\n",
    "                              to_tokyo=\"True\"\n",
    "                             )"
   ]
  },
  {
   "cell_type": "code",
   "execution_count": 10,
   "metadata": {
    "ExecuteTime": {
     "end_time": "2020-12-30T08:51:53.184979Z",
     "start_time": "2020-12-30T08:51:53.135111Z"
    }
   },
   "outputs": [
    {
     "data": {
      "text/html": [
       "<div>\n",
       "<style scoped>\n",
       "    .dataframe tbody tr th:only-of-type {\n",
       "        vertical-align: middle;\n",
       "    }\n",
       "\n",
       "    .dataframe tbody tr th {\n",
       "        vertical-align: top;\n",
       "    }\n",
       "\n",
       "    .dataframe thead th {\n",
       "        text-align: right;\n",
       "    }\n",
       "</style>\n",
       "<table border=\"1\" class=\"dataframe\">\n",
       "  <thead>\n",
       "    <tr style=\"text-align: right;\">\n",
       "      <th></th>\n",
       "      <th>Open_4755</th>\n",
       "      <th>High_4755</th>\n",
       "      <th>Low_4755</th>\n",
       "      <th>Close_4755</th>\n",
       "      <th>Volume_4755</th>\n",
       "    </tr>\n",
       "    <tr>\n",
       "      <th>timestamp</th>\n",
       "      <th></th>\n",
       "      <th></th>\n",
       "      <th></th>\n",
       "      <th></th>\n",
       "      <th></th>\n",
       "    </tr>\n",
       "  </thead>\n",
       "  <tbody>\n",
       "    <tr>\n",
       "      <th>2020-11-02 09:00:00+09:00</th>\n",
       "      <td>1005.0</td>\n",
       "      <td>1008.0</td>\n",
       "      <td>1000.0</td>\n",
       "      <td>1005.0</td>\n",
       "      <td>0.0</td>\n",
       "    </tr>\n",
       "    <tr>\n",
       "      <th>2020-11-02 09:01:00+09:00</th>\n",
       "      <td>1006.0</td>\n",
       "      <td>1017.0</td>\n",
       "      <td>1006.0</td>\n",
       "      <td>1016.0</td>\n",
       "      <td>53900.0</td>\n",
       "    </tr>\n",
       "    <tr>\n",
       "      <th>2020-11-02 09:02:00+09:00</th>\n",
       "      <td>1019.0</td>\n",
       "      <td>1019.0</td>\n",
       "      <td>1019.0</td>\n",
       "      <td>1019.0</td>\n",
       "      <td>63200.0</td>\n",
       "    </tr>\n",
       "    <tr>\n",
       "      <th>2020-11-02 09:03:00+09:00</th>\n",
       "      <td>1019.0</td>\n",
       "      <td>1020.0</td>\n",
       "      <td>1016.0</td>\n",
       "      <td>1017.0</td>\n",
       "      <td>79900.0</td>\n",
       "    </tr>\n",
       "    <tr>\n",
       "      <th>2020-11-02 09:04:00+09:00</th>\n",
       "      <td>1016.0</td>\n",
       "      <td>1017.0</td>\n",
       "      <td>1014.0</td>\n",
       "      <td>1017.0</td>\n",
       "      <td>41800.0</td>\n",
       "    </tr>\n",
       "    <tr>\n",
       "      <th>...</th>\n",
       "      <td>...</td>\n",
       "      <td>...</td>\n",
       "      <td>...</td>\n",
       "      <td>...</td>\n",
       "      <td>...</td>\n",
       "    </tr>\n",
       "    <tr>\n",
       "      <th>2020-11-30 23:55:00+09:00</th>\n",
       "      <td>NaN</td>\n",
       "      <td>NaN</td>\n",
       "      <td>NaN</td>\n",
       "      <td>NaN</td>\n",
       "      <td>NaN</td>\n",
       "    </tr>\n",
       "    <tr>\n",
       "      <th>2020-11-30 23:56:00+09:00</th>\n",
       "      <td>NaN</td>\n",
       "      <td>NaN</td>\n",
       "      <td>NaN</td>\n",
       "      <td>NaN</td>\n",
       "      <td>NaN</td>\n",
       "    </tr>\n",
       "    <tr>\n",
       "      <th>2020-11-30 23:57:00+09:00</th>\n",
       "      <td>NaN</td>\n",
       "      <td>NaN</td>\n",
       "      <td>NaN</td>\n",
       "      <td>NaN</td>\n",
       "      <td>NaN</td>\n",
       "    </tr>\n",
       "    <tr>\n",
       "      <th>2020-11-30 23:58:00+09:00</th>\n",
       "      <td>NaN</td>\n",
       "      <td>NaN</td>\n",
       "      <td>NaN</td>\n",
       "      <td>NaN</td>\n",
       "      <td>NaN</td>\n",
       "    </tr>\n",
       "    <tr>\n",
       "      <th>2020-11-30 23:59:00+09:00</th>\n",
       "      <td>NaN</td>\n",
       "      <td>NaN</td>\n",
       "      <td>NaN</td>\n",
       "      <td>NaN</td>\n",
       "      <td>NaN</td>\n",
       "    </tr>\n",
       "  </tbody>\n",
       "</table>\n",
       "<p>31860 rows × 5 columns</p>\n",
       "</div>"
      ],
      "text/plain": [
       "                           Open_4755  High_4755  Low_4755  Close_4755  \\\n",
       "timestamp                                                               \n",
       "2020-11-02 09:00:00+09:00     1005.0     1008.0    1000.0      1005.0   \n",
       "2020-11-02 09:01:00+09:00     1006.0     1017.0    1006.0      1016.0   \n",
       "2020-11-02 09:02:00+09:00     1019.0     1019.0    1019.0      1019.0   \n",
       "2020-11-02 09:03:00+09:00     1019.0     1020.0    1016.0      1017.0   \n",
       "2020-11-02 09:04:00+09:00     1016.0     1017.0    1014.0      1017.0   \n",
       "...                              ...        ...       ...         ...   \n",
       "2020-11-30 23:55:00+09:00        NaN        NaN       NaN         NaN   \n",
       "2020-11-30 23:56:00+09:00        NaN        NaN       NaN         NaN   \n",
       "2020-11-30 23:57:00+09:00        NaN        NaN       NaN         NaN   \n",
       "2020-11-30 23:58:00+09:00        NaN        NaN       NaN         NaN   \n",
       "2020-11-30 23:59:00+09:00        NaN        NaN       NaN         NaN   \n",
       "\n",
       "                           Volume_4755  \n",
       "timestamp                               \n",
       "2020-11-02 09:00:00+09:00          0.0  \n",
       "2020-11-02 09:01:00+09:00      53900.0  \n",
       "2020-11-02 09:02:00+09:00      63200.0  \n",
       "2020-11-02 09:03:00+09:00      79900.0  \n",
       "2020-11-02 09:04:00+09:00      41800.0  \n",
       "...                                ...  \n",
       "2020-11-30 23:55:00+09:00          NaN  \n",
       "2020-11-30 23:56:00+09:00          NaN  \n",
       "2020-11-30 23:57:00+09:00          NaN  \n",
       "2020-11-30 23:58:00+09:00          NaN  \n",
       "2020-11-30 23:59:00+09:00          NaN  \n",
       "\n",
       "[31860 rows x 5 columns]"
      ]
     },
     "execution_count": 10,
     "metadata": {},
     "output_type": "execute_result"
    }
   ],
   "source": [
    "stock_df"
   ]
  },
  {
   "cell_type": "code",
   "execution_count": null,
   "metadata": {},
   "outputs": [],
   "source": []
  }
 ],
 "metadata": {
  "kernelspec": {
   "display_name": "torch_py37",
   "language": "python",
   "name": "torch_py37"
  },
  "language_info": {
   "codemirror_mode": {
    "name": "ipython",
    "version": 3
   },
   "file_extension": ".py",
   "mimetype": "text/x-python",
   "name": "python",
   "nbconvert_exporter": "python",
   "pygments_lexer": "ipython3",
   "version": "3.7.4"
  },
  "toc": {
   "base_numbering": 1,
   "nav_menu": {},
   "number_sections": true,
   "sideBar": true,
   "skip_h1_title": true,
   "title_cell": "Table of Contents",
   "title_sidebar": "Contents",
   "toc_cell": false,
   "toc_position": {},
   "toc_section_display": true,
   "toc_window_display": false
  }
 },
 "nbformat": 4,
 "nbformat_minor": 4
}
