{
 "cells": [
  {
   "cell_type": "markdown",
   "metadata": {},
   "source": [
    "## 実行位置の調整 "
   ]
  },
  {
   "cell_type": "code",
   "execution_count": 5,
   "metadata": {
    "ExecuteTime": {
     "end_time": "2020-11-04T09:03:18.460133Z",
     "start_time": "2020-11-04T09:03:18.422231Z"
    }
   },
   "outputs": [
    {
     "name": "stdout",
     "output_type": "stream",
     "text": [
      "E:\\システムトレード入門\\git_workspace\n"
     ]
    }
   ],
   "source": [
    "%cd .."
   ]
  },
  {
   "cell_type": "markdown",
   "metadata": {},
   "source": [
    "## インポート "
   ]
  },
  {
   "cell_type": "code",
   "execution_count": 6,
   "metadata": {
    "ExecuteTime": {
     "end_time": "2020-11-04T09:03:38.559364Z",
     "start_time": "2020-11-04T09:03:38.544404Z"
    }
   },
   "outputs": [],
   "source": [
    "import pandas as pd\n",
    "import matplotlib.pyplot as plt\n",
    "import mpl_finance as mpf\n",
    "import matplotlib\n",
    "import numpy as np\n",
    "import datetime"
   ]
  },
  {
   "cell_type": "code",
   "execution_count": 7,
   "metadata": {
    "ExecuteTime": {
     "end_time": "2020-11-04T09:03:40.124177Z",
     "start_time": "2020-11-04T09:03:40.113207Z"
    }
   },
   "outputs": [],
   "source": [
    "from yahoo_finance_api2 import share\n",
    "from yahoo_finance_api2.exceptions import YahooFinanceError"
   ]
  },
  {
   "cell_type": "code",
   "execution_count": 8,
   "metadata": {
    "ExecuteTime": {
     "end_time": "2020-11-04T09:03:40.778427Z",
     "start_time": "2020-11-04T09:03:40.767461Z"
    }
   },
   "outputs": [],
   "source": [
    "import sqlite3\n",
    "from pathlib import Path"
   ]
  },
  {
   "cell_type": "code",
   "execution_count": 9,
   "metadata": {
    "ExecuteTime": {
     "end_time": "2020-11-04T09:03:59.121401Z",
     "start_time": "2020-11-04T09:03:59.083464Z"
    }
   },
   "outputs": [],
   "source": [
    "from utils import ConvertFreqOHLCV, get_sec_from_freq"
   ]
  },
  {
   "cell_type": "code",
   "execution_count": 10,
   "metadata": {
    "ExecuteTime": {
     "end_time": "2020-11-04T09:04:00.551531Z",
     "start_time": "2020-11-04T09:04:00.540568Z"
    }
   },
   "outputs": [],
   "source": [
    "from contextlib import closing"
   ]
  },
  {
   "cell_type": "code",
   "execution_count": 11,
   "metadata": {
    "ExecuteTime": {
     "end_time": "2020-11-04T09:04:04.563801Z",
     "start_time": "2020-11-04T09:04:04.553833Z"
    }
   },
   "outputs": [],
   "source": [
    "import re\n",
    "import time\n",
    "import warnings"
   ]
  },
  {
   "cell_type": "code",
   "execution_count": 12,
   "metadata": {
    "ExecuteTime": {
     "end_time": "2020-11-04T09:04:05.561186Z",
     "start_time": "2020-11-04T09:04:05.497299Z"
    }
   },
   "outputs": [],
   "source": [
    "import cProfile\n",
    "from line_profiler import LineProfiler"
   ]
  },
  {
   "cell_type": "markdown",
   "metadata": {},
   "source": [
    "##  yahoo apiによる株価ヒストリカルデータの取得"
   ]
  },
  {
   "cell_type": "code",
   "execution_count": 13,
   "metadata": {
    "ExecuteTime": {
     "end_time": "2020-11-04T09:04:13.777152Z",
     "start_time": "2020-11-04T09:04:13.749234Z"
    }
   },
   "outputs": [],
   "source": [
    "class ColumnNameEditorYahoo():\n",
    "    \"\"\"\n",
    "    yahoo finance apiを利用したときのカラム名を調整するためのクラス\n",
    "    \"\"\"\n",
    "    def __init__(self, extra_str=r\".T\"):\n",
    "        \"\"\"\n",
    "        extra_str: str\n",
    "            yahoo finance apiを使うときに必要な文字列\n",
    "        \"\"\"\n",
    "        self.pattern = re.compile(extra_str)  # とりあえずこれでいいか\n",
    "        self.column_name_dict = {\"open\":\"Open\", \"high\":\"High\", \"low\":\"Low\", \"close\":\"Close\", \"volume\":\"Volume\"}\n",
    "        \n",
    "    def __call__(self, stock_name, column_name):\n",
    "        new_column = self.column_name_dict[column_name]\n",
    "        replaced_stock_name = self.pattern.sub(\"\", stock_name)\n",
    "        \n",
    "        return new_column + \"_\" + replaced_stock_name"
   ]
  },
  {
   "cell_type": "code",
   "execution_count": 14,
   "metadata": {
    "ExecuteTime": {
     "end_time": "2020-11-04T09:04:14.610923Z",
     "start_time": "2020-11-04T09:04:14.596959Z"
    }
   },
   "outputs": [],
   "source": [
    "stock_str_list = ['Open', 'High', 'Low', 'Close', 'Volume']"
   ]
  },
  {
   "cell_type": "code",
   "execution_count": 15,
   "metadata": {
    "ExecuteTime": {
     "end_time": "2020-11-04T09:04:15.353934Z",
     "start_time": "2020-11-04T09:04:15.331998Z"
    }
   },
   "outputs": [
    {
     "name": "stdout",
     "output_type": "stream",
     "text": [
      "['Open_4755', 'High_4755', 'Low_4755', 'Close_4755', 'Volume_4755']\n"
     ]
    }
   ],
   "source": [
    "stock_name = \"4755.T\"\n",
    "column_editor = ColumnNameEditorYahoo()\n",
    "yahoo_stock_str_list = ['open', 'high', 'low', 'close', 'volume']\n",
    "new_yahoo_stock_str_list = [column_editor(stock_name,i) for i in yahoo_stock_str_list]\n",
    "print(new_yahoo_stock_str_list)"
   ]
  },
  {
   "cell_type": "code",
   "execution_count": 16,
   "metadata": {
    "ExecuteTime": {
     "end_time": "2020-11-04T09:04:17.561035Z",
     "start_time": "2020-11-04T09:04:17.382521Z"
    }
   },
   "outputs": [],
   "source": [
    "class YahooFinanceStockLoaderMin():\n",
    "    api_last_used_time = None\n",
    "    api_now_used_time = None\n",
    "    \"\"\"\n",
    "    yahoo finance apiを用いた株価取得ローダー．\n",
    "    現在から6日まで過去の分足を取得する\n",
    "    \"\"\"\n",
    "    def __init__(self, stock_names, past_day=5, column_editor=ColumnNameEditorYahoo(), stop_time_span=2.0, is_use_stop=False, to_tokyo=True):\n",
    "        \"\"\"\n",
    "        stock_names: str or list of str\n",
    "            ロードしたい株の銘柄コード，なぜか.Tを付けないとうまく動かない\n",
    "        past_day: int\n",
    "            ロードしたい日数，現在からこの日数だけロードされる\n",
    "        column_editor: ColumnNameEditorYahoo\n",
    "            カラム名調整のため．引数にする必要はなさそう\n",
    "        stop_time_span: int\n",
    "            apiを呼び出すときにストップする秒数．制限に引っかからないために設定する．とりあえず2秒にしておけば大丈夫\n",
    "        is_use_stop: bool\n",
    "            ストップするかどうか\n",
    "        to_tokyo: bool\n",
    "            タイムゾーンを東京へ変更するかどうか\n",
    "        \"\"\"\n",
    "        if past_day >= 7:\n",
    "            raise ValueError(\"yahoo finance cannot get more than 7 past day\")\n",
    "        \n",
    "        self.stock_str_list_yahoo = ['open', 'high', 'low', 'close', 'volume']\n",
    "        if isinstance(stock_names, str) and stock_names is not None:  # 一応一つだけのとき\n",
    "            stock_names = [stock_names]\n",
    "        self.stock_names = stock_names\n",
    "        self.past_day = past_day\n",
    "        self.column_editor = column_editor\n",
    "        self.stop_time_span = stop_time_span\n",
    "        self.is_use_stop = is_use_stop\n",
    "        self.to_tokyo = to_tokyo\n",
    "        \n",
    "    def load(self):\n",
    "        \"\"\"\n",
    "        データをロードする関数．\n",
    "        returns\n",
    "        -------\n",
    "        left_df: pandas.DataFrame\n",
    "            コンストラクタで指定した銘柄コードの始値Open，終値Close，高値High，安値Low，出来高VolumeをOpen_銘柄コードというカラム名で保持するDataFrameを返す．\n",
    "        \"\"\"\n",
    "        IsFirst = True  # 最初かどうかのフラッグ\n",
    "        IsMulti = False  # 複数かどうかのフラッグ\n",
    "        \n",
    "        if self.stock_names is None:\n",
    "            raise ValueError(\"stock names is not setted\")\n",
    "        \n",
    "        for stock_name in self.stock_names:\n",
    "            stock_share = share.Share(stock_name)\n",
    "            stock_data = None\n",
    "\n",
    "            try:\n",
    "                if self.is_use_stop:\n",
    "                    YahooFinanceStockLoaderMin.api_now_used_time = time.time()  # apiのストップに利用する現在時間\n",
    "                    if YahooFinanceStockLoaderMin.api_now_used_time is not None and YahooFinanceStockLoaderMin.api_last_used_time is not None:\n",
    "                        api_span_time = YahooFinanceStockLoaderMin.api_now_used_time - YahooFinanceStockLoaderMin.api_last_used_time\n",
    "                        if api_span_time < self.stop_time_span:\n",
    "                            time.sleep(self.stop_time_span - api_span_time + 0.001)  # apiの制限をクリアするための停止\n",
    "                    \n",
    "                \n",
    "                stock_data = stock_share.get_historical(share.PERIOD_TYPE_DAY,\n",
    "                                                        self.past_day,\n",
    "                                                        share.FREQUENCY_TYPE_MINUTE,\n",
    "                                                        1\n",
    "                                                        )\n",
    "                \n",
    "                YahooFinanceStockLoaderMin.api_last_used_time = time.time()  # apiを利用した最後の時間\n",
    "                \n",
    "            except YahooFinanceError as e:\n",
    "                YahooFinanceStockLoaderMin.api_last_used_time = time.time()  # 一応エラーしたときも定めておく\n",
    "                print(e.message)\n",
    "                \n",
    "            if stock_data is not None:\n",
    "                df = pd.DataFrame()\n",
    "                \n",
    "                for stock_data_key in stock_data.keys():\n",
    "                    if stock_data_key != \"timestamp\":  # timestampでないとき\n",
    "                        df[self.column_editor(stock_name=stock_name, column_name=stock_data_key)] = stock_data[stock_data_key]  # dataframeへの代入\n",
    "                        \n",
    "                pandas_timestamp = [datetime.datetime.utcfromtimestamp(i/1000) for i in stock_data[\"timestamp\"]]  # timestampをindexへ\n",
    "                df.index = pd.DatetimeIndex(pandas_timestamp)\n",
    "                df.index = df.index.tz_localize('UTC')\n",
    "                if self.to_tokyo:   # tokyoのタイムゾーンに指定\n",
    "                    df.index = df.index.tz_convert('Asia/Tokyo')\n",
    "                \n",
    "                if IsFirst:\n",
    "                    left_df = df\n",
    "                    IsFirst = False\n",
    "                else:\n",
    "                    IsMulti = True\n",
    "                    right_df = df\n",
    "                \n",
    "                if IsMulti:  # 複数の場合\n",
    "                    left_df = pd.merge(left_df, \n",
    "                                       right_df,\n",
    "                                       how=\"outer\",\n",
    "                                       left_index=True,\n",
    "                                       right_index=True\n",
    "                                      )\n",
    "        if IsFirst and not IsMulti:  # 一度もNoneが返ってこなかった場合\n",
    "            return None\n",
    "        \n",
    "        # frequencyを定める\n",
    "        left_df = left_df.asfreq(\"T\")  # 分足データとして保持  \n",
    "        left_df.index = left_df.index.set_names(\"timestamp\")\n",
    "        return left_df\n",
    "    \n",
    "    \n",
    "    def set_stock_names(self, stock_names):\n",
    "        \"\"\"\n",
    "        コンストラクタ以外で銘柄コードを設定する\n",
    "        stock_names: str or list of str\n",
    "            ロードしたい株の銘柄コード，なぜか.Tを付けないとうまく動かない        \n",
    "        \"\"\"\n",
    "        if isinstance(stock_names, str):  # 一応一つだけのとき\n",
    "            stock_names = [stock_names]\n",
    "        self.stock_names = stock_names"
   ]
  },
  {
   "cell_type": "code",
   "execution_count": 17,
   "metadata": {
    "ExecuteTime": {
     "end_time": "2020-11-04T09:04:23.729528Z",
     "start_time": "2020-11-04T09:04:19.993523Z"
    }
   },
   "outputs": [
    {
     "data": {
      "text/html": [
       "<div>\n",
       "<style scoped>\n",
       "    .dataframe tbody tr th:only-of-type {\n",
       "        vertical-align: middle;\n",
       "    }\n",
       "\n",
       "    .dataframe tbody tr th {\n",
       "        vertical-align: top;\n",
       "    }\n",
       "\n",
       "    .dataframe thead th {\n",
       "        text-align: right;\n",
       "    }\n",
       "</style>\n",
       "<table border=\"1\" class=\"dataframe\">\n",
       "  <thead>\n",
       "    <tr style=\"text-align: right;\">\n",
       "      <th></th>\n",
       "      <th>Open_4755</th>\n",
       "      <th>High_4755</th>\n",
       "      <th>Low_4755</th>\n",
       "      <th>Close_4755</th>\n",
       "      <th>Volume_4755</th>\n",
       "      <th>Open_6502</th>\n",
       "      <th>High_6502</th>\n",
       "      <th>Low_6502</th>\n",
       "      <th>Close_6502</th>\n",
       "      <th>Volume_6502</th>\n",
       "      <th>Open_2802</th>\n",
       "      <th>High_2802</th>\n",
       "      <th>Low_2802</th>\n",
       "      <th>Close_2802</th>\n",
       "      <th>Volume_2802</th>\n",
       "      <th>Open_6954</th>\n",
       "      <th>High_6954</th>\n",
       "      <th>Low_6954</th>\n",
       "      <th>Close_6954</th>\n",
       "      <th>Volume_6954</th>\n",
       "    </tr>\n",
       "    <tr>\n",
       "      <th>timestamp</th>\n",
       "      <th></th>\n",
       "      <th></th>\n",
       "      <th></th>\n",
       "      <th></th>\n",
       "      <th></th>\n",
       "      <th></th>\n",
       "      <th></th>\n",
       "      <th></th>\n",
       "      <th></th>\n",
       "      <th></th>\n",
       "      <th></th>\n",
       "      <th></th>\n",
       "      <th></th>\n",
       "      <th></th>\n",
       "      <th></th>\n",
       "      <th></th>\n",
       "      <th></th>\n",
       "      <th></th>\n",
       "      <th></th>\n",
       "      <th></th>\n",
       "    </tr>\n",
       "  </thead>\n",
       "  <tbody>\n",
       "    <tr>\n",
       "      <th>2020-11-04 14:55:00+09:00</th>\n",
       "      <td>1037.0</td>\n",
       "      <td>1037.0</td>\n",
       "      <td>1036.0</td>\n",
       "      <td>1037.0</td>\n",
       "      <td>101000.0</td>\n",
       "      <td>2650.0</td>\n",
       "      <td>2651.0</td>\n",
       "      <td>2649.0</td>\n",
       "      <td>2650.0</td>\n",
       "      <td>7500.0</td>\n",
       "      <td>2155.0</td>\n",
       "      <td>2155.5</td>\n",
       "      <td>2153.5</td>\n",
       "      <td>2153.5</td>\n",
       "      <td>10900.0</td>\n",
       "      <td>22660.0</td>\n",
       "      <td>22660.0</td>\n",
       "      <td>22650.0</td>\n",
       "      <td>22655.0</td>\n",
       "      <td>2200.0</td>\n",
       "    </tr>\n",
       "    <tr>\n",
       "      <th>2020-11-04 14:56:00+09:00</th>\n",
       "      <td>1037.0</td>\n",
       "      <td>1038.0</td>\n",
       "      <td>1037.0</td>\n",
       "      <td>1037.0</td>\n",
       "      <td>51100.0</td>\n",
       "      <td>2649.0</td>\n",
       "      <td>2650.0</td>\n",
       "      <td>2648.0</td>\n",
       "      <td>2649.0</td>\n",
       "      <td>10300.0</td>\n",
       "      <td>2153.5</td>\n",
       "      <td>2153.5</td>\n",
       "      <td>2152.0</td>\n",
       "      <td>2152.5</td>\n",
       "      <td>5700.0</td>\n",
       "      <td>22650.0</td>\n",
       "      <td>22655.0</td>\n",
       "      <td>22640.0</td>\n",
       "      <td>22640.0</td>\n",
       "      <td>4000.0</td>\n",
       "    </tr>\n",
       "    <tr>\n",
       "      <th>2020-11-04 14:57:00+09:00</th>\n",
       "      <td>1036.0</td>\n",
       "      <td>1038.0</td>\n",
       "      <td>1036.0</td>\n",
       "      <td>1037.0</td>\n",
       "      <td>40300.0</td>\n",
       "      <td>2648.0</td>\n",
       "      <td>2650.0</td>\n",
       "      <td>2648.0</td>\n",
       "      <td>2650.0</td>\n",
       "      <td>2300.0</td>\n",
       "      <td>2152.0</td>\n",
       "      <td>2152.5</td>\n",
       "      <td>2151.5</td>\n",
       "      <td>2151.5</td>\n",
       "      <td>3300.0</td>\n",
       "      <td>22645.0</td>\n",
       "      <td>22660.0</td>\n",
       "      <td>22645.0</td>\n",
       "      <td>22660.0</td>\n",
       "      <td>5600.0</td>\n",
       "    </tr>\n",
       "    <tr>\n",
       "      <th>2020-11-04 14:58:00+09:00</th>\n",
       "      <td>1037.0</td>\n",
       "      <td>1037.0</td>\n",
       "      <td>1036.0</td>\n",
       "      <td>1036.0</td>\n",
       "      <td>157200.0</td>\n",
       "      <td>2650.0</td>\n",
       "      <td>2651.0</td>\n",
       "      <td>2648.0</td>\n",
       "      <td>2650.0</td>\n",
       "      <td>13600.0</td>\n",
       "      <td>2152.5</td>\n",
       "      <td>2153.0</td>\n",
       "      <td>2151.0</td>\n",
       "      <td>2152.5</td>\n",
       "      <td>8800.0</td>\n",
       "      <td>22655.0</td>\n",
       "      <td>22670.0</td>\n",
       "      <td>22640.0</td>\n",
       "      <td>22655.0</td>\n",
       "      <td>8100.0</td>\n",
       "    </tr>\n",
       "    <tr>\n",
       "      <th>2020-11-04 14:59:00+09:00</th>\n",
       "      <td>1036.0</td>\n",
       "      <td>1037.0</td>\n",
       "      <td>1034.0</td>\n",
       "      <td>1035.0</td>\n",
       "      <td>210000.0</td>\n",
       "      <td>2649.0</td>\n",
       "      <td>2651.0</td>\n",
       "      <td>2638.0</td>\n",
       "      <td>2638.0</td>\n",
       "      <td>46700.0</td>\n",
       "      <td>2152.5</td>\n",
       "      <td>2162.5</td>\n",
       "      <td>2152.5</td>\n",
       "      <td>2162.5</td>\n",
       "      <td>28300.0</td>\n",
       "      <td>22655.0</td>\n",
       "      <td>22685.0</td>\n",
       "      <td>22625.0</td>\n",
       "      <td>22650.0</td>\n",
       "      <td>22000.0</td>\n",
       "    </tr>\n",
       "  </tbody>\n",
       "</table>\n",
       "</div>"
      ],
      "text/plain": [
       "                           Open_4755  High_4755  Low_4755  Close_4755  \\\n",
       "timestamp                                                               \n",
       "2020-11-04 14:55:00+09:00     1037.0     1037.0    1036.0      1037.0   \n",
       "2020-11-04 14:56:00+09:00     1037.0     1038.0    1037.0      1037.0   \n",
       "2020-11-04 14:57:00+09:00     1036.0     1038.0    1036.0      1037.0   \n",
       "2020-11-04 14:58:00+09:00     1037.0     1037.0    1036.0      1036.0   \n",
       "2020-11-04 14:59:00+09:00     1036.0     1037.0    1034.0      1035.0   \n",
       "\n",
       "                           Volume_4755  Open_6502  High_6502  Low_6502  \\\n",
       "timestamp                                                                \n",
       "2020-11-04 14:55:00+09:00     101000.0     2650.0     2651.0    2649.0   \n",
       "2020-11-04 14:56:00+09:00      51100.0     2649.0     2650.0    2648.0   \n",
       "2020-11-04 14:57:00+09:00      40300.0     2648.0     2650.0    2648.0   \n",
       "2020-11-04 14:58:00+09:00     157200.0     2650.0     2651.0    2648.0   \n",
       "2020-11-04 14:59:00+09:00     210000.0     2649.0     2651.0    2638.0   \n",
       "\n",
       "                           Close_6502  Volume_6502  Open_2802  High_2802  \\\n",
       "timestamp                                                                  \n",
       "2020-11-04 14:55:00+09:00      2650.0       7500.0     2155.0     2155.5   \n",
       "2020-11-04 14:56:00+09:00      2649.0      10300.0     2153.5     2153.5   \n",
       "2020-11-04 14:57:00+09:00      2650.0       2300.0     2152.0     2152.5   \n",
       "2020-11-04 14:58:00+09:00      2650.0      13600.0     2152.5     2153.0   \n",
       "2020-11-04 14:59:00+09:00      2638.0      46700.0     2152.5     2162.5   \n",
       "\n",
       "                           Low_2802  Close_2802  Volume_2802  Open_6954  \\\n",
       "timestamp                                                                 \n",
       "2020-11-04 14:55:00+09:00    2153.5      2153.5      10900.0    22660.0   \n",
       "2020-11-04 14:56:00+09:00    2152.0      2152.5       5700.0    22650.0   \n",
       "2020-11-04 14:57:00+09:00    2151.5      2151.5       3300.0    22645.0   \n",
       "2020-11-04 14:58:00+09:00    2151.0      2152.5       8800.0    22655.0   \n",
       "2020-11-04 14:59:00+09:00    2152.5      2162.5      28300.0    22655.0   \n",
       "\n",
       "                           High_6954  Low_6954  Close_6954  Volume_6954  \n",
       "timestamp                                                                \n",
       "2020-11-04 14:55:00+09:00    22660.0   22650.0     22655.0       2200.0  \n",
       "2020-11-04 14:56:00+09:00    22655.0   22640.0     22640.0       4000.0  \n",
       "2020-11-04 14:57:00+09:00    22660.0   22645.0     22660.0       5600.0  \n",
       "2020-11-04 14:58:00+09:00    22670.0   22640.0     22655.0       8100.0  \n",
       "2020-11-04 14:59:00+09:00    22685.0   22625.0     22650.0      22000.0  "
      ]
     },
     "execution_count": 17,
     "metadata": {},
     "output_type": "execute_result"
    }
   ],
   "source": [
    "stock_names  = [\"4755.T\",\"6502.T\",\"2802.T\",\"6954.T\"]\n",
    "#stock_names = \"6502.T\"\n",
    "\n",
    "\n",
    "stockloader = YahooFinanceStockLoaderMin(stock_names, stop_time_span=2.0, is_use_stop=False)\n",
    "stock_df = stockloader.load()\n",
    "stock_df.tail(5)"
   ]
  }
 ],
 "metadata": {
  "kernelspec": {
   "display_name": "torch_py37",
   "language": "python",
   "name": "torch_py37"
  },
  "language_info": {
   "codemirror_mode": {
    "name": "ipython",
    "version": 3
   },
   "file_extension": ".py",
   "mimetype": "text/x-python",
   "name": "python",
   "nbconvert_exporter": "python",
   "pygments_lexer": "ipython3",
   "version": "3.7.4"
  },
  "toc": {
   "base_numbering": 1,
   "nav_menu": {},
   "number_sections": true,
   "sideBar": true,
   "skip_h1_title": false,
   "title_cell": "Table of Contents",
   "title_sidebar": "Contents",
   "toc_cell": false,
   "toc_position": {},
   "toc_section_display": true,
   "toc_window_display": false
  }
 },
 "nbformat": 4,
 "nbformat_minor": 4
}
