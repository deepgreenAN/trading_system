{
 "cells": [
  {
   "cell_type": "code",
   "execution_count": 1,
   "metadata": {
    "ExecuteTime": {
     "end_time": "2020-11-24T12:10:23.723584Z",
     "start_time": "2020-11-24T12:10:23.690670Z"
    }
   },
   "outputs": [
    {
     "name": "stdout",
     "output_type": "stream",
     "text": [
      "E:\\システムトレード入門\\predict_git_workspace\n"
     ]
    }
   ],
   "source": [
    "%cd .."
   ]
  },
  {
   "cell_type": "code",
   "execution_count": 2,
   "metadata": {
    "ExecuteTime": {
     "end_time": "2020-11-24T12:10:23.788416Z",
     "start_time": "2020-11-24T12:10:23.736549Z"
    }
   },
   "outputs": [],
   "source": [
    "from pathlib import Path\n",
    "import datetime\n",
    "from pytz import timezone"
   ]
  },
  {
   "cell_type": "code",
   "execution_count": 3,
   "metadata": {
    "ExecuteTime": {
     "end_time": "2020-11-24T12:10:27.607227Z",
     "start_time": "2020-11-24T12:10:23.800376Z"
    }
   },
   "outputs": [],
   "source": [
    "from get_stock_price import YahooFinanceStockLoaderMin"
   ]
  },
  {
   "cell_type": "code",
   "execution_count": 4,
   "metadata": {
    "ExecuteTime": {
     "end_time": "2020-11-24T12:10:27.625141Z",
     "start_time": "2020-11-24T12:10:27.615169Z"
    }
   },
   "outputs": [],
   "source": [
    "from get_stock_price import StockDatabase"
   ]
  },
  {
   "cell_type": "markdown",
   "metadata": {},
   "source": [
    "## インスタンスの作成 "
   ]
  },
  {
   "cell_type": "code",
   "execution_count": 5,
   "metadata": {
    "ExecuteTime": {
     "end_time": "2020-11-24T12:10:27.657057Z",
     "start_time": "2020-11-24T12:10:27.638109Z"
    }
   },
   "outputs": [],
   "source": [
    "db_path = Path(\"db/test_db\") / Path(\"stock.db\")"
   ]
  },
  {
   "cell_type": "code",
   "execution_count": 26,
   "metadata": {
    "ExecuteTime": {
     "end_time": "2020-11-24T12:13:49.599707Z",
     "start_time": "2020-11-24T12:13:46.998627Z"
    }
   },
   "outputs": [],
   "source": [
    "stock_db = StockDatabase(db_path)"
   ]
  },
  {
   "cell_type": "markdown",
   "metadata": {},
   "source": [
    "## upsert "
   ]
  },
  {
   "cell_type": "code",
   "execution_count": 7,
   "metadata": {
    "ExecuteTime": {
     "end_time": "2020-11-24T12:10:34.789967Z",
     "start_time": "2020-11-24T12:10:30.432631Z"
    }
   },
   "outputs": [
    {
     "data": {
      "text/html": [
       "<div>\n",
       "<style scoped>\n",
       "    .dataframe tbody tr th:only-of-type {\n",
       "        vertical-align: middle;\n",
       "    }\n",
       "\n",
       "    .dataframe tbody tr th {\n",
       "        vertical-align: top;\n",
       "    }\n",
       "\n",
       "    .dataframe thead th {\n",
       "        text-align: right;\n",
       "    }\n",
       "</style>\n",
       "<table border=\"1\" class=\"dataframe\">\n",
       "  <thead>\n",
       "    <tr style=\"text-align: right;\">\n",
       "      <th></th>\n",
       "      <th>Open_4755</th>\n",
       "      <th>High_4755</th>\n",
       "      <th>Low_4755</th>\n",
       "      <th>Close_4755</th>\n",
       "      <th>Volume_4755</th>\n",
       "      <th>Open_6502</th>\n",
       "      <th>High_6502</th>\n",
       "      <th>Low_6502</th>\n",
       "      <th>Close_6502</th>\n",
       "      <th>Volume_6502</th>\n",
       "      <th>Open_2802</th>\n",
       "      <th>High_2802</th>\n",
       "      <th>Low_2802</th>\n",
       "      <th>Close_2802</th>\n",
       "      <th>Volume_2802</th>\n",
       "      <th>Open_6954</th>\n",
       "      <th>High_6954</th>\n",
       "      <th>Low_6954</th>\n",
       "      <th>Close_6954</th>\n",
       "      <th>Volume_6954</th>\n",
       "    </tr>\n",
       "    <tr>\n",
       "      <th>timestamp</th>\n",
       "      <th></th>\n",
       "      <th></th>\n",
       "      <th></th>\n",
       "      <th></th>\n",
       "      <th></th>\n",
       "      <th></th>\n",
       "      <th></th>\n",
       "      <th></th>\n",
       "      <th></th>\n",
       "      <th></th>\n",
       "      <th></th>\n",
       "      <th></th>\n",
       "      <th></th>\n",
       "      <th></th>\n",
       "      <th></th>\n",
       "      <th></th>\n",
       "      <th></th>\n",
       "      <th></th>\n",
       "      <th></th>\n",
       "      <th></th>\n",
       "    </tr>\n",
       "  </thead>\n",
       "  <tbody>\n",
       "    <tr>\n",
       "      <th>2020-11-24 14:55:00+09:00</th>\n",
       "      <td>1160.0</td>\n",
       "      <td>1161.0</td>\n",
       "      <td>1159.0</td>\n",
       "      <td>1161.0</td>\n",
       "      <td>30800.0</td>\n",
       "      <td>2921.0</td>\n",
       "      <td>2921.0</td>\n",
       "      <td>2920.0</td>\n",
       "      <td>2920.0</td>\n",
       "      <td>7400.0</td>\n",
       "      <td>2285.0</td>\n",
       "      <td>2285.5</td>\n",
       "      <td>2284.0</td>\n",
       "      <td>2284.0</td>\n",
       "      <td>7000.0</td>\n",
       "      <td>25390.0</td>\n",
       "      <td>25415.0</td>\n",
       "      <td>25390.0</td>\n",
       "      <td>25395.0</td>\n",
       "      <td>4300.0</td>\n",
       "    </tr>\n",
       "    <tr>\n",
       "      <th>2020-11-24 14:56:00+09:00</th>\n",
       "      <td>1160.0</td>\n",
       "      <td>1161.0</td>\n",
       "      <td>1159.0</td>\n",
       "      <td>1160.0</td>\n",
       "      <td>44700.0</td>\n",
       "      <td>2921.0</td>\n",
       "      <td>2921.0</td>\n",
       "      <td>2919.0</td>\n",
       "      <td>2919.0</td>\n",
       "      <td>17400.0</td>\n",
       "      <td>2283.0</td>\n",
       "      <td>2284.5</td>\n",
       "      <td>2283.0</td>\n",
       "      <td>2284.0</td>\n",
       "      <td>3100.0</td>\n",
       "      <td>25390.0</td>\n",
       "      <td>25420.0</td>\n",
       "      <td>25390.0</td>\n",
       "      <td>25415.0</td>\n",
       "      <td>5300.0</td>\n",
       "    </tr>\n",
       "    <tr>\n",
       "      <th>2020-11-24 14:57:00+09:00</th>\n",
       "      <td>1161.0</td>\n",
       "      <td>1161.0</td>\n",
       "      <td>1160.0</td>\n",
       "      <td>1161.0</td>\n",
       "      <td>22800.0</td>\n",
       "      <td>2919.0</td>\n",
       "      <td>2920.0</td>\n",
       "      <td>2919.0</td>\n",
       "      <td>2919.0</td>\n",
       "      <td>9900.0</td>\n",
       "      <td>2284.0</td>\n",
       "      <td>2284.5</td>\n",
       "      <td>2283.0</td>\n",
       "      <td>2283.5</td>\n",
       "      <td>5900.0</td>\n",
       "      <td>25410.0</td>\n",
       "      <td>25420.0</td>\n",
       "      <td>25410.0</td>\n",
       "      <td>25415.0</td>\n",
       "      <td>2700.0</td>\n",
       "    </tr>\n",
       "    <tr>\n",
       "      <th>2020-11-24 14:58:00+09:00</th>\n",
       "      <td>1161.0</td>\n",
       "      <td>1161.0</td>\n",
       "      <td>1160.0</td>\n",
       "      <td>1161.0</td>\n",
       "      <td>22300.0</td>\n",
       "      <td>2919.0</td>\n",
       "      <td>2925.0</td>\n",
       "      <td>2919.0</td>\n",
       "      <td>2925.0</td>\n",
       "      <td>29200.0</td>\n",
       "      <td>2283.0</td>\n",
       "      <td>2285.0</td>\n",
       "      <td>2283.0</td>\n",
       "      <td>2285.0</td>\n",
       "      <td>7600.0</td>\n",
       "      <td>25420.0</td>\n",
       "      <td>25430.0</td>\n",
       "      <td>25415.0</td>\n",
       "      <td>25420.0</td>\n",
       "      <td>5900.0</td>\n",
       "    </tr>\n",
       "    <tr>\n",
       "      <th>2020-11-24 14:59:00+09:00</th>\n",
       "      <td>1161.0</td>\n",
       "      <td>1161.0</td>\n",
       "      <td>1159.0</td>\n",
       "      <td>1159.0</td>\n",
       "      <td>84300.0</td>\n",
       "      <td>2924.0</td>\n",
       "      <td>2925.0</td>\n",
       "      <td>2917.0</td>\n",
       "      <td>2924.0</td>\n",
       "      <td>51500.0</td>\n",
       "      <td>2285.0</td>\n",
       "      <td>2286.0</td>\n",
       "      <td>2279.0</td>\n",
       "      <td>2279.0</td>\n",
       "      <td>34700.0</td>\n",
       "      <td>25420.0</td>\n",
       "      <td>25430.0</td>\n",
       "      <td>25385.0</td>\n",
       "      <td>25400.0</td>\n",
       "      <td>13500.0</td>\n",
       "    </tr>\n",
       "  </tbody>\n",
       "</table>\n",
       "</div>"
      ],
      "text/plain": [
       "                           Open_4755  High_4755  Low_4755  Close_4755  \\\n",
       "timestamp                                                               \n",
       "2020-11-24 14:55:00+09:00     1160.0     1161.0    1159.0      1161.0   \n",
       "2020-11-24 14:56:00+09:00     1160.0     1161.0    1159.0      1160.0   \n",
       "2020-11-24 14:57:00+09:00     1161.0     1161.0    1160.0      1161.0   \n",
       "2020-11-24 14:58:00+09:00     1161.0     1161.0    1160.0      1161.0   \n",
       "2020-11-24 14:59:00+09:00     1161.0     1161.0    1159.0      1159.0   \n",
       "\n",
       "                           Volume_4755  Open_6502  High_6502  Low_6502  \\\n",
       "timestamp                                                                \n",
       "2020-11-24 14:55:00+09:00      30800.0     2921.0     2921.0    2920.0   \n",
       "2020-11-24 14:56:00+09:00      44700.0     2921.0     2921.0    2919.0   \n",
       "2020-11-24 14:57:00+09:00      22800.0     2919.0     2920.0    2919.0   \n",
       "2020-11-24 14:58:00+09:00      22300.0     2919.0     2925.0    2919.0   \n",
       "2020-11-24 14:59:00+09:00      84300.0     2924.0     2925.0    2917.0   \n",
       "\n",
       "                           Close_6502  Volume_6502  Open_2802  High_2802  \\\n",
       "timestamp                                                                  \n",
       "2020-11-24 14:55:00+09:00      2920.0       7400.0     2285.0     2285.5   \n",
       "2020-11-24 14:56:00+09:00      2919.0      17400.0     2283.0     2284.5   \n",
       "2020-11-24 14:57:00+09:00      2919.0       9900.0     2284.0     2284.5   \n",
       "2020-11-24 14:58:00+09:00      2925.0      29200.0     2283.0     2285.0   \n",
       "2020-11-24 14:59:00+09:00      2924.0      51500.0     2285.0     2286.0   \n",
       "\n",
       "                           Low_2802  Close_2802  Volume_2802  Open_6954  \\\n",
       "timestamp                                                                 \n",
       "2020-11-24 14:55:00+09:00    2284.0      2284.0       7000.0    25390.0   \n",
       "2020-11-24 14:56:00+09:00    2283.0      2284.0       3100.0    25390.0   \n",
       "2020-11-24 14:57:00+09:00    2283.0      2283.5       5900.0    25410.0   \n",
       "2020-11-24 14:58:00+09:00    2283.0      2285.0       7600.0    25420.0   \n",
       "2020-11-24 14:59:00+09:00    2279.0      2279.0      34700.0    25420.0   \n",
       "\n",
       "                           High_6954  Low_6954  Close_6954  Volume_6954  \n",
       "timestamp                                                                \n",
       "2020-11-24 14:55:00+09:00    25415.0   25390.0     25395.0       4300.0  \n",
       "2020-11-24 14:56:00+09:00    25420.0   25390.0     25415.0       5300.0  \n",
       "2020-11-24 14:57:00+09:00    25420.0   25410.0     25415.0       2700.0  \n",
       "2020-11-24 14:58:00+09:00    25430.0   25415.0     25420.0       5900.0  \n",
       "2020-11-24 14:59:00+09:00    25430.0   25385.0     25400.0      13500.0  "
      ]
     },
     "execution_count": 7,
     "metadata": {},
     "output_type": "execute_result"
    }
   ],
   "source": [
    "stock_names  = [\"4755.T\",\"6502.T\",\"2802.T\",\"6954.T\"]\n",
    "\n",
    "stockloader = YahooFinanceStockLoaderMin(stock_names, stop_time_span=2.0, is_use_stop=False, to_tokyo=True)\n",
    "stock_df = stockloader.load()\n",
    "stock_df.tail(5)"
   ]
  },
  {
   "cell_type": "code",
   "execution_count": 8,
   "metadata": {
    "ExecuteTime": {
     "end_time": "2020-11-24T12:10:45.599044Z",
     "start_time": "2020-11-24T12:10:34.824877Z"
    }
   },
   "outputs": [],
   "source": [
    "stock_db.upsert(stock_df, item_replace_type=\"replace_null\")"
   ]
  },
  {
   "cell_type": "markdown",
   "metadata": {},
   "source": [
    "## search "
   ]
  },
  {
   "cell_type": "markdown",
   "metadata": {},
   "source": [
    "データの存在確認"
   ]
  },
  {
   "cell_type": "code",
   "execution_count": 9,
   "metadata": {
    "ExecuteTime": {
     "end_time": "2020-11-24T12:10:48.339714Z",
     "start_time": "2020-11-24T12:10:45.606025Z"
    }
   },
   "outputs": [
    {
     "data": {
      "text/plain": [
       "array([ True,  True])"
      ]
     },
     "execution_count": 9,
     "metadata": {},
     "output_type": "execute_result"
    }
   ],
   "source": [
    "stock_names = [\"6502\", \"4755\"]\n",
    "stock_db.stock_in(stock_names)"
   ]
  },
  {
   "cell_type": "markdown",
   "metadata": {},
   "source": [
    "データの時間範囲確認．あくまでもテーブルの時間を取得しているので，実際に値が入っているかどうかは不明"
   ]
  },
  {
   "cell_type": "code",
   "execution_count": 10,
   "metadata": {
    "ExecuteTime": {
     "end_time": "2020-11-24T12:10:50.920803Z",
     "start_time": "2020-11-24T12:10:48.347686Z"
    }
   },
   "outputs": [
    {
     "data": {
      "text/html": [
       "<div>\n",
       "<style scoped>\n",
       "    .dataframe tbody tr th:only-of-type {\n",
       "        vertical-align: middle;\n",
       "    }\n",
       "\n",
       "    .dataframe tbody tr th {\n",
       "        vertical-align: top;\n",
       "    }\n",
       "\n",
       "    .dataframe thead th {\n",
       "        text-align: right;\n",
       "    }\n",
       "</style>\n",
       "<table border=\"1\" class=\"dataframe\">\n",
       "  <thead>\n",
       "    <tr style=\"text-align: right;\">\n",
       "      <th></th>\n",
       "      <th>min_datetime</th>\n",
       "      <th>max_datetime</th>\n",
       "      <th>column_name</th>\n",
       "    </tr>\n",
       "  </thead>\n",
       "  <tbody>\n",
       "    <tr>\n",
       "      <th>0</th>\n",
       "      <td>2020-11-02 09:00:00+09:00</td>\n",
       "      <td>2020-11-24 14:59:00+09:00</td>\n",
       "      <td>6502</td>\n",
       "    </tr>\n",
       "    <tr>\n",
       "      <th>1</th>\n",
       "      <td>2020-11-02 09:00:00+09:00</td>\n",
       "      <td>2020-11-24 14:59:00+09:00</td>\n",
       "      <td>4755</td>\n",
       "    </tr>\n",
       "  </tbody>\n",
       "</table>\n",
       "</div>"
      ],
      "text/plain": [
       "                min_datetime               max_datetime column_name\n",
       "0  2020-11-02 09:00:00+09:00  2020-11-24 14:59:00+09:00        6502\n",
       "1  2020-11-02 09:00:00+09:00  2020-11-24 14:59:00+09:00        4755"
      ]
     },
     "execution_count": 10,
     "metadata": {},
     "output_type": "execute_result"
    }
   ],
   "source": [
    "stock_db.stock_timestamp(stock_names, to_tokyo=True)"
   ]
  },
  {
   "cell_type": "markdown",
   "metadata": {},
   "source": [
    "### search_span "
   ]
  },
  {
   "cell_type": "markdown",
   "metadata": {},
   "source": [
    "期間を指定してデータを取得．datetimeにはtimezoneを指定する．指定しなかった場合，ローカルのタイムゾーンと判定される．出力データのタイムゾーンはutcであり，to_tokyo=Trueとすると東京時間となる．"
   ]
  },
  {
   "cell_type": "code",
   "execution_count": 11,
   "metadata": {
    "ExecuteTime": {
     "end_time": "2020-11-24T12:10:52.061747Z",
     "start_time": "2020-11-24T12:10:50.927783Z"
    }
   },
   "outputs": [
    {
     "data": {
      "text/html": [
       "<div>\n",
       "<style scoped>\n",
       "    .dataframe tbody tr th:only-of-type {\n",
       "        vertical-align: middle;\n",
       "    }\n",
       "\n",
       "    .dataframe tbody tr th {\n",
       "        vertical-align: top;\n",
       "    }\n",
       "\n",
       "    .dataframe thead th {\n",
       "        text-align: right;\n",
       "    }\n",
       "</style>\n",
       "<table border=\"1\" class=\"dataframe\">\n",
       "  <thead>\n",
       "    <tr style=\"text-align: right;\">\n",
       "      <th></th>\n",
       "      <th>Open_6502</th>\n",
       "      <th>High_6502</th>\n",
       "      <th>Low_6502</th>\n",
       "      <th>Close_6502</th>\n",
       "      <th>Volume_6502</th>\n",
       "      <th>Open_4755</th>\n",
       "      <th>High_4755</th>\n",
       "      <th>Low_4755</th>\n",
       "      <th>Close_4755</th>\n",
       "      <th>Volume_4755</th>\n",
       "    </tr>\n",
       "    <tr>\n",
       "      <th>timestamp</th>\n",
       "      <th></th>\n",
       "      <th></th>\n",
       "      <th></th>\n",
       "      <th></th>\n",
       "      <th></th>\n",
       "      <th></th>\n",
       "      <th></th>\n",
       "      <th></th>\n",
       "      <th></th>\n",
       "      <th></th>\n",
       "    </tr>\n",
       "  </thead>\n",
       "  <tbody>\n",
       "    <tr>\n",
       "      <th>2020-11-18 14:10:00+09:00</th>\n",
       "      <td>2840.0</td>\n",
       "      <td>2845.0</td>\n",
       "      <td>2835.0</td>\n",
       "      <td>2836.0</td>\n",
       "      <td>54900.0</td>\n",
       "      <td>1102.0</td>\n",
       "      <td>1103.0</td>\n",
       "      <td>1101.0</td>\n",
       "      <td>1102.0</td>\n",
       "      <td>129400.0</td>\n",
       "    </tr>\n",
       "    <tr>\n",
       "      <th>2020-11-18 14:20:00+09:00</th>\n",
       "      <td>2837.0</td>\n",
       "      <td>2838.0</td>\n",
       "      <td>2817.0</td>\n",
       "      <td>2818.0</td>\n",
       "      <td>77700.0</td>\n",
       "      <td>1101.0</td>\n",
       "      <td>1102.0</td>\n",
       "      <td>1095.0</td>\n",
       "      <td>1096.0</td>\n",
       "      <td>237900.0</td>\n",
       "    </tr>\n",
       "    <tr>\n",
       "      <th>2020-11-18 14:30:00+09:00</th>\n",
       "      <td>2818.0</td>\n",
       "      <td>2822.0</td>\n",
       "      <td>2810.0</td>\n",
       "      <td>2822.0</td>\n",
       "      <td>80600.0</td>\n",
       "      <td>1096.0</td>\n",
       "      <td>1097.0</td>\n",
       "      <td>1094.0</td>\n",
       "      <td>1096.0</td>\n",
       "      <td>246700.0</td>\n",
       "    </tr>\n",
       "    <tr>\n",
       "      <th>2020-11-18 14:40:00+09:00</th>\n",
       "      <td>2823.0</td>\n",
       "      <td>2826.0</td>\n",
       "      <td>2821.0</td>\n",
       "      <td>2824.0</td>\n",
       "      <td>71500.0</td>\n",
       "      <td>1096.0</td>\n",
       "      <td>1097.0</td>\n",
       "      <td>1095.0</td>\n",
       "      <td>1097.0</td>\n",
       "      <td>185100.0</td>\n",
       "    </tr>\n",
       "    <tr>\n",
       "      <th>2020-11-18 14:50:00+09:00</th>\n",
       "      <td>2823.0</td>\n",
       "      <td>2835.0</td>\n",
       "      <td>2823.0</td>\n",
       "      <td>2835.0</td>\n",
       "      <td>156600.0</td>\n",
       "      <td>1097.0</td>\n",
       "      <td>1099.0</td>\n",
       "      <td>1093.0</td>\n",
       "      <td>1094.0</td>\n",
       "      <td>638600.0</td>\n",
       "    </tr>\n",
       "  </tbody>\n",
       "</table>\n",
       "</div>"
      ],
      "text/plain": [
       "                           Open_6502  High_6502  Low_6502  Close_6502  \\\n",
       "timestamp                                                               \n",
       "2020-11-18 14:10:00+09:00     2840.0     2845.0    2835.0      2836.0   \n",
       "2020-11-18 14:20:00+09:00     2837.0     2838.0    2817.0      2818.0   \n",
       "2020-11-18 14:30:00+09:00     2818.0     2822.0    2810.0      2822.0   \n",
       "2020-11-18 14:40:00+09:00     2823.0     2826.0    2821.0      2824.0   \n",
       "2020-11-18 14:50:00+09:00     2823.0     2835.0    2823.0      2835.0   \n",
       "\n",
       "                           Volume_6502  Open_4755  High_4755  Low_4755  \\\n",
       "timestamp                                                                \n",
       "2020-11-18 14:10:00+09:00      54900.0     1102.0     1103.0    1101.0   \n",
       "2020-11-18 14:20:00+09:00      77700.0     1101.0     1102.0    1095.0   \n",
       "2020-11-18 14:30:00+09:00      80600.0     1096.0     1097.0    1094.0   \n",
       "2020-11-18 14:40:00+09:00      71500.0     1096.0     1097.0    1095.0   \n",
       "2020-11-18 14:50:00+09:00     156600.0     1097.0     1099.0    1093.0   \n",
       "\n",
       "                           Close_4755  Volume_4755  \n",
       "timestamp                                           \n",
       "2020-11-18 14:10:00+09:00      1102.0     129400.0  \n",
       "2020-11-18 14:20:00+09:00      1096.0     237900.0  \n",
       "2020-11-18 14:30:00+09:00      1096.0     246700.0  \n",
       "2020-11-18 14:40:00+09:00      1097.0     185100.0  \n",
       "2020-11-18 14:50:00+09:00      1094.0     638600.0  "
      ]
     },
     "execution_count": 11,
     "metadata": {},
     "output_type": "execute_result"
    }
   ],
   "source": [
    "stock_names = [\"6502\", \"4755\"]\n",
    "\n",
    "jst_timezone = timezone(\"Asia/Tokyo\")\n",
    "\n",
    "start_datetime = jst_timezone.localize(datetime.datetime(2020,11,18,9,0,0))\n",
    "end_datetime = jst_timezone.localize(datetime.datetime(2020,11,18,15,0,0))\n",
    "\n",
    "query_df = stock_db.search_span(stock_names=stock_names,\n",
    "                                start_datetime=start_datetime,\n",
    "                                end_datetime=end_datetime,\n",
    "                                freq_str=\"10T\",\n",
    "                                to_tokyo=True\n",
    "                               )\n",
    "\n",
    "query_df.tail(5)"
   ]
  },
  {
   "cell_type": "markdown",
   "metadata": {},
   "source": [
    "### search_one "
   ]
  },
  {
   "cell_type": "markdown",
   "metadata": {},
   "source": [
    "与えられた時間から一つ分だけデータを取得．"
   ]
  },
  {
   "cell_type": "code",
   "execution_count": 12,
   "metadata": {
    "ExecuteTime": {
     "end_time": "2020-11-24T12:10:52.815761Z",
     "start_time": "2020-11-24T12:10:52.065737Z"
    }
   },
   "outputs": [
    {
     "data": {
      "text/html": [
       "<div>\n",
       "<style scoped>\n",
       "    .dataframe tbody tr th:only-of-type {\n",
       "        vertical-align: middle;\n",
       "    }\n",
       "\n",
       "    .dataframe tbody tr th {\n",
       "        vertical-align: top;\n",
       "    }\n",
       "\n",
       "    .dataframe thead th {\n",
       "        text-align: right;\n",
       "    }\n",
       "</style>\n",
       "<table border=\"1\" class=\"dataframe\">\n",
       "  <thead>\n",
       "    <tr style=\"text-align: right;\">\n",
       "      <th></th>\n",
       "      <th>Open_4755</th>\n",
       "      <th>High_4755</th>\n",
       "      <th>Low_4755</th>\n",
       "      <th>Close_4755</th>\n",
       "      <th>Volume_4755</th>\n",
       "    </tr>\n",
       "    <tr>\n",
       "      <th>timestamp</th>\n",
       "      <th></th>\n",
       "      <th></th>\n",
       "      <th></th>\n",
       "      <th></th>\n",
       "      <th></th>\n",
       "    </tr>\n",
       "  </thead>\n",
       "  <tbody>\n",
       "    <tr>\n",
       "      <th>2020-11-18 09:00:00+09:00</th>\n",
       "      <td>1107.0</td>\n",
       "      <td>1122.0</td>\n",
       "      <td>1107.0</td>\n",
       "      <td>1109.0</td>\n",
       "      <td>532900.0</td>\n",
       "    </tr>\n",
       "  </tbody>\n",
       "</table>\n",
       "</div>"
      ],
      "text/plain": [
       "                           Open_4755  High_4755  Low_4755  Close_4755  \\\n",
       "timestamp                                                               \n",
       "2020-11-18 09:00:00+09:00     1107.0     1122.0    1107.0      1109.0   \n",
       "\n",
       "                           Volume_4755  \n",
       "timestamp                               \n",
       "2020-11-18 09:00:00+09:00     532900.0  "
      ]
     },
     "execution_count": 12,
     "metadata": {},
     "output_type": "execute_result"
    }
   ],
   "source": [
    "stock_names = [\"4755\"]\n",
    "\n",
    "jst_timezone = timezone(\"Asia/Tokyo\")\n",
    "\n",
    "select_datetime = jst_timezone.localize(datetime.datetime(2020,11,18,9,0,0))\n",
    "\n",
    "query_df = stock_db.search_one(stock_names=stock_names,\n",
    "                               select_datetime=select_datetime,\n",
    "                               freq_str=\"10T\",\n",
    "                               to_tokyo=True\n",
    "                              )\n",
    "\n",
    "query_df.tail(5)"
   ]
  },
  {
   "cell_type": "markdown",
   "metadata": {},
   "source": [
    "### search_itter "
   ]
  },
  {
   "cell_type": "markdown",
   "metadata": {},
   "source": [
    "与えた時間から一つ一つ取り出すジェネレータ"
   ]
  },
  {
   "cell_type": "code",
   "execution_count": 19,
   "metadata": {
    "ExecuteTime": {
     "end_time": "2020-11-24T12:11:53.829461Z",
     "start_time": "2020-11-24T12:11:53.818490Z"
    }
   },
   "outputs": [],
   "source": [
    "stock_names = [\"6502\", \"4755\"]\n",
    "\n",
    "jst_timezone = timezone(\"Asia/Tokyo\")\n",
    "\n",
    "from_datetime = jst_timezone.localize(datetime.datetime(2020,11,18,9,0,0))\n",
    "\n",
    "query_gen = stock_db.search_iter(stock_names=stock_names,\n",
    "                                 from_datetime=from_datetime,\n",
    "                                 freq_str=\"10T\",\n",
    "                                 to_tokyo=True\n",
    "                                )"
   ]
  },
  {
   "cell_type": "code",
   "execution_count": 22,
   "metadata": {
    "ExecuteTime": {
     "end_time": "2020-11-24T12:12:05.623899Z",
     "start_time": "2020-11-24T12:12:03.916469Z"
    }
   },
   "outputs": [
    {
     "data": {
      "text/html": [
       "<div>\n",
       "<style scoped>\n",
       "    .dataframe tbody tr th:only-of-type {\n",
       "        vertical-align: middle;\n",
       "    }\n",
       "\n",
       "    .dataframe tbody tr th {\n",
       "        vertical-align: top;\n",
       "    }\n",
       "\n",
       "    .dataframe thead th {\n",
       "        text-align: right;\n",
       "    }\n",
       "</style>\n",
       "<table border=\"1\" class=\"dataframe\">\n",
       "  <thead>\n",
       "    <tr style=\"text-align: right;\">\n",
       "      <th></th>\n",
       "      <th>Open_6502</th>\n",
       "      <th>High_6502</th>\n",
       "      <th>Low_6502</th>\n",
       "      <th>Close_6502</th>\n",
       "      <th>Volume_6502</th>\n",
       "      <th>Open_4755</th>\n",
       "      <th>High_4755</th>\n",
       "      <th>Low_4755</th>\n",
       "      <th>Close_4755</th>\n",
       "      <th>Volume_4755</th>\n",
       "    </tr>\n",
       "    <tr>\n",
       "      <th>timestamp</th>\n",
       "      <th></th>\n",
       "      <th></th>\n",
       "      <th></th>\n",
       "      <th></th>\n",
       "      <th></th>\n",
       "      <th></th>\n",
       "      <th></th>\n",
       "      <th></th>\n",
       "      <th></th>\n",
       "      <th></th>\n",
       "    </tr>\n",
       "  </thead>\n",
       "  <tbody>\n",
       "    <tr>\n",
       "      <th>2020-11-18 09:20:00+09:00</th>\n",
       "      <td>2801.0</td>\n",
       "      <td>2802.0</td>\n",
       "      <td>2789.0</td>\n",
       "      <td>2798.0</td>\n",
       "      <td>84600.0</td>\n",
       "      <td>1105.0</td>\n",
       "      <td>1107.0</td>\n",
       "      <td>1094.0</td>\n",
       "      <td>1095.0</td>\n",
       "      <td>402000.0</td>\n",
       "    </tr>\n",
       "  </tbody>\n",
       "</table>\n",
       "</div>"
      ],
      "text/plain": [
       "                           Open_6502  High_6502  Low_6502  Close_6502  \\\n",
       "timestamp                                                               \n",
       "2020-11-18 09:20:00+09:00     2801.0     2802.0    2789.0      2798.0   \n",
       "\n",
       "                           Volume_6502  Open_4755  High_4755  Low_4755  \\\n",
       "timestamp                                                                \n",
       "2020-11-18 09:20:00+09:00      84600.0     1105.0     1107.0    1094.0   \n",
       "\n",
       "                           Close_4755  Volume_4755  \n",
       "timestamp                                           \n",
       "2020-11-18 09:20:00+09:00      1095.0     402000.0  "
      ]
     },
     "execution_count": 22,
     "metadata": {},
     "output_type": "execute_result"
    }
   ],
   "source": [
    "query_df = next(query_gen)\n",
    "query_df"
   ]
  },
  {
   "cell_type": "markdown",
   "metadata": {},
   "source": [
    "## search (viewを利用する) "
   ]
  },
  {
   "cell_type": "markdown",
   "metadata": {},
   "source": [
    "sqliteのviewを利用して，範囲を指定しておくことでデータの増加による検索速度の低下を防ぐ"
   ]
  },
  {
   "cell_type": "code",
   "execution_count": 15,
   "metadata": {
    "ExecuteTime": {
     "end_time": "2020-11-24T12:10:56.018163Z",
     "start_time": "2020-11-24T12:10:53.707345Z"
    }
   },
   "outputs": [
    {
     "data": {
      "text/html": [
       "<div>\n",
       "<style scoped>\n",
       "    .dataframe tbody tr th:only-of-type {\n",
       "        vertical-align: middle;\n",
       "    }\n",
       "\n",
       "    .dataframe tbody tr th {\n",
       "        vertical-align: top;\n",
       "    }\n",
       "\n",
       "    .dataframe thead th {\n",
       "        text-align: right;\n",
       "    }\n",
       "</style>\n",
       "<table border=\"1\" class=\"dataframe\">\n",
       "  <thead>\n",
       "    <tr style=\"text-align: right;\">\n",
       "      <th></th>\n",
       "      <th>Open_4755</th>\n",
       "      <th>High_4755</th>\n",
       "      <th>Low_4755</th>\n",
       "      <th>Close_4755</th>\n",
       "      <th>Volume_4755</th>\n",
       "    </tr>\n",
       "    <tr>\n",
       "      <th>timestamp</th>\n",
       "      <th></th>\n",
       "      <th></th>\n",
       "      <th></th>\n",
       "      <th></th>\n",
       "      <th></th>\n",
       "    </tr>\n",
       "  </thead>\n",
       "  <tbody>\n",
       "    <tr>\n",
       "      <th>2020-11-18 09:00:00+09:00</th>\n",
       "      <td>1107.0</td>\n",
       "      <td>1122.0</td>\n",
       "      <td>1107.0</td>\n",
       "      <td>1109.0</td>\n",
       "      <td>532900.0</td>\n",
       "    </tr>\n",
       "    <tr>\n",
       "      <th>2020-11-18 09:10:00+09:00</th>\n",
       "      <td>1110.0</td>\n",
       "      <td>1114.0</td>\n",
       "      <td>1104.0</td>\n",
       "      <td>1106.0</td>\n",
       "      <td>333900.0</td>\n",
       "    </tr>\n",
       "    <tr>\n",
       "      <th>2020-11-18 09:20:00+09:00</th>\n",
       "      <td>1105.0</td>\n",
       "      <td>1107.0</td>\n",
       "      <td>1094.0</td>\n",
       "      <td>1095.0</td>\n",
       "      <td>402000.0</td>\n",
       "    </tr>\n",
       "    <tr>\n",
       "      <th>2020-11-18 09:30:00+09:00</th>\n",
       "      <td>1095.0</td>\n",
       "      <td>1097.0</td>\n",
       "      <td>1092.0</td>\n",
       "      <td>1096.0</td>\n",
       "      <td>242100.0</td>\n",
       "    </tr>\n",
       "    <tr>\n",
       "      <th>2020-11-18 09:40:00+09:00</th>\n",
       "      <td>1095.0</td>\n",
       "      <td>1102.0</td>\n",
       "      <td>1095.0</td>\n",
       "      <td>1099.0</td>\n",
       "      <td>255100.0</td>\n",
       "    </tr>\n",
       "  </tbody>\n",
       "</table>\n",
       "</div>"
      ],
      "text/plain": [
       "                           Open_4755  High_4755  Low_4755  Close_4755  \\\n",
       "timestamp                                                               \n",
       "2020-11-18 09:00:00+09:00     1107.0     1122.0    1107.0      1109.0   \n",
       "2020-11-18 09:10:00+09:00     1110.0     1114.0    1104.0      1106.0   \n",
       "2020-11-18 09:20:00+09:00     1105.0     1107.0    1094.0      1095.0   \n",
       "2020-11-18 09:30:00+09:00     1095.0     1097.0    1092.0      1096.0   \n",
       "2020-11-18 09:40:00+09:00     1095.0     1102.0    1095.0      1099.0   \n",
       "\n",
       "                           Volume_4755  \n",
       "timestamp                               \n",
       "2020-11-18 09:00:00+09:00     532900.0  \n",
       "2020-11-18 09:10:00+09:00     333900.0  \n",
       "2020-11-18 09:20:00+09:00     402000.0  \n",
       "2020-11-18 09:30:00+09:00     242100.0  \n",
       "2020-11-18 09:40:00+09:00     255100.0  "
      ]
     },
     "execution_count": 15,
     "metadata": {},
     "output_type": "execute_result"
    }
   ],
   "source": [
    "stock_names = [\"4755\"]\n",
    "\n",
    "jst_timezone = timezone(\"Asia/Tokyo\")\n",
    "\n",
    "start_datetime = jst_timezone.localize(datetime.datetime(2020,11,18,9,0,0))\n",
    "end_datetime = jst_timezone.localize(datetime.datetime(2020,11,18,15,0,0))\n",
    "\n",
    "\n",
    "with stock_db.create_view(stock_names, start_datetime=start_datetime, end_datetime=end_datetime) as view:\n",
    "    query_df = stock_db.search_span(stock_names=stock_names,\n",
    "                                    start_datetime=start_datetime,\n",
    "                                    end_datetime=end_datetime,\n",
    "                                    freq_str=\"10T\",\n",
    "                                    to_tokyo=True,\n",
    "                                    view=view\n",
    "                                   )\n",
    "\n",
    "query_df.head(5)"
   ]
  },
  {
   "cell_type": "markdown",
   "metadata": {},
   "source": [
    "以下はviewの速度の恩恵を受けられる例，検索時間が半分近くに減少している．以下のようにcreate_viewメソッドをwith文を用いずに利用する場合は，view(ViewClosierオブジェクト)をcloseしないといけない．(データベースにviewが残ってしまう)ただ，致命的なエラーが出るわけではないので，後回しでも構わない"
   ]
  },
  {
   "cell_type": "code",
   "execution_count": 23,
   "metadata": {
    "ExecuteTime": {
     "end_time": "2020-11-24T12:12:10.440012Z",
     "start_time": "2020-11-24T12:12:09.576323Z"
    }
   },
   "outputs": [],
   "source": [
    "stock_names = [\"6502\", \"4755\"]\n",
    "jst_timezone = timezone(\"Asia/Tokyo\")\n",
    "start_datetime = jst_timezone.localize(datetime.datetime(2020,11,18,9,0,0))\n",
    "end_datetime = jst_timezone.localize(datetime.datetime(2020,11,18,12,0,0))\n",
    "\n",
    "\n",
    "from_datetime = jst_timezone.localize(datetime.datetime(2020,11,18,9,0,0))\n",
    "\n",
    "view = stock_db.create_view(stock_names, start_datetime=start_datetime, end_datetime=end_datetime)\n",
    "query_gen = stock_db.search_iter(stock_names, \n",
    "                                 from_datetime=from_datetime,\n",
    "                                 freq_str=\"10T\",\n",
    "                                 to_tokyo=True,\n",
    "                                 view=view)"
   ]
  },
  {
   "cell_type": "code",
   "execution_count": 24,
   "metadata": {
    "ExecuteTime": {
     "end_time": "2020-11-24T12:12:11.668722Z",
     "start_time": "2020-11-24T12:12:10.956627Z"
    }
   },
   "outputs": [
    {
     "data": {
      "text/html": [
       "<div>\n",
       "<style scoped>\n",
       "    .dataframe tbody tr th:only-of-type {\n",
       "        vertical-align: middle;\n",
       "    }\n",
       "\n",
       "    .dataframe tbody tr th {\n",
       "        vertical-align: top;\n",
       "    }\n",
       "\n",
       "    .dataframe thead th {\n",
       "        text-align: right;\n",
       "    }\n",
       "</style>\n",
       "<table border=\"1\" class=\"dataframe\">\n",
       "  <thead>\n",
       "    <tr style=\"text-align: right;\">\n",
       "      <th></th>\n",
       "      <th>Open_6502</th>\n",
       "      <th>High_6502</th>\n",
       "      <th>Low_6502</th>\n",
       "      <th>Close_6502</th>\n",
       "      <th>Volume_6502</th>\n",
       "      <th>Open_4755</th>\n",
       "      <th>High_4755</th>\n",
       "      <th>Low_4755</th>\n",
       "      <th>Close_4755</th>\n",
       "      <th>Volume_4755</th>\n",
       "    </tr>\n",
       "    <tr>\n",
       "      <th>timestamp</th>\n",
       "      <th></th>\n",
       "      <th></th>\n",
       "      <th></th>\n",
       "      <th></th>\n",
       "      <th></th>\n",
       "      <th></th>\n",
       "      <th></th>\n",
       "      <th></th>\n",
       "      <th></th>\n",
       "      <th></th>\n",
       "    </tr>\n",
       "  </thead>\n",
       "  <tbody>\n",
       "    <tr>\n",
       "      <th>2020-11-18 09:00:00+09:00</th>\n",
       "      <td>2819.0</td>\n",
       "      <td>2823.0</td>\n",
       "      <td>2788.0</td>\n",
       "      <td>2796.0</td>\n",
       "      <td>227800.0</td>\n",
       "      <td>1107.0</td>\n",
       "      <td>1122.0</td>\n",
       "      <td>1107.0</td>\n",
       "      <td>1109.0</td>\n",
       "      <td>532900.0</td>\n",
       "    </tr>\n",
       "  </tbody>\n",
       "</table>\n",
       "</div>"
      ],
      "text/plain": [
       "                           Open_6502  High_6502  Low_6502  Close_6502  \\\n",
       "timestamp                                                               \n",
       "2020-11-18 09:00:00+09:00     2819.0     2823.0    2788.0      2796.0   \n",
       "\n",
       "                           Volume_6502  Open_4755  High_4755  Low_4755  \\\n",
       "timestamp                                                                \n",
       "2020-11-18 09:00:00+09:00     227800.0     1107.0     1122.0    1107.0   \n",
       "\n",
       "                           Close_4755  Volume_4755  \n",
       "timestamp                                           \n",
       "2020-11-18 09:00:00+09:00      1109.0     532900.0  "
      ]
     },
     "execution_count": 24,
     "metadata": {},
     "output_type": "execute_result"
    }
   ],
   "source": [
    "query_df = next(query_gen)\n",
    "query_df"
   ]
  },
  {
   "cell_type": "code",
   "execution_count": 25,
   "metadata": {
    "ExecuteTime": {
     "end_time": "2020-11-24T12:12:15.508452Z",
     "start_time": "2020-11-24T12:12:15.077600Z"
    }
   },
   "outputs": [],
   "source": [
    "view.close()"
   ]
  }
 ],
 "metadata": {
  "kernelspec": {
   "display_name": "torch_py37",
   "language": "python",
   "name": "torch_py37"
  },
  "language_info": {
   "codemirror_mode": {
    "name": "ipython",
    "version": 3
   },
   "file_extension": ".py",
   "mimetype": "text/x-python",
   "name": "python",
   "nbconvert_exporter": "python",
   "pygments_lexer": "ipython3",
   "version": "3.7.4"
  },
  "toc": {
   "base_numbering": 1,
   "nav_menu": {},
   "number_sections": true,
   "sideBar": true,
   "skip_h1_title": false,
   "title_cell": "Table of Contents",
   "title_sidebar": "Contents",
   "toc_cell": false,
   "toc_position": {},
   "toc_section_display": true,
   "toc_window_display": false
  }
 },
 "nbformat": 4,
 "nbformat_minor": 4
}
