{
 "cells": [
  {
   "cell_type": "code",
   "execution_count": 1,
   "metadata": {
    "ExecuteTime": {
     "end_time": "2020-11-30T09:33:50.049987Z",
     "start_time": "2020-11-30T09:33:49.876396Z"
    }
   },
   "outputs": [],
   "source": [
    "import csv\n",
    "from pathlib import Path\n",
    "import datetime\n",
    "import shutil\n",
    "import time"
   ]
  },
  {
   "cell_type": "code",
   "execution_count": 2,
   "metadata": {
    "ExecuteTime": {
     "end_time": "2020-11-30T09:33:50.366094Z",
     "start_time": "2020-11-30T09:33:50.308254Z"
    }
   },
   "outputs": [],
   "source": [
    "import zipfile"
   ]
  },
  {
   "cell_type": "code",
   "execution_count": 53,
   "metadata": {
    "ExecuteTime": {
     "end_time": "2020-11-07T06:54:43.082820Z",
     "start_time": "2020-11-07T06:51:37.256886Z"
    }
   },
   "outputs": [],
   "source": [
    "source_file_path = Path(\"backup_source\") / Path(\"stock.db\")\n",
    "\n",
    "zip_path = Path(source_file_path.stem+\".zip\")\n",
    "\n",
    "with zipfile.ZipFile(zip_path, 'w', compression=zipfile.ZIP_LZMA) as new_zip:\n",
    "    new_zip.write(source_file_path, arcname=source_file_path.name)"
   ]
  },
  {
   "cell_type": "code",
   "execution_count": 3,
   "metadata": {
    "ExecuteTime": {
     "end_time": "2020-11-30T09:34:12.189688Z",
     "start_time": "2020-11-30T09:34:12.046087Z"
    }
   },
   "outputs": [],
   "source": [
    "def make_zip(source_path, zip_path):\n",
    "    \"\"\"\n",
    "    指定したパスのファイル・ディレクトリをzipファイルにして保存する関数\n",
    "    source_path: pathlib.Path\n",
    "        ソースとなるファイル・ディレクトリのパス\n",
    "    zip_path: pathlib.Path\n",
    "        保存するzipファイルのパス\n",
    "    \"\"\"\n",
    "    source_path = Path(source_path)\n",
    "    zip_path =zip_path\n",
    "\n",
    "    if zip_path.suffix != \".zip\":\n",
    "        raise ValueError(\"zip_path must be zipfile\")\n",
    "    \n",
    "    with zipfile.ZipFile(zip_path, \"w\", compression=zipfile.ZIP_LZMA) as new_zip:\n",
    "        if source_path.is_file():  # 一つのファイルの場合\n",
    "            new_zip.write(filename=source_path, arcname=source_path.name)\n",
    "            \n",
    "        elif source_path.is_dir():\n",
    "            only_source_root_path = Path(source_path.name)  # 対象ディレクトリをzipファイルに含めたい\n",
    "            def nest_zip(search_path):\n",
    "                if search_path.is_file():  # ファイルの場合\n",
    "                    arc_path = only_source_root_path / search_path.relative_to(source_path)  # 対象ディレクトリ + 相対パス\n",
    "                    new_zip.write(filename=search_path, arcname=arc_path)\n",
    "                elif search_path.is_dir():\n",
    "                    for search_path_one in search_path.iterdir():\n",
    "                        nest_zip(search_path_one)  # ネスト\n",
    "            \n",
    "            nest_zip(source_path)"
   ]
  },
  {
   "cell_type": "code",
   "execution_count": 4,
   "metadata": {
    "ExecuteTime": {
     "end_time": "2020-11-30T09:36:20.140300Z",
     "start_time": "2020-11-30T09:34:14.945313Z"
    }
   },
   "outputs": [],
   "source": [
    "source_file_path = Path(\"backup_source\") / Path(\"stock.db\")\n",
    "zip_path = Path(source_file_path.stem+\".zip\")\n",
    "\n",
    "make_zip(source_file_path, zip_path)"
   ]
  },
  {
   "cell_type": "code",
   "execution_count": 5,
   "metadata": {
    "ExecuteTime": {
     "end_time": "2020-11-07T08:24:32.141113Z",
     "start_time": "2020-11-07T08:21:33.639949Z"
    }
   },
   "outputs": [
    {
     "name": "stdout",
     "output_type": "stream",
     "text": [
      "BBB\n",
      "DDD\n",
      "CCC\n",
      "source\\dog_akitainu.png\n",
      "CCC\n",
      "source\\stock.db\n",
      "DDD\n",
      "CCC\n",
      "source\\sub_dir\\cat_persian.png\n"
     ]
    }
   ],
   "source": [
    "source_path = Path(\"backup_source\") / Path(\"source\")\n",
    "zip_path = Path(source_path.stem+\".zip\")\n",
    "\n",
    "make_zip(source_path, zip_path)"
   ]
  },
  {
   "cell_type": "code",
   "execution_count": 6,
   "metadata": {
    "ExecuteTime": {
     "end_time": "2020-11-30T11:09:25.883152Z",
     "start_time": "2020-11-30T11:09:25.479288Z"
    }
   },
   "outputs": [],
   "source": [
    "class PyBackUp():\n",
    "    \"\"\"\n",
    "    指定したファイル・フォルダをバックアップする．保存形式は元と同じあるいはzip形式．\n",
    "    zip形式にはLZMA形式を利用する\n",
    "    \"\"\"\n",
    "    def __init__(self, source_path, backup_path, back_number=6, is_use_text=True, to_zip=False):\n",
    "        \"\"\"\n",
    "        source_path: str or pathlib.Path\n",
    "            バックアップしたいソースのパス．ファイルでもディレクトリでも良い．\n",
    "        backup_path: str or pathlib.Path\n",
    "            バックアップ先のディレクトリのパス．そのディレクトリにsource_pathに対応したフォルダを作成する．\n",
    "        back_number: int\n",
    "            バックアップファイルの個数．\n",
    "        is_use_text: bool\n",
    "            バックアップファイルの管理にcsvを使うかどうか\n",
    "        to_zip: bool\n",
    "            zip形式で保存するかどうか\n",
    "        \"\"\"\n",
    "        source_path = Path(source_path)\n",
    "        if not source_path.exists():\n",
    "            raise ValueError(\"This path does not exists\")\n",
    "        self.source_path = source_path\n",
    "        self.source_name = source_path.name  # ファイル名\n",
    "        self.source_stem = source_path.stem  # 拡張子を除いたファイル名\n",
    "\n",
    "        backup_path = Path(backup_path)\n",
    "        if not backup_path.exists():\n",
    "            backup_path.mkdir()\n",
    "\n",
    "        self.backup_path = backup_path\n",
    "\n",
    "        self.back_number = back_number\n",
    "        self.backup_counter = -1  # 0からスタートするように\n",
    "        \n",
    "        self.to_zip = to_zip\n",
    "        if is_use_text:\n",
    "            self.read_backup_data()\n",
    "\n",
    "    def back_up(self):\n",
    "        print(\"[{}] backup start.\".format(str(datetime.datetime.now())))\n",
    "        self.backup_counter += 1\n",
    "        \n",
    "        backup_number = int((self.backup_counter)%self.back_number)  # 保存するディレクトリに対応\n",
    "        backup_dir_name = \"back_up_\" + str(backup_number)\n",
    "\n",
    "        backup_dir_path = self.backup_path / Path(backup_dir_name)\n",
    "        backup_dst_path = backup_dir_path / Path(self.source_name)  # 実際に保存するパス\n",
    "\n",
    "        if not backup_dir_path.exists():  # バックアップファイルのディレクトリが存在しない場合\n",
    "            backup_dir_path.mkdir(parents=True)  # ディレクトリを作成\n",
    "            \n",
    "        if backup_dst_path.exists():  # すでにバックアップファイルが存在する場合\n",
    "            if backup_dst_path.is_file():  # ファイルの場合\n",
    "                backup_dst_path.unlink()  # 削除\n",
    "            elif backup_dst_path.is_dir():  # ディレクトリの場合\n",
    "                shutil.rmtree(backup_dst_path)\n",
    "\n",
    "        # バックアップファイルのコピー\n",
    "        if self.to_zip:  # zip\n",
    "            backup_dst_path = backup_dst_path.with_suffix(\".zip\")  # zipとつける\n",
    "            make_zip(source_path=self.source_path, zip_path=backup_dst_path)\n",
    "            \n",
    "        else: #zipでなくコピー\n",
    "            if self.source_path.is_file():\n",
    "                shutil.copyfile(src=self.source_path, dst=backup_dst_path)\n",
    "            elif self.source_path.is_dir():\n",
    "                shutil.copytree(src=self.source_path, dst=backup_dst_path)\n",
    "        \n",
    "        backup_data_text_path = backup_dir_path / Path(\"data.csv\")\n",
    "        if not backup_data_text_path.exists():  # バックアップデータの詳細を書いたテキストファイル\n",
    "            backup_data_text_path.touch(exist_ok=True)\n",
    "\n",
    "        # バックアップデータの書き込み・書き換え\n",
    "        with open(backup_data_text_path, \"w\", newline=\"\") as f:\n",
    "            writer = csv.writer(f)\n",
    "            backup_time = datetime.datetime.now()\n",
    "            writer.writerow([\"date\", backup_time.strftime(\"%Y-%m-%d %H:%M:%S\")])\n",
    "            writer.writerow([\"dir_number\", backup_number])\n",
    "            writer.writerow([\"backup_count\", self.backup_counter])\n",
    "\n",
    "\n",
    "        print(\"[{}] back up db_file {}\".format(str(backup_time),str(backup_number)))\n",
    "        print(\"[{}] backup end.\".format(str(datetime.datetime.now())))\n",
    "        return backup_dst_path\n",
    "\n",
    "    def read_backup_data(self):\n",
    "        backup_datetime_list = []\n",
    "        backup_counter_list = []\n",
    "\n",
    "        for backup_dir in self.backup_path.iterdir():\n",
    "            # バックアップファイルの存在確認\n",
    "            if self.to_zip: #Zipの場合\n",
    "                backup_file_path = backup_dir / Path(self.source_stem).with_suffix(\".zip\")  # xz.tarを前提\n",
    "            else:\n",
    "                backup_file_path = backup_dir / Path(self.source_name)  \n",
    "                \n",
    "            if backup_file_path.exists():  # バックアップファイルが存在する場合\n",
    "                backup_data_text_path = backup_dir / Path(\"data.csv\")\n",
    "                if backup_data_text_path.exists():\n",
    "                    # バックアップデータの読み込み\n",
    "                    with open(backup_data_text_path, \"r\") as f:\n",
    "                        reader = csv.reader(f)\n",
    "                        \n",
    "                        datetime_list = next(reader)\n",
    "                        backup_datetime = datetime.datetime.strptime(datetime_list[1],\"%Y-%m-%d %H:%M:%S\")\n",
    "                        \n",
    "                        next(reader)  # この行はいらなかったかも\n",
    "\n",
    "                        counter_list = next(reader)\n",
    "                        backup_counter_list.append(counter_list[1])\n",
    "\n",
    "                        backup_datetime_list.append(backup_datetime)\n",
    "\n",
    "        # バックアップデータが存在する場合\n",
    "        if len(backup_datetime_list) > 0:\n",
    "            # 最近のインデックスを求める, maxカウンターでもいいけど念のため\n",
    "            def get_timestamp(datetime):\n",
    "                return datetime.timestamp()\n",
    "            max_date = max(backup_datetime_list, key=get_timestamp)\n",
    "            max_date_index = backup_datetime_list.index(max_date)\n",
    "            \n",
    "            self.backup_counter = int(backup_counter_list[max_date_index])"
   ]
  },
  {
   "cell_type": "markdown",
   "metadata": {},
   "source": [
    "### バックアップ"
   ]
  },
  {
   "cell_type": "markdown",
   "metadata": {},
   "source": [
    "ファイルのバックアップ"
   ]
  },
  {
   "cell_type": "code",
   "execution_count": 10,
   "metadata": {
    "ExecuteTime": {
     "end_time": "2020-11-30T11:17:33.816203Z",
     "start_time": "2020-11-30T11:17:33.777308Z"
    }
   },
   "outputs": [],
   "source": [
    "source_file_path = Path(\"backup_source\") / Path(\"stock.db\")\n",
    "\n",
    "file_backup_path = Path(\"backup\") / Path(\"file_backup\")\n",
    "\n",
    "py_back_up = PyBackUp(source_path=source_file_path, backup_path=file_backup_path, to_zip=True)"
   ]
  },
  {
   "cell_type": "code",
   "execution_count": 14,
   "metadata": {
    "ExecuteTime": {
     "end_time": "2020-11-30T11:28:42.799151Z",
     "start_time": "2020-11-30T11:26:02.291882Z"
    }
   },
   "outputs": [
    {
     "name": "stdout",
     "output_type": "stream",
     "text": [
      "[2020-11-30 20:26:02.313355] backup start.\n",
      "[2020-11-30 20:28:42.781918] back up db_file 2\n",
      "[2020-11-30 20:28:42.786971] backup end.\n"
     ]
    },
    {
     "data": {
      "text/plain": [
       "WindowsPath('backup/dir_backup/back_up_2/source.zip')"
      ]
     },
     "execution_count": 14,
     "metadata": {},
     "output_type": "execute_result"
    }
   ],
   "source": [
    "py_back_up.back_up()"
   ]
  },
  {
   "cell_type": "markdown",
   "metadata": {},
   "source": [
    "ディレクトリのバックアップ"
   ]
  },
  {
   "cell_type": "code",
   "execution_count": 12,
   "metadata": {
    "ExecuteTime": {
     "end_time": "2020-11-30T11:22:34.079004Z",
     "start_time": "2020-11-30T11:22:34.001357Z"
    }
   },
   "outputs": [],
   "source": [
    "source_path = Path(\"backup_source\") / Path(\"source\")\n",
    "\n",
    "backup_path = Path(\"backup\") / Path(\"dir_backup\")\n",
    "\n",
    "py_back_up = PyBackUp(source_path=source_path, backup_path=backup_path, to_zip=True)"
   ]
  },
  {
   "cell_type": "code",
   "execution_count": 16,
   "metadata": {
    "ExecuteTime": {
     "end_time": "2020-11-30T11:32:01.207321Z",
     "start_time": "2020-11-30T11:31:54.527461Z"
    }
   },
   "outputs": [
    {
     "name": "stdout",
     "output_type": "stream",
     "text": [
      "[2020-11-30 20:31:54.538431] backup start.\n"
     ]
    },
    {
     "ename": "KeyboardInterrupt",
     "evalue": "",
     "output_type": "error",
     "traceback": [
      "\u001b[1;31m---------------------------------------------------------------------------\u001b[0m",
      "\u001b[1;31mKeyboardInterrupt\u001b[0m                         Traceback (most recent call last)",
      "\u001b[1;32m<ipython-input-16-3a1c81e2b62e>\u001b[0m in \u001b[0;36m<module>\u001b[1;34m\u001b[0m\n\u001b[1;32m----> 1\u001b[1;33m \u001b[0mpy_back_up\u001b[0m\u001b[1;33m.\u001b[0m\u001b[0mback_up\u001b[0m\u001b[1;33m(\u001b[0m\u001b[1;33m)\u001b[0m\u001b[1;33m\u001b[0m\u001b[1;33m\u001b[0m\u001b[0m\n\u001b[0m",
      "\u001b[1;32m<ipython-input-6-c24eb979eb9e>\u001b[0m in \u001b[0;36mback_up\u001b[1;34m(self)\u001b[0m\n\u001b[0;32m     59\u001b[0m         \u001b[1;32mif\u001b[0m \u001b[0mself\u001b[0m\u001b[1;33m.\u001b[0m\u001b[0mto_zip\u001b[0m\u001b[1;33m:\u001b[0m  \u001b[1;31m# zip\u001b[0m\u001b[1;33m\u001b[0m\u001b[1;33m\u001b[0m\u001b[0m\n\u001b[0;32m     60\u001b[0m             \u001b[0mbackup_dst_path\u001b[0m \u001b[1;33m=\u001b[0m \u001b[0mbackup_dst_path\u001b[0m\u001b[1;33m.\u001b[0m\u001b[0mwith_suffix\u001b[0m\u001b[1;33m(\u001b[0m\u001b[1;34m\".zip\"\u001b[0m\u001b[1;33m)\u001b[0m  \u001b[1;31m# zipとつける\u001b[0m\u001b[1;33m\u001b[0m\u001b[1;33m\u001b[0m\u001b[0m\n\u001b[1;32m---> 61\u001b[1;33m             \u001b[0mmake_zip\u001b[0m\u001b[1;33m(\u001b[0m\u001b[0msource_path\u001b[0m\u001b[1;33m=\u001b[0m\u001b[0mself\u001b[0m\u001b[1;33m.\u001b[0m\u001b[0msource_path\u001b[0m\u001b[1;33m,\u001b[0m \u001b[0mzip_path\u001b[0m\u001b[1;33m=\u001b[0m\u001b[0mbackup_dst_path\u001b[0m\u001b[1;33m)\u001b[0m\u001b[1;33m\u001b[0m\u001b[1;33m\u001b[0m\u001b[0m\n\u001b[0m\u001b[0;32m     62\u001b[0m \u001b[1;33m\u001b[0m\u001b[0m\n\u001b[0;32m     63\u001b[0m         \u001b[1;32melse\u001b[0m\u001b[1;33m:\u001b[0m \u001b[1;31m#zipでなくコピー\u001b[0m\u001b[1;33m\u001b[0m\u001b[1;33m\u001b[0m\u001b[0m\n",
      "\u001b[1;32m<ipython-input-3-48483f20d672>\u001b[0m in \u001b[0;36mmake_zip\u001b[1;34m(source_path, zip_path)\u001b[0m\n\u001b[0;32m     27\u001b[0m                         \u001b[0mnest_zip\u001b[0m\u001b[1;33m(\u001b[0m\u001b[0msearch_path_one\u001b[0m\u001b[1;33m)\u001b[0m  \u001b[1;31m# ネスト\u001b[0m\u001b[1;33m\u001b[0m\u001b[1;33m\u001b[0m\u001b[0m\n\u001b[0;32m     28\u001b[0m \u001b[1;33m\u001b[0m\u001b[0m\n\u001b[1;32m---> 29\u001b[1;33m             \u001b[0mnest_zip\u001b[0m\u001b[1;33m(\u001b[0m\u001b[0msource_path\u001b[0m\u001b[1;33m)\u001b[0m\u001b[1;33m\u001b[0m\u001b[1;33m\u001b[0m\u001b[0m\n\u001b[0m",
      "\u001b[1;32m<ipython-input-3-48483f20d672>\u001b[0m in \u001b[0;36mnest_zip\u001b[1;34m(search_path)\u001b[0m\n\u001b[0;32m     25\u001b[0m                 \u001b[1;32melif\u001b[0m \u001b[0msearch_path\u001b[0m\u001b[1;33m.\u001b[0m\u001b[0mis_dir\u001b[0m\u001b[1;33m(\u001b[0m\u001b[1;33m)\u001b[0m\u001b[1;33m:\u001b[0m\u001b[1;33m\u001b[0m\u001b[1;33m\u001b[0m\u001b[0m\n\u001b[0;32m     26\u001b[0m                     \u001b[1;32mfor\u001b[0m \u001b[0msearch_path_one\u001b[0m \u001b[1;32min\u001b[0m \u001b[0msearch_path\u001b[0m\u001b[1;33m.\u001b[0m\u001b[0miterdir\u001b[0m\u001b[1;33m(\u001b[0m\u001b[1;33m)\u001b[0m\u001b[1;33m:\u001b[0m\u001b[1;33m\u001b[0m\u001b[1;33m\u001b[0m\u001b[0m\n\u001b[1;32m---> 27\u001b[1;33m                         \u001b[0mnest_zip\u001b[0m\u001b[1;33m(\u001b[0m\u001b[0msearch_path_one\u001b[0m\u001b[1;33m)\u001b[0m  \u001b[1;31m# ネスト\u001b[0m\u001b[1;33m\u001b[0m\u001b[1;33m\u001b[0m\u001b[0m\n\u001b[0m\u001b[0;32m     28\u001b[0m \u001b[1;33m\u001b[0m\u001b[0m\n\u001b[0;32m     29\u001b[0m             \u001b[0mnest_zip\u001b[0m\u001b[1;33m(\u001b[0m\u001b[0msource_path\u001b[0m\u001b[1;33m)\u001b[0m\u001b[1;33m\u001b[0m\u001b[1;33m\u001b[0m\u001b[0m\n",
      "\u001b[1;32m<ipython-input-3-48483f20d672>\u001b[0m in \u001b[0;36mnest_zip\u001b[1;34m(search_path)\u001b[0m\n\u001b[0;32m     22\u001b[0m                 \u001b[1;32mif\u001b[0m \u001b[0msearch_path\u001b[0m\u001b[1;33m.\u001b[0m\u001b[0mis_file\u001b[0m\u001b[1;33m(\u001b[0m\u001b[1;33m)\u001b[0m\u001b[1;33m:\u001b[0m  \u001b[1;31m# ファイルの場合\u001b[0m\u001b[1;33m\u001b[0m\u001b[1;33m\u001b[0m\u001b[0m\n\u001b[0;32m     23\u001b[0m                     \u001b[0marc_path\u001b[0m \u001b[1;33m=\u001b[0m \u001b[0monly_source_root_path\u001b[0m \u001b[1;33m/\u001b[0m \u001b[0msearch_path\u001b[0m\u001b[1;33m.\u001b[0m\u001b[0mrelative_to\u001b[0m\u001b[1;33m(\u001b[0m\u001b[0msource_path\u001b[0m\u001b[1;33m)\u001b[0m  \u001b[1;31m# 対象ディレクトリ + 相対パス\u001b[0m\u001b[1;33m\u001b[0m\u001b[1;33m\u001b[0m\u001b[0m\n\u001b[1;32m---> 24\u001b[1;33m                     \u001b[0mnew_zip\u001b[0m\u001b[1;33m.\u001b[0m\u001b[0mwrite\u001b[0m\u001b[1;33m(\u001b[0m\u001b[0mfilename\u001b[0m\u001b[1;33m=\u001b[0m\u001b[0msearch_path\u001b[0m\u001b[1;33m,\u001b[0m \u001b[0marcname\u001b[0m\u001b[1;33m=\u001b[0m\u001b[0marc_path\u001b[0m\u001b[1;33m)\u001b[0m\u001b[1;33m\u001b[0m\u001b[1;33m\u001b[0m\u001b[0m\n\u001b[0m\u001b[0;32m     25\u001b[0m                 \u001b[1;32melif\u001b[0m \u001b[0msearch_path\u001b[0m\u001b[1;33m.\u001b[0m\u001b[0mis_dir\u001b[0m\u001b[1;33m(\u001b[0m\u001b[1;33m)\u001b[0m\u001b[1;33m:\u001b[0m\u001b[1;33m\u001b[0m\u001b[1;33m\u001b[0m\u001b[0m\n\u001b[0;32m     26\u001b[0m                     \u001b[1;32mfor\u001b[0m \u001b[0msearch_path_one\u001b[0m \u001b[1;32min\u001b[0m \u001b[0msearch_path\u001b[0m\u001b[1;33m.\u001b[0m\u001b[0miterdir\u001b[0m\u001b[1;33m(\u001b[0m\u001b[1;33m)\u001b[0m\u001b[1;33m:\u001b[0m\u001b[1;33m\u001b[0m\u001b[1;33m\u001b[0m\u001b[0m\n",
      "\u001b[1;32m~\\Anaconda3\\envs\\torch_py37\\lib\\zipfile.py\u001b[0m in \u001b[0;36mwrite\u001b[1;34m(self, filename, arcname, compress_type, compresslevel)\u001b[0m\n\u001b[0;32m   1745\u001b[0m         \u001b[1;32melse\u001b[0m\u001b[1;33m:\u001b[0m\u001b[1;33m\u001b[0m\u001b[1;33m\u001b[0m\u001b[0m\n\u001b[0;32m   1746\u001b[0m             \u001b[1;32mwith\u001b[0m \u001b[0mopen\u001b[0m\u001b[1;33m(\u001b[0m\u001b[0mfilename\u001b[0m\u001b[1;33m,\u001b[0m \u001b[1;34m\"rb\"\u001b[0m\u001b[1;33m)\u001b[0m \u001b[1;32mas\u001b[0m \u001b[0msrc\u001b[0m\u001b[1;33m,\u001b[0m \u001b[0mself\u001b[0m\u001b[1;33m.\u001b[0m\u001b[0mopen\u001b[0m\u001b[1;33m(\u001b[0m\u001b[0mzinfo\u001b[0m\u001b[1;33m,\u001b[0m \u001b[1;34m'w'\u001b[0m\u001b[1;33m)\u001b[0m \u001b[1;32mas\u001b[0m \u001b[0mdest\u001b[0m\u001b[1;33m:\u001b[0m\u001b[1;33m\u001b[0m\u001b[1;33m\u001b[0m\u001b[0m\n\u001b[1;32m-> 1747\u001b[1;33m                 \u001b[0mshutil\u001b[0m\u001b[1;33m.\u001b[0m\u001b[0mcopyfileobj\u001b[0m\u001b[1;33m(\u001b[0m\u001b[0msrc\u001b[0m\u001b[1;33m,\u001b[0m \u001b[0mdest\u001b[0m\u001b[1;33m,\u001b[0m \u001b[1;36m1024\u001b[0m\u001b[1;33m*\u001b[0m\u001b[1;36m8\u001b[0m\u001b[1;33m)\u001b[0m\u001b[1;33m\u001b[0m\u001b[1;33m\u001b[0m\u001b[0m\n\u001b[0m\u001b[0;32m   1748\u001b[0m \u001b[1;33m\u001b[0m\u001b[0m\n\u001b[0;32m   1749\u001b[0m     def writestr(self, zinfo_or_arcname, data,\n",
      "\u001b[1;32m~\\Anaconda3\\envs\\torch_py37\\lib\\shutil.py\u001b[0m in \u001b[0;36mcopyfileobj\u001b[1;34m(fsrc, fdst, length)\u001b[0m\n\u001b[0;32m     80\u001b[0m         \u001b[1;32mif\u001b[0m \u001b[1;32mnot\u001b[0m \u001b[0mbuf\u001b[0m\u001b[1;33m:\u001b[0m\u001b[1;33m\u001b[0m\u001b[1;33m\u001b[0m\u001b[0m\n\u001b[0;32m     81\u001b[0m             \u001b[1;32mbreak\u001b[0m\u001b[1;33m\u001b[0m\u001b[1;33m\u001b[0m\u001b[0m\n\u001b[1;32m---> 82\u001b[1;33m         \u001b[0mfdst\u001b[0m\u001b[1;33m.\u001b[0m\u001b[0mwrite\u001b[0m\u001b[1;33m(\u001b[0m\u001b[0mbuf\u001b[0m\u001b[1;33m)\u001b[0m\u001b[1;33m\u001b[0m\u001b[1;33m\u001b[0m\u001b[0m\n\u001b[0m\u001b[0;32m     83\u001b[0m \u001b[1;33m\u001b[0m\u001b[0m\n\u001b[0;32m     84\u001b[0m \u001b[1;32mdef\u001b[0m \u001b[0m_samefile\u001b[0m\u001b[1;33m(\u001b[0m\u001b[0msrc\u001b[0m\u001b[1;33m,\u001b[0m \u001b[0mdst\u001b[0m\u001b[1;33m)\u001b[0m\u001b[1;33m:\u001b[0m\u001b[1;33m\u001b[0m\u001b[1;33m\u001b[0m\u001b[0m\n",
      "\u001b[1;32m~\\Anaconda3\\envs\\torch_py37\\lib\\zipfile.py\u001b[0m in \u001b[0;36mwrite\u001b[1;34m(self, data)\u001b[0m\n\u001b[0;32m   1094\u001b[0m         \u001b[0mself\u001b[0m\u001b[1;33m.\u001b[0m\u001b[0m_crc\u001b[0m \u001b[1;33m=\u001b[0m \u001b[0mcrc32\u001b[0m\u001b[1;33m(\u001b[0m\u001b[0mdata\u001b[0m\u001b[1;33m,\u001b[0m \u001b[0mself\u001b[0m\u001b[1;33m.\u001b[0m\u001b[0m_crc\u001b[0m\u001b[1;33m)\u001b[0m\u001b[1;33m\u001b[0m\u001b[1;33m\u001b[0m\u001b[0m\n\u001b[0;32m   1095\u001b[0m         \u001b[1;32mif\u001b[0m \u001b[0mself\u001b[0m\u001b[1;33m.\u001b[0m\u001b[0m_compressor\u001b[0m\u001b[1;33m:\u001b[0m\u001b[1;33m\u001b[0m\u001b[1;33m\u001b[0m\u001b[0m\n\u001b[1;32m-> 1096\u001b[1;33m             \u001b[0mdata\u001b[0m \u001b[1;33m=\u001b[0m \u001b[0mself\u001b[0m\u001b[1;33m.\u001b[0m\u001b[0m_compressor\u001b[0m\u001b[1;33m.\u001b[0m\u001b[0mcompress\u001b[0m\u001b[1;33m(\u001b[0m\u001b[0mdata\u001b[0m\u001b[1;33m)\u001b[0m\u001b[1;33m\u001b[0m\u001b[1;33m\u001b[0m\u001b[0m\n\u001b[0m\u001b[0;32m   1097\u001b[0m             \u001b[0mself\u001b[0m\u001b[1;33m.\u001b[0m\u001b[0m_compress_size\u001b[0m \u001b[1;33m+=\u001b[0m \u001b[0mlen\u001b[0m\u001b[1;33m(\u001b[0m\u001b[0mdata\u001b[0m\u001b[1;33m)\u001b[0m\u001b[1;33m\u001b[0m\u001b[1;33m\u001b[0m\u001b[0m\n\u001b[0;32m   1098\u001b[0m         \u001b[0mself\u001b[0m\u001b[1;33m.\u001b[0m\u001b[0m_fileobj\u001b[0m\u001b[1;33m.\u001b[0m\u001b[0mwrite\u001b[0m\u001b[1;33m(\u001b[0m\u001b[0mdata\u001b[0m\u001b[1;33m)\u001b[0m\u001b[1;33m\u001b[0m\u001b[1;33m\u001b[0m\u001b[0m\n",
      "\u001b[1;32m~\\Anaconda3\\envs\\torch_py37\\lib\\zipfile.py\u001b[0m in \u001b[0;36mcompress\u001b[1;34m(self, data)\u001b[0m\n\u001b[0;32m    605\u001b[0m         \u001b[1;32mif\u001b[0m \u001b[0mself\u001b[0m\u001b[1;33m.\u001b[0m\u001b[0m_comp\u001b[0m \u001b[1;32mis\u001b[0m \u001b[1;32mNone\u001b[0m\u001b[1;33m:\u001b[0m\u001b[1;33m\u001b[0m\u001b[1;33m\u001b[0m\u001b[0m\n\u001b[0;32m    606\u001b[0m             \u001b[1;32mreturn\u001b[0m \u001b[0mself\u001b[0m\u001b[1;33m.\u001b[0m\u001b[0m_init\u001b[0m\u001b[1;33m(\u001b[0m\u001b[1;33m)\u001b[0m \u001b[1;33m+\u001b[0m \u001b[0mself\u001b[0m\u001b[1;33m.\u001b[0m\u001b[0m_comp\u001b[0m\u001b[1;33m.\u001b[0m\u001b[0mcompress\u001b[0m\u001b[1;33m(\u001b[0m\u001b[0mdata\u001b[0m\u001b[1;33m)\u001b[0m\u001b[1;33m\u001b[0m\u001b[1;33m\u001b[0m\u001b[0m\n\u001b[1;32m--> 607\u001b[1;33m         \u001b[1;32mreturn\u001b[0m \u001b[0mself\u001b[0m\u001b[1;33m.\u001b[0m\u001b[0m_comp\u001b[0m\u001b[1;33m.\u001b[0m\u001b[0mcompress\u001b[0m\u001b[1;33m(\u001b[0m\u001b[0mdata\u001b[0m\u001b[1;33m)\u001b[0m\u001b[1;33m\u001b[0m\u001b[1;33m\u001b[0m\u001b[0m\n\u001b[0m\u001b[0;32m    608\u001b[0m \u001b[1;33m\u001b[0m\u001b[0m\n\u001b[0;32m    609\u001b[0m     \u001b[1;32mdef\u001b[0m \u001b[0mflush\u001b[0m\u001b[1;33m(\u001b[0m\u001b[0mself\u001b[0m\u001b[1;33m)\u001b[0m\u001b[1;33m:\u001b[0m\u001b[1;33m\u001b[0m\u001b[1;33m\u001b[0m\u001b[0m\n",
      "\u001b[1;31mKeyboardInterrupt\u001b[0m: "
     ]
    }
   ],
   "source": [
    "py_back_up.back_up()"
   ]
  },
  {
   "cell_type": "code",
   "execution_count": null,
   "metadata": {},
   "outputs": [],
   "source": []
  }
 ],
 "metadata": {
  "kernelspec": {
   "display_name": "torch_py37",
   "language": "python",
   "name": "torch_py37"
  },
  "language_info": {
   "codemirror_mode": {
    "name": "ipython",
    "version": 3
   },
   "file_extension": ".py",
   "mimetype": "text/x-python",
   "name": "python",
   "nbconvert_exporter": "python",
   "pygments_lexer": "ipython3",
   "version": "3.7.4"
  },
  "toc": {
   "base_numbering": 1,
   "nav_menu": {},
   "number_sections": true,
   "sideBar": true,
   "skip_h1_title": false,
   "title_cell": "Table of Contents",
   "title_sidebar": "Contents",
   "toc_cell": false,
   "toc_position": {},
   "toc_section_display": true,
   "toc_window_display": false
  }
 },
 "nbformat": 4,
 "nbformat_minor": 4
}
