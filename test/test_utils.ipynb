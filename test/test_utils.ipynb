{
 "cells": [
  {
   "cell_type": "code",
   "execution_count": 1,
   "metadata": {
    "ExecuteTime": {
     "end_time": "2021-05-09T04:57:23.370214Z",
     "start_time": "2021-05-09T04:57:23.322344Z"
    }
   },
   "outputs": [
    {
     "name": "stdout",
     "output_type": "stream",
     "text": [
      "E:\\システムトレード入門\\trade_system_git_workspace\n"
     ]
    }
   ],
   "source": [
    "%cd .."
   ]
  },
  {
   "cell_type": "code",
   "execution_count": 2,
   "metadata": {
    "ExecuteTime": {
     "end_time": "2021-05-09T04:57:23.450003Z",
     "start_time": "2021-05-09T04:57:23.382182Z"
    }
   },
   "outputs": [],
   "source": [
    "import datetime\n",
    "from pytz import timezone"
   ]
  },
  {
   "cell_type": "code",
   "execution_count": 3,
   "metadata": {
    "ExecuteTime": {
     "end_time": "2021-05-09T04:57:23.576662Z",
     "start_time": "2021-05-09T04:57:23.461972Z"
    }
   },
   "outputs": [],
   "source": [
    "import unittest"
   ]
  },
  {
   "cell_type": "code",
   "execution_count": 4,
   "metadata": {
    "ExecuteTime": {
     "end_time": "2021-05-09T04:57:26.353234Z",
     "start_time": "2021-05-09T04:57:23.603610Z"
    }
   },
   "outputs": [],
   "source": [
    "import pandas as pd\n",
    "import numpy as np"
   ]
  },
  {
   "cell_type": "code",
   "execution_count": 5,
   "metadata": {
    "ExecuteTime": {
     "end_time": "2021-05-09T04:57:27.497172Z",
     "start_time": "2021-05-09T04:57:26.361215Z"
    }
   },
   "outputs": [],
   "source": [
    "from utils import get_utc_naive_datetime_from_datetime, get_floor_mod_datetime, get_ceil_mod_datetime, get_next_datetime, get_previous_datetime"
   ]
  },
  {
   "cell_type": "code",
   "execution_count": 6,
   "metadata": {
    "ExecuteTime": {
     "end_time": "2021-05-09T04:57:27.535075Z",
     "start_time": "2021-05-09T04:57:27.505153Z"
    }
   },
   "outputs": [],
   "source": [
    "from utils import get_timezone_datetime_like, get_next_workday_intraday_datetime, get_previous_workday_intraday_datetime"
   ]
  },
  {
   "cell_type": "code",
   "execution_count": 18,
   "metadata": {
    "ExecuteTime": {
     "end_time": "2021-05-09T05:09:10.954274Z",
     "start_time": "2021-05-09T05:09:10.695957Z"
    }
   },
   "outputs": [],
   "source": [
    "class TestDatetimeFreq(unittest.TestCase):\n",
    "    def test_utc_naive(self):\n",
    "        jst_timezone = timezone(\"Asia/Tokyo\")\n",
    "        jst_datetime = jst_timezone.localize(datetime.datetime(2021, 1, 1, 0, 0, 0))\n",
    "        utc_naive_datetime = get_utc_naive_datetime_from_datetime(jst_datetime)\n",
    "        self.assertEqual(utc_naive_datetime, datetime.datetime(2020, 12, 31, 15, 0))\n",
    "        \n",
    "        hk_timezone = timezone(\"Asia/Hong_Kong\")\n",
    "        hk_datetime = hk_timezone.localize(datetime.datetime(2021, 1, 1, 0, 0, 0))\n",
    "        utc_naive_datetime = get_utc_naive_datetime_from_datetime(hk_datetime)\n",
    "        self.assertEqual(utc_naive_datetime, datetime.datetime(2020, 12, 31, 16, 0))\n",
    "        \n",
    "    def test_floor_ceil(self):\n",
    "        # get_floor_mod_datetime\n",
    "        jst = timezone(\"Asia/Tokyo\")\n",
    "        \n",
    "        select_datetime = datetime.datetime(2020, 11, 4, 12, 30, 0)\n",
    "        freq_str = \"H\"\n",
    "        floor_datetime = get_floor_mod_datetime(select_datetime, freq_str)\n",
    "        self.assertEqual(floor_datetime, datetime.datetime(2020, 11, 4, 12, 0))\n",
    "        \n",
    "        args = [(datetime.datetime(2020, 11, 4, 12, 30, 0), \"H\"),\n",
    "                (jst.localize(datetime.datetime(2020, 11, 4, 12, 0, 0)), \"H\"),\n",
    "                (datetime.datetime(2020, 11, 4, 12, 3, 0), \"5T\"),\n",
    "                (jst.localize(datetime.datetime(2020, 11, 4, 12, 15, 0)), \"30T\"),\n",
    "                (datetime.datetime(2020, 11, 4, 12, 40, 0), \"30T\"),\n",
    "               ]\n",
    "        \n",
    "        results = [datetime.datetime(2020, 11, 4, 12, 0),\n",
    "                   jst.localize(datetime.datetime(2020, 11, 4, 12, 0)),\n",
    "                   datetime.datetime(2020, 11, 4, 12, 0),\n",
    "                   jst.localize(datetime.datetime(2020, 11, 4, 12, 0)),\n",
    "                   datetime.datetime(2020, 11, 4, 12, 30)\n",
    "                  ]\n",
    "        \n",
    "        for one_args, one_result in zip(args, results):\n",
    "            with self.subTest(one_args=one_args, one_result=one_result):\n",
    "                self.assertEqual(get_floor_mod_datetime(*one_args), one_result)\n",
    "        \n",
    "        # get_ceil_mod_datetime\n",
    "        select_datetime = datetime.datetime(2020, 11, 4, 12, 30, 0)\n",
    "        freq_str = \"H\"\n",
    "        ceil_datetime = get_ceil_mod_datetime(select_datetime, freq_str)\n",
    "        self.assertEqual(ceil_datetime, datetime.datetime(2020, 11, 4, 13, 0))\n",
    "        \n",
    "        args = [(datetime.datetime(2020, 11, 4, 12, 30, 0), \"H\"),\n",
    "                (jst.localize(datetime.datetime(2020, 11, 4, 13, 0, 0)), \"H\"),\n",
    "                (datetime.datetime(2020, 11, 4, 12, 57, 0), \"5T\"),\n",
    "                (jst.localize(datetime.datetime(2020, 11, 4, 12, 45, 0)), \"30T\"),\n",
    "                (datetime.datetime(2020, 11, 4, 13, 10, 0), \"30T\")\n",
    "               ]\n",
    "        \n",
    "        results = [datetime.datetime(2020, 11, 4, 13, 0),\n",
    "                   jst.localize(datetime.datetime(2020, 11, 4, 13, 0)),\n",
    "                   datetime.datetime(2020, 11, 4, 13, 0),\n",
    "                   jst.localize(datetime.datetime(2020, 11, 4, 13, 0)),\n",
    "                   datetime.datetime(2020, 11, 4, 13, 30)\n",
    "                  ] \n",
    "        \n",
    "        for one_args, one_result in zip(args, results):\n",
    "            with self.subTest(one_args=one_args, one_result=one_result):\n",
    "                self.assertEqual(get_ceil_mod_datetime(*one_args), one_result)\n",
    "                \n",
    "    def test_next_previous(self):\n",
    "        def get_next_datetime_check(freq_str):\n",
    "            start_datetime = datetime.datetime(2021,1,1,0,0,0)\n",
    "            end_datetime = datetime.datetime(2021,2,1,0,0,0)\n",
    "            true_datetime_array = pd.date_range(start_datetime, end_datetime, freq=freq_str).to_pydatetime()\n",
    "\n",
    "            datetime_list = []\n",
    "            iter_datetime = datetime.datetime(2021,1,1,0,0,0)\n",
    "            datetime_list.append(iter_datetime)\n",
    "            for _ in range(len(true_datetime_array)-1):\n",
    "                iter_datetime = get_next_datetime(iter_datetime, freq_str)\n",
    "                datetime_list.append(iter_datetime)\n",
    "\n",
    "            result_datetime_array = np.array(datetime_list) \n",
    "            return np.array_equal(result_datetime_array, true_datetime_array)\n",
    "        \n",
    "        freq_strs = [\"D\", \"12H\", \"4H\", \"H\", \"30T\", \"10T\", \"5T\", \"T\"]\n",
    "        for freq_str in freq_strs:\n",
    "            with self.subTest(freq_str=freq_str):\n",
    "                self.assertTrue(get_next_datetime_check(freq_str))\n",
    "                \n",
    "                \n",
    "        def get_previous_datetime_check(freq_str):\n",
    "            start_datetime = datetime.datetime(2021,1,1,0,0,0)\n",
    "            end_datetime = datetime.datetime(2021,2,1,0,0,0)\n",
    "            true_datetime_array = pd.date_range(start_datetime, end_datetime, freq=freq_str).to_pydatetime()\n",
    "\n",
    "            datetime_list = []\n",
    "            iter_datetime = datetime.datetime(2021,2,1,0,0,0)\n",
    "            datetime_list.append(iter_datetime)\n",
    "            for _ in range(len(true_datetime_array)-1):\n",
    "                iter_datetime = get_previous_datetime(iter_datetime, freq_str)\n",
    "                datetime_list.append(iter_datetime)\n",
    "\n",
    "            result_datetime_array = np.array(sorted(datetime_list)) \n",
    "            return np.array_equal(result_datetime_array, true_datetime_array)\n",
    "        \n",
    "        freq_strs = [\"D\", \"12H\", \"4H\", \"H\", \"30T\", \"10T\", \"5T\", \"T\"]\n",
    "        for freq_str in freq_strs:\n",
    "            with self.subTest(freq_str=freq_str):\n",
    "                self.assertTrue(get_previous_datetime_check(freq_str))\n",
    "                \n",
    "    def test_next_previous_multi(self):\n",
    "        def add_datetime_check(freq_str):\n",
    "            start_datetime = datetime.datetime(2021,1,1,0,0,0)\n",
    "            end_datetime = datetime.datetime(2021,2,1,0,0,0)\n",
    "            true_datetime_array = pd.date_range(start_datetime, end_datetime, freq=freq_str).to_pydatetime()\n",
    "\n",
    "            datetime_list = [get_next_datetime(datetime.datetime(2021,1,1,0,0,0),freq_str, number=i) for i  in range(len(true_datetime_array))]\n",
    "            result_datetime_array = np.array(datetime_list)\n",
    "            return np.array_equal(result_datetime_array, true_datetime_array)\n",
    "        \n",
    "        freq_strs = [\"D\", \"12H\", \"4H\", \"H\", \"30T\", \"10T\", \"5T\", \"T\"]\n",
    "        for freq_str in freq_strs:\n",
    "            with self.subTest(freq_str=freq_str):\n",
    "                self.assertTrue(add_datetime_check(freq_str))\n",
    "                \n",
    "                \n",
    "        def sub_datetime_check(freq_str):\n",
    "            start_datetime = datetime.datetime(2021,1,1,0,0,0)\n",
    "            end_datetime = datetime.datetime(2021,2,1,0,0,0)\n",
    "            true_datetime_array = pd.date_range(start_datetime, end_datetime, freq=freq_str).to_pydatetime()\n",
    "\n",
    "            datetime_list = [get_previous_datetime(datetime.datetime(2021,2,1,0,0,0),freq_str, number=i) for i  in range(len(true_datetime_array))]\n",
    "            result_datetime_array = np.array(sorted(datetime_list))\n",
    "            return np.array_equal(result_datetime_array, true_datetime_array)\n",
    "        \n",
    "        freq_strs = [\"D\", \"12H\", \"4H\", \"H\", \"30T\", \"10T\", \"5T\", \"T\"]\n",
    "        for freq_str in freq_strs:\n",
    "            with self.subTest(freq_str=freq_str):\n",
    "                self.assertTrue(sub_datetime_check(freq_str))      "
   ]
  },
  {
   "cell_type": "code",
   "execution_count": 19,
   "metadata": {
    "ExecuteTime": {
     "end_time": "2021-05-09T05:09:21.752380Z",
     "start_time": "2021-05-09T05:09:11.315302Z"
    }
   },
   "outputs": [
    {
     "name": "stderr",
     "output_type": "stream",
     "text": [
      "test_floor_ceil (__main__.TestDatetimeFreq) ... ok\n",
      "test_next_previous (__main__.TestDatetimeFreq) ... ok\n",
      "test_next_previous_multi (__main__.TestDatetimeFreq) ... ok\n",
      "test_utc_naive (__main__.TestDatetimeFreq) ... ok\n",
      "\n",
      "----------------------------------------------------------------------\n",
      "Ran 4 tests in 10.373s\n",
      "\n",
      "OK\n"
     ]
    },
    {
     "data": {
      "text/plain": [
       "<unittest.main.TestProgram at 0x1884a9a1c48>"
      ]
     },
     "execution_count": 19,
     "metadata": {},
     "output_type": "execute_result"
    }
   ],
   "source": [
    "unittest.main(argv=['first-arg-is-ignored', \"-v\"], exit=False)\n",
    "#unittest.main(argv=['first-arg-is-ignored'], exit=False)"
   ]
  },
  {
   "cell_type": "code",
   "execution_count": 119,
   "metadata": {
    "ExecuteTime": {
     "end_time": "2021-05-06T11:03:04.659553Z",
     "start_time": "2021-05-06T11:02:39.831852Z"
    }
   },
   "outputs": [
    {
     "name": "stdout",
     "output_type": "stream",
     "text": [
      "3.06 s ± 67.9 ms per loop (mean ± std. dev. of 7 runs, 1 loop each)\n"
     ]
    }
   ],
   "source": [
    "%timeit sub_datetime(datetime.datetime(2021,1,2,0,0,0),\"T\", sub_number=100000)"
   ]
  },
  {
   "cell_type": "code",
   "execution_count": null,
   "metadata": {},
   "outputs": [],
   "source": []
  }
 ],
 "metadata": {
  "kernelspec": {
   "display_name": "torch_py37",
   "language": "python",
   "name": "torch_py37"
  },
  "language_info": {
   "codemirror_mode": {
    "name": "ipython",
    "version": 3
   },
   "file_extension": ".py",
   "mimetype": "text/x-python",
   "name": "python",
   "nbconvert_exporter": "python",
   "pygments_lexer": "ipython3",
   "version": "3.7.4"
  },
  "toc": {
   "base_numbering": 1,
   "nav_menu": {},
   "number_sections": true,
   "sideBar": true,
   "skip_h1_title": true,
   "title_cell": "Table of Contents",
   "title_sidebar": "Contents",
   "toc_cell": false,
   "toc_position": {},
   "toc_section_display": true,
   "toc_window_display": false
  }
 },
 "nbformat": 4,
 "nbformat_minor": 4
}
