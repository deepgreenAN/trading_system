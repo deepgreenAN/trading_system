{
 "cells": [
  {
   "cell_type": "markdown",
   "metadata": {},
   "source": [
    "ルートディレクトリに移動 "
   ]
  },
  {
   "cell_type": "code",
   "execution_count": 1,
   "metadata": {
    "ExecuteTime": {
     "end_time": "2021-05-16T16:59:40.016786Z",
     "start_time": "2021-05-16T16:59:39.977890Z"
    }
   },
   "outputs": [
    {
     "name": "stdout",
     "output_type": "stream",
     "text": [
      "E:\\システムトレード入門\\trade_system_git_workspace\n"
     ]
    }
   ],
   "source": [
    "%cd ../.."
   ]
  },
  {
   "cell_type": "code",
   "execution_count": 2,
   "metadata": {
    "ExecuteTime": {
     "end_time": "2021-05-16T16:59:44.343220Z",
     "start_time": "2021-05-16T16:59:40.027756Z"
    }
   },
   "outputs": [],
   "source": [
    "from collections import namedtuple\n",
    "import pandas as pd\n",
    "from pathlib import Path\n",
    "from pytz import timezone\n",
    "import datetime\n",
    "import numpy as np\n",
    "from scipy.special import softmax\n",
    "from abc import ABCMeta, abstractmethod\n",
    "import dataclasses\n",
    "from dataclasses import dataclass"
   ]
  },
  {
   "cell_type": "code",
   "execution_count": 3,
   "metadata": {
    "ExecuteTime": {
     "end_time": "2021-05-16T16:59:47.304303Z",
     "start_time": "2021-05-16T16:59:44.370146Z"
    }
   },
   "outputs": [
    {
     "data": {
      "text/html": [
       "\n",
       "    <div class=\"bk-root\">\n",
       "        <a href=\"https://bokeh.org\" target=\"_blank\" class=\"bk-logo bk-logo-small bk-logo-notebook\"></a>\n",
       "        <span id=\"1001\">Loading BokehJS ...</span>\n",
       "    </div>"
      ]
     },
     "metadata": {},
     "output_type": "display_data"
    },
    {
     "data": {
      "application/javascript": [
       "\n",
       "(function(root) {\n",
       "  function now() {\n",
       "    return new Date();\n",
       "  }\n",
       "\n",
       "  var force = true;\n",
       "\n",
       "  if (typeof root._bokeh_onload_callbacks === \"undefined\" || force === true) {\n",
       "    root._bokeh_onload_callbacks = [];\n",
       "    root._bokeh_is_loading = undefined;\n",
       "  }\n",
       "\n",
       "  var JS_MIME_TYPE = 'application/javascript';\n",
       "  var HTML_MIME_TYPE = 'text/html';\n",
       "  var EXEC_MIME_TYPE = 'application/vnd.bokehjs_exec.v0+json';\n",
       "  var CLASS_NAME = 'output_bokeh rendered_html';\n",
       "\n",
       "  /**\n",
       "   * Render data to the DOM node\n",
       "   */\n",
       "  function render(props, node) {\n",
       "    var script = document.createElement(\"script\");\n",
       "    node.appendChild(script);\n",
       "  }\n",
       "\n",
       "  /**\n",
       "   * Handle when an output is cleared or removed\n",
       "   */\n",
       "  function handleClearOutput(event, handle) {\n",
       "    var cell = handle.cell;\n",
       "\n",
       "    var id = cell.output_area._bokeh_element_id;\n",
       "    var server_id = cell.output_area._bokeh_server_id;\n",
       "    // Clean up Bokeh references\n",
       "    if (id != null && id in Bokeh.index) {\n",
       "      Bokeh.index[id].model.document.clear();\n",
       "      delete Bokeh.index[id];\n",
       "    }\n",
       "\n",
       "    if (server_id !== undefined) {\n",
       "      // Clean up Bokeh references\n",
       "      var cmd = \"from bokeh.io.state import curstate; print(curstate().uuid_to_server['\" + server_id + \"'].get_sessions()[0].document.roots[0]._id)\";\n",
       "      cell.notebook.kernel.execute(cmd, {\n",
       "        iopub: {\n",
       "          output: function(msg) {\n",
       "            var id = msg.content.text.trim();\n",
       "            if (id in Bokeh.index) {\n",
       "              Bokeh.index[id].model.document.clear();\n",
       "              delete Bokeh.index[id];\n",
       "            }\n",
       "          }\n",
       "        }\n",
       "      });\n",
       "      // Destroy server and session\n",
       "      var cmd = \"import bokeh.io.notebook as ion; ion.destroy_server('\" + server_id + \"')\";\n",
       "      cell.notebook.kernel.execute(cmd);\n",
       "    }\n",
       "  }\n",
       "\n",
       "  /**\n",
       "   * Handle when a new output is added\n",
       "   */\n",
       "  function handleAddOutput(event, handle) {\n",
       "    var output_area = handle.output_area;\n",
       "    var output = handle.output;\n",
       "\n",
       "    // limit handleAddOutput to display_data with EXEC_MIME_TYPE content only\n",
       "    if ((output.output_type != \"display_data\") || (!output.data.hasOwnProperty(EXEC_MIME_TYPE))) {\n",
       "      return\n",
       "    }\n",
       "\n",
       "    var toinsert = output_area.element.find(\".\" + CLASS_NAME.split(' ')[0]);\n",
       "\n",
       "    if (output.metadata[EXEC_MIME_TYPE][\"id\"] !== undefined) {\n",
       "      toinsert[toinsert.length - 1].firstChild.textContent = output.data[JS_MIME_TYPE];\n",
       "      // store reference to embed id on output_area\n",
       "      output_area._bokeh_element_id = output.metadata[EXEC_MIME_TYPE][\"id\"];\n",
       "    }\n",
       "    if (output.metadata[EXEC_MIME_TYPE][\"server_id\"] !== undefined) {\n",
       "      var bk_div = document.createElement(\"div\");\n",
       "      bk_div.innerHTML = output.data[HTML_MIME_TYPE];\n",
       "      var script_attrs = bk_div.children[0].attributes;\n",
       "      for (var i = 0; i < script_attrs.length; i++) {\n",
       "        toinsert[toinsert.length - 1].firstChild.setAttribute(script_attrs[i].name, script_attrs[i].value);\n",
       "        toinsert[toinsert.length - 1].firstChild.textContent = bk_div.children[0].textContent\n",
       "      }\n",
       "      // store reference to server id on output_area\n",
       "      output_area._bokeh_server_id = output.metadata[EXEC_MIME_TYPE][\"server_id\"];\n",
       "    }\n",
       "  }\n",
       "\n",
       "  function register_renderer(events, OutputArea) {\n",
       "\n",
       "    function append_mime(data, metadata, element) {\n",
       "      // create a DOM node to render to\n",
       "      var toinsert = this.create_output_subarea(\n",
       "        metadata,\n",
       "        CLASS_NAME,\n",
       "        EXEC_MIME_TYPE\n",
       "      );\n",
       "      this.keyboard_manager.register_events(toinsert);\n",
       "      // Render to node\n",
       "      var props = {data: data, metadata: metadata[EXEC_MIME_TYPE]};\n",
       "      render(props, toinsert[toinsert.length - 1]);\n",
       "      element.append(toinsert);\n",
       "      return toinsert\n",
       "    }\n",
       "\n",
       "    /* Handle when an output is cleared or removed */\n",
       "    events.on('clear_output.CodeCell', handleClearOutput);\n",
       "    events.on('delete.Cell', handleClearOutput);\n",
       "\n",
       "    /* Handle when a new output is added */\n",
       "    events.on('output_added.OutputArea', handleAddOutput);\n",
       "\n",
       "    /**\n",
       "     * Register the mime type and append_mime function with output_area\n",
       "     */\n",
       "    OutputArea.prototype.register_mime_type(EXEC_MIME_TYPE, append_mime, {\n",
       "      /* Is output safe? */\n",
       "      safe: true,\n",
       "      /* Index of renderer in `output_area.display_order` */\n",
       "      index: 0\n",
       "    });\n",
       "  }\n",
       "\n",
       "  // register the mime type if in Jupyter Notebook environment and previously unregistered\n",
       "  if (root.Jupyter !== undefined) {\n",
       "    var events = require('base/js/events');\n",
       "    var OutputArea = require('notebook/js/outputarea').OutputArea;\n",
       "\n",
       "    if (OutputArea.prototype.mime_types().indexOf(EXEC_MIME_TYPE) == -1) {\n",
       "      register_renderer(events, OutputArea);\n",
       "    }\n",
       "  }\n",
       "\n",
       "  \n",
       "  if (typeof (root._bokeh_timeout) === \"undefined\" || force === true) {\n",
       "    root._bokeh_timeout = Date.now() + 5000;\n",
       "    root._bokeh_failed_load = false;\n",
       "  }\n",
       "\n",
       "  var NB_LOAD_WARNING = {'data': {'text/html':\n",
       "     \"<div style='background-color: #fdd'>\\n\"+\n",
       "     \"<p>\\n\"+\n",
       "     \"BokehJS does not appear to have successfully loaded. If loading BokehJS from CDN, this \\n\"+\n",
       "     \"may be due to a slow or bad network connection. Possible fixes:\\n\"+\n",
       "     \"</p>\\n\"+\n",
       "     \"<ul>\\n\"+\n",
       "     \"<li>re-rerun `output_notebook()` to attempt to load from CDN again, or</li>\\n\"+\n",
       "     \"<li>use INLINE resources instead, as so:</li>\\n\"+\n",
       "     \"</ul>\\n\"+\n",
       "     \"<code>\\n\"+\n",
       "     \"from bokeh.resources import INLINE\\n\"+\n",
       "     \"output_notebook(resources=INLINE)\\n\"+\n",
       "     \"</code>\\n\"+\n",
       "     \"</div>\"}};\n",
       "\n",
       "  function display_loaded() {\n",
       "    var el = document.getElementById(\"1001\");\n",
       "    if (el != null) {\n",
       "      el.textContent = \"BokehJS is loading...\";\n",
       "    }\n",
       "    if (root.Bokeh !== undefined) {\n",
       "      if (el != null) {\n",
       "        el.textContent = \"BokehJS \" + root.Bokeh.version + \" successfully loaded.\";\n",
       "      }\n",
       "    } else if (Date.now() < root._bokeh_timeout) {\n",
       "      setTimeout(display_loaded, 100)\n",
       "    }\n",
       "  }\n",
       "\n",
       "\n",
       "  function run_callbacks() {\n",
       "    try {\n",
       "      root._bokeh_onload_callbacks.forEach(function(callback) {\n",
       "        if (callback != null)\n",
       "          callback();\n",
       "      });\n",
       "    } finally {\n",
       "      delete root._bokeh_onload_callbacks\n",
       "    }\n",
       "    console.debug(\"Bokeh: all callbacks have finished\");\n",
       "  }\n",
       "\n",
       "  function load_libs(css_urls, js_urls, callback) {\n",
       "    if (css_urls == null) css_urls = [];\n",
       "    if (js_urls == null) js_urls = [];\n",
       "\n",
       "    root._bokeh_onload_callbacks.push(callback);\n",
       "    if (root._bokeh_is_loading > 0) {\n",
       "      console.debug(\"Bokeh: BokehJS is being loaded, scheduling callback at\", now());\n",
       "      return null;\n",
       "    }\n",
       "    if (js_urls == null || js_urls.length === 0) {\n",
       "      run_callbacks();\n",
       "      return null;\n",
       "    }\n",
       "    console.debug(\"Bokeh: BokehJS not loaded, scheduling load and callback at\", now());\n",
       "    root._bokeh_is_loading = css_urls.length + js_urls.length;\n",
       "\n",
       "    function on_load() {\n",
       "      root._bokeh_is_loading--;\n",
       "      if (root._bokeh_is_loading === 0) {\n",
       "        console.debug(\"Bokeh: all BokehJS libraries/stylesheets loaded\");\n",
       "        run_callbacks()\n",
       "      }\n",
       "    }\n",
       "\n",
       "    function on_error() {\n",
       "      console.error(\"failed to load \" + url);\n",
       "    }\n",
       "\n",
       "    for (var i = 0; i < css_urls.length; i++) {\n",
       "      var url = css_urls[i];\n",
       "      const element = document.createElement(\"link\");\n",
       "      element.onload = on_load;\n",
       "      element.onerror = on_error;\n",
       "      element.rel = \"stylesheet\";\n",
       "      element.type = \"text/css\";\n",
       "      element.href = url;\n",
       "      console.debug(\"Bokeh: injecting link tag for BokehJS stylesheet: \", url);\n",
       "      document.body.appendChild(element);\n",
       "    }\n",
       "\n",
       "    const hashes = {\"https://cdn.bokeh.org/bokeh/release/bokeh-2.2.3.min.js\": \"T2yuo9Oe71Cz/I4X9Ac5+gpEa5a8PpJCDlqKYO0CfAuEszu1JrXLl8YugMqYe3sM\", \"https://cdn.bokeh.org/bokeh/release/bokeh-widgets-2.2.3.min.js\": \"98GDGJ0kOMCUMUePhksaQ/GYgB3+NH9h996V88sh3aOiUNX3N+fLXAtry6xctSZ6\", \"https://cdn.bokeh.org/bokeh/release/bokeh-tables-2.2.3.min.js\": \"89bArO+nlbP3sgakeHjCo1JYxYR5wufVgA3IbUvDY+K7w4zyxJqssu7wVnfeKCq8\"};\n",
       "\n",
       "    for (var i = 0; i < js_urls.length; i++) {\n",
       "      var url = js_urls[i];\n",
       "      var element = document.createElement('script');\n",
       "      element.onload = on_load;\n",
       "      element.onerror = on_error;\n",
       "      element.async = false;\n",
       "      element.src = url;\n",
       "      if (url in hashes) {\n",
       "        element.crossOrigin = \"anonymous\";\n",
       "        element.integrity = \"sha384-\" + hashes[url];\n",
       "      }\n",
       "      console.debug(\"Bokeh: injecting script tag for BokehJS library: \", url);\n",
       "      document.head.appendChild(element);\n",
       "    }\n",
       "  };\n",
       "\n",
       "  function inject_raw_css(css) {\n",
       "    const element = document.createElement(\"style\");\n",
       "    element.appendChild(document.createTextNode(css));\n",
       "    document.body.appendChild(element);\n",
       "  }\n",
       "\n",
       "  \n",
       "  var js_urls = [\"https://cdn.bokeh.org/bokeh/release/bokeh-2.2.3.min.js\", \"https://cdn.bokeh.org/bokeh/release/bokeh-widgets-2.2.3.min.js\", \"https://cdn.bokeh.org/bokeh/release/bokeh-tables-2.2.3.min.js\"];\n",
       "  var css_urls = [];\n",
       "  \n",
       "\n",
       "  var inline_js = [\n",
       "    function(Bokeh) {\n",
       "      Bokeh.set_log_level(\"info\");\n",
       "    },\n",
       "    function(Bokeh) {\n",
       "    \n",
       "    \n",
       "    }\n",
       "  ];\n",
       "\n",
       "  function run_inline_js() {\n",
       "    \n",
       "    if (root.Bokeh !== undefined || force === true) {\n",
       "      \n",
       "    for (var i = 0; i < inline_js.length; i++) {\n",
       "      inline_js[i].call(root, root.Bokeh);\n",
       "    }\n",
       "    if (force === true) {\n",
       "        display_loaded();\n",
       "      }} else if (Date.now() < root._bokeh_timeout) {\n",
       "      setTimeout(run_inline_js, 100);\n",
       "    } else if (!root._bokeh_failed_load) {\n",
       "      console.log(\"Bokeh: BokehJS failed to load within specified timeout.\");\n",
       "      root._bokeh_failed_load = true;\n",
       "    } else if (force !== true) {\n",
       "      var cell = $(document.getElementById(\"1001\")).parents('.cell').data().cell;\n",
       "      cell.output_area.append_execute_result(NB_LOAD_WARNING)\n",
       "    }\n",
       "\n",
       "  }\n",
       "\n",
       "  if (root._bokeh_is_loading === 0) {\n",
       "    console.debug(\"Bokeh: BokehJS loaded, going straight to plotting\");\n",
       "    run_inline_js();\n",
       "  } else {\n",
       "    load_libs(css_urls, js_urls, function() {\n",
       "      console.debug(\"Bokeh: BokehJS plotting callback run at\", now());\n",
       "      run_inline_js();\n",
       "    });\n",
       "  }\n",
       "}(window));"
      ],
      "application/vnd.bokehjs_load.v0+json": "\n(function(root) {\n  function now() {\n    return new Date();\n  }\n\n  var force = true;\n\n  if (typeof root._bokeh_onload_callbacks === \"undefined\" || force === true) {\n    root._bokeh_onload_callbacks = [];\n    root._bokeh_is_loading = undefined;\n  }\n\n  \n\n  \n  if (typeof (root._bokeh_timeout) === \"undefined\" || force === true) {\n    root._bokeh_timeout = Date.now() + 5000;\n    root._bokeh_failed_load = false;\n  }\n\n  var NB_LOAD_WARNING = {'data': {'text/html':\n     \"<div style='background-color: #fdd'>\\n\"+\n     \"<p>\\n\"+\n     \"BokehJS does not appear to have successfully loaded. If loading BokehJS from CDN, this \\n\"+\n     \"may be due to a slow or bad network connection. Possible fixes:\\n\"+\n     \"</p>\\n\"+\n     \"<ul>\\n\"+\n     \"<li>re-rerun `output_notebook()` to attempt to load from CDN again, or</li>\\n\"+\n     \"<li>use INLINE resources instead, as so:</li>\\n\"+\n     \"</ul>\\n\"+\n     \"<code>\\n\"+\n     \"from bokeh.resources import INLINE\\n\"+\n     \"output_notebook(resources=INLINE)\\n\"+\n     \"</code>\\n\"+\n     \"</div>\"}};\n\n  function display_loaded() {\n    var el = document.getElementById(\"1001\");\n    if (el != null) {\n      el.textContent = \"BokehJS is loading...\";\n    }\n    if (root.Bokeh !== undefined) {\n      if (el != null) {\n        el.textContent = \"BokehJS \" + root.Bokeh.version + \" successfully loaded.\";\n      }\n    } else if (Date.now() < root._bokeh_timeout) {\n      setTimeout(display_loaded, 100)\n    }\n  }\n\n\n  function run_callbacks() {\n    try {\n      root._bokeh_onload_callbacks.forEach(function(callback) {\n        if (callback != null)\n          callback();\n      });\n    } finally {\n      delete root._bokeh_onload_callbacks\n    }\n    console.debug(\"Bokeh: all callbacks have finished\");\n  }\n\n  function load_libs(css_urls, js_urls, callback) {\n    if (css_urls == null) css_urls = [];\n    if (js_urls == null) js_urls = [];\n\n    root._bokeh_onload_callbacks.push(callback);\n    if (root._bokeh_is_loading > 0) {\n      console.debug(\"Bokeh: BokehJS is being loaded, scheduling callback at\", now());\n      return null;\n    }\n    if (js_urls == null || js_urls.length === 0) {\n      run_callbacks();\n      return null;\n    }\n    console.debug(\"Bokeh: BokehJS not loaded, scheduling load and callback at\", now());\n    root._bokeh_is_loading = css_urls.length + js_urls.length;\n\n    function on_load() {\n      root._bokeh_is_loading--;\n      if (root._bokeh_is_loading === 0) {\n        console.debug(\"Bokeh: all BokehJS libraries/stylesheets loaded\");\n        run_callbacks()\n      }\n    }\n\n    function on_error() {\n      console.error(\"failed to load \" + url);\n    }\n\n    for (var i = 0; i < css_urls.length; i++) {\n      var url = css_urls[i];\n      const element = document.createElement(\"link\");\n      element.onload = on_load;\n      element.onerror = on_error;\n      element.rel = \"stylesheet\";\n      element.type = \"text/css\";\n      element.href = url;\n      console.debug(\"Bokeh: injecting link tag for BokehJS stylesheet: \", url);\n      document.body.appendChild(element);\n    }\n\n    const hashes = {\"https://cdn.bokeh.org/bokeh/release/bokeh-2.2.3.min.js\": \"T2yuo9Oe71Cz/I4X9Ac5+gpEa5a8PpJCDlqKYO0CfAuEszu1JrXLl8YugMqYe3sM\", \"https://cdn.bokeh.org/bokeh/release/bokeh-widgets-2.2.3.min.js\": \"98GDGJ0kOMCUMUePhksaQ/GYgB3+NH9h996V88sh3aOiUNX3N+fLXAtry6xctSZ6\", \"https://cdn.bokeh.org/bokeh/release/bokeh-tables-2.2.3.min.js\": \"89bArO+nlbP3sgakeHjCo1JYxYR5wufVgA3IbUvDY+K7w4zyxJqssu7wVnfeKCq8\"};\n\n    for (var i = 0; i < js_urls.length; i++) {\n      var url = js_urls[i];\n      var element = document.createElement('script');\n      element.onload = on_load;\n      element.onerror = on_error;\n      element.async = false;\n      element.src = url;\n      if (url in hashes) {\n        element.crossOrigin = \"anonymous\";\n        element.integrity = \"sha384-\" + hashes[url];\n      }\n      console.debug(\"Bokeh: injecting script tag for BokehJS library: \", url);\n      document.head.appendChild(element);\n    }\n  };\n\n  function inject_raw_css(css) {\n    const element = document.createElement(\"style\");\n    element.appendChild(document.createTextNode(css));\n    document.body.appendChild(element);\n  }\n\n  \n  var js_urls = [\"https://cdn.bokeh.org/bokeh/release/bokeh-2.2.3.min.js\", \"https://cdn.bokeh.org/bokeh/release/bokeh-widgets-2.2.3.min.js\", \"https://cdn.bokeh.org/bokeh/release/bokeh-tables-2.2.3.min.js\"];\n  var css_urls = [];\n  \n\n  var inline_js = [\n    function(Bokeh) {\n      Bokeh.set_log_level(\"info\");\n    },\n    function(Bokeh) {\n    \n    \n    }\n  ];\n\n  function run_inline_js() {\n    \n    if (root.Bokeh !== undefined || force === true) {\n      \n    for (var i = 0; i < inline_js.length; i++) {\n      inline_js[i].call(root, root.Bokeh);\n    }\n    if (force === true) {\n        display_loaded();\n      }} else if (Date.now() < root._bokeh_timeout) {\n      setTimeout(run_inline_js, 100);\n    } else if (!root._bokeh_failed_load) {\n      console.log(\"Bokeh: BokehJS failed to load within specified timeout.\");\n      root._bokeh_failed_load = true;\n    } else if (force !== true) {\n      var cell = $(document.getElementById(\"1001\")).parents('.cell').data().cell;\n      cell.output_area.append_execute_result(NB_LOAD_WARNING)\n    }\n\n  }\n\n  if (root._bokeh_is_loading === 0) {\n    console.debug(\"Bokeh: BokehJS loaded, going straight to plotting\");\n    run_inline_js();\n  } else {\n    load_libs(css_urls, js_urls, function() {\n      console.debug(\"Bokeh: BokehJS plotting callback run at\", now());\n      run_inline_js();\n    });\n  }\n}(window));"
     },
     "metadata": {},
     "output_type": "display_data"
    }
   ],
   "source": [
    "import bokeh.plotting\n",
    "from bokeh.models import Range1d, LinearAxis, Div, HoverTool\n",
    "from bokeh.io import show\n",
    "from bokeh.io import output_notebook, reset_output, output_file\n",
    "from bokeh.palettes import d3\n",
    "output_notebook()"
   ]
  },
  {
   "cell_type": "code",
   "execution_count": 4,
   "metadata": {
    "ExecuteTime": {
     "end_time": "2021-05-16T16:59:48.654692Z",
     "start_time": "2021-05-16T16:59:47.315274Z"
    }
   },
   "outputs": [],
   "source": [
    "from get_stock_price import StockDatabase"
   ]
  },
  {
   "cell_type": "code",
   "execution_count": 5,
   "metadata": {
    "ExecuteTime": {
     "end_time": "2021-05-16T16:59:48.702565Z",
     "start_time": "2021-05-16T16:59:48.664667Z"
    }
   },
   "outputs": [],
   "source": [
    "from utils import get_previous_workday_intraday_datetime, get_next_workday_intraday_datetime, get_naive_datetime_from_datetime"
   ]
  },
  {
   "cell_type": "code",
   "execution_count": 6,
   "metadata": {
    "ExecuteTime": {
     "end_time": "2021-05-16T16:59:48.733484Z",
     "start_time": "2021-05-16T16:59:48.711541Z"
    }
   },
   "outputs": [],
   "source": [
    "from utils import py_restart\n",
    "from utils import py_workdays"
   ]
  },
  {
   "cell_type": "markdown",
   "metadata": {},
   "source": [
    "## データベース "
   ]
  },
  {
   "cell_type": "code",
   "execution_count": 7,
   "metadata": {
    "ExecuteTime": {
     "end_time": "2021-05-16T16:59:49.016725Z",
     "start_time": "2021-05-16T16:59:48.743456Z"
    }
   },
   "outputs": [],
   "source": [
    "db_path = Path(\"E:/システムトレード入門/trade_system_git_workspace/db/sub_stock_db/nikkei_255_stock_v2.db\")\n",
    "stock_db = StockDatabase(db_path)"
   ]
  },
  {
   "cell_type": "code",
   "execution_count": 8,
   "metadata": {
    "ExecuteTime": {
     "end_time": "2021-05-16T16:59:51.172968Z",
     "start_time": "2021-05-16T16:59:49.033680Z"
    }
   },
   "outputs": [
    {
     "data": {
      "text/plain": [
       "array([datetime.date(2020, 11, 2), datetime.date(2020, 11, 4),\n",
       "       datetime.date(2020, 11, 5), datetime.date(2020, 11, 6),\n",
       "       datetime.date(2020, 11, 9), datetime.date(2020, 11, 10),\n",
       "       datetime.date(2020, 11, 11), datetime.date(2020, 11, 12),\n",
       "       datetime.date(2020, 11, 13), datetime.date(2020, 11, 16),\n",
       "       datetime.date(2020, 11, 17), datetime.date(2020, 11, 18),\n",
       "       datetime.date(2020, 11, 19), datetime.date(2020, 11, 20),\n",
       "       datetime.date(2020, 11, 24), datetime.date(2020, 11, 25),\n",
       "       datetime.date(2020, 11, 26), datetime.date(2020, 11, 27),\n",
       "       datetime.date(2020, 11, 30)], dtype=object)"
      ]
     },
     "execution_count": 8,
     "metadata": {},
     "output_type": "execute_result"
    }
   ],
   "source": [
    "jst_timezone = timezone(\"Asia/Tokyo\")\n",
    "all_start_datetime = jst_timezone.localize(datetime.datetime(2020,11,1,0,0,0))\n",
    "all_end_datetime = jst_timezone.localize(datetime.datetime(2020,12,1,0,0,0))\n",
    "py_workdays.get_workdays_jp(all_start_datetime.date(), all_end_datetime.date())"
   ]
  },
  {
   "cell_type": "code",
   "execution_count": 9,
   "metadata": {
    "ExecuteTime": {
     "end_time": "2021-05-16T16:59:51.205874Z",
     "start_time": "2021-05-16T16:59:51.187926Z"
    }
   },
   "outputs": [],
   "source": [
    "#start_datetime = jst_timezone.localize(datetime.datetime(2020,11,10,9,0,0))\n",
    "#end_datetime = jst_timezone.localize(datetime.datetime(2020,11,20,15,0,0))\n",
    "#stock_list = [\"4755\",\"9984\",\"6701\",\"7203\",\"7267\"]\n",
    "\n",
    "#stock_df = stock_db.search_span(stock_names=stock_list, \n",
    "#                                start_datetime=start_datetime,\n",
    "#                                end_datetime=end_datetime,\n",
    "#                                freq_str=\"5T\",\n",
    "#                                to_tokyo=True\n",
    "#                               )\n",
    "\n",
    "#stock_df"
   ]
  },
  {
   "cell_type": "markdown",
   "metadata": {},
   "source": [
    "## 各種エラー "
   ]
  },
  {
   "cell_type": "code",
   "execution_count": 10,
   "metadata": {
    "ExecuteTime": {
     "end_time": "2021-05-16T16:59:51.363454Z",
     "start_time": "2021-05-16T16:59:51.217842Z"
    }
   },
   "outputs": [],
   "source": [
    "class TradeSysteBaseError(Exception):\n",
    "    \"\"\"\n",
    "    TradeSystem全体で利用する例外の基底クラス\n",
    "    \"\"\"\n",
    "    pass"
   ]
  },
  {
   "cell_type": "code",
   "execution_count": 11,
   "metadata": {
    "ExecuteTime": {
     "end_time": "2021-05-16T16:59:51.394373Z",
     "start_time": "2021-05-16T16:59:51.373428Z"
    }
   },
   "outputs": [],
   "source": [
    "class UnitStateError(TradeSysteBaseError):\n",
    "    \"\"\"\n",
    "    UnitあるいはStateに関するクラスのベースクラス\n",
    "    \"\"\"\n",
    "    pass"
   ]
  },
  {
   "cell_type": "code",
   "execution_count": 12,
   "metadata": {
    "ExecuteTime": {
     "end_time": "2021-05-16T16:59:51.441245Z",
     "start_time": "2021-05-16T16:59:51.404347Z"
    }
   },
   "outputs": [],
   "source": [
    "class UnitStateHasNanError(UnitStateError):\n",
    "    \"\"\"\n",
    "    DataSupplyUnitの要素の代入時にNaNをチェックする\n",
    "    \"\"\"\n",
    "    def __init__(self, err_str=None):\n",
    "        \"\"\"\n",
    "        err_str:\n",
    "            エラーメッセージ\n",
    "        \"\"\"\n",
    "        self.err_str = err_str\n",
    "    def __str__(self):\n",
    "        if self.err_str is None:\n",
    "            return \"This Unit has nan data\"\n",
    "        else:\n",
    "            return self.err_str"
   ]
  },
  {
   "cell_type": "code",
   "execution_count": 13,
   "metadata": {
    "ExecuteTime": {
     "end_time": "2021-05-16T16:59:51.488120Z",
     "start_time": "2021-05-16T16:59:51.450223Z"
    }
   },
   "outputs": [],
   "source": [
    "class UnitStateHasWrongLengthError(UnitStateError):\n",
    "    \"\"\"\n",
    "    Unitのnameを基準に特定のフィールドの長さをチェックする\n",
    "    \"\"\"\n",
    "    def __init__(self, err_str=None):\n",
    "        \"\"\"\n",
    "        err_str:\n",
    "            エラーメッセージ\n",
    "        \"\"\"\n",
    "        self.err_str = err_str\n",
    "    def __str__(self):\n",
    "        if self.err_str is None:\n",
    "            return \"This Unit has wrong length\"\n",
    "        else:\n",
    "            return self.err_str"
   ]
  },
  {
   "cell_type": "code",
   "execution_count": 14,
   "metadata": {
    "ExecuteTime": {
     "end_time": "2021-05-16T16:59:51.534995Z",
     "start_time": "2021-05-16T16:59:51.498093Z"
    }
   },
   "outputs": [],
   "source": [
    "class PortfolioVectorInvalidError(TradeSysteBaseError):\n",
    "    \"\"\"\n",
    "    portfolio vector が有効かどうかチェックする\n",
    "    \"\"\"\n",
    "    def __init__(self, err_str=None):\n",
    "        \"\"\"\n",
    "        err_str:\n",
    "            エラーメッセージ\n",
    "        \"\"\"\n",
    "        self.err_str = err_str\n",
    "    def __str__(self):\n",
    "        if self.err_str is None:\n",
    "            return \"This portfolio is invalid\"\n",
    "        else:\n",
    "            return self.err_str"
   ]
  },
  {
   "cell_type": "code",
   "execution_count": 15,
   "metadata": {
    "ExecuteTime": {
     "end_time": "2021-05-16T16:59:51.566909Z",
     "start_time": "2021-05-16T16:59:51.544970Z"
    }
   },
   "outputs": [],
   "source": [
    "class CannotGetAllDataError(TradeSysteBaseError):\n",
    "    \"\"\"\n",
    "    PriceSupplierでデータの取得が出来なかった場合の例外\n",
    "    \"\"\"\n",
    "    def __init__(self, err_str=None):\n",
    "        \"\"\"\n",
    "        err_str:\n",
    "            エラーメッセージ\n",
    "        \"\"\"\n",
    "        self.err_str = err_str\n",
    "    def __str__(self):\n",
    "        if self.err_str is None:\n",
    "            return \"Cannot get all data.\"\n",
    "        else:\n",
    "            return self.err_str"
   ]
  },
  {
   "cell_type": "markdown",
   "metadata": {},
   "source": [
    "## 供給データ単位クラス"
   ]
  },
  {
   "cell_type": "markdown",
   "metadata": {},
   "source": [
    "供給されるデータの単位"
   ]
  },
  {
   "cell_type": "code",
   "execution_count": 16,
   "metadata": {
    "ExecuteTime": {
     "end_time": "2021-05-16T16:59:51.694568Z",
     "start_time": "2021-05-16T16:59:51.587855Z"
    }
   },
   "outputs": [],
   "source": [
    "@dataclass\n",
    "class DataSupplyUnit:\n",
    "    \"\"\"\n",
    "    DataSupplierによって提供されるデータクラス\n",
    "    nan_check: bool\n",
    "        初期化時にnanをチェックするかどうか．デバッグ時に利用する\n",
    "    length_check: bool\n",
    "        初期化時にlengthをチェックするかどうか，デバッグ時に利用する．\n",
    "    \"\"\"\n",
    "    nan_check = False\n",
    "    length_check = False\n",
    "    \n",
    "    names: np.ndarray # 銘柄名\n",
    "    key_currency_index: int  # 基軸通貨のインデックス\n",
    "    datetime: datetime.datetime  # データの日時\n",
    "    window: np.ndarray  # データのウィンドウ\n",
    "    open_array: np.ndarray  # [銘柄名, ウィンドウ(時間)]に対応する始値\n",
    "    close_array: np.ndarray # [銘柄名, ウィンドウ(時間)]に対応する終値\n",
    "    high_array: np.ndarray  # [銘柄名, ウィンドウ(時間)]に対応する高値\n",
    "    low_array: np.ndarray  # [銘柄名, ウィンドウ(時間)]に対応する低値\n",
    "    volume_array: np.ndarray  # [銘柄名, ウィンドウ(時間)]に対応する取引量\n",
    "        \n",
    "    def _replace(self, **kwargs):\n",
    "        \"\"\"\n",
    "        namedtupleとの互換性のため\n",
    "        \"\"\"\n",
    "        return dataclasses.replace(self, **kwargs)\n",
    "        \n",
    "    def __post_init__(self):\n",
    "        # nanが含まれるがチェック\n",
    "        if DataSupplyUnit.nan_check:\n",
    "            for field in dataclasses.fields(self):\n",
    "                value = getattr(self, field.name)\n",
    "                if isinstance(value, np.ndarray):\n",
    "                    if np.isnan(value).sum() > 0:\n",
    "                        raise UnitStateHasNanError(\"This Unit has nan data about {}\".format(field.name))\n",
    "                    \n",
    "        # 長さが適切かチェック\n",
    "        if DataSupplyUnit.length_check:\n",
    "            name_length = len(self.names)\n",
    "            window_length = len(self.window)\n",
    "            for field in dataclasses.fields(self):\n",
    "                if field.name in {\"open_array\", \"close_array\", \"high_array\", \"low_array\", \"volume_array\"}:\n",
    "                    value = getattr(self, field.name)\n",
    "                    if value.shape[0]!=name_length or value.shape[1]!=window_length:\n",
    "                        err_str = \"This Unit has wrong legnth about {}({}) with names({}) and window({})\".format(field.name,\n",
    "                                                                                                                value.shape,\n",
    "                                                                                                                name_length,\n",
    "                                                                                                                window_length\n",
    "                                                                                                               )\n",
    "                        raise UnitStateHasWrongLengthError(err_str)\n",
    "                        \n",
    "    def __str__(self):\n",
    "        return_str = \"DataSupplyUnit( \\n\"\n",
    "        for field in dataclasses.fields(self):\n",
    "            return_str += field.name + \"=\"\n",
    "            return_str += str(getattr(self, field.name)) + \"\\n\"\n",
    "        return_str += \")\"\n",
    "        return return_str"
   ]
  },
  {
   "cell_type": "code",
   "execution_count": 17,
   "metadata": {
    "ExecuteTime": {
     "end_time": "2021-05-16T16:59:51.741443Z",
     "start_time": "2021-05-16T16:59:51.704544Z"
    }
   },
   "outputs": [],
   "source": [
    "field_list = [\"names\",  # 銘柄名\n",
    "              \"key_currency_index\",  # 基軸通貨のインデックス\n",
    "              \"datetime\",  # データの日時\n",
    "              \"window\",  # データのウィンドウ\n",
    "              \"open_array\",  # [銘柄名, ウィンドウ(時間)]に対応する始値\n",
    "              \"close_array\",  # [銘柄名, ウィンドウ(時間)]に対応する終値\n",
    "              \"high_array\",  # [銘柄名, ウィンドウ(時間)]に対応する高値\n",
    "              \"low_array\",  # [銘柄名, ウィンドウ(時間)]に対応する低値\n",
    "              \"volume_array\"  # [銘柄名, ウィンドウ(時間)]に対応する取引量\n",
    "             ]\n",
    "\n",
    "DataSupplyUnitBaseLegacy = namedtuple(\"DataSupplyUnitBase\", field_list)"
   ]
  },
  {
   "cell_type": "code",
   "execution_count": 18,
   "metadata": {
    "ExecuteTime": {
     "end_time": "2021-05-16T16:59:51.835193Z",
     "start_time": "2021-05-16T16:59:51.751418Z"
    }
   },
   "outputs": [],
   "source": [
    "class DataSupplyUnitLegacy(DataSupplyUnitBaseLegacy):\n",
    "    \"\"\"\n",
    "    DataSupplierによって提供されるデータクラス\n",
    "    \"\"\"    \n",
    "    def __str__(self):\n",
    "        return_str = \"DataSupplyUnit( \\n\"\n",
    "        for field_str in self._fields:\n",
    "            return_str += field_str + \"=\"\n",
    "            return_str += str(getattr(self, field_str)) + \"\\n\"\n",
    "        return_str += \")\"\n",
    "        return return_str"
   ]
  },
  {
   "cell_type": "code",
   "execution_count": 19,
   "metadata": {
    "ExecuteTime": {
     "end_time": "2021-05-16T16:59:51.883063Z",
     "start_time": "2021-05-16T16:59:51.846165Z"
    }
   },
   "outputs": [],
   "source": [
    "one_data = DataSupplyUnit(names=[\"yen\", \"1001\"],\n",
    "                          key_currency_index=0,\n",
    "                          datetime=datetime.datetime(2021,1,1,0,0,0),\n",
    "                          window=[0,1,2,3,4,5],\n",
    "                          open_array=np.random.randn(2,6),\n",
    "                          close_array=np.random.randn(2,6),\n",
    "                          high_array=np.random.randn(2,6),\n",
    "                          low_array=np.random.randn(2,6),\n",
    "                          volume_array=np.random.randn(2,6),\n",
    "                         )"
   ]
  },
  {
   "cell_type": "code",
   "execution_count": 20,
   "metadata": {
    "ExecuteTime": {
     "end_time": "2021-05-16T16:59:51.962851Z",
     "start_time": "2021-05-16T16:59:51.896031Z"
    }
   },
   "outputs": [
    {
     "name": "stdout",
     "output_type": "stream",
     "text": [
      "DataSupplyUnit( \n",
      "names=['yen', '1001']\n",
      "key_currency_index=1\n",
      "datetime=2021-01-01 00:00:00\n",
      "window=[0, 1, 2, 3, 4, 5]\n",
      "open_array=[[-2.46086912 -0.29698881 -0.94595102 -0.11715126  0.46115428  0.99789728]\n",
      " [ 0.74899831  0.41301326  2.01182024  1.24920223 -0.85768828 -1.17297692]]\n",
      "close_array=[[-2.01160265  1.06516988 -2.13737677  0.31026899 -0.79163907  0.14683007]\n",
      " [ 0.75802278 -1.17579648  0.21154641 -0.11701126 -0.08771416 -0.44781868]]\n",
      "high_array=[[-1.26037968 -0.07875948  0.99727484  0.07124897 -0.82444633 -0.87080915]\n",
      " [-1.40382389 -0.19113419  0.1745096   2.12288992  0.2119474  -0.24939449]]\n",
      "low_array=[[ 0.52503803  0.03775045  0.15230883  0.50161717 -1.51039851  0.832638  ]\n",
      " [-0.37030725 -0.97222775  1.01395242 -0.78068852 -0.1444807  -1.18807366]]\n",
      "volume_array=[[-2.22273904  0.20870182 -0.73168597 -0.21897255 -0.65419244 -0.77002569]\n",
      " [ 1.31651206  0.59086533 -1.15464844  0.62154546  1.43489462 -0.03759869]]\n",
      ")\n"
     ]
    }
   ],
   "source": [
    "print(one_data._replace(key_currency_index=1))"
   ]
  },
  {
   "cell_type": "code",
   "execution_count": 21,
   "metadata": {
    "ExecuteTime": {
     "end_time": "2021-05-16T16:59:52.012718Z",
     "start_time": "2021-05-16T16:59:51.979808Z"
    }
   },
   "outputs": [],
   "source": [
    "DataSupplyUnit.nan_check = True\n",
    "DataSupplyUnit.length_check = True"
   ]
  },
  {
   "cell_type": "code",
   "execution_count": 22,
   "metadata": {
    "ExecuteTime": {
     "end_time": "2021-05-16T16:59:52.105471Z",
     "start_time": "2021-05-16T16:59:52.037684Z"
    }
   },
   "outputs": [],
   "source": [
    "nan_array = np.ones((2,6))\n",
    "nan_array.fill(np.nan)\n",
    "one_data = DataSupplyUnit(names=[\"yen\", \"1001\"],\n",
    "                          key_currency_index=0,\n",
    "                          datetime=datetime.datetime(2021,1,1,0,0,0),\n",
    "                          window=[0,1,2,3,4,5],\n",
    "                          open_array=np.random.randn(2,6),\n",
    "                          #open_array=nan_array,\n",
    "                          close_array=np.random.randn(2,6),\n",
    "                          high_array=np.random.randn(2,6),\n",
    "                          low_array=np.random.randn(2,6),\n",
    "                          volume_array=np.random.randn(2,6),\n",
    "                         )"
   ]
  },
  {
   "cell_type": "markdown",
   "metadata": {},
   "source": [
    "## ポートフォリオ状態クラス "
   ]
  },
  {
   "cell_type": "markdown",
   "metadata": {},
   "source": [
    "ポートフォリオの状態を表すクラス"
   ]
  },
  {
   "cell_type": "code",
   "execution_count": 23,
   "metadata": {
    "ExecuteTime": {
     "end_time": "2021-05-16T16:59:52.374751Z",
     "start_time": "2021-05-16T16:59:52.132400Z"
    }
   },
   "outputs": [],
   "source": [
    "@dataclass\n",
    "class PortfolioState:\n",
    "    \"\"\"\n",
    "    バックテスト・強化学習で利用するTransformerが提供するデータクラス．強化学習における状態を内包する．\n",
    "    nan_check: bool\n",
    "        初期化時にnanをチェックするかどうか．デバッグ時に利用する\n",
    "    length_check: bool\n",
    "        初期化時にlengthをチェックするかどうか，デバッグ時に利用する．\n",
    "    \"\"\"\n",
    "    nan_check = False\n",
    "    length_check = False\n",
    "    portfoio_check = False\n",
    "    \n",
    "    names: np.ndarray  # 銘柄名\n",
    "    key_currency_index: int  # 基軸通貨のインデックス\n",
    "    window: np.ndarray  # データのウィンドウ\n",
    "    datetime: datetime.datetime  # データの日時\n",
    "    price_array: np.ndarray  # [銘柄名, ウィンドウ(時間)]に対応する現在価格\n",
    "    volume_array: np.ndarray  # [銘柄名, ウィンドウ(時間)]に対応する取引量\n",
    "    now_price_array: np.ndarray # 銘柄名に対応する現在価格\n",
    "    portfolio_vector: np.ndarray  # ポートフォリオベクトル\n",
    "    mean_cost_price_array: np.ndarray  # 銘柄名に対応する平均取得価格\n",
    "    all_assets: float  # 基軸通貨で換算した全資産\n",
    "        \n",
    "    def _replace(self, **kwargs):\n",
    "        \"\"\"\n",
    "        namedtupleとの互換性のため，\n",
    "        \"\"\"\n",
    "        return dataclasses.replace(self, **kwargs)\n",
    "    \n",
    "    def __post_init__(self):\n",
    "        # nanが含まれるがチェック\n",
    "        if PortfolioState.nan_check:\n",
    "            for field in dataclasses.fields(self):\n",
    "                value = getattr(self, field.name)\n",
    "                if isinstance(value, np.ndarray):\n",
    "                    if np.isnan(value).sum() > 0:\n",
    "                        raise UnitStateHasNanError(\"This State has nan data about {}\".format(field.name))\n",
    "                    \n",
    "        # 長さが適切かチェック\n",
    "        if PortfolioState.length_check and self.names is not None and self.window is not None:\n",
    "            name_length = len(self.names)\n",
    "            window_length = len(self.window)\n",
    "            for field in dataclasses.fields(self):\n",
    "                if field.name in {\"price_array\", \"volume_array\"}:\n",
    "                    value = getattr(self, field.name)\n",
    "                    if value is not None:\n",
    "                        if value.shape[0]!=name_length or value.shape[1]!=window_length:\n",
    "                            err_str = \"This State has wrong legnth about {}({}) with names({}) and window({})\".format(field.name,\n",
    "                                                                                                                      value.shape,\n",
    "                                                                                                                      name_length,\n",
    "                                                                                                                      window_length\n",
    "                                                                                                                     )\n",
    "                            raise UnitStateHasWrongLengthError(err_str)\n",
    "                elif field.name in {\"now_price_array\", \"portfolio_vector\", \"mean_cost_price_array\"}:\n",
    "                    value = getattr(self, field.name)\n",
    "                    if value is not None:\n",
    "                        if len(value.shape)!=1 or value.shape[0]!=name_length:\n",
    "                            err_str = \"This State has wrong length about {}({}) with names({})\".format(field.name,\n",
    "                                                                                                       value.shape,\n",
    "                                                                                                       name_length\n",
    "                                                                                                      )\n",
    "                            raise UnitStateHasWrongLengthError(err_str)\n",
    "        \n",
    "        #portfolioの和が適切かチェック\n",
    "        if PortfolioState.portfoio_check:\n",
    "            portfolio_vector = self.portfolio_vector\n",
    "            # nanのチェック\n",
    "            if portfolio_vector is not None:\n",
    "                if np.isnan(portfolio_vector).sum() > 0:\n",
    "                    raise PortfolioVectorInvalidError(\"This portfolio has nan\")\n",
    "\n",
    "                # 上限と下限のチェック\n",
    "                upper_bool = portfolio_vector > 1\n",
    "                lower_bool = portfolio_vector < 0\n",
    "                if upper_bool.sum() > 0 or lower_bool.sum() > 0:\n",
    "                    raise PortfolioVectorInvalidError(\"This portfolio is not in (0,1).{}\".format(portfolio_vector))\n",
    "\n",
    "                # 和のチェック\n",
    "                if abs(portfolio_vector.sum() - 1) > 1.e-5:\n",
    "                    raise PortfolioVectorInvalidError(\"The portfolio sum is must be 1. This portfolio is {}, sum is {}\".format(portfolio_vector,\n",
    "                                                                                                                               portfolio_vector.sum()))\n",
    "                \n",
    "    @property\n",
    "    def numbers(self):\n",
    "        \"\"\"\n",
    "        保有量のプロパティ\n",
    "        \"\"\"\n",
    "        return self.all_assets*self.portfolio_vector/self.now_price_array\n",
    "    \n",
    "    def __str__(self):\n",
    "        return_str = \"PortfolioState( \\n\"\n",
    "        for field in dataclasses.fields(self):\n",
    "            return_str += field.name + \"=\"\n",
    "            return_str += str(getattr(self, field.name)) + \"\\n\"\n",
    "        return_str += \")\"\n",
    "        return return_str\n",
    "    \n",
    "    def copy(self):\n",
    "        \"\"\"\n",
    "        自身のコビーを返す．ndarrayのプロパティの場合はそのコビーを保持する．\n",
    "        \"\"\"\n",
    "        arg_dict = {}\n",
    "        for field in dataclasses.fields(self):\n",
    "            field_value = getattr(self, field.name)\n",
    "            if isinstance(field_value, np.ndarray):\n",
    "                field_value = field_value.copy()\n",
    "            \n",
    "            arg_dict[field.name] = field_value\n",
    "        \n",
    "        return PortfolioState(**arg_dict)\n",
    "    \n",
    "    def partial(self, *args):\n",
    "        \"\"\"\n",
    "        str:\n",
    "            フィールド名\n",
    "        メモリ等の状況によって，自身の部分的なコビーを返す．\n",
    "        引数にを耐えられなかったプロパティはNoneとなる．\n",
    "        \"\"\"\n",
    "        arg_dict = {}\n",
    "        for field in dataclasses.fields(self):\n",
    "            if field.name in args:\n",
    "                field_value = getattr(self, field.name)\n",
    "                if isinstance(field_value, np.ndarray):\n",
    "                    field_value = field_value.copy()\n",
    "            else:\n",
    "                field_value = None\n",
    "            \n",
    "            arg_dict[field.name] = field_value\n",
    "            \n",
    "        return PortfolioState(**arg_dict)"
   ]
  },
  {
   "cell_type": "code",
   "execution_count": 24,
   "metadata": {
    "ExecuteTime": {
     "end_time": "2021-05-16T16:59:52.422624Z",
     "start_time": "2021-05-16T16:59:52.397693Z"
    }
   },
   "outputs": [],
   "source": [
    "field_list = [\"names\",  # 銘柄名\n",
    "              \"key_currency_index\",  # 基軸通貨のインデックス\n",
    "              \"window\",  # データのウィンドウ\n",
    "              \"datetime\",  # データの日時\n",
    "              \"price_array\",  # [銘柄名, ウィンドウ(時間)]に対応する現在価格\n",
    "              \"volume_array\",  # [銘柄名, ウィンドウ(時間)]に対応する取引量\n",
    "              \"now_price_array\",  # 銘柄名に対応する現在価格\n",
    "              \"portfolio_vector\",  # ポートフォリオベクトル\n",
    "              \"mean_cost_price_array\",  # 銘柄名に対応する平均取得価格\n",
    "              \"all_assets\"  # 基軸通貨で換算した全資産\n",
    "             ]\n",
    "\n",
    "PortfolioStateBaseLegacy = namedtuple(\"PortfolioStateBase\", field_list)"
   ]
  },
  {
   "cell_type": "code",
   "execution_count": 25,
   "metadata": {
    "ExecuteTime": {
     "end_time": "2021-05-16T16:59:52.517368Z",
     "start_time": "2021-05-16T16:59:52.434592Z"
    }
   },
   "outputs": [],
   "source": [
    "class PortfolioStateLegacy(PortfolioStateBaseLegacy):\n",
    "    \"\"\"\n",
    "    バックテスト・強化学習で利用するTransformerが提供するデータクラス．強化学習における状態を内包する．\n",
    "    \"\"\"\n",
    "    \n",
    "    @property\n",
    "    def numbers(self):\n",
    "        \"\"\"\n",
    "        保有量のプロパティ\n",
    "        \"\"\"\n",
    "        return self.all_assets*self.portfolio_vector/self.now_price_array\n",
    "    \n",
    "    def __str__(self):\n",
    "        return_str = \"PortfolioState( \\n\"\n",
    "        for field_str in self._fields:\n",
    "            return_str += field_str + \"=\"\n",
    "            return_str += str(getattr(self, field_str)) + \"\\n\"\n",
    "        return_str += \")\"\n",
    "        return return_str\n",
    "    \n",
    "    def copy(self):\n",
    "        \"\"\"\n",
    "        自身のコビーを返す．ndarrayのプロパティの場合はそのコビーを保持する．\n",
    "        \"\"\"\n",
    "        arg_dict = {}\n",
    "        for field_str in self._fields:\n",
    "            field_value = getattr(self, field_str)\n",
    "            if isinstance(field_value, np.ndarray):\n",
    "                field_value = field_value.copy()\n",
    "            \n",
    "            arg_dict[field_str] = field_value\n",
    "        \n",
    "        return PortfolioState(**arg_dict)\n",
    "    \n",
    "    def partial(self, *args):\n",
    "        \"\"\"\n",
    "        メモリ等の状況によって，自身の部分的なコビーを返す．\n",
    "        引数にを耐えられなかったプロパティはNoneとなる．\n",
    "        \"\"\"\n",
    "        arg_dict = {}\n",
    "        for field_str in self._fields:\n",
    "            if field_str in args:\n",
    "                field_value = getattr(self, field_str)\n",
    "                if isinstance(field_value, np.ndarray):\n",
    "                    field_value = field_value.copy()\n",
    "            else:\n",
    "                field_value = None\n",
    "            \n",
    "            arg_dict[field_str] = field_value\n",
    "            \n",
    "        return PortfolioState(**arg_dict)"
   ]
  },
  {
   "cell_type": "code",
   "execution_count": 26,
   "metadata": {
    "ExecuteTime": {
     "end_time": "2021-05-16T16:59:52.613114Z",
     "start_time": "2021-05-16T16:59:52.534323Z"
    }
   },
   "outputs": [],
   "source": [
    "one_state = PortfolioState(names=[\"yen\", \"1001\"],\n",
    "                           key_currency_index=0,\n",
    "                           window=[0,1,2,3,4,5],\n",
    "                           datetime=datetime.datetime(2021,1,1,0,0,0),\n",
    "                           price_array=np.random.randn(2,6),\n",
    "                           volume_array=np.random.randn(2,6),\n",
    "                           now_price_array=np.random.randn(2),\n",
    "                           portfolio_vector=softmax(np.random.randn(2)),\n",
    "                           mean_cost_price_array=np.random.randn(2),\n",
    "                           all_assets=0.0\n",
    "                          )"
   ]
  },
  {
   "cell_type": "code",
   "execution_count": 27,
   "metadata": {
    "ExecuteTime": {
     "end_time": "2021-05-16T16:59:52.660989Z",
     "start_time": "2021-05-16T16:59:52.636054Z"
    }
   },
   "outputs": [
    {
     "data": {
      "text/plain": [
       "PortfolioState(names=None, key_currency_index=None, window=None, datetime=None, price_array=array([[-0.27430205, -3.14816403, -1.89134297, -1.03645375,  0.34069869,\n",
       "         1.58588662],\n",
       "       [-0.24978724, -0.3689629 , -1.20437877,  0.73555293, -0.45110398,\n",
       "        -1.88829181]]), volume_array=None, now_price_array=None, portfolio_vector=None, mean_cost_price_array=None, all_assets=0.0)"
      ]
     },
     "execution_count": 27,
     "metadata": {},
     "output_type": "execute_result"
    }
   ],
   "source": [
    "one_state.partial(\"price_array\", \"all_assets\")"
   ]
  },
  {
   "cell_type": "code",
   "execution_count": 28,
   "metadata": {
    "ExecuteTime": {
     "end_time": "2021-05-16T16:59:52.724813Z",
     "start_time": "2021-05-16T16:59:52.671955Z"
    }
   },
   "outputs": [
    {
     "data": {
      "text/plain": [
       "PortfolioState(names=['yen', '1001'], key_currency_index=0, window=[0, 1, 2, 3, 4, 5], datetime=datetime.datetime(2021, 1, 1, 0, 0), price_array=array([[-0.27430205, -3.14816403, -1.89134297, -1.03645375,  0.34069869,\n",
       "         1.58588662],\n",
       "       [-0.24978724, -0.3689629 , -1.20437877,  0.73555293, -0.45110398,\n",
       "        -1.88829181]]), volume_array=array([[ 1.34955198,  0.4610457 , -0.34570845, -1.033738  ,  0.12565952,\n",
       "         0.49431434],\n",
       "       [-0.31804065,  0.10197688, -0.75993242,  0.47408216, -0.72430029,\n",
       "         0.78337566]]), now_price_array=array([1.06240658, 0.18421778]), portfolio_vector=array([0.35014591, 0.64985409]), mean_cost_price_array=array([1.44776833, 0.7497053 ]), all_assets=0.0)"
      ]
     },
     "execution_count": 28,
     "metadata": {},
     "output_type": "execute_result"
    }
   ],
   "source": [
    "one_state.copy()"
   ]
  },
  {
   "cell_type": "code",
   "execution_count": 29,
   "metadata": {
    "ExecuteTime": {
     "end_time": "2021-05-16T16:59:52.756727Z",
     "start_time": "2021-05-16T16:59:52.734788Z"
    }
   },
   "outputs": [],
   "source": [
    "PortfolioState.nan_check = True\n",
    "PortfolioState.length_check = True\n",
    "PortfolioState.portfoio_check = True"
   ]
  },
  {
   "cell_type": "code",
   "execution_count": 30,
   "metadata": {
    "ExecuteTime": {
     "end_time": "2021-05-16T16:59:52.836515Z",
     "start_time": "2021-05-16T16:59:52.773683Z"
    }
   },
   "outputs": [],
   "source": [
    "one_state = PortfolioState(names=[\"yen\", \"1001\"],\n",
    "                           key_currency_index=0,\n",
    "                           window=[0,1,2,3,4,5],\n",
    "                           datetime=datetime.datetime(2021,1,1,0,0,0),\n",
    "                           price_array=np.random.randn(2,6),\n",
    "                           volume_array=np.random.randn(2,6),\n",
    "                           now_price_array=np.random.randn(2),\n",
    "                           portfolio_vector=softmax(np.random.randn(2)),\n",
    "                           mean_cost_price_array=np.random.randn(2),\n",
    "                           all_assets=0.0\n",
    "                          )"
   ]
  },
  {
   "cell_type": "markdown",
   "metadata": {},
   "source": [
    "## データの供給クラス "
   ]
  },
  {
   "cell_type": "code",
   "execution_count": 31,
   "metadata": {
    "ExecuteTime": {
     "end_time": "2021-05-16T16:59:52.868429Z",
     "start_time": "2021-05-16T16:59:52.848487Z"
    }
   },
   "outputs": [],
   "source": [
    "class PriceSuppliier(metaclass=ABCMeta):\n",
    "    \"\"\"\n",
    "    PriceSupplierの基底クラス．このインターフェースを実装していればよい\n",
    "    \"\"\"\n",
    "    @abstractmethod\n",
    "    def reset(self, start_datetime, window):\n",
    "        pass\n",
    "    \n",
    "    @abstractmethod\n",
    "    def step(self):\n",
    "        pass"
   ]
  },
  {
   "cell_type": "markdown",
   "metadata": {},
   "source": [
    "今回は株価データベースを用いて価格を供給する．"
   ]
  },
  {
   "cell_type": "code",
   "execution_count": 32,
   "metadata": {
    "ExecuteTime": {
     "end_time": "2021-05-16T16:59:53.249412Z",
     "start_time": "2021-05-16T16:59:52.882395Z"
    }
   },
   "outputs": [],
   "source": [
    "class StockDBPriceSupplier(PriceSuppliier):\n",
    "    \"\"\"\n",
    "    StockDatabaseに対応するPriceSupplier\n",
    "    \"\"\"\n",
    "    def __init__(self, stock_db, ticker_names, episode_length, freq_str, interpolate=True):\n",
    "        \"\"\"\n",
    "        stock_db: get_stock_price.StockDatabase\n",
    "            利用するStockDatabaseクラス\n",
    "        ticker_names: list of str\n",
    "            利用する銘柄名のリスト\n",
    "        episode_length: int\n",
    "            エピソードの長さ\n",
    "        freq_str: str\n",
    "            利用する周期を表す文字列\n",
    "        interpolate: bool\n",
    "            補間するかどうか\n",
    "        \"\"\"\n",
    "        self.stock_db = stock_db\n",
    "        self.ticker_names = ticker_names\n",
    "        self.episode_length = episode_length\n",
    "        self.freq_str = freq_str        \n",
    "        self.interpolate = interpolate\n",
    "        \n",
    "    def reset(self, start_datetime, window=np.array([0])):\n",
    "        \"\"\"\n",
    "        Parameters\n",
    "        ----------\n",
    "        start_datetime: datetime.datetime \n",
    "            データ供給の開始時刻\n",
    "        window: ndarray\n",
    "            データ供給のウィンドウ\n",
    "        \n",
    "        Returns\n",
    "        -------\n",
    "        DatasupplyUnit\n",
    "            提供する価格データ\n",
    "        bool\n",
    "            エピソードが終了したかどうか\n",
    "        \"\"\"\n",
    "        # 終了時刻を求める\n",
    "        # 全datetimeデータを保持\n",
    "        assert 0 in window\n",
    "        if not isinstance(window, np.ndarray):\n",
    "            self.window = np.array(window)\n",
    "        else:\n",
    "            self.window = window\n",
    "            \n",
    "        if isinstance(self.ticker_names, np.ndarray):\n",
    "            self.ticker_names = self.ticker_names.tolist()\n",
    "        \n",
    "        if len(self.ticker_names)!=len(set(self.ticker_names)):\n",
    "            raise Exception(\"Ticker_names is duplicate\")\n",
    "        \n",
    "        min_window = min(self.window)\n",
    "        max_window = max(self.window)\n",
    "        \n",
    "        if min_window <= 0:\n",
    "            episode_start_datetime = get_previous_workday_intraday_datetime(start_datetime, self.freq_str, abs(min_window))\n",
    "        else:\n",
    "            episode_start_datetime = get_next_workday_intraday_datetime(start_datetime, self.freq_str, min_window)\n",
    "            \n",
    "        if self.episode_length+max_window <= 0:  # 基本的にあり得ない\n",
    "            episode_end_datetime = get_previous_workday_intraday_datetime(start_datetime, self.freq_str, abs(self.episode_length+max_window))\n",
    "        else:\n",
    "            episode_end_datetime = get_next_workday_intraday_datetime(start_datetime, self.freq_str, self.episode_length+max_window)\n",
    "        \n",
    "        episode_df = self.stock_db.search_span(stock_names=self.ticker_names,\n",
    "                                               start_datetime=episode_start_datetime,\n",
    "                                               end_datetime=episode_end_datetime,\n",
    "                                               freq_str=self.freq_str,\n",
    "                                               is_end_include=True,  # 最後の値も含める\n",
    "                                               to_tokyo=True,  #必ずTrueに\n",
    "                                              )\n",
    "        \n",
    "        if episode_df is None:\n",
    "            raise CannotGetAllDataError(\"This ticker names not in stockdb\")\n",
    "        \n",
    "        if len(self.ticker_names)*5!=len(episode_df.columns):\n",
    "            err_str = \"Cannot get dataframe from stockdb.\"\n",
    "            raise CannotGetAllDataError(err_str)\n",
    "        \n",
    "        self.episode_df = py_workdays.extract_workdays_intraday_jp(episode_df)\n",
    "        \n",
    "        # 各OHLCVに対応するboolを求めておく\n",
    "        column_names_array = self.episode_df.columns.values.astype(str)\n",
    "        self.open_bool_array = np.char.startswith(column_names_array, \"Open\")\n",
    "        self.high_bool_array = np.char.startswith(column_names_array, \"High\")\n",
    "        self.low_bool_array = np.char.startswith(column_names_array, \"Low\")\n",
    "        self.close_bool_array = np.char.startswith(column_names_array, \"Close\")\n",
    "        self.volume_bool_array = np.char.startswith(column_names_array, \"Volume\")\n",
    "        \n",
    "        \n",
    "        all_datetime_index = pd.date_range(start=episode_start_datetime,\n",
    "                                           end=episode_end_datetime,\n",
    "                                           freq=self.freq_str,\n",
    "                                           closed=\"left\"\n",
    "                                          )\n",
    "        \n",
    "        self.all_datetime_index = py_workdays.extract_workdays_intraday_jp_index(all_datetime_index)\n",
    "        \n",
    "        # episode_dfの補間\n",
    "        if self.interpolate:\n",
    "            add_datetime_bool = ~self.all_datetime_index.isin(self.episode_df.index)\n",
    "            \n",
    "            # 補間を行う数が20%を越えた場合\n",
    "            if (add_datetime_bool.sum()/len(self.all_datetime_index)) > 0.1:\n",
    "                err_str = \"Interpolate exceeds 10 % about tickers={}, datetimes[{},{}]\".format(self.ticker_names,\n",
    "                                                                                               episode_start_datetime,\n",
    "                                                                                               episode_end_datetime)\n",
    "                raise CannotGetAllDataError(err_str)\n",
    "            \n",
    "            add_datetime_index = self.all_datetime_index[add_datetime_bool]\n",
    "            # Noneのdfを作成\n",
    "            nan_df = pd.DataFrame(index=add_datetime_index, columns=self.episode_df.columns)\n",
    "\n",
    "            # Noneのdfを追加\n",
    "            self.episode_df = self.episode_df.append(nan_df)\n",
    "            self.episode_df.sort_index(inplace=True)\n",
    "            \n",
    "            # np.nanの補間\n",
    "            self.episode_df.interpolate(limit_direction=\"both\",inplace=True)\n",
    "        else:\n",
    "            share_index_bool = self.all_datetime_index.isin(self.episode_df.index)\n",
    "            self.all_datetime_index = self.all_datetime_index[share_index_bool]\n",
    "        \n",
    "        # dfをndarrayに変更\n",
    "        self.episode_df_values = self.episode_df.values.astype(float)\n",
    "        del self.episode_df\n",
    "        \n",
    "        self.all_datetime_index_values = self.all_datetime_index.to_pydatetime()\n",
    "        del self.all_datetime_index\n",
    "        \n",
    "        # データが正しく取得できたかどうか\n",
    "        if np.isnan(self.episode_df_values).sum() > 0:\n",
    "            err_str = \"PriceSupplier cannot get data about tickers={}, datetimes[{},{}]\".format(self.ticker_names,\n",
    "                                                                                                episode_start_datetime,\n",
    "                                                                                                episode_end_datetime)\n",
    "            raise CannotGetAllDataError(err_str)\n",
    "        \n",
    "        \n",
    "        # データの取得\n",
    "        self.now_index = abs(min_window)\n",
    "        now_datetime = self.all_datetime_index_values[self.now_index]\n",
    "        \n",
    "        add_window = self.now_index + self.window\n",
    "        window_data_value = self.episode_df_values[add_window,:]\n",
    "        \n",
    "        open_array = window_data_value[:,self.open_bool_array].T\n",
    "        high_array = window_data_value[:,self.high_bool_array].T\n",
    "        low_array = window_data_value[:,self.low_bool_array].T\n",
    "        close_array = window_data_value[:,self.close_bool_array].T\n",
    "        volume_array = window_data_value[:,self.volume_bool_array].T\n",
    "        \n",
    "        open_array = np.concatenate([np.ones((1, open_array.shape[1])), open_array], axis=0)\n",
    "        high_array = np.concatenate([np.ones((1, high_array.shape[1])), high_array], axis=0)\n",
    "        low_array = np.concatenate([np.ones((1, low_array.shape[1])), low_array], axis=0)\n",
    "        close_array = np.concatenate([np.ones((1, close_array.shape[1])), close_array], axis=0)\n",
    "        volume_array = np.concatenate([np.ones((1, volume_array.shape[1])), volume_array], axis=0)\n",
    "        \n",
    "        \n",
    "        out_ticker_names = [\"yen\"]\n",
    "        out_ticker_names.extend(self.ticker_names)\n",
    "        \n",
    "        out_unit = DataSupplyUnit(names=out_ticker_names,\n",
    "                                  key_currency_index=0,\n",
    "                                  datetime=now_datetime,\n",
    "                                  window=self.window,\n",
    "                                  open_array=open_array,\n",
    "                                  close_array=close_array,\n",
    "                                  high_array=high_array,\n",
    "                                  low_array=low_array,\n",
    "                                  volume_array=volume_array\n",
    "                                 )\n",
    "        done = False\n",
    "        return out_unit, done\n",
    "    \n",
    "    def step(self):\n",
    "        \"\"\"\n",
    "        Returns\n",
    "        -------\n",
    "        DatasupplyUnit\n",
    "            提供する価格データ\n",
    "        bool\n",
    "            エピソードが終了したかどうか\n",
    "        \"\"\"\n",
    "        # indexの更新\n",
    "        self.now_index += 1\n",
    "        now_datetime = self.all_datetime_index_values[self.now_index]\n",
    "        \n",
    "        add_window = self.now_index + self.window\n",
    "        window_data_value = self.episode_df_values[add_window,:]\n",
    "        \n",
    "        open_array = window_data_value[:,self.open_bool_array].T\n",
    "        high_array = window_data_value[:,self.high_bool_array].T\n",
    "        low_array = window_data_value[:,self.low_bool_array].T\n",
    "        close_array = window_data_value[:,self.close_bool_array].T\n",
    "        volume_array = window_data_value[:,self.volume_bool_array].T\n",
    "         \n",
    "        open_array = np.concatenate([np.ones((1, open_array.shape[1])), open_array], axis=0)\n",
    "        high_array = np.concatenate([np.ones((1, high_array.shape[1])), high_array], axis=0)\n",
    "        low_array = np.concatenate([np.ones((1, low_array.shape[1])), low_array], axis=0)\n",
    "        close_array = np.concatenate([np.ones((1, close_array.shape[1])), close_array], axis=0)\n",
    "        volume_array = np.concatenate([np.ones((1, volume_array.shape[1])), volume_array], axis=0)\n",
    "        \n",
    "        out_ticker_names = [\"yen\"]\n",
    "        out_ticker_names.extend(self.ticker_names)\n",
    "        \n",
    "        out_unit = DataSupplyUnit(names=out_ticker_names,\n",
    "                                  key_currency_index=0,\n",
    "                                  datetime=now_datetime,\n",
    "                                  window=self.window,\n",
    "                                  open_array=open_array,\n",
    "                                  close_array=close_array,\n",
    "                                  high_array=high_array,\n",
    "                                  low_array=low_array,\n",
    "                                  volume_array=volume_array\n",
    "                                 )\n",
    "        done = self.now_index >= self.episode_length\n",
    "        \n",
    "        return out_unit, done "
   ]
  },
  {
   "cell_type": "code",
   "execution_count": 33,
   "metadata": {
    "ExecuteTime": {
     "end_time": "2021-05-16T16:59:54.610779Z",
     "start_time": "2021-05-16T16:59:53.261382Z"
    }
   },
   "outputs": [
    {
     "name": "stdout",
     "output_type": "stream",
     "text": [
      "(6, 4)\n",
      "DataSupplyUnit( \n",
      "names=['yen', '4755', '9984', '6701', '7203', '7267']\n",
      "key_currency_index=0\n",
      "datetime=2020-11-10 09:00:00+09:00\n",
      "window=[0 1 2 3]\n",
      "open_array=[[1.0000e+00 1.0000e+00 1.0000e+00 1.0000e+00]\n",
      " [1.1250e+03 1.1270e+03 1.1080e+03 1.1050e+03]\n",
      " [7.0040e+03 7.0720e+03 7.0190e+03 7.0040e+03]\n",
      " [5.7300e+03 5.7000e+03 5.7300e+03 5.7100e+03]\n",
      " [7.3200e+03 7.3430e+03 7.3380e+03 7.3550e+03]\n",
      " [2.9200e+03 2.9595e+03 2.9420e+03 2.9710e+03]]\n",
      "close_array=[[1.0000e+00 1.0000e+00 1.0000e+00 1.0000e+00]\n",
      " [1.1280e+03 1.1070e+03 1.1050e+03 1.0620e+03]\n",
      " [7.0720e+03 7.0190e+03 7.0040e+03 6.9880e+03]\n",
      " [5.6800e+03 5.7200e+03 5.7100e+03 5.6900e+03]\n",
      " [7.3420e+03 7.3360e+03 7.3530e+03 7.3280e+03]\n",
      " [2.9595e+03 2.9415e+03 2.9705e+03 2.9310e+03]]\n",
      "high_array=[[1.0000e+00 1.0000e+00 1.0000e+00 1.0000e+00]\n",
      " [1.1320e+03 1.1290e+03 1.1100e+03 1.1050e+03]\n",
      " [7.0770e+03 7.0770e+03 7.0270e+03 7.0070e+03]\n",
      " [5.7300e+03 5.7300e+03 5.7400e+03 5.7200e+03]\n",
      " [7.3440e+03 7.3550e+03 7.3600e+03 7.3560e+03]\n",
      " [2.9635e+03 2.9690e+03 2.9720e+03 2.9725e+03]]\n",
      "low_array=[[1.0000e+00 1.0000e+00 1.0000e+00 1.0000e+00]\n",
      " [1.1240e+03 1.1050e+03 1.0990e+03 1.0550e+03]\n",
      " [6.9350e+03 6.9900e+03 6.9640e+03 6.9770e+03]\n",
      " [5.6700e+03 5.6800e+03 5.7000e+03 5.6800e+03]\n",
      " [7.3020e+03 7.3150e+03 7.3210e+03 7.3230e+03]\n",
      " [2.8840e+03 2.9340e+03 2.9235e+03 2.9255e+03]]\n",
      "volume_array=[[1.0000e+00 1.0000e+00 1.0000e+00 1.0000e+00]\n",
      " [8.7840e+05 5.8380e+05 2.5710e+05 7.9410e+05]\n",
      " [2.5031e+06 8.4220e+05 7.3700e+05 4.2530e+05]\n",
      " [2.6540e+05 7.0900e+04 5.5200e+04 7.5200e+04]\n",
      " [1.3002e+06 4.5750e+05 3.2870e+05 1.7930e+05]\n",
      " [1.0599e+06 4.1260e+05 2.6840e+05 2.4110e+05]]\n",
      ")\n"
     ]
    }
   ],
   "source": [
    "start_datetime = jst_timezone.localize(datetime.datetime(2020,11,10,9,0,0))\n",
    "stock_list = [\"4755\",\"9984\",\"6701\",\"7203\",\"7267\"]\n",
    "\n",
    "episode_length = 50\n",
    "\n",
    "price_supplier = StockDBPriceSupplier(stock_db=stock_db,\n",
    "                                     ticker_names=stock_list,\n",
    "                                     episode_length=episode_length,\n",
    "                                     freq_str=\"5T\",\n",
    "                                     interpolate=False\n",
    "                                    )\n",
    "#data_unit, _ = price_supplier.reset(start_datetime, window=[-3,-2,-1,0,1,2,3])\n",
    "data_unit, _ = price_supplier.reset(start_datetime, window=[0,1,2,3])\n",
    "print(data_unit.close_array.shape)\n",
    "print(data_unit)"
   ]
  },
  {
   "cell_type": "markdown",
   "metadata": {},
   "source": [
    "## ポートフォリオの制限 "
   ]
  },
  {
   "cell_type": "markdown",
   "metadata": {},
   "source": [
    "学習時にはポートフォリオベクトルに制限はもうけない．バックテストや実際の運用時に単元数・基軸通貨換算資産によって制限を設ける．これは強化学習を資産の保有率を求める問題にするためである．"
   ]
  },
  {
   "cell_type": "code",
   "execution_count": 34,
   "metadata": {
    "ExecuteTime": {
     "end_time": "2021-05-16T16:59:54.674602Z",
     "start_time": "2021-05-16T16:59:54.648674Z"
    }
   },
   "outputs": [],
   "source": [
    "class PortfilioRestrictor(metaclass=ABCMeta):\n",
    "    \"\"\"\n",
    "    ポートフォリオの制限を行う抽象基底クラス\n",
    "    restrictメソッドをオーバーライドする必要がある\n",
    "    \"\"\"\n",
    "    @abstractmethod\n",
    "    def restrict(self, portfolio_state, supplied_data_unit, portfolio_vector):\n",
    "        pass"
   ]
  },
  {
   "cell_type": "code",
   "execution_count": 35,
   "metadata": {
    "ExecuteTime": {
     "end_time": "2021-05-16T16:59:54.706519Z",
     "start_time": "2021-05-16T16:59:54.686572Z"
    }
   },
   "outputs": [],
   "source": [
    "class PortfolioRestrictorSingleKey(PortfilioRestrictor):\n",
    "    \"\"\"\n",
    "    \"\"\"\n",
    "    def __init__(self, unit_number, key_name):\n",
    "        pass\n",
    "        \n",
    "    def restrict(self, portfolio_state, supplied_data_unit, portfolio_vector):\n",
    "        pass"
   ]
  },
  {
   "cell_type": "code",
   "execution_count": 36,
   "metadata": {
    "ExecuteTime": {
     "end_time": "2021-05-16T16:59:54.738431Z",
     "start_time": "2021-05-16T16:59:54.717487Z"
    }
   },
   "outputs": [],
   "source": [
    "class PortfolioRestrictorIdentity(PortfilioRestrictor):\n",
    "    \"\"\"\n",
    "    portfolioの恒等写像を行うPortfolioRestrictor\n",
    "    \"\"\"\n",
    "    def restrict(self, portfolio_state, supplied_data_unit, portfolio_vector):\n",
    "        return portfolio_vector"
   ]
  },
  {
   "cell_type": "markdown",
   "metadata": {},
   "source": [
    "## 取引手数料の計算クラス "
   ]
  },
  {
   "cell_type": "code",
   "execution_count": 37,
   "metadata": {
    "ExecuteTime": {
     "end_time": "2021-05-16T16:59:54.770347Z",
     "start_time": "2021-05-16T16:59:54.751399Z"
    }
   },
   "outputs": [],
   "source": [
    "class FeeCalculator(metaclass=ABCMeta):\n",
    "    \"\"\"\n",
    "    手数料を計算する抽象基底クラス\n",
    "    \"\"\"\n",
    "    @abstractmethod\n",
    "    def calculate(self, pre_portfolio_state, new_portfolio_state):\n",
    "        pass"
   ]
  },
  {
   "cell_type": "code",
   "execution_count": 38,
   "metadata": {
    "ExecuteTime": {
     "end_time": "2021-05-16T16:59:54.833180Z",
     "start_time": "2021-05-16T16:59:54.781318Z"
    }
   },
   "outputs": [],
   "source": [
    "class FeeCalculatorPerNumber(FeeCalculator):\n",
    "    \"\"\"\n",
    "    取引個数に応じて手数料を計算するFeeCalculator\n",
    "    \"\"\"\n",
    "    def __init__(self, fee_per_number):\n",
    "        self.fee_per_number = fee_per_number\n",
    "    def calculate(self, pre_portfolio_state, new_portfolio_state):\n",
    "        not_key_currency_indices_list = list(range(len(pre_portfolio_state.names)))\n",
    "        not_key_currency_indices_list.remove(pre_portfolio_state.key_currency_index)\n",
    "        \n",
    "        not_key_currency_indices = np.array(not_key_currency_indices_list) \n",
    "        commition_fee = self.fee_per_number*np.abs((new_portfolio_state.numbers[not_key_currency_indices] - pre_portfolio_state.numbers[not_key_currency_indices])).sum()\n",
    "        return commition_fee"
   ]
  },
  {
   "cell_type": "markdown",
   "metadata": {},
   "source": [
    "##  ポートフォリオの遷移クラス  "
   ]
  },
  {
   "cell_type": "markdown",
   "metadata": {},
   "source": [
    "強化学習の環境だけでなく，バックテスト等でも利用できるように汎用的なもの"
   ]
  },
  {
   "cell_type": "code",
   "execution_count": 39,
   "metadata": {
    "ExecuteTime": {
     "end_time": "2021-05-16T16:59:55.088499Z",
     "start_time": "2021-05-16T16:59:54.844151Z"
    }
   },
   "outputs": [],
   "source": [
    "class PortfolioTransformer:\n",
    "    \"\"\"\n",
    "    price_supplierの提供するデータに応じてPortfolioStateを遷移させるクラス\n",
    "    バックテスト・強化学習のどちらでも使えるようにする．\n",
    "    \"\"\"\n",
    "    def __init__(self, \n",
    "                 price_supplier, \n",
    "                 portfolio_restrictor=PortfolioRestrictorIdentity(), \n",
    "                 use_ohlc=\"Close\", \n",
    "                 initial_portfolio_vector=None,\n",
    "                 initial_mean_cost_price_array=None,\n",
    "                 initial_all_assets=None, \n",
    "                 fee_calculator=FeeCalculatorPerNumber(fee_per_number=1e-3)):\n",
    "        \"\"\"\n",
    "        price_supplier: PriceSupplier\n",
    "            価格データを供給するクラス\n",
    "        portfolio_restrictor: PortfolioRestrictor\n",
    "            エージェントが渡すportfolio_vectorを制限するクラス\n",
    "        use_ohlc: str, defalt:'Close'\n",
    "            利用する価格データの指定\n",
    "        initial_portfolio_vector: any, defalt:None\n",
    "            初期ポートフォリオベクトル\n",
    "        fee_calculator: FeeCalculator\n",
    "            手数料を計算するクラス\n",
    "        \"\"\"\n",
    "        self.price_supplier = price_supplier\n",
    "        self.portfolio_restrictor = portfolio_restrictor\n",
    "        self.initial_portfolio_vector = initial_portfolio_vector\n",
    "        self.initial_mean_cost_price_array = initial_mean_cost_price_array\n",
    "        self.initial_all_assets = initial_all_assets\n",
    "        self.fee_calculator = fee_calculator\n",
    "    \n",
    "        # 利用するohlcのいずれか\n",
    "        if use_ohlc not in {\"Open\",\"High\",\"Low\",\"Close\"}:\n",
    "            raise Exception(\"use_ohlc must be in {'Open','High','Low','Close'}\")\n",
    "        \n",
    "        field_name_dict = {\"Open\":\"open_array\",\n",
    "                           \"Close\":\"close_array\",\n",
    "                           \"Low\":\"low_array\",\n",
    "                           \"High\":\"high_array\"\n",
    "                          }\n",
    "            \n",
    "        self.use_ohlc_filed = field_name_dict[use_ohlc]\n",
    "        \n",
    "    def reset(self, start_datetime, window=[0]):\n",
    "        \"\"\"\n",
    "        Parameters\n",
    "        ----------\n",
    "        start_datetime: datetime.datetime \n",
    "            データ供給の開始時刻\n",
    "        window: ndarray\n",
    "            データ供給のウィンドウ\n",
    "            \n",
    "        Returns\n",
    "        -------\n",
    "        PortfolioStat\n",
    "             ポートフォリオ状態\n",
    "        bool\n",
    "            エピソードが終了したかどうか\n",
    "        \"\"\"\n",
    "        #from IPython.core.debugger import Pdb; Pdb().set_trace()\n",
    "        \n",
    "        \n",
    "        initial_data_unit, done = self.price_supplier.reset(start_datetime, window)\n",
    "    \n",
    "        now_price_bool = initial_data_unit.window==0 \n",
    "        now_price_array = getattr(initial_data_unit, self.use_ohlc_filed)[:,now_price_bool].squeeze()\n",
    "    \n",
    "        # 初期パラメータ―のデフォルト値\n",
    "        if self.initial_portfolio_vector is None:\n",
    "            self.initial_portfolio_vector = np.zeros(len(initial_data_unit.names))\n",
    "            self.initial_portfolio_vector[initial_data_unit.key_currency_index] = 1.0\n",
    "            \n",
    "        else:\n",
    "            assert len(initial_data_unit.names) == len(self.initial_portfolio_vector)\n",
    "            if abs(self.initial_portfolio_vector.sum() - 1.0) > 1.e-5:  # 大体1ならOK\n",
    "                raise PortfolioVectorInvalidError(\"initial portfolio vector sum must be 1. This portfolio vector is {}.\\n This sum is {}\".format(self.initial_portfolio_vector,\n",
    "                                                                                                                               self.initial_portfolio_vector.sum()))\n",
    "            \n",
    "        if self.initial_mean_cost_price_array is None:\n",
    "            self.initial_mean_cost_price_array = now_price_array\n",
    "        else:\n",
    "            assert self.initial_mean_cost_price_array.shape[0] == now_price_array.shape[0]\n",
    "            \n",
    "        if self.initial_all_assets is None:\n",
    "            self.initial_all_assets = 1.e6            \n",
    "        \n",
    "        # PortfoliioStateの作成\n",
    "        self.portfolio_state = PortfolioState(names=initial_data_unit.names,\n",
    "                                              key_currency_index=initial_data_unit.key_currency_index,\n",
    "                                              window=initial_data_unit.window,\n",
    "                                              datetime=initial_data_unit.datetime,\n",
    "                                              price_array=getattr(initial_data_unit, self.use_ohlc_filed),\n",
    "                                              volume_array=initial_data_unit.volume_array,\n",
    "                                              now_price_array=now_price_array,\n",
    "                                              portfolio_vector=self.initial_portfolio_vector,\n",
    "                                              mean_cost_price_array=now_price_array,\n",
    "                                              all_assets=self.initial_all_assets\n",
    "                                             )\n",
    "        \n",
    "        \n",
    "        return self.portfolio_state.copy(), done\n",
    "    \n",
    "    def step(self, action):\n",
    "        \"\"\"\n",
    "        Parameters\n",
    "        ----------\n",
    "        action: ndarray\n",
    "            エージェントが渡すポートフォリオベクトル\n",
    "            \n",
    "        Returns\n",
    "        -------\n",
    "        PortfolioStat\n",
    "             ポートフォリオ状態\n",
    "        bool\n",
    "            エピソードが終了したかどうか\n",
    "        \"\"\"\n",
    "        \n",
    "        if not isinstance(action, np.ndarray):\n",
    "            action = np.array(action)\n",
    "        assert (action<0).sum() == 0 and (action>1).sum() == 0\n",
    "        if abs(action.sum() - 1.0) > 1.e-5:  # 大体1ならOK\n",
    "            raise PortfolioVectorInvalidError(\"action sum must be 1. This action is {}.\\n This sum is {}\".format(action, action.sum()))\n",
    "            \n",
    "        #from IPython.core.debugger import Pdb; Pdb().set_trace()\n",
    "        \n",
    "        previous_portfolio_state = self.portfolio_state\n",
    "        supplied_data_unit, done = self.price_supplier.step()\n",
    "        \n",
    "        if len(action)!=len(supplied_data_unit.names) or len(action.shape)!=1:\n",
    "            raise PortfolioVectorInvalidError(\"Action dimmention must be names({})\".format(len(supplied_data_unit.names)))\n",
    "        \n",
    "        restricted_portfolio_vector = self.portfolio_restrictor.restrict(previous_portfolio_state, supplied_data_unit, action)\n",
    "        \n",
    "        # 全資産の変化率を求める\n",
    "        now_price_bool = supplied_data_unit.window==0\n",
    "        now_price_array = getattr(supplied_data_unit, self.use_ohlc_filed)[:,now_price_bool].squeeze()\n",
    "        \n",
    "        price_change_ratio = now_price_array / previous_portfolio_state.now_price_array\n",
    "        \n",
    "        all_assets_change_ratio = np.dot(restricted_portfolio_vector, price_change_ratio)\n",
    "        all_assets = previous_portfolio_state.all_assets * all_assets_change_ratio\n",
    "        \n",
    "        # 平均取得価格を設ける\n",
    "        new_numbers = all_assets*restricted_portfolio_vector/now_price_array\n",
    "        pre_numbers = previous_portfolio_state.numbers\n",
    "        mean_num = pre_numbers*previous_portfolio_state.now_price_array + (new_numbers - pre_numbers) * now_price_array\n",
    "        mean_den = new_numbers\n",
    "        \n",
    "        new_numbers_near_zero_bool = new_numbers < 1  # 取り合えず1以下の場合\n",
    "        mean_num[new_numbers_near_zero_bool] = 1  # 適当に1にしておく\n",
    "        mean_den[new_numbers_near_zero_bool] = 1  # 適当に1にしておく\n",
    "        \n",
    "        mean_cost_price_array = mean_num / mean_den\n",
    "        mean_cost_price_array[new_numbers_near_zero_bool] = now_price_array[new_numbers_near_zero_bool]\n",
    "        \n",
    "        self.portfolio_state = PortfolioState(names=supplied_data_unit.names,\n",
    "                                              key_currency_index=supplied_data_unit.key_currency_index,\n",
    "                                              window=supplied_data_unit.window,\n",
    "                                              datetime=supplied_data_unit.datetime,\n",
    "                                              price_array=getattr(supplied_data_unit, self.use_ohlc_filed),\n",
    "                                              volume_array=supplied_data_unit.volume_array,\n",
    "                                              now_price_array=now_price_array,\n",
    "                                              portfolio_vector=restricted_portfolio_vector,\n",
    "                                              mean_cost_price_array=mean_cost_price_array,\n",
    "                                              all_assets=all_assets\n",
    "                                             )\n",
    "                 \n",
    "        # 手数料の計算と更新\n",
    "        all_fee = self.fee_calculator.calculate(previous_portfolio_state, self.portfolio_state)\n",
    "        self.portfolio_state = self.portfolio_state._replace(all_assets=all_assets-all_fee)   \n",
    "        \n",
    "        return self.portfolio_state.copy(), done\n",
    "        "
   ]
  },
  {
   "cell_type": "code",
   "execution_count": 40,
   "metadata": {
    "ExecuteTime": {
     "end_time": "2021-05-16T16:59:55.819544Z",
     "start_time": "2021-05-16T16:59:55.098470Z"
    }
   },
   "outputs": [
    {
     "name": "stdout",
     "output_type": "stream",
     "text": [
      "PortfolioState( \n",
      "names=['yen', '4755', '9984', '6701', '7203', '7267']\n",
      "key_currency_index=0\n",
      "window=[-3 -2 -1  0  1  2  3]\n",
      "datetime=2020-11-10 09:00:00+09:00\n",
      "price_array=[[1.0000e+00 1.0000e+00 1.0000e+00 1.0000e+00 1.0000e+00 1.0000e+00\n",
      "  1.0000e+00]\n",
      " [1.1200e+03 1.1190e+03 1.1170e+03 1.1280e+03 1.1070e+03 1.1050e+03\n",
      "  1.0620e+03]\n",
      " [7.0690e+03 7.0740e+03 7.0960e+03 7.0720e+03 7.0190e+03 7.0040e+03\n",
      "  6.9880e+03]\n",
      " [5.7600e+03 5.7600e+03 5.7600e+03 5.6800e+03 5.7200e+03 5.7100e+03\n",
      "  5.6900e+03]\n",
      " [7.1750e+03 7.1770e+03 7.1770e+03 7.3420e+03 7.3360e+03 7.3530e+03\n",
      "  7.3280e+03]\n",
      " [2.8400e+03 2.8395e+03 2.8340e+03 2.9595e+03 2.9415e+03 2.9705e+03\n",
      "  2.9310e+03]]\n",
      "volume_array=[[1.0000e+00 1.0000e+00 1.0000e+00 1.0000e+00 1.0000e+00 1.0000e+00\n",
      "  1.0000e+00]\n",
      " [7.1600e+04 9.3300e+04 4.1190e+05 8.7840e+05 5.8380e+05 2.5710e+05\n",
      "  7.9410e+05]\n",
      " [2.3750e+05 3.0980e+05 3.7840e+05 2.5031e+06 8.4220e+05 7.3700e+05\n",
      "  4.2530e+05]\n",
      " [4.8200e+04 1.5600e+04 4.2800e+04 2.6540e+05 7.0900e+04 5.5200e+04\n",
      "  7.5200e+04]\n",
      " [1.3520e+05 1.6710e+05 1.7530e+05 1.3002e+06 4.5750e+05 3.2870e+05\n",
      "  1.7930e+05]\n",
      " [1.4200e+05 1.9780e+05 2.6770e+05 1.0599e+06 4.1260e+05 2.6840e+05\n",
      "  2.4110e+05]]\n",
      "now_price_array=[1.0000e+00 1.1280e+03 7.0720e+03 5.6800e+03 7.3420e+03 2.9595e+03]\n",
      "portfolio_vector=[1. 0. 0. 0. 0. 0.]\n",
      "mean_cost_price_array=[1.0000e+00 1.1280e+03 7.0720e+03 5.6800e+03 7.3420e+03 2.9595e+03]\n",
      "all_assets=1000000.0\n",
      ")\n"
     ]
    }
   ],
   "source": [
    "transformer = PortfolioTransformer(price_supplier=price_supplier,\n",
    "                                   portfolio_restrictor=PortfolioRestrictorIdentity(),\n",
    "                                   use_ohlc=\"Close\",\n",
    "                                   initial_portfolio_vector=None,\n",
    "                                   initial_all_assets=1e6,\n",
    "                                   fee_calculator=FeeCalculatorPerNumber(0.01)\n",
    "                                  )\n",
    "\n",
    "portfolio_state, _ = transformer.reset(start_datetime, window=[-3,-2,-1,0,1,2,3])\n",
    "print(portfolio_state)"
   ]
  },
  {
   "cell_type": "code",
   "execution_count": 41,
   "metadata": {
    "ExecuteTime": {
     "end_time": "2021-05-16T16:59:55.899334Z",
     "start_time": "2021-05-16T16:59:55.840486Z"
    },
    "scrolled": false
   },
   "outputs": [
    {
     "name": "stdout",
     "output_type": "stream",
     "text": [
      "PortfolioState( \n",
      "names=['yen', '4755', '9984', '6701', '7203', '7267']\n",
      "key_currency_index=0\n",
      "window=[-3 -2 -1  0  1  2  3]\n",
      "datetime=2020-11-10 09:05:00+09:00\n",
      "price_array=[[1.0000e+00 1.0000e+00 1.0000e+00 1.0000e+00 1.0000e+00 1.0000e+00\n",
      "  1.0000e+00]\n",
      " [1.1190e+03 1.1170e+03 1.1280e+03 1.1070e+03 1.1050e+03 1.0620e+03\n",
      "  1.0760e+03]\n",
      " [7.0740e+03 7.0960e+03 7.0720e+03 7.0190e+03 7.0040e+03 6.9880e+03\n",
      "  6.9570e+03]\n",
      " [5.7600e+03 5.7600e+03 5.6800e+03 5.7200e+03 5.7100e+03 5.6900e+03\n",
      "  5.6700e+03]\n",
      " [7.1770e+03 7.1770e+03 7.3420e+03 7.3360e+03 7.3530e+03 7.3280e+03\n",
      "  7.3170e+03]\n",
      " [2.8395e+03 2.8340e+03 2.9595e+03 2.9415e+03 2.9705e+03 2.9310e+03\n",
      "  2.9170e+03]]\n",
      "volume_array=[[1.0000e+00 1.0000e+00 1.0000e+00 1.0000e+00 1.0000e+00 1.0000e+00\n",
      "  1.0000e+00]\n",
      " [9.3300e+04 4.1190e+05 8.7840e+05 5.8380e+05 2.5710e+05 7.9410e+05\n",
      "  4.6700e+05]\n",
      " [3.0980e+05 3.7840e+05 2.5031e+06 8.4220e+05 7.3700e+05 4.2530e+05\n",
      "  4.1350e+05]\n",
      " [1.5600e+04 4.2800e+04 2.6540e+05 7.0900e+04 5.5200e+04 7.5200e+04\n",
      "  7.9000e+04]\n",
      " [1.6710e+05 1.7530e+05 1.3002e+06 4.5750e+05 3.2870e+05 1.7930e+05\n",
      "  1.9250e+05]\n",
      " [1.9780e+05 2.6770e+05 1.0599e+06 4.1260e+05 2.6840e+05 2.4110e+05\n",
      "  1.7630e+05]]\n",
      "now_price_array=[1.0000e+00 1.1070e+03 7.0190e+03 5.7200e+03 7.3360e+03 2.9415e+03]\n",
      "portfolio_vector=[0 1 0 0 0 0]\n",
      "mean_cost_price_array=[1.0000e+00 1.1070e+03 7.0190e+03 5.7200e+03 7.3360e+03 2.9415e+03]\n",
      "all_assets=981374.1134751774\n",
      ")\n"
     ]
    }
   ],
   "source": [
    "new_portfolio_vector = [0,1,0,0,0,0]\n",
    "portfolio_state, _ = transformer.step(new_portfolio_vector)\n",
    "print(portfolio_state)"
   ]
  },
  {
   "cell_type": "markdown",
   "metadata": {},
   "source": [
    "高速化できる部分は無い"
   ]
  },
  {
   "cell_type": "markdown",
   "metadata": {},
   "source": [
    "## ポートフォリオの遷移を可視化 "
   ]
  },
  {
   "cell_type": "code",
   "execution_count": 42,
   "metadata": {
    "ExecuteTime": {
     "end_time": "2021-05-16T16:59:57.857094Z",
     "start_time": "2021-05-16T16:59:55.910300Z"
    }
   },
   "outputs": [],
   "source": [
    "start_datetime = jst_timezone.localize(datetime.datetime(2020,11,10,9,0,0))\n",
    "stock_list = [\"4755\",\"9984\",\"6701\",\"7203\",\"7267\"]\n",
    "episode_length = 100\n",
    "\n",
    "price_supplier = StockDBPriceSupplier(stock_db=stock_db,\n",
    "                                     ticker_names=stock_list,\n",
    "                                     episode_length=episode_length,\n",
    "                                     freq_str=\"5T\",\n",
    "                                     interpolate=False\n",
    "                                    )\n",
    "\n",
    "transformer = PortfolioTransformer(price_supplier=price_supplier,\n",
    "                                   portfolio_restrictor=PortfolioRestrictorIdentity(),\n",
    "                                   use_ohlc=\"Close\",\n",
    "                                   initial_portfolio_vector=None,\n",
    "                                   initial_all_assets=1e6,\n",
    "                                   fee_calculator=FeeCalculatorPerNumber(0)\n",
    "                                  )\n",
    "\n",
    "\n",
    "portfolio_state_list = []\n",
    "initial_state, _ = transformer.reset(start_datetime, window=[-1,0,1])\n",
    "portfolio_state_list.append(initial_state.partial(\"names\", \"now_price_array\", \"mean_cost_price_array\", \"portfolio_vector\", \"all_assets\", \"datetime\"))\n",
    "\n",
    "while True:\n",
    "    action = softmax(np.abs(np.random.randn(1+len(stock_list))))\n",
    "    portfolio_state, done = transformer.step(action)\n",
    "    portfolio_state_list.append(portfolio_state.partial(\"names\", \"now_price_array\", \"mean_cost_price_array\", \"portfolio_vector\", \"all_assets\", \"datetime\"))\n",
    "    if done:\n",
    "        break"
   ]
  },
  {
   "cell_type": "code",
   "execution_count": 43,
   "metadata": {
    "ExecuteTime": {
     "end_time": "2021-05-16T16:59:57.889009Z",
     "start_time": "2021-05-16T16:59:57.866073Z"
    }
   },
   "outputs": [],
   "source": [
    "def make_y_limit(y_array, upper_ratio=0.1, lowwer_ratio=0.1):\n",
    "    min_value = np.amin(y_array)\n",
    "    max_value = np.amax(y_array)\n",
    "    diff = max_value - min_value\n",
    "    return min_value-lowwer_ratio*diff, max_value+upper_ratio*diff"
   ]
  },
  {
   "cell_type": "code",
   "execution_count": 44,
   "metadata": {
    "ExecuteTime": {
     "end_time": "2021-05-16T16:59:57.934888Z",
     "start_time": "2021-05-16T16:59:57.898984Z"
    }
   },
   "outputs": [],
   "source": [
    "def make_y_limit_multi(y_arrays, upper_ratio=0.1, lowwer_ratio=0.1):\n",
    "    min_values = []\n",
    "    max_values = []\n",
    "    for y_array in y_arrays:\n",
    "        min_values.append(np.amin(y_array))\n",
    "        max_values.append(np.amax(y_array))\n",
    "        \n",
    "    min_value = min(min_values)\n",
    "    max_value = max(max_values)\n",
    "    diff = max_value - min_value\n",
    "    \n",
    "    return min_value-lowwer_ratio*diff, max_value+upper_ratio*diff"
   ]
  },
  {
   "cell_type": "code",
   "execution_count": 45,
   "metadata": {
    "ExecuteTime": {
     "end_time": "2021-05-16T16:59:57.982758Z",
     "start_time": "2021-05-16T16:59:57.946856Z"
    }
   },
   "outputs": [],
   "source": [
    "def make_ticker_text(ticker_value_array, ticker_names):\n",
    "    div_text = \"\"\n",
    "    text_sum_line = 150\n",
    "    text_sum_count = 0\n",
    "\n",
    "    for i, ticker_name in enumerate(ticker_names):\n",
    "        div_text += ticker_name + \"=\"\n",
    "        text_sum_count += len(ticker_name)\n",
    "        ticke_value_str = str(ticker_value_array[i])\n",
    "        div_text += ticke_value_str\n",
    "        text_sum_count += len(ticke_value_str)\n",
    "\n",
    "        div_text += \", \"\n",
    "        text_sum_count += 2\n",
    "\n",
    "        if text_sum_count > text_sum_line:\n",
    "            div_text += \"\\n\"\n",
    "            text_sum_count = 0\n",
    "            \n",
    "    return div_text"
   ]
  },
  {
   "cell_type": "markdown",
   "metadata": {},
   "source": [
    "ここはメインの開発場所ではない，プロトタイプ版"
   ]
  },
  {
   "cell_type": "code",
   "execution_count": 46,
   "metadata": {
    "ExecuteTime": {
     "end_time": "2021-05-16T16:59:58.236081Z",
     "start_time": "2021-05-16T16:59:57.995726Z"
    }
   },
   "outputs": [],
   "source": [
    "def visualize_portfolio_transform_bokeh(portfolio_state_list, save_path=None, is_save=False, is_show=True, is_jupyter=True):\n",
    "    # テータの取り出し\n",
    "    ticker_names = portfolio_state_list[0].names\n",
    "    colors = d3[\"Category20\"][len(ticker_names)]\n",
    "\n",
    "    all_price_array = np.stack([one_state.now_price_array for one_state in portfolio_state_list], axis=1)\n",
    "    all_portfolio_vector = np.stack([one_state.portfolio_vector for one_state in portfolio_state_list], axis=1)\n",
    "    all_mean_cost_price_array = np.stack([one_state.mean_cost_price_array for one_state in portfolio_state_list], axis=1)\n",
    "    all_assets_array = np.array([one_state.all_assets for one_state in portfolio_state_list])\n",
    "    all_datetime_array = np.array([get_naive_datetime_from_datetime(one_state.datetime) for one_state in portfolio_state_list])\n",
    "    x = np.arange(0, len(portfolio_state_list))\n",
    "\n",
    "\n",
    "    # sorceの作成\n",
    "    portfolio_vector_source = {\"x\":x, \"datetime\":all_datetime_array}\n",
    "    price_source_x = []\n",
    "    price_source_y = []\n",
    "\n",
    "    mean_cost_price_source_x = []\n",
    "    mean_cost_price_source_y = []\n",
    "\n",
    "    for i, ticker_name in enumerate(ticker_names):\n",
    "        portfolio_vector_source[ticker_name] = all_portfolio_vector[i,:]\n",
    "\n",
    "        price_source_x.append(x)\n",
    "        price_source_y.append(all_price_array[i,:]/all_price_array[i,0])\n",
    "\n",
    "        mean_cost_price_source_x.append(x)\n",
    "        mean_cost_price_source_y.append(all_mean_cost_price_array[i,:]/all_mean_cost_price_array[i,0])\n",
    "\n",
    "    # ホバーツールの設定\n",
    "    #tool_tips = [(\"x\", \"@x\")]\n",
    "    tool_tips = [(\"datetime\", \"@datetime{%F %H:%M:%S}\")]\n",
    "    tool_tips.extend([(ticker_name, \"@\"+ticker_name+\"{0.000}\") for ticker_name in ticker_names])\n",
    "\n",
    "    hover_tool = HoverTool(\n",
    "        tooltips=tool_tips,\n",
    "        formatters={'@datetime' : 'datetime'}\n",
    "    )\n",
    "\n",
    "    # 描画\n",
    "\n",
    "    p1_text = Div(text=make_ticker_text(all_price_array[:,0], ticker_names))\n",
    "\n",
    "    p1 = bokeh.plotting.figure(plot_width=1200,plot_height=500,title=\"正規化価格・ポートフォリオ\")\n",
    "    p1.add_tools(hover_tool)\n",
    "\n",
    "    p1.extra_y_ranges = {\"portfolio_vector\": Range1d(start=0, end=3)}\n",
    "    p1.add_layout(LinearAxis(y_range_name=\"portfolio_vector\"), 'right')\n",
    "    p1.vbar_stack(ticker_names, x='x', width=1, color=colors,y_range_name=\"portfolio_vector\", source=portfolio_vector_source, legend_label=ticker_names, alpha=0.8)\n",
    "\n",
    "    p1.multi_line(xs=price_source_x, ys=price_source_y, line_color=colors, line_width=2)\n",
    "    y_min, y_max = make_y_limit_multi(price_source_y, lowwer_ratio=0.1, upper_ratio=0.1)\n",
    "    y_min -= (y_max - y_min) * 0.66  #  ポートフォリオ割合のためのオフセット\n",
    "    p1.y_range = Range1d(start=y_min, end=y_max)\n",
    "\n",
    "    p1.yaxis[0].axis_label = \"正規化価格\"\n",
    "    p1.yaxis[1].axis_label = \"保有割合\"\n",
    "\n",
    "    p1.xaxis.major_label_overrides = {str(one_x) : str(all_datetime_array[i]) for i, one_x in enumerate(x)}\n",
    "\n",
    "    p2_text = Div(text=make_ticker_text(all_mean_cost_price_array[:,0], ticker_names))\n",
    "\n",
    "    p2 = bokeh.plotting.figure(plot_width=1200,plot_height=300,title=\"正規化平均取得価格・全資産\")\n",
    "    p2.multi_line(xs=mean_cost_price_source_x, ys=mean_cost_price_source_y, line_color=colors, line_width=2)\n",
    "    y_min, y_max = make_y_limit_multi(mean_cost_price_source_y, lowwer_ratio=0.1, upper_ratio=0.1)\n",
    "    p2.y_range = Range1d(start=y_min, end=y_max)\n",
    "\n",
    "    y_max, y_min = make_y_limit(all_assets_array, upper_ratio=0.1, lowwer_ratio=0.1)\n",
    "    p2.extra_y_ranges = {\"all_assets\": Range1d(start=y_max, end=y_min)}\n",
    "    p2.add_layout(LinearAxis(y_range_name=\"all_assets\"), 'right')\n",
    "    p2.line(x, all_assets_array, color=\"red\", legend_label=\"all_assets\", line_width=4, y_range_name=\"all_assets\")\n",
    "\n",
    "    # 疑似的なレジェンドをつける\n",
    "    for ticker_name, color in zip(ticker_names, colors):\n",
    "        p2.line([], [], legend_label=ticker_name, color=color, line_width=2)\n",
    "\n",
    "    p2.yaxis[0].axis_label = \"正規化平均取得価格\"\n",
    "    p2.yaxis[1].axis_label = \"全資産 [円]\"\n",
    "\n",
    "    p2.xaxis.major_label_overrides = {str(one_x) : str(all_datetime_array[i]) for i, one_x in enumerate(x)}\n",
    "\n",
    "    created_figure = bokeh.layouts.column(p1_text, p1, p2_text, p2)\n",
    "\n",
    "    if is_save:\n",
    "            if save_path.suffix == \".png\":\n",
    "                bokeh.io.export_png(created_figure, filename=save_path)\n",
    "            elif save_path.suffix == \".html\":\n",
    "                output_file(save_path)\n",
    "                bokeh.io.save(created_figure, filename=save_path, title=\"trading process\")    \n",
    "            else:\n",
    "                raise Exception(\"The suffix of save_path is must be '.png' or '.html'.\")\n",
    "    if is_show:\n",
    "        try:\n",
    "            reset_output()\n",
    "            if is_jupyter:\n",
    "                output_notebook()\n",
    "            show(created_figure)\n",
    "        except:\n",
    "            if is_jupyter:\n",
    "                output_notebook()\n",
    "            show(created_figure)\n",
    "        \n",
    "    if not is_save and not is_show:\n",
    "        raise Exception(\"is_save and is_show is False. This function do nothing\")\n",
    "        "
   ]
  },
  {
   "cell_type": "code",
   "execution_count": 47,
   "metadata": {
    "ExecuteTime": {
     "end_time": "2021-05-16T16:59:59.839796Z",
     "start_time": "2021-05-16T16:59:58.246059Z"
    }
   },
   "outputs": [
    {
     "data": {
      "text/html": [
       "\n",
       "    <div class=\"bk-root\">\n",
       "        <a href=\"https://bokeh.org\" target=\"_blank\" class=\"bk-logo bk-logo-small bk-logo-notebook\"></a>\n",
       "        <span id=\"1403\">Loading BokehJS ...</span>\n",
       "    </div>"
      ]
     },
     "metadata": {},
     "output_type": "display_data"
    },
    {
     "data": {
      "application/javascript": [
       "\n",
       "(function(root) {\n",
       "  function now() {\n",
       "    return new Date();\n",
       "  }\n",
       "\n",
       "  var force = true;\n",
       "\n",
       "  if (typeof root._bokeh_onload_callbacks === \"undefined\" || force === true) {\n",
       "    root._bokeh_onload_callbacks = [];\n",
       "    root._bokeh_is_loading = undefined;\n",
       "  }\n",
       "\n",
       "  var JS_MIME_TYPE = 'application/javascript';\n",
       "  var HTML_MIME_TYPE = 'text/html';\n",
       "  var EXEC_MIME_TYPE = 'application/vnd.bokehjs_exec.v0+json';\n",
       "  var CLASS_NAME = 'output_bokeh rendered_html';\n",
       "\n",
       "  /**\n",
       "   * Render data to the DOM node\n",
       "   */\n",
       "  function render(props, node) {\n",
       "    var script = document.createElement(\"script\");\n",
       "    node.appendChild(script);\n",
       "  }\n",
       "\n",
       "  /**\n",
       "   * Handle when an output is cleared or removed\n",
       "   */\n",
       "  function handleClearOutput(event, handle) {\n",
       "    var cell = handle.cell;\n",
       "\n",
       "    var id = cell.output_area._bokeh_element_id;\n",
       "    var server_id = cell.output_area._bokeh_server_id;\n",
       "    // Clean up Bokeh references\n",
       "    if (id != null && id in Bokeh.index) {\n",
       "      Bokeh.index[id].model.document.clear();\n",
       "      delete Bokeh.index[id];\n",
       "    }\n",
       "\n",
       "    if (server_id !== undefined) {\n",
       "      // Clean up Bokeh references\n",
       "      var cmd = \"from bokeh.io.state import curstate; print(curstate().uuid_to_server['\" + server_id + \"'].get_sessions()[0].document.roots[0]._id)\";\n",
       "      cell.notebook.kernel.execute(cmd, {\n",
       "        iopub: {\n",
       "          output: function(msg) {\n",
       "            var id = msg.content.text.trim();\n",
       "            if (id in Bokeh.index) {\n",
       "              Bokeh.index[id].model.document.clear();\n",
       "              delete Bokeh.index[id];\n",
       "            }\n",
       "          }\n",
       "        }\n",
       "      });\n",
       "      // Destroy server and session\n",
       "      var cmd = \"import bokeh.io.notebook as ion; ion.destroy_server('\" + server_id + \"')\";\n",
       "      cell.notebook.kernel.execute(cmd);\n",
       "    }\n",
       "  }\n",
       "\n",
       "  /**\n",
       "   * Handle when a new output is added\n",
       "   */\n",
       "  function handleAddOutput(event, handle) {\n",
       "    var output_area = handle.output_area;\n",
       "    var output = handle.output;\n",
       "\n",
       "    // limit handleAddOutput to display_data with EXEC_MIME_TYPE content only\n",
       "    if ((output.output_type != \"display_data\") || (!output.data.hasOwnProperty(EXEC_MIME_TYPE))) {\n",
       "      return\n",
       "    }\n",
       "\n",
       "    var toinsert = output_area.element.find(\".\" + CLASS_NAME.split(' ')[0]);\n",
       "\n",
       "    if (output.metadata[EXEC_MIME_TYPE][\"id\"] !== undefined) {\n",
       "      toinsert[toinsert.length - 1].firstChild.textContent = output.data[JS_MIME_TYPE];\n",
       "      // store reference to embed id on output_area\n",
       "      output_area._bokeh_element_id = output.metadata[EXEC_MIME_TYPE][\"id\"];\n",
       "    }\n",
       "    if (output.metadata[EXEC_MIME_TYPE][\"server_id\"] !== undefined) {\n",
       "      var bk_div = document.createElement(\"div\");\n",
       "      bk_div.innerHTML = output.data[HTML_MIME_TYPE];\n",
       "      var script_attrs = bk_div.children[0].attributes;\n",
       "      for (var i = 0; i < script_attrs.length; i++) {\n",
       "        toinsert[toinsert.length - 1].firstChild.setAttribute(script_attrs[i].name, script_attrs[i].value);\n",
       "        toinsert[toinsert.length - 1].firstChild.textContent = bk_div.children[0].textContent\n",
       "      }\n",
       "      // store reference to server id on output_area\n",
       "      output_area._bokeh_server_id = output.metadata[EXEC_MIME_TYPE][\"server_id\"];\n",
       "    }\n",
       "  }\n",
       "\n",
       "  function register_renderer(events, OutputArea) {\n",
       "\n",
       "    function append_mime(data, metadata, element) {\n",
       "      // create a DOM node to render to\n",
       "      var toinsert = this.create_output_subarea(\n",
       "        metadata,\n",
       "        CLASS_NAME,\n",
       "        EXEC_MIME_TYPE\n",
       "      );\n",
       "      this.keyboard_manager.register_events(toinsert);\n",
       "      // Render to node\n",
       "      var props = {data: data, metadata: metadata[EXEC_MIME_TYPE]};\n",
       "      render(props, toinsert[toinsert.length - 1]);\n",
       "      element.append(toinsert);\n",
       "      return toinsert\n",
       "    }\n",
       "\n",
       "    /* Handle when an output is cleared or removed */\n",
       "    events.on('clear_output.CodeCell', handleClearOutput);\n",
       "    events.on('delete.Cell', handleClearOutput);\n",
       "\n",
       "    /* Handle when a new output is added */\n",
       "    events.on('output_added.OutputArea', handleAddOutput);\n",
       "\n",
       "    /**\n",
       "     * Register the mime type and append_mime function with output_area\n",
       "     */\n",
       "    OutputArea.prototype.register_mime_type(EXEC_MIME_TYPE, append_mime, {\n",
       "      /* Is output safe? */\n",
       "      safe: true,\n",
       "      /* Index of renderer in `output_area.display_order` */\n",
       "      index: 0\n",
       "    });\n",
       "  }\n",
       "\n",
       "  // register the mime type if in Jupyter Notebook environment and previously unregistered\n",
       "  if (root.Jupyter !== undefined) {\n",
       "    var events = require('base/js/events');\n",
       "    var OutputArea = require('notebook/js/outputarea').OutputArea;\n",
       "\n",
       "    if (OutputArea.prototype.mime_types().indexOf(EXEC_MIME_TYPE) == -1) {\n",
       "      register_renderer(events, OutputArea);\n",
       "    }\n",
       "  }\n",
       "\n",
       "  \n",
       "  if (typeof (root._bokeh_timeout) === \"undefined\" || force === true) {\n",
       "    root._bokeh_timeout = Date.now() + 5000;\n",
       "    root._bokeh_failed_load = false;\n",
       "  }\n",
       "\n",
       "  var NB_LOAD_WARNING = {'data': {'text/html':\n",
       "     \"<div style='background-color: #fdd'>\\n\"+\n",
       "     \"<p>\\n\"+\n",
       "     \"BokehJS does not appear to have successfully loaded. If loading BokehJS from CDN, this \\n\"+\n",
       "     \"may be due to a slow or bad network connection. Possible fixes:\\n\"+\n",
       "     \"</p>\\n\"+\n",
       "     \"<ul>\\n\"+\n",
       "     \"<li>re-rerun `output_notebook()` to attempt to load from CDN again, or</li>\\n\"+\n",
       "     \"<li>use INLINE resources instead, as so:</li>\\n\"+\n",
       "     \"</ul>\\n\"+\n",
       "     \"<code>\\n\"+\n",
       "     \"from bokeh.resources import INLINE\\n\"+\n",
       "     \"output_notebook(resources=INLINE)\\n\"+\n",
       "     \"</code>\\n\"+\n",
       "     \"</div>\"}};\n",
       "\n",
       "  function display_loaded() {\n",
       "    var el = document.getElementById(\"1403\");\n",
       "    if (el != null) {\n",
       "      el.textContent = \"BokehJS is loading...\";\n",
       "    }\n",
       "    if (root.Bokeh !== undefined) {\n",
       "      if (el != null) {\n",
       "        el.textContent = \"BokehJS \" + root.Bokeh.version + \" successfully loaded.\";\n",
       "      }\n",
       "    } else if (Date.now() < root._bokeh_timeout) {\n",
       "      setTimeout(display_loaded, 100)\n",
       "    }\n",
       "  }\n",
       "\n",
       "\n",
       "  function run_callbacks() {\n",
       "    try {\n",
       "      root._bokeh_onload_callbacks.forEach(function(callback) {\n",
       "        if (callback != null)\n",
       "          callback();\n",
       "      });\n",
       "    } finally {\n",
       "      delete root._bokeh_onload_callbacks\n",
       "    }\n",
       "    console.debug(\"Bokeh: all callbacks have finished\");\n",
       "  }\n",
       "\n",
       "  function load_libs(css_urls, js_urls, callback) {\n",
       "    if (css_urls == null) css_urls = [];\n",
       "    if (js_urls == null) js_urls = [];\n",
       "\n",
       "    root._bokeh_onload_callbacks.push(callback);\n",
       "    if (root._bokeh_is_loading > 0) {\n",
       "      console.debug(\"Bokeh: BokehJS is being loaded, scheduling callback at\", now());\n",
       "      return null;\n",
       "    }\n",
       "    if (js_urls == null || js_urls.length === 0) {\n",
       "      run_callbacks();\n",
       "      return null;\n",
       "    }\n",
       "    console.debug(\"Bokeh: BokehJS not loaded, scheduling load and callback at\", now());\n",
       "    root._bokeh_is_loading = css_urls.length + js_urls.length;\n",
       "\n",
       "    function on_load() {\n",
       "      root._bokeh_is_loading--;\n",
       "      if (root._bokeh_is_loading === 0) {\n",
       "        console.debug(\"Bokeh: all BokehJS libraries/stylesheets loaded\");\n",
       "        run_callbacks()\n",
       "      }\n",
       "    }\n",
       "\n",
       "    function on_error() {\n",
       "      console.error(\"failed to load \" + url);\n",
       "    }\n",
       "\n",
       "    for (var i = 0; i < css_urls.length; i++) {\n",
       "      var url = css_urls[i];\n",
       "      const element = document.createElement(\"link\");\n",
       "      element.onload = on_load;\n",
       "      element.onerror = on_error;\n",
       "      element.rel = \"stylesheet\";\n",
       "      element.type = \"text/css\";\n",
       "      element.href = url;\n",
       "      console.debug(\"Bokeh: injecting link tag for BokehJS stylesheet: \", url);\n",
       "      document.body.appendChild(element);\n",
       "    }\n",
       "\n",
       "    const hashes = {\"https://cdn.bokeh.org/bokeh/release/bokeh-2.2.3.min.js\": \"T2yuo9Oe71Cz/I4X9Ac5+gpEa5a8PpJCDlqKYO0CfAuEszu1JrXLl8YugMqYe3sM\", \"https://cdn.bokeh.org/bokeh/release/bokeh-widgets-2.2.3.min.js\": \"98GDGJ0kOMCUMUePhksaQ/GYgB3+NH9h996V88sh3aOiUNX3N+fLXAtry6xctSZ6\", \"https://cdn.bokeh.org/bokeh/release/bokeh-tables-2.2.3.min.js\": \"89bArO+nlbP3sgakeHjCo1JYxYR5wufVgA3IbUvDY+K7w4zyxJqssu7wVnfeKCq8\"};\n",
       "\n",
       "    for (var i = 0; i < js_urls.length; i++) {\n",
       "      var url = js_urls[i];\n",
       "      var element = document.createElement('script');\n",
       "      element.onload = on_load;\n",
       "      element.onerror = on_error;\n",
       "      element.async = false;\n",
       "      element.src = url;\n",
       "      if (url in hashes) {\n",
       "        element.crossOrigin = \"anonymous\";\n",
       "        element.integrity = \"sha384-\" + hashes[url];\n",
       "      }\n",
       "      console.debug(\"Bokeh: injecting script tag for BokehJS library: \", url);\n",
       "      document.head.appendChild(element);\n",
       "    }\n",
       "  };\n",
       "\n",
       "  function inject_raw_css(css) {\n",
       "    const element = document.createElement(\"style\");\n",
       "    element.appendChild(document.createTextNode(css));\n",
       "    document.body.appendChild(element);\n",
       "  }\n",
       "\n",
       "  \n",
       "  var js_urls = [\"https://cdn.bokeh.org/bokeh/release/bokeh-2.2.3.min.js\", \"https://cdn.bokeh.org/bokeh/release/bokeh-widgets-2.2.3.min.js\", \"https://cdn.bokeh.org/bokeh/release/bokeh-tables-2.2.3.min.js\"];\n",
       "  var css_urls = [];\n",
       "  \n",
       "\n",
       "  var inline_js = [\n",
       "    function(Bokeh) {\n",
       "      Bokeh.set_log_level(\"info\");\n",
       "    },\n",
       "    function(Bokeh) {\n",
       "    \n",
       "    \n",
       "    }\n",
       "  ];\n",
       "\n",
       "  function run_inline_js() {\n",
       "    \n",
       "    if (root.Bokeh !== undefined || force === true) {\n",
       "      \n",
       "    for (var i = 0; i < inline_js.length; i++) {\n",
       "      inline_js[i].call(root, root.Bokeh);\n",
       "    }\n",
       "    if (force === true) {\n",
       "        display_loaded();\n",
       "      }} else if (Date.now() < root._bokeh_timeout) {\n",
       "      setTimeout(run_inline_js, 100);\n",
       "    } else if (!root._bokeh_failed_load) {\n",
       "      console.log(\"Bokeh: BokehJS failed to load within specified timeout.\");\n",
       "      root._bokeh_failed_load = true;\n",
       "    } else if (force !== true) {\n",
       "      var cell = $(document.getElementById(\"1403\")).parents('.cell').data().cell;\n",
       "      cell.output_area.append_execute_result(NB_LOAD_WARNING)\n",
       "    }\n",
       "\n",
       "  }\n",
       "\n",
       "  if (root._bokeh_is_loading === 0) {\n",
       "    console.debug(\"Bokeh: BokehJS loaded, going straight to plotting\");\n",
       "    run_inline_js();\n",
       "  } else {\n",
       "    load_libs(css_urls, js_urls, function() {\n",
       "      console.debug(\"Bokeh: BokehJS plotting callback run at\", now());\n",
       "      run_inline_js();\n",
       "    });\n",
       "  }\n",
       "}(window));"
      ],
      "application/vnd.bokehjs_load.v0+json": "\n(function(root) {\n  function now() {\n    return new Date();\n  }\n\n  var force = true;\n\n  if (typeof root._bokeh_onload_callbacks === \"undefined\" || force === true) {\n    root._bokeh_onload_callbacks = [];\n    root._bokeh_is_loading = undefined;\n  }\n\n  \n\n  \n  if (typeof (root._bokeh_timeout) === \"undefined\" || force === true) {\n    root._bokeh_timeout = Date.now() + 5000;\n    root._bokeh_failed_load = false;\n  }\n\n  var NB_LOAD_WARNING = {'data': {'text/html':\n     \"<div style='background-color: #fdd'>\\n\"+\n     \"<p>\\n\"+\n     \"BokehJS does not appear to have successfully loaded. If loading BokehJS from CDN, this \\n\"+\n     \"may be due to a slow or bad network connection. Possible fixes:\\n\"+\n     \"</p>\\n\"+\n     \"<ul>\\n\"+\n     \"<li>re-rerun `output_notebook()` to attempt to load from CDN again, or</li>\\n\"+\n     \"<li>use INLINE resources instead, as so:</li>\\n\"+\n     \"</ul>\\n\"+\n     \"<code>\\n\"+\n     \"from bokeh.resources import INLINE\\n\"+\n     \"output_notebook(resources=INLINE)\\n\"+\n     \"</code>\\n\"+\n     \"</div>\"}};\n\n  function display_loaded() {\n    var el = document.getElementById(\"1403\");\n    if (el != null) {\n      el.textContent = \"BokehJS is loading...\";\n    }\n    if (root.Bokeh !== undefined) {\n      if (el != null) {\n        el.textContent = \"BokehJS \" + root.Bokeh.version + \" successfully loaded.\";\n      }\n    } else if (Date.now() < root._bokeh_timeout) {\n      setTimeout(display_loaded, 100)\n    }\n  }\n\n\n  function run_callbacks() {\n    try {\n      root._bokeh_onload_callbacks.forEach(function(callback) {\n        if (callback != null)\n          callback();\n      });\n    } finally {\n      delete root._bokeh_onload_callbacks\n    }\n    console.debug(\"Bokeh: all callbacks have finished\");\n  }\n\n  function load_libs(css_urls, js_urls, callback) {\n    if (css_urls == null) css_urls = [];\n    if (js_urls == null) js_urls = [];\n\n    root._bokeh_onload_callbacks.push(callback);\n    if (root._bokeh_is_loading > 0) {\n      console.debug(\"Bokeh: BokehJS is being loaded, scheduling callback at\", now());\n      return null;\n    }\n    if (js_urls == null || js_urls.length === 0) {\n      run_callbacks();\n      return null;\n    }\n    console.debug(\"Bokeh: BokehJS not loaded, scheduling load and callback at\", now());\n    root._bokeh_is_loading = css_urls.length + js_urls.length;\n\n    function on_load() {\n      root._bokeh_is_loading--;\n      if (root._bokeh_is_loading === 0) {\n        console.debug(\"Bokeh: all BokehJS libraries/stylesheets loaded\");\n        run_callbacks()\n      }\n    }\n\n    function on_error() {\n      console.error(\"failed to load \" + url);\n    }\n\n    for (var i = 0; i < css_urls.length; i++) {\n      var url = css_urls[i];\n      const element = document.createElement(\"link\");\n      element.onload = on_load;\n      element.onerror = on_error;\n      element.rel = \"stylesheet\";\n      element.type = \"text/css\";\n      element.href = url;\n      console.debug(\"Bokeh: injecting link tag for BokehJS stylesheet: \", url);\n      document.body.appendChild(element);\n    }\n\n    const hashes = {\"https://cdn.bokeh.org/bokeh/release/bokeh-2.2.3.min.js\": \"T2yuo9Oe71Cz/I4X9Ac5+gpEa5a8PpJCDlqKYO0CfAuEszu1JrXLl8YugMqYe3sM\", \"https://cdn.bokeh.org/bokeh/release/bokeh-widgets-2.2.3.min.js\": \"98GDGJ0kOMCUMUePhksaQ/GYgB3+NH9h996V88sh3aOiUNX3N+fLXAtry6xctSZ6\", \"https://cdn.bokeh.org/bokeh/release/bokeh-tables-2.2.3.min.js\": \"89bArO+nlbP3sgakeHjCo1JYxYR5wufVgA3IbUvDY+K7w4zyxJqssu7wVnfeKCq8\"};\n\n    for (var i = 0; i < js_urls.length; i++) {\n      var url = js_urls[i];\n      var element = document.createElement('script');\n      element.onload = on_load;\n      element.onerror = on_error;\n      element.async = false;\n      element.src = url;\n      if (url in hashes) {\n        element.crossOrigin = \"anonymous\";\n        element.integrity = \"sha384-\" + hashes[url];\n      }\n      console.debug(\"Bokeh: injecting script tag for BokehJS library: \", url);\n      document.head.appendChild(element);\n    }\n  };\n\n  function inject_raw_css(css) {\n    const element = document.createElement(\"style\");\n    element.appendChild(document.createTextNode(css));\n    document.body.appendChild(element);\n  }\n\n  \n  var js_urls = [\"https://cdn.bokeh.org/bokeh/release/bokeh-2.2.3.min.js\", \"https://cdn.bokeh.org/bokeh/release/bokeh-widgets-2.2.3.min.js\", \"https://cdn.bokeh.org/bokeh/release/bokeh-tables-2.2.3.min.js\"];\n  var css_urls = [];\n  \n\n  var inline_js = [\n    function(Bokeh) {\n      Bokeh.set_log_level(\"info\");\n    },\n    function(Bokeh) {\n    \n    \n    }\n  ];\n\n  function run_inline_js() {\n    \n    if (root.Bokeh !== undefined || force === true) {\n      \n    for (var i = 0; i < inline_js.length; i++) {\n      inline_js[i].call(root, root.Bokeh);\n    }\n    if (force === true) {\n        display_loaded();\n      }} else if (Date.now() < root._bokeh_timeout) {\n      setTimeout(run_inline_js, 100);\n    } else if (!root._bokeh_failed_load) {\n      console.log(\"Bokeh: BokehJS failed to load within specified timeout.\");\n      root._bokeh_failed_load = true;\n    } else if (force !== true) {\n      var cell = $(document.getElementById(\"1403\")).parents('.cell').data().cell;\n      cell.output_area.append_execute_result(NB_LOAD_WARNING)\n    }\n\n  }\n\n  if (root._bokeh_is_loading === 0) {\n    console.debug(\"Bokeh: BokehJS loaded, going straight to plotting\");\n    run_inline_js();\n  } else {\n    load_libs(css_urls, js_urls, function() {\n      console.debug(\"Bokeh: BokehJS plotting callback run at\", now());\n      run_inline_js();\n    });\n  }\n}(window));"
     },
     "metadata": {},
     "output_type": "display_data"
    },
    {
     "data": {
      "text/html": [
       "\n",
       "\n",
       "\n",
       "\n",
       "\n",
       "\n",
       "  <div class=\"bk-root\" id=\"79227b8b-332c-4aea-a5b3-128d587eaedd\" data-root-id=\"1402\"></div>\n"
      ]
     },
     "metadata": {},
     "output_type": "display_data"
    },
    {
     "data": {
      "application/javascript": [
       "(function(root) {\n",
       "  function embed_document(root) {\n",
       "    \n",
       "  var docs_json = {\"1c9c03b3-25ab-46fb-bedf-4e3ea1fb8cd3\":{\"roots\":{\"references\":[{\"attributes\":{\"children\":[{\"id\":\"1003\"},{\"id\":\"1004\"},{\"id\":\"1191\"},{\"id\":\"1192\"}]},\"id\":\"1402\",\"type\":\"Column\"},{\"attributes\":{\"data\":{\"4755\":{\"__ndarray__\":\"AAAAAAAAAACcobSTe1PPP1dZzXyzLNE/l5W6j1LNtT8H6uug8fW5P1rVij712NI/kKO4C7Khuj/RwjmAzJjQP93OCbnmn8o/8KT4M3g9wj/AMKWT7cWqP9D6bgmD8cI/FfrOwH/5xD/e2WMW5KK+P2FegaM1r7Q/GEs449V6yT+v7xqK+Q7EP1ODWoulfcQ/aSVIQcaGtz81+VxklvvMP5o5gf2kN7w/DjivkXjxyj+W6bjFHzbEP7yKSF+cdtA/Acb7wG3dvD8mAAZVsTvHP7ih+SvdQ7Q/N6a8WhnZwD81+16mGbDJP+LiGGegh6c/X6EwWODAyz+UB/E2WS69P3YCmnDS088/72W00NJd2j9u10bwk1++P1bcg2ER+M8/IXaNuRHNzj+gVpNr4DbLPzyH2PlxWr0/I5dNA1L0uT/PL3JG6Q/APzXoGPfMsrQ/hqt/GN4fvz+efOxB/HiyP4hHw+/2/MY/0ZVtSlm4vT8BjTOylciwPw04v3b5sqQ/zkgwLNadsD/ia/+l27i/Px/sEznTccc/Sybwo2vouT86HfDi/U/DP/1CN+MuLsk/iiFGzOvMxz+I6aRUbGK7PyuJh/QARa8/bPoew4xPwj+GGZd/aG+2P5UkWmw2T7s/yR5BpJNWwj83InBpvf/KP4KMBl2LtMA/g6JwS9+Uuj9vV2pLPcq+P5XzEhlWOcA/LFffj/93wD+aJITg5uK0P2sRF+ojgcA/P0+yVaHEyT+oh1cSNW7KPyXiYJMf+bU/+ANYebtzsD957omJxpO1P/lt0B7t0LU/LO8w/V9ywT9Gl7i1hBuwP6bnze2Eyro/7ojvLR1+tj8t4cL+qAixP68tqdFxK8Q/vPtakqj0zz96xmykTWimP8/5LjMVrbU/eZ4AF/CBwz+90IwYmmzLP5YE0nJbh8Y/o6sUmODE1T9VCuvP5SDFP5ieP+e7Srs/4W1PKn6Rwz9/zjePWFvDP411VcFV6sM/MgzPSAYfwz/h9X/wsJi+P18EziTX5sA/0wRaasfDwD8/yQzhP427P1ryL5ELIsM/XrPElvHowT8=\",\"dtype\":\"float64\",\"order\":\"little\",\"shape\":[100]},\"6701\":{\"__ndarray__\":\"AAAAAAAAAABpGGUGnwHEP7PF7YlAa8A/yi1Taw7Zpz8vSQLAUxS9P8gzMXAxIbw/5uP9ZPC/yz9dMET96WDTPxCcEzxFs8U/+GEJ5BMN0D/Y2Hp5jcisP9lfyp9Zfbs/yhvVltK0xD/SxUfNG8fGP6/ZwVKUQNg/wujomo9Iwz/XoH0a+/PSP/Z9eBcjOLw/3jiLRrGwxT+Kif4EktHAP4EDvM0yR8I/pCHDcKY2xj+3CyLUYyC8PynWwayEUrc/JSXM7XIPyz89K95ENVDMP/FH0OZy3L4/et1j0ho1zz8LfyiGHgnOP/j2HGLG0cI/eQNyXrpzwT9AuVbw20nIPzLeSnnWXcE/rvCROtYMtT8G7T+gFF69P6ETcGiu6tA/n/PSkNRt2D9qs2zNN1XNP8Kh1F8ccsc/LOD2pZTCwD/aEdOog3LLPzVCkW9CU90/PIfYrGNu3T8iLiZQgsrSP6JNAnGb8NQ/DIGWqAbF1D+Xx0LXDjupP1g8n8xvbt4/nXCeHApepT+XeudAtUvcP9O+qVfIFsc/niqoPCTyyT+52JlZ6XLDP/iWhSkMbMA/j7IA7Qk4tz9dCRfjfDDUP3O9M+vLPsE///2AQ9Mv0z+rLccNtKfKP474JSimrLs/HPEwWZFysj/Dtg10Qku9P1Ub+Ss7Pbw/kM+2K0MQ1j9edX+6BSzPP7c9PjZGfNs/eHid6U2fyz9iN55JPZ+5P3iDu0qFBrc/2Hiq1nCXtT95qaA7SUK5P8xKJyhclcc/mUdgIVOi4z/sEMGzZNrOP8+Lov/agLo/r8TJ5zS6zD/XiCEbZim3P6SL4ibY3LM/WFnOHbMUvz++P3SsvBazP/htOyc0e60//2PKsT3JuT8YykyeairBPy97ocnaAa4/lhho9VqIvD8teOZzHL7CP98U4VJF28Y/VzVHXLyutj92MQ+VB4TOP2x5NG5Mp8g/UrZihk8esj8tsllyM3LPP+SDeJVuJMw/z7fCMFMbtz/IoZoYOibCP0j6Gkk92cc/tvB+TNwzvz+gMwle5oC8P3nhKk1XirY/Xx/CeXORwj8=\",\"dtype\":\"float64\",\"order\":\"little\",\"shape\":[100]},\"7203\":{\"__ndarray__\":\"AAAAAAAAAACprl4mi9q6P3hNxSVblNM/sFWtsPPXrj8+oY4slSDKP3YRqOUrg84/idpUBolcvT8YdJf5Oh/CP03ZEY3PE8I/Vq02oZAMwD+9LXrLALDjPxWGtxej4co/4kiBXtj2uz9pc9cQKPbFP0pClpzwCLI/J1KpOtUxuz+Tku6BRTy2P9+pCAdg+NI/m7I6kUXt0D8nSs8rmbLPP/z/7O93o8Q/SDww4VkJyz/sJ/QYo/nNP6NVoainK8A/z3zXnGTSzz9FB7hVAG/HP6T3DPeakds/EPPFH0xCyD+tT+QgjOrIP210YwwR2t0/0kDQ7sSkuz+RJoNzwyG8PzYx9qw218k/Tw/lOZL1tD/7QiMo1HHFP7wyOUKCdLU/QtcRNiETxz/F6x0haUTEP/f1/g76xsg/+reFbLXh3D9dShb3UGXRP5cw/BVk2bM/0LvgLFb/tD8XiXF8sFLEP9MmNIrffcg/qLSaszNeqD/eNe1t6s/lP61i6oD1qME/ji0J8RK0qj+aIcNazvPJPxGrSbnXpcQ/9euF61o5tT/LDzM3iDjUP7BS6hRKzL0/ihHWSILztT8nmZUP4KXAP20eRfuLEeM/G5imyrcStj9ScZptf4e7P5ADPzRPTdg/ihZVWweRpj9gdAiPHmDIP7W6WDx8jbY/K3mKwKB0tj9omZeNf4q4P5mGuSx28bY/Qj/jrp8+yT/97YNYGZfVP+jwjtuTo8Q/UWQ59t4gtT/SvZM9BwTSP4RoB6x/gck/UHTw5Tgftz9PnObnmQLUP+LJ/JSAisE/sWYr3yKA2z8OHb5QUgTWPzULsEyvA7Q/tmr8+TeOwz+15Vfzf47LP+o2qj6zp94/mPoBvWD2wD+3nRyC6fvkP8WgEQu1VNo/GmL/Kvfzwj+aL0x6JYjAP62uB4vKZb4/Nin7KGmZ0j9pQaKyuRDAPyh1NC1nQsI/wHyO8+ve0T8p080STgS/P2HZUOzhS8I/wHrHPW3S3D8ZAyNb2AK8P4t/rZaJEsU/fG2YGEMSvz+KZpTgnu+9P+6l4I/LYcE/I73/W0PmvT8=\",\"dtype\":\"float64\",\"order\":\"little\",\"shape\":[100]},\"7267\":{\"__ndarray__\":\"AAAAAAAAAAAunju6tvXRPwqpQp4nyrg/+6CGkagBqz+gvkc93j2rPyGssE1CXbQ/6UjpXXgbtD90q5iec2ezP9zBKlZp68U/8WO5rAwMzj+QJekxKHGrPzT3VkLhv8o/2dcVNApvvj//HwvWNJzAP80CF7QM5ck/ekE8BJDvwz9wQwLqPre3Pzkp1+Dnl8M/k6SaX+6qwD9WXQZLekPDP4NpCq8fk70/GAjuhPvAvj9l8GPhnJnBP/rsLjOioLs/1MCkmr39xj8AmU8ENhHAPxFQlkohIMU/j3bqmRUbwD8MNQTSYnHAP9MR4BaWDq8/tzrNVewhxD+0x33P5B7DP6zdYIlsDrc/UhWyl97usz/QJeGHrL20P+I02VQuNr8/cYcIwyEHsj+xPXu0WDOvPzWIKDaiN8w/+1AbxI/nsj/eUayL4kq6P8My2bxj68k/S0sDTXYntT9yX/MgozCxPxAG8dm/5bI/lW1Wa618uT/YY7uPZ/WwP7x6CxbfNb4/PaNMioqb5T+mB4sPOfm1P2Rh0Rj088U/xZVaxYMLxD+ILEuzixK5P0tryT4ijM4/TCe8lIvSpz9D1O/3zVrFP+htk2nWFrc//cMi32ekxD8NarUdFVvYP/nZIAxXIrA/J5L/evp/sT/DmWXoQCC3PxQpc+IEqsI/J4QSchZ7vD/NOHebHE7NPwtzJ9X3GLA/SKMTUF1Dtz+d68snBf/BP5E++FQWzs4/7LO0RrB0wj8VeidGMcipP342FcKuzM0/T0wfrQfPtj9tdx5aySK5P2PIu0bzQbM/ageHya8GrD8586J2it3EP2SbnhNNisU/X3c0ftlBsD++z0ZbhfKyP6XnMdoON8E/PZeuRng4uT8BizFp7runP4XTsbfgec0/n/ki1Of20D+LPELAo5HCPwQo9nacesM/nSZun573wD8WV88asQrPP0T0SAZis9c/REX29jbwyD92COaDRdPGPz1DKieajsM/MXmXmlVzvD8S0Y3+SJG4PzKKeANS0tA/XuKsB7ES0D9+buVhPUnQP2ojbzszMLg/bb2a7dKe0D8=\",\"dtype\":\"float64\",\"order\":\"little\",\"shape\":[100]},\"9984\":{\"__ndarray__\":\"AAAAAAAAAADnFhNfSx67PzWNZDcE4LM/f3rn4z9QsD8y8bTnduPBP9po6o0pv70/KAThBbFwzT8PKcB4nJm3P4Sv00XU5cI/uC8GAeJJwT/Qwrn29hvBP+jmrcXW8bs/LY9X1Uk80z/G84ptSSHPP7sCmsRIGrA/QZ4YgT+Xxz8VhSFrYFLJPylIykXaesM/tXbPGnbYyz8zqav0FT/APzVPWVU03sk/iEMQETMNxT8DAse9hNjEP+HDVbGKcbc/nyjUw7lAuT9piNi6fPPBP2U5cpUAWrI/QvxLdBXKxT+YbjZ+DrG/P+ESQPlqUMI/kCsBQTpgyD8B1+PLf+m+Pz7SsWu//LU/mR/KS6CnxT8NqgdrOx3EP7UPg/mGvMM/80icTMCCrz+s6QcVSAGpP3OYRf5ULLo/s9FjgOl5uT+oPcxei7HLP44K0pq7f7Q/jhuwToTRuj9PcXjCRXbEP1gf8eh7xb0/Lzq+te8P1z9MDf9nyRq2P93MIJxFs8E/NdmMCgGkuz8GujDJemCzP7kdmC4GSbU/QYYoSOtD1z+G2TSCOLHKPxuGbfntg8s/krWE6xJ94D9fczSYJkvMPyIPECx5PJw/Pmar+Gn7uj94VDVdh2G3P+1quVgdArg/5TW+uAK7qz/wk+uonA+7P+EKBeKmCdc/2+UqD+4yzj+JSDipgVW5P/B1oqdToLQ/00D8Etkg0j8Z6/k9mhPQP1sbXT/YQc0/TR/s4ngmuD8g3eX4OOzJPwy6h5bQicI/6snbhTHzrz8Gk/8/B2bGPwHzL4LjysA/cmTeB0OnqD+oq3+i1S6mP2X9MTxwP98/nv1mIDwO3D8ngi6bRI7eP/SXYB4W/q8/jCSHRvCL0j8fRCO7cx6xPynvD5ZUv7U/l0oXPpNcuD+suCVkz3vGPyqI/2UHBMI/3cE7eB7esD+QTL0EKu/AP+XoOaTyPrY/oMoZuyS1wD9r0Eum/XjIP4DqQwg838E/16U3RGxZtj+kq1r9KinbPwdfbLNBmLU/tPq3WrAC0T+1vsRkkQrFP/MLzUQA3Ns/qzU4Yq+vxz8=\",\"dtype\":\"float64\",\"order\":\"little\",\"shape\":[100]},\"datetime\":{\"__ndarray__\":\"AAAoIhZbd0IAAGZrFlt3QgAApLQWW3dCAADi/RZbd0IAACBHF1t3QgAAXpAXW3dCAACc2Rdbd0IAANoiGFt3QgAAGGwYW3dCAABWtRhbd0IAAJT+GFt3QgAA0kcZW3dCAAAQkRlbd0IAAE7aGVt3QgAAjCMaW3dCAADKbBpbd0IAAAi2Glt3QgAARv8aW3dCAACESBtbd0IAAMKRG1t3QgAAANsbW3dCAAA+JBxbd0IAAHxtHFt3QgAAurYcW3dCAAD4/xxbd0IAADZJHVt3QgAAdJIdW3dCAACy2x1bd0IAAPAkHlt3QgAALm4eW3dCAABUJiJbd0IAAJJvIlt3QgAA0LgiW3dCAAAOAiNbd0IAAExLI1t3QgAAipQjW3dCAADI3SNbd0IAAAYnJFt3QgAARHAkW3dCAACCuSRbd0IAAMACJVt3QgAA/kslW3dCAAA8lSVbd0IAAHreJVt3QgAAuCcmW3dCAAD2cCZbd0IAADS6Jlt3QgAAcgMnW3dCAACwTCdbd0IAAO6VJ1t3QgAALN8nW3dCAABqKChbd0IAAKhxKFt3QgAA5rooW3dCAAAkBClbd0IAAGJNKVt3QgAAoJYpW3dCAADe3ylbd0IAABwpKlt3QgAAWnIqW3dCAADoh2hbd0IAACbRaFt3QgAAZBppW3dCAACiY2lbd0IAAOCsaVt3QgAAHvZpW3dCAABcP2pbd0IAAJqIalt3QgAA2NFqW3dCAAAWG2tbd0IAAFRka1t3QgAAkq1rW3dCAADQ9mtbd0IAAA5AbFt3QgAATIlsW3dCAACK0mxbd0IAAMgbbVt3QgAABmVtW3dCAABErm1bd0IAAIL3bVt3QgAAwEBuW3dCAAD+iW5bd0IAADzTblt3QgAAehxvW3dCAAC4ZW9bd0IAAPaub1t3QgAANPhvW3dCAAByQXBbd0IAALCKcFt3QgAA7tNwW3dCAAAUjHRbd0IAAFLVdFt3QgAAkB51W3dCAADOZ3Vbd0IAAAyxdVt3QgAASvp1W3dCAACIQ3Zbd0IAAMaMdlt3QgAABNZ2W3dCAABCH3dbd0I=\",\"dtype\":\"float64\",\"order\":\"little\",\"shape\":[100]},\"x\":{\"__ndarray__\":\"AAAAAAEAAAACAAAAAwAAAAQAAAAFAAAABgAAAAcAAAAIAAAACQAAAAoAAAALAAAADAAAAA0AAAAOAAAADwAAABAAAAARAAAAEgAAABMAAAAUAAAAFQAAABYAAAAXAAAAGAAAABkAAAAaAAAAGwAAABwAAAAdAAAAHgAAAB8AAAAgAAAAIQAAACIAAAAjAAAAJAAAACUAAAAmAAAAJwAAACgAAAApAAAAKgAAACsAAAAsAAAALQAAAC4AAAAvAAAAMAAAADEAAAAyAAAAMwAAADQAAAA1AAAANgAAADcAAAA4AAAAOQAAADoAAAA7AAAAPAAAAD0AAAA+AAAAPwAAAEAAAABBAAAAQgAAAEMAAABEAAAARQAAAEYAAABHAAAASAAAAEkAAABKAAAASwAAAEwAAABNAAAATgAAAE8AAABQAAAAUQAAAFIAAABTAAAAVAAAAFUAAABWAAAAVwAAAFgAAABZAAAAWgAAAFsAAABcAAAAXQAAAF4AAABfAAAAYAAAAGEAAABiAAAAYwAAAA==\",\"dtype\":\"int32\",\"order\":\"little\",\"shape\":[100]},\"yen\":{\"__ndarray__\":\"AAAAAAAA8D/BTWxdGYa7PymjMowYe78/tUuzBiMh5j8nsvnVrNPYP3UfXPcarMQ/OdqSbkJh0D9IO8D/z2zAP3RK0uHGx8Q/Uaz8acGLvD/zdDYXOsi2P4Rkxmlgtcs/bjthtCimwj8SxhjTyzPEPyJ4DCSTMMo/ZkM1X+Acyj+F3s+f7bzFP414NrTGYsA/6DPx+/stwD8XWUZWXPu9P93tW0vfKNE/7USskazBvj839haY6U3JP7coFWhj2tQ/6KVPGFcRwz/yqztRZgDDPyqvMXOA/8A/ZBbjpFTKwT9qk+lCoyS+PxjQXewehME/gdQmO9x2yD83vn+COD3UPyqWm26Kcc4/2Im4jBakxj/tjlDwohnXP9y4j4iyIMA/2eoe9MW/sD8soMA5K5HSP0rQ9N7jy8c/+1IX3RpPwj8ehtf76LexP1VuISBC0Lk/bArFNSEXwz9Ku1lvNc3PP1jHJYWpnLw/j2o37guQqj9E3g32vBSqP7uYAcJu/rY/C+oT4IuxrT/ppCDI/taxP8M524UVOcw/+1PiSzzTtz9z9WryEyOzP4UWLmEf37o/mzgZC79osz/BXha/7YeuP2RblCCTLbc/b0YT9VMlyj8jHTUj1Ou/P+PH1Bo51c8/HnMo+0jH4z+W+2sCSnHSP7RJU0jGKMU/LlbBtIDUvT8sNexovjDLPzHZrqW8+Mo/kDs7E2SNtT9+aE4sA9W2PwfipgAXSMM/UH/YBaUr2T9X7ECKUorEPwbrgwkVlsM/vRmoJdKRtD/84DuVML62PwXxHRtf8N0/jkeqUFFPuz/U62kL0/XSPxhVmoaYQrU/QG084PpqwT9qOximApi3P8f20oqM37s/+kJYJzt8wD92Ih7hmTarP7AXI5sJpsA/k1r6+9EpzT9CktjUsD/IPwtf0xfW680/IWhh6MAKtT9Cvq2R+6C4P0zKkCRi1bk/kS1SeSb8xT++eauVE8i8P2n/co2DN8g/uCWyZymQvD+/Qy+PDeK7P+o9whqdvMU/3SOhPMzcuz+XMptHEWTPP8iaECLGzbg/I54LBCSlwz8=\",\"dtype\":\"float64\",\"order\":\"little\",\"shape\":[100]}},\"selected\":{\"id\":\"1181\"},\"selection_policy\":{\"id\":\"1182\"}},\"id\":\"1158\",\"type\":\"ColumnDataSource\"},{\"attributes\":{},\"id\":\"1291\",\"type\":\"UnionRenderers\"},{\"attributes\":{},\"id\":\"1369\",\"type\":\"UnionRenderers\"},{\"attributes\":{\"items\":[{\"id\":\"1069\"},{\"id\":\"1088\"},{\"id\":\"1109\"},{\"id\":\"1132\"},{\"id\":\"1157\"},{\"id\":\"1184\"}]},\"id\":\"1068\",\"type\":\"Legend\"},{\"attributes\":{\"label\":{\"value\":\"7267\"},\"renderers\":[{\"id\":\"1375\"}]},\"id\":\"1401\",\"type\":\"LegendItem\"},{\"attributes\":{\"end\":1.023567818914545,\"start\":0.8444046841700451},\"id\":\"1190\",\"type\":\"Range1d\"},{\"attributes\":{\"data_source\":{\"id\":\"1133\"},\"glyph\":{\"id\":\"1135\"},\"hover_glyph\":null,\"muted_glyph\":null,\"name\":\"7203\",\"nonselection_glyph\":{\"id\":\"1136\"},\"selection_glyph\":null,\"view\":{\"id\":\"1138\"},\"y_range_name\":\"portfolio_vector\"},\"id\":\"1137\",\"type\":\"GlyphRenderer\"},{\"attributes\":{\"bottom\":{\"expr\":{\"id\":\"1050\"}},\"fill_alpha\":{\"value\":0.8},\"fill_color\":{\"value\":\"#98df8a\"},\"line_alpha\":{\"value\":0.8},\"line_color\":{\"value\":\"#98df8a\"},\"top\":{\"expr\":{\"id\":\"1051\"}},\"width\":{\"value\":1},\"x\":{\"field\":\"x\"}},\"id\":\"1160\",\"type\":\"VBar\"},{\"attributes\":{\"text\":\"yen=1.0, 4755=1128.0, 9984=7072.0, 6701=5680.0, 7203=7342.0, 7267=2959.5, \"},\"id\":\"1191\",\"type\":\"Div\"},{\"attributes\":{\"line_alpha\":{\"value\":0.1},\"line_color\":{\"field\":\"line_color\"},\"line_width\":{\"value\":2},\"xs\":{\"field\":\"xs\"},\"ys\":{\"field\":\"ys\"}},\"id\":\"1187\",\"type\":\"MultiLine\"},{\"attributes\":{\"label\":{\"value\":\"6701\"},\"renderers\":[{\"id\":\"1114\"}]},\"id\":\"1132\",\"type\":\"LegendItem\"},{\"attributes\":{\"label\":{\"value\":\"all_assets\"},\"renderers\":[{\"id\":\"1236\"}]},\"id\":\"1251\",\"type\":\"LegendItem\"},{\"attributes\":{\"data_source\":{\"id\":\"1225\"},\"glyph\":{\"id\":\"1226\"},\"hover_glyph\":null,\"muted_glyph\":null,\"nonselection_glyph\":{\"id\":\"1227\"},\"selection_glyph\":null,\"view\":{\"id\":\"1229\"}},\"id\":\"1228\",\"type\":\"GlyphRenderer\"},{\"attributes\":{\"data\":{\"x\":[],\"y\":[]},\"selected\":{\"id\":\"1268\"},\"selection_policy\":{\"id\":\"1269\"}},\"id\":\"1252\",\"type\":\"ColumnDataSource\"},{\"attributes\":{\"line_color\":\"#2ca02c\",\"line_width\":2,\"x\":{\"field\":\"x\"},\"y\":{\"field\":\"y\"}},\"id\":\"1345\",\"type\":\"Line\"},{\"attributes\":{\"bottom\":{\"expr\":{\"id\":\"1046\"}},\"fill_alpha\":{\"value\":0.1},\"fill_color\":{\"value\":\"#ffbb78\"},\"line_alpha\":{\"value\":0.1},\"line_color\":{\"value\":\"#ffbb78\"},\"top\":{\"expr\":{\"id\":\"1047\"}},\"width\":{\"value\":1},\"x\":{\"field\":\"x\"}},\"id\":\"1113\",\"type\":\"VBar\"},{\"attributes\":{\"source\":{\"id\":\"1185\"}},\"id\":\"1189\",\"type\":\"CDSView\"},{\"attributes\":{\"label\":{\"value\":\"7203\"},\"renderers\":[{\"id\":\"1137\"}]},\"id\":\"1157\",\"type\":\"LegendItem\"},{\"attributes\":{\"data_source\":{\"id\":\"1294\"},\"glyph\":{\"id\":\"1295\"},\"hover_glyph\":null,\"muted_glyph\":null,\"nonselection_glyph\":{\"id\":\"1296\"},\"selection_glyph\":null,\"view\":{\"id\":\"1298\"}},\"id\":\"1297\",\"type\":\"GlyphRenderer\"},{\"attributes\":{\"end\":1005075.0766094507,\"start\":987146.0970481558},\"id\":\"1231\",\"type\":\"Range1d\"},{\"attributes\":{\"axis_label\":\"\\u6b63\\u898f\\u5316\\u5e73\\u5747\\u53d6\\u5f97\\u4fa1\\u683c\",\"formatter\":{\"id\":\"1243\"},\"ticker\":{\"id\":\"1208\"}},\"id\":\"1207\",\"type\":\"LinearAxis\"},{\"attributes\":{\"source\":{\"id\":\"1110\"}},\"id\":\"1115\",\"type\":\"CDSView\"},{\"attributes\":{\"axis\":{\"id\":\"1207\"},\"dimension\":1,\"ticker\":null},\"id\":\"1210\",\"type\":\"Grid\"},{\"attributes\":{},\"id\":\"1341\",\"type\":\"UnionRenderers\"},{\"attributes\":{},\"id\":\"1060\",\"type\":\"BasicTicker\"},{\"attributes\":{\"line_alpha\":0.1,\"line_color\":\"#2ca02c\",\"line_width\":2,\"x\":{\"field\":\"x\"},\"y\":{\"field\":\"y\"}},\"id\":\"1346\",\"type\":\"Line\"},{\"attributes\":{},\"id\":\"1181\",\"type\":\"Selection\"},{\"attributes\":{\"below\":[{\"id\":\"1203\"}],\"center\":[{\"id\":\"1206\"},{\"id\":\"1210\"},{\"id\":\"1250\"}],\"extra_y_ranges\":{\"all_assets\":{\"id\":\"1231\"}},\"left\":[{\"id\":\"1207\"}],\"plot_height\":300,\"plot_width\":1200,\"renderers\":[{\"id\":\"1228\"},{\"id\":\"1236\"},{\"id\":\"1255\"},{\"id\":\"1275\"},{\"id\":\"1297\"},{\"id\":\"1321\"},{\"id\":\"1347\"},{\"id\":\"1375\"}],\"right\":[{\"id\":\"1232\"}],\"title\":{\"id\":\"1193\"},\"toolbar\":{\"id\":\"1218\"},\"x_range\":{\"id\":\"1195\"},\"x_scale\":{\"id\":\"1199\"},\"y_range\":{\"id\":\"1230\"},\"y_scale\":{\"id\":\"1201\"}},\"id\":\"1192\",\"subtype\":\"Figure\",\"type\":\"Plot\"},{\"attributes\":{},\"id\":\"1204\",\"type\":\"BasicTicker\"},{\"attributes\":{},\"id\":\"1061\",\"type\":\"BasicTickFormatter\"},{\"attributes\":{},\"id\":\"1201\",\"type\":\"LinearScale\"},{\"attributes\":{},\"id\":\"1063\",\"type\":\"BasicTickFormatter\"},{\"attributes\":{\"source\":{\"id\":\"1372\"}},\"id\":\"1376\",\"type\":\"CDSView\"},{\"attributes\":{\"label\":{\"value\":\"4755\"},\"renderers\":[{\"id\":\"1275\"}]},\"id\":\"1293\",\"type\":\"LegendItem\"},{\"attributes\":{\"data\":{\"x\":[],\"y\":[]},\"selected\":{\"id\":\"1314\"},\"selection_policy\":{\"id\":\"1315\"}},\"id\":\"1294\",\"type\":\"ColumnDataSource\"},{\"attributes\":{},\"id\":\"1066\",\"type\":\"UnionRenderers\"},{\"attributes\":{},\"id\":\"1368\",\"type\":\"Selection\"},{\"attributes\":{\"text\":\"\\u6b63\\u898f\\u5316\\u5e73\\u5747\\u53d6\\u5f97\\u4fa1\\u683c\\u30fb\\u5168\\u8cc7\\u7523\"},\"id\":\"1193\",\"type\":\"Title\"},{\"attributes\":{\"line_color\":{\"field\":\"line_color\"},\"line_width\":{\"value\":2},\"xs\":{\"field\":\"xs\"},\"ys\":{\"field\":\"ys\"}},\"id\":\"1186\",\"type\":\"MultiLine\"},{\"attributes\":{},\"id\":\"1208\",\"type\":\"BasicTicker\"},{\"attributes\":{\"formatter\":{\"id\":\"1061\"},\"major_label_overrides\":{\"0\":\"2020-11-10 09:00:00\",\"1\":\"2020-11-10 09:05:00\",\"10\":\"2020-11-10 09:50:00\",\"11\":\"2020-11-10 09:55:00\",\"12\":\"2020-11-10 10:00:00\",\"13\":\"2020-11-10 10:05:00\",\"14\":\"2020-11-10 10:10:00\",\"15\":\"2020-11-10 10:15:00\",\"16\":\"2020-11-10 10:20:00\",\"17\":\"2020-11-10 10:25:00\",\"18\":\"2020-11-10 10:30:00\",\"19\":\"2020-11-10 10:35:00\",\"2\":\"2020-11-10 09:10:00\",\"20\":\"2020-11-10 10:40:00\",\"21\":\"2020-11-10 10:45:00\",\"22\":\"2020-11-10 10:50:00\",\"23\":\"2020-11-10 10:55:00\",\"24\":\"2020-11-10 11:00:00\",\"25\":\"2020-11-10 11:05:00\",\"26\":\"2020-11-10 11:10:00\",\"27\":\"2020-11-10 11:15:00\",\"28\":\"2020-11-10 11:20:00\",\"29\":\"2020-11-10 11:25:00\",\"3\":\"2020-11-10 09:15:00\",\"30\":\"2020-11-10 12:30:00\",\"31\":\"2020-11-10 12:35:00\",\"32\":\"2020-11-10 12:40:00\",\"33\":\"2020-11-10 12:45:00\",\"34\":\"2020-11-10 12:50:00\",\"35\":\"2020-11-10 12:55:00\",\"36\":\"2020-11-10 13:00:00\",\"37\":\"2020-11-10 13:05:00\",\"38\":\"2020-11-10 13:10:00\",\"39\":\"2020-11-10 13:15:00\",\"4\":\"2020-11-10 09:20:00\",\"40\":\"2020-11-10 13:20:00\",\"41\":\"2020-11-10 13:25:00\",\"42\":\"2020-11-10 13:30:00\",\"43\":\"2020-11-10 13:35:00\",\"44\":\"2020-11-10 13:40:00\",\"45\":\"2020-11-10 13:45:00\",\"46\":\"2020-11-10 13:50:00\",\"47\":\"2020-11-10 13:55:00\",\"48\":\"2020-11-10 14:00:00\",\"49\":\"2020-11-10 14:05:00\",\"5\":\"2020-11-10 09:25:00\",\"50\":\"2020-11-10 14:10:00\",\"51\":\"2020-11-10 14:15:00\",\"52\":\"2020-11-10 14:20:00\",\"53\":\"2020-11-10 14:25:00\",\"54\":\"2020-11-10 14:30:00\",\"55\":\"2020-11-10 14:35:00\",\"56\":\"2020-11-10 14:40:00\",\"57\":\"2020-11-10 14:45:00\",\"58\":\"2020-11-10 14:50:00\",\"59\":\"2020-11-10 14:55:00\",\"6\":\"2020-11-10 09:30:00\",\"60\":\"2020-11-11 09:00:00\",\"61\":\"2020-11-11 09:05:00\",\"62\":\"2020-11-11 09:10:00\",\"63\":\"2020-11-11 09:15:00\",\"64\":\"2020-11-11 09:20:00\",\"65\":\"2020-11-11 09:25:00\",\"66\":\"2020-11-11 09:30:00\",\"67\":\"2020-11-11 09:35:00\",\"68\":\"2020-11-11 09:40:00\",\"69\":\"2020-11-11 09:45:00\",\"7\":\"2020-11-10 09:35:00\",\"70\":\"2020-11-11 09:50:00\",\"71\":\"2020-11-11 09:55:00\",\"72\":\"2020-11-11 10:00:00\",\"73\":\"2020-11-11 10:05:00\",\"74\":\"2020-11-11 10:10:00\",\"75\":\"2020-11-11 10:15:00\",\"76\":\"2020-11-11 10:20:00\",\"77\":\"2020-11-11 10:25:00\",\"78\":\"2020-11-11 10:30:00\",\"79\":\"2020-11-11 10:35:00\",\"8\":\"2020-11-10 09:40:00\",\"80\":\"2020-11-11 10:40:00\",\"81\":\"2020-11-11 10:45:00\",\"82\":\"2020-11-11 10:50:00\",\"83\":\"2020-11-11 10:55:00\",\"84\":\"2020-11-11 11:00:00\",\"85\":\"2020-11-11 11:05:00\",\"86\":\"2020-11-11 11:10:00\",\"87\":\"2020-11-11 11:15:00\",\"88\":\"2020-11-11 11:20:00\",\"89\":\"2020-11-11 11:25:00\",\"9\":\"2020-11-10 09:45:00\",\"90\":\"2020-11-11 12:30:00\",\"91\":\"2020-11-11 12:35:00\",\"92\":\"2020-11-11 12:40:00\",\"93\":\"2020-11-11 12:45:00\",\"94\":\"2020-11-11 12:50:00\",\"95\":\"2020-11-11 12:55:00\",\"96\":\"2020-11-11 13:00:00\",\"97\":\"2020-11-11 13:05:00\",\"98\":\"2020-11-11 13:10:00\",\"99\":\"2020-11-11 13:15:00\"},\"ticker\":{\"id\":\"1016\"}},\"id\":\"1015\",\"type\":\"LinearAxis\"},{\"attributes\":{},\"id\":\"1340\",\"type\":\"Selection\"},{\"attributes\":{\"label\":{\"value\":\"yen\"},\"renderers\":[{\"id\":\"1255\"}]},\"id\":\"1271\",\"type\":\"LegendItem\"},{\"attributes\":{},\"id\":\"1268\",\"type\":\"Selection\"},{\"attributes\":{\"data_source\":{\"id\":\"1344\"},\"glyph\":{\"id\":\"1345\"},\"hover_glyph\":null,\"muted_glyph\":null,\"nonselection_glyph\":{\"id\":\"1346\"},\"selection_glyph\":null,\"view\":{\"id\":\"1348\"}},\"id\":\"1347\",\"type\":\"GlyphRenderer\"},{\"attributes\":{},\"id\":\"1269\",\"type\":\"UnionRenderers\"},{\"attributes\":{\"source\":{\"id\":\"1344\"}},\"id\":\"1348\",\"type\":\"CDSView\"},{\"attributes\":{},\"id\":\"1315\",\"type\":\"UnionRenderers\"},{\"attributes\":{\"line_alpha\":0.1,\"line_color\":\"#1f77b4\",\"line_width\":2,\"x\":{\"field\":\"x\"},\"y\":{\"field\":\"y\"}},\"id\":\"1254\",\"type\":\"Line\"},{\"attributes\":{\"axis\":{\"id\":\"1203\"},\"ticker\":null},\"id\":\"1206\",\"type\":\"Grid\"},{\"attributes\":{\"data\":{\"line_color\":[\"#1f77b4\",\"#aec7e8\",\"#ff7f0e\",\"#ffbb78\",\"#2ca02c\",\"#98df8a\"],\"xs\":[{\"__ndarray__\":\"AAAAAAEAAAACAAAAAwAAAAQAAAAFAAAABgAAAAcAAAAIAAAACQAAAAoAAAALAAAADAAAAA0AAAAOAAAADwAAABAAAAARAAAAEgAAABMAAAAUAAAAFQAAABYAAAAXAAAAGAAAABkAAAAaAAAAGwAAABwAAAAdAAAAHgAAAB8AAAAgAAAAIQAAACIAAAAjAAAAJAAAACUAAAAmAAAAJwAAACgAAAApAAAAKgAAACsAAAAsAAAALQAAAC4AAAAvAAAAMAAAADEAAAAyAAAAMwAAADQAAAA1AAAANgAAADcAAAA4AAAAOQAAADoAAAA7AAAAPAAAAD0AAAA+AAAAPwAAAEAAAABBAAAAQgAAAEMAAABEAAAARQAAAEYAAABHAAAASAAAAEkAAABKAAAASwAAAEwAAABNAAAATgAAAE8AAABQAAAAUQAAAFIAAABTAAAAVAAAAFUAAABWAAAAVwAAAFgAAABZAAAAWgAAAFsAAABcAAAAXQAAAF4AAABfAAAAYAAAAGEAAABiAAAAYwAAAA==\",\"dtype\":\"int32\",\"order\":\"little\",\"shape\":[100]},{\"__ndarray__\":\"AAAAAAEAAAACAAAAAwAAAAQAAAAFAAAABgAAAAcAAAAIAAAACQAAAAoAAAALAAAADAAAAA0AAAAOAAAADwAAABAAAAARAAAAEgAAABMAAAAUAAAAFQAAABYAAAAXAAAAGAAAABkAAAAaAAAAGwAAABwAAAAdAAAAHgAAAB8AAAAgAAAAIQAAACIAAAAjAAAAJAAAACUAAAAmAAAAJwAAACgAAAApAAAAKgAAACsAAAAsAAAALQAAAC4AAAAvAAAAMAAAADEAAAAyAAAAMwAAADQAAAA1AAAANgAAADcAAAA4AAAAOQAAADoAAAA7AAAAPAAAAD0AAAA+AAAAPwAAAEAAAABBAAAAQgAAAEMAAABEAAAARQAAAEYAAABHAAAASAAAAEkAAABKAAAASwAAAEwAAABNAAAATgAAAE8AAABQAAAAUQAAAFIAAABTAAAAVAAAAFUAAABWAAAAVwAAAFgAAABZAAAAWgAAAFsAAABcAAAAXQAAAF4AAABfAAAAYAAAAGEAAABiAAAAYwAAAA==\",\"dtype\":\"int32\",\"order\":\"little\",\"shape\":[100]},{\"__ndarray__\":\"AAAAAAEAAAACAAAAAwAAAAQAAAAFAAAABgAAAAcAAAAIAAAACQAAAAoAAAALAAAADAAAAA0AAAAOAAAADwAAABAAAAARAAAAEgAAABMAAAAUAAAAFQAAABYAAAAXAAAAGAAAABkAAAAaAAAAGwAAABwAAAAdAAAAHgAAAB8AAAAgAAAAIQAAACIAAAAjAAAAJAAAACUAAAAmAAAAJwAAACgAAAApAAAAKgAAACsAAAAsAAAALQAAAC4AAAAvAAAAMAAAADEAAAAyAAAAMwAAADQAAAA1AAAANgAAADcAAAA4AAAAOQAAADoAAAA7AAAAPAAAAD0AAAA+AAAAPwAAAEAAAABBAAAAQgAAAEMAAABEAAAARQAAAEYAAABHAAAASAAAAEkAAABKAAAASwAAAEwAAABNAAAATgAAAE8AAABQAAAAUQAAAFIAAABTAAAAVAAAAFUAAABWAAAAVwAAAFgAAABZAAAAWgAAAFsAAABcAAAAXQAAAF4AAABfAAAAYAAAAGEAAABiAAAAYwAAAA==\",\"dtype\":\"int32\",\"order\":\"little\",\"shape\":[100]},{\"__ndarray__\":\"AAAAAAEAAAACAAAAAwAAAAQAAAAFAAAABgAAAAcAAAAIAAAACQAAAAoAAAALAAAADAAAAA0AAAAOAAAADwAAABAAAAARAAAAEgAAABMAAAAUAAAAFQAAABYAAAAXAAAAGAAAABkAAAAaAAAAGwAAABwAAAAdAAAAHgAAAB8AAAAgAAAAIQAAACIAAAAjAAAAJAAAACUAAAAmAAAAJwAAACgAAAApAAAAKgAAACsAAAAsAAAALQAAAC4AAAAvAAAAMAAAADEAAAAyAAAAMwAAADQAAAA1AAAANgAAADcAAAA4AAAAOQAAADoAAAA7AAAAPAAAAD0AAAA+AAAAPwAAAEAAAABBAAAAQgAAAEMAAABEAAAARQAAAEYAAABHAAAASAAAAEkAAABKAAAASwAAAEwAAABNAAAATgAAAE8AAABQAAAAUQAAAFIAAABTAAAAVAAAAFUAAABWAAAAVwAAAFgAAABZAAAAWgAAAFsAAABcAAAAXQAAAF4AAABfAAAAYAAAAGEAAABiAAAAYwAAAA==\",\"dtype\":\"int32\",\"order\":\"little\",\"shape\":[100]},{\"__ndarray__\":\"AAAAAAEAAAACAAAAAwAAAAQAAAAFAAAABgAAAAcAAAAIAAAACQAAAAoAAAALAAAADAAAAA0AAAAOAAAADwAAABAAAAARAAAAEgAAABMAAAAUAAAAFQAAABYAAAAXAAAAGAAAABkAAAAaAAAAGwAAABwAAAAdAAAAHgAAAB8AAAAgAAAAIQAAACIAAAAjAAAAJAAAACUAAAAmAAAAJwAAACgAAAApAAAAKgAAACsAAAAsAAAALQAAAC4AAAAvAAAAMAAAADEAAAAyAAAAMwAAADQAAAA1AAAANgAAADcAAAA4AAAAOQAAADoAAAA7AAAAPAAAAD0AAAA+AAAAPwAAAEAAAABBAAAAQgAAAEMAAABEAAAARQAAAEYAAABHAAAASAAAAEkAAABKAAAASwAAAEwAAABNAAAATgAAAE8AAABQAAAAUQAAAFIAAABTAAAAVAAAAFUAAABWAAAAVwAAAFgAAABZAAAAWgAAAFsAAABcAAAAXQAAAF4AAABfAAAAYAAAAGEAAABiAAAAYwAAAA==\",\"dtype\":\"int32\",\"order\":\"little\",\"shape\":[100]},{\"__ndarray__\":\"AAAAAAEAAAACAAAAAwAAAAQAAAAFAAAABgAAAAcAAAAIAAAACQAAAAoAAAALAAAADAAAAA0AAAAOAAAADwAAABAAAAARAAAAEgAAABMAAAAUAAAAFQAAABYAAAAXAAAAGAAAABkAAAAaAAAAGwAAABwAAAAdAAAAHgAAAB8AAAAgAAAAIQAAACIAAAAjAAAAJAAAACUAAAAmAAAAJwAAACgAAAApAAAAKgAAACsAAAAsAAAALQAAAC4AAAAvAAAAMAAAADEAAAAyAAAAMwAAADQAAAA1AAAANgAAADcAAAA4AAAAOQAAADoAAAA7AAAAPAAAAD0AAAA+AAAAPwAAAEAAAABBAAAAQgAAAEMAAABEAAAARQAAAEYAAABHAAAASAAAAEkAAABKAAAASwAAAEwAAABNAAAATgAAAE8AAABQAAAAUQAAAFIAAABTAAAAVAAAAFUAAABWAAAAVwAAAFgAAABZAAAAWgAAAFsAAABcAAAAXQAAAF4AAABfAAAAYAAAAGEAAABiAAAAYwAAAA==\",\"dtype\":\"int32\",\"order\":\"little\",\"shape\":[100]}],\"ys\":[{\"__ndarray__\":\"AAAAAAAA8D/////////vPwAAAAAAAPA/AAAAAAAA8D8AAAAAAADwPwAAAAAAAPA/AAAAAAAA8D8AAAAAAADwPwAAAAAAAPA/AAAAAAAA8D8AAAAAAADwPwAAAAAAAPA/AAAAAAAA8D8AAAAAAADwPwAAAAAAAPA/AAAAAAAA8D8AAAAAAADwPwAAAAAAAPA/AAAAAAAA8D8AAAAAAADwPwAAAAAAAPA/////////7z8AAAAAAADwPwAAAAAAAPA/AAAAAAAA8D8AAAAAAADwPwAAAAAAAPA/AAAAAAAA8D8AAAAAAADwPwAAAAAAAPA/AAAAAAAA8D8AAAAAAADwPwAAAAAAAPA/AAAAAAAA8D8AAAAAAADwP////////+8/AAAAAAAA8D8AAAAAAADwPwAAAAAAAPA/AAAAAAAA8D8AAAAAAADwPwAAAAAAAPA/AAAAAAAA8D8AAAAAAADwPwAAAAAAAPA/AAAAAAAA8D8AAAAAAADwPwAAAAAAAPA/AAAAAAAA8D8AAAAAAADwPwAAAAAAAPA/AAAAAAAA8D8AAAAAAADwPwAAAAAAAPA/AAAAAAAA8D8AAAAAAADwPwAAAAAAAPA/AAAAAAAA8D8AAAAAAADwPwAAAAAAAPA/AAAAAAAA8D8AAAAAAADwPwAAAAAAAPA/AAAAAAAA8D8AAAAAAADwPwAAAAAAAPA/AAAAAAAA8D8AAAAAAADwPwAAAAAAAPA/AAAAAAAA8D8AAAAAAADwPwAAAAAAAPA/AAAAAAAA8D8AAAAAAADwPwAAAAAAAPA/AAAAAAAA8D8AAAAAAADwP/7//////+8/AAAAAAAA8D8AAAAAAADwPwAAAAAAAPA/AAAAAAAA8D8AAAAAAADwPwAAAAAAAPA/AAAAAAAA8D8AAAAAAADwPwAAAAAAAPA/AAAAAAAA8D8AAAAAAADwPwAAAAAAAPA/AAAAAAAA8D8AAAAAAADwPwAAAAAAAPA/AAAAAAAA8D8AAAAAAADwPwAAAAAAAPA/AAAAAAAA8D8AAAAAAADwP////////+8/AAAAAAAA8D8=\",\"dtype\":\"float64\",\"order\":\"little\",\"shape\":[100]},{\"__ndarray__\":\"AAAAAAAA8D+O+s5GfWfvP70XmzktZu8/JrO5tVnr8D9n5f9J0i/uP2mgcRUVse4/D4/71uL87j/joLa8Xc3uPyyIyRXE5O4/M+vkJo3J7j/euxlPWBLvPwCZ4do8Qu8/DZ4vWWlW7z+0qJrPbHzvP6LNQBY9oe8/y+K0OYZ67z8+1jJ0wG7vPwXNeoksb+8/Ot6E3fKu7z8Eq+do1TTvPzqKVkzyPO8/TK4gJlcQ7z/hteWshxfvP5nZ+TPv9O4/gXG8w6/G7j+aY9fiwRbvP7YmB3V5Se8/tAGT5X4a7z+nyGsoXRzvPwUPhmkOMO8/+c2/0Z0K7z/WXhAYOTDvPx1l7sCR2e4/y9ABuz3W7j/L0AG7PdbuPwmiOc3b3e4/LIjJFcTk7j+Xc2gEmOfuPxn1nY36zu4/H1xkRt3Q7j8iRv6MDb/uPwticgUxue4/C2JyBTG57j/UdkztM6/uPwmxNBiuuu4/WYYO2O2x7j9HgpklhbfuP6uqqqqqqu4/hnSUh1e47j8b9Z2N+s7uP7DYHLCr0+4/xm+m6pzX7j+ySbcVKOfuPxBVr7JU6u4/83/Mp1bk7j/KgKdIqObuP6KHJXcq/u4/morRIBPt7j8iLjirdPzuPyyIyRXE5O4/QI7Sum/o7j+MP5FwSvPuP3pLOlxc6u4/haRGTUj27j8JFl+GYCvvP2YZOsGqHe8/nNK8+BMJ7z8Ytp6y3wTvP8BRg/pTGO8/XUFMriAm7z/AvMGF8CXvP5ryYuqiFO8/8eNMg4ko7z8Fiq0ClSDvP/eNaWBGJu8/9feiw8o87z8HDzwTw2PvP734EwmnNO8/rpQz5gg27z+wfUrftCjvP95GZVR5SO8/il4N+1NM7z+wmFtVV2XvP9Rx1iptP+8/M8c9f/E/7z+r9NNjAj7vPx2w22MtQ+8/ds1RTKs/7z9t1Hc26jvvPwtjETfmP+8/YIvOQWc97z99Z6O+s1HvP39no76zUe8/JIP8qtJS7z+012P6/zDvP0WiYjiMRO8/fWejvrNR7z8xHJwEH1DvP1kVeYf/Wu8/3h5rGTpg7z8=\",\"dtype\":\"float64\",\"order\":\"little\",\"shape\":[100]},{\"__ndarray__\":\"AAAAAAAA8D85m8I4m8LvP2BZ4I/eyO8/PP0A+1O17z/b5yyvF4vvP7cUb8U4eO8//cWgHS9q7z+1MF5b0oTvP5kFlidxGu8/ezri0RcF7z+rxfUtsxrvP/qA3q4rDu8/bo+omEcr7z8YbLtAlirvP3yReZBtfu8/qHtXwm/67j/0DI5vFfHuP8cdHIkqBO8/zbVCd1AF7z/kTPHKwR7vPxHrhvjF+u4/7FuuExf87j/Or3iyrQTvPxVuYuth/O4/8xDOTeQG7z9Yga40nCHvP15/cDH2KO8/RFWaQ+kF7z8Pro8DuwHvP9uPiE+kB+8/Qo8Az1IC7z8IKkk1wwbvP8dytCoG6u4/+aRGqrvk7j9PKGikOefuP2w7Z2OM7e4/lVSm0nj47j+6eLTryePuP1+JsUspyu4/+4CFG6bK7j+kw33P5snuPyCKPPA1ye4/dTchm4jF7j+gjnon98LuP9ODL5xSwu4/mNYI+9m47j/9FcW+FZzuP27/BQ8Nuu4/aWpYMwGw7j9EN67N1rzuP7/lZZibyO4/09brRVrF7j/s+Gc3vL3uP0pCfyeyy+4/cDddGbvE7j9Xs52zl73uPwfi+y/yOe8/weRMKXuw7j+jnspz7bDuPx2JESBlmO4/XgH2p6Qr7z/W4UGP+pntP/QUcWJdxu0/iYiejtzO7T85ZC72WLLtP39XunscDe4/tFjiO0gg7j8fUzSq1CjuP0MnxTbsEO4/UoVg6CEH7j87BXC7iyvuP6bBJqA9L+4/KnsHFAlS7j8sRhY9szTuP6bf3oHDLO4/VZdGFeE67j/jeZuyAEbuPzwvN/B+E+4/Vc+Ev/MP7j/4WcNe0RLuP7fJ5QO0He4/dIVSpL8f7j8C/U8x4VTuPwOqXp7eF+4/8ub/thop7j+ejquOuTnuP6RojdxiPe4/HqDwy24m7j8KLdYk1UDuP0544OSkOO4/gZSXessu7j+E5g2E5g3uP9vHnpW8Ge4/Kx6Lsyb37T/BDqi2m+TtP+e20Q0gs+0/EwRpE8Tp7T+xMAYzf+ftP2wg+6U/6+0/+urHvxL07T8=\",\"dtype\":\"float64\",\"order\":\"little\",\"shape\":[100]},{\"__ndarray__\":\"AAAAAAAA8D+bA4lW2BzwP3blufxlHvA/6vo9nPgu8D96YdnZXf3vP6YGPVVf7+8/YVreboUO8D8Es3BhTgvwP3ZcLYbuIPA/LoojCdwE8D/8///////vP3b1FuVuA/A/6Mbj5woM8D+0wuZAohXwPzRFCZ4SIfA/KOdWyRFB8D8epF+5SxnwPxGWE+5r+u8/gkQrbA4k8D8noH6hJibwP5sDiVbYHPA/yQmcih0e8D8ZJgAz2h/wP3FdV4q+LPA/mHa1GCko8D9MmOVFlSvwP1HHZHZ9OPA/UUUnpOgu8D8U0gcnwDLwP+Vj3HqOL/A/2ftQj3kj8D+qojdLNSfwP5Ix7y61H/A/tMLmQKIV8D8J+I6qgxHwP3hhVytKC/A/2Z2PnKIQ8D86qCa9bBrwP27EXoM4EPA/IygsHhQK8D+L+Gj3zALwP+dAohU2B/A/QrSK8zoH8D/OgUQrbA7wP5rGnb/tDPA/7lqJI9v/7z+Y3dfhbC/wPwEAAAAAAPA/3z98VETU7j/AhxX88xTwP+CUkPmfAPA/Lai/MNck8D/ouYqK2SjwP0/Gb5d6MvA/T8Zvl3oy8D9uNVkQnTfwP42ZuaFWQ/A/F1AfL4Eu8D+d31Atbi7wP8dlNANeHfA/o+7ldjxs8D9UUM1ab1DvP9Cw2kOrfu8/1jt8ZElS7z84mFH4ez7vP+a/TKphX+8/9+1ST8Zv7z/57VJPxm/vP8H5Wna4au8/Vm0rOfqb7z896IIYgYrvP8AmeHl8d+8/vra4mfGD7z+weKNn3aLvP5L0bJwDa+8/Y1VPBWKU7z//1lXsXLDvP6SZLAEriu8/FaP785GQ7z8eIBZJ7GvvP7QrpjBjku8/BgdQx7Gx7z9acVZt3aXvP7NKckbCde8/Lel2tbe+7z/K+O1ST8bvP5A8ZzsOwe8/s15MhPmL7z/9L9fAbOHvP+p6pLz+9O8/sW0qIP5+7z/OgUQrbA7wPx5ItVhDD/A/5kCiFTYH8D+Y4s5ylATwP5BSlXC4AfA/CMZXGQQL8D9/MpiDnP7vP2ZysywYCfA/AAAAAAAA8D8=\",\"dtype\":\"float64\",\"order\":\"little\",\"shape\":[100]},{\"__ndarray__\":\"AAAAAAAA8D+nzX0sTvnvPym2L0DhAvA/rltQZxk/8D+Yl98vuefvP69x+8+h4e8/XgYuMzv27z+GeZLITrjvPwcwwPbxzu8/TqfPT7S+7z8DYgsOHdvvP69DcYGJAvA/ClVZ7y/B7z9/X+o7dNLvP6qLUvG1y+8/jp9wNyPR7z+On3A3I9HvPwWtpymB0+8/wGNcfePU7z8jmZLBwdHvP5NtPjXSwu8/SP2w2kDS7z9I/bDaQNLvP2zi7af31+8/J7ysxMHN7z/0dQ3G087vP12qfMPN0O8/cG/nHlPQ7z85E+NS583vP+EXQF5azu8/yw5azJ777z/Pt1bfMLzvP4H5/gRoj+8/4yZ5uM997z8eMShY65nvP+osW/dZme8/MCm+iC2c7z+Ak1RPipzvP/Gm45EunO8/CXLAS7OR7z/KBZuXTo/vPw29+hgaku8//A/5v0CO7z8+L565YpDvP+cDT5Ieju8/c9dICKeR7z/b1i57pXPvP9z2pmMDb+8/Y9Kdkrxc7z9p6XCW6ZbvP33/2OCGne8/nJn0u5aY7z814nrSvKnvPx9stgAclu8//0iA2ka27z9odUH6U7TvP9tnFuS5qO8/CjYl2YfQ7z+RwlZggaDvP66qtYpVqe8/BHW1ummE6z/lGMuIcSvwPwpWD2hEMfA/cWCPyNwu8D/zOQiU0C7wP53yys8ILvA/rwhbwP0w8D80FSi1NTDwP36ZhswOK/A/OArACZ828D8TBXEdeDLwP85z+mGSMvA/pFuyHhQu8D8OTP5E6jLwP0AzhV+YL/A/cMKbqP038D+8Iql+gTfwPy9r6x+YPfA/qKDVEt068D/PPPVgHTnwP6xmunJAMfA/uAJPJb8t8D84vTBjhSvwP/6MNO5QJvA/Od8ZydUo8D9/fg0GBTjwP+mVo0qHOvA/3PQtUs468D8gQ6j+CjzwP9Tf/BPtOPA/ahDhwnQ38D8Mffr0j0DwP9hpxLi+NPA/ezULaJAy8D/QfkXEQSvwP+pFi/LQNPA/86/FscE18D9d8+Z/7zTwPzc42cj7NvA/+p18wf448D8=\",\"dtype\":\"float64\",\"order\":\"little\",\"shape\":[100]},{\"__ndarray__\":\"AAAAAAAA8D+TxOHkLM7vP8z1j3C2M+8/SIgWsgg88D+drYYqmrDvPxz+rxhpg+8/7KYN6uV17z/hrX8N/l3vP4EooLXCdu8/vJZegGZs7z/MTzdYKyvvPwUMeHthjO8/ZgAXFI6P7z9Awxyd7o3vPwzvRIBOmO8/Sokl1syb7z9oIsHkXZXvP6Gkjs9xne8/WeUSyWKe7z+hIBEJtZ/vPxjPOq65e+8/VA2zKRe07z9o/SHwtrjvP372aK4Ete8/7mkX4TO67z8wfAB0csbvP3OIOG6sz+8/jjzlRIfF7z+/AEMjvMzvPyr0iP/g6+8/FY1+LpOr7z/C/H7R667vPxGthAznZe8/B13yhqBf7z8YAfS6+3zvP7JeAKkch+8/pmeWOTx27z89gtLUO5PvP/f1dGJGp+8/Q44VuPvG7z85jUy3+JnvP09dNpVUnO8/sEO9GLyd7z+Ax9YbIpzvP/zgq0u8oe8/0GJyH0+C7z/3dAoPnH7vP/ifyvkhbu8/S+TQoRCE7z/CrSg/yyHvPwOqlUa7ne8/Muw2UcGh7z9BiSD9GKTvPzD0BT8mpe8/mh5x54uQ7z/BQ3bT+KHvP0+u5x3Xl+8/0rYf8Tai7z+CXtFGhp3vP9UFzeqDcu8/+CkgQzOu7z//r4mYDR3wP8eMP6tbA/A/43smhf4A8D+FK0Z8rwLwP1qbTJgU6u8/kBiKg8sB8D+0u/Zjcf7vP6HaXUgtCPA/4jHf/ekS8D+0h9/iqgzwPyez7DOZAPA/nCawVP0J8D9il0fwUPHvP/1Dv6wt0u8/273nHTwA8D/nch6rctfvP6fskGA8zO8/52VRtm/N7z8XUCNg1vzvP7E/1a+Y+O8/Ee9O+7zx7z+MVL7pKQLwP+MyExQ4BvA/opeJ0hAI8D+iC4ZDogfwP9+sApb2DvA/K6epVcoJ8D9cBt2UbAfwP9HRcYZiA/A/oQhgaWfW7z99GV5CJRbwPxZ8rzy5DfA/Qu75F8AN8D/sLCPIfxDwP85CcpwhFvA/j4EkGzMZ8D+yr9GBsRLwP90oafkIEfA/zNaw7FEU8D8=\",\"dtype\":\"float64\",\"order\":\"little\",\"shape\":[100]}]},\"selected\":{\"id\":\"1245\"},\"selection_policy\":{\"id\":\"1246\"}},\"id\":\"1225\",\"type\":\"ColumnDataSource\"},{\"attributes\":{\"line_color\":\"#1f77b4\",\"line_width\":2,\"x\":{\"field\":\"x\"},\"y\":{\"field\":\"y\"}},\"id\":\"1253\",\"type\":\"Line\"},{\"attributes\":{\"data_source\":{\"id\":\"1110\"},\"glyph\":{\"id\":\"1112\"},\"hover_glyph\":null,\"muted_glyph\":null,\"name\":\"6701\",\"nonselection_glyph\":{\"id\":\"1113\"},\"selection_glyph\":null,\"view\":{\"id\":\"1115\"},\"y_range_name\":\"portfolio_vector\"},\"id\":\"1114\",\"type\":\"GlyphRenderer\"},{\"attributes\":{\"data_source\":{\"id\":\"1252\"},\"glyph\":{\"id\":\"1253\"},\"hover_glyph\":null,\"muted_glyph\":null,\"nonselection_glyph\":{\"id\":\"1254\"},\"selection_glyph\":null,\"view\":{\"id\":\"1256\"}},\"id\":\"1255\",\"type\":\"GlyphRenderer\"},{\"attributes\":{\"label\":{\"value\":\"6701\"},\"renderers\":[{\"id\":\"1321\"}]},\"id\":\"1343\",\"type\":\"LegendItem\"},{\"attributes\":{},\"id\":\"1199\",\"type\":\"LinearScale\"},{\"attributes\":{\"source\":{\"id\":\"1252\"}},\"id\":\"1256\",\"type\":\"CDSView\"},{\"attributes\":{},\"id\":\"1155\",\"type\":\"UnionRenderers\"},{\"attributes\":{\"fields\":[\"yen\",\"4755\",\"9984\",\"6701\"]},\"id\":\"1047\",\"type\":\"Stack\"},{\"attributes\":{\"bottom\":{\"expr\":{\"id\":\"1050\"}},\"fill_alpha\":{\"value\":0.1},\"fill_color\":{\"value\":\"#98df8a\"},\"line_alpha\":{\"value\":0.1},\"line_color\":{\"value\":\"#98df8a\"},\"top\":{\"expr\":{\"id\":\"1051\"}},\"width\":{\"value\":1},\"x\":{\"field\":\"x\"}},\"id\":\"1161\",\"type\":\"VBar\"},{\"attributes\":{\"source\":{\"id\":\"1294\"}},\"id\":\"1298\",\"type\":\"CDSView\"},{\"attributes\":{\"source\":{\"id\":\"1318\"}},\"id\":\"1322\",\"type\":\"CDSView\"},{\"attributes\":{},\"id\":\"1130\",\"type\":\"UnionRenderers\"},{\"attributes\":{\"line_color\":\"#ffbb78\",\"line_width\":2,\"x\":{\"field\":\"x\"},\"y\":{\"field\":\"y\"}},\"id\":\"1319\",\"type\":\"Line\"},{\"attributes\":{\"data_source\":{\"id\":\"1318\"},\"glyph\":{\"id\":\"1319\"},\"hover_glyph\":null,\"muted_glyph\":null,\"nonselection_glyph\":{\"id\":\"1320\"},\"selection_glyph\":null,\"view\":{\"id\":\"1322\"}},\"id\":\"1321\",\"type\":\"GlyphRenderer\"},{\"attributes\":{\"fields\":[\"yen\",\"4755\",\"9984\"]},\"id\":\"1046\",\"type\":\"Stack\"},{\"attributes\":{},\"id\":\"1182\",\"type\":\"UnionRenderers\"},{\"attributes\":{},\"id\":\"1399\",\"type\":\"UnionRenderers\"},{\"attributes\":{\"line_alpha\":0.1,\"line_color\":\"#aec7e8\",\"line_width\":2,\"x\":{\"field\":\"x\"},\"y\":{\"field\":\"y\"}},\"id\":\"1274\",\"type\":\"Line\"},{\"attributes\":{\"bottom_units\":\"screen\",\"fill_alpha\":0.5,\"fill_color\":\"lightgrey\",\"left_units\":\"screen\",\"level\":\"overlay\",\"line_alpha\":1.0,\"line_color\":\"black\",\"line_dash\":[4,4],\"line_width\":2,\"right_units\":\"screen\",\"top_units\":\"screen\"},\"id\":\"1029\",\"type\":\"BoxAnnotation\"},{\"attributes\":{\"source\":{\"id\":\"1133\"}},\"id\":\"1138\",\"type\":\"CDSView\"},{\"attributes\":{\"data\":{\"x\":[],\"y\":[]},\"selected\":{\"id\":\"1368\"},\"selection_policy\":{\"id\":\"1369\"}},\"id\":\"1344\",\"type\":\"ColumnDataSource\"},{\"attributes\":{\"label\":{\"value\":\"7203\"},\"renderers\":[{\"id\":\"1347\"}]},\"id\":\"1371\",\"type\":\"LegendItem\"},{\"attributes\":{\"line_alpha\":{\"value\":0.1},\"line_color\":{\"field\":\"line_color\"},\"line_width\":{\"value\":2},\"xs\":{\"field\":\"xs\"},\"ys\":{\"field\":\"ys\"}},\"id\":\"1227\",\"type\":\"MultiLine\"},{\"attributes\":{\"line_alpha\":0.1,\"line_color\":\"#ff7f0e\",\"line_width\":2,\"x\":{\"field\":\"x\"},\"y\":{\"field\":\"y\"}},\"id\":\"1296\",\"type\":\"Line\"},{\"attributes\":{\"data_source\":{\"id\":\"1158\"},\"glyph\":{\"id\":\"1160\"},\"hover_glyph\":null,\"muted_glyph\":null,\"name\":\"7267\",\"nonselection_glyph\":{\"id\":\"1161\"},\"selection_glyph\":null,\"view\":{\"id\":\"1163\"},\"y_range_name\":\"portfolio_vector\"},\"id\":\"1162\",\"type\":\"GlyphRenderer\"},{\"attributes\":{\"line_color\":\"#ff7f0e\",\"line_width\":2,\"x\":{\"field\":\"x\"},\"y\":{\"field\":\"y\"}},\"id\":\"1295\",\"type\":\"Line\"},{\"attributes\":{},\"id\":\"1129\",\"type\":\"Selection\"},{\"attributes\":{\"data_source\":{\"id\":\"1372\"},\"glyph\":{\"id\":\"1373\"},\"hover_glyph\":null,\"muted_glyph\":null,\"nonselection_glyph\":{\"id\":\"1374\"},\"selection_glyph\":null,\"view\":{\"id\":\"1376\"}},\"id\":\"1375\",\"type\":\"GlyphRenderer\"},{\"attributes\":{\"formatter\":{\"id\":\"1241\"},\"major_label_overrides\":{\"0\":\"2020-11-10 09:00:00\",\"1\":\"2020-11-10 09:05:00\",\"10\":\"2020-11-10 09:50:00\",\"11\":\"2020-11-10 09:55:00\",\"12\":\"2020-11-10 10:00:00\",\"13\":\"2020-11-10 10:05:00\",\"14\":\"2020-11-10 10:10:00\",\"15\":\"2020-11-10 10:15:00\",\"16\":\"2020-11-10 10:20:00\",\"17\":\"2020-11-10 10:25:00\",\"18\":\"2020-11-10 10:30:00\",\"19\":\"2020-11-10 10:35:00\",\"2\":\"2020-11-10 09:10:00\",\"20\":\"2020-11-10 10:40:00\",\"21\":\"2020-11-10 10:45:00\",\"22\":\"2020-11-10 10:50:00\",\"23\":\"2020-11-10 10:55:00\",\"24\":\"2020-11-10 11:00:00\",\"25\":\"2020-11-10 11:05:00\",\"26\":\"2020-11-10 11:10:00\",\"27\":\"2020-11-10 11:15:00\",\"28\":\"2020-11-10 11:20:00\",\"29\":\"2020-11-10 11:25:00\",\"3\":\"2020-11-10 09:15:00\",\"30\":\"2020-11-10 12:30:00\",\"31\":\"2020-11-10 12:35:00\",\"32\":\"2020-11-10 12:40:00\",\"33\":\"2020-11-10 12:45:00\",\"34\":\"2020-11-10 12:50:00\",\"35\":\"2020-11-10 12:55:00\",\"36\":\"2020-11-10 13:00:00\",\"37\":\"2020-11-10 13:05:00\",\"38\":\"2020-11-10 13:10:00\",\"39\":\"2020-11-10 13:15:00\",\"4\":\"2020-11-10 09:20:00\",\"40\":\"2020-11-10 13:20:00\",\"41\":\"2020-11-10 13:25:00\",\"42\":\"2020-11-10 13:30:00\",\"43\":\"2020-11-10 13:35:00\",\"44\":\"2020-11-10 13:40:00\",\"45\":\"2020-11-10 13:45:00\",\"46\":\"2020-11-10 13:50:00\",\"47\":\"2020-11-10 13:55:00\",\"48\":\"2020-11-10 14:00:00\",\"49\":\"2020-11-10 14:05:00\",\"5\":\"2020-11-10 09:25:00\",\"50\":\"2020-11-10 14:10:00\",\"51\":\"2020-11-10 14:15:00\",\"52\":\"2020-11-10 14:20:00\",\"53\":\"2020-11-10 14:25:00\",\"54\":\"2020-11-10 14:30:00\",\"55\":\"2020-11-10 14:35:00\",\"56\":\"2020-11-10 14:40:00\",\"57\":\"2020-11-10 14:45:00\",\"58\":\"2020-11-10 14:50:00\",\"59\":\"2020-11-10 14:55:00\",\"6\":\"2020-11-10 09:30:00\",\"60\":\"2020-11-11 09:00:00\",\"61\":\"2020-11-11 09:05:00\",\"62\":\"2020-11-11 09:10:00\",\"63\":\"2020-11-11 09:15:00\",\"64\":\"2020-11-11 09:20:00\",\"65\":\"2020-11-11 09:25:00\",\"66\":\"2020-11-11 09:30:00\",\"67\":\"2020-11-11 09:35:00\",\"68\":\"2020-11-11 09:40:00\",\"69\":\"2020-11-11 09:45:00\",\"7\":\"2020-11-10 09:35:00\",\"70\":\"2020-11-11 09:50:00\",\"71\":\"2020-11-11 09:55:00\",\"72\":\"2020-11-11 10:00:00\",\"73\":\"2020-11-11 10:05:00\",\"74\":\"2020-11-11 10:10:00\",\"75\":\"2020-11-11 10:15:00\",\"76\":\"2020-11-11 10:20:00\",\"77\":\"2020-11-11 10:25:00\",\"78\":\"2020-11-11 10:30:00\",\"79\":\"2020-11-11 10:35:00\",\"8\":\"2020-11-10 09:40:00\",\"80\":\"2020-11-11 10:40:00\",\"81\":\"2020-11-11 10:45:00\",\"82\":\"2020-11-11 10:50:00\",\"83\":\"2020-11-11 10:55:00\",\"84\":\"2020-11-11 11:00:00\",\"85\":\"2020-11-11 11:05:00\",\"86\":\"2020-11-11 11:10:00\",\"87\":\"2020-11-11 11:15:00\",\"88\":\"2020-11-11 11:20:00\",\"89\":\"2020-11-11 11:25:00\",\"9\":\"2020-11-10 09:45:00\",\"90\":\"2020-11-11 12:30:00\",\"91\":\"2020-11-11 12:35:00\",\"92\":\"2020-11-11 12:40:00\",\"93\":\"2020-11-11 12:45:00\",\"94\":\"2020-11-11 12:50:00\",\"95\":\"2020-11-11 12:55:00\",\"96\":\"2020-11-11 13:00:00\",\"97\":\"2020-11-11 13:05:00\",\"98\":\"2020-11-11 13:10:00\",\"99\":\"2020-11-11 13:15:00\"},\"ticker\":{\"id\":\"1204\"}},\"id\":\"1203\",\"type\":\"LinearAxis\"},{\"attributes\":{\"bottom\":{\"expr\":{\"id\":\"1046\"}},\"fill_alpha\":{\"value\":0.8},\"fill_color\":{\"value\":\"#ffbb78\"},\"line_alpha\":{\"value\":0.8},\"line_color\":{\"value\":\"#ffbb78\"},\"top\":{\"expr\":{\"id\":\"1047\"}},\"width\":{\"value\":1},\"x\":{\"field\":\"x\"}},\"id\":\"1112\",\"type\":\"VBar\"},{\"attributes\":{},\"id\":\"1154\",\"type\":\"Selection\"},{\"attributes\":{\"data_source\":{\"id\":\"1052\"},\"glyph\":{\"id\":\"1054\"},\"hover_glyph\":null,\"muted_glyph\":null,\"name\":\"yen\",\"nonselection_glyph\":{\"id\":\"1055\"},\"selection_glyph\":null,\"view\":{\"id\":\"1057\"},\"y_range_name\":\"portfolio_vector\"},\"id\":\"1056\",\"type\":\"GlyphRenderer\"},{\"attributes\":{\"data\":{\"x\":[],\"y\":[]},\"selected\":{\"id\":\"1398\"},\"selection_policy\":{\"id\":\"1399\"}},\"id\":\"1372\",\"type\":\"ColumnDataSource\"},{\"attributes\":{},\"id\":\"1314\",\"type\":\"Selection\"},{\"attributes\":{},\"id\":\"1195\",\"type\":\"DataRange1d\"},{\"attributes\":{},\"id\":\"1398\",\"type\":\"Selection\"},{\"attributes\":{\"line_color\":{\"field\":\"line_color\"},\"line_width\":{\"value\":2},\"xs\":{\"field\":\"xs\"},\"ys\":{\"field\":\"ys\"}},\"id\":\"1226\",\"type\":\"MultiLine\"},{\"attributes\":{\"line_alpha\":0.1,\"line_color\":\"#ffbb78\",\"line_width\":2,\"x\":{\"field\":\"x\"},\"y\":{\"field\":\"y\"}},\"id\":\"1320\",\"type\":\"Line\"},{\"attributes\":{\"line_alpha\":0.1,\"line_color\":\"#98df8a\",\"line_width\":2,\"x\":{\"field\":\"x\"},\"y\":{\"field\":\"y\"}},\"id\":\"1374\",\"type\":\"Line\"},{\"attributes\":{},\"id\":\"1211\",\"type\":\"PanTool\"},{\"attributes\":{\"source\":{\"id\":\"1158\"}},\"id\":\"1163\",\"type\":\"CDSView\"},{\"attributes\":{\"label\":{\"value\":\"yen\"},\"renderers\":[{\"id\":\"1056\"}]},\"id\":\"1069\",\"type\":\"LegendItem\"},{\"attributes\":{\"line_color\":\"#98df8a\",\"line_width\":2,\"x\":{\"field\":\"x\"},\"y\":{\"field\":\"y\"}},\"id\":\"1373\",\"type\":\"Line\"},{\"attributes\":{\"data\":{\"4755\":{\"__ndarray__\":\"AAAAAAAAAACcobSTe1PPP1dZzXyzLNE/l5W6j1LNtT8H6uug8fW5P1rVij712NI/kKO4C7Khuj/RwjmAzJjQP93OCbnmn8o/8KT4M3g9wj/AMKWT7cWqP9D6bgmD8cI/FfrOwH/5xD/e2WMW5KK+P2FegaM1r7Q/GEs449V6yT+v7xqK+Q7EP1ODWoulfcQ/aSVIQcaGtz81+VxklvvMP5o5gf2kN7w/DjivkXjxyj+W6bjFHzbEP7yKSF+cdtA/Acb7wG3dvD8mAAZVsTvHP7ih+SvdQ7Q/N6a8WhnZwD81+16mGbDJP+LiGGegh6c/X6EwWODAyz+UB/E2WS69P3YCmnDS088/72W00NJd2j9u10bwk1++P1bcg2ER+M8/IXaNuRHNzj+gVpNr4DbLPzyH2PlxWr0/I5dNA1L0uT/PL3JG6Q/APzXoGPfMsrQ/hqt/GN4fvz+efOxB/HiyP4hHw+/2/MY/0ZVtSlm4vT8BjTOylciwPw04v3b5sqQ/zkgwLNadsD/ia/+l27i/Px/sEznTccc/Sybwo2vouT86HfDi/U/DP/1CN+MuLsk/iiFGzOvMxz+I6aRUbGK7PyuJh/QARa8/bPoew4xPwj+GGZd/aG+2P5UkWmw2T7s/yR5BpJNWwj83InBpvf/KP4KMBl2LtMA/g6JwS9+Uuj9vV2pLPcq+P5XzEhlWOcA/LFffj/93wD+aJITg5uK0P2sRF+ojgcA/P0+yVaHEyT+oh1cSNW7KPyXiYJMf+bU/+ANYebtzsD957omJxpO1P/lt0B7t0LU/LO8w/V9ywT9Gl7i1hBuwP6bnze2Eyro/7ojvLR1+tj8t4cL+qAixP68tqdFxK8Q/vPtakqj0zz96xmykTWimP8/5LjMVrbU/eZ4AF/CBwz+90IwYmmzLP5YE0nJbh8Y/o6sUmODE1T9VCuvP5SDFP5ieP+e7Srs/4W1PKn6Rwz9/zjePWFvDP411VcFV6sM/MgzPSAYfwz/h9X/wsJi+P18EziTX5sA/0wRaasfDwD8/yQzhP427P1ryL5ELIsM/XrPElvHowT8=\",\"dtype\":\"float64\",\"order\":\"little\",\"shape\":[100]},\"6701\":{\"__ndarray__\":\"AAAAAAAAAABpGGUGnwHEP7PF7YlAa8A/yi1Taw7Zpz8vSQLAUxS9P8gzMXAxIbw/5uP9ZPC/yz9dMET96WDTPxCcEzxFs8U/+GEJ5BMN0D/Y2Hp5jcisP9lfyp9Zfbs/yhvVltK0xD/SxUfNG8fGP6/ZwVKUQNg/wujomo9Iwz/XoH0a+/PSP/Z9eBcjOLw/3jiLRrGwxT+Kif4EktHAP4EDvM0yR8I/pCHDcKY2xj+3CyLUYyC8PynWwayEUrc/JSXM7XIPyz89K95ENVDMP/FH0OZy3L4/et1j0ho1zz8LfyiGHgnOP/j2HGLG0cI/eQNyXrpzwT9AuVbw20nIPzLeSnnWXcE/rvCROtYMtT8G7T+gFF69P6ETcGiu6tA/n/PSkNRt2D9qs2zNN1XNP8Kh1F8ccsc/LOD2pZTCwD/aEdOog3LLPzVCkW9CU90/PIfYrGNu3T8iLiZQgsrSP6JNAnGb8NQ/DIGWqAbF1D+Xx0LXDjupP1g8n8xvbt4/nXCeHApepT+XeudAtUvcP9O+qVfIFsc/niqoPCTyyT+52JlZ6XLDP/iWhSkMbMA/j7IA7Qk4tz9dCRfjfDDUP3O9M+vLPsE///2AQ9Mv0z+rLccNtKfKP474JSimrLs/HPEwWZFysj/Dtg10Qku9P1Ub+Ss7Pbw/kM+2K0MQ1j9edX+6BSzPP7c9PjZGfNs/eHid6U2fyz9iN55JPZ+5P3iDu0qFBrc/2Hiq1nCXtT95qaA7SUK5P8xKJyhclcc/mUdgIVOi4z/sEMGzZNrOP8+Lov/agLo/r8TJ5zS6zD/XiCEbZim3P6SL4ibY3LM/WFnOHbMUvz++P3SsvBazP/htOyc0e60//2PKsT3JuT8YykyeairBPy97ocnaAa4/lhho9VqIvD8teOZzHL7CP98U4VJF28Y/VzVHXLyutj92MQ+VB4TOP2x5NG5Mp8g/UrZihk8esj8tsllyM3LPP+SDeJVuJMw/z7fCMFMbtz/IoZoYOibCP0j6Gkk92cc/tvB+TNwzvz+gMwle5oC8P3nhKk1XirY/Xx/CeXORwj8=\",\"dtype\":\"float64\",\"order\":\"little\",\"shape\":[100]},\"7203\":{\"__ndarray__\":\"AAAAAAAAAACprl4mi9q6P3hNxSVblNM/sFWtsPPXrj8+oY4slSDKP3YRqOUrg84/idpUBolcvT8YdJf5Oh/CP03ZEY3PE8I/Vq02oZAMwD+9LXrLALDjPxWGtxej4co/4kiBXtj2uz9pc9cQKPbFP0pClpzwCLI/J1KpOtUxuz+Tku6BRTy2P9+pCAdg+NI/m7I6kUXt0D8nSs8rmbLPP/z/7O93o8Q/SDww4VkJyz/sJ/QYo/nNP6NVoainK8A/z3zXnGTSzz9FB7hVAG/HP6T3DPeakds/EPPFH0xCyD+tT+QgjOrIP210YwwR2t0/0kDQ7sSkuz+RJoNzwyG8PzYx9qw218k/Tw/lOZL1tD/7QiMo1HHFP7wyOUKCdLU/QtcRNiETxz/F6x0haUTEP/f1/g76xsg/+reFbLXh3D9dShb3UGXRP5cw/BVk2bM/0LvgLFb/tD8XiXF8sFLEP9MmNIrffcg/qLSaszNeqD/eNe1t6s/lP61i6oD1qME/ji0J8RK0qj+aIcNazvPJPxGrSbnXpcQ/9euF61o5tT/LDzM3iDjUP7BS6hRKzL0/ihHWSILztT8nmZUP4KXAP20eRfuLEeM/G5imyrcStj9ScZptf4e7P5ADPzRPTdg/ihZVWweRpj9gdAiPHmDIP7W6WDx8jbY/K3mKwKB0tj9omZeNf4q4P5mGuSx28bY/Qj/jrp8+yT/97YNYGZfVP+jwjtuTo8Q/UWQ59t4gtT/SvZM9BwTSP4RoB6x/gck/UHTw5Tgftz9PnObnmQLUP+LJ/JSAisE/sWYr3yKA2z8OHb5QUgTWPzULsEyvA7Q/tmr8+TeOwz+15Vfzf47LP+o2qj6zp94/mPoBvWD2wD+3nRyC6fvkP8WgEQu1VNo/GmL/Kvfzwj+aL0x6JYjAP62uB4vKZb4/Nin7KGmZ0j9pQaKyuRDAPyh1NC1nQsI/wHyO8+ve0T8p080STgS/P2HZUOzhS8I/wHrHPW3S3D8ZAyNb2AK8P4t/rZaJEsU/fG2YGEMSvz+KZpTgnu+9P+6l4I/LYcE/I73/W0PmvT8=\",\"dtype\":\"float64\",\"order\":\"little\",\"shape\":[100]},\"7267\":{\"__ndarray__\":\"AAAAAAAAAAAunju6tvXRPwqpQp4nyrg/+6CGkagBqz+gvkc93j2rPyGssE1CXbQ/6UjpXXgbtD90q5iec2ezP9zBKlZp68U/8WO5rAwMzj+QJekxKHGrPzT3VkLhv8o/2dcVNApvvj//HwvWNJzAP80CF7QM5ck/ekE8BJDvwz9wQwLqPre3Pzkp1+Dnl8M/k6SaX+6qwD9WXQZLekPDP4NpCq8fk70/GAjuhPvAvj9l8GPhnJnBP/rsLjOioLs/1MCkmr39xj8AmU8ENhHAPxFQlkohIMU/j3bqmRUbwD8MNQTSYnHAP9MR4BaWDq8/tzrNVewhxD+0x33P5B7DP6zdYIlsDrc/UhWyl97usz/QJeGHrL20P+I02VQuNr8/cYcIwyEHsj+xPXu0WDOvPzWIKDaiN8w/+1AbxI/nsj/eUayL4kq6P8My2bxj68k/S0sDTXYntT9yX/MgozCxPxAG8dm/5bI/lW1Wa618uT/YY7uPZ/WwP7x6CxbfNb4/PaNMioqb5T+mB4sPOfm1P2Rh0Rj088U/xZVaxYMLxD+ILEuzixK5P0tryT4ijM4/TCe8lIvSpz9D1O/3zVrFP+htk2nWFrc//cMi32ekxD8NarUdFVvYP/nZIAxXIrA/J5L/evp/sT/DmWXoQCC3PxQpc+IEqsI/J4QSchZ7vD/NOHebHE7NPwtzJ9X3GLA/SKMTUF1Dtz+d68snBf/BP5E++FQWzs4/7LO0RrB0wj8VeidGMcipP342FcKuzM0/T0wfrQfPtj9tdx5aySK5P2PIu0bzQbM/ageHya8GrD8586J2it3EP2SbnhNNisU/X3c0ftlBsD++z0ZbhfKyP6XnMdoON8E/PZeuRng4uT8BizFp7runP4XTsbfgec0/n/ki1Of20D+LPELAo5HCPwQo9nacesM/nSZun573wD8WV88asQrPP0T0SAZis9c/REX29jbwyD92COaDRdPGPz1DKieajsM/MXmXmlVzvD8S0Y3+SJG4PzKKeANS0tA/XuKsB7ES0D9+buVhPUnQP2ojbzszMLg/bb2a7dKe0D8=\",\"dtype\":\"float64\",\"order\":\"little\",\"shape\":[100]},\"9984\":{\"__ndarray__\":\"AAAAAAAAAADnFhNfSx67PzWNZDcE4LM/f3rn4z9QsD8y8bTnduPBP9po6o0pv70/KAThBbFwzT8PKcB4nJm3P4Sv00XU5cI/uC8GAeJJwT/Qwrn29hvBP+jmrcXW8bs/LY9X1Uk80z/G84ptSSHPP7sCmsRIGrA/QZ4YgT+Xxz8VhSFrYFLJPylIykXaesM/tXbPGnbYyz8zqav0FT/APzVPWVU03sk/iEMQETMNxT8DAse9hNjEP+HDVbGKcbc/nyjUw7lAuT9piNi6fPPBP2U5cpUAWrI/QvxLdBXKxT+YbjZ+DrG/P+ESQPlqUMI/kCsBQTpgyD8B1+PLf+m+Pz7SsWu//LU/mR/KS6CnxT8NqgdrOx3EP7UPg/mGvMM/80icTMCCrz+s6QcVSAGpP3OYRf5ULLo/s9FjgOl5uT+oPcxei7HLP44K0pq7f7Q/jhuwToTRuj9PcXjCRXbEP1gf8eh7xb0/Lzq+te8P1z9MDf9nyRq2P93MIJxFs8E/NdmMCgGkuz8GujDJemCzP7kdmC4GSbU/QYYoSOtD1z+G2TSCOLHKPxuGbfntg8s/krWE6xJ94D9fczSYJkvMPyIPECx5PJw/Pmar+Gn7uj94VDVdh2G3P+1quVgdArg/5TW+uAK7qz/wk+uonA+7P+EKBeKmCdc/2+UqD+4yzj+JSDipgVW5P/B1oqdToLQ/00D8Etkg0j8Z6/k9mhPQP1sbXT/YQc0/TR/s4ngmuD8g3eX4OOzJPwy6h5bQicI/6snbhTHzrz8Gk/8/B2bGPwHzL4LjysA/cmTeB0OnqD+oq3+i1S6mP2X9MTxwP98/nv1mIDwO3D8ngi6bRI7eP/SXYB4W/q8/jCSHRvCL0j8fRCO7cx6xPynvD5ZUv7U/l0oXPpNcuD+suCVkz3vGPyqI/2UHBMI/3cE7eB7esD+QTL0EKu/AP+XoOaTyPrY/oMoZuyS1wD9r0Eum/XjIP4DqQwg838E/16U3RGxZtj+kq1r9KinbPwdfbLNBmLU/tPq3WrAC0T+1vsRkkQrFP/MLzUQA3Ns/qzU4Yq+vxz8=\",\"dtype\":\"float64\",\"order\":\"little\",\"shape\":[100]},\"datetime\":{\"__ndarray__\":\"AAAoIhZbd0IAAGZrFlt3QgAApLQWW3dCAADi/RZbd0IAACBHF1t3QgAAXpAXW3dCAACc2Rdbd0IAANoiGFt3QgAAGGwYW3dCAABWtRhbd0IAAJT+GFt3QgAA0kcZW3dCAAAQkRlbd0IAAE7aGVt3QgAAjCMaW3dCAADKbBpbd0IAAAi2Glt3QgAARv8aW3dCAACESBtbd0IAAMKRG1t3QgAAANsbW3dCAAA+JBxbd0IAAHxtHFt3QgAAurYcW3dCAAD4/xxbd0IAADZJHVt3QgAAdJIdW3dCAACy2x1bd0IAAPAkHlt3QgAALm4eW3dCAABUJiJbd0IAAJJvIlt3QgAA0LgiW3dCAAAOAiNbd0IAAExLI1t3QgAAipQjW3dCAADI3SNbd0IAAAYnJFt3QgAARHAkW3dCAACCuSRbd0IAAMACJVt3QgAA/kslW3dCAAA8lSVbd0IAAHreJVt3QgAAuCcmW3dCAAD2cCZbd0IAADS6Jlt3QgAAcgMnW3dCAACwTCdbd0IAAO6VJ1t3QgAALN8nW3dCAABqKChbd0IAAKhxKFt3QgAA5rooW3dCAAAkBClbd0IAAGJNKVt3QgAAoJYpW3dCAADe3ylbd0IAABwpKlt3QgAAWnIqW3dCAADoh2hbd0IAACbRaFt3QgAAZBppW3dCAACiY2lbd0IAAOCsaVt3QgAAHvZpW3dCAABcP2pbd0IAAJqIalt3QgAA2NFqW3dCAAAWG2tbd0IAAFRka1t3QgAAkq1rW3dCAADQ9mtbd0IAAA5AbFt3QgAATIlsW3dCAACK0mxbd0IAAMgbbVt3QgAABmVtW3dCAABErm1bd0IAAIL3bVt3QgAAwEBuW3dCAAD+iW5bd0IAADzTblt3QgAAehxvW3dCAAC4ZW9bd0IAAPaub1t3QgAANPhvW3dCAAByQXBbd0IAALCKcFt3QgAA7tNwW3dCAAAUjHRbd0IAAFLVdFt3QgAAkB51W3dCAADOZ3Vbd0IAAAyxdVt3QgAASvp1W3dCAACIQ3Zbd0IAAMaMdlt3QgAABNZ2W3dCAABCH3dbd0I=\",\"dtype\":\"float64\",\"order\":\"little\",\"shape\":[100]},\"x\":{\"__ndarray__\":\"AAAAAAEAAAACAAAAAwAAAAQAAAAFAAAABgAAAAcAAAAIAAAACQAAAAoAAAALAAAADAAAAA0AAAAOAAAADwAAABAAAAARAAAAEgAAABMAAAAUAAAAFQAAABYAAAAXAAAAGAAAABkAAAAaAAAAGwAAABwAAAAdAAAAHgAAAB8AAAAgAAAAIQAAACIAAAAjAAAAJAAAACUAAAAmAAAAJwAAACgAAAApAAAAKgAAACsAAAAsAAAALQAAAC4AAAAvAAAAMAAAADEAAAAyAAAAMwAAADQAAAA1AAAANgAAADcAAAA4AAAAOQAAADoAAAA7AAAAPAAAAD0AAAA+AAAAPwAAAEAAAABBAAAAQgAAAEMAAABEAAAARQAAAEYAAABHAAAASAAAAEkAAABKAAAASwAAAEwAAABNAAAATgAAAE8AAABQAAAAUQAAAFIAAABTAAAAVAAAAFUAAABWAAAAVwAAAFgAAABZAAAAWgAAAFsAAABcAAAAXQAAAF4AAABfAAAAYAAAAGEAAABiAAAAYwAAAA==\",\"dtype\":\"int32\",\"order\":\"little\",\"shape\":[100]},\"yen\":{\"__ndarray__\":\"AAAAAAAA8D/BTWxdGYa7PymjMowYe78/tUuzBiMh5j8nsvnVrNPYP3UfXPcarMQ/OdqSbkJh0D9IO8D/z2zAP3RK0uHGx8Q/Uaz8acGLvD/zdDYXOsi2P4Rkxmlgtcs/bjthtCimwj8SxhjTyzPEPyJ4DCSTMMo/ZkM1X+Acyj+F3s+f7bzFP414NrTGYsA/6DPx+/stwD8XWUZWXPu9P93tW0vfKNE/7USskazBvj839haY6U3JP7coFWhj2tQ/6KVPGFcRwz/yqztRZgDDPyqvMXOA/8A/ZBbjpFTKwT9qk+lCoyS+PxjQXewehME/gdQmO9x2yD83vn+COD3UPyqWm26Kcc4/2Im4jBakxj/tjlDwohnXP9y4j4iyIMA/2eoe9MW/sD8soMA5K5HSP0rQ9N7jy8c/+1IX3RpPwj8ehtf76LexP1VuISBC0Lk/bArFNSEXwz9Ku1lvNc3PP1jHJYWpnLw/j2o37guQqj9E3g32vBSqP7uYAcJu/rY/C+oT4IuxrT/ppCDI/taxP8M524UVOcw/+1PiSzzTtz9z9WryEyOzP4UWLmEf37o/mzgZC79osz/BXha/7YeuP2RblCCTLbc/b0YT9VMlyj8jHTUj1Ou/P+PH1Bo51c8/HnMo+0jH4z+W+2sCSnHSP7RJU0jGKMU/LlbBtIDUvT8sNexovjDLPzHZrqW8+Mo/kDs7E2SNtT9+aE4sA9W2PwfipgAXSMM/UH/YBaUr2T9X7ECKUorEPwbrgwkVlsM/vRmoJdKRtD/84DuVML62PwXxHRtf8N0/jkeqUFFPuz/U62kL0/XSPxhVmoaYQrU/QG084PpqwT9qOximApi3P8f20oqM37s/+kJYJzt8wD92Ih7hmTarP7AXI5sJpsA/k1r6+9EpzT9CktjUsD/IPwtf0xfW680/IWhh6MAKtT9Cvq2R+6C4P0zKkCRi1bk/kS1SeSb8xT++eauVE8i8P2n/co2DN8g/uCWyZymQvD+/Qy+PDeK7P+o9whqdvMU/3SOhPMzcuz+XMptHEWTPP8iaECLGzbg/I54LBCSlwz8=\",\"dtype\":\"float64\",\"order\":\"little\",\"shape\":[100]}},\"selected\":{\"id\":\"1085\"},\"selection_policy\":{\"id\":\"1086\"}},\"id\":\"1070\",\"type\":\"ColumnDataSource\"},{\"attributes\":{\"label\":{\"value\":\"7267\"},\"renderers\":[{\"id\":\"1162\"}]},\"id\":\"1184\",\"type\":\"LegendItem\"},{\"attributes\":{\"fields\":[\"yen\",\"4755\",\"9984\",\"6701\",\"7203\"]},\"id\":\"1050\",\"type\":\"Stack\"},{\"attributes\":{\"label\":{\"value\":\"9984\"},\"renderers\":[{\"id\":\"1297\"}]},\"id\":\"1317\",\"type\":\"LegendItem\"},{\"attributes\":{\"label\":{\"value\":\"4755\"},\"renderers\":[{\"id\":\"1074\"}]},\"id\":\"1088\",\"type\":\"LegendItem\"},{\"attributes\":{\"fields\":[\"yen\",\"4755\"]},\"id\":\"1043\",\"type\":\"Stack\"},{\"attributes\":{\"data\":{\"4755\":{\"__ndarray__\":\"AAAAAAAAAACcobSTe1PPP1dZzXyzLNE/l5W6j1LNtT8H6uug8fW5P1rVij712NI/kKO4C7Khuj/RwjmAzJjQP93OCbnmn8o/8KT4M3g9wj/AMKWT7cWqP9D6bgmD8cI/FfrOwH/5xD/e2WMW5KK+P2FegaM1r7Q/GEs449V6yT+v7xqK+Q7EP1ODWoulfcQ/aSVIQcaGtz81+VxklvvMP5o5gf2kN7w/DjivkXjxyj+W6bjFHzbEP7yKSF+cdtA/Acb7wG3dvD8mAAZVsTvHP7ih+SvdQ7Q/N6a8WhnZwD81+16mGbDJP+LiGGegh6c/X6EwWODAyz+UB/E2WS69P3YCmnDS088/72W00NJd2j9u10bwk1++P1bcg2ER+M8/IXaNuRHNzj+gVpNr4DbLPzyH2PlxWr0/I5dNA1L0uT/PL3JG6Q/APzXoGPfMsrQ/hqt/GN4fvz+efOxB/HiyP4hHw+/2/MY/0ZVtSlm4vT8BjTOylciwPw04v3b5sqQ/zkgwLNadsD/ia/+l27i/Px/sEznTccc/Sybwo2vouT86HfDi/U/DP/1CN+MuLsk/iiFGzOvMxz+I6aRUbGK7PyuJh/QARa8/bPoew4xPwj+GGZd/aG+2P5UkWmw2T7s/yR5BpJNWwj83InBpvf/KP4KMBl2LtMA/g6JwS9+Uuj9vV2pLPcq+P5XzEhlWOcA/LFffj/93wD+aJITg5uK0P2sRF+ojgcA/P0+yVaHEyT+oh1cSNW7KPyXiYJMf+bU/+ANYebtzsD957omJxpO1P/lt0B7t0LU/LO8w/V9ywT9Gl7i1hBuwP6bnze2Eyro/7ojvLR1+tj8t4cL+qAixP68tqdFxK8Q/vPtakqj0zz96xmykTWimP8/5LjMVrbU/eZ4AF/CBwz+90IwYmmzLP5YE0nJbh8Y/o6sUmODE1T9VCuvP5SDFP5ieP+e7Srs/4W1PKn6Rwz9/zjePWFvDP411VcFV6sM/MgzPSAYfwz/h9X/wsJi+P18EziTX5sA/0wRaasfDwD8/yQzhP427P1ryL5ELIsM/XrPElvHowT8=\",\"dtype\":\"float64\",\"order\":\"little\",\"shape\":[100]},\"6701\":{\"__ndarray__\":\"AAAAAAAAAABpGGUGnwHEP7PF7YlAa8A/yi1Taw7Zpz8vSQLAUxS9P8gzMXAxIbw/5uP9ZPC/yz9dMET96WDTPxCcEzxFs8U/+GEJ5BMN0D/Y2Hp5jcisP9lfyp9Zfbs/yhvVltK0xD/SxUfNG8fGP6/ZwVKUQNg/wujomo9Iwz/XoH0a+/PSP/Z9eBcjOLw/3jiLRrGwxT+Kif4EktHAP4EDvM0yR8I/pCHDcKY2xj+3CyLUYyC8PynWwayEUrc/JSXM7XIPyz89K95ENVDMP/FH0OZy3L4/et1j0ho1zz8LfyiGHgnOP/j2HGLG0cI/eQNyXrpzwT9AuVbw20nIPzLeSnnWXcE/rvCROtYMtT8G7T+gFF69P6ETcGiu6tA/n/PSkNRt2D9qs2zNN1XNP8Kh1F8ccsc/LOD2pZTCwD/aEdOog3LLPzVCkW9CU90/PIfYrGNu3T8iLiZQgsrSP6JNAnGb8NQ/DIGWqAbF1D+Xx0LXDjupP1g8n8xvbt4/nXCeHApepT+XeudAtUvcP9O+qVfIFsc/niqoPCTyyT+52JlZ6XLDP/iWhSkMbMA/j7IA7Qk4tz9dCRfjfDDUP3O9M+vLPsE///2AQ9Mv0z+rLccNtKfKP474JSimrLs/HPEwWZFysj/Dtg10Qku9P1Ub+Ss7Pbw/kM+2K0MQ1j9edX+6BSzPP7c9PjZGfNs/eHid6U2fyz9iN55JPZ+5P3iDu0qFBrc/2Hiq1nCXtT95qaA7SUK5P8xKJyhclcc/mUdgIVOi4z/sEMGzZNrOP8+Lov/agLo/r8TJ5zS6zD/XiCEbZim3P6SL4ibY3LM/WFnOHbMUvz++P3SsvBazP/htOyc0e60//2PKsT3JuT8YykyeairBPy97ocnaAa4/lhho9VqIvD8teOZzHL7CP98U4VJF28Y/VzVHXLyutj92MQ+VB4TOP2x5NG5Mp8g/UrZihk8esj8tsllyM3LPP+SDeJVuJMw/z7fCMFMbtz/IoZoYOibCP0j6Gkk92cc/tvB+TNwzvz+gMwle5oC8P3nhKk1XirY/Xx/CeXORwj8=\",\"dtype\":\"float64\",\"order\":\"little\",\"shape\":[100]},\"7203\":{\"__ndarray__\":\"AAAAAAAAAACprl4mi9q6P3hNxSVblNM/sFWtsPPXrj8+oY4slSDKP3YRqOUrg84/idpUBolcvT8YdJf5Oh/CP03ZEY3PE8I/Vq02oZAMwD+9LXrLALDjPxWGtxej4co/4kiBXtj2uz9pc9cQKPbFP0pClpzwCLI/J1KpOtUxuz+Tku6BRTy2P9+pCAdg+NI/m7I6kUXt0D8nSs8rmbLPP/z/7O93o8Q/SDww4VkJyz/sJ/QYo/nNP6NVoainK8A/z3zXnGTSzz9FB7hVAG/HP6T3DPeakds/EPPFH0xCyD+tT+QgjOrIP210YwwR2t0/0kDQ7sSkuz+RJoNzwyG8PzYx9qw218k/Tw/lOZL1tD/7QiMo1HHFP7wyOUKCdLU/QtcRNiETxz/F6x0haUTEP/f1/g76xsg/+reFbLXh3D9dShb3UGXRP5cw/BVk2bM/0LvgLFb/tD8XiXF8sFLEP9MmNIrffcg/qLSaszNeqD/eNe1t6s/lP61i6oD1qME/ji0J8RK0qj+aIcNazvPJPxGrSbnXpcQ/9euF61o5tT/LDzM3iDjUP7BS6hRKzL0/ihHWSILztT8nmZUP4KXAP20eRfuLEeM/G5imyrcStj9ScZptf4e7P5ADPzRPTdg/ihZVWweRpj9gdAiPHmDIP7W6WDx8jbY/K3mKwKB0tj9omZeNf4q4P5mGuSx28bY/Qj/jrp8+yT/97YNYGZfVP+jwjtuTo8Q/UWQ59t4gtT/SvZM9BwTSP4RoB6x/gck/UHTw5Tgftz9PnObnmQLUP+LJ/JSAisE/sWYr3yKA2z8OHb5QUgTWPzULsEyvA7Q/tmr8+TeOwz+15Vfzf47LP+o2qj6zp94/mPoBvWD2wD+3nRyC6fvkP8WgEQu1VNo/GmL/Kvfzwj+aL0x6JYjAP62uB4vKZb4/Nin7KGmZ0j9pQaKyuRDAPyh1NC1nQsI/wHyO8+ve0T8p080STgS/P2HZUOzhS8I/wHrHPW3S3D8ZAyNb2AK8P4t/rZaJEsU/fG2YGEMSvz+KZpTgnu+9P+6l4I/LYcE/I73/W0PmvT8=\",\"dtype\":\"float64\",\"order\":\"little\",\"shape\":[100]},\"7267\":{\"__ndarray__\":\"AAAAAAAAAAAunju6tvXRPwqpQp4nyrg/+6CGkagBqz+gvkc93j2rPyGssE1CXbQ/6UjpXXgbtD90q5iec2ezP9zBKlZp68U/8WO5rAwMzj+QJekxKHGrPzT3VkLhv8o/2dcVNApvvj//HwvWNJzAP80CF7QM5ck/ekE8BJDvwz9wQwLqPre3Pzkp1+Dnl8M/k6SaX+6qwD9WXQZLekPDP4NpCq8fk70/GAjuhPvAvj9l8GPhnJnBP/rsLjOioLs/1MCkmr39xj8AmU8ENhHAPxFQlkohIMU/j3bqmRUbwD8MNQTSYnHAP9MR4BaWDq8/tzrNVewhxD+0x33P5B7DP6zdYIlsDrc/UhWyl97usz/QJeGHrL20P+I02VQuNr8/cYcIwyEHsj+xPXu0WDOvPzWIKDaiN8w/+1AbxI/nsj/eUayL4kq6P8My2bxj68k/S0sDTXYntT9yX/MgozCxPxAG8dm/5bI/lW1Wa618uT/YY7uPZ/WwP7x6CxbfNb4/PaNMioqb5T+mB4sPOfm1P2Rh0Rj088U/xZVaxYMLxD+ILEuzixK5P0tryT4ijM4/TCe8lIvSpz9D1O/3zVrFP+htk2nWFrc//cMi32ekxD8NarUdFVvYP/nZIAxXIrA/J5L/evp/sT/DmWXoQCC3PxQpc+IEqsI/J4QSchZ7vD/NOHebHE7NPwtzJ9X3GLA/SKMTUF1Dtz+d68snBf/BP5E++FQWzs4/7LO0RrB0wj8VeidGMcipP342FcKuzM0/T0wfrQfPtj9tdx5aySK5P2PIu0bzQbM/ageHya8GrD8586J2it3EP2SbnhNNisU/X3c0ftlBsD++z0ZbhfKyP6XnMdoON8E/PZeuRng4uT8BizFp7runP4XTsbfgec0/n/ki1Of20D+LPELAo5HCPwQo9nacesM/nSZun573wD8WV88asQrPP0T0SAZis9c/REX29jbwyD92COaDRdPGPz1DKieajsM/MXmXmlVzvD8S0Y3+SJG4PzKKeANS0tA/XuKsB7ES0D9+buVhPUnQP2ojbzszMLg/bb2a7dKe0D8=\",\"dtype\":\"float64\",\"order\":\"little\",\"shape\":[100]},\"9984\":{\"__ndarray__\":\"AAAAAAAAAADnFhNfSx67PzWNZDcE4LM/f3rn4z9QsD8y8bTnduPBP9po6o0pv70/KAThBbFwzT8PKcB4nJm3P4Sv00XU5cI/uC8GAeJJwT/Qwrn29hvBP+jmrcXW8bs/LY9X1Uk80z/G84ptSSHPP7sCmsRIGrA/QZ4YgT+Xxz8VhSFrYFLJPylIykXaesM/tXbPGnbYyz8zqav0FT/APzVPWVU03sk/iEMQETMNxT8DAse9hNjEP+HDVbGKcbc/nyjUw7lAuT9piNi6fPPBP2U5cpUAWrI/QvxLdBXKxT+YbjZ+DrG/P+ESQPlqUMI/kCsBQTpgyD8B1+PLf+m+Pz7SsWu//LU/mR/KS6CnxT8NqgdrOx3EP7UPg/mGvMM/80icTMCCrz+s6QcVSAGpP3OYRf5ULLo/s9FjgOl5uT+oPcxei7HLP44K0pq7f7Q/jhuwToTRuj9PcXjCRXbEP1gf8eh7xb0/Lzq+te8P1z9MDf9nyRq2P93MIJxFs8E/NdmMCgGkuz8GujDJemCzP7kdmC4GSbU/QYYoSOtD1z+G2TSCOLHKPxuGbfntg8s/krWE6xJ94D9fczSYJkvMPyIPECx5PJw/Pmar+Gn7uj94VDVdh2G3P+1quVgdArg/5TW+uAK7qz/wk+uonA+7P+EKBeKmCdc/2+UqD+4yzj+JSDipgVW5P/B1oqdToLQ/00D8Etkg0j8Z6/k9mhPQP1sbXT/YQc0/TR/s4ngmuD8g3eX4OOzJPwy6h5bQicI/6snbhTHzrz8Gk/8/B2bGPwHzL4LjysA/cmTeB0OnqD+oq3+i1S6mP2X9MTxwP98/nv1mIDwO3D8ngi6bRI7eP/SXYB4W/q8/jCSHRvCL0j8fRCO7cx6xPynvD5ZUv7U/l0oXPpNcuD+suCVkz3vGPyqI/2UHBMI/3cE7eB7esD+QTL0EKu/AP+XoOaTyPrY/oMoZuyS1wD9r0Eum/XjIP4DqQwg838E/16U3RGxZtj+kq1r9KinbPwdfbLNBmLU/tPq3WrAC0T+1vsRkkQrFP/MLzUQA3Ns/qzU4Yq+vxz8=\",\"dtype\":\"float64\",\"order\":\"little\",\"shape\":[100]},\"datetime\":{\"__ndarray__\":\"AAAoIhZbd0IAAGZrFlt3QgAApLQWW3dCAADi/RZbd0IAACBHF1t3QgAAXpAXW3dCAACc2Rdbd0IAANoiGFt3QgAAGGwYW3dCAABWtRhbd0IAAJT+GFt3QgAA0kcZW3dCAAAQkRlbd0IAAE7aGVt3QgAAjCMaW3dCAADKbBpbd0IAAAi2Glt3QgAARv8aW3dCAACESBtbd0IAAMKRG1t3QgAAANsbW3dCAAA+JBxbd0IAAHxtHFt3QgAAurYcW3dCAAD4/xxbd0IAADZJHVt3QgAAdJIdW3dCAACy2x1bd0IAAPAkHlt3QgAALm4eW3dCAABUJiJbd0IAAJJvIlt3QgAA0LgiW3dCAAAOAiNbd0IAAExLI1t3QgAAipQjW3dCAADI3SNbd0IAAAYnJFt3QgAARHAkW3dCAACCuSRbd0IAAMACJVt3QgAA/kslW3dCAAA8lSVbd0IAAHreJVt3QgAAuCcmW3dCAAD2cCZbd0IAADS6Jlt3QgAAcgMnW3dCAACwTCdbd0IAAO6VJ1t3QgAALN8nW3dCAABqKChbd0IAAKhxKFt3QgAA5rooW3dCAAAkBClbd0IAAGJNKVt3QgAAoJYpW3dCAADe3ylbd0IAABwpKlt3QgAAWnIqW3dCAADoh2hbd0IAACbRaFt3QgAAZBppW3dCAACiY2lbd0IAAOCsaVt3QgAAHvZpW3dCAABcP2pbd0IAAJqIalt3QgAA2NFqW3dCAAAWG2tbd0IAAFRka1t3QgAAkq1rW3dCAADQ9mtbd0IAAA5AbFt3QgAATIlsW3dCAACK0mxbd0IAAMgbbVt3QgAABmVtW3dCAABErm1bd0IAAIL3bVt3QgAAwEBuW3dCAAD+iW5bd0IAADzTblt3QgAAehxvW3dCAAC4ZW9bd0IAAPaub1t3QgAANPhvW3dCAAByQXBbd0IAALCKcFt3QgAA7tNwW3dCAAAUjHRbd0IAAFLVdFt3QgAAkB51W3dCAADOZ3Vbd0IAAAyxdVt3QgAASvp1W3dCAACIQ3Zbd0IAAMaMdlt3QgAABNZ2W3dCAABCH3dbd0I=\",\"dtype\":\"float64\",\"order\":\"little\",\"shape\":[100]},\"x\":{\"__ndarray__\":\"AAAAAAEAAAACAAAAAwAAAAQAAAAFAAAABgAAAAcAAAAIAAAACQAAAAoAAAALAAAADAAAAA0AAAAOAAAADwAAABAAAAARAAAAEgAAABMAAAAUAAAAFQAAABYAAAAXAAAAGAAAABkAAAAaAAAAGwAAABwAAAAdAAAAHgAAAB8AAAAgAAAAIQAAACIAAAAjAAAAJAAAACUAAAAmAAAAJwAAACgAAAApAAAAKgAAACsAAAAsAAAALQAAAC4AAAAvAAAAMAAAADEAAAAyAAAAMwAAADQAAAA1AAAANgAAADcAAAA4AAAAOQAAADoAAAA7AAAAPAAAAD0AAAA+AAAAPwAAAEAAAABBAAAAQgAAAEMAAABEAAAARQAAAEYAAABHAAAASAAAAEkAAABKAAAASwAAAEwAAABNAAAATgAAAE8AAABQAAAAUQAAAFIAAABTAAAAVAAAAFUAAABWAAAAVwAAAFgAAABZAAAAWgAAAFsAAABcAAAAXQAAAF4AAABfAAAAYAAAAGEAAABiAAAAYwAAAA==\",\"dtype\":\"int32\",\"order\":\"little\",\"shape\":[100]},\"yen\":{\"__ndarray__\":\"AAAAAAAA8D/BTWxdGYa7PymjMowYe78/tUuzBiMh5j8nsvnVrNPYP3UfXPcarMQ/OdqSbkJh0D9IO8D/z2zAP3RK0uHGx8Q/Uaz8acGLvD/zdDYXOsi2P4Rkxmlgtcs/bjthtCimwj8SxhjTyzPEPyJ4DCSTMMo/ZkM1X+Acyj+F3s+f7bzFP414NrTGYsA/6DPx+/stwD8XWUZWXPu9P93tW0vfKNE/7USskazBvj839haY6U3JP7coFWhj2tQ/6KVPGFcRwz/yqztRZgDDPyqvMXOA/8A/ZBbjpFTKwT9qk+lCoyS+PxjQXewehME/gdQmO9x2yD83vn+COD3UPyqWm26Kcc4/2Im4jBakxj/tjlDwohnXP9y4j4iyIMA/2eoe9MW/sD8soMA5K5HSP0rQ9N7jy8c/+1IX3RpPwj8ehtf76LexP1VuISBC0Lk/bArFNSEXwz9Ku1lvNc3PP1jHJYWpnLw/j2o37guQqj9E3g32vBSqP7uYAcJu/rY/C+oT4IuxrT/ppCDI/taxP8M524UVOcw/+1PiSzzTtz9z9WryEyOzP4UWLmEf37o/mzgZC79osz/BXha/7YeuP2RblCCTLbc/b0YT9VMlyj8jHTUj1Ou/P+PH1Bo51c8/HnMo+0jH4z+W+2sCSnHSP7RJU0jGKMU/LlbBtIDUvT8sNexovjDLPzHZrqW8+Mo/kDs7E2SNtT9+aE4sA9W2PwfipgAXSMM/UH/YBaUr2T9X7ECKUorEPwbrgwkVlsM/vRmoJdKRtD/84DuVML62PwXxHRtf8N0/jkeqUFFPuz/U62kL0/XSPxhVmoaYQrU/QG084PpqwT9qOximApi3P8f20oqM37s/+kJYJzt8wD92Ih7hmTarP7AXI5sJpsA/k1r6+9EpzT9CktjUsD/IPwtf0xfW680/IWhh6MAKtT9Cvq2R+6C4P0zKkCRi1bk/kS1SeSb8xT++eauVE8i8P2n/co2DN8g/uCWyZymQvD+/Qy+PDeK7P+o9whqdvMU/3SOhPMzcuz+XMptHEWTPP8iaECLGzbg/I54LBCSlwz8=\",\"dtype\":\"float64\",\"order\":\"little\",\"shape\":[100]}},\"selected\":{\"id\":\"1154\"},\"selection_policy\":{\"id\":\"1155\"}},\"id\":\"1133\",\"type\":\"ColumnDataSource\"},{\"attributes\":{},\"id\":\"1086\",\"type\":\"UnionRenderers\"},{\"attributes\":{\"fields\":[\"yen\",\"4755\",\"9984\",\"6701\",\"7203\",\"7267\"]},\"id\":\"1051\",\"type\":\"Stack\"},{\"attributes\":{\"bottom\":{\"expr\":{\"id\":\"1042\"}},\"fill_alpha\":{\"value\":0.8},\"fill_color\":{\"value\":\"#aec7e8\"},\"line_alpha\":{\"value\":0.8},\"line_color\":{\"value\":\"#aec7e8\"},\"top\":{\"expr\":{\"id\":\"1043\"}},\"width\":{\"value\":1},\"x\":{\"field\":\"x\"}},\"id\":\"1072\",\"type\":\"VBar\"},{\"attributes\":{},\"id\":\"1065\",\"type\":\"Selection\"},{\"attributes\":{\"bottom\":{\"expr\":{\"id\":\"1048\"}},\"fill_alpha\":{\"value\":0.8},\"fill_color\":{\"value\":\"#2ca02c\"},\"line_alpha\":{\"value\":0.8},\"line_color\":{\"value\":\"#2ca02c\"},\"top\":{\"expr\":{\"id\":\"1049\"}},\"width\":{\"value\":1},\"x\":{\"field\":\"x\"}},\"id\":\"1135\",\"type\":\"VBar\"},{\"attributes\":{\"data_source\":{\"id\":\"1070\"},\"glyph\":{\"id\":\"1072\"},\"hover_glyph\":null,\"muted_glyph\":null,\"name\":\"4755\",\"nonselection_glyph\":{\"id\":\"1073\"},\"selection_glyph\":null,\"view\":{\"id\":\"1075\"},\"y_range_name\":\"portfolio_vector\"},\"id\":\"1074\",\"type\":\"GlyphRenderer\"},{\"attributes\":{\"overlay\":{\"id\":\"1217\"}},\"id\":\"1213\",\"type\":\"BoxZoomTool\"},{\"attributes\":{\"data_source\":{\"id\":\"1272\"},\"glyph\":{\"id\":\"1273\"},\"hover_glyph\":null,\"muted_glyph\":null,\"nonselection_glyph\":{\"id\":\"1274\"},\"selection_glyph\":null,\"view\":{\"id\":\"1276\"}},\"id\":\"1275\",\"type\":\"GlyphRenderer\"},{\"attributes\":{},\"id\":\"1214\",\"type\":\"SaveTool\"},{\"attributes\":{\"axis\":{\"id\":\"1015\"},\"ticker\":null},\"id\":\"1018\",\"type\":\"Grid\"},{\"attributes\":{\"data_source\":{\"id\":\"1089\"},\"glyph\":{\"id\":\"1091\"},\"hover_glyph\":null,\"muted_glyph\":null,\"name\":\"9984\",\"nonselection_glyph\":{\"id\":\"1092\"},\"selection_glyph\":null,\"view\":{\"id\":\"1094\"},\"y_range_name\":\"portfolio_vector\"},\"id\":\"1093\",\"type\":\"GlyphRenderer\"},{\"attributes\":{\"end\":3},\"id\":\"1038\",\"type\":\"Range1d\"},{\"attributes\":{},\"id\":\"1430\",\"type\":\"Selection\"},{\"attributes\":{\"bottom\":{\"expr\":{\"id\":\"1044\"}},\"fill_alpha\":{\"value\":0.8},\"fill_color\":{\"value\":\"#ff7f0e\"},\"line_alpha\":{\"value\":0.8},\"line_color\":{\"value\":\"#ff7f0e\"},\"top\":{\"expr\":{\"id\":\"1045\"}},\"width\":{\"value\":1},\"x\":{\"field\":\"x\"}},\"id\":\"1091\",\"type\":\"VBar\"},{\"attributes\":{\"text\":\"yen=1.0, 4755=1128.0, 9984=7072.0, 6701=5680.0, 7203=7342.0, 7267=2959.5, \"},\"id\":\"1003\",\"type\":\"Div\"},{\"attributes\":{\"axis\":{\"id\":\"1019\"},\"dimension\":1,\"ticker\":null},\"id\":\"1022\",\"type\":\"Grid\"},{\"attributes\":{\"bottom\":{\"expr\":{\"id\":\"1044\"}},\"fill_alpha\":{\"value\":0.1},\"fill_color\":{\"value\":\"#ff7f0e\"},\"line_alpha\":{\"value\":0.1},\"line_color\":{\"value\":\"#ff7f0e\"},\"top\":{\"expr\":{\"id\":\"1045\"}},\"width\":{\"value\":1},\"x\":{\"field\":\"x\"}},\"id\":\"1092\",\"type\":\"VBar\"},{\"attributes\":{},\"id\":\"1059\",\"type\":\"BasicTickFormatter\"},{\"attributes\":{\"bottom\":{\"expr\":{\"id\":\"1040\"}},\"fill_alpha\":{\"value\":0.1},\"fill_color\":{\"value\":\"#1f77b4\"},\"line_alpha\":{\"value\":0.1},\"line_color\":{\"value\":\"#1f77b4\"},\"top\":{\"expr\":{\"id\":\"1041\"}},\"width\":{\"value\":1},\"x\":{\"field\":\"x\"}},\"id\":\"1055\",\"type\":\"VBar\"},{\"attributes\":{\"data\":{\"4755\":{\"__ndarray__\":\"AAAAAAAAAACcobSTe1PPP1dZzXyzLNE/l5W6j1LNtT8H6uug8fW5P1rVij712NI/kKO4C7Khuj/RwjmAzJjQP93OCbnmn8o/8KT4M3g9wj/AMKWT7cWqP9D6bgmD8cI/FfrOwH/5xD/e2WMW5KK+P2FegaM1r7Q/GEs449V6yT+v7xqK+Q7EP1ODWoulfcQ/aSVIQcaGtz81+VxklvvMP5o5gf2kN7w/DjivkXjxyj+W6bjFHzbEP7yKSF+cdtA/Acb7wG3dvD8mAAZVsTvHP7ih+SvdQ7Q/N6a8WhnZwD81+16mGbDJP+LiGGegh6c/X6EwWODAyz+UB/E2WS69P3YCmnDS088/72W00NJd2j9u10bwk1++P1bcg2ER+M8/IXaNuRHNzj+gVpNr4DbLPzyH2PlxWr0/I5dNA1L0uT/PL3JG6Q/APzXoGPfMsrQ/hqt/GN4fvz+efOxB/HiyP4hHw+/2/MY/0ZVtSlm4vT8BjTOylciwPw04v3b5sqQ/zkgwLNadsD/ia/+l27i/Px/sEznTccc/Sybwo2vouT86HfDi/U/DP/1CN+MuLsk/iiFGzOvMxz+I6aRUbGK7PyuJh/QARa8/bPoew4xPwj+GGZd/aG+2P5UkWmw2T7s/yR5BpJNWwj83InBpvf/KP4KMBl2LtMA/g6JwS9+Uuj9vV2pLPcq+P5XzEhlWOcA/LFffj/93wD+aJITg5uK0P2sRF+ojgcA/P0+yVaHEyT+oh1cSNW7KPyXiYJMf+bU/+ANYebtzsD957omJxpO1P/lt0B7t0LU/LO8w/V9ywT9Gl7i1hBuwP6bnze2Eyro/7ojvLR1+tj8t4cL+qAixP68tqdFxK8Q/vPtakqj0zz96xmykTWimP8/5LjMVrbU/eZ4AF/CBwz+90IwYmmzLP5YE0nJbh8Y/o6sUmODE1T9VCuvP5SDFP5ieP+e7Srs/4W1PKn6Rwz9/zjePWFvDP411VcFV6sM/MgzPSAYfwz/h9X/wsJi+P18EziTX5sA/0wRaasfDwD8/yQzhP427P1ryL5ELIsM/XrPElvHowT8=\",\"dtype\":\"float64\",\"order\":\"little\",\"shape\":[100]},\"6701\":{\"__ndarray__\":\"AAAAAAAAAABpGGUGnwHEP7PF7YlAa8A/yi1Taw7Zpz8vSQLAUxS9P8gzMXAxIbw/5uP9ZPC/yz9dMET96WDTPxCcEzxFs8U/+GEJ5BMN0D/Y2Hp5jcisP9lfyp9Zfbs/yhvVltK0xD/SxUfNG8fGP6/ZwVKUQNg/wujomo9Iwz/XoH0a+/PSP/Z9eBcjOLw/3jiLRrGwxT+Kif4EktHAP4EDvM0yR8I/pCHDcKY2xj+3CyLUYyC8PynWwayEUrc/JSXM7XIPyz89K95ENVDMP/FH0OZy3L4/et1j0ho1zz8LfyiGHgnOP/j2HGLG0cI/eQNyXrpzwT9AuVbw20nIPzLeSnnWXcE/rvCROtYMtT8G7T+gFF69P6ETcGiu6tA/n/PSkNRt2D9qs2zNN1XNP8Kh1F8ccsc/LOD2pZTCwD/aEdOog3LLPzVCkW9CU90/PIfYrGNu3T8iLiZQgsrSP6JNAnGb8NQ/DIGWqAbF1D+Xx0LXDjupP1g8n8xvbt4/nXCeHApepT+XeudAtUvcP9O+qVfIFsc/niqoPCTyyT+52JlZ6XLDP/iWhSkMbMA/j7IA7Qk4tz9dCRfjfDDUP3O9M+vLPsE///2AQ9Mv0z+rLccNtKfKP474JSimrLs/HPEwWZFysj/Dtg10Qku9P1Ub+Ss7Pbw/kM+2K0MQ1j9edX+6BSzPP7c9PjZGfNs/eHid6U2fyz9iN55JPZ+5P3iDu0qFBrc/2Hiq1nCXtT95qaA7SUK5P8xKJyhclcc/mUdgIVOi4z/sEMGzZNrOP8+Lov/agLo/r8TJ5zS6zD/XiCEbZim3P6SL4ibY3LM/WFnOHbMUvz++P3SsvBazP/htOyc0e60//2PKsT3JuT8YykyeairBPy97ocnaAa4/lhho9VqIvD8teOZzHL7CP98U4VJF28Y/VzVHXLyutj92MQ+VB4TOP2x5NG5Mp8g/UrZihk8esj8tsllyM3LPP+SDeJVuJMw/z7fCMFMbtz/IoZoYOibCP0j6Gkk92cc/tvB+TNwzvz+gMwle5oC8P3nhKk1XirY/Xx/CeXORwj8=\",\"dtype\":\"float64\",\"order\":\"little\",\"shape\":[100]},\"7203\":{\"__ndarray__\":\"AAAAAAAAAACprl4mi9q6P3hNxSVblNM/sFWtsPPXrj8+oY4slSDKP3YRqOUrg84/idpUBolcvT8YdJf5Oh/CP03ZEY3PE8I/Vq02oZAMwD+9LXrLALDjPxWGtxej4co/4kiBXtj2uz9pc9cQKPbFP0pClpzwCLI/J1KpOtUxuz+Tku6BRTy2P9+pCAdg+NI/m7I6kUXt0D8nSs8rmbLPP/z/7O93o8Q/SDww4VkJyz/sJ/QYo/nNP6NVoainK8A/z3zXnGTSzz9FB7hVAG/HP6T3DPeakds/EPPFH0xCyD+tT+QgjOrIP210YwwR2t0/0kDQ7sSkuz+RJoNzwyG8PzYx9qw218k/Tw/lOZL1tD/7QiMo1HHFP7wyOUKCdLU/QtcRNiETxz/F6x0haUTEP/f1/g76xsg/+reFbLXh3D9dShb3UGXRP5cw/BVk2bM/0LvgLFb/tD8XiXF8sFLEP9MmNIrffcg/qLSaszNeqD/eNe1t6s/lP61i6oD1qME/ji0J8RK0qj+aIcNazvPJPxGrSbnXpcQ/9euF61o5tT/LDzM3iDjUP7BS6hRKzL0/ihHWSILztT8nmZUP4KXAP20eRfuLEeM/G5imyrcStj9ScZptf4e7P5ADPzRPTdg/ihZVWweRpj9gdAiPHmDIP7W6WDx8jbY/K3mKwKB0tj9omZeNf4q4P5mGuSx28bY/Qj/jrp8+yT/97YNYGZfVP+jwjtuTo8Q/UWQ59t4gtT/SvZM9BwTSP4RoB6x/gck/UHTw5Tgftz9PnObnmQLUP+LJ/JSAisE/sWYr3yKA2z8OHb5QUgTWPzULsEyvA7Q/tmr8+TeOwz+15Vfzf47LP+o2qj6zp94/mPoBvWD2wD+3nRyC6fvkP8WgEQu1VNo/GmL/Kvfzwj+aL0x6JYjAP62uB4vKZb4/Nin7KGmZ0j9pQaKyuRDAPyh1NC1nQsI/wHyO8+ve0T8p080STgS/P2HZUOzhS8I/wHrHPW3S3D8ZAyNb2AK8P4t/rZaJEsU/fG2YGEMSvz+KZpTgnu+9P+6l4I/LYcE/I73/W0PmvT8=\",\"dtype\":\"float64\",\"order\":\"little\",\"shape\":[100]},\"7267\":{\"__ndarray__\":\"AAAAAAAAAAAunju6tvXRPwqpQp4nyrg/+6CGkagBqz+gvkc93j2rPyGssE1CXbQ/6UjpXXgbtD90q5iec2ezP9zBKlZp68U/8WO5rAwMzj+QJekxKHGrPzT3VkLhv8o/2dcVNApvvj//HwvWNJzAP80CF7QM5ck/ekE8BJDvwz9wQwLqPre3Pzkp1+Dnl8M/k6SaX+6qwD9WXQZLekPDP4NpCq8fk70/GAjuhPvAvj9l8GPhnJnBP/rsLjOioLs/1MCkmr39xj8AmU8ENhHAPxFQlkohIMU/j3bqmRUbwD8MNQTSYnHAP9MR4BaWDq8/tzrNVewhxD+0x33P5B7DP6zdYIlsDrc/UhWyl97usz/QJeGHrL20P+I02VQuNr8/cYcIwyEHsj+xPXu0WDOvPzWIKDaiN8w/+1AbxI/nsj/eUayL4kq6P8My2bxj68k/S0sDTXYntT9yX/MgozCxPxAG8dm/5bI/lW1Wa618uT/YY7uPZ/WwP7x6CxbfNb4/PaNMioqb5T+mB4sPOfm1P2Rh0Rj088U/xZVaxYMLxD+ILEuzixK5P0tryT4ijM4/TCe8lIvSpz9D1O/3zVrFP+htk2nWFrc//cMi32ekxD8NarUdFVvYP/nZIAxXIrA/J5L/evp/sT/DmWXoQCC3PxQpc+IEqsI/J4QSchZ7vD/NOHebHE7NPwtzJ9X3GLA/SKMTUF1Dtz+d68snBf/BP5E++FQWzs4/7LO0RrB0wj8VeidGMcipP342FcKuzM0/T0wfrQfPtj9tdx5aySK5P2PIu0bzQbM/ageHya8GrD8586J2it3EP2SbnhNNisU/X3c0ftlBsD++z0ZbhfKyP6XnMdoON8E/PZeuRng4uT8BizFp7runP4XTsbfgec0/n/ki1Of20D+LPELAo5HCPwQo9nacesM/nSZun573wD8WV88asQrPP0T0SAZis9c/REX29jbwyD92COaDRdPGPz1DKieajsM/MXmXmlVzvD8S0Y3+SJG4PzKKeANS0tA/XuKsB7ES0D9+buVhPUnQP2ojbzszMLg/bb2a7dKe0D8=\",\"dtype\":\"float64\",\"order\":\"little\",\"shape\":[100]},\"9984\":{\"__ndarray__\":\"AAAAAAAAAADnFhNfSx67PzWNZDcE4LM/f3rn4z9QsD8y8bTnduPBP9po6o0pv70/KAThBbFwzT8PKcB4nJm3P4Sv00XU5cI/uC8GAeJJwT/Qwrn29hvBP+jmrcXW8bs/LY9X1Uk80z/G84ptSSHPP7sCmsRIGrA/QZ4YgT+Xxz8VhSFrYFLJPylIykXaesM/tXbPGnbYyz8zqav0FT/APzVPWVU03sk/iEMQETMNxT8DAse9hNjEP+HDVbGKcbc/nyjUw7lAuT9piNi6fPPBP2U5cpUAWrI/QvxLdBXKxT+YbjZ+DrG/P+ESQPlqUMI/kCsBQTpgyD8B1+PLf+m+Pz7SsWu//LU/mR/KS6CnxT8NqgdrOx3EP7UPg/mGvMM/80icTMCCrz+s6QcVSAGpP3OYRf5ULLo/s9FjgOl5uT+oPcxei7HLP44K0pq7f7Q/jhuwToTRuj9PcXjCRXbEP1gf8eh7xb0/Lzq+te8P1z9MDf9nyRq2P93MIJxFs8E/NdmMCgGkuz8GujDJemCzP7kdmC4GSbU/QYYoSOtD1z+G2TSCOLHKPxuGbfntg8s/krWE6xJ94D9fczSYJkvMPyIPECx5PJw/Pmar+Gn7uj94VDVdh2G3P+1quVgdArg/5TW+uAK7qz/wk+uonA+7P+EKBeKmCdc/2+UqD+4yzj+JSDipgVW5P/B1oqdToLQ/00D8Etkg0j8Z6/k9mhPQP1sbXT/YQc0/TR/s4ngmuD8g3eX4OOzJPwy6h5bQicI/6snbhTHzrz8Gk/8/B2bGPwHzL4LjysA/cmTeB0OnqD+oq3+i1S6mP2X9MTxwP98/nv1mIDwO3D8ngi6bRI7eP/SXYB4W/q8/jCSHRvCL0j8fRCO7cx6xPynvD5ZUv7U/l0oXPpNcuD+suCVkz3vGPyqI/2UHBMI/3cE7eB7esD+QTL0EKu/AP+XoOaTyPrY/oMoZuyS1wD9r0Eum/XjIP4DqQwg838E/16U3RGxZtj+kq1r9KinbPwdfbLNBmLU/tPq3WrAC0T+1vsRkkQrFP/MLzUQA3Ns/qzU4Yq+vxz8=\",\"dtype\":\"float64\",\"order\":\"little\",\"shape\":[100]},\"datetime\":{\"__ndarray__\":\"AAAoIhZbd0IAAGZrFlt3QgAApLQWW3dCAADi/RZbd0IAACBHF1t3QgAAXpAXW3dCAACc2Rdbd0IAANoiGFt3QgAAGGwYW3dCAABWtRhbd0IAAJT+GFt3QgAA0kcZW3dCAAAQkRlbd0IAAE7aGVt3QgAAjCMaW3dCAADKbBpbd0IAAAi2Glt3QgAARv8aW3dCAACESBtbd0IAAMKRG1t3QgAAANsbW3dCAAA+JBxbd0IAAHxtHFt3QgAAurYcW3dCAAD4/xxbd0IAADZJHVt3QgAAdJIdW3dCAACy2x1bd0IAAPAkHlt3QgAALm4eW3dCAABUJiJbd0IAAJJvIlt3QgAA0LgiW3dCAAAOAiNbd0IAAExLI1t3QgAAipQjW3dCAADI3SNbd0IAAAYnJFt3QgAARHAkW3dCAACCuSRbd0IAAMACJVt3QgAA/kslW3dCAAA8lSVbd0IAAHreJVt3QgAAuCcmW3dCAAD2cCZbd0IAADS6Jlt3QgAAcgMnW3dCAACwTCdbd0IAAO6VJ1t3QgAALN8nW3dCAABqKChbd0IAAKhxKFt3QgAA5rooW3dCAAAkBClbd0IAAGJNKVt3QgAAoJYpW3dCAADe3ylbd0IAABwpKlt3QgAAWnIqW3dCAADoh2hbd0IAACbRaFt3QgAAZBppW3dCAACiY2lbd0IAAOCsaVt3QgAAHvZpW3dCAABcP2pbd0IAAJqIalt3QgAA2NFqW3dCAAAWG2tbd0IAAFRka1t3QgAAkq1rW3dCAADQ9mtbd0IAAA5AbFt3QgAATIlsW3dCAACK0mxbd0IAAMgbbVt3QgAABmVtW3dCAABErm1bd0IAAIL3bVt3QgAAwEBuW3dCAAD+iW5bd0IAADzTblt3QgAAehxvW3dCAAC4ZW9bd0IAAPaub1t3QgAANPhvW3dCAAByQXBbd0IAALCKcFt3QgAA7tNwW3dCAAAUjHRbd0IAAFLVdFt3QgAAkB51W3dCAADOZ3Vbd0IAAAyxdVt3QgAASvp1W3dCAACIQ3Zbd0IAAMaMdlt3QgAABNZ2W3dCAABCH3dbd0I=\",\"dtype\":\"float64\",\"order\":\"little\",\"shape\":[100]},\"x\":{\"__ndarray__\":\"AAAAAAEAAAACAAAAAwAAAAQAAAAFAAAABgAAAAcAAAAIAAAACQAAAAoAAAALAAAADAAAAA0AAAAOAAAADwAAABAAAAARAAAAEgAAABMAAAAUAAAAFQAAABYAAAAXAAAAGAAAABkAAAAaAAAAGwAAABwAAAAdAAAAHgAAAB8AAAAgAAAAIQAAACIAAAAjAAAAJAAAACUAAAAmAAAAJwAAACgAAAApAAAAKgAAACsAAAAsAAAALQAAAC4AAAAvAAAAMAAAADEAAAAyAAAAMwAAADQAAAA1AAAANgAAADcAAAA4AAAAOQAAADoAAAA7AAAAPAAAAD0AAAA+AAAAPwAAAEAAAABBAAAAQgAAAEMAAABEAAAARQAAAEYAAABHAAAASAAAAEkAAABKAAAASwAAAEwAAABNAAAATgAAAE8AAABQAAAAUQAAAFIAAABTAAAAVAAAAFUAAABWAAAAVwAAAFgAAABZAAAAWgAAAFsAAABcAAAAXQAAAF4AAABfAAAAYAAAAGEAAABiAAAAYwAAAA==\",\"dtype\":\"int32\",\"order\":\"little\",\"shape\":[100]},\"yen\":{\"__ndarray__\":\"AAAAAAAA8D/BTWxdGYa7PymjMowYe78/tUuzBiMh5j8nsvnVrNPYP3UfXPcarMQ/OdqSbkJh0D9IO8D/z2zAP3RK0uHGx8Q/Uaz8acGLvD/zdDYXOsi2P4Rkxmlgtcs/bjthtCimwj8SxhjTyzPEPyJ4DCSTMMo/ZkM1X+Acyj+F3s+f7bzFP414NrTGYsA/6DPx+/stwD8XWUZWXPu9P93tW0vfKNE/7USskazBvj839haY6U3JP7coFWhj2tQ/6KVPGFcRwz/yqztRZgDDPyqvMXOA/8A/ZBbjpFTKwT9qk+lCoyS+PxjQXewehME/gdQmO9x2yD83vn+COD3UPyqWm26Kcc4/2Im4jBakxj/tjlDwohnXP9y4j4iyIMA/2eoe9MW/sD8soMA5K5HSP0rQ9N7jy8c/+1IX3RpPwj8ehtf76LexP1VuISBC0Lk/bArFNSEXwz9Ku1lvNc3PP1jHJYWpnLw/j2o37guQqj9E3g32vBSqP7uYAcJu/rY/C+oT4IuxrT/ppCDI/taxP8M524UVOcw/+1PiSzzTtz9z9WryEyOzP4UWLmEf37o/mzgZC79osz/BXha/7YeuP2RblCCTLbc/b0YT9VMlyj8jHTUj1Ou/P+PH1Bo51c8/HnMo+0jH4z+W+2sCSnHSP7RJU0jGKMU/LlbBtIDUvT8sNexovjDLPzHZrqW8+Mo/kDs7E2SNtT9+aE4sA9W2PwfipgAXSMM/UH/YBaUr2T9X7ECKUorEPwbrgwkVlsM/vRmoJdKRtD/84DuVML62PwXxHRtf8N0/jkeqUFFPuz/U62kL0/XSPxhVmoaYQrU/QG084PpqwT9qOximApi3P8f20oqM37s/+kJYJzt8wD92Ih7hmTarP7AXI5sJpsA/k1r6+9EpzT9CktjUsD/IPwtf0xfW680/IWhh6MAKtT9Cvq2R+6C4P0zKkCRi1bk/kS1SeSb8xT++eauVE8i8P2n/co2DN8g/uCWyZymQvD+/Qy+PDeK7P+o9whqdvMU/3SOhPMzcuz+XMptHEWTPP8iaECLGzbg/I54LBCSlwz8=\",\"dtype\":\"float64\",\"order\":\"little\",\"shape\":[100]}},\"selected\":{\"id\":\"1065\"},\"selection_policy\":{\"id\":\"1066\"}},\"id\":\"1052\",\"type\":\"ColumnDataSource\"},{\"attributes\":{\"active_drag\":\"auto\",\"active_inspect\":\"auto\",\"active_multi\":null,\"active_scroll\":\"auto\",\"active_tap\":\"auto\",\"tools\":[{\"id\":\"1211\"},{\"id\":\"1212\"},{\"id\":\"1213\"},{\"id\":\"1214\"},{\"id\":\"1215\"},{\"id\":\"1216\"}]},\"id\":\"1218\",\"type\":\"Toolbar\"},{\"attributes\":{\"source\":{\"id\":\"1070\"}},\"id\":\"1075\",\"type\":\"CDSView\"},{\"attributes\":{\"callback\":null,\"formatters\":{\"@datetime\":\"datetime\"},\"tooltips\":[[\"datetime\",\"@datetime{%F %H:%M:%S}\"],[\"yen\",\"@yen{0.000}\"],[\"4755\",\"@4755{0.000}\"],[\"9984\",\"@9984{0.000}\"],[\"6701\",\"@6701{0.000}\"],[\"7203\",\"@7203{0.000}\"],[\"7267\",\"@7267{0.000}\"]]},\"id\":\"1002\",\"type\":\"HoverTool\"},{\"attributes\":{\"fields\":[\"yen\",\"4755\",\"9984\"]},\"id\":\"1045\",\"type\":\"Stack\"},{\"attributes\":{},\"id\":\"1290\",\"type\":\"Selection\"},{\"attributes\":{\"bottom\":{\"expr\":{\"id\":\"1048\"}},\"fill_alpha\":{\"value\":0.1},\"fill_color\":{\"value\":\"#2ca02c\"},\"line_alpha\":{\"value\":0.1},\"line_color\":{\"value\":\"#2ca02c\"},\"top\":{\"expr\":{\"id\":\"1049\"}},\"width\":{\"value\":1},\"x\":{\"field\":\"x\"}},\"id\":\"1136\",\"type\":\"VBar\"},{\"attributes\":{\"fields\":[\"yen\",\"4755\",\"9984\",\"6701\",\"7203\"]},\"id\":\"1049\",\"type\":\"Stack\"},{\"attributes\":{\"end\":1.0772130912635027,\"start\":0.8401592065293724},\"id\":\"1230\",\"type\":\"Range1d\"},{\"attributes\":{},\"id\":\"1215\",\"type\":\"ResetTool\"},{\"attributes\":{\"bottom_units\":\"screen\",\"fill_alpha\":0.5,\"fill_color\":\"lightgrey\",\"left_units\":\"screen\",\"level\":\"overlay\",\"line_alpha\":1.0,\"line_color\":\"black\",\"line_dash\":[4,4],\"line_width\":2,\"right_units\":\"screen\",\"top_units\":\"screen\"},\"id\":\"1217\",\"type\":\"BoxAnnotation\"},{\"attributes\":{},\"id\":\"1212\",\"type\":\"WheelZoomTool\"},{\"attributes\":{},\"id\":\"1016\",\"type\":\"BasicTicker\"},{\"attributes\":{\"label\":{\"value\":\"9984\"},\"renderers\":[{\"id\":\"1093\"}]},\"id\":\"1109\",\"type\":\"LegendItem\"},{\"attributes\":{\"source\":{\"id\":\"1225\"}},\"id\":\"1229\",\"type\":\"CDSView\"},{\"attributes\":{\"data\":{\"x\":[],\"y\":[]},\"selected\":{\"id\":\"1290\"},\"selection_policy\":{\"id\":\"1291\"}},\"id\":\"1272\",\"type\":\"ColumnDataSource\"},{\"attributes\":{\"active_drag\":\"auto\",\"active_inspect\":\"auto\",\"active_multi\":null,\"active_scroll\":\"auto\",\"active_tap\":\"auto\",\"tools\":[{\"id\":\"1023\"},{\"id\":\"1024\"},{\"id\":\"1025\"},{\"id\":\"1026\"},{\"id\":\"1027\"},{\"id\":\"1028\"},{\"id\":\"1002\"}]},\"id\":\"1030\",\"type\":\"Toolbar\"},{\"attributes\":{},\"id\":\"1007\",\"type\":\"DataRange1d\"},{\"attributes\":{\"fields\":[\"yen\",\"4755\"]},\"id\":\"1044\",\"type\":\"Stack\"},{\"attributes\":{\"axis_label\":\"\\u5168\\u8cc7\\u7523 [\\u5186]\",\"formatter\":{\"id\":\"1239\"},\"ticker\":{\"id\":\"1240\"},\"y_range_name\":\"all_assets\"},\"id\":\"1232\",\"type\":\"LinearAxis\"},{\"attributes\":{\"text\":\"\\u6b63\\u898f\\u5316\\u4fa1\\u683c\\u30fb\\u30dd\\u30fc\\u30c8\\u30d5\\u30a9\\u30ea\\u30aa\"},\"id\":\"1005\",\"type\":\"Title\"},{\"attributes\":{},\"id\":\"1023\",\"type\":\"PanTool\"},{\"attributes\":{},\"id\":\"1085\",\"type\":\"Selection\"},{\"attributes\":{\"line_color\":\"red\",\"line_width\":4,\"x\":{\"field\":\"x\"},\"y\":{\"field\":\"y\"}},\"id\":\"1234\",\"type\":\"Line\"},{\"attributes\":{\"axis_label\":\"\\u6b63\\u898f\\u5316\\u4fa1\\u683c\",\"formatter\":{\"id\":\"1063\"},\"ticker\":{\"id\":\"1020\"}},\"id\":\"1019\",\"type\":\"LinearAxis\"},{\"attributes\":{\"line_alpha\":0.1,\"line_color\":\"red\",\"line_width\":4,\"x\":{\"field\":\"x\"},\"y\":{\"field\":\"y\"}},\"id\":\"1235\",\"type\":\"Line\"},{\"attributes\":{},\"id\":\"1013\",\"type\":\"LinearScale\"},{\"attributes\":{},\"id\":\"1020\",\"type\":\"BasicTicker\"},{\"attributes\":{\"fields\":[\"yen\"]},\"id\":\"1041\",\"type\":\"Stack\"},{\"attributes\":{\"data\":{\"x\":{\"__ndarray__\":\"AAAAAAEAAAACAAAAAwAAAAQAAAAFAAAABgAAAAcAAAAIAAAACQAAAAoAAAALAAAADAAAAA0AAAAOAAAADwAAABAAAAARAAAAEgAAABMAAAAUAAAAFQAAABYAAAAXAAAAGAAAABkAAAAaAAAAGwAAABwAAAAdAAAAHgAAAB8AAAAgAAAAIQAAACIAAAAjAAAAJAAAACUAAAAmAAAAJwAAACgAAAApAAAAKgAAACsAAAAsAAAALQAAAC4AAAAvAAAAMAAAADEAAAAyAAAAMwAAADQAAAA1AAAANgAAADcAAAA4AAAAOQAAADoAAAA7AAAAPAAAAD0AAAA+AAAAPwAAAEAAAABBAAAAQgAAAEMAAABEAAAARQAAAEYAAABHAAAASAAAAEkAAABKAAAASwAAAEwAAABNAAAATgAAAE8AAABQAAAAUQAAAFIAAABTAAAAVAAAAFUAAABWAAAAVwAAAFgAAABZAAAAWgAAAFsAAABcAAAAXQAAAF4AAABfAAAAYAAAAGEAAABiAAAAYwAAAA==\",\"dtype\":\"int32\",\"order\":\"little\",\"shape\":[100]},\"y\":{\"__ndarray__\":\"AAAAAICELkEZrkgoTFUuQUdmJuNrWy5BYuEBejk4LkGdvRpWWDYuQTe5G5NzSy5BuVWBIFMwLkHtAhr7kUouQZxkCTH4Oi5BH5gZrmlFLkGGDZT/v08uQbs7t0e9Vy5B6dIO08ZkLkG+U1Ph3GcuQfWVmLBpdS5BV4m+DKtlLkHxbJpP1mUuQRXATHg5bS5BmVuaJ7ZqLkEemcCgR1guQQdhUlUsXS5BvRwF2ElhLkFhv6p48l0uQZixZOY6WC5BSe7vzwVnLkHNvXCqeXAuQXotyNluaC5BQzKTOSxsLkEdMeSKn2guQXjRr5kQYS5B8bUFhSZeLkEnV28+BEMuQQc3TY1ePi5Bdtr0zBJCLkGp0BE7AEEuQcy3rqbmRi5BM6Z/d99MLkGLXQ8JMkUuQbBHMsZVQi5BmF7Gk9g7LkHmK0koxzwuQRdIQuQjPS5BVhVv6j5DLkEGRIjHskQuQfCrPOXBMS5BfvbAN6oxLkEH5RAWli4uQae3e1vAKy5BR2yVP6FILkH2j49auFUuQRfZz875Xi5Blv582bJgLkEL6vXrEGcuQUjWXtkSZy5B91hq6L5nLkGg/SB4/WguQRZun0gYZy5BS7dxBZViLkHFGdWrsFouQZ7mtpIuYy5BOGjUR2lVLkE2OjU+jF8uQcSjtVF/dC5BtW2gwSBvLkEH1VPYLnIuQTL41P/1fC5B7kr45s2ALkFFqCT5e34uQVLMWiEOjC5BJ/19u52JLkFi2ga0PIkuQe69B8pohy5BE5RbRJ2WLkEmWtPfLJIuQW8oIsYAmi5Bs+5t/XmgLkGgM15DwpkuQdayJ5OVjS5B4ISeG4qLLkH2oUcNB44uQcGAEydViy5BRufA/aiLLkG2YZa98oQuQdnWFd/7kS5B9uF40lKXLkHVmvQQXZsuQUAGbt5ClC5BPJ1RStaULkEeAJRLWpsuQZYb7qS7ki5BP9syUlGfLkEoTjbRlZsuQWaiylmzky5BKdefIYKNLkFK4EeI3pEuQajRtFKQmy5BSbpg+QGTLkFH+XLLbJUuQcvCakzNnC5BLIFDCOabLkE=\",\"dtype\":\"float64\",\"order\":\"little\",\"shape\":[100]}},\"selected\":{\"id\":\"1247\"},\"selection_policy\":{\"id\":\"1248\"}},\"id\":\"1233\",\"type\":\"ColumnDataSource\"},{\"attributes\":{},\"id\":\"1107\",\"type\":\"UnionRenderers\"},{\"attributes\":{\"line_color\":\"#aec7e8\",\"line_width\":2,\"x\":{\"field\":\"x\"},\"y\":{\"field\":\"y\"}},\"id\":\"1273\",\"type\":\"Line\"},{\"attributes\":{},\"id\":\"1011\",\"type\":\"LinearScale\"},{\"attributes\":{\"data\":{\"4755\":{\"__ndarray__\":\"AAAAAAAAAACcobSTe1PPP1dZzXyzLNE/l5W6j1LNtT8H6uug8fW5P1rVij712NI/kKO4C7Khuj/RwjmAzJjQP93OCbnmn8o/8KT4M3g9wj/AMKWT7cWqP9D6bgmD8cI/FfrOwH/5xD/e2WMW5KK+P2FegaM1r7Q/GEs449V6yT+v7xqK+Q7EP1ODWoulfcQ/aSVIQcaGtz81+VxklvvMP5o5gf2kN7w/DjivkXjxyj+W6bjFHzbEP7yKSF+cdtA/Acb7wG3dvD8mAAZVsTvHP7ih+SvdQ7Q/N6a8WhnZwD81+16mGbDJP+LiGGegh6c/X6EwWODAyz+UB/E2WS69P3YCmnDS088/72W00NJd2j9u10bwk1++P1bcg2ER+M8/IXaNuRHNzj+gVpNr4DbLPzyH2PlxWr0/I5dNA1L0uT/PL3JG6Q/APzXoGPfMsrQ/hqt/GN4fvz+efOxB/HiyP4hHw+/2/MY/0ZVtSlm4vT8BjTOylciwPw04v3b5sqQ/zkgwLNadsD/ia/+l27i/Px/sEznTccc/Sybwo2vouT86HfDi/U/DP/1CN+MuLsk/iiFGzOvMxz+I6aRUbGK7PyuJh/QARa8/bPoew4xPwj+GGZd/aG+2P5UkWmw2T7s/yR5BpJNWwj83InBpvf/KP4KMBl2LtMA/g6JwS9+Uuj9vV2pLPcq+P5XzEhlWOcA/LFffj/93wD+aJITg5uK0P2sRF+ojgcA/P0+yVaHEyT+oh1cSNW7KPyXiYJMf+bU/+ANYebtzsD957omJxpO1P/lt0B7t0LU/LO8w/V9ywT9Gl7i1hBuwP6bnze2Eyro/7ojvLR1+tj8t4cL+qAixP68tqdFxK8Q/vPtakqj0zz96xmykTWimP8/5LjMVrbU/eZ4AF/CBwz+90IwYmmzLP5YE0nJbh8Y/o6sUmODE1T9VCuvP5SDFP5ieP+e7Srs/4W1PKn6Rwz9/zjePWFvDP411VcFV6sM/MgzPSAYfwz/h9X/wsJi+P18EziTX5sA/0wRaasfDwD8/yQzhP427P1ryL5ELIsM/XrPElvHowT8=\",\"dtype\":\"float64\",\"order\":\"little\",\"shape\":[100]},\"6701\":{\"__ndarray__\":\"AAAAAAAAAABpGGUGnwHEP7PF7YlAa8A/yi1Taw7Zpz8vSQLAUxS9P8gzMXAxIbw/5uP9ZPC/yz9dMET96WDTPxCcEzxFs8U/+GEJ5BMN0D/Y2Hp5jcisP9lfyp9Zfbs/yhvVltK0xD/SxUfNG8fGP6/ZwVKUQNg/wujomo9Iwz/XoH0a+/PSP/Z9eBcjOLw/3jiLRrGwxT+Kif4EktHAP4EDvM0yR8I/pCHDcKY2xj+3CyLUYyC8PynWwayEUrc/JSXM7XIPyz89K95ENVDMP/FH0OZy3L4/et1j0ho1zz8LfyiGHgnOP/j2HGLG0cI/eQNyXrpzwT9AuVbw20nIPzLeSnnWXcE/rvCROtYMtT8G7T+gFF69P6ETcGiu6tA/n/PSkNRt2D9qs2zNN1XNP8Kh1F8ccsc/LOD2pZTCwD/aEdOog3LLPzVCkW9CU90/PIfYrGNu3T8iLiZQgsrSP6JNAnGb8NQ/DIGWqAbF1D+Xx0LXDjupP1g8n8xvbt4/nXCeHApepT+XeudAtUvcP9O+qVfIFsc/niqoPCTyyT+52JlZ6XLDP/iWhSkMbMA/j7IA7Qk4tz9dCRfjfDDUP3O9M+vLPsE///2AQ9Mv0z+rLccNtKfKP474JSimrLs/HPEwWZFysj/Dtg10Qku9P1Ub+Ss7Pbw/kM+2K0MQ1j9edX+6BSzPP7c9PjZGfNs/eHid6U2fyz9iN55JPZ+5P3iDu0qFBrc/2Hiq1nCXtT95qaA7SUK5P8xKJyhclcc/mUdgIVOi4z/sEMGzZNrOP8+Lov/agLo/r8TJ5zS6zD/XiCEbZim3P6SL4ibY3LM/WFnOHbMUvz++P3SsvBazP/htOyc0e60//2PKsT3JuT8YykyeairBPy97ocnaAa4/lhho9VqIvD8teOZzHL7CP98U4VJF28Y/VzVHXLyutj92MQ+VB4TOP2x5NG5Mp8g/UrZihk8esj8tsllyM3LPP+SDeJVuJMw/z7fCMFMbtz/IoZoYOibCP0j6Gkk92cc/tvB+TNwzvz+gMwle5oC8P3nhKk1XirY/Xx/CeXORwj8=\",\"dtype\":\"float64\",\"order\":\"little\",\"shape\":[100]},\"7203\":{\"__ndarray__\":\"AAAAAAAAAACprl4mi9q6P3hNxSVblNM/sFWtsPPXrj8+oY4slSDKP3YRqOUrg84/idpUBolcvT8YdJf5Oh/CP03ZEY3PE8I/Vq02oZAMwD+9LXrLALDjPxWGtxej4co/4kiBXtj2uz9pc9cQKPbFP0pClpzwCLI/J1KpOtUxuz+Tku6BRTy2P9+pCAdg+NI/m7I6kUXt0D8nSs8rmbLPP/z/7O93o8Q/SDww4VkJyz/sJ/QYo/nNP6NVoainK8A/z3zXnGTSzz9FB7hVAG/HP6T3DPeakds/EPPFH0xCyD+tT+QgjOrIP210YwwR2t0/0kDQ7sSkuz+RJoNzwyG8PzYx9qw218k/Tw/lOZL1tD/7QiMo1HHFP7wyOUKCdLU/QtcRNiETxz/F6x0haUTEP/f1/g76xsg/+reFbLXh3D9dShb3UGXRP5cw/BVk2bM/0LvgLFb/tD8XiXF8sFLEP9MmNIrffcg/qLSaszNeqD/eNe1t6s/lP61i6oD1qME/ji0J8RK0qj+aIcNazvPJPxGrSbnXpcQ/9euF61o5tT/LDzM3iDjUP7BS6hRKzL0/ihHWSILztT8nmZUP4KXAP20eRfuLEeM/G5imyrcStj9ScZptf4e7P5ADPzRPTdg/ihZVWweRpj9gdAiPHmDIP7W6WDx8jbY/K3mKwKB0tj9omZeNf4q4P5mGuSx28bY/Qj/jrp8+yT/97YNYGZfVP+jwjtuTo8Q/UWQ59t4gtT/SvZM9BwTSP4RoB6x/gck/UHTw5Tgftz9PnObnmQLUP+LJ/JSAisE/sWYr3yKA2z8OHb5QUgTWPzULsEyvA7Q/tmr8+TeOwz+15Vfzf47LP+o2qj6zp94/mPoBvWD2wD+3nRyC6fvkP8WgEQu1VNo/GmL/Kvfzwj+aL0x6JYjAP62uB4vKZb4/Nin7KGmZ0j9pQaKyuRDAPyh1NC1nQsI/wHyO8+ve0T8p080STgS/P2HZUOzhS8I/wHrHPW3S3D8ZAyNb2AK8P4t/rZaJEsU/fG2YGEMSvz+KZpTgnu+9P+6l4I/LYcE/I73/W0PmvT8=\",\"dtype\":\"float64\",\"order\":\"little\",\"shape\":[100]},\"7267\":{\"__ndarray__\":\"AAAAAAAAAAAunju6tvXRPwqpQp4nyrg/+6CGkagBqz+gvkc93j2rPyGssE1CXbQ/6UjpXXgbtD90q5iec2ezP9zBKlZp68U/8WO5rAwMzj+QJekxKHGrPzT3VkLhv8o/2dcVNApvvj//HwvWNJzAP80CF7QM5ck/ekE8BJDvwz9wQwLqPre3Pzkp1+Dnl8M/k6SaX+6qwD9WXQZLekPDP4NpCq8fk70/GAjuhPvAvj9l8GPhnJnBP/rsLjOioLs/1MCkmr39xj8AmU8ENhHAPxFQlkohIMU/j3bqmRUbwD8MNQTSYnHAP9MR4BaWDq8/tzrNVewhxD+0x33P5B7DP6zdYIlsDrc/UhWyl97usz/QJeGHrL20P+I02VQuNr8/cYcIwyEHsj+xPXu0WDOvPzWIKDaiN8w/+1AbxI/nsj/eUayL4kq6P8My2bxj68k/S0sDTXYntT9yX/MgozCxPxAG8dm/5bI/lW1Wa618uT/YY7uPZ/WwP7x6CxbfNb4/PaNMioqb5T+mB4sPOfm1P2Rh0Rj088U/xZVaxYMLxD+ILEuzixK5P0tryT4ijM4/TCe8lIvSpz9D1O/3zVrFP+htk2nWFrc//cMi32ekxD8NarUdFVvYP/nZIAxXIrA/J5L/evp/sT/DmWXoQCC3PxQpc+IEqsI/J4QSchZ7vD/NOHebHE7NPwtzJ9X3GLA/SKMTUF1Dtz+d68snBf/BP5E++FQWzs4/7LO0RrB0wj8VeidGMcipP342FcKuzM0/T0wfrQfPtj9tdx5aySK5P2PIu0bzQbM/ageHya8GrD8586J2it3EP2SbnhNNisU/X3c0ftlBsD++z0ZbhfKyP6XnMdoON8E/PZeuRng4uT8BizFp7runP4XTsbfgec0/n/ki1Of20D+LPELAo5HCPwQo9nacesM/nSZun573wD8WV88asQrPP0T0SAZis9c/REX29jbwyD92COaDRdPGPz1DKieajsM/MXmXmlVzvD8S0Y3+SJG4PzKKeANS0tA/XuKsB7ES0D9+buVhPUnQP2ojbzszMLg/bb2a7dKe0D8=\",\"dtype\":\"float64\",\"order\":\"little\",\"shape\":[100]},\"9984\":{\"__ndarray__\":\"AAAAAAAAAADnFhNfSx67PzWNZDcE4LM/f3rn4z9QsD8y8bTnduPBP9po6o0pv70/KAThBbFwzT8PKcB4nJm3P4Sv00XU5cI/uC8GAeJJwT/Qwrn29hvBP+jmrcXW8bs/LY9X1Uk80z/G84ptSSHPP7sCmsRIGrA/QZ4YgT+Xxz8VhSFrYFLJPylIykXaesM/tXbPGnbYyz8zqav0FT/APzVPWVU03sk/iEMQETMNxT8DAse9hNjEP+HDVbGKcbc/nyjUw7lAuT9piNi6fPPBP2U5cpUAWrI/QvxLdBXKxT+YbjZ+DrG/P+ESQPlqUMI/kCsBQTpgyD8B1+PLf+m+Pz7SsWu//LU/mR/KS6CnxT8NqgdrOx3EP7UPg/mGvMM/80icTMCCrz+s6QcVSAGpP3OYRf5ULLo/s9FjgOl5uT+oPcxei7HLP44K0pq7f7Q/jhuwToTRuj9PcXjCRXbEP1gf8eh7xb0/Lzq+te8P1z9MDf9nyRq2P93MIJxFs8E/NdmMCgGkuz8GujDJemCzP7kdmC4GSbU/QYYoSOtD1z+G2TSCOLHKPxuGbfntg8s/krWE6xJ94D9fczSYJkvMPyIPECx5PJw/Pmar+Gn7uj94VDVdh2G3P+1quVgdArg/5TW+uAK7qz/wk+uonA+7P+EKBeKmCdc/2+UqD+4yzj+JSDipgVW5P/B1oqdToLQ/00D8Etkg0j8Z6/k9mhPQP1sbXT/YQc0/TR/s4ngmuD8g3eX4OOzJPwy6h5bQicI/6snbhTHzrz8Gk/8/B2bGPwHzL4LjysA/cmTeB0OnqD+oq3+i1S6mP2X9MTxwP98/nv1mIDwO3D8ngi6bRI7eP/SXYB4W/q8/jCSHRvCL0j8fRCO7cx6xPynvD5ZUv7U/l0oXPpNcuD+suCVkz3vGPyqI/2UHBMI/3cE7eB7esD+QTL0EKu/AP+XoOaTyPrY/oMoZuyS1wD9r0Eum/XjIP4DqQwg838E/16U3RGxZtj+kq1r9KinbPwdfbLNBmLU/tPq3WrAC0T+1vsRkkQrFP/MLzUQA3Ns/qzU4Yq+vxz8=\",\"dtype\":\"float64\",\"order\":\"little\",\"shape\":[100]},\"datetime\":{\"__ndarray__\":\"AAAoIhZbd0IAAGZrFlt3QgAApLQWW3dCAADi/RZbd0IAACBHF1t3QgAAXpAXW3dCAACc2Rdbd0IAANoiGFt3QgAAGGwYW3dCAABWtRhbd0IAAJT+GFt3QgAA0kcZW3dCAAAQkRlbd0IAAE7aGVt3QgAAjCMaW3dCAADKbBpbd0IAAAi2Glt3QgAARv8aW3dCAACESBtbd0IAAMKRG1t3QgAAANsbW3dCAAA+JBxbd0IAAHxtHFt3QgAAurYcW3dCAAD4/xxbd0IAADZJHVt3QgAAdJIdW3dCAACy2x1bd0IAAPAkHlt3QgAALm4eW3dCAABUJiJbd0IAAJJvIlt3QgAA0LgiW3dCAAAOAiNbd0IAAExLI1t3QgAAipQjW3dCAADI3SNbd0IAAAYnJFt3QgAARHAkW3dCAACCuSRbd0IAAMACJVt3QgAA/kslW3dCAAA8lSVbd0IAAHreJVt3QgAAuCcmW3dCAAD2cCZbd0IAADS6Jlt3QgAAcgMnW3dCAACwTCdbd0IAAO6VJ1t3QgAALN8nW3dCAABqKChbd0IAAKhxKFt3QgAA5rooW3dCAAAkBClbd0IAAGJNKVt3QgAAoJYpW3dCAADe3ylbd0IAABwpKlt3QgAAWnIqW3dCAADoh2hbd0IAACbRaFt3QgAAZBppW3dCAACiY2lbd0IAAOCsaVt3QgAAHvZpW3dCAABcP2pbd0IAAJqIalt3QgAA2NFqW3dCAAAWG2tbd0IAAFRka1t3QgAAkq1rW3dCAADQ9mtbd0IAAA5AbFt3QgAATIlsW3dCAACK0mxbd0IAAMgbbVt3QgAABmVtW3dCAABErm1bd0IAAIL3bVt3QgAAwEBuW3dCAAD+iW5bd0IAADzTblt3QgAAehxvW3dCAAC4ZW9bd0IAAPaub1t3QgAANPhvW3dCAAByQXBbd0IAALCKcFt3QgAA7tNwW3dCAAAUjHRbd0IAAFLVdFt3QgAAkB51W3dCAADOZ3Vbd0IAAAyxdVt3QgAASvp1W3dCAACIQ3Zbd0IAAMaMdlt3QgAABNZ2W3dCAABCH3dbd0I=\",\"dtype\":\"float64\",\"order\":\"little\",\"shape\":[100]},\"x\":{\"__ndarray__\":\"AAAAAAEAAAACAAAAAwAAAAQAAAAFAAAABgAAAAcAAAAIAAAACQAAAAoAAAALAAAADAAAAA0AAAAOAAAADwAAABAAAAARAAAAEgAAABMAAAAUAAAAFQAAABYAAAAXAAAAGAAAABkAAAAaAAAAGwAAABwAAAAdAAAAHgAAAB8AAAAgAAAAIQAAACIAAAAjAAAAJAAAACUAAAAmAAAAJwAAACgAAAApAAAAKgAAACsAAAAsAAAALQAAAC4AAAAvAAAAMAAAADEAAAAyAAAAMwAAADQAAAA1AAAANgAAADcAAAA4AAAAOQAAADoAAAA7AAAAPAAAAD0AAAA+AAAAPwAAAEAAAABBAAAAQgAAAEMAAABEAAAARQAAAEYAAABHAAAASAAAAEkAAABKAAAASwAAAEwAAABNAAAATgAAAE8AAABQAAAAUQAAAFIAAABTAAAAVAAAAFUAAABWAAAAVwAAAFgAAABZAAAAWgAAAFsAAABcAAAAXQAAAF4AAABfAAAAYAAAAGEAAABiAAAAYwAAAA==\",\"dtype\":\"int32\",\"order\":\"little\",\"shape\":[100]},\"yen\":{\"__ndarray__\":\"AAAAAAAA8D/BTWxdGYa7PymjMowYe78/tUuzBiMh5j8nsvnVrNPYP3UfXPcarMQ/OdqSbkJh0D9IO8D/z2zAP3RK0uHGx8Q/Uaz8acGLvD/zdDYXOsi2P4Rkxmlgtcs/bjthtCimwj8SxhjTyzPEPyJ4DCSTMMo/ZkM1X+Acyj+F3s+f7bzFP414NrTGYsA/6DPx+/stwD8XWUZWXPu9P93tW0vfKNE/7USskazBvj839haY6U3JP7coFWhj2tQ/6KVPGFcRwz/yqztRZgDDPyqvMXOA/8A/ZBbjpFTKwT9qk+lCoyS+PxjQXewehME/gdQmO9x2yD83vn+COD3UPyqWm26Kcc4/2Im4jBakxj/tjlDwohnXP9y4j4iyIMA/2eoe9MW/sD8soMA5K5HSP0rQ9N7jy8c/+1IX3RpPwj8ehtf76LexP1VuISBC0Lk/bArFNSEXwz9Ku1lvNc3PP1jHJYWpnLw/j2o37guQqj9E3g32vBSqP7uYAcJu/rY/C+oT4IuxrT/ppCDI/taxP8M524UVOcw/+1PiSzzTtz9z9WryEyOzP4UWLmEf37o/mzgZC79osz/BXha/7YeuP2RblCCTLbc/b0YT9VMlyj8jHTUj1Ou/P+PH1Bo51c8/HnMo+0jH4z+W+2sCSnHSP7RJU0jGKMU/LlbBtIDUvT8sNexovjDLPzHZrqW8+Mo/kDs7E2SNtT9+aE4sA9W2PwfipgAXSMM/UH/YBaUr2T9X7ECKUorEPwbrgwkVlsM/vRmoJdKRtD/84DuVML62PwXxHRtf8N0/jkeqUFFPuz/U62kL0/XSPxhVmoaYQrU/QG084PpqwT9qOximApi3P8f20oqM37s/+kJYJzt8wD92Ih7hmTarP7AXI5sJpsA/k1r6+9EpzT9CktjUsD/IPwtf0xfW680/IWhh6MAKtT9Cvq2R+6C4P0zKkCRi1bk/kS1SeSb8xT++eauVE8i8P2n/co2DN8g/uCWyZymQvD+/Qy+PDeK7P+o9whqdvMU/3SOhPMzcuz+XMptHEWTPP8iaECLGzbg/I54LBCSlwz8=\",\"dtype\":\"float64\",\"order\":\"little\",\"shape\":[100]}},\"selected\":{\"id\":\"1106\"},\"selection_policy\":{\"id\":\"1107\"}},\"id\":\"1089\",\"type\":\"ColumnDataSource\"},{\"attributes\":{\"data\":{\"4755\":{\"__ndarray__\":\"AAAAAAAAAACcobSTe1PPP1dZzXyzLNE/l5W6j1LNtT8H6uug8fW5P1rVij712NI/kKO4C7Khuj/RwjmAzJjQP93OCbnmn8o/8KT4M3g9wj/AMKWT7cWqP9D6bgmD8cI/FfrOwH/5xD/e2WMW5KK+P2FegaM1r7Q/GEs449V6yT+v7xqK+Q7EP1ODWoulfcQ/aSVIQcaGtz81+VxklvvMP5o5gf2kN7w/DjivkXjxyj+W6bjFHzbEP7yKSF+cdtA/Acb7wG3dvD8mAAZVsTvHP7ih+SvdQ7Q/N6a8WhnZwD81+16mGbDJP+LiGGegh6c/X6EwWODAyz+UB/E2WS69P3YCmnDS088/72W00NJd2j9u10bwk1++P1bcg2ER+M8/IXaNuRHNzj+gVpNr4DbLPzyH2PlxWr0/I5dNA1L0uT/PL3JG6Q/APzXoGPfMsrQ/hqt/GN4fvz+efOxB/HiyP4hHw+/2/MY/0ZVtSlm4vT8BjTOylciwPw04v3b5sqQ/zkgwLNadsD/ia/+l27i/Px/sEznTccc/Sybwo2vouT86HfDi/U/DP/1CN+MuLsk/iiFGzOvMxz+I6aRUbGK7PyuJh/QARa8/bPoew4xPwj+GGZd/aG+2P5UkWmw2T7s/yR5BpJNWwj83InBpvf/KP4KMBl2LtMA/g6JwS9+Uuj9vV2pLPcq+P5XzEhlWOcA/LFffj/93wD+aJITg5uK0P2sRF+ojgcA/P0+yVaHEyT+oh1cSNW7KPyXiYJMf+bU/+ANYebtzsD957omJxpO1P/lt0B7t0LU/LO8w/V9ywT9Gl7i1hBuwP6bnze2Eyro/7ojvLR1+tj8t4cL+qAixP68tqdFxK8Q/vPtakqj0zz96xmykTWimP8/5LjMVrbU/eZ4AF/CBwz+90IwYmmzLP5YE0nJbh8Y/o6sUmODE1T9VCuvP5SDFP5ieP+e7Srs/4W1PKn6Rwz9/zjePWFvDP411VcFV6sM/MgzPSAYfwz/h9X/wsJi+P18EziTX5sA/0wRaasfDwD8/yQzhP427P1ryL5ELIsM/XrPElvHowT8=\",\"dtype\":\"float64\",\"order\":\"little\",\"shape\":[100]},\"6701\":{\"__ndarray__\":\"AAAAAAAAAABpGGUGnwHEP7PF7YlAa8A/yi1Taw7Zpz8vSQLAUxS9P8gzMXAxIbw/5uP9ZPC/yz9dMET96WDTPxCcEzxFs8U/+GEJ5BMN0D/Y2Hp5jcisP9lfyp9Zfbs/yhvVltK0xD/SxUfNG8fGP6/ZwVKUQNg/wujomo9Iwz/XoH0a+/PSP/Z9eBcjOLw/3jiLRrGwxT+Kif4EktHAP4EDvM0yR8I/pCHDcKY2xj+3CyLUYyC8PynWwayEUrc/JSXM7XIPyz89K95ENVDMP/FH0OZy3L4/et1j0ho1zz8LfyiGHgnOP/j2HGLG0cI/eQNyXrpzwT9AuVbw20nIPzLeSnnWXcE/rvCROtYMtT8G7T+gFF69P6ETcGiu6tA/n/PSkNRt2D9qs2zNN1XNP8Kh1F8ccsc/LOD2pZTCwD/aEdOog3LLPzVCkW9CU90/PIfYrGNu3T8iLiZQgsrSP6JNAnGb8NQ/DIGWqAbF1D+Xx0LXDjupP1g8n8xvbt4/nXCeHApepT+XeudAtUvcP9O+qVfIFsc/niqoPCTyyT+52JlZ6XLDP/iWhSkMbMA/j7IA7Qk4tz9dCRfjfDDUP3O9M+vLPsE///2AQ9Mv0z+rLccNtKfKP474JSimrLs/HPEwWZFysj/Dtg10Qku9P1Ub+Ss7Pbw/kM+2K0MQ1j9edX+6BSzPP7c9PjZGfNs/eHid6U2fyz9iN55JPZ+5P3iDu0qFBrc/2Hiq1nCXtT95qaA7SUK5P8xKJyhclcc/mUdgIVOi4z/sEMGzZNrOP8+Lov/agLo/r8TJ5zS6zD/XiCEbZim3P6SL4ibY3LM/WFnOHbMUvz++P3SsvBazP/htOyc0e60//2PKsT3JuT8YykyeairBPy97ocnaAa4/lhho9VqIvD8teOZzHL7CP98U4VJF28Y/VzVHXLyutj92MQ+VB4TOP2x5NG5Mp8g/UrZihk8esj8tsllyM3LPP+SDeJVuJMw/z7fCMFMbtz/IoZoYOibCP0j6Gkk92cc/tvB+TNwzvz+gMwle5oC8P3nhKk1XirY/Xx/CeXORwj8=\",\"dtype\":\"float64\",\"order\":\"little\",\"shape\":[100]},\"7203\":{\"__ndarray__\":\"AAAAAAAAAACprl4mi9q6P3hNxSVblNM/sFWtsPPXrj8+oY4slSDKP3YRqOUrg84/idpUBolcvT8YdJf5Oh/CP03ZEY3PE8I/Vq02oZAMwD+9LXrLALDjPxWGtxej4co/4kiBXtj2uz9pc9cQKPbFP0pClpzwCLI/J1KpOtUxuz+Tku6BRTy2P9+pCAdg+NI/m7I6kUXt0D8nSs8rmbLPP/z/7O93o8Q/SDww4VkJyz/sJ/QYo/nNP6NVoainK8A/z3zXnGTSzz9FB7hVAG/HP6T3DPeakds/EPPFH0xCyD+tT+QgjOrIP210YwwR2t0/0kDQ7sSkuz+RJoNzwyG8PzYx9qw218k/Tw/lOZL1tD/7QiMo1HHFP7wyOUKCdLU/QtcRNiETxz/F6x0haUTEP/f1/g76xsg/+reFbLXh3D9dShb3UGXRP5cw/BVk2bM/0LvgLFb/tD8XiXF8sFLEP9MmNIrffcg/qLSaszNeqD/eNe1t6s/lP61i6oD1qME/ji0J8RK0qj+aIcNazvPJPxGrSbnXpcQ/9euF61o5tT/LDzM3iDjUP7BS6hRKzL0/ihHWSILztT8nmZUP4KXAP20eRfuLEeM/G5imyrcStj9ScZptf4e7P5ADPzRPTdg/ihZVWweRpj9gdAiPHmDIP7W6WDx8jbY/K3mKwKB0tj9omZeNf4q4P5mGuSx28bY/Qj/jrp8+yT/97YNYGZfVP+jwjtuTo8Q/UWQ59t4gtT/SvZM9BwTSP4RoB6x/gck/UHTw5Tgftz9PnObnmQLUP+LJ/JSAisE/sWYr3yKA2z8OHb5QUgTWPzULsEyvA7Q/tmr8+TeOwz+15Vfzf47LP+o2qj6zp94/mPoBvWD2wD+3nRyC6fvkP8WgEQu1VNo/GmL/Kvfzwj+aL0x6JYjAP62uB4vKZb4/Nin7KGmZ0j9pQaKyuRDAPyh1NC1nQsI/wHyO8+ve0T8p080STgS/P2HZUOzhS8I/wHrHPW3S3D8ZAyNb2AK8P4t/rZaJEsU/fG2YGEMSvz+KZpTgnu+9P+6l4I/LYcE/I73/W0PmvT8=\",\"dtype\":\"float64\",\"order\":\"little\",\"shape\":[100]},\"7267\":{\"__ndarray__\":\"AAAAAAAAAAAunju6tvXRPwqpQp4nyrg/+6CGkagBqz+gvkc93j2rPyGssE1CXbQ/6UjpXXgbtD90q5iec2ezP9zBKlZp68U/8WO5rAwMzj+QJekxKHGrPzT3VkLhv8o/2dcVNApvvj//HwvWNJzAP80CF7QM5ck/ekE8BJDvwz9wQwLqPre3Pzkp1+Dnl8M/k6SaX+6qwD9WXQZLekPDP4NpCq8fk70/GAjuhPvAvj9l8GPhnJnBP/rsLjOioLs/1MCkmr39xj8AmU8ENhHAPxFQlkohIMU/j3bqmRUbwD8MNQTSYnHAP9MR4BaWDq8/tzrNVewhxD+0x33P5B7DP6zdYIlsDrc/UhWyl97usz/QJeGHrL20P+I02VQuNr8/cYcIwyEHsj+xPXu0WDOvPzWIKDaiN8w/+1AbxI/nsj/eUayL4kq6P8My2bxj68k/S0sDTXYntT9yX/MgozCxPxAG8dm/5bI/lW1Wa618uT/YY7uPZ/WwP7x6CxbfNb4/PaNMioqb5T+mB4sPOfm1P2Rh0Rj088U/xZVaxYMLxD+ILEuzixK5P0tryT4ijM4/TCe8lIvSpz9D1O/3zVrFP+htk2nWFrc//cMi32ekxD8NarUdFVvYP/nZIAxXIrA/J5L/evp/sT/DmWXoQCC3PxQpc+IEqsI/J4QSchZ7vD/NOHebHE7NPwtzJ9X3GLA/SKMTUF1Dtz+d68snBf/BP5E++FQWzs4/7LO0RrB0wj8VeidGMcipP342FcKuzM0/T0wfrQfPtj9tdx5aySK5P2PIu0bzQbM/ageHya8GrD8586J2it3EP2SbnhNNisU/X3c0ftlBsD++z0ZbhfKyP6XnMdoON8E/PZeuRng4uT8BizFp7runP4XTsbfgec0/n/ki1Of20D+LPELAo5HCPwQo9nacesM/nSZun573wD8WV88asQrPP0T0SAZis9c/REX29jbwyD92COaDRdPGPz1DKieajsM/MXmXmlVzvD8S0Y3+SJG4PzKKeANS0tA/XuKsB7ES0D9+buVhPUnQP2ojbzszMLg/bb2a7dKe0D8=\",\"dtype\":\"float64\",\"order\":\"little\",\"shape\":[100]},\"9984\":{\"__ndarray__\":\"AAAAAAAAAADnFhNfSx67PzWNZDcE4LM/f3rn4z9QsD8y8bTnduPBP9po6o0pv70/KAThBbFwzT8PKcB4nJm3P4Sv00XU5cI/uC8GAeJJwT/Qwrn29hvBP+jmrcXW8bs/LY9X1Uk80z/G84ptSSHPP7sCmsRIGrA/QZ4YgT+Xxz8VhSFrYFLJPylIykXaesM/tXbPGnbYyz8zqav0FT/APzVPWVU03sk/iEMQETMNxT8DAse9hNjEP+HDVbGKcbc/nyjUw7lAuT9piNi6fPPBP2U5cpUAWrI/QvxLdBXKxT+YbjZ+DrG/P+ESQPlqUMI/kCsBQTpgyD8B1+PLf+m+Pz7SsWu//LU/mR/KS6CnxT8NqgdrOx3EP7UPg/mGvMM/80icTMCCrz+s6QcVSAGpP3OYRf5ULLo/s9FjgOl5uT+oPcxei7HLP44K0pq7f7Q/jhuwToTRuj9PcXjCRXbEP1gf8eh7xb0/Lzq+te8P1z9MDf9nyRq2P93MIJxFs8E/NdmMCgGkuz8GujDJemCzP7kdmC4GSbU/QYYoSOtD1z+G2TSCOLHKPxuGbfntg8s/krWE6xJ94D9fczSYJkvMPyIPECx5PJw/Pmar+Gn7uj94VDVdh2G3P+1quVgdArg/5TW+uAK7qz/wk+uonA+7P+EKBeKmCdc/2+UqD+4yzj+JSDipgVW5P/B1oqdToLQ/00D8Etkg0j8Z6/k9mhPQP1sbXT/YQc0/TR/s4ngmuD8g3eX4OOzJPwy6h5bQicI/6snbhTHzrz8Gk/8/B2bGPwHzL4LjysA/cmTeB0OnqD+oq3+i1S6mP2X9MTxwP98/nv1mIDwO3D8ngi6bRI7eP/SXYB4W/q8/jCSHRvCL0j8fRCO7cx6xPynvD5ZUv7U/l0oXPpNcuD+suCVkz3vGPyqI/2UHBMI/3cE7eB7esD+QTL0EKu/AP+XoOaTyPrY/oMoZuyS1wD9r0Eum/XjIP4DqQwg838E/16U3RGxZtj+kq1r9KinbPwdfbLNBmLU/tPq3WrAC0T+1vsRkkQrFP/MLzUQA3Ns/qzU4Yq+vxz8=\",\"dtype\":\"float64\",\"order\":\"little\",\"shape\":[100]},\"datetime\":{\"__ndarray__\":\"AAAoIhZbd0IAAGZrFlt3QgAApLQWW3dCAADi/RZbd0IAACBHF1t3QgAAXpAXW3dCAACc2Rdbd0IAANoiGFt3QgAAGGwYW3dCAABWtRhbd0IAAJT+GFt3QgAA0kcZW3dCAAAQkRlbd0IAAE7aGVt3QgAAjCMaW3dCAADKbBpbd0IAAAi2Glt3QgAARv8aW3dCAACESBtbd0IAAMKRG1t3QgAAANsbW3dCAAA+JBxbd0IAAHxtHFt3QgAAurYcW3dCAAD4/xxbd0IAADZJHVt3QgAAdJIdW3dCAACy2x1bd0IAAPAkHlt3QgAALm4eW3dCAABUJiJbd0IAAJJvIlt3QgAA0LgiW3dCAAAOAiNbd0IAAExLI1t3QgAAipQjW3dCAADI3SNbd0IAAAYnJFt3QgAARHAkW3dCAACCuSRbd0IAAMACJVt3QgAA/kslW3dCAAA8lSVbd0IAAHreJVt3QgAAuCcmW3dCAAD2cCZbd0IAADS6Jlt3QgAAcgMnW3dCAACwTCdbd0IAAO6VJ1t3QgAALN8nW3dCAABqKChbd0IAAKhxKFt3QgAA5rooW3dCAAAkBClbd0IAAGJNKVt3QgAAoJYpW3dCAADe3ylbd0IAABwpKlt3QgAAWnIqW3dCAADoh2hbd0IAACbRaFt3QgAAZBppW3dCAACiY2lbd0IAAOCsaVt3QgAAHvZpW3dCAABcP2pbd0IAAJqIalt3QgAA2NFqW3dCAAAWG2tbd0IAAFRka1t3QgAAkq1rW3dCAADQ9mtbd0IAAA5AbFt3QgAATIlsW3dCAACK0mxbd0IAAMgbbVt3QgAABmVtW3dCAABErm1bd0IAAIL3bVt3QgAAwEBuW3dCAAD+iW5bd0IAADzTblt3QgAAehxvW3dCAAC4ZW9bd0IAAPaub1t3QgAANPhvW3dCAAByQXBbd0IAALCKcFt3QgAA7tNwW3dCAAAUjHRbd0IAAFLVdFt3QgAAkB51W3dCAADOZ3Vbd0IAAAyxdVt3QgAASvp1W3dCAACIQ3Zbd0IAAMaMdlt3QgAABNZ2W3dCAABCH3dbd0I=\",\"dtype\":\"float64\",\"order\":\"little\",\"shape\":[100]},\"x\":{\"__ndarray__\":\"AAAAAAEAAAACAAAAAwAAAAQAAAAFAAAABgAAAAcAAAAIAAAACQAAAAoAAAALAAAADAAAAA0AAAAOAAAADwAAABAAAAARAAAAEgAAABMAAAAUAAAAFQAAABYAAAAXAAAAGAAAABkAAAAaAAAAGwAAABwAAAAdAAAAHgAAAB8AAAAgAAAAIQAAACIAAAAjAAAAJAAAACUAAAAmAAAAJwAAACgAAAApAAAAKgAAACsAAAAsAAAALQAAAC4AAAAvAAAAMAAAADEAAAAyAAAAMwAAADQAAAA1AAAANgAAADcAAAA4AAAAOQAAADoAAAA7AAAAPAAAAD0AAAA+AAAAPwAAAEAAAABBAAAAQgAAAEMAAABEAAAARQAAAEYAAABHAAAASAAAAEkAAABKAAAASwAAAEwAAABNAAAATgAAAE8AAABQAAAAUQAAAFIAAABTAAAAVAAAAFUAAABWAAAAVwAAAFgAAABZAAAAWgAAAFsAAABcAAAAXQAAAF4AAABfAAAAYAAAAGEAAABiAAAAYwAAAA==\",\"dtype\":\"int32\",\"order\":\"little\",\"shape\":[100]},\"yen\":{\"__ndarray__\":\"AAAAAAAA8D/BTWxdGYa7PymjMowYe78/tUuzBiMh5j8nsvnVrNPYP3UfXPcarMQ/OdqSbkJh0D9IO8D/z2zAP3RK0uHGx8Q/Uaz8acGLvD/zdDYXOsi2P4Rkxmlgtcs/bjthtCimwj8SxhjTyzPEPyJ4DCSTMMo/ZkM1X+Acyj+F3s+f7bzFP414NrTGYsA/6DPx+/stwD8XWUZWXPu9P93tW0vfKNE/7USskazBvj839haY6U3JP7coFWhj2tQ/6KVPGFcRwz/yqztRZgDDPyqvMXOA/8A/ZBbjpFTKwT9qk+lCoyS+PxjQXewehME/gdQmO9x2yD83vn+COD3UPyqWm26Kcc4/2Im4jBakxj/tjlDwohnXP9y4j4iyIMA/2eoe9MW/sD8soMA5K5HSP0rQ9N7jy8c/+1IX3RpPwj8ehtf76LexP1VuISBC0Lk/bArFNSEXwz9Ku1lvNc3PP1jHJYWpnLw/j2o37guQqj9E3g32vBSqP7uYAcJu/rY/C+oT4IuxrT/ppCDI/taxP8M524UVOcw/+1PiSzzTtz9z9WryEyOzP4UWLmEf37o/mzgZC79osz/BXha/7YeuP2RblCCTLbc/b0YT9VMlyj8jHTUj1Ou/P+PH1Bo51c8/HnMo+0jH4z+W+2sCSnHSP7RJU0jGKMU/LlbBtIDUvT8sNexovjDLPzHZrqW8+Mo/kDs7E2SNtT9+aE4sA9W2PwfipgAXSMM/UH/YBaUr2T9X7ECKUorEPwbrgwkVlsM/vRmoJdKRtD/84DuVML62PwXxHRtf8N0/jkeqUFFPuz/U62kL0/XSPxhVmoaYQrU/QG084PpqwT9qOximApi3P8f20oqM37s/+kJYJzt8wD92Ih7hmTarP7AXI5sJpsA/k1r6+9EpzT9CktjUsD/IPwtf0xfW680/IWhh6MAKtT9Cvq2R+6C4P0zKkCRi1bk/kS1SeSb8xT++eauVE8i8P2n/co2DN8g/uCWyZymQvD+/Qy+PDeK7P+o9whqdvMU/3SOhPMzcuz+XMptHEWTPP8iaECLGzbg/I54LBCSlwz8=\",\"dtype\":\"float64\",\"order\":\"little\",\"shape\":[100]}},\"selected\":{\"id\":\"1129\"},\"selection_policy\":{\"id\":\"1130\"}},\"id\":\"1110\",\"type\":\"ColumnDataSource\"},{\"attributes\":{},\"id\":\"1241\",\"type\":\"BasicTickFormatter\"},{\"attributes\":{\"bottom\":{\"expr\":{\"id\":\"1040\"}},\"fill_alpha\":{\"value\":0.8},\"fill_color\":{\"value\":\"#1f77b4\"},\"line_alpha\":{\"value\":0.8},\"line_color\":{\"value\":\"#1f77b4\"},\"top\":{\"expr\":{\"id\":\"1041\"}},\"width\":{\"value\":1},\"x\":{\"field\":\"x\"}},\"id\":\"1054\",\"type\":\"VBar\"},{\"attributes\":{\"data_source\":{\"id\":\"1233\"},\"glyph\":{\"id\":\"1234\"},\"hover_glyph\":null,\"muted_glyph\":null,\"nonselection_glyph\":{\"id\":\"1235\"},\"selection_glyph\":null,\"view\":{\"id\":\"1237\"},\"y_range_name\":\"all_assets\"},\"id\":\"1236\",\"type\":\"GlyphRenderer\"},{\"attributes\":{},\"id\":\"1028\",\"type\":\"HelpTool\"},{\"attributes\":{},\"id\":\"1239\",\"type\":\"BasicTickFormatter\"},{\"attributes\":{\"source\":{\"id\":\"1089\"}},\"id\":\"1094\",\"type\":\"CDSView\"},{\"attributes\":{},\"id\":\"1216\",\"type\":\"HelpTool\"},{\"attributes\":{},\"id\":\"1027\",\"type\":\"ResetTool\"},{\"attributes\":{},\"id\":\"1024\",\"type\":\"WheelZoomTool\"},{\"attributes\":{\"items\":[{\"id\":\"1251\"},{\"id\":\"1271\"},{\"id\":\"1293\"},{\"id\":\"1317\"},{\"id\":\"1343\"},{\"id\":\"1371\"},{\"id\":\"1401\"}]},\"id\":\"1250\",\"type\":\"Legend\"},{\"attributes\":{},\"id\":\"1240\",\"type\":\"BasicTicker\"},{\"attributes\":{\"fields\":[\"yen\"]},\"id\":\"1042\",\"type\":\"Stack\"},{\"attributes\":{},\"id\":\"1026\",\"type\":\"SaveTool\"},{\"attributes\":{\"source\":{\"id\":\"1052\"}},\"id\":\"1057\",\"type\":\"CDSView\"},{\"attributes\":{},\"id\":\"1248\",\"type\":\"UnionRenderers\"},{\"attributes\":{\"data\":{\"x\":[],\"y\":[]},\"selected\":{\"id\":\"1340\"},\"selection_policy\":{\"id\":\"1341\"}},\"id\":\"1318\",\"type\":\"ColumnDataSource\"},{\"attributes\":{},\"id\":\"1245\",\"type\":\"Selection\"},{\"attributes\":{},\"id\":\"1106\",\"type\":\"Selection\"},{\"attributes\":{\"bottom\":{\"expr\":{\"id\":\"1042\"}},\"fill_alpha\":{\"value\":0.1},\"fill_color\":{\"value\":\"#aec7e8\"},\"line_alpha\":{\"value\":0.1},\"line_color\":{\"value\":\"#aec7e8\"},\"top\":{\"expr\":{\"id\":\"1043\"}},\"width\":{\"value\":1},\"x\":{\"field\":\"x\"}},\"id\":\"1073\",\"type\":\"VBar\"},{\"attributes\":{\"source\":{\"id\":\"1233\"}},\"id\":\"1237\",\"type\":\"CDSView\"},{\"attributes\":{\"data\":{\"line_color\":[\"#1f77b4\",\"#aec7e8\",\"#ff7f0e\",\"#ffbb78\",\"#2ca02c\",\"#98df8a\"],\"xs\":[{\"__ndarray__\":\"AAAAAAEAAAACAAAAAwAAAAQAAAAFAAAABgAAAAcAAAAIAAAACQAAAAoAAAALAAAADAAAAA0AAAAOAAAADwAAABAAAAARAAAAEgAAABMAAAAUAAAAFQAAABYAAAAXAAAAGAAAABkAAAAaAAAAGwAAABwAAAAdAAAAHgAAAB8AAAAgAAAAIQAAACIAAAAjAAAAJAAAACUAAAAmAAAAJwAAACgAAAApAAAAKgAAACsAAAAsAAAALQAAAC4AAAAvAAAAMAAAADEAAAAyAAAAMwAAADQAAAA1AAAANgAAADcAAAA4AAAAOQAAADoAAAA7AAAAPAAAAD0AAAA+AAAAPwAAAEAAAABBAAAAQgAAAEMAAABEAAAARQAAAEYAAABHAAAASAAAAEkAAABKAAAASwAAAEwAAABNAAAATgAAAE8AAABQAAAAUQAAAFIAAABTAAAAVAAAAFUAAABWAAAAVwAAAFgAAABZAAAAWgAAAFsAAABcAAAAXQAAAF4AAABfAAAAYAAAAGEAAABiAAAAYwAAAA==\",\"dtype\":\"int32\",\"order\":\"little\",\"shape\":[100]},{\"__ndarray__\":\"AAAAAAEAAAACAAAAAwAAAAQAAAAFAAAABgAAAAcAAAAIAAAACQAAAAoAAAALAAAADAAAAA0AAAAOAAAADwAAABAAAAARAAAAEgAAABMAAAAUAAAAFQAAABYAAAAXAAAAGAAAABkAAAAaAAAAGwAAABwAAAAdAAAAHgAAAB8AAAAgAAAAIQAAACIAAAAjAAAAJAAAACUAAAAmAAAAJwAAACgAAAApAAAAKgAAACsAAAAsAAAALQAAAC4AAAAvAAAAMAAAADEAAAAyAAAAMwAAADQAAAA1AAAANgAAADcAAAA4AAAAOQAAADoAAAA7AAAAPAAAAD0AAAA+AAAAPwAAAEAAAABBAAAAQgAAAEMAAABEAAAARQAAAEYAAABHAAAASAAAAEkAAABKAAAASwAAAEwAAABNAAAATgAAAE8AAABQAAAAUQAAAFIAAABTAAAAVAAAAFUAAABWAAAAVwAAAFgAAABZAAAAWgAAAFsAAABcAAAAXQAAAF4AAABfAAAAYAAAAGEAAABiAAAAYwAAAA==\",\"dtype\":\"int32\",\"order\":\"little\",\"shape\":[100]},{\"__ndarray__\":\"AAAAAAEAAAACAAAAAwAAAAQAAAAFAAAABgAAAAcAAAAIAAAACQAAAAoAAAALAAAADAAAAA0AAAAOAAAADwAAABAAAAARAAAAEgAAABMAAAAUAAAAFQAAABYAAAAXAAAAGAAAABkAAAAaAAAAGwAAABwAAAAdAAAAHgAAAB8AAAAgAAAAIQAAACIAAAAjAAAAJAAAACUAAAAmAAAAJwAAACgAAAApAAAAKgAAACsAAAAsAAAALQAAAC4AAAAvAAAAMAAAADEAAAAyAAAAMwAAADQAAAA1AAAANgAAADcAAAA4AAAAOQAAADoAAAA7AAAAPAAAAD0AAAA+AAAAPwAAAEAAAABBAAAAQgAAAEMAAABEAAAARQAAAEYAAABHAAAASAAAAEkAAABKAAAASwAAAEwAAABNAAAATgAAAE8AAABQAAAAUQAAAFIAAABTAAAAVAAAAFUAAABWAAAAVwAAAFgAAABZAAAAWgAAAFsAAABcAAAAXQAAAF4AAABfAAAAYAAAAGEAAABiAAAAYwAAAA==\",\"dtype\":\"int32\",\"order\":\"little\",\"shape\":[100]},{\"__ndarray__\":\"AAAAAAEAAAACAAAAAwAAAAQAAAAFAAAABgAAAAcAAAAIAAAACQAAAAoAAAALAAAADAAAAA0AAAAOAAAADwAAABAAAAARAAAAEgAAABMAAAAUAAAAFQAAABYAAAAXAAAAGAAAABkAAAAaAAAAGwAAABwAAAAdAAAAHgAAAB8AAAAgAAAAIQAAACIAAAAjAAAAJAAAACUAAAAmAAAAJwAAACgAAAApAAAAKgAAACsAAAAsAAAALQAAAC4AAAAvAAAAMAAAADEAAAAyAAAAMwAAADQAAAA1AAAANgAAADcAAAA4AAAAOQAAADoAAAA7AAAAPAAAAD0AAAA+AAAAPwAAAEAAAABBAAAAQgAAAEMAAABEAAAARQAAAEYAAABHAAAASAAAAEkAAABKAAAASwAAAEwAAABNAAAATgAAAE8AAABQAAAAUQAAAFIAAABTAAAAVAAAAFUAAABWAAAAVwAAAFgAAABZAAAAWgAAAFsAAABcAAAAXQAAAF4AAABfAAAAYAAAAGEAAABiAAAAYwAAAA==\",\"dtype\":\"int32\",\"order\":\"little\",\"shape\":[100]},{\"__ndarray__\":\"AAAAAAEAAAACAAAAAwAAAAQAAAAFAAAABgAAAAcAAAAIAAAACQAAAAoAAAALAAAADAAAAA0AAAAOAAAADwAAABAAAAARAAAAEgAAABMAAAAUAAAAFQAAABYAAAAXAAAAGAAAABkAAAAaAAAAGwAAABwAAAAdAAAAHgAAAB8AAAAgAAAAIQAAACIAAAAjAAAAJAAAACUAAAAmAAAAJwAAACgAAAApAAAAKgAAACsAAAAsAAAALQAAAC4AAAAvAAAAMAAAADEAAAAyAAAAMwAAADQAAAA1AAAANgAAADcAAAA4AAAAOQAAADoAAAA7AAAAPAAAAD0AAAA+AAAAPwAAAEAAAABBAAAAQgAAAEMAAABEAAAARQAAAEYAAABHAAAASAAAAEkAAABKAAAASwAAAEwAAABNAAAATgAAAE8AAABQAAAAUQAAAFIAAABTAAAAVAAAAFUAAABWAAAAVwAAAFgAAABZAAAAWgAAAFsAAABcAAAAXQAAAF4AAABfAAAAYAAAAGEAAABiAAAAYwAAAA==\",\"dtype\":\"int32\",\"order\":\"little\",\"shape\":[100]},{\"__ndarray__\":\"AAAAAAEAAAACAAAAAwAAAAQAAAAFAAAABgAAAAcAAAAIAAAACQAAAAoAAAALAAAADAAAAA0AAAAOAAAADwAAABAAAAARAAAAEgAAABMAAAAUAAAAFQAAABYAAAAXAAAAGAAAABkAAAAaAAAAGwAAABwAAAAdAAAAHgAAAB8AAAAgAAAAIQAAACIAAAAjAAAAJAAAACUAAAAmAAAAJwAAACgAAAApAAAAKgAAACsAAAAsAAAALQAAAC4AAAAvAAAAMAAAADEAAAAyAAAAMwAAADQAAAA1AAAANgAAADcAAAA4AAAAOQAAADoAAAA7AAAAPAAAAD0AAAA+AAAAPwAAAEAAAABBAAAAQgAAAEMAAABEAAAARQAAAEYAAABHAAAASAAAAEkAAABKAAAASwAAAEwAAABNAAAATgAAAE8AAABQAAAAUQAAAFIAAABTAAAAVAAAAFUAAABWAAAAVwAAAFgAAABZAAAAWgAAAFsAAABcAAAAXQAAAF4AAABfAAAAYAAAAGEAAABiAAAAYwAAAA==\",\"dtype\":\"int32\",\"order\":\"little\",\"shape\":[100]}],\"ys\":[{\"__ndarray__\":\"AAAAAAAA8D8AAAAAAADwPwAAAAAAAPA/AAAAAAAA8D8AAAAAAADwPwAAAAAAAPA/AAAAAAAA8D8AAAAAAADwPwAAAAAAAPA/AAAAAAAA8D8AAAAAAADwPwAAAAAAAPA/AAAAAAAA8D8AAAAAAADwPwAAAAAAAPA/AAAAAAAA8D8AAAAAAADwPwAAAAAAAPA/AAAAAAAA8D8AAAAAAADwPwAAAAAAAPA/AAAAAAAA8D8AAAAAAADwPwAAAAAAAPA/AAAAAAAA8D8AAAAAAADwPwAAAAAAAPA/AAAAAAAA8D8AAAAAAADwPwAAAAAAAPA/AAAAAAAA8D8AAAAAAADwPwAAAAAAAPA/AAAAAAAA8D8AAAAAAADwPwAAAAAAAPA/AAAAAAAA8D8AAAAAAADwPwAAAAAAAPA/AAAAAAAA8D8AAAAAAADwPwAAAAAAAPA/AAAAAAAA8D8AAAAAAADwPwAAAAAAAPA/AAAAAAAA8D8AAAAAAADwPwAAAAAAAPA/AAAAAAAA8D8AAAAAAADwPwAAAAAAAPA/AAAAAAAA8D8AAAAAAADwPwAAAAAAAPA/AAAAAAAA8D8AAAAAAADwPwAAAAAAAPA/AAAAAAAA8D8AAAAAAADwPwAAAAAAAPA/AAAAAAAA8D8AAAAAAADwPwAAAAAAAPA/AAAAAAAA8D8AAAAAAADwPwAAAAAAAPA/AAAAAAAA8D8AAAAAAADwPwAAAAAAAPA/AAAAAAAA8D8AAAAAAADwPwAAAAAAAPA/AAAAAAAA8D8AAAAAAADwPwAAAAAAAPA/AAAAAAAA8D8AAAAAAADwPwAAAAAAAPA/AAAAAAAA8D8AAAAAAADwPwAAAAAAAPA/AAAAAAAA8D8AAAAAAADwPwAAAAAAAPA/AAAAAAAA8D8AAAAAAADwPwAAAAAAAPA/AAAAAAAA8D8AAAAAAADwPwAAAAAAAPA/AAAAAAAA8D8AAAAAAADwPwAAAAAAAPA/AAAAAAAA8D8AAAAAAADwPwAAAAAAAPA/AAAAAAAA8D8AAAAAAADwPwAAAAAAAPA/AAAAAAAA8D8=\",\"dtype\":\"float64\",\"order\":\"little\",\"shape\":[100]},{\"__ndarray__\":\"AAAAAAAA8D+O+s5GfWfvPy1DB+z2WO8/mVxBTK4g7j86YLfHWobuP2sZOmC3x+4/q6qqqqqq7j8siMkVxOTuPyyIyRXE5O4/rGXogN0e7z9dQUyuICbvP31no76zUe8/Tmle/ImE7z9e/ImEU5rvP/5EwinNi+8/PtYydMBu7z8+1jJ0wG7vP05pXvyJhO8/zYs/kXBK7z9dQUyuICbvP0yuICZXEO8/TK4gJlcQ7z88G/WdjfruP9xjLUMH7O4/nNK8+BMJ7z8NHbDbYy3vP/yJhFOaF+8/rGXogN0e7z/8iYRTmhfvP0yuICZXEO8/nNK8+BMJ7z97rGXogN3uP8vQAbs91u4/y9ABuz3W7j/L0AG7PdbuPyyIyRXE5O4/LIjJFcTk7j8b9Z2N+s7uPxv1nY36zu4/uz3WMnTA7j8LYnIFMbnuPwticgUxue4/C2JyBTG57j9rGTpgt8fuP1uGDtjtse4/W4YO2O2x7j+rqqqqqqruP6uqqqqqqu4/G/WdjfrO7j8b9Z2N+s7uP3usZeiA3e4/LIjJFcTk7j/cYy1DB+zuPyyIyRXE5O4/3GMtQwfs7j+MP5FwSvPuPyyIyRXE5O4/jD+RcErz7j8siMkVxOTuPyyIyRXE5O4/jD+RcErz7j+MP5FwSvPuP+z2WMvQAe8/DR2w22Mt7z+sZeiA3R7vP5zSvPgTCe8/nNK8+BMJ7z9MriAmVxDvP11BTK4gJu8/XUFMriAm7z+sZeiA3R7vP11BTK4gJu8/rGXogN0e7z9dQUyuICbvP734EwmnNO8/zYs/kXBK7z+9+BMJpzTvP734EwmnNO8/DR2w22Mt7z9t1Hc26jvvP31no76zUe8/HbDbYy1D7z9t1Hc26jvvPx2w22MtQ+8/bdR3Nuo77z8dsNtjLUPvPx2w22MtQ+8/bdR3Nuo77z9t1Hc26jvvP734EwmnNO8/fWejvrNR7z99Z6O+s1HvP31no76zUe8/vfgTCac07z8dsNtjLUPvP31no76zUe8/fWejvrNR7z8tQwfs9ljvP94eaxk6YO8/3h5rGTpg7z8=\",\"dtype\":\"float64\",\"order\":\"little\",\"shape\":[100]},{\"__ndarray__\":\"AAAAAAAA8D85m8I4m8LvPxQ7sRM7se8/ZLKeY7Ke7z+OyXqOyXrvP4iHh4eHh+8/1nNM1nNM7z/rOSbrOSbvP0LzBkLzBu8/faQafaQa7z87sRM7sRPvP6IELKIELO8/F9wqF9wq7z+iBCyiBCzvPw8PDw8PD+8/ZsjvZcjv7j+heQOheQPvP4soAYsoAe8/Dw8PDw8P7z++DPm9DPnuP+qu/emu/e4/LKIELKIE7z8AAAAAAADvPyyiBCyiBO8/YBElYBEl7z/yexnyexnvP1hECVhECe8/oXkDoXkD7z/NGwjNGwjvPyyiBCyiBO8/1F3701377j+ZrOeYrOfuP+Lh4eHh4e4/maznmKzn7j9Qd+1Pd+3uPyTV6CPV6O4/QWjeQGje7j97jsl6jsnuPwa3ygW3yu4/HAjNGwjN7j9lPcdkPcfuP9oUxtkUxu4/xMPDw8PD7j+ucsGtcsHuP5ghv5chv+4/QN21P9217j8N+b0M+b3uPyqMsymMs+4/I0rAIkrA7j/wZcjvZcjuPwa3ygW3yu4/xMPDw8PD7j+R38uQ38vuP9oUxtkUxu4/xMPDw8PD7j/wZcjvZcjuP1YuuFUuuO4/c8GtcsGt7j+t55is55juP4iHh4eHh+4/l5aWlpaW7T/ZiZ3YiZ3tP/901/501+0/maznmKzn7T+E5g2E5g3uPyVgESVgEe4/6zkm6zkm7j8lYBElYBHuP1ECFlECFu4/NG8gNG8g7j/6SDX6SDXuPwlYRAlYRO4/Jus5Jus57j9ZzzFZzzHuP2jeQGjeQO4/CVhECVhE7j/6SDX6SDXuP5o3EJo3EO4/sIgSsIgS7j9RAhZRAhbuP8bZFMbZFO4/SsAiSsAi7j87sRM7sRPuP3ZiJ3ZiJ+4/EJo3EJo37j88PDw8PDzuPxCaNxCaN+4/H6lGH6lG7j+xEzuxEzvuP921P921P+4/hOYNhOYN7j+E5g2E5g3uP1B37U937e0/tj/dtT/d7T8OhOYNhObtPwdC8wZC8+0/g1vlglvl7T/i4eHh4eHtP/Hw8PDw8O0/25/u2p/u7T8=\",\"dtype\":\"float64\",\"order\":\"little\",\"shape\":[100]},{\"__ndarray__\":\"AAAAAAAA8D+bA4lW2BzwP7TC5kCiFfA/50CiFTYH8D8yfrvUk/HvP7TC5kCiFfA/50CiFTYH8D+0wuZAohXwP+dAohU2B/A/AAAAAAAA8D8AAAAAAADwP+dAohU2B/A/tMLmQKIV8D+0wuZAohXwP2mFzYFEK/A/mwOJVtgc8D+0wuZAohXwP4JEK2wOJPA/gkQrbA4k8D+bA4lW2BzwP5sDiVbYHPA/gkQrbA4k8D9phc2BRCvwP4JEK2wOJPA/aYXNgUQr8D9Pxm+XejLwP2mFzYFEK/A/T8Zvl3oy8D9phc2BRCvwP4JEK2wOJPA/aYXNgUQr8D+bA4lW2BzwP7TC5kCiFfA/tMLmQKIV8D/nQKIVNgfwP86BRCtsDvA/tMLmQKIV8D/OgUQrbA7wP+dAohU2B/A/AAAAAAAA8D/nQKIVNgfwP+dAohU2B/A/zoFEK2wO8D/OgUQrbA7wPwAAAAAAAPA/50CiFTYH8D8AAAAAAADwPwAAAAAAAPA/zoFEK2wO8D+0wuZAohXwP4JEK2wOJPA/aYXNgUQr8D9Pxm+XejLwP0/Gb5d6MvA/T8Zvl3oy8D82BxKtsDnwP0/Gb5d6MvA/aYXNgUQr8D+CRCtsDiTwP2mFzYFEK/A/w+ZAohU27z/Gb5d6Mn7vP/ntUk/Gb+8/kGiFzYFE7z9e6sn47VLvP/ntUk/Gb+8/+e1ST8Zv7z/57VJPxm/vP2FzINEKm+8/lPHbpZ6M7z/Gb5d6Mn7vP/ntUk/Gb+8/lPHbpZ6M7z/Gb5d6Mn7vP5Tx26WejO8/YXMg0Qqb7z+U8dulnozvP2FzINEKm+8/xm+XejJ+7z9hcyDRCpvvP/x2qSfjt+8/L/Vk/Hap7z9hcyDRCpvvP/x2qSfjt+8/yvjtUk/G7z/K+O1ST8bvPy/1ZPx2qe8/yvjtUk/G7z8yfrvUk/HvP2X8dqkn4+8/zoFEK2wO8D/OgUQrbA7wP+dAohU2B/A/50CiFTYH8D8AAAAAAADwP+dAohU2B/A/AAAAAAAA8D/nQKIVNgfwPwAAAAAAAPA/AAAAAAAA8D8=\",\"dtype\":\"float64\",\"order\":\"little\",\"shape\":[100]},{\"__ndarray__\":\"AAAAAAAA8D+nzX0sTvnvP30D4gEjBvA/2t96EmHw7z/h2LYOG+TvPwFb8X1e0+8//Lym/wKz7z8b5O/w587vP68hq6ZmwO8/YYavTcrN7z9BBHXeht7vPzVt7mNxyu8/u7gxIXzU7z8b5O/w587vP46fcDcj0e8/jp9wNyPR7z+On3A3I9HvP7u4MSF81O8/jp9wNyPR7z/CsW0dNsjvP0j9sNpA0u8/SP2w2kDS7z9I/bDaQNLvP+7KLgePy+8/1UEwlAXQ7z8BW/F9XtPvPxvk7/Dnzu8/YYavTcrN7z9I/bDaQNLvP+7KLgePy+8/ggjqvA297z+DY9s6bJDvPxCoWvQwju8/UFHeVFmZ7z8Jrx74dprvP8MMX5uUm+8/fWqfPrKc7z82yN/hz53vP2ra3MfilO8/ygWbl06P7z/KBZuXTo/vPxCoWvQwju8/ygWbl06P7z89wRveiZHvPzEqlWN0fe8/1/cSkMJ27z+r3lGmaXPvP2Q8kkmHdO8/0f7WkwiD7z82yN/hz53vP/AlIIXtnu8/SViiWJ+l7z/pLOSIM6vvP+IzqIx5t+8/D01pdtK67z+8EyOf2qfvP3ZxY0L4qO8/HD/hbkai7z9QUd5UWZnvP8+j5RWqr+8//FXpwnMc8D8rvs9r+i/wP3Jgj8jcLvA/cmCPyNwu8D+VMe/2TS7wP595ULI1MvA/K77Pa/ov8D8I7W89iTDwP8uSEZyONfA/EjXR+HA08D/CSrDgpjHwP0+PL5prL/A/CO1vPYkw8D81BjEn4jPwP2If8hA7N/A/G30ytFg48D9IlvOdsTvwP2tnU8wiO/A/jjiz+pM68D/LkhGcjjXwP7gCTyW/LfA/uAJPJb8t8D9oGC4N9SrwP3uo8IPEMvA/G30ytFg48D+OOLP6kzrwP2tnU8wiO/A/jjiz+pM68D/V2nJXdjnwP+5jccr/NPA/sQkTKQU68D/uY3HK/zTwP1jXkFVTM/A/n3lQsjUy8D8SNdH4cDTwP8uSEZyONfA/7mNxyv808D+F8FE/rDbwP/ir0oXnOPA/G30ytFg48D8=\",\"dtype\":\"float64\",\"order\":\"little\",\"shape\":[100]},{\"__ndarray__\":\"AAAAAAAA8D+TxOHkLM7vP/ADu2Q5D/A/Pndlahyx7z8iEBXHW4rvPwoicyaZde8/Z3nXNnRf7z+D4CfaNIbvP7lNpa6Gau8/a/KFOXJx7z+D4CfaNIbvP8A/ArSCju8/NoUIZSCN7z/9ntyN0JbvP5zOyXr3mu8/h1nW3DKY7z8micPJWZzvPzr+tmcen+8/2C2kVEWj7z+YVRt4+YjvP1LsWAjhs+8/e9Y/RGq57z9S7FgI4bPvP7S8axu6r+8/9JT09wXK7z8x9M7RU9LvP+AfAVpBx+8/CQrolcrM7z/0lPT3BcrvPxWNfi6Tq+8/FY1+LpOr7z+QY75y/WTvPwapxCObY+8/vMZTsYR87z+YVRt4+YjvP29rNDxwg+8/c+TiPm6V7z/YLaRURaPvPwEYi5DOqO8/ERTQK5WZ7z+czsl695rvP7BDvRi8ne8/sEO9GLyd7z9j6J2jp6TvP/klLovShO8/MgxaYiJ77z+AZ3nXNnTvPxoeuMFfZu8/IhAVx1uK7z8RFNArlZnvP05zqgXjoe8/2C2kVEWj7z9Oc6oF46HvP3ddkUFsp+8/n0d4ffWs7z+wQ70YvJ3vP2PonaOnpO8/Ov62Zx6f7z8micPJWZzvP2PonaOnpO8/kqxWVF4l8D+eL+3sJgTwP8+XdnYTAvA/KermO4kF8D8AAAAAAADwP54v7ewmBPA/TVsfdRT57z+eL+3sJgTwP2VJwRXXDfA/bsdjYzoG8D8UdfOdxALwPwAAAAAAAPA/JXE4OYvz7z/4DaP6A9zvP2LQEhPZ++8/hkFLTGTv7z9/T+5GaMvvP+gRXl896+8/7IoMYjv97z/XFRnEdvrvPznmK9dP9u8/irr5TmIB8D9F3XwnsQDwP/iBXbKcB/A/UdTNdxIL8D/wA7tkOQ/wP8cZ1CiwCfA/gjxXAf8I8D8p6uY7iQXwP3ZFBrGd/u8/XcseyHMV8D9lScEV1w3wP6omPj2IDvA/er60s5sQ8D+/mzHbTBHwP7cdj43pGPA/SVYrKq8S8D+OM6hRYBPwPxjuoaDCFPA/0xAleREU8D8=\",\"dtype\":\"float64\",\"order\":\"little\",\"shape\":[100]}]},\"selected\":{\"id\":\"1430\"},\"selection_policy\":{\"id\":\"1431\"}},\"id\":\"1185\",\"type\":\"ColumnDataSource\"},{\"attributes\":{\"fields\":[]},\"id\":\"1040\",\"type\":\"Stack\"},{\"attributes\":{\"fields\":[\"yen\",\"4755\",\"9984\",\"6701\"]},\"id\":\"1048\",\"type\":\"Stack\"},{\"attributes\":{\"data_source\":{\"id\":\"1185\"},\"glyph\":{\"id\":\"1186\"},\"hover_glyph\":null,\"muted_glyph\":null,\"nonselection_glyph\":{\"id\":\"1187\"},\"selection_glyph\":null,\"view\":{\"id\":\"1189\"}},\"id\":\"1188\",\"type\":\"GlyphRenderer\"},{\"attributes\":{\"axis_label\":\"\\u4fdd\\u6709\\u5272\\u5408\",\"formatter\":{\"id\":\"1059\"},\"ticker\":{\"id\":\"1060\"},\"y_range_name\":\"portfolio_vector\"},\"id\":\"1039\",\"type\":\"LinearAxis\"},{\"attributes\":{},\"id\":\"1246\",\"type\":\"UnionRenderers\"},{\"attributes\":{},\"id\":\"1243\",\"type\":\"BasicTickFormatter\"},{\"attributes\":{\"below\":[{\"id\":\"1015\"}],\"center\":[{\"id\":\"1018\"},{\"id\":\"1022\"},{\"id\":\"1068\"}],\"extra_y_ranges\":{\"portfolio_vector\":{\"id\":\"1038\"}},\"left\":[{\"id\":\"1019\"}],\"plot_height\":500,\"plot_width\":1200,\"renderers\":[{\"id\":\"1056\"},{\"id\":\"1074\"},{\"id\":\"1093\"},{\"id\":\"1114\"},{\"id\":\"1137\"},{\"id\":\"1162\"},{\"id\":\"1188\"}],\"right\":[{\"id\":\"1039\"}],\"title\":{\"id\":\"1005\"},\"toolbar\":{\"id\":\"1030\"},\"x_range\":{\"id\":\"1007\"},\"x_scale\":{\"id\":\"1011\"},\"y_range\":{\"id\":\"1190\"},\"y_scale\":{\"id\":\"1013\"}},\"id\":\"1004\",\"subtype\":\"Figure\",\"type\":\"Plot\"},{\"attributes\":{\"overlay\":{\"id\":\"1029\"}},\"id\":\"1025\",\"type\":\"BoxZoomTool\"},{\"attributes\":{\"source\":{\"id\":\"1272\"}},\"id\":\"1276\",\"type\":\"CDSView\"},{\"attributes\":{},\"id\":\"1431\",\"type\":\"UnionRenderers\"},{\"attributes\":{},\"id\":\"1247\",\"type\":\"Selection\"}],\"root_ids\":[\"1402\"]},\"title\":\"Bokeh Application\",\"version\":\"2.2.3\"}};\n",
       "  var render_items = [{\"docid\":\"1c9c03b3-25ab-46fb-bedf-4e3ea1fb8cd3\",\"root_ids\":[\"1402\"],\"roots\":{\"1402\":\"79227b8b-332c-4aea-a5b3-128d587eaedd\"}}];\n",
       "  root.Bokeh.embed.embed_items_notebook(docs_json, render_items);\n",
       "\n",
       "  }\n",
       "  if (root.Bokeh !== undefined) {\n",
       "    embed_document(root);\n",
       "  } else {\n",
       "    var attempts = 0;\n",
       "    var timer = setInterval(function(root) {\n",
       "      if (root.Bokeh !== undefined) {\n",
       "        clearInterval(timer);\n",
       "        embed_document(root);\n",
       "      } else {\n",
       "        attempts++;\n",
       "        if (attempts > 100) {\n",
       "          clearInterval(timer);\n",
       "          console.log(\"Bokeh: ERROR: Unable to run BokehJS code because BokehJS library is missing\");\n",
       "        }\n",
       "      }\n",
       "    }, 10, root)\n",
       "  }\n",
       "})(window);"
      ],
      "application/vnd.bokehjs_exec.v0+json": ""
     },
     "metadata": {
      "application/vnd.bokehjs_exec.v0+json": {
       "id": "1402"
      }
     },
     "output_type": "display_data"
    }
   ],
   "source": [
    "visualize_portfolio_transform_bokeh(portfolio_state_list, save_path=Path(\"visualization/trade_transform.png\"), is_save=False, is_show=True)"
   ]
  },
  {
   "cell_type": "code",
   "execution_count": null,
   "metadata": {},
   "outputs": [],
   "source": []
  }
 ],
 "metadata": {
  "kernelspec": {
   "display_name": "torch_py37",
   "language": "python",
   "name": "torch_py37"
  },
  "language_info": {
   "codemirror_mode": {
    "name": "ipython",
    "version": 3
   },
   "file_extension": ".py",
   "mimetype": "text/x-python",
   "name": "python",
   "nbconvert_exporter": "python",
   "pygments_lexer": "ipython3",
   "version": "3.7.4"
  },
  "toc": {
   "base_numbering": 1,
   "nav_menu": {},
   "number_sections": true,
   "sideBar": true,
   "skip_h1_title": true,
   "title_cell": "Table of Contents",
   "title_sidebar": "Contents",
   "toc_cell": false,
   "toc_position": {
    "height": "calc(100% - 180px)",
    "left": "10px",
    "top": "150px",
    "width": "165px"
   },
   "toc_section_display": true,
   "toc_window_display": false
  }
 },
 "nbformat": 4,
 "nbformat_minor": 4
}
