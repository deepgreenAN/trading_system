{
 "cells": [
  {
   "cell_type": "markdown",
   "metadata": {},
   "source": [
    "ルートディレクトリに移動 "
   ]
  },
  {
   "cell_type": "code",
   "execution_count": 1,
   "metadata": {
    "ExecuteTime": {
     "end_time": "2021-05-17T02:24:08.702204Z",
     "start_time": "2021-05-17T02:24:08.660315Z"
    }
   },
   "outputs": [
    {
     "name": "stdout",
     "output_type": "stream",
     "text": [
      "E:\\システムトレード入門\\trade_system_git_workspace\n"
     ]
    }
   ],
   "source": [
    "%cd ../.."
   ]
  },
  {
   "cell_type": "code",
   "execution_count": 2,
   "metadata": {
    "ExecuteTime": {
     "end_time": "2021-05-17T02:24:12.486090Z",
     "start_time": "2021-05-17T02:24:08.713175Z"
    }
   },
   "outputs": [],
   "source": [
    "from collections import namedtuple\n",
    "import pandas as pd\n",
    "from pathlib import Path\n",
    "from pytz import timezone\n",
    "import datetime\n",
    "import numpy as np\n",
    "from scipy.special import softmax\n",
    "from abc import ABCMeta, abstractmethod\n",
    "import dataclasses\n",
    "from dataclasses import dataclass"
   ]
  },
  {
   "cell_type": "code",
   "execution_count": 3,
   "metadata": {
    "ExecuteTime": {
     "end_time": "2021-05-17T02:24:14.928560Z",
     "start_time": "2021-05-17T02:24:12.496062Z"
    }
   },
   "outputs": [
    {
     "data": {
      "text/html": [
       "\n",
       "    <div class=\"bk-root\">\n",
       "        <a href=\"https://bokeh.org\" target=\"_blank\" class=\"bk-logo bk-logo-small bk-logo-notebook\"></a>\n",
       "        <span id=\"1001\">Loading BokehJS ...</span>\n",
       "    </div>"
      ]
     },
     "metadata": {},
     "output_type": "display_data"
    },
    {
     "data": {
      "application/javascript": [
       "\n",
       "(function(root) {\n",
       "  function now() {\n",
       "    return new Date();\n",
       "  }\n",
       "\n",
       "  var force = true;\n",
       "\n",
       "  if (typeof root._bokeh_onload_callbacks === \"undefined\" || force === true) {\n",
       "    root._bokeh_onload_callbacks = [];\n",
       "    root._bokeh_is_loading = undefined;\n",
       "  }\n",
       "\n",
       "  var JS_MIME_TYPE = 'application/javascript';\n",
       "  var HTML_MIME_TYPE = 'text/html';\n",
       "  var EXEC_MIME_TYPE = 'application/vnd.bokehjs_exec.v0+json';\n",
       "  var CLASS_NAME = 'output_bokeh rendered_html';\n",
       "\n",
       "  /**\n",
       "   * Render data to the DOM node\n",
       "   */\n",
       "  function render(props, node) {\n",
       "    var script = document.createElement(\"script\");\n",
       "    node.appendChild(script);\n",
       "  }\n",
       "\n",
       "  /**\n",
       "   * Handle when an output is cleared or removed\n",
       "   */\n",
       "  function handleClearOutput(event, handle) {\n",
       "    var cell = handle.cell;\n",
       "\n",
       "    var id = cell.output_area._bokeh_element_id;\n",
       "    var server_id = cell.output_area._bokeh_server_id;\n",
       "    // Clean up Bokeh references\n",
       "    if (id != null && id in Bokeh.index) {\n",
       "      Bokeh.index[id].model.document.clear();\n",
       "      delete Bokeh.index[id];\n",
       "    }\n",
       "\n",
       "    if (server_id !== undefined) {\n",
       "      // Clean up Bokeh references\n",
       "      var cmd = \"from bokeh.io.state import curstate; print(curstate().uuid_to_server['\" + server_id + \"'].get_sessions()[0].document.roots[0]._id)\";\n",
       "      cell.notebook.kernel.execute(cmd, {\n",
       "        iopub: {\n",
       "          output: function(msg) {\n",
       "            var id = msg.content.text.trim();\n",
       "            if (id in Bokeh.index) {\n",
       "              Bokeh.index[id].model.document.clear();\n",
       "              delete Bokeh.index[id];\n",
       "            }\n",
       "          }\n",
       "        }\n",
       "      });\n",
       "      // Destroy server and session\n",
       "      var cmd = \"import bokeh.io.notebook as ion; ion.destroy_server('\" + server_id + \"')\";\n",
       "      cell.notebook.kernel.execute(cmd);\n",
       "    }\n",
       "  }\n",
       "\n",
       "  /**\n",
       "   * Handle when a new output is added\n",
       "   */\n",
       "  function handleAddOutput(event, handle) {\n",
       "    var output_area = handle.output_area;\n",
       "    var output = handle.output;\n",
       "\n",
       "    // limit handleAddOutput to display_data with EXEC_MIME_TYPE content only\n",
       "    if ((output.output_type != \"display_data\") || (!output.data.hasOwnProperty(EXEC_MIME_TYPE))) {\n",
       "      return\n",
       "    }\n",
       "\n",
       "    var toinsert = output_area.element.find(\".\" + CLASS_NAME.split(' ')[0]);\n",
       "\n",
       "    if (output.metadata[EXEC_MIME_TYPE][\"id\"] !== undefined) {\n",
       "      toinsert[toinsert.length - 1].firstChild.textContent = output.data[JS_MIME_TYPE];\n",
       "      // store reference to embed id on output_area\n",
       "      output_area._bokeh_element_id = output.metadata[EXEC_MIME_TYPE][\"id\"];\n",
       "    }\n",
       "    if (output.metadata[EXEC_MIME_TYPE][\"server_id\"] !== undefined) {\n",
       "      var bk_div = document.createElement(\"div\");\n",
       "      bk_div.innerHTML = output.data[HTML_MIME_TYPE];\n",
       "      var script_attrs = bk_div.children[0].attributes;\n",
       "      for (var i = 0; i < script_attrs.length; i++) {\n",
       "        toinsert[toinsert.length - 1].firstChild.setAttribute(script_attrs[i].name, script_attrs[i].value);\n",
       "        toinsert[toinsert.length - 1].firstChild.textContent = bk_div.children[0].textContent\n",
       "      }\n",
       "      // store reference to server id on output_area\n",
       "      output_area._bokeh_server_id = output.metadata[EXEC_MIME_TYPE][\"server_id\"];\n",
       "    }\n",
       "  }\n",
       "\n",
       "  function register_renderer(events, OutputArea) {\n",
       "\n",
       "    function append_mime(data, metadata, element) {\n",
       "      // create a DOM node to render to\n",
       "      var toinsert = this.create_output_subarea(\n",
       "        metadata,\n",
       "        CLASS_NAME,\n",
       "        EXEC_MIME_TYPE\n",
       "      );\n",
       "      this.keyboard_manager.register_events(toinsert);\n",
       "      // Render to node\n",
       "      var props = {data: data, metadata: metadata[EXEC_MIME_TYPE]};\n",
       "      render(props, toinsert[toinsert.length - 1]);\n",
       "      element.append(toinsert);\n",
       "      return toinsert\n",
       "    }\n",
       "\n",
       "    /* Handle when an output is cleared or removed */\n",
       "    events.on('clear_output.CodeCell', handleClearOutput);\n",
       "    events.on('delete.Cell', handleClearOutput);\n",
       "\n",
       "    /* Handle when a new output is added */\n",
       "    events.on('output_added.OutputArea', handleAddOutput);\n",
       "\n",
       "    /**\n",
       "     * Register the mime type and append_mime function with output_area\n",
       "     */\n",
       "    OutputArea.prototype.register_mime_type(EXEC_MIME_TYPE, append_mime, {\n",
       "      /* Is output safe? */\n",
       "      safe: true,\n",
       "      /* Index of renderer in `output_area.display_order` */\n",
       "      index: 0\n",
       "    });\n",
       "  }\n",
       "\n",
       "  // register the mime type if in Jupyter Notebook environment and previously unregistered\n",
       "  if (root.Jupyter !== undefined) {\n",
       "    var events = require('base/js/events');\n",
       "    var OutputArea = require('notebook/js/outputarea').OutputArea;\n",
       "\n",
       "    if (OutputArea.prototype.mime_types().indexOf(EXEC_MIME_TYPE) == -1) {\n",
       "      register_renderer(events, OutputArea);\n",
       "    }\n",
       "  }\n",
       "\n",
       "  \n",
       "  if (typeof (root._bokeh_timeout) === \"undefined\" || force === true) {\n",
       "    root._bokeh_timeout = Date.now() + 5000;\n",
       "    root._bokeh_failed_load = false;\n",
       "  }\n",
       "\n",
       "  var NB_LOAD_WARNING = {'data': {'text/html':\n",
       "     \"<div style='background-color: #fdd'>\\n\"+\n",
       "     \"<p>\\n\"+\n",
       "     \"BokehJS does not appear to have successfully loaded. If loading BokehJS from CDN, this \\n\"+\n",
       "     \"may be due to a slow or bad network connection. Possible fixes:\\n\"+\n",
       "     \"</p>\\n\"+\n",
       "     \"<ul>\\n\"+\n",
       "     \"<li>re-rerun `output_notebook()` to attempt to load from CDN again, or</li>\\n\"+\n",
       "     \"<li>use INLINE resources instead, as so:</li>\\n\"+\n",
       "     \"</ul>\\n\"+\n",
       "     \"<code>\\n\"+\n",
       "     \"from bokeh.resources import INLINE\\n\"+\n",
       "     \"output_notebook(resources=INLINE)\\n\"+\n",
       "     \"</code>\\n\"+\n",
       "     \"</div>\"}};\n",
       "\n",
       "  function display_loaded() {\n",
       "    var el = document.getElementById(\"1001\");\n",
       "    if (el != null) {\n",
       "      el.textContent = \"BokehJS is loading...\";\n",
       "    }\n",
       "    if (root.Bokeh !== undefined) {\n",
       "      if (el != null) {\n",
       "        el.textContent = \"BokehJS \" + root.Bokeh.version + \" successfully loaded.\";\n",
       "      }\n",
       "    } else if (Date.now() < root._bokeh_timeout) {\n",
       "      setTimeout(display_loaded, 100)\n",
       "    }\n",
       "  }\n",
       "\n",
       "\n",
       "  function run_callbacks() {\n",
       "    try {\n",
       "      root._bokeh_onload_callbacks.forEach(function(callback) {\n",
       "        if (callback != null)\n",
       "          callback();\n",
       "      });\n",
       "    } finally {\n",
       "      delete root._bokeh_onload_callbacks\n",
       "    }\n",
       "    console.debug(\"Bokeh: all callbacks have finished\");\n",
       "  }\n",
       "\n",
       "  function load_libs(css_urls, js_urls, callback) {\n",
       "    if (css_urls == null) css_urls = [];\n",
       "    if (js_urls == null) js_urls = [];\n",
       "\n",
       "    root._bokeh_onload_callbacks.push(callback);\n",
       "    if (root._bokeh_is_loading > 0) {\n",
       "      console.debug(\"Bokeh: BokehJS is being loaded, scheduling callback at\", now());\n",
       "      return null;\n",
       "    }\n",
       "    if (js_urls == null || js_urls.length === 0) {\n",
       "      run_callbacks();\n",
       "      return null;\n",
       "    }\n",
       "    console.debug(\"Bokeh: BokehJS not loaded, scheduling load and callback at\", now());\n",
       "    root._bokeh_is_loading = css_urls.length + js_urls.length;\n",
       "\n",
       "    function on_load() {\n",
       "      root._bokeh_is_loading--;\n",
       "      if (root._bokeh_is_loading === 0) {\n",
       "        console.debug(\"Bokeh: all BokehJS libraries/stylesheets loaded\");\n",
       "        run_callbacks()\n",
       "      }\n",
       "    }\n",
       "\n",
       "    function on_error() {\n",
       "      console.error(\"failed to load \" + url);\n",
       "    }\n",
       "\n",
       "    for (var i = 0; i < css_urls.length; i++) {\n",
       "      var url = css_urls[i];\n",
       "      const element = document.createElement(\"link\");\n",
       "      element.onload = on_load;\n",
       "      element.onerror = on_error;\n",
       "      element.rel = \"stylesheet\";\n",
       "      element.type = \"text/css\";\n",
       "      element.href = url;\n",
       "      console.debug(\"Bokeh: injecting link tag for BokehJS stylesheet: \", url);\n",
       "      document.body.appendChild(element);\n",
       "    }\n",
       "\n",
       "    const hashes = {\"https://cdn.bokeh.org/bokeh/release/bokeh-2.2.3.min.js\": \"T2yuo9Oe71Cz/I4X9Ac5+gpEa5a8PpJCDlqKYO0CfAuEszu1JrXLl8YugMqYe3sM\", \"https://cdn.bokeh.org/bokeh/release/bokeh-widgets-2.2.3.min.js\": \"98GDGJ0kOMCUMUePhksaQ/GYgB3+NH9h996V88sh3aOiUNX3N+fLXAtry6xctSZ6\", \"https://cdn.bokeh.org/bokeh/release/bokeh-tables-2.2.3.min.js\": \"89bArO+nlbP3sgakeHjCo1JYxYR5wufVgA3IbUvDY+K7w4zyxJqssu7wVnfeKCq8\"};\n",
       "\n",
       "    for (var i = 0; i < js_urls.length; i++) {\n",
       "      var url = js_urls[i];\n",
       "      var element = document.createElement('script');\n",
       "      element.onload = on_load;\n",
       "      element.onerror = on_error;\n",
       "      element.async = false;\n",
       "      element.src = url;\n",
       "      if (url in hashes) {\n",
       "        element.crossOrigin = \"anonymous\";\n",
       "        element.integrity = \"sha384-\" + hashes[url];\n",
       "      }\n",
       "      console.debug(\"Bokeh: injecting script tag for BokehJS library: \", url);\n",
       "      document.head.appendChild(element);\n",
       "    }\n",
       "  };\n",
       "\n",
       "  function inject_raw_css(css) {\n",
       "    const element = document.createElement(\"style\");\n",
       "    element.appendChild(document.createTextNode(css));\n",
       "    document.body.appendChild(element);\n",
       "  }\n",
       "\n",
       "  \n",
       "  var js_urls = [\"https://cdn.bokeh.org/bokeh/release/bokeh-2.2.3.min.js\", \"https://cdn.bokeh.org/bokeh/release/bokeh-widgets-2.2.3.min.js\", \"https://cdn.bokeh.org/bokeh/release/bokeh-tables-2.2.3.min.js\"];\n",
       "  var css_urls = [];\n",
       "  \n",
       "\n",
       "  var inline_js = [\n",
       "    function(Bokeh) {\n",
       "      Bokeh.set_log_level(\"info\");\n",
       "    },\n",
       "    function(Bokeh) {\n",
       "    \n",
       "    \n",
       "    }\n",
       "  ];\n",
       "\n",
       "  function run_inline_js() {\n",
       "    \n",
       "    if (root.Bokeh !== undefined || force === true) {\n",
       "      \n",
       "    for (var i = 0; i < inline_js.length; i++) {\n",
       "      inline_js[i].call(root, root.Bokeh);\n",
       "    }\n",
       "    if (force === true) {\n",
       "        display_loaded();\n",
       "      }} else if (Date.now() < root._bokeh_timeout) {\n",
       "      setTimeout(run_inline_js, 100);\n",
       "    } else if (!root._bokeh_failed_load) {\n",
       "      console.log(\"Bokeh: BokehJS failed to load within specified timeout.\");\n",
       "      root._bokeh_failed_load = true;\n",
       "    } else if (force !== true) {\n",
       "      var cell = $(document.getElementById(\"1001\")).parents('.cell').data().cell;\n",
       "      cell.output_area.append_execute_result(NB_LOAD_WARNING)\n",
       "    }\n",
       "\n",
       "  }\n",
       "\n",
       "  if (root._bokeh_is_loading === 0) {\n",
       "    console.debug(\"Bokeh: BokehJS loaded, going straight to plotting\");\n",
       "    run_inline_js();\n",
       "  } else {\n",
       "    load_libs(css_urls, js_urls, function() {\n",
       "      console.debug(\"Bokeh: BokehJS plotting callback run at\", now());\n",
       "      run_inline_js();\n",
       "    });\n",
       "  }\n",
       "}(window));"
      ],
      "application/vnd.bokehjs_load.v0+json": "\n(function(root) {\n  function now() {\n    return new Date();\n  }\n\n  var force = true;\n\n  if (typeof root._bokeh_onload_callbacks === \"undefined\" || force === true) {\n    root._bokeh_onload_callbacks = [];\n    root._bokeh_is_loading = undefined;\n  }\n\n  \n\n  \n  if (typeof (root._bokeh_timeout) === \"undefined\" || force === true) {\n    root._bokeh_timeout = Date.now() + 5000;\n    root._bokeh_failed_load = false;\n  }\n\n  var NB_LOAD_WARNING = {'data': {'text/html':\n     \"<div style='background-color: #fdd'>\\n\"+\n     \"<p>\\n\"+\n     \"BokehJS does not appear to have successfully loaded. If loading BokehJS from CDN, this \\n\"+\n     \"may be due to a slow or bad network connection. Possible fixes:\\n\"+\n     \"</p>\\n\"+\n     \"<ul>\\n\"+\n     \"<li>re-rerun `output_notebook()` to attempt to load from CDN again, or</li>\\n\"+\n     \"<li>use INLINE resources instead, as so:</li>\\n\"+\n     \"</ul>\\n\"+\n     \"<code>\\n\"+\n     \"from bokeh.resources import INLINE\\n\"+\n     \"output_notebook(resources=INLINE)\\n\"+\n     \"</code>\\n\"+\n     \"</div>\"}};\n\n  function display_loaded() {\n    var el = document.getElementById(\"1001\");\n    if (el != null) {\n      el.textContent = \"BokehJS is loading...\";\n    }\n    if (root.Bokeh !== undefined) {\n      if (el != null) {\n        el.textContent = \"BokehJS \" + root.Bokeh.version + \" successfully loaded.\";\n      }\n    } else if (Date.now() < root._bokeh_timeout) {\n      setTimeout(display_loaded, 100)\n    }\n  }\n\n\n  function run_callbacks() {\n    try {\n      root._bokeh_onload_callbacks.forEach(function(callback) {\n        if (callback != null)\n          callback();\n      });\n    } finally {\n      delete root._bokeh_onload_callbacks\n    }\n    console.debug(\"Bokeh: all callbacks have finished\");\n  }\n\n  function load_libs(css_urls, js_urls, callback) {\n    if (css_urls == null) css_urls = [];\n    if (js_urls == null) js_urls = [];\n\n    root._bokeh_onload_callbacks.push(callback);\n    if (root._bokeh_is_loading > 0) {\n      console.debug(\"Bokeh: BokehJS is being loaded, scheduling callback at\", now());\n      return null;\n    }\n    if (js_urls == null || js_urls.length === 0) {\n      run_callbacks();\n      return null;\n    }\n    console.debug(\"Bokeh: BokehJS not loaded, scheduling load and callback at\", now());\n    root._bokeh_is_loading = css_urls.length + js_urls.length;\n\n    function on_load() {\n      root._bokeh_is_loading--;\n      if (root._bokeh_is_loading === 0) {\n        console.debug(\"Bokeh: all BokehJS libraries/stylesheets loaded\");\n        run_callbacks()\n      }\n    }\n\n    function on_error() {\n      console.error(\"failed to load \" + url);\n    }\n\n    for (var i = 0; i < css_urls.length; i++) {\n      var url = css_urls[i];\n      const element = document.createElement(\"link\");\n      element.onload = on_load;\n      element.onerror = on_error;\n      element.rel = \"stylesheet\";\n      element.type = \"text/css\";\n      element.href = url;\n      console.debug(\"Bokeh: injecting link tag for BokehJS stylesheet: \", url);\n      document.body.appendChild(element);\n    }\n\n    const hashes = {\"https://cdn.bokeh.org/bokeh/release/bokeh-2.2.3.min.js\": \"T2yuo9Oe71Cz/I4X9Ac5+gpEa5a8PpJCDlqKYO0CfAuEszu1JrXLl8YugMqYe3sM\", \"https://cdn.bokeh.org/bokeh/release/bokeh-widgets-2.2.3.min.js\": \"98GDGJ0kOMCUMUePhksaQ/GYgB3+NH9h996V88sh3aOiUNX3N+fLXAtry6xctSZ6\", \"https://cdn.bokeh.org/bokeh/release/bokeh-tables-2.2.3.min.js\": \"89bArO+nlbP3sgakeHjCo1JYxYR5wufVgA3IbUvDY+K7w4zyxJqssu7wVnfeKCq8\"};\n\n    for (var i = 0; i < js_urls.length; i++) {\n      var url = js_urls[i];\n      var element = document.createElement('script');\n      element.onload = on_load;\n      element.onerror = on_error;\n      element.async = false;\n      element.src = url;\n      if (url in hashes) {\n        element.crossOrigin = \"anonymous\";\n        element.integrity = \"sha384-\" + hashes[url];\n      }\n      console.debug(\"Bokeh: injecting script tag for BokehJS library: \", url);\n      document.head.appendChild(element);\n    }\n  };\n\n  function inject_raw_css(css) {\n    const element = document.createElement(\"style\");\n    element.appendChild(document.createTextNode(css));\n    document.body.appendChild(element);\n  }\n\n  \n  var js_urls = [\"https://cdn.bokeh.org/bokeh/release/bokeh-2.2.3.min.js\", \"https://cdn.bokeh.org/bokeh/release/bokeh-widgets-2.2.3.min.js\", \"https://cdn.bokeh.org/bokeh/release/bokeh-tables-2.2.3.min.js\"];\n  var css_urls = [];\n  \n\n  var inline_js = [\n    function(Bokeh) {\n      Bokeh.set_log_level(\"info\");\n    },\n    function(Bokeh) {\n    \n    \n    }\n  ];\n\n  function run_inline_js() {\n    \n    if (root.Bokeh !== undefined || force === true) {\n      \n    for (var i = 0; i < inline_js.length; i++) {\n      inline_js[i].call(root, root.Bokeh);\n    }\n    if (force === true) {\n        display_loaded();\n      }} else if (Date.now() < root._bokeh_timeout) {\n      setTimeout(run_inline_js, 100);\n    } else if (!root._bokeh_failed_load) {\n      console.log(\"Bokeh: BokehJS failed to load within specified timeout.\");\n      root._bokeh_failed_load = true;\n    } else if (force !== true) {\n      var cell = $(document.getElementById(\"1001\")).parents('.cell').data().cell;\n      cell.output_area.append_execute_result(NB_LOAD_WARNING)\n    }\n\n  }\n\n  if (root._bokeh_is_loading === 0) {\n    console.debug(\"Bokeh: BokehJS loaded, going straight to plotting\");\n    run_inline_js();\n  } else {\n    load_libs(css_urls, js_urls, function() {\n      console.debug(\"Bokeh: BokehJS plotting callback run at\", now());\n      run_inline_js();\n    });\n  }\n}(window));"
     },
     "metadata": {},
     "output_type": "display_data"
    }
   ],
   "source": [
    "import bokeh.plotting\n",
    "from bokeh.models import Range1d, LinearAxis, Div, HoverTool\n",
    "from bokeh.io import show\n",
    "from bokeh.io import output_notebook, reset_output, output_file\n",
    "from bokeh.palettes import d3\n",
    "output_notebook()"
   ]
  },
  {
   "cell_type": "code",
   "execution_count": 4,
   "metadata": {
    "ExecuteTime": {
     "end_time": "2021-05-17T02:24:15.929883Z",
     "start_time": "2021-05-17T02:24:14.940528Z"
    }
   },
   "outputs": [],
   "source": [
    "from get_stock_price import StockDatabase"
   ]
  },
  {
   "cell_type": "code",
   "execution_count": 5,
   "metadata": {
    "ExecuteTime": {
     "end_time": "2021-05-17T02:24:15.961797Z",
     "start_time": "2021-05-17T02:24:15.940854Z"
    }
   },
   "outputs": [],
   "source": [
    "from utils import get_previous_workday_intraday_datetime, get_next_workday_intraday_datetime, get_naive_datetime_from_datetime"
   ]
  },
  {
   "cell_type": "code",
   "execution_count": 6,
   "metadata": {
    "ExecuteTime": {
     "end_time": "2021-05-17T02:24:15.993713Z",
     "start_time": "2021-05-17T02:24:15.970772Z"
    }
   },
   "outputs": [],
   "source": [
    "from utils import py_restart\n",
    "from utils import py_workdays"
   ]
  },
  {
   "cell_type": "markdown",
   "metadata": {},
   "source": [
    "## データベース "
   ]
  },
  {
   "cell_type": "code",
   "execution_count": 7,
   "metadata": {
    "ExecuteTime": {
     "end_time": "2021-05-17T02:24:16.263988Z",
     "start_time": "2021-05-17T02:24:16.006677Z"
    }
   },
   "outputs": [],
   "source": [
    "db_path = Path(\"E:/システムトレード入門/trade_system_git_workspace/db/sub_stock_db/nikkei_255_stock_v2.db\")\n",
    "stock_db = StockDatabase(db_path)"
   ]
  },
  {
   "cell_type": "code",
   "execution_count": 8,
   "metadata": {
    "ExecuteTime": {
     "end_time": "2021-05-17T02:24:18.096092Z",
     "start_time": "2021-05-17T02:24:16.274960Z"
    }
   },
   "outputs": [
    {
     "data": {
      "text/plain": [
       "array([datetime.date(2020, 11, 2), datetime.date(2020, 11, 4),\n",
       "       datetime.date(2020, 11, 5), datetime.date(2020, 11, 6),\n",
       "       datetime.date(2020, 11, 9), datetime.date(2020, 11, 10),\n",
       "       datetime.date(2020, 11, 11), datetime.date(2020, 11, 12),\n",
       "       datetime.date(2020, 11, 13), datetime.date(2020, 11, 16),\n",
       "       datetime.date(2020, 11, 17), datetime.date(2020, 11, 18),\n",
       "       datetime.date(2020, 11, 19), datetime.date(2020, 11, 20),\n",
       "       datetime.date(2020, 11, 24), datetime.date(2020, 11, 25),\n",
       "       datetime.date(2020, 11, 26), datetime.date(2020, 11, 27),\n",
       "       datetime.date(2020, 11, 30)], dtype=object)"
      ]
     },
     "execution_count": 8,
     "metadata": {},
     "output_type": "execute_result"
    }
   ],
   "source": [
    "jst_timezone = timezone(\"Asia/Tokyo\")\n",
    "all_start_datetime = jst_timezone.localize(datetime.datetime(2020,11,1,0,0,0))\n",
    "all_end_datetime = jst_timezone.localize(datetime.datetime(2020,12,1,0,0,0))\n",
    "py_workdays.get_workdays_jp(all_start_datetime.date(), all_end_datetime.date())"
   ]
  },
  {
   "cell_type": "code",
   "execution_count": 9,
   "metadata": {
    "ExecuteTime": {
     "end_time": "2021-05-17T02:24:18.128005Z",
     "start_time": "2021-05-17T02:24:18.111053Z"
    }
   },
   "outputs": [],
   "source": [
    "#start_datetime = jst_timezone.localize(datetime.datetime(2020,11,10,9,0,0))\n",
    "#end_datetime = jst_timezone.localize(datetime.datetime(2020,11,20,15,0,0))\n",
    "#stock_list = [\"4755\",\"9984\",\"6701\",\"7203\",\"7267\"]\n",
    "\n",
    "#stock_df = stock_db.search_span(stock_names=stock_list, \n",
    "#                                start_datetime=start_datetime,\n",
    "#                                end_datetime=end_datetime,\n",
    "#                                freq_str=\"5T\",\n",
    "#                                to_tokyo=True\n",
    "#                               )\n",
    "\n",
    "#stock_df"
   ]
  },
  {
   "cell_type": "markdown",
   "metadata": {},
   "source": [
    "## 各種エラー "
   ]
  },
  {
   "cell_type": "code",
   "execution_count": 10,
   "metadata": {
    "ExecuteTime": {
     "end_time": "2021-05-17T02:24:18.159921Z",
     "start_time": "2021-05-17T02:24:18.140972Z"
    }
   },
   "outputs": [],
   "source": [
    "class TradeSystemBaseError(Exception):\n",
    "    \"\"\"\n",
    "    TradeSystem全体で利用する例外の基底クラス\n",
    "    \"\"\"\n",
    "    pass"
   ]
  },
  {
   "cell_type": "code",
   "execution_count": 11,
   "metadata": {
    "ExecuteTime": {
     "end_time": "2021-05-17T02:24:18.190838Z",
     "start_time": "2021-05-17T02:24:18.169895Z"
    }
   },
   "outputs": [],
   "source": [
    "class UnitStateError(TradeSystemBaseError):\n",
    "    \"\"\"\n",
    "    UnitあるいはStateに関するクラスのベースクラス\n",
    "    \"\"\"\n",
    "    pass"
   ]
  },
  {
   "cell_type": "code",
   "execution_count": 12,
   "metadata": {
    "ExecuteTime": {
     "end_time": "2021-05-17T02:24:18.254670Z",
     "start_time": "2021-05-17T02:24:18.199815Z"
    }
   },
   "outputs": [],
   "source": [
    "class UnitStateHasNanError(UnitStateError):\n",
    "    \"\"\"\n",
    "    DataSupplyUnitの要素の代入時にNaNをチェックする\n",
    "    \"\"\"\n",
    "    def __init__(self, err_str=None):\n",
    "        \"\"\"\n",
    "        err_str:\n",
    "            エラーメッセージ\n",
    "        \"\"\"\n",
    "        self.err_str = err_str\n",
    "    def __str__(self):\n",
    "        if self.err_str is None:\n",
    "            return \"This Unit has nan data\"\n",
    "        else:\n",
    "            return self.err_str"
   ]
  },
  {
   "cell_type": "code",
   "execution_count": 13,
   "metadata": {
    "ExecuteTime": {
     "end_time": "2021-05-17T02:24:18.285586Z",
     "start_time": "2021-05-17T02:24:18.263645Z"
    }
   },
   "outputs": [],
   "source": [
    "class UnitStateHasWrongLengthError(UnitStateError):\n",
    "    \"\"\"\n",
    "    Unitのnameを基準に特定のフィールドの長さをチェックする\n",
    "    \"\"\"\n",
    "    def __init__(self, err_str=None):\n",
    "        \"\"\"\n",
    "        err_str:\n",
    "            エラーメッセージ\n",
    "        \"\"\"\n",
    "        self.err_str = err_str\n",
    "    def __str__(self):\n",
    "        if self.err_str is None:\n",
    "            return \"This Unit has wrong length\"\n",
    "        else:\n",
    "            return self.err_str"
   ]
  },
  {
   "cell_type": "code",
   "execution_count": 14,
   "metadata": {
    "ExecuteTime": {
     "end_time": "2021-05-17T02:24:18.333458Z",
     "start_time": "2021-05-17T02:24:18.297554Z"
    }
   },
   "outputs": [],
   "source": [
    "class PortfolioVectorInvalidError(TradeSystemBaseError):\n",
    "    \"\"\"\n",
    "    portfolio vector が有効かどうかチェックする\n",
    "    \"\"\"\n",
    "    def __init__(self, err_str=None):\n",
    "        \"\"\"\n",
    "        err_str:\n",
    "            エラーメッセージ\n",
    "        \"\"\"\n",
    "        self.err_str = err_str\n",
    "    def __str__(self):\n",
    "        if self.err_str is None:\n",
    "            return \"This portfolio is invalid\"\n",
    "        else:\n",
    "            return self.err_str"
   ]
  },
  {
   "cell_type": "code",
   "execution_count": 15,
   "metadata": {
    "ExecuteTime": {
     "end_time": "2021-05-17T02:24:18.381332Z",
     "start_time": "2021-05-17T02:24:18.351409Z"
    }
   },
   "outputs": [],
   "source": [
    "class CannotGetAllDataError(TradeSystemBaseError):\n",
    "    \"\"\"\n",
    "    PriceSupplierでデータの取得が出来なかった場合の例外\n",
    "    \"\"\"\n",
    "    def __init__(self, err_str=None):\n",
    "        \"\"\"\n",
    "        err_str:\n",
    "            エラーメッセージ\n",
    "        \"\"\"\n",
    "        self.err_str = err_str\n",
    "    def __str__(self):\n",
    "        if self.err_str is None:\n",
    "            return \"Cannot get all data.\"\n",
    "        else:\n",
    "            return self.err_str"
   ]
  },
  {
   "cell_type": "markdown",
   "metadata": {},
   "source": [
    "## 供給データ単位クラス"
   ]
  },
  {
   "cell_type": "markdown",
   "metadata": {},
   "source": [
    "供給されるデータの単位"
   ]
  },
  {
   "cell_type": "code",
   "execution_count": 16,
   "metadata": {
    "ExecuteTime": {
     "end_time": "2021-05-17T02:24:18.506993Z",
     "start_time": "2021-05-17T02:24:18.391303Z"
    }
   },
   "outputs": [],
   "source": [
    "@dataclass\n",
    "class DataSupplyUnit:\n",
    "    \"\"\"\n",
    "    DataSupplierによって提供されるデータクラス\n",
    "    nan_check: bool\n",
    "        初期化時にnanをチェックするかどうか．デバッグ時に利用する\n",
    "    length_check: bool\n",
    "        初期化時にlengthをチェックするかどうか，デバッグ時に利用する．\n",
    "    \"\"\"\n",
    "    nan_check = False\n",
    "    length_check = False\n",
    "    \n",
    "    names: np.ndarray # 銘柄名\n",
    "    key_currency_index: int  # 基軸通貨のインデックス\n",
    "    datetime: datetime.datetime  # データの日時\n",
    "    window: np.ndarray  # データのウィンドウ\n",
    "    open_array: np.ndarray  # [銘柄名, ウィンドウ(時間)]に対応する始値\n",
    "    close_array: np.ndarray # [銘柄名, ウィンドウ(時間)]に対応する終値\n",
    "    high_array: np.ndarray  # [銘柄名, ウィンドウ(時間)]に対応する高値\n",
    "    low_array: np.ndarray  # [銘柄名, ウィンドウ(時間)]に対応する低値\n",
    "    volume_array: np.ndarray  # [銘柄名, ウィンドウ(時間)]に対応する取引量\n",
    "        \n",
    "    def _replace(self, **kwargs):\n",
    "        \"\"\"\n",
    "        namedtupleとの互換性のため\n",
    "        \"\"\"\n",
    "        return dataclasses.replace(self, **kwargs)\n",
    "        \n",
    "    def __post_init__(self):\n",
    "        # nanが含まれるがチェック\n",
    "        if DataSupplyUnit.nan_check:\n",
    "            for field in dataclasses.fields(self):\n",
    "                value = getattr(self, field.name)\n",
    "                if isinstance(value, np.ndarray):\n",
    "                    if np.isnan(value).sum() > 0:\n",
    "                        raise UnitStateHasNanError(\"This Unit has nan data about {}\".format(field.name))\n",
    "                    \n",
    "        # 長さが適切かチェック\n",
    "        if DataSupplyUnit.length_check:\n",
    "            name_length = len(self.names)\n",
    "            window_length = len(self.window)\n",
    "            for field in dataclasses.fields(self):\n",
    "                if field.name in {\"open_array\", \"close_array\", \"high_array\", \"low_array\", \"volume_array\"}:\n",
    "                    value = getattr(self, field.name)\n",
    "                    if value.shape[0]!=name_length or value.shape[1]!=window_length:\n",
    "                        err_str = \"This Unit has wrong legnth about {}({}) with names({}) and window({})\".format(field.name,\n",
    "                                                                                                                value.shape,\n",
    "                                                                                                                name_length,\n",
    "                                                                                                                window_length\n",
    "                                                                                                               )\n",
    "                        raise UnitStateHasWrongLengthError(err_str)\n",
    "                        \n",
    "    def __str__(self):\n",
    "        return_str = \"DataSupplyUnit( \\n\"\n",
    "        for field in dataclasses.fields(self):\n",
    "            return_str += field.name + \"=\"\n",
    "            return_str += str(getattr(self, field.name)) + \"\\n\"\n",
    "        return_str += \")\"\n",
    "        return return_str"
   ]
  },
  {
   "cell_type": "code",
   "execution_count": 17,
   "metadata": {
    "ExecuteTime": {
     "end_time": "2021-05-17T02:24:18.538910Z",
     "start_time": "2021-05-17T02:24:18.516976Z"
    }
   },
   "outputs": [],
   "source": [
    "field_list = [\"names\",  # 銘柄名\n",
    "              \"key_currency_index\",  # 基軸通貨のインデックス\n",
    "              \"datetime\",  # データの日時\n",
    "              \"window\",  # データのウィンドウ\n",
    "              \"open_array\",  # [銘柄名, ウィンドウ(時間)]に対応する始値\n",
    "              \"close_array\",  # [銘柄名, ウィンドウ(時間)]に対応する終値\n",
    "              \"high_array\",  # [銘柄名, ウィンドウ(時間)]に対応する高値\n",
    "              \"low_array\",  # [銘柄名, ウィンドウ(時間)]に対応する低値\n",
    "              \"volume_array\"  # [銘柄名, ウィンドウ(時間)]に対応する取引量\n",
    "             ]\n",
    "\n",
    "DataSupplyUnitBaseLegacy = namedtuple(\"DataSupplyUnitBase\", field_list)"
   ]
  },
  {
   "cell_type": "code",
   "execution_count": 18,
   "metadata": {
    "ExecuteTime": {
     "end_time": "2021-05-17T02:24:18.569826Z",
     "start_time": "2021-05-17T02:24:18.548882Z"
    }
   },
   "outputs": [],
   "source": [
    "class DataSupplyUnitLegacy(DataSupplyUnitBaseLegacy):\n",
    "    \"\"\"\n",
    "    DataSupplierによって提供されるデータクラス\n",
    "    \"\"\"    \n",
    "    def __str__(self):\n",
    "        return_str = \"DataSupplyUnit( \\n\"\n",
    "        for field_str in self._fields:\n",
    "            return_str += field_str + \"=\"\n",
    "            return_str += str(getattr(self, field_str)) + \"\\n\"\n",
    "        return_str += \")\"\n",
    "        return return_str"
   ]
  },
  {
   "cell_type": "code",
   "execution_count": 19,
   "metadata": {
    "ExecuteTime": {
     "end_time": "2021-05-17T02:24:18.616700Z",
     "start_time": "2021-05-17T02:24:18.579800Z"
    }
   },
   "outputs": [],
   "source": [
    "one_data = DataSupplyUnit(names=[\"yen\", \"1001\"],\n",
    "                          key_currency_index=0,\n",
    "                          datetime=datetime.datetime(2021,1,1,0,0,0),\n",
    "                          window=[0,1,2,3,4,5],\n",
    "                          open_array=np.random.randn(2,6),\n",
    "                          close_array=np.random.randn(2,6),\n",
    "                          high_array=np.random.randn(2,6),\n",
    "                          low_array=np.random.randn(2,6),\n",
    "                          volume_array=np.random.randn(2,6),\n",
    "                         )"
   ]
  },
  {
   "cell_type": "code",
   "execution_count": 20,
   "metadata": {
    "ExecuteTime": {
     "end_time": "2021-05-17T02:24:18.680528Z",
     "start_time": "2021-05-17T02:24:18.627671Z"
    }
   },
   "outputs": [
    {
     "name": "stdout",
     "output_type": "stream",
     "text": [
      "DataSupplyUnit( \n",
      "names=['yen', '1001']\n",
      "key_currency_index=1\n",
      "datetime=2021-01-01 00:00:00\n",
      "window=[0, 1, 2, 3, 4, 5]\n",
      "open_array=[[ 0.5874532   1.24634727 -0.11923178 -0.81670214 -0.58627205 -0.33390115]\n",
      " [-0.7141509   1.52538916  1.72543283 -0.65183355  1.02129596  0.42153376]]\n",
      "close_array=[[-1.47940934  0.82485802  0.80215739 -0.27562762  0.57531573 -0.20494426]\n",
      " [ 0.24372     0.3387662   0.28303827 -1.16576931 -0.2896231  -1.60117283]]\n",
      "high_array=[[ 0.27589806  1.4405244  -0.54848456  0.96900059 -0.22075289  1.42110936]\n",
      " [-0.82903232 -0.62501196  0.92551081 -3.1377388   1.84704614  2.01540813]]\n",
      "low_array=[[ 0.73752888  2.11769921  0.72840431  1.83239935 -0.05126364 -1.56547018]\n",
      " [-0.02610597 -0.88506695 -0.21943197 -0.58597981  0.35626412 -2.32032454]]\n",
      "volume_array=[[-0.88702687 -1.44218096  0.96472738 -2.17363413 -0.9108788  -1.12732916]\n",
      " [ 1.3881225  -0.61921945 -0.48811268 -0.17467973 -0.80001206 -0.69210997]]\n",
      ")\n"
     ]
    }
   ],
   "source": [
    "print(one_data._replace(key_currency_index=1))"
   ]
  },
  {
   "cell_type": "code",
   "execution_count": 21,
   "metadata": {
    "ExecuteTime": {
     "end_time": "2021-05-17T02:24:18.728401Z",
     "start_time": "2021-05-17T02:24:18.701484Z"
    }
   },
   "outputs": [],
   "source": [
    "DataSupplyUnit.nan_check = True\n",
    "DataSupplyUnit.length_check = True"
   ]
  },
  {
   "cell_type": "code",
   "execution_count": 22,
   "metadata": {
    "ExecuteTime": {
     "end_time": "2021-05-17T02:24:18.791234Z",
     "start_time": "2021-05-17T02:24:18.738378Z"
    }
   },
   "outputs": [],
   "source": [
    "nan_array = np.ones((2,6))\n",
    "nan_array.fill(np.nan)\n",
    "one_data = DataSupplyUnit(names=[\"yen\", \"1001\"],\n",
    "                          key_currency_index=0,\n",
    "                          datetime=datetime.datetime(2021,1,1,0,0,0),\n",
    "                          window=[0,1,2,3,4,5],\n",
    "                          open_array=np.random.randn(2,6),\n",
    "                          #open_array=nan_array,\n",
    "                          close_array=np.random.randn(2,6),\n",
    "                          high_array=np.random.randn(2,6),\n",
    "                          low_array=np.random.randn(2,6),\n",
    "                          volume_array=np.random.randn(2,6),\n",
    "                         )"
   ]
  },
  {
   "cell_type": "markdown",
   "metadata": {},
   "source": [
    "## ポートフォリオ状態クラス "
   ]
  },
  {
   "cell_type": "markdown",
   "metadata": {},
   "source": [
    "ポートフォリオの状態を表すクラス"
   ]
  },
  {
   "cell_type": "code",
   "execution_count": 23,
   "metadata": {
    "ExecuteTime": {
     "end_time": "2021-05-17T02:24:19.027603Z",
     "start_time": "2021-05-17T02:24:18.805194Z"
    }
   },
   "outputs": [],
   "source": [
    "@dataclass\n",
    "class PortfolioState:\n",
    "    \"\"\"\n",
    "    バックテスト・強化学習で利用するTransformerが提供するデータクラス．強化学習における状態を内包する．\n",
    "    nan_check: bool\n",
    "        初期化時にnanをチェックするかどうか．デバッグ時に利用する\n",
    "    length_check: bool\n",
    "        初期化時にlengthをチェックするかどうか，デバッグ時に利用する．\n",
    "    \"\"\"\n",
    "    nan_check = False\n",
    "    length_check = False\n",
    "    portfoio_check = False\n",
    "    \n",
    "    names: np.ndarray  # 銘柄名\n",
    "    key_currency_index: int  # 基軸通貨のインデックス\n",
    "    window: np.ndarray  # データのウィンドウ\n",
    "    datetime: datetime.datetime  # データの日時\n",
    "    price_array: np.ndarray  # [銘柄名, ウィンドウ(時間)]に対応する現在価格\n",
    "    volume_array: np.ndarray  # [銘柄名, ウィンドウ(時間)]に対応する取引量\n",
    "    now_price_array: np.ndarray # 銘柄名に対応する現在価格\n",
    "    portfolio_vector: np.ndarray  # ポートフォリオベクトル\n",
    "    mean_cost_price_array: np.ndarray  # 銘柄名に対応する平均取得価格\n",
    "    all_assets: float  # 基軸通貨で換算した全資産\n",
    "        \n",
    "    def _replace(self, **kwargs):\n",
    "        \"\"\"\n",
    "        namedtupleとの互換性のため，\n",
    "        \"\"\"\n",
    "        return dataclasses.replace(self, **kwargs)\n",
    "    \n",
    "    def __post_init__(self):\n",
    "        # nanが含まれるがチェック\n",
    "        if PortfolioState.nan_check:\n",
    "            for field in dataclasses.fields(self):\n",
    "                value = getattr(self, field.name)\n",
    "                if isinstance(value, np.ndarray):\n",
    "                    if np.isnan(value).sum() > 0:\n",
    "                        raise UnitStateHasNanError(\"This State has nan data about {}\".format(field.name))\n",
    "                    \n",
    "        # 長さが適切かチェック\n",
    "        if PortfolioState.length_check and self.names is not None and self.window is not None:\n",
    "            name_length = len(self.names)\n",
    "            window_length = len(self.window)\n",
    "            for field in dataclasses.fields(self):\n",
    "                if field.name in {\"price_array\", \"volume_array\"}:\n",
    "                    value = getattr(self, field.name)\n",
    "                    if value is not None:\n",
    "                        if value.shape[0]!=name_length or value.shape[1]!=window_length:\n",
    "                            err_str = \"This State has wrong legnth about {}({}) with names({}) and window({})\".format(field.name,\n",
    "                                                                                                                      value.shape,\n",
    "                                                                                                                      name_length,\n",
    "                                                                                                                      window_length\n",
    "                                                                                                                     )\n",
    "                            raise UnitStateHasWrongLengthError(err_str)\n",
    "                elif field.name in {\"now_price_array\", \"portfolio_vector\", \"mean_cost_price_array\"}:\n",
    "                    value = getattr(self, field.name)\n",
    "                    if value is not None:\n",
    "                        if len(value.shape)!=1 or value.shape[0]!=name_length:\n",
    "                            err_str = \"This State has wrong length about {}({}) with names({})\".format(field.name,\n",
    "                                                                                                       value.shape,\n",
    "                                                                                                       name_length\n",
    "                                                                                                      )\n",
    "                            raise UnitStateHasWrongLengthError(err_str)\n",
    "        \n",
    "        #portfolioの和が適切かチェック\n",
    "        if PortfolioState.portfoio_check:\n",
    "            portfolio_vector = self.portfolio_vector\n",
    "            # nanのチェック\n",
    "            if portfolio_vector is not None:\n",
    "                if np.isnan(portfolio_vector).sum() > 0:\n",
    "                    raise PortfolioVectorInvalidError(\"This portfolio has nan\")\n",
    "\n",
    "                # 上限と下限のチェック\n",
    "                upper_bool = portfolio_vector > 1\n",
    "                lower_bool = portfolio_vector < 0\n",
    "                if upper_bool.sum() > 0 or lower_bool.sum() > 0:\n",
    "                    raise PortfolioVectorInvalidError(\"This portfolio is not in (0,1).{}\".format(portfolio_vector))\n",
    "\n",
    "                # 和のチェック\n",
    "                if abs(portfolio_vector.sum() - 1) > 1.e-5:\n",
    "                    raise PortfolioVectorInvalidError(\"The portfolio sum is must be 1. This portfolio is {}, sum is {}\".format(portfolio_vector,\n",
    "                                                                                                                               portfolio_vector.sum()))\n",
    "                \n",
    "    @property\n",
    "    def numbers(self):\n",
    "        \"\"\"\n",
    "        保有量のプロパティ\n",
    "        \"\"\"\n",
    "        return self.all_assets*self.portfolio_vector/self.now_price_array\n",
    "    \n",
    "    def __str__(self):\n",
    "        return_str = \"PortfolioState( \\n\"\n",
    "        for field in dataclasses.fields(self):\n",
    "            return_str += field.name + \"=\"\n",
    "            return_str += str(getattr(self, field.name)) + \"\\n\"\n",
    "        return_str += \")\"\n",
    "        return return_str\n",
    "    \n",
    "    def copy(self):\n",
    "        \"\"\"\n",
    "        自身のコビーを返す．ndarrayのプロパティの場合はそのコビーを保持する．\n",
    "        \"\"\"\n",
    "        arg_dict = {}\n",
    "        for field in dataclasses.fields(self):\n",
    "            field_value = getattr(self, field.name)\n",
    "            if isinstance(field_value, np.ndarray):\n",
    "                field_value = field_value.copy()\n",
    "            \n",
    "            arg_dict[field.name] = field_value\n",
    "        \n",
    "        return PortfolioState(**arg_dict)\n",
    "    \n",
    "    def partial(self, *args):\n",
    "        \"\"\"\n",
    "        str:\n",
    "            フィールド名\n",
    "        メモリ等の状況によって，自身の部分的なコビーを返す．\n",
    "        引数にを耐えられなかったプロパティはNoneとなる．\n",
    "        \"\"\"\n",
    "        arg_dict = {}\n",
    "        for field in dataclasses.fields(self):\n",
    "            if field.name in args:\n",
    "                field_value = getattr(self, field.name)\n",
    "                if isinstance(field_value, np.ndarray):\n",
    "                    field_value = field_value.copy()\n",
    "            else:\n",
    "                field_value = None\n",
    "            \n",
    "            arg_dict[field.name] = field_value\n",
    "            \n",
    "        return PortfolioState(**arg_dict)"
   ]
  },
  {
   "cell_type": "code",
   "execution_count": 24,
   "metadata": {
    "ExecuteTime": {
     "end_time": "2021-05-17T02:24:19.091431Z",
     "start_time": "2021-05-17T02:24:19.064505Z"
    }
   },
   "outputs": [],
   "source": [
    "field_list = [\"names\",  # 銘柄名\n",
    "              \"key_currency_index\",  # 基軸通貨のインデックス\n",
    "              \"window\",  # データのウィンドウ\n",
    "              \"datetime\",  # データの日時\n",
    "              \"price_array\",  # [銘柄名, ウィンドウ(時間)]に対応する現在価格\n",
    "              \"volume_array\",  # [銘柄名, ウィンドウ(時間)]に対応する取引量\n",
    "              \"now_price_array\",  # 銘柄名に対応する現在価格\n",
    "              \"portfolio_vector\",  # ポートフォリオベクトル\n",
    "              \"mean_cost_price_array\",  # 銘柄名に対応する平均取得価格\n",
    "              \"all_assets\"  # 基軸通貨で換算した全資産\n",
    "             ]\n",
    "\n",
    "PortfolioStateBaseLegacy = namedtuple(\"PortfolioStateBase\", field_list)"
   ]
  },
  {
   "cell_type": "code",
   "execution_count": 25,
   "metadata": {
    "ExecuteTime": {
     "end_time": "2021-05-17T02:24:19.186177Z",
     "start_time": "2021-05-17T02:24:19.108384Z"
    }
   },
   "outputs": [],
   "source": [
    "class PortfolioStateLegacy(PortfolioStateBaseLegacy):\n",
    "    \"\"\"\n",
    "    バックテスト・強化学習で利用するTransformerが提供するデータクラス．強化学習における状態を内包する．\n",
    "    \"\"\"\n",
    "    \n",
    "    @property\n",
    "    def numbers(self):\n",
    "        \"\"\"\n",
    "        保有量のプロパティ\n",
    "        \"\"\"\n",
    "        return self.all_assets*self.portfolio_vector/self.now_price_array\n",
    "    \n",
    "    def __str__(self):\n",
    "        return_str = \"PortfolioState( \\n\"\n",
    "        for field_str in self._fields:\n",
    "            return_str += field_str + \"=\"\n",
    "            return_str += str(getattr(self, field_str)) + \"\\n\"\n",
    "        return_str += \")\"\n",
    "        return return_str\n",
    "    \n",
    "    def copy(self):\n",
    "        \"\"\"\n",
    "        自身のコビーを返す．ndarrayのプロパティの場合はそのコビーを保持する．\n",
    "        \"\"\"\n",
    "        arg_dict = {}\n",
    "        for field_str in self._fields:\n",
    "            field_value = getattr(self, field_str)\n",
    "            if isinstance(field_value, np.ndarray):\n",
    "                field_value = field_value.copy()\n",
    "            \n",
    "            arg_dict[field_str] = field_value\n",
    "        \n",
    "        return PortfolioState(**arg_dict)\n",
    "    \n",
    "    def partial(self, *args):\n",
    "        \"\"\"\n",
    "        メモリ等の状況によって，自身の部分的なコビーを返す．\n",
    "        引数にを耐えられなかったプロパティはNoneとなる．\n",
    "        \"\"\"\n",
    "        arg_dict = {}\n",
    "        for field_str in self._fields:\n",
    "            if field_str in args:\n",
    "                field_value = getattr(self, field_str)\n",
    "                if isinstance(field_value, np.ndarray):\n",
    "                    field_value = field_value.copy()\n",
    "            else:\n",
    "                field_value = None\n",
    "            \n",
    "            arg_dict[field_str] = field_value\n",
    "            \n",
    "        return PortfolioState(**arg_dict)"
   ]
  },
  {
   "cell_type": "code",
   "execution_count": 26,
   "metadata": {
    "ExecuteTime": {
     "end_time": "2021-05-17T02:24:19.233051Z",
     "start_time": "2021-05-17T02:24:19.196149Z"
    }
   },
   "outputs": [],
   "source": [
    "one_state = PortfolioState(names=[\"yen\", \"1001\"],\n",
    "                           key_currency_index=0,\n",
    "                           window=[0,1,2,3,4,5],\n",
    "                           datetime=datetime.datetime(2021,1,1,0,0,0),\n",
    "                           price_array=np.random.randn(2,6),\n",
    "                           volume_array=np.random.randn(2,6),\n",
    "                           now_price_array=np.random.randn(2),\n",
    "                           portfolio_vector=softmax(np.random.randn(2)),\n",
    "                           mean_cost_price_array=np.random.randn(2),\n",
    "                           all_assets=0.0\n",
    "                          )"
   ]
  },
  {
   "cell_type": "code",
   "execution_count": 27,
   "metadata": {
    "ExecuteTime": {
     "end_time": "2021-05-17T02:24:19.280926Z",
     "start_time": "2021-05-17T02:24:19.246018Z"
    }
   },
   "outputs": [
    {
     "data": {
      "text/plain": [
       "PortfolioState(names=None, key_currency_index=None, window=None, datetime=None, price_array=array([[-0.76663687, -2.5236359 , -1.04007341,  0.69908806, -0.22193732,\n",
       "        -1.2725906 ],\n",
       "       [-1.69763469,  0.9293035 , -0.74064379, -1.07487236,  0.35656603,\n",
       "         0.82256116]]), volume_array=None, now_price_array=None, portfolio_vector=None, mean_cost_price_array=None, all_assets=0.0)"
      ]
     },
     "execution_count": 27,
     "metadata": {},
     "output_type": "execute_result"
    }
   ],
   "source": [
    "one_state.partial(\"price_array\", \"all_assets\")"
   ]
  },
  {
   "cell_type": "code",
   "execution_count": 28,
   "metadata": {
    "ExecuteTime": {
     "end_time": "2021-05-17T02:24:19.328795Z",
     "start_time": "2021-05-17T02:24:19.290899Z"
    }
   },
   "outputs": [
    {
     "data": {
      "text/plain": [
       "PortfolioState(names=['yen', '1001'], key_currency_index=0, window=[0, 1, 2, 3, 4, 5], datetime=datetime.datetime(2021, 1, 1, 0, 0), price_array=array([[-0.76663687, -2.5236359 , -1.04007341,  0.69908806, -0.22193732,\n",
       "        -1.2725906 ],\n",
       "       [-1.69763469,  0.9293035 , -0.74064379, -1.07487236,  0.35656603,\n",
       "         0.82256116]]), volume_array=array([[ 0.25869216,  0.65497567,  0.83698721,  1.23511275,  0.39501303,\n",
       "        -0.40306677],\n",
       "       [ 0.88188049,  0.9236073 , -1.02428213, -0.2670186 , -0.36258674,\n",
       "        -0.38758421]]), now_price_array=array([0.01626379, 0.4702189 ]), portfolio_vector=array([0.1655847, 0.8344153]), mean_cost_price_array=array([ 0.15074982, -0.26328573]), all_assets=0.0)"
      ]
     },
     "execution_count": 28,
     "metadata": {},
     "output_type": "execute_result"
    }
   ],
   "source": [
    "one_state.copy()"
   ]
  },
  {
   "cell_type": "code",
   "execution_count": 29,
   "metadata": {
    "ExecuteTime": {
     "end_time": "2021-05-17T02:24:19.360713Z",
     "start_time": "2021-05-17T02:24:19.337771Z"
    }
   },
   "outputs": [],
   "source": [
    "PortfolioState.nan_check = True\n",
    "PortfolioState.length_check = True\n",
    "PortfolioState.portfoio_check = True"
   ]
  },
  {
   "cell_type": "code",
   "execution_count": 30,
   "metadata": {
    "ExecuteTime": {
     "end_time": "2021-05-17T02:24:19.424538Z",
     "start_time": "2021-05-17T02:24:19.380659Z"
    }
   },
   "outputs": [],
   "source": [
    "one_state = PortfolioState(names=[\"yen\", \"1001\"],\n",
    "                           key_currency_index=0,\n",
    "                           window=[0,1,2,3,4,5],\n",
    "                           datetime=datetime.datetime(2021,1,1,0,0,0),\n",
    "                           price_array=np.random.randn(2,6),\n",
    "                           volume_array=np.random.randn(2,6),\n",
    "                           now_price_array=np.random.randn(2),\n",
    "                           portfolio_vector=softmax(np.random.randn(2)),\n",
    "                           mean_cost_price_array=np.random.randn(2),\n",
    "                           all_assets=0.0\n",
    "                          )"
   ]
  },
  {
   "cell_type": "markdown",
   "metadata": {},
   "source": [
    "## データの供給クラス "
   ]
  },
  {
   "cell_type": "code",
   "execution_count": 31,
   "metadata": {
    "ExecuteTime": {
     "end_time": "2021-05-17T02:24:19.456454Z",
     "start_time": "2021-05-17T02:24:19.434511Z"
    }
   },
   "outputs": [],
   "source": [
    "class PriceSuppliier(metaclass=ABCMeta):\n",
    "    \"\"\"\n",
    "    PriceSupplierの基底クラス．このインターフェースを実装していればよい\n",
    "    \"\"\"\n",
    "    @abstractmethod\n",
    "    def reset(self, start_datetime, window):\n",
    "        pass\n",
    "    \n",
    "    @abstractmethod\n",
    "    def step(self):\n",
    "        pass"
   ]
  },
  {
   "cell_type": "markdown",
   "metadata": {},
   "source": [
    "今回は株価データベースを用いて価格を供給する．"
   ]
  },
  {
   "cell_type": "code",
   "execution_count": 32,
   "metadata": {
    "ExecuteTime": {
     "end_time": "2021-05-17T02:24:19.743686Z",
     "start_time": "2021-05-17T02:24:19.467424Z"
    }
   },
   "outputs": [],
   "source": [
    "class StockDBPriceSupplier(PriceSuppliier):\n",
    "    \"\"\"\n",
    "    StockDatabaseに対応するPriceSupplier\n",
    "    \"\"\"\n",
    "    def __init__(self, stock_db, ticker_names, episode_length, freq_str, interpolate=True):\n",
    "        \"\"\"\n",
    "        stock_db: get_stock_price.StockDatabase\n",
    "            利用するStockDatabaseクラス\n",
    "        ticker_names: list of str\n",
    "            利用する銘柄名のリスト\n",
    "        episode_length: int\n",
    "            エピソードの長さ\n",
    "        freq_str: str\n",
    "            利用する周期を表す文字列\n",
    "        interpolate: bool\n",
    "            補間するかどうか\n",
    "        \"\"\"\n",
    "        self.stock_db = stock_db\n",
    "        self.ticker_names = ticker_names\n",
    "        self.episode_length = episode_length\n",
    "        self.freq_str = freq_str        \n",
    "        self.interpolate = interpolate\n",
    "        \n",
    "    def reset(self, start_datetime, window=np.array([0])):\n",
    "        \"\"\"\n",
    "        Parameters\n",
    "        ----------\n",
    "        start_datetime: datetime.datetime \n",
    "            データ供給の開始時刻\n",
    "        window: ndarray\n",
    "            データ供給のウィンドウ\n",
    "        \n",
    "        Returns\n",
    "        -------\n",
    "        DatasupplyUnit\n",
    "            提供する価格データ\n",
    "        bool\n",
    "            エピソードが終了したかどうか\n",
    "        \"\"\"\n",
    "        # 終了時刻を求める\n",
    "        # 全datetimeデータを保持\n",
    "        assert 0 in window\n",
    "        if not isinstance(window, np.ndarray):\n",
    "            self.window = np.array(window)\n",
    "        else:\n",
    "            self.window = window\n",
    "            \n",
    "        if isinstance(self.ticker_names, np.ndarray):\n",
    "            self.ticker_names = self.ticker_names.tolist()\n",
    "        \n",
    "        if len(self.ticker_names)!=len(set(self.ticker_names)):\n",
    "            raise Exception(\"Ticker_names is duplicate\")\n",
    "        \n",
    "        min_window = min(self.window)\n",
    "        max_window = max(self.window)\n",
    "        \n",
    "        if min_window <= 0:\n",
    "            episode_start_datetime = get_previous_workday_intraday_datetime(start_datetime, self.freq_str, abs(min_window))\n",
    "        else:\n",
    "            episode_start_datetime = get_next_workday_intraday_datetime(start_datetime, self.freq_str, min_window)\n",
    "            \n",
    "        if self.episode_length+max_window <= 0:  # 基本的にあり得ない\n",
    "            episode_end_datetime = get_previous_workday_intraday_datetime(start_datetime, self.freq_str, abs(self.episode_length+max_window))\n",
    "        else:\n",
    "            episode_end_datetime = get_next_workday_intraday_datetime(start_datetime, self.freq_str, self.episode_length+max_window)\n",
    "        \n",
    "        episode_df = self.stock_db.search_span(stock_names=self.ticker_names,\n",
    "                                               start_datetime=episode_start_datetime,\n",
    "                                               end_datetime=episode_end_datetime,\n",
    "                                               freq_str=self.freq_str,\n",
    "                                               is_end_include=True,  # 最後の値も含める\n",
    "                                               to_tokyo=True,  #必ずTrueに\n",
    "                                              )\n",
    "        \n",
    "        if episode_df is None:\n",
    "            raise CannotGetAllDataError(\"This ticker names not in stockdb\")\n",
    "        \n",
    "        if len(self.ticker_names)*5!=len(episode_df.columns):\n",
    "            err_str = \"Cannot get dataframe from stockdb.\"\n",
    "            raise CannotGetAllDataError(err_str)\n",
    "        \n",
    "        self.episode_df = py_workdays.extract_workdays_intraday_jp(episode_df)\n",
    "        \n",
    "        # 各OHLCVに対応するboolを求めておく\n",
    "        column_names_array = self.episode_df.columns.values.astype(str)\n",
    "        self.open_bool_array = np.char.startswith(column_names_array, \"Open\")\n",
    "        self.high_bool_array = np.char.startswith(column_names_array, \"High\")\n",
    "        self.low_bool_array = np.char.startswith(column_names_array, \"Low\")\n",
    "        self.close_bool_array = np.char.startswith(column_names_array, \"Close\")\n",
    "        self.volume_bool_array = np.char.startswith(column_names_array, \"Volume\")\n",
    "        \n",
    "        \n",
    "        all_datetime_index = pd.date_range(start=episode_start_datetime,\n",
    "                                           end=episode_end_datetime,\n",
    "                                           freq=self.freq_str,\n",
    "                                           closed=\"left\"\n",
    "                                          )\n",
    "        \n",
    "        self.all_datetime_index = py_workdays.extract_workdays_intraday_jp_index(all_datetime_index)\n",
    "        \n",
    "        # episode_dfの補間\n",
    "        if self.interpolate:\n",
    "            add_datetime_bool = ~self.all_datetime_index.isin(self.episode_df.index)\n",
    "            \n",
    "            # 補間を行う数が20%を越えた場合\n",
    "            if (add_datetime_bool.sum()/len(self.all_datetime_index)) > 0.1:\n",
    "                err_str = \"Interpolate exceeds 10 % about tickers={}, datetimes[{},{}]\".format(self.ticker_names,\n",
    "                                                                                               episode_start_datetime,\n",
    "                                                                                               episode_end_datetime)\n",
    "                raise CannotGetAllDataError(err_str)\n",
    "            \n",
    "            add_datetime_index = self.all_datetime_index[add_datetime_bool]\n",
    "            # Noneのdfを作成\n",
    "            nan_df = pd.DataFrame(index=add_datetime_index, columns=self.episode_df.columns)\n",
    "\n",
    "            # Noneのdfを追加\n",
    "            self.episode_df = self.episode_df.append(nan_df)\n",
    "            self.episode_df.sort_index(inplace=True)\n",
    "            \n",
    "            # np.nanの補間\n",
    "            self.episode_df.interpolate(limit_direction=\"both\",inplace=True)\n",
    "        else:\n",
    "            share_index_bool = self.all_datetime_index.isin(self.episode_df.index)\n",
    "            self.all_datetime_index = self.all_datetime_index[share_index_bool]\n",
    "        \n",
    "        # dfをndarrayに変更\n",
    "        self.episode_df_values = self.episode_df.values.astype(float)\n",
    "        del self.episode_df\n",
    "        \n",
    "        self.all_datetime_index_values = self.all_datetime_index.to_pydatetime()\n",
    "        del self.all_datetime_index\n",
    "        \n",
    "        # データが正しく取得できたかどうか\n",
    "        if np.isnan(self.episode_df_values).sum() > 0:\n",
    "            err_str = \"PriceSupplier cannot get data about tickers={}, datetimes[{},{}]\".format(self.ticker_names,\n",
    "                                                                                                episode_start_datetime,\n",
    "                                                                                                episode_end_datetime)\n",
    "            raise CannotGetAllDataError(err_str)\n",
    "        \n",
    "        \n",
    "        # データの取得\n",
    "        self.now_index = abs(min_window)\n",
    "        now_datetime = self.all_datetime_index_values[self.now_index]\n",
    "        \n",
    "        add_window = self.now_index + self.window\n",
    "        window_data_value = self.episode_df_values[add_window,:]\n",
    "        \n",
    "        open_array = window_data_value[:,self.open_bool_array].T\n",
    "        high_array = window_data_value[:,self.high_bool_array].T\n",
    "        low_array = window_data_value[:,self.low_bool_array].T\n",
    "        close_array = window_data_value[:,self.close_bool_array].T\n",
    "        volume_array = window_data_value[:,self.volume_bool_array].T\n",
    "        \n",
    "        open_array = np.concatenate([np.ones((1, open_array.shape[1])), open_array], axis=0)\n",
    "        high_array = np.concatenate([np.ones((1, high_array.shape[1])), high_array], axis=0)\n",
    "        low_array = np.concatenate([np.ones((1, low_array.shape[1])), low_array], axis=0)\n",
    "        close_array = np.concatenate([np.ones((1, close_array.shape[1])), close_array], axis=0)\n",
    "        volume_array = np.concatenate([np.ones((1, volume_array.shape[1])), volume_array], axis=0)\n",
    "        \n",
    "        \n",
    "        out_ticker_names = [\"yen\"]\n",
    "        out_ticker_names.extend(self.ticker_names)\n",
    "        \n",
    "        out_unit = DataSupplyUnit(names=out_ticker_names,\n",
    "                                  key_currency_index=0,\n",
    "                                  datetime=now_datetime,\n",
    "                                  window=self.window,\n",
    "                                  open_array=open_array,\n",
    "                                  close_array=close_array,\n",
    "                                  high_array=high_array,\n",
    "                                  low_array=low_array,\n",
    "                                  volume_array=volume_array\n",
    "                                 )\n",
    "        done = False\n",
    "        return out_unit, done\n",
    "    \n",
    "    def step(self):\n",
    "        \"\"\"\n",
    "        Returns\n",
    "        -------\n",
    "        DatasupplyUnit\n",
    "            提供する価格データ\n",
    "        bool\n",
    "            エピソードが終了したかどうか\n",
    "        \"\"\"\n",
    "        # indexの更新\n",
    "        self.now_index += 1\n",
    "        now_datetime = self.all_datetime_index_values[self.now_index]\n",
    "        \n",
    "        add_window = self.now_index + self.window\n",
    "        window_data_value = self.episode_df_values[add_window,:]\n",
    "        \n",
    "        open_array = window_data_value[:,self.open_bool_array].T\n",
    "        high_array = window_data_value[:,self.high_bool_array].T\n",
    "        low_array = window_data_value[:,self.low_bool_array].T\n",
    "        close_array = window_data_value[:,self.close_bool_array].T\n",
    "        volume_array = window_data_value[:,self.volume_bool_array].T\n",
    "         \n",
    "        open_array = np.concatenate([np.ones((1, open_array.shape[1])), open_array], axis=0)\n",
    "        high_array = np.concatenate([np.ones((1, high_array.shape[1])), high_array], axis=0)\n",
    "        low_array = np.concatenate([np.ones((1, low_array.shape[1])), low_array], axis=0)\n",
    "        close_array = np.concatenate([np.ones((1, close_array.shape[1])), close_array], axis=0)\n",
    "        volume_array = np.concatenate([np.ones((1, volume_array.shape[1])), volume_array], axis=0)\n",
    "        \n",
    "        out_ticker_names = [\"yen\"]\n",
    "        out_ticker_names.extend(self.ticker_names)\n",
    "        \n",
    "        out_unit = DataSupplyUnit(names=out_ticker_names,\n",
    "                                  key_currency_index=0,\n",
    "                                  datetime=now_datetime,\n",
    "                                  window=self.window,\n",
    "                                  open_array=open_array,\n",
    "                                  close_array=close_array,\n",
    "                                  high_array=high_array,\n",
    "                                  low_array=low_array,\n",
    "                                  volume_array=volume_array\n",
    "                                 )\n",
    "        done = self.now_index >= self.episode_length\n",
    "        \n",
    "        return out_unit, done "
   ]
  },
  {
   "cell_type": "code",
   "execution_count": 33,
   "metadata": {
    "ExecuteTime": {
     "end_time": "2021-05-17T02:24:20.855715Z",
     "start_time": "2021-05-17T02:24:19.767624Z"
    }
   },
   "outputs": [
    {
     "name": "stdout",
     "output_type": "stream",
     "text": [
      "(6, 4)\n",
      "DataSupplyUnit( \n",
      "names=['yen', '4755', '9984', '6701', '7203', '7267']\n",
      "key_currency_index=0\n",
      "datetime=2020-11-10 09:00:00+09:00\n",
      "window=[0 1 2 3]\n",
      "open_array=[[1.0000e+00 1.0000e+00 1.0000e+00 1.0000e+00]\n",
      " [1.1250e+03 1.1270e+03 1.1080e+03 1.1050e+03]\n",
      " [7.0040e+03 7.0720e+03 7.0190e+03 7.0040e+03]\n",
      " [5.7300e+03 5.7000e+03 5.7300e+03 5.7100e+03]\n",
      " [7.3200e+03 7.3430e+03 7.3380e+03 7.3550e+03]\n",
      " [2.9200e+03 2.9595e+03 2.9420e+03 2.9710e+03]]\n",
      "close_array=[[1.0000e+00 1.0000e+00 1.0000e+00 1.0000e+00]\n",
      " [1.1280e+03 1.1070e+03 1.1050e+03 1.0620e+03]\n",
      " [7.0720e+03 7.0190e+03 7.0040e+03 6.9880e+03]\n",
      " [5.6800e+03 5.7200e+03 5.7100e+03 5.6900e+03]\n",
      " [7.3420e+03 7.3360e+03 7.3530e+03 7.3280e+03]\n",
      " [2.9595e+03 2.9415e+03 2.9705e+03 2.9310e+03]]\n",
      "high_array=[[1.0000e+00 1.0000e+00 1.0000e+00 1.0000e+00]\n",
      " [1.1320e+03 1.1290e+03 1.1100e+03 1.1050e+03]\n",
      " [7.0770e+03 7.0770e+03 7.0270e+03 7.0070e+03]\n",
      " [5.7300e+03 5.7300e+03 5.7400e+03 5.7200e+03]\n",
      " [7.3440e+03 7.3550e+03 7.3600e+03 7.3560e+03]\n",
      " [2.9635e+03 2.9690e+03 2.9720e+03 2.9725e+03]]\n",
      "low_array=[[1.0000e+00 1.0000e+00 1.0000e+00 1.0000e+00]\n",
      " [1.1240e+03 1.1050e+03 1.0990e+03 1.0550e+03]\n",
      " [6.9350e+03 6.9900e+03 6.9640e+03 6.9770e+03]\n",
      " [5.6700e+03 5.6800e+03 5.7000e+03 5.6800e+03]\n",
      " [7.3020e+03 7.3150e+03 7.3210e+03 7.3230e+03]\n",
      " [2.8840e+03 2.9340e+03 2.9235e+03 2.9255e+03]]\n",
      "volume_array=[[1.0000e+00 1.0000e+00 1.0000e+00 1.0000e+00]\n",
      " [8.7840e+05 5.8380e+05 2.5710e+05 7.9410e+05]\n",
      " [2.5031e+06 8.4220e+05 7.3700e+05 4.2530e+05]\n",
      " [2.6540e+05 7.0900e+04 5.5200e+04 7.5200e+04]\n",
      " [1.3002e+06 4.5750e+05 3.2870e+05 1.7930e+05]\n",
      " [1.0599e+06 4.1260e+05 2.6840e+05 2.4110e+05]]\n",
      ")\n"
     ]
    }
   ],
   "source": [
    "start_datetime = jst_timezone.localize(datetime.datetime(2020,11,10,9,0,0))\n",
    "stock_list = [\"4755\",\"9984\",\"6701\",\"7203\",\"7267\"]\n",
    "\n",
    "episode_length = 50\n",
    "\n",
    "price_supplier = StockDBPriceSupplier(stock_db=stock_db,\n",
    "                                     ticker_names=stock_list,\n",
    "                                     episode_length=episode_length,\n",
    "                                     freq_str=\"5T\",\n",
    "                                     interpolate=False\n",
    "                                    )\n",
    "#data_unit, _ = price_supplier.reset(start_datetime, window=[-3,-2,-1,0,1,2,3])\n",
    "data_unit, _ = price_supplier.reset(start_datetime, window=[0,1,2,3])\n",
    "print(data_unit.close_array.shape)\n",
    "print(data_unit)"
   ]
  },
  {
   "cell_type": "markdown",
   "metadata": {},
   "source": [
    "## ポートフォリオの制限 "
   ]
  },
  {
   "cell_type": "markdown",
   "metadata": {},
   "source": [
    "学習時にはポートフォリオベクトルに制限はもうけない．バックテストや実際の運用時に単元数・基軸通貨換算資産によって制限を設ける．これは強化学習を資産の保有率を求める問題にするためである．"
   ]
  },
  {
   "cell_type": "code",
   "execution_count": 34,
   "metadata": {
    "ExecuteTime": {
     "end_time": "2021-05-17T02:24:20.901594Z",
     "start_time": "2021-05-17T02:24:20.866734Z"
    }
   },
   "outputs": [],
   "source": [
    "class PortfilioRestrictor(metaclass=ABCMeta):\n",
    "    \"\"\"\n",
    "    ポートフォリオの制限を行う抽象基底クラス\n",
    "    restrictメソッドをオーバーライドする必要がある\n",
    "    \"\"\"\n",
    "    @abstractmethod\n",
    "    def restrict(self, portfolio_state, supplied_data_unit, portfolio_vector):\n",
    "        pass"
   ]
  },
  {
   "cell_type": "code",
   "execution_count": 35,
   "metadata": {
    "ExecuteTime": {
     "end_time": "2021-05-17T02:24:20.949464Z",
     "start_time": "2021-05-17T02:24:20.916554Z"
    }
   },
   "outputs": [],
   "source": [
    "class PortfolioRestrictorSingleKey(PortfilioRestrictor):\n",
    "    \"\"\"\n",
    "    \"\"\"\n",
    "    def __init__(self, unit_number, key_name):\n",
    "        pass\n",
    "        \n",
    "    def restrict(self, portfolio_state, supplied_data_unit, portfolio_vector):\n",
    "        pass"
   ]
  },
  {
   "cell_type": "code",
   "execution_count": 36,
   "metadata": {
    "ExecuteTime": {
     "end_time": "2021-05-17T02:24:20.980383Z",
     "start_time": "2021-05-17T02:24:20.958443Z"
    }
   },
   "outputs": [],
   "source": [
    "class PortfolioRestrictorIdentity(PortfilioRestrictor):\n",
    "    \"\"\"\n",
    "    portfolioの恒等写像を行うPortfolioRestrictor\n",
    "    \"\"\"\n",
    "    def restrict(self, portfolio_state, supplied_data_unit, portfolio_vector):\n",
    "        return portfolio_vector"
   ]
  },
  {
   "cell_type": "markdown",
   "metadata": {},
   "source": [
    "## 取引手数料の計算クラス "
   ]
  },
  {
   "cell_type": "code",
   "execution_count": 37,
   "metadata": {
    "ExecuteTime": {
     "end_time": "2021-05-17T02:24:21.027255Z",
     "start_time": "2021-05-17T02:24:20.990357Z"
    }
   },
   "outputs": [],
   "source": [
    "class FeeCalculator(metaclass=ABCMeta):\n",
    "    \"\"\"\n",
    "    手数料を計算する抽象基底クラス\n",
    "    \"\"\"\n",
    "    @abstractmethod\n",
    "    def calculate(self, pre_portfolio_state, new_portfolio_state):\n",
    "        pass"
   ]
  },
  {
   "cell_type": "code",
   "execution_count": 38,
   "metadata": {
    "ExecuteTime": {
     "end_time": "2021-05-17T02:24:21.074132Z",
     "start_time": "2021-05-17T02:24:21.036233Z"
    }
   },
   "outputs": [],
   "source": [
    "class FeeCalculatorPerNumber(FeeCalculator):\n",
    "    \"\"\"\n",
    "    取引個数に応じて手数料を計算するFeeCalculator\n",
    "    \"\"\"\n",
    "    def __init__(self, fee_per_number):\n",
    "        self.fee_per_number = fee_per_number\n",
    "    def calculate(self, pre_portfolio_state, new_portfolio_state):\n",
    "        not_key_currency_indices_list = list(range(len(pre_portfolio_state.names)))\n",
    "        not_key_currency_indices_list.remove(pre_portfolio_state.key_currency_index)\n",
    "        \n",
    "        not_key_currency_indices = np.array(not_key_currency_indices_list) \n",
    "        commition_fee = self.fee_per_number*np.abs((new_portfolio_state.numbers[not_key_currency_indices] - pre_portfolio_state.numbers[not_key_currency_indices])).sum()\n",
    "        return commition_fee"
   ]
  },
  {
   "cell_type": "markdown",
   "metadata": {},
   "source": [
    "##  ポートフォリオの遷移クラス  "
   ]
  },
  {
   "cell_type": "markdown",
   "metadata": {},
   "source": [
    "強化学習の環境だけでなく，バックテスト等でも利用できるように汎用的なもの"
   ]
  },
  {
   "cell_type": "code",
   "execution_count": 39,
   "metadata": {
    "ExecuteTime": {
     "end_time": "2021-05-17T02:24:21.264621Z",
     "start_time": "2021-05-17T02:24:21.086100Z"
    }
   },
   "outputs": [],
   "source": [
    "class PortfolioTransformer:\n",
    "    \"\"\"\n",
    "    price_supplierの提供するデータに応じてPortfolioStateを遷移させるクラス\n",
    "    バックテスト・強化学習のどちらでも使えるようにする．\n",
    "    \"\"\"\n",
    "    def __init__(self, \n",
    "                 price_supplier, \n",
    "                 portfolio_restrictor=PortfolioRestrictorIdentity(), \n",
    "                 use_ohlc=\"Close\", \n",
    "                 initial_portfolio_vector=None,\n",
    "                 initial_mean_cost_price_array=None,\n",
    "                 initial_all_assets=None, \n",
    "                 fee_calculator=FeeCalculatorPerNumber(fee_per_number=1e-3)):\n",
    "        \"\"\"\n",
    "        price_supplier: PriceSupplier\n",
    "            価格データを供給するクラス\n",
    "        portfolio_restrictor: PortfolioRestrictor\n",
    "            エージェントが渡すportfolio_vectorを制限するクラス\n",
    "        use_ohlc: str, defalt:'Close'\n",
    "            利用する価格データの指定\n",
    "        initial_portfolio_vector: any, defalt:None\n",
    "            初期ポートフォリオベクトル\n",
    "        fee_calculator: FeeCalculator\n",
    "            手数料を計算するクラス\n",
    "        \"\"\"\n",
    "        self.price_supplier = price_supplier\n",
    "        self.portfolio_restrictor = portfolio_restrictor\n",
    "        self.initial_portfolio_vector = initial_portfolio_vector\n",
    "        self.initial_mean_cost_price_array = initial_mean_cost_price_array\n",
    "        self.initial_all_assets = initial_all_assets\n",
    "        self.fee_calculator = fee_calculator\n",
    "    \n",
    "        # 利用するohlcのいずれか\n",
    "        if use_ohlc not in {\"Open\",\"High\",\"Low\",\"Close\"}:\n",
    "            raise Exception(\"use_ohlc must be in {'Open','High','Low','Close'}\")\n",
    "        \n",
    "        field_name_dict = {\"Open\":\"open_array\",\n",
    "                           \"Close\":\"close_array\",\n",
    "                           \"Low\":\"low_array\",\n",
    "                           \"High\":\"high_array\"\n",
    "                          }\n",
    "            \n",
    "        self.use_ohlc_filed = field_name_dict[use_ohlc]\n",
    "        \n",
    "    def reset(self, start_datetime, window=[0]):\n",
    "        \"\"\"\n",
    "        Parameters\n",
    "        ----------\n",
    "        start_datetime: datetime.datetime \n",
    "            データ供給の開始時刻\n",
    "        window: ndarray\n",
    "            データ供給のウィンドウ\n",
    "            \n",
    "        Returns\n",
    "        -------\n",
    "        PortfolioStat\n",
    "             ポートフォリオ状態\n",
    "        bool\n",
    "            エピソードが終了したかどうか\n",
    "        \"\"\"\n",
    "        #from IPython.core.debugger import Pdb; Pdb().set_trace()\n",
    "        \n",
    "        \n",
    "        initial_data_unit, done = self.price_supplier.reset(start_datetime, window)\n",
    "    \n",
    "        now_price_bool = initial_data_unit.window==0 \n",
    "        now_price_array = getattr(initial_data_unit, self.use_ohlc_filed)[:,now_price_bool].squeeze()\n",
    "    \n",
    "        # 初期パラメータ―のデフォルト値\n",
    "        if self.initial_portfolio_vector is None:\n",
    "            self.initial_portfolio_vector = np.zeros(len(initial_data_unit.names))\n",
    "            self.initial_portfolio_vector[initial_data_unit.key_currency_index] = 1.0\n",
    "            \n",
    "        else:\n",
    "            assert len(initial_data_unit.names) == len(self.initial_portfolio_vector)\n",
    "            if abs(self.initial_portfolio_vector.sum() - 1.0) > 1.e-5:  # 大体1ならOK\n",
    "                raise PortfolioVectorInvalidError(\"initial portfolio vector sum must be 1. This portfolio vector is {}.\\n This sum is {}\".format(self.initial_portfolio_vector,\n",
    "                                                                                                                               self.initial_portfolio_vector.sum()))\n",
    "            \n",
    "        if self.initial_mean_cost_price_array is None:\n",
    "            self.initial_mean_cost_price_array = now_price_array\n",
    "        else:\n",
    "            assert self.initial_mean_cost_price_array.shape[0] == now_price_array.shape[0]\n",
    "            \n",
    "        if self.initial_all_assets is None:\n",
    "            self.initial_all_assets = 1.e6            \n",
    "        \n",
    "        # PortfoliioStateの作成\n",
    "        self.portfolio_state = PortfolioState(names=initial_data_unit.names,\n",
    "                                              key_currency_index=initial_data_unit.key_currency_index,\n",
    "                                              window=initial_data_unit.window,\n",
    "                                              datetime=initial_data_unit.datetime,\n",
    "                                              price_array=getattr(initial_data_unit, self.use_ohlc_filed),\n",
    "                                              volume_array=initial_data_unit.volume_array,\n",
    "                                              now_price_array=now_price_array,\n",
    "                                              portfolio_vector=self.initial_portfolio_vector,\n",
    "                                              mean_cost_price_array=now_price_array,\n",
    "                                              all_assets=self.initial_all_assets\n",
    "                                             )\n",
    "        \n",
    "        \n",
    "        return self.portfolio_state.copy(), done\n",
    "    \n",
    "    def step(self, action):\n",
    "        \"\"\"\n",
    "        Parameters\n",
    "        ----------\n",
    "        action: ndarray\n",
    "            エージェントが渡すポートフォリオベクトル\n",
    "            \n",
    "        Returns\n",
    "        -------\n",
    "        PortfolioStat\n",
    "             ポートフォリオ状態\n",
    "        bool\n",
    "            エピソードが終了したかどうか\n",
    "        \"\"\"\n",
    "        \n",
    "        if not isinstance(action, np.ndarray):\n",
    "            action = np.array(action)\n",
    "        assert (action<0).sum() == 0 and (action>1).sum() == 0\n",
    "        if abs(action.sum() - 1.0) > 1.e-5:  # 大体1ならOK\n",
    "            raise PortfolioVectorInvalidError(\"action sum must be 1. This action is {}.\\n This sum is {}\".format(action, action.sum()))\n",
    "            \n",
    "        #from IPython.core.debugger import Pdb; Pdb().set_trace()\n",
    "        \n",
    "        previous_portfolio_state = self.portfolio_state\n",
    "        supplied_data_unit, done = self.price_supplier.step()\n",
    "        \n",
    "        if len(action)!=len(supplied_data_unit.names) or len(action.shape)!=1:\n",
    "            raise PortfolioVectorInvalidError(\"Action dimmention must be names({})\".format(len(supplied_data_unit.names)))\n",
    "        \n",
    "        restricted_portfolio_vector = self.portfolio_restrictor.restrict(previous_portfolio_state, supplied_data_unit, action)\n",
    "        \n",
    "        # 全資産の変化率を求める\n",
    "        now_price_bool = supplied_data_unit.window==0\n",
    "        now_price_array = getattr(supplied_data_unit, self.use_ohlc_filed)[:,now_price_bool].squeeze()\n",
    "        \n",
    "        price_change_ratio = now_price_array / previous_portfolio_state.now_price_array\n",
    "        \n",
    "        all_assets_change_ratio = np.dot(restricted_portfolio_vector, price_change_ratio)\n",
    "        all_assets = previous_portfolio_state.all_assets * all_assets_change_ratio\n",
    "        \n",
    "        # 平均取得価格を設ける\n",
    "        new_numbers = all_assets*restricted_portfolio_vector/now_price_array\n",
    "        pre_numbers = previous_portfolio_state.numbers\n",
    "        mean_num = pre_numbers*previous_portfolio_state.now_price_array + (new_numbers - pre_numbers) * now_price_array\n",
    "        mean_den = new_numbers\n",
    "        \n",
    "        new_numbers_near_zero_bool = new_numbers < 1  # 取り合えず1以下の場合\n",
    "        mean_num[new_numbers_near_zero_bool] = 1  # 適当に1にしておく\n",
    "        mean_den[new_numbers_near_zero_bool] = 1  # 適当に1にしておく\n",
    "        \n",
    "        mean_cost_price_array = mean_num / mean_den\n",
    "        mean_cost_price_array[new_numbers_near_zero_bool] = now_price_array[new_numbers_near_zero_bool]\n",
    "        \n",
    "        self.portfolio_state = PortfolioState(names=supplied_data_unit.names,\n",
    "                                              key_currency_index=supplied_data_unit.key_currency_index,\n",
    "                                              window=supplied_data_unit.window,\n",
    "                                              datetime=supplied_data_unit.datetime,\n",
    "                                              price_array=getattr(supplied_data_unit, self.use_ohlc_filed),\n",
    "                                              volume_array=supplied_data_unit.volume_array,\n",
    "                                              now_price_array=now_price_array,\n",
    "                                              portfolio_vector=restricted_portfolio_vector,\n",
    "                                              mean_cost_price_array=mean_cost_price_array,\n",
    "                                              all_assets=all_assets\n",
    "                                             )\n",
    "                 \n",
    "        # 手数料の計算と更新\n",
    "        all_fee = self.fee_calculator.calculate(previous_portfolio_state, self.portfolio_state)\n",
    "        self.portfolio_state = self.portfolio_state._replace(all_assets=all_assets-all_fee)   \n",
    "        \n",
    "        return self.portfolio_state.copy(), done\n",
    "        "
   ]
  },
  {
   "cell_type": "code",
   "execution_count": 40,
   "metadata": {
    "ExecuteTime": {
     "end_time": "2021-05-17T02:24:21.946802Z",
     "start_time": "2021-05-17T02:24:21.274596Z"
    }
   },
   "outputs": [
    {
     "name": "stdout",
     "output_type": "stream",
     "text": [
      "PortfolioState( \n",
      "names=['yen', '4755', '9984', '6701', '7203', '7267']\n",
      "key_currency_index=0\n",
      "window=[-3 -2 -1  0  1  2  3]\n",
      "datetime=2020-11-10 09:00:00+09:00\n",
      "price_array=[[1.0000e+00 1.0000e+00 1.0000e+00 1.0000e+00 1.0000e+00 1.0000e+00\n",
      "  1.0000e+00]\n",
      " [1.1200e+03 1.1190e+03 1.1170e+03 1.1280e+03 1.1070e+03 1.1050e+03\n",
      "  1.0620e+03]\n",
      " [7.0690e+03 7.0740e+03 7.0960e+03 7.0720e+03 7.0190e+03 7.0040e+03\n",
      "  6.9880e+03]\n",
      " [5.7600e+03 5.7600e+03 5.7600e+03 5.6800e+03 5.7200e+03 5.7100e+03\n",
      "  5.6900e+03]\n",
      " [7.1750e+03 7.1770e+03 7.1770e+03 7.3420e+03 7.3360e+03 7.3530e+03\n",
      "  7.3280e+03]\n",
      " [2.8400e+03 2.8395e+03 2.8340e+03 2.9595e+03 2.9415e+03 2.9705e+03\n",
      "  2.9310e+03]]\n",
      "volume_array=[[1.0000e+00 1.0000e+00 1.0000e+00 1.0000e+00 1.0000e+00 1.0000e+00\n",
      "  1.0000e+00]\n",
      " [7.1600e+04 9.3300e+04 4.1190e+05 8.7840e+05 5.8380e+05 2.5710e+05\n",
      "  7.9410e+05]\n",
      " [2.3750e+05 3.0980e+05 3.7840e+05 2.5031e+06 8.4220e+05 7.3700e+05\n",
      "  4.2530e+05]\n",
      " [4.8200e+04 1.5600e+04 4.2800e+04 2.6540e+05 7.0900e+04 5.5200e+04\n",
      "  7.5200e+04]\n",
      " [1.3520e+05 1.6710e+05 1.7530e+05 1.3002e+06 4.5750e+05 3.2870e+05\n",
      "  1.7930e+05]\n",
      " [1.4200e+05 1.9780e+05 2.6770e+05 1.0599e+06 4.1260e+05 2.6840e+05\n",
      "  2.4110e+05]]\n",
      "now_price_array=[1.0000e+00 1.1280e+03 7.0720e+03 5.6800e+03 7.3420e+03 2.9595e+03]\n",
      "portfolio_vector=[1. 0. 0. 0. 0. 0.]\n",
      "mean_cost_price_array=[1.0000e+00 1.1280e+03 7.0720e+03 5.6800e+03 7.3420e+03 2.9595e+03]\n",
      "all_assets=1000000.0\n",
      ")\n"
     ]
    }
   ],
   "source": [
    "transformer = PortfolioTransformer(price_supplier=price_supplier,\n",
    "                                   portfolio_restrictor=PortfolioRestrictorIdentity(),\n",
    "                                   use_ohlc=\"Close\",\n",
    "                                   initial_portfolio_vector=None,\n",
    "                                   initial_all_assets=1e6,\n",
    "                                   fee_calculator=FeeCalculatorPerNumber(0.01)\n",
    "                                  )\n",
    "\n",
    "portfolio_state, _ = transformer.reset(start_datetime, window=[-3,-2,-1,0,1,2,3])\n",
    "print(portfolio_state)"
   ]
  },
  {
   "cell_type": "code",
   "execution_count": 41,
   "metadata": {
    "ExecuteTime": {
     "end_time": "2021-05-17T02:24:21.994671Z",
     "start_time": "2021-05-17T02:24:21.958767Z"
    },
    "scrolled": false
   },
   "outputs": [
    {
     "name": "stdout",
     "output_type": "stream",
     "text": [
      "PortfolioState( \n",
      "names=['yen', '4755', '9984', '6701', '7203', '7267']\n",
      "key_currency_index=0\n",
      "window=[-3 -2 -1  0  1  2  3]\n",
      "datetime=2020-11-10 09:05:00+09:00\n",
      "price_array=[[1.0000e+00 1.0000e+00 1.0000e+00 1.0000e+00 1.0000e+00 1.0000e+00\n",
      "  1.0000e+00]\n",
      " [1.1190e+03 1.1170e+03 1.1280e+03 1.1070e+03 1.1050e+03 1.0620e+03\n",
      "  1.0760e+03]\n",
      " [7.0740e+03 7.0960e+03 7.0720e+03 7.0190e+03 7.0040e+03 6.9880e+03\n",
      "  6.9570e+03]\n",
      " [5.7600e+03 5.7600e+03 5.6800e+03 5.7200e+03 5.7100e+03 5.6900e+03\n",
      "  5.6700e+03]\n",
      " [7.1770e+03 7.1770e+03 7.3420e+03 7.3360e+03 7.3530e+03 7.3280e+03\n",
      "  7.3170e+03]\n",
      " [2.8395e+03 2.8340e+03 2.9595e+03 2.9415e+03 2.9705e+03 2.9310e+03\n",
      "  2.9170e+03]]\n",
      "volume_array=[[1.0000e+00 1.0000e+00 1.0000e+00 1.0000e+00 1.0000e+00 1.0000e+00\n",
      "  1.0000e+00]\n",
      " [9.3300e+04 4.1190e+05 8.7840e+05 5.8380e+05 2.5710e+05 7.9410e+05\n",
      "  4.6700e+05]\n",
      " [3.0980e+05 3.7840e+05 2.5031e+06 8.4220e+05 7.3700e+05 4.2530e+05\n",
      "  4.1350e+05]\n",
      " [1.5600e+04 4.2800e+04 2.6540e+05 7.0900e+04 5.5200e+04 7.5200e+04\n",
      "  7.9000e+04]\n",
      " [1.6710e+05 1.7530e+05 1.3002e+06 4.5750e+05 3.2870e+05 1.7930e+05\n",
      "  1.9250e+05]\n",
      " [1.9780e+05 2.6770e+05 1.0599e+06 4.1260e+05 2.6840e+05 2.4110e+05\n",
      "  1.7630e+05]]\n",
      "now_price_array=[1.0000e+00 1.1070e+03 7.0190e+03 5.7200e+03 7.3360e+03 2.9415e+03]\n",
      "portfolio_vector=[0 1 0 0 0 0]\n",
      "mean_cost_price_array=[1.0000e+00 1.1070e+03 7.0190e+03 5.7200e+03 7.3360e+03 2.9415e+03]\n",
      "all_assets=981374.1134751774\n",
      ")\n"
     ]
    }
   ],
   "source": [
    "new_portfolio_vector = [0,1,0,0,0,0]\n",
    "portfolio_state, _ = transformer.step(new_portfolio_vector)\n",
    "print(portfolio_state)"
   ]
  },
  {
   "cell_type": "markdown",
   "metadata": {},
   "source": [
    "高速化できる部分は無い"
   ]
  },
  {
   "cell_type": "markdown",
   "metadata": {},
   "source": [
    "## ポートフォリオの遷移を可視化 "
   ]
  },
  {
   "cell_type": "code",
   "execution_count": 42,
   "metadata": {
    "ExecuteTime": {
     "end_time": "2021-05-17T02:24:23.985347Z",
     "start_time": "2021-05-17T02:24:22.004645Z"
    }
   },
   "outputs": [],
   "source": [
    "start_datetime = jst_timezone.localize(datetime.datetime(2020,11,10,9,0,0))\n",
    "stock_list = [\"4755\",\"9984\",\"6701\",\"7203\",\"7267\"]\n",
    "episode_length = 100\n",
    "\n",
    "price_supplier = StockDBPriceSupplier(stock_db=stock_db,\n",
    "                                     ticker_names=stock_list,\n",
    "                                     episode_length=episode_length,\n",
    "                                     freq_str=\"5T\",\n",
    "                                     interpolate=False\n",
    "                                    )\n",
    "\n",
    "transformer = PortfolioTransformer(price_supplier=price_supplier,\n",
    "                                   portfolio_restrictor=PortfolioRestrictorIdentity(),\n",
    "                                   use_ohlc=\"Close\",\n",
    "                                   initial_portfolio_vector=None,\n",
    "                                   initial_all_assets=1e6,\n",
    "                                   fee_calculator=FeeCalculatorPerNumber(0)\n",
    "                                  )\n",
    "\n",
    "\n",
    "portfolio_state_list = []\n",
    "initial_state, _ = transformer.reset(start_datetime, window=[-1,0,1])\n",
    "portfolio_state_list.append(initial_state.partial(\"names\", \"now_price_array\", \"mean_cost_price_array\", \"portfolio_vector\", \"all_assets\", \"datetime\"))\n",
    "\n",
    "while True:\n",
    "    action = softmax(np.abs(np.random.randn(1+len(stock_list))))\n",
    "    portfolio_state, done = transformer.step(action)\n",
    "    portfolio_state_list.append(portfolio_state.partial(\"names\", \"now_price_array\", \"mean_cost_price_array\", \"portfolio_vector\", \"all_assets\", \"datetime\"))\n",
    "    if done:\n",
    "        break"
   ]
  },
  {
   "cell_type": "code",
   "execution_count": 43,
   "metadata": {
    "ExecuteTime": {
     "end_time": "2021-05-17T02:24:24.033220Z",
     "start_time": "2021-05-17T02:24:23.994324Z"
    }
   },
   "outputs": [],
   "source": [
    "def make_y_limit(y_array, upper_ratio=0.1, lowwer_ratio=0.1):\n",
    "    min_value = np.amin(y_array)\n",
    "    max_value = np.amax(y_array)\n",
    "    diff = max_value - min_value\n",
    "    return min_value-lowwer_ratio*diff, max_value+upper_ratio*diff"
   ]
  },
  {
   "cell_type": "code",
   "execution_count": 44,
   "metadata": {
    "ExecuteTime": {
     "end_time": "2021-05-17T02:24:24.097048Z",
     "start_time": "2021-05-17T02:24:24.047186Z"
    }
   },
   "outputs": [],
   "source": [
    "def make_y_limit_multi(y_arrays, upper_ratio=0.1, lowwer_ratio=0.1):\n",
    "    min_values = []\n",
    "    max_values = []\n",
    "    for y_array in y_arrays:\n",
    "        min_values.append(np.amin(y_array))\n",
    "        max_values.append(np.amax(y_array))\n",
    "        \n",
    "    min_value = min(min_values)\n",
    "    max_value = max(max_values)\n",
    "    diff = max_value - min_value\n",
    "    \n",
    "    return min_value-lowwer_ratio*diff, max_value+upper_ratio*diff"
   ]
  },
  {
   "cell_type": "code",
   "execution_count": 45,
   "metadata": {
    "ExecuteTime": {
     "end_time": "2021-05-17T02:24:24.160894Z",
     "start_time": "2021-05-17T02:24:24.108019Z"
    }
   },
   "outputs": [],
   "source": [
    "def make_ticker_text(ticker_value_array, ticker_names):\n",
    "    div_text = \"\"\n",
    "    text_sum_line = 150\n",
    "    text_sum_count = 0\n",
    "\n",
    "    for i, ticker_name in enumerate(ticker_names):\n",
    "        div_text += ticker_name + \"=\"\n",
    "        text_sum_count += len(ticker_name)\n",
    "        ticke_value_str = str(ticker_value_array[i])\n",
    "        div_text += ticke_value_str\n",
    "        text_sum_count += len(ticke_value_str)\n",
    "\n",
    "        div_text += \", \"\n",
    "        text_sum_count += 2\n",
    "\n",
    "        if text_sum_count > text_sum_line:\n",
    "            div_text += \"\\n\"\n",
    "            text_sum_count = 0\n",
    "            \n",
    "    return div_text"
   ]
  },
  {
   "cell_type": "markdown",
   "metadata": {},
   "source": [
    "ここはメインの開発場所ではない，プロトタイプ版"
   ]
  },
  {
   "cell_type": "code",
   "execution_count": 46,
   "metadata": {
    "ExecuteTime": {
     "end_time": "2021-05-17T02:24:24.507961Z",
     "start_time": "2021-05-17T02:24:24.169857Z"
    }
   },
   "outputs": [],
   "source": [
    "def visualize_portfolio_transform_bokeh(portfolio_state_list, save_path=None, is_save=False, is_show=True, is_jupyter=True):\n",
    "    # テータの取り出し\n",
    "    ticker_names = portfolio_state_list[0].names\n",
    "    colors = d3[\"Category20\"][len(ticker_names)]\n",
    "\n",
    "    all_price_array = np.stack([one_state.now_price_array for one_state in portfolio_state_list], axis=1)\n",
    "    all_portfolio_vector = np.stack([one_state.portfolio_vector for one_state in portfolio_state_list], axis=1)\n",
    "    all_mean_cost_price_array = np.stack([one_state.mean_cost_price_array for one_state in portfolio_state_list], axis=1)\n",
    "    all_assets_array = np.array([one_state.all_assets for one_state in portfolio_state_list])\n",
    "    all_datetime_array = np.array([get_naive_datetime_from_datetime(one_state.datetime) for one_state in portfolio_state_list])\n",
    "    x = np.arange(0, len(portfolio_state_list))\n",
    "\n",
    "\n",
    "    # sorceの作成\n",
    "    portfolio_vector_source = {\"x\":x, \"datetime\":all_datetime_array}\n",
    "    price_source_x = []\n",
    "    price_source_y = []\n",
    "\n",
    "    mean_cost_price_source_x = []\n",
    "    mean_cost_price_source_y = []\n",
    "\n",
    "    for i, ticker_name in enumerate(ticker_names):\n",
    "        portfolio_vector_source[ticker_name] = all_portfolio_vector[i,:]\n",
    "\n",
    "        price_source_x.append(x)\n",
    "        price_source_y.append(all_price_array[i,:]/all_price_array[i,0])\n",
    "\n",
    "        mean_cost_price_source_x.append(x)\n",
    "        mean_cost_price_source_y.append(all_mean_cost_price_array[i,:]/all_mean_cost_price_array[i,0])\n",
    "\n",
    "    # ホバーツールの設定\n",
    "    #tool_tips = [(\"x\", \"@x\")]\n",
    "    tool_tips = [(\"datetime\", \"@datetime{%F %H:%M:%S}\")]\n",
    "    tool_tips.extend([(ticker_name, \"@\"+ticker_name+\"{0.000}\") for ticker_name in ticker_names])\n",
    "\n",
    "    hover_tool = HoverTool(\n",
    "        tooltips=tool_tips,\n",
    "        formatters={'@datetime' : 'datetime'}\n",
    "    )\n",
    "\n",
    "    # 描画\n",
    "\n",
    "    p1_text = Div(text=make_ticker_text(all_price_array[:,0], ticker_names))\n",
    "\n",
    "    p1 = bokeh.plotting.figure(plot_width=1200,plot_height=500,title=\"正規化価格・ポートフォリオ\")\n",
    "    p1.add_tools(hover_tool)\n",
    "\n",
    "    p1.extra_y_ranges = {\"portfolio_vector\": Range1d(start=0, end=3)}\n",
    "    p1.add_layout(LinearAxis(y_range_name=\"portfolio_vector\"), 'right')\n",
    "    p1.vbar_stack(ticker_names, x='x', width=1, color=colors,y_range_name=\"portfolio_vector\", source=portfolio_vector_source, legend_label=ticker_names, alpha=0.8)\n",
    "\n",
    "    p1.multi_line(xs=price_source_x, ys=price_source_y, line_color=colors, line_width=2)\n",
    "    y_min, y_max = make_y_limit_multi(price_source_y, lowwer_ratio=0.1, upper_ratio=0.1)\n",
    "    y_min -= (y_max - y_min) * 0.66  #  ポートフォリオ割合のためのオフセット\n",
    "    p1.y_range = Range1d(start=y_min, end=y_max)\n",
    "\n",
    "    p1.yaxis[0].axis_label = \"正規化価格\"\n",
    "    p1.yaxis[1].axis_label = \"保有割合\"\n",
    "\n",
    "    p1.xaxis.major_label_overrides = {str(one_x) : str(all_datetime_array[i]) for i, one_x in enumerate(x)}\n",
    "\n",
    "    p2_text = Div(text=make_ticker_text(all_mean_cost_price_array[:,0], ticker_names))\n",
    "\n",
    "    p2 = bokeh.plotting.figure(plot_width=1200,plot_height=300,title=\"正規化平均取得価格・全資産\")\n",
    "    p2.multi_line(xs=mean_cost_price_source_x, ys=mean_cost_price_source_y, line_color=colors, line_width=2)\n",
    "    y_min, y_max = make_y_limit_multi(mean_cost_price_source_y, lowwer_ratio=0.1, upper_ratio=0.1)\n",
    "    p2.y_range = Range1d(start=y_min, end=y_max)\n",
    "\n",
    "    y_max, y_min = make_y_limit(all_assets_array, upper_ratio=0.1, lowwer_ratio=0.1)\n",
    "    p2.extra_y_ranges = {\"all_assets\": Range1d(start=y_max, end=y_min)}\n",
    "    p2.add_layout(LinearAxis(y_range_name=\"all_assets\"), 'right')\n",
    "    p2.line(x, all_assets_array, color=\"red\", legend_label=\"all_assets\", line_width=4, y_range_name=\"all_assets\")\n",
    "\n",
    "    # 疑似的なレジェンドをつける\n",
    "    for ticker_name, color in zip(ticker_names, colors):\n",
    "        p2.line([], [], legend_label=ticker_name, color=color, line_width=2)\n",
    "\n",
    "    p2.yaxis[0].axis_label = \"正規化平均取得価格\"\n",
    "    p2.yaxis[1].axis_label = \"全資産 [円]\"\n",
    "\n",
    "    p2.xaxis.major_label_overrides = {str(one_x) : str(all_datetime_array[i]) for i, one_x in enumerate(x)}\n",
    "\n",
    "    created_figure = bokeh.layouts.column(p1_text, p1, p2_text, p2)\n",
    "\n",
    "    if is_save:\n",
    "            if save_path.suffix == \".png\":\n",
    "                bokeh.io.export_png(created_figure, filename=save_path)\n",
    "            elif save_path.suffix == \".html\":\n",
    "                output_file(save_path)\n",
    "                bokeh.io.save(created_figure, filename=save_path, title=\"trading process\")    \n",
    "            else:\n",
    "                raise Exception(\"The suffix of save_path is must be '.png' or '.html'.\")\n",
    "    if is_show:\n",
    "        try:\n",
    "            reset_output()\n",
    "            if is_jupyter:\n",
    "                output_notebook()\n",
    "            show(created_figure)\n",
    "        except:\n",
    "            if is_jupyter:\n",
    "                output_notebook()\n",
    "            show(created_figure)\n",
    "        \n",
    "    if not is_save and not is_show:\n",
    "        raise Exception(\"is_save and is_show is False. This function do nothing\")\n",
    "        "
   ]
  },
  {
   "cell_type": "code",
   "execution_count": 47,
   "metadata": {
    "ExecuteTime": {
     "end_time": "2021-05-17T02:24:26.388924Z",
     "start_time": "2021-05-17T02:24:24.535877Z"
    }
   },
   "outputs": [
    {
     "data": {
      "text/html": [
       "\n",
       "    <div class=\"bk-root\">\n",
       "        <a href=\"https://bokeh.org\" target=\"_blank\" class=\"bk-logo bk-logo-small bk-logo-notebook\"></a>\n",
       "        <span id=\"1403\">Loading BokehJS ...</span>\n",
       "    </div>"
      ]
     },
     "metadata": {},
     "output_type": "display_data"
    },
    {
     "data": {
      "application/javascript": [
       "\n",
       "(function(root) {\n",
       "  function now() {\n",
       "    return new Date();\n",
       "  }\n",
       "\n",
       "  var force = true;\n",
       "\n",
       "  if (typeof root._bokeh_onload_callbacks === \"undefined\" || force === true) {\n",
       "    root._bokeh_onload_callbacks = [];\n",
       "    root._bokeh_is_loading = undefined;\n",
       "  }\n",
       "\n",
       "  var JS_MIME_TYPE = 'application/javascript';\n",
       "  var HTML_MIME_TYPE = 'text/html';\n",
       "  var EXEC_MIME_TYPE = 'application/vnd.bokehjs_exec.v0+json';\n",
       "  var CLASS_NAME = 'output_bokeh rendered_html';\n",
       "\n",
       "  /**\n",
       "   * Render data to the DOM node\n",
       "   */\n",
       "  function render(props, node) {\n",
       "    var script = document.createElement(\"script\");\n",
       "    node.appendChild(script);\n",
       "  }\n",
       "\n",
       "  /**\n",
       "   * Handle when an output is cleared or removed\n",
       "   */\n",
       "  function handleClearOutput(event, handle) {\n",
       "    var cell = handle.cell;\n",
       "\n",
       "    var id = cell.output_area._bokeh_element_id;\n",
       "    var server_id = cell.output_area._bokeh_server_id;\n",
       "    // Clean up Bokeh references\n",
       "    if (id != null && id in Bokeh.index) {\n",
       "      Bokeh.index[id].model.document.clear();\n",
       "      delete Bokeh.index[id];\n",
       "    }\n",
       "\n",
       "    if (server_id !== undefined) {\n",
       "      // Clean up Bokeh references\n",
       "      var cmd = \"from bokeh.io.state import curstate; print(curstate().uuid_to_server['\" + server_id + \"'].get_sessions()[0].document.roots[0]._id)\";\n",
       "      cell.notebook.kernel.execute(cmd, {\n",
       "        iopub: {\n",
       "          output: function(msg) {\n",
       "            var id = msg.content.text.trim();\n",
       "            if (id in Bokeh.index) {\n",
       "              Bokeh.index[id].model.document.clear();\n",
       "              delete Bokeh.index[id];\n",
       "            }\n",
       "          }\n",
       "        }\n",
       "      });\n",
       "      // Destroy server and session\n",
       "      var cmd = \"import bokeh.io.notebook as ion; ion.destroy_server('\" + server_id + \"')\";\n",
       "      cell.notebook.kernel.execute(cmd);\n",
       "    }\n",
       "  }\n",
       "\n",
       "  /**\n",
       "   * Handle when a new output is added\n",
       "   */\n",
       "  function handleAddOutput(event, handle) {\n",
       "    var output_area = handle.output_area;\n",
       "    var output = handle.output;\n",
       "\n",
       "    // limit handleAddOutput to display_data with EXEC_MIME_TYPE content only\n",
       "    if ((output.output_type != \"display_data\") || (!output.data.hasOwnProperty(EXEC_MIME_TYPE))) {\n",
       "      return\n",
       "    }\n",
       "\n",
       "    var toinsert = output_area.element.find(\".\" + CLASS_NAME.split(' ')[0]);\n",
       "\n",
       "    if (output.metadata[EXEC_MIME_TYPE][\"id\"] !== undefined) {\n",
       "      toinsert[toinsert.length - 1].firstChild.textContent = output.data[JS_MIME_TYPE];\n",
       "      // store reference to embed id on output_area\n",
       "      output_area._bokeh_element_id = output.metadata[EXEC_MIME_TYPE][\"id\"];\n",
       "    }\n",
       "    if (output.metadata[EXEC_MIME_TYPE][\"server_id\"] !== undefined) {\n",
       "      var bk_div = document.createElement(\"div\");\n",
       "      bk_div.innerHTML = output.data[HTML_MIME_TYPE];\n",
       "      var script_attrs = bk_div.children[0].attributes;\n",
       "      for (var i = 0; i < script_attrs.length; i++) {\n",
       "        toinsert[toinsert.length - 1].firstChild.setAttribute(script_attrs[i].name, script_attrs[i].value);\n",
       "        toinsert[toinsert.length - 1].firstChild.textContent = bk_div.children[0].textContent\n",
       "      }\n",
       "      // store reference to server id on output_area\n",
       "      output_area._bokeh_server_id = output.metadata[EXEC_MIME_TYPE][\"server_id\"];\n",
       "    }\n",
       "  }\n",
       "\n",
       "  function register_renderer(events, OutputArea) {\n",
       "\n",
       "    function append_mime(data, metadata, element) {\n",
       "      // create a DOM node to render to\n",
       "      var toinsert = this.create_output_subarea(\n",
       "        metadata,\n",
       "        CLASS_NAME,\n",
       "        EXEC_MIME_TYPE\n",
       "      );\n",
       "      this.keyboard_manager.register_events(toinsert);\n",
       "      // Render to node\n",
       "      var props = {data: data, metadata: metadata[EXEC_MIME_TYPE]};\n",
       "      render(props, toinsert[toinsert.length - 1]);\n",
       "      element.append(toinsert);\n",
       "      return toinsert\n",
       "    }\n",
       "\n",
       "    /* Handle when an output is cleared or removed */\n",
       "    events.on('clear_output.CodeCell', handleClearOutput);\n",
       "    events.on('delete.Cell', handleClearOutput);\n",
       "\n",
       "    /* Handle when a new output is added */\n",
       "    events.on('output_added.OutputArea', handleAddOutput);\n",
       "\n",
       "    /**\n",
       "     * Register the mime type and append_mime function with output_area\n",
       "     */\n",
       "    OutputArea.prototype.register_mime_type(EXEC_MIME_TYPE, append_mime, {\n",
       "      /* Is output safe? */\n",
       "      safe: true,\n",
       "      /* Index of renderer in `output_area.display_order` */\n",
       "      index: 0\n",
       "    });\n",
       "  }\n",
       "\n",
       "  // register the mime type if in Jupyter Notebook environment and previously unregistered\n",
       "  if (root.Jupyter !== undefined) {\n",
       "    var events = require('base/js/events');\n",
       "    var OutputArea = require('notebook/js/outputarea').OutputArea;\n",
       "\n",
       "    if (OutputArea.prototype.mime_types().indexOf(EXEC_MIME_TYPE) == -1) {\n",
       "      register_renderer(events, OutputArea);\n",
       "    }\n",
       "  }\n",
       "\n",
       "  \n",
       "  if (typeof (root._bokeh_timeout) === \"undefined\" || force === true) {\n",
       "    root._bokeh_timeout = Date.now() + 5000;\n",
       "    root._bokeh_failed_load = false;\n",
       "  }\n",
       "\n",
       "  var NB_LOAD_WARNING = {'data': {'text/html':\n",
       "     \"<div style='background-color: #fdd'>\\n\"+\n",
       "     \"<p>\\n\"+\n",
       "     \"BokehJS does not appear to have successfully loaded. If loading BokehJS from CDN, this \\n\"+\n",
       "     \"may be due to a slow or bad network connection. Possible fixes:\\n\"+\n",
       "     \"</p>\\n\"+\n",
       "     \"<ul>\\n\"+\n",
       "     \"<li>re-rerun `output_notebook()` to attempt to load from CDN again, or</li>\\n\"+\n",
       "     \"<li>use INLINE resources instead, as so:</li>\\n\"+\n",
       "     \"</ul>\\n\"+\n",
       "     \"<code>\\n\"+\n",
       "     \"from bokeh.resources import INLINE\\n\"+\n",
       "     \"output_notebook(resources=INLINE)\\n\"+\n",
       "     \"</code>\\n\"+\n",
       "     \"</div>\"}};\n",
       "\n",
       "  function display_loaded() {\n",
       "    var el = document.getElementById(\"1403\");\n",
       "    if (el != null) {\n",
       "      el.textContent = \"BokehJS is loading...\";\n",
       "    }\n",
       "    if (root.Bokeh !== undefined) {\n",
       "      if (el != null) {\n",
       "        el.textContent = \"BokehJS \" + root.Bokeh.version + \" successfully loaded.\";\n",
       "      }\n",
       "    } else if (Date.now() < root._bokeh_timeout) {\n",
       "      setTimeout(display_loaded, 100)\n",
       "    }\n",
       "  }\n",
       "\n",
       "\n",
       "  function run_callbacks() {\n",
       "    try {\n",
       "      root._bokeh_onload_callbacks.forEach(function(callback) {\n",
       "        if (callback != null)\n",
       "          callback();\n",
       "      });\n",
       "    } finally {\n",
       "      delete root._bokeh_onload_callbacks\n",
       "    }\n",
       "    console.debug(\"Bokeh: all callbacks have finished\");\n",
       "  }\n",
       "\n",
       "  function load_libs(css_urls, js_urls, callback) {\n",
       "    if (css_urls == null) css_urls = [];\n",
       "    if (js_urls == null) js_urls = [];\n",
       "\n",
       "    root._bokeh_onload_callbacks.push(callback);\n",
       "    if (root._bokeh_is_loading > 0) {\n",
       "      console.debug(\"Bokeh: BokehJS is being loaded, scheduling callback at\", now());\n",
       "      return null;\n",
       "    }\n",
       "    if (js_urls == null || js_urls.length === 0) {\n",
       "      run_callbacks();\n",
       "      return null;\n",
       "    }\n",
       "    console.debug(\"Bokeh: BokehJS not loaded, scheduling load and callback at\", now());\n",
       "    root._bokeh_is_loading = css_urls.length + js_urls.length;\n",
       "\n",
       "    function on_load() {\n",
       "      root._bokeh_is_loading--;\n",
       "      if (root._bokeh_is_loading === 0) {\n",
       "        console.debug(\"Bokeh: all BokehJS libraries/stylesheets loaded\");\n",
       "        run_callbacks()\n",
       "      }\n",
       "    }\n",
       "\n",
       "    function on_error() {\n",
       "      console.error(\"failed to load \" + url);\n",
       "    }\n",
       "\n",
       "    for (var i = 0; i < css_urls.length; i++) {\n",
       "      var url = css_urls[i];\n",
       "      const element = document.createElement(\"link\");\n",
       "      element.onload = on_load;\n",
       "      element.onerror = on_error;\n",
       "      element.rel = \"stylesheet\";\n",
       "      element.type = \"text/css\";\n",
       "      element.href = url;\n",
       "      console.debug(\"Bokeh: injecting link tag for BokehJS stylesheet: \", url);\n",
       "      document.body.appendChild(element);\n",
       "    }\n",
       "\n",
       "    const hashes = {\"https://cdn.bokeh.org/bokeh/release/bokeh-2.2.3.min.js\": \"T2yuo9Oe71Cz/I4X9Ac5+gpEa5a8PpJCDlqKYO0CfAuEszu1JrXLl8YugMqYe3sM\", \"https://cdn.bokeh.org/bokeh/release/bokeh-widgets-2.2.3.min.js\": \"98GDGJ0kOMCUMUePhksaQ/GYgB3+NH9h996V88sh3aOiUNX3N+fLXAtry6xctSZ6\", \"https://cdn.bokeh.org/bokeh/release/bokeh-tables-2.2.3.min.js\": \"89bArO+nlbP3sgakeHjCo1JYxYR5wufVgA3IbUvDY+K7w4zyxJqssu7wVnfeKCq8\"};\n",
       "\n",
       "    for (var i = 0; i < js_urls.length; i++) {\n",
       "      var url = js_urls[i];\n",
       "      var element = document.createElement('script');\n",
       "      element.onload = on_load;\n",
       "      element.onerror = on_error;\n",
       "      element.async = false;\n",
       "      element.src = url;\n",
       "      if (url in hashes) {\n",
       "        element.crossOrigin = \"anonymous\";\n",
       "        element.integrity = \"sha384-\" + hashes[url];\n",
       "      }\n",
       "      console.debug(\"Bokeh: injecting script tag for BokehJS library: \", url);\n",
       "      document.head.appendChild(element);\n",
       "    }\n",
       "  };\n",
       "\n",
       "  function inject_raw_css(css) {\n",
       "    const element = document.createElement(\"style\");\n",
       "    element.appendChild(document.createTextNode(css));\n",
       "    document.body.appendChild(element);\n",
       "  }\n",
       "\n",
       "  \n",
       "  var js_urls = [\"https://cdn.bokeh.org/bokeh/release/bokeh-2.2.3.min.js\", \"https://cdn.bokeh.org/bokeh/release/bokeh-widgets-2.2.3.min.js\", \"https://cdn.bokeh.org/bokeh/release/bokeh-tables-2.2.3.min.js\"];\n",
       "  var css_urls = [];\n",
       "  \n",
       "\n",
       "  var inline_js = [\n",
       "    function(Bokeh) {\n",
       "      Bokeh.set_log_level(\"info\");\n",
       "    },\n",
       "    function(Bokeh) {\n",
       "    \n",
       "    \n",
       "    }\n",
       "  ];\n",
       "\n",
       "  function run_inline_js() {\n",
       "    \n",
       "    if (root.Bokeh !== undefined || force === true) {\n",
       "      \n",
       "    for (var i = 0; i < inline_js.length; i++) {\n",
       "      inline_js[i].call(root, root.Bokeh);\n",
       "    }\n",
       "    if (force === true) {\n",
       "        display_loaded();\n",
       "      }} else if (Date.now() < root._bokeh_timeout) {\n",
       "      setTimeout(run_inline_js, 100);\n",
       "    } else if (!root._bokeh_failed_load) {\n",
       "      console.log(\"Bokeh: BokehJS failed to load within specified timeout.\");\n",
       "      root._bokeh_failed_load = true;\n",
       "    } else if (force !== true) {\n",
       "      var cell = $(document.getElementById(\"1403\")).parents('.cell').data().cell;\n",
       "      cell.output_area.append_execute_result(NB_LOAD_WARNING)\n",
       "    }\n",
       "\n",
       "  }\n",
       "\n",
       "  if (root._bokeh_is_loading === 0) {\n",
       "    console.debug(\"Bokeh: BokehJS loaded, going straight to plotting\");\n",
       "    run_inline_js();\n",
       "  } else {\n",
       "    load_libs(css_urls, js_urls, function() {\n",
       "      console.debug(\"Bokeh: BokehJS plotting callback run at\", now());\n",
       "      run_inline_js();\n",
       "    });\n",
       "  }\n",
       "}(window));"
      ],
      "application/vnd.bokehjs_load.v0+json": "\n(function(root) {\n  function now() {\n    return new Date();\n  }\n\n  var force = true;\n\n  if (typeof root._bokeh_onload_callbacks === \"undefined\" || force === true) {\n    root._bokeh_onload_callbacks = [];\n    root._bokeh_is_loading = undefined;\n  }\n\n  \n\n  \n  if (typeof (root._bokeh_timeout) === \"undefined\" || force === true) {\n    root._bokeh_timeout = Date.now() + 5000;\n    root._bokeh_failed_load = false;\n  }\n\n  var NB_LOAD_WARNING = {'data': {'text/html':\n     \"<div style='background-color: #fdd'>\\n\"+\n     \"<p>\\n\"+\n     \"BokehJS does not appear to have successfully loaded. If loading BokehJS from CDN, this \\n\"+\n     \"may be due to a slow or bad network connection. Possible fixes:\\n\"+\n     \"</p>\\n\"+\n     \"<ul>\\n\"+\n     \"<li>re-rerun `output_notebook()` to attempt to load from CDN again, or</li>\\n\"+\n     \"<li>use INLINE resources instead, as so:</li>\\n\"+\n     \"</ul>\\n\"+\n     \"<code>\\n\"+\n     \"from bokeh.resources import INLINE\\n\"+\n     \"output_notebook(resources=INLINE)\\n\"+\n     \"</code>\\n\"+\n     \"</div>\"}};\n\n  function display_loaded() {\n    var el = document.getElementById(\"1403\");\n    if (el != null) {\n      el.textContent = \"BokehJS is loading...\";\n    }\n    if (root.Bokeh !== undefined) {\n      if (el != null) {\n        el.textContent = \"BokehJS \" + root.Bokeh.version + \" successfully loaded.\";\n      }\n    } else if (Date.now() < root._bokeh_timeout) {\n      setTimeout(display_loaded, 100)\n    }\n  }\n\n\n  function run_callbacks() {\n    try {\n      root._bokeh_onload_callbacks.forEach(function(callback) {\n        if (callback != null)\n          callback();\n      });\n    } finally {\n      delete root._bokeh_onload_callbacks\n    }\n    console.debug(\"Bokeh: all callbacks have finished\");\n  }\n\n  function load_libs(css_urls, js_urls, callback) {\n    if (css_urls == null) css_urls = [];\n    if (js_urls == null) js_urls = [];\n\n    root._bokeh_onload_callbacks.push(callback);\n    if (root._bokeh_is_loading > 0) {\n      console.debug(\"Bokeh: BokehJS is being loaded, scheduling callback at\", now());\n      return null;\n    }\n    if (js_urls == null || js_urls.length === 0) {\n      run_callbacks();\n      return null;\n    }\n    console.debug(\"Bokeh: BokehJS not loaded, scheduling load and callback at\", now());\n    root._bokeh_is_loading = css_urls.length + js_urls.length;\n\n    function on_load() {\n      root._bokeh_is_loading--;\n      if (root._bokeh_is_loading === 0) {\n        console.debug(\"Bokeh: all BokehJS libraries/stylesheets loaded\");\n        run_callbacks()\n      }\n    }\n\n    function on_error() {\n      console.error(\"failed to load \" + url);\n    }\n\n    for (var i = 0; i < css_urls.length; i++) {\n      var url = css_urls[i];\n      const element = document.createElement(\"link\");\n      element.onload = on_load;\n      element.onerror = on_error;\n      element.rel = \"stylesheet\";\n      element.type = \"text/css\";\n      element.href = url;\n      console.debug(\"Bokeh: injecting link tag for BokehJS stylesheet: \", url);\n      document.body.appendChild(element);\n    }\n\n    const hashes = {\"https://cdn.bokeh.org/bokeh/release/bokeh-2.2.3.min.js\": \"T2yuo9Oe71Cz/I4X9Ac5+gpEa5a8PpJCDlqKYO0CfAuEszu1JrXLl8YugMqYe3sM\", \"https://cdn.bokeh.org/bokeh/release/bokeh-widgets-2.2.3.min.js\": \"98GDGJ0kOMCUMUePhksaQ/GYgB3+NH9h996V88sh3aOiUNX3N+fLXAtry6xctSZ6\", \"https://cdn.bokeh.org/bokeh/release/bokeh-tables-2.2.3.min.js\": \"89bArO+nlbP3sgakeHjCo1JYxYR5wufVgA3IbUvDY+K7w4zyxJqssu7wVnfeKCq8\"};\n\n    for (var i = 0; i < js_urls.length; i++) {\n      var url = js_urls[i];\n      var element = document.createElement('script');\n      element.onload = on_load;\n      element.onerror = on_error;\n      element.async = false;\n      element.src = url;\n      if (url in hashes) {\n        element.crossOrigin = \"anonymous\";\n        element.integrity = \"sha384-\" + hashes[url];\n      }\n      console.debug(\"Bokeh: injecting script tag for BokehJS library: \", url);\n      document.head.appendChild(element);\n    }\n  };\n\n  function inject_raw_css(css) {\n    const element = document.createElement(\"style\");\n    element.appendChild(document.createTextNode(css));\n    document.body.appendChild(element);\n  }\n\n  \n  var js_urls = [\"https://cdn.bokeh.org/bokeh/release/bokeh-2.2.3.min.js\", \"https://cdn.bokeh.org/bokeh/release/bokeh-widgets-2.2.3.min.js\", \"https://cdn.bokeh.org/bokeh/release/bokeh-tables-2.2.3.min.js\"];\n  var css_urls = [];\n  \n\n  var inline_js = [\n    function(Bokeh) {\n      Bokeh.set_log_level(\"info\");\n    },\n    function(Bokeh) {\n    \n    \n    }\n  ];\n\n  function run_inline_js() {\n    \n    if (root.Bokeh !== undefined || force === true) {\n      \n    for (var i = 0; i < inline_js.length; i++) {\n      inline_js[i].call(root, root.Bokeh);\n    }\n    if (force === true) {\n        display_loaded();\n      }} else if (Date.now() < root._bokeh_timeout) {\n      setTimeout(run_inline_js, 100);\n    } else if (!root._bokeh_failed_load) {\n      console.log(\"Bokeh: BokehJS failed to load within specified timeout.\");\n      root._bokeh_failed_load = true;\n    } else if (force !== true) {\n      var cell = $(document.getElementById(\"1403\")).parents('.cell').data().cell;\n      cell.output_area.append_execute_result(NB_LOAD_WARNING)\n    }\n\n  }\n\n  if (root._bokeh_is_loading === 0) {\n    console.debug(\"Bokeh: BokehJS loaded, going straight to plotting\");\n    run_inline_js();\n  } else {\n    load_libs(css_urls, js_urls, function() {\n      console.debug(\"Bokeh: BokehJS plotting callback run at\", now());\n      run_inline_js();\n    });\n  }\n}(window));"
     },
     "metadata": {},
     "output_type": "display_data"
    },
    {
     "data": {
      "text/html": [
       "\n",
       "\n",
       "\n",
       "\n",
       "\n",
       "\n",
       "  <div class=\"bk-root\" id=\"03398ffa-a464-41c2-84d8-077d6744de24\" data-root-id=\"1402\"></div>\n"
      ]
     },
     "metadata": {},
     "output_type": "display_data"
    },
    {
     "data": {
      "application/javascript": [
       "(function(root) {\n",
       "  function embed_document(root) {\n",
       "    \n",
       "  var docs_json = {\"b63af13e-f2b3-486e-ae1c-7c104935b70d\":{\"roots\":{\"references\":[{\"attributes\":{\"children\":[{\"id\":\"1003\"},{\"id\":\"1004\"},{\"id\":\"1191\"},{\"id\":\"1192\"}]},\"id\":\"1402\",\"type\":\"Column\"},{\"attributes\":{\"text\":\"\\u6b63\\u898f\\u5316\\u4fa1\\u683c\\u30fb\\u30dd\\u30fc\\u30c8\\u30d5\\u30a9\\u30ea\\u30aa\"},\"id\":\"1005\",\"type\":\"Title\"},{\"attributes\":{},\"id\":\"1024\",\"type\":\"WheelZoomTool\"},{\"attributes\":{\"bottom\":{\"expr\":{\"id\":\"1050\"}},\"fill_alpha\":{\"value\":0.8},\"fill_color\":{\"value\":\"#98df8a\"},\"line_alpha\":{\"value\":0.8},\"line_color\":{\"value\":\"#98df8a\"},\"top\":{\"expr\":{\"id\":\"1051\"}},\"width\":{\"value\":1},\"x\":{\"field\":\"x\"}},\"id\":\"1160\",\"type\":\"VBar\"},{\"attributes\":{\"axis_label\":\"\\u5168\\u8cc7\\u7523 [\\u5186]\",\"formatter\":{\"id\":\"1240\"},\"ticker\":{\"id\":\"1239\"},\"y_range_name\":\"all_assets\"},\"id\":\"1232\",\"type\":\"LinearAxis\"},{\"attributes\":{\"bottom\":{\"expr\":{\"id\":\"1040\"}},\"fill_alpha\":{\"value\":0.1},\"fill_color\":{\"value\":\"#1f77b4\"},\"line_alpha\":{\"value\":0.1},\"line_color\":{\"value\":\"#1f77b4\"},\"top\":{\"expr\":{\"id\":\"1041\"}},\"width\":{\"value\":1},\"x\":{\"field\":\"x\"}},\"id\":\"1055\",\"type\":\"VBar\"},{\"attributes\":{\"label\":{\"value\":\"all_assets\"},\"renderers\":[{\"id\":\"1236\"}]},\"id\":\"1251\",\"type\":\"LegendItem\"},{\"attributes\":{\"data\":{\"x\":[],\"y\":[]},\"selected\":{\"id\":\"1269\"},\"selection_policy\":{\"id\":\"1270\"}},\"id\":\"1252\",\"type\":\"ColumnDataSource\"},{\"attributes\":{\"line_alpha\":0.1,\"line_color\":\"#aec7e8\",\"line_width\":2,\"x\":{\"field\":\"x\"},\"y\":{\"field\":\"y\"}},\"id\":\"1274\",\"type\":\"Line\"},{\"attributes\":{},\"id\":\"1131\",\"type\":\"UnionRenderers\"},{\"attributes\":{\"below\":[{\"id\":\"1015\"}],\"center\":[{\"id\":\"1018\"},{\"id\":\"1022\"},{\"id\":\"1068\"}],\"extra_y_ranges\":{\"portfolio_vector\":{\"id\":\"1038\"}},\"left\":[{\"id\":\"1019\"}],\"plot_height\":500,\"plot_width\":1200,\"renderers\":[{\"id\":\"1056\"},{\"id\":\"1074\"},{\"id\":\"1093\"},{\"id\":\"1114\"},{\"id\":\"1137\"},{\"id\":\"1162\"},{\"id\":\"1188\"}],\"right\":[{\"id\":\"1039\"}],\"title\":{\"id\":\"1005\"},\"toolbar\":{\"id\":\"1030\"},\"x_range\":{\"id\":\"1007\"},\"x_scale\":{\"id\":\"1011\"},\"y_range\":{\"id\":\"1190\"},\"y_scale\":{\"id\":\"1013\"}},\"id\":\"1004\",\"subtype\":\"Figure\",\"type\":\"Plot\"},{\"attributes\":{\"line_alpha\":0.1,\"line_color\":\"#98df8a\",\"line_width\":2,\"x\":{\"field\":\"x\"},\"y\":{\"field\":\"y\"}},\"id\":\"1374\",\"type\":\"Line\"},{\"attributes\":{\"label\":{\"value\":\"7267\"},\"renderers\":[{\"id\":\"1162\"}]},\"id\":\"1184\",\"type\":\"LegendItem\"},{\"attributes\":{\"source\":{\"id\":\"1272\"}},\"id\":\"1276\",\"type\":\"CDSView\"},{\"attributes\":{\"active_drag\":\"auto\",\"active_inspect\":\"auto\",\"active_multi\":null,\"active_scroll\":\"auto\",\"active_tap\":\"auto\",\"tools\":[{\"id\":\"1211\"},{\"id\":\"1212\"},{\"id\":\"1213\"},{\"id\":\"1214\"},{\"id\":\"1215\"},{\"id\":\"1216\"}]},\"id\":\"1218\",\"type\":\"Toolbar\"},{\"attributes\":{\"bottom\":{\"expr\":{\"id\":\"1042\"}},\"fill_alpha\":{\"value\":0.1},\"fill_color\":{\"value\":\"#aec7e8\"},\"line_alpha\":{\"value\":0.1},\"line_color\":{\"value\":\"#aec7e8\"},\"top\":{\"expr\":{\"id\":\"1043\"}},\"width\":{\"value\":1},\"x\":{\"field\":\"x\"}},\"id\":\"1073\",\"type\":\"VBar\"},{\"attributes\":{},\"id\":\"1023\",\"type\":\"PanTool\"},{\"attributes\":{},\"id\":\"1027\",\"type\":\"ResetTool\"},{\"attributes\":{},\"id\":\"1215\",\"type\":\"ResetTool\"},{\"attributes\":{\"end\":1.023567818914545,\"start\":0.8444046841700451},\"id\":\"1190\",\"type\":\"Range1d\"},{\"attributes\":{},\"id\":\"1212\",\"type\":\"WheelZoomTool\"},{\"attributes\":{\"data_source\":{\"id\":\"1110\"},\"glyph\":{\"id\":\"1112\"},\"hover_glyph\":null,\"muted_glyph\":null,\"name\":\"6701\",\"nonselection_glyph\":{\"id\":\"1113\"},\"selection_glyph\":null,\"view\":{\"id\":\"1115\"},\"y_range_name\":\"portfolio_vector\"},\"id\":\"1114\",\"type\":\"GlyphRenderer\"},{\"attributes\":{\"bottom\":{\"expr\":{\"id\":\"1050\"}},\"fill_alpha\":{\"value\":0.1},\"fill_color\":{\"value\":\"#98df8a\"},\"line_alpha\":{\"value\":0.1},\"line_color\":{\"value\":\"#98df8a\"},\"top\":{\"expr\":{\"id\":\"1051\"}},\"width\":{\"value\":1},\"x\":{\"field\":\"x\"}},\"id\":\"1161\",\"type\":\"VBar\"},{\"attributes\":{\"overlay\":{\"id\":\"1217\"}},\"id\":\"1213\",\"type\":\"BoxZoomTool\"},{\"attributes\":{\"items\":[{\"id\":\"1251\"},{\"id\":\"1271\"},{\"id\":\"1293\"},{\"id\":\"1317\"},{\"id\":\"1343\"},{\"id\":\"1371\"},{\"id\":\"1401\"}]},\"id\":\"1250\",\"type\":\"Legend\"},{\"attributes\":{\"label\":{\"value\":\"6701\"},\"renderers\":[{\"id\":\"1114\"}]},\"id\":\"1132\",\"type\":\"LegendItem\"},{\"attributes\":{},\"id\":\"1291\",\"type\":\"Selection\"},{\"attributes\":{},\"id\":\"1059\",\"type\":\"BasicTicker\"},{\"attributes\":{},\"id\":\"1270\",\"type\":\"UnionRenderers\"},{\"attributes\":{},\"id\":\"1020\",\"type\":\"BasicTicker\"},{\"attributes\":{\"line_color\":\"#1f77b4\",\"line_width\":2,\"x\":{\"field\":\"x\"},\"y\":{\"field\":\"y\"}},\"id\":\"1253\",\"type\":\"Line\"},{\"attributes\":{\"data_source\":{\"id\":\"1272\"},\"glyph\":{\"id\":\"1273\"},\"hover_glyph\":null,\"muted_glyph\":null,\"nonselection_glyph\":{\"id\":\"1274\"},\"selection_glyph\":null,\"view\":{\"id\":\"1276\"}},\"id\":\"1275\",\"type\":\"GlyphRenderer\"},{\"attributes\":{\"source\":{\"id\":\"1070\"}},\"id\":\"1075\",\"type\":\"CDSView\"},{\"attributes\":{\"fields\":[\"yen\",\"4755\",\"9984\"]},\"id\":\"1046\",\"type\":\"Stack\"},{\"attributes\":{},\"id\":\"1292\",\"type\":\"UnionRenderers\"},{\"attributes\":{\"data\":{\"4755\":{\"__ndarray__\":\"AAAAAAAAAAATCToe+3LhP1Bns4tvKsM/p/l4tB4AwT/904vN/dXPP/jSKe2jlrk/0CMgCoBfxT9MZECfmzOzP+XESgb/n60/V8GiIjoD2T+jVdQt9tfXPzVojNuwDMg/2970V0xcsD/AM1XNco3MP5/igwFgMNM/xnO/ktl/vT+lsiOGk6+zP74506KEC8I/cXW7dDT6uz/uR2wACSTJPwrmKsyp4ac/MSc3esKnvD8JKny8zpu/P8xrIl8flNo/0nn7vJOppz/DCC6FJhW2P4Nj6fNNEMc/2t9+cNS9xj91lr6jnbjSP1u0/jeOKcU/vusSKFWM4z8GXuCK3RjeP0vKdKgTYrk/tU/21Z/fxj9f2Akk1/zFP2NmgX9op8c/0BubbiwM4z+URYppMsW4P5+GORroO7U/f2TI3PmUuD+LvCVgAua9P6jM0joiq9I/DjgJeoN5vT8bFKpCBhHLP/UI+qfok9w/JM26Kb0ZxD9E0XhK25q1P3AHbXA8osE/e3Q8kBHvxj/X8kEZIdC5P4V9nQz5+bk/pWafjvXmyz+yHxro27q2P2inaAvf3rY/FpSvbvDItT+wCeD8oSjDPxglCFHNZ7o//ytRogPA1T+MNzQNHr+6PwIpI7vWJMA/3t7k7xZTyj+cBx4yd4/YP7gUzk+jBL0/qPDqDd4irj9tylWK6rPFP1eUTqIy/Lo/bAmQiHYCyT8sxLFPIAvUP0WZYls/W8E/IjbRv0mezj9ftcgioUWyPwuy6RkKcr4/Bc4OSh3/yz/gKizFTinQP068YfKyPMA/qa3SObGd2j/w9hy4pTq+PwdDD4iR99Y/kzsXO4iazj+jJ3aWORnPPxRLwYJLDcU/CEAcrbMJ2j9Zk7Edz/jFP7Sc98RkxMM/eF60jJVyrj81t6bdV+q9P064ZRCe5aU/7vJQbktKyz97lvuEwz7FP6tfgh4jI8A/f7byQsy5sT8+FoR4i8LFPyQTtUcOKKw/0OMo7Thwwj/e7MEk2auvP6l7mIUN4tQ/c7LF/J3ZwD+4UlnZGe60P9WG7UyCBbs/rlvPdYo8sz8=\",\"dtype\":\"float64\",\"order\":\"little\",\"shape\":[100]},\"6701\":{\"__ndarray__\":\"AAAAAAAAAAC8hEY3ap28P5HKLdBlOMs/yu5xfjqEuT8Ciwz8HUzWP/ZHpid14rA/CyqPtW2p1D/R/B/KV6K5P0dwKnvGWcM/Y3fzGbZ/uj+CZH4tqOK5P34UBlaOz8A/+PX5U1FRwD/l7kZ6rmnAP+agl/FAg78/i7hG+7aOuz/A39LY6we5PxKZ1o6b0sE/y7TSAVgxwz968AENsmCkP8H/xbHzgqc/4NVRAs54tj8UNRrfccvLP7B49dZ9LLg/uLU1/dsovD+67173GWPRP7EA2u1GEMA/Jnxo+flwuj954leLGzGzP8mR6oPzQLM/KJ2nQ4essT9OOVY1n2q5P+xmsIq849c/5Yl05jx0xD/aPDoj41i+P4uRLSMVusA/tm3F8kT6sz8X0W3AOM7WPyZ71UWXLNA/K4PALxOXvz+ChsV3nVLMP3XFZBpEZsY/MXAWjo/Hyj88l4xnPpbEP7ljsARqbsQ/isz1CzOFtj/MlsTq3N+9P64tlItDOtE/pnbCttOIwj+zssWFKPy0P8E/5ZnDzsI/VEA2IdIQwz93lQnH9qCyP+y2kCp++LY/VtZhyro+0T/DFess2QPHP46qDCsgHbk/7aa7TCdQ1D+sa8M3lJPTP0IKZiS+d8E/0ir8Gxdo0z9WlDCb7CfBPwGoGU1t1rI/Pis+wJDysj9SKuargHm5P5SDeom1ONg/upeQi6Hxwz+l7bvkjaa6P3vdtxeo3sU/f4iO0jzPuz8rbapFkCKuP5nw8F4jgrI/XeLySyRi0D9WUCLExgHHP78jGn5RctI/lRE9GlckvT/AHMt8jXDIP9z2930oJcQ/F284toFIrD8WdiEaikbEP4aT83uVicM/Mg1tzYg0tz/85yZjv/nEP69jLlp+u7I/31429vDDsj8F9Wd75wjMP/NI6pINkaY/XxZWssA6uT/xmq9Ufaq5PwauTlOEmMU/+CNpEbrdxz8vfWDb8na1P4uecjGn3K8/BQnkH9IXxj9BYV00TcnMPy93WIvI0bI/IoZiD88zwD+JIt83io6zP9o+2ryb7sU/FnMu36DWuD8=\",\"dtype\":\"float64\",\"order\":\"little\",\"shape\":[100]},\"7203\":{\"__ndarray__\":\"AAAAAAAAAACkrkKAaHiwP5IjHMWXLb4/jVwWUp9qwD+QAfdr6FW6P66Iv55ewro/Qtyj5QDUtz+BKFdVrO3KP9V7BmKty7U/otzlfsUnxT9/sVSrgOSvP7NCuGOJAeA/uA36VJV7tD8X88xuf37EP9rSDGHAPr4/J4p/UZEMxj/lk/NXnEHPPym/Saqc1NA/2JaCX+Ciwz8AyRUEX9O1P66vHtZAh7Y/LG6qEDQsxz/iRQYK/DDFP681vt4vErE//ux8Of68wT8A9ZulAC6zP1di009yv8I/1AEXigsS1j+UCl9S3qHQP0zZM/QBrdI/uiw2aPSNtD/fghuPcvu6P0VDCss4Jbg/8hXYNHK3vT/Uu9RaTeHKPyPXRI2tG7g/8iuPIE5Wrz9Ju7h8k0a9P+auBZjpMsQ/iib/blO+wT9hKrrpjqnGP6wSiCgXqbE/MIP4lRVWyD8mGhhd9mHKP95OAnPiNr8/59rab/0w2T9G2yO7Y/uyP7b5uy5rssA/ENnlS6QSuD9/ioF2XujJP6xdmqLGAbw/c6AKN3b2vD/kGAAtyae0P7XoIT2iY8E/EhOF3O1o0z8VZtIN3X/PP379iG/ZILk/0WRWj06BuD+r1Z1DbtqxP2wG4cfXIcw/T0Ra+PpHwz8fvAxjyFe4Py5KOywMKNo/IJ1Vif/ntT+iou4pptTNP65ikrwOU7I/cFZuL6IVyD9NpMjZ9+7GP5bdPtBtJK4/yvC+lwPPvT+XwsfSELeuP82vI2u6yrg/Vr7dv1EZwz8RImq503TEPwfd2guKpsA/bVucz2LuyT8MQJUnfi24P6grlZ43ZLI/MSnJ8Xiu0z+UXj9bi2DAP2CEprXi8c0/no1iVFf8vT9oy6EMoSm3P3G0369MJdk/qoHK1OT02j+v0GRn53avPy7lwyUxL8U/RHGbdA1mxT87KdvV5jjGP/TvCzRjpdA/pjTvMiWT2D84wJNyK5WtP5G++++jd8A/WjiwRqdYxT/TZaEYkwu5P4D5jbjdpbM/LJa5Im7Nwj9uwGI/cODdP1rHG/h0fbM/LMoVbBZPvT8=\",\"dtype\":\"float64\",\"order\":\"little\",\"shape\":[100]},\"7267\":{\"__ndarray__\":\"AAAAAAAAAABJNsAMNo/EPwy3H3iMGMA/KvVtyRFt0z+W6BPyyfy2P6oFMAA3b9U/9pt3Ap5QzT9GouJjzMu+P8jcL9Op1LM/V6aVmPCmyz/4DlJy9TnIP5kgnkTLeKo/NzUN2WHI3j+FLeMX/KnEP04zoe81eLQ/f5DqGsKWrz+elTmntLazPzz1VCqp974/NsMDCX7l3D/SGEdg85e1P2UeZFKMp68/4Q0Fu+K1wT9msn3hufbEP5ODFEDxKsA/SQdqA6yOuD8POd/PPevPP6G6XzJ2rsE/9vHjLBrTxj8rjPWxXUDMP76M7RnPvLo/10Q3AmcpuD/1/+KCejLEPzy5Jx/54ss/oCoBb34X1T+sO/XHH7C+Pytysz1zDNA/U9+m8NbjsT8sn4TYCArNP22P565gtbU/PylxOHwXuD8EhnKhOFq7P15W5SurgbQ/djY1ERC8wD9Czw1uHs67P8oRqGLsZbQ/5AaE4GQWwD9jNJz1bnPcP31C7Eb2Dcg/Y0MQrWxbuj+yz8rRxbrRPxB2mcqzI9g/a8M0SfgUwT/QZbf7r83iP2rSViQ5ac4/TD+TpVsiwz+kqcK9xP3AP9jbBDMoXdI/HO/WRGeNtj+W9Tw7oDLMP5tBTnymM7s/UKfjbqWatT/fhV6bthHAP++BuHPZ6cY/xy7eL4qz4T//B66gjmPIPyu1VRSoxrg/Gzk6nt12wT9U8rVAZrXAPwxOEEH5XLU/fSoagwz/yz84wr5/zP7WP1BxaJHNtrk/5K6jFXNDuj+WiVA0BsjPPyiw4fBnp7Q/+qlwgci8sD/gR//PBya3P2NjDzfAfsw/FT4FnlkBwz9L0jMV2XzEP1zdVMhK5MI/sTlOu4m4xD+XB/nk0znUP8MM6DMW4bI/Vyp2kEkKuD/s1Eli31jJPzaKLYwJTeU/e4tH/b1VxT+LOXyB+6LRP2kn+UnlFME/gCt+hpm1vD9lwuRiwQHjP7fw3SN2a+A/5qV/WzIGvj+tb4pu8vbBP/5UAC1vitk/x6Coj2Ri0D/gKXUS5pO7P2jxrCUsNtw/gPAvIhREvj8=\",\"dtype\":\"float64\",\"order\":\"little\",\"shape\":[100]},\"9984\":{\"__ndarray__\":\"AAAAAAAAAACYNTwUT5mzP+Jt4R+mnrg/+cwo6psfzT+4cbBnBVm4Px2pI9S6NcU/SIbbHr8Zuj+MtiH1ucLPPyGyWIkNX7U/DOt6wlpzrj8zSPdSqrjKP493jEsXf7E/R6mtoKLhxD9s+5ju+Wu8PwSXkuy8ILQ/Ea51MOhR2T9ao6UQ5DHaP+KJCkBcndA/r17amovJrz9LJHYDtsbDPxc1G1mJVrI/1UcWQewh1D9AhsWSUFLCP6l+K331Oc4/xc7hxavoyD/CoEtoDpfPP4I6PeyZ19E/KWCUEKmBuj/cv4PSb0qzPzZZILj5RLg/5PIp5NOUsj866BMPb+q3P1LIizA4grk/eTUyzORUwj9IjFU7wZfNP+xED96J6rc/UukXZZW4wD/B9mFUIhu5PxgjWjX7V9U/KbzEAxYH0z9WybgTyfW1P3caAGBOSc0/8HoZThJNxj9sZL+pVJ7BP1smYhQNSbE/ntoODaNPwD81XkPeyLq1P7YrI92pn8I/jk4arpuU2D8aDIA8bFi0PyFuW0C3BMI/10klqsDC0D+dAkXUEyy1PxZG+cwA4tQ/Dt82BrDWtj9iVJmehDq8P7biTKXP3cE/Mm9WguEVrT95s+sGLdfKPyYykrXyt80/5DTf2MCKtz9NtvfJbCjAPyNusbkWKLM/rcSF/ScOuT/zczRvZ9/LP/CAjV6NT9E/Qui7A1NBqz+Kv/WwBWC+P6RBVUVoxts/HXuQbsGiwT+X0ToylwexP4xEFKvHrNE/GyGO5FDwxD9mTDCMDze1P+E2SxIFmMs/sP2waB5PuT+eaiTAh/DaP/jjCcD7gK0/yvvk2zyxsT/jNg50PKS7P91haXIEsMM/tuV8lfiZvD/i4t2LdpC3PzW4x3RnNLQ/2ekIsD17yj9sCOYP8i+yP72Uw8Esz6c/ybg3lopC1D8SZ+s5+mawP8Pcsv4BycA/8fmcI34avz/PHAHqPBWmP2AO73JtnLQ/X4+5dH0nxD+XQO8hIWuxPxDGRs3PVbM/LxmzrZ6Qwz9TBxrFfJnLPw6iylHvw7M/aQ9wAdVD1D8=\",\"dtype\":\"float64\",\"order\":\"little\",\"shape\":[100]},\"datetime\":{\"__ndarray__\":\"AAAoIhZbd0IAAGZrFlt3QgAApLQWW3dCAADi/RZbd0IAACBHF1t3QgAAXpAXW3dCAACc2Rdbd0IAANoiGFt3QgAAGGwYW3dCAABWtRhbd0IAAJT+GFt3QgAA0kcZW3dCAAAQkRlbd0IAAE7aGVt3QgAAjCMaW3dCAADKbBpbd0IAAAi2Glt3QgAARv8aW3dCAACESBtbd0IAAMKRG1t3QgAAANsbW3dCAAA+JBxbd0IAAHxtHFt3QgAAurYcW3dCAAD4/xxbd0IAADZJHVt3QgAAdJIdW3dCAACy2x1bd0IAAPAkHlt3QgAALm4eW3dCAABUJiJbd0IAAJJvIlt3QgAA0LgiW3dCAAAOAiNbd0IAAExLI1t3QgAAipQjW3dCAADI3SNbd0IAAAYnJFt3QgAARHAkW3dCAACCuSRbd0IAAMACJVt3QgAA/kslW3dCAAA8lSVbd0IAAHreJVt3QgAAuCcmW3dCAAD2cCZbd0IAADS6Jlt3QgAAcgMnW3dCAACwTCdbd0IAAO6VJ1t3QgAALN8nW3dCAABqKChbd0IAAKhxKFt3QgAA5rooW3dCAAAkBClbd0IAAGJNKVt3QgAAoJYpW3dCAADe3ylbd0IAABwpKlt3QgAAWnIqW3dCAADoh2hbd0IAACbRaFt3QgAAZBppW3dCAACiY2lbd0IAAOCsaVt3QgAAHvZpW3dCAABcP2pbd0IAAJqIalt3QgAA2NFqW3dCAAAWG2tbd0IAAFRka1t3QgAAkq1rW3dCAADQ9mtbd0IAAA5AbFt3QgAATIlsW3dCAACK0mxbd0IAAMgbbVt3QgAABmVtW3dCAABErm1bd0IAAIL3bVt3QgAAwEBuW3dCAAD+iW5bd0IAADzTblt3QgAAehxvW3dCAAC4ZW9bd0IAAPaub1t3QgAANPhvW3dCAAByQXBbd0IAALCKcFt3QgAA7tNwW3dCAAAUjHRbd0IAAFLVdFt3QgAAkB51W3dCAADOZ3Vbd0IAAAyxdVt3QgAASvp1W3dCAACIQ3Zbd0IAAMaMdlt3QgAABNZ2W3dCAABCH3dbd0I=\",\"dtype\":\"float64\",\"order\":\"little\",\"shape\":[100]},\"x\":{\"__ndarray__\":\"AAAAAAEAAAACAAAAAwAAAAQAAAAFAAAABgAAAAcAAAAIAAAACQAAAAoAAAALAAAADAAAAA0AAAAOAAAADwAAABAAAAARAAAAEgAAABMAAAAUAAAAFQAAABYAAAAXAAAAGAAAABkAAAAaAAAAGwAAABwAAAAdAAAAHgAAAB8AAAAgAAAAIQAAACIAAAAjAAAAJAAAACUAAAAmAAAAJwAAACgAAAApAAAAKgAAACsAAAAsAAAALQAAAC4AAAAvAAAAMAAAADEAAAAyAAAAMwAAADQAAAA1AAAANgAAADcAAAA4AAAAOQAAADoAAAA7AAAAPAAAAD0AAAA+AAAAPwAAAEAAAABBAAAAQgAAAEMAAABEAAAARQAAAEYAAABHAAAASAAAAEkAAABKAAAASwAAAEwAAABNAAAATgAAAE8AAABQAAAAUQAAAFIAAABTAAAAVAAAAFUAAABWAAAAVwAAAFgAAABZAAAAWgAAAFsAAABcAAAAXQAAAF4AAABfAAAAYAAAAGEAAABiAAAAYwAAAA==\",\"dtype\":\"int32\",\"order\":\"little\",\"shape\":[100]},\"yen\":{\"__ndarray__\":\"AAAAAAAA8D/iw9NRMjWlPy8nwJw/D9M/NfZlesqyuz8d0Pqu1He9P7R5tFEbTs0/yXUUDE0Mtj9Mn+XOuX7PP0rW/tihb+E/uwdNy0ecsD/3PfM6/+WwP0DSeiJz/64/HwCNBa+gtT8LP2c6ZqrLP9wNxvLiONM/dF/Xf6Xiwj/gIlIHA0e4P+xABskyhLM/Hrcd15zisj9fU1ejtSPcPyZzEx2E8+U/u3Xfc8hJxT9YN15EoOzHPws8haYOTq8/okOJiBaK2j+sj2SH2CuyP80Jj8NOwsA/y3jhklGjtz8zwcJlyZmzP5SuTtqHLdE/gaApLaCksj+F4zL7E+eyP/kb5PKWob0/UiHp/RCZsj9PIzTQmAXDP7IVQCyAgs8/1WtDzS6ksD+zhZoSI4y7PzMTFRqalrY/WCx9890I0D+S5OvJaLTSP0fSvuXH5MM/ML+dv3Ycxz9y7uoXYXHGP7uNqmyt7b8/imoDBk23uz91RnWtrwDJP0M1nyUxicA/GNOiwLVPuD+qfhJ83YfQP7zw4HF7zr8/W2NLLgflvz/eANxx0GK2PwcTMNPoBr8/wGhXpAV9uj+bJlO7oDjHP4I/bT9+itE/yyh0rq0luj8C8s5LiAS3P2Rz3GTN78Y/DhnnuwwCxT8swrZpHVPBP0VUhIh6RMM/LcJ/mcO0wD+jA8zLce+2P7xBqewKybM/ouqjrolX0T9lCkV7F8LDPxxPRttfA74/m2ddGcjwxj8SFvJHsZLYP4AKkvfKddU/s2yb3XsivD8YEGX7c6azPy0Q0/pmTMQ/T9kddTd8uj89nSZWms61P9gQjXuZ2sA/SJrQZ20cxz/1Fe6kufDJP8pd5hDt4sI/5wumHUWdvD9mnvXovTzFPxXm2dmDCM0/o7be/zWXwj8JUdcorVnVP9QxBEHKLKI/eU7GaM5doz86TOPaojnMPzcOa92qG8c/v4Qxkgk3wD83qU3cbUGqP/gKy2gfi8Q/hHjJCbf0zj9SsE/7twzaP1wN30guAak/jdYZBL3Pxz8ioSapdnWqPz7mYayYgcA/NA6/hZXS0T8=\",\"dtype\":\"float64\",\"order\":\"little\",\"shape\":[100]}},\"selected\":{\"id\":\"1182\"},\"selection_policy\":{\"id\":\"1183\"}},\"id\":\"1158\",\"type\":\"ColumnDataSource\"},{\"attributes\":{\"source\":{\"id\":\"1185\"}},\"id\":\"1189\",\"type\":\"CDSView\"},{\"attributes\":{\"data\":{\"line_color\":[\"#1f77b4\",\"#aec7e8\",\"#ff7f0e\",\"#ffbb78\",\"#2ca02c\",\"#98df8a\"],\"xs\":[{\"__ndarray__\":\"AAAAAAEAAAACAAAAAwAAAAQAAAAFAAAABgAAAAcAAAAIAAAACQAAAAoAAAALAAAADAAAAA0AAAAOAAAADwAAABAAAAARAAAAEgAAABMAAAAUAAAAFQAAABYAAAAXAAAAGAAAABkAAAAaAAAAGwAAABwAAAAdAAAAHgAAAB8AAAAgAAAAIQAAACIAAAAjAAAAJAAAACUAAAAmAAAAJwAAACgAAAApAAAAKgAAACsAAAAsAAAALQAAAC4AAAAvAAAAMAAAADEAAAAyAAAAMwAAADQAAAA1AAAANgAAADcAAAA4AAAAOQAAADoAAAA7AAAAPAAAAD0AAAA+AAAAPwAAAEAAAABBAAAAQgAAAEMAAABEAAAARQAAAEYAAABHAAAASAAAAEkAAABKAAAASwAAAEwAAABNAAAATgAAAE8AAABQAAAAUQAAAFIAAABTAAAAVAAAAFUAAABWAAAAVwAAAFgAAABZAAAAWgAAAFsAAABcAAAAXQAAAF4AAABfAAAAYAAAAGEAAABiAAAAYwAAAA==\",\"dtype\":\"int32\",\"order\":\"little\",\"shape\":[100]},{\"__ndarray__\":\"AAAAAAEAAAACAAAAAwAAAAQAAAAFAAAABgAAAAcAAAAIAAAACQAAAAoAAAALAAAADAAAAA0AAAAOAAAADwAAABAAAAARAAAAEgAAABMAAAAUAAAAFQAAABYAAAAXAAAAGAAAABkAAAAaAAAAGwAAABwAAAAdAAAAHgAAAB8AAAAgAAAAIQAAACIAAAAjAAAAJAAAACUAAAAmAAAAJwAAACgAAAApAAAAKgAAACsAAAAsAAAALQAAAC4AAAAvAAAAMAAAADEAAAAyAAAAMwAAADQAAAA1AAAANgAAADcAAAA4AAAAOQAAADoAAAA7AAAAPAAAAD0AAAA+AAAAPwAAAEAAAABBAAAAQgAAAEMAAABEAAAARQAAAEYAAABHAAAASAAAAEkAAABKAAAASwAAAEwAAABNAAAATgAAAE8AAABQAAAAUQAAAFIAAABTAAAAVAAAAFUAAABWAAAAVwAAAFgAAABZAAAAWgAAAFsAAABcAAAAXQAAAF4AAABfAAAAYAAAAGEAAABiAAAAYwAAAA==\",\"dtype\":\"int32\",\"order\":\"little\",\"shape\":[100]},{\"__ndarray__\":\"AAAAAAEAAAACAAAAAwAAAAQAAAAFAAAABgAAAAcAAAAIAAAACQAAAAoAAAALAAAADAAAAA0AAAAOAAAADwAAABAAAAARAAAAEgAAABMAAAAUAAAAFQAAABYAAAAXAAAAGAAAABkAAAAaAAAAGwAAABwAAAAdAAAAHgAAAB8AAAAgAAAAIQAAACIAAAAjAAAAJAAAACUAAAAmAAAAJwAAACgAAAApAAAAKgAAACsAAAAsAAAALQAAAC4AAAAvAAAAMAAAADEAAAAyAAAAMwAAADQAAAA1AAAANgAAADcAAAA4AAAAOQAAADoAAAA7AAAAPAAAAD0AAAA+AAAAPwAAAEAAAABBAAAAQgAAAEMAAABEAAAARQAAAEYAAABHAAAASAAAAEkAAABKAAAASwAAAEwAAABNAAAATgAAAE8AAABQAAAAUQAAAFIAAABTAAAAVAAAAFUAAABWAAAAVwAAAFgAAABZAAAAWgAAAFsAAABcAAAAXQAAAF4AAABfAAAAYAAAAGEAAABiAAAAYwAAAA==\",\"dtype\":\"int32\",\"order\":\"little\",\"shape\":[100]},{\"__ndarray__\":\"AAAAAAEAAAACAAAAAwAAAAQAAAAFAAAABgAAAAcAAAAIAAAACQAAAAoAAAALAAAADAAAAA0AAAAOAAAADwAAABAAAAARAAAAEgAAABMAAAAUAAAAFQAAABYAAAAXAAAAGAAAABkAAAAaAAAAGwAAABwAAAAdAAAAHgAAAB8AAAAgAAAAIQAAACIAAAAjAAAAJAAAACUAAAAmAAAAJwAAACgAAAApAAAAKgAAACsAAAAsAAAALQAAAC4AAAAvAAAAMAAAADEAAAAyAAAAMwAAADQAAAA1AAAANgAAADcAAAA4AAAAOQAAADoAAAA7AAAAPAAAAD0AAAA+AAAAPwAAAEAAAABBAAAAQgAAAEMAAABEAAAARQAAAEYAAABHAAAASAAAAEkAAABKAAAASwAAAEwAAABNAAAATgAAAE8AAABQAAAAUQAAAFIAAABTAAAAVAAAAFUAAABWAAAAVwAAAFgAAABZAAAAWgAAAFsAAABcAAAAXQAAAF4AAABfAAAAYAAAAGEAAABiAAAAYwAAAA==\",\"dtype\":\"int32\",\"order\":\"little\",\"shape\":[100]},{\"__ndarray__\":\"AAAAAAEAAAACAAAAAwAAAAQAAAAFAAAABgAAAAcAAAAIAAAACQAAAAoAAAALAAAADAAAAA0AAAAOAAAADwAAABAAAAARAAAAEgAAABMAAAAUAAAAFQAAABYAAAAXAAAAGAAAABkAAAAaAAAAGwAAABwAAAAdAAAAHgAAAB8AAAAgAAAAIQAAACIAAAAjAAAAJAAAACUAAAAmAAAAJwAAACgAAAApAAAAKgAAACsAAAAsAAAALQAAAC4AAAAvAAAAMAAAADEAAAAyAAAAMwAAADQAAAA1AAAANgAAADcAAAA4AAAAOQAAADoAAAA7AAAAPAAAAD0AAAA+AAAAPwAAAEAAAABBAAAAQgAAAEMAAABEAAAARQAAAEYAAABHAAAASAAAAEkAAABKAAAASwAAAEwAAABNAAAATgAAAE8AAABQAAAAUQAAAFIAAABTAAAAVAAAAFUAAABWAAAAVwAAAFgAAABZAAAAWgAAAFsAAABcAAAAXQAAAF4AAABfAAAAYAAAAGEAAABiAAAAYwAAAA==\",\"dtype\":\"int32\",\"order\":\"little\",\"shape\":[100]},{\"__ndarray__\":\"AAAAAAEAAAACAAAAAwAAAAQAAAAFAAAABgAAAAcAAAAIAAAACQAAAAoAAAALAAAADAAAAA0AAAAOAAAADwAAABAAAAARAAAAEgAAABMAAAAUAAAAFQAAABYAAAAXAAAAGAAAABkAAAAaAAAAGwAAABwAAAAdAAAAHgAAAB8AAAAgAAAAIQAAACIAAAAjAAAAJAAAACUAAAAmAAAAJwAAACgAAAApAAAAKgAAACsAAAAsAAAALQAAAC4AAAAvAAAAMAAAADEAAAAyAAAAMwAAADQAAAA1AAAANgAAADcAAAA4AAAAOQAAADoAAAA7AAAAPAAAAD0AAAA+AAAAPwAAAEAAAABBAAAAQgAAAEMAAABEAAAARQAAAEYAAABHAAAASAAAAEkAAABKAAAASwAAAEwAAABNAAAATgAAAE8AAABQAAAAUQAAAFIAAABTAAAAVAAAAFUAAABWAAAAVwAAAFgAAABZAAAAWgAAAFsAAABcAAAAXQAAAF4AAABfAAAAYAAAAGEAAABiAAAAYwAAAA==\",\"dtype\":\"int32\",\"order\":\"little\",\"shape\":[100]}],\"ys\":[{\"__ndarray__\":\"AAAAAAAA8D/4///////vPwAAAAAAAPA/AAAAAAAA8D8AAAAAAADwPwAAAAAAAPA/AAAAAAAA8D8AAAAAAADwPwAAAAAAAPA/AAAAAAAA8D8AAAAAAADwPwAAAAAAAPA/AAAAAAAA8D8AAAAAAADwPwAAAAAAAPA/AAAAAAAA8D8AAAAAAADwPwAAAAAAAPA/AAAAAAAA8D8AAAAAAADwPwAAAAAAAPA/AQAAAAAA8D8AAAAAAADwPwEAAAAAAPA/AAAAAAAA8D/+///////vPwAAAAAAAPA/AAAAAAAA8D8AAAAAAADwPwAAAAAAAPA/AAAAAAAA8D8AAAAAAADwPwAAAAAAAPA/AAAAAAAA8D8AAAAAAADwPwAAAAAAAPA/AAAAAAAA8D8AAAAAAADwPwAAAAAAAPA/////////7z8AAAAAAADwPwAAAAAAAPA/AAAAAAAA8D8AAAAAAADwPwAAAAAAAPA/AAAAAAAA8D8AAAAAAADwPwAAAAAAAPA/AAAAAAAA8D8AAAAAAADwPwAAAAAAAPA/AAAAAAAA8D8AAAAAAADwPwAAAAAAAPA/AAAAAAAA8D8AAAAAAADwPwAAAAAAAPA/AAAAAAAA8D8AAAAAAADwPwAAAAAAAPA/AAAAAAAA8D8AAAAAAADwPwAAAAAAAPA/AAAAAAAA8D8AAAAAAADwPwAAAAAAAPA/AAAAAAAA8D8AAAAAAADwPwAAAAAAAPA/AAAAAAAA8D8AAAAAAADwPwAAAAAAAPA/AAAAAAAA8D8AAAAAAADwPwAAAAAAAPA/AAAAAAAA8D8AAAAAAADwPwAAAAAAAPA/AAAAAAAA8D8AAAAAAADwPwAAAAAAAPA/AAAAAAAA8D8AAAAAAADwPwAAAAAAAPA/AAAAAAAA8D8AAAAAAADwPwEAAAAAAPA/AAAAAAAA8D/////////vPwAAAAAAAPA/AAAAAAAA8D8AAAAAAADwPwAAAAAAAPA/AAAAAAAA8D8AAAAAAADwP/z//////+8/AAAAAAAA8D8AAAAAAADwPwAAAAAAAPA/AAAAAAAA8D8=\",\"dtype\":\"float64\",\"order\":\"little\",\"shape\":[100]},{\"__ndarray__\":\"AAAAAAAA8D+O+s5GfWfvP32rUbm6je8/EOqyBKJ27z8ClMQEZ0/uP/z1JtHLI+4/6l0uhQ287j8vaapwmmLuPyyIyRXE5O4/GOsGmToW7z+pAS8Vgh7vP3pWoz7a+u4/zxZLu0Lu7j8o0uVeEpTvPxsJGOCWlu8/+3nKgD667z881jJ0wG7vP/5wYkWieO8/skEdZ+KU7z/8CWamRjrvP9iXykfNa+8/TK4gJlcQ7z8itvbxQA7vP65HxsBX8O4/k7oCVHwD7j82+9ib3BnvPwtCqUwFIu8//PMe6X4X7z+DAkbWAhzvP1cBCrYwHe8/j6hBBQsL7z9Qp3fxFRbvPwvG8jOv+O4/y9ABuz3W7j/N0AG7PdbuPw2hHYo+1+4/LIjJFcTk7j+y4EwSvVTvPxv1nY36zu4/3nAkE/zM7j8PEQXUJ7/uPwticgUxue4/DWJyBTG57j+yOusOzL/uP9y5ZT8+vO4/W4YO2O2x7j+KNN8DLbjuP6uqqqqqqu4/9XL2fQCz7j8d9Z2N+s7uP3ZYOGEPz+4/HWNvKGLh7j9AhW66L9ruP9P+ywv66+4/+T4XL2bk7j+GXVYhKO/uPw2XQg3Q+e4/53OCpd/u7j/u2f4r/hPvPyyIyRXE5O4/NtOZxEnq7j+MP5FwSvPuP071g8KS0O4/o9HyexDZ7j/qVjMb5SPvPx3+NLz6K+8/nNK8+BMJ7z+gh0FyzgvvP23K5dLC8+4/XUFMriAm7z8spbS9MDfvPzFDE1DEIe8/b19NGc8i7z+y2Luk0x/vPwCRT0i7F+8/oxJ16shD7z8FpNh9UIHvP734EwmnNO8/C0QnIUg47z+cdS97my3vPy0Nxb9xMe8/3P0TggpJ7z86+E/uH03vP/7DPQEcO+8/gVcTULxO7z/5WC/Eej/vPx+w22MtQ+8/jnU2i1497z9t1Hc26jvvP79WZ3g2Pu8/l3LANLcc7z99Z6O+s1HvP31no76zUe8/et66M7Y/7z+RLICSSSHvP807V7DyTu8/f2ejvrNR7z8NfAylQ03vP3raRO2YWu8/3h5rGTpg7z8=\",\"dtype\":\"float64\",\"order\":\"little\",\"shape\":[100]},{\"__ndarray__\":\"AAAAAAAA8D85m8I4m8LvPwnxtyoGv+8/CL1TiZim7z/MPvUCOdDvP69QNzQ1gO8/hYFJGxms7z9dvPac1zXvP/p7iCGqY+8/FyMCBAb/7j8n1T5KqxXvP/Cr0XOC4e4/6PMkNFgr7z9PT0wjUSrvP7975o/ON+8/40Y/G/317j9yx3n9aPDuPwx0ZnTOBO8/uKN5lM3U7j/SjNOF4gHvP06HyOuv8+4/7eLK3AwD7z+3NXG3LQrvPzjb0xvSAe8/B9QwC5z97j9mX2/ymCLvP+c1vMudF+8/1uzEkg0T7z8IqRyGvAHvP25OrqplB+8/sljo1HYH7z+LzcK5A/fuP2ZRwjZQ5+4/BkJ1j6Xj7j+/5fEf4OnuP7Wlbs9J9O4/toI+J9rl7j+GAQUcR+XuPxAV6sJfyu4/RLW/QG7K7j8t80NKS9vuPzhoHgSExu4/9O8WIM7G7j+rwiHMYMTuP1Mzxjbdw+4/xizOYsW67j+GVYKWx7HuP+cXP96fue4/LK/RmHe77j8WClc+OqHuP2b2qHdoye4/FFiN+X7H7j9AQhhILbLuP7fLPF+Mx+4/Vh5rtTvM7j+ufw1kpcTuP6/625L4xO4/ri0aZlfH7j9zvSX2i57uP5n7kDwul+4/qNZeg1jp7z9Qhh93eZjtPxkrstQMde0/3cujkEHb7T+yGhAipfztP+eVQpWUDu4/KxUNBPm77T9RnKrgsxruPzsZgGi+FO4/V68gfYn/7T8eM4Xh9wnuP3yhagS2QO4/OMVGHn1L7j9g1cuzz0HuP/vs4usTO+4/P3Rx4MU87j89oBJI0jjuP2Q2Vap0He8/8Mj/95kQ7j9GDMwfyRPuP7o+nNKpFe4/kqHZSZIP7j/bEwav8iXuPzlVopdkEO4/HKQbyGgx7j9XLFpCvS7uP/7nqBGvPu4/NSZEIHJE7j+aQ1b4NnTuPw2WA31xPe4/6/FZTTdD7j+F5g2E5g3uPytT0HrG/u0/8K782Ifl7T8/D7jRCtHtPxv4fj/H5+0/UpBQSDjs7T9Y+IEKWOTtPzXjex3Pxu0/A2ZQcjDv7T8=\",\"dtype\":\"float64\",\"order\":\"little\",\"shape\":[100]},{\"__ndarray__\":\"AAAAAAAA8D+bA4lW2BzwP0paGj9qGfA/wo12RTMm8D9ywB/QyvnvP/gsExCI+O4/9oAiYCgK8D8lUTpqCc7vPwitMyq+EPA/xvD9nHoK8D8AAAAAAADwP2yeFa+mAfA/zaggXbwG8D+0wuZAohXwPxky2pmcFPA/ds7Js1Et8D+wWV9TjR3wP+k5mRLnGfA/gkQrbA4k8D+rkZ9XAzjwP5sDiVbYHPA/tKuWfkcg8D8QZU3QWCjwP3g0ORSgNPA/BGGVZxMl8D9qfz9rji/wP02n+BzgOvA/+CaEY7Qp8D/DLwA7MDXwPzoYAx89K/A//NV1j2Qj8D+re3/34ybwP9CuldiMF/A/tMLmQKIV8D++L07clRrwP+2w+SrfB/A/U1Fn2IkJ8D99xK8NABDwP9a2otFdEfA/WzVvVMAO8D/vpwP9LgPwP+dAohU2B/A/yJCW2GEI8D/OgUQrbA7wP97BsEOEDvA/j4zG1jH07z9y3DYJbgXwPwAAAAAAAPA/HNFSSizn7z89BIQl5AjwPznnTcX9G/A/WWwW3CQk8D9HnwAusiPwP0/Gb5d6MvA/T8Zvl3oy8D++n3R83C7wP5ZuEKWtP/A/eBylMH4t8D+A5+5giSvwP2xiXjUVG/A/0pNnlHu07z8124t3tNnuP6X37mj8ie8/V33gR0Rv7z++WZ2zMEjvPxfs2GEsaO8/+u1ST8Zv7z/57VJPxm/vP+eXOumVgO8/OePzAEaj7z9LAmcTx5jvP84+QYJ9e+8/8Zy0cXKE7z8TlNWFt5LvP9vl3rSfg+8/8sXrNIJ27z9boP33N5XvP3gtxHCHie8/8N8+JxjQ7z84ktqc9JDvPwI3NgPcme8/bsBG67fB7z/Yaj4DA6PvPy7IPVYnd+8/MyHyXee37z/K+O1ST8bvP2ECoBs5HPA/2OEjfl+57z94ZoqC08bvP9vOzZm36+8/s1SMHV/o7z/OgUQrbA7wP/xrCRTqEPA/50CiFTYH8D+V1JCGhgXwP2otSVFL4u8/aLgeOS8E8D9MbA2UffbvPw5wkYQ1A/A/AAAAAAAA8D8=\",\"dtype\":\"float64\",\"order\":\"little\",\"shape\":[100]},{\"__ndarray__\":\"AAAAAAAA8D+nzX0sTvnvP5ThzrrzAPA/gaiQ4BkF8D/CSnRHXvPvP+aF+YXM4+8/CbB1+VTX7z/kfUruiMLvPw4eQYI55O8/d98tgufG7z+O5/n0D7LvP2KgyOrvzO8/Kt5f6K6V7z9feEGmsNHvP/Y0ALsczu8/jp9wNyPR7z+On3A3I9HvP8iVettg0e8/VEHqTuDW7z+jKP2SSNjvPzimehmEyO8/SP2w2kDS7z9I/bDaQNLvPy5r5lgu3O8/rLB5VuDN7z9cgx0TLs3vP1MS0/Uw0e8/p9c6kEPO7z+Fj852U8zvPzY2XoeF0e8/0sRwObbx7z9DVXWZaLLvP4hoBbyvkO8/a8EAPkiQ7z+0rX8N2ZnvP+1q48gXme8/i1cJwPqa7z+uOy7fNp3vP5MMycdZm+8/wlwRPaiV7z/KBZuXTo/vPyyO+u8Nke8/A2e9+OaO7z9384MFe4/vP1+76Cdnn+8/v5T9RNV47z/l9QVuL4XvP8CV4tHkc+8/uyaNjO1u7z8/vVDyWJHvP4cPk5jdnO8/EcLvRyWf7z9CEDQRYKPvPycAibgssO8/w+5Nj1K57z8ainbNLr/vP/DNgMMrpu8/pbvQpCKp7z+ZaWjemqXvP96+MiuRqO8/5i8Z9Xpr7z8XuDZ/7BDwP5+atDEfL/A/cmCPyNwu8D92mLhcgi7wP1JvfxiAJfA/ToOgrNMw8D8CgolE8y/wP2YXbiRJJvA/I3ckagE18D+VYslyEDfwPy0qGCfNMPA/43/i3s8v8D+IZZfYwDDwP3iqpBsfM/A/voJ9faE38D/L/pqxfjTwP2JdwlzeO/A/aejBV7U68D90mvSxmUHwPy6QHx4CMvA/uAJPJb8t8D+WIdKPkS7wPwdA6uD3MPA/yexdNSQz8D+FT23uRyvwP77hJbTtOvA/F4srPyE78D8/t3BGiTrwP0mBND36N/A/qYYVEJ828D8c2PmlXVbwPw4f1MITNPA/nLyjLBIz8D95S8uEojDwP9yJRf4iNPA/xlwCeEo18D87EhNqJTbwPwtViDw3K/A/6nIgrbc48D8=\",\"dtype\":\"float64\",\"order\":\"little\",\"shape\":[100]},{\"__ndarray__\":\"AAAAAAAA8D+TxOHkLM7vP6D88xL5tu8/YSEvxUfe7z9LWjGeSwbwPyYXsLcle+8/64X/Zdx/7z+ABiE0JjzvP9CDt2Nrle8/bIzuiPhu7z8TMJHFd27vP9oWfdUWcO8/Hyc2cUaN7z/jqTuZ73nvPz5SwByUku8/kd64F8ub7z9BBZB/BpnvP6MdBZNbne8/2CZnQyii7z879MruwgrwP6Xq0X8Nee8/nFhr5vC27z+g/VSzjbjvP62kxeIcte8/UTAH21an7z/fwkDbIc/vPx652SI/2+8/dujQU4DI7z9YnLNvQszvP5LrHHy96+8/FY1+LpOr7z9+bLi3Do/vP2Ot7u6bZO8/fQlr/wRs7z/71XkXrWbvP2fsnAgVhu8/4fNU0LtU7z/+MI5D/57vPwpjJmf6me8/uAR8dEin7z88Qc1tv5nvP1UuhZMKmu8/sEO9GLyd7z8A9Ql3UpzvPxWnihAmsO8/CKOkmUWB7z+mApeSK3bvP5JO0s0Sh+8/cR+Sqo1I7z/tqlwD7JPvPz5/R9jJm+8/zLP5HVyf7z9k3bB0M6LvP+hVwtu4me8/xzsVGCik7z/Abe8j2q7vP3x1Vg5zoe8/FqK//yOx7z/y4Z14dZ3vPyk4y6ttk+8/N5a+6XNz7z8HWArPSBrwP1AzXdKHA/A/CaR4hGoE8D/znSwuChDwP55Dogf29+8/fz3SOe4B8D9vBReNXfjvP2DVBdNa/e8/og+e1iAJ8D9tTauL3wTwP5Ecng/kCfA/MeYSW7f/7z9ki6V1t+XvP8lHEyWome8/l/4fAbj+7z+Gs6mgW+XvP8/X20NF3u8/JwuygzHi7z/CpZ5UB/3vPzyuj3PP+u8/4un9lWP37z/GPnTzCwHwP+S2oc/m0+8/WylbElsI8D8wPX4EQQ3wP5hBMqZVC/A/RrLR3MEL8D+0SP5zoAfwP6sIC+soDPA/lbtwEgT27z88ACzERg/wP5Y3nw27DfA/MWVTYYMH8D8BgELGuBDwPw2YqQ48FvA/gDjOEmMc8D9ltaxhuxHwP8LK7wVsFPA/QM3C96UW8D8=\",\"dtype\":\"float64\",\"order\":\"little\",\"shape\":[100]}]},\"selected\":{\"id\":\"1246\"},\"selection_policy\":{\"id\":\"1247\"}},\"id\":\"1225\",\"type\":\"ColumnDataSource\"},{\"attributes\":{\"source\":{\"id\":\"1252\"}},\"id\":\"1256\",\"type\":\"CDSView\"},{\"attributes\":{},\"id\":\"1214\",\"type\":\"SaveTool\"},{\"attributes\":{\"line_color\":\"#98df8a\",\"line_width\":2,\"x\":{\"field\":\"x\"},\"y\":{\"field\":\"y\"}},\"id\":\"1373\",\"type\":\"Line\"},{\"attributes\":{},\"id\":\"1130\",\"type\":\"Selection\"},{\"attributes\":{\"formatter\":{\"id\":\"1062\"},\"major_label_overrides\":{\"0\":\"2020-11-10 09:00:00\",\"1\":\"2020-11-10 09:05:00\",\"10\":\"2020-11-10 09:50:00\",\"11\":\"2020-11-10 09:55:00\",\"12\":\"2020-11-10 10:00:00\",\"13\":\"2020-11-10 10:05:00\",\"14\":\"2020-11-10 10:10:00\",\"15\":\"2020-11-10 10:15:00\",\"16\":\"2020-11-10 10:20:00\",\"17\":\"2020-11-10 10:25:00\",\"18\":\"2020-11-10 10:30:00\",\"19\":\"2020-11-10 10:35:00\",\"2\":\"2020-11-10 09:10:00\",\"20\":\"2020-11-10 10:40:00\",\"21\":\"2020-11-10 10:45:00\",\"22\":\"2020-11-10 10:50:00\",\"23\":\"2020-11-10 10:55:00\",\"24\":\"2020-11-10 11:00:00\",\"25\":\"2020-11-10 11:05:00\",\"26\":\"2020-11-10 11:10:00\",\"27\":\"2020-11-10 11:15:00\",\"28\":\"2020-11-10 11:20:00\",\"29\":\"2020-11-10 11:25:00\",\"3\":\"2020-11-10 09:15:00\",\"30\":\"2020-11-10 12:30:00\",\"31\":\"2020-11-10 12:35:00\",\"32\":\"2020-11-10 12:40:00\",\"33\":\"2020-11-10 12:45:00\",\"34\":\"2020-11-10 12:50:00\",\"35\":\"2020-11-10 12:55:00\",\"36\":\"2020-11-10 13:00:00\",\"37\":\"2020-11-10 13:05:00\",\"38\":\"2020-11-10 13:10:00\",\"39\":\"2020-11-10 13:15:00\",\"4\":\"2020-11-10 09:20:00\",\"40\":\"2020-11-10 13:20:00\",\"41\":\"2020-11-10 13:25:00\",\"42\":\"2020-11-10 13:30:00\",\"43\":\"2020-11-10 13:35:00\",\"44\":\"2020-11-10 13:40:00\",\"45\":\"2020-11-10 13:45:00\",\"46\":\"2020-11-10 13:50:00\",\"47\":\"2020-11-10 13:55:00\",\"48\":\"2020-11-10 14:00:00\",\"49\":\"2020-11-10 14:05:00\",\"5\":\"2020-11-10 09:25:00\",\"50\":\"2020-11-10 14:10:00\",\"51\":\"2020-11-10 14:15:00\",\"52\":\"2020-11-10 14:20:00\",\"53\":\"2020-11-10 14:25:00\",\"54\":\"2020-11-10 14:30:00\",\"55\":\"2020-11-10 14:35:00\",\"56\":\"2020-11-10 14:40:00\",\"57\":\"2020-11-10 14:45:00\",\"58\":\"2020-11-10 14:50:00\",\"59\":\"2020-11-10 14:55:00\",\"6\":\"2020-11-10 09:30:00\",\"60\":\"2020-11-11 09:00:00\",\"61\":\"2020-11-11 09:05:00\",\"62\":\"2020-11-11 09:10:00\",\"63\":\"2020-11-11 09:15:00\",\"64\":\"2020-11-11 09:20:00\",\"65\":\"2020-11-11 09:25:00\",\"66\":\"2020-11-11 09:30:00\",\"67\":\"2020-11-11 09:35:00\",\"68\":\"2020-11-11 09:40:00\",\"69\":\"2020-11-11 09:45:00\",\"7\":\"2020-11-10 09:35:00\",\"70\":\"2020-11-11 09:50:00\",\"71\":\"2020-11-11 09:55:00\",\"72\":\"2020-11-11 10:00:00\",\"73\":\"2020-11-11 10:05:00\",\"74\":\"2020-11-11 10:10:00\",\"75\":\"2020-11-11 10:15:00\",\"76\":\"2020-11-11 10:20:00\",\"77\":\"2020-11-11 10:25:00\",\"78\":\"2020-11-11 10:30:00\",\"79\":\"2020-11-11 10:35:00\",\"8\":\"2020-11-10 09:40:00\",\"80\":\"2020-11-11 10:40:00\",\"81\":\"2020-11-11 10:45:00\",\"82\":\"2020-11-11 10:50:00\",\"83\":\"2020-11-11 10:55:00\",\"84\":\"2020-11-11 11:00:00\",\"85\":\"2020-11-11 11:05:00\",\"86\":\"2020-11-11 11:10:00\",\"87\":\"2020-11-11 11:15:00\",\"88\":\"2020-11-11 11:20:00\",\"89\":\"2020-11-11 11:25:00\",\"9\":\"2020-11-10 09:45:00\",\"90\":\"2020-11-11 12:30:00\",\"91\":\"2020-11-11 12:35:00\",\"92\":\"2020-11-11 12:40:00\",\"93\":\"2020-11-11 12:45:00\",\"94\":\"2020-11-11 12:50:00\",\"95\":\"2020-11-11 12:55:00\",\"96\":\"2020-11-11 13:00:00\",\"97\":\"2020-11-11 13:05:00\",\"98\":\"2020-11-11 13:10:00\",\"99\":\"2020-11-11 13:15:00\"},\"ticker\":{\"id\":\"1016\"}},\"id\":\"1015\",\"type\":\"LinearAxis\"},{\"attributes\":{\"data_source\":{\"id\":\"1252\"},\"glyph\":{\"id\":\"1253\"},\"hover_glyph\":null,\"muted_glyph\":null,\"nonselection_glyph\":{\"id\":\"1254\"},\"selection_glyph\":null,\"view\":{\"id\":\"1256\"}},\"id\":\"1255\",\"type\":\"GlyphRenderer\"},{\"attributes\":{\"bottom\":{\"expr\":{\"id\":\"1042\"}},\"fill_alpha\":{\"value\":0.8},\"fill_color\":{\"value\":\"#aec7e8\"},\"line_alpha\":{\"value\":0.8},\"line_color\":{\"value\":\"#aec7e8\"},\"top\":{\"expr\":{\"id\":\"1043\"}},\"width\":{\"value\":1},\"x\":{\"field\":\"x\"}},\"id\":\"1072\",\"type\":\"VBar\"},{\"attributes\":{},\"id\":\"1064\",\"type\":\"BasicTickFormatter\"},{\"attributes\":{\"axis_label\":\"\\u6b63\\u898f\\u5316\\u4fa1\\u683c\",\"formatter\":{\"id\":\"1064\"},\"ticker\":{\"id\":\"1020\"}},\"id\":\"1019\",\"type\":\"LinearAxis\"},{\"attributes\":{},\"id\":\"1201\",\"type\":\"LinearScale\"},{\"attributes\":{\"data_source\":{\"id\":\"1225\"},\"glyph\":{\"id\":\"1226\"},\"hover_glyph\":null,\"muted_glyph\":null,\"nonselection_glyph\":{\"id\":\"1227\"},\"selection_glyph\":null,\"view\":{\"id\":\"1229\"}},\"id\":\"1228\",\"type\":\"GlyphRenderer\"},{\"attributes\":{},\"id\":\"1216\",\"type\":\"HelpTool\"},{\"attributes\":{\"line_alpha\":0.1,\"line_color\":\"#1f77b4\",\"line_width\":2,\"x\":{\"field\":\"x\"},\"y\":{\"field\":\"y\"}},\"id\":\"1254\",\"type\":\"Line\"},{\"attributes\":{\"fields\":[\"yen\",\"4755\",\"9984\",\"6701\"]},\"id\":\"1048\",\"type\":\"Stack\"},{\"attributes\":{},\"id\":\"1208\",\"type\":\"BasicTicker\"},{\"attributes\":{},\"id\":\"1211\",\"type\":\"PanTool\"},{\"attributes\":{\"label\":{\"value\":\"yen\"},\"renderers\":[{\"id\":\"1255\"}]},\"id\":\"1271\",\"type\":\"LegendItem\"},{\"attributes\":{\"text\":\"yen=1.0, 4755=1128.0, 9984=7072.0, 6701=5680.0, 7203=7342.0, 7267=2959.5, \"},\"id\":\"1003\",\"type\":\"Div\"},{\"attributes\":{\"bottom_units\":\"screen\",\"fill_alpha\":0.5,\"fill_color\":\"lightgrey\",\"left_units\":\"screen\",\"level\":\"overlay\",\"line_alpha\":1.0,\"line_color\":\"black\",\"line_dash\":[4,4],\"line_width\":2,\"right_units\":\"screen\",\"top_units\":\"screen\"},\"id\":\"1217\",\"type\":\"BoxAnnotation\"},{\"attributes\":{\"bottom\":{\"expr\":{\"id\":\"1048\"}},\"fill_alpha\":{\"value\":0.8},\"fill_color\":{\"value\":\"#2ca02c\"},\"line_alpha\":{\"value\":0.8},\"line_color\":{\"value\":\"#2ca02c\"},\"top\":{\"expr\":{\"id\":\"1049\"}},\"width\":{\"value\":1},\"x\":{\"field\":\"x\"}},\"id\":\"1135\",\"type\":\"VBar\"},{\"attributes\":{\"source\":{\"id\":\"1225\"}},\"id\":\"1229\",\"type\":\"CDSView\"},{\"attributes\":{\"line_color\":\"#aec7e8\",\"line_width\":2,\"x\":{\"field\":\"x\"},\"y\":{\"field\":\"y\"}},\"id\":\"1273\",\"type\":\"Line\"},{\"attributes\":{\"fields\":[\"yen\",\"4755\",\"9984\",\"6701\"]},\"id\":\"1047\",\"type\":\"Stack\"},{\"attributes\":{},\"id\":\"1269\",\"type\":\"Selection\"},{\"attributes\":{},\"id\":\"1315\",\"type\":\"Selection\"},{\"attributes\":{\"data_source\":{\"id\":\"1372\"},\"glyph\":{\"id\":\"1373\"},\"hover_glyph\":null,\"muted_glyph\":null,\"nonselection_glyph\":{\"id\":\"1374\"},\"selection_glyph\":null,\"view\":{\"id\":\"1376\"}},\"id\":\"1375\",\"type\":\"GlyphRenderer\"},{\"attributes\":{\"label\":{\"value\":\"9984\"},\"renderers\":[{\"id\":\"1297\"}]},\"id\":\"1317\",\"type\":\"LegendItem\"},{\"attributes\":{\"fields\":[\"yen\",\"4755\",\"9984\",\"6701\",\"7203\"]},\"id\":\"1049\",\"type\":\"Stack\"},{\"attributes\":{\"text\":\"yen=1.0, 4755=1128.0, 9984=7072.0, 6701=5680.0, 7203=7342.0, 7267=2959.5, \"},\"id\":\"1191\",\"type\":\"Div\"},{\"attributes\":{},\"id\":\"1007\",\"type\":\"DataRange1d\"},{\"attributes\":{\"data_source\":{\"id\":\"1233\"},\"glyph\":{\"id\":\"1234\"},\"hover_glyph\":null,\"muted_glyph\":null,\"nonselection_glyph\":{\"id\":\"1235\"},\"selection_glyph\":null,\"view\":{\"id\":\"1237\"},\"y_range_name\":\"all_assets\"},\"id\":\"1236\",\"type\":\"GlyphRenderer\"},{\"attributes\":{},\"id\":\"1316\",\"type\":\"UnionRenderers\"},{\"attributes\":{\"axis\":{\"id\":\"1015\"},\"ticker\":null},\"id\":\"1018\",\"type\":\"Grid\"},{\"attributes\":{\"data\":{\"x\":{\"__ndarray__\":\"AAAAAAEAAAACAAAAAwAAAAQAAAAFAAAABgAAAAcAAAAIAAAACQAAAAoAAAALAAAADAAAAA0AAAAOAAAADwAAABAAAAARAAAAEgAAABMAAAAUAAAAFQAAABYAAAAXAAAAGAAAABkAAAAaAAAAGwAAABwAAAAdAAAAHgAAAB8AAAAgAAAAIQAAACIAAAAjAAAAJAAAACUAAAAmAAAAJwAAACgAAAApAAAAKgAAACsAAAAsAAAALQAAAC4AAAAvAAAAMAAAADEAAAAyAAAAMwAAADQAAAA1AAAANgAAADcAAAA4AAAAOQAAADoAAAA7AAAAPAAAAD0AAAA+AAAAPwAAAEAAAABBAAAAQgAAAEMAAABEAAAARQAAAEYAAABHAAAASAAAAEkAAABKAAAASwAAAEwAAABNAAAATgAAAE8AAABQAAAAUQAAAFIAAABTAAAAVAAAAFUAAABWAAAAVwAAAFgAAABZAAAAWgAAAFsAAABcAAAAXQAAAF4AAABfAAAAYAAAAGEAAABiAAAAYwAAAA==\",\"dtype\":\"int32\",\"order\":\"little\",\"shape\":[100]},\"y\":{\"__ndarray__\":\"AAAAAICELkGiYgCm0C4uQR2O50P0My5B1DK63bHiLUHJtM5HuOotQdMj7Pp07i1BlKXgILPTLUG1uaRaitstQSWPmt/M0S1BdcmQkvPqLUHdPAZV4PAtQavBiAAX8y1B1fZcaJP5LUFdIwxg9/4tQS2LRAYs/i1BoXEJnv/rLUEiUdGZyfItQUB/s6IE+i1BhEmTZxv2LUEgndLPpegtQcMbtP9W6y1BVeJZUVnvLUFr+zRCKu4tQSHtkNM35y1BC4r5eAjzLUEgHgJbH/ktQTz2E5NC7S1BJrp4td7vLUEhkBZKru0tQdYdCEFf5i1BdpwF0EfhLUGfxm3YMbotQSLRC/1+sy1B6SbUDki9LUHUSUcrCr0tQc3UCA3Avy1BRn7FurvALUHvNz6NDrstQTquWAUsty1BtJXC7cSyLUGFZKthkrQtQe+mcrNztC1B0blD4A63LUGA4wQ03LotQdatskNcqC1BNi7BC8WkLUEcQNK5J6AtQctJtXlhnC1BXEmfjAawLUEuXFcU0botQf9A9U2Iwy1BGBm0wyrGLUFVL2XcD8gtQWRQK3ZqyC1B57YVJovKLUHEvkTjL8gtQZJ5pfk6xS1B1CYWGSXELUFo0bsHObktQTkNsiSPvC1B0fUPuf55LUG4QyYDyH8tQZPjvHIogy1BryQY6bCHLUFlYnmFwIwtQcQ6VO0Lly1B6Zfj9HOVLUFWCMUDN5ctQaKV9iAApS1B6lMXZKKhLUEi2NV0Gp8tQS3IN+8coi1B15aRmAOlLUFtYua8OZ8tQSHcPKRBqy1Bwr6F9Gi1LUGGNmmJtactQYC03j5Iri1BMsR0eXatLUEL7RWF6bMtQdg3Wzpdty1ByhEr/vCzLUHwCorlTa4tQaXsT093uS1BUni7mkTCLUE8ZtxvLcUtQSH3xL4cvS1BmBJ8wp3CLUG1BHMj08MtQQDxygKcvS1BEnq1dMPLLUEE10zY2sItQe+0QDazvy1BzfBW5Eu5LUEQ4AlJWrgtQYX6nluTxC1BpX4eaqu9LUG+3M9sFcAtQePd2rYdwS1BkAYbWR7ALUE=\",\"dtype\":\"float64\",\"order\":\"little\",\"shape\":[100]}},\"selected\":{\"id\":\"1248\"},\"selection_policy\":{\"id\":\"1249\"}},\"id\":\"1233\",\"type\":\"ColumnDataSource\"},{\"attributes\":{\"axis\":{\"id\":\"1207\"},\"dimension\":1,\"ticker\":null},\"id\":\"1210\",\"type\":\"Grid\"},{\"attributes\":{\"source\":{\"id\":\"1110\"}},\"id\":\"1115\",\"type\":\"CDSView\"},{\"attributes\":{\"line_color\":\"#ff7f0e\",\"line_width\":2,\"x\":{\"field\":\"x\"},\"y\":{\"field\":\"y\"}},\"id\":\"1295\",\"type\":\"Line\"},{\"attributes\":{},\"id\":\"1013\",\"type\":\"LinearScale\"},{\"attributes\":{\"data_source\":{\"id\":\"1294\"},\"glyph\":{\"id\":\"1295\"},\"hover_glyph\":null,\"muted_glyph\":null,\"nonselection_glyph\":{\"id\":\"1296\"},\"selection_glyph\":null,\"view\":{\"id\":\"1298\"}},\"id\":\"1297\",\"type\":\"GlyphRenderer\"},{\"attributes\":{\"data\":{\"4755\":{\"__ndarray__\":\"AAAAAAAAAAATCToe+3LhP1Bns4tvKsM/p/l4tB4AwT/904vN/dXPP/jSKe2jlrk/0CMgCoBfxT9MZECfmzOzP+XESgb/n60/V8GiIjoD2T+jVdQt9tfXPzVojNuwDMg/2970V0xcsD/AM1XNco3MP5/igwFgMNM/xnO/ktl/vT+lsiOGk6+zP74506KEC8I/cXW7dDT6uz/uR2wACSTJPwrmKsyp4ac/MSc3esKnvD8JKny8zpu/P8xrIl8flNo/0nn7vJOppz/DCC6FJhW2P4Nj6fNNEMc/2t9+cNS9xj91lr6jnbjSP1u0/jeOKcU/vusSKFWM4z8GXuCK3RjeP0vKdKgTYrk/tU/21Z/fxj9f2Akk1/zFP2NmgX9op8c/0BubbiwM4z+URYppMsW4P5+GORroO7U/f2TI3PmUuD+LvCVgAua9P6jM0joiq9I/DjgJeoN5vT8bFKpCBhHLP/UI+qfok9w/JM26Kb0ZxD9E0XhK25q1P3AHbXA8osE/e3Q8kBHvxj/X8kEZIdC5P4V9nQz5+bk/pWafjvXmyz+yHxro27q2P2inaAvf3rY/FpSvbvDItT+wCeD8oSjDPxglCFHNZ7o//ytRogPA1T+MNzQNHr+6PwIpI7vWJMA/3t7k7xZTyj+cBx4yd4/YP7gUzk+jBL0/qPDqDd4irj9tylWK6rPFP1eUTqIy/Lo/bAmQiHYCyT8sxLFPIAvUP0WZYls/W8E/IjbRv0mezj9ftcgioUWyPwuy6RkKcr4/Bc4OSh3/yz/gKizFTinQP068YfKyPMA/qa3SObGd2j/w9hy4pTq+PwdDD4iR99Y/kzsXO4iazj+jJ3aWORnPPxRLwYJLDcU/CEAcrbMJ2j9Zk7Edz/jFP7Sc98RkxMM/eF60jJVyrj81t6bdV+q9P064ZRCe5aU/7vJQbktKyz97lvuEwz7FP6tfgh4jI8A/f7byQsy5sT8+FoR4i8LFPyQTtUcOKKw/0OMo7Thwwj/e7MEk2auvP6l7mIUN4tQ/c7LF/J3ZwD+4UlnZGe60P9WG7UyCBbs/rlvPdYo8sz8=\",\"dtype\":\"float64\",\"order\":\"little\",\"shape\":[100]},\"6701\":{\"__ndarray__\":\"AAAAAAAAAAC8hEY3ap28P5HKLdBlOMs/yu5xfjqEuT8Ciwz8HUzWP/ZHpid14rA/CyqPtW2p1D/R/B/KV6K5P0dwKnvGWcM/Y3fzGbZ/uj+CZH4tqOK5P34UBlaOz8A/+PX5U1FRwD/l7kZ6rmnAP+agl/FAg78/i7hG+7aOuz/A39LY6we5PxKZ1o6b0sE/y7TSAVgxwz968AENsmCkP8H/xbHzgqc/4NVRAs54tj8UNRrfccvLP7B49dZ9LLg/uLU1/dsovD+67173GWPRP7EA2u1GEMA/Jnxo+flwuj954leLGzGzP8mR6oPzQLM/KJ2nQ4essT9OOVY1n2q5P+xmsIq849c/5Yl05jx0xD/aPDoj41i+P4uRLSMVusA/tm3F8kT6sz8X0W3AOM7WPyZ71UWXLNA/K4PALxOXvz+ChsV3nVLMP3XFZBpEZsY/MXAWjo/Hyj88l4xnPpbEP7ljsARqbsQ/isz1CzOFtj/MlsTq3N+9P64tlItDOtE/pnbCttOIwj+zssWFKPy0P8E/5ZnDzsI/VEA2IdIQwz93lQnH9qCyP+y2kCp++LY/VtZhyro+0T/DFess2QPHP46qDCsgHbk/7aa7TCdQ1D+sa8M3lJPTP0IKZiS+d8E/0ir8Gxdo0z9WlDCb7CfBPwGoGU1t1rI/Pis+wJDysj9SKuargHm5P5SDeom1ONg/upeQi6Hxwz+l7bvkjaa6P3vdtxeo3sU/f4iO0jzPuz8rbapFkCKuP5nw8F4jgrI/XeLySyRi0D9WUCLExgHHP78jGn5RctI/lRE9GlckvT/AHMt8jXDIP9z2930oJcQ/F284toFIrD8WdiEaikbEP4aT83uVicM/Mg1tzYg0tz/85yZjv/nEP69jLlp+u7I/31429vDDsj8F9Wd75wjMP/NI6pINkaY/XxZWssA6uT/xmq9Ufaq5PwauTlOEmMU/+CNpEbrdxz8vfWDb8na1P4uecjGn3K8/BQnkH9IXxj9BYV00TcnMPy93WIvI0bI/IoZiD88zwD+JIt83io6zP9o+2ryb7sU/FnMu36DWuD8=\",\"dtype\":\"float64\",\"order\":\"little\",\"shape\":[100]},\"7203\":{\"__ndarray__\":\"AAAAAAAAAACkrkKAaHiwP5IjHMWXLb4/jVwWUp9qwD+QAfdr6FW6P66Iv55ewro/Qtyj5QDUtz+BKFdVrO3KP9V7BmKty7U/otzlfsUnxT9/sVSrgOSvP7NCuGOJAeA/uA36VJV7tD8X88xuf37EP9rSDGHAPr4/J4p/UZEMxj/lk/NXnEHPPym/Saqc1NA/2JaCX+Ciwz8AyRUEX9O1P66vHtZAh7Y/LG6qEDQsxz/iRQYK/DDFP681vt4vErE//ux8Of68wT8A9ZulAC6zP1di009yv8I/1AEXigsS1j+UCl9S3qHQP0zZM/QBrdI/uiw2aPSNtD/fghuPcvu6P0VDCss4Jbg/8hXYNHK3vT/Uu9RaTeHKPyPXRI2tG7g/8iuPIE5Wrz9Ju7h8k0a9P+auBZjpMsQ/iib/blO+wT9hKrrpjqnGP6wSiCgXqbE/MIP4lRVWyD8mGhhd9mHKP95OAnPiNr8/59rab/0w2T9G2yO7Y/uyP7b5uy5rssA/ENnlS6QSuD9/ioF2XujJP6xdmqLGAbw/c6AKN3b2vD/kGAAtyae0P7XoIT2iY8E/EhOF3O1o0z8VZtIN3X/PP379iG/ZILk/0WRWj06BuD+r1Z1DbtqxP2wG4cfXIcw/T0Ra+PpHwz8fvAxjyFe4Py5KOywMKNo/IJ1Vif/ntT+iou4pptTNP65ikrwOU7I/cFZuL6IVyD9NpMjZ9+7GP5bdPtBtJK4/yvC+lwPPvT+XwsfSELeuP82vI2u6yrg/Vr7dv1EZwz8RImq503TEPwfd2guKpsA/bVucz2LuyT8MQJUnfi24P6grlZ43ZLI/MSnJ8Xiu0z+UXj9bi2DAP2CEprXi8c0/no1iVFf8vT9oy6EMoSm3P3G0369MJdk/qoHK1OT02j+v0GRn53avPy7lwyUxL8U/RHGbdA1mxT87KdvV5jjGP/TvCzRjpdA/pjTvMiWT2D84wJNyK5WtP5G++++jd8A/WjiwRqdYxT/TZaEYkwu5P4D5jbjdpbM/LJa5Im7Nwj9uwGI/cODdP1rHG/h0fbM/LMoVbBZPvT8=\",\"dtype\":\"float64\",\"order\":\"little\",\"shape\":[100]},\"7267\":{\"__ndarray__\":\"AAAAAAAAAABJNsAMNo/EPwy3H3iMGMA/KvVtyRFt0z+W6BPyyfy2P6oFMAA3b9U/9pt3Ap5QzT9GouJjzMu+P8jcL9Op1LM/V6aVmPCmyz/4DlJy9TnIP5kgnkTLeKo/NzUN2WHI3j+FLeMX/KnEP04zoe81eLQ/f5DqGsKWrz+elTmntLazPzz1VCqp974/NsMDCX7l3D/SGEdg85e1P2UeZFKMp68/4Q0Fu+K1wT9msn3hufbEP5ODFEDxKsA/SQdqA6yOuD8POd/PPevPP6G6XzJ2rsE/9vHjLBrTxj8rjPWxXUDMP76M7RnPvLo/10Q3AmcpuD/1/+KCejLEPzy5Jx/54ss/oCoBb34X1T+sO/XHH7C+Pytysz1zDNA/U9+m8NbjsT8sn4TYCArNP22P565gtbU/PylxOHwXuD8EhnKhOFq7P15W5SurgbQ/djY1ERC8wD9Czw1uHs67P8oRqGLsZbQ/5AaE4GQWwD9jNJz1bnPcP31C7Eb2Dcg/Y0MQrWxbuj+yz8rRxbrRPxB2mcqzI9g/a8M0SfgUwT/QZbf7r83iP2rSViQ5ac4/TD+TpVsiwz+kqcK9xP3AP9jbBDMoXdI/HO/WRGeNtj+W9Tw7oDLMP5tBTnymM7s/UKfjbqWatT/fhV6bthHAP++BuHPZ6cY/xy7eL4qz4T//B66gjmPIPyu1VRSoxrg/Gzk6nt12wT9U8rVAZrXAPwxOEEH5XLU/fSoagwz/yz84wr5/zP7WP1BxaJHNtrk/5K6jFXNDuj+WiVA0BsjPPyiw4fBnp7Q/+qlwgci8sD/gR//PBya3P2NjDzfAfsw/FT4FnlkBwz9L0jMV2XzEP1zdVMhK5MI/sTlOu4m4xD+XB/nk0znUP8MM6DMW4bI/Vyp2kEkKuD/s1Eli31jJPzaKLYwJTeU/e4tH/b1VxT+LOXyB+6LRP2kn+UnlFME/gCt+hpm1vD9lwuRiwQHjP7fw3SN2a+A/5qV/WzIGvj+tb4pu8vbBP/5UAC1vitk/x6Coj2Ri0D/gKXUS5pO7P2jxrCUsNtw/gPAvIhREvj8=\",\"dtype\":\"float64\",\"order\":\"little\",\"shape\":[100]},\"9984\":{\"__ndarray__\":\"AAAAAAAAAACYNTwUT5mzP+Jt4R+mnrg/+cwo6psfzT+4cbBnBVm4Px2pI9S6NcU/SIbbHr8Zuj+MtiH1ucLPPyGyWIkNX7U/DOt6wlpzrj8zSPdSqrjKP493jEsXf7E/R6mtoKLhxD9s+5ju+Wu8PwSXkuy8ILQ/Ea51MOhR2T9ao6UQ5DHaP+KJCkBcndA/r17amovJrz9LJHYDtsbDPxc1G1mJVrI/1UcWQewh1D9AhsWSUFLCP6l+K331Oc4/xc7hxavoyD/CoEtoDpfPP4I6PeyZ19E/KWCUEKmBuj/cv4PSb0qzPzZZILj5RLg/5PIp5NOUsj866BMPb+q3P1LIizA4grk/eTUyzORUwj9IjFU7wZfNP+xED96J6rc/UukXZZW4wD/B9mFUIhu5PxgjWjX7V9U/KbzEAxYH0z9WybgTyfW1P3caAGBOSc0/8HoZThJNxj9sZL+pVJ7BP1smYhQNSbE/ntoODaNPwD81XkPeyLq1P7YrI92pn8I/jk4arpuU2D8aDIA8bFi0PyFuW0C3BMI/10klqsDC0D+dAkXUEyy1PxZG+cwA4tQ/Dt82BrDWtj9iVJmehDq8P7biTKXP3cE/Mm9WguEVrT95s+sGLdfKPyYykrXyt80/5DTf2MCKtz9NtvfJbCjAPyNusbkWKLM/rcSF/ScOuT/zczRvZ9/LP/CAjV6NT9E/Qui7A1NBqz+Kv/WwBWC+P6RBVUVoxts/HXuQbsGiwT+X0ToylwexP4xEFKvHrNE/GyGO5FDwxD9mTDCMDze1P+E2SxIFmMs/sP2waB5PuT+eaiTAh/DaP/jjCcD7gK0/yvvk2zyxsT/jNg50PKS7P91haXIEsMM/tuV8lfiZvD/i4t2LdpC3PzW4x3RnNLQ/2ekIsD17yj9sCOYP8i+yP72Uw8Esz6c/ybg3lopC1D8SZ+s5+mawP8Pcsv4BycA/8fmcI34avz/PHAHqPBWmP2AO73JtnLQ/X4+5dH0nxD+XQO8hIWuxPxDGRs3PVbM/LxmzrZ6Qwz9TBxrFfJnLPw6iylHvw7M/aQ9wAdVD1D8=\",\"dtype\":\"float64\",\"order\":\"little\",\"shape\":[100]},\"datetime\":{\"__ndarray__\":\"AAAoIhZbd0IAAGZrFlt3QgAApLQWW3dCAADi/RZbd0IAACBHF1t3QgAAXpAXW3dCAACc2Rdbd0IAANoiGFt3QgAAGGwYW3dCAABWtRhbd0IAAJT+GFt3QgAA0kcZW3dCAAAQkRlbd0IAAE7aGVt3QgAAjCMaW3dCAADKbBpbd0IAAAi2Glt3QgAARv8aW3dCAACESBtbd0IAAMKRG1t3QgAAANsbW3dCAAA+JBxbd0IAAHxtHFt3QgAAurYcW3dCAAD4/xxbd0IAADZJHVt3QgAAdJIdW3dCAACy2x1bd0IAAPAkHlt3QgAALm4eW3dCAABUJiJbd0IAAJJvIlt3QgAA0LgiW3dCAAAOAiNbd0IAAExLI1t3QgAAipQjW3dCAADI3SNbd0IAAAYnJFt3QgAARHAkW3dCAACCuSRbd0IAAMACJVt3QgAA/kslW3dCAAA8lSVbd0IAAHreJVt3QgAAuCcmW3dCAAD2cCZbd0IAADS6Jlt3QgAAcgMnW3dCAACwTCdbd0IAAO6VJ1t3QgAALN8nW3dCAABqKChbd0IAAKhxKFt3QgAA5rooW3dCAAAkBClbd0IAAGJNKVt3QgAAoJYpW3dCAADe3ylbd0IAABwpKlt3QgAAWnIqW3dCAADoh2hbd0IAACbRaFt3QgAAZBppW3dCAACiY2lbd0IAAOCsaVt3QgAAHvZpW3dCAABcP2pbd0IAAJqIalt3QgAA2NFqW3dCAAAWG2tbd0IAAFRka1t3QgAAkq1rW3dCAADQ9mtbd0IAAA5AbFt3QgAATIlsW3dCAACK0mxbd0IAAMgbbVt3QgAABmVtW3dCAABErm1bd0IAAIL3bVt3QgAAwEBuW3dCAAD+iW5bd0IAADzTblt3QgAAehxvW3dCAAC4ZW9bd0IAAPaub1t3QgAANPhvW3dCAAByQXBbd0IAALCKcFt3QgAA7tNwW3dCAAAUjHRbd0IAAFLVdFt3QgAAkB51W3dCAADOZ3Vbd0IAAAyxdVt3QgAASvp1W3dCAACIQ3Zbd0IAAMaMdlt3QgAABNZ2W3dCAABCH3dbd0I=\",\"dtype\":\"float64\",\"order\":\"little\",\"shape\":[100]},\"x\":{\"__ndarray__\":\"AAAAAAEAAAACAAAAAwAAAAQAAAAFAAAABgAAAAcAAAAIAAAACQAAAAoAAAALAAAADAAAAA0AAAAOAAAADwAAABAAAAARAAAAEgAAABMAAAAUAAAAFQAAABYAAAAXAAAAGAAAABkAAAAaAAAAGwAAABwAAAAdAAAAHgAAAB8AAAAgAAAAIQAAACIAAAAjAAAAJAAAACUAAAAmAAAAJwAAACgAAAApAAAAKgAAACsAAAAsAAAALQAAAC4AAAAvAAAAMAAAADEAAAAyAAAAMwAAADQAAAA1AAAANgAAADcAAAA4AAAAOQAAADoAAAA7AAAAPAAAAD0AAAA+AAAAPwAAAEAAAABBAAAAQgAAAEMAAABEAAAARQAAAEYAAABHAAAASAAAAEkAAABKAAAASwAAAEwAAABNAAAATgAAAE8AAABQAAAAUQAAAFIAAABTAAAAVAAAAFUAAABWAAAAVwAAAFgAAABZAAAAWgAAAFsAAABcAAAAXQAAAF4AAABfAAAAYAAAAGEAAABiAAAAYwAAAA==\",\"dtype\":\"int32\",\"order\":\"little\",\"shape\":[100]},\"yen\":{\"__ndarray__\":\"AAAAAAAA8D/iw9NRMjWlPy8nwJw/D9M/NfZlesqyuz8d0Pqu1He9P7R5tFEbTs0/yXUUDE0Mtj9Mn+XOuX7PP0rW/tihb+E/uwdNy0ecsD/3PfM6/+WwP0DSeiJz/64/HwCNBa+gtT8LP2c6ZqrLP9wNxvLiONM/dF/Xf6Xiwj/gIlIHA0e4P+xABskyhLM/Hrcd15zisj9fU1ejtSPcPyZzEx2E8+U/u3Xfc8hJxT9YN15EoOzHPws8haYOTq8/okOJiBaK2j+sj2SH2CuyP80Jj8NOwsA/y3jhklGjtz8zwcJlyZmzP5SuTtqHLdE/gaApLaCksj+F4zL7E+eyP/kb5PKWob0/UiHp/RCZsj9PIzTQmAXDP7IVQCyAgs8/1WtDzS6ksD+zhZoSI4y7PzMTFRqalrY/WCx9890I0D+S5OvJaLTSP0fSvuXH5MM/ML+dv3Ycxz9y7uoXYXHGP7uNqmyt7b8/imoDBk23uz91RnWtrwDJP0M1nyUxicA/GNOiwLVPuD+qfhJ83YfQP7zw4HF7zr8/W2NLLgflvz/eANxx0GK2PwcTMNPoBr8/wGhXpAV9uj+bJlO7oDjHP4I/bT9+itE/yyh0rq0luj8C8s5LiAS3P2Rz3GTN78Y/DhnnuwwCxT8swrZpHVPBP0VUhIh6RMM/LcJ/mcO0wD+jA8zLce+2P7xBqewKybM/ouqjrolX0T9lCkV7F8LDPxxPRttfA74/m2ddGcjwxj8SFvJHsZLYP4AKkvfKddU/s2yb3XsivD8YEGX7c6azPy0Q0/pmTMQ/T9kddTd8uj89nSZWms61P9gQjXuZ2sA/SJrQZ20cxz/1Fe6kufDJP8pd5hDt4sI/5wumHUWdvD9mnvXovTzFPxXm2dmDCM0/o7be/zWXwj8JUdcorVnVP9QxBEHKLKI/eU7GaM5doz86TOPaojnMPzcOa92qG8c/v4Qxkgk3wD83qU3cbUGqP/gKy2gfi8Q/hHjJCbf0zj9SsE/7twzaP1wN30guAak/jdYZBL3Pxz8ioSapdnWqPz7mYayYgcA/NA6/hZXS0T8=\",\"dtype\":\"float64\",\"order\":\"little\",\"shape\":[100]}},\"selected\":{\"id\":\"1130\"},\"selection_policy\":{\"id\":\"1131\"}},\"id\":\"1110\",\"type\":\"ColumnDataSource\"},{\"attributes\":{\"data\":{\"x\":[],\"y\":[]},\"selected\":{\"id\":\"1291\"},\"selection_policy\":{\"id\":\"1292\"}},\"id\":\"1272\",\"type\":\"ColumnDataSource\"},{\"attributes\":{},\"id\":\"1240\",\"type\":\"BasicTickFormatter\"},{\"attributes\":{\"source\":{\"id\":\"1294\"}},\"id\":\"1298\",\"type\":\"CDSView\"},{\"attributes\":{},\"id\":\"1242\",\"type\":\"BasicTickFormatter\"},{\"attributes\":{\"fields\":[\"yen\",\"4755\",\"9984\",\"6701\",\"7203\"]},\"id\":\"1050\",\"type\":\"Stack\"},{\"attributes\":{\"line_alpha\":0.1,\"line_color\":\"#ff7f0e\",\"line_width\":2,\"x\":{\"field\":\"x\"},\"y\":{\"field\":\"y\"}},\"id\":\"1296\",\"type\":\"Line\"},{\"attributes\":{\"end\":3},\"id\":\"1038\",\"type\":\"Range1d\"},{\"attributes\":{\"data_source\":{\"id\":\"1070\"},\"glyph\":{\"id\":\"1072\"},\"hover_glyph\":null,\"muted_glyph\":null,\"name\":\"4755\",\"nonselection_glyph\":{\"id\":\"1073\"},\"selection_glyph\":null,\"view\":{\"id\":\"1075\"},\"y_range_name\":\"portfolio_vector\"},\"id\":\"1074\",\"type\":\"GlyphRenderer\"},{\"attributes\":{\"end\":1.0311401096684885,\"start\":0.9104836388870634},\"id\":\"1230\",\"type\":\"Range1d\"},{\"attributes\":{\"axis_label\":\"\\u6b63\\u898f\\u5316\\u5e73\\u5747\\u53d6\\u5f97\\u4fa1\\u683c\",\"formatter\":{\"id\":\"1244\"},\"ticker\":{\"id\":\"1208\"}},\"id\":\"1207\",\"type\":\"LinearAxis\"},{\"attributes\":{\"overlay\":{\"id\":\"1029\"}},\"id\":\"1025\",\"type\":\"BoxZoomTool\"},{\"attributes\":{},\"id\":\"1249\",\"type\":\"UnionRenderers\"},{\"attributes\":{},\"id\":\"1016\",\"type\":\"BasicTicker\"},{\"attributes\":{},\"id\":\"1062\",\"type\":\"BasicTickFormatter\"},{\"attributes\":{},\"id\":\"1199\",\"type\":\"LinearScale\"},{\"attributes\":{\"fields\":[\"yen\"]},\"id\":\"1042\",\"type\":\"Stack\"},{\"attributes\":{\"fields\":[\"yen\",\"4755\",\"9984\"]},\"id\":\"1045\",\"type\":\"Stack\"},{\"attributes\":{\"data\":{\"x\":[],\"y\":[]},\"selected\":{\"id\":\"1369\"},\"selection_policy\":{\"id\":\"1370\"}},\"id\":\"1344\",\"type\":\"ColumnDataSource\"},{\"attributes\":{\"data\":{\"4755\":{\"__ndarray__\":\"AAAAAAAAAAATCToe+3LhP1Bns4tvKsM/p/l4tB4AwT/904vN/dXPP/jSKe2jlrk/0CMgCoBfxT9MZECfmzOzP+XESgb/n60/V8GiIjoD2T+jVdQt9tfXPzVojNuwDMg/2970V0xcsD/AM1XNco3MP5/igwFgMNM/xnO/ktl/vT+lsiOGk6+zP74506KEC8I/cXW7dDT6uz/uR2wACSTJPwrmKsyp4ac/MSc3esKnvD8JKny8zpu/P8xrIl8flNo/0nn7vJOppz/DCC6FJhW2P4Nj6fNNEMc/2t9+cNS9xj91lr6jnbjSP1u0/jeOKcU/vusSKFWM4z8GXuCK3RjeP0vKdKgTYrk/tU/21Z/fxj9f2Akk1/zFP2NmgX9op8c/0BubbiwM4z+URYppMsW4P5+GORroO7U/f2TI3PmUuD+LvCVgAua9P6jM0joiq9I/DjgJeoN5vT8bFKpCBhHLP/UI+qfok9w/JM26Kb0ZxD9E0XhK25q1P3AHbXA8osE/e3Q8kBHvxj/X8kEZIdC5P4V9nQz5+bk/pWafjvXmyz+yHxro27q2P2inaAvf3rY/FpSvbvDItT+wCeD8oSjDPxglCFHNZ7o//ytRogPA1T+MNzQNHr+6PwIpI7vWJMA/3t7k7xZTyj+cBx4yd4/YP7gUzk+jBL0/qPDqDd4irj9tylWK6rPFP1eUTqIy/Lo/bAmQiHYCyT8sxLFPIAvUP0WZYls/W8E/IjbRv0mezj9ftcgioUWyPwuy6RkKcr4/Bc4OSh3/yz/gKizFTinQP068YfKyPMA/qa3SObGd2j/w9hy4pTq+PwdDD4iR99Y/kzsXO4iazj+jJ3aWORnPPxRLwYJLDcU/CEAcrbMJ2j9Zk7Edz/jFP7Sc98RkxMM/eF60jJVyrj81t6bdV+q9P064ZRCe5aU/7vJQbktKyz97lvuEwz7FP6tfgh4jI8A/f7byQsy5sT8+FoR4i8LFPyQTtUcOKKw/0OMo7Thwwj/e7MEk2auvP6l7mIUN4tQ/c7LF/J3ZwD+4UlnZGe60P9WG7UyCBbs/rlvPdYo8sz8=\",\"dtype\":\"float64\",\"order\":\"little\",\"shape\":[100]},\"6701\":{\"__ndarray__\":\"AAAAAAAAAAC8hEY3ap28P5HKLdBlOMs/yu5xfjqEuT8Ciwz8HUzWP/ZHpid14rA/CyqPtW2p1D/R/B/KV6K5P0dwKnvGWcM/Y3fzGbZ/uj+CZH4tqOK5P34UBlaOz8A/+PX5U1FRwD/l7kZ6rmnAP+agl/FAg78/i7hG+7aOuz/A39LY6we5PxKZ1o6b0sE/y7TSAVgxwz968AENsmCkP8H/xbHzgqc/4NVRAs54tj8UNRrfccvLP7B49dZ9LLg/uLU1/dsovD+67173GWPRP7EA2u1GEMA/Jnxo+flwuj954leLGzGzP8mR6oPzQLM/KJ2nQ4essT9OOVY1n2q5P+xmsIq849c/5Yl05jx0xD/aPDoj41i+P4uRLSMVusA/tm3F8kT6sz8X0W3AOM7WPyZ71UWXLNA/K4PALxOXvz+ChsV3nVLMP3XFZBpEZsY/MXAWjo/Hyj88l4xnPpbEP7ljsARqbsQ/isz1CzOFtj/MlsTq3N+9P64tlItDOtE/pnbCttOIwj+zssWFKPy0P8E/5ZnDzsI/VEA2IdIQwz93lQnH9qCyP+y2kCp++LY/VtZhyro+0T/DFess2QPHP46qDCsgHbk/7aa7TCdQ1D+sa8M3lJPTP0IKZiS+d8E/0ir8Gxdo0z9WlDCb7CfBPwGoGU1t1rI/Pis+wJDysj9SKuargHm5P5SDeom1ONg/upeQi6Hxwz+l7bvkjaa6P3vdtxeo3sU/f4iO0jzPuz8rbapFkCKuP5nw8F4jgrI/XeLySyRi0D9WUCLExgHHP78jGn5RctI/lRE9GlckvT/AHMt8jXDIP9z2930oJcQ/F284toFIrD8WdiEaikbEP4aT83uVicM/Mg1tzYg0tz/85yZjv/nEP69jLlp+u7I/31429vDDsj8F9Wd75wjMP/NI6pINkaY/XxZWssA6uT/xmq9Ufaq5PwauTlOEmMU/+CNpEbrdxz8vfWDb8na1P4uecjGn3K8/BQnkH9IXxj9BYV00TcnMPy93WIvI0bI/IoZiD88zwD+JIt83io6zP9o+2ryb7sU/FnMu36DWuD8=\",\"dtype\":\"float64\",\"order\":\"little\",\"shape\":[100]},\"7203\":{\"__ndarray__\":\"AAAAAAAAAACkrkKAaHiwP5IjHMWXLb4/jVwWUp9qwD+QAfdr6FW6P66Iv55ewro/Qtyj5QDUtz+BKFdVrO3KP9V7BmKty7U/otzlfsUnxT9/sVSrgOSvP7NCuGOJAeA/uA36VJV7tD8X88xuf37EP9rSDGHAPr4/J4p/UZEMxj/lk/NXnEHPPym/Saqc1NA/2JaCX+Ciwz8AyRUEX9O1P66vHtZAh7Y/LG6qEDQsxz/iRQYK/DDFP681vt4vErE//ux8Of68wT8A9ZulAC6zP1di009yv8I/1AEXigsS1j+UCl9S3qHQP0zZM/QBrdI/uiw2aPSNtD/fghuPcvu6P0VDCss4Jbg/8hXYNHK3vT/Uu9RaTeHKPyPXRI2tG7g/8iuPIE5Wrz9Ju7h8k0a9P+auBZjpMsQ/iib/blO+wT9hKrrpjqnGP6wSiCgXqbE/MIP4lRVWyD8mGhhd9mHKP95OAnPiNr8/59rab/0w2T9G2yO7Y/uyP7b5uy5rssA/ENnlS6QSuD9/ioF2XujJP6xdmqLGAbw/c6AKN3b2vD/kGAAtyae0P7XoIT2iY8E/EhOF3O1o0z8VZtIN3X/PP379iG/ZILk/0WRWj06BuD+r1Z1DbtqxP2wG4cfXIcw/T0Ra+PpHwz8fvAxjyFe4Py5KOywMKNo/IJ1Vif/ntT+iou4pptTNP65ikrwOU7I/cFZuL6IVyD9NpMjZ9+7GP5bdPtBtJK4/yvC+lwPPvT+XwsfSELeuP82vI2u6yrg/Vr7dv1EZwz8RImq503TEPwfd2guKpsA/bVucz2LuyT8MQJUnfi24P6grlZ43ZLI/MSnJ8Xiu0z+UXj9bi2DAP2CEprXi8c0/no1iVFf8vT9oy6EMoSm3P3G0369MJdk/qoHK1OT02j+v0GRn53avPy7lwyUxL8U/RHGbdA1mxT87KdvV5jjGP/TvCzRjpdA/pjTvMiWT2D84wJNyK5WtP5G++++jd8A/WjiwRqdYxT/TZaEYkwu5P4D5jbjdpbM/LJa5Im7Nwj9uwGI/cODdP1rHG/h0fbM/LMoVbBZPvT8=\",\"dtype\":\"float64\",\"order\":\"little\",\"shape\":[100]},\"7267\":{\"__ndarray__\":\"AAAAAAAAAABJNsAMNo/EPwy3H3iMGMA/KvVtyRFt0z+W6BPyyfy2P6oFMAA3b9U/9pt3Ap5QzT9GouJjzMu+P8jcL9Op1LM/V6aVmPCmyz/4DlJy9TnIP5kgnkTLeKo/NzUN2WHI3j+FLeMX/KnEP04zoe81eLQ/f5DqGsKWrz+elTmntLazPzz1VCqp974/NsMDCX7l3D/SGEdg85e1P2UeZFKMp68/4Q0Fu+K1wT9msn3hufbEP5ODFEDxKsA/SQdqA6yOuD8POd/PPevPP6G6XzJ2rsE/9vHjLBrTxj8rjPWxXUDMP76M7RnPvLo/10Q3AmcpuD/1/+KCejLEPzy5Jx/54ss/oCoBb34X1T+sO/XHH7C+Pytysz1zDNA/U9+m8NbjsT8sn4TYCArNP22P565gtbU/PylxOHwXuD8EhnKhOFq7P15W5SurgbQ/djY1ERC8wD9Czw1uHs67P8oRqGLsZbQ/5AaE4GQWwD9jNJz1bnPcP31C7Eb2Dcg/Y0MQrWxbuj+yz8rRxbrRPxB2mcqzI9g/a8M0SfgUwT/QZbf7r83iP2rSViQ5ac4/TD+TpVsiwz+kqcK9xP3AP9jbBDMoXdI/HO/WRGeNtj+W9Tw7oDLMP5tBTnymM7s/UKfjbqWatT/fhV6bthHAP++BuHPZ6cY/xy7eL4qz4T//B66gjmPIPyu1VRSoxrg/Gzk6nt12wT9U8rVAZrXAPwxOEEH5XLU/fSoagwz/yz84wr5/zP7WP1BxaJHNtrk/5K6jFXNDuj+WiVA0BsjPPyiw4fBnp7Q/+qlwgci8sD/gR//PBya3P2NjDzfAfsw/FT4FnlkBwz9L0jMV2XzEP1zdVMhK5MI/sTlOu4m4xD+XB/nk0znUP8MM6DMW4bI/Vyp2kEkKuD/s1Eli31jJPzaKLYwJTeU/e4tH/b1VxT+LOXyB+6LRP2kn+UnlFME/gCt+hpm1vD9lwuRiwQHjP7fw3SN2a+A/5qV/WzIGvj+tb4pu8vbBP/5UAC1vitk/x6Coj2Ri0D/gKXUS5pO7P2jxrCUsNtw/gPAvIhREvj8=\",\"dtype\":\"float64\",\"order\":\"little\",\"shape\":[100]},\"9984\":{\"__ndarray__\":\"AAAAAAAAAACYNTwUT5mzP+Jt4R+mnrg/+cwo6psfzT+4cbBnBVm4Px2pI9S6NcU/SIbbHr8Zuj+MtiH1ucLPPyGyWIkNX7U/DOt6wlpzrj8zSPdSqrjKP493jEsXf7E/R6mtoKLhxD9s+5ju+Wu8PwSXkuy8ILQ/Ea51MOhR2T9ao6UQ5DHaP+KJCkBcndA/r17amovJrz9LJHYDtsbDPxc1G1mJVrI/1UcWQewh1D9AhsWSUFLCP6l+K331Oc4/xc7hxavoyD/CoEtoDpfPP4I6PeyZ19E/KWCUEKmBuj/cv4PSb0qzPzZZILj5RLg/5PIp5NOUsj866BMPb+q3P1LIizA4grk/eTUyzORUwj9IjFU7wZfNP+xED96J6rc/UukXZZW4wD/B9mFUIhu5PxgjWjX7V9U/KbzEAxYH0z9WybgTyfW1P3caAGBOSc0/8HoZThJNxj9sZL+pVJ7BP1smYhQNSbE/ntoODaNPwD81XkPeyLq1P7YrI92pn8I/jk4arpuU2D8aDIA8bFi0PyFuW0C3BMI/10klqsDC0D+dAkXUEyy1PxZG+cwA4tQ/Dt82BrDWtj9iVJmehDq8P7biTKXP3cE/Mm9WguEVrT95s+sGLdfKPyYykrXyt80/5DTf2MCKtz9NtvfJbCjAPyNusbkWKLM/rcSF/ScOuT/zczRvZ9/LP/CAjV6NT9E/Qui7A1NBqz+Kv/WwBWC+P6RBVUVoxts/HXuQbsGiwT+X0ToylwexP4xEFKvHrNE/GyGO5FDwxD9mTDCMDze1P+E2SxIFmMs/sP2waB5PuT+eaiTAh/DaP/jjCcD7gK0/yvvk2zyxsT/jNg50PKS7P91haXIEsMM/tuV8lfiZvD/i4t2LdpC3PzW4x3RnNLQ/2ekIsD17yj9sCOYP8i+yP72Uw8Esz6c/ybg3lopC1D8SZ+s5+mawP8Pcsv4BycA/8fmcI34avz/PHAHqPBWmP2AO73JtnLQ/X4+5dH0nxD+XQO8hIWuxPxDGRs3PVbM/LxmzrZ6Qwz9TBxrFfJnLPw6iylHvw7M/aQ9wAdVD1D8=\",\"dtype\":\"float64\",\"order\":\"little\",\"shape\":[100]},\"datetime\":{\"__ndarray__\":\"AAAoIhZbd0IAAGZrFlt3QgAApLQWW3dCAADi/RZbd0IAACBHF1t3QgAAXpAXW3dCAACc2Rdbd0IAANoiGFt3QgAAGGwYW3dCAABWtRhbd0IAAJT+GFt3QgAA0kcZW3dCAAAQkRlbd0IAAE7aGVt3QgAAjCMaW3dCAADKbBpbd0IAAAi2Glt3QgAARv8aW3dCAACESBtbd0IAAMKRG1t3QgAAANsbW3dCAAA+JBxbd0IAAHxtHFt3QgAAurYcW3dCAAD4/xxbd0IAADZJHVt3QgAAdJIdW3dCAACy2x1bd0IAAPAkHlt3QgAALm4eW3dCAABUJiJbd0IAAJJvIlt3QgAA0LgiW3dCAAAOAiNbd0IAAExLI1t3QgAAipQjW3dCAADI3SNbd0IAAAYnJFt3QgAARHAkW3dCAACCuSRbd0IAAMACJVt3QgAA/kslW3dCAAA8lSVbd0IAAHreJVt3QgAAuCcmW3dCAAD2cCZbd0IAADS6Jlt3QgAAcgMnW3dCAACwTCdbd0IAAO6VJ1t3QgAALN8nW3dCAABqKChbd0IAAKhxKFt3QgAA5rooW3dCAAAkBClbd0IAAGJNKVt3QgAAoJYpW3dCAADe3ylbd0IAABwpKlt3QgAAWnIqW3dCAADoh2hbd0IAACbRaFt3QgAAZBppW3dCAACiY2lbd0IAAOCsaVt3QgAAHvZpW3dCAABcP2pbd0IAAJqIalt3QgAA2NFqW3dCAAAWG2tbd0IAAFRka1t3QgAAkq1rW3dCAADQ9mtbd0IAAA5AbFt3QgAATIlsW3dCAACK0mxbd0IAAMgbbVt3QgAABmVtW3dCAABErm1bd0IAAIL3bVt3QgAAwEBuW3dCAAD+iW5bd0IAADzTblt3QgAAehxvW3dCAAC4ZW9bd0IAAPaub1t3QgAANPhvW3dCAAByQXBbd0IAALCKcFt3QgAA7tNwW3dCAAAUjHRbd0IAAFLVdFt3QgAAkB51W3dCAADOZ3Vbd0IAAAyxdVt3QgAASvp1W3dCAACIQ3Zbd0IAAMaMdlt3QgAABNZ2W3dCAABCH3dbd0I=\",\"dtype\":\"float64\",\"order\":\"little\",\"shape\":[100]},\"x\":{\"__ndarray__\":\"AAAAAAEAAAACAAAAAwAAAAQAAAAFAAAABgAAAAcAAAAIAAAACQAAAAoAAAALAAAADAAAAA0AAAAOAAAADwAAABAAAAARAAAAEgAAABMAAAAUAAAAFQAAABYAAAAXAAAAGAAAABkAAAAaAAAAGwAAABwAAAAdAAAAHgAAAB8AAAAgAAAAIQAAACIAAAAjAAAAJAAAACUAAAAmAAAAJwAAACgAAAApAAAAKgAAACsAAAAsAAAALQAAAC4AAAAvAAAAMAAAADEAAAAyAAAAMwAAADQAAAA1AAAANgAAADcAAAA4AAAAOQAAADoAAAA7AAAAPAAAAD0AAAA+AAAAPwAAAEAAAABBAAAAQgAAAEMAAABEAAAARQAAAEYAAABHAAAASAAAAEkAAABKAAAASwAAAEwAAABNAAAATgAAAE8AAABQAAAAUQAAAFIAAABTAAAAVAAAAFUAAABWAAAAVwAAAFgAAABZAAAAWgAAAFsAAABcAAAAXQAAAF4AAABfAAAAYAAAAGEAAABiAAAAYwAAAA==\",\"dtype\":\"int32\",\"order\":\"little\",\"shape\":[100]},\"yen\":{\"__ndarray__\":\"AAAAAAAA8D/iw9NRMjWlPy8nwJw/D9M/NfZlesqyuz8d0Pqu1He9P7R5tFEbTs0/yXUUDE0Mtj9Mn+XOuX7PP0rW/tihb+E/uwdNy0ecsD/3PfM6/+WwP0DSeiJz/64/HwCNBa+gtT8LP2c6ZqrLP9wNxvLiONM/dF/Xf6Xiwj/gIlIHA0e4P+xABskyhLM/Hrcd15zisj9fU1ejtSPcPyZzEx2E8+U/u3Xfc8hJxT9YN15EoOzHPws8haYOTq8/okOJiBaK2j+sj2SH2CuyP80Jj8NOwsA/y3jhklGjtz8zwcJlyZmzP5SuTtqHLdE/gaApLaCksj+F4zL7E+eyP/kb5PKWob0/UiHp/RCZsj9PIzTQmAXDP7IVQCyAgs8/1WtDzS6ksD+zhZoSI4y7PzMTFRqalrY/WCx9890I0D+S5OvJaLTSP0fSvuXH5MM/ML+dv3Ycxz9y7uoXYXHGP7uNqmyt7b8/imoDBk23uz91RnWtrwDJP0M1nyUxicA/GNOiwLVPuD+qfhJ83YfQP7zw4HF7zr8/W2NLLgflvz/eANxx0GK2PwcTMNPoBr8/wGhXpAV9uj+bJlO7oDjHP4I/bT9+itE/yyh0rq0luj8C8s5LiAS3P2Rz3GTN78Y/DhnnuwwCxT8swrZpHVPBP0VUhIh6RMM/LcJ/mcO0wD+jA8zLce+2P7xBqewKybM/ouqjrolX0T9lCkV7F8LDPxxPRttfA74/m2ddGcjwxj8SFvJHsZLYP4AKkvfKddU/s2yb3XsivD8YEGX7c6azPy0Q0/pmTMQ/T9kddTd8uj89nSZWms61P9gQjXuZ2sA/SJrQZ20cxz/1Fe6kufDJP8pd5hDt4sI/5wumHUWdvD9mnvXovTzFPxXm2dmDCM0/o7be/zWXwj8JUdcorVnVP9QxBEHKLKI/eU7GaM5doz86TOPaojnMPzcOa92qG8c/v4Qxkgk3wD83qU3cbUGqP/gKy2gfi8Q/hHjJCbf0zj9SsE/7twzaP1wN30guAak/jdYZBL3Pxz8ioSapdnWqPz7mYayYgcA/NA6/hZXS0T8=\",\"dtype\":\"float64\",\"order\":\"little\",\"shape\":[100]}},\"selected\":{\"id\":\"1066\"},\"selection_policy\":{\"id\":\"1067\"}},\"id\":\"1052\",\"type\":\"ColumnDataSource\"},{\"attributes\":{},\"id\":\"1246\",\"type\":\"Selection\"},{\"attributes\":{\"fields\":[\"yen\",\"4755\",\"9984\",\"6701\",\"7203\",\"7267\"]},\"id\":\"1051\",\"type\":\"Stack\"},{\"attributes\":{},\"id\":\"1011\",\"type\":\"LinearScale\"},{\"attributes\":{\"axis\":{\"id\":\"1019\"},\"dimension\":1,\"ticker\":null},\"id\":\"1022\",\"type\":\"Grid\"},{\"attributes\":{},\"id\":\"1247\",\"type\":\"UnionRenderers\"},{\"attributes\":{\"line_alpha\":0.1,\"line_color\":\"red\",\"line_width\":4,\"x\":{\"field\":\"x\"},\"y\":{\"field\":\"y\"}},\"id\":\"1235\",\"type\":\"Line\"},{\"attributes\":{\"fields\":[\"yen\",\"4755\"]},\"id\":\"1044\",\"type\":\"Stack\"},{\"attributes\":{},\"id\":\"1026\",\"type\":\"SaveTool\"},{\"attributes\":{\"label\":{\"value\":\"4755\"},\"renderers\":[{\"id\":\"1275\"}]},\"id\":\"1293\",\"type\":\"LegendItem\"},{\"attributes\":{},\"id\":\"1244\",\"type\":\"BasicTickFormatter\"},{\"attributes\":{},\"id\":\"1239\",\"type\":\"BasicTicker\"},{\"attributes\":{\"line_alpha\":{\"value\":0.1},\"line_color\":{\"field\":\"line_color\"},\"line_width\":{\"value\":2},\"xs\":{\"field\":\"xs\"},\"ys\":{\"field\":\"ys\"}},\"id\":\"1227\",\"type\":\"MultiLine\"},{\"attributes\":{},\"id\":\"1204\",\"type\":\"BasicTicker\"},{\"attributes\":{\"axis\":{\"id\":\"1203\"},\"ticker\":null},\"id\":\"1206\",\"type\":\"Grid\"},{\"attributes\":{\"bottom\":{\"expr\":{\"id\":\"1048\"}},\"fill_alpha\":{\"value\":0.1},\"fill_color\":{\"value\":\"#2ca02c\"},\"line_alpha\":{\"value\":0.1},\"line_color\":{\"value\":\"#2ca02c\"},\"top\":{\"expr\":{\"id\":\"1049\"}},\"width\":{\"value\":1},\"x\":{\"field\":\"x\"}},\"id\":\"1136\",\"type\":\"VBar\"},{\"attributes\":{},\"id\":\"1248\",\"type\":\"Selection\"},{\"attributes\":{},\"id\":\"1028\",\"type\":\"HelpTool\"},{\"attributes\":{\"formatter\":{\"id\":\"1242\"},\"major_label_overrides\":{\"0\":\"2020-11-10 09:00:00\",\"1\":\"2020-11-10 09:05:00\",\"10\":\"2020-11-10 09:50:00\",\"11\":\"2020-11-10 09:55:00\",\"12\":\"2020-11-10 10:00:00\",\"13\":\"2020-11-10 10:05:00\",\"14\":\"2020-11-10 10:10:00\",\"15\":\"2020-11-10 10:15:00\",\"16\":\"2020-11-10 10:20:00\",\"17\":\"2020-11-10 10:25:00\",\"18\":\"2020-11-10 10:30:00\",\"19\":\"2020-11-10 10:35:00\",\"2\":\"2020-11-10 09:10:00\",\"20\":\"2020-11-10 10:40:00\",\"21\":\"2020-11-10 10:45:00\",\"22\":\"2020-11-10 10:50:00\",\"23\":\"2020-11-10 10:55:00\",\"24\":\"2020-11-10 11:00:00\",\"25\":\"2020-11-10 11:05:00\",\"26\":\"2020-11-10 11:10:00\",\"27\":\"2020-11-10 11:15:00\",\"28\":\"2020-11-10 11:20:00\",\"29\":\"2020-11-10 11:25:00\",\"3\":\"2020-11-10 09:15:00\",\"30\":\"2020-11-10 12:30:00\",\"31\":\"2020-11-10 12:35:00\",\"32\":\"2020-11-10 12:40:00\",\"33\":\"2020-11-10 12:45:00\",\"34\":\"2020-11-10 12:50:00\",\"35\":\"2020-11-10 12:55:00\",\"36\":\"2020-11-10 13:00:00\",\"37\":\"2020-11-10 13:05:00\",\"38\":\"2020-11-10 13:10:00\",\"39\":\"2020-11-10 13:15:00\",\"4\":\"2020-11-10 09:20:00\",\"40\":\"2020-11-10 13:20:00\",\"41\":\"2020-11-10 13:25:00\",\"42\":\"2020-11-10 13:30:00\",\"43\":\"2020-11-10 13:35:00\",\"44\":\"2020-11-10 13:40:00\",\"45\":\"2020-11-10 13:45:00\",\"46\":\"2020-11-10 13:50:00\",\"47\":\"2020-11-10 13:55:00\",\"48\":\"2020-11-10 14:00:00\",\"49\":\"2020-11-10 14:05:00\",\"5\":\"2020-11-10 09:25:00\",\"50\":\"2020-11-10 14:10:00\",\"51\":\"2020-11-10 14:15:00\",\"52\":\"2020-11-10 14:20:00\",\"53\":\"2020-11-10 14:25:00\",\"54\":\"2020-11-10 14:30:00\",\"55\":\"2020-11-10 14:35:00\",\"56\":\"2020-11-10 14:40:00\",\"57\":\"2020-11-10 14:45:00\",\"58\":\"2020-11-10 14:50:00\",\"59\":\"2020-11-10 14:55:00\",\"6\":\"2020-11-10 09:30:00\",\"60\":\"2020-11-11 09:00:00\",\"61\":\"2020-11-11 09:05:00\",\"62\":\"2020-11-11 09:10:00\",\"63\":\"2020-11-11 09:15:00\",\"64\":\"2020-11-11 09:20:00\",\"65\":\"2020-11-11 09:25:00\",\"66\":\"2020-11-11 09:30:00\",\"67\":\"2020-11-11 09:35:00\",\"68\":\"2020-11-11 09:40:00\",\"69\":\"2020-11-11 09:45:00\",\"7\":\"2020-11-10 09:35:00\",\"70\":\"2020-11-11 09:50:00\",\"71\":\"2020-11-11 09:55:00\",\"72\":\"2020-11-11 10:00:00\",\"73\":\"2020-11-11 10:05:00\",\"74\":\"2020-11-11 10:10:00\",\"75\":\"2020-11-11 10:15:00\",\"76\":\"2020-11-11 10:20:00\",\"77\":\"2020-11-11 10:25:00\",\"78\":\"2020-11-11 10:30:00\",\"79\":\"2020-11-11 10:35:00\",\"8\":\"2020-11-10 09:40:00\",\"80\":\"2020-11-11 10:40:00\",\"81\":\"2020-11-11 10:45:00\",\"82\":\"2020-11-11 10:50:00\",\"83\":\"2020-11-11 10:55:00\",\"84\":\"2020-11-11 11:00:00\",\"85\":\"2020-11-11 11:05:00\",\"86\":\"2020-11-11 11:10:00\",\"87\":\"2020-11-11 11:15:00\",\"88\":\"2020-11-11 11:20:00\",\"89\":\"2020-11-11 11:25:00\",\"9\":\"2020-11-10 09:45:00\",\"90\":\"2020-11-11 12:30:00\",\"91\":\"2020-11-11 12:35:00\",\"92\":\"2020-11-11 12:40:00\",\"93\":\"2020-11-11 12:45:00\",\"94\":\"2020-11-11 12:50:00\",\"95\":\"2020-11-11 12:55:00\",\"96\":\"2020-11-11 13:00:00\",\"97\":\"2020-11-11 13:05:00\",\"98\":\"2020-11-11 13:10:00\",\"99\":\"2020-11-11 13:15:00\"},\"ticker\":{\"id\":\"1204\"}},\"id\":\"1203\",\"type\":\"LinearAxis\"},{\"attributes\":{\"fields\":[\"yen\",\"4755\"]},\"id\":\"1043\",\"type\":\"Stack\"},{\"attributes\":{\"source\":{\"id\":\"1233\"}},\"id\":\"1237\",\"type\":\"CDSView\"},{\"attributes\":{\"data\":{\"x\":[],\"y\":[]},\"selected\":{\"id\":\"1315\"},\"selection_policy\":{\"id\":\"1316\"}},\"id\":\"1294\",\"type\":\"ColumnDataSource\"},{\"attributes\":{\"fields\":[\"yen\"]},\"id\":\"1041\",\"type\":\"Stack\"},{\"attributes\":{\"below\":[{\"id\":\"1203\"}],\"center\":[{\"id\":\"1206\"},{\"id\":\"1210\"},{\"id\":\"1250\"}],\"extra_y_ranges\":{\"all_assets\":{\"id\":\"1231\"}},\"left\":[{\"id\":\"1207\"}],\"plot_height\":300,\"plot_width\":1200,\"renderers\":[{\"id\":\"1228\"},{\"id\":\"1236\"},{\"id\":\"1255\"},{\"id\":\"1275\"},{\"id\":\"1297\"},{\"id\":\"1321\"},{\"id\":\"1347\"},{\"id\":\"1375\"}],\"right\":[{\"id\":\"1232\"}],\"title\":{\"id\":\"1193\"},\"toolbar\":{\"id\":\"1218\"},\"x_range\":{\"id\":\"1195\"},\"x_scale\":{\"id\":\"1199\"},\"y_range\":{\"id\":\"1230\"},\"y_scale\":{\"id\":\"1201\"}},\"id\":\"1192\",\"subtype\":\"Figure\",\"type\":\"Plot\"},{\"attributes\":{\"line_alpha\":0.1,\"line_color\":\"#ffbb78\",\"line_width\":2,\"x\":{\"field\":\"x\"},\"y\":{\"field\":\"y\"}},\"id\":\"1320\",\"type\":\"Line\"},{\"attributes\":{},\"id\":\"1108\",\"type\":\"UnionRenderers\"},{\"attributes\":{\"data_source\":{\"id\":\"1089\"},\"glyph\":{\"id\":\"1091\"},\"hover_glyph\":null,\"muted_glyph\":null,\"name\":\"9984\",\"nonselection_glyph\":{\"id\":\"1092\"},\"selection_glyph\":null,\"view\":{\"id\":\"1094\"},\"y_range_name\":\"portfolio_vector\"},\"id\":\"1093\",\"type\":\"GlyphRenderer\"},{\"attributes\":{\"bottom\":{\"expr\":{\"id\":\"1040\"}},\"fill_alpha\":{\"value\":0.8},\"fill_color\":{\"value\":\"#1f77b4\"},\"line_alpha\":{\"value\":0.8},\"line_color\":{\"value\":\"#1f77b4\"},\"top\":{\"expr\":{\"id\":\"1041\"}},\"width\":{\"value\":1},\"x\":{\"field\":\"x\"}},\"id\":\"1054\",\"type\":\"VBar\"},{\"attributes\":{\"fields\":[]},\"id\":\"1040\",\"type\":\"Stack\"},{\"attributes\":{},\"id\":\"1183\",\"type\":\"UnionRenderers\"},{\"attributes\":{\"data_source\":{\"id\":\"1052\"},\"glyph\":{\"id\":\"1054\"},\"hover_glyph\":null,\"muted_glyph\":null,\"name\":\"yen\",\"nonselection_glyph\":{\"id\":\"1055\"},\"selection_glyph\":null,\"view\":{\"id\":\"1057\"},\"y_range_name\":\"portfolio_vector\"},\"id\":\"1056\",\"type\":\"GlyphRenderer\"},{\"attributes\":{\"line_color\":\"red\",\"line_width\":4,\"x\":{\"field\":\"x\"},\"y\":{\"field\":\"y\"}},\"id\":\"1234\",\"type\":\"Line\"},{\"attributes\":{\"source\":{\"id\":\"1133\"}},\"id\":\"1138\",\"type\":\"CDSView\"},{\"attributes\":{},\"id\":\"1195\",\"type\":\"DataRange1d\"},{\"attributes\":{\"data\":{\"4755\":{\"__ndarray__\":\"AAAAAAAAAAATCToe+3LhP1Bns4tvKsM/p/l4tB4AwT/904vN/dXPP/jSKe2jlrk/0CMgCoBfxT9MZECfmzOzP+XESgb/n60/V8GiIjoD2T+jVdQt9tfXPzVojNuwDMg/2970V0xcsD/AM1XNco3MP5/igwFgMNM/xnO/ktl/vT+lsiOGk6+zP74506KEC8I/cXW7dDT6uz/uR2wACSTJPwrmKsyp4ac/MSc3esKnvD8JKny8zpu/P8xrIl8flNo/0nn7vJOppz/DCC6FJhW2P4Nj6fNNEMc/2t9+cNS9xj91lr6jnbjSP1u0/jeOKcU/vusSKFWM4z8GXuCK3RjeP0vKdKgTYrk/tU/21Z/fxj9f2Akk1/zFP2NmgX9op8c/0BubbiwM4z+URYppMsW4P5+GORroO7U/f2TI3PmUuD+LvCVgAua9P6jM0joiq9I/DjgJeoN5vT8bFKpCBhHLP/UI+qfok9w/JM26Kb0ZxD9E0XhK25q1P3AHbXA8osE/e3Q8kBHvxj/X8kEZIdC5P4V9nQz5+bk/pWafjvXmyz+yHxro27q2P2inaAvf3rY/FpSvbvDItT+wCeD8oSjDPxglCFHNZ7o//ytRogPA1T+MNzQNHr+6PwIpI7vWJMA/3t7k7xZTyj+cBx4yd4/YP7gUzk+jBL0/qPDqDd4irj9tylWK6rPFP1eUTqIy/Lo/bAmQiHYCyT8sxLFPIAvUP0WZYls/W8E/IjbRv0mezj9ftcgioUWyPwuy6RkKcr4/Bc4OSh3/yz/gKizFTinQP068YfKyPMA/qa3SObGd2j/w9hy4pTq+PwdDD4iR99Y/kzsXO4iazj+jJ3aWORnPPxRLwYJLDcU/CEAcrbMJ2j9Zk7Edz/jFP7Sc98RkxMM/eF60jJVyrj81t6bdV+q9P064ZRCe5aU/7vJQbktKyz97lvuEwz7FP6tfgh4jI8A/f7byQsy5sT8+FoR4i8LFPyQTtUcOKKw/0OMo7Thwwj/e7MEk2auvP6l7mIUN4tQ/c7LF/J3ZwD+4UlnZGe60P9WG7UyCBbs/rlvPdYo8sz8=\",\"dtype\":\"float64\",\"order\":\"little\",\"shape\":[100]},\"6701\":{\"__ndarray__\":\"AAAAAAAAAAC8hEY3ap28P5HKLdBlOMs/yu5xfjqEuT8Ciwz8HUzWP/ZHpid14rA/CyqPtW2p1D/R/B/KV6K5P0dwKnvGWcM/Y3fzGbZ/uj+CZH4tqOK5P34UBlaOz8A/+PX5U1FRwD/l7kZ6rmnAP+agl/FAg78/i7hG+7aOuz/A39LY6we5PxKZ1o6b0sE/y7TSAVgxwz968AENsmCkP8H/xbHzgqc/4NVRAs54tj8UNRrfccvLP7B49dZ9LLg/uLU1/dsovD+67173GWPRP7EA2u1GEMA/Jnxo+flwuj954leLGzGzP8mR6oPzQLM/KJ2nQ4essT9OOVY1n2q5P+xmsIq849c/5Yl05jx0xD/aPDoj41i+P4uRLSMVusA/tm3F8kT6sz8X0W3AOM7WPyZ71UWXLNA/K4PALxOXvz+ChsV3nVLMP3XFZBpEZsY/MXAWjo/Hyj88l4xnPpbEP7ljsARqbsQ/isz1CzOFtj/MlsTq3N+9P64tlItDOtE/pnbCttOIwj+zssWFKPy0P8E/5ZnDzsI/VEA2IdIQwz93lQnH9qCyP+y2kCp++LY/VtZhyro+0T/DFess2QPHP46qDCsgHbk/7aa7TCdQ1D+sa8M3lJPTP0IKZiS+d8E/0ir8Gxdo0z9WlDCb7CfBPwGoGU1t1rI/Pis+wJDysj9SKuargHm5P5SDeom1ONg/upeQi6Hxwz+l7bvkjaa6P3vdtxeo3sU/f4iO0jzPuz8rbapFkCKuP5nw8F4jgrI/XeLySyRi0D9WUCLExgHHP78jGn5RctI/lRE9GlckvT/AHMt8jXDIP9z2930oJcQ/F284toFIrD8WdiEaikbEP4aT83uVicM/Mg1tzYg0tz/85yZjv/nEP69jLlp+u7I/31429vDDsj8F9Wd75wjMP/NI6pINkaY/XxZWssA6uT/xmq9Ufaq5PwauTlOEmMU/+CNpEbrdxz8vfWDb8na1P4uecjGn3K8/BQnkH9IXxj9BYV00TcnMPy93WIvI0bI/IoZiD88zwD+JIt83io6zP9o+2ryb7sU/FnMu36DWuD8=\",\"dtype\":\"float64\",\"order\":\"little\",\"shape\":[100]},\"7203\":{\"__ndarray__\":\"AAAAAAAAAACkrkKAaHiwP5IjHMWXLb4/jVwWUp9qwD+QAfdr6FW6P66Iv55ewro/Qtyj5QDUtz+BKFdVrO3KP9V7BmKty7U/otzlfsUnxT9/sVSrgOSvP7NCuGOJAeA/uA36VJV7tD8X88xuf37EP9rSDGHAPr4/J4p/UZEMxj/lk/NXnEHPPym/Saqc1NA/2JaCX+Ciwz8AyRUEX9O1P66vHtZAh7Y/LG6qEDQsxz/iRQYK/DDFP681vt4vErE//ux8Of68wT8A9ZulAC6zP1di009yv8I/1AEXigsS1j+UCl9S3qHQP0zZM/QBrdI/uiw2aPSNtD/fghuPcvu6P0VDCss4Jbg/8hXYNHK3vT/Uu9RaTeHKPyPXRI2tG7g/8iuPIE5Wrz9Ju7h8k0a9P+auBZjpMsQ/iib/blO+wT9hKrrpjqnGP6wSiCgXqbE/MIP4lRVWyD8mGhhd9mHKP95OAnPiNr8/59rab/0w2T9G2yO7Y/uyP7b5uy5rssA/ENnlS6QSuD9/ioF2XujJP6xdmqLGAbw/c6AKN3b2vD/kGAAtyae0P7XoIT2iY8E/EhOF3O1o0z8VZtIN3X/PP379iG/ZILk/0WRWj06BuD+r1Z1DbtqxP2wG4cfXIcw/T0Ra+PpHwz8fvAxjyFe4Py5KOywMKNo/IJ1Vif/ntT+iou4pptTNP65ikrwOU7I/cFZuL6IVyD9NpMjZ9+7GP5bdPtBtJK4/yvC+lwPPvT+XwsfSELeuP82vI2u6yrg/Vr7dv1EZwz8RImq503TEPwfd2guKpsA/bVucz2LuyT8MQJUnfi24P6grlZ43ZLI/MSnJ8Xiu0z+UXj9bi2DAP2CEprXi8c0/no1iVFf8vT9oy6EMoSm3P3G0369MJdk/qoHK1OT02j+v0GRn53avPy7lwyUxL8U/RHGbdA1mxT87KdvV5jjGP/TvCzRjpdA/pjTvMiWT2D84wJNyK5WtP5G++++jd8A/WjiwRqdYxT/TZaEYkwu5P4D5jbjdpbM/LJa5Im7Nwj9uwGI/cODdP1rHG/h0fbM/LMoVbBZPvT8=\",\"dtype\":\"float64\",\"order\":\"little\",\"shape\":[100]},\"7267\":{\"__ndarray__\":\"AAAAAAAAAABJNsAMNo/EPwy3H3iMGMA/KvVtyRFt0z+W6BPyyfy2P6oFMAA3b9U/9pt3Ap5QzT9GouJjzMu+P8jcL9Op1LM/V6aVmPCmyz/4DlJy9TnIP5kgnkTLeKo/NzUN2WHI3j+FLeMX/KnEP04zoe81eLQ/f5DqGsKWrz+elTmntLazPzz1VCqp974/NsMDCX7l3D/SGEdg85e1P2UeZFKMp68/4Q0Fu+K1wT9msn3hufbEP5ODFEDxKsA/SQdqA6yOuD8POd/PPevPP6G6XzJ2rsE/9vHjLBrTxj8rjPWxXUDMP76M7RnPvLo/10Q3AmcpuD/1/+KCejLEPzy5Jx/54ss/oCoBb34X1T+sO/XHH7C+Pytysz1zDNA/U9+m8NbjsT8sn4TYCArNP22P565gtbU/PylxOHwXuD8EhnKhOFq7P15W5SurgbQ/djY1ERC8wD9Czw1uHs67P8oRqGLsZbQ/5AaE4GQWwD9jNJz1bnPcP31C7Eb2Dcg/Y0MQrWxbuj+yz8rRxbrRPxB2mcqzI9g/a8M0SfgUwT/QZbf7r83iP2rSViQ5ac4/TD+TpVsiwz+kqcK9xP3AP9jbBDMoXdI/HO/WRGeNtj+W9Tw7oDLMP5tBTnymM7s/UKfjbqWatT/fhV6bthHAP++BuHPZ6cY/xy7eL4qz4T//B66gjmPIPyu1VRSoxrg/Gzk6nt12wT9U8rVAZrXAPwxOEEH5XLU/fSoagwz/yz84wr5/zP7WP1BxaJHNtrk/5K6jFXNDuj+WiVA0BsjPPyiw4fBnp7Q/+qlwgci8sD/gR//PBya3P2NjDzfAfsw/FT4FnlkBwz9L0jMV2XzEP1zdVMhK5MI/sTlOu4m4xD+XB/nk0znUP8MM6DMW4bI/Vyp2kEkKuD/s1Eli31jJPzaKLYwJTeU/e4tH/b1VxT+LOXyB+6LRP2kn+UnlFME/gCt+hpm1vD9lwuRiwQHjP7fw3SN2a+A/5qV/WzIGvj+tb4pu8vbBP/5UAC1vitk/x6Coj2Ri0D/gKXUS5pO7P2jxrCUsNtw/gPAvIhREvj8=\",\"dtype\":\"float64\",\"order\":\"little\",\"shape\":[100]},\"9984\":{\"__ndarray__\":\"AAAAAAAAAACYNTwUT5mzP+Jt4R+mnrg/+cwo6psfzT+4cbBnBVm4Px2pI9S6NcU/SIbbHr8Zuj+MtiH1ucLPPyGyWIkNX7U/DOt6wlpzrj8zSPdSqrjKP493jEsXf7E/R6mtoKLhxD9s+5ju+Wu8PwSXkuy8ILQ/Ea51MOhR2T9ao6UQ5DHaP+KJCkBcndA/r17amovJrz9LJHYDtsbDPxc1G1mJVrI/1UcWQewh1D9AhsWSUFLCP6l+K331Oc4/xc7hxavoyD/CoEtoDpfPP4I6PeyZ19E/KWCUEKmBuj/cv4PSb0qzPzZZILj5RLg/5PIp5NOUsj866BMPb+q3P1LIizA4grk/eTUyzORUwj9IjFU7wZfNP+xED96J6rc/UukXZZW4wD/B9mFUIhu5PxgjWjX7V9U/KbzEAxYH0z9WybgTyfW1P3caAGBOSc0/8HoZThJNxj9sZL+pVJ7BP1smYhQNSbE/ntoODaNPwD81XkPeyLq1P7YrI92pn8I/jk4arpuU2D8aDIA8bFi0PyFuW0C3BMI/10klqsDC0D+dAkXUEyy1PxZG+cwA4tQ/Dt82BrDWtj9iVJmehDq8P7biTKXP3cE/Mm9WguEVrT95s+sGLdfKPyYykrXyt80/5DTf2MCKtz9NtvfJbCjAPyNusbkWKLM/rcSF/ScOuT/zczRvZ9/LP/CAjV6NT9E/Qui7A1NBqz+Kv/WwBWC+P6RBVUVoxts/HXuQbsGiwT+X0ToylwexP4xEFKvHrNE/GyGO5FDwxD9mTDCMDze1P+E2SxIFmMs/sP2waB5PuT+eaiTAh/DaP/jjCcD7gK0/yvvk2zyxsT/jNg50PKS7P91haXIEsMM/tuV8lfiZvD/i4t2LdpC3PzW4x3RnNLQ/2ekIsD17yj9sCOYP8i+yP72Uw8Esz6c/ybg3lopC1D8SZ+s5+mawP8Pcsv4BycA/8fmcI34avz/PHAHqPBWmP2AO73JtnLQ/X4+5dH0nxD+XQO8hIWuxPxDGRs3PVbM/LxmzrZ6Qwz9TBxrFfJnLPw6iylHvw7M/aQ9wAdVD1D8=\",\"dtype\":\"float64\",\"order\":\"little\",\"shape\":[100]},\"datetime\":{\"__ndarray__\":\"AAAoIhZbd0IAAGZrFlt3QgAApLQWW3dCAADi/RZbd0IAACBHF1t3QgAAXpAXW3dCAACc2Rdbd0IAANoiGFt3QgAAGGwYW3dCAABWtRhbd0IAAJT+GFt3QgAA0kcZW3dCAAAQkRlbd0IAAE7aGVt3QgAAjCMaW3dCAADKbBpbd0IAAAi2Glt3QgAARv8aW3dCAACESBtbd0IAAMKRG1t3QgAAANsbW3dCAAA+JBxbd0IAAHxtHFt3QgAAurYcW3dCAAD4/xxbd0IAADZJHVt3QgAAdJIdW3dCAACy2x1bd0IAAPAkHlt3QgAALm4eW3dCAABUJiJbd0IAAJJvIlt3QgAA0LgiW3dCAAAOAiNbd0IAAExLI1t3QgAAipQjW3dCAADI3SNbd0IAAAYnJFt3QgAARHAkW3dCAACCuSRbd0IAAMACJVt3QgAA/kslW3dCAAA8lSVbd0IAAHreJVt3QgAAuCcmW3dCAAD2cCZbd0IAADS6Jlt3QgAAcgMnW3dCAACwTCdbd0IAAO6VJ1t3QgAALN8nW3dCAABqKChbd0IAAKhxKFt3QgAA5rooW3dCAAAkBClbd0IAAGJNKVt3QgAAoJYpW3dCAADe3ylbd0IAABwpKlt3QgAAWnIqW3dCAADoh2hbd0IAACbRaFt3QgAAZBppW3dCAACiY2lbd0IAAOCsaVt3QgAAHvZpW3dCAABcP2pbd0IAAJqIalt3QgAA2NFqW3dCAAAWG2tbd0IAAFRka1t3QgAAkq1rW3dCAADQ9mtbd0IAAA5AbFt3QgAATIlsW3dCAACK0mxbd0IAAMgbbVt3QgAABmVtW3dCAABErm1bd0IAAIL3bVt3QgAAwEBuW3dCAAD+iW5bd0IAADzTblt3QgAAehxvW3dCAAC4ZW9bd0IAAPaub1t3QgAANPhvW3dCAAByQXBbd0IAALCKcFt3QgAA7tNwW3dCAAAUjHRbd0IAAFLVdFt3QgAAkB51W3dCAADOZ3Vbd0IAAAyxdVt3QgAASvp1W3dCAACIQ3Zbd0IAAMaMdlt3QgAABNZ2W3dCAABCH3dbd0I=\",\"dtype\":\"float64\",\"order\":\"little\",\"shape\":[100]},\"x\":{\"__ndarray__\":\"AAAAAAEAAAACAAAAAwAAAAQAAAAFAAAABgAAAAcAAAAIAAAACQAAAAoAAAALAAAADAAAAA0AAAAOAAAADwAAABAAAAARAAAAEgAAABMAAAAUAAAAFQAAABYAAAAXAAAAGAAAABkAAAAaAAAAGwAAABwAAAAdAAAAHgAAAB8AAAAgAAAAIQAAACIAAAAjAAAAJAAAACUAAAAmAAAAJwAAACgAAAApAAAAKgAAACsAAAAsAAAALQAAAC4AAAAvAAAAMAAAADEAAAAyAAAAMwAAADQAAAA1AAAANgAAADcAAAA4AAAAOQAAADoAAAA7AAAAPAAAAD0AAAA+AAAAPwAAAEAAAABBAAAAQgAAAEMAAABEAAAARQAAAEYAAABHAAAASAAAAEkAAABKAAAASwAAAEwAAABNAAAATgAAAE8AAABQAAAAUQAAAFIAAABTAAAAVAAAAFUAAABWAAAAVwAAAFgAAABZAAAAWgAAAFsAAABcAAAAXQAAAF4AAABfAAAAYAAAAGEAAABiAAAAYwAAAA==\",\"dtype\":\"int32\",\"order\":\"little\",\"shape\":[100]},\"yen\":{\"__ndarray__\":\"AAAAAAAA8D/iw9NRMjWlPy8nwJw/D9M/NfZlesqyuz8d0Pqu1He9P7R5tFEbTs0/yXUUDE0Mtj9Mn+XOuX7PP0rW/tihb+E/uwdNy0ecsD/3PfM6/+WwP0DSeiJz/64/HwCNBa+gtT8LP2c6ZqrLP9wNxvLiONM/dF/Xf6Xiwj/gIlIHA0e4P+xABskyhLM/Hrcd15zisj9fU1ejtSPcPyZzEx2E8+U/u3Xfc8hJxT9YN15EoOzHPws8haYOTq8/okOJiBaK2j+sj2SH2CuyP80Jj8NOwsA/y3jhklGjtz8zwcJlyZmzP5SuTtqHLdE/gaApLaCksj+F4zL7E+eyP/kb5PKWob0/UiHp/RCZsj9PIzTQmAXDP7IVQCyAgs8/1WtDzS6ksD+zhZoSI4y7PzMTFRqalrY/WCx9890I0D+S5OvJaLTSP0fSvuXH5MM/ML+dv3Ycxz9y7uoXYXHGP7uNqmyt7b8/imoDBk23uz91RnWtrwDJP0M1nyUxicA/GNOiwLVPuD+qfhJ83YfQP7zw4HF7zr8/W2NLLgflvz/eANxx0GK2PwcTMNPoBr8/wGhXpAV9uj+bJlO7oDjHP4I/bT9+itE/yyh0rq0luj8C8s5LiAS3P2Rz3GTN78Y/DhnnuwwCxT8swrZpHVPBP0VUhIh6RMM/LcJ/mcO0wD+jA8zLce+2P7xBqewKybM/ouqjrolX0T9lCkV7F8LDPxxPRttfA74/m2ddGcjwxj8SFvJHsZLYP4AKkvfKddU/s2yb3XsivD8YEGX7c6azPy0Q0/pmTMQ/T9kddTd8uj89nSZWms61P9gQjXuZ2sA/SJrQZ20cxz/1Fe6kufDJP8pd5hDt4sI/5wumHUWdvD9mnvXovTzFPxXm2dmDCM0/o7be/zWXwj8JUdcorVnVP9QxBEHKLKI/eU7GaM5doz86TOPaojnMPzcOa92qG8c/v4Qxkgk3wD83qU3cbUGqP/gKy2gfi8Q/hHjJCbf0zj9SsE/7twzaP1wN30guAak/jdYZBL3Pxz8ioSapdnWqPz7mYayYgcA/NA6/hZXS0T8=\",\"dtype\":\"float64\",\"order\":\"little\",\"shape\":[100]}},\"selected\":{\"id\":\"1086\"},\"selection_policy\":{\"id\":\"1087\"}},\"id\":\"1070\",\"type\":\"ColumnDataSource\"},{\"attributes\":{\"line_color\":\"#ffbb78\",\"line_width\":2,\"x\":{\"field\":\"x\"},\"y\":{\"field\":\"y\"}},\"id\":\"1319\",\"type\":\"Line\"},{\"attributes\":{\"data_source\":{\"id\":\"1318\"},\"glyph\":{\"id\":\"1319\"},\"hover_glyph\":null,\"muted_glyph\":null,\"nonselection_glyph\":{\"id\":\"1320\"},\"selection_glyph\":null,\"view\":{\"id\":\"1322\"}},\"id\":\"1321\",\"type\":\"GlyphRenderer\"},{\"attributes\":{\"data\":{\"x\":[],\"y\":[]},\"selected\":{\"id\":\"1341\"},\"selection_policy\":{\"id\":\"1342\"}},\"id\":\"1318\",\"type\":\"ColumnDataSource\"},{\"attributes\":{\"line_color\":{\"field\":\"line_color\"},\"line_width\":{\"value\":2},\"xs\":{\"field\":\"xs\"},\"ys\":{\"field\":\"ys\"}},\"id\":\"1186\",\"type\":\"MultiLine\"},{\"attributes\":{\"text\":\"\\u6b63\\u898f\\u5316\\u5e73\\u5747\\u53d6\\u5f97\\u4fa1\\u683c\\u30fb\\u5168\\u8cc7\\u7523\"},\"id\":\"1193\",\"type\":\"Title\"},{\"attributes\":{\"label\":{\"value\":\"4755\"},\"renderers\":[{\"id\":\"1074\"}]},\"id\":\"1088\",\"type\":\"LegendItem\"},{\"attributes\":{\"source\":{\"id\":\"1372\"}},\"id\":\"1376\",\"type\":\"CDSView\"},{\"attributes\":{\"axis_label\":\"\\u4fdd\\u6709\\u5272\\u5408\",\"formatter\":{\"id\":\"1060\"},\"ticker\":{\"id\":\"1059\"},\"y_range_name\":\"portfolio_vector\"},\"id\":\"1039\",\"type\":\"LinearAxis\"},{\"attributes\":{\"source\":{\"id\":\"1089\"}},\"id\":\"1094\",\"type\":\"CDSView\"},{\"attributes\":{\"label\":{\"value\":\"6701\"},\"renderers\":[{\"id\":\"1321\"}]},\"id\":\"1343\",\"type\":\"LegendItem\"},{\"attributes\":{\"label\":{\"value\":\"yen\"},\"renderers\":[{\"id\":\"1056\"}]},\"id\":\"1069\",\"type\":\"LegendItem\"},{\"attributes\":{\"data_source\":{\"id\":\"1133\"},\"glyph\":{\"id\":\"1135\"},\"hover_glyph\":null,\"muted_glyph\":null,\"name\":\"7203\",\"nonselection_glyph\":{\"id\":\"1136\"},\"selection_glyph\":null,\"view\":{\"id\":\"1138\"},\"y_range_name\":\"portfolio_vector\"},\"id\":\"1137\",\"type\":\"GlyphRenderer\"},{\"attributes\":{\"source\":{\"id\":\"1318\"}},\"id\":\"1322\",\"type\":\"CDSView\"},{\"attributes\":{},\"id\":\"1086\",\"type\":\"Selection\"},{\"attributes\":{\"line_color\":\"#2ca02c\",\"line_width\":2,\"x\":{\"field\":\"x\"},\"y\":{\"field\":\"y\"}},\"id\":\"1345\",\"type\":\"Line\"},{\"attributes\":{\"data_source\":{\"id\":\"1344\"},\"glyph\":{\"id\":\"1345\"},\"hover_glyph\":null,\"muted_glyph\":null,\"nonselection_glyph\":{\"id\":\"1346\"},\"selection_glyph\":null,\"view\":{\"id\":\"1348\"}},\"id\":\"1347\",\"type\":\"GlyphRenderer\"},{\"attributes\":{\"bottom\":{\"expr\":{\"id\":\"1046\"}},\"fill_alpha\":{\"value\":0.8},\"fill_color\":{\"value\":\"#ffbb78\"},\"line_alpha\":{\"value\":0.8},\"line_color\":{\"value\":\"#ffbb78\"},\"top\":{\"expr\":{\"id\":\"1047\"}},\"width\":{\"value\":1},\"x\":{\"field\":\"x\"}},\"id\":\"1112\",\"type\":\"VBar\"},{\"attributes\":{\"source\":{\"id\":\"1158\"}},\"id\":\"1163\",\"type\":\"CDSView\"},{\"attributes\":{},\"id\":\"1087\",\"type\":\"UnionRenderers\"},{\"attributes\":{},\"id\":\"1400\",\"type\":\"UnionRenderers\"},{\"attributes\":{\"data\":{\"line_color\":[\"#1f77b4\",\"#aec7e8\",\"#ff7f0e\",\"#ffbb78\",\"#2ca02c\",\"#98df8a\"],\"xs\":[{\"__ndarray__\":\"AAAAAAEAAAACAAAAAwAAAAQAAAAFAAAABgAAAAcAAAAIAAAACQAAAAoAAAALAAAADAAAAA0AAAAOAAAADwAAABAAAAARAAAAEgAAABMAAAAUAAAAFQAAABYAAAAXAAAAGAAAABkAAAAaAAAAGwAAABwAAAAdAAAAHgAAAB8AAAAgAAAAIQAAACIAAAAjAAAAJAAAACUAAAAmAAAAJwAAACgAAAApAAAAKgAAACsAAAAsAAAALQAAAC4AAAAvAAAAMAAAADEAAAAyAAAAMwAAADQAAAA1AAAANgAAADcAAAA4AAAAOQAAADoAAAA7AAAAPAAAAD0AAAA+AAAAPwAAAEAAAABBAAAAQgAAAEMAAABEAAAARQAAAEYAAABHAAAASAAAAEkAAABKAAAASwAAAEwAAABNAAAATgAAAE8AAABQAAAAUQAAAFIAAABTAAAAVAAAAFUAAABWAAAAVwAAAFgAAABZAAAAWgAAAFsAAABcAAAAXQAAAF4AAABfAAAAYAAAAGEAAABiAAAAYwAAAA==\",\"dtype\":\"int32\",\"order\":\"little\",\"shape\":[100]},{\"__ndarray__\":\"AAAAAAEAAAACAAAAAwAAAAQAAAAFAAAABgAAAAcAAAAIAAAACQAAAAoAAAALAAAADAAAAA0AAAAOAAAADwAAABAAAAARAAAAEgAAABMAAAAUAAAAFQAAABYAAAAXAAAAGAAAABkAAAAaAAAAGwAAABwAAAAdAAAAHgAAAB8AAAAgAAAAIQAAACIAAAAjAAAAJAAAACUAAAAmAAAAJwAAACgAAAApAAAAKgAAACsAAAAsAAAALQAAAC4AAAAvAAAAMAAAADEAAAAyAAAAMwAAADQAAAA1AAAANgAAADcAAAA4AAAAOQAAADoAAAA7AAAAPAAAAD0AAAA+AAAAPwAAAEAAAABBAAAAQgAAAEMAAABEAAAARQAAAEYAAABHAAAASAAAAEkAAABKAAAASwAAAEwAAABNAAAATgAAAE8AAABQAAAAUQAAAFIAAABTAAAAVAAAAFUAAABWAAAAVwAAAFgAAABZAAAAWgAAAFsAAABcAAAAXQAAAF4AAABfAAAAYAAAAGEAAABiAAAAYwAAAA==\",\"dtype\":\"int32\",\"order\":\"little\",\"shape\":[100]},{\"__ndarray__\":\"AAAAAAEAAAACAAAAAwAAAAQAAAAFAAAABgAAAAcAAAAIAAAACQAAAAoAAAALAAAADAAAAA0AAAAOAAAADwAAABAAAAARAAAAEgAAABMAAAAUAAAAFQAAABYAAAAXAAAAGAAAABkAAAAaAAAAGwAAABwAAAAdAAAAHgAAAB8AAAAgAAAAIQAAACIAAAAjAAAAJAAAACUAAAAmAAAAJwAAACgAAAApAAAAKgAAACsAAAAsAAAALQAAAC4AAAAvAAAAMAAAADEAAAAyAAAAMwAAADQAAAA1AAAANgAAADcAAAA4AAAAOQAAADoAAAA7AAAAPAAAAD0AAAA+AAAAPwAAAEAAAABBAAAAQgAAAEMAAABEAAAARQAAAEYAAABHAAAASAAAAEkAAABKAAAASwAAAEwAAABNAAAATgAAAE8AAABQAAAAUQAAAFIAAABTAAAAVAAAAFUAAABWAAAAVwAAAFgAAABZAAAAWgAAAFsAAABcAAAAXQAAAF4AAABfAAAAYAAAAGEAAABiAAAAYwAAAA==\",\"dtype\":\"int32\",\"order\":\"little\",\"shape\":[100]},{\"__ndarray__\":\"AAAAAAEAAAACAAAAAwAAAAQAAAAFAAAABgAAAAcAAAAIAAAACQAAAAoAAAALAAAADAAAAA0AAAAOAAAADwAAABAAAAARAAAAEgAAABMAAAAUAAAAFQAAABYAAAAXAAAAGAAAABkAAAAaAAAAGwAAABwAAAAdAAAAHgAAAB8AAAAgAAAAIQAAACIAAAAjAAAAJAAAACUAAAAmAAAAJwAAACgAAAApAAAAKgAAACsAAAAsAAAALQAAAC4AAAAvAAAAMAAAADEAAAAyAAAAMwAAADQAAAA1AAAANgAAADcAAAA4AAAAOQAAADoAAAA7AAAAPAAAAD0AAAA+AAAAPwAAAEAAAABBAAAAQgAAAEMAAABEAAAARQAAAEYAAABHAAAASAAAAEkAAABKAAAASwAAAEwAAABNAAAATgAAAE8AAABQAAAAUQAAAFIAAABTAAAAVAAAAFUAAABWAAAAVwAAAFgAAABZAAAAWgAAAFsAAABcAAAAXQAAAF4AAABfAAAAYAAAAGEAAABiAAAAYwAAAA==\",\"dtype\":\"int32\",\"order\":\"little\",\"shape\":[100]},{\"__ndarray__\":\"AAAAAAEAAAACAAAAAwAAAAQAAAAFAAAABgAAAAcAAAAIAAAACQAAAAoAAAALAAAADAAAAA0AAAAOAAAADwAAABAAAAARAAAAEgAAABMAAAAUAAAAFQAAABYAAAAXAAAAGAAAABkAAAAaAAAAGwAAABwAAAAdAAAAHgAAAB8AAAAgAAAAIQAAACIAAAAjAAAAJAAAACUAAAAmAAAAJwAAACgAAAApAAAAKgAAACsAAAAsAAAALQAAAC4AAAAvAAAAMAAAADEAAAAyAAAAMwAAADQAAAA1AAAANgAAADcAAAA4AAAAOQAAADoAAAA7AAAAPAAAAD0AAAA+AAAAPwAAAEAAAABBAAAAQgAAAEMAAABEAAAARQAAAEYAAABHAAAASAAAAEkAAABKAAAASwAAAEwAAABNAAAATgAAAE8AAABQAAAAUQAAAFIAAABTAAAAVAAAAFUAAABWAAAAVwAAAFgAAABZAAAAWgAAAFsAAABcAAAAXQAAAF4AAABfAAAAYAAAAGEAAABiAAAAYwAAAA==\",\"dtype\":\"int32\",\"order\":\"little\",\"shape\":[100]},{\"__ndarray__\":\"AAAAAAEAAAACAAAAAwAAAAQAAAAFAAAABgAAAAcAAAAIAAAACQAAAAoAAAALAAAADAAAAA0AAAAOAAAADwAAABAAAAARAAAAEgAAABMAAAAUAAAAFQAAABYAAAAXAAAAGAAAABkAAAAaAAAAGwAAABwAAAAdAAAAHgAAAB8AAAAgAAAAIQAAACIAAAAjAAAAJAAAACUAAAAmAAAAJwAAACgAAAApAAAAKgAAACsAAAAsAAAALQAAAC4AAAAvAAAAMAAAADEAAAAyAAAAMwAAADQAAAA1AAAANgAAADcAAAA4AAAAOQAAADoAAAA7AAAAPAAAAD0AAAA+AAAAPwAAAEAAAABBAAAAQgAAAEMAAABEAAAARQAAAEYAAABHAAAASAAAAEkAAABKAAAASwAAAEwAAABNAAAATgAAAE8AAABQAAAAUQAAAFIAAABTAAAAVAAAAFUAAABWAAAAVwAAAFgAAABZAAAAWgAAAFsAAABcAAAAXQAAAF4AAABfAAAAYAAAAGEAAABiAAAAYwAAAA==\",\"dtype\":\"int32\",\"order\":\"little\",\"shape\":[100]}],\"ys\":[{\"__ndarray__\":\"AAAAAAAA8D8AAAAAAADwPwAAAAAAAPA/AAAAAAAA8D8AAAAAAADwPwAAAAAAAPA/AAAAAAAA8D8AAAAAAADwPwAAAAAAAPA/AAAAAAAA8D8AAAAAAADwPwAAAAAAAPA/AAAAAAAA8D8AAAAAAADwPwAAAAAAAPA/AAAAAAAA8D8AAAAAAADwPwAAAAAAAPA/AAAAAAAA8D8AAAAAAADwPwAAAAAAAPA/AAAAAAAA8D8AAAAAAADwPwAAAAAAAPA/AAAAAAAA8D8AAAAAAADwPwAAAAAAAPA/AAAAAAAA8D8AAAAAAADwPwAAAAAAAPA/AAAAAAAA8D8AAAAAAADwPwAAAAAAAPA/AAAAAAAA8D8AAAAAAADwPwAAAAAAAPA/AAAAAAAA8D8AAAAAAADwPwAAAAAAAPA/AAAAAAAA8D8AAAAAAADwPwAAAAAAAPA/AAAAAAAA8D8AAAAAAADwPwAAAAAAAPA/AAAAAAAA8D8AAAAAAADwPwAAAAAAAPA/AAAAAAAA8D8AAAAAAADwPwAAAAAAAPA/AAAAAAAA8D8AAAAAAADwPwAAAAAAAPA/AAAAAAAA8D8AAAAAAADwPwAAAAAAAPA/AAAAAAAA8D8AAAAAAADwPwAAAAAAAPA/AAAAAAAA8D8AAAAAAADwPwAAAAAAAPA/AAAAAAAA8D8AAAAAAADwPwAAAAAAAPA/AAAAAAAA8D8AAAAAAADwPwAAAAAAAPA/AAAAAAAA8D8AAAAAAADwPwAAAAAAAPA/AAAAAAAA8D8AAAAAAADwPwAAAAAAAPA/AAAAAAAA8D8AAAAAAADwPwAAAAAAAPA/AAAAAAAA8D8AAAAAAADwPwAAAAAAAPA/AAAAAAAA8D8AAAAAAADwPwAAAAAAAPA/AAAAAAAA8D8AAAAAAADwPwAAAAAAAPA/AAAAAAAA8D8AAAAAAADwPwAAAAAAAPA/AAAAAAAA8D8AAAAAAADwPwAAAAAAAPA/AAAAAAAA8D8AAAAAAADwPwAAAAAAAPA/AAAAAAAA8D8AAAAAAADwPwAAAAAAAPA/AAAAAAAA8D8=\",\"dtype\":\"float64\",\"order\":\"little\",\"shape\":[100]},{\"__ndarray__\":\"AAAAAAAA8D+O+s5GfWfvPy1DB+z2WO8/mVxBTK4g7j86YLfHWobuP2sZOmC3x+4/q6qqqqqq7j8siMkVxOTuPyyIyRXE5O4/rGXogN0e7z9dQUyuICbvP31no76zUe8/Tmle/ImE7z9e/ImEU5rvP/5EwinNi+8/PtYydMBu7z8+1jJ0wG7vP05pXvyJhO8/zYs/kXBK7z9dQUyuICbvP0yuICZXEO8/TK4gJlcQ7z88G/WdjfruP9xjLUMH7O4/nNK8+BMJ7z8NHbDbYy3vP/yJhFOaF+8/rGXogN0e7z/8iYRTmhfvP0yuICZXEO8/nNK8+BMJ7z97rGXogN3uP8vQAbs91u4/y9ABuz3W7j/L0AG7PdbuPyyIyRXE5O4/LIjJFcTk7j8b9Z2N+s7uPxv1nY36zu4/uz3WMnTA7j8LYnIFMbnuPwticgUxue4/C2JyBTG57j9rGTpgt8fuP1uGDtjtse4/W4YO2O2x7j+rqqqqqqruP6uqqqqqqu4/G/WdjfrO7j8b9Z2N+s7uP3usZeiA3e4/LIjJFcTk7j/cYy1DB+zuPyyIyRXE5O4/3GMtQwfs7j+MP5FwSvPuPyyIyRXE5O4/jD+RcErz7j8siMkVxOTuPyyIyRXE5O4/jD+RcErz7j+MP5FwSvPuP+z2WMvQAe8/DR2w22Mt7z+sZeiA3R7vP5zSvPgTCe8/nNK8+BMJ7z9MriAmVxDvP11BTK4gJu8/XUFMriAm7z+sZeiA3R7vP11BTK4gJu8/rGXogN0e7z9dQUyuICbvP734EwmnNO8/zYs/kXBK7z+9+BMJpzTvP734EwmnNO8/DR2w22Mt7z9t1Hc26jvvP31no76zUe8/HbDbYy1D7z9t1Hc26jvvPx2w22MtQ+8/bdR3Nuo77z8dsNtjLUPvPx2w22MtQ+8/bdR3Nuo77z9t1Hc26jvvP734EwmnNO8/fWejvrNR7z99Z6O+s1HvP31no76zUe8/vfgTCac07z8dsNtjLUPvP31no76zUe8/fWejvrNR7z8tQwfs9ljvP94eaxk6YO8/3h5rGTpg7z8=\",\"dtype\":\"float64\",\"order\":\"little\",\"shape\":[100]},{\"__ndarray__\":\"AAAAAAAA8D85m8I4m8LvPxQ7sRM7se8/ZLKeY7Ke7z+OyXqOyXrvP4iHh4eHh+8/1nNM1nNM7z/rOSbrOSbvP0LzBkLzBu8/faQafaQa7z87sRM7sRPvP6IELKIELO8/F9wqF9wq7z+iBCyiBCzvPw8PDw8PD+8/ZsjvZcjv7j+heQOheQPvP4soAYsoAe8/Dw8PDw8P7z++DPm9DPnuP+qu/emu/e4/LKIELKIE7z8AAAAAAADvPyyiBCyiBO8/YBElYBEl7z/yexnyexnvP1hECVhECe8/oXkDoXkD7z/NGwjNGwjvPyyiBCyiBO8/1F3701377j+ZrOeYrOfuP+Lh4eHh4e4/maznmKzn7j9Qd+1Pd+3uPyTV6CPV6O4/QWjeQGje7j97jsl6jsnuPwa3ygW3yu4/HAjNGwjN7j9lPcdkPcfuP9oUxtkUxu4/xMPDw8PD7j+ucsGtcsHuP5ghv5chv+4/QN21P9217j8N+b0M+b3uPyqMsymMs+4/I0rAIkrA7j/wZcjvZcjuPwa3ygW3yu4/xMPDw8PD7j+R38uQ38vuP9oUxtkUxu4/xMPDw8PD7j/wZcjvZcjuP1YuuFUuuO4/c8GtcsGt7j+t55is55juP4iHh4eHh+4/l5aWlpaW7T/ZiZ3YiZ3tP/901/501+0/maznmKzn7T+E5g2E5g3uPyVgESVgEe4/6zkm6zkm7j8lYBElYBHuP1ECFlECFu4/NG8gNG8g7j/6SDX6SDXuPwlYRAlYRO4/Jus5Jus57j9ZzzFZzzHuP2jeQGjeQO4/CVhECVhE7j/6SDX6SDXuP5o3EJo3EO4/sIgSsIgS7j9RAhZRAhbuP8bZFMbZFO4/SsAiSsAi7j87sRM7sRPuP3ZiJ3ZiJ+4/EJo3EJo37j88PDw8PDzuPxCaNxCaN+4/H6lGH6lG7j+xEzuxEzvuP921P921P+4/hOYNhOYN7j+E5g2E5g3uP1B37U937e0/tj/dtT/d7T8OhOYNhObtPwdC8wZC8+0/g1vlglvl7T/i4eHh4eHtP/Hw8PDw8O0/25/u2p/u7T8=\",\"dtype\":\"float64\",\"order\":\"little\",\"shape\":[100]},{\"__ndarray__\":\"AAAAAAAA8D+bA4lW2BzwP7TC5kCiFfA/50CiFTYH8D8yfrvUk/HvP7TC5kCiFfA/50CiFTYH8D+0wuZAohXwP+dAohU2B/A/AAAAAAAA8D8AAAAAAADwP+dAohU2B/A/tMLmQKIV8D+0wuZAohXwP2mFzYFEK/A/mwOJVtgc8D+0wuZAohXwP4JEK2wOJPA/gkQrbA4k8D+bA4lW2BzwP5sDiVbYHPA/gkQrbA4k8D9phc2BRCvwP4JEK2wOJPA/aYXNgUQr8D9Pxm+XejLwP2mFzYFEK/A/T8Zvl3oy8D9phc2BRCvwP4JEK2wOJPA/aYXNgUQr8D+bA4lW2BzwP7TC5kCiFfA/tMLmQKIV8D/nQKIVNgfwP86BRCtsDvA/tMLmQKIV8D/OgUQrbA7wP+dAohU2B/A/AAAAAAAA8D/nQKIVNgfwP+dAohU2B/A/zoFEK2wO8D/OgUQrbA7wPwAAAAAAAPA/50CiFTYH8D8AAAAAAADwPwAAAAAAAPA/zoFEK2wO8D+0wuZAohXwP4JEK2wOJPA/aYXNgUQr8D9Pxm+XejLwP0/Gb5d6MvA/T8Zvl3oy8D82BxKtsDnwP0/Gb5d6MvA/aYXNgUQr8D+CRCtsDiTwP2mFzYFEK/A/w+ZAohU27z/Gb5d6Mn7vP/ntUk/Gb+8/kGiFzYFE7z9e6sn47VLvP/ntUk/Gb+8/+e1ST8Zv7z/57VJPxm/vP2FzINEKm+8/lPHbpZ6M7z/Gb5d6Mn7vP/ntUk/Gb+8/lPHbpZ6M7z/Gb5d6Mn7vP5Tx26WejO8/YXMg0Qqb7z+U8dulnozvP2FzINEKm+8/xm+XejJ+7z9hcyDRCpvvP/x2qSfjt+8/L/Vk/Hap7z9hcyDRCpvvP/x2qSfjt+8/yvjtUk/G7z/K+O1ST8bvPy/1ZPx2qe8/yvjtUk/G7z8yfrvUk/HvP2X8dqkn4+8/zoFEK2wO8D/OgUQrbA7wP+dAohU2B/A/50CiFTYH8D8AAAAAAADwP+dAohU2B/A/AAAAAAAA8D/nQKIVNgfwPwAAAAAAAPA/AAAAAAAA8D8=\",\"dtype\":\"float64\",\"order\":\"little\",\"shape\":[100]},{\"__ndarray__\":\"AAAAAAAA8D+nzX0sTvnvP30D4gEjBvA/2t96EmHw7z/h2LYOG+TvPwFb8X1e0+8//Lym/wKz7z8b5O/w587vP68hq6ZmwO8/YYavTcrN7z9BBHXeht7vPzVt7mNxyu8/u7gxIXzU7z8b5O/w587vP46fcDcj0e8/jp9wNyPR7z+On3A3I9HvP7u4MSF81O8/jp9wNyPR7z/CsW0dNsjvP0j9sNpA0u8/SP2w2kDS7z9I/bDaQNLvP+7KLgePy+8/1UEwlAXQ7z8BW/F9XtPvPxvk7/Dnzu8/YYavTcrN7z9I/bDaQNLvP+7KLgePy+8/ggjqvA297z+DY9s6bJDvPxCoWvQwju8/UFHeVFmZ7z8Jrx74dprvP8MMX5uUm+8/fWqfPrKc7z82yN/hz53vP2ra3MfilO8/ygWbl06P7z/KBZuXTo/vPxCoWvQwju8/ygWbl06P7z89wRveiZHvPzEqlWN0fe8/1/cSkMJ27z+r3lGmaXPvP2Q8kkmHdO8/0f7WkwiD7z82yN/hz53vP/AlIIXtnu8/SViiWJ+l7z/pLOSIM6vvP+IzqIx5t+8/D01pdtK67z+8EyOf2qfvP3ZxY0L4qO8/HD/hbkai7z9QUd5UWZnvP8+j5RWqr+8//FXpwnMc8D8rvs9r+i/wP3Jgj8jcLvA/cmCPyNwu8D+VMe/2TS7wP595ULI1MvA/K77Pa/ov8D8I7W89iTDwP8uSEZyONfA/EjXR+HA08D/CSrDgpjHwP0+PL5prL/A/CO1vPYkw8D81BjEn4jPwP2If8hA7N/A/G30ytFg48D9IlvOdsTvwP2tnU8wiO/A/jjiz+pM68D/LkhGcjjXwP7gCTyW/LfA/uAJPJb8t8D9oGC4N9SrwP3uo8IPEMvA/G30ytFg48D+OOLP6kzrwP2tnU8wiO/A/jjiz+pM68D/V2nJXdjnwP+5jccr/NPA/sQkTKQU68D/uY3HK/zTwP1jXkFVTM/A/n3lQsjUy8D8SNdH4cDTwP8uSEZyONfA/7mNxyv808D+F8FE/rDbwP/ir0oXnOPA/G30ytFg48D8=\",\"dtype\":\"float64\",\"order\":\"little\",\"shape\":[100]},{\"__ndarray__\":\"AAAAAAAA8D+TxOHkLM7vP/ADu2Q5D/A/Pndlahyx7z8iEBXHW4rvPwoicyaZde8/Z3nXNnRf7z+D4CfaNIbvP7lNpa6Gau8/a/KFOXJx7z+D4CfaNIbvP8A/ArSCju8/NoUIZSCN7z/9ntyN0JbvP5zOyXr3mu8/h1nW3DKY7z8micPJWZzvPzr+tmcen+8/2C2kVEWj7z+YVRt4+YjvP1LsWAjhs+8/e9Y/RGq57z9S7FgI4bPvP7S8axu6r+8/9JT09wXK7z8x9M7RU9LvP+AfAVpBx+8/CQrolcrM7z/0lPT3BcrvPxWNfi6Tq+8/FY1+LpOr7z+QY75y/WTvPwapxCObY+8/vMZTsYR87z+YVRt4+YjvP29rNDxwg+8/c+TiPm6V7z/YLaRURaPvPwEYi5DOqO8/ERTQK5WZ7z+czsl695rvP7BDvRi8ne8/sEO9GLyd7z9j6J2jp6TvP/klLovShO8/MgxaYiJ77z+AZ3nXNnTvPxoeuMFfZu8/IhAVx1uK7z8RFNArlZnvP05zqgXjoe8/2C2kVEWj7z9Oc6oF46HvP3ddkUFsp+8/n0d4ffWs7z+wQ70YvJ3vP2PonaOnpO8/Ov62Zx6f7z8micPJWZzvP2PonaOnpO8/kqxWVF4l8D+eL+3sJgTwP8+XdnYTAvA/KermO4kF8D8AAAAAAADwP54v7ewmBPA/TVsfdRT57z+eL+3sJgTwP2VJwRXXDfA/bsdjYzoG8D8UdfOdxALwPwAAAAAAAPA/JXE4OYvz7z/4DaP6A9zvP2LQEhPZ++8/hkFLTGTv7z9/T+5GaMvvP+gRXl896+8/7IoMYjv97z/XFRnEdvrvPznmK9dP9u8/irr5TmIB8D9F3XwnsQDwP/iBXbKcB/A/UdTNdxIL8D/wA7tkOQ/wP8cZ1CiwCfA/gjxXAf8I8D8p6uY7iQXwP3ZFBrGd/u8/XcseyHMV8D9lScEV1w3wP6omPj2IDvA/er60s5sQ8D+/mzHbTBHwP7cdj43pGPA/SVYrKq8S8D+OM6hRYBPwPxjuoaDCFPA/0xAleREU8D8=\",\"dtype\":\"float64\",\"order\":\"little\",\"shape\":[100]}]},\"selected\":{\"id\":\"1431\"},\"selection_policy\":{\"id\":\"1432\"}},\"id\":\"1185\",\"type\":\"ColumnDataSource\"},{\"attributes\":{},\"id\":\"1060\",\"type\":\"BasicTickFormatter\"},{\"attributes\":{},\"id\":\"1107\",\"type\":\"Selection\"},{\"attributes\":{},\"id\":\"1369\",\"type\":\"Selection\"},{\"attributes\":{\"label\":{\"value\":\"7203\"},\"renderers\":[{\"id\":\"1137\"}]},\"id\":\"1157\",\"type\":\"LegendItem\"},{\"attributes\":{\"data_source\":{\"id\":\"1185\"},\"glyph\":{\"id\":\"1186\"},\"hover_glyph\":null,\"muted_glyph\":null,\"nonselection_glyph\":{\"id\":\"1187\"},\"selection_glyph\":null,\"view\":{\"id\":\"1189\"}},\"id\":\"1188\",\"type\":\"GlyphRenderer\"},{\"attributes\":{\"callback\":null,\"formatters\":{\"@datetime\":\"datetime\"},\"tooltips\":[[\"datetime\",\"@datetime{%F %H:%M:%S}\"],[\"yen\",\"@yen{0.000}\"],[\"4755\",\"@4755{0.000}\"],[\"9984\",\"@9984{0.000}\"],[\"6701\",\"@6701{0.000}\"],[\"7203\",\"@7203{0.000}\"],[\"7267\",\"@7267{0.000}\"]]},\"id\":\"1002\",\"type\":\"HoverTool\"},{\"attributes\":{\"bottom\":{\"expr\":{\"id\":\"1044\"}},\"fill_alpha\":{\"value\":0.8},\"fill_color\":{\"value\":\"#ff7f0e\"},\"line_alpha\":{\"value\":0.8},\"line_color\":{\"value\":\"#ff7f0e\"},\"top\":{\"expr\":{\"id\":\"1045\"}},\"width\":{\"value\":1},\"x\":{\"field\":\"x\"}},\"id\":\"1091\",\"type\":\"VBar\"},{\"attributes\":{\"data\":{\"x\":[],\"y\":[]},\"selected\":{\"id\":\"1399\"},\"selection_policy\":{\"id\":\"1400\"}},\"id\":\"1372\",\"type\":\"ColumnDataSource\"},{\"attributes\":{\"line_alpha\":0.1,\"line_color\":\"#2ca02c\",\"line_width\":2,\"x\":{\"field\":\"x\"},\"y\":{\"field\":\"y\"}},\"id\":\"1346\",\"type\":\"Line\"},{\"attributes\":{\"bottom_units\":\"screen\",\"fill_alpha\":0.5,\"fill_color\":\"lightgrey\",\"left_units\":\"screen\",\"level\":\"overlay\",\"line_alpha\":1.0,\"line_color\":\"black\",\"line_dash\":[4,4],\"line_width\":2,\"right_units\":\"screen\",\"top_units\":\"screen\"},\"id\":\"1029\",\"type\":\"BoxAnnotation\"},{\"attributes\":{\"line_color\":{\"field\":\"line_color\"},\"line_width\":{\"value\":2},\"xs\":{\"field\":\"xs\"},\"ys\":{\"field\":\"ys\"}},\"id\":\"1226\",\"type\":\"MultiLine\"},{\"attributes\":{\"line_alpha\":{\"value\":0.1},\"line_color\":{\"field\":\"line_color\"},\"line_width\":{\"value\":2},\"xs\":{\"field\":\"xs\"},\"ys\":{\"field\":\"ys\"}},\"id\":\"1187\",\"type\":\"MultiLine\"},{\"attributes\":{\"source\":{\"id\":\"1344\"}},\"id\":\"1348\",\"type\":\"CDSView\"},{\"attributes\":{},\"id\":\"1399\",\"type\":\"Selection\"},{\"attributes\":{\"data\":{\"4755\":{\"__ndarray__\":\"AAAAAAAAAAATCToe+3LhP1Bns4tvKsM/p/l4tB4AwT/904vN/dXPP/jSKe2jlrk/0CMgCoBfxT9MZECfmzOzP+XESgb/n60/V8GiIjoD2T+jVdQt9tfXPzVojNuwDMg/2970V0xcsD/AM1XNco3MP5/igwFgMNM/xnO/ktl/vT+lsiOGk6+zP74506KEC8I/cXW7dDT6uz/uR2wACSTJPwrmKsyp4ac/MSc3esKnvD8JKny8zpu/P8xrIl8flNo/0nn7vJOppz/DCC6FJhW2P4Nj6fNNEMc/2t9+cNS9xj91lr6jnbjSP1u0/jeOKcU/vusSKFWM4z8GXuCK3RjeP0vKdKgTYrk/tU/21Z/fxj9f2Akk1/zFP2NmgX9op8c/0BubbiwM4z+URYppMsW4P5+GORroO7U/f2TI3PmUuD+LvCVgAua9P6jM0joiq9I/DjgJeoN5vT8bFKpCBhHLP/UI+qfok9w/JM26Kb0ZxD9E0XhK25q1P3AHbXA8osE/e3Q8kBHvxj/X8kEZIdC5P4V9nQz5+bk/pWafjvXmyz+yHxro27q2P2inaAvf3rY/FpSvbvDItT+wCeD8oSjDPxglCFHNZ7o//ytRogPA1T+MNzQNHr+6PwIpI7vWJMA/3t7k7xZTyj+cBx4yd4/YP7gUzk+jBL0/qPDqDd4irj9tylWK6rPFP1eUTqIy/Lo/bAmQiHYCyT8sxLFPIAvUP0WZYls/W8E/IjbRv0mezj9ftcgioUWyPwuy6RkKcr4/Bc4OSh3/yz/gKizFTinQP068YfKyPMA/qa3SObGd2j/w9hy4pTq+PwdDD4iR99Y/kzsXO4iazj+jJ3aWORnPPxRLwYJLDcU/CEAcrbMJ2j9Zk7Edz/jFP7Sc98RkxMM/eF60jJVyrj81t6bdV+q9P064ZRCe5aU/7vJQbktKyz97lvuEwz7FP6tfgh4jI8A/f7byQsy5sT8+FoR4i8LFPyQTtUcOKKw/0OMo7Thwwj/e7MEk2auvP6l7mIUN4tQ/c7LF/J3ZwD+4UlnZGe60P9WG7UyCBbs/rlvPdYo8sz8=\",\"dtype\":\"float64\",\"order\":\"little\",\"shape\":[100]},\"6701\":{\"__ndarray__\":\"AAAAAAAAAAC8hEY3ap28P5HKLdBlOMs/yu5xfjqEuT8Ciwz8HUzWP/ZHpid14rA/CyqPtW2p1D/R/B/KV6K5P0dwKnvGWcM/Y3fzGbZ/uj+CZH4tqOK5P34UBlaOz8A/+PX5U1FRwD/l7kZ6rmnAP+agl/FAg78/i7hG+7aOuz/A39LY6we5PxKZ1o6b0sE/y7TSAVgxwz968AENsmCkP8H/xbHzgqc/4NVRAs54tj8UNRrfccvLP7B49dZ9LLg/uLU1/dsovD+67173GWPRP7EA2u1GEMA/Jnxo+flwuj954leLGzGzP8mR6oPzQLM/KJ2nQ4essT9OOVY1n2q5P+xmsIq849c/5Yl05jx0xD/aPDoj41i+P4uRLSMVusA/tm3F8kT6sz8X0W3AOM7WPyZ71UWXLNA/K4PALxOXvz+ChsV3nVLMP3XFZBpEZsY/MXAWjo/Hyj88l4xnPpbEP7ljsARqbsQ/isz1CzOFtj/MlsTq3N+9P64tlItDOtE/pnbCttOIwj+zssWFKPy0P8E/5ZnDzsI/VEA2IdIQwz93lQnH9qCyP+y2kCp++LY/VtZhyro+0T/DFess2QPHP46qDCsgHbk/7aa7TCdQ1D+sa8M3lJPTP0IKZiS+d8E/0ir8Gxdo0z9WlDCb7CfBPwGoGU1t1rI/Pis+wJDysj9SKuargHm5P5SDeom1ONg/upeQi6Hxwz+l7bvkjaa6P3vdtxeo3sU/f4iO0jzPuz8rbapFkCKuP5nw8F4jgrI/XeLySyRi0D9WUCLExgHHP78jGn5RctI/lRE9GlckvT/AHMt8jXDIP9z2930oJcQ/F284toFIrD8WdiEaikbEP4aT83uVicM/Mg1tzYg0tz/85yZjv/nEP69jLlp+u7I/31429vDDsj8F9Wd75wjMP/NI6pINkaY/XxZWssA6uT/xmq9Ufaq5PwauTlOEmMU/+CNpEbrdxz8vfWDb8na1P4uecjGn3K8/BQnkH9IXxj9BYV00TcnMPy93WIvI0bI/IoZiD88zwD+JIt83io6zP9o+2ryb7sU/FnMu36DWuD8=\",\"dtype\":\"float64\",\"order\":\"little\",\"shape\":[100]},\"7203\":{\"__ndarray__\":\"AAAAAAAAAACkrkKAaHiwP5IjHMWXLb4/jVwWUp9qwD+QAfdr6FW6P66Iv55ewro/Qtyj5QDUtz+BKFdVrO3KP9V7BmKty7U/otzlfsUnxT9/sVSrgOSvP7NCuGOJAeA/uA36VJV7tD8X88xuf37EP9rSDGHAPr4/J4p/UZEMxj/lk/NXnEHPPym/Saqc1NA/2JaCX+Ciwz8AyRUEX9O1P66vHtZAh7Y/LG6qEDQsxz/iRQYK/DDFP681vt4vErE//ux8Of68wT8A9ZulAC6zP1di009yv8I/1AEXigsS1j+UCl9S3qHQP0zZM/QBrdI/uiw2aPSNtD/fghuPcvu6P0VDCss4Jbg/8hXYNHK3vT/Uu9RaTeHKPyPXRI2tG7g/8iuPIE5Wrz9Ju7h8k0a9P+auBZjpMsQ/iib/blO+wT9hKrrpjqnGP6wSiCgXqbE/MIP4lRVWyD8mGhhd9mHKP95OAnPiNr8/59rab/0w2T9G2yO7Y/uyP7b5uy5rssA/ENnlS6QSuD9/ioF2XujJP6xdmqLGAbw/c6AKN3b2vD/kGAAtyae0P7XoIT2iY8E/EhOF3O1o0z8VZtIN3X/PP379iG/ZILk/0WRWj06BuD+r1Z1DbtqxP2wG4cfXIcw/T0Ra+PpHwz8fvAxjyFe4Py5KOywMKNo/IJ1Vif/ntT+iou4pptTNP65ikrwOU7I/cFZuL6IVyD9NpMjZ9+7GP5bdPtBtJK4/yvC+lwPPvT+XwsfSELeuP82vI2u6yrg/Vr7dv1EZwz8RImq503TEPwfd2guKpsA/bVucz2LuyT8MQJUnfi24P6grlZ43ZLI/MSnJ8Xiu0z+UXj9bi2DAP2CEprXi8c0/no1iVFf8vT9oy6EMoSm3P3G0369MJdk/qoHK1OT02j+v0GRn53avPy7lwyUxL8U/RHGbdA1mxT87KdvV5jjGP/TvCzRjpdA/pjTvMiWT2D84wJNyK5WtP5G++++jd8A/WjiwRqdYxT/TZaEYkwu5P4D5jbjdpbM/LJa5Im7Nwj9uwGI/cODdP1rHG/h0fbM/LMoVbBZPvT8=\",\"dtype\":\"float64\",\"order\":\"little\",\"shape\":[100]},\"7267\":{\"__ndarray__\":\"AAAAAAAAAABJNsAMNo/EPwy3H3iMGMA/KvVtyRFt0z+W6BPyyfy2P6oFMAA3b9U/9pt3Ap5QzT9GouJjzMu+P8jcL9Op1LM/V6aVmPCmyz/4DlJy9TnIP5kgnkTLeKo/NzUN2WHI3j+FLeMX/KnEP04zoe81eLQ/f5DqGsKWrz+elTmntLazPzz1VCqp974/NsMDCX7l3D/SGEdg85e1P2UeZFKMp68/4Q0Fu+K1wT9msn3hufbEP5ODFEDxKsA/SQdqA6yOuD8POd/PPevPP6G6XzJ2rsE/9vHjLBrTxj8rjPWxXUDMP76M7RnPvLo/10Q3AmcpuD/1/+KCejLEPzy5Jx/54ss/oCoBb34X1T+sO/XHH7C+Pytysz1zDNA/U9+m8NbjsT8sn4TYCArNP22P565gtbU/PylxOHwXuD8EhnKhOFq7P15W5SurgbQ/djY1ERC8wD9Czw1uHs67P8oRqGLsZbQ/5AaE4GQWwD9jNJz1bnPcP31C7Eb2Dcg/Y0MQrWxbuj+yz8rRxbrRPxB2mcqzI9g/a8M0SfgUwT/QZbf7r83iP2rSViQ5ac4/TD+TpVsiwz+kqcK9xP3AP9jbBDMoXdI/HO/WRGeNtj+W9Tw7oDLMP5tBTnymM7s/UKfjbqWatT/fhV6bthHAP++BuHPZ6cY/xy7eL4qz4T//B66gjmPIPyu1VRSoxrg/Gzk6nt12wT9U8rVAZrXAPwxOEEH5XLU/fSoagwz/yz84wr5/zP7WP1BxaJHNtrk/5K6jFXNDuj+WiVA0BsjPPyiw4fBnp7Q/+qlwgci8sD/gR//PBya3P2NjDzfAfsw/FT4FnlkBwz9L0jMV2XzEP1zdVMhK5MI/sTlOu4m4xD+XB/nk0znUP8MM6DMW4bI/Vyp2kEkKuD/s1Eli31jJPzaKLYwJTeU/e4tH/b1VxT+LOXyB+6LRP2kn+UnlFME/gCt+hpm1vD9lwuRiwQHjP7fw3SN2a+A/5qV/WzIGvj+tb4pu8vbBP/5UAC1vitk/x6Coj2Ri0D/gKXUS5pO7P2jxrCUsNtw/gPAvIhREvj8=\",\"dtype\":\"float64\",\"order\":\"little\",\"shape\":[100]},\"9984\":{\"__ndarray__\":\"AAAAAAAAAACYNTwUT5mzP+Jt4R+mnrg/+cwo6psfzT+4cbBnBVm4Px2pI9S6NcU/SIbbHr8Zuj+MtiH1ucLPPyGyWIkNX7U/DOt6wlpzrj8zSPdSqrjKP493jEsXf7E/R6mtoKLhxD9s+5ju+Wu8PwSXkuy8ILQ/Ea51MOhR2T9ao6UQ5DHaP+KJCkBcndA/r17amovJrz9LJHYDtsbDPxc1G1mJVrI/1UcWQewh1D9AhsWSUFLCP6l+K331Oc4/xc7hxavoyD/CoEtoDpfPP4I6PeyZ19E/KWCUEKmBuj/cv4PSb0qzPzZZILj5RLg/5PIp5NOUsj866BMPb+q3P1LIizA4grk/eTUyzORUwj9IjFU7wZfNP+xED96J6rc/UukXZZW4wD/B9mFUIhu5PxgjWjX7V9U/KbzEAxYH0z9WybgTyfW1P3caAGBOSc0/8HoZThJNxj9sZL+pVJ7BP1smYhQNSbE/ntoODaNPwD81XkPeyLq1P7YrI92pn8I/jk4arpuU2D8aDIA8bFi0PyFuW0C3BMI/10klqsDC0D+dAkXUEyy1PxZG+cwA4tQ/Dt82BrDWtj9iVJmehDq8P7biTKXP3cE/Mm9WguEVrT95s+sGLdfKPyYykrXyt80/5DTf2MCKtz9NtvfJbCjAPyNusbkWKLM/rcSF/ScOuT/zczRvZ9/LP/CAjV6NT9E/Qui7A1NBqz+Kv/WwBWC+P6RBVUVoxts/HXuQbsGiwT+X0ToylwexP4xEFKvHrNE/GyGO5FDwxD9mTDCMDze1P+E2SxIFmMs/sP2waB5PuT+eaiTAh/DaP/jjCcD7gK0/yvvk2zyxsT/jNg50PKS7P91haXIEsMM/tuV8lfiZvD/i4t2LdpC3PzW4x3RnNLQ/2ekIsD17yj9sCOYP8i+yP72Uw8Esz6c/ybg3lopC1D8SZ+s5+mawP8Pcsv4BycA/8fmcI34avz/PHAHqPBWmP2AO73JtnLQ/X4+5dH0nxD+XQO8hIWuxPxDGRs3PVbM/LxmzrZ6Qwz9TBxrFfJnLPw6iylHvw7M/aQ9wAdVD1D8=\",\"dtype\":\"float64\",\"order\":\"little\",\"shape\":[100]},\"datetime\":{\"__ndarray__\":\"AAAoIhZbd0IAAGZrFlt3QgAApLQWW3dCAADi/RZbd0IAACBHF1t3QgAAXpAXW3dCAACc2Rdbd0IAANoiGFt3QgAAGGwYW3dCAABWtRhbd0IAAJT+GFt3QgAA0kcZW3dCAAAQkRlbd0IAAE7aGVt3QgAAjCMaW3dCAADKbBpbd0IAAAi2Glt3QgAARv8aW3dCAACESBtbd0IAAMKRG1t3QgAAANsbW3dCAAA+JBxbd0IAAHxtHFt3QgAAurYcW3dCAAD4/xxbd0IAADZJHVt3QgAAdJIdW3dCAACy2x1bd0IAAPAkHlt3QgAALm4eW3dCAABUJiJbd0IAAJJvIlt3QgAA0LgiW3dCAAAOAiNbd0IAAExLI1t3QgAAipQjW3dCAADI3SNbd0IAAAYnJFt3QgAARHAkW3dCAACCuSRbd0IAAMACJVt3QgAA/kslW3dCAAA8lSVbd0IAAHreJVt3QgAAuCcmW3dCAAD2cCZbd0IAADS6Jlt3QgAAcgMnW3dCAACwTCdbd0IAAO6VJ1t3QgAALN8nW3dCAABqKChbd0IAAKhxKFt3QgAA5rooW3dCAAAkBClbd0IAAGJNKVt3QgAAoJYpW3dCAADe3ylbd0IAABwpKlt3QgAAWnIqW3dCAADoh2hbd0IAACbRaFt3QgAAZBppW3dCAACiY2lbd0IAAOCsaVt3QgAAHvZpW3dCAABcP2pbd0IAAJqIalt3QgAA2NFqW3dCAAAWG2tbd0IAAFRka1t3QgAAkq1rW3dCAADQ9mtbd0IAAA5AbFt3QgAATIlsW3dCAACK0mxbd0IAAMgbbVt3QgAABmVtW3dCAABErm1bd0IAAIL3bVt3QgAAwEBuW3dCAAD+iW5bd0IAADzTblt3QgAAehxvW3dCAAC4ZW9bd0IAAPaub1t3QgAANPhvW3dCAAByQXBbd0IAALCKcFt3QgAA7tNwW3dCAAAUjHRbd0IAAFLVdFt3QgAAkB51W3dCAADOZ3Vbd0IAAAyxdVt3QgAASvp1W3dCAACIQ3Zbd0IAAMaMdlt3QgAABNZ2W3dCAABCH3dbd0I=\",\"dtype\":\"float64\",\"order\":\"little\",\"shape\":[100]},\"x\":{\"__ndarray__\":\"AAAAAAEAAAACAAAAAwAAAAQAAAAFAAAABgAAAAcAAAAIAAAACQAAAAoAAAALAAAADAAAAA0AAAAOAAAADwAAABAAAAARAAAAEgAAABMAAAAUAAAAFQAAABYAAAAXAAAAGAAAABkAAAAaAAAAGwAAABwAAAAdAAAAHgAAAB8AAAAgAAAAIQAAACIAAAAjAAAAJAAAACUAAAAmAAAAJwAAACgAAAApAAAAKgAAACsAAAAsAAAALQAAAC4AAAAvAAAAMAAAADEAAAAyAAAAMwAAADQAAAA1AAAANgAAADcAAAA4AAAAOQAAADoAAAA7AAAAPAAAAD0AAAA+AAAAPwAAAEAAAABBAAAAQgAAAEMAAABEAAAARQAAAEYAAABHAAAASAAAAEkAAABKAAAASwAAAEwAAABNAAAATgAAAE8AAABQAAAAUQAAAFIAAABTAAAAVAAAAFUAAABWAAAAVwAAAFgAAABZAAAAWgAAAFsAAABcAAAAXQAAAF4AAABfAAAAYAAAAGEAAABiAAAAYwAAAA==\",\"dtype\":\"int32\",\"order\":\"little\",\"shape\":[100]},\"yen\":{\"__ndarray__\":\"AAAAAAAA8D/iw9NRMjWlPy8nwJw/D9M/NfZlesqyuz8d0Pqu1He9P7R5tFEbTs0/yXUUDE0Mtj9Mn+XOuX7PP0rW/tihb+E/uwdNy0ecsD/3PfM6/+WwP0DSeiJz/64/HwCNBa+gtT8LP2c6ZqrLP9wNxvLiONM/dF/Xf6Xiwj/gIlIHA0e4P+xABskyhLM/Hrcd15zisj9fU1ejtSPcPyZzEx2E8+U/u3Xfc8hJxT9YN15EoOzHPws8haYOTq8/okOJiBaK2j+sj2SH2CuyP80Jj8NOwsA/y3jhklGjtz8zwcJlyZmzP5SuTtqHLdE/gaApLaCksj+F4zL7E+eyP/kb5PKWob0/UiHp/RCZsj9PIzTQmAXDP7IVQCyAgs8/1WtDzS6ksD+zhZoSI4y7PzMTFRqalrY/WCx9890I0D+S5OvJaLTSP0fSvuXH5MM/ML+dv3Ycxz9y7uoXYXHGP7uNqmyt7b8/imoDBk23uz91RnWtrwDJP0M1nyUxicA/GNOiwLVPuD+qfhJ83YfQP7zw4HF7zr8/W2NLLgflvz/eANxx0GK2PwcTMNPoBr8/wGhXpAV9uj+bJlO7oDjHP4I/bT9+itE/yyh0rq0luj8C8s5LiAS3P2Rz3GTN78Y/DhnnuwwCxT8swrZpHVPBP0VUhIh6RMM/LcJ/mcO0wD+jA8zLce+2P7xBqewKybM/ouqjrolX0T9lCkV7F8LDPxxPRttfA74/m2ddGcjwxj8SFvJHsZLYP4AKkvfKddU/s2yb3XsivD8YEGX7c6azPy0Q0/pmTMQ/T9kddTd8uj89nSZWms61P9gQjXuZ2sA/SJrQZ20cxz/1Fe6kufDJP8pd5hDt4sI/5wumHUWdvD9mnvXovTzFPxXm2dmDCM0/o7be/zWXwj8JUdcorVnVP9QxBEHKLKI/eU7GaM5doz86TOPaojnMPzcOa92qG8c/v4Qxkgk3wD83qU3cbUGqP/gKy2gfi8Q/hHjJCbf0zj9SsE/7twzaP1wN30guAak/jdYZBL3Pxz8ioSapdnWqPz7mYayYgcA/NA6/hZXS0T8=\",\"dtype\":\"float64\",\"order\":\"little\",\"shape\":[100]}},\"selected\":{\"id\":\"1155\"},\"selection_policy\":{\"id\":\"1156\"}},\"id\":\"1133\",\"type\":\"ColumnDataSource\"},{\"attributes\":{},\"id\":\"1370\",\"type\":\"UnionRenderers\"},{\"attributes\":{\"label\":{\"value\":\"7203\"},\"renderers\":[{\"id\":\"1347\"}]},\"id\":\"1371\",\"type\":\"LegendItem\"},{\"attributes\":{},\"id\":\"1432\",\"type\":\"UnionRenderers\"},{\"attributes\":{\"items\":[{\"id\":\"1069\"},{\"id\":\"1088\"},{\"id\":\"1109\"},{\"id\":\"1132\"},{\"id\":\"1157\"},{\"id\":\"1184\"}]},\"id\":\"1068\",\"type\":\"Legend\"},{\"attributes\":{\"data\":{\"4755\":{\"__ndarray__\":\"AAAAAAAAAAATCToe+3LhP1Bns4tvKsM/p/l4tB4AwT/904vN/dXPP/jSKe2jlrk/0CMgCoBfxT9MZECfmzOzP+XESgb/n60/V8GiIjoD2T+jVdQt9tfXPzVojNuwDMg/2970V0xcsD/AM1XNco3MP5/igwFgMNM/xnO/ktl/vT+lsiOGk6+zP74506KEC8I/cXW7dDT6uz/uR2wACSTJPwrmKsyp4ac/MSc3esKnvD8JKny8zpu/P8xrIl8flNo/0nn7vJOppz/DCC6FJhW2P4Nj6fNNEMc/2t9+cNS9xj91lr6jnbjSP1u0/jeOKcU/vusSKFWM4z8GXuCK3RjeP0vKdKgTYrk/tU/21Z/fxj9f2Akk1/zFP2NmgX9op8c/0BubbiwM4z+URYppMsW4P5+GORroO7U/f2TI3PmUuD+LvCVgAua9P6jM0joiq9I/DjgJeoN5vT8bFKpCBhHLP/UI+qfok9w/JM26Kb0ZxD9E0XhK25q1P3AHbXA8osE/e3Q8kBHvxj/X8kEZIdC5P4V9nQz5+bk/pWafjvXmyz+yHxro27q2P2inaAvf3rY/FpSvbvDItT+wCeD8oSjDPxglCFHNZ7o//ytRogPA1T+MNzQNHr+6PwIpI7vWJMA/3t7k7xZTyj+cBx4yd4/YP7gUzk+jBL0/qPDqDd4irj9tylWK6rPFP1eUTqIy/Lo/bAmQiHYCyT8sxLFPIAvUP0WZYls/W8E/IjbRv0mezj9ftcgioUWyPwuy6RkKcr4/Bc4OSh3/yz/gKizFTinQP068YfKyPMA/qa3SObGd2j/w9hy4pTq+PwdDD4iR99Y/kzsXO4iazj+jJ3aWORnPPxRLwYJLDcU/CEAcrbMJ2j9Zk7Edz/jFP7Sc98RkxMM/eF60jJVyrj81t6bdV+q9P064ZRCe5aU/7vJQbktKyz97lvuEwz7FP6tfgh4jI8A/f7byQsy5sT8+FoR4i8LFPyQTtUcOKKw/0OMo7Thwwj/e7MEk2auvP6l7mIUN4tQ/c7LF/J3ZwD+4UlnZGe60P9WG7UyCBbs/rlvPdYo8sz8=\",\"dtype\":\"float64\",\"order\":\"little\",\"shape\":[100]},\"6701\":{\"__ndarray__\":\"AAAAAAAAAAC8hEY3ap28P5HKLdBlOMs/yu5xfjqEuT8Ciwz8HUzWP/ZHpid14rA/CyqPtW2p1D/R/B/KV6K5P0dwKnvGWcM/Y3fzGbZ/uj+CZH4tqOK5P34UBlaOz8A/+PX5U1FRwD/l7kZ6rmnAP+agl/FAg78/i7hG+7aOuz/A39LY6we5PxKZ1o6b0sE/y7TSAVgxwz968AENsmCkP8H/xbHzgqc/4NVRAs54tj8UNRrfccvLP7B49dZ9LLg/uLU1/dsovD+67173GWPRP7EA2u1GEMA/Jnxo+flwuj954leLGzGzP8mR6oPzQLM/KJ2nQ4essT9OOVY1n2q5P+xmsIq849c/5Yl05jx0xD/aPDoj41i+P4uRLSMVusA/tm3F8kT6sz8X0W3AOM7WPyZ71UWXLNA/K4PALxOXvz+ChsV3nVLMP3XFZBpEZsY/MXAWjo/Hyj88l4xnPpbEP7ljsARqbsQ/isz1CzOFtj/MlsTq3N+9P64tlItDOtE/pnbCttOIwj+zssWFKPy0P8E/5ZnDzsI/VEA2IdIQwz93lQnH9qCyP+y2kCp++LY/VtZhyro+0T/DFess2QPHP46qDCsgHbk/7aa7TCdQ1D+sa8M3lJPTP0IKZiS+d8E/0ir8Gxdo0z9WlDCb7CfBPwGoGU1t1rI/Pis+wJDysj9SKuargHm5P5SDeom1ONg/upeQi6Hxwz+l7bvkjaa6P3vdtxeo3sU/f4iO0jzPuz8rbapFkCKuP5nw8F4jgrI/XeLySyRi0D9WUCLExgHHP78jGn5RctI/lRE9GlckvT/AHMt8jXDIP9z2930oJcQ/F284toFIrD8WdiEaikbEP4aT83uVicM/Mg1tzYg0tz/85yZjv/nEP69jLlp+u7I/31429vDDsj8F9Wd75wjMP/NI6pINkaY/XxZWssA6uT/xmq9Ufaq5PwauTlOEmMU/+CNpEbrdxz8vfWDb8na1P4uecjGn3K8/BQnkH9IXxj9BYV00TcnMPy93WIvI0bI/IoZiD88zwD+JIt83io6zP9o+2ryb7sU/FnMu36DWuD8=\",\"dtype\":\"float64\",\"order\":\"little\",\"shape\":[100]},\"7203\":{\"__ndarray__\":\"AAAAAAAAAACkrkKAaHiwP5IjHMWXLb4/jVwWUp9qwD+QAfdr6FW6P66Iv55ewro/Qtyj5QDUtz+BKFdVrO3KP9V7BmKty7U/otzlfsUnxT9/sVSrgOSvP7NCuGOJAeA/uA36VJV7tD8X88xuf37EP9rSDGHAPr4/J4p/UZEMxj/lk/NXnEHPPym/Saqc1NA/2JaCX+Ciwz8AyRUEX9O1P66vHtZAh7Y/LG6qEDQsxz/iRQYK/DDFP681vt4vErE//ux8Of68wT8A9ZulAC6zP1di009yv8I/1AEXigsS1j+UCl9S3qHQP0zZM/QBrdI/uiw2aPSNtD/fghuPcvu6P0VDCss4Jbg/8hXYNHK3vT/Uu9RaTeHKPyPXRI2tG7g/8iuPIE5Wrz9Ju7h8k0a9P+auBZjpMsQ/iib/blO+wT9hKrrpjqnGP6wSiCgXqbE/MIP4lRVWyD8mGhhd9mHKP95OAnPiNr8/59rab/0w2T9G2yO7Y/uyP7b5uy5rssA/ENnlS6QSuD9/ioF2XujJP6xdmqLGAbw/c6AKN3b2vD/kGAAtyae0P7XoIT2iY8E/EhOF3O1o0z8VZtIN3X/PP379iG/ZILk/0WRWj06BuD+r1Z1DbtqxP2wG4cfXIcw/T0Ra+PpHwz8fvAxjyFe4Py5KOywMKNo/IJ1Vif/ntT+iou4pptTNP65ikrwOU7I/cFZuL6IVyD9NpMjZ9+7GP5bdPtBtJK4/yvC+lwPPvT+XwsfSELeuP82vI2u6yrg/Vr7dv1EZwz8RImq503TEPwfd2guKpsA/bVucz2LuyT8MQJUnfi24P6grlZ43ZLI/MSnJ8Xiu0z+UXj9bi2DAP2CEprXi8c0/no1iVFf8vT9oy6EMoSm3P3G0369MJdk/qoHK1OT02j+v0GRn53avPy7lwyUxL8U/RHGbdA1mxT87KdvV5jjGP/TvCzRjpdA/pjTvMiWT2D84wJNyK5WtP5G++++jd8A/WjiwRqdYxT/TZaEYkwu5P4D5jbjdpbM/LJa5Im7Nwj9uwGI/cODdP1rHG/h0fbM/LMoVbBZPvT8=\",\"dtype\":\"float64\",\"order\":\"little\",\"shape\":[100]},\"7267\":{\"__ndarray__\":\"AAAAAAAAAABJNsAMNo/EPwy3H3iMGMA/KvVtyRFt0z+W6BPyyfy2P6oFMAA3b9U/9pt3Ap5QzT9GouJjzMu+P8jcL9Op1LM/V6aVmPCmyz/4DlJy9TnIP5kgnkTLeKo/NzUN2WHI3j+FLeMX/KnEP04zoe81eLQ/f5DqGsKWrz+elTmntLazPzz1VCqp974/NsMDCX7l3D/SGEdg85e1P2UeZFKMp68/4Q0Fu+K1wT9msn3hufbEP5ODFEDxKsA/SQdqA6yOuD8POd/PPevPP6G6XzJ2rsE/9vHjLBrTxj8rjPWxXUDMP76M7RnPvLo/10Q3AmcpuD/1/+KCejLEPzy5Jx/54ss/oCoBb34X1T+sO/XHH7C+Pytysz1zDNA/U9+m8NbjsT8sn4TYCArNP22P565gtbU/PylxOHwXuD8EhnKhOFq7P15W5SurgbQ/djY1ERC8wD9Czw1uHs67P8oRqGLsZbQ/5AaE4GQWwD9jNJz1bnPcP31C7Eb2Dcg/Y0MQrWxbuj+yz8rRxbrRPxB2mcqzI9g/a8M0SfgUwT/QZbf7r83iP2rSViQ5ac4/TD+TpVsiwz+kqcK9xP3AP9jbBDMoXdI/HO/WRGeNtj+W9Tw7oDLMP5tBTnymM7s/UKfjbqWatT/fhV6bthHAP++BuHPZ6cY/xy7eL4qz4T//B66gjmPIPyu1VRSoxrg/Gzk6nt12wT9U8rVAZrXAPwxOEEH5XLU/fSoagwz/yz84wr5/zP7WP1BxaJHNtrk/5K6jFXNDuj+WiVA0BsjPPyiw4fBnp7Q/+qlwgci8sD/gR//PBya3P2NjDzfAfsw/FT4FnlkBwz9L0jMV2XzEP1zdVMhK5MI/sTlOu4m4xD+XB/nk0znUP8MM6DMW4bI/Vyp2kEkKuD/s1Eli31jJPzaKLYwJTeU/e4tH/b1VxT+LOXyB+6LRP2kn+UnlFME/gCt+hpm1vD9lwuRiwQHjP7fw3SN2a+A/5qV/WzIGvj+tb4pu8vbBP/5UAC1vitk/x6Coj2Ri0D/gKXUS5pO7P2jxrCUsNtw/gPAvIhREvj8=\",\"dtype\":\"float64\",\"order\":\"little\",\"shape\":[100]},\"9984\":{\"__ndarray__\":\"AAAAAAAAAACYNTwUT5mzP+Jt4R+mnrg/+cwo6psfzT+4cbBnBVm4Px2pI9S6NcU/SIbbHr8Zuj+MtiH1ucLPPyGyWIkNX7U/DOt6wlpzrj8zSPdSqrjKP493jEsXf7E/R6mtoKLhxD9s+5ju+Wu8PwSXkuy8ILQ/Ea51MOhR2T9ao6UQ5DHaP+KJCkBcndA/r17amovJrz9LJHYDtsbDPxc1G1mJVrI/1UcWQewh1D9AhsWSUFLCP6l+K331Oc4/xc7hxavoyD/CoEtoDpfPP4I6PeyZ19E/KWCUEKmBuj/cv4PSb0qzPzZZILj5RLg/5PIp5NOUsj866BMPb+q3P1LIizA4grk/eTUyzORUwj9IjFU7wZfNP+xED96J6rc/UukXZZW4wD/B9mFUIhu5PxgjWjX7V9U/KbzEAxYH0z9WybgTyfW1P3caAGBOSc0/8HoZThJNxj9sZL+pVJ7BP1smYhQNSbE/ntoODaNPwD81XkPeyLq1P7YrI92pn8I/jk4arpuU2D8aDIA8bFi0PyFuW0C3BMI/10klqsDC0D+dAkXUEyy1PxZG+cwA4tQ/Dt82BrDWtj9iVJmehDq8P7biTKXP3cE/Mm9WguEVrT95s+sGLdfKPyYykrXyt80/5DTf2MCKtz9NtvfJbCjAPyNusbkWKLM/rcSF/ScOuT/zczRvZ9/LP/CAjV6NT9E/Qui7A1NBqz+Kv/WwBWC+P6RBVUVoxts/HXuQbsGiwT+X0ToylwexP4xEFKvHrNE/GyGO5FDwxD9mTDCMDze1P+E2SxIFmMs/sP2waB5PuT+eaiTAh/DaP/jjCcD7gK0/yvvk2zyxsT/jNg50PKS7P91haXIEsMM/tuV8lfiZvD/i4t2LdpC3PzW4x3RnNLQ/2ekIsD17yj9sCOYP8i+yP72Uw8Esz6c/ybg3lopC1D8SZ+s5+mawP8Pcsv4BycA/8fmcI34avz/PHAHqPBWmP2AO73JtnLQ/X4+5dH0nxD+XQO8hIWuxPxDGRs3PVbM/LxmzrZ6Qwz9TBxrFfJnLPw6iylHvw7M/aQ9wAdVD1D8=\",\"dtype\":\"float64\",\"order\":\"little\",\"shape\":[100]},\"datetime\":{\"__ndarray__\":\"AAAoIhZbd0IAAGZrFlt3QgAApLQWW3dCAADi/RZbd0IAACBHF1t3QgAAXpAXW3dCAACc2Rdbd0IAANoiGFt3QgAAGGwYW3dCAABWtRhbd0IAAJT+GFt3QgAA0kcZW3dCAAAQkRlbd0IAAE7aGVt3QgAAjCMaW3dCAADKbBpbd0IAAAi2Glt3QgAARv8aW3dCAACESBtbd0IAAMKRG1t3QgAAANsbW3dCAAA+JBxbd0IAAHxtHFt3QgAAurYcW3dCAAD4/xxbd0IAADZJHVt3QgAAdJIdW3dCAACy2x1bd0IAAPAkHlt3QgAALm4eW3dCAABUJiJbd0IAAJJvIlt3QgAA0LgiW3dCAAAOAiNbd0IAAExLI1t3QgAAipQjW3dCAADI3SNbd0IAAAYnJFt3QgAARHAkW3dCAACCuSRbd0IAAMACJVt3QgAA/kslW3dCAAA8lSVbd0IAAHreJVt3QgAAuCcmW3dCAAD2cCZbd0IAADS6Jlt3QgAAcgMnW3dCAACwTCdbd0IAAO6VJ1t3QgAALN8nW3dCAABqKChbd0IAAKhxKFt3QgAA5rooW3dCAAAkBClbd0IAAGJNKVt3QgAAoJYpW3dCAADe3ylbd0IAABwpKlt3QgAAWnIqW3dCAADoh2hbd0IAACbRaFt3QgAAZBppW3dCAACiY2lbd0IAAOCsaVt3QgAAHvZpW3dCAABcP2pbd0IAAJqIalt3QgAA2NFqW3dCAAAWG2tbd0IAAFRka1t3QgAAkq1rW3dCAADQ9mtbd0IAAA5AbFt3QgAATIlsW3dCAACK0mxbd0IAAMgbbVt3QgAABmVtW3dCAABErm1bd0IAAIL3bVt3QgAAwEBuW3dCAAD+iW5bd0IAADzTblt3QgAAehxvW3dCAAC4ZW9bd0IAAPaub1t3QgAANPhvW3dCAAByQXBbd0IAALCKcFt3QgAA7tNwW3dCAAAUjHRbd0IAAFLVdFt3QgAAkB51W3dCAADOZ3Vbd0IAAAyxdVt3QgAASvp1W3dCAACIQ3Zbd0IAAMaMdlt3QgAABNZ2W3dCAABCH3dbd0I=\",\"dtype\":\"float64\",\"order\":\"little\",\"shape\":[100]},\"x\":{\"__ndarray__\":\"AAAAAAEAAAACAAAAAwAAAAQAAAAFAAAABgAAAAcAAAAIAAAACQAAAAoAAAALAAAADAAAAA0AAAAOAAAADwAAABAAAAARAAAAEgAAABMAAAAUAAAAFQAAABYAAAAXAAAAGAAAABkAAAAaAAAAGwAAABwAAAAdAAAAHgAAAB8AAAAgAAAAIQAAACIAAAAjAAAAJAAAACUAAAAmAAAAJwAAACgAAAApAAAAKgAAACsAAAAsAAAALQAAAC4AAAAvAAAAMAAAADEAAAAyAAAAMwAAADQAAAA1AAAANgAAADcAAAA4AAAAOQAAADoAAAA7AAAAPAAAAD0AAAA+AAAAPwAAAEAAAABBAAAAQgAAAEMAAABEAAAARQAAAEYAAABHAAAASAAAAEkAAABKAAAASwAAAEwAAABNAAAATgAAAE8AAABQAAAAUQAAAFIAAABTAAAAVAAAAFUAAABWAAAAVwAAAFgAAABZAAAAWgAAAFsAAABcAAAAXQAAAF4AAABfAAAAYAAAAGEAAABiAAAAYwAAAA==\",\"dtype\":\"int32\",\"order\":\"little\",\"shape\":[100]},\"yen\":{\"__ndarray__\":\"AAAAAAAA8D/iw9NRMjWlPy8nwJw/D9M/NfZlesqyuz8d0Pqu1He9P7R5tFEbTs0/yXUUDE0Mtj9Mn+XOuX7PP0rW/tihb+E/uwdNy0ecsD/3PfM6/+WwP0DSeiJz/64/HwCNBa+gtT8LP2c6ZqrLP9wNxvLiONM/dF/Xf6Xiwj/gIlIHA0e4P+xABskyhLM/Hrcd15zisj9fU1ejtSPcPyZzEx2E8+U/u3Xfc8hJxT9YN15EoOzHPws8haYOTq8/okOJiBaK2j+sj2SH2CuyP80Jj8NOwsA/y3jhklGjtz8zwcJlyZmzP5SuTtqHLdE/gaApLaCksj+F4zL7E+eyP/kb5PKWob0/UiHp/RCZsj9PIzTQmAXDP7IVQCyAgs8/1WtDzS6ksD+zhZoSI4y7PzMTFRqalrY/WCx9890I0D+S5OvJaLTSP0fSvuXH5MM/ML+dv3Ycxz9y7uoXYXHGP7uNqmyt7b8/imoDBk23uz91RnWtrwDJP0M1nyUxicA/GNOiwLVPuD+qfhJ83YfQP7zw4HF7zr8/W2NLLgflvz/eANxx0GK2PwcTMNPoBr8/wGhXpAV9uj+bJlO7oDjHP4I/bT9+itE/yyh0rq0luj8C8s5LiAS3P2Rz3GTN78Y/DhnnuwwCxT8swrZpHVPBP0VUhIh6RMM/LcJ/mcO0wD+jA8zLce+2P7xBqewKybM/ouqjrolX0T9lCkV7F8LDPxxPRttfA74/m2ddGcjwxj8SFvJHsZLYP4AKkvfKddU/s2yb3XsivD8YEGX7c6azPy0Q0/pmTMQ/T9kddTd8uj89nSZWms61P9gQjXuZ2sA/SJrQZ20cxz/1Fe6kufDJP8pd5hDt4sI/5wumHUWdvD9mnvXovTzFPxXm2dmDCM0/o7be/zWXwj8JUdcorVnVP9QxBEHKLKI/eU7GaM5doz86TOPaojnMPzcOa92qG8c/v4Qxkgk3wD83qU3cbUGqP/gKy2gfi8Q/hHjJCbf0zj9SsE/7twzaP1wN30guAak/jdYZBL3Pxz8ioSapdnWqPz7mYayYgcA/NA6/hZXS0T8=\",\"dtype\":\"float64\",\"order\":\"little\",\"shape\":[100]}},\"selected\":{\"id\":\"1107\"},\"selection_policy\":{\"id\":\"1108\"}},\"id\":\"1089\",\"type\":\"ColumnDataSource\"},{\"attributes\":{\"end\":1003411.2638550109,\"start\":962476.097594881},\"id\":\"1231\",\"type\":\"Range1d\"},{\"attributes\":{},\"id\":\"1156\",\"type\":\"UnionRenderers\"},{\"attributes\":{},\"id\":\"1342\",\"type\":\"UnionRenderers\"},{\"attributes\":{\"bottom\":{\"expr\":{\"id\":\"1044\"}},\"fill_alpha\":{\"value\":0.1},\"fill_color\":{\"value\":\"#ff7f0e\"},\"line_alpha\":{\"value\":0.1},\"line_color\":{\"value\":\"#ff7f0e\"},\"top\":{\"expr\":{\"id\":\"1045\"}},\"width\":{\"value\":1},\"x\":{\"field\":\"x\"}},\"id\":\"1092\",\"type\":\"VBar\"},{\"attributes\":{\"bottom\":{\"expr\":{\"id\":\"1046\"}},\"fill_alpha\":{\"value\":0.1},\"fill_color\":{\"value\":\"#ffbb78\"},\"line_alpha\":{\"value\":0.1},\"line_color\":{\"value\":\"#ffbb78\"},\"top\":{\"expr\":{\"id\":\"1047\"}},\"width\":{\"value\":1},\"x\":{\"field\":\"x\"}},\"id\":\"1113\",\"type\":\"VBar\"},{\"attributes\":{},\"id\":\"1182\",\"type\":\"Selection\"},{\"attributes\":{},\"id\":\"1066\",\"type\":\"Selection\"},{\"attributes\":{\"label\":{\"value\":\"7267\"},\"renderers\":[{\"id\":\"1375\"}]},\"id\":\"1401\",\"type\":\"LegendItem\"},{\"attributes\":{\"active_drag\":\"auto\",\"active_inspect\":\"auto\",\"active_multi\":null,\"active_scroll\":\"auto\",\"active_tap\":\"auto\",\"tools\":[{\"id\":\"1023\"},{\"id\":\"1024\"},{\"id\":\"1025\"},{\"id\":\"1026\"},{\"id\":\"1027\"},{\"id\":\"1028\"},{\"id\":\"1002\"}]},\"id\":\"1030\",\"type\":\"Toolbar\"},{\"attributes\":{},\"id\":\"1341\",\"type\":\"Selection\"},{\"attributes\":{\"label\":{\"value\":\"9984\"},\"renderers\":[{\"id\":\"1093\"}]},\"id\":\"1109\",\"type\":\"LegendItem\"},{\"attributes\":{},\"id\":\"1155\",\"type\":\"Selection\"},{\"attributes\":{},\"id\":\"1431\",\"type\":\"Selection\"},{\"attributes\":{\"data_source\":{\"id\":\"1158\"},\"glyph\":{\"id\":\"1160\"},\"hover_glyph\":null,\"muted_glyph\":null,\"name\":\"7267\",\"nonselection_glyph\":{\"id\":\"1161\"},\"selection_glyph\":null,\"view\":{\"id\":\"1163\"},\"y_range_name\":\"portfolio_vector\"},\"id\":\"1162\",\"type\":\"GlyphRenderer\"},{\"attributes\":{},\"id\":\"1067\",\"type\":\"UnionRenderers\"},{\"attributes\":{\"source\":{\"id\":\"1052\"}},\"id\":\"1057\",\"type\":\"CDSView\"}],\"root_ids\":[\"1402\"]},\"title\":\"Bokeh Application\",\"version\":\"2.2.3\"}};\n",
       "  var render_items = [{\"docid\":\"b63af13e-f2b3-486e-ae1c-7c104935b70d\",\"root_ids\":[\"1402\"],\"roots\":{\"1402\":\"03398ffa-a464-41c2-84d8-077d6744de24\"}}];\n",
       "  root.Bokeh.embed.embed_items_notebook(docs_json, render_items);\n",
       "\n",
       "  }\n",
       "  if (root.Bokeh !== undefined) {\n",
       "    embed_document(root);\n",
       "  } else {\n",
       "    var attempts = 0;\n",
       "    var timer = setInterval(function(root) {\n",
       "      if (root.Bokeh !== undefined) {\n",
       "        clearInterval(timer);\n",
       "        embed_document(root);\n",
       "      } else {\n",
       "        attempts++;\n",
       "        if (attempts > 100) {\n",
       "          clearInterval(timer);\n",
       "          console.log(\"Bokeh: ERROR: Unable to run BokehJS code because BokehJS library is missing\");\n",
       "        }\n",
       "      }\n",
       "    }, 10, root)\n",
       "  }\n",
       "})(window);"
      ],
      "application/vnd.bokehjs_exec.v0+json": ""
     },
     "metadata": {
      "application/vnd.bokehjs_exec.v0+json": {
       "id": "1402"
      }
     },
     "output_type": "display_data"
    }
   ],
   "source": [
    "visualize_portfolio_transform_bokeh(portfolio_state_list, save_path=Path(\"visualization/trade_transform.png\"), is_save=False, is_show=True)"
   ]
  },
  {
   "cell_type": "code",
   "execution_count": null,
   "metadata": {},
   "outputs": [],
   "source": []
  }
 ],
 "metadata": {
  "kernelspec": {
   "display_name": "torch_py37",
   "language": "python",
   "name": "torch_py37"
  },
  "language_info": {
   "codemirror_mode": {
    "name": "ipython",
    "version": 3
   },
   "file_extension": ".py",
   "mimetype": "text/x-python",
   "name": "python",
   "nbconvert_exporter": "python",
   "pygments_lexer": "ipython3",
   "version": "3.7.4"
  },
  "toc": {
   "base_numbering": 1,
   "nav_menu": {},
   "number_sections": true,
   "sideBar": true,
   "skip_h1_title": true,
   "title_cell": "Table of Contents",
   "title_sidebar": "Contents",
   "toc_cell": false,
   "toc_position": {
    "height": "calc(100% - 180px)",
    "left": "10px",
    "top": "150px",
    "width": "165px"
   },
   "toc_section_display": true,
   "toc_window_display": false
  }
 },
 "nbformat": 4,
 "nbformat_minor": 4
}
