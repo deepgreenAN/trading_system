{
 "cells": [
  {
   "cell_type": "code",
   "execution_count": 1,
   "metadata": {
    "ExecuteTime": {
     "end_time": "2021-05-17T02:17:27.399307Z",
     "start_time": "2021-05-17T02:17:27.362411Z"
    }
   },
   "outputs": [
    {
     "name": "stdout",
     "output_type": "stream",
     "text": [
      "E:\\システムトレード入門\\trade_system_git_workspace\n"
     ]
    }
   ],
   "source": [
    "%cd ../.."
   ]
  },
  {
   "cell_type": "code",
   "execution_count": 2,
   "metadata": {
    "ExecuteTime": {
     "end_time": "2021-05-17T02:17:27.731421Z",
     "start_time": "2021-05-17T02:17:27.410278Z"
    }
   },
   "outputs": [],
   "source": [
    "from tqdm.notebook import tqdm"
   ]
  },
  {
   "cell_type": "code",
   "execution_count": 3,
   "metadata": {
    "ExecuteTime": {
     "end_time": "2021-05-17T02:17:32.554526Z",
     "start_time": "2021-05-17T02:17:27.741401Z"
    }
   },
   "outputs": [],
   "source": [
    "import torch\n",
    "import torch.nn as nn\n",
    "import torch.nn.functional as F\n",
    "from pytz import timezone\n",
    "import datetime\n",
    "from pathlib import Path\n",
    "import pandas as pd\n",
    "import numpy as np\n",
    "import pfrl"
   ]
  },
  {
   "cell_type": "code",
   "execution_count": 4,
   "metadata": {
    "ExecuteTime": {
     "end_time": "2021-05-17T02:17:33.296595Z",
     "start_time": "2021-05-17T02:17:32.590432Z"
    }
   },
   "outputs": [],
   "source": [
    "from scipy.special import softmax"
   ]
  },
  {
   "cell_type": "code",
   "execution_count": 5,
   "metadata": {
    "ExecuteTime": {
     "end_time": "2021-05-17T02:17:33.406248Z",
     "start_time": "2021-05-17T02:17:33.305519Z"
    }
   },
   "outputs": [],
   "source": [
    "import py_restart"
   ]
  },
  {
   "cell_type": "code",
   "execution_count": 6,
   "metadata": {
    "ExecuteTime": {
     "end_time": "2021-05-17T02:17:34.437492Z",
     "start_time": "2021-05-17T02:17:33.451130Z"
    }
   },
   "outputs": [],
   "source": [
    "from get_stock_price import StockDatabase"
   ]
  },
  {
   "cell_type": "code",
   "execution_count": 7,
   "metadata": {
    "ExecuteTime": {
     "end_time": "2021-05-17T02:17:34.564196Z",
     "start_time": "2021-05-17T02:17:34.447467Z"
    }
   },
   "outputs": [],
   "source": [
    "from portfolio.trade_transformer import PortfolioTransformer, PortfolioRestrictorIdentity, FeeCalculatorFree\n",
    "from portfolio.price_supply import StockDBPriceSupplier"
   ]
  },
  {
   "cell_type": "code",
   "execution_count": 8,
   "metadata": {
    "ExecuteTime": {
     "end_time": "2021-05-17T02:17:34.658902Z",
     "start_time": "2021-05-17T02:17:34.588091Z"
    }
   },
   "outputs": [],
   "source": [
    "from portfolio.rl_base.envs import TradeEnv, TickerSampler, DatetimeSampler, SamplerManager, PortfolioVectorSampler, ConstSamper\n",
    "from portfolio.rl_base.basis_func import ComposeFunction, PriceNormalizeConst, MeanCostPriceNormalizeConst, State2Feature"
   ]
  },
  {
   "cell_type": "code",
   "execution_count": 9,
   "metadata": {
    "ExecuteTime": {
     "end_time": "2021-05-17T02:17:36.156900Z",
     "start_time": "2021-05-17T02:17:34.671866Z"
    }
   },
   "outputs": [],
   "source": [
    "from portfolio.rl_base.make_env import make_env"
   ]
  },
  {
   "cell_type": "code",
   "execution_count": 10,
   "metadata": {
    "ExecuteTime": {
     "end_time": "2021-05-17T02:17:39.415188Z",
     "start_time": "2021-05-17T02:17:36.166875Z"
    }
   },
   "outputs": [],
   "source": [
    "from visualization import visualize_portfolio_rl_bokeh"
   ]
  },
  {
   "cell_type": "markdown",
   "metadata": {},
   "source": [
    "## 並列環境の作成"
   ]
  },
  {
   "cell_type": "code",
   "execution_count": 11,
   "metadata": {
    "ExecuteTime": {
     "end_time": "2021-05-17T02:17:39.969704Z",
     "start_time": "2021-05-17T02:17:39.425161Z"
    }
   },
   "outputs": [],
   "source": [
    "one_trade_env = make_env()"
   ]
  },
  {
   "cell_type": "code",
   "execution_count": 12,
   "metadata": {
    "ExecuteTime": {
     "end_time": "2021-05-17T02:17:43.741040Z",
     "start_time": "2021-05-17T02:17:39.977685Z"
    },
    "scrolled": true
   },
   "outputs": [],
   "source": [
    "portfolio_state, _,_,_ = one_trade_env.reset()\n",
    "#print(portfolio_state)"
   ]
  },
  {
   "cell_type": "code",
   "execution_count": 13,
   "metadata": {
    "ExecuteTime": {
     "end_time": "2021-05-17T02:17:43.804881Z",
     "start_time": "2021-05-17T02:17:43.747040Z"
    }
   },
   "outputs": [],
   "source": [
    "class VectorEnv():\n",
    "    def __init__(self,remote_envs):\n",
    "        self._remote_envs = remote_envs \n",
    "\n",
    "    @property\n",
    "    def remote_envs(self):\n",
    "        return self._remote_envs\n",
    "\n",
    "    def reset(self, *args, **kwargs):\n",
    "        out_list = [remote_env.reset(*args, **kwargs) for remote_env in self._remote_envs]\n",
    "        # それぞれの返り値の長さが複数かどうか\n",
    "        if len(out_list) > 0:\n",
    "            if isinstance(out_list[0], tuple):  # 一つの返り値が複数の場合\n",
    "                return zip(*out_list)  # それぞれの出力のリストに変換(unzip)\n",
    "            else:\n",
    "                return out_list  # そのまま出力\n",
    "        return None\n",
    "\n",
    "    def step(self, actions, *args, **kwargs):\n",
    "        assert len(self._remote_envs) == len(actions)\n",
    "        out_list = [remote_env.step(action, *args, **kwargs) for remote_env, action in zip(self.remote_envs, actions)]\n",
    "        if len(out_list) > 0:\n",
    "            if isinstance(out_list[0], tuple):  # 一つの返り値が複数の場合\n",
    "                return zip(*out_list)  # それぞれの出力のリストに変換(unzip)\n",
    "            else:\n",
    "                return out_list  # そのまま出力\n",
    "        return None"
   ]
  },
  {
   "cell_type": "code",
   "execution_count": 14,
   "metadata": {
    "ExecuteTime": {
     "end_time": "2021-05-17T02:17:44.108123Z",
     "start_time": "2021-05-17T02:17:43.813854Z"
    }
   },
   "outputs": [],
   "source": [
    "env_number = 1\n",
    "env_list = [make_env() for _ in range(env_number)]\n",
    "batch_trade_env = VectorEnv(env_list)"
   ]
  },
  {
   "cell_type": "code",
   "execution_count": 15,
   "metadata": {
    "ExecuteTime": {
     "end_time": "2021-05-17T02:17:47.114190Z",
     "start_time": "2021-05-17T02:17:44.125026Z"
    }
   },
   "outputs": [],
   "source": [
    "states, rewards, dones, infos = batch_trade_env.reset()"
   ]
  },
  {
   "cell_type": "code",
   "execution_count": 16,
   "metadata": {
    "ExecuteTime": {
     "end_time": "2021-05-17T02:17:47.146943Z",
     "start_time": "2021-05-17T02:17:47.121058Z"
    }
   },
   "outputs": [],
   "source": [
    "#print(states[0])"
   ]
  },
  {
   "cell_type": "markdown",
   "metadata": {},
   "source": [
    "## 前処理の設定 "
   ]
  },
  {
   "cell_type": "code",
   "execution_count": 17,
   "metadata": {
    "ExecuteTime": {
     "end_time": "2021-05-17T02:17:47.336436Z",
     "start_time": "2021-05-17T02:17:47.164915Z"
    }
   },
   "outputs": [],
   "source": [
    "def make_transform():\n",
    "    return ComposeFunction({\"price_normalizer\":PriceNormalizeConst(None),\n",
    "                                   \"mca_normalizer\":MeanCostPriceNormalizeConst(None),\n",
    "                                   \"state2feature\":State2Feature()\n",
    "                                  })"
   ]
  },
  {
   "cell_type": "code",
   "execution_count": 18,
   "metadata": {
    "ExecuteTime": {
     "end_time": "2021-05-17T02:17:47.384311Z",
     "start_time": "2021-05-17T02:17:47.354389Z"
    }
   },
   "outputs": [],
   "source": [
    "one_state_transform = make_transform()"
   ]
  },
  {
   "cell_type": "code",
   "execution_count": 19,
   "metadata": {
    "ExecuteTime": {
     "end_time": "2021-05-17T02:17:47.447141Z",
     "start_time": "2021-05-17T02:17:47.406256Z"
    }
   },
   "outputs": [],
   "source": [
    "class VectorTransform():\n",
    "    def __init__(self, transform_list):\n",
    "        self.transforms = transform_list\n",
    "        \n",
    "    def __call__(self, states):\n",
    "        return [one_transform(state) for one_transform, state in zip(self.transforms, states)]"
   ]
  },
  {
   "cell_type": "code",
   "execution_count": 20,
   "metadata": {
    "ExecuteTime": {
     "end_time": "2021-05-17T02:17:47.636638Z",
     "start_time": "2021-05-17T02:17:47.457119Z"
    }
   },
   "outputs": [],
   "source": [
    "transform_list = [make_transform() for _ in range(env_number)]\n",
    "batch_state_transform = VectorTransform(transform_list)"
   ]
  },
  {
   "cell_type": "markdown",
   "metadata": {},
   "source": [
    "##  モデルの定義 "
   ]
  },
  {
   "cell_type": "markdown",
   "metadata": {},
   "source": [
    "今回は決定論的な方策を利用する"
   ]
  },
  {
   "cell_type": "code",
   "execution_count": 21,
   "metadata": {
    "ExecuteTime": {
     "end_time": "2021-05-17T02:17:47.831127Z",
     "start_time": "2021-05-17T02:17:47.649605Z"
    }
   },
   "outputs": [],
   "source": [
    "class DirichletHead(nn.Module):\n",
    "    def __init__(self):\n",
    "        super(DirichletHead, self).__init__()\n",
    "        \n",
    "    def forward(self, alpha):\n",
    "        return torch.distributions.Dirichlet(alpha)"
   ]
  },
  {
   "cell_type": "code",
   "execution_count": 22,
   "metadata": {
    "ExecuteTime": {
     "end_time": "2021-05-17T02:17:47.937832Z",
     "start_time": "2021-05-17T02:17:47.851065Z"
    }
   },
   "outputs": [],
   "source": [
    "class Policy(nn.Module):\n",
    "    def __init__(self, in_channels=3, out_number=20):\n",
    "        super(Policy, self).__init__()\n",
    "        self.out_number = out_number\n",
    "        \n",
    "        self.conv1 = nn.Conv2d(in_channels, 12, kernel_size=5, padding=2, stride=2)\n",
    "        self.bn1 = nn.BatchNorm2d(12)\n",
    "        self.conv2 = nn.Conv2d(12, self.out_number, kernel_size=5, padding=2, stride=(2,3))\n",
    "        self.bn2 = nn.BatchNorm2d(self.out_number)\n",
    "        self.conv3 = nn.Conv2d(self.out_number, self.out_number, kernel_size=(4,3), padding=(2,1), stride=(2,3))\n",
    "        #self.bn3 = nn.BatchNorm2d(self.out_number)\n",
    "\n",
    "        #self.avgpool = nn.AvgPool2d(kernel_size=3)\n",
    "        self.maxpool = nn.MaxPool2d(kernel_size=3)\n",
    "        self.head = DirichletHead()\n",
    "        \n",
    "        \n",
    "    def forward(self, x):\n",
    "        #from IPython.core.debugger import Pdb; Pdb().set_trace()\n",
    "        if x.shape[1:]!=torch.Size([3, 20, 50]):\n",
    "            print(x)\n",
    "            raise Exception(\"invalid shape policy\")\n",
    "        x = F.relu(self.bn1(self.conv1(x)))\n",
    "        x = F.relu(self.bn2(self.conv2(x)))\n",
    "        #x = self.bn3(self.conv3(x))\n",
    "        x = self.conv3(x)\n",
    "        \n",
    "        #x = self.avgpool(x)\n",
    "        x = self.maxpool(x)\n",
    "        x = torch.reshape(x, (-1, self.out_number))\n",
    "        \n",
    "        #x = F.softmax(x, dim=-1)\n",
    "        x = F.relu(x)\n",
    "        x = torch.clamp(x, 1.e-5)\n",
    "        out = self.head(x)\n",
    "        return out"
   ]
  },
  {
   "cell_type": "code",
   "execution_count": 23,
   "metadata": {
    "ExecuteTime": {
     "end_time": "2021-05-17T02:17:48.188171Z",
     "start_time": "2021-05-17T02:17:47.968746Z"
    }
   },
   "outputs": [],
   "source": [
    "#random_x = torch.randn((30, 3, 20, 50))\n",
    "random_x = 100*torch.ones((1,3,20,50))\n",
    "policy = Policy(3, 20)"
   ]
  },
  {
   "cell_type": "code",
   "execution_count": 24,
   "metadata": {
    "ExecuteTime": {
     "end_time": "2021-05-17T02:17:48.347742Z",
     "start_time": "2021-05-17T02:17:48.228063Z"
    }
   },
   "outputs": [
    {
     "name": "stdout",
     "output_type": "stream",
     "text": [
      "torch.Size([1]) torch.Size([20])\n",
      "torch.Size([1, 20])\n"
     ]
    }
   ],
   "source": [
    "out = policy(random_x)\n",
    "print(out.batch_shape, out.event_shape)\n",
    "print(out.rsample(torch.Size([])).shape)"
   ]
  },
  {
   "cell_type": "code",
   "execution_count": 25,
   "metadata": {
    "ExecuteTime": {
     "end_time": "2021-05-17T02:17:48.442481Z",
     "start_time": "2021-05-17T02:17:48.364708Z"
    }
   },
   "outputs": [],
   "source": [
    "class QFunc(nn.Module):\n",
    "    def __init__(self, in_channels=3, action_size=20):\n",
    "        super(QFunc, self).__init__()        \n",
    "        self.conv1 = nn.Conv2d(in_channels, 12, kernel_size=5, padding=2, stride=2)\n",
    "        self.bn1 = nn.BatchNorm2d(12)\n",
    "        self.conv2 = nn.Conv2d(12, 24, kernel_size=5, padding=2, stride=(2,3))\n",
    "        self.bn2 = nn.BatchNorm2d(24)\n",
    "        self.conv3 = nn.Conv2d(24, 64, kernel_size=(4,3), padding=(2,1), stride=(2,3))\n",
    "        self.bn3 = nn.BatchNorm2d(64)\n",
    "        self.avgpool = nn.AvgPool2d(kernel_size=3)\n",
    "\n",
    "        self.fc1 = nn.Linear(action_size, 64)\n",
    "        self.fcbn1 = nn.BatchNorm1d(64)\n",
    "\n",
    "        self.concat = pfrl.nn.ConcatObsAndAction()\n",
    "        self.fc2 = nn.Linear(64*2, 256)\n",
    "        self.fcbn2 = nn.BatchNorm1d(256)\n",
    "        self.head = nn.Linear(256, 1)\n",
    "\n",
    "    def forward(self, obs_and_action):\n",
    "        #from IPython.core.debugger import Pdb; Pdb().set_trace()\n",
    "        obs, action = obs_and_action\n",
    "        x = F.relu(self.bn1(self.conv1(obs)))\n",
    "        x = F.relu(self.bn2(self.conv2(x)))\n",
    "        x = F.relu(self.bn3(self.conv3(x)))\n",
    "        x = self.avgpool(x)\n",
    "        x = torch.reshape(x, (-1, 64))\n",
    "\n",
    "        y = F.relu(self.fcbn1(self.fc1(action)))\n",
    "\n",
    "        x = self.concat((x, y))\n",
    "        x = F.relu(self.fcbn2(self.fc2(x)))\n",
    "        out = self.head(x)\n",
    "        return out"
   ]
  },
  {
   "cell_type": "code",
   "execution_count": 26,
   "metadata": {
    "ExecuteTime": {
     "end_time": "2021-05-17T02:17:48.648932Z",
     "start_time": "2021-05-17T02:17:48.453451Z"
    }
   },
   "outputs": [],
   "source": [
    "random_obs = torch.randn(30, 3, 20, 50)\n",
    "random_action = torch.randn(30, 20)"
   ]
  },
  {
   "cell_type": "code",
   "execution_count": 27,
   "metadata": {
    "ExecuteTime": {
     "end_time": "2021-05-17T02:17:49.058834Z",
     "start_time": "2021-05-17T02:17:48.662892Z"
    }
   },
   "outputs": [],
   "source": [
    "qfunc = QFunc(3, 20)\n",
    "out = qfunc((random_obs, random_action))"
   ]
  },
  {
   "cell_type": "code",
   "execution_count": 28,
   "metadata": {
    "ExecuteTime": {
     "end_time": "2021-05-17T02:17:49.219406Z",
     "start_time": "2021-05-17T02:17:49.084808Z"
    }
   },
   "outputs": [
    {
     "data": {
      "text/plain": [
       "torch.Size([30, 1])"
      ]
     },
     "execution_count": 28,
     "metadata": {},
     "output_type": "execute_result"
    }
   ],
   "source": [
    "out.shape"
   ]
  },
  {
   "cell_type": "markdown",
   "metadata": {
    "ExecuteTime": {
     "end_time": "2021-05-13T05:38:57.699872Z",
     "start_time": "2021-05-13T05:38:57.670897Z"
    }
   },
   "source": [
    "## エージェントの作成 "
   ]
  },
  {
   "cell_type": "code",
   "execution_count": 29,
   "metadata": {
    "ExecuteTime": {
     "end_time": "2021-05-17T02:17:49.344112Z",
     "start_time": "2021-05-17T02:17:49.233369Z"
    }
   },
   "outputs": [],
   "source": [
    "policy = Policy(in_channels=3, out_number=20)\n",
    "q_func1 = QFunc(in_channels=3, action_size=20)\n",
    "q_func2 = QFunc(in_channels=3, action_size=20)\n",
    "\n",
    "opt_p = torch.optim.Adam(policy.parameters())\n",
    "opt_q1 = torch.optim.Adam(q_func1.parameters())\n",
    "opt_q2 = torch.optim.Adam(q_func2.parameters())\n",
    "\n",
    "rbuf = pfrl.replay_buffers.ReplayBuffer(1.e2)\n",
    "\n",
    "def burnin_action_func():\n",
    "    \"\"\"Select random actions until model is updated one or more times.\"\"\"\n",
    "    random_x = np.random.uniform(np.array([0]*20), np.array([1]*20))\n",
    "    out = softmax(random_x).astype(np.float32)\n",
    "    return out\n",
    "        \n",
    "gpu = -1\n",
    "\n",
    "gamma = 0.99 \n",
    "\n",
    "replay_start_size =100\n",
    "\n",
    "#batch_size = 256\n",
    "batch_size = 16  # 環境の数と異なることに注意\n",
    "    \n",
    "phi = lambda x: x.astype(np.float32, copy=False)\n",
    "\n",
    "\n",
    "sac_agent = pfrl.agents.SoftActorCritic(\n",
    "    policy,\n",
    "    q_func1,\n",
    "    q_func2,\n",
    "    opt_p,\n",
    "    opt_q1,\n",
    "    opt_q2,\n",
    "    rbuf,\n",
    "    phi=phi,\n",
    "    gamma=gamma,\n",
    "    replay_start_size=replay_start_size,\n",
    "    gpu=gpu,\n",
    "    minibatch_size=batch_size,\n",
    "    burnin_action_func=burnin_action_func,\n",
    "    entropy_target=-20,\n",
    "    temperature_optimizer_lr=3e-4,\n",
    "    act_deterministically=False\n",
    ")"
   ]
  },
  {
   "cell_type": "markdown",
   "metadata": {},
   "source": [
    "## 学習のための関数 "
   ]
  },
  {
   "cell_type": "code",
   "execution_count": 30,
   "metadata": {
    "ExecuteTime": {
     "end_time": "2021-05-17T02:17:49.502647Z",
     "start_time": "2021-05-17T02:17:49.356041Z"
    }
   },
   "outputs": [],
   "source": [
    "def episode(env,\n",
    "            agent,\n",
    "            state_transform,\n",
    "            return_state_reward=True,\n",
    "            field_list=[\"now_price_array\", \"portfoilo_vector\", \"mean_cost_price_array\", \"all_assets\", \"datetime\"],\n",
    "            seed=None,\n",
    "            print_span=None,\n",
    "            is_observe=True):\n",
    "    \n",
    "    state_list = []\n",
    "    reward_list = []\n",
    "    \n",
    "    portfolio_state,reward,_,_ = env.reset(seed)\n",
    "    \n",
    "    #state_transformの設定\n",
    "    state_transform.price_normalizer.const_array = portfolio_state.now_price_array\n",
    "    state_transform.mca_normalizer.const_array = portfolio_state.now_price_array\n",
    "    \n",
    "    \n",
    "    state_list.append(portfolio_state.partial(*field_list))\n",
    "    reward_list.append(reward)\n",
    "    \n",
    "\n",
    "    R = 0\n",
    "    t = 1\n",
    "    \n",
    "    obs = state_transform(portfolio_state)\n",
    "    \n",
    "    if print_span is not None:\n",
    "        print(\"initial:, all_assets:{}\".format(portfolio_state.all_assets))\n",
    "\n",
    "    while True:\n",
    "        action = agent.act(obs)\n",
    "        portfolio_state, reward, done, info = env.step(action)\n",
    "\n",
    "        state_list.append(portfolio_state.partial(*field_list))\n",
    "        reward_list.append(reward)\n",
    "\n",
    "        R += reward\n",
    "        t += 1\n",
    "        reset = False\n",
    "        \n",
    "        # state前処理\n",
    "        obs = state_transform(portfolio_state)\n",
    "\n",
    "        if is_observe:  # 観測(学習)する場合\n",
    "            agent.observe(obs, reward, done, reset)\n",
    "\n",
    "        if done:\n",
    "            break\n",
    "        if print_span is not None:\n",
    "            if t%print_span==0:\n",
    "                print(\"\\tt={}:, all_assets:{}\".format(t,portfolio_state.all_assets))\n",
    "    \n",
    "    if print_span is not None:\n",
    "        print(\"finished(t={}):, all_assets:{}\".format(t, portfolio_state.all_assets))\n",
    "    \n",
    "    out_dict = {}\n",
    "    out_dict[\"R\"] = R \n",
    "    \n",
    "    if return_state_reward:\n",
    "        out_dict[\"state_list\"] = state_list\n",
    "        out_dict[\"reward_list\"] = reward_list\n",
    "            \n",
    "    return out_dict"
   ]
  },
  {
   "cell_type": "code",
   "execution_count": 31,
   "metadata": {
    "ExecuteTime": {
     "end_time": "2021-05-17T02:17:49.597439Z",
     "start_time": "2021-05-17T02:17:49.516612Z"
    }
   },
   "outputs": [],
   "source": [
    "def batch_episode(batch_env,\n",
    "            agent,\n",
    "            batch_state_transform,\n",
    "            seed=None,\n",
    "            print_span=None,\n",
    "            is_observe=True):\n",
    "    #from IPython.core.debugger import Pdb; Pdb().set_trace()\n",
    "        \n",
    "    portfolio_states, rewards,_,_ = batch_env.reset(seed)\n",
    "    \n",
    "    #state_transformの設定\n",
    "    for one_portfolio_state, one_state_transform in zip(portfolio_states, batch_state_transform.transforms):\n",
    "        one_state_transform.price_normalizer.const_array = one_portfolio_state.now_price_array\n",
    "        one_state_transform.mca_normalizer.const_array = one_portfolio_state.now_price_array\n",
    "    \n",
    "    R = np.zeros(len(portfolio_states))\n",
    "    t = 1\n",
    "    \n",
    "    obss = batch_state_transform(portfolio_states)\n",
    "    \n",
    "    if print_span is not None:\n",
    "        print(\"initial:, all_assets:{}\".format(portfolio_states[0].all_assets))\n",
    "\n",
    "    while True:\n",
    "        actions = agent.batch_act(obss)\n",
    "        portfolio_states, rewards, dones, _ = batch_env.step(actions)\n",
    "\n",
    "        R += rewards\n",
    "        t += 1\n",
    "        resets = [False] * len(portfolio_states)\n",
    "        \n",
    "        # state前処理\n",
    "        obss = batch_state_transform(portfolio_states)\n",
    "\n",
    "        if is_observe:  # 観測(学習)する場合\n",
    "            agent.batch_observe(obss, rewards, dones, resets)\n",
    "\n",
    "        if any(dones):\n",
    "            break\n",
    "        if print_span is not None:\n",
    "            if t%print_span==0:\n",
    "                print(\"\\tt={}:, all_assets:{}\".format(t,portfolio_states[0].all_assets))\n",
    "    \n",
    "    if print_span is not None:\n",
    "        print(\"finished(t={}):, all_assets:{}\".format(t, portfolio_states[0].all_assets))\n",
    "        \n",
    "    return {\"R\":R}"
   ]
  },
  {
   "cell_type": "markdown",
   "metadata": {},
   "source": [
    "##  エージェント名"
   ]
  },
  {
   "cell_type": "code",
   "execution_count": 32,
   "metadata": {
    "ExecuteTime": {
     "end_time": "2021-05-17T02:17:49.646286Z",
     "start_time": "2021-05-17T02:17:49.611359Z"
    }
   },
   "outputs": [
    {
     "name": "stdout",
     "output_type": "stream",
     "text": [
      "sac_2021_05_17__11_17_49\n"
     ]
    }
   ],
   "source": [
    "now_datetime = datetime.datetime.now()\n",
    "now_str = now_datetime.strftime(\"%Y_%m_%d__%H_%M_%S\")\n",
    "agent_name = \"sac_\"+now_str\n",
    "print(agent_name)"
   ]
  },
  {
   "cell_type": "markdown",
   "metadata": {},
   "source": [
    "## 一時保存用のオブジェクト"
   ]
  },
  {
   "cell_type": "code",
   "execution_count": 33,
   "metadata": {
    "ExecuteTime": {
     "end_time": "2021-05-17T02:17:49.677181Z",
     "start_time": "2021-05-17T02:17:49.654247Z"
    }
   },
   "outputs": [],
   "source": [
    "temp_save_dict = {\"agent_name\":agent_name}"
   ]
  },
  {
   "cell_type": "markdown",
   "metadata": {},
   "source": [
    "## 一時保存用の設定 "
   ]
  },
  {
   "cell_type": "code",
   "execution_count": 34,
   "metadata": {
    "ExecuteTime": {
     "end_time": "2021-05-17T02:17:49.709094Z",
     "start_time": "2021-05-17T02:17:49.689150Z"
    }
   },
   "outputs": [],
   "source": [
    "temp_filepath = Path(\"portfolio/rl_base/training_temp_sac.tmp\")\n",
    "\n",
    "object_temp_filepath = Path(\"portfolio/rl_base/temp_save_dict_sac.pickle\")\n",
    "\n",
    "save_funcs = [sac_agent.save]\n",
    "load_funcs = [sac_agent.load]\n",
    "func_paths = [Path(\"portfolio/rl_base/temp_agent_sac\")]"
   ]
  },
  {
   "cell_type": "markdown",
   "metadata": {},
   "source": [
    "## オブジェクトの登録とロード"
   ]
  },
  {
   "cell_type": "code",
   "execution_count": 35,
   "metadata": {
    "ExecuteTime": {
     "end_time": "2021-05-17T02:17:50.390580Z",
     "start_time": "2021-05-17T02:17:49.720068Z"
    }
   },
   "outputs": [],
   "source": [
    "counter = py_restart.enable_counter(temp_filepath, each_save=True, save_span=100, use_tempfile=True)\n",
    "\n",
    "temp_save_dict = counter.save_load_object(temp_save_dict, object_temp_filepath)\n",
    "\n",
    "counter.save_load_funcs(save_funcs=save_funcs,\n",
    "                        load_funcs=load_funcs,\n",
    "                        func_paths=func_paths\n",
    "                        )"
   ]
  },
  {
   "cell_type": "markdown",
   "metadata": {},
   "source": [
    "## 画像を保存するディレクトリ "
   ]
  },
  {
   "cell_type": "code",
   "execution_count": 36,
   "metadata": {
    "ExecuteTime": {
     "end_time": "2021-05-17T02:17:50.596263Z",
     "start_time": "2021-05-17T02:17:50.399557Z"
    }
   },
   "outputs": [],
   "source": [
    "save_fig_dir_path = Path(\"portfolio/rl_base/trading_process_figures\") / Path(agent_name)\n",
    "if not save_fig_dir_path.exists():\n",
    "    save_fig_dir_path.mkdir()"
   ]
  },
  {
   "cell_type": "markdown",
   "metadata": {},
   "source": [
    "## 学習のパラメータ― "
   ]
  },
  {
   "cell_type": "code",
   "execution_count": 37,
   "metadata": {
    "ExecuteTime": {
     "end_time": "2021-05-17T02:17:50.645133Z",
     "start_time": "2021-05-17T02:17:50.607213Z"
    }
   },
   "outputs": [],
   "source": [
    "n_episodes = 1000"
   ]
  },
  {
   "cell_type": "markdown",
   "metadata": {},
   "source": [
    "## 学習のイテレーション "
   ]
  },
  {
   "cell_type": "code",
   "execution_count": null,
   "metadata": {
    "ExecuteTime": {
     "start_time": "2021-05-17T02:17:27.827Z"
    },
    "scrolled": true
   },
   "outputs": [
    {
     "data": {
      "application/vnd.jupyter.widget-view+json": {
       "model_id": "7307f2793a7444f384c4f911723d0467",
       "version_major": 2,
       "version_minor": 0
      },
      "text/plain": [
       "HBox(children=(FloatProgress(value=0.0, max=1000.0), HTML(value='')))"
      ]
     },
     "metadata": {},
     "output_type": "display_data"
    }
   ],
   "source": [
    "with counter:\n",
    "    for i in counter(tqdm(range(1, n_episodes + 1))):\n",
    "        out_dict = batch_episode(batch_trade_env,\n",
    "                      sac_agent,\n",
    "                      batch_state_transform,\n",
    "                     )        \n",
    "\n",
    "        if i%50 == 0:\n",
    "            print(\"episode:{}, return:{}\".format(i, out_dict[\"R\"]))\n",
    "        if i%100 == 0:\n",
    "            print(\"statistics:\", sac_agent.get_statistics())\n",
    "\n",
    "        if i%50 == 0:\n",
    "            with sac_agent.eval_mode():\n",
    "                out_dict = episode(one_trade_env, \n",
    "                                   sac_agent,\n",
    "                                   one_state_transform,\n",
    "                                   return_state_reward=True,\n",
    "                                   field_list=[\"names\", \"now_price_array\", \"portfolio_vector\", \"mean_cost_price_array\", \"all_assets\", \"datetime\"],\n",
    "                                   is_observe=False\n",
    "                                   )\n",
    "                \n",
    "                save_fig_path = save_fig_dir_path / Path(\"trading_process_i_{}.png\".format(i))\n",
    "                visualize_portfolio_rl_bokeh(out_dict[\"state_list\"], out_dict[\"reward_list\"], save_path=save_fig_path, is_show=False, is_save=True, is_jupyter=True)\n",
    "            \n",
    "print(\"Finshed\")"
   ]
  },
  {
   "cell_type": "markdown",
   "metadata": {},
   "source": [
    "## 学習結果の可視化"
   ]
  },
  {
   "cell_type": "code",
   "execution_count": null,
   "metadata": {
    "ExecuteTime": {
     "start_time": "2021-05-17T02:17:27.838Z"
    }
   },
   "outputs": [],
   "source": [
    "with sac_agent.eval_mode():\n",
    "    out_dict = episode(trade_env, \n",
    "                       ddpg_agent,\n",
    "                       state_transform,\n",
    "                       return_state_reward=True,\n",
    "                       field_list=[\"names\", \"now_price_array\", \"portfolio_vector\", \"mean_cost_price_array\", \"all_assets\", \"datetime\"],\n",
    "                       is_observe=False\n",
    "                       )\n",
    "    \n",
    "visualize_portfolio_rl_bokeh(out_dict[\"state_list\"], out_dict[\"reward_list\"], is_show=False, is_jupyter=True)"
   ]
  },
  {
   "cell_type": "code",
   "execution_count": null,
   "metadata": {
    "ExecuteTime": {
     "start_time": "2021-05-17T02:17:27.848Z"
    }
   },
   "outputs": [],
   "source": [
    "save_agent_path = Path(\"portfolio/rl_base/saved_agents\") / Path(agent_name)\n",
    "sac_agent.save(save_agent_path)"
   ]
  }
 ],
 "metadata": {
  "kernelspec": {
   "display_name": "torch_py37",
   "language": "python",
   "name": "torch_py37"
  },
  "language_info": {
   "codemirror_mode": {
    "name": "ipython",
    "version": 3
   },
   "file_extension": ".py",
   "mimetype": "text/x-python",
   "name": "python",
   "nbconvert_exporter": "python",
   "pygments_lexer": "ipython3",
   "version": "3.7.4"
  },
  "toc": {
   "base_numbering": 1,
   "nav_menu": {},
   "number_sections": true,
   "sideBar": true,
   "skip_h1_title": true,
   "title_cell": "Table of Contents",
   "title_sidebar": "Contents",
   "toc_cell": false,
   "toc_position": {
    "height": "calc(100% - 180px)",
    "left": "10px",
    "top": "150px",
    "width": "183.594px"
   },
   "toc_section_display": true,
   "toc_window_display": true
  }
 },
 "nbformat": 4,
 "nbformat_minor": 4
}
