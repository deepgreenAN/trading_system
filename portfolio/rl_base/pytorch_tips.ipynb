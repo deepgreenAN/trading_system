{
 "cells": [
  {
   "cell_type": "code",
   "execution_count": 3,
   "metadata": {
    "ExecuteTime": {
     "end_time": "2020-12-27T18:29:08.254456Z",
     "start_time": "2020-12-27T18:29:08.243481Z"
    }
   },
   "outputs": [],
   "source": [
    "import numpy as np\n",
    "import torch"
   ]
  },
  {
   "cell_type": "markdown",
   "metadata": {},
   "source": [
    "##  choice"
   ]
  },
  {
   "cell_type": "markdown",
   "metadata": {},
   "source": [
    "pytorchにnumpyのようなchoice（ランダムにtorch.tensorから取得する）は無いので，以下のような代替を利用する必要がある．以下では，10個のサンプルを取得する．"
   ]
  },
  {
   "cell_type": "markdown",
   "metadata": {},
   "source": [
    "### データの作成 "
   ]
  },
  {
   "cell_type": "code",
   "execution_count": 4,
   "metadata": {
    "ExecuteTime": {
     "end_time": "2020-12-27T18:29:54.317372Z",
     "start_time": "2020-12-27T18:29:54.192705Z"
    }
   },
   "outputs": [
    {
     "data": {
      "text/plain": [
       "tensor([10000, 10001, 10002, 10003, 10004, 10005, 10006, 10007, 10008, 10009,\n",
       "        10010, 10011, 10012, 10013, 10014, 10015, 10016, 10017, 10018, 10019,\n",
       "        10020, 10021, 10022, 10023, 10024, 10025, 10026, 10027, 10028, 10029,\n",
       "        10030, 10031, 10032, 10033, 10034, 10035, 10036, 10037, 10038, 10039,\n",
       "        10040, 10041, 10042, 10043, 10044, 10045, 10046, 10047, 10048, 10049,\n",
       "        10050, 10051, 10052, 10053, 10054, 10055, 10056, 10057, 10058, 10059,\n",
       "        10060, 10061, 10062, 10063, 10064, 10065, 10066, 10067, 10068, 10069,\n",
       "        10070, 10071, 10072, 10073, 10074, 10075, 10076, 10077, 10078, 10079,\n",
       "        10080, 10081, 10082, 10083, 10084, 10085, 10086, 10087, 10088, 10089,\n",
       "        10090, 10091, 10092, 10093, 10094, 10095, 10096, 10097, 10098, 10099],\n",
       "       dtype=torch.int32)"
      ]
     },
     "execution_count": 4,
     "metadata": {},
     "output_type": "execute_result"
    }
   ],
   "source": [
    "a = torch.from_numpy(np.arange(10000, 10100))\n",
    "a"
   ]
  },
  {
   "cell_type": "markdown",
   "metadata": {},
   "source": [
    "### randintを用いる場合"
   ]
  },
  {
   "cell_type": "code",
   "execution_count": 7,
   "metadata": {
    "ExecuteTime": {
     "end_time": "2020-12-27T18:33:00.962047Z",
     "start_time": "2020-12-27T18:33:00.913178Z"
    }
   },
   "outputs": [
    {
     "name": "stdout",
     "output_type": "stream",
     "text": [
      "tensor([87, 81,  7, 45, 38, 96, 36, 50, 30, 51])\n",
      "tensor([10087, 10081, 10007, 10045, 10038, 10096, 10036, 10050, 10030, 10051],\n",
      "       dtype=torch.int32)\n"
     ]
    }
   ],
   "source": [
    "random_index = torch.randint(0,100,size=(10,))\n",
    "print(random_index)\n",
    "samples = a[random_index]\n",
    "print(samples)"
   ]
  },
  {
   "cell_type": "markdown",
   "metadata": {},
   "source": [
    "もちろんインデックスはndarrayでもよい"
   ]
  },
  {
   "cell_type": "code",
   "execution_count": 8,
   "metadata": {
    "ExecuteTime": {
     "end_time": "2020-12-27T18:33:34.201204Z",
     "start_time": "2020-12-27T18:33:34.168293Z"
    }
   },
   "outputs": [
    {
     "name": "stdout",
     "output_type": "stream",
     "text": [
      "[ 8 13  4 84 83 53 27  0 48 87]\n",
      "tensor([10008, 10013, 10004, 10084, 10083, 10053, 10027, 10000, 10048, 10087],\n",
      "       dtype=torch.int32)\n"
     ]
    }
   ],
   "source": [
    "random_index = np.random.randint(0,100,size=(10,))\n",
    "print(random_index)\n",
    "samples = a[random_index]\n",
    "print(samples)"
   ]
  },
  {
   "cell_type": "markdown",
   "metadata": {},
   "source": [
    "### randomに並び替えられたインデックスを取得し，そこから欲しい個数分取得する "
   ]
  },
  {
   "cell_type": "code",
   "execution_count": 10,
   "metadata": {
    "ExecuteTime": {
     "end_time": "2020-12-27T18:38:55.739344Z",
     "start_time": "2020-12-27T18:38:55.712412Z"
    }
   },
   "outputs": [
    {
     "name": "stdout",
     "output_type": "stream",
     "text": [
      "tensor([ 8, 19, 54, 96, 57, 17, 83, 79, 14, 64])\n",
      "tensor([10008, 10019, 10054, 10096, 10057, 10017, 10083, 10079, 10014, 10064],\n",
      "       dtype=torch.int32)\n"
     ]
    }
   ],
   "source": [
    "random_index_all = torch.randperm(len(a))\n",
    "random_index = random_index_all[:10]\n",
    "print(random_index)\n",
    "samples = a[random_index]\n",
    "print(samples)"
   ]
  }
 ],
 "metadata": {
  "kernelspec": {
   "display_name": "torch_py37",
   "language": "python",
   "name": "torch_py37"
  },
  "language_info": {
   "codemirror_mode": {
    "name": "ipython",
    "version": 3
   },
   "file_extension": ".py",
   "mimetype": "text/x-python",
   "name": "python",
   "nbconvert_exporter": "python",
   "pygments_lexer": "ipython3",
   "version": "3.7.4"
  },
  "toc": {
   "base_numbering": 1,
   "nav_menu": {},
   "number_sections": true,
   "sideBar": true,
   "skip_h1_title": true,
   "title_cell": "Table of Contents",
   "title_sidebar": "Contents",
   "toc_cell": false,
   "toc_position": {},
   "toc_section_display": true,
   "toc_window_display": false
  }
 },
 "nbformat": 4,
 "nbformat_minor": 4
}
