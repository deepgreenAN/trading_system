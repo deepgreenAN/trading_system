{
 "cells": [
  {
   "cell_type": "markdown",
   "metadata": {},
   "source": [
    "# torch.distributionsのバッチの処理について"
   ]
  },
  {
   "cell_type": "markdown",
   "metadata": {},
   "source": [
    "torch.distributionは誤差逆伝播可能なサンプリングを行うことができる．`sample`が通常のサンプリングで，`rsample`が誤差逆伝播可能なサンプリングを行うメソッドである．"
   ]
  },
  {
   "cell_type": "markdown",
   "metadata": {},
   "source": [
    "torch.distributionsはサンプル時にサイズを指定するので，入力のバッチサイズと出力のバッチサイズが見かけ上異なってしまう．そこで，整理しておく"
   ]
  },
  {
   "cell_type": "code",
   "execution_count": 1,
   "metadata": {
    "ExecuteTime": {
     "end_time": "2021-01-17T09:52:02.209476Z",
     "start_time": "2021-01-17T09:51:58.210010Z"
    }
   },
   "outputs": [],
   "source": [
    "import torch"
   ]
  },
  {
   "cell_type": "code",
   "execution_count": 31,
   "metadata": {
    "ExecuteTime": {
     "end_time": "2021-01-17T10:57:42.348109Z",
     "start_time": "2021-01-17T10:57:39.608285Z"
    }
   },
   "outputs": [],
   "source": [
    "import matplotlib.pyplot as plt"
   ]
  },
  {
   "cell_type": "markdown",
   "metadata": {},
   "source": [
    "以下の例では，平均・分散ともにバッチサイズは3であり，各確率変数の次元は2である．VAEでは，平均と分散をバッチサイズごとに用意し，サンプリングそれぞれひとつづつ行い，結果として全体のサンプリング数がバッチサイズと等しくなる．"
   ]
  },
  {
   "cell_type": "code",
   "execution_count": 52,
   "metadata": {
    "ExecuteTime": {
     "end_time": "2021-01-17T11:27:06.605574Z",
     "start_time": "2021-01-17T11:27:06.492875Z"
    }
   },
   "outputs": [
    {
     "name": "stdout",
     "output_type": "stream",
     "text": [
      "maen: tensor([[1., 1.],\n",
      "        [2., 2.],\n",
      "        [3., 3.]])\n",
      "var: tensor([[0.1000, 0.1000],\n",
      "        [0.1000, 0.1000],\n",
      "        [0.1000, 0.1000]])\n",
      "var_matrix: tensor([[[0.1000, 0.0000],\n",
      "         [0.0000, 0.1000]],\n",
      "\n",
      "        [[0.1000, 0.0000],\n",
      "         [0.0000, 0.1000]],\n",
      "\n",
      "        [[0.1000, 0.0000],\n",
      "         [0.0000, 0.1000]]])\n"
     ]
    }
   ],
   "source": [
    "one_mean1 = torch.tensor([1,1]).float()\n",
    "one_mean2 = torch.tensor([2,2]).float()\n",
    "one_mean3 = torch.tensor([3,3]).float()\n",
    "\n",
    "mean = torch.stack([one_mean1, one_mean2, one_mean3], dim=0)\n",
    "print(\"maen:\",mean)\n",
    "\n",
    "one_var1 = torch.tensor([0.1, 0.1]).float()\n",
    "one_var2 = torch.tensor([0.1, 0.1]).float()\n",
    "one_var3 = torch.tensor([0.1, 0.1]).float()\n",
    "\n",
    "var = torch.stack([one_var1, one_var2, one_var3], dim=0)  # 対角成分のみ\n",
    "print(\"var:\", var)\n",
    "\n",
    "var_matrix = var[:,:,None] * torch.eye(var.size(1))[None,:,:]\n",
    "print(\"var_matrix:\", var_matrix)"
   ]
  },
  {
   "cell_type": "markdown",
   "metadata": {},
   "source": [
    "torch.distributionsのクラスはバッチを考慮してパラメータの指定ができる．"
   ]
  },
  {
   "cell_type": "code",
   "execution_count": 53,
   "metadata": {
    "ExecuteTime": {
     "end_time": "2021-01-17T11:27:08.811675Z",
     "start_time": "2021-01-17T11:27:08.788737Z"
    }
   },
   "outputs": [],
   "source": [
    "multi_normal = torch.distributions.MultivariateNormal(loc=mean, covariance_matrix=var_matrix)"
   ]
  },
  {
   "cell_type": "markdown",
   "metadata": {},
   "source": [
    "バッチサイズについては`batch_size`でアクセスできる．"
   ]
  },
  {
   "cell_type": "code",
   "execution_count": 54,
   "metadata": {
    "ExecuteTime": {
     "end_time": "2021-01-17T11:27:10.188995Z",
     "start_time": "2021-01-17T11:27:10.159074Z"
    }
   },
   "outputs": [
    {
     "data": {
      "text/plain": [
       "torch.Size([3])"
      ]
     },
     "execution_count": 54,
     "metadata": {},
     "output_type": "execute_result"
    }
   ],
   "source": [
    "multi_normal.batch_shape"
   ]
  },
  {
   "cell_type": "markdown",
   "metadata": {},
   "source": [
    "一方確率変数の次元については`event_shape`からアクセスできる．"
   ]
  },
  {
   "cell_type": "code",
   "execution_count": 55,
   "metadata": {
    "ExecuteTime": {
     "end_time": "2021-01-17T11:27:11.484527Z",
     "start_time": "2021-01-17T11:27:11.456614Z"
    }
   },
   "outputs": [
    {
     "data": {
      "text/plain": [
       "torch.Size([2])"
      ]
     },
     "execution_count": 55,
     "metadata": {},
     "output_type": "execute_result"
    }
   ],
   "source": [
    "multi_normal.event_shape"
   ]
  },
  {
   "cell_type": "markdown",
   "metadata": {},
   "source": [
    "`Distribution`クラスの`sample`メソッドはバッチを考慮してサンプリングできるので，バッチサイズ=すべてのサンプリングサイズとなるVAEでは，サンプルサイズを指定しない．"
   ]
  },
  {
   "cell_type": "code",
   "execution_count": 56,
   "metadata": {
    "ExecuteTime": {
     "end_time": "2021-01-17T11:27:12.930351Z",
     "start_time": "2021-01-17T11:27:12.895445Z"
    }
   },
   "outputs": [
    {
     "data": {
      "text/plain": [
       "torch.Size([3, 2])"
      ]
     },
     "execution_count": 56,
     "metadata": {},
     "output_type": "execute_result"
    }
   ],
   "source": [
    "samples = multi_normal.sample()\n",
    "samples.shape"
   ]
  },
  {
   "cell_type": "markdown",
   "metadata": {},
   "source": [
    "一つの平均・分散ごとに複数のサンプルを指定するときにサンプルサイズを指定する．以下の例では二つのバッチそれぞれで100個のサンプルをサンプリングしている．"
   ]
  },
  {
   "cell_type": "code",
   "execution_count": 57,
   "metadata": {
    "ExecuteTime": {
     "end_time": "2021-01-17T11:27:15.997155Z",
     "start_time": "2021-01-17T11:27:15.960250Z"
    }
   },
   "outputs": [
    {
     "data": {
      "text/plain": [
       "torch.Size([100, 3, 2])"
      ]
     },
     "execution_count": 57,
     "metadata": {},
     "output_type": "execute_result"
    }
   ],
   "source": [
    "samples = multi_normal.sample(torch.Size([100]))\n",
    "samples.shape"
   ]
  },
  {
   "cell_type": "markdown",
   "metadata": {},
   "source": [
    "以下のように，二つ目がバッチ次元になっていることが分かる．"
   ]
  },
  {
   "cell_type": "code",
   "execution_count": 58,
   "metadata": {
    "ExecuteTime": {
     "end_time": "2021-01-17T11:27:18.242199Z",
     "start_time": "2021-01-17T11:27:17.199938Z"
    }
   },
   "outputs": [
    {
     "data": {
      "image/png": "[encoded data removed]",
      "text/plain": [
       "<Figure size 432x288 with 1 Axes>"
      ]
     },
     "metadata": {
      "needs_background": "light"
     },
     "output_type": "display_data"
    }
   ],
   "source": [
    "fig, ax = plt.subplots()\n",
    "for i in range(samples.size(1)):  # バッチ次元\n",
    "    each_samples = samples[:,i,:]\n",
    "    each_samples_array = each_samples.numpy()\n",
    "    ax.scatter(each_samples_array[:,0], each_samples_array[:,1])"
   ]
  },
  {
   "cell_type": "markdown",
   "metadata": {},
   "source": [
    "以上の例では，わざわざ単位行列を利用して分散を行列にする必要がある．しかし一般にVAEでは分散行列は対角行列であるので，各確率変数の次元は独立である．このように独立性がある場合，`Independent`を利用すれば，一次元の変数の確率分布を用いて多次元の変数を表すことができる"
   ]
  },
  {
   "cell_type": "code",
   "execution_count": 68,
   "metadata": {
    "ExecuteTime": {
     "end_time": "2021-01-17T11:29:47.862590Z",
     "start_time": "2021-01-17T11:29:47.717961Z"
    }
   },
   "outputs": [
    {
     "name": "stdout",
     "output_type": "stream",
     "text": [
      "maen: tensor([[1., 1.],\n",
      "        [2., 2.],\n",
      "        [3., 3.]])\n",
      "sigma: tensor([[0.3162, 0.3162],\n",
      "        [0.3162, 0.3162],\n",
      "        [0.3162, 0.3162]])\n"
     ]
    }
   ],
   "source": [
    "one_mean1 = torch.tensor([1,1]).float()\n",
    "one_mean2 = torch.tensor([2,2]).float()\n",
    "one_mean3 = torch.tensor([3,3]).float()\n",
    "\n",
    "mean = torch.stack([one_mean1, one_mean2, one_mean3], dim=0)\n",
    "print(\"maen:\",mean)\n",
    "\n",
    "one_sigma1 = torch.sqrt(torch.tensor([0.1, 0.1]))\n",
    "one_sigma2 = torch.sqrt(torch.tensor([0.1, 0.1]))\n",
    "one_sigma3 = torch.sqrt(torch.tensor([0.1, 0.1]))\n",
    "\n",
    "sigma = torch.stack([one_sigma1, one_sigma2, one_sigma3], dim=0)  # 対角成分のみ\n",
    "print(\"sigma:\", sigma)"
   ]
  },
  {
   "cell_type": "code",
   "execution_count": 69,
   "metadata": {
    "ExecuteTime": {
     "end_time": "2021-01-17T11:29:50.035763Z",
     "start_time": "2021-01-17T11:29:50.014822Z"
    }
   },
   "outputs": [],
   "source": [
    "normal = torch.distributions.Normal(loc=mean, scale=sigma)"
   ]
  },
  {
   "cell_type": "markdown",
   "metadata": {},
   "source": [
    "このmean・varはバッチサイズが3であるが，Normalは一変数の確率分布であるので，distributionではバッチサイズが間違って認識されてしまう．"
   ]
  },
  {
   "cell_type": "code",
   "execution_count": 70,
   "metadata": {
    "ExecuteTime": {
     "end_time": "2021-01-17T11:29:51.123858Z",
     "start_time": "2021-01-17T11:29:51.095939Z"
    }
   },
   "outputs": [
    {
     "data": {
      "text/plain": [
       "torch.Size([3, 2])"
      ]
     },
     "execution_count": 70,
     "metadata": {},
     "output_type": "execute_result"
    }
   ],
   "source": [
    "normal.batch_shape"
   ]
  },
  {
   "cell_type": "code",
   "execution_count": 71,
   "metadata": {
    "ExecuteTime": {
     "end_time": "2021-01-17T11:29:51.842936Z",
     "start_time": "2021-01-17T11:29:51.816003Z"
    }
   },
   "outputs": [
    {
     "data": {
      "text/plain": [
       "torch.Size([])"
      ]
     },
     "execution_count": 71,
     "metadata": {},
     "output_type": "execute_result"
    }
   ],
   "source": [
    "normal.event_shape"
   ]
  },
  {
   "cell_type": "markdown",
   "metadata": {},
   "source": [
    "以下で独立な確率変数を定義できる．二つ目の引数はバッチ次元における新しい確率変数次元に対応するインデックスである．元のバッチ次元が(3,2)であるので，二つ目を確率変数次元と指定している．"
   ]
  },
  {
   "cell_type": "code",
   "execution_count": 72,
   "metadata": {
    "ExecuteTime": {
     "end_time": "2021-01-17T11:29:53.134482Z",
     "start_time": "2021-01-17T11:29:53.118524Z"
    }
   },
   "outputs": [],
   "source": [
    "iid_normal = torch.distributions.Independent(normal, 1) "
   ]
  },
  {
   "cell_type": "code",
   "execution_count": 73,
   "metadata": {
    "ExecuteTime": {
     "end_time": "2021-01-17T11:29:53.610210Z",
     "start_time": "2021-01-17T11:29:53.582285Z"
    }
   },
   "outputs": [
    {
     "data": {
      "text/plain": [
       "torch.Size([3])"
      ]
     },
     "execution_count": 73,
     "metadata": {},
     "output_type": "execute_result"
    }
   ],
   "source": [
    "iid_normal.batch_shape"
   ]
  },
  {
   "cell_type": "code",
   "execution_count": 74,
   "metadata": {
    "ExecuteTime": {
     "end_time": "2021-01-17T11:29:54.163730Z",
     "start_time": "2021-01-17T11:29:54.134829Z"
    }
   },
   "outputs": [
    {
     "data": {
      "text/plain": [
       "torch.Size([2])"
      ]
     },
     "execution_count": 74,
     "metadata": {},
     "output_type": "execute_result"
    }
   ],
   "source": [
    "iid_normal.event_shape"
   ]
  },
  {
   "cell_type": "code",
   "execution_count": 75,
   "metadata": {
    "ExecuteTime": {
     "end_time": "2021-01-17T11:29:54.716252Z",
     "start_time": "2021-01-17T11:29:54.688328Z"
    }
   },
   "outputs": [
    {
     "data": {
      "text/plain": [
       "torch.Size([100, 3, 2])"
      ]
     },
     "execution_count": 75,
     "metadata": {},
     "output_type": "execute_result"
    }
   ],
   "source": [
    "samples = iid_normal.sample(torch.Size([100]))\n",
    "samples.shape"
   ]
  },
  {
   "cell_type": "code",
   "execution_count": 76,
   "metadata": {
    "ExecuteTime": {
     "end_time": "2021-01-17T11:29:55.919033Z",
     "start_time": "2021-01-17T11:29:55.272764Z"
    }
   },
   "outputs": [
    {
     "data": {
      "image/png": "[encoded data removed]",
      "text/plain": [
       "<Figure size 432x288 with 1 Axes>"
      ]
     },
     "metadata": {
      "needs_background": "light"
     },
     "output_type": "display_data"
    }
   ],
   "source": [
    "fig, ax = plt.subplots()\n",
    "for i in range(samples.size(1)):  # バッチ次元\n",
    "    each_samples = samples[:,i,:]\n",
    "    each_samples_array = each_samples.numpy()\n",
    "    ax.scatter(each_samples_array[:,0], each_samples_array[:,1])"
   ]
  },
  {
   "cell_type": "code",
   "execution_count": null,
   "metadata": {},
   "outputs": [],
   "source": []
  }
 ],
 "metadata": {
  "kernelspec": {
   "display_name": "torch_py37",
   "language": "python",
   "name": "torch_py37"
  },
  "language_info": {
   "codemirror_mode": {
    "name": "ipython",
    "version": 3
   },
   "file_extension": ".py",
   "mimetype": "text/x-python",
   "name": "python",
   "nbconvert_exporter": "python",
   "pygments_lexer": "ipython3",
   "version": "3.7.4"
  },
  "toc": {
   "base_numbering": 1,
   "nav_menu": {},
   "number_sections": true,
   "sideBar": true,
   "skip_h1_title": true,
   "title_cell": "Table of Contents",
   "title_sidebar": "Contents",
   "toc_cell": false,
   "toc_position": {},
   "toc_section_display": true,
   "toc_window_display": false
  }
 },
 "nbformat": 4,
 "nbformat_minor": 4
}
