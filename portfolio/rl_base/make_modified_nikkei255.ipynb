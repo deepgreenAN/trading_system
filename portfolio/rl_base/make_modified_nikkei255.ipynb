{
 "cells": [
  {
   "cell_type": "code",
   "execution_count": 1,
   "metadata": {
    "ExecuteTime": {
     "end_time": "2021-05-17T01:24:18.536208Z",
     "start_time": "2021-05-17T01:24:18.497310Z"
    }
   },
   "outputs": [
    {
     "name": "stdout",
     "output_type": "stream",
     "text": [
      "E:\\システムトレード入門\\trade_system_git_workspace\n"
     ]
    }
   ],
   "source": [
    "%cd ../.."
   ]
  },
  {
   "cell_type": "code",
   "execution_count": 2,
   "metadata": {
    "ExecuteTime": {
     "end_time": "2021-05-17T01:24:21.886896Z",
     "start_time": "2021-05-17T01:24:18.546179Z"
    }
   },
   "outputs": [],
   "source": [
    "import pandas as pd\n",
    "import numpy as np\n",
    "from pytz import timezone\n",
    "import datetime\n",
    "from pathlib import Path\n",
    "from tqdm.notebook import tqdm"
   ]
  },
  {
   "cell_type": "code",
   "execution_count": 3,
   "metadata": {
    "ExecuteTime": {
     "end_time": "2021-05-17T01:24:22.747878Z",
     "start_time": "2021-05-17T01:24:21.901866Z"
    }
   },
   "outputs": [],
   "source": [
    "from get_stock_price import StockDatabase"
   ]
  },
  {
   "cell_type": "code",
   "execution_count": 4,
   "metadata": {
    "ExecuteTime": {
     "end_time": "2021-05-17T01:24:22.953191Z",
     "start_time": "2021-05-17T01:24:22.755906Z"
    }
   },
   "outputs": [],
   "source": [
    "from portfolio.trade_transformer import PortfolioTransformer, PortfolioRestrictorIdentity, FeeCalculatorFree\n",
    "from portfolio.price_supply import StockDBPriceSupplier, CannotGetAllDataError"
   ]
  },
  {
   "cell_type": "code",
   "execution_count": 5,
   "metadata": {
    "ExecuteTime": {
     "end_time": "2021-05-17T01:24:23.001057Z",
     "start_time": "2021-05-17T01:24:22.968148Z"
    }
   },
   "outputs": [],
   "source": [
    "from utils import TradeSystemBaseError"
   ]
  },
  {
   "cell_type": "code",
   "execution_count": 6,
   "metadata": {
    "ExecuteTime": {
     "end_time": "2021-05-17T01:24:23.147667Z",
     "start_time": "2021-05-17T01:24:23.014021Z"
    }
   },
   "outputs": [],
   "source": [
    "from utils import get_next_workday_intraday_datetime\n",
    "import py_workdays"
   ]
  },
  {
   "cell_type": "code",
   "execution_count": 7,
   "metadata": {
    "ExecuteTime": {
     "end_time": "2021-05-17T01:24:23.270336Z",
     "start_time": "2021-05-17T01:24:23.159634Z"
    }
   },
   "outputs": [],
   "source": [
    "from portfolio.trade_transformer import PortfolioState, DataSupplyUnit"
   ]
  },
  {
   "cell_type": "code",
   "execution_count": 8,
   "metadata": {
    "ExecuteTime": {
     "end_time": "2021-05-17T01:24:25.255461Z",
     "start_time": "2021-05-17T01:24:23.292282Z"
    }
   },
   "outputs": [],
   "source": [
    "jst = timezone(\"Asia/Tokyo\")\n",
    "start_datetime = jst.localize(datetime.datetime(2020,11,10,0,0,0))\n",
    "end_datetime = jst.localize(datetime.datetime(2020,12,10,0,0,0))\n",
    "freq_str = \"5T\"\n",
    "window = np.arange(0,50)"
   ]
  },
  {
   "cell_type": "markdown",
   "metadata": {},
   "source": [
    "### エピソードの長さを計算する "
   ]
  },
  {
   "cell_type": "code",
   "execution_count": 9,
   "metadata": {
    "ExecuteTime": {
     "end_time": "2021-05-17T01:24:25.934644Z",
     "start_time": "2021-05-17T01:24:25.314309Z"
    }
   },
   "outputs": [
    {
     "data": {
      "text/plain": [
       "1560"
      ]
     },
     "execution_count": 9,
     "metadata": {},
     "output_type": "execute_result"
    }
   ],
   "source": [
    "episode_length = len(py_workdays.extract_workdays_intraday_jp_index(pd.date_range(start_datetime, get_next_workday_intraday_datetime(end_datetime, freq_str, 300), freq=freq_str, closed=\"left\")))\n",
    "episode_length"
   ]
  },
  {
   "cell_type": "markdown",
   "metadata": {},
   "source": [
    "### 利用するticker_namesのリストを取得 "
   ]
  },
  {
   "cell_type": "code",
   "execution_count": 10,
   "metadata": {
    "ExecuteTime": {
     "end_time": "2021-05-17T01:24:26.220888Z",
     "start_time": "2021-05-17T01:24:25.973545Z"
    }
   },
   "outputs": [
    {
     "data": {
      "text/plain": [
       "['1333',\n",
       " '1332',\n",
       " '1605',\n",
       " '1802',\n",
       " '1801',\n",
       " '1963',\n",
       " '1812',\n",
       " '1803',\n",
       " '1925',\n",
       " '1808',\n",
       " '1928',\n",
       " '1721',\n",
       " '2002',\n",
       " '2269',\n",
       " '2914',\n",
       " '2503',\n",
       " '2501',\n",
       " '2801',\n",
       " '2502',\n",
       " '2802',\n",
       " '2531',\n",
       " '2871',\n",
       " '2282',\n",
       " '3101',\n",
       " '3401',\n",
       " '3402',\n",
       " '3103',\n",
       " '3863',\n",
       " '3861',\n",
       " '6988',\n",
       " '4021',\n",
       " '4061',\n",
       " '4901',\n",
       " '4004',\n",
       " '4911',\n",
       " '4043',\n",
       " '4183',\n",
       " '4042',\n",
       " '3407',\n",
       " '4208',\n",
       " '4188',\n",
       " '3405',\n",
       " '4005',\n",
       " '4631',\n",
       " '4063',\n",
       " '4452',\n",
       " '4519',\n",
       " '4578',\n",
       " '4506',\n",
       " '4502',\n",
       " '4507',\n",
       " '4523',\n",
       " '4568',\n",
       " '5019',\n",
       " '5020',\n",
       " '5101',\n",
       " '5202',\n",
       " '5214',\n",
       " '5232',\n",
       " '5233',\n",
       " '5301',\n",
       " '5332',\n",
       " '5333',\n",
       " '5401',\n",
       " '5406',\n",
       " '5411',\n",
       " '5541',\n",
       " '3436',\n",
       " '5703',\n",
       " '5706',\n",
       " '5707',\n",
       " '5711',\n",
       " '5713',\n",
       " '5714',\n",
       " '5801',\n",
       " '5802',\n",
       " '5803',\n",
       " '5901',\n",
       " '5631',\n",
       " '6103',\n",
       " '6113',\n",
       " '6301',\n",
       " '6302',\n",
       " '6305',\n",
       " '6326',\n",
       " '6361',\n",
       " '6367',\n",
       " '6471',\n",
       " '6472',\n",
       " '6473',\n",
       " '7004',\n",
       " '7011',\n",
       " '7013',\n",
       " '3105',\n",
       " '6479',\n",
       " '6501',\n",
       " '6503',\n",
       " '6504',\n",
       " '6506',\n",
       " '6645',\n",
       " '6674',\n",
       " '6701',\n",
       " '6702',\n",
       " '6703',\n",
       " '6724',\n",
       " '6752',\n",
       " '6758',\n",
       " '6762',\n",
       " '6770',\n",
       " '6841',\n",
       " '6857',\n",
       " '6902',\n",
       " '6952',\n",
       " '6954',\n",
       " '6971',\n",
       " '6976',\n",
       " '7735',\n",
       " '7751',\n",
       " '7752',\n",
       " '8035',\n",
       " '7003',\n",
       " '7012',\n",
       " '7201',\n",
       " '7202',\n",
       " '7203',\n",
       " '7205',\n",
       " '7211',\n",
       " '7261',\n",
       " '7267',\n",
       " '7269',\n",
       " '7270',\n",
       " '7272',\n",
       " '4543',\n",
       " '4902',\n",
       " '7731',\n",
       " '7733',\n",
       " '7762',\n",
       " '7832',\n",
       " '7911',\n",
       " '7912',\n",
       " '7951',\n",
       " '2768',\n",
       " '8001',\n",
       " '8002',\n",
       " '8015',\n",
       " '8031',\n",
       " '9983',\n",
       " '8233',\n",
       " '3099',\n",
       " '8028',\n",
       " '8267',\n",
       " '3086',\n",
       " '3382',\n",
       " '8252',\n",
       " '8304',\n",
       " '8303',\n",
       " '8354',\n",
       " '8355',\n",
       " '8331',\n",
       " '8308',\n",
       " '8306',\n",
       " '7186',\n",
       " '8411',\n",
       " '8316',\n",
       " '8309',\n",
       " '8601',\n",
       " '8604',\n",
       " '8628',\n",
       " '8630',\n",
       " '8795',\n",
       " '8750',\n",
       " '8766',\n",
       " '8725',\n",
       " '8253',\n",
       " '8697',\n",
       " '8830',\n",
       " '8801',\n",
       " '3289',\n",
       " '8804',\n",
       " '8802',\n",
       " '9021',\n",
       " '9008',\n",
       " '9020',\n",
       " '9005',\n",
       " '9007',\n",
       " '9001',\n",
       " '9009',\n",
       " '9022',\n",
       " '9064',\n",
       " '9062',\n",
       " '9107',\n",
       " '9104',\n",
       " '9101',\n",
       " '9202',\n",
       " '9301',\n",
       " '9433',\n",
       " '9412',\n",
       " '9432',\n",
       " '9437',\n",
       " '9434',\n",
       " '9613',\n",
       " '9984',\n",
       " '9502',\n",
       " '9501',\n",
       " '9503',\n",
       " '9531',\n",
       " '9532',\n",
       " '9735',\n",
       " '2432',\n",
       " '4324',\n",
       " '6178',\n",
       " '9766',\n",
       " '4689',\n",
       " '9602',\n",
       " '4755',\n",
       " '4704',\n",
       " '6098',\n",
       " '4751',\n",
       " '2413']"
      ]
     },
     "execution_count": 10,
     "metadata": {},
     "output_type": "execute_result"
    }
   ],
   "source": [
    "#db_path = Path(\"db/sub_stock_db/nikkei_255_stock.db\")\n",
    "db_path = Path(\"db/sub_stock_db/nikkei_255_stock_v2.db\")\n",
    "\n",
    "ticker_codes_df = pd.read_csv(Path(\"portfolio/rl_base/nikkei225.csv\"), header=0)  # 自分で作成\n",
    "ticker_codes = ticker_codes_df[\"code\"].values.astype(str).tolist()\n",
    "ticker_codes"
   ]
  },
  {
   "cell_type": "code",
   "execution_count": 11,
   "metadata": {
    "ExecuteTime": {
     "end_time": "2021-05-17T01:24:26.522073Z",
     "start_time": "2021-05-17T01:24:26.252795Z"
    }
   },
   "outputs": [
    {
     "data": {
      "text/plain": [
       "219"
      ]
     },
     "execution_count": 11,
     "metadata": {},
     "output_type": "execute_result"
    }
   ],
   "source": [
    "len(ticker_codes)"
   ]
  },
  {
   "cell_type": "markdown",
   "metadata": {},
   "source": [
    "### デバッグ用の設定 "
   ]
  },
  {
   "cell_type": "code",
   "execution_count": 12,
   "metadata": {
    "ExecuteTime": {
     "end_time": "2021-05-17T01:24:26.569976Z",
     "start_time": "2021-05-17T01:24:26.536039Z"
    }
   },
   "outputs": [],
   "source": [
    "DataSupplyUnit.length_check = True\n",
    "DataSupplyUnit.nan_check = True\n",
    "\n",
    "PortfolioState.length_check = True\n",
    "PortfolioState.nan_check = True\n",
    "PortfolioState.portfoio_check = True"
   ]
  },
  {
   "cell_type": "code",
   "execution_count": 13,
   "metadata": {
    "ExecuteTime": {
     "end_time": "2021-05-17T01:24:45.270492Z",
     "start_time": "2021-05-17T01:24:26.588899Z"
    }
   },
   "outputs": [],
   "source": [
    "# stock_db\n",
    "stock_db = StockDatabase(db_path)\n",
    "\n",
    "# PriceSupplierの設定\n",
    "price_supplier = StockDBPriceSupplier(stock_db,\n",
    "                                      [],  # 最初は何の銘柄コードも指定しない\n",
    "                                      None,\n",
    "                                      freq_str,\n",
    "                                      interpolate=True\n",
    "                                     )\n",
    "\n",
    "portfolio_transformer = PortfolioTransformer(price_supplier,\n",
    "                                            portfolio_restrictor=PortfolioRestrictorIdentity(),\n",
    "                                            use_ohlc=\"Close\",\n",
    "                                            initial_all_assets=1e6,  # 学習には関係ない\n",
    "                                            fee_calculator=FeeCalculatorFree()\n",
    "                                            )\n",
    "\n",
    "price_supplier.episode_length = episode_length\n",
    "price_supplier.ticker_names = [ticker_codes[0]]\n",
    "\n",
    "portfolio_transformer.reset(start_datetime, window)\n",
    "_,done = portfolio_transformer.step(np.array([1,0]))"
   ]
  },
  {
   "cell_type": "code",
   "execution_count": 16,
   "metadata": {
    "ExecuteTime": {
     "end_time": "2021-05-17T01:28:08.851585Z",
     "start_time": "2021-05-17T01:27:50.390393Z"
    }
   },
   "outputs": [
    {
     "ename": "CannotGetAllDataError",
     "evalue": "Interpolate exceeds 10 % about tickers=['1333'], datetimes[2020-11-09 15:00:00+09:00,2021-07-14 11:25:00+09:00]",
     "output_type": "error",
     "traceback": [
      "\u001b[1;31m---------------------------------------------------------------------------\u001b[0m",
      "\u001b[1;31mCannotGetAllDataError\u001b[0m                     Traceback (most recent call last)",
      "\u001b[1;32m<ipython-input-16-29cc89311a57>\u001b[0m in \u001b[0;36m<module>\u001b[1;34m\u001b[0m\n\u001b[0;32m     20\u001b[0m \u001b[0mprice_supplier\u001b[0m\u001b[1;33m.\u001b[0m\u001b[0mticker_names\u001b[0m \u001b[1;33m=\u001b[0m \u001b[1;33m[\u001b[0m\u001b[1;34m\"1333\"\u001b[0m\u001b[1;33m]\u001b[0m\u001b[1;33m\u001b[0m\u001b[1;33m\u001b[0m\u001b[0m\n\u001b[0;32m     21\u001b[0m \u001b[1;33m\u001b[0m\u001b[0m\n\u001b[1;32m---> 22\u001b[1;33m \u001b[0mportfolio_transformer\u001b[0m\u001b[1;33m.\u001b[0m\u001b[0mreset\u001b[0m\u001b[1;33m(\u001b[0m\u001b[0mstart_datetime\u001b[0m\u001b[1;33m,\u001b[0m \u001b[0mwindow\u001b[0m\u001b[1;33m)\u001b[0m\u001b[1;33m\u001b[0m\u001b[1;33m\u001b[0m\u001b[0m\n\u001b[0m\u001b[0;32m     23\u001b[0m \u001b[0m_\u001b[0m\u001b[1;33m,\u001b[0m\u001b[0mdone\u001b[0m \u001b[1;33m=\u001b[0m \u001b[0mportfolio_transformer\u001b[0m\u001b[1;33m.\u001b[0m\u001b[0mstep\u001b[0m\u001b[1;33m(\u001b[0m\u001b[0mnp\u001b[0m\u001b[1;33m.\u001b[0m\u001b[0marray\u001b[0m\u001b[1;33m(\u001b[0m\u001b[1;33m[\u001b[0m\u001b[1;36m1\u001b[0m\u001b[1;33m,\u001b[0m\u001b[1;36m0\u001b[0m\u001b[1;33m]\u001b[0m\u001b[1;33m)\u001b[0m\u001b[1;33m)\u001b[0m\u001b[1;33m\u001b[0m\u001b[1;33m\u001b[0m\u001b[0m\n",
      "\u001b[1;32mE:\\システムトレード入門\\trade_system_git_workspace\\portfolio\\trade_transformer\\trade_transformer_ver2.py\u001b[0m in \u001b[0;36mreset\u001b[1;34m(self, start_datetime, window)\u001b[0m\n\u001b[0;32m     71\u001b[0m \u001b[1;33m\u001b[0m\u001b[0m\n\u001b[0;32m     72\u001b[0m \u001b[1;33m\u001b[0m\u001b[0m\n\u001b[1;32m---> 73\u001b[1;33m         \u001b[0minitial_data_unit\u001b[0m\u001b[1;33m,\u001b[0m \u001b[0mdone\u001b[0m \u001b[1;33m=\u001b[0m \u001b[0mself\u001b[0m\u001b[1;33m.\u001b[0m\u001b[0mprice_supplier\u001b[0m\u001b[1;33m.\u001b[0m\u001b[0mreset\u001b[0m\u001b[1;33m(\u001b[0m\u001b[0mstart_datetime\u001b[0m\u001b[1;33m,\u001b[0m \u001b[0mwindow\u001b[0m\u001b[1;33m)\u001b[0m\u001b[1;33m\u001b[0m\u001b[1;33m\u001b[0m\u001b[0m\n\u001b[0m\u001b[0;32m     74\u001b[0m \u001b[1;33m\u001b[0m\u001b[0m\n\u001b[0;32m     75\u001b[0m         \u001b[0mnow_price_bool\u001b[0m \u001b[1;33m=\u001b[0m \u001b[0minitial_data_unit\u001b[0m\u001b[1;33m.\u001b[0m\u001b[0mwindow\u001b[0m\u001b[1;33m==\u001b[0m\u001b[1;36m0\u001b[0m\u001b[1;33m\u001b[0m\u001b[1;33m\u001b[0m\u001b[0m\n",
      "\u001b[1;32mE:\\システムトレード入門\\trade_system_git_workspace\\portfolio\\price_supply\\price_supplier_ver2.py\u001b[0m in \u001b[0;36mreset\u001b[1;34m(self, start_datetime, window)\u001b[0m\n\u001b[0;32m    148\u001b[0m                                                                                                \u001b[0mepisode_start_datetime\u001b[0m\u001b[1;33m,\u001b[0m\u001b[1;33m\u001b[0m\u001b[1;33m\u001b[0m\u001b[0m\n\u001b[0;32m    149\u001b[0m                                                                                                episode_end_datetime)\n\u001b[1;32m--> 150\u001b[1;33m                 \u001b[1;32mraise\u001b[0m \u001b[0mCannotGetAllDataError\u001b[0m\u001b[1;33m(\u001b[0m\u001b[0merr_str\u001b[0m\u001b[1;33m)\u001b[0m\u001b[1;33m\u001b[0m\u001b[1;33m\u001b[0m\u001b[0m\n\u001b[0m\u001b[0;32m    151\u001b[0m \u001b[1;33m\u001b[0m\u001b[0m\n\u001b[0;32m    152\u001b[0m             \u001b[0madd_datetime_index\u001b[0m \u001b[1;33m=\u001b[0m \u001b[0mself\u001b[0m\u001b[1;33m.\u001b[0m\u001b[0mall_datetime_index\u001b[0m\u001b[1;33m[\u001b[0m\u001b[0madd_datetime_bool\u001b[0m\u001b[1;33m]\u001b[0m\u001b[1;33m\u001b[0m\u001b[1;33m\u001b[0m\u001b[0m\n",
      "\u001b[1;31mCannotGetAllDataError\u001b[0m: Interpolate exceeds 10 % about tickers=['1333'], datetimes[2020-11-09 15:00:00+09:00,2021-07-14 11:25:00+09:00]"
     ]
    }
   ],
   "source": [
    "# stock_db\n",
    "stock_db = StockDatabase(db_path)\n",
    "\n",
    "# PriceSupplierの設定\n",
    "price_supplier = StockDBPriceSupplier(stock_db,\n",
    "                                      [],  # 最初は何の銘柄コードも指定しない\n",
    "                                      None,\n",
    "                                      freq_str,\n",
    "                                      interpolate=True\n",
    "                                     )\n",
    "\n",
    "portfolio_transformer = PortfolioTransformer(price_supplier,\n",
    "                                            portfolio_restrictor=PortfolioRestrictorIdentity(),\n",
    "                                            use_ohlc=\"Close\",\n",
    "                                            initial_all_assets=1e6,  # 学習には関係ない\n",
    "                                            fee_calculator=FeeCalculatorFree()\n",
    "                                            )\n",
    "\n",
    "price_supplier.episode_length = 10000\n",
    "price_supplier.ticker_names = [\"1333\"]\n",
    "\n",
    "portfolio_transformer.reset(start_datetime, window)\n",
    "_,done = portfolio_transformer.step(np.array([1,0]))"
   ]
  },
  {
   "cell_type": "code",
   "execution_count": null,
   "metadata": {
    "ExecuteTime": {
     "end_time": "2021-05-17T01:24:50.231231Z",
     "start_time": "2021-05-17T01:24:18.609Z"
    }
   },
   "outputs": [],
   "source": [
    "bool_list = []\n",
    "\n",
    "for ticker_code in tqdm(ticker_codes):\n",
    "    price_supplier.ticker_names = list([ticker_code])\n",
    "    try:\n",
    "        price_supplier.episode_length = episode_length\n",
    "        portfolio_transformer.reset(start_datetime, window)\n",
    "        while True:\n",
    "            _,done = portfolio_transformer.step(np.array([1,0]))\n",
    "            if done:\n",
    "                break\n",
    "            \n",
    "        bool_list.append(True)\n",
    "    except TradeSystemBaseError:\n",
    "        bool_list.append(False)"
   ]
  },
  {
   "cell_type": "code",
   "execution_count": null,
   "metadata": {
    "ExecuteTime": {
     "end_time": "2021-05-17T01:24:50.239210Z",
     "start_time": "2021-05-17T01:24:18.618Z"
    }
   },
   "outputs": [],
   "source": [
    "bool_array = np.array(bool_list)\n",
    "bool_array"
   ]
  },
  {
   "cell_type": "code",
   "execution_count": null,
   "metadata": {
    "ExecuteTime": {
     "end_time": "2021-05-17T01:24:50.245195Z",
     "start_time": "2021-05-17T01:24:18.625Z"
    }
   },
   "outputs": [],
   "source": [
    "save_df = ticker_codes_df.loc[bool_array,:]\n",
    "#save_df.to_csv(Path(\"portfolio/rl_base/nikkei225_modified.csv\"), index=False, header=True)\n",
    "save_df.to_csv(Path(\"portfolio/rl_base/nikkei225_modified_v2.csv\"), index=False, header=True)"
   ]
  },
  {
   "cell_type": "code",
   "execution_count": null,
   "metadata": {},
   "outputs": [],
   "source": []
  }
 ],
 "metadata": {
  "kernelspec": {
   "display_name": "torch_py37",
   "language": "python",
   "name": "torch_py37"
  },
  "language_info": {
   "codemirror_mode": {
    "name": "ipython",
    "version": 3
   },
   "file_extension": ".py",
   "mimetype": "text/x-python",
   "name": "python",
   "nbconvert_exporter": "python",
   "pygments_lexer": "ipython3",
   "version": "3.7.4"
  },
  "toc": {
   "base_numbering": 1,
   "nav_menu": {},
   "number_sections": true,
   "sideBar": true,
   "skip_h1_title": true,
   "title_cell": "Table of Contents",
   "title_sidebar": "Contents",
   "toc_cell": false,
   "toc_position": {},
   "toc_section_display": true,
   "toc_window_display": false
  }
 },
 "nbformat": 4,
 "nbformat_minor": 4
}
