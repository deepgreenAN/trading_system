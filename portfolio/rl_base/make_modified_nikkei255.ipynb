{
 "cells": [
  {
   "cell_type": "code",
   "execution_count": 1,
   "metadata": {
    "ExecuteTime": {
     "end_time": "2021-05-15T06:19:37.476156Z",
     "start_time": "2021-05-15T06:19:37.433271Z"
    }
   },
   "outputs": [
    {
     "name": "stdout",
     "output_type": "stream",
     "text": [
      "E:\\システムトレード入門\\trade_system_git_workspace\n"
     ]
    }
   ],
   "source": [
    "%cd ../.."
   ]
  },
  {
   "cell_type": "code",
   "execution_count": 2,
   "metadata": {
    "ExecuteTime": {
     "end_time": "2021-05-15T06:19:40.101646Z",
     "start_time": "2021-05-15T06:19:37.486131Z"
    }
   },
   "outputs": [],
   "source": [
    "import pandas as pd\n",
    "import numpy as np\n",
    "from pytz import timezone\n",
    "import datetime\n",
    "from pathlib import Path\n",
    "from tqdm.notebook import tqdm"
   ]
  },
  {
   "cell_type": "code",
   "execution_count": 3,
   "metadata": {
    "ExecuteTime": {
     "end_time": "2021-05-15T06:19:41.114944Z",
     "start_time": "2021-05-15T06:19:40.111619Z"
    }
   },
   "outputs": [],
   "source": [
    "from get_stock_price import StockDatabase"
   ]
  },
  {
   "cell_type": "code",
   "execution_count": 4,
   "metadata": {
    "ExecuteTime": {
     "end_time": "2021-05-15T06:19:41.145854Z",
     "start_time": "2021-05-15T06:19:41.125906Z"
    }
   },
   "outputs": [],
   "source": [
    "import py_workdays"
   ]
  },
  {
   "cell_type": "code",
   "execution_count": 5,
   "metadata": {
    "ExecuteTime": {
     "end_time": "2021-05-15T06:19:41.272514Z",
     "start_time": "2021-05-15T06:19:41.156825Z"
    }
   },
   "outputs": [],
   "source": [
    "from portfolio.trade_transformer import PortfolioTransformer, PortfolioRestrictorIdentity, FeeCalculatorFree\n",
    "from portfolio.price_supply import StockDBPriceSupplier, CannotGetAllDataError"
   ]
  },
  {
   "cell_type": "code",
   "execution_count": 6,
   "metadata": {
    "ExecuteTime": {
     "end_time": "2021-05-15T06:19:41.304429Z",
     "start_time": "2021-05-15T06:19:41.282490Z"
    }
   },
   "outputs": [],
   "source": [
    "from utils import get_next_workday_intraday_datetime"
   ]
  },
  {
   "cell_type": "code",
   "execution_count": 7,
   "metadata": {
    "ExecuteTime": {
     "end_time": "2021-05-15T06:19:44.048123Z",
     "start_time": "2021-05-15T06:19:41.325374Z"
    }
   },
   "outputs": [],
   "source": [
    "jst = timezone(\"Asia/Tokyo\")\n",
    "start_datetime = jst.localize(datetime.datetime(2020,11,10,0,0,0))\n",
    "end_datetime = jst.localize(datetime.datetime(2020,12,10,0,0,0))\n",
    "freq_str = \"5T\"\n",
    "episode_length = 300"
   ]
  },
  {
   "cell_type": "markdown",
   "metadata": {},
   "source": [
    "### 開始時刻とエピソードのリストを求める"
   ]
  },
  {
   "cell_type": "code",
   "execution_count": 8,
   "metadata": {
    "ExecuteTime": {
     "end_time": "2021-05-15T06:19:44.300432Z",
     "start_time": "2021-05-15T06:19:44.066056Z"
    }
   },
   "outputs": [],
   "source": [
    "start_datetime_list = []\n",
    "episode_length_list = []\n",
    "\n",
    "iter_datetime = start_datetime\n",
    "start_datetime_list.append(iter_datetime)\n",
    "episode_length_list.append(episode_length)\n",
    "\n",
    "while True:\n",
    "    iter_datetime = get_next_workday_intraday_datetime(iter_datetime, freq_str, number=episode_length)\n",
    "    start_datetime_list.append(iter_datetime)\n",
    "    if iter_datetime > end_datetime:\n",
    "        date_array = py_workdays.extract_workdays_intraday_jp_index(pd.date_range(pre_start_datetime, end_datetime, freq=freq_str, closed=\"left\"))\n",
    "        episode_length_list.append(len(date_array))\n",
    "        \n",
    "        # 範囲の最後\n",
    "        start_datetime_list.append(end_datetime)\n",
    "        episode_length_list.append(episode_length)\n",
    "        \n",
    "        break\n",
    "        \n",
    "    episode_length_list.append(episode_length)\n",
    "    pre_start_datetime = iter_datetime\n",
    "        "
   ]
  },
  {
   "cell_type": "code",
   "execution_count": 9,
   "metadata": {
    "ExecuteTime": {
     "end_time": "2021-05-15T06:19:44.426086Z",
     "start_time": "2021-05-15T06:19:44.315402Z"
    }
   },
   "outputs": [
    {
     "data": {
      "text/plain": [
       "[datetime.datetime(2020, 11, 10, 0, 0, tzinfo=<DstTzInfo 'Asia/Tokyo' JST+9:00:00 STD>),\n",
       " datetime.datetime(2020, 11, 17, 9, 0, tzinfo=<DstTzInfo 'Asia/Tokyo' JST+9:00:00 STD>),\n",
       " datetime.datetime(2020, 11, 25, 9, 0, tzinfo=<DstTzInfo 'Asia/Tokyo' JST+9:00:00 STD>),\n",
       " datetime.datetime(2020, 12, 2, 9, 0, tzinfo=<DstTzInfo 'Asia/Tokyo' JST+9:00:00 STD>),\n",
       " datetime.datetime(2020, 12, 9, 9, 0, tzinfo=<DstTzInfo 'Asia/Tokyo' JST+9:00:00 STD>),\n",
       " datetime.datetime(2020, 12, 16, 9, 0, tzinfo=<DstTzInfo 'Asia/Tokyo' JST+9:00:00 STD>),\n",
       " datetime.datetime(2020, 12, 10, 0, 0, tzinfo=<DstTzInfo 'Asia/Tokyo' JST+9:00:00 STD>)]"
      ]
     },
     "execution_count": 9,
     "metadata": {},
     "output_type": "execute_result"
    }
   ],
   "source": [
    "start_datetime_list"
   ]
  },
  {
   "cell_type": "code",
   "execution_count": 10,
   "metadata": {
    "ExecuteTime": {
     "end_time": "2021-05-15T06:19:44.505875Z",
     "start_time": "2021-05-15T06:19:44.444040Z"
    }
   },
   "outputs": [
    {
     "data": {
      "text/plain": [
       "[300, 300, 300, 300, 300, 60, 300]"
      ]
     },
     "execution_count": 10,
     "metadata": {},
     "output_type": "execute_result"
    }
   ],
   "source": [
    "episode_length_list"
   ]
  },
  {
   "cell_type": "code",
   "execution_count": 11,
   "metadata": {
    "ExecuteTime": {
     "end_time": "2021-05-15T06:19:44.585657Z",
     "start_time": "2021-05-15T06:19:44.521830Z"
    }
   },
   "outputs": [],
   "source": [
    "#db_path = Path(\"db/sub_stock_db/nikkei_255_stock.db\")\n",
    "db_path = Path(\"db/sub_stock_db/nikkei_255_stock_v2.db\")\n",
    "\n",
    "ticker_codes_df = pd.read_csv(Path(\"portfolio/rl_base/nikkei225.csv\"), header=0)  # 自分で作成\n",
    "ticker_codes = ticker_codes_df[\"code\"].values.astype(str).tolist()"
   ]
  },
  {
   "cell_type": "code",
   "execution_count": 12,
   "metadata": {
    "ExecuteTime": {
     "end_time": "2021-05-15T06:19:44.617579Z",
     "start_time": "2021-05-15T06:19:44.596631Z"
    }
   },
   "outputs": [
    {
     "data": {
      "text/plain": [
       "219"
      ]
     },
     "execution_count": 12,
     "metadata": {},
     "output_type": "execute_result"
    }
   ],
   "source": [
    "len(ticker_codes)"
   ]
  },
  {
   "cell_type": "code",
   "execution_count": 13,
   "metadata": {
    "ExecuteTime": {
     "end_time": "2021-05-15T06:41:21.560571Z",
     "start_time": "2021-05-15T06:19:44.627551Z"
    }
   },
   "outputs": [
    {
     "data": {
      "application/vnd.jupyter.widget-view+json": {
       "model_id": "bb0a68741b804cedb31028fbabb93e6d",
       "version_major": 2,
       "version_minor": 0
      },
      "text/plain": [
       "HBox(children=(FloatProgress(value=0.0, max=219.0), HTML(value='')))"
      ]
     },
     "metadata": {},
     "output_type": "display_data"
    },
    {
     "name": "stdout",
     "output_type": "stream",
     "text": [
      "\n"
     ]
    }
   ],
   "source": [
    "# stock_db\n",
    "stock_db = StockDatabase(db_path)\n",
    "\n",
    "# PriceSupplierの設定\n",
    "price_supplier = StockDBPriceSupplier(stock_db,\n",
    "                                      [],  # 最初は何の銘柄コードも指定しない\n",
    "                                      None,\n",
    "                                      freq_str,\n",
    "                                      interpolate=True\n",
    "                                     )\n",
    "\n",
    "\n",
    "bool_list = []\n",
    "\n",
    "for ticker_code in tqdm(ticker_codes):\n",
    "    price_supplier.ticker_names = list([ticker_code])\n",
    "    try:\n",
    "        for one_start_datetime, one_episode_length in zip(start_datetime_list, episode_length_list):\n",
    "            price_supplier.episode_length = one_episode_length\n",
    "            price_supplier.reset(one_start_datetime)\n",
    "                \n",
    "        bool_list.append(True)\n",
    "    except:\n",
    "        bool_list.append(False)"
   ]
  },
  {
   "cell_type": "code",
   "execution_count": 14,
   "metadata": {
    "ExecuteTime": {
     "end_time": "2021-05-15T06:41:21.622410Z",
     "start_time": "2021-05-15T06:41:21.578526Z"
    }
   },
   "outputs": [
    {
     "data": {
      "text/plain": [
       "array([ True,  True,  True,  True,  True,  True,  True,  True,  True,\n",
       "        True,  True,  True,  True,  True,  True,  True,  True,  True,\n",
       "        True,  True,  True,  True,  True,  True,  True,  True,  True,\n",
       "        True,  True,  True,  True,  True,  True,  True,  True,  True,\n",
       "        True,  True,  True,  True,  True,  True,  True,  True,  True,\n",
       "        True,  True,  True,  True,  True,  True,  True,  True,  True,\n",
       "        True, False,  True,  True,  True,  True,  True,  True,  True,\n",
       "        True,  True,  True,  True,  True,  True,  True,  True,  True,\n",
       "        True,  True,  True,  True,  True,  True,  True,  True,  True,\n",
       "        True,  True,  True,  True,  True,  True,  True,  True,  True,\n",
       "        True,  True,  True,  True,  True,  True,  True,  True,  True,\n",
       "        True,  True,  True,  True,  True,  True,  True,  True,  True,\n",
       "        True,  True,  True,  True,  True,  True,  True,  True,  True,\n",
       "        True,  True,  True,  True,  True,  True,  True,  True,  True,\n",
       "        True,  True,  True,  True,  True,  True,  True,  True,  True,\n",
       "        True,  True,  True,  True,  True,  True,  True,  True,  True,\n",
       "        True,  True,  True,  True,  True, False,  True,  True,  True,\n",
       "        True,  True,  True,  True,  True,  True,  True,  True,  True,\n",
       "        True,  True,  True,  True,  True,  True,  True,  True,  True,\n",
       "        True,  True,  True,  True,  True,  True,  True,  True,  True,\n",
       "        True,  True,  True,  True,  True,  True,  True,  True,  True,\n",
       "        True,  True,  True,  True,  True,  True,  True,  True,  True,\n",
       "        True,  True,  True,  True,  True,  True,  True,  True,  True,\n",
       "        True,  True,  True,  True,  True,  True,  True,  True,  True,\n",
       "        True,  True,  True])"
      ]
     },
     "execution_count": 14,
     "metadata": {},
     "output_type": "execute_result"
    }
   ],
   "source": [
    "bool_array = np.array(bool_list)\n",
    "bool_array"
   ]
  },
  {
   "cell_type": "code",
   "execution_count": 15,
   "metadata": {
    "ExecuteTime": {
     "end_time": "2021-05-15T06:41:21.745121Z",
     "start_time": "2021-05-15T06:41:21.649332Z"
    }
   },
   "outputs": [],
   "source": [
    "save_df = ticker_codes_df.loc[bool_array,:]\n",
    "#save_df.to_csv(Path(\"portfolio/rl_base/nikkei225_modified.csv\"), index=False, header=True)\n",
    "save_df.to_csv(Path(\"portfolio/rl_base/nikkei225_modified_v2.csv\"), index=False, header=True)"
   ]
  },
  {
   "cell_type": "code",
   "execution_count": null,
   "metadata": {},
   "outputs": [],
   "source": []
  }
 ],
 "metadata": {
  "kernelspec": {
   "display_name": "torch_py37",
   "language": "python",
   "name": "torch_py37"
  },
  "language_info": {
   "codemirror_mode": {
    "name": "ipython",
    "version": 3
   },
   "file_extension": ".py",
   "mimetype": "text/x-python",
   "name": "python",
   "nbconvert_exporter": "python",
   "pygments_lexer": "ipython3",
   "version": "3.7.4"
  },
  "toc": {
   "base_numbering": 1,
   "nav_menu": {},
   "number_sections": true,
   "sideBar": true,
   "skip_h1_title": true,
   "title_cell": "Table of Contents",
   "title_sidebar": "Contents",
   "toc_cell": false,
   "toc_position": {},
   "toc_section_display": true,
   "toc_window_display": false
  }
 },
 "nbformat": 4,
 "nbformat_minor": 4
}
