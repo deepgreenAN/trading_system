{
 "cells": [
  {
   "cell_type": "code",
   "execution_count": 1,
   "metadata": {
    "ExecuteTime": {
     "end_time": "2021-05-16T02:05:18.615163Z",
     "start_time": "2021-05-16T02:05:13.767123Z"
    }
   },
   "outputs": [],
   "source": [
    "import numpy as np\n",
    "import torch\n",
    "import torch.nn as nn\n",
    "import torch.nn.functional as F\n",
    "from torch.distributions import Dirichlet\n",
    "from torch.distributions import Independent"
   ]
  },
  {
   "cell_type": "code",
   "execution_count": 30,
   "metadata": {
    "ExecuteTime": {
     "end_time": "2021-05-16T02:11:10.689524Z",
     "start_time": "2021-05-16T02:11:10.668582Z"
    }
   },
   "outputs": [],
   "source": [
    "random_x = torch.randn((30,20))\n",
    "#random_x = 0.1*torch.ones((30,20))"
   ]
  },
  {
   "cell_type": "code",
   "execution_count": 31,
   "metadata": {
    "ExecuteTime": {
     "end_time": "2021-05-16T02:11:11.135354Z",
     "start_time": "2021-05-16T02:11:10.842122Z"
    }
   },
   "outputs": [],
   "source": [
    "head = Dirichlet(random_x)"
   ]
  },
  {
   "cell_type": "code",
   "execution_count": 32,
   "metadata": {
    "ExecuteTime": {
     "end_time": "2021-05-16T02:11:11.183207Z",
     "start_time": "2021-05-16T02:11:11.160281Z"
    }
   },
   "outputs": [],
   "source": [
    "out = head.rsample()"
   ]
  },
  {
   "cell_type": "code",
   "execution_count": 33,
   "metadata": {
    "ExecuteTime": {
     "end_time": "2021-05-16T02:11:11.389652Z",
     "start_time": "2021-05-16T02:11:11.196173Z"
    }
   },
   "outputs": [
    {
     "data": {
      "text/plain": [
       "torch.Size([30, 20])"
      ]
     },
     "execution_count": 33,
     "metadata": {},
     "output_type": "execute_result"
    }
   ],
   "source": [
    "out.shape"
   ]
  },
  {
   "cell_type": "code",
   "execution_count": 34,
   "metadata": {
    "ExecuteTime": {
     "end_time": "2021-05-16T02:11:11.437526Z",
     "start_time": "2021-05-16T02:11:11.400625Z"
    }
   },
   "outputs": [
    {
     "data": {
      "text/plain": [
       "tensor([1.0000e+00, 1.0000e+00, 1.0000e+00, 1.0000e+00, 1.0000e+00, 1.0000e+00,\n",
       "        1.0000e+00, 2.3510e-37, 1.0000e+00, 1.0000e+00, 1.0000e+00, 1.0000e+00,\n",
       "        1.0000e+00, 2.3510e-37, 1.0000e+00, 1.0000e+00, 1.0000e+00, 1.0000e+00,\n",
       "        1.0000e+00, 1.0000e+00, 1.0000e+00, 1.0000e+00, 1.0000e+00, 1.0000e+00,\n",
       "        1.0000e+00, 1.0000e+00, 1.0000e+00, 1.0000e+00, 1.0000e+00, 1.0000e+00])"
      ]
     },
     "execution_count": 34,
     "metadata": {},
     "output_type": "execute_result"
    }
   ],
   "source": [
    "out.sum(dim=-1)"
   ]
  },
  {
   "cell_type": "code",
   "execution_count": 35,
   "metadata": {
    "ExecuteTime": {
     "end_time": "2021-05-16T02:11:11.532275Z",
     "start_time": "2021-05-16T02:11:11.497366Z"
    }
   },
   "outputs": [
    {
     "data": {
      "text/plain": [
       "False"
      ]
     },
     "execution_count": 35,
     "metadata": {},
     "output_type": "execute_result"
    }
   ],
   "source": [
    "all(list((torch.abs(out.sum(dim=-1)-1) < 1.e-4).numpy()))"
   ]
  },
  {
   "cell_type": "markdown",
   "metadata": {},
   "source": [
    "## エラーが出るようなパラメータ―を求める "
   ]
  },
  {
   "cell_type": "markdown",
   "metadata": {},
   "source": [
    "以下の例はgoogle colabではエラーがでるが，python3.7環境ではエラーが出ない．"
   ]
  },
  {
   "cell_type": "code",
   "execution_count": 7,
   "metadata": {
    "ExecuteTime": {
     "end_time": "2021-05-16T02:06:04.710944Z",
     "start_time": "2021-05-16T02:06:03.410421Z"
    }
   },
   "outputs": [],
   "source": [
    "counter_lim = 1000\n",
    "counter = 0\n",
    "while True:\n",
    "    try:\n",
    "        random_x = torch.randn((30,20))\n",
    "        head = Dirichlet(random_x)\n",
    "        out = head.rsample()\n",
    "    except:\n",
    "        print(random_x)\n",
    "        \n",
    "    counter += 1\n",
    "    if counter > counter_lim:\n",
    "        break"
   ]
  },
  {
   "cell_type": "markdown",
   "metadata": {},
   "source": [
    "## サンプリング値がおかしい場合"
   ]
  },
  {
   "cell_type": "code",
   "execution_count": 40,
   "metadata": {
    "ExecuteTime": {
     "end_time": "2021-05-16T02:13:14.030258Z",
     "start_time": "2021-05-16T02:13:13.129666Z"
    }
   },
   "outputs": [
    {
     "name": "stdout",
     "output_type": "stream",
     "text": [
      "tensor([[ 1.9957e-01,  3.2629e+00,  4.0906e-01, -8.4434e-01, -8.1881e-01,\n",
      "          1.1297e+00, -3.5708e-01, -6.6563e-01,  5.9348e-01,  1.6351e-01,\n",
      "         -2.3143e+00,  1.4304e+00, -9.5094e-01,  1.4831e-01,  4.4692e-01,\n",
      "         -1.2896e-03, -5.2810e-02,  2.3991e-01,  1.4483e+00,  1.0790e+00]])\n",
      "tensor([[-0.0215, -0.2960, -0.8306,  0.8585, -1.4803,  0.8773, -0.4882,  0.0924,\n",
      "         -1.2277, -1.4266, -1.6086,  0.6579, -0.1315, -1.9777, -0.8895,  1.0256,\n",
      "         -0.0031, -0.9086,  0.8029,  1.0828]])\n",
      "tensor([[ 1.3403e+00,  1.4186e+00,  1.0830e+00,  6.2232e-01, -6.9022e-01,\n",
      "         -5.8756e-01,  1.9541e+00,  8.2538e-01,  1.8332e-01,  4.5170e-01,\n",
      "         -1.0230e+00,  5.3085e-01, -1.4168e-01, -9.4577e-04,  1.1987e+00,\n",
      "         -5.4771e-01, -7.5666e-01,  1.8050e+00, -2.6698e-01,  2.7226e+00]])\n",
      "tensor([[-4.2373e-01,  1.9527e+00, -2.3924e+00,  3.8037e-01, -1.3410e+00,\n",
      "         -7.6841e-01, -4.4676e-01,  2.8070e-01, -5.9809e-04,  8.3449e-01,\n",
      "         -1.2968e+00,  1.9828e-01, -3.6699e-01,  8.9938e-01,  2.8728e-01,\n",
      "         -7.9518e-01, -7.5289e-01,  5.1324e-01,  3.1791e-01, -6.6209e-01]])\n",
      "tensor([[ 1.4041e+00,  5.2049e-01,  8.6125e-01,  2.4230e-01, -5.1247e-02,\n",
      "         -1.0317e-03,  8.2068e-01,  3.9860e-01,  9.1469e-01, -4.9557e-01,\n",
      "         -1.1683e-01,  9.5328e-01, -1.5762e+00,  1.5922e+00, -2.6614e-01,\n",
      "          1.6704e+00, -5.1035e-01, -6.5322e-02,  1.3123e+00,  6.4066e-01]])\n",
      "tensor([[ 6.8503e-02, -1.1449e+00,  1.3048e+00,  4.3506e-01, -2.2216e+00,\n",
      "          4.8490e-01,  3.9964e-01,  1.9259e+00,  8.1000e-01,  3.2979e-01,\n",
      "          5.7708e-01,  3.2894e-02, -1.3180e+00, -4.0213e-01,  3.0055e-01,\n",
      "         -1.9979e-03, -1.2025e+00,  1.1134e+00,  7.1616e-01, -1.5417e+00]])\n",
      "tensor([[-5.2433e-01,  2.1551e-01, -3.3061e-01,  2.1498e-01,  3.2442e-01,\n",
      "         -3.7499e-01, -8.0565e-04, -1.3825e+00,  7.7347e-01,  1.7560e+00,\n",
      "         -9.6790e-01,  8.4295e-01, -1.0128e+00, -7.2794e-02,  1.4875e+00,\n",
      "         -9.7458e-02, -1.8090e+00,  6.4807e-01,  1.0184e+00, -1.8221e-01]])\n",
      "tensor([[ 3.5034e-01,  1.7727e-01,  1.5557e+00,  2.3063e-01, -7.7402e-04,\n",
      "          4.3663e-02,  3.1526e-01, -9.4249e-01,  1.4816e+00, -3.7725e-01,\n",
      "          3.6688e-02,  9.4553e-01,  1.3223e+00,  7.7440e-01, -2.7249e+00,\n",
      "         -1.2901e+00, -2.5407e-01,  9.5322e-01,  6.9139e-01, -1.0467e+00]])\n",
      "tensor([[ 1.4732e+00,  8.5895e-01, -1.2306e+00,  8.6743e-01, -1.5264e+00,\n",
      "          1.3792e+00,  6.5038e-01,  8.6897e-02, -7.0759e-01, -7.5502e-01,\n",
      "         -9.8941e-01,  1.8152e+00,  1.0052e+00,  1.1603e+00, -9.3305e-04,\n",
      "         -6.7748e-02, -1.5795e+00, -1.1502e+00, -1.3759e+00, -6.3621e-01]])\n"
     ]
    }
   ],
   "source": [
    "counter_lim = 1000\n",
    "counter = 0\n",
    "while True:\n",
    "    random_x = torch.randn((1,20))\n",
    "    head = Dirichlet(random_x)\n",
    "    out = head.rsample()\n",
    "    if not all(list((torch.abs(out.sum(dim=-1)-1) < 1.e-4).numpy())):\n",
    "        print(random_x)\n",
    "        \n",
    "    counter += 1\n",
    "    if counter > counter_lim:\n",
    "        break"
   ]
  },
  {
   "cell_type": "markdown",
   "metadata": {},
   "source": [
    "dirichlet分布のalphaの値は非負でなければならないのでabsをすればよい"
   ]
  },
  {
   "cell_type": "code",
   "execution_count": 41,
   "metadata": {
    "ExecuteTime": {
     "end_time": "2021-05-16T02:14:18.722326Z",
     "start_time": "2021-05-16T02:14:17.971335Z"
    }
   },
   "outputs": [],
   "source": [
    "counter_lim = 1000\n",
    "counter = 0\n",
    "while True:\n",
    "    random_x = torch.abs(torch.randn((1,20)))\n",
    "    head = Dirichlet(random_x)\n",
    "    out = head.rsample()\n",
    "    if not all(list((torch.abs(out.sum(dim=-1)-1) < 1.e-4).numpy())):\n",
    "        print(random_x)\n",
    "        \n",
    "    counter += 1\n",
    "    if counter > counter_lim:\n",
    "        break"
   ]
  },
  {
   "cell_type": "markdown",
   "metadata": {},
   "source": [
    "0のときは大丈夫"
   ]
  },
  {
   "cell_type": "code",
   "execution_count": 44,
   "metadata": {
    "ExecuteTime": {
     "end_time": "2021-05-16T02:16:13.018800Z",
     "start_time": "2021-05-16T02:16:12.976913Z"
    }
   },
   "outputs": [
    {
     "data": {
      "text/plain": [
       "tensor([1.0000, 1.0000, 1.0000, 1.0000, 1.0000, 1.0000, 1.0000, 1.0000, 1.0000,\n",
       "        1.0000, 1.0000, 1.0000, 1.0000, 1.0000, 1.0000, 1.0000, 1.0000, 1.0000,\n",
       "        1.0000, 1.0000, 1.0000, 1.0000, 1.0000, 1.0000, 1.0000, 1.0000, 1.0000,\n",
       "        1.0000, 1.0000, 1.0000])"
      ]
     },
     "execution_count": 44,
     "metadata": {},
     "output_type": "execute_result"
    }
   ],
   "source": [
    "random_x = torch.zeros((30,20))\n",
    "head = Dirichlet(random_x)\n",
    "out = head.rsample()\n",
    "out.sum(dim=-1)"
   ]
  },
  {
   "cell_type": "markdown",
   "metadata": {},
   "source": [
    "## モデルを利用する場合"
   ]
  },
  {
   "cell_type": "code",
   "execution_count": 7,
   "metadata": {
    "ExecuteTime": {
     "end_time": "2021-05-16T01:56:22.321342Z",
     "start_time": "2021-05-16T01:56:22.299397Z"
    }
   },
   "outputs": [],
   "source": [
    "class DirichletHead(nn.Module):\n",
    "    def __init__(self):\n",
    "        super(DirichletHead, self).__init__()\n",
    "        \n",
    "    def forward(self, alpha):\n",
    "        return torch.distributions.Dirichlet(alpha)"
   ]
  },
  {
   "cell_type": "code",
   "execution_count": 8,
   "metadata": {
    "ExecuteTime": {
     "end_time": "2021-05-16T01:56:22.431053Z",
     "start_time": "2021-05-16T01:56:22.352258Z"
    }
   },
   "outputs": [],
   "source": [
    "class Policy(nn.Module):\n",
    "    def __init__(self, in_channels=3, out_number=20):\n",
    "        super(Policy, self).__init__()\n",
    "        self.out_number = out_number\n",
    "        \n",
    "        self.conv1 = nn.Conv2d(in_channels, 12, kernel_size=5, padding=2, stride=2)\n",
    "        self.bn1 = nn.BatchNorm2d(12)\n",
    "        self.conv2 = nn.Conv2d(12, self.out_number, kernel_size=5, padding=2, stride=(2,3))\n",
    "        self.bn2 = nn.BatchNorm2d(self.out_number)\n",
    "        self.conv3 = nn.Conv2d(self.out_number, self.out_number, kernel_size=(4,3), padding=(2,1), stride=(2,3))\n",
    "        self.bn3 = nn.BatchNorm2d(self.out_number)\n",
    "\n",
    "        self.avgpool = nn.AvgPool2d(kernel_size=3)\n",
    "        self.head = DirichletHead()\n",
    "        \n",
    "        \n",
    "    def forward(self, x):\n",
    "        #from IPython.core.debugger import Pdb; Pdb().set_trace()\n",
    "        x = F.relu(self.bn1(self.conv1(x)))\n",
    "        x = F.relu(self.bn2(self.conv2(x)))\n",
    "        x = self.bn3(self.conv3(x))\n",
    "        x = self.avgpool(x)\n",
    "        x = torch.reshape(x, (-1, self.out_number))\n",
    "        #x = F.softmax(x, dim=-1)\n",
    "        x = F.relu(x)\n",
    "        x = torch.clamp(x, 0.01, 10)\n",
    "        out = self.head(x)\n",
    "        return out"
   ]
  },
  {
   "cell_type": "code",
   "execution_count": 9,
   "metadata": {
    "ExecuteTime": {
     "end_time": "2021-05-16T01:56:22.494880Z",
     "start_time": "2021-05-16T01:56:22.442018Z"
    }
   },
   "outputs": [],
   "source": [
    "random_x = torch.randn((30, 3, 20, 50))\n",
    "policy = Policy(3, 20)"
   ]
  },
  {
   "cell_type": "code",
   "execution_count": 10,
   "metadata": {
    "ExecuteTime": {
     "end_time": "2021-05-16T01:56:22.637495Z",
     "start_time": "2021-05-16T01:56:22.509856Z"
    },
    "scrolled": true
   },
   "outputs": [
    {
     "name": "stdout",
     "output_type": "stream",
     "text": [
      "torch.Size([30]) torch.Size([20])\n",
      "torch.Size([30, 20])\n"
     ]
    }
   ],
   "source": [
    "out = policy(random_x)\n",
    "print(out.batch_shape, out.event_shape)\n",
    "print(out.rsample(torch.Size([])).shape)"
   ]
  },
  {
   "cell_type": "code",
   "execution_count": null,
   "metadata": {},
   "outputs": [],
   "source": []
  }
 ],
 "metadata": {
  "kernelspec": {
   "display_name": "torch_py37",
   "language": "python",
   "name": "torch_py37"
  },
  "language_info": {
   "codemirror_mode": {
    "name": "ipython",
    "version": 3
   },
   "file_extension": ".py",
   "mimetype": "text/x-python",
   "name": "python",
   "nbconvert_exporter": "python",
   "pygments_lexer": "ipython3",
   "version": "3.7.4"
  },
  "toc": {
   "base_numbering": 1,
   "nav_menu": {},
   "number_sections": true,
   "sideBar": true,
   "skip_h1_title": true,
   "title_cell": "Table of Contents",
   "title_sidebar": "Contents",
   "toc_cell": false,
   "toc_position": {},
   "toc_section_display": true,
   "toc_window_display": false
  }
 },
 "nbformat": 4,
 "nbformat_minor": 4
}
