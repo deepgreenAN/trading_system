{
 "cells": [
  {
   "cell_type": "code",
   "execution_count": 1,
   "metadata": {
    "ExecuteTime": {
     "end_time": "2021-05-17T05:01:48.412070Z",
     "start_time": "2021-05-17T05:01:44.894569Z"
    }
   },
   "outputs": [],
   "source": [
    "import numpy as np\n",
    "import torch\n",
    "import torch.nn as nn\n",
    "import torch.nn.functional as F\n",
    "from torch.distributions import Dirichlet\n",
    "from torch.distributions import Independent"
   ]
  },
  {
   "cell_type": "code",
   "execution_count": 13,
   "metadata": {
    "ExecuteTime": {
     "end_time": "2021-05-17T05:04:19.837214Z",
     "start_time": "2021-05-17T05:04:19.824246Z"
    }
   },
   "outputs": [],
   "source": [
    "random_x = torch.randn((30,20))\n",
    "#random_x = 0.1*torch.ones((30,20))"
   ]
  },
  {
   "cell_type": "code",
   "execution_count": 14,
   "metadata": {
    "ExecuteTime": {
     "end_time": "2021-05-17T05:04:20.137407Z",
     "start_time": "2021-05-17T05:04:20.106489Z"
    }
   },
   "outputs": [],
   "source": [
    "head = Dirichlet(random_x)"
   ]
  },
  {
   "cell_type": "code",
   "execution_count": 15,
   "metadata": {
    "ExecuteTime": {
     "end_time": "2021-05-17T05:04:20.421650Z",
     "start_time": "2021-05-17T05:04:20.404708Z"
    }
   },
   "outputs": [],
   "source": [
    "out = head.rsample()"
   ]
  },
  {
   "cell_type": "code",
   "execution_count": 16,
   "metadata": {
    "ExecuteTime": {
     "end_time": "2021-05-17T05:04:20.755844Z",
     "start_time": "2021-05-17T05:04:20.717950Z"
    }
   },
   "outputs": [
    {
     "data": {
      "text/plain": [
       "torch.Size([30, 20])"
      ]
     },
     "execution_count": 16,
     "metadata": {},
     "output_type": "execute_result"
    }
   ],
   "source": [
    "out.shape"
   ]
  },
  {
   "cell_type": "code",
   "execution_count": 17,
   "metadata": {
    "ExecuteTime": {
     "end_time": "2021-05-17T05:04:22.269427Z",
     "start_time": "2021-05-17T05:04:22.227538Z"
    }
   },
   "outputs": [
    {
     "data": {
      "text/plain": [
       "tensor([1.0000e+00, 1.0000e+00, 2.3510e-37, 1.0000e+00, 1.0000e+00, 1.0000e+00,\n",
       "        1.0000e+00, 1.0000e+00, 1.0000e+00, 1.0000e+00, 1.0000e+00, 1.0000e+00,\n",
       "        1.0000e+00, 1.0000e+00, 1.0000e+00, 1.0000e+00, 1.0000e+00, 1.0000e+00,\n",
       "        1.0000e+00, 1.0000e+00, 1.0000e+00, 1.0000e+00, 1.0000e+00, 1.0000e+00,\n",
       "        1.0000e+00, 2.3510e-37, 1.0000e+00, 1.0000e+00, 1.0000e+00, 1.0000e+00])"
      ]
     },
     "execution_count": 17,
     "metadata": {},
     "output_type": "execute_result"
    }
   ],
   "source": [
    "out.sum(dim=-1)"
   ]
  },
  {
   "cell_type": "code",
   "execution_count": 18,
   "metadata": {
    "ExecuteTime": {
     "end_time": "2021-05-17T05:04:32.570877Z",
     "start_time": "2021-05-17T05:04:32.527989Z"
    }
   },
   "outputs": [
    {
     "data": {
      "text/plain": [
       "tensor([1429.9387,  860.2711, 1284.1647, 1110.5370,  960.1478, 1279.7449,\n",
       "        1444.6833, 1763.0642, 1892.3984, 1922.1530, 1194.2577,  354.3149,\n",
       "        1460.5626, 1094.7314, 1358.4684, 1551.8958, 1885.7937, 1514.9250,\n",
       "         799.5903,  918.2299,  814.7458, 1430.4659,  952.2896, 1496.9838,\n",
       "         811.9423, 1313.9857, 1676.3671, 1015.9489,  915.2290,  861.9023])"
      ]
     },
     "execution_count": 18,
     "metadata": {},
     "output_type": "execute_result"
    }
   ],
   "source": [
    "head.log_prob(out)"
   ]
  },
  {
   "cell_type": "code",
   "execution_count": 7,
   "metadata": {
    "ExecuteTime": {
     "end_time": "2021-05-17T05:01:59.856322Z",
     "start_time": "2021-05-17T05:01:59.794328Z"
    }
   },
   "outputs": [
    {
     "data": {
      "text/plain": [
       "True"
      ]
     },
     "execution_count": 7,
     "metadata": {},
     "output_type": "execute_result"
    }
   ],
   "source": [
    "all(list((torch.abs(out.sum(dim=-1)-1) < 1.e-4).numpy()))"
   ]
  },
  {
   "cell_type": "markdown",
   "metadata": {},
   "source": [
    "## エラーが出るようなパラメータ―を求める "
   ]
  },
  {
   "cell_type": "markdown",
   "metadata": {},
   "source": [
    "以下の例はgoogle colabではエラーがでるが，python3.7環境ではエラーが出ない．"
   ]
  },
  {
   "cell_type": "code",
   "execution_count": 8,
   "metadata": {
    "ExecuteTime": {
     "end_time": "2021-05-17T05:02:08.166852Z",
     "start_time": "2021-05-17T05:02:06.941484Z"
    }
   },
   "outputs": [],
   "source": [
    "counter_lim = 1000\n",
    "counter = 0\n",
    "while True:\n",
    "    try:\n",
    "        random_x = torch.randn((30,20))\n",
    "        head = Dirichlet(random_x)\n",
    "        out = head.rsample()\n",
    "    except:\n",
    "        print(random_x)\n",
    "        \n",
    "    counter += 1\n",
    "    if counter > counter_lim:\n",
    "        break"
   ]
  },
  {
   "cell_type": "markdown",
   "metadata": {},
   "source": [
    "## サンプリング値がおかしい場合"
   ]
  },
  {
   "cell_type": "code",
   "execution_count": 9,
   "metadata": {
    "ExecuteTime": {
     "end_time": "2021-05-17T05:02:09.338243Z",
     "start_time": "2021-05-17T05:02:08.174840Z"
    }
   },
   "outputs": [
    {
     "name": "stdout",
     "output_type": "stream",
     "text": [
      "tensor([[-1.0149e+00,  1.2589e+00,  4.2021e-01, -1.4810e+00, -1.3768e+00,\n",
      "         -2.2268e-01,  5.1317e-01,  3.1320e-01,  1.6949e+00, -1.7917e+00,\n",
      "          1.1850e+00,  1.7434e+00,  1.1275e+00,  2.1978e-01, -5.5611e-04,\n",
      "          1.5695e+00,  9.3637e-01,  1.9708e-02, -1.1750e+00,  4.0988e-01]])\n",
      "tensor([[-4.0661e-01,  1.7061e-01,  5.2716e-01, -1.6545e+00,  3.4036e-01,\n",
      "         -8.3972e-01,  5.6470e-02,  3.7369e-01,  1.2939e+00, -6.1234e-01,\n",
      "          2.3653e+00, -1.4958e-03,  1.3552e+00, -1.3564e+00, -1.4112e+00,\n",
      "         -1.0127e-01, -1.5074e-01,  6.2986e-01, -9.9232e-01,  1.3461e+00]])\n",
      "tensor([[-5.0793e-02,  1.6219e+00,  2.3441e-01,  2.8729e+00,  3.0034e-01,\n",
      "         -1.0032e+00, -1.3569e+00, -7.6564e-01,  9.1640e-01,  7.0209e-01,\n",
      "          1.9979e-01,  7.7838e-01,  1.2783e-01, -2.2607e-02, -5.1300e-02,\n",
      "         -2.0921e+00,  1.6087e-01,  1.1385e-01,  1.3268e-01, -1.1928e-03]])\n",
      "tensor([[-9.5895e-01, -1.7975e+00,  1.8372e+00, -1.5960e+00,  1.7533e+00,\n",
      "         -1.6370e-01,  3.4621e-01,  5.3728e-01, -6.0795e-01, -2.3643e-03,\n",
      "         -1.0839e-01, -2.4687e+00,  4.1900e-01,  6.5550e-01, -1.3175e+00,\n",
      "         -9.5626e-03,  8.2058e-01, -1.1228e+00, -9.1310e-01, -7.3168e-01]])\n",
      "tensor([[ 1.0764,  0.3882,  1.6553, -0.9128, -0.0055, -0.3579,  0.3703, -0.6490,\n",
      "          0.3751,  0.6804, -0.6393, -0.0472,  0.2464,  1.3122, -0.3672, -0.7481,\n",
      "         -0.0424, -0.8931, -2.5731,  2.0941]])\n",
      "tensor([[-0.5816, -0.0948, -0.6743, -1.3837, -0.4701,  0.5115, -1.1905,  0.2643,\n",
      "         -0.6492,  0.0810, -0.0700, -0.1709, -0.1163,  0.3196,  0.9657,  0.4692,\n",
      "         -0.0410,  0.2861, -0.0022, -0.5002]])\n",
      "tensor([[-5.1235e-04,  1.4035e+00, -1.0218e+00,  1.6910e+00,  3.0550e-01,\n",
      "          1.6850e+00,  1.0371e+00,  6.3230e-01, -2.1053e-01, -3.6578e-01,\n",
      "          2.2769e-01, -7.1893e-01, -1.7140e+00, -1.0412e+00, -1.8631e-02,\n",
      "          9.9252e-01,  1.1045e-02, -1.1302e+00,  1.3604e-02,  7.6901e-01]])\n"
     ]
    }
   ],
   "source": [
    "counter_lim = 1000\n",
    "counter = 0\n",
    "while True:\n",
    "    random_x = torch.randn((1,20))\n",
    "    head = Dirichlet(random_x)\n",
    "    out = head.rsample()\n",
    "    if not all(list((torch.abs(out.sum(dim=-1)-1) < 1.e-4).numpy())):\n",
    "        print(random_x)\n",
    "        \n",
    "    counter += 1\n",
    "    if counter > counter_lim:\n",
    "        break"
   ]
  },
  {
   "cell_type": "markdown",
   "metadata": {},
   "source": [
    "dirichlet分布のalphaの値は非負でなければならないのでabsをすればよい"
   ]
  },
  {
   "cell_type": "code",
   "execution_count": 10,
   "metadata": {
    "ExecuteTime": {
     "end_time": "2021-05-17T05:02:19.368998Z",
     "start_time": "2021-05-17T05:02:18.635196Z"
    }
   },
   "outputs": [],
   "source": [
    "counter_lim = 1000\n",
    "counter = 0\n",
    "while True:\n",
    "    random_x = torch.abs(torch.randn((1,20)))\n",
    "    head = Dirichlet(random_x)\n",
    "    out = head.rsample()\n",
    "    if not all(list((torch.abs(out.sum(dim=-1)-1) < 1.e-4).numpy())):\n",
    "        print(random_x)\n",
    "        \n",
    "    counter += 1\n",
    "    if counter > counter_lim:\n",
    "        break"
   ]
  },
  {
   "cell_type": "markdown",
   "metadata": {},
   "source": [
    "0のときは大丈夫"
   ]
  },
  {
   "cell_type": "code",
   "execution_count": 11,
   "metadata": {
    "ExecuteTime": {
     "end_time": "2021-05-17T05:02:20.699306Z",
     "start_time": "2021-05-17T05:02:20.657424Z"
    }
   },
   "outputs": [
    {
     "data": {
      "text/plain": [
       "tensor([1.0000, 1.0000, 1.0000, 1.0000, 1.0000, 1.0000, 1.0000, 1.0000, 1.0000,\n",
       "        1.0000, 1.0000, 1.0000, 1.0000, 1.0000, 1.0000, 1.0000, 1.0000, 1.0000,\n",
       "        1.0000, 1.0000, 1.0000, 1.0000, 1.0000, 1.0000, 1.0000, 1.0000, 1.0000,\n",
       "        1.0000, 1.0000, 1.0000])"
      ]
     },
     "execution_count": 11,
     "metadata": {},
     "output_type": "execute_result"
    }
   ],
   "source": [
    "random_x = torch.zeros((30,20))\n",
    "head = Dirichlet(random_x)\n",
    "out = head.rsample()\n",
    "out.sum(dim=-1)"
   ]
  },
  {
   "cell_type": "code",
   "execution_count": 12,
   "metadata": {
    "ExecuteTime": {
     "end_time": "2021-05-17T05:02:40.145548Z",
     "start_time": "2021-05-17T05:02:40.074737Z"
    }
   },
   "outputs": [
    {
     "data": {
      "text/plain": [
       "tensor([nan, nan, nan, nan, nan, nan, nan, nan, nan, nan, nan, nan, nan, nan, nan, nan, nan, nan, nan, nan, nan, nan, nan, nan,\n",
       "        nan, nan, nan, nan, nan, nan])"
      ]
     },
     "execution_count": 12,
     "metadata": {},
     "output_type": "execute_result"
    }
   ],
   "source": [
    "head.log_prob(out)"
   ]
  },
  {
   "cell_type": "markdown",
   "metadata": {},
   "source": [
    "しかし尤度の値がnanになる"
   ]
  },
  {
   "cell_type": "markdown",
   "metadata": {},
   "source": [
    "## clipする場合 "
   ]
  },
  {
   "cell_type": "code",
   "execution_count": 24,
   "metadata": {
    "ExecuteTime": {
     "end_time": "2021-05-17T05:07:24.689378Z",
     "start_time": "2021-05-17T05:07:24.619567Z"
    }
   },
   "outputs": [
    {
     "name": "stdout",
     "output_type": "stream",
     "text": [
      "tensor([1.0000, 1.0000, 1.0000, 1.0000, 1.0000, 1.0000, 1.0000, 1.0000, 1.0000,\n",
      "        1.0000, 1.0000, 1.0000, 1.0000, 1.0000, 1.0000, 1.0000, 1.0000, 1.0000,\n",
      "        1.0000, 1.0000, 1.0000, 1.0000, 1.0000, 1.0000, 1.0000, 1.0000, 1.0000,\n",
      "        1.0000, 1.0000, 1.0000])\n",
      "tensor([-161.8273, -161.8273, -161.8273, -161.8273, -161.8273, -161.8273,\n",
      "        -161.8273, 1437.6367, -161.8273, -161.8273, -161.8273, -161.8273,\n",
      "        -161.8273, -161.8273, -161.8273, -161.8273, -161.8273, -161.8273,\n",
      "        -161.8273, -161.8273, -161.8273, -161.8273, -161.8273, -161.8273,\n",
      "        -161.8273, -161.8273, -161.8273, -161.8273, 1437.6367, -161.8273])\n"
     ]
    }
   ],
   "source": [
    "random_x = 1.e-5*torch.ones((30,20))\n",
    "head = Dirichlet(random_x)\n",
    "out = head.rsample()\n",
    "print(out.sum(dim=-1))\n",
    "print(head.log_prob(out))"
   ]
  },
  {
   "cell_type": "code",
   "execution_count": 20,
   "metadata": {
    "ExecuteTime": {
     "end_time": "2021-05-17T05:06:20.764944Z",
     "start_time": "2021-05-17T05:06:20.706119Z"
    }
   },
   "outputs": [
    {
     "name": "stdout",
     "output_type": "stream",
     "text": [
      "tensor([1.0000, 1.0000, 1.0000, 1.0000, 1.0000, 1.0000, 1.0000, 1.0000, 1.0000,\n",
      "        1.0000, 1.0000, 1.0000, 1.0000, 1.0000, 1.0000, 1.0000, 1.0000, 1.0000,\n",
      "        1.0000, 1.0000, 1.0000, 1.0000, 1.0000, 1.0000, 1.0000, 1.0000, 1.0000,\n",
      "        1.0000, 1.0000, 1.0000])\n",
      "tensor([140., 140., 136., 140., 138., 138., 136., 142., 136., 128., 140., 142.,\n",
      "        136., 136., 136., 138., 142., 134., 140., 130., 142., 138., 136., 136.,\n",
      "        138., 138., 132., 140., 140., 144.])\n"
     ]
    }
   ],
   "source": [
    "random_x = 1.e5*torch.ones((30,20))\n",
    "head = Dirichlet(random_x)\n",
    "out = head.rsample()\n",
    "print(out.sum(dim=-1))\n",
    "print(head.log_prob(out))"
   ]
  },
  {
   "cell_type": "markdown",
   "metadata": {},
   "source": [
    "## モデルを利用する場合"
   ]
  },
  {
   "cell_type": "code",
   "execution_count": 7,
   "metadata": {
    "ExecuteTime": {
     "end_time": "2021-05-16T01:56:22.321342Z",
     "start_time": "2021-05-16T01:56:22.299397Z"
    }
   },
   "outputs": [],
   "source": [
    "class DirichletHead(nn.Module):\n",
    "    def __init__(self):\n",
    "        super(DirichletHead, self).__init__()\n",
    "        \n",
    "    def forward(self, alpha):\n",
    "        return torch.distributions.Dirichlet(alpha)"
   ]
  },
  {
   "cell_type": "code",
   "execution_count": 8,
   "metadata": {
    "ExecuteTime": {
     "end_time": "2021-05-16T01:56:22.431053Z",
     "start_time": "2021-05-16T01:56:22.352258Z"
    }
   },
   "outputs": [],
   "source": [
    "class Policy(nn.Module):\n",
    "    def __init__(self, in_channels=3, out_number=20):\n",
    "        super(Policy, self).__init__()\n",
    "        self.out_number = out_number\n",
    "        \n",
    "        self.conv1 = nn.Conv2d(in_channels, 12, kernel_size=5, padding=2, stride=2)\n",
    "        self.bn1 = nn.BatchNorm2d(12)\n",
    "        self.conv2 = nn.Conv2d(12, self.out_number, kernel_size=5, padding=2, stride=(2,3))\n",
    "        self.bn2 = nn.BatchNorm2d(self.out_number)\n",
    "        self.conv3 = nn.Conv2d(self.out_number, self.out_number, kernel_size=(4,3), padding=(2,1), stride=(2,3))\n",
    "        self.bn3 = nn.BatchNorm2d(self.out_number)\n",
    "\n",
    "        self.avgpool = nn.AvgPool2d(kernel_size=3)\n",
    "        self.head = DirichletHead()\n",
    "        \n",
    "        \n",
    "    def forward(self, x):\n",
    "        #from IPython.core.debugger import Pdb; Pdb().set_trace()\n",
    "        x = F.relu(self.bn1(self.conv1(x)))\n",
    "        x = F.relu(self.bn2(self.conv2(x)))\n",
    "        x = self.bn3(self.conv3(x))\n",
    "        x = self.avgpool(x)\n",
    "        x = torch.reshape(x, (-1, self.out_number))\n",
    "        #x = F.softmax(x, dim=-1)\n",
    "        x = F.relu(x)\n",
    "        x = torch.clamp(x, 0.01, 10)\n",
    "        out = self.head(x)\n",
    "        return out"
   ]
  },
  {
   "cell_type": "code",
   "execution_count": 9,
   "metadata": {
    "ExecuteTime": {
     "end_time": "2021-05-16T01:56:22.494880Z",
     "start_time": "2021-05-16T01:56:22.442018Z"
    }
   },
   "outputs": [],
   "source": [
    "random_x = torch.randn((30, 3, 20, 50))\n",
    "policy = Policy(3, 20)"
   ]
  },
  {
   "cell_type": "code",
   "execution_count": 10,
   "metadata": {
    "ExecuteTime": {
     "end_time": "2021-05-16T01:56:22.637495Z",
     "start_time": "2021-05-16T01:56:22.509856Z"
    },
    "scrolled": true
   },
   "outputs": [
    {
     "name": "stdout",
     "output_type": "stream",
     "text": [
      "torch.Size([30]) torch.Size([20])\n",
      "torch.Size([30, 20])\n"
     ]
    }
   ],
   "source": [
    "out = policy(random_x)\n",
    "print(out.batch_shape, out.event_shape)\n",
    "print(out.rsample(torch.Size([])).shape)"
   ]
  },
  {
   "cell_type": "code",
   "execution_count": null,
   "metadata": {},
   "outputs": [],
   "source": []
  }
 ],
 "metadata": {
  "kernelspec": {
   "display_name": "torch_py37",
   "language": "python",
   "name": "torch_py37"
  },
  "language_info": {
   "codemirror_mode": {
    "name": "ipython",
    "version": 3
   },
   "file_extension": ".py",
   "mimetype": "text/x-python",
   "name": "python",
   "nbconvert_exporter": "python",
   "pygments_lexer": "ipython3",
   "version": "3.7.4"
  },
  "toc": {
   "base_numbering": 1,
   "nav_menu": {},
   "number_sections": true,
   "sideBar": true,
   "skip_h1_title": true,
   "title_cell": "Table of Contents",
   "title_sidebar": "Contents",
   "toc_cell": false,
   "toc_position": {},
   "toc_section_display": true,
   "toc_window_display": false
  }
 },
 "nbformat": 4,
 "nbformat_minor": 4
}
