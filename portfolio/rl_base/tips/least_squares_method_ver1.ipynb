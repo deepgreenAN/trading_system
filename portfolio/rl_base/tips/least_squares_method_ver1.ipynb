{
 "cells": [
  {
   "cell_type": "code",
   "execution_count": 1,
   "metadata": {
    "ExecuteTime": {
     "end_time": "2020-12-30T18:56:26.638290Z",
     "start_time": "2020-12-30T18:56:21.180731Z"
    }
   },
   "outputs": [],
   "source": [
    "import numpy as np\n",
    "import matplotlib.pyplot as plt\n",
    "import torch"
   ]
  },
  {
   "cell_type": "markdown",
   "metadata": {},
   "source": [
    "# Pythonで最小二乗法 "
   ]
  },
  {
   "cell_type": "markdown",
   "metadata": {},
   "source": [
    "## numpyで行う場合 "
   ]
  },
  {
   "cell_type": "markdown",
   "metadata": {},
   "source": [
    "### データの作成 "
   ]
  },
  {
   "cell_type": "code",
   "execution_count": 2,
   "metadata": {
    "ExecuteTime": {
     "end_time": "2020-12-30T18:56:26.676035Z",
     "start_time": "2020-12-30T18:56:26.649108Z"
    }
   },
   "outputs": [],
   "source": [
    "x = np.arange(0,1,0.01)"
   ]
  },
  {
   "cell_type": "code",
   "execution_count": 3,
   "metadata": {
    "ExecuteTime": {
     "end_time": "2020-12-30T18:56:26.726896Z",
     "start_time": "2020-12-30T18:56:26.694992Z"
    }
   },
   "outputs": [],
   "source": [
    "a = 2.0\n",
    "b = 3.0\n",
    "\n",
    "def func(x):\n",
    "    return a*x+b"
   ]
  },
  {
   "cell_type": "code",
   "execution_count": 4,
   "metadata": {
    "ExecuteTime": {
     "end_time": "2020-12-30T18:56:26.789730Z",
     "start_time": "2020-12-30T18:56:26.751833Z"
    }
   },
   "outputs": [],
   "source": [
    "y = func(x) + 0.1*np.random.randn(len(x))"
   ]
  },
  {
   "cell_type": "code",
   "execution_count": 5,
   "metadata": {
    "ExecuteTime": {
     "end_time": "2020-12-30T18:56:28.243888Z",
     "start_time": "2020-12-30T18:56:26.822640Z"
    }
   },
   "outputs": [
    {
     "data": {
      "text/plain": [
       "<matplotlib.collections.PathCollection at 0x20e9759b148>"
      ]
     },
     "execution_count": 5,
     "metadata": {},
     "output_type": "execute_result"
    },
    {
     "data": {
      "image/png": "[encoded data removed]",
      "text/plain": [
       "<Figure size 432x288 with 1 Axes>"
      ]
     },
     "metadata": {
      "needs_background": "light"
     },
     "output_type": "display_data"
    }
   ],
   "source": [
    "fig, ax = plt.subplots()\n",
    "ax.scatter(x,y)"
   ]
  },
  {
   "cell_type": "markdown",
   "metadata": {},
   "source": [
    "### 最小二乗法 "
   ]
  },
  {
   "cell_type": "code",
   "execution_count": 6,
   "metadata": {
    "ExecuteTime": {
     "end_time": "2020-12-30T18:56:28.337593Z",
     "start_time": "2020-12-30T18:56:28.259798Z"
    }
   },
   "outputs": [
    {
     "data": {
      "text/plain": [
       "array([2.01218443, 2.99297416])"
      ]
     },
     "execution_count": 6,
     "metadata": {},
     "output_type": "execute_result"
    }
   ],
   "source": [
    "# 計画行列\n",
    "X = np.stack([x,np.ones(len(x))],axis=1)\n",
    "\n",
    "# 最小二乗解\n",
    "inv_XtX = np.linalg.inv(np.dot(X.T,X))\n",
    "Xty = np.dot(X.T,y)\n",
    "beta_hat = np.dot(inv_XtX, Xty)\n",
    "beta_hat"
   ]
  },
  {
   "cell_type": "code",
   "execution_count": 7,
   "metadata": {
    "ExecuteTime": {
     "end_time": "2020-12-30T18:56:28.379479Z",
     "start_time": "2020-12-30T18:56:28.356542Z"
    }
   },
   "outputs": [],
   "source": [
    "y_hat = np.dot(X, beta_hat)"
   ]
  },
  {
   "cell_type": "code",
   "execution_count": 8,
   "metadata": {
    "ExecuteTime": {
     "end_time": "2020-12-30T18:56:29.537429Z",
     "start_time": "2020-12-30T18:56:28.415379Z"
    }
   },
   "outputs": [
    {
     "data": {
      "text/plain": [
       "[<matplotlib.lines.Line2D at 0x20e97a89f88>]"
      ]
     },
     "execution_count": 8,
     "metadata": {},
     "output_type": "execute_result"
    },
    {
     "data": {
      "image/png": "[encoded data removed]",
      "text/plain": [
       "<Figure size 432x288 with 1 Axes>"
      ]
     },
     "metadata": {
      "needs_background": "light"
     },
     "output_type": "display_data"
    }
   ],
   "source": [
    "fig, ax = plt.subplots()\n",
    "ax.scatter(x,y)\n",
    "ax.plot(x,y_hat,color=\"C1\")"
   ]
  },
  {
   "cell_type": "markdown",
   "metadata": {},
   "source": [
    "## Pytorchで行う場合 "
   ]
  },
  {
   "cell_type": "markdown",
   "metadata": {},
   "source": [
    "pytorchではバッチごとに行列の積`torch.bmm`，逆行列`torch.inverse`，転置`torch.transpose`が計算できるので，複数データを並行して最小二乗法などを用いるのが簡単"
   ]
  },
  {
   "cell_type": "markdown",
   "metadata": {},
   "source": [
    "### データの作成 "
   ]
  },
  {
   "cell_type": "code",
   "execution_count": 9,
   "metadata": {
    "ExecuteTime": {
     "end_time": "2020-12-30T18:56:29.610230Z",
     "start_time": "2020-12-30T18:56:29.552345Z"
    }
   },
   "outputs": [
    {
     "data": {
      "text/plain": [
       "tensor([[0.0000, 0.0100, 0.0200, 0.0300, 0.0400, 0.0500, 0.0600, 0.0700, 0.0800,\n",
       "         0.0900, 0.1000, 0.1100, 0.1200, 0.1300, 0.1400, 0.1500, 0.1600, 0.1700,\n",
       "         0.1800, 0.1900, 0.2000, 0.2100, 0.2200, 0.2300, 0.2400, 0.2500, 0.2600,\n",
       "         0.2700, 0.2800, 0.2900, 0.3000, 0.3100, 0.3200, 0.3300, 0.3400, 0.3500,\n",
       "         0.3600, 0.3700, 0.3800, 0.3900, 0.4000, 0.4100, 0.4200, 0.4300, 0.4400,\n",
       "         0.4500, 0.4600, 0.4700, 0.4800, 0.4900, 0.5000, 0.5100, 0.5200, 0.5300,\n",
       "         0.5400, 0.5500, 0.5600, 0.5700, 0.5800, 0.5900, 0.6000, 0.6100, 0.6200,\n",
       "         0.6300, 0.6400, 0.6500, 0.6600, 0.6700, 0.6800, 0.6900, 0.7000, 0.7100,\n",
       "         0.7200, 0.7300, 0.7400, 0.7500, 0.7600, 0.7700, 0.7800, 0.7900, 0.8000,\n",
       "         0.8100, 0.8200, 0.8300, 0.8400, 0.8500, 0.8600, 0.8700, 0.8800, 0.8900,\n",
       "         0.9000, 0.9100, 0.9200, 0.9300, 0.9400, 0.9500, 0.9600, 0.9700, 0.9800,\n",
       "         0.9900],\n",
       "        [2.0000, 2.0100, 2.0200, 2.0300, 2.0400, 2.0500, 2.0600, 2.0700, 2.0800,\n",
       "         2.0900, 2.1000, 2.1100, 2.1200, 2.1300, 2.1400, 2.1500, 2.1600, 2.1700,\n",
       "         2.1800, 2.1900, 2.2000, 2.2100, 2.2200, 2.2300, 2.2400, 2.2500, 2.2600,\n",
       "         2.2700, 2.2800, 2.2900, 2.3000, 2.3100, 2.3200, 2.3300, 2.3400, 2.3500,\n",
       "         2.3600, 2.3700, 2.3800, 2.3900, 2.4000, 2.4100, 2.4200, 2.4300, 2.4400,\n",
       "         2.4500, 2.4600, 2.4700, 2.4800, 2.4900, 2.5000, 2.5100, 2.5200, 2.5300,\n",
       "         2.5400, 2.5500, 2.5600, 2.5700, 2.5800, 2.5900, 2.6000, 2.6100, 2.6200,\n",
       "         2.6300, 2.6400, 2.6500, 2.6600, 2.6700, 2.6800, 2.6900, 2.7000, 2.7100,\n",
       "         2.7200, 2.7300, 2.7400, 2.7500, 2.7600, 2.7700, 2.7800, 2.7900, 2.8000,\n",
       "         2.8100, 2.8200, 2.8300, 2.8400, 2.8500, 2.8600, 2.8700, 2.8800, 2.8900,\n",
       "         2.9000, 2.9100, 2.9200, 2.9300, 2.9400, 2.9500, 2.9600, 2.9700, 2.9800,\n",
       "         2.9900]], dtype=torch.float64)"
      ]
     },
     "execution_count": 9,
     "metadata": {},
     "output_type": "execute_result"
    }
   ],
   "source": [
    "x_1 = torch.from_numpy(np.arange(0,1,0.01))\n",
    "x_2 = torch.from_numpy(np.arange(2,3,0.01))\n",
    "\n",
    "b_x = torch.stack([x_1,x_2],dim=0)\n",
    "b_x"
   ]
  },
  {
   "cell_type": "code",
   "execution_count": 10,
   "metadata": {
    "ExecuteTime": {
     "end_time": "2020-12-30T18:56:29.641100Z",
     "start_time": "2020-12-30T18:56:29.620157Z"
    }
   },
   "outputs": [],
   "source": [
    "a_1 = 2.0\n",
    "b_1 = 3.0\n",
    "\n",
    "a_2 = 4.0\n",
    "b_2 = 5.0\n",
    "\n",
    "def func1(x):\n",
    "    return a_1*x+b_1\n",
    "\n",
    "def func2(x):\n",
    "    return a_2*x+b_2"
   ]
  },
  {
   "cell_type": "code",
   "execution_count": 11,
   "metadata": {
    "ExecuteTime": {
     "end_time": "2020-12-30T18:56:29.686978Z",
     "start_time": "2020-12-30T18:56:29.652072Z"
    }
   },
   "outputs": [],
   "source": [
    "y_1 = func1(x_1) + 0.1*torch.randn(len(x_1))\n",
    "y_2 = func2(x_2) + 0.1*torch.randn(len(x_2))\n",
    "\n",
    "b_y = torch.stack([y_1,y_2],dim=0)"
   ]
  },
  {
   "cell_type": "code",
   "execution_count": 12,
   "metadata": {
    "ExecuteTime": {
     "end_time": "2020-12-30T18:56:30.651478Z",
     "start_time": "2020-12-30T18:56:29.711914Z"
    }
   },
   "outputs": [
    {
     "data": {
      "text/plain": [
       "<matplotlib.collections.PathCollection at 0x20e97b06188>"
      ]
     },
     "execution_count": 12,
     "metadata": {},
     "output_type": "execute_result"
    },
    {
     "data": {
      "image/png": "[encoded data removed]",
      "text/plain": [
       "<Figure size 720x720 with 1 Axes>"
      ]
     },
     "metadata": {
      "needs_background": "light"
     },
     "output_type": "display_data"
    }
   ],
   "source": [
    "fig, ax = plt.subplots(figsize=(10,10))\n",
    "ax.scatter(x_1.numpy(), y_1.numpy(), color=\"C0\")\n",
    "ax.scatter(x_2.numpy(), y_2.numpy(), color=\"C1\")"
   ]
  },
  {
   "cell_type": "markdown",
   "metadata": {},
   "source": [
    "### 最小二乗法 "
   ]
  },
  {
   "cell_type": "code",
   "execution_count": 13,
   "metadata": {
    "ExecuteTime": {
     "end_time": "2020-12-30T18:56:30.725204Z",
     "start_time": "2020-12-30T18:56:30.659376Z"
    }
   },
   "outputs": [
    {
     "data": {
      "text/plain": [
       "tensor([[[2.0049],\n",
       "         [3.0033]],\n",
       "\n",
       "        [[4.0412],\n",
       "         [4.8982]]], dtype=torch.float64)"
      ]
     },
     "execution_count": 13,
     "metadata": {},
     "output_type": "execute_result"
    }
   ],
   "source": [
    "# 計画行列\n",
    "ones = torch.ones_like(b_x)\n",
    "b_X = torch.stack([b_x, ones],dim=2)\n",
    "\n",
    "# 最小二乗解\n",
    "b_XtX = torch.bmm(b_X.transpose(1,2),b_X)\n",
    "b_inv_XtX = torch.inverse(b_XtX)\n",
    "b_Xty = torch.bmm(b_X.transpose(1,2),b_y[:,:,None])\n",
    "\n",
    "b_beta_hat = torch.bmm(b_inv_XtX, b_Xty)  # (batch,2,1) であることに注意\n",
    "b_beta_hat"
   ]
  },
  {
   "cell_type": "code",
   "execution_count": 14,
   "metadata": {
    "ExecuteTime": {
     "end_time": "2020-12-30T18:56:30.770087Z",
     "start_time": "2020-12-30T18:56:30.742154Z"
    }
   },
   "outputs": [],
   "source": [
    "b_y_hat = torch.bmm(b_X, b_beta_hat)"
   ]
  },
  {
   "cell_type": "code",
   "execution_count": 15,
   "metadata": {
    "ExecuteTime": {
     "end_time": "2020-12-30T18:56:32.707897Z",
     "start_time": "2020-12-30T18:56:30.786041Z"
    }
   },
   "outputs": [
    {
     "data": {
      "text/plain": [
       "[<matplotlib.lines.Line2D at 0x20e97d67ec8>]"
      ]
     },
     "execution_count": 15,
     "metadata": {},
     "output_type": "execute_result"
    },
    {
     "data": {
      "image/png": "[encoded data removed]",
      "text/plain": [
       "<Figure size 1440x1440 with 1 Axes>"
      ]
     },
     "metadata": {
      "needs_background": "light"
     },
     "output_type": "display_data"
    }
   ],
   "source": [
    "fig, ax = plt.subplots(figsize=(20,20))\n",
    "ax.scatter(x_1.numpy(), y_1.numpy(), color=\"C0\")\n",
    "ax.scatter(x_2.numpy(), y_2.numpy(), color=\"C1\")\n",
    "\n",
    "ax.plot(x_1.numpy(), b_y_hat[0,:,:].squeeze(dim=1).numpy(),color=\"C2\")\n",
    "ax.plot(x_2.numpy(), b_y_hat[1,:,:].squeeze(dim=1).numpy(),color=\"C3\")"
   ]
  },
  {
   "cell_type": "markdown",
   "metadata": {},
   "source": [
    "## ransacについて"
   ]
  },
  {
   "cell_type": "markdown",
   "metadata": {},
   "source": [
    "以上のアルゴリズムを用いて，簡易的な直線検出のransacを試す．手順としては\n",
    "- すべての$n$個の点から，$s$点×$m$点(重複あり・なし)をサンプリングして$m$個それぞれの最小二乗解(直線)を求める．\n",
    "- 各直線について，すべての点との距離を計算し，閾値以内に収まる点の数を求める．\n",
    "- 最も閾値以内に収まる点の多い直線を結果とする．"
   ]
  },
  {
   "cell_type": "markdown",
   "metadata": {},
   "source": [
    "### データの作成"
   ]
  },
  {
   "cell_type": "markdown",
   "metadata": {},
   "source": [
    "直線のデータにノイズが加わったようなデータとしている．"
   ]
  },
  {
   "cell_type": "code",
   "execution_count": 16,
   "metadata": {
    "ExecuteTime": {
     "end_time": "2020-12-30T18:56:32.743802Z",
     "start_time": "2020-12-30T18:56:32.718868Z"
    }
   },
   "outputs": [],
   "source": [
    "a_1 = 2.0\n",
    "b_1 = 3.0\n",
    "\n",
    "a_2 = 2.0\n",
    "b_2 = 4.0\n",
    "\n",
    "def func1(x):\n",
    "    return a_1*x+b_1\n",
    "\n",
    "def func2(x):\n",
    "    return a_2*x+b_2"
   ]
  },
  {
   "cell_type": "code",
   "execution_count": 17,
   "metadata": {
    "ExecuteTime": {
     "end_time": "2020-12-30T18:56:32.803642Z",
     "start_time": "2020-12-30T18:56:32.758769Z"
    }
   },
   "outputs": [],
   "source": [
    "x_1 = np.arange(0,1,0.01)\n",
    "x_2 = np.arange(0.9,1,0.005)\n",
    "all_x = np.concatenate([x_1,x_2],axis=0)\n",
    "\n",
    "y_1 = func1(x_1) + 0.1*np.random.randn(len(x_1))\n",
    "y_2 = func2(x_2) + 0.2*np.random.randn(len(x_2))\n",
    "all_y = np.concatenate([y_1,y_2],axis=0)"
   ]
  },
  {
   "cell_type": "code",
   "execution_count": 18,
   "metadata": {
    "ExecuteTime": {
     "end_time": "2020-12-30T18:56:34.293193Z",
     "start_time": "2020-12-30T18:56:32.818603Z"
    }
   },
   "outputs": [
    {
     "data": {
      "text/plain": [
       "<matplotlib.collections.PathCollection at 0x20e97b37fc8>"
      ]
     },
     "execution_count": 18,
     "metadata": {},
     "output_type": "execute_result"
    },
    {
     "data": {
      "image/png": "[encoded data removed]",
      "text/plain": [
       "<Figure size 720x720 with 1 Axes>"
      ]
     },
     "metadata": {
      "needs_background": "light"
     },
     "output_type": "display_data"
    }
   ],
   "source": [
    "fig, ax = plt.subplots(figsize=(10,10))\n",
    "ax.scatter(all_x, all_y, color=\"C0\")"
   ]
  },
  {
   "cell_type": "code",
   "execution_count": 19,
   "metadata": {
    "ExecuteTime": {
     "end_time": "2020-12-30T18:56:34.343056Z",
     "start_time": "2020-12-30T18:56:34.306153Z"
    }
   },
   "outputs": [
    {
     "name": "stdout",
     "output_type": "stream",
     "text": [
      "all_x length: 120\n"
     ]
    }
   ],
   "source": [
    "print(\"all_x length:\",len(all_x))"
   ]
  },
  {
   "cell_type": "markdown",
   "metadata": {},
   "source": [
    "### サンプリングの度合い"
   ]
  },
  {
   "cell_type": "markdown",
   "metadata": {},
   "source": [
    "以下のような　直線の本数×一本の推定に利用する点数　の分だけデータをサンプリングする必要がある．"
   ]
  },
  {
   "cell_type": "code",
   "execution_count": 43,
   "metadata": {
    "ExecuteTime": {
     "end_time": "2020-12-30T18:59:05.731051Z",
     "start_time": "2020-12-30T18:59:05.711105Z"
    }
   },
   "outputs": [],
   "source": [
    "line_number = 1000\n",
    "point_number = 5\n",
    "\n",
    "distance_th = 0.1"
   ]
  },
  {
   "cell_type": "markdown",
   "metadata": {},
   "source": [
    "以下では，\n",
    "1. 一本の推定に利用する点数，それの直線の本数どちらにも重複があり得るサンプリング  \n",
    "    複数の直線が同じになる可能性があり，直線が求められない可能性もある\n",
    "2. 一本の推定に利用する点数のみ重複なし，それの直線の本数は重複があり得るサンプリング  \n",
    "    複数の直線が同じになる可能性があるが，直線は求められる\n",
    "3. どちらも重複がない  \n",
    "    求める直線は全て異なり，直線も必ず求められる  \n",
    "の3つのサンプリングを考える．"
   ]
  },
  {
   "cell_type": "markdown",
   "metadata": {},
   "source": [
    "####  一本の推定に利用する点数，直線の本数分どちらにも重複があり得る"
   ]
  },
  {
   "cell_type": "markdown",
   "metadata": {},
   "source": [
    "普通にrandintすればよい"
   ]
  },
  {
   "cell_type": "code",
   "execution_count": 21,
   "metadata": {
    "ExecuteTime": {
     "end_time": "2020-12-30T18:56:34.419850Z",
     "start_time": "2020-12-30T18:56:34.397908Z"
    }
   },
   "outputs": [],
   "source": [
    "random_index = np.random.randint(0,len(all_x),size=(line_number, point_number))\n",
    "#random_index"
   ]
  },
  {
   "cell_type": "markdown",
   "metadata": {},
   "source": [
    "#### 一本の推定に利用する点にのみ重複なし，それの直線の本数は重複があり得るサンプリング"
   ]
  },
  {
   "cell_type": "markdown",
   "metadata": {},
   "source": [
    "重複の無いサンプリングには，インデックスをランダムに並べ替えて，そこから取り出せばよい．`np.random.permutation`は既存のndarrayをランダムに並び替えるか，ndarrayの長さを与えることでランダムに並び替えたインデックスを返す\n",
    "これはデータ数がpoint_numberより大きな値をもてば利用でき，その条件は通常満たされる．"
   ]
  },
  {
   "cell_type": "code",
   "execution_count": 22,
   "metadata": {
    "ExecuteTime": {
     "end_time": "2020-12-30T18:56:34.464729Z",
     "start_time": "2020-12-30T18:56:34.435804Z"
    }
   },
   "outputs": [],
   "source": [
    "random_index = np.array([np.random.permutation(len(all_x))[:point_number] for i in range(line_number)])\n",
    "#random_index"
   ]
  },
  {
   "cell_type": "markdown",
   "metadata": {},
   "source": [
    "####  どちらにも重複がない"
   ]
  },
  {
   "cell_type": "markdown",
   "metadata": {},
   "source": [
    "こちらの方がより簡単に実装できるが，linenumber×point_numberの数がデータ数より大きい必要がある"
   ]
  },
  {
   "cell_type": "code",
   "execution_count": 23,
   "metadata": {
    "ExecuteTime": {
     "end_time": "2020-12-30T18:56:34.539531Z",
     "start_time": "2020-12-30T18:56:34.515601Z"
    }
   },
   "outputs": [],
   "source": [
    "random_index_flatten = np.random.permutation(len(all_x))[:line_number*point_number]\n",
    "random_index = random_index_flatten.reshape(line_number, point_number)\n",
    "#random_index"
   ]
  },
  {
   "cell_type": "markdown",
   "metadata": {},
   "source": [
    "今回は，より有用な2番を用いる．"
   ]
  },
  {
   "cell_type": "code",
   "execution_count": 46,
   "metadata": {
    "ExecuteTime": {
     "end_time": "2020-12-30T18:59:28.948952Z",
     "start_time": "2020-12-30T18:59:28.782388Z"
    }
   },
   "outputs": [],
   "source": [
    "random_index = np.array([np.random.permutation(len(all_x))[:point_number] for i in range(line_number)])"
   ]
  },
  {
   "cell_type": "markdown",
   "metadata": {},
   "source": [
    "### numpyで行う場合 "
   ]
  },
  {
   "cell_type": "markdown",
   "metadata": {},
   "source": [
    "for文で回しながら，最小二乗法を計算する"
   ]
  },
  {
   "cell_type": "code",
   "execution_count": 47,
   "metadata": {
    "ExecuteTime": {
     "end_time": "2020-12-30T18:59:32.476511Z",
     "start_time": "2020-12-30T18:59:31.175985Z"
    }
   },
   "outputs": [
    {
     "name": "stdout",
     "output_type": "stream",
     "text": [
      "ransac solution index: 118\n",
      "ransac solution: [2.0568342  3.00660009]\n"
     ]
    }
   ],
   "source": [
    "distance_vote_list = []\n",
    "solution_list = []\n",
    "\n",
    "solution_points_list = []  # おまけ\n",
    "\n",
    "for points_index in random_index:\n",
    "    # 利用するデータ\n",
    "    x = all_x[points_index]\n",
    "    y = all_y[points_index]\n",
    "    \n",
    "    # 計画行列\n",
    "    X = np.stack([x,np.ones(len(x))],axis=1)\n",
    "\n",
    "    # 最小二乗解\n",
    "    inv_XtX = np.linalg.inv(np.dot(X.T,X))\n",
    "    Xty = np.dot(X.T,y)\n",
    "    beta_hat = np.dot(inv_XtX, Xty)\n",
    "    a = beta_hat[0]\n",
    "    b = - 1\n",
    "    c = beta_hat[1]\n",
    "    d_num = a * all_x + b * all_y + c  # (all_point_number(n))\n",
    "    d_den = np.sqrt(a**2+b**2)  # 1\n",
    "    d = np.abs(d_num) / d_den  # (all_point_number(n))\n",
    "    \n",
    "    vote_number = (d < distance_th).sum()\n",
    "    \n",
    "    distance_vote_list.append(vote_number)\n",
    "    solution_list.append(beta_hat)\n",
    "    \n",
    "    solution_points_list.append(np.stack([x,y],axis=1))\n",
    "    \n",
    "solution_array = np.stack(solution_list, axis=0)\n",
    "distance_vote_array = np.array(distance_vote_list)\n",
    "ransac_solution_index = np.argmax(distance_vote_array,axis=0)\n",
    "print(\"ransac solution index:\",ransac_solution_index)\n",
    "\n",
    "ransac_solution = solution_array[ransac_solution_index]\n",
    "print(\"ransac solution:\",ransac_solution)\n",
    "\n",
    "ransac_solution_points = solution_points_list[ransac_solution_index]"
   ]
  },
  {
   "cell_type": "code",
   "execution_count": 26,
   "metadata": {
    "ExecuteTime": {
     "end_time": "2020-12-30T18:56:34.841727Z",
     "start_time": "2020-12-30T18:56:34.815789Z"
    }
   },
   "outputs": [
    {
     "name": "stdout",
     "output_type": "stream",
     "text": [
      "[96 90 87 66 65 75 19 94 52 52 56 68 92 95 60 61 81 66 64 67]\n"
     ]
    }
   ],
   "source": [
    "print(distance_vote_array)"
   ]
  },
  {
   "cell_type": "code",
   "execution_count": 28,
   "metadata": {
    "ExecuteTime": {
     "end_time": "2020-12-30T18:57:13.431203Z",
     "start_time": "2020-12-30T18:57:11.722781Z"
    }
   },
   "outputs": [
    {
     "data": {
      "text/plain": [
       "<matplotlib.collections.PathCollection at 0x20e99464dc8>"
      ]
     },
     "execution_count": 28,
     "metadata": {},
     "output_type": "execute_result"
    },
    {
     "data": {
      "image/png": "[encoded data removed]",
      "text/plain": [
       "<Figure size 432x288 with 1 Axes>"
      ]
     },
     "metadata": {
      "needs_background": "light"
     },
     "output_type": "display_data"
    }
   ],
   "source": [
    "all_X = np.stack([all_x,np.ones(len(all_x))],axis=1)\n",
    "ransac_y_hat = np.dot(all_X, ransac_solution)\n",
    "fig,ax = plt.subplots()\n",
    "ax.plot(all_x, ransac_y_hat, color=\"C1\")\n",
    "ax.scatter(all_x, all_y, color=\"C0\")\n",
    "ax.scatter(ransac_solution_points[:,0],ransac_solution_points[:,1],color=\"C3\")"
   ]
  },
  {
   "cell_type": "markdown",
   "metadata": {},
   "source": [
    "### pytorchで行う場合"
   ]
  },
  {
   "cell_type": "code",
   "execution_count": 48,
   "metadata": {
    "ExecuteTime": {
     "end_time": "2020-12-30T18:59:37.443184Z",
     "start_time": "2020-12-30T18:59:37.269645Z"
    }
   },
   "outputs": [
    {
     "name": "stdout",
     "output_type": "stream",
     "text": [
      "ransac solution index: 118\n",
      "ransac solution: [2.0568342  3.00660009]\n"
     ]
    }
   ],
   "source": [
    "all_x_tensor = torch.from_numpy(all_x)  # (all_point_number(n))\n",
    "all_y_tensor = torch.from_numpy(all_y)  # (all_point_number(n))\n",
    "\n",
    "b_x = torch.from_numpy(all_x[random_index])  # (line_number(m), point_number(s))\n",
    "b_y = torch.from_numpy(all_y[random_index])  # (line_number(m), point_number(s))\n",
    "\n",
    "# 計画行列\n",
    "ones = torch.ones_like(b_x)\n",
    "b_X = torch.stack([b_x, ones],dim=2)\n",
    "\n",
    "# 最小二乗解\n",
    "b_XtX = torch.bmm(b_X.transpose(1,2),b_X)\n",
    "b_inv_XtX = torch.inverse(b_XtX)\n",
    "b_Xty = torch.bmm(b_X.transpose(1,2),b_y[:,:,None])\n",
    "\n",
    "b_beta_hat = torch.bmm(b_inv_XtX, b_Xty)  # (batch,2,1) であることに注意\n",
    "b_beta_hat_squeezed = b_beta_hat.squeeze(2)  # (batch,2)\n",
    "\n",
    "# 距離の計算\n",
    "a = b_beta_hat_squeezed[:,0]  # (line_number(m))\n",
    "c = b_beta_hat_squeezed[:,1]  # (line_number(m))\n",
    "d_num = a[:,None] * all_x_tensor[None,:]  - all_y_tensor[None,:] + c[:,None]  # (line_number(m), all_point_number(n))\n",
    "d_den = torch.sqrt(a**2+(-1)**2)  # (line_number(m))\n",
    "d = torch.abs(d_num) / d_den[:,None]\n",
    "\n",
    "b_vote_number = (d < distance_th).sum(dim=1)  # (line_number(m))\n",
    "ransac_solution_index = np.argmax(b_vote_number.numpy(),axis=0)  # 正確な比較のためにnumpyで計算\n",
    "print(\"ransac solution index:\", ransac_solution_index)\n",
    "\n",
    "ransac_solution = b_beta_hat_squeezed[ransac_solution_index].numpy()\n",
    "print(\"ransac solution:\", ransac_solution)\n",
    "\n",
    "solution_points = torch.stack([b_x[ransac_solution_index,:],b_y[ransac_solution_index,:]],dim=1)"
   ]
  },
  {
   "cell_type": "code",
   "execution_count": 30,
   "metadata": {
    "ExecuteTime": {
     "end_time": "2020-12-30T18:57:20.029596Z",
     "start_time": "2020-12-30T18:57:18.944444Z"
    }
   },
   "outputs": [
    {
     "data": {
      "text/plain": [
       "<matplotlib.collections.PathCollection at 0x20e995479c8>"
      ]
     },
     "execution_count": 30,
     "metadata": {},
     "output_type": "execute_result"
    },
    {
     "data": {
      "image/png": "[encoded data removed]",
      "text/plain": [
       "<Figure size 432x288 with 1 Axes>"
      ]
     },
     "metadata": {
      "needs_background": "light"
     },
     "output_type": "display_data"
    }
   ],
   "source": [
    "all_X = np.stack([all_x,np.ones(len(all_x))],axis=1)\n",
    "ransac_y_hat = np.dot(all_X, ransac_solution)\n",
    "fig,ax = plt.subplots()\n",
    "ax.plot(all_x, ransac_y_hat, color=\"C1\")\n",
    "ax.scatter(all_x, all_y, color=\"C0\")\n",
    "ax.scatter(solution_points[:,0].numpy(),solution_points[:,1].numpy(),color=\"C3\")"
   ]
  }
 ],
 "metadata": {
  "kernelspec": {
   "display_name": "torch_py37",
   "language": "python",
   "name": "torch_py37"
  },
  "language_info": {
   "codemirror_mode": {
    "name": "ipython",
    "version": 3
   },
   "file_extension": ".py",
   "mimetype": "text/x-python",
   "name": "python",
   "nbconvert_exporter": "python",
   "pygments_lexer": "ipython3",
   "version": "3.7.4"
  },
  "toc": {
   "base_numbering": 1,
   "nav_menu": {},
   "number_sections": true,
   "sideBar": true,
   "skip_h1_title": true,
   "title_cell": "Table of Contents",
   "title_sidebar": "Contents",
   "toc_cell": false,
   "toc_position": {
    "height": "calc(100% - 180px)",
    "left": "10px",
    "top": "150px",
    "width": "165px"
   },
   "toc_section_display": true,
   "toc_window_display": true
  }
 },
 "nbformat": 4,
 "nbformat_minor": 4
}
