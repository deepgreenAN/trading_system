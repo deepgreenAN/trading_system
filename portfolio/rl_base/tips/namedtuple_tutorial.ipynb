{
 "cells": [
  {
   "cell_type": "markdown",
   "metadata": {},
   "source": [
    "# ネームドタプルの使い方 "
   ]
  },
  {
   "cell_type": "markdown",
   "metadata": {},
   "source": [
    "データの受け渡しを行うとき，例えば強化学習などの状態を表現する場合，python3.9からはdataclassを利用できるが，それ以前はnamedtupleを使うとよい．ここではnamedtupleの使い方を確認する"
   ]
  },
  {
   "cell_type": "code",
   "execution_count": 38,
   "metadata": {
    "ExecuteTime": {
     "end_time": "2020-12-19T16:25:49.097211Z",
     "start_time": "2020-12-19T16:25:49.084247Z"
    }
   },
   "outputs": [],
   "source": [
    "import numpy as np\n",
    "from copy import deepcopy, copy\n",
    "from collections import namedtuple\n",
    "from typing import NamedTuple"
   ]
  },
  {
   "cell_type": "markdown",
   "metadata": {},
   "source": [
    "### シンプルな使い方 "
   ]
  },
  {
   "cell_type": "markdown",
   "metadata": {},
   "source": [
    "namedtupleは簡易的なクラスのように利用する．クラス名のようにそのデータ形式に名前をつけ，そのデータ形式を定義する．一度定義してしまえば，クラスのコンストラクタのように値を代入できる．ドックストリング等も表示されるので便利．"
   ]
  },
  {
   "cell_type": "code",
   "execution_count": 35,
   "metadata": {
    "ExecuteTime": {
     "end_time": "2020-12-19T16:10:13.085307Z",
     "start_time": "2020-12-19T16:10:13.065360Z"
    }
   },
   "outputs": [],
   "source": [
    "field_list = [\"cash\", \"unit_number\", \"price_array\"]\n",
    "StockState = namedtuple(\"StockState\", field_list)"
   ]
  },
  {
   "cell_type": "markdown",
   "metadata": {},
   "source": [
    "通常は，上のようにnamedtupleの返り値を第一引数のデータ形式名とする．第二引数にはデータのフィールドのリストを与える．クラスにおけるアトリビュート名である．"
   ]
  },
  {
   "cell_type": "code",
   "execution_count": 36,
   "metadata": {
    "ExecuteTime": {
     "end_time": "2020-12-19T16:17:14.716774Z",
     "start_time": "2020-12-19T16:17:14.671898Z"
    }
   },
   "outputs": [
    {
     "name": "stdout",
     "output_type": "stream",
     "text": [
      "StockState(cash=100000.0, unit_number=100, price_array=array([1100, 1110, 1200, 1210]))\n"
     ]
    }
   ],
   "source": [
    "cash = 1.e5  # 現金\n",
    "unit_number = 100  # 保有単元数\n",
    "price_array = np.array([1100, 1110, 1200, 1210])  # 株式価格の時系列\n",
    "\n",
    "stock_state_1 = StockState(cash, unit_number=unit_number, price_array=price_array)\n",
    "print(stock_state_1)"
   ]
  },
  {
   "cell_type": "markdown",
   "metadata": {},
   "source": [
    "ここで注意しなければならないのは，namedtuple自体はイミュータブルであるが，フィールドはミュータブルにできる．しかしフィールドの値を変更することは危険である．"
   ]
  },
  {
   "cell_type": "markdown",
   "metadata": {},
   "source": [
    "値の参照は，通常のクラスアトリビュートのようにドットアクセスでき，さらに普通のタプルのように整数インデックスを利用できる．"
   ]
  },
  {
   "cell_type": "code",
   "execution_count": 37,
   "metadata": {
    "ExecuteTime": {
     "end_time": "2020-12-19T16:22:42.753536Z",
     "start_time": "2020-12-19T16:22:42.741565Z"
    }
   },
   "outputs": [
    {
     "name": "stdout",
     "output_type": "stream",
     "text": [
      "100000.0\n",
      "100\n"
     ]
    }
   ],
   "source": [
    "print(stock_state_1.cash)\n",
    "print(stock_state_1[1])  # unit_number"
   ]
  },
  {
   "cell_type": "markdown",
   "metadata": {},
   "source": [
    "### 便利なメソッド "
   ]
  },
  {
   "cell_type": "markdown",
   "metadata": {},
   "source": [
    "#### 値の一部を変更した新しいオブジェクトを返す`_replace` "
   ]
  },
  {
   "cell_type": "markdown",
   "metadata": {},
   "source": [
    "何も指定しないと，コピーが返る．"
   ]
  },
  {
   "cell_type": "code",
   "execution_count": 61,
   "metadata": {
    "ExecuteTime": {
     "end_time": "2020-12-19T17:47:20.586074Z",
     "start_time": "2020-12-19T17:47:20.561143Z"
    }
   },
   "outputs": [
    {
     "data": {
      "text/plain": [
       "StockState(cash=100, unit_number=100, price_array=array([1100, 1110, 1200, 1210]))"
      ]
     },
     "execution_count": 61,
     "metadata": {},
     "output_type": "execute_result"
    }
   ],
   "source": [
    "stock_state_1_v2 = stock_state_1._replace(cash=100)\n",
    "stock_state_1_v2"
   ]
  },
  {
   "cell_type": "markdown",
   "metadata": {},
   "source": [
    "#### フィールドのリスト`_fields` "
   ]
  },
  {
   "cell_type": "code",
   "execution_count": 62,
   "metadata": {
    "ExecuteTime": {
     "end_time": "2020-12-19T17:48:30.427304Z",
     "start_time": "2020-12-19T17:48:30.412346Z"
    }
   },
   "outputs": [
    {
     "data": {
      "text/plain": [
       "('cash', 'unit_number', 'price_array')"
      ]
     },
     "execution_count": 62,
     "metadata": {},
     "output_type": "execute_result"
    }
   ],
   "source": [
    "stock_state_1._fields"
   ]
  },
  {
   "cell_type": "markdown",
   "metadata": {},
   "source": [
    "この方法で定義したデータ形式はクラスとして継承なども行うことができるが，つかいどころはなさそう？"
   ]
  },
  {
   "cell_type": "markdown",
   "metadata": {},
   "source": [
    "### クラスとして定義 "
   ]
  },
  {
   "cell_type": "markdown",
   "metadata": {},
   "source": [
    "デフォルト値を与えたり，型指定を行う場合はクラスとして定義するのが便利．その場合`typing.NamedTuple`を継承する．しかし，デフォルト引数をあたえるならすべてのフィールドにデフォルト引数を与えなければならないことに注意する．さらに，この方法ではすべてのフィールドに型ヒントを与える必要がある．"
   ]
  },
  {
   "cell_type": "code",
   "execution_count": 56,
   "metadata": {
    "ExecuteTime": {
     "end_time": "2020-12-19T16:45:09.207571Z",
     "start_time": "2020-12-19T16:45:09.166692Z"
    }
   },
   "outputs": [],
   "source": [
    "class StockState2(NamedTuple):\n",
    "    cash:int\n",
    "    unit_number:int\n",
    "    price_array:np.ndarray"
   ]
  },
  {
   "cell_type": "code",
   "execution_count": 53,
   "metadata": {
    "ExecuteTime": {
     "end_time": "2020-12-19T16:44:11.991583Z",
     "start_time": "2020-12-19T16:44:11.946700Z"
    }
   },
   "outputs": [
    {
     "ename": "TypeError",
     "evalue": "Non-default namedtuple field unit_number cannot follow default field(s) cash",
     "output_type": "error",
     "traceback": [
      "\u001b[1;31m---------------------------------------------------------------------------\u001b[0m",
      "\u001b[1;31mTypeError\u001b[0m                                 Traceback (most recent call last)",
      "\u001b[1;32m<ipython-input-53-66cafa26ae05>\u001b[0m in \u001b[0;36m<module>\u001b[1;34m\u001b[0m\n\u001b[1;32m----> 1\u001b[1;33m \u001b[1;32mclass\u001b[0m \u001b[0mStockState3\u001b[0m\u001b[1;33m(\u001b[0m\u001b[0mNamedTuple\u001b[0m\u001b[1;33m)\u001b[0m\u001b[1;33m:\u001b[0m\u001b[1;33m\u001b[0m\u001b[1;33m\u001b[0m\u001b[0m\n\u001b[0m\u001b[0;32m      2\u001b[0m     \u001b[0mcash\u001b[0m\u001b[1;33m:\u001b[0m\u001b[0mint\u001b[0m \u001b[1;33m=\u001b[0m \u001b[1;36m100\u001b[0m\u001b[1;33m\u001b[0m\u001b[1;33m\u001b[0m\u001b[0m\n\u001b[0;32m      3\u001b[0m     \u001b[0munit_number\u001b[0m\u001b[1;33m:\u001b[0m\u001b[0mint\u001b[0m\u001b[1;33m\u001b[0m\u001b[1;33m\u001b[0m\u001b[0m\n",
      "\u001b[1;32m~\\Anaconda3\\envs\\torch_py37\\lib\\typing.py\u001b[0m in \u001b[0;36m__new__\u001b[1;34m(cls, typename, bases, ns)\u001b[0m\n\u001b[0;32m   1365\u001b[0m                                 \u001b[1;34m\"follow default field(s) {default_names}\"\u001b[0m\u001b[1;33m\u001b[0m\u001b[1;33m\u001b[0m\u001b[0m\n\u001b[0;32m   1366\u001b[0m                                 .format(field_name=field_name,\n\u001b[1;32m-> 1367\u001b[1;33m                                         default_names=', '.join(defaults_dict.keys())))\n\u001b[0m\u001b[0;32m   1368\u001b[0m         \u001b[0mnm_tpl\u001b[0m\u001b[1;33m.\u001b[0m\u001b[0m__new__\u001b[0m\u001b[1;33m.\u001b[0m\u001b[0m__annotations__\u001b[0m \u001b[1;33m=\u001b[0m \u001b[0mcollections\u001b[0m\u001b[1;33m.\u001b[0m\u001b[0mOrderedDict\u001b[0m\u001b[1;33m(\u001b[0m\u001b[0mtypes\u001b[0m\u001b[1;33m)\u001b[0m\u001b[1;33m\u001b[0m\u001b[1;33m\u001b[0m\u001b[0m\n\u001b[0;32m   1369\u001b[0m         \u001b[0mnm_tpl\u001b[0m\u001b[1;33m.\u001b[0m\u001b[0m__new__\u001b[0m\u001b[1;33m.\u001b[0m\u001b[0m__defaults__\u001b[0m \u001b[1;33m=\u001b[0m \u001b[0mtuple\u001b[0m\u001b[1;33m(\u001b[0m\u001b[0mdefaults\u001b[0m\u001b[1;33m)\u001b[0m\u001b[1;33m\u001b[0m\u001b[1;33m\u001b[0m\u001b[0m\n",
      "\u001b[1;31mTypeError\u001b[0m: Non-default namedtuple field unit_number cannot follow default field(s) cash"
     ]
    }
   ],
   "source": [
    "class StockState3(NamedTuple):\n",
    "    cash:int = 100\n",
    "    unit_number:int"
   ]
  },
  {
   "cell_type": "code",
   "execution_count": 58,
   "metadata": {
    "ExecuteTime": {
     "end_time": "2020-12-19T16:47:12.779114Z",
     "start_time": "2020-12-19T16:47:12.764153Z"
    }
   },
   "outputs": [
    {
     "name": "stdout",
     "output_type": "stream",
     "text": [
      "StockState2(cash=100000.0, unit_number=100, price_array=array([1100, 1110, 1200, 1210]))\n"
     ]
    }
   ],
   "source": [
    "stock_state2 = StockState2(cash=cash, unit_number=unit_number, price_array=price_array)\n",
    "print(stock_state2)"
   ]
  }
 ],
 "metadata": {
  "kernelspec": {
   "display_name": "torch_py37",
   "language": "python",
   "name": "torch_py37"
  },
  "language_info": {
   "codemirror_mode": {
    "name": "ipython",
    "version": 3
   },
   "file_extension": ".py",
   "mimetype": "text/x-python",
   "name": "python",
   "nbconvert_exporter": "python",
   "pygments_lexer": "ipython3",
   "version": "3.7.4"
  },
  "toc": {
   "base_numbering": 1,
   "nav_menu": {},
   "number_sections": true,
   "sideBar": true,
   "skip_h1_title": true,
   "title_cell": "Table of Contents",
   "title_sidebar": "Contents",
   "toc_cell": false,
   "toc_position": {},
   "toc_section_display": true,
   "toc_window_display": false
  }
 },
 "nbformat": 4,
 "nbformat_minor": 4
}
