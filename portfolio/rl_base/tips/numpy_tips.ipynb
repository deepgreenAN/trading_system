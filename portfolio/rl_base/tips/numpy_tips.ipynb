{
 "cells": [
  {
   "cell_type": "markdown",
   "metadata": {},
   "source": [
    "## np.randomについて "
   ]
  },
  {
   "cell_type": "markdown",
   "metadata": {},
   "source": [
    "`numpy.random.seed`等でシード値を固定してしまうと，グローバルなnumpyに影響してしまう．そこで，`numpy.random`の`Generator`と`BitGenerator`が利用できる．ただし自分のv1-15環境では利用できなかった．そこで，レガシーコードである`Randomstate`を利用する．"
   ]
  },
  {
   "cell_type": "markdown",
   "metadata": {},
   "source": [
    "[参考はこちら](https://numpy.org/doc/stable/reference/random/index.html)  \n",
    "[レガシーコードについてはこちら](https://numpy.org/doc/stable/reference/random/legacy.html)"
   ]
  },
  {
   "cell_type": "code",
   "execution_count": 5,
   "metadata": {
    "ExecuteTime": {
     "end_time": "2020-12-10T14:32:50.225479Z",
     "start_time": "2020-12-10T14:32:50.185586Z"
    }
   },
   "outputs": [],
   "source": [
    "from numpy.random import RandomState"
   ]
  },
  {
   "cell_type": "code",
   "execution_count": 25,
   "metadata": {
    "ExecuteTime": {
     "end_time": "2020-12-10T14:35:29.085651Z",
     "start_time": "2020-12-10T14:35:29.073679Z"
    }
   },
   "outputs": [],
   "source": [
    "seed = 123\n",
    "rs = RandomState(seed)"
   ]
  },
  {
   "cell_type": "code",
   "execution_count": 26,
   "metadata": {
    "ExecuteTime": {
     "end_time": "2020-12-10T14:35:29.425741Z",
     "start_time": "2020-12-10T14:35:29.397812Z"
    }
   },
   "outputs": [
    {
     "data": {
      "text/plain": [
       "array([[2, 2],\n",
       "       [6, 1]])"
      ]
     },
     "execution_count": 26,
     "metadata": {},
     "output_type": "execute_result"
    }
   ],
   "source": [
    "rs.randint(0, 10, (2,2))"
   ]
  },
  {
   "cell_type": "markdown",
   "metadata": {},
   "source": [
    "このメソッドを呼び出した回数ごとに，対応したndarrayが出力される．そこで，コンストラクタと同時に実行すれば，値を固定できる．"
   ]
  },
  {
   "cell_type": "code",
   "execution_count": 34,
   "metadata": {
    "ExecuteTime": {
     "end_time": "2020-12-10T14:40:58.309223Z",
     "start_time": "2020-12-10T14:40:58.286282Z"
    }
   },
   "outputs": [
    {
     "data": {
      "text/plain": [
       "array([[5, 9],\n",
       "       [4, 5]])"
      ]
     },
     "execution_count": 34,
     "metadata": {},
     "output_type": "execute_result"
    }
   ],
   "source": [
    "seed = 456\n",
    "RandomState(seed).randint(0, 10, (2,2))"
   ]
  },
  {
   "cell_type": "markdown",
   "metadata": {},
   "source": [
    "seedにNoneを指定すれば，シードを指定しないのと同じ結果となる．"
   ]
  },
  {
   "cell_type": "code",
   "execution_count": 69,
   "metadata": {
    "ExecuteTime": {
     "end_time": "2020-12-10T15:38:41.045483Z",
     "start_time": "2020-12-10T15:38:41.022544Z"
    }
   },
   "outputs": [
    {
     "data": {
      "text/plain": [
       "array([[5, 8],\n",
       "       [1, 1]])"
      ]
     },
     "execution_count": 69,
     "metadata": {},
     "output_type": "execute_result"
    }
   ],
   "source": [
    "seed = None\n",
    "RandomState(seed).randint(0, 10, (2,2))"
   ]
  },
  {
   "cell_type": "markdown",
   "metadata": {},
   "source": [
    "## indexの取得について "
   ]
  },
  {
   "cell_type": "markdown",
   "metadata": {},
   "source": [
    "特定の条件を満たすindexのarrayを取得するには，`np.where`があるが，速度が気になる場合がある．以下のように，1d-arrayにおいて条件を満たす最初のインデックスを求めたいとき，以下のようにbool arrayの`sum`代替できる．"
   ]
  },
  {
   "cell_type": "code",
   "execution_count": 61,
   "metadata": {
    "ExecuteTime": {
     "end_time": "2020-12-10T14:52:02.394297Z",
     "start_time": "2020-12-10T14:52:02.357393Z"
    }
   },
   "outputs": [],
   "source": [
    "import numpy as np"
   ]
  },
  {
   "cell_type": "code",
   "execution_count": 62,
   "metadata": {
    "ExecuteTime": {
     "end_time": "2020-12-10T14:52:06.107369Z",
     "start_time": "2020-12-10T14:52:05.693471Z"
    }
   },
   "outputs": [],
   "source": [
    "wanted_index = 123000\n",
    "a = np.zeros(10000000)\n",
    "a[wanted_index:] = 1"
   ]
  },
  {
   "cell_type": "code",
   "execution_count": 63,
   "metadata": {
    "ExecuteTime": {
     "end_time": "2020-12-10T14:52:07.291196Z",
     "start_time": "2020-12-10T14:52:06.894258Z"
    }
   },
   "outputs": [
    {
     "data": {
      "text/plain": [
       "123000"
      ]
     },
     "execution_count": 63,
     "metadata": {},
     "output_type": "execute_result"
    }
   ],
   "source": [
    "indice = np.where(a>0)[0]\n",
    "indice[0]"
   ]
  },
  {
   "cell_type": "code",
   "execution_count": 64,
   "metadata": {
    "ExecuteTime": {
     "end_time": "2020-12-10T14:52:07.854691Z",
     "start_time": "2020-12-10T14:52:07.757949Z"
    }
   },
   "outputs": [
    {
     "data": {
      "text/plain": [
       "123000"
      ]
     },
     "execution_count": 64,
     "metadata": {},
     "output_type": "execute_result"
    }
   ],
   "source": [
    "(a < 1).sum()"
   ]
  },
  {
   "cell_type": "markdown",
   "metadata": {},
   "source": [
    "## numpyの合同判定について "
   ]
  },
  {
   "cell_type": "markdown",
   "metadata": {},
   "source": [
    "ndarrayに条件判定してもブールのndarrayが返ってくるだけであり，二つのndarrayが同一か判定するには，`np.array_equal`を利用する．  \n",
    "[参考はこちら](https://numpy.org/doc/stable/reference/generated/numpy.array_equal.html)"
   ]
  },
  {
   "cell_type": "code",
   "execution_count": 70,
   "metadata": {
    "ExecuteTime": {
     "end_time": "2020-12-10T16:04:01.510509Z",
     "start_time": "2020-12-10T16:04:01.499535Z"
    }
   },
   "outputs": [],
   "source": [
    "import numpy as np"
   ]
  },
  {
   "cell_type": "code",
   "execution_count": 71,
   "metadata": {
    "ExecuteTime": {
     "end_time": "2020-12-10T16:14:53.621842Z",
     "start_time": "2020-12-10T16:14:53.589926Z"
    }
   },
   "outputs": [
    {
     "data": {
      "text/plain": [
       "True"
      ]
     },
     "execution_count": 71,
     "metadata": {},
     "output_type": "execute_result"
    }
   ],
   "source": [
    "a = np.array([0,1,2,3,4,5])\n",
    "b = np.arange(0,6)\n",
    "np.array_equal(a,b)"
   ]
  },
  {
   "cell_type": "markdown",
   "metadata": {},
   "source": [
    "大体等しい(ある範囲内に誤差が入る)のを判定する場合は，`numpy.allclose`が利用できる．(値の大きさに比例する誤差も指定できる)  \n",
    "[参考1](http://oppython.hatenablog.com/entry/2015/05/29/020902)  \n",
    "[参考2](https://numpy.org/doc/stable/reference/generated/numpy.allclose.html)"
   ]
  },
  {
   "cell_type": "code",
   "execution_count": 72,
   "metadata": {
    "ExecuteTime": {
     "end_time": "2020-12-10T16:19:09.994644Z",
     "start_time": "2020-12-10T16:19:09.962734Z"
    }
   },
   "outputs": [
    {
     "data": {
      "text/plain": [
       "True"
      ]
     },
     "execution_count": 72,
     "metadata": {},
     "output_type": "execute_result"
    }
   ],
   "source": [
    "a = np.ones(1000)\n",
    "b = a - 0.0001\n",
    "np.allclose(a,b,atol=0.01)"
   ]
  },
  {
   "cell_type": "code",
   "execution_count": 73,
   "metadata": {
    "ExecuteTime": {
     "end_time": "2020-12-10T16:19:25.660752Z",
     "start_time": "2020-12-10T16:19:25.637810Z"
    }
   },
   "outputs": [
    {
     "data": {
      "text/plain": [
       "False"
      ]
     },
     "execution_count": 73,
     "metadata": {},
     "output_type": "execute_result"
    }
   ],
   "source": [
    "a = np.ones(1000)\n",
    "b = a - 0.011\n",
    "np.allclose(a,b,atol=0.01)"
   ]
  },
  {
   "cell_type": "markdown",
   "metadata": {},
   "source": [
    "object型でも比較できる"
   ]
  },
  {
   "cell_type": "code",
   "execution_count": 75,
   "metadata": {
    "ExecuteTime": {
     "end_time": "2020-12-10T16:21:51.486778Z",
     "start_time": "2020-12-10T16:21:51.459847Z"
    }
   },
   "outputs": [
    {
     "data": {
      "text/plain": [
       "True"
      ]
     },
     "execution_count": 75,
     "metadata": {},
     "output_type": "execute_result"
    }
   ],
   "source": [
    "a = np.array([\"a\"]*1000).astype(object)\n",
    "b = np.array([\"a\"]*1000).astype(object)\n",
    "\n",
    "np.array_equal(a,b)"
   ]
  },
  {
   "cell_type": "markdown",
   "metadata": {},
   "source": [
    "## pd.DataFrameの同一判定について "
   ]
  },
  {
   "cell_type": "markdown",
   "metadata": {},
   "source": [
    "`pandas.DataFrame.equals`や`pandas.Index.equals`が利用できる．"
   ]
  },
  {
   "cell_type": "code",
   "execution_count": 79,
   "metadata": {
    "ExecuteTime": {
     "end_time": "2020-12-10T16:38:19.456184Z",
     "start_time": "2020-12-10T16:38:19.447208Z"
    }
   },
   "outputs": [],
   "source": [
    "import pandas as pd\n",
    "import datetime"
   ]
  },
  {
   "cell_type": "code",
   "execution_count": 77,
   "metadata": {
    "ExecuteTime": {
     "end_time": "2020-12-10T16:36:07.628724Z",
     "start_time": "2020-12-10T16:36:07.579854Z"
    }
   },
   "outputs": [
    {
     "data": {
      "text/plain": [
       "True"
      ]
     },
     "execution_count": 77,
     "metadata": {},
     "output_type": "execute_result"
    }
   ],
   "source": [
    "a = pd.DataFrame([[1,2,3],[4,5,6],[7,8,9]])\n",
    "\n",
    "b = pd.DataFrame([[1,2,3],[4,5,6],[7,8,9]])\n",
    "a.equals(b)"
   ]
  },
  {
   "cell_type": "markdown",
   "metadata": {},
   "source": [
    "seriesの場合，`name`を指定しなくても同一判定される．"
   ]
  },
  {
   "cell_type": "code",
   "execution_count": 78,
   "metadata": {
    "ExecuteTime": {
     "end_time": "2020-12-10T16:36:57.272964Z",
     "start_time": "2020-12-10T16:36:57.246037Z"
    }
   },
   "outputs": [
    {
     "data": {
      "text/plain": [
       "True"
      ]
     },
     "execution_count": 78,
     "metadata": {},
     "output_type": "execute_result"
    }
   ],
   "source": [
    "a = pd.Series([1,2,3,4,5],name=\"A\")\n",
    "b = pd.Series([1,2,3,4,5])\n",
    "\n",
    "a.equals(b)"
   ]
  },
  {
   "cell_type": "code",
   "execution_count": 80,
   "metadata": {
    "ExecuteTime": {
     "end_time": "2020-12-10T16:39:37.724871Z",
     "start_time": "2020-12-10T16:39:37.682985Z"
    }
   },
   "outputs": [
    {
     "data": {
      "text/plain": [
       "True"
      ]
     },
     "execution_count": 80,
     "metadata": {},
     "output_type": "execute_result"
    }
   ],
   "source": [
    "a = pd.date_range(datetime.datetime(2020,12,11,0,0,0), datetime.datetime(2020,12,12,0,0,0), freq=\"D\")\n",
    "b = pd.date_range(datetime.datetime(2020,12,11,0,0,0), datetime.datetime(2020,12,12,0,0,0), freq=\"D\")\n",
    "\n",
    "a.equals(b)"
   ]
  },
  {
   "cell_type": "markdown",
   "metadata": {},
   "source": [
    "## numpyの「入っているか」判定"
   ]
  },
  {
   "cell_type": "markdown",
   "metadata": {},
   "source": [
    "### ndarrayとndarray同士で比較 "
   ]
  },
  {
   "cell_type": "markdown",
   "metadata": {},
   "source": [
    "numpy.in1dが利用できる．"
   ]
  },
  {
   "cell_type": "code",
   "execution_count": 82,
   "metadata": {
    "ExecuteTime": {
     "end_time": "2020-12-11T17:29:18.755202Z",
     "start_time": "2020-12-11T17:29:18.571700Z"
    }
   },
   "outputs": [
    {
     "data": {
      "text/plain": [
       "array([False, False,  True,  True,  True])"
      ]
     },
     "execution_count": 82,
     "metadata": {},
     "output_type": "execute_result"
    }
   ],
   "source": [
    "a = np.array([1,2,3,4,5])\n",
    "b = np.array([10,9,8,7,6,5,4,3])\n",
    "\n",
    "np.in1d(a,b)"
   ]
  },
  {
   "cell_type": "markdown",
   "metadata": {},
   "source": [
    "集合演算の場合，setにして比較するしかないらしい．"
   ]
  },
  {
   "cell_type": "code",
   "execution_count": 83,
   "metadata": {
    "ExecuteTime": {
     "end_time": "2020-12-11T17:39:08.313137Z",
     "start_time": "2020-12-11T17:39:08.227362Z"
    }
   },
   "outputs": [
    {
     "name": "stdout",
     "output_type": "stream",
     "text": [
      "False\n",
      "True\n"
     ]
    }
   ],
   "source": [
    "c = np.array([3,4,5])\n",
    "print(set(a)<set(b))\n",
    "print(set(c)<set(b))"
   ]
  },
  {
   "cell_type": "markdown",
   "metadata": {},
   "source": [
    "### 数値型とndarrayで比較 "
   ]
  },
  {
   "cell_type": "code",
   "execution_count": 88,
   "metadata": {
    "ExecuteTime": {
     "end_time": "2020-12-11T17:41:31.832329Z",
     "start_time": "2020-12-11T17:41:31.820359Z"
    }
   },
   "outputs": [],
   "source": [
    "a = np.array([13800])\n",
    "b = np.arange(0,15000)"
   ]
  },
  {
   "cell_type": "code",
   "execution_count": 100,
   "metadata": {
    "ExecuteTime": {
     "end_time": "2020-12-11T17:42:45.493344Z",
     "start_time": "2020-12-11T17:42:45.471399Z"
    }
   },
   "outputs": [
    {
     "data": {
      "text/plain": [
       "True"
      ]
     },
     "execution_count": 100,
     "metadata": {},
     "output_type": "execute_result"
    }
   ],
   "source": [
    "np.in1d(a,b).item()"
   ]
  },
  {
   "cell_type": "code",
   "execution_count": 103,
   "metadata": {
    "ExecuteTime": {
     "end_time": "2020-12-11T17:42:52.340032Z",
     "start_time": "2020-12-11T17:42:52.325069Z"
    }
   },
   "outputs": [
    {
     "data": {
      "text/plain": [
       "True"
      ]
     },
     "execution_count": 103,
     "metadata": {},
     "output_type": "execute_result"
    }
   ],
   "source": [
    "(a==b).sum() > 0"
   ]
  }
 ],
 "metadata": {
  "kernelspec": {
   "display_name": "torch_py37",
   "language": "python",
   "name": "torch_py37"
  },
  "language_info": {
   "codemirror_mode": {
    "name": "ipython",
    "version": 3
   },
   "file_extension": ".py",
   "mimetype": "text/x-python",
   "name": "python",
   "nbconvert_exporter": "python",
   "pygments_lexer": "ipython3",
   "version": "3.7.4"
  },
  "toc": {
   "base_numbering": 1,
   "nav_menu": {},
   "number_sections": true,
   "sideBar": true,
   "skip_h1_title": true,
   "title_cell": "Table of Contents",
   "title_sidebar": "Contents",
   "toc_cell": false,
   "toc_position": {},
   "toc_section_display": true,
   "toc_window_display": false
  }
 },
 "nbformat": 4,
 "nbformat_minor": 4
}
