{
 "cells": [
  {
   "cell_type": "code",
   "execution_count": 2,
   "metadata": {
    "ExecuteTime": {
     "end_time": "2020-11-16T18:43:32.398676Z",
     "start_time": "2020-11-16T18:43:32.367760Z"
    }
   },
   "outputs": [
    {
     "name": "stdout",
     "output_type": "stream",
     "text": [
      "E:\\システムトレード入門\\predict_git_workspace\n"
     ]
    }
   ],
   "source": [
    "%cd .."
   ]
  },
  {
   "cell_type": "code",
   "execution_count": 3,
   "metadata": {
    "ExecuteTime": {
     "end_time": "2020-11-16T18:43:32.429592Z",
     "start_time": "2020-11-16T18:43:32.408651Z"
    }
   },
   "outputs": [],
   "source": [
    "from pathlib import Path\n",
    "from pytz import timezone\n",
    "import datetime\n",
    "import time"
   ]
  },
  {
   "cell_type": "code",
   "execution_count": 4,
   "metadata": {
    "ExecuteTime": {
     "end_time": "2020-11-16T18:43:33.934727Z",
     "start_time": "2020-11-16T18:43:32.461509Z"
    }
   },
   "outputs": [],
   "source": [
    "from visualization import BokehCandleStickDB, static_candlestick\n",
    "from get_stock_price import StockDatabase"
   ]
  },
  {
   "cell_type": "code",
   "execution_count": 5,
   "metadata": {
    "ExecuteTime": {
     "end_time": "2020-11-16T18:43:35.966144Z",
     "start_time": "2020-11-16T18:43:35.883372Z"
    }
   },
   "outputs": [
    {
     "data": {
      "text/html": [
       "\n",
       "    <div class=\"bk-root\">\n",
       "        <a href=\"https://bokeh.org\" target=\"_blank\" class=\"bk-logo bk-logo-small bk-logo-notebook\"></a>\n",
       "        <span id=\"1002\">Loading BokehJS ...</span>\n",
       "    </div>"
      ]
     },
     "metadata": {},
     "output_type": "display_data"
    },
    {
     "data": {
      "application/javascript": [
       "\n",
       "(function(root) {\n",
       "  function now() {\n",
       "    return new Date();\n",
       "  }\n",
       "\n",
       "  var force = true;\n",
       "\n",
       "  if (typeof root._bokeh_onload_callbacks === \"undefined\" || force === true) {\n",
       "    root._bokeh_onload_callbacks = [];\n",
       "    root._bokeh_is_loading = undefined;\n",
       "  }\n",
       "\n",
       "  var JS_MIME_TYPE = 'application/javascript';\n",
       "  var HTML_MIME_TYPE = 'text/html';\n",
       "  var EXEC_MIME_TYPE = 'application/vnd.bokehjs_exec.v0+json';\n",
       "  var CLASS_NAME = 'output_bokeh rendered_html';\n",
       "\n",
       "  /**\n",
       "   * Render data to the DOM node\n",
       "   */\n",
       "  function render(props, node) {\n",
       "    var script = document.createElement(\"script\");\n",
       "    node.appendChild(script);\n",
       "  }\n",
       "\n",
       "  /**\n",
       "   * Handle when an output is cleared or removed\n",
       "   */\n",
       "  function handleClearOutput(event, handle) {\n",
       "    var cell = handle.cell;\n",
       "\n",
       "    var id = cell.output_area._bokeh_element_id;\n",
       "    var server_id = cell.output_area._bokeh_server_id;\n",
       "    // Clean up Bokeh references\n",
       "    if (id != null && id in Bokeh.index) {\n",
       "      Bokeh.index[id].model.document.clear();\n",
       "      delete Bokeh.index[id];\n",
       "    }\n",
       "\n",
       "    if (server_id !== undefined) {\n",
       "      // Clean up Bokeh references\n",
       "      var cmd = \"from bokeh.io.state import curstate; print(curstate().uuid_to_server['\" + server_id + \"'].get_sessions()[0].document.roots[0]._id)\";\n",
       "      cell.notebook.kernel.execute(cmd, {\n",
       "        iopub: {\n",
       "          output: function(msg) {\n",
       "            var id = msg.content.text.trim();\n",
       "            if (id in Bokeh.index) {\n",
       "              Bokeh.index[id].model.document.clear();\n",
       "              delete Bokeh.index[id];\n",
       "            }\n",
       "          }\n",
       "        }\n",
       "      });\n",
       "      // Destroy server and session\n",
       "      var cmd = \"import bokeh.io.notebook as ion; ion.destroy_server('\" + server_id + \"')\";\n",
       "      cell.notebook.kernel.execute(cmd);\n",
       "    }\n",
       "  }\n",
       "\n",
       "  /**\n",
       "   * Handle when a new output is added\n",
       "   */\n",
       "  function handleAddOutput(event, handle) {\n",
       "    var output_area = handle.output_area;\n",
       "    var output = handle.output;\n",
       "\n",
       "    // limit handleAddOutput to display_data with EXEC_MIME_TYPE content only\n",
       "    if ((output.output_type != \"display_data\") || (!output.data.hasOwnProperty(EXEC_MIME_TYPE))) {\n",
       "      return\n",
       "    }\n",
       "\n",
       "    var toinsert = output_area.element.find(\".\" + CLASS_NAME.split(' ')[0]);\n",
       "\n",
       "    if (output.metadata[EXEC_MIME_TYPE][\"id\"] !== undefined) {\n",
       "      toinsert[toinsert.length - 1].firstChild.textContent = output.data[JS_MIME_TYPE];\n",
       "      // store reference to embed id on output_area\n",
       "      output_area._bokeh_element_id = output.metadata[EXEC_MIME_TYPE][\"id\"];\n",
       "    }\n",
       "    if (output.metadata[EXEC_MIME_TYPE][\"server_id\"] !== undefined) {\n",
       "      var bk_div = document.createElement(\"div\");\n",
       "      bk_div.innerHTML = output.data[HTML_MIME_TYPE];\n",
       "      var script_attrs = bk_div.children[0].attributes;\n",
       "      for (var i = 0; i < script_attrs.length; i++) {\n",
       "        toinsert[toinsert.length - 1].firstChild.setAttribute(script_attrs[i].name, script_attrs[i].value);\n",
       "        toinsert[toinsert.length - 1].firstChild.textContent = bk_div.children[0].textContent\n",
       "      }\n",
       "      // store reference to server id on output_area\n",
       "      output_area._bokeh_server_id = output.metadata[EXEC_MIME_TYPE][\"server_id\"];\n",
       "    }\n",
       "  }\n",
       "\n",
       "  function register_renderer(events, OutputArea) {\n",
       "\n",
       "    function append_mime(data, metadata, element) {\n",
       "      // create a DOM node to render to\n",
       "      var toinsert = this.create_output_subarea(\n",
       "        metadata,\n",
       "        CLASS_NAME,\n",
       "        EXEC_MIME_TYPE\n",
       "      );\n",
       "      this.keyboard_manager.register_events(toinsert);\n",
       "      // Render to node\n",
       "      var props = {data: data, metadata: metadata[EXEC_MIME_TYPE]};\n",
       "      render(props, toinsert[toinsert.length - 1]);\n",
       "      element.append(toinsert);\n",
       "      return toinsert\n",
       "    }\n",
       "\n",
       "    /* Handle when an output is cleared or removed */\n",
       "    events.on('clear_output.CodeCell', handleClearOutput);\n",
       "    events.on('delete.Cell', handleClearOutput);\n",
       "\n",
       "    /* Handle when a new output is added */\n",
       "    events.on('output_added.OutputArea', handleAddOutput);\n",
       "\n",
       "    /**\n",
       "     * Register the mime type and append_mime function with output_area\n",
       "     */\n",
       "    OutputArea.prototype.register_mime_type(EXEC_MIME_TYPE, append_mime, {\n",
       "      /* Is output safe? */\n",
       "      safe: true,\n",
       "      /* Index of renderer in `output_area.display_order` */\n",
       "      index: 0\n",
       "    });\n",
       "  }\n",
       "\n",
       "  // register the mime type if in Jupyter Notebook environment and previously unregistered\n",
       "  if (root.Jupyter !== undefined) {\n",
       "    var events = require('base/js/events');\n",
       "    var OutputArea = require('notebook/js/outputarea').OutputArea;\n",
       "\n",
       "    if (OutputArea.prototype.mime_types().indexOf(EXEC_MIME_TYPE) == -1) {\n",
       "      register_renderer(events, OutputArea);\n",
       "    }\n",
       "  }\n",
       "\n",
       "  \n",
       "  if (typeof (root._bokeh_timeout) === \"undefined\" || force === true) {\n",
       "    root._bokeh_timeout = Date.now() + 5000;\n",
       "    root._bokeh_failed_load = false;\n",
       "  }\n",
       "\n",
       "  var NB_LOAD_WARNING = {'data': {'text/html':\n",
       "     \"<div style='background-color: #fdd'>\\n\"+\n",
       "     \"<p>\\n\"+\n",
       "     \"BokehJS does not appear to have successfully loaded. If loading BokehJS from CDN, this \\n\"+\n",
       "     \"may be due to a slow or bad network connection. Possible fixes:\\n\"+\n",
       "     \"</p>\\n\"+\n",
       "     \"<ul>\\n\"+\n",
       "     \"<li>re-rerun `output_notebook()` to attempt to load from CDN again, or</li>\\n\"+\n",
       "     \"<li>use INLINE resources instead, as so:</li>\\n\"+\n",
       "     \"</ul>\\n\"+\n",
       "     \"<code>\\n\"+\n",
       "     \"from bokeh.resources import INLINE\\n\"+\n",
       "     \"output_notebook(resources=INLINE)\\n\"+\n",
       "     \"</code>\\n\"+\n",
       "     \"</div>\"}};\n",
       "\n",
       "  function display_loaded() {\n",
       "    var el = document.getElementById(\"1002\");\n",
       "    if (el != null) {\n",
       "      el.textContent = \"BokehJS is loading...\";\n",
       "    }\n",
       "    if (root.Bokeh !== undefined) {\n",
       "      if (el != null) {\n",
       "        el.textContent = \"BokehJS \" + root.Bokeh.version + \" successfully loaded.\";\n",
       "      }\n",
       "    } else if (Date.now() < root._bokeh_timeout) {\n",
       "      setTimeout(display_loaded, 100)\n",
       "    }\n",
       "  }\n",
       "\n",
       "\n",
       "  function run_callbacks() {\n",
       "    try {\n",
       "      root._bokeh_onload_callbacks.forEach(function(callback) {\n",
       "        if (callback != null)\n",
       "          callback();\n",
       "      });\n",
       "    } finally {\n",
       "      delete root._bokeh_onload_callbacks\n",
       "    }\n",
       "    console.debug(\"Bokeh: all callbacks have finished\");\n",
       "  }\n",
       "\n",
       "  function load_libs(css_urls, js_urls, callback) {\n",
       "    if (css_urls == null) css_urls = [];\n",
       "    if (js_urls == null) js_urls = [];\n",
       "\n",
       "    root._bokeh_onload_callbacks.push(callback);\n",
       "    if (root._bokeh_is_loading > 0) {\n",
       "      console.debug(\"Bokeh: BokehJS is being loaded, scheduling callback at\", now());\n",
       "      return null;\n",
       "    }\n",
       "    if (js_urls == null || js_urls.length === 0) {\n",
       "      run_callbacks();\n",
       "      return null;\n",
       "    }\n",
       "    console.debug(\"Bokeh: BokehJS not loaded, scheduling load and callback at\", now());\n",
       "    root._bokeh_is_loading = css_urls.length + js_urls.length;\n",
       "\n",
       "    function on_load() {\n",
       "      root._bokeh_is_loading--;\n",
       "      if (root._bokeh_is_loading === 0) {\n",
       "        console.debug(\"Bokeh: all BokehJS libraries/stylesheets loaded\");\n",
       "        run_callbacks()\n",
       "      }\n",
       "    }\n",
       "\n",
       "    function on_error() {\n",
       "      console.error(\"failed to load \" + url);\n",
       "    }\n",
       "\n",
       "    for (var i = 0; i < css_urls.length; i++) {\n",
       "      var url = css_urls[i];\n",
       "      const element = document.createElement(\"link\");\n",
       "      element.onload = on_load;\n",
       "      element.onerror = on_error;\n",
       "      element.rel = \"stylesheet\";\n",
       "      element.type = \"text/css\";\n",
       "      element.href = url;\n",
       "      console.debug(\"Bokeh: injecting link tag for BokehJS stylesheet: \", url);\n",
       "      document.body.appendChild(element);\n",
       "    }\n",
       "\n",
       "    const hashes = {\"https://cdn.bokeh.org/bokeh/release/bokeh-2.2.3.min.js\": \"T2yuo9Oe71Cz/I4X9Ac5+gpEa5a8PpJCDlqKYO0CfAuEszu1JrXLl8YugMqYe3sM\", \"https://cdn.bokeh.org/bokeh/release/bokeh-widgets-2.2.3.min.js\": \"98GDGJ0kOMCUMUePhksaQ/GYgB3+NH9h996V88sh3aOiUNX3N+fLXAtry6xctSZ6\", \"https://cdn.bokeh.org/bokeh/release/bokeh-tables-2.2.3.min.js\": \"89bArO+nlbP3sgakeHjCo1JYxYR5wufVgA3IbUvDY+K7w4zyxJqssu7wVnfeKCq8\"};\n",
       "\n",
       "    for (var i = 0; i < js_urls.length; i++) {\n",
       "      var url = js_urls[i];\n",
       "      var element = document.createElement('script');\n",
       "      element.onload = on_load;\n",
       "      element.onerror = on_error;\n",
       "      element.async = false;\n",
       "      element.src = url;\n",
       "      if (url in hashes) {\n",
       "        element.crossOrigin = \"anonymous\";\n",
       "        element.integrity = \"sha384-\" + hashes[url];\n",
       "      }\n",
       "      console.debug(\"Bokeh: injecting script tag for BokehJS library: \", url);\n",
       "      document.head.appendChild(element);\n",
       "    }\n",
       "  };\n",
       "\n",
       "  function inject_raw_css(css) {\n",
       "    const element = document.createElement(\"style\");\n",
       "    element.appendChild(document.createTextNode(css));\n",
       "    document.body.appendChild(element);\n",
       "  }\n",
       "\n",
       "  \n",
       "  var js_urls = [\"https://cdn.bokeh.org/bokeh/release/bokeh-2.2.3.min.js\", \"https://cdn.bokeh.org/bokeh/release/bokeh-widgets-2.2.3.min.js\", \"https://cdn.bokeh.org/bokeh/release/bokeh-tables-2.2.3.min.js\"];\n",
       "  var css_urls = [];\n",
       "  \n",
       "\n",
       "  var inline_js = [\n",
       "    function(Bokeh) {\n",
       "      Bokeh.set_log_level(\"info\");\n",
       "    },\n",
       "    function(Bokeh) {\n",
       "    \n",
       "    \n",
       "    }\n",
       "  ];\n",
       "\n",
       "  function run_inline_js() {\n",
       "    \n",
       "    if (root.Bokeh !== undefined || force === true) {\n",
       "      \n",
       "    for (var i = 0; i < inline_js.length; i++) {\n",
       "      inline_js[i].call(root, root.Bokeh);\n",
       "    }\n",
       "    if (force === true) {\n",
       "        display_loaded();\n",
       "      }} else if (Date.now() < root._bokeh_timeout) {\n",
       "      setTimeout(run_inline_js, 100);\n",
       "    } else if (!root._bokeh_failed_load) {\n",
       "      console.log(\"Bokeh: BokehJS failed to load within specified timeout.\");\n",
       "      root._bokeh_failed_load = true;\n",
       "    } else if (force !== true) {\n",
       "      var cell = $(document.getElementById(\"1002\")).parents('.cell').data().cell;\n",
       "      cell.output_area.append_execute_result(NB_LOAD_WARNING)\n",
       "    }\n",
       "\n",
       "  }\n",
       "\n",
       "  if (root._bokeh_is_loading === 0) {\n",
       "    console.debug(\"Bokeh: BokehJS loaded, going straight to plotting\");\n",
       "    run_inline_js();\n",
       "  } else {\n",
       "    load_libs(css_urls, js_urls, function() {\n",
       "      console.debug(\"Bokeh: BokehJS plotting callback run at\", now());\n",
       "      run_inline_js();\n",
       "    });\n",
       "  }\n",
       "}(window));"
      ],
      "application/vnd.bokehjs_load.v0+json": "\n(function(root) {\n  function now() {\n    return new Date();\n  }\n\n  var force = true;\n\n  if (typeof root._bokeh_onload_callbacks === \"undefined\" || force === true) {\n    root._bokeh_onload_callbacks = [];\n    root._bokeh_is_loading = undefined;\n  }\n\n  \n\n  \n  if (typeof (root._bokeh_timeout) === \"undefined\" || force === true) {\n    root._bokeh_timeout = Date.now() + 5000;\n    root._bokeh_failed_load = false;\n  }\n\n  var NB_LOAD_WARNING = {'data': {'text/html':\n     \"<div style='background-color: #fdd'>\\n\"+\n     \"<p>\\n\"+\n     \"BokehJS does not appear to have successfully loaded. If loading BokehJS from CDN, this \\n\"+\n     \"may be due to a slow or bad network connection. Possible fixes:\\n\"+\n     \"</p>\\n\"+\n     \"<ul>\\n\"+\n     \"<li>re-rerun `output_notebook()` to attempt to load from CDN again, or</li>\\n\"+\n     \"<li>use INLINE resources instead, as so:</li>\\n\"+\n     \"</ul>\\n\"+\n     \"<code>\\n\"+\n     \"from bokeh.resources import INLINE\\n\"+\n     \"output_notebook(resources=INLINE)\\n\"+\n     \"</code>\\n\"+\n     \"</div>\"}};\n\n  function display_loaded() {\n    var el = document.getElementById(\"1002\");\n    if (el != null) {\n      el.textContent = \"BokehJS is loading...\";\n    }\n    if (root.Bokeh !== undefined) {\n      if (el != null) {\n        el.textContent = \"BokehJS \" + root.Bokeh.version + \" successfully loaded.\";\n      }\n    } else if (Date.now() < root._bokeh_timeout) {\n      setTimeout(display_loaded, 100)\n    }\n  }\n\n\n  function run_callbacks() {\n    try {\n      root._bokeh_onload_callbacks.forEach(function(callback) {\n        if (callback != null)\n          callback();\n      });\n    } finally {\n      delete root._bokeh_onload_callbacks\n    }\n    console.debug(\"Bokeh: all callbacks have finished\");\n  }\n\n  function load_libs(css_urls, js_urls, callback) {\n    if (css_urls == null) css_urls = [];\n    if (js_urls == null) js_urls = [];\n\n    root._bokeh_onload_callbacks.push(callback);\n    if (root._bokeh_is_loading > 0) {\n      console.debug(\"Bokeh: BokehJS is being loaded, scheduling callback at\", now());\n      return null;\n    }\n    if (js_urls == null || js_urls.length === 0) {\n      run_callbacks();\n      return null;\n    }\n    console.debug(\"Bokeh: BokehJS not loaded, scheduling load and callback at\", now());\n    root._bokeh_is_loading = css_urls.length + js_urls.length;\n\n    function on_load() {\n      root._bokeh_is_loading--;\n      if (root._bokeh_is_loading === 0) {\n        console.debug(\"Bokeh: all BokehJS libraries/stylesheets loaded\");\n        run_callbacks()\n      }\n    }\n\n    function on_error() {\n      console.error(\"failed to load \" + url);\n    }\n\n    for (var i = 0; i < css_urls.length; i++) {\n      var url = css_urls[i];\n      const element = document.createElement(\"link\");\n      element.onload = on_load;\n      element.onerror = on_error;\n      element.rel = \"stylesheet\";\n      element.type = \"text/css\";\n      element.href = url;\n      console.debug(\"Bokeh: injecting link tag for BokehJS stylesheet: \", url);\n      document.body.appendChild(element);\n    }\n\n    const hashes = {\"https://cdn.bokeh.org/bokeh/release/bokeh-2.2.3.min.js\": \"T2yuo9Oe71Cz/I4X9Ac5+gpEa5a8PpJCDlqKYO0CfAuEszu1JrXLl8YugMqYe3sM\", \"https://cdn.bokeh.org/bokeh/release/bokeh-widgets-2.2.3.min.js\": \"98GDGJ0kOMCUMUePhksaQ/GYgB3+NH9h996V88sh3aOiUNX3N+fLXAtry6xctSZ6\", \"https://cdn.bokeh.org/bokeh/release/bokeh-tables-2.2.3.min.js\": \"89bArO+nlbP3sgakeHjCo1JYxYR5wufVgA3IbUvDY+K7w4zyxJqssu7wVnfeKCq8\"};\n\n    for (var i = 0; i < js_urls.length; i++) {\n      var url = js_urls[i];\n      var element = document.createElement('script');\n      element.onload = on_load;\n      element.onerror = on_error;\n      element.async = false;\n      element.src = url;\n      if (url in hashes) {\n        element.crossOrigin = \"anonymous\";\n        element.integrity = \"sha384-\" + hashes[url];\n      }\n      console.debug(\"Bokeh: injecting script tag for BokehJS library: \", url);\n      document.head.appendChild(element);\n    }\n  };\n\n  function inject_raw_css(css) {\n    const element = document.createElement(\"style\");\n    element.appendChild(document.createTextNode(css));\n    document.body.appendChild(element);\n  }\n\n  \n  var js_urls = [\"https://cdn.bokeh.org/bokeh/release/bokeh-2.2.3.min.js\", \"https://cdn.bokeh.org/bokeh/release/bokeh-widgets-2.2.3.min.js\", \"https://cdn.bokeh.org/bokeh/release/bokeh-tables-2.2.3.min.js\"];\n  var css_urls = [];\n  \n\n  var inline_js = [\n    function(Bokeh) {\n      Bokeh.set_log_level(\"info\");\n    },\n    function(Bokeh) {\n    \n    \n    }\n  ];\n\n  function run_inline_js() {\n    \n    if (root.Bokeh !== undefined || force === true) {\n      \n    for (var i = 0; i < inline_js.length; i++) {\n      inline_js[i].call(root, root.Bokeh);\n    }\n    if (force === true) {\n        display_loaded();\n      }} else if (Date.now() < root._bokeh_timeout) {\n      setTimeout(run_inline_js, 100);\n    } else if (!root._bokeh_failed_load) {\n      console.log(\"Bokeh: BokehJS failed to load within specified timeout.\");\n      root._bokeh_failed_load = true;\n    } else if (force !== true) {\n      var cell = $(document.getElementById(\"1002\")).parents('.cell').data().cell;\n      cell.output_area.append_execute_result(NB_LOAD_WARNING)\n    }\n\n  }\n\n  if (root._bokeh_is_loading === 0) {\n    console.debug(\"Bokeh: BokehJS loaded, going straight to plotting\");\n    run_inline_js();\n  } else {\n    load_libs(css_urls, js_urls, function() {\n      console.debug(\"Bokeh: BokehJS plotting callback run at\", now());\n      run_inline_js();\n    });\n  }\n}(window));"
     },
     "metadata": {},
     "output_type": "display_data"
    }
   ],
   "source": [
    "import bokeh.io\n",
    "bokeh.io.output_notebook()"
   ]
  },
  {
   "cell_type": "code",
   "execution_count": 6,
   "metadata": {
    "ExecuteTime": {
     "end_time": "2020-11-16T18:43:37.885011Z",
     "start_time": "2020-11-16T18:43:37.720453Z"
    }
   },
   "outputs": [],
   "source": [
    "db_path = Path(\"db/sample_db\") / Path(\"sample.db\")\n",
    "stock_db = StockDatabase(db_path)"
   ]
  },
  {
   "cell_type": "code",
   "execution_count": 7,
   "metadata": {
    "ExecuteTime": {
     "end_time": "2020-11-16T18:43:41.525280Z",
     "start_time": "2020-11-16T18:43:38.922249Z"
    }
   },
   "outputs": [
    {
     "data": {
      "text/html": [
       "<div>\n",
       "<style scoped>\n",
       "    .dataframe tbody tr th:only-of-type {\n",
       "        vertical-align: middle;\n",
       "    }\n",
       "\n",
       "    .dataframe tbody tr th {\n",
       "        vertical-align: top;\n",
       "    }\n",
       "\n",
       "    .dataframe thead th {\n",
       "        text-align: right;\n",
       "    }\n",
       "</style>\n",
       "<table border=\"1\" class=\"dataframe\">\n",
       "  <thead>\n",
       "    <tr style=\"text-align: right;\">\n",
       "      <th></th>\n",
       "      <th>table_name</th>\n",
       "      <th>min_datetime</th>\n",
       "      <th>max_datetime</th>\n",
       "    </tr>\n",
       "  </thead>\n",
       "  <tbody>\n",
       "    <tr>\n",
       "      <th>0</th>\n",
       "      <td>table_0</td>\n",
       "      <td>2020-10-30 00:00:00+00:00</td>\n",
       "      <td>2020-11-04 05:59:00+00:00</td>\n",
       "    </tr>\n",
       "  </tbody>\n",
       "</table>\n",
       "</div>"
      ],
      "text/plain": [
       "  table_name              min_datetime              max_datetime\n",
       "0    table_0 2020-10-30 00:00:00+00:00 2020-11-04 05:59:00+00:00"
      ]
     },
     "execution_count": 7,
     "metadata": {},
     "output_type": "execute_result"
    }
   ],
   "source": [
    "stock_db.sammary_timestamp()"
   ]
  },
  {
   "cell_type": "code",
   "execution_count": 8,
   "metadata": {
    "ExecuteTime": {
     "end_time": "2020-11-16T18:43:42.500681Z",
     "start_time": "2020-11-16T18:43:42.381991Z"
    }
   },
   "outputs": [
    {
     "data": {
      "text/html": [
       "<div>\n",
       "<style scoped>\n",
       "    .dataframe tbody tr th:only-of-type {\n",
       "        vertical-align: middle;\n",
       "    }\n",
       "\n",
       "    .dataframe tbody tr th {\n",
       "        vertical-align: top;\n",
       "    }\n",
       "\n",
       "    .dataframe thead th {\n",
       "        text-align: right;\n",
       "    }\n",
       "</style>\n",
       "<table border=\"1\" class=\"dataframe\">\n",
       "  <thead>\n",
       "    <tr style=\"text-align: right;\">\n",
       "      <th></th>\n",
       "      <th>column_name</th>\n",
       "      <th>arrange_table</th>\n",
       "    </tr>\n",
       "  </thead>\n",
       "  <tbody>\n",
       "    <tr>\n",
       "      <th>0</th>\n",
       "      <td>Close_2802</td>\n",
       "      <td>table_0</td>\n",
       "    </tr>\n",
       "    <tr>\n",
       "      <th>1</th>\n",
       "      <td>Close_4755</td>\n",
       "      <td>table_0</td>\n",
       "    </tr>\n",
       "    <tr>\n",
       "      <th>2</th>\n",
       "      <td>Close_6502</td>\n",
       "      <td>table_0</td>\n",
       "    </tr>\n",
       "    <tr>\n",
       "      <th>3</th>\n",
       "      <td>Close_6954</td>\n",
       "      <td>table_0</td>\n",
       "    </tr>\n",
       "    <tr>\n",
       "      <th>4</th>\n",
       "      <td>High_2802</td>\n",
       "      <td>table_0</td>\n",
       "    </tr>\n",
       "    <tr>\n",
       "      <th>5</th>\n",
       "      <td>High_4755</td>\n",
       "      <td>table_0</td>\n",
       "    </tr>\n",
       "    <tr>\n",
       "      <th>6</th>\n",
       "      <td>High_6502</td>\n",
       "      <td>table_0</td>\n",
       "    </tr>\n",
       "    <tr>\n",
       "      <th>7</th>\n",
       "      <td>High_6954</td>\n",
       "      <td>table_0</td>\n",
       "    </tr>\n",
       "    <tr>\n",
       "      <th>8</th>\n",
       "      <td>Low_2802</td>\n",
       "      <td>table_0</td>\n",
       "    </tr>\n",
       "    <tr>\n",
       "      <th>9</th>\n",
       "      <td>Low_4755</td>\n",
       "      <td>table_0</td>\n",
       "    </tr>\n",
       "    <tr>\n",
       "      <th>10</th>\n",
       "      <td>Low_6502</td>\n",
       "      <td>table_0</td>\n",
       "    </tr>\n",
       "    <tr>\n",
       "      <th>11</th>\n",
       "      <td>Low_6954</td>\n",
       "      <td>table_0</td>\n",
       "    </tr>\n",
       "    <tr>\n",
       "      <th>12</th>\n",
       "      <td>Open_2802</td>\n",
       "      <td>table_0</td>\n",
       "    </tr>\n",
       "    <tr>\n",
       "      <th>13</th>\n",
       "      <td>Open_4755</td>\n",
       "      <td>table_0</td>\n",
       "    </tr>\n",
       "    <tr>\n",
       "      <th>14</th>\n",
       "      <td>Open_6502</td>\n",
       "      <td>table_0</td>\n",
       "    </tr>\n",
       "    <tr>\n",
       "      <th>15</th>\n",
       "      <td>Open_6954</td>\n",
       "      <td>table_0</td>\n",
       "    </tr>\n",
       "    <tr>\n",
       "      <th>16</th>\n",
       "      <td>Volume_2802</td>\n",
       "      <td>table_0</td>\n",
       "    </tr>\n",
       "    <tr>\n",
       "      <th>17</th>\n",
       "      <td>Volume_4755</td>\n",
       "      <td>table_0</td>\n",
       "    </tr>\n",
       "    <tr>\n",
       "      <th>18</th>\n",
       "      <td>Volume_6502</td>\n",
       "      <td>table_0</td>\n",
       "    </tr>\n",
       "    <tr>\n",
       "      <th>19</th>\n",
       "      <td>Volume_6954</td>\n",
       "      <td>table_0</td>\n",
       "    </tr>\n",
       "  </tbody>\n",
       "</table>\n",
       "</div>"
      ],
      "text/plain": [
       "    column_name arrange_table\n",
       "0    Close_2802       table_0\n",
       "1    Close_4755       table_0\n",
       "2    Close_6502       table_0\n",
       "3    Close_6954       table_0\n",
       "4     High_2802       table_0\n",
       "5     High_4755       table_0\n",
       "6     High_6502       table_0\n",
       "7     High_6954       table_0\n",
       "8      Low_2802       table_0\n",
       "9      Low_4755       table_0\n",
       "10     Low_6502       table_0\n",
       "11     Low_6954       table_0\n",
       "12    Open_2802       table_0\n",
       "13    Open_4755       table_0\n",
       "14    Open_6502       table_0\n",
       "15    Open_6954       table_0\n",
       "16  Volume_2802       table_0\n",
       "17  Volume_4755       table_0\n",
       "18  Volume_6502       table_0\n",
       "19  Volume_6954       table_0"
      ]
     },
     "execution_count": 8,
     "metadata": {},
     "output_type": "execute_result"
    }
   ],
   "source": [
    "stock_db.sammary_column_arrange()"
   ]
  },
  {
   "cell_type": "code",
   "execution_count": 9,
   "metadata": {
    "ExecuteTime": {
     "end_time": "2020-11-16T18:43:43.806188Z",
     "start_time": "2020-11-16T18:43:43.773282Z"
    }
   },
   "outputs": [],
   "source": [
    "stock_name = \"6502\"\n",
    "\n",
    "\n",
    "jst_timezone = timezone(\"Asia/Tokyo\")\n",
    "start_time = jst_timezone.localize(datetime.datetime(2020, 10, 30, 9, 0, 0))\n",
    "#end_time = jst_timezone.localize(datetime.datetime(2020, 10, 30, 15, 0, 0))\n",
    "end_time = jst_timezone.localize(datetime.datetime(2020, 10, 30, 12, 0, 0))"
   ]
  },
  {
   "cell_type": "markdown",
   "metadata": {},
   "source": [
    "### 静的なグラフの場合 "
   ]
  },
  {
   "cell_type": "code",
   "execution_count": 11,
   "metadata": {
    "ExecuteTime": {
     "end_time": "2020-11-16T18:44:05.371538Z",
     "start_time": "2020-11-16T18:44:04.813027Z"
    }
   },
   "outputs": [
    {
     "data": {
      "text/html": [
       "\n",
       "\n",
       "\n",
       "\n",
       "\n",
       "\n",
       "  <div class=\"bk-root\" id=\"c7e01392-2c58-41a9-bcdc-f82ff908916c\" data-root-id=\"1199\"></div>\n"
      ]
     },
     "metadata": {},
     "output_type": "display_data"
    },
    {
     "data": {
      "application/javascript": [
       "(function(root) {\n",
       "  function embed_document(root) {\n",
       "    \n",
       "  var docs_json = {\"9b19e293-4970-47ba-929a-ff091dd897d8\":{\"roots\":{\"references\":[{\"attributes\":{\"below\":[{\"id\":\"1208\"}],\"center\":[{\"id\":\"1211\"},{\"id\":\"1215\"}],\"left\":[{\"id\":\"1212\"}],\"plot_width\":1000,\"renderers\":[{\"id\":\"1233\"},{\"id\":\"1238\"},{\"id\":\"1243\"}],\"title\":{\"id\":\"1270\"},\"toolbar\":{\"id\":\"1223\"},\"x_range\":{\"id\":\"1200\"},\"x_scale\":{\"id\":\"1204\"},\"y_range\":{\"id\":\"1202\"},\"y_scale\":{\"id\":\"1206\"}},\"id\":\"1199\",\"subtype\":\"Figure\",\"type\":\"Plot\"},{\"attributes\":{\"data_source\":{\"id\":\"1240\"},\"glyph\":{\"id\":\"1241\"},\"hover_glyph\":null,\"muted_glyph\":null,\"nonselection_glyph\":{\"id\":\"1242\"},\"selection_glyph\":null,\"view\":{\"id\":\"1244\"}},\"id\":\"1243\",\"type\":\"GlyphRenderer\"},{\"attributes\":{\"data\":{\"bottom\":{\"__ndarray__\":\"AAAAAADmpEAAAAAAAPikQAAAAAAA1qRAAAAAAAC2pEAAAAAAALSkQAAAAAAAsqRAAAAAAACypEAAAAAAALKkQAAAAAAApqRAAAAAAACopEAAAAAAAK6kQAAAAAAAtqRAAAAAAAC0pEAAAAAAALKkQAAAAAAArKRAAAAAAACwpEAAAAAAALCkQAAAAAAAsKRA\",\"dtype\":\"float64\",\"order\":\"little\",\"shape\":[18]},\"top\":{\"__ndarray__\":\"AAAAAADkpEAAAAAAAOqkQAAAAAAA1KRAAAAAAACupEAAAAAAALSkQAAAAAAAsqRAAAAAAACypEAAAAAAALKkQAAAAAAAnKRAAAAAAACopEAAAAAAAKikQAAAAAAArqRAAAAAAACwpEAAAAAAALKkQAAAAAAArKRAAAAAAACspEAAAAAAALCkQAAAAAAAsKRA\",\"dtype\":\"float64\",\"order\":\"little\",\"shape\":[18]},\"x\":{\"__ndarray__\":\"AAAmDIxXd0IAAGRVjFd3QgAAXHqNV3dCAADQMY9Xd0IAAEzEj1d3QgAAig2QV3dCAADIVpBXd0IAAAagkFd3QgAAgjKRV3dCAADAe5FXd0IAAP7EkVd3QgAAPA6SV3dCAAD26ZJXd0IAADQzk1d3QgAAsMWTV3dCAADuDpRXd0IAACxYlFd3QgAAaqGUV3dC\",\"dtype\":\"float64\",\"order\":\"little\",\"shape\":[18]}},\"selected\":{\"id\":\"1279\"},\"selection_policy\":{\"id\":\"1280\"}},\"id\":\"1235\",\"type\":\"ColumnDataSource\"},{\"attributes\":{\"days\":[1,4,7,10,13,16,19,22,25,28]},\"id\":\"1287\",\"type\":\"DaysTicker\"},{\"attributes\":{},\"id\":\"1204\",\"type\":\"LinearScale\"},{\"attributes\":{\"source\":{\"id\":\"1240\"}},\"id\":\"1244\",\"type\":\"CDSView\"},{\"attributes\":{\"data_source\":{\"id\":\"1235\"},\"glyph\":{\"id\":\"1236\"},\"hover_glyph\":null,\"muted_glyph\":null,\"nonselection_glyph\":{\"id\":\"1237\"},\"selection_glyph\":null,\"view\":{\"id\":\"1239\"}},\"id\":\"1238\",\"type\":\"GlyphRenderer\"},{\"attributes\":{},\"id\":\"1221\",\"type\":\"HelpTool\"},{\"attributes\":{},\"id\":\"1279\",\"type\":\"Selection\"},{\"attributes\":{\"mantissas\":[1,2,5],\"max_interval\":500.0,\"num_minor_ticks\":0},\"id\":\"1283\",\"type\":\"AdaptiveTicker\"},{\"attributes\":{\"base\":24,\"mantissas\":[1,2,4,6,8,12],\"max_interval\":43200000.0,\"min_interval\":3600000.0,\"num_minor_ticks\":0},\"id\":\"1285\",\"type\":\"AdaptiveTicker\"},{\"attributes\":{\"months\":[0,1,2,3,4,5,6,7,8,9,10,11]},\"id\":\"1290\",\"type\":\"MonthsTicker\"},{\"attributes\":{\"bottom\":{\"field\":\"bottom\"},\"fill_alpha\":{\"value\":0.1},\"fill_color\":{\"value\":\"#4be639\"},\"line_alpha\":{\"value\":0.1},\"top\":{\"field\":\"top\"},\"width\":{\"value\":300000.0},\"x\":{\"field\":\"x\"}},\"id\":\"1237\",\"type\":\"VBar\"},{\"attributes\":{\"formatter\":{\"id\":\"1272\"},\"ticker\":{\"id\":\"1213\"}},\"id\":\"1212\",\"type\":\"LinearAxis\"},{\"attributes\":{\"days\":[1,15]},\"id\":\"1289\",\"type\":\"DaysTicker\"},{\"attributes\":{\"x0\":{\"field\":\"x0\"},\"x1\":{\"field\":\"x1\"},\"y0\":{\"field\":\"y0\"},\"y1\":{\"field\":\"y1\"}},\"id\":\"1231\",\"type\":\"Segment\"},{\"attributes\":{\"overlay\":{\"id\":\"1222\"}},\"id\":\"1218\",\"type\":\"BoxZoomTool\"},{\"attributes\":{\"bottom\":{\"field\":\"bottom\"},\"fill_alpha\":{\"value\":0.1},\"fill_color\":{\"value\":\"#F2583E\"},\"line_alpha\":{\"value\":0.1},\"top\":{\"field\":\"top\"},\"width\":{\"value\":300000.0},\"x\":{\"field\":\"x\"}},\"id\":\"1242\",\"type\":\"VBar\"},{\"attributes\":{\"days\":[1,2,3,4,5,6,7,8,9,10,11,12,13,14,15,16,17,18,19,20,21,22,23,24,25,26,27,28,29,30,31]},\"id\":\"1286\",\"type\":\"DaysTicker\"},{\"attributes\":{\"months\":[0,4,8]},\"id\":\"1292\",\"type\":\"MonthsTicker\"},{\"attributes\":{\"text\":\"\"},\"id\":\"1270\",\"type\":\"Title\"},{\"attributes\":{\"active_drag\":\"auto\",\"active_inspect\":\"auto\",\"active_multi\":null,\"active_scroll\":\"auto\",\"active_tap\":\"auto\",\"tools\":[{\"id\":\"1216\"},{\"id\":\"1217\"},{\"id\":\"1218\"},{\"id\":\"1219\"},{\"id\":\"1220\"},{\"id\":\"1221\"}]},\"id\":\"1223\",\"type\":\"Toolbar\"},{\"attributes\":{},\"id\":\"1217\",\"type\":\"WheelZoomTool\"},{\"attributes\":{\"months\":[0,2,4,6,8,10]},\"id\":\"1291\",\"type\":\"MonthsTicker\"},{\"attributes\":{\"source\":{\"id\":\"1235\"}},\"id\":\"1239\",\"type\":\"CDSView\"},{\"attributes\":{\"bottom_units\":\"screen\",\"fill_alpha\":0.5,\"fill_color\":\"lightgrey\",\"left_units\":\"screen\",\"level\":\"overlay\",\"line_alpha\":1.0,\"line_color\":\"black\",\"line_dash\":[4,4],\"line_width\":2,\"right_units\":\"screen\",\"top_units\":\"screen\"},\"id\":\"1222\",\"type\":\"BoxAnnotation\"},{\"attributes\":{},\"id\":\"1216\",\"type\":\"PanTool\"},{\"attributes\":{},\"id\":\"1206\",\"type\":\"LinearScale\"},{\"attributes\":{},\"id\":\"1200\",\"type\":\"DataRange1d\"},{\"attributes\":{\"axis\":{\"id\":\"1208\"},\"ticker\":null},\"id\":\"1211\",\"type\":\"Grid\"},{\"attributes\":{\"axis\":{\"id\":\"1212\"},\"dimension\":1,\"ticker\":null},\"id\":\"1215\",\"type\":\"Grid\"},{\"attributes\":{},\"id\":\"1202\",\"type\":\"DataRange1d\"},{\"attributes\":{},\"id\":\"1220\",\"type\":\"ResetTool\"},{\"attributes\":{},\"id\":\"1219\",\"type\":\"SaveTool\"},{\"attributes\":{},\"id\":\"1277\",\"type\":\"Selection\"},{\"attributes\":{},\"id\":\"1280\",\"type\":\"UnionRenderers\"},{\"attributes\":{\"data_source\":{\"id\":\"1230\"},\"glyph\":{\"id\":\"1231\"},\"hover_glyph\":null,\"muted_glyph\":null,\"nonselection_glyph\":{\"id\":\"1232\"},\"selection_glyph\":null,\"view\":{\"id\":\"1234\"}},\"id\":\"1233\",\"type\":\"GlyphRenderer\"},{\"attributes\":{\"bottom\":{\"field\":\"bottom\"},\"fill_color\":{\"value\":\"#F2583E\"},\"top\":{\"field\":\"top\"},\"width\":{\"value\":300000.0},\"x\":{\"field\":\"x\"}},\"id\":\"1241\",\"type\":\"VBar\"},{\"attributes\":{\"base\":60,\"mantissas\":[1,2,5,10,15,20,30],\"max_interval\":1800000.0,\"min_interval\":1000.0,\"num_minor_ticks\":0},\"id\":\"1284\",\"type\":\"AdaptiveTicker\"},{\"attributes\":{\"months\":[0,6]},\"id\":\"1293\",\"type\":\"MonthsTicker\"},{\"attributes\":{\"line_alpha\":{\"value\":0.1},\"x0\":{\"field\":\"x0\"},\"x1\":{\"field\":\"x1\"},\"y0\":{\"field\":\"y0\"},\"y1\":{\"field\":\"y1\"}},\"id\":\"1232\",\"type\":\"Segment\"},{\"attributes\":{},\"id\":\"1294\",\"type\":\"YearsTicker\"},{\"attributes\":{\"data\":{\"x0\":{\"__ndarray__\":\"AADowotXd0IAACYMjFd3QgAAZFWMV3dCAACinoxXd0IAAODnjFd3QgAAHjGNV3dCAABceo1Xd0IAAJrDjVd3QgAA2AyOV3dCAAAWVo5Xd0IAAFSfjld3QgAAkuiOV3dCAADQMY9Xd0IAAA57j1d3QgAATMSPV3dCAACKDZBXd0IAAMhWkFd3QgAABqCQV3dCAABE6ZBXd0IAAIIykVd3QgAAwHuRV3dCAAD+xJFXd0IAADwOkld3QgAAeleSV3dCAAC4oJJXd0IAAPbpkld3QgAANDOTV3dCAAByfJNXd0IAALDFk1d3QgAA7g6UV3dCAAAsWJRXd0IAAGqhlFd3QgAAqOqUV3dCAADmM5VXd0IAACR9lVd3QgAAYsaVV3dC\",\"dtype\":\"float64\",\"order\":\"little\",\"shape\":[36]},\"x1\":{\"__ndarray__\":\"AADowotXd0IAACYMjFd3QgAAZFWMV3dCAACinoxXd0IAAODnjFd3QgAAHjGNV3dCAABceo1Xd0IAAJrDjVd3QgAA2AyOV3dCAAAWVo5Xd0IAAFSfjld3QgAAkuiOV3dCAADQMY9Xd0IAAA57j1d3QgAATMSPV3dCAACKDZBXd0IAAMhWkFd3QgAABqCQV3dCAABE6ZBXd0IAAIIykVd3QgAAwHuRV3dCAAD+xJFXd0IAADwOkld3QgAAeleSV3dCAAC4oJJXd0IAAPbpkld3QgAANDOTV3dCAAByfJNXd0IAALDFk1d3QgAA7g6UV3dCAAAsWJRXd0IAAGqhlFd3QgAAqOqUV3dCAADmM5VXd0IAACR9lVd3QgAAYsaVV3dC\",\"dtype\":\"float64\",\"order\":\"little\",\"shape\":[36]},\"y0\":{\"__ndarray__\":\"AAAAAAAQpUAAAAAAAPKkQAAAAAAA/KRAAAAAAAD8pEAAAAAAAOqkQAAAAAAA4qRAAAAAAADYpEAAAAAAANqkQAAAAAAA1KRAAAAAAADIpEAAAAAAALykQAAAAAAAtqRAAAAAAAC4pEAAAAAAALakQAAAAAAAuKRAAAAAAAC6pEAAAAAAALakQAAAAAAAtKRAAAAAAACwpEAAAAAAAKikQAAAAAAAqKRAAAAAAACypEAAAAAAALakQAAAAAAAuqRAAAAAAAC0pEAAAAAAALSkQAAAAAAAtKRAAAAAAACwpEAAAAAAALCkQAAAAAAAsKRAAAAAAACwpEAAAAAAALCkQAAAAAAAAPh/AAAAAAAA+H8AAAAAAAD4fwAAAAAAAPh/\",\"dtype\":\"float64\",\"order\":\"little\",\"shape\":[36]},\"y1\":{\"__ndarray__\":\"AAAAAADmpEAAAAAAANikQAAAAAAA5qRAAAAAAADgpEAAAAAAANikQAAAAAAA1KRAAAAAAADIpEAAAAAAANSkQAAAAAAAwKRAAAAAAAC6pEAAAAAAALakQAAAAAAArqRAAAAAAACupEAAAAAAALCkQAAAAAAAsKRAAAAAAACypEAAAAAAALKkQAAAAAAArqRAAAAAAACcpEAAAAAAAJikQAAAAAAAoqRAAAAAAACkpEAAAAAAAKykQAAAAAAAtKRAAAAAAACwpEAAAAAAAK6kQAAAAAAAsKRAAAAAAACqpEAAAAAAAKqkQAAAAAAArKRAAAAAAACwpEAAAAAAALCkQAAAAAAAAPh/AAAAAAAA+H8AAAAAAAD4fwAAAAAAAPh/\",\"dtype\":\"float64\",\"order\":\"little\",\"shape\":[36]}},\"selected\":{\"id\":\"1277\"},\"selection_policy\":{\"id\":\"1278\"}},\"id\":\"1230\",\"type\":\"ColumnDataSource\"},{\"attributes\":{\"source\":{\"id\":\"1230\"}},\"id\":\"1234\",\"type\":\"CDSView\"},{\"attributes\":{\"bottom\":{\"field\":\"bottom\"},\"fill_color\":{\"value\":\"#4be639\"},\"top\":{\"field\":\"top\"},\"width\":{\"value\":300000.0},\"x\":{\"field\":\"x\"}},\"id\":\"1236\",\"type\":\"VBar\"},{\"attributes\":{\"data\":{\"bottom\":{\"__ndarray__\":\"AAAAAAAOpUAAAAAAAPakQAAAAAAA5KRAAAAAAADcpEAAAAAAANakQAAAAAAA0qRAAAAAAADEpEAAAAAAALqkQAAAAAAAsqRAAAAAAAC0pEAAAAAAALCkQAAAAAAAtqRAAAAAAAC0pEAAAAAAALCkQA==\",\"dtype\":\"float64\",\"order\":\"little\",\"shape\":[14]},\"top\":{\"__ndarray__\":\"AAAAAADopEAAAAAAAOCkQAAAAAAA3qRAAAAAAADWpEAAAAAAANSkQAAAAAAAxqRAAAAAAAC6pEAAAAAAALakQAAAAAAArqRAAAAAAACypEAAAAAAAJykQAAAAAAAtKRAAAAAAACwpEAAAAAAAKykQA==\",\"dtype\":\"float64\",\"order\":\"little\",\"shape\":[14]},\"x\":{\"__ndarray__\":\"AADowotXd0IAAKKejFd3QgAA4OeMV3dCAAAeMY1Xd0IAAJrDjVd3QgAA2AyOV3dCAAAWVo5Xd0IAAFSfjld3QgAAkuiOV3dCAAAOe49Xd0IAAETpkFd3QgAAeleSV3dCAAC4oJJXd0IAAHJ8k1d3Qg==\",\"dtype\":\"float64\",\"order\":\"little\",\"shape\":[14]}},\"selected\":{\"id\":\"1281\"},\"selection_policy\":{\"id\":\"1282\"}},\"id\":\"1240\",\"type\":\"ColumnDataSource\"},{\"attributes\":{},\"id\":\"1272\",\"type\":\"BasicTickFormatter\"},{\"attributes\":{},\"id\":\"1281\",\"type\":\"Selection\"},{\"attributes\":{\"days\":[1,8,15,22]},\"id\":\"1288\",\"type\":\"DaysTicker\"},{\"attributes\":{\"num_minor_ticks\":5,\"tickers\":[{\"id\":\"1283\"},{\"id\":\"1284\"},{\"id\":\"1285\"},{\"id\":\"1286\"},{\"id\":\"1287\"},{\"id\":\"1288\"},{\"id\":\"1289\"},{\"id\":\"1290\"},{\"id\":\"1291\"},{\"id\":\"1292\"},{\"id\":\"1293\"},{\"id\":\"1294\"}]},\"id\":\"1209\",\"type\":\"DatetimeTicker\"},{\"attributes\":{},\"id\":\"1282\",\"type\":\"UnionRenderers\"},{\"attributes\":{\"formatter\":{\"id\":\"1274\"},\"ticker\":{\"id\":\"1209\"}},\"id\":\"1208\",\"type\":\"DatetimeAxis\"},{\"attributes\":{},\"id\":\"1274\",\"type\":\"DatetimeTickFormatter\"},{\"attributes\":{},\"id\":\"1278\",\"type\":\"UnionRenderers\"},{\"attributes\":{},\"id\":\"1213\",\"type\":\"BasicTicker\"}],\"root_ids\":[\"1199\"]},\"title\":\"Bokeh Application\",\"version\":\"2.2.3\"}};\n",
       "  var render_items = [{\"docid\":\"9b19e293-4970-47ba-929a-ff091dd897d8\",\"root_ids\":[\"1199\"],\"roots\":{\"1199\":\"c7e01392-2c58-41a9-bcdc-f82ff908916c\"}}];\n",
       "  root.Bokeh.embed.embed_items_notebook(docs_json, render_items);\n",
       "\n",
       "  }\n",
       "  if (root.Bokeh !== undefined) {\n",
       "    embed_document(root);\n",
       "  } else {\n",
       "    var attempts = 0;\n",
       "    var timer = setInterval(function(root) {\n",
       "      if (root.Bokeh !== undefined) {\n",
       "        clearInterval(timer);\n",
       "        embed_document(root);\n",
       "      } else {\n",
       "        attempts++;\n",
       "        if (attempts > 100) {\n",
       "          clearInterval(timer);\n",
       "          console.log(\"Bokeh: ERROR: Unable to run BokehJS code because BokehJS library is missing\");\n",
       "        }\n",
       "      }\n",
       "    }, 10, root)\n",
       "  }\n",
       "})(window);"
      ],
      "application/vnd.bokehjs_exec.v0+json": ""
     },
     "metadata": {
      "application/vnd.bokehjs_exec.v0+json": {
       "id": "1199"
      }
     },
     "output_type": "display_data"
    }
   ],
   "source": [
    "span_df = stock_db.search_span(stock_name, start_time, end_time, freq_str=\"5T\",to_tokyo=True)\n",
    "ohlc_dict = {\"Open\":\"Open_6502\", \"High\":\"High_6502\", \"Low\":\"Low_6502\", \"Close\":\"Close_6502\"}\n",
    "\n",
    "p = static_candlestick(span_df, ohlc_dict)\n",
    "bokeh.io.show(p)"
   ]
  },
  {
   "cell_type": "markdown",
   "metadata": {},
   "source": [
    "### 動的なグラフの場合 "
   ]
  },
  {
   "cell_type": "code",
   "execution_count": 14,
   "metadata": {
    "ExecuteTime": {
     "end_time": "2020-11-16T18:45:06.127178Z",
     "start_time": "2020-11-16T18:45:05.863831Z"
    }
   },
   "outputs": [],
   "source": [
    "bokeh_candle_stick = BokehCandleStickDB(stock_db, \n",
    "                                        stock_name, \n",
    "                                        ohlc_dict, \n",
    "                                        initial_start_datetime=start_time,\n",
    "                                        initial_end_datetime=end_time,\n",
    "                                        freq_str=\"T\",\n",
    "                                        y_axis_margin=10,\n",
    "                                        to_tokyo=True,\n",
    "                                        data_left_times=1,\n",
    "                                        use_formatter=True,\n",
    "                                        is_notebook=True\n",
    "                                       )"
   ]
  },
  {
   "cell_type": "code",
   "execution_count": 15,
   "metadata": {
    "ExecuteTime": {
     "end_time": "2020-11-16T18:45:30.986685Z",
     "start_time": "2020-11-16T18:45:06.699598Z"
    }
   },
   "outputs": [
    {
     "data": {
      "text/html": [
       "\n",
       "\n",
       "\n",
       "\n",
       "\n",
       "\n",
       "  <div class=\"bk-root\" id=\"4d317dc2-aee4-49f4-8ba2-5f65de7d22a9\" data-root-id=\"1427\"></div>\n"
      ]
     },
     "metadata": {},
     "output_type": "display_data"
    },
    {
     "data": {
      "application/javascript": [
       "(function(root) {\n",
       "  function embed_document(root) {\n",
       "    \n",
       "  var docs_json = {\"85cbca1d-1a6e-4da5-8b93-96f248f48887\":{\"roots\":{\"references\":[{\"attributes\":{\"below\":[{\"id\":\"1434\"}],\"center\":[{\"id\":\"1437\"},{\"id\":\"1441\"}],\"left\":[{\"id\":\"1438\"}],\"plot_width\":1000,\"renderers\":[{\"id\":\"1459\"},{\"id\":\"1464\"},{\"id\":\"1468\"}],\"title\":{\"id\":\"1521\"},\"toolbar\":{\"id\":\"1449\"},\"x_range\":{\"id\":\"1425\"},\"x_scale\":{\"id\":\"1430\"},\"y_range\":{\"id\":\"1426\"},\"y_scale\":{\"id\":\"1432\"}},\"id\":\"1427\",\"subtype\":\"Figure\",\"type\":\"Plot\"},{\"attributes\":{\"overlay\":{\"id\":\"1448\"}},\"id\":\"1444\",\"type\":\"BoxZoomTool\"},{\"attributes\":{\"bottom\":{\"field\":\"Open_6502\"},\"fill_alpha\":{\"value\":0.1},\"fill_color\":{\"value\":\"#F2583E\"},\"line_alpha\":{\"value\":0.1},\"top\":{\"field\":\"Close_6502\"},\"width\":{\"value\":60000.0},\"x\":{\"field\":\"timestamp\"}},\"id\":\"1467\",\"type\":\"VBar\"},{\"attributes\":{\"months\":[0,1,2,3,4,5,6,7,8,9,10,11]},\"id\":\"1536\",\"type\":\"MonthsTicker\"},{\"attributes\":{\"data_source\":{\"id\":\"1420\"},\"glyph\":{\"id\":\"1462\"},\"hover_glyph\":null,\"muted_glyph\":null,\"nonselection_glyph\":{\"id\":\"1463\"},\"selection_glyph\":null,\"view\":{\"id\":\"1423\"}},\"id\":\"1464\",\"type\":\"GlyphRenderer\"},{\"attributes\":{},\"id\":\"1443\",\"type\":\"WheelZoomTool\"},{\"attributes\":{\"days\":[1,15]},\"id\":\"1535\",\"type\":\"DaysTicker\"},{\"attributes\":{\"months\":[0,2,4,6,8,10]},\"id\":\"1537\",\"type\":\"MonthsTicker\"},{\"attributes\":{\"months\":[0,6]},\"id\":\"1539\",\"type\":\"MonthsTicker\"},{\"attributes\":{},\"id\":\"1446\",\"type\":\"ResetTool\"},{\"attributes\":{\"axis\":{\"id\":\"1438\"},\"dimension\":1,\"ticker\":null},\"id\":\"1441\",\"type\":\"Grid\"},{\"attributes\":{\"formatter\":{\"id\":\"1469\"},\"major_label_orientation\":0.7853981633974483,\"ticker\":{\"id\":\"1435\"}},\"id\":\"1434\",\"type\":\"DatetimeAxis\"},{\"attributes\":{\"x0\":{\"field\":\"timestamp\"},\"x1\":{\"field\":\"timestamp\"},\"y0\":{\"field\":\"Low_6502\"},\"y1\":{\"field\":\"High_6502\"}},\"id\":\"1457\",\"type\":\"Segment\"},{\"attributes\":{\"data\":{\"Close_6502\":{\"__ndarray__\":\"AAAAAAD8pEAAAAAAAPikQAAAAAAA9qRAAAAAAAD2pEAAAAAAAOikQAAAAAAA4KRAAAAAAADcpEAAAAAAAOKkQAAAAAAA8qRAAAAAAADmpEAAAAAAAOykQAAAAAAA7KRAAAAAAADspEAAAAAAAPakQAAAAAAA+KRAAAAAAADypEAAAAAAAPakQAAAAAAA8qRAAAAAAADspEAAAAAAAOCkQAAAAAAA5qRAAAAAAADopEAAAAAAAOikQAAAAAAA3KRAAAAAAADepEAAAAAAAN6kQAAAAAAA1qRAAAAAAADYpEAAAAAAANqkQAAAAAAA1qRAAAAAAADWpEAAAAAAANSkQAAAAAAA1qRAAAAAAADWpEAAAAAAANakQAAAAAAA1qRAAAAAAADYpEAAAAAAANikQAAAAAAA2KRAAAAAAADUpEAAAAAAANSkQAAAAAAAzKRAAAAAAADKpEAAAAAAAMikQAAAAAAAxqRAAAAAAADIpEAAAAAAAMKkQAAAAAAAvqRAAAAAAAC+pEAAAAAAALqkQAAAAAAAtqRAAAAAAAAAAAAAAAAAALikQAAAAAAAtqRAAAAAAAAAAAAAAAAAALKkQAAAAAAAsKRAAAAAAACwpEAAAAAAAK6kQAAAAAAArqRAAAAAAACypEAAAAAAALikQAAAAAAAtKRAAAAAAAC4pEAAAAAAALakQAAAAAAAtqRAAAAAAAC0pEAAAAAAALKkQAAAAAAAtKRAAAAAAACypEAAAAAAALSkQAAAAAAAsqRAAAAAAAC2pEAAAAAAALSkQAAAAAAAtKRAAAAAAAC0pEAAAAAAALSkQAAAAAAAsqRAAAAAAACypEAAAAAAALKkQAAAAAAAtKRAAAAAAAC0pEAAAAAAAAAAAAAAAAAAtKRAAAAAAACypEAAAAAAALSkQAAAAAAAsqRAAAAAAACypEAAAAAAALKkQAAAAAAAsqRAAAAAAACipEAAAAAAAKCkQAAAAAAAAAAAAAAAAACcpEAAAAAAAAAAAAAAAAAAnKRAAAAAAACapEAAAAAAAJqkQAAAAAAAqKRAAAAAAACmpEAAAAAAAKKkQAAAAAAAoqRAAAAAAACkpEAAAAAAAKSkQAAAAAAAqKRAAAAAAACkpEAAAAAAAKqkQAAAAAAAsqRAAAAAAACypEAAAAAAAK6kQAAAAAAArqRAAAAAAACspEAAAAAAAKykQAAAAAAAsqRAAAAAAAC2pEAAAAAAALqkQAAAAAAAuKRAAAAAAAC4pEAAAAAAALakQAAAAAAAtKRAAAAAAACypEAAAAAAALCkQAAAAAAAtKRAAAAAAAC0pEAAAAAAALCkQAAAAAAArqRAAAAAAAC0pEAAAAAAAAAAAAAAAAAAsqRAAAAAAAC0pEAAAAAAALKkQAAAAAAAsKRAAAAAAACypEAAAAAAAAAAAAAAAAAAsqRAAAAAAACupEAAAAAAAKqkQAAAAAAAsKRAAAAAAACupEAAAAAAAKykQAAAAAAArKRAAAAAAACupEAAAAAAAK6kQAAAAAAArqRAAAAAAACspEAAAAAAALCkQAAAAAAAAAAAAAAAAACwpEAAAAAAAK6kQAAAAAAAsKRAAAAAAACwpEAAAAAAAAAAAAAAAAAAAAAAAAAAAAAAAAAAAAAAAAAAAAAAAAAAsKRAAAAAAAAAAAAAAAAAAAAAAAAAAAAAAAAAAAAAAAAAAAAAAAAAAAAAAAAAAAAAAAAAAAAAAAAAAAAAAAAAAAAAAAAAAAAAAAAAAAAAAAAAAAAAAAAAAAAAAAAAAAAAAAAAAAAAAAAAAAAAAAAAAAAAAAAAAAAAAAAAAAAAAAAAAAAAAAAAAAAAAAAAAAAAAAAAAAAAAAAAAAAAAAAAAAAAAAAAAAAAAAAAAAAAAAAAAAAAAAAAAAAAAAAAAAAAAAAA\",\"dtype\":\"float64\",\"order\":\"little\",\"shape\":[180]},\"High_6502\":{\"__ndarray__\":\"AAAAAAAQpUAAAAAAAAalQAAAAAAA/qRAAAAAAAD+pEAAAAAAAPakQAAAAAAA5KRAAAAAAADgpEAAAAAAAOikQAAAAAAA8qRAAAAAAADypEAAAAAAAPKkQAAAAAAA7KRAAAAAAADupEAAAAAAAPakQAAAAAAA/KRAAAAAAAD4pEAAAAAAAPykQAAAAAAA9KRAAAAAAAD2pEAAAAAAAPKkQAAAAAAA6KRAAAAAAADqpEAAAAAAAOikQAAAAAAA5qRAAAAAAADgpEAAAAAAAOKkQAAAAAAA4KRAAAAAAADYpEAAAAAAANqkQAAAAAAA2qRAAAAAAADWpEAAAAAAANakQAAAAAAA1qRAAAAAAADWpEAAAAAAANikQAAAAAAA1qRAAAAAAADYpEAAAAAAANikQAAAAAAA2KRAAAAAAADapEAAAAAAANSkQAAAAAAA0qRAAAAAAADMpEAAAAAAAMikQAAAAAAAxqRAAAAAAADIpEAAAAAAAMikQAAAAAAAwqRAAAAAAADCpEAAAAAAAL6kQAAAAAAAvKRAAAAAAAAAAAAAAAAAALikQAAAAAAAtqRAAAAAAAAAAAAAAAAAALKkQAAAAAAAsqRAAAAAAAC2pEAAAAAAALCkQAAAAAAAsKRAAAAAAACypEAAAAAAALikQAAAAAAAtqRAAAAAAAC4pEAAAAAAALakQAAAAAAAtqRAAAAAAAC2pEAAAAAAALSkQAAAAAAAtKRAAAAAAACypEAAAAAAALSkQAAAAAAAsqRAAAAAAAC2pEAAAAAAALikQAAAAAAAtKRAAAAAAAC6pEAAAAAAALakQAAAAAAAtKRAAAAAAAC0pEAAAAAAALSkQAAAAAAAtqRAAAAAAAC2pEAAAAAAAAAAAAAAAAAAtKRAAAAAAACypEAAAAAAALSkQAAAAAAAsqRAAAAAAACypEAAAAAAALKkQAAAAAAAsqRAAAAAAACwpEAAAAAAAKSkQAAAAAAAAAAAAAAAAACipEAAAAAAAAAAAAAAAAAAnKRAAAAAAACcpEAAAAAAAJqkQAAAAAAAqKRAAAAAAACopEAAAAAAAKikQAAAAAAAoqRAAAAAAACkpEAAAAAAAKSkQAAAAAAAqKRAAAAAAACopEAAAAAAAKqkQAAAAAAAsqRAAAAAAACypEAAAAAAALCkQAAAAAAArqRAAAAAAACupEAAAAAAAK6kQAAAAAAAsqRAAAAAAAC2pEAAAAAAALqkQAAAAAAAuKRAAAAAAAC4pEAAAAAAALikQAAAAAAAtqRAAAAAAAC0pEAAAAAAALCkQAAAAAAAtKRAAAAAAAC0pEAAAAAAALKkQAAAAAAAsKRAAAAAAAC0pEAAAAAAAAAAAAAAAAAAtKRAAAAAAAC0pEAAAAAAALKkQAAAAAAAsKRAAAAAAAC0pEAAAAAAAAAAAAAAAAAAsqRAAAAAAACwpEAAAAAAAKykQAAAAAAAsKRAAAAAAACupEAAAAAAAKykQAAAAAAArqRAAAAAAACupEAAAAAAAK6kQAAAAAAArqRAAAAAAACwpEAAAAAAALCkQAAAAAAAAAAAAAAAAACwpEAAAAAAAK6kQAAAAAAAsKRAAAAAAACwpEAAAAAAAAAAAAAAAAAAAAAAAAAAAAAAAAAAAAAAAAAAAAAAAAAAsKRAAAAAAAAAAAAAAAAAAAAAAAAAAAAAAAAAAAAAAAAAAAAAAAAAAAAAAAAAAAAAAAAAAAAAAAAAAAAAAAAAAAAAAAAAAAAAAAAAAAAAAAAAAAAAAAAAAAAAAAAAAAAAAAAAAAAAAAAAAAAAAAAAAAAAAAAAAAAAAAAAAAAAAAAAAAAAAAAAAAAAAAAAAAAAAAAAAAAAAAAAAAAAAAAAAAAAAAAAAAAAAAAAAAAAAAAAAAAAAAAAAAAAAAAAAAAAAAAA\",\"dtype\":\"float64\",\"order\":\"little\",\"shape\":[180]},\"Low_6502\":{\"__ndarray__\":\"AAAAAAD8pEAAAAAAAPakQAAAAAAA8qRAAAAAAAD2pEAAAAAAAOakQAAAAAAA3KRAAAAAAADYpEAAAAAAANykQAAAAAAA4qRAAAAAAADkpEAAAAAAAOakQAAAAAAA6qRAAAAAAADspEAAAAAAAOykQAAAAAAA9KRAAAAAAADypEAAAAAAAPSkQAAAAAAA8qRAAAAAAADspEAAAAAAAOCkQAAAAAAA5KRAAAAAAADmpEAAAAAAAOakQAAAAAAA2qRAAAAAAADYpEAAAAAAANykQAAAAAAA1qRAAAAAAADUpEAAAAAAANSkQAAAAAAA1KRAAAAAAADUpEAAAAAAANKkQAAAAAAAyKRAAAAAAADUpEAAAAAAANSkQAAAAAAA1KRAAAAAAADUpEAAAAAAANSkQAAAAAAA1KRAAAAAAADUpEAAAAAAANKkQAAAAAAAzKRAAAAAAADKpEAAAAAAAMikQAAAAAAAwKRAAAAAAADEpEAAAAAAAMCkQAAAAAAAvKRAAAAAAAC+pEAAAAAAALqkQAAAAAAAtqRAAAAAAAAAAAAAAAAAALikQAAAAAAAtqRAAAAAAAAAAAAAAAAAALCkQAAAAAAArqRAAAAAAACwpEAAAAAAAK6kQAAAAAAArqRAAAAAAACupEAAAAAAALSkQAAAAAAAtKRAAAAAAAC2pEAAAAAAALakQAAAAAAAsqRAAAAAAAC0pEAAAAAAALKkQAAAAAAAsKRAAAAAAACypEAAAAAAALSkQAAAAAAAsqRAAAAAAACwpEAAAAAAALSkQAAAAAAAsqRAAAAAAACypEAAAAAAALSkQAAAAAAAsqRAAAAAAACypEAAAAAAALKkQAAAAAAAsqRAAAAAAACypEAAAAAAAAAAAAAAAAAAtKRAAAAAAACypEAAAAAAAK6kQAAAAAAAsqRAAAAAAACwpEAAAAAAALKkQAAAAAAAsKRAAAAAAACipEAAAAAAAJ6kQAAAAAAAAAAAAAAAAACcpEAAAAAAAAAAAAAAAAAAmqRAAAAAAACYpEAAAAAAAJikQAAAAAAAnKRAAAAAAACmpEAAAAAAAKKkQAAAAAAAoqRAAAAAAACkpEAAAAAAAKSkQAAAAAAApqRAAAAAAACkpEAAAAAAAKakQAAAAAAArKRAAAAAAACwpEAAAAAAAK6kQAAAAAAArqRAAAAAAACspEAAAAAAAKykQAAAAAAArKRAAAAAAACypEAAAAAAALakQAAAAAAAuKRAAAAAAAC4pEAAAAAAALakQAAAAAAAtKRAAAAAAACypEAAAAAAALCkQAAAAAAAsKRAAAAAAACwpEAAAAAAALCkQAAAAAAArqRAAAAAAACwpEAAAAAAAAAAAAAAAAAAsqRAAAAAAACypEAAAAAAALKkQAAAAAAAsKRAAAAAAACypEAAAAAAAAAAAAAAAAAAsKRAAAAAAACupEAAAAAAAKqkQAAAAAAArqRAAAAAAACupEAAAAAAAKykQAAAAAAArKRAAAAAAACqpEAAAAAAAKykQAAAAAAArKRAAAAAAACspEAAAAAAAKykQAAAAAAAAAAAAAAAAACupEAAAAAAAK6kQAAAAAAArKRAAAAAAACwpEAAAAAAAAAAAAAAAAAAAAAAAAAAAAAAAAAAAAAAAAAAAAAAAAAAsKRAAAAAAAAAAAAAAAAAAAAAAAAAAAAAAAAAAAAAAAAAAAAAAAAAAAAAAAAAAAAAAAAAAAAAAAAAAAAAAAAAAAAAAAAAAAAAAAAAAAAAAAAAAAAAAAAAAAAAAAAAAAAAAAAAAAAAAAAAAAAAAAAAAAAAAAAAAAAAAAAAAAAAAAAAAAAAAAAAAAAAAAAAAAAAAAAAAAAAAAAAAAAAAAAAAAAAAAAAAAAAAAAAAAAAAAAAAAAAAAAAAAAAAAAAAAAAAAAA\",\"dtype\":\"float64\",\"order\":\"little\",\"shape\":[180]},\"Open_6502\":{\"__ndarray__\":\"AAAAAAAOpUAAAAAAAAalQAAAAAAA9qRAAAAAAAD8pEAAAAAAAPakQAAAAAAA5KRAAAAAAADapEAAAAAAANykQAAAAAAA4qRAAAAAAADypEAAAAAAAOqkQAAAAAAA6qRAAAAAAADupEAAAAAAAOykQAAAAAAA9KRAAAAAAAD2pEAAAAAAAPakQAAAAAAA8qRAAAAAAADypEAAAAAAAPCkQAAAAAAA5KRAAAAAAADopEAAAAAAAOakQAAAAAAA5qRAAAAAAADapEAAAAAAANykQAAAAAAA4KRAAAAAAADWpEAAAAAAANSkQAAAAAAA1qRAAAAAAADUpEAAAAAAANSkQAAAAAAA0qRAAAAAAADUpEAAAAAAANSkQAAAAAAA1qRAAAAAAADUpEAAAAAAANakQAAAAAAA2KRAAAAAAADapEAAAAAAANKkQAAAAAAA0qRAAAAAAADKpEAAAAAAAMikQAAAAAAAxKRAAAAAAADEpEAAAAAAAMikQAAAAAAAwqRAAAAAAADApEAAAAAAAL6kQAAAAAAAuqRAAAAAAAAAAAAAAAAAALikQAAAAAAAtqRAAAAAAAAAAAAAAAAAALKkQAAAAAAAsKRAAAAAAACypEAAAAAAALCkQAAAAAAArqRAAAAAAACupEAAAAAAALSkQAAAAAAAtqRAAAAAAAC2pEAAAAAAALakQAAAAAAAtKRAAAAAAAC2pEAAAAAAALSkQAAAAAAAsqRAAAAAAACypEAAAAAAALSkQAAAAAAAsqRAAAAAAACypEAAAAAAALakQAAAAAAAtKRAAAAAAACypEAAAAAAALSkQAAAAAAAtKRAAAAAAAC0pEAAAAAAALSkQAAAAAAAsqRAAAAAAAC2pEAAAAAAAAAAAAAAAAAAtKRAAAAAAACypEAAAAAAALKkQAAAAAAAsqRAAAAAAACypEAAAAAAALKkQAAAAAAAsqRAAAAAAACwpEAAAAAAAKCkQAAAAAAAAAAAAAAAAACgpEAAAAAAAAAAAAAAAAAAnKRAAAAAAACcpEAAAAAAAJqkQAAAAAAAnKRAAAAAAACopEAAAAAAAKikQAAAAAAAoqRAAAAAAACkpEAAAAAAAKSkQAAAAAAApqRAAAAAAACopEAAAAAAAKakQAAAAAAArKRAAAAAAACypEAAAAAAALCkQAAAAAAArqRAAAAAAACspEAAAAAAAK6kQAAAAAAArKRAAAAAAACypEAAAAAAALakQAAAAAAAuKRAAAAAAAC4pEAAAAAAALikQAAAAAAAtqRAAAAAAAC0pEAAAAAAALCkQAAAAAAAsqRAAAAAAAC0pEAAAAAAALKkQAAAAAAAsKRAAAAAAACwpEAAAAAAAAAAAAAAAAAAsqRAAAAAAACypEAAAAAAALKkQAAAAAAAsKRAAAAAAACypEAAAAAAAAAAAAAAAAAAsKRAAAAAAACwpEAAAAAAAKykQAAAAAAArqRAAAAAAACupEAAAAAAAKykQAAAAAAArKRAAAAAAACupEAAAAAAAKykQAAAAAAArKRAAAAAAACupEAAAAAAAKykQAAAAAAAAAAAAAAAAACupEAAAAAAAK6kQAAAAAAArKRAAAAAAACwpEAAAAAAAAAAAAAAAAAAAAAAAAAAAAAAAAAAAAAAAAAAAAAAAAAAsKRAAAAAAAAAAAAAAAAAAAAAAAAAAAAAAAAAAAAAAAAAAAAAAAAAAAAAAAAAAAAAAAAAAAAAAAAAAAAAAAAAAAAAAAAAAAAAAAAAAAAAAAAAAAAAAAAAAAAAAAAAAAAAAAAAAAAAAAAAAAAAAAAAAAAAAAAAAAAAAAAAAAAAAAAAAAAAAAAAAAAAAAAAAAAAAAAAAAAAAAAAAAAAAAAAAAAAAAAAAAAAAAAAAAAAAAAAAAAAAAAAAAAAAAAAAAAAAAAA\",\"dtype\":\"float64\",\"order\":\"little\",\"shape\":[180]},\"timestamp\":{\"__ndarray__\":\"AADowotXd0IAAI7Ri1d3QgAANOCLV3dCAADa7otXd0IAAID9i1d3QgAAJgyMV3dCAADMGoxXd0IAAHIpjFd3QgAAGDiMV3dCAAC+RoxXd0IAAGRVjFd3QgAACmSMV3dCAACwcoxXd0IAAFaBjFd3QgAA/I+MV3dCAACinoxXd0IAAEitjFd3QgAA7ruMV3dCAACUyoxXd0IAADrZjFd3QgAA4OeMV3dCAACG9oxXd0IAACwFjVd3QgAA0hONV3dCAAB4Io1Xd0IAAB4xjVd3QgAAxD+NV3dCAABqTo1Xd0IAABBdjVd3QgAAtmuNV3dCAABceo1Xd0IAAAKJjVd3QgAAqJeNV3dCAABOpo1Xd0IAAPS0jVd3QgAAmsONV3dCAABA0o1Xd0IAAObgjVd3QgAAjO+NV3dCAAAy/o1Xd0IAANgMjld3QgAAfhuOV3dCAAAkKo5Xd0IAAMo4jld3QgAAcEeOV3dCAAAWVo5Xd0IAALxkjld3QgAAYnOOV3dCAAAIgo5Xd0IAAK6Qjld3QgAAVJ+OV3dCAAD6rY5Xd0IAAKC8jld3QgAARsuOV3dCAADs2Y5Xd0IAAJLojld3QgAAOPeOV3dCAADeBY9Xd0IAAIQUj1d3QgAAKiOPV3dCAADQMY9Xd0IAAHZAj1d3QgAAHE+PV3dCAADCXY9Xd0IAAGhsj1d3QgAADnuPV3dCAAC0iY9Xd0IAAFqYj1d3QgAAAKePV3dCAACmtY9Xd0IAAEzEj1d3QgAA8tKPV3dCAACY4Y9Xd0IAAD7wj1d3QgAA5P6PV3dCAACKDZBXd0IAADAckFd3QgAA1iqQV3dCAAB8OZBXd0IAACJIkFd3QgAAyFaQV3dCAABuZZBXd0IAABR0kFd3QgAAuoKQV3dCAABgkZBXd0IAAAagkFd3QgAArK6QV3dCAABSvZBXd0IAAPjLkFd3QgAAntqQV3dCAABE6ZBXd0IAAOr3kFd3QgAAkAaRV3dCAAA2FZFXd0IAANwjkVd3QgAAgjKRV3dCAAAoQZFXd0IAAM5PkVd3QgAAdF6RV3dCAAAabZFXd0IAAMB7kVd3QgAAZoqRV3dCAAAMmZFXd0IAALKnkVd3QgAAWLaRV3dCAAD+xJFXd0IAAKTTkVd3QgAASuKRV3dCAADw8JFXd0IAAJb/kVd3QgAAPA6SV3dCAADiHJJXd0IAAIgrkld3QgAALjqSV3dCAADUSJJXd0IAAHpXkld3QgAAIGaSV3dCAADGdJJXd0IAAGyDkld3QgAAEpKSV3dCAAC4oJJXd0IAAF6vkld3QgAABL6SV3dCAACqzJJXd0IAAFDbkld3QgAA9umSV3dCAACc+JJXd0IAAEIHk1d3QgAA6BWTV3dCAACOJJNXd0IAADQzk1d3QgAA2kGTV3dCAACAUJNXd0IAACZfk1d3QgAAzG2TV3dCAAByfJNXd0IAABiLk1d3QgAAvpmTV3dCAABkqJNXd0IAAAq3k1d3QgAAsMWTV3dCAABW1JNXd0IAAPzik1d3QgAAovGTV3dCAABIAJRXd0IAAO4OlFd3QgAAlB2UV3dCAAA6LJRXd0IAAOA6lFd3QgAAhkmUV3dCAAAsWJRXd0IAANJmlFd3QgAAeHWUV3dCAAAehJRXd0IAAMSSlFd3QgAAaqGUV3dCAAAQsJRXd0IAALa+lFd3QgAAXM2UV3dCAAAC3JRXd0IAAKjqlFd3QgAATvmUV3dCAAD0B5VXd0IAAJoWlVd3QgAAQCWVV3dCAADmM5VXd0IAAIxClVd3QgAAMlGVV3dCAADYX5VXd0IAAH5ulVd3QgAAJH2VV3dCAADKi5VXd0IAAHCalVd3QgAAFqmVV3dCAAC8t5VXd0IAAGLGlVd3QgAACNWVV3dCAACu45VXd0IAAFTylVd3QgAA+gCWV3dC\",\"dtype\":\"float64\",\"order\":\"little\",\"shape\":[180]}},\"selected\":{\"id\":\"1527\"},\"selection_policy\":{\"id\":\"1528\"}},\"id\":\"1420\",\"type\":\"ColumnDataSource\"},{\"attributes\":{\"days\":[1,2,3,4,5,6,7,8,9,10,11,12,13,14,15,16,17,18,19,20,21,22,23,24,25,26,27,28,29,30,31]},\"id\":\"1532\",\"type\":\"DaysTicker\"},{\"attributes\":{},\"id\":\"1528\",\"type\":\"UnionRenderers\"},{\"attributes\":{\"days\":[1,4,7,10,13,16,19,22,25,28]},\"id\":\"1533\",\"type\":\"DaysTicker\"},{\"attributes\":{\"bottom\":{\"field\":\"Close_6502\"},\"fill_alpha\":{\"value\":0.1},\"fill_color\":{\"value\":\"#4be639\"},\"line_alpha\":{\"value\":0.1},\"top\":{\"field\":\"Open_6502\"},\"width\":{\"value\":60000.0},\"x\":{\"field\":\"timestamp\"}},\"id\":\"1463\",\"type\":\"VBar\"},{\"attributes\":{\"base\":24,\"mantissas\":[1,2,4,6,8,12],\"max_interval\":43200000.0,\"min_interval\":3600000.0,\"num_minor_ticks\":0},\"id\":\"1531\",\"type\":\"AdaptiveTicker\"},{\"attributes\":{},\"id\":\"1523\",\"type\":\"BasicTickFormatter\"},{\"attributes\":{\"days\":[\"%m-%d-%H-%M\"],\"hours\":[\"%m-%d-%H-%M\"],\"minutes\":[\"%m-%d-%H-%M\"],\"months\":[\"%m-%d-%H-%M\"],\"years\":[\"%m-%d-%H-%M\"]},\"id\":\"1469\",\"type\":\"DatetimeTickFormatter\"},{\"attributes\":{\"data_source\":{\"id\":\"1420\"},\"glyph\":{\"id\":\"1466\"},\"hover_glyph\":null,\"muted_glyph\":null,\"nonselection_glyph\":{\"id\":\"1467\"},\"selection_glyph\":null,\"view\":{\"id\":\"1424\"}},\"id\":\"1468\",\"type\":\"GlyphRenderer\"},{\"attributes\":{},\"id\":\"1445\",\"type\":\"SaveTool\"},{\"attributes\":{},\"id\":\"1439\",\"type\":\"BasicTicker\"},{\"attributes\":{\"num_minor_ticks\":5,\"tickers\":[{\"id\":\"1529\"},{\"id\":\"1530\"},{\"id\":\"1531\"},{\"id\":\"1532\"},{\"id\":\"1533\"},{\"id\":\"1534\"},{\"id\":\"1535\"},{\"id\":\"1536\"},{\"id\":\"1537\"},{\"id\":\"1538\"},{\"id\":\"1539\"},{\"id\":\"1540\"}]},\"id\":\"1435\",\"type\":\"DatetimeTicker\"},{\"attributes\":{\"end\":1604059140000.0,\"start\":1604048400000.0},\"id\":\"1425\",\"type\":\"Range1d\"},{\"attributes\":{\"line_alpha\":{\"value\":0.1},\"x0\":{\"field\":\"timestamp\"},\"x1\":{\"field\":\"timestamp\"},\"y0\":{\"field\":\"Low_6502\"},\"y1\":{\"field\":\"High_6502\"}},\"id\":\"1458\",\"type\":\"Segment\"},{\"attributes\":{\"filters\":[{\"id\":\"1421\"}],\"source\":{\"id\":\"1420\"}},\"id\":\"1423\",\"type\":\"CDSView\"},{\"attributes\":{\"active_drag\":\"auto\",\"active_inspect\":\"auto\",\"active_multi\":null,\"active_scroll\":\"auto\",\"active_tap\":\"auto\",\"tools\":[{\"id\":\"1442\"},{\"id\":\"1443\"},{\"id\":\"1444\"},{\"id\":\"1445\"},{\"id\":\"1446\"},{\"id\":\"1447\"}]},\"id\":\"1449\",\"type\":\"Toolbar\"},{\"attributes\":{\"bottom\":{\"field\":\"Open_6502\"},\"fill_color\":{\"value\":\"#F2583E\"},\"top\":{\"field\":\"Close_6502\"},\"width\":{\"value\":60000.0},\"x\":{\"field\":\"timestamp\"}},\"id\":\"1466\",\"type\":\"VBar\"},{\"attributes\":{\"filters\":[{\"id\":\"1422\"}],\"source\":{\"id\":\"1420\"}},\"id\":\"1424\",\"type\":\"CDSView\"},{\"attributes\":{\"bottom_units\":\"screen\",\"fill_alpha\":0.5,\"fill_color\":\"lightgrey\",\"left_units\":\"screen\",\"level\":\"overlay\",\"line_alpha\":1.0,\"line_color\":\"black\",\"line_dash\":[4,4],\"line_width\":2,\"right_units\":\"screen\",\"top_units\":\"screen\"},\"id\":\"1448\",\"type\":\"BoxAnnotation\"},{\"attributes\":{\"axis\":{\"id\":\"1434\"},\"ticker\":null},\"id\":\"1437\",\"type\":\"Grid\"},{\"attributes\":{\"booleans\":[false,false,true,false,false,false,true,true,true,false,true,true,false,true,true,false,true,true,false,false,true,true,true,false,true,true,false,true,true,true,true,true,true,true,true,true,true,true,true,false,true,false,true,true,true,true,false,false,false,false,false,false,true,true,false,true,true,false,false,true,true,true,false,true,true,true,false,false,true,true,true,true,true,false,true,true,true,false,false,false,true,false,false,true,true,true,true,true,true,true,false,true,false,false,false,true,false,true,true,false,false,true,true,true,true,false,true,true,true,false,true,true,false,true,true,true,true,true,false,false,false,true,true,true,false,false,true,false,true,true,true,true,true,false,true,false,false,true,true,true,true,true,true,true,false,true,false,true,true,true,true,false,false,false,false,true,false,false,false,false,false,false,false,false,false,false,false,false,false,false,false,false,false,false,false,false,false,false,false,false]},\"id\":\"1421\",\"type\":\"BooleanFilter\"},{\"attributes\":{\"mantissas\":[1,2,5],\"max_interval\":500.0,\"num_minor_ticks\":0},\"id\":\"1529\",\"type\":\"AdaptiveTicker\"},{\"attributes\":{},\"id\":\"1432\",\"type\":\"LinearScale\"},{\"attributes\":{},\"id\":\"1447\",\"type\":\"HelpTool\"},{\"attributes\":{\"base\":60,\"mantissas\":[1,2,5,10,15,20,30],\"max_interval\":1800000.0,\"min_interval\":1000.0,\"num_minor_ticks\":0},\"id\":\"1530\",\"type\":\"AdaptiveTicker\"},{\"attributes\":{\"source\":{\"id\":\"1420\"}},\"id\":\"1460\",\"type\":\"CDSView\"},{\"attributes\":{\"end\":2706.0,\"start\":2626.0},\"id\":\"1426\",\"type\":\"Range1d\"},{\"attributes\":{},\"id\":\"1430\",\"type\":\"LinearScale\"},{\"attributes\":{\"data_source\":{\"id\":\"1420\"},\"glyph\":{\"id\":\"1457\"},\"hover_glyph\":null,\"muted_glyph\":null,\"nonselection_glyph\":{\"id\":\"1458\"},\"selection_glyph\":null,\"view\":{\"id\":\"1460\"}},\"id\":\"1459\",\"type\":\"GlyphRenderer\"},{\"attributes\":{\"bottom\":{\"field\":\"Close_6502\"},\"fill_color\":{\"value\":\"#4be639\"},\"top\":{\"field\":\"Open_6502\"},\"width\":{\"value\":60000.0},\"x\":{\"field\":\"timestamp\"}},\"id\":\"1462\",\"type\":\"VBar\"},{\"attributes\":{\"booleans\":[true,true,false,true,true,true,false,false,false,true,false,false,true,false,false,true,false,false,true,true,false,false,false,true,false,false,true,false,false,false,false,false,false,false,false,false,false,false,false,true,false,true,false,false,false,false,true,true,true,true,true,false,false,false,false,false,false,true,true,false,false,false,true,false,false,false,true,true,false,false,false,false,false,true,false,false,false,true,true,true,false,true,false,false,false,false,false,false,false,false,true,false,false,true,false,false,true,false,false,true,true,false,false,false,false,true,false,false,false,true,false,false,true,false,false,false,false,false,true,true,true,false,false,false,true,true,false,false,false,false,false,false,false,false,false,true,true,false,false,false,false,false,false,false,true,false,false,false,false,false,false,false,false,false,false,false,false,false,false,false,false,false,false,false,false,false,false,false,false,false,false,false,false,false,false,false,false,false,false,false]},\"id\":\"1422\",\"type\":\"BooleanFilter\"},{\"attributes\":{\"formatter\":{\"id\":\"1523\"},\"ticker\":{\"id\":\"1439\"}},\"id\":\"1438\",\"type\":\"LinearAxis\"},{\"attributes\":{},\"id\":\"1527\",\"type\":\"Selection\"},{\"attributes\":{\"text\":\"\"},\"id\":\"1521\",\"type\":\"Title\"},{\"attributes\":{\"days\":[1,8,15,22]},\"id\":\"1534\",\"type\":\"DaysTicker\"},{\"attributes\":{},\"id\":\"1540\",\"type\":\"YearsTicker\"},{\"attributes\":{\"months\":[0,4,8]},\"id\":\"1538\",\"type\":\"MonthsTicker\"},{\"attributes\":{},\"id\":\"1442\",\"type\":\"PanTool\"}],\"root_ids\":[\"1427\"]},\"title\":\"Bokeh Application\",\"version\":\"2.2.3\"}};\n",
       "  var render_items = [{\"docid\":\"85cbca1d-1a6e-4da5-8b93-96f248f48887\",\"notebook_comms_target\":\"1541\",\"root_ids\":[\"1427\"],\"roots\":{\"1427\":\"4d317dc2-aee4-49f4-8ba2-5f65de7d22a9\"}}];\n",
       "  root.Bokeh.embed.embed_items_notebook(docs_json, render_items);\n",
       "\n",
       "  }\n",
       "  if (root.Bokeh !== undefined) {\n",
       "    embed_document(root);\n",
       "  } else {\n",
       "    var attempts = 0;\n",
       "    var timer = setInterval(function(root) {\n",
       "      if (root.Bokeh !== undefined) {\n",
       "        clearInterval(timer);\n",
       "        embed_document(root);\n",
       "      } else {\n",
       "        attempts++;\n",
       "        if (attempts > 100) {\n",
       "          clearInterval(timer);\n",
       "          console.log(\"Bokeh: ERROR: Unable to run BokehJS code because BokehJS library is missing\");\n",
       "        }\n",
       "      }\n",
       "    }, 10, root)\n",
       "  }\n",
       "})(window);"
      ],
      "application/vnd.bokehjs_exec.v0+json": ""
     },
     "metadata": {
      "application/vnd.bokehjs_exec.v0+json": {
       "id": "1427"
      }
     },
     "output_type": "display_data"
    },
    {
     "ename": "KeyboardInterrupt",
     "evalue": "",
     "output_type": "error",
     "traceback": [
      "\u001b[1;31m---------------------------------------------------------------------------\u001b[0m",
      "\u001b[1;31mKeyboardInterrupt\u001b[0m                         Traceback (most recent call last)",
      "\u001b[1;32m<ipython-input-15-be3e859f5fa4>\u001b[0m in \u001b[0;36m<module>\u001b[1;34m\u001b[0m\n\u001b[0;32m      3\u001b[0m \u001b[1;32mfor\u001b[0m \u001b[0mi\u001b[0m \u001b[1;32min\u001b[0m \u001b[0mrange\u001b[0m\u001b[1;33m(\u001b[0m\u001b[1;36m1000\u001b[0m\u001b[1;33m)\u001b[0m\u001b[1;33m:\u001b[0m\u001b[1;33m\u001b[0m\u001b[1;33m\u001b[0m\u001b[0m\n\u001b[0;32m      4\u001b[0m     \u001b[0mtime\u001b[0m\u001b[1;33m.\u001b[0m\u001b[0msleep\u001b[0m\u001b[1;33m(\u001b[0m\u001b[1;36m1\u001b[0m\u001b[1;33m)\u001b[0m\u001b[1;33m\u001b[0m\u001b[1;33m\u001b[0m\u001b[0m\n\u001b[1;32m----> 5\u001b[1;33m     \u001b[0mbokeh_candle_stick\u001b[0m\u001b[1;33m.\u001b[0m\u001b[0mupdate\u001b[0m\u001b[1;33m(\u001b[0m\u001b[1;33m)\u001b[0m\u001b[1;33m\u001b[0m\u001b[1;33m\u001b[0m\u001b[0m\n\u001b[0m",
      "\u001b[1;32mE:\\システムトレード入門\\predict_git_workspace\\visualization\\bokeh_candle_stick_ver1.py\u001b[0m in \u001b[0;36mupdate\u001b[1;34m(self)\u001b[0m\n\u001b[0;32m    341\u001b[0m         \u001b[1;31m# filterの変更\u001b[0m\u001b[1;33m\u001b[0m\u001b[1;33m\u001b[0m\u001b[1;33m\u001b[0m\u001b[0m\n\u001b[0;32m    342\u001b[0m         \u001b[0mself\u001b[0m\u001b[1;33m.\u001b[0m\u001b[0mview_increase\u001b[0m\u001b[1;33m.\u001b[0m\u001b[0mfilters\u001b[0m \u001b[1;33m=\u001b[0m \u001b[1;33m[\u001b[0m\u001b[0mBooleanFilter\u001b[0m\u001b[1;33m(\u001b[0m\u001b[0mself\u001b[0m\u001b[1;33m.\u001b[0m\u001b[0mtemp_increase\u001b[0m\u001b[1;33m)\u001b[0m\u001b[1;33m,\u001b[0m\u001b[1;33m]\u001b[0m\u001b[1;33m\u001b[0m\u001b[1;33m\u001b[0m\u001b[0m\n\u001b[1;32m--> 343\u001b[1;33m         \u001b[0mself\u001b[0m\u001b[1;33m.\u001b[0m\u001b[0mview_decrease\u001b[0m\u001b[1;33m.\u001b[0m\u001b[0mfilters\u001b[0m \u001b[1;33m=\u001b[0m \u001b[1;33m[\u001b[0m\u001b[0mBooleanFilter\u001b[0m\u001b[1;33m(\u001b[0m\u001b[0mself\u001b[0m\u001b[1;33m.\u001b[0m\u001b[0mtemp_decrease\u001b[0m\u001b[1;33m)\u001b[0m\u001b[1;33m,\u001b[0m\u001b[1;33m]\u001b[0m\u001b[1;33m\u001b[0m\u001b[1;33m\u001b[0m\u001b[0m\n\u001b[0m\u001b[0;32m    344\u001b[0m \u001b[1;33m\u001b[0m\u001b[0m\n\u001b[0;32m    345\u001b[0m         \u001b[1;31m# sourceの変更\u001b[0m\u001b[1;33m\u001b[0m\u001b[1;33m\u001b[0m\u001b[1;33m\u001b[0m\u001b[0m\n",
      "\u001b[1;32m~\\Anaconda3\\envs\\torch_py37\\lib\\site-packages\\bokeh\\core\\has_props.py\u001b[0m in \u001b[0;36m__setattr__\u001b[1;34m(self, name, value)\u001b[0m\n\u001b[0;32m    276\u001b[0m \u001b[1;33m\u001b[0m\u001b[0m\n\u001b[0;32m    277\u001b[0m         \u001b[1;32mif\u001b[0m \u001b[0mname\u001b[0m \u001b[1;32min\u001b[0m \u001b[0mprops\u001b[0m \u001b[1;32mor\u001b[0m \u001b[1;33m(\u001b[0m\u001b[0mdescriptor\u001b[0m \u001b[1;32mis\u001b[0m \u001b[1;32mnot\u001b[0m \u001b[1;32mNone\u001b[0m \u001b[1;32mand\u001b[0m \u001b[0mdescriptor\u001b[0m\u001b[1;33m.\u001b[0m\u001b[0mfset\u001b[0m \u001b[1;32mis\u001b[0m \u001b[1;32mnot\u001b[0m \u001b[1;32mNone\u001b[0m\u001b[1;33m)\u001b[0m\u001b[1;33m:\u001b[0m\u001b[1;33m\u001b[0m\u001b[1;33m\u001b[0m\u001b[0m\n\u001b[1;32m--> 278\u001b[1;33m             \u001b[0msuper\u001b[0m\u001b[1;33m(\u001b[0m\u001b[1;33m)\u001b[0m\u001b[1;33m.\u001b[0m\u001b[0m__setattr__\u001b[0m\u001b[1;33m(\u001b[0m\u001b[0mname\u001b[0m\u001b[1;33m,\u001b[0m \u001b[0mvalue\u001b[0m\u001b[1;33m)\u001b[0m\u001b[1;33m\u001b[0m\u001b[1;33m\u001b[0m\u001b[0m\n\u001b[0m\u001b[0;32m    279\u001b[0m         \u001b[1;32melse\u001b[0m\u001b[1;33m:\u001b[0m\u001b[1;33m\u001b[0m\u001b[1;33m\u001b[0m\u001b[0m\n\u001b[0;32m    280\u001b[0m             \u001b[0mmatches\u001b[0m\u001b[1;33m,\u001b[0m \u001b[0mtext\u001b[0m \u001b[1;33m=\u001b[0m \u001b[0mdifflib\u001b[0m\u001b[1;33m.\u001b[0m\u001b[0mget_close_matches\u001b[0m\u001b[1;33m(\u001b[0m\u001b[0mname\u001b[0m\u001b[1;33m.\u001b[0m\u001b[0mlower\u001b[0m\u001b[1;33m(\u001b[0m\u001b[1;33m)\u001b[0m\u001b[1;33m,\u001b[0m \u001b[0mprops\u001b[0m\u001b[1;33m)\u001b[0m\u001b[1;33m,\u001b[0m \u001b[1;34m\"similar\"\u001b[0m\u001b[1;33m\u001b[0m\u001b[1;33m\u001b[0m\u001b[0m\n",
      "\u001b[1;32m~\\Anaconda3\\envs\\torch_py37\\lib\\site-packages\\bokeh\\core\\property\\descriptors.py\u001b[0m in \u001b[0;36m__set__\u001b[1;34m(self, obj, value, setter)\u001b[0m\n\u001b[0;32m    537\u001b[0m             \u001b[1;32mraise\u001b[0m \u001b[0mRuntimeError\u001b[0m\u001b[1;33m(\u001b[0m\u001b[1;34m\"%s.%s is a readonly property\"\u001b[0m \u001b[1;33m%\u001b[0m \u001b[1;33m(\u001b[0m\u001b[0mobj\u001b[0m\u001b[1;33m.\u001b[0m\u001b[0m__class__\u001b[0m\u001b[1;33m.\u001b[0m\u001b[0m__name__\u001b[0m\u001b[1;33m,\u001b[0m \u001b[0mself\u001b[0m\u001b[1;33m.\u001b[0m\u001b[0mname\u001b[0m\u001b[1;33m)\u001b[0m\u001b[1;33m)\u001b[0m\u001b[1;33m\u001b[0m\u001b[1;33m\u001b[0m\u001b[0m\n\u001b[0;32m    538\u001b[0m \u001b[1;33m\u001b[0m\u001b[0m\n\u001b[1;32m--> 539\u001b[1;33m         \u001b[0mself\u001b[0m\u001b[1;33m.\u001b[0m\u001b[0m_internal_set\u001b[0m\u001b[1;33m(\u001b[0m\u001b[0mobj\u001b[0m\u001b[1;33m,\u001b[0m \u001b[0mvalue\u001b[0m\u001b[1;33m,\u001b[0m \u001b[0msetter\u001b[0m\u001b[1;33m=\u001b[0m\u001b[0msetter\u001b[0m\u001b[1;33m)\u001b[0m\u001b[1;33m\u001b[0m\u001b[1;33m\u001b[0m\u001b[0m\n\u001b[0m\u001b[0;32m    540\u001b[0m \u001b[1;33m\u001b[0m\u001b[0m\n\u001b[0;32m    541\u001b[0m     \u001b[1;32mdef\u001b[0m \u001b[0m__delete__\u001b[0m\u001b[1;33m(\u001b[0m\u001b[0mself\u001b[0m\u001b[1;33m,\u001b[0m \u001b[0mobj\u001b[0m\u001b[1;33m)\u001b[0m\u001b[1;33m:\u001b[0m\u001b[1;33m\u001b[0m\u001b[1;33m\u001b[0m\u001b[0m\n",
      "\u001b[1;32m~\\Anaconda3\\envs\\torch_py37\\lib\\site-packages\\bokeh\\core\\property\\descriptors.py\u001b[0m in \u001b[0;36m_internal_set\u001b[1;34m(self, obj, value, hint, setter)\u001b[0m\n\u001b[0;32m    761\u001b[0m \u001b[1;33m\u001b[0m\u001b[0m\n\u001b[0;32m    762\u001b[0m         \u001b[0mold\u001b[0m \u001b[1;33m=\u001b[0m \u001b[0mself\u001b[0m\u001b[1;33m.\u001b[0m\u001b[0m__get__\u001b[0m\u001b[1;33m(\u001b[0m\u001b[0mobj\u001b[0m\u001b[1;33m,\u001b[0m \u001b[0mobj\u001b[0m\u001b[1;33m.\u001b[0m\u001b[0m__class__\u001b[0m\u001b[1;33m)\u001b[0m\u001b[1;33m\u001b[0m\u001b[1;33m\u001b[0m\u001b[0m\n\u001b[1;32m--> 763\u001b[1;33m         \u001b[0mself\u001b[0m\u001b[1;33m.\u001b[0m\u001b[0m_real_set\u001b[0m\u001b[1;33m(\u001b[0m\u001b[0mobj\u001b[0m\u001b[1;33m,\u001b[0m \u001b[0mold\u001b[0m\u001b[1;33m,\u001b[0m \u001b[0mvalue\u001b[0m\u001b[1;33m,\u001b[0m \u001b[0mhint\u001b[0m\u001b[1;33m=\u001b[0m\u001b[0mhint\u001b[0m\u001b[1;33m,\u001b[0m \u001b[0msetter\u001b[0m\u001b[1;33m=\u001b[0m\u001b[0msetter\u001b[0m\u001b[1;33m)\u001b[0m\u001b[1;33m\u001b[0m\u001b[1;33m\u001b[0m\u001b[0m\n\u001b[0m\u001b[0;32m    764\u001b[0m \u001b[1;33m\u001b[0m\u001b[0m\n\u001b[0;32m    765\u001b[0m     \u001b[1;32mdef\u001b[0m \u001b[0m_real_set\u001b[0m\u001b[1;33m(\u001b[0m\u001b[0mself\u001b[0m\u001b[1;33m,\u001b[0m \u001b[0mobj\u001b[0m\u001b[1;33m,\u001b[0m \u001b[0mold\u001b[0m\u001b[1;33m,\u001b[0m \u001b[0mvalue\u001b[0m\u001b[1;33m,\u001b[0m \u001b[0mhint\u001b[0m\u001b[1;33m=\u001b[0m\u001b[1;32mNone\u001b[0m\u001b[1;33m,\u001b[0m \u001b[0msetter\u001b[0m\u001b[1;33m=\u001b[0m\u001b[1;32mNone\u001b[0m\u001b[1;33m)\u001b[0m\u001b[1;33m:\u001b[0m\u001b[1;33m\u001b[0m\u001b[1;33m\u001b[0m\u001b[0m\n",
      "\u001b[1;32m~\\Anaconda3\\envs\\torch_py37\\lib\\site-packages\\bokeh\\core\\property\\descriptors.py\u001b[0m in \u001b[0;36m_real_set\u001b[1;34m(self, obj, old, value, hint, setter)\u001b[0m\n\u001b[0;32m    830\u001b[0m \u001b[1;33m\u001b[0m\u001b[0m\n\u001b[0;32m    831\u001b[0m         \u001b[1;31m# for notification purposes, \"old\" should be the logical old\u001b[0m\u001b[1;33m\u001b[0m\u001b[1;33m\u001b[0m\u001b[1;33m\u001b[0m\u001b[0m\n\u001b[1;32m--> 832\u001b[1;33m         \u001b[0mself\u001b[0m\u001b[1;33m.\u001b[0m\u001b[0m_trigger\u001b[0m\u001b[1;33m(\u001b[0m\u001b[0mobj\u001b[0m\u001b[1;33m,\u001b[0m \u001b[0mold\u001b[0m\u001b[1;33m,\u001b[0m \u001b[0mvalue\u001b[0m\u001b[1;33m,\u001b[0m \u001b[0mhint\u001b[0m\u001b[1;33m=\u001b[0m\u001b[0mhint\u001b[0m\u001b[1;33m,\u001b[0m \u001b[0msetter\u001b[0m\u001b[1;33m=\u001b[0m\u001b[0msetter\u001b[0m\u001b[1;33m)\u001b[0m\u001b[1;33m\u001b[0m\u001b[1;33m\u001b[0m\u001b[0m\n\u001b[0m\u001b[0;32m    833\u001b[0m \u001b[1;33m\u001b[0m\u001b[0m\n\u001b[0;32m    834\u001b[0m     \u001b[1;31m# called when a container is mutated \"behind our back\" and\u001b[0m\u001b[1;33m\u001b[0m\u001b[1;33m\u001b[0m\u001b[1;33m\u001b[0m\u001b[0m\n",
      "\u001b[1;32m~\\Anaconda3\\envs\\torch_py37\\lib\\site-packages\\bokeh\\core\\property\\descriptors.py\u001b[0m in \u001b[0;36m_trigger\u001b[1;34m(self, obj, old, value, hint, setter)\u001b[0m\n\u001b[0;32m    907\u001b[0m         '''\n\u001b[0;32m    908\u001b[0m         \u001b[1;32mif\u001b[0m \u001b[0mhasattr\u001b[0m\u001b[1;33m(\u001b[0m\u001b[0mobj\u001b[0m\u001b[1;33m,\u001b[0m \u001b[1;34m'trigger'\u001b[0m\u001b[1;33m)\u001b[0m\u001b[1;33m:\u001b[0m\u001b[1;33m\u001b[0m\u001b[1;33m\u001b[0m\u001b[0m\n\u001b[1;32m--> 909\u001b[1;33m             \u001b[0mobj\u001b[0m\u001b[1;33m.\u001b[0m\u001b[0mtrigger\u001b[0m\u001b[1;33m(\u001b[0m\u001b[0mself\u001b[0m\u001b[1;33m.\u001b[0m\u001b[0mname\u001b[0m\u001b[1;33m,\u001b[0m \u001b[0mold\u001b[0m\u001b[1;33m,\u001b[0m \u001b[0mvalue\u001b[0m\u001b[1;33m,\u001b[0m \u001b[0mhint\u001b[0m\u001b[1;33m,\u001b[0m \u001b[0msetter\u001b[0m\u001b[1;33m)\u001b[0m\u001b[1;33m\u001b[0m\u001b[1;33m\u001b[0m\u001b[0m\n\u001b[0m\u001b[0;32m    910\u001b[0m \u001b[1;33m\u001b[0m\u001b[0m\n\u001b[0;32m    911\u001b[0m \u001b[1;33m\u001b[0m\u001b[0m\n",
      "\u001b[1;32m~\\Anaconda3\\envs\\torch_py37\\lib\\site-packages\\bokeh\\model.py\u001b[0m in \u001b[0;36mtrigger\u001b[1;34m(self, attr, old, new, hint, setter)\u001b[0m\n\u001b[0;32m    660\u001b[0m                 \u001b[0m_visit_value_and_its_immediate_references\u001b[0m\u001b[1;33m(\u001b[0m\u001b[0mold\u001b[0m\u001b[1;33m,\u001b[0m \u001b[0mmark_dirty\u001b[0m\u001b[1;33m)\u001b[0m\u001b[1;33m\u001b[0m\u001b[1;33m\u001b[0m\u001b[0m\n\u001b[0;32m    661\u001b[0m                 \u001b[1;32mif\u001b[0m \u001b[0mdirty\u001b[0m\u001b[1;33m[\u001b[0m\u001b[1;34m'count'\u001b[0m\u001b[1;33m]\u001b[0m \u001b[1;33m>\u001b[0m \u001b[1;36m0\u001b[0m\u001b[1;33m:\u001b[0m\u001b[1;33m\u001b[0m\u001b[1;33m\u001b[0m\u001b[0m\n\u001b[1;32m--> 662\u001b[1;33m                     \u001b[0mself\u001b[0m\u001b[1;33m.\u001b[0m\u001b[0m_document\u001b[0m\u001b[1;33m.\u001b[0m\u001b[0m_invalidate_all_models\u001b[0m\u001b[1;33m(\u001b[0m\u001b[1;33m)\u001b[0m\u001b[1;33m\u001b[0m\u001b[1;33m\u001b[0m\u001b[0m\n\u001b[0m\u001b[0;32m    663\u001b[0m         \u001b[1;31m# chain up to invoke callbacks\u001b[0m\u001b[1;33m\u001b[0m\u001b[1;33m\u001b[0m\u001b[1;33m\u001b[0m\u001b[0m\n\u001b[0;32m    664\u001b[0m         \u001b[0msuper\u001b[0m\u001b[1;33m(\u001b[0m\u001b[1;33m)\u001b[0m\u001b[1;33m.\u001b[0m\u001b[0mtrigger\u001b[0m\u001b[1;33m(\u001b[0m\u001b[0mattr\u001b[0m\u001b[1;33m,\u001b[0m \u001b[0mold\u001b[0m\u001b[1;33m,\u001b[0m \u001b[0mnew\u001b[0m\u001b[1;33m,\u001b[0m \u001b[0mhint\u001b[0m\u001b[1;33m=\u001b[0m\u001b[0mhint\u001b[0m\u001b[1;33m,\u001b[0m \u001b[0msetter\u001b[0m\u001b[1;33m=\u001b[0m\u001b[0msetter\u001b[0m\u001b[1;33m)\u001b[0m\u001b[1;33m\u001b[0m\u001b[1;33m\u001b[0m\u001b[0m\n",
      "\u001b[1;32m~\\Anaconda3\\envs\\torch_py37\\lib\\site-packages\\bokeh\\document\\document.py\u001b[0m in \u001b[0;36m_invalidate_all_models\u001b[1;34m(self)\u001b[0m\n\u001b[0;32m   1029\u001b[0m         \u001b[1;31m# if freeze count is > 0, we'll recompute on unfreeze\u001b[0m\u001b[1;33m\u001b[0m\u001b[1;33m\u001b[0m\u001b[1;33m\u001b[0m\u001b[0m\n\u001b[0;32m   1030\u001b[0m         \u001b[1;32mif\u001b[0m \u001b[0mself\u001b[0m\u001b[1;33m.\u001b[0m\u001b[0m_all_models_freeze_count\u001b[0m \u001b[1;33m==\u001b[0m \u001b[1;36m0\u001b[0m\u001b[1;33m:\u001b[0m\u001b[1;33m\u001b[0m\u001b[1;33m\u001b[0m\u001b[0m\n\u001b[1;32m-> 1031\u001b[1;33m             \u001b[0mself\u001b[0m\u001b[1;33m.\u001b[0m\u001b[0m_recompute_all_models\u001b[0m\u001b[1;33m(\u001b[0m\u001b[1;33m)\u001b[0m\u001b[1;33m\u001b[0m\u001b[1;33m\u001b[0m\u001b[0m\n\u001b[0m\u001b[0;32m   1032\u001b[0m \u001b[1;33m\u001b[0m\u001b[0m\n\u001b[0;32m   1033\u001b[0m     \u001b[1;32mdef\u001b[0m \u001b[0m_is_single_string_selector\u001b[0m\u001b[1;33m(\u001b[0m\u001b[0mself\u001b[0m\u001b[1;33m,\u001b[0m \u001b[0mselector\u001b[0m\u001b[1;33m,\u001b[0m \u001b[0mfield\u001b[0m\u001b[1;33m)\u001b[0m\u001b[1;33m:\u001b[0m\u001b[1;33m\u001b[0m\u001b[1;33m\u001b[0m\u001b[0m\n",
      "\u001b[1;32m~\\Anaconda3\\envs\\torch_py37\\lib\\site-packages\\bokeh\\document\\document.py\u001b[0m in \u001b[0;36m_recompute_all_models\u001b[1;34m(self)\u001b[0m\n\u001b[0;32m   1081\u001b[0m         \u001b[0mnew_all_models_set\u001b[0m \u001b[1;33m=\u001b[0m \u001b[0mset\u001b[0m\u001b[1;33m(\u001b[0m\u001b[1;33m)\u001b[0m\u001b[1;33m\u001b[0m\u001b[1;33m\u001b[0m\u001b[0m\n\u001b[0;32m   1082\u001b[0m         \u001b[1;32mfor\u001b[0m \u001b[0mr\u001b[0m \u001b[1;32min\u001b[0m \u001b[0mself\u001b[0m\u001b[1;33m.\u001b[0m\u001b[0mroots\u001b[0m\u001b[1;33m:\u001b[0m\u001b[1;33m\u001b[0m\u001b[1;33m\u001b[0m\u001b[0m\n\u001b[1;32m-> 1083\u001b[1;33m             \u001b[0mnew_all_models_set\u001b[0m \u001b[1;33m=\u001b[0m \u001b[0mnew_all_models_set\u001b[0m\u001b[1;33m.\u001b[0m\u001b[0munion\u001b[0m\u001b[1;33m(\u001b[0m\u001b[0mr\u001b[0m\u001b[1;33m.\u001b[0m\u001b[0mreferences\u001b[0m\u001b[1;33m(\u001b[0m\u001b[1;33m)\u001b[0m\u001b[1;33m)\u001b[0m\u001b[1;33m\u001b[0m\u001b[1;33m\u001b[0m\u001b[0m\n\u001b[0m\u001b[0;32m   1084\u001b[0m         \u001b[0mold_all_models_set\u001b[0m \u001b[1;33m=\u001b[0m \u001b[0mset\u001b[0m\u001b[1;33m(\u001b[0m\u001b[0mself\u001b[0m\u001b[1;33m.\u001b[0m\u001b[0m_all_models\u001b[0m\u001b[1;33m.\u001b[0m\u001b[0mvalues\u001b[0m\u001b[1;33m(\u001b[0m\u001b[1;33m)\u001b[0m\u001b[1;33m)\u001b[0m\u001b[1;33m\u001b[0m\u001b[1;33m\u001b[0m\u001b[0m\n\u001b[0;32m   1085\u001b[0m         \u001b[0mto_detach\u001b[0m \u001b[1;33m=\u001b[0m \u001b[0mold_all_models_set\u001b[0m \u001b[1;33m-\u001b[0m \u001b[0mnew_all_models_set\u001b[0m\u001b[1;33m\u001b[0m\u001b[1;33m\u001b[0m\u001b[0m\n",
      "\u001b[1;32m~\\Anaconda3\\envs\\torch_py37\\lib\\site-packages\\bokeh\\model.py\u001b[0m in \u001b[0;36mreferences\u001b[1;34m(self)\u001b[0m\n\u001b[0;32m    539\u001b[0m \u001b[1;33m\u001b[0m\u001b[0m\n\u001b[0;32m    540\u001b[0m         '''\n\u001b[1;32m--> 541\u001b[1;33m         \u001b[1;32mreturn\u001b[0m \u001b[0mset\u001b[0m\u001b[1;33m(\u001b[0m\u001b[0mcollect_models\u001b[0m\u001b[1;33m(\u001b[0m\u001b[0mself\u001b[0m\u001b[1;33m)\u001b[0m\u001b[1;33m)\u001b[0m\u001b[1;33m\u001b[0m\u001b[1;33m\u001b[0m\u001b[0m\n\u001b[0m\u001b[0;32m    542\u001b[0m \u001b[1;33m\u001b[0m\u001b[0m\n\u001b[0;32m    543\u001b[0m     \u001b[1;32mdef\u001b[0m \u001b[0mselect\u001b[0m\u001b[1;33m(\u001b[0m\u001b[0mself\u001b[0m\u001b[1;33m,\u001b[0m \u001b[0mselector\u001b[0m\u001b[1;33m)\u001b[0m\u001b[1;33m:\u001b[0m\u001b[1;33m\u001b[0m\u001b[1;33m\u001b[0m\u001b[0m\n",
      "\u001b[1;32m~\\Anaconda3\\envs\\torch_py37\\lib\\site-packages\\bokeh\\model.py\u001b[0m in \u001b[0;36mcollect_models\u001b[1;34m(*input_values)\u001b[0m\n\u001b[0;32m    111\u001b[0m \u001b[1;33m\u001b[0m\u001b[0m\n\u001b[0;32m    112\u001b[0m     '''\n\u001b[1;32m--> 113\u001b[1;33m     \u001b[1;32mreturn\u001b[0m \u001b[0mcollect_filtered_models\u001b[0m\u001b[1;33m(\u001b[0m\u001b[1;32mNone\u001b[0m\u001b[1;33m,\u001b[0m \u001b[1;33m*\u001b[0m\u001b[0minput_values\u001b[0m\u001b[1;33m)\u001b[0m\u001b[1;33m\u001b[0m\u001b[1;33m\u001b[0m\u001b[0m\n\u001b[0m\u001b[0;32m    114\u001b[0m \u001b[1;33m\u001b[0m\u001b[0m\n\u001b[0;32m    115\u001b[0m \u001b[1;32mdef\u001b[0m \u001b[0mget_class\u001b[0m\u001b[1;33m(\u001b[0m\u001b[0mview_model_name\u001b[0m\u001b[1;33m)\u001b[0m\u001b[1;33m:\u001b[0m\u001b[1;33m\u001b[0m\u001b[1;33m\u001b[0m\u001b[0m\n",
      "\u001b[1;32m~\\Anaconda3\\envs\\torch_py37\\lib\\site-packages\\bokeh\\model.py\u001b[0m in \u001b[0;36mcollect_filtered_models\u001b[1;34m(discard, *input_values)\u001b[0m\n\u001b[0;32m     91\u001b[0m             \u001b[0mids\u001b[0m\u001b[1;33m.\u001b[0m\u001b[0madd\u001b[0m\u001b[1;33m(\u001b[0m\u001b[0mobj\u001b[0m\u001b[1;33m.\u001b[0m\u001b[0mid\u001b[0m\u001b[1;33m)\u001b[0m\u001b[1;33m\u001b[0m\u001b[1;33m\u001b[0m\u001b[0m\n\u001b[0;32m     92\u001b[0m             \u001b[0mcollected\u001b[0m\u001b[1;33m.\u001b[0m\u001b[0mappend\u001b[0m\u001b[1;33m(\u001b[0m\u001b[0mobj\u001b[0m\u001b[1;33m)\u001b[0m\u001b[1;33m\u001b[0m\u001b[1;33m\u001b[0m\u001b[0m\n\u001b[1;32m---> 93\u001b[1;33m             \u001b[0m_visit_immediate_value_references\u001b[0m\u001b[1;33m(\u001b[0m\u001b[0mobj\u001b[0m\u001b[1;33m,\u001b[0m \u001b[0mqueue_one\u001b[0m\u001b[1;33m)\u001b[0m\u001b[1;33m\u001b[0m\u001b[1;33m\u001b[0m\u001b[0m\n\u001b[0m\u001b[0;32m     94\u001b[0m \u001b[1;33m\u001b[0m\u001b[0m\n\u001b[0;32m     95\u001b[0m     \u001b[1;32mreturn\u001b[0m \u001b[0mcollected\u001b[0m\u001b[1;33m\u001b[0m\u001b[1;33m\u001b[0m\u001b[0m\n",
      "\u001b[1;32m~\\Anaconda3\\envs\\torch_py37\\lib\\site-packages\\bokeh\\model.py\u001b[0m in \u001b[0;36m_visit_immediate_value_references\u001b[1;34m(value, visitor)\u001b[0m\n\u001b[0;32m    792\u001b[0m     \u001b[1;32mif\u001b[0m \u001b[0misinstance\u001b[0m\u001b[1;33m(\u001b[0m\u001b[0mvalue\u001b[0m\u001b[1;33m,\u001b[0m \u001b[0mHasProps\u001b[0m\u001b[1;33m)\u001b[0m\u001b[1;33m:\u001b[0m\u001b[1;33m\u001b[0m\u001b[1;33m\u001b[0m\u001b[0m\n\u001b[0;32m    793\u001b[0m         \u001b[1;32mfor\u001b[0m \u001b[0mattr\u001b[0m \u001b[1;32min\u001b[0m \u001b[0mvalue\u001b[0m\u001b[1;33m.\u001b[0m\u001b[0mproperties_with_refs\u001b[0m\u001b[1;33m(\u001b[0m\u001b[1;33m)\u001b[0m\u001b[1;33m:\u001b[0m\u001b[1;33m\u001b[0m\u001b[1;33m\u001b[0m\u001b[0m\n\u001b[1;32m--> 794\u001b[1;33m             \u001b[0mchild\u001b[0m \u001b[1;33m=\u001b[0m \u001b[0mgetattr\u001b[0m\u001b[1;33m(\u001b[0m\u001b[0mvalue\u001b[0m\u001b[1;33m,\u001b[0m \u001b[0mattr\u001b[0m\u001b[1;33m)\u001b[0m\u001b[1;33m\u001b[0m\u001b[1;33m\u001b[0m\u001b[0m\n\u001b[0m\u001b[0;32m    795\u001b[0m             \u001b[0m_visit_value_and_its_immediate_references\u001b[0m\u001b[1;33m(\u001b[0m\u001b[0mchild\u001b[0m\u001b[1;33m,\u001b[0m \u001b[0mvisitor\u001b[0m\u001b[1;33m)\u001b[0m\u001b[1;33m\u001b[0m\u001b[1;33m\u001b[0m\u001b[0m\n\u001b[0;32m    796\u001b[0m     \u001b[1;32melse\u001b[0m\u001b[1;33m:\u001b[0m\u001b[1;33m\u001b[0m\u001b[1;33m\u001b[0m\u001b[0m\n",
      "\u001b[1;32m~\\Anaconda3\\envs\\torch_py37\\lib\\site-packages\\bokeh\\core\\property\\descriptors.py\u001b[0m in \u001b[0;36m__get__\u001b[1;34m(self, obj, owner)\u001b[0m\n\u001b[0;32m    491\u001b[0m         '''\n\u001b[0;32m    492\u001b[0m         \u001b[1;32mif\u001b[0m \u001b[0mobj\u001b[0m \u001b[1;32mis\u001b[0m \u001b[1;32mnot\u001b[0m \u001b[1;32mNone\u001b[0m\u001b[1;33m:\u001b[0m\u001b[1;33m\u001b[0m\u001b[1;33m\u001b[0m\u001b[0m\n\u001b[1;32m--> 493\u001b[1;33m             \u001b[1;32mreturn\u001b[0m \u001b[0mself\u001b[0m\u001b[1;33m.\u001b[0m\u001b[0m_get\u001b[0m\u001b[1;33m(\u001b[0m\u001b[0mobj\u001b[0m\u001b[1;33m)\u001b[0m\u001b[1;33m\u001b[0m\u001b[1;33m\u001b[0m\u001b[0m\n\u001b[0m\u001b[0;32m    494\u001b[0m         \u001b[1;32melif\u001b[0m \u001b[0mowner\u001b[0m \u001b[1;32mis\u001b[0m \u001b[1;32mnot\u001b[0m \u001b[1;32mNone\u001b[0m\u001b[1;33m:\u001b[0m\u001b[1;33m\u001b[0m\u001b[1;33m\u001b[0m\u001b[0m\n\u001b[0;32m    495\u001b[0m             \u001b[1;32mreturn\u001b[0m \u001b[0mself\u001b[0m\u001b[1;33m\u001b[0m\u001b[1;33m\u001b[0m\u001b[0m\n",
      "\u001b[1;31mKeyboardInterrupt\u001b[0m: "
     ]
    }
   ],
   "source": [
    "t = bokeh.io.show(bokeh_candle_stick.dp, notebook_handle=True)\n",
    "bokeh_candle_stick.set_t(t)\n",
    "for i in range(1000):\n",
    "    time.sleep(1)\n",
    "    bokeh_candle_stick.update()"
   ]
  }
 ],
 "metadata": {
  "kernelspec": {
   "display_name": "torch_py37",
   "language": "python",
   "name": "torch_py37"
  },
  "language_info": {
   "codemirror_mode": {
    "name": "ipython",
    "version": 3
   },
   "file_extension": ".py",
   "mimetype": "text/x-python",
   "name": "python",
   "nbconvert_exporter": "python",
   "pygments_lexer": "ipython3",
   "version": "3.7.4"
  },
  "toc": {
   "base_numbering": 1,
   "nav_menu": {},
   "number_sections": true,
   "sideBar": true,
   "skip_h1_title": false,
   "title_cell": "Table of Contents",
   "title_sidebar": "Contents",
   "toc_cell": false,
   "toc_position": {},
   "toc_section_display": true,
   "toc_window_display": false
  }
 },
 "nbformat": 4,
 "nbformat_minor": 4
}
