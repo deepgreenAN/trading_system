{
 "cells": [
  {
   "cell_type": "code",
   "execution_count": 1,
   "metadata": {
    "ExecuteTime": {
     "end_time": "2021-01-02T13:37:07.124072Z",
     "start_time": "2021-01-02T13:37:07.100154Z"
    }
   },
   "outputs": [],
   "source": [
    "import csv\n",
    "from pathlib import Path\n",
    "import datetime"
   ]
  },
  {
   "cell_type": "code",
   "execution_count": 2,
   "metadata": {
    "ExecuteTime": {
     "end_time": "2021-01-02T13:37:07.434246Z",
     "start_time": "2021-01-02T13:37:07.419287Z"
    }
   },
   "outputs": [],
   "source": [
    "import time"
   ]
  },
  {
   "cell_type": "markdown",
   "metadata": {},
   "source": [
    "### Configクラス "
   ]
  },
  {
   "cell_type": "code",
   "execution_count": 9,
   "metadata": {
    "ExecuteTime": {
     "end_time": "2021-01-02T14:06:52.095431Z",
     "start_time": "2021-01-02T14:06:52.074486Z"
    }
   },
   "outputs": [],
   "source": [
    "class Config():\n",
    "    \"\"\"\n",
    "    各クラス・関数が参照する変数をまとめたクラス\n",
    "    \"\"\"\n",
    "    def __init__(self):\n",
    "        self.parent = None"
   ]
  },
  {
   "cell_type": "code",
   "execution_count": 10,
   "metadata": {
    "ExecuteTime": {
     "end_time": "2021-01-02T14:06:52.740710Z",
     "start_time": "2021-01-02T14:06:52.723744Z"
    }
   },
   "outputs": [],
   "source": [
    "config = Config()"
   ]
  },
  {
   "cell_type": "markdown",
   "metadata": {},
   "source": [
    "### 各種クロージャ "
   ]
  },
  {
   "cell_type": "markdown",
   "metadata": {},
   "source": [
    "#### enableクロージャ "
   ]
  },
  {
   "cell_type": "code",
   "execution_count": 77,
   "metadata": {
    "ExecuteTime": {
     "end_time": "2021-01-02T15:50:39.638731Z",
     "start_time": "2021-01-02T15:50:39.582892Z"
    }
   },
   "outputs": [],
   "source": [
    "class MultiClosier():\n",
    "    \"\"\"\n",
    "    複数のカウンタを利用する時に，このクロージャの終了時にまとえてtempfileを削除するためのクロージャ\n",
    "    \"\"\"\n",
    "    def __init__(self, parent_restart):\n",
    "        self.parent_restart = parent_restart\n",
    "        \n",
    "    def __enter__(self):\n",
    "        if config.parent is not None:\n",
    "            raise Exception(\"MultiCount has already opend. cannot open another MultiCount\")\n",
    "        \n",
    "        config.parent = self.parent_restart\n",
    "        return self\n",
    "        \n",
    "    def __exit__(self, ex_type, ex_value, trace):\n",
    "        config.parent = None  # 共通して行う\n",
    "        if ex_type is None:# 正常終了した場合\n",
    "            self.parent_restart.all_close()\n",
    "        return False"
   ]
  },
  {
   "cell_type": "markdown",
   "metadata": {},
   "source": [
    "#### counterクロージャ "
   ]
  },
  {
   "cell_type": "code",
   "execution_count": 65,
   "metadata": {
    "ExecuteTime": {
     "end_time": "2021-01-02T15:45:41.619801Z",
     "start_time": "2021-01-02T15:45:41.458226Z"
    }
   },
   "outputs": [],
   "source": [
    "class CounterClosier():\n",
    "    \"\"\"\n",
    "    イテレーションの進捗をtempfileに保存するクロージャ，自身によってイテレータをラップする．\n",
    "    途中で例外によって終了した場合と親が存在する場合にファイルを残す．\n",
    "    \"\"\"\n",
    "    def __init__(self, child_restart, each_save=False):\n",
    "        self.child_restart = child_restart\n",
    "        self.each_save = each_save\n",
    "        \n",
    "        # 一時ファイルの読み込み\n",
    "        self.start_counter = self._read()\n",
    "        self.counter = 0  # 一応こちらでも0に初期化\n",
    "        \n",
    "    def _read(self):\n",
    "        if self.child_restart.file_path.exists():\n",
    "            with open(self.child_restart.file_path, \"r\") as f:\n",
    "                reader = csv.reader(f)\n",
    "                #dateについて取得, 現在時間との差が一日以内かどうか判定\n",
    "                datetime_list = next(reader)  # [datetime,実際の日時の文字列]\n",
    "                tempfile_datetime = datetime.datetime.strptime(datetime_list[1], \"%Y-%m-%d %H:%M:%S\")\n",
    "                if datetime.datetime.now() - tempfile_datetime >= datetime.timedelta(days=1):\n",
    "                    print(\"tempfile is not recent date, please check tempfile\")\n",
    "\n",
    "                # スタートカウンターの読み込み\n",
    "                start_counter_list = next(reader)\n",
    "                start_counter = int(start_counter_list[1])\n",
    "        else:\n",
    "            start_counter = 0\n",
    "        \n",
    "        return start_counter\n",
    "    \n",
    "    def _iter_finish(self):\n",
    "        \"\"\"\n",
    "        イテレーションが終了したときの処理\n",
    "        \"\"\"\n",
    "        if self.child_restart.parent is None:  # ペアレントが無い場合\n",
    "            if self.child_restart.file_path.exists():\n",
    "                self.child_restart.file_path.unlink()\n",
    "        else:  # ペアレントが存在する場合\n",
    "            self._write()\n",
    "    \n",
    "    def __call__(self, iterable):  # ジェネレーターを返す\n",
    "        iterable = iter(iterable)\n",
    "        self.counter = 0  # カウンタの初期化\n",
    "        while True:\n",
    "            if self.counter < self.start_counter:\n",
    "                self.counter += 1\n",
    "                try:\n",
    "                    next(iterable)  # 利用しない．進めるだけ\n",
    "                except StopIteration:\n",
    "                    self._iter_finish()\n",
    "                    return None  # StopIterationで終了\n",
    "                continue\n",
    "                \n",
    "            \n",
    "            \n",
    "            try:\n",
    "                yield_item = next(iterable)  # iterableから一つ取得\n",
    "                yield yield_item\n",
    "            except StopIteration:\n",
    "                self._iter_finish()\n",
    "                return None  # StopIterationで終了\n",
    "            \n",
    "            self.counter += 1  # すべてが終了したら+1\n",
    "            if self.each_save:  # 毎回一時ファイルを保存\n",
    "                self._write()\n",
    "            \n",
    "    \n",
    "    def __enter__(self):\n",
    "        return self\n",
    "    \n",
    "    def _write(self):\n",
    "        with open(self.child_restart.file_path, \"w\", newline=\"\") as f:\n",
    "            writer = csv.writer(f)\n",
    "            writer.writerow([\"datetime\", datetime.datetime.now().strftime(\"%Y-%m-%d %H:%M:%S\")])\n",
    "            writer.writerow([\"start_count\",self.counter])\n",
    "                    \n",
    "    def __exit__(self, ex_type, ex_value, trace):\n",
    "        if ex_type is not None:  # エラーで終了した場合 \n",
    "            self._write()\n",
    "        return False"
   ]
  },
  {
   "cell_type": "code",
   "execution_count": 66,
   "metadata": {
    "ExecuteTime": {
     "end_time": "2021-01-02T15:45:42.123444Z",
     "start_time": "2021-01-02T15:45:42.068589Z"
    }
   },
   "outputs": [],
   "source": [
    "class CounterClosierThrough():\n",
    "    \"\"\"\n",
    "    CounterClosierを模した何もしないクロージャ．実装を変えずにtempfileの使用・不使用を切り替えるために利用する\n",
    "    \"\"\"\n",
    "    def __init__(self, child_restart, each_save=False):\n",
    "        self.child_restart = child_restart\n",
    "        self.each_save = each_save\n",
    "        \n",
    "        #ファイルが存在したら削除\n",
    "        if self.child_restart.file_path.exists():\n",
    "            self.child_restart.file_path.unlink()\n",
    "    \n",
    "    def __call__(self, iterable):\n",
    "        return iterable\n",
    "    \n",
    "    def __enter__(self):\n",
    "        return self\n",
    "\n",
    "    def __exit__(self, ex_type, ex_value, trace):\n",
    "        return False"
   ]
  },
  {
   "cell_type": "markdown",
   "metadata": {},
   "source": [
    "### RestartChild "
   ]
  },
  {
   "cell_type": "code",
   "execution_count": 67,
   "metadata": {
    "ExecuteTime": {
     "end_time": "2021-01-02T15:45:42.709872Z",
     "start_time": "2021-01-02T15:45:42.646052Z"
    }
   },
   "outputs": [],
   "source": [
    "class RestartChild():\n",
    "    \"\"\"\n",
    "    子供としてCounterClosierを渡すためのクラス\n",
    "    \"\"\"\n",
    "    def __init__(self, file_path, parent, use_tempfile=True):\n",
    "        self.file_path = Path(file_path)\n",
    "        self.use_tempfile = use_tempfile\n",
    "        self.parent = parent\n",
    "        \n",
    "    def enable(self):\n",
    "        if self.use_tempfile:\n",
    "            return CounterClosier(self, each_save=False)  # 終了時に保存\n",
    "        else:\n",
    "            return CounterClosierThrough(self)\n",
    "        \n",
    "    def enable_without_with(self):\n",
    "        if self.use_tempfile:\n",
    "            return CounterClosier(self, each_save=True)\n",
    "        else:\n",
    "            return CounterClosierThrough(self)"
   ]
  },
  {
   "cell_type": "markdown",
   "metadata": {},
   "source": [
    "### RestartParent "
   ]
  },
  {
   "cell_type": "code",
   "execution_count": 68,
   "metadata": {
    "ExecuteTime": {
     "end_time": "2021-01-02T15:45:43.665318Z",
     "start_time": "2021-01-02T15:45:43.629414Z"
    }
   },
   "outputs": [],
   "source": [
    "class RestartParent():\n",
    "    \"\"\"\n",
    "    config.parentを変更し，親から子供を作るためにクラス\n",
    "    \"\"\"\n",
    "    def __init__(self):\n",
    "        self.child_list = []\n",
    "        \n",
    "    def create_child(self, file_path, use_tempfile=True):\n",
    "        \"\"\"\n",
    "        親から子供を作成する\n",
    "        \"\"\"\n",
    "        restart_child = RestartChild(file_path, self, use_tempfile)\n",
    "        self.child_list.append(restart_child)\n",
    "        return restart_child\n",
    "        \n",
    "    def multi_child(self):\n",
    "        return MultiClosier(self)\n",
    "    \n",
    "    def all_close(self):\n",
    "        \"\"\"\n",
    "        子のtempfileを削除する．\n",
    "        \"\"\"\n",
    "        [child.file_path.unlink() for child in self.child_list if child.file_path.exists()]  # フォイルが存在している場合は，削除"
   ]
  },
  {
   "cell_type": "markdown",
   "metadata": {},
   "source": [
    "### インターフェースとなる関数 "
   ]
  },
  {
   "cell_type": "code",
   "execution_count": 69,
   "metadata": {
    "ExecuteTime": {
     "end_time": "2021-01-02T15:45:44.346496Z",
     "start_time": "2021-01-02T15:45:44.289649Z"
    }
   },
   "outputs": [],
   "source": [
    "def multi_count():\n",
    "    \"\"\"\n",
    "    複数カウンタを作成するときに展開することで，tempfileの削除をすべての終了タイミングに変更できる．\n",
    "    \"\"\"\n",
    "    parent = RestartParent()\n",
    "    return parent.multi_child()\n",
    "\n",
    "def enable_counter(file_path, use_tempfile=True):\n",
    "    if config.parent is None:  #ペアレントが存在しない場合\n",
    "        child = RestartChild(file_path, None, use_tempfile=use_tempfile)\n",
    "        return child.enable()\n",
    "    \n",
    "    else:\n",
    "        child = config.parent.create_child(file_path)\n",
    "        return child.enable()\n",
    "    \n",
    "def simple_counter(file_path, iterable, use_tempfile=True):\n",
    "    #ジェネレータを返す\n",
    "    if config.parent is None:  #ペアレントが存在しない場合\n",
    "        child = RestartChild(file_path, None, use_tempfile=use_tempfile)\n",
    "        return child.enable_without_with()(iterable)\n",
    "    \n",
    "    else:\n",
    "        child = config.parent.create_child(file_path)\n",
    "        return child.enable_without_with()(iterable)\n",
    "    "
   ]
  },
  {
   "cell_type": "markdown",
   "metadata": {},
   "source": [
    "### テストコード "
   ]
  },
  {
   "cell_type": "markdown",
   "metadata": {},
   "source": [
    "#### 一つの場合 "
   ]
  },
  {
   "cell_type": "markdown",
   "metadata": {},
   "source": [
    "以下のように，`enable_counter`をwith文に添えた返り値でイテレーターをラップする．イテレーション内でエラーが生じた場合に，一時ファイルを保存し，次回はエラーが起きたイテレーションから再開できる．\n",
    "この例では，iが4のときにKeybordInterruptを行った後，もう一度実行した結果である．"
   ]
  },
  {
   "cell_type": "code",
   "execution_count": 72,
   "metadata": {
    "ExecuteTime": {
     "end_time": "2021-01-02T15:47:14.102615Z",
     "start_time": "2021-01-02T15:46:56.005871Z"
    }
   },
   "outputs": [
    {
     "name": "stdout",
     "output_type": "stream",
     "text": [
      "4\n",
      "5\n",
      "6\n",
      "7\n",
      "8\n",
      "9\n"
     ]
    }
   ],
   "source": [
    "tempfile_path = Path(\"temp1.tmp\")\n",
    "\n",
    "with enable_counter(tempfile_path) as counter:\n",
    "    for i in counter(range(10)):\n",
    "        print(i)\n",
    "        time.sleep(3)"
   ]
  },
  {
   "cell_type": "markdown",
   "metadata": {},
   "source": [
    "#### 一つの場合(毎回保存する場合) "
   ]
  },
  {
   "cell_type": "markdown",
   "metadata": {},
   "source": [
    "with文を利用したくない場合，`simple_couonter`が利用できる．`simple_counter`は直接ジェネレータを出力するが，毎回一時ファイルを更新し，保存する．"
   ]
  },
  {
   "cell_type": "code",
   "execution_count": 75,
   "metadata": {
    "ExecuteTime": {
     "end_time": "2021-01-02T15:49:13.595819Z",
     "start_time": "2021-01-02T15:48:55.434405Z"
    }
   },
   "outputs": [
    {
     "name": "stdout",
     "output_type": "stream",
     "text": [
      "4\n",
      "5\n",
      "6\n",
      "7\n",
      "8\n",
      "9\n"
     ]
    }
   ],
   "source": [
    "tempfile_path = Path(\"temp2.tmp\")\n",
    "\n",
    "for i in simple_counter(tempfile_path, range(10)):\n",
    "    print(i)\n",
    "    time.sleep(3)"
   ]
  },
  {
   "cell_type": "markdown",
   "metadata": {},
   "source": [
    "#### 二つ以上の場合 "
   ]
  },
  {
   "cell_type": "markdown",
   "metadata": {},
   "source": [
    "`enable_counter`あるいは`simple_counter`のみでは，一つのfor文が終了したときに一時ファイルが削除されてしまうため二つ以上for文が連続する場合に進捗を保存できない．`multi_count{を利用すればそのインデントブロック内のすべてのでラップしたイテレーションが終了するまで一時ファイルを残すことができる．以下の例では，一つ目のfor文が終了したのちにiが2の時点でKeybordInterruptを行い，再度実行した結果である"
   ]
  },
  {
   "cell_type": "code",
   "execution_count": 81,
   "metadata": {
    "ExecuteTime": {
     "end_time": "2021-01-02T15:55:22.623756Z",
     "start_time": "2021-01-02T15:55:13.436169Z"
    }
   },
   "outputs": [
    {
     "name": "stdout",
     "output_type": "stream",
     "text": [
      "1 is finished\n",
      "2: 2\n",
      "2: 3\n",
      "2: 4\n"
     ]
    }
   ],
   "source": [
    "tempfile_path1 = Path(\"temp3.tmp\")\n",
    "tempfile_path2 = Path(\"temp4.tmp\")\n",
    "\n",
    "with multi_count():\n",
    "    with enable_counter(tempfile_path1) as counter:\n",
    "        for i in counter(range(10)):\n",
    "            print(\"1:\",i)\n",
    "            time.sleep(3)\n",
    "            \n",
    "    print(\"1 is finished\")\n",
    "    for i in simple_counter(tempfile_path2, range(5)):\n",
    "            print(\"2:\",i)\n",
    "            time.sleep(3)"
   ]
  },
  {
   "cell_type": "markdown",
   "metadata": {},
   "source": [
    "### 再帰的に使う場合 "
   ]
  },
  {
   "cell_type": "markdown",
   "metadata": {},
   "source": [
    "以下の例では，iが1,jが2の時にKeybordInterruptを行ったのち，再度実行したものである．"
   ]
  },
  {
   "cell_type": "code",
   "execution_count": 89,
   "metadata": {
    "ExecuteTime": {
     "end_time": "2021-01-02T16:07:12.155180Z",
     "start_time": "2021-01-02T16:06:17.715811Z"
    }
   },
   "outputs": [
    {
     "name": "stdout",
     "output_type": "stream",
     "text": [
      "outer: 1\n",
      "\tinner: 2\n",
      "\tinner: 3\n",
      "\tinner: 4\n",
      "outer: 2\n",
      "\tinner: 0\n",
      "\tinner: 1\n",
      "\tinner: 2\n",
      "\tinner: 3\n",
      "\tinner: 4\n",
      "outer: 3\n",
      "\tinner: 0\n",
      "\tinner: 1\n",
      "\tinner: 2\n",
      "\tinner: 3\n",
      "\tinner: 4\n",
      "outer: 4\n",
      "\tinner: 0\n",
      "\tinner: 1\n",
      "\tinner: 2\n",
      "\tinner: 3\n",
      "\tinner: 4\n"
     ]
    }
   ],
   "source": [
    "tempfile_path3 = Path(\"temp5.tmp\")\n",
    "tempfile_path4 = Path(\"temp6.tmp\")\n",
    "\n",
    "with enable_counter(tempfile_path3) as outer_counter:\n",
    "    for i in outer_counter(range(5)):\n",
    "        print(\"outer:\",i)\n",
    "        for j in simple_counter(tempfile_path4 ,range(5)):\n",
    "                print(\"\\tinner:\",j)\n",
    "                time.sleep(3)"
   ]
  },
  {
   "cell_type": "markdown",
   "metadata": {},
   "source": [
    "###  エラーとなる処理"
   ]
  },
  {
   "cell_type": "markdown",
   "metadata": {},
   "source": [
    "以下のように，`multi_count`は再帰的に利用できない"
   ]
  },
  {
   "cell_type": "code",
   "execution_count": 85,
   "metadata": {
    "ExecuteTime": {
     "end_time": "2021-01-02T15:57:43.408498Z",
     "start_time": "2021-01-02T15:57:43.334642Z"
    }
   },
   "outputs": [
    {
     "ename": "Exception",
     "evalue": "MultiCount has already opend. cannot open another MultiCount",
     "output_type": "error",
     "traceback": [
      "\u001b[1;31m---------------------------------------------------------------------------\u001b[0m",
      "\u001b[1;31mException\u001b[0m                                 Traceback (most recent call last)",
      "\u001b[1;32m<ipython-input-85-3b3e455f2f62>\u001b[0m in \u001b[0;36m<module>\u001b[1;34m\u001b[0m\n\u001b[0;32m      1\u001b[0m \u001b[1;32mwith\u001b[0m \u001b[0mmulti_count\u001b[0m\u001b[1;33m(\u001b[0m\u001b[1;33m)\u001b[0m\u001b[1;33m:\u001b[0m\u001b[1;33m\u001b[0m\u001b[1;33m\u001b[0m\u001b[0m\n\u001b[1;32m----> 2\u001b[1;33m     \u001b[1;32mwith\u001b[0m \u001b[0mmulti_count\u001b[0m\u001b[1;33m(\u001b[0m\u001b[1;33m)\u001b[0m\u001b[1;33m:\u001b[0m\u001b[1;33m\u001b[0m\u001b[1;33m\u001b[0m\u001b[0m\n\u001b[0m\u001b[0;32m      3\u001b[0m         \u001b[1;32mpass\u001b[0m\u001b[1;33m\u001b[0m\u001b[1;33m\u001b[0m\u001b[0m\n",
      "\u001b[1;32m<ipython-input-77-06c8301f69c3>\u001b[0m in \u001b[0;36m__enter__\u001b[1;34m(self)\u001b[0m\n\u001b[0;32m      8\u001b[0m     \u001b[1;32mdef\u001b[0m \u001b[0m__enter__\u001b[0m\u001b[1;33m(\u001b[0m\u001b[0mself\u001b[0m\u001b[1;33m)\u001b[0m\u001b[1;33m:\u001b[0m\u001b[1;33m\u001b[0m\u001b[1;33m\u001b[0m\u001b[0m\n\u001b[0;32m      9\u001b[0m         \u001b[1;32mif\u001b[0m \u001b[0mconfig\u001b[0m\u001b[1;33m.\u001b[0m\u001b[0mparent\u001b[0m \u001b[1;32mis\u001b[0m \u001b[1;32mnot\u001b[0m \u001b[1;32mNone\u001b[0m\u001b[1;33m:\u001b[0m\u001b[1;33m\u001b[0m\u001b[1;33m\u001b[0m\u001b[0m\n\u001b[1;32m---> 10\u001b[1;33m             \u001b[1;32mraise\u001b[0m \u001b[0mException\u001b[0m\u001b[1;33m(\u001b[0m\u001b[1;34m\"MultiCount has already opend. cannot open another MultiCount\"\u001b[0m\u001b[1;33m)\u001b[0m\u001b[1;33m\u001b[0m\u001b[1;33m\u001b[0m\u001b[0m\n\u001b[0m\u001b[0;32m     11\u001b[0m \u001b[1;33m\u001b[0m\u001b[0m\n\u001b[0;32m     12\u001b[0m         \u001b[0mconfig\u001b[0m\u001b[1;33m.\u001b[0m\u001b[0mparent\u001b[0m \u001b[1;33m=\u001b[0m \u001b[0mself\u001b[0m\u001b[1;33m.\u001b[0m\u001b[0mparent_restart\u001b[0m\u001b[1;33m\u001b[0m\u001b[1;33m\u001b[0m\u001b[0m\n",
      "\u001b[1;31mException\u001b[0m: MultiCount has already opend. cannot open another MultiCount"
     ]
    }
   ],
   "source": [
    "with multi_count():\n",
    "    with multi_count():\n",
    "        pass"
   ]
  }
 ],
 "metadata": {
  "kernelspec": {
   "display_name": "torch_py37",
   "language": "python",
   "name": "torch_py37"
  },
  "language_info": {
   "codemirror_mode": {
    "name": "ipython",
    "version": 3
   },
   "file_extension": ".py",
   "mimetype": "text/x-python",
   "name": "python",
   "nbconvert_exporter": "python",
   "pygments_lexer": "ipython3",
   "version": "3.7.4"
  },
  "toc": {
   "base_numbering": 1,
   "nav_menu": {},
   "number_sections": true,
   "sideBar": true,
   "skip_h1_title": true,
   "title_cell": "Table of Contents",
   "title_sidebar": "Contents",
   "toc_cell": false,
   "toc_position": {},
   "toc_section_display": true,
   "toc_window_display": false
  }
 },
 "nbformat": 4,
 "nbformat_minor": 4
}
