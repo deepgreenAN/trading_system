{
 "cells": [
  {
   "cell_type": "code",
   "execution_count": 1,
   "metadata": {
    "ExecuteTime": {
     "end_time": "2021-01-02T13:37:07.124072Z",
     "start_time": "2021-01-02T13:37:07.100154Z"
    }
   },
   "outputs": [],
   "source": [
    "import csv\n",
    "from pathlib import Path\n",
    "import datetime"
   ]
  },
  {
   "cell_type": "code",
   "execution_count": 2,
   "metadata": {
    "ExecuteTime": {
     "end_time": "2021-01-02T13:37:07.434246Z",
     "start_time": "2021-01-02T13:37:07.419287Z"
    }
   },
   "outputs": [],
   "source": [
    "import time"
   ]
  },
  {
   "cell_type": "markdown",
   "metadata": {},
   "source": [
    "### Configクラス "
   ]
  },
  {
   "cell_type": "code",
   "execution_count": 3,
   "metadata": {
    "ExecuteTime": {
     "end_time": "2021-01-02T13:37:08.202193Z",
     "start_time": "2021-01-02T13:37:08.179304Z"
    }
   },
   "outputs": [],
   "source": [
    "class Config():\n",
    "    \"\"\"\n",
    "    各クラス・関数が参照する変数をまとめたクラス\n",
    "    \"\"\"\n",
    "    def __init__(self):\n",
    "        self.parent = None\n",
    "        self.is_enable = False"
   ]
  },
  {
   "cell_type": "code",
   "execution_count": 4,
   "metadata": {
    "ExecuteTime": {
     "end_time": "2021-01-02T13:37:08.456517Z",
     "start_time": "2021-01-02T13:37:08.439569Z"
    }
   },
   "outputs": [],
   "source": [
    "config = Config()"
   ]
  },
  {
   "cell_type": "markdown",
   "metadata": {},
   "source": [
    "### 各種クロージャ "
   ]
  },
  {
   "cell_type": "markdown",
   "metadata": {},
   "source": [
    "#### enableクロージャ "
   ]
  },
  {
   "cell_type": "code",
   "execution_count": 5,
   "metadata": {
    "ExecuteTime": {
     "end_time": "2021-01-02T13:37:09.420931Z",
     "start_time": "2021-01-02T13:37:09.370064Z"
    }
   },
   "outputs": [],
   "source": [
    "class MultiClosier():\n",
    "    \"\"\"\n",
    "    複数のカウンタを利用する時に，このクロージャの終了時にまとえてtempfileを削除するためのクロージャ\n",
    "    \"\"\"\n",
    "    def __init__(self, parent_restart):\n",
    "        self.parent_restart = parent_restart\n",
    "        \n",
    "    def __enter__(self):\n",
    "        if config.parent is not None:\n",
    "            raise Exception(\"MultiCount has already opend. cannot open another MultiCount\")\n",
    "        if config.is_enable:\n",
    "            raise Exception(\"Counter has already opened. please close Counter\")\n",
    "        \n",
    "        config.parent = self.parent_restart\n",
    "        return self\n",
    "        \n",
    "    def __exit__(self, ex_type, ex_value, trace):\n",
    "        config.parent = None  # 共通して行う\n",
    "        if ex_type is None:# 正常終了した場合\n",
    "            self.parent_restart.all_close()\n",
    "        return False"
   ]
  },
  {
   "cell_type": "markdown",
   "metadata": {},
   "source": [
    "#### counterクロージャ "
   ]
  },
  {
   "cell_type": "code",
   "execution_count": 6,
   "metadata": {
    "ExecuteTime": {
     "end_time": "2021-01-02T13:37:10.502037Z",
     "start_time": "2021-01-02T13:37:10.379366Z"
    }
   },
   "outputs": [],
   "source": [
    "class CounterClosier():\n",
    "    \"\"\"\n",
    "    イテレーションの進捗をtempfileに保存するクロージャ，自身によってイテレータをラップする．\n",
    "    途中で例外によって終了した場合と親が存在する場合にファイルを残す．\n",
    "    \"\"\"\n",
    "    def __init__(self, file_path):\n",
    "        self.file_path = Path(file_path)\n",
    "        \n",
    "        if self.file_path.exists():\n",
    "            with open(self.file_path, \"r\") as f:\n",
    "                reader = csv.reader(f)\n",
    "                #dateについて取得, 現在時間との差が一日以内かどうか判定\n",
    "                datetime_list = next(reader)  # [datetime,実際の日時の文字列]\n",
    "                tempfile_datetime = datetime.datetime.strptime(datetime_list[1], \"%Y-%m-%d %H:%M:%S\")\n",
    "                if datetime.datetime.now() - tempfile_datetime >= datetime.timedelta(days=1):\n",
    "                    print(\"tempfile is not recent date, please check tempfile\")\n",
    "\n",
    "                # スタートカウンターの読み込み\n",
    "                start_counter_list = next(reader)\n",
    "                self.start_counter = int(start_counter_list[1])\n",
    "        else:\n",
    "            self.start_counter = 0\n",
    "        self.counter = 0  # 一応こちらでも0に初期化\n",
    "    \n",
    "    def __call__(self, iterable):  # ジェネレーターを返す\n",
    "        iterable = iter(iterable)\n",
    "        self.counter = 0  # カウンタの初期化\n",
    "        while True:\n",
    "            if self.counter < self.start_counter:\n",
    "                self.counter += 1\n",
    "                try:\n",
    "                    next(iterable)  # 利用しない．進めるだけ\n",
    "                except StopIteration:\n",
    "                    return None  # StopIterationで終了\n",
    "                continue\n",
    "            \n",
    "            try:\n",
    "                yield_item = next(iterable)  # iterableから一つ取得\n",
    "                yield yield_item\n",
    "            except:\n",
    "                return None  # StopIteration\n",
    "            \n",
    "            self.counter += 1  # すべてが終了したら+1\n",
    "    \n",
    "    def __enter__(self):\n",
    "        config.is_enable = True\n",
    "        return self\n",
    "    \n",
    "    def write(self):\n",
    "        with open(self.file_path, \"w\", newline=\"\") as f:\n",
    "            writer = csv.writer(f)\n",
    "            writer.writerow([\"datetime\", datetime.datetime.now().strftime(\"%Y-%m-%d %H:%M:%S\")])\n",
    "            writer.writerow([\"start_count\",self.counter])\n",
    "            \n",
    "    def __exit__(self, ex_type, ex_value, trace):\n",
    "        if ex_type is not None:  # エラーで終了した場合 \n",
    "            self.write()\n",
    "        else:  # 正常に終了した場合\n",
    "            if config.parent is None:  # ペアレントが無い場合\n",
    "                if self.file_path.exists():\n",
    "                    self.file_path.unlink()\n",
    "            else:  # ペアレントが存在する場合\n",
    "                self.write()\n",
    "        \n",
    "        config.is_enable = False\n",
    "        return False"
   ]
  },
  {
   "cell_type": "code",
   "execution_count": 7,
   "metadata": {
    "ExecuteTime": {
     "end_time": "2021-01-02T13:37:11.453497Z",
     "start_time": "2021-01-02T13:37:11.429553Z"
    }
   },
   "outputs": [],
   "source": [
    "class CounterClosierThrough():\n",
    "    \"\"\"\n",
    "    CounterClosierを模した何もしないクロージャ．実装を変えずにtempfileの使用・不使用を切り替えるために利用する\n",
    "    \"\"\"\n",
    "    def __init__(self, file_path):\n",
    "        self.file_path = Path(file_path)\n",
    "    \n",
    "    def __call__(self, iterable):\n",
    "        return iterable\n",
    "    \n",
    "    def __enter__(self):\n",
    "        config.is_enable = True\n",
    "        return self\n",
    "    \n",
    "\n",
    "    def __exit__(self, ex_type, ex_value, trace):   \n",
    "        #ファイルが存在したら削除\n",
    "        if self.file_path.exists():\n",
    "            self.file_path.unlink()\n",
    "        \n",
    "        config.is_enable = False\n",
    "        return False"
   ]
  },
  {
   "cell_type": "markdown",
   "metadata": {},
   "source": [
    "### RestartChild "
   ]
  },
  {
   "cell_type": "code",
   "execution_count": 8,
   "metadata": {
    "ExecuteTime": {
     "end_time": "2021-01-02T13:37:14.555196Z",
     "start_time": "2021-01-02T13:37:14.524328Z"
    }
   },
   "outputs": [],
   "source": [
    "class RestartChild():\n",
    "    \"\"\"\n",
    "    子供としてCounterClosierを渡すためのクラス\n",
    "    \"\"\"\n",
    "    def __init__(self, file_path, use_tempfile=True):\n",
    "        self.file_path = Path(file_path)\n",
    "        self.use_tempfile = use_tempfile\n",
    "        \n",
    "    def enable(self):\n",
    "        if self.use_tempfile:\n",
    "            return CounterClosier(self.file_path)\n",
    "        else:\n",
    "            return CounterClosierThrough(self.file_path)\n",
    "        \n",
    "    def simple_enable_counter(self, iterable):\n",
    "        # ファイルの読み込み\n",
    "        if self.file_path.exists():\n",
    "            with open(self.file_path, \"r\") as f:\n",
    "                reader = csv.reader(f)\n",
    "                #dateについて取得, 現在時間との差が一日以内かどうか判定\n",
    "                datetime_list = next(reader)  # [datetime,実際の日時の文字列]\n",
    "                tempfile_datetime = datetime.datetime.strptime(datetime_list[1], \"%Y-%m-%d %H:%M:%S\")\n",
    "                if datetime.datetime.now() - tempfile_datetime >= datetime.timedelta(days=1):\n",
    "                    print(\"tempfile is not recent date, please check tempfile\")\n",
    "\n",
    "                # スタートカウンターの読み込み\n",
    "                start_counter_list = next(reader)\n",
    "                start_counter = int(start_counter_list[1])\n",
    "        else:\n",
    "            start_counter = 0\n",
    "            \n",
    "        # ジェネレーター\n",
    "        iterable = iter(iterable)\n",
    "        counter = 0  # カウンタの初期化\n",
    "        while True:\n",
    "            if counter < start_counter:\n",
    "                counter += 1\n",
    "                try:\n",
    "                    next(iterable)  # 利用しない．進めるだけ\n",
    "                except StopIteration:\n",
    "                    return None  # StopIterationで終了\n",
    "                continue\n",
    "            \n",
    "            try:\n",
    "                yield_item = next(iterable)  # iterableから一つ取得\n",
    "                # エラーを補足できないので，\n",
    "                \n",
    "                yield yield_item\n",
    "            except:\n",
    "                return None  # StopIteration\n",
    "            \n",
    "            counter += 1  # すべてが終了したら+1"
   ]
  },
  {
   "cell_type": "markdown",
   "metadata": {},
   "source": [
    "### RestartParent "
   ]
  },
  {
   "cell_type": "code",
   "execution_count": 143,
   "metadata": {
    "ExecuteTime": {
     "end_time": "2021-01-01T16:17:24.882516Z",
     "start_time": "2021-01-01T16:17:24.821680Z"
    }
   },
   "outputs": [],
   "source": [
    "class RestartParent():\n",
    "    \"\"\"\n",
    "    config.parentを変更し，親から子供を作るためにクラス\n",
    "    \"\"\"\n",
    "    def __init__(self):\n",
    "        self.child_list = []\n",
    "        \n",
    "    def create_child(self, file_path, use_tempfile=True):\n",
    "        \"\"\"\n",
    "        親から子供を作成する\n",
    "        \"\"\"\n",
    "        restart_child = RestartChild(file_path, use_tempfile)\n",
    "        self.child_list.append(restart_child)\n",
    "        return restart_child\n",
    "        \n",
    "    def multi_child(self):\n",
    "        return MultiClosier(self)\n",
    "    \n",
    "    def all_close(self):\n",
    "        \"\"\"\n",
    "        子のtempfileを削除する．\n",
    "        \"\"\"\n",
    "        [child.file_path.unlink() for child in self.child_list if child.file_path.exists()]  # フォイルが存在している場合は，削除"
   ]
  },
  {
   "cell_type": "markdown",
   "metadata": {},
   "source": [
    "### インターフェースとなる関数 "
   ]
  },
  {
   "cell_type": "code",
   "execution_count": 144,
   "metadata": {
    "ExecuteTime": {
     "end_time": "2021-01-01T16:17:25.496870Z",
     "start_time": "2021-01-01T16:17:25.457973Z"
    }
   },
   "outputs": [],
   "source": [
    "def multi_count():\n",
    "    \"\"\"\n",
    "    複数カウンタを作成するときに展開することで，tempfileの削除をすべての終了タイミングに変更できる．\n",
    "    \"\"\"\n",
    "    parent = RestartParent()\n",
    "    return parent.multi_child()\n",
    "\n",
    "def enable_counter(file_path, use_tempfile=True):\n",
    "    if config.parent is None:  #ペアレントが存在しない場合\n",
    "        one_child_parent = RestartParent()  # 一つのchildを持つペアレントを作成\n",
    "        child = one_child_parent.create_child(file_path, use_tempfile)\n",
    "        return child.enable()\n",
    "    \n",
    "    else:\n",
    "        child = config.parent.create_child(file_path)\n",
    "        return child.enable()"
   ]
  },
  {
   "cell_type": "markdown",
   "metadata": {},
   "source": [
    "### テストコード "
   ]
  },
  {
   "cell_type": "markdown",
   "metadata": {},
   "source": [
    "#### 一つの場合 "
   ]
  },
  {
   "cell_type": "code",
   "execution_count": 147,
   "metadata": {
    "ExecuteTime": {
     "end_time": "2021-01-01T16:18:06.678837Z",
     "start_time": "2021-01-01T16:17:48.601429Z"
    }
   },
   "outputs": [
    {
     "name": "stdout",
     "output_type": "stream",
     "text": [
      "4\n",
      "5\n",
      "6\n",
      "7\n",
      "8\n",
      "9\n"
     ]
    }
   ],
   "source": [
    "tempfile_path = Path(\"temp.tmp\")\n",
    "\n",
    "with enable_counter(tempfile_path) as counter:\n",
    "    for i in counter(range(10)):\n",
    "        print(i)\n",
    "        time.sleep(3)"
   ]
  },
  {
   "cell_type": "markdown",
   "metadata": {},
   "source": [
    "### 二つ以上の場合 "
   ]
  },
  {
   "cell_type": "code",
   "execution_count": 158,
   "metadata": {
    "ExecuteTime": {
     "end_time": "2021-01-01T16:26:51.603563Z",
     "start_time": "2021-01-01T16:26:42.455798Z"
    }
   },
   "outputs": [
    {
     "name": "stdout",
     "output_type": "stream",
     "text": [
      "1 is finished\n",
      "2: 2\n",
      "2: 3\n",
      "2: 4\n"
     ]
    }
   ],
   "source": [
    "tempfile_path1 = Path(\"temp1.tmp\")\n",
    "tempfile_path2 = Path(\"temp2.tmp\")\n",
    "\n",
    "with multi_count():\n",
    "    with enable_counter(tempfile_path1) as counter:\n",
    "        for i in counter(range(10)):\n",
    "            print(\"1:\",i)\n",
    "            time.sleep(3)\n",
    "            \n",
    "    print(\"1 is finished\")\n",
    "    with enable_counter(tempfile_path2) as counter:\n",
    "        for i in counter(range(5)):\n",
    "            print(\"2:\",i)\n",
    "            time.sleep(3)"
   ]
  },
  {
   "cell_type": "markdown",
   "metadata": {},
   "source": [
    "### 再帰的に使う場合 "
   ]
  },
  {
   "cell_type": "code",
   "execution_count": 170,
   "metadata": {
    "ExecuteTime": {
     "end_time": "2021-01-01T17:58:31.360986Z",
     "start_time": "2021-01-01T17:57:55.146887Z"
    }
   },
   "outputs": [
    {
     "name": "stdout",
     "output_type": "stream",
     "text": [
      "outer: 2\n",
      "\tinner: 3\n",
      "\tinner: 4\n",
      "outer: 3\n",
      "\tinner: 0\n",
      "\tinner: 1\n",
      "\tinner: 2\n",
      "\tinner: 3\n",
      "\tinner: 4\n",
      "outer: 4\n",
      "\tinner: 0\n",
      "\tinner: 1\n",
      "\tinner: 2\n",
      "\tinner: 3\n",
      "\tinner: 4\n"
     ]
    }
   ],
   "source": [
    "tempfile_path3 = Path(\"temp3.tmp\")\n",
    "tempfile_path4 = Path(\"temp4.tmp\")\n",
    "\n",
    "with enable_counter(tempfile_path3) as outer_counter:\n",
    "    for i in outer_counter(range(5)):\n",
    "        print(\"outer:\",i)\n",
    "        with enable_counter(tempfile_path4) as inner_conter:\n",
    "            for j in inner_conter(range(5)):\n",
    "                print(\"\\tinner:\",j)\n",
    "                time.sleep(3)"
   ]
  },
  {
   "cell_type": "markdown",
   "metadata": {},
   "source": [
    "###  エラーとなる処理"
   ]
  },
  {
   "cell_type": "code",
   "execution_count": 163,
   "metadata": {
    "ExecuteTime": {
     "end_time": "2021-01-01T17:47:24.771473Z",
     "start_time": "2021-01-01T17:47:24.654831Z"
    }
   },
   "outputs": [
    {
     "ename": "Exception",
     "evalue": "Counter has already opened. please close Counter",
     "output_type": "error",
     "traceback": [
      "\u001b[1;31m---------------------------------------------------------------------------\u001b[0m",
      "\u001b[1;31mException\u001b[0m                                 Traceback (most recent call last)",
      "\u001b[1;32m<ipython-input-163-f5a499529421>\u001b[0m in \u001b[0;36m<module>\u001b[1;34m\u001b[0m\n\u001b[0;32m      1\u001b[0m \u001b[1;32mwith\u001b[0m \u001b[0menable_counter\u001b[0m\u001b[1;33m(\u001b[0m\u001b[0mtempfile_path\u001b[0m\u001b[1;33m)\u001b[0m \u001b[1;32mas\u001b[0m \u001b[0mcounter\u001b[0m\u001b[1;33m:\u001b[0m\u001b[1;33m\u001b[0m\u001b[1;33m\u001b[0m\u001b[0m\n\u001b[1;32m----> 2\u001b[1;33m     \u001b[1;32mwith\u001b[0m \u001b[0mmulti_count\u001b[0m\u001b[1;33m(\u001b[0m\u001b[1;33m)\u001b[0m\u001b[1;33m:\u001b[0m\u001b[1;33m\u001b[0m\u001b[1;33m\u001b[0m\u001b[0m\n\u001b[0m\u001b[0;32m      3\u001b[0m         \u001b[1;32mpass\u001b[0m\u001b[1;33m\u001b[0m\u001b[1;33m\u001b[0m\u001b[0m\n",
      "\u001b[1;32m<ipython-input-153-80c9ab78e5ba>\u001b[0m in \u001b[0;36m__enter__\u001b[1;34m(self)\u001b[0m\n\u001b[0;32m     10\u001b[0m             \u001b[1;32mraise\u001b[0m \u001b[0mException\u001b[0m\u001b[1;33m(\u001b[0m\u001b[1;34m\"MultiCount has already opend. cannot open another MultiCount\"\u001b[0m\u001b[1;33m)\u001b[0m\u001b[1;33m\u001b[0m\u001b[1;33m\u001b[0m\u001b[0m\n\u001b[0;32m     11\u001b[0m         \u001b[1;32mif\u001b[0m \u001b[0mconfig\u001b[0m\u001b[1;33m.\u001b[0m\u001b[0mis_enable\u001b[0m\u001b[1;33m:\u001b[0m\u001b[1;33m\u001b[0m\u001b[1;33m\u001b[0m\u001b[0m\n\u001b[1;32m---> 12\u001b[1;33m             \u001b[1;32mraise\u001b[0m \u001b[0mException\u001b[0m\u001b[1;33m(\u001b[0m\u001b[1;34m\"Counter has already opened. please close Counter\"\u001b[0m\u001b[1;33m)\u001b[0m\u001b[1;33m\u001b[0m\u001b[1;33m\u001b[0m\u001b[0m\n\u001b[0m\u001b[0;32m     13\u001b[0m \u001b[1;33m\u001b[0m\u001b[0m\n\u001b[0;32m     14\u001b[0m         \u001b[0mconfig\u001b[0m\u001b[1;33m.\u001b[0m\u001b[0mparent\u001b[0m \u001b[1;33m=\u001b[0m \u001b[0mself\u001b[0m\u001b[1;33m.\u001b[0m\u001b[0mparent_restart\u001b[0m\u001b[1;33m\u001b[0m\u001b[1;33m\u001b[0m\u001b[0m\n",
      "\u001b[1;31mException\u001b[0m: Counter has already opened. please close Counter"
     ]
    }
   ],
   "source": [
    "with enable_counter(tempfile_path) as counter:\n",
    "    with multi_count():\n",
    "        pass"
   ]
  },
  {
   "cell_type": "code",
   "execution_count": 164,
   "metadata": {
    "ExecuteTime": {
     "end_time": "2021-01-01T17:48:53.852141Z",
     "start_time": "2021-01-01T17:48:53.771355Z"
    }
   },
   "outputs": [
    {
     "ename": "Exception",
     "evalue": "MultiCount has already opend. cannot open another MultiCount",
     "output_type": "error",
     "traceback": [
      "\u001b[1;31m---------------------------------------------------------------------------\u001b[0m",
      "\u001b[1;31mException\u001b[0m                                 Traceback (most recent call last)",
      "\u001b[1;32m<ipython-input-164-3b3e455f2f62>\u001b[0m in \u001b[0;36m<module>\u001b[1;34m\u001b[0m\n\u001b[0;32m      1\u001b[0m \u001b[1;32mwith\u001b[0m \u001b[0mmulti_count\u001b[0m\u001b[1;33m(\u001b[0m\u001b[1;33m)\u001b[0m\u001b[1;33m:\u001b[0m\u001b[1;33m\u001b[0m\u001b[1;33m\u001b[0m\u001b[0m\n\u001b[1;32m----> 2\u001b[1;33m     \u001b[1;32mwith\u001b[0m \u001b[0mmulti_count\u001b[0m\u001b[1;33m(\u001b[0m\u001b[1;33m)\u001b[0m\u001b[1;33m:\u001b[0m\u001b[1;33m\u001b[0m\u001b[1;33m\u001b[0m\u001b[0m\n\u001b[0m\u001b[0;32m      3\u001b[0m         \u001b[1;32mpass\u001b[0m\u001b[1;33m\u001b[0m\u001b[1;33m\u001b[0m\u001b[0m\n",
      "\u001b[1;32m<ipython-input-153-80c9ab78e5ba>\u001b[0m in \u001b[0;36m__enter__\u001b[1;34m(self)\u001b[0m\n\u001b[0;32m      8\u001b[0m     \u001b[1;32mdef\u001b[0m \u001b[0m__enter__\u001b[0m\u001b[1;33m(\u001b[0m\u001b[0mself\u001b[0m\u001b[1;33m)\u001b[0m\u001b[1;33m:\u001b[0m\u001b[1;33m\u001b[0m\u001b[1;33m\u001b[0m\u001b[0m\n\u001b[0;32m      9\u001b[0m         \u001b[1;32mif\u001b[0m \u001b[0mconfig\u001b[0m\u001b[1;33m.\u001b[0m\u001b[0mparent\u001b[0m \u001b[1;32mis\u001b[0m \u001b[1;32mnot\u001b[0m \u001b[1;32mNone\u001b[0m\u001b[1;33m:\u001b[0m\u001b[1;33m\u001b[0m\u001b[1;33m\u001b[0m\u001b[0m\n\u001b[1;32m---> 10\u001b[1;33m             \u001b[1;32mraise\u001b[0m \u001b[0mException\u001b[0m\u001b[1;33m(\u001b[0m\u001b[1;34m\"MultiCount has already opend. cannot open another MultiCount\"\u001b[0m\u001b[1;33m)\u001b[0m\u001b[1;33m\u001b[0m\u001b[1;33m\u001b[0m\u001b[0m\n\u001b[0m\u001b[0;32m     11\u001b[0m         \u001b[1;32mif\u001b[0m \u001b[0mconfig\u001b[0m\u001b[1;33m.\u001b[0m\u001b[0mis_enable\u001b[0m\u001b[1;33m:\u001b[0m\u001b[1;33m\u001b[0m\u001b[1;33m\u001b[0m\u001b[0m\n\u001b[0;32m     12\u001b[0m             \u001b[1;32mraise\u001b[0m \u001b[0mException\u001b[0m\u001b[1;33m(\u001b[0m\u001b[1;34m\"Counter has already opened. please close Counter\"\u001b[0m\u001b[1;33m)\u001b[0m\u001b[1;33m\u001b[0m\u001b[1;33m\u001b[0m\u001b[0m\n",
      "\u001b[1;31mException\u001b[0m: MultiCount has already opend. cannot open another MultiCount"
     ]
    }
   ],
   "source": [
    "with multi_count():\n",
    "    with multi_count():\n",
    "        pass"
   ]
  }
 ],
 "metadata": {
  "kernelspec": {
   "display_name": "torch_py37",
   "language": "python",
   "name": "torch_py37"
  },
  "language_info": {
   "codemirror_mode": {
    "name": "ipython",
    "version": 3
   },
   "file_extension": ".py",
   "mimetype": "text/x-python",
   "name": "python",
   "nbconvert_exporter": "python",
   "pygments_lexer": "ipython3",
   "version": "3.7.4"
  },
  "toc": {
   "base_numbering": 1,
   "nav_menu": {},
   "number_sections": true,
   "sideBar": true,
   "skip_h1_title": true,
   "title_cell": "Table of Contents",
   "title_sidebar": "Contents",
   "toc_cell": false,
   "toc_position": {},
   "toc_section_display": true,
   "toc_window_display": false
  }
 },
 "nbformat": 4,
 "nbformat_minor": 4
}
