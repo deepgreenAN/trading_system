{
 "cells": [
  {
   "cell_type": "code",
   "execution_count": 1,
   "metadata": {
    "ExecuteTime": {
     "end_time": "2021-01-15T13:46:32.860555Z",
     "start_time": "2021-01-15T13:46:32.850583Z"
    }
   },
   "outputs": [],
   "source": [
    "import csv\n",
    "from pathlib import Path\n",
    "import datetime"
   ]
  },
  {
   "cell_type": "code",
   "execution_count": 2,
   "metadata": {
    "ExecuteTime": {
     "end_time": "2021-01-15T13:46:33.404101Z",
     "start_time": "2021-01-15T13:46:33.399114Z"
    }
   },
   "outputs": [],
   "source": [
    "import time"
   ]
  },
  {
   "cell_type": "code",
   "execution_count": 3,
   "metadata": {
    "ExecuteTime": {
     "end_time": "2021-01-15T13:46:33.812011Z",
     "start_time": "2021-01-15T13:46:33.807024Z"
    }
   },
   "outputs": [],
   "source": [
    "import pickle\n",
    "import shutil\n",
    "import warnings"
   ]
  },
  {
   "cell_type": "markdown",
   "metadata": {},
   "source": [
    "### Configクラス "
   ]
  },
  {
   "cell_type": "code",
   "execution_count": 4,
   "metadata": {
    "ExecuteTime": {
     "end_time": "2021-01-15T13:46:34.489200Z",
     "start_time": "2021-01-15T13:46:34.481222Z"
    }
   },
   "outputs": [],
   "source": [
    "class Config():\n",
    "    \"\"\"\n",
    "    各クラス・関数が参照する変数をまとめたクラス\n",
    "    \"\"\"\n",
    "    def __init__(self):\n",
    "        self.parent = None"
   ]
  },
  {
   "cell_type": "code",
   "execution_count": 5,
   "metadata": {
    "ExecuteTime": {
     "end_time": "2021-01-15T13:46:34.791404Z",
     "start_time": "2021-01-15T13:46:34.786406Z"
    }
   },
   "outputs": [],
   "source": [
    "config = Config()"
   ]
  },
  {
   "cell_type": "markdown",
   "metadata": {},
   "source": [
    "### 各種クロージャ "
   ]
  },
  {
   "cell_type": "markdown",
   "metadata": {},
   "source": [
    "#### enableクロージャ "
   ]
  },
  {
   "cell_type": "markdown",
   "metadata": {},
   "source": [
    "CounterClosierの親の作成・処理を行う．"
   ]
  },
  {
   "cell_type": "code",
   "execution_count": 6,
   "metadata": {
    "ExecuteTime": {
     "end_time": "2021-01-15T13:46:36.105879Z",
     "start_time": "2021-01-15T13:46:36.090919Z"
    }
   },
   "outputs": [],
   "source": [
    "class MultiClosier():\n",
    "    \"\"\"\n",
    "    複数のカウンタを利用する時に，このクロージャの終了時にまとめてtempfileを削除するためのクロージャ\n",
    "    \"\"\"\n",
    "    def __init__(self, parent):\n",
    "        self.parent = parent\n",
    "        \n",
    "    def __enter__(self):\n",
    "        if config.parent is not None:\n",
    "            raise Exception(\"MultiCount has already opend. cannot open another MultiCount\")\n",
    "        \n",
    "        config.parent = self.parent\n",
    "        return self\n",
    "        \n",
    "    def __exit__(self, ex_type, ex_value, trace):\n",
    "        config.parent = None  # 共通して行う\n",
    "        if ex_type is None:# 正常終了した場合\n",
    "            self.parent.all_close()\n",
    "        return False"
   ]
  },
  {
   "cell_type": "markdown",
   "metadata": {},
   "source": [
    "#### counterクロージャ "
   ]
  },
  {
   "cell_type": "markdown",
   "metadata": {},
   "source": [
    "プログラムのメイン．一時ファイル・保存ファイルの処理を行う．"
   ]
  },
  {
   "cell_type": "code",
   "execution_count": 7,
   "metadata": {
    "ExecuteTime": {
     "end_time": "2021-01-15T13:46:37.166046Z",
     "start_time": "2021-01-15T13:46:37.049358Z"
    }
   },
   "outputs": [],
   "source": [
    "class CounterClosier():\n",
    "    \"\"\"\n",
    "    イテレーションの進捗をtempfileに保存するクロージャ，自身によってイテレータをラップする．\n",
    "    途中で例外によって終了した場合と親が存在する場合にファイルを残す．\n",
    "    \"\"\"\n",
    "    def __init__(self, file_path, parent, each_save=False, save_span=1):\n",
    "        \"\"\"\n",
    "        file_path: pathlib.Path\n",
    "            一時ファイルのパス\n",
    "        parent: ParentCounter\n",
    "            自身の親を意味するクラス\n",
    "        each_save: bool\n",
    "            指定回数ごとに保存するかどうか\n",
    "        save_span: int, default:1\n",
    "            指定価数ごとに保存する場合の，指定回数\n",
    "        \"\"\"\n",
    "        self.file_path = file_path\n",
    "        self.parent = parent\n",
    "        self.each_save = each_save\n",
    "        self.save_span = save_span\n",
    "        \n",
    "        # 保存オブジェクト・保存関数の初期化\n",
    "        self.object = None\n",
    "        self.object_path = None\n",
    "        self.load_funcs = []\n",
    "        self.save_funcs = []\n",
    "        self.func_paths = []\n",
    "        self.src_dsts = []\n",
    "        \n",
    "        \n",
    "        # 一時ファイルの読み込み\n",
    "        self.start_counter = self._read_tempfile()\n",
    "        self.counter = 0  # 一応こちらでも0に初期化\n",
    "        \n",
    "    def _read_tempfile(self):\n",
    "        \"\"\"\n",
    "        一時ファイルの読み込み\n",
    "        \"\"\"\n",
    "        if self.file_path.exists():\n",
    "            with open(self.file_path, \"r\") as f:\n",
    "                reader = csv.reader(f)\n",
    "                #dateについて取得, 現在時間との差が一日以内かどうか判定\n",
    "                datetime_list = next(reader)  # [datetime,実際の日時の文字列]\n",
    "                tempfile_datetime = datetime.datetime.strptime(datetime_list[1], \"%Y-%m-%d %H:%M:%S\")\n",
    "                if datetime.datetime.now() - tempfile_datetime >= datetime.timedelta(days=1):\n",
    "                    warnings.warn(\"tempfile is not recent date, please check tempfile\")\n",
    "\n",
    "                # スタートカウンターの読み込み\n",
    "                start_counter_list = next(reader)\n",
    "                start_counter = int(start_counter_list[1])\n",
    "        else:\n",
    "            start_counter = 0\n",
    "        \n",
    "        return start_counter\n",
    "    \n",
    "    def _load_object(self):\n",
    "        \"\"\"\n",
    "        オブジェクト保存ファイルの読み込み\n",
    "        \"\"\"\n",
    "        new_object = self.object  # とりあえず現在のオブジェクトとする\n",
    "        \n",
    "        if self.object_path is not None:\n",
    "            if self.object_path.exists():\n",
    "                with open(self.object_path, \"rb\") as f:\n",
    "                    new_object = pickle.load(f)\n",
    "                    \n",
    "        return new_object\n",
    "    \n",
    "    def _save_object(self):\n",
    "        \"\"\"\n",
    "        オブジェクト保存ファイルの書き出し\n",
    "        \"\"\"\n",
    "        if self.object is not None:\n",
    "            with open(self.object_path, \"wb\") as f:\n",
    "                pickle.dump(self.object, f)\n",
    "                \n",
    "    def save_load_object(self, obj, obj_path):\n",
    "        \"\"\"\n",
    "        オブジェクトの保存についての設定と読み込み．保存ファイルが存在しなかった場合は，引数のオブジェクトがそのまま返る．\n",
    "        obj: any\n",
    "            保存するオブジェクト\n",
    "        obj_path: path\n",
    "            保存するパス\n",
    "        \"\"\"\n",
    "        self.object = obj\n",
    "        self.object_path = obj_path\n",
    "        \n",
    "        # オブジェクト保存ファイルの読み込み\n",
    "        self.object = self._load_object()\n",
    "        \n",
    "        return self.object\n",
    "    \n",
    "    def _load_funcs(self):\n",
    "        \"\"\"\n",
    "        ロード関数による読み込み\n",
    "        \"\"\"\n",
    "        for func_path, load_func in zip(self.func_paths, self.load_funcs):           \n",
    "            if func_path.exists():\n",
    "                load_func(func_path)  # load関数の実行\n",
    "                \n",
    "    def _save_funcs(self):\n",
    "        \"\"\"\n",
    "        セーブ関数による保存\n",
    "        \"\"\"\n",
    "        for func_path, save_func in zip(self.func_paths, self.save_funcs):\n",
    "            save_func(func_path)  # save関数の実行\n",
    "    \n",
    "    def save_load_funcs(self, save_funcs, load_funcs, func_paths):\n",
    "        \"\"\"\n",
    "        関数による保存についての設定と読み込み\n",
    "        save_funcs: list of function\n",
    "            保存する関数のリスト．各関数の引数はfunc_pathsの対応するパスとする．\n",
    "        load_funcs: list of function\n",
    "            ロードする関数のリスト．各関数の引数はfunc_pathsの対応するパスとする．\n",
    "        func_paths: list of pathlib.Path\n",
    "            保存・ロードするパスのリスト\n",
    "        \"\"\"\n",
    "        arg_lists =[save_funcs, load_funcs, func_paths]\n",
    "        \n",
    "        assert all(list(map(lambda arg_list: isinstance(arg_list, list), arg_lists)))  # 皆list\n",
    "        assert len(set(map(len , arg_lists)))==1  # 皆長さが一致\n",
    "        \n",
    "        self.save_funcs = save_funcs\n",
    "        self.load_funcs = load_funcs\n",
    "        self.func_paths = func_paths\n",
    "        \n",
    "        # 関数保存ファイルの読み込み\n",
    "        self._load_funcs()\n",
    "        \n",
    "    def _write_tempfile(self):\n",
    "        \"\"\"\n",
    "        一時ファイルの書き出し\n",
    "        \"\"\"\n",
    "        with open(self.file_path, \"w\", newline=\"\") as f:\n",
    "            writer = csv.writer(f)\n",
    "            writer.writerow([\"datetime\", datetime.datetime.now().strftime(\"%Y-%m-%d %H:%M:%S\")])\n",
    "            writer.writerow([\"start_count\",self.counter])\n",
    "            \n",
    "    def save(self):\n",
    "        \"\"\"\n",
    "        一時ファイル・保存ファイルを保存\n",
    "        \"\"\"\n",
    "        self._write_tempfile()\n",
    "        self._save_object()\n",
    "        self._save_funcs()\n",
    "        \n",
    "    def remove_files(self):\n",
    "        \"\"\"\n",
    "        利用した一時ファイル・保存ファイルをすべて削除する\n",
    "        \"\"\"\n",
    "        # 一時ファイルの削除\n",
    "        if self.file_path.exists():\n",
    "            self.file_path.unlink()\n",
    "        # 保存ファイルの削除\n",
    "        if self.object_path is not None:\n",
    "            if self.object_path.exists():\n",
    "                self.object_path.unlink()\n",
    "        for func_path in self.func_paths:\n",
    "            if func_path.exists():\n",
    "                # ディレクトリかファイルか判定\n",
    "                if func_path.is_file():\n",
    "                    func_path.unlink()\n",
    "                elif func_path.is_dir():\n",
    "                    shutil.rmtree(func_path)\n",
    "    \n",
    "    def _iter_finish(self):\n",
    "        \"\"\"\n",
    "        イテレーションが終了したときの処理．親が存在するならばファイルを削除せず保存する．\n",
    "        \"\"\"\n",
    "        if self.parent is None:  # ペアレントが無い場合\n",
    "            self.remove_files()  # 一時ファイル・保存ファイルの削除\n",
    "        else:  # ペアレントが存在する場合\n",
    "            self.save()  # 一時ファイル・保存ファイルの保存\n",
    "    \n",
    "    def __call__(self, iterable):  # ジェネレーターを返す\n",
    "        \"\"\"\n",
    "        for文にラップするための関数\n",
    "        iterable: イテラブルなオブジェクト\n",
    "        \n",
    "        return\n",
    "        ------\n",
    "        ジェネレーター\n",
    "        \"\"\"\n",
    "        iterable = iter(iterable)\n",
    "        self.counter = 0  # カウンタの初期化\n",
    "        while True:\n",
    "            if self.counter < self.start_counter:\n",
    "                self.counter += 1\n",
    "                try:\n",
    "                    next(iterable)  # 利用しない．進めるだけ\n",
    "                except StopIteration:\n",
    "                    self._iter_finish()\n",
    "                    return None  # StopIterationで終了\n",
    "                continue\n",
    "            \n",
    "            try:\n",
    "                yield_item = next(iterable)  # iterableから一つ取得\n",
    "                yield yield_item\n",
    "            except StopIteration:\n",
    "                self._iter_finish()\n",
    "                return None  # StopIterationで終了\n",
    "            \n",
    "            self.counter += 1  # すべてが終了したら+1\n",
    "            if self.each_save:  # 一時ファイルを指定回数ごとに保存\n",
    "                if self.counter%self.save_span==0:\n",
    "                    self.save()  # 一時ファイル・保存ファイルの保存\n",
    "    \n",
    "    def __enter__(self):\n",
    "        return self\n",
    "                \n",
    "    def __exit__(self, ex_type, ex_value, trace):\n",
    "        \"\"\"\n",
    "        with文が終了した際に，異常終了なら各ファイルを保存し，正常終了ならすでに処理してあるため何もしない\n",
    "        \"\"\"\n",
    "        if ex_type is not None:  # エラーで終了した場合 \n",
    "            self.save()\n",
    "        return False"
   ]
  },
  {
   "cell_type": "code",
   "execution_count": 8,
   "metadata": {
    "ExecuteTime": {
     "end_time": "2021-01-15T13:46:37.293724Z",
     "start_time": "2021-01-15T13:46:37.281736Z"
    }
   },
   "outputs": [],
   "source": [
    "class CounterClosierThrough(CounterClosier):\n",
    "    \"\"\"\n",
    "    CounterClosierを模した何もしないクロージャ．実装を変えずにtempfileの使用・不使用を切り替えるために利用する\n",
    "    \"\"\"\n",
    "    def __call__(self, iterable):\n",
    "        \"\"\"\n",
    "        ファイルを削除して，イテレータをそのまま返す\n",
    "        \"\"\"\n",
    "        # このタイミングで，一時ファイル・保存ファイルを削除\n",
    "        self.remove_files()\n",
    "        # そのままイテレータを返す\n",
    "        return iterable\n",
    "    \n",
    "    def __enter__(self):\n",
    "        \"\"\"\n",
    "        何もしない\n",
    "        \"\"\"\n",
    "        return self\n",
    "\n",
    "    def __exit__(self, ex_type, ex_value, trace):\n",
    "        \"\"\"\n",
    "        何もしない\n",
    "        \"\"\"\n",
    "        return False"
   ]
  },
  {
   "cell_type": "markdown",
   "metadata": {},
   "source": [
    "### ParentCounter "
   ]
  },
  {
   "cell_type": "code",
   "execution_count": 9,
   "metadata": {
    "ExecuteTime": {
     "end_time": "2021-01-15T13:46:37.912051Z",
     "start_time": "2021-01-15T13:46:37.887119Z"
    }
   },
   "outputs": [],
   "source": [
    "class ParentCounter():\n",
    "    \"\"\"\n",
    "    CounterClosierをまとめる親となるクラス\n",
    "    \"\"\"\n",
    "    def __init__(self):\n",
    "        self.child_counter_list = []\n",
    "        \n",
    "    def create_child(self, file_path, each_save=False, save_span=1, use_tempfile=True):\n",
    "        \"\"\"\n",
    "        自身から子供を作成する\n",
    "        file_path: pathlib.Path\n",
    "            一時ファイルのパス\n",
    "        each_save: bool\n",
    "            指定回数ごとに保存するかどうか\n",
    "        save_span: int, default:1\n",
    "            指定価数ごとに保存する場合の，指定回数\n",
    "        use_tempfile: bool\n",
    "            一時ファイルを利用するかどうか\n",
    "        \"\"\"\n",
    "        if use_tempfile:\n",
    "            counter = CounterClosier(file_path, parent=self, each_save=each_save, save_span=save_span)\n",
    "        else:\n",
    "            counter = CounterClosierThrough(file_path, parent=self)\n",
    "        \n",
    "        self.child_counter_list.append(counter)\n",
    "        return counter\n",
    "        \n",
    "    @staticmethod\n",
    "    def create_non_parent_child(file_path, each_save=False, save_span=1, use_tempfile=True):\n",
    "        \"\"\"\n",
    "        file_path: pathlib.Path\n",
    "            一時ファイルのパス\n",
    "        each_save: bool\n",
    "            指定回数ごとに保存するかどうか\n",
    "        save_span: int, default:1\n",
    "            指定価数ごとに保存する場合の，指定回数\n",
    "        use_tempfile: bool\n",
    "            一時ファイルを利用するかどうか\n",
    "        \"\"\"\n",
    "        if use_tempfile:\n",
    "            counter = CounterClosier(file_path, parent=None, each_save=each_save, save_span=save_span)\n",
    "        else:\n",
    "            counter = CounterClosierThrough(file_path, parent=None)\n",
    "        return counter\n",
    "        \n",
    "    def multi_child(self):\n",
    "        \"\"\"\n",
    "        子供を複数まとめる場合にwith文で展開する\n",
    "        \"\"\"\n",
    "        return MultiClosier(self)\n",
    "    \n",
    "    def all_close(self):\n",
    "        \"\"\"\n",
    "        子の一時ファイル・保存ファイルを全て削除する．\n",
    "        \"\"\"\n",
    "        [counter.remove_files() for counter in self.child_counter_list]"
   ]
  },
  {
   "cell_type": "markdown",
   "metadata": {},
   "source": [
    "### インターフェースとなる関数 "
   ]
  },
  {
   "cell_type": "code",
   "execution_count": 10,
   "metadata": {
    "ExecuteTime": {
     "end_time": "2021-01-15T13:46:38.476543Z",
     "start_time": "2021-01-15T13:46:38.456596Z"
    }
   },
   "outputs": [],
   "source": [
    "def multi_count():\n",
    "    \"\"\"\n",
    "    複数カウンタを作成するときに展開することで，一時ファイル・保存ファイルの削除をすべてが終了したタイミングで行うことができる．．\n",
    "    \"\"\"\n",
    "    parent = ParentCounter()\n",
    "    return parent.multi_child()\n",
    "\n",
    "\n",
    "def enable_counter(file_path, use_tempfile=True, each_save=True, save_span=1):\n",
    "    \"\"\"\n",
    "    for文をラップするCounterClosierオブジェクトを返す．with文で展開することで，エラーによる終了時に進捗状況(一時ファイル・保存ファイル)を保存する.\n",
    "    with文に展開しなくても，each_saveをTrueにすることで，指定したイテレーション回数ごとに保存することもできる．\n",
    "    \n",
    "    file_path: pathlib.Path\n",
    "        一時ファイルのパス\n",
    "    use_tempfile: bool\n",
    "        一時ファイル・保存ファイルを利用するかどうか．つまりこれをTrueにすると，利用しないのと全く同じになる\n",
    "    each_save: bool\n",
    "        指定回数ごとに保存するかどうか．\n",
    "    save_span: int\n",
    "        指定回数ごとに保存する場合の指定回数\n",
    "    \"\"\"\n",
    "    if config.parent is None:  # グローバルのペアレントが存在しない場合\n",
    "        counter = ParentCounter.create_non_parent_child(file_path, each_save=each_save, save_span=save_span, use_tempfile=use_tempfile)\n",
    "        return counter\n",
    "    else:  # グローバルのペアレントが存在する場合\n",
    "        counter = config.parent.create_child(file_path, each_save=each_save, save_span=save_span, use_tempfile=use_tempfile)\n",
    "        return counter\n",
    "    \n",
    "    \n",
    "def simple_counter(file_path, iterable, use_tempfile=True, save_span=1):\n",
    "    \"\"\"\n",
    "    for文をラップするジェネレータを直接返す．イテレーションの毎回で保存される．\n",
    "    file_path: pathlib.Path\n",
    "        一時ファイルのパス\n",
    "    iterable: any of itrable\n",
    "        イテラブルなオブジェクト\n",
    "    use_tempfile: bool\n",
    "        一時ファイル・保存ファイルを利用するかどうか．つまりこれをTrueにすると，利用しないのと全く同じになる\n",
    "    save_span: int\n",
    "        指定回数ごとに保存する場合の指定回数\n",
    "    \"\"\"\n",
    "    return enable_counter(file_path, use_tempfile, each_save=True, save_span=save_span)(iterable)"
   ]
  },
  {
   "cell_type": "markdown",
   "metadata": {},
   "source": [
    "### テストコード "
   ]
  },
  {
   "cell_type": "markdown",
   "metadata": {},
   "source": [
    "#### 一つの場合 "
   ]
  },
  {
   "cell_type": "markdown",
   "metadata": {},
   "source": [
    "以下のように，`enable_counter`をwith文に添えた返り値(`CounterClosier`オブジェクト)でイテレーターをラップする．イテレーション内でエラーが生じた場合に，一時ファイルを保存し，次回はエラーが起きたイテレーションから再開できる．\n",
    "この例では，iが4のときにKeybordInterruptを行った後，もう一度実行した結果である．"
   ]
  },
  {
   "cell_type": "code",
   "execution_count": 12,
   "metadata": {
    "ExecuteTime": {
     "end_time": "2021-01-15T13:47:16.311409Z",
     "start_time": "2021-01-15T13:46:58.189847Z"
    }
   },
   "outputs": [
    {
     "name": "stdout",
     "output_type": "stream",
     "text": [
      "4\n",
      "5\n",
      "6\n",
      "7\n",
      "8\n",
      "9\n"
     ]
    }
   ],
   "source": [
    "tempfile_path = Path(\"temp1.tmp\")\n",
    "\n",
    "with enable_counter(tempfile_path) as counter:\n",
    "    for i in counter(range(10)):\n",
    "        print(i)\n",
    "        time.sleep(3)"
   ]
  },
  {
   "cell_type": "markdown",
   "metadata": {},
   "source": [
    "#### 一つの場合(毎回保存する場合) "
   ]
  },
  {
   "cell_type": "markdown",
   "metadata": {},
   "source": [
    "with文を利用したくない場合，`enable_counter`の引数`each_save`をTrueにするか，`simple_couonter`が利用できる．どちらも異常終了時に一時ファイルを保存するわけではなく，イテレーションの指定回数ごとに保存する．また，`simple_counter`は直接ジェネレータを出力する．"
   ]
  },
  {
   "cell_type": "code",
   "execution_count": 14,
   "metadata": {
    "ExecuteTime": {
     "end_time": "2021-01-15T13:47:51.901269Z",
     "start_time": "2021-01-15T13:47:33.787687Z"
    }
   },
   "outputs": [
    {
     "name": "stdout",
     "output_type": "stream",
     "text": [
      "4\n",
      "5\n",
      "6\n",
      "7\n",
      "8\n",
      "9\n"
     ]
    }
   ],
   "source": [
    "tempfile_path = Path(\"temp2.tmp\")\n",
    "\n",
    "for i in simple_counter(tempfile_path, range(10)):\n",
    "    print(i)\n",
    "    time.sleep(3)"
   ]
  },
  {
   "cell_type": "markdown",
   "metadata": {},
   "source": [
    "#### 二つ以上の場合 "
   ]
  },
  {
   "cell_type": "markdown",
   "metadata": {},
   "source": [
    "`enable_counter`あるいは`simple_counter`のみでは，一つのfor文が終了したときに一時ファイルが削除されてしまうため，二つ以上for文が連続する場合に進捗を保存できない．`multi_count`を利用すればそのインデントブロックが終了するまで一時ファイルを残すことができる．以下の例では，一つ目のfor文が終了したのちにiが2の時点でKeybordInterruptを行い，再度実行した結果である"
   ]
  },
  {
   "cell_type": "code",
   "execution_count": 16,
   "metadata": {
    "ExecuteTime": {
     "end_time": "2021-01-15T13:50:21.854411Z",
     "start_time": "2021-01-15T13:50:12.724814Z"
    }
   },
   "outputs": [
    {
     "name": "stdout",
     "output_type": "stream",
     "text": [
      "1 is finished\n",
      "2: 2\n",
      "2: 3\n",
      "2: 4\n"
     ]
    }
   ],
   "source": [
    "tempfile_path1 = Path(\"temp3.tmp\")\n",
    "tempfile_path2 = Path(\"temp4.tmp\")\n",
    "\n",
    "with multi_count():\n",
    "    with enable_counter(tempfile_path1) as counter:\n",
    "        for i in counter(range(10)):\n",
    "            print(\"1:\",i)\n",
    "            time.sleep(3)\n",
    "            \n",
    "    print(\"1 is finished\")\n",
    "    for i in simple_counter(tempfile_path2, range(5)):\n",
    "            print(\"2:\",i)\n",
    "            time.sleep(3)"
   ]
  },
  {
   "cell_type": "markdown",
   "metadata": {},
   "source": [
    "#### 再帰的に使う場合 "
   ]
  },
  {
   "cell_type": "markdown",
   "metadata": {},
   "source": [
    "以下の例では，iが1,jが2の時にKeybordInterruptを行ったのち，再度実行したものである．"
   ]
  },
  {
   "cell_type": "code",
   "execution_count": 18,
   "metadata": {
    "ExecuteTime": {
     "end_time": "2021-01-15T13:51:34.451344Z",
     "start_time": "2021-01-15T13:51:10.258016Z"
    }
   },
   "outputs": [
    {
     "name": "stdout",
     "output_type": "stream",
     "text": [
      "outer: 1\n",
      "\tinner: 2\n",
      "\tinner: 3\n",
      "\tinner: 4\n",
      "outer: 2\n",
      "\tinner: 0\n",
      "\tinner: 1\n",
      "\tinner: 2\n",
      "\tinner: 3\n",
      "\tinner: 4\n"
     ]
    }
   ],
   "source": [
    "tempfile_path3 = Path(\"temp5.tmp\")\n",
    "tempfile_path4 = Path(\"temp6.tmp\")\n",
    "\n",
    "with enable_counter(tempfile_path3) as outer_counter:\n",
    "    for i in outer_counter(range(3)):\n",
    "        print(\"outer:\",i)\n",
    "        for j in simple_counter(tempfile_path4 ,range(5)):\n",
    "                print(\"\\tinner:\",j)\n",
    "                time.sleep(3)"
   ]
  },
  {
   "cell_type": "markdown",
   "metadata": {},
   "source": [
    "#### オブジェクトの一時保存"
   ]
  },
  {
   "cell_type": "markdown",
   "metadata": {},
   "source": [
    "イテレーションの進捗保存だけでなく，特定のオブジェクトも一時的に保存できる．その場合，以下のように`enable_counter`の返り値`CounterClosier`の`save_load_object`メソッドを利用できる．もちろん`save_load_object`はイテレーション内に記述\n",
    "するべきではないが，withブロック内に記述する必要がある．登録したオブジェクトがイミュータブルな場合，イテレーション途中で`CounterClosier`の`object`プロパティを明示的に変更する．  "
   ]
  },
  {
   "cell_type": "markdown",
   "metadata": {},
   "source": [
    "この例では，iが4のときにKeybordInterruptを行った後，もう一度実行した結果である．"
   ]
  },
  {
   "cell_type": "code",
   "execution_count": 20,
   "metadata": {
    "ExecuteTime": {
     "end_time": "2021-01-15T13:53:25.736851Z",
     "start_time": "2021-01-15T13:53:07.522545Z"
    }
   },
   "outputs": [
    {
     "name": "stdout",
     "output_type": "stream",
     "text": [
      "{'sum': 6}\n",
      "i: 4\n",
      "sum: 10\n",
      "i: 5\n",
      "sum: 15\n",
      "i: 6\n",
      "sum: 21\n",
      "i: 7\n",
      "sum: 28\n",
      "i: 8\n",
      "sum: 36\n",
      "i: 9\n",
      "sum: 45\n"
     ]
    }
   ],
   "source": [
    "tempfile_path = Path(\"temp7.tmp\")\n",
    "\n",
    "# 保存したいオブジェクト\n",
    "save_object = {\"sum\":0}\n",
    "\n",
    "with enable_counter(tempfile_path) as counter:\n",
    "    # オブジェクトの登録(保存ファイルがある場合の読み込み)\n",
    "    save_object = counter.save_load_object(save_object, Path(\"temp_sum.pickle\"))\n",
    "    print(save_object)\n",
    "    for i in counter(range(10)):\n",
    "        print(\"i:\",i)\n",
    "        time.sleep(3)\n",
    "        \n",
    "        save_object[\"sum\"] += i\n",
    "        # 変更を明示する場合，以下のようにする\n",
    "        #counter.object = save_object\n",
    "        \n",
    "        print(\"sum:\",save_object[\"sum\"])"
   ]
  },
  {
   "cell_type": "markdown",
   "metadata": {},
   "source": [
    "毎回保存する場合，つまり`enable_counter`の引数`each_save`を`True`にした場合，with文を用いなくても保存できる．しかしイテレーション毎にpickleで保存するため，データの読み込み・書き出しのオーバーヘッドが加わることに注意する．`enable_counter`の引数`save_span`を指定することで，保存間隔を指定できる．"
   ]
  },
  {
   "cell_type": "markdown",
   "metadata": {},
   "source": [
    "指定回数ごとに保存することによって，エラーで検知できないような終了(例えば，Google colabの接続切れなど)をしてしまっても，一次ファイルを保存できるメリットがある．"
   ]
  },
  {
   "cell_type": "code",
   "execution_count": 22,
   "metadata": {
    "ExecuteTime": {
     "end_time": "2021-01-15T11:27:57.979755Z",
     "start_time": "2021-01-15T11:27:39.809297Z"
    }
   },
   "outputs": [
    {
     "name": "stdout",
     "output_type": "stream",
     "text": [
      "{'sum': 6}\n",
      "i: 4\n",
      "sum: 10\n",
      "i: 5\n",
      "sum: 15\n",
      "i: 6\n",
      "sum: 21\n",
      "i: 7\n",
      "sum: 28\n",
      "i: 8\n",
      "sum: 36\n",
      "i: 9\n",
      "sum: 45\n"
     ]
    }
   ],
   "source": [
    "tempfile_path = Path(\"temp8.tmp\")\n",
    "\n",
    "# 保存したいオブジェクト\n",
    "save_object = {\"sum\":0}\n",
    "\n",
    "counter = enable_counter(tempfile_path, each_save=True, save_span=1)\n",
    "# オブジェクトの登録(保存ファイルがある場合の読み込み)\n",
    "save_object = counter.save_load_object(save_object, Path(\"temp_sum.pickle\"))\n",
    "print(save_object)\n",
    "\n",
    "for i in counter(range(10)):\n",
    "    print(\"i:\",i)\n",
    "    time.sleep(3)\n",
    "\n",
    "    save_object[\"sum\"] += i\n",
    "    counter.object = save_object  # 一応明示的に変更\n",
    "\n",
    "    print(\"sum:\",save_object[\"sum\"])"
   ]
  },
  {
   "cell_type": "markdown",
   "metadata": {},
   "source": [
    "#### 任意の保存・ロード関数の利用 "
   ]
  },
  {
   "cell_type": "markdown",
   "metadata": {},
   "source": [
    "機械学習における重みファイルの保存など，オブジェクトの保存に外部の関数を利用したい場合がある．その場合は`CounterClosier`の`save_load_funcs`メソッドを利用できる．`save_load_funcs`の引数は`save_funcs`(保存用の関数のリスト),`load_funcs`(読み込み用の関数のリスト)，`func_paths`(二つの関数の引数となるパスのリスト)の3つのリストを対応するように渡す必要がある．保存用の関数・読み込み用の関数，はどちらもパスのみを引数とするため,任意の関数を利用する場合は無名関数などを用いて調節する必要がある．なお，`load_funcs`に与える関数は，保存したいオブジェクトをグローバル変数にして変更する必要があることに注意する．"
   ]
  },
  {
   "cell_type": "code",
   "execution_count": 21,
   "metadata": {
    "ExecuteTime": {
     "end_time": "2021-01-15T13:55:07.820014Z",
     "start_time": "2021-01-15T13:55:05.085274Z"
    }
   },
   "outputs": [],
   "source": [
    "import torch\n",
    "import torch.nn as nn\n",
    "import numpy as np"
   ]
  },
  {
   "cell_type": "code",
   "execution_count": 22,
   "metadata": {
    "ExecuteTime": {
     "end_time": "2021-01-15T13:55:20.891019Z",
     "start_time": "2021-01-15T13:55:20.838160Z"
    }
   },
   "outputs": [],
   "source": [
    "linear_model = nn.Linear(5, 10)\n",
    "temp_array = np.zeros((2,2))\n",
    "temp_tensor = torch.zeros((3,3))\n",
    "\n",
    "# pickleでtensorを書き出す用の関数\n",
    "def save_temp_tensor_as_pickle(save_path):\n",
    "    with open(save_path, \"wb\") as f:\n",
    "        pickle.dump(temp_tensor, f)\n",
    "    \n",
    "# 保存関数のリスト\n",
    "save_funcs = [lambda save_path: torch.save(linear_model.state_dict(), save_path),\n",
    "              lambda save_path: np.save(save_path, temp_array),\n",
    "              save_temp_tensor_as_pickle\n",
    "             ]\n",
    "\n",
    "# pytorchのモデルを読み込む用の関数\n",
    "def load_linear_model(load_path):\n",
    "    global linear_model  # こちらの宣言は必要ない\n",
    "    linear_model.load_state_dict(torch.load(load_path))\n",
    "# ndarrayを読み込む用の関数\n",
    "def load_temp_array(load_path):\n",
    "    global temp_array  # 書き換えるため，グローバル変数宣言\n",
    "    temp_array = np.load(load_path)\n",
    "# pickleでtensorを読み込む用の関数\n",
    "def load_temp_tensor(load_path):\n",
    "    global temp_tensor  # 書き換えるため，グローバル変数宣言\n",
    "    with open(load_path, \"rb\") as f:\n",
    "        temp_tensor = pickle.load(f)\n",
    "\n",
    "# ロード関数のリスト\n",
    "load_funcs = [load_linear_model,\n",
    "              load_temp_array,\n",
    "              load_temp_tensor,\n",
    "             ]\n",
    "\n",
    "#　パスのリスト\n",
    "func_paths = [Path(\"temp_linear_model.pth\"),\n",
    "              Path(\"temp_array.npy\"),\n",
    "              Path(\"temp_tensor.pickle\")]"
   ]
  },
  {
   "cell_type": "markdown",
   "metadata": {},
   "source": [
    "この例では，iが4のときにKeybordInterruptを行った後，もう一度実行した結果である．"
   ]
  },
  {
   "cell_type": "code",
   "execution_count": 24,
   "metadata": {
    "ExecuteTime": {
     "end_time": "2021-01-15T13:55:58.192307Z",
     "start_time": "2021-01-15T13:55:39.871294Z"
    }
   },
   "outputs": [
    {
     "name": "stdout",
     "output_type": "stream",
     "text": [
      "load temp_array: [[6. 6.]\n",
      " [6. 6.]]\n",
      "load temp_tensor: tensor([[6., 6., 6.],\n",
      "        [6., 6., 6.],\n",
      "        [6., 6., 6.]])\n",
      "i: 4\n",
      "temp_array: [[10. 10.]\n",
      " [10. 10.]]\n",
      "temp_tensr: tensor([[10., 10., 10.],\n",
      "        [10., 10., 10.],\n",
      "        [10., 10., 10.]])\n",
      "i: 5\n",
      "temp_array: [[15. 15.]\n",
      " [15. 15.]]\n",
      "temp_tensr: tensor([[15., 15., 15.],\n",
      "        [15., 15., 15.],\n",
      "        [15., 15., 15.]])\n",
      "i: 6\n",
      "temp_array: [[21. 21.]\n",
      " [21. 21.]]\n",
      "temp_tensr: tensor([[21., 21., 21.],\n",
      "        [21., 21., 21.],\n",
      "        [21., 21., 21.]])\n",
      "i: 7\n",
      "temp_array: [[28. 28.]\n",
      " [28. 28.]]\n",
      "temp_tensr: tensor([[28., 28., 28.],\n",
      "        [28., 28., 28.],\n",
      "        [28., 28., 28.]])\n",
      "i: 8\n",
      "temp_array: [[36. 36.]\n",
      " [36. 36.]]\n",
      "temp_tensr: tensor([[36., 36., 36.],\n",
      "        [36., 36., 36.],\n",
      "        [36., 36., 36.]])\n",
      "i: 9\n",
      "temp_array: [[45. 45.]\n",
      " [45. 45.]]\n",
      "temp_tensr: tensor([[45., 45., 45.],\n",
      "        [45., 45., 45.],\n",
      "        [45., 45., 45.]])\n"
     ]
    }
   ],
   "source": [
    "tempfile_path = Path(\"temp9.tmp\")\n",
    "\n",
    "with enable_counter(tempfile_path) as counter:\n",
    "    # 保存・ロード関数の登録(保存ファイルがある場合は読み込み)\n",
    "    counter.save_load_funcs(save_funcs=save_funcs,\n",
    "                            load_funcs=load_funcs,\n",
    "                            func_paths=func_paths)\n",
    "    \n",
    "    print(\"load temp_array:\", temp_array)\n",
    "    print(\"load temp_tensor:\", temp_tensor)\n",
    "    for i in counter(range(10)):\n",
    "        print(\"i:\",i)\n",
    "        time.sleep(3)\n",
    "        \n",
    "        temp_array += i * np.ones((2,2))\n",
    "        temp_tensor += i * torch.ones((3,3))\n",
    "        print(\"temp_array:\", temp_array)\n",
    "        print(\"temp_tensr:\", temp_tensor)"
   ]
  },
  {
   "cell_type": "markdown",
   "metadata": {},
   "source": [
    "###  エラーとなる処理"
   ]
  },
  {
   "cell_type": "markdown",
   "metadata": {},
   "source": [
    "以下のように，`multi_count`は再帰的に利用できない"
   ]
  },
  {
   "cell_type": "code",
   "execution_count": 56,
   "metadata": {
    "ExecuteTime": {
     "end_time": "2021-01-15T05:54:37.351765Z",
     "start_time": "2021-01-15T05:54:37.300905Z"
    }
   },
   "outputs": [
    {
     "ename": "Exception",
     "evalue": "MultiCount has already opend. cannot open another MultiCount",
     "output_type": "error",
     "traceback": [
      "\u001b[1;31m---------------------------------------------------------------------------\u001b[0m",
      "\u001b[1;31mException\u001b[0m                                 Traceback (most recent call last)",
      "\u001b[1;32m<ipython-input-56-3b3e455f2f62>\u001b[0m in \u001b[0;36m<module>\u001b[1;34m\u001b[0m\n\u001b[0;32m      1\u001b[0m \u001b[1;32mwith\u001b[0m \u001b[0mmulti_count\u001b[0m\u001b[1;33m(\u001b[0m\u001b[1;33m)\u001b[0m\u001b[1;33m:\u001b[0m\u001b[1;33m\u001b[0m\u001b[1;33m\u001b[0m\u001b[0m\n\u001b[1;32m----> 2\u001b[1;33m     \u001b[1;32mwith\u001b[0m \u001b[0mmulti_count\u001b[0m\u001b[1;33m(\u001b[0m\u001b[1;33m)\u001b[0m\u001b[1;33m:\u001b[0m\u001b[1;33m\u001b[0m\u001b[1;33m\u001b[0m\u001b[0m\n\u001b[0m\u001b[0;32m      3\u001b[0m         \u001b[1;32mpass\u001b[0m\u001b[1;33m\u001b[0m\u001b[1;33m\u001b[0m\u001b[0m\n",
      "\u001b[1;32m<ipython-input-32-06c8301f69c3>\u001b[0m in \u001b[0;36m__enter__\u001b[1;34m(self)\u001b[0m\n\u001b[0;32m      8\u001b[0m     \u001b[1;32mdef\u001b[0m \u001b[0m__enter__\u001b[0m\u001b[1;33m(\u001b[0m\u001b[0mself\u001b[0m\u001b[1;33m)\u001b[0m\u001b[1;33m:\u001b[0m\u001b[1;33m\u001b[0m\u001b[1;33m\u001b[0m\u001b[0m\n\u001b[0;32m      9\u001b[0m         \u001b[1;32mif\u001b[0m \u001b[0mconfig\u001b[0m\u001b[1;33m.\u001b[0m\u001b[0mparent\u001b[0m \u001b[1;32mis\u001b[0m \u001b[1;32mnot\u001b[0m \u001b[1;32mNone\u001b[0m\u001b[1;33m:\u001b[0m\u001b[1;33m\u001b[0m\u001b[1;33m\u001b[0m\u001b[0m\n\u001b[1;32m---> 10\u001b[1;33m             \u001b[1;32mraise\u001b[0m \u001b[0mException\u001b[0m\u001b[1;33m(\u001b[0m\u001b[1;34m\"MultiCount has already opend. cannot open another MultiCount\"\u001b[0m\u001b[1;33m)\u001b[0m\u001b[1;33m\u001b[0m\u001b[1;33m\u001b[0m\u001b[0m\n\u001b[0m\u001b[0;32m     11\u001b[0m \u001b[1;33m\u001b[0m\u001b[0m\n\u001b[0;32m     12\u001b[0m         \u001b[0mconfig\u001b[0m\u001b[1;33m.\u001b[0m\u001b[0mparent\u001b[0m \u001b[1;33m=\u001b[0m \u001b[0mself\u001b[0m\u001b[1;33m.\u001b[0m\u001b[0mparent_restart\u001b[0m\u001b[1;33m\u001b[0m\u001b[1;33m\u001b[0m\u001b[0m\n",
      "\u001b[1;31mException\u001b[0m: MultiCount has already opend. cannot open another MultiCount"
     ]
    }
   ],
   "source": [
    "with multi_count():\n",
    "    with multi_count():\n",
    "        pass"
   ]
  }
 ],
 "metadata": {
  "kernelspec": {
   "display_name": "torch_py37",
   "language": "python",
   "name": "torch_py37"
  },
  "language_info": {
   "codemirror_mode": {
    "name": "ipython",
    "version": 3
   },
   "file_extension": ".py",
   "mimetype": "text/x-python",
   "name": "python",
   "nbconvert_exporter": "python",
   "pygments_lexer": "ipython3",
   "version": "3.7.4"
  },
  "toc": {
   "base_numbering": 1,
   "nav_menu": {},
   "number_sections": true,
   "sideBar": true,
   "skip_h1_title": true,
   "title_cell": "Table of Contents",
   "title_sidebar": "Contents",
   "toc_cell": false,
   "toc_position": {},
   "toc_section_display": true,
   "toc_window_display": false
  }
 },
 "nbformat": 4,
 "nbformat_minor": 4
}
