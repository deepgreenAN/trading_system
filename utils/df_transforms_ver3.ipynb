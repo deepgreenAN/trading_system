{
 "cells": [
  {
   "cell_type": "markdown",
   "metadata": {},
   "source": [
    "### 実行位置の調整 "
   ]
  },
  {
   "cell_type": "code",
   "execution_count": 4,
   "metadata": {
    "ExecuteTime": {
     "end_time": "2021-05-10T14:25:35.288643Z",
     "start_time": "2021-05-10T14:25:35.262721Z"
    }
   },
   "outputs": [
    {
     "name": "stdout",
     "output_type": "stream",
     "text": [
      "E:\\システムトレード入門\\trade_system_git_workspace\n"
     ]
    }
   ],
   "source": [
    "%cd .."
   ]
  },
  {
   "cell_type": "code",
   "execution_count": 5,
   "metadata": {
    "ExecuteTime": {
     "end_time": "2021-05-10T14:25:38.165995Z",
     "start_time": "2021-05-10T14:25:35.300611Z"
    }
   },
   "outputs": [],
   "source": [
    "import pandas as pd\n",
    "import datetime\n",
    "from datetime import timedelta\n",
    "from pytz import timezone\n",
    "import pickle"
   ]
  },
  {
   "cell_type": "code",
   "execution_count": 6,
   "metadata": {
    "ExecuteTime": {
     "end_time": "2021-05-10T14:25:38.197860Z",
     "start_time": "2021-05-10T14:25:38.175920Z"
    }
   },
   "outputs": [],
   "source": [
    "import re"
   ]
  },
  {
   "cell_type": "code",
   "execution_count": 7,
   "metadata": {
    "ExecuteTime": {
     "end_time": "2021-05-10T14:25:38.229776Z",
     "start_time": "2021-05-10T14:25:38.208829Z"
    }
   },
   "outputs": [],
   "source": [
    "import warnings"
   ]
  },
  {
   "cell_type": "code",
   "execution_count": 8,
   "metadata": {
    "ExecuteTime": {
     "end_time": "2021-05-10T14:25:39.163279Z",
     "start_time": "2021-05-10T14:25:38.245735Z"
    }
   },
   "outputs": [],
   "source": [
    "from py_workdays import option, get_near_workday_intraday_jp, check_workday_intraday_jp, get_next_border_workday_intraday_jp, get_previous_border_workday_intraday_jp"
   ]
  },
  {
   "cell_type": "code",
   "execution_count": 9,
   "metadata": {
    "ExecuteTime": {
     "end_time": "2021-05-10T14:25:39.195193Z",
     "start_time": "2021-05-10T14:25:39.170259Z"
    }
   },
   "outputs": [],
   "source": [
    "from py_workdays import add_workday_intraday_datetime, sub_workday_intraday_datetime"
   ]
  },
  {
   "cell_type": "markdown",
   "metadata": {},
   "source": [
    "自分の実装では，以下の足を使う．それぞれ．秒足, 30秒足, 分足, 10分足, 30分足, 1時間足, 2時間足, 4時間足, 12時間足, 日足, 営業日足, 週足, 2週足, 月足, 4半期足, 年足を使う．"
   ]
  },
  {
   "cell_type": "code",
   "execution_count": 10,
   "metadata": {
    "ExecuteTime": {
     "end_time": "2021-05-10T14:25:39.243067Z",
     "start_time": "2021-05-10T14:25:39.210156Z"
    }
   },
   "outputs": [],
   "source": [
    "# 自分が利用する足\n",
    "available_sample_type = set([\"S\", \"1S\", \"30S\", \"T\", \"1T\", \"5T\", \"10T\", \"30T\", \"H\",\"1H\", \"2H\", \"4H\", \n",
    "                             \"12H\", \"D\", \"1D\", \"B\", \"1B\", \"W\", \"1W\", \"2W\", \"M\", \"1M\", \"Q\", \"1Q\", \"Y\", \"1Y\"])"
   ]
  },
  {
   "cell_type": "code",
   "execution_count": 11,
   "metadata": {
    "ExecuteTime": {
     "end_time": "2021-05-10T14:25:39.322876Z",
     "start_time": "2021-05-10T14:25:39.268000Z"
    }
   },
   "outputs": [],
   "source": [
    "middle_type_dict ={\"S\":\"S\",\"1S\":\"S\",\"30S\":\"30S\",\"min\":\"T\",\"1min\":\"T\",\"T\":\"T\",\"1T\":\"T\",\"5T\":\"5T\",\"10T\":\"10T\",\"30T\":\"30T\",\n",
    "                   \"H\":\"H\",\"1H\":\"H\",\"2H\":\"2H\",\"4H\":\"4H\",\"12H\":\"12H\",\"D\":\"D\",\"1D\":\"D\",\n",
    "                   \"B\":\"B\",\"1B\":\"B\",\"W\":\"W\",\"1W\":\"W\",\"2W\":\"2W\",\"M\":\"M\",\"1M\":\"M\",\"Q\":\"Q\",\"1Q\":\"Q\",\n",
    "                   \"Y\":\"Y\",\"1Y\":\"Y\"\n",
    "                   }"
   ]
  },
  {
   "cell_type": "code",
   "execution_count": 12,
   "metadata": {
    "ExecuteTime": {
     "end_time": "2021-05-10T14:25:39.385684Z",
     "start_time": "2021-05-10T14:25:39.345790Z"
    }
   },
   "outputs": [],
   "source": [
    "# frequencyとtimedeltaの辞書Sから2Wまで\n",
    "type_deltataime_dict = {\n",
    "    \"S\":timedelta(seconds=1),\"30S\":timedelta(seconds=30),\"T\":timedelta(minutes=1),\"5T\":timedelta(minutes=5),\"10T\":timedelta(minutes=10),\n",
    "    \"30T\":timedelta(minutes=30),\"H\":timedelta(hours=1),\"2H\":timedelta(hours=2),\"4H\":timedelta(hours=4),\"12H\":timedelta(hours=12),\n",
    "    \"D\":timedelta(days=1),\"W\":timedelta(days=7),\"2W\":timedelta(days=14)\n",
    "}"
   ]
  },
  {
   "cell_type": "markdown",
   "metadata": {},
   "source": [
    "### 秒：サンプリング周期　の辞書"
   ]
  },
  {
   "cell_type": "code",
   "execution_count": 13,
   "metadata": {
    "ExecuteTime": {
     "end_time": "2021-05-10T14:25:39.528302Z",
     "start_time": "2021-05-10T14:25:39.404634Z"
    }
   },
   "outputs": [
    {
     "data": {
      "text/plain": [
       "{1.0: 'S',\n",
       " 30.0: '30S',\n",
       " 60.0: 'T',\n",
       " 300.0: '5T',\n",
       " 600.0: '10T',\n",
       " 1800.0: '30T',\n",
       " 3600.0: 'H',\n",
       " 7200.0: '2H',\n",
       " 14400.0: '4H',\n",
       " 43200.0: '12H',\n",
       " 86400.0: 'D',\n",
       " 604800.0: 'W',\n",
       " 1209600.0: '2W'}"
      ]
     },
     "execution_count": 13,
     "metadata": {},
     "output_type": "execute_result"
    }
   ],
   "source": [
    "seconds_freq = {type_deltataime_dict[i].total_seconds():i for i in type_deltataime_dict.keys()}\n",
    "seconds_freq"
   ]
  },
  {
   "cell_type": "markdown",
   "metadata": {},
   "source": [
    "### サンプリング周期：秒　の辞書 "
   ]
  },
  {
   "cell_type": "code",
   "execution_count": 14,
   "metadata": {
    "ExecuteTime": {
     "end_time": "2021-05-10T14:25:39.591134Z",
     "start_time": "2021-05-10T14:25:39.554231Z"
    }
   },
   "outputs": [
    {
     "data": {
      "text/plain": [
       "{'S': 1.0,\n",
       " '30S': 30.0,\n",
       " 'T': 60.0,\n",
       " '5T': 300.0,\n",
       " '10T': 600.0,\n",
       " '30T': 1800.0,\n",
       " 'H': 3600.0,\n",
       " '2H': 7200.0,\n",
       " '4H': 14400.0,\n",
       " '12H': 43200.0,\n",
       " 'D': 86400.0,\n",
       " 'W': 604800.0,\n",
       " '2W': 1209600.0}"
      ]
     },
     "execution_count": 14,
     "metadata": {},
     "output_type": "execute_result"
    }
   ],
   "source": [
    "freq_seconds = {i:type_deltataime_dict[i].total_seconds() for i in type_deltataime_dict.keys()}\n",
    "freq_seconds"
   ]
  },
  {
   "cell_type": "markdown",
   "metadata": {},
   "source": [
    "### 株価データ"
   ]
  },
  {
   "cell_type": "code",
   "execution_count": 15,
   "metadata": {
    "ExecuteTime": {
     "end_time": "2021-05-10T14:25:41.226755Z",
     "start_time": "2021-05-10T14:25:39.615071Z"
    }
   },
   "outputs": [
    {
     "data": {
      "text/html": [
       "<div>\n",
       "<style scoped>\n",
       "    .dataframe tbody tr th:only-of-type {\n",
       "        vertical-align: middle;\n",
       "    }\n",
       "\n",
       "    .dataframe tbody tr th {\n",
       "        vertical-align: top;\n",
       "    }\n",
       "\n",
       "    .dataframe thead th {\n",
       "        text-align: right;\n",
       "    }\n",
       "</style>\n",
       "<table border=\"1\" class=\"dataframe\">\n",
       "  <thead>\n",
       "    <tr style=\"text-align: right;\">\n",
       "      <th></th>\n",
       "      <th>Open_6502</th>\n",
       "      <th>High_6502</th>\n",
       "      <th>Low_6502</th>\n",
       "      <th>Close_6502</th>\n",
       "      <th>Volume_6502</th>\n",
       "    </tr>\n",
       "    <tr>\n",
       "      <th>timestamp</th>\n",
       "      <th></th>\n",
       "      <th></th>\n",
       "      <th></th>\n",
       "      <th></th>\n",
       "      <th></th>\n",
       "    </tr>\n",
       "  </thead>\n",
       "  <tbody>\n",
       "    <tr>\n",
       "      <th>2020-11-30 23:55:00+09:00</th>\n",
       "      <td>NaN</td>\n",
       "      <td>NaN</td>\n",
       "      <td>NaN</td>\n",
       "      <td>NaN</td>\n",
       "      <td>NaN</td>\n",
       "    </tr>\n",
       "    <tr>\n",
       "      <th>2020-11-30 23:56:00+09:00</th>\n",
       "      <td>NaN</td>\n",
       "      <td>NaN</td>\n",
       "      <td>NaN</td>\n",
       "      <td>NaN</td>\n",
       "      <td>NaN</td>\n",
       "    </tr>\n",
       "    <tr>\n",
       "      <th>2020-11-30 23:57:00+09:00</th>\n",
       "      <td>NaN</td>\n",
       "      <td>NaN</td>\n",
       "      <td>NaN</td>\n",
       "      <td>NaN</td>\n",
       "      <td>NaN</td>\n",
       "    </tr>\n",
       "    <tr>\n",
       "      <th>2020-11-30 23:58:00+09:00</th>\n",
       "      <td>NaN</td>\n",
       "      <td>NaN</td>\n",
       "      <td>NaN</td>\n",
       "      <td>NaN</td>\n",
       "      <td>NaN</td>\n",
       "    </tr>\n",
       "    <tr>\n",
       "      <th>2020-11-30 23:59:00+09:00</th>\n",
       "      <td>NaN</td>\n",
       "      <td>NaN</td>\n",
       "      <td>NaN</td>\n",
       "      <td>NaN</td>\n",
       "      <td>NaN</td>\n",
       "    </tr>\n",
       "  </tbody>\n",
       "</table>\n",
       "</div>"
      ],
      "text/plain": [
       "                           Open_6502  High_6502  Low_6502  Close_6502  \\\n",
       "timestamp                                                               \n",
       "2020-11-30 23:55:00+09:00        NaN        NaN       NaN         NaN   \n",
       "2020-11-30 23:56:00+09:00        NaN        NaN       NaN         NaN   \n",
       "2020-11-30 23:57:00+09:00        NaN        NaN       NaN         NaN   \n",
       "2020-11-30 23:58:00+09:00        NaN        NaN       NaN         NaN   \n",
       "2020-11-30 23:59:00+09:00        NaN        NaN       NaN         NaN   \n",
       "\n",
       "                           Volume_6502  \n",
       "timestamp                               \n",
       "2020-11-30 23:55:00+09:00          NaN  \n",
       "2020-11-30 23:56:00+09:00          NaN  \n",
       "2020-11-30 23:57:00+09:00          NaN  \n",
       "2020-11-30 23:58:00+09:00          NaN  \n",
       "2020-11-30 23:59:00+09:00          NaN  "
      ]
     },
     "execution_count": 15,
     "metadata": {},
     "output_type": "execute_result"
    }
   ],
   "source": [
    "with open(\"utils/aware_stock_df.pickle\", \"rb\") as f:\n",
    "    stock_df = pickle.load(f)\n",
    "stock_df.tail(5)"
   ]
  },
  {
   "cell_type": "markdown",
   "metadata": {},
   "source": [
    "### 各種frequency取得関連関数 "
   ]
  },
  {
   "cell_type": "code",
   "execution_count": 16,
   "metadata": {
    "ExecuteTime": {
     "end_time": "2021-05-10T14:25:41.274633Z",
     "start_time": "2021-05-10T14:25:41.237726Z"
    }
   },
   "outputs": [],
   "source": [
    "def middle_sample_type_with_check(freq):\n",
    "    \"\"\"\n",
    "    与えられたfreq_strが使えるものかどうか判断し，pandasで利用可能なfreq_strを返す．\n",
    "    freq: str\n",
    "        frequencyを意味する文字列\n",
    "    \"\"\"\n",
    "    if freq not in available_sample_type:\n",
    "        raise ValueError(\"This freq is invalid\")\n",
    "\n",
    "    return middle_type_dict[freq]\n",
    "\n",
    "def get_freq_from_sec(seconds):\n",
    "    \"\"\"\n",
    "    指定した秒数から，pandasで指定されるfrequency strを出力する．ただし，\"S\"から\"2W\"まで\n",
    "    seconds: int\n",
    "        frequencyを求めたい整数\n",
    "    \"\"\"\n",
    "    if seconds not in seconds_freq:\n",
    "        raise ValueError(\"This seconds is invalid\")\n",
    "\n",
    "    return seconds_freq[seconds]\n",
    "\n",
    "def get_sec_from_freq(freq):\n",
    "    \"\"\"\n",
    "    指定したfrequency strから，秒数を出力する関数．ただし\"S\"から\"2W\"まで\n",
    "    freq: str\n",
    "        秒数を求めたいfrequency str\n",
    "    \"\"\"\n",
    "    if freq not in freq_seconds:\n",
    "        raise ValueError(\"This freq is invalid\")\n",
    "    return freq_seconds[freq]\n"
   ]
  },
  {
   "cell_type": "markdown",
   "metadata": {},
   "source": [
    "### DataFrameが何足データか判定する関数 "
   ]
  },
  {
   "cell_type": "markdown",
   "metadata": {},
   "source": [
    "YahooFinanceStockLoaderMinで取得されるdataframeはfreqが設定されている"
   ]
  },
  {
   "cell_type": "code",
   "execution_count": 17,
   "metadata": {
    "ExecuteTime": {
     "end_time": "2021-05-10T14:25:41.322499Z",
     "start_time": "2021-05-10T14:25:41.283604Z"
    }
   },
   "outputs": [],
   "source": [
    "stock_df.index.freqstr"
   ]
  },
  {
   "cell_type": "markdown",
   "metadata": {},
   "source": [
    "もしfreqstrが得られなかった場合,秒足，分足，時間足，日足だけは判定できるようにする．"
   ]
  },
  {
   "cell_type": "code",
   "execution_count": 18,
   "metadata": {
    "ExecuteTime": {
     "end_time": "2021-05-10T14:25:41.401288Z",
     "start_time": "2021-05-10T14:25:41.332475Z"
    }
   },
   "outputs": [
    {
     "data": {
      "text/plain": [
       "60.0"
      ]
     },
     "execution_count": 18,
     "metadata": {},
     "output_type": "execute_result"
    }
   ],
   "source": [
    "first_datetime = stock_df.index[0].to_pydatetime()\n",
    "second_datetime = stock_df.index[1].to_pydatetime()\n",
    "\n",
    "diff_seconds = second_datetime.timestamp() - first_datetime.timestamp()\n",
    "diff_seconds"
   ]
  },
  {
   "cell_type": "code",
   "execution_count": 19,
   "metadata": {
    "ExecuteTime": {
     "end_time": "2021-05-10T14:25:41.559864Z",
     "start_time": "2021-05-10T14:25:41.411262Z"
    }
   },
   "outputs": [],
   "source": [
    "def get_df_freq(df):\n",
    "    \"\"\"\n",
    "    pandasのdfのfreqを出力する関数\n",
    "    \"\"\"\n",
    "\n",
    "    if df.index.freqstr is not None:\n",
    "        return df.index.freqstr\n",
    "        \n",
    "    if len(df.index) < 2:\n",
    "        raise ValueError(\"cannot caolculate frequency of dataframe\")\n",
    "        \n",
    "    first_datetime = df.index[0].to_pydatetime()  # datetime.datetimeに変換\n",
    "    second_datetime = df.index[1].to_pydatetime()  # datetime.datetimeに変換\n",
    "\n",
    "    diff_seconds = second_datetime.timestamp() - first_datetime.timestamp()  # unixに変換\n",
    "    return get_freq_from_sec(diff_seconds)"
   ]
  },
  {
   "cell_type": "code",
   "execution_count": 20,
   "metadata": {
    "ExecuteTime": {
     "end_time": "2021-05-10T14:25:41.655613Z",
     "start_time": "2021-05-10T14:25:41.571836Z"
    }
   },
   "outputs": [
    {
     "name": "stdout",
     "output_type": "stream",
     "text": [
      "None\n"
     ]
    },
    {
     "data": {
      "text/plain": [
       "'T'"
      ]
     },
     "execution_count": 20,
     "metadata": {},
     "output_type": "execute_result"
    }
   ],
   "source": [
    "datetime_list = [datetime.datetime(2020, 10, 25, 12, 0, 0),\n",
    "                 datetime.datetime(2020, 10, 25, 12, 1, 0),\n",
    "                 datetime.datetime(2020, 10, 25, 12, 2, 0)\n",
    "                ]\n",
    "df = pd.DataFrame([[0,1],[2,3],[3,4]], columns=[\"A\",\"B\"],index=pd.DatetimeIndex(datetime_list))\n",
    "print(df.index.freqstr)\n",
    "get_df_freq(df)"
   ]
  },
  {
   "cell_type": "markdown",
   "metadata": {},
   "source": [
    "### DataFrameを各足に変換するためのクラス "
   ]
  },
  {
   "cell_type": "code",
   "execution_count": 21,
   "metadata": {
    "ExecuteTime": {
     "end_time": "2021-05-10T14:25:41.766313Z",
     "start_time": "2021-05-10T14:25:41.667579Z"
    }
   },
   "outputs": [],
   "source": [
    "base_ohlc_patterns = {\n",
    "    \"Open\":re.compile(\"Open_[0-9]+\"),\n",
    "    \"High\":re.compile(\"High_[0-9]+\"),\n",
    "    \"Low\":re.compile(\"Low_[0-9]+\"),\n",
    "    \"Close\":re.compile(\"Close_[0-9]+\"),\n",
    "    \"Volume\":re.compile(\"Volume_[0-9]+\")\n",
    "}\n",
    "\n",
    "class ConvertFreqOHLCV():\n",
    "    \"\"\"\n",
    "    dataframeの足をダウンサンプリングする．\n",
    "    \"\"\"\n",
    "    def __init__(self, freq_str, ohlcv_patterns=base_ohlc_patterns):\n",
    "        \"\"\"\n",
    "        freq_str: str\n",
    "            サンプリング周期に対応する文字列\n",
    "        ohlcv_patterns: dict of str:pattern\n",
    "            Open,High,Low,Close,Volumeとそれに対応するパターン\n",
    "        \"\"\"\n",
    "        freq_str = middle_sample_type_with_check(freq_str)\n",
    "        self.freq_str = freq_str\n",
    "        \n",
    "        self.ohlcv_patterns = ohlcv_patterns\n",
    "         \n",
    "    def __call__(self, df):\n",
    "        # dfのfrequencyの判定とアップサンプリング時のエラー\n",
    "        df_freq = get_df_freq(df)\n",
    "        df_freq = middle_sample_type_with_check(df_freq)\n",
    "        if get_sec_from_freq(df_freq) > get_sec_from_freq(self.freq_str):  # アップサンプリングの時\n",
    "            raise ValueError(\"this is upsampling\")\n",
    "        \n",
    "        # ohlcvそれぞれ対応するカラムを求める(aggに渡す辞書を求める)\n",
    "        column_series = pd.Series(len(df.columns)*[None], index=df.columns)\n",
    "\n",
    "        column_series.loc[column_series.index.str.match(self.ohlcv_patterns[\"Open\"])] = \"first\"\n",
    "        column_series.loc[column_series.index.str.match(self.ohlcv_patterns[\"High\"])] = \"max\"\n",
    "        column_series.loc[column_series.index.str.match(self.ohlcv_patterns[\"Low\"])] = \"min\"\n",
    "        column_series.loc[column_series.index.str.match(self.ohlcv_patterns[\"Close\"])] = \"last\"\n",
    "        column_series.loc[column_series.index.str.match(self.ohlcv_patterns[\"Volume\"])] = \"sum\"\n",
    "        agg_dict = dict(column_series)\n",
    "\n",
    "        resampled_df = df.resample(self.freq_str, label=\"left\", closed=\"left\").agg(agg_dict)  # resampling\n",
    "        return resampled_df"
   ]
  },
  {
   "cell_type": "code",
   "execution_count": 22,
   "metadata": {
    "ExecuteTime": {
     "end_time": "2021-05-10T14:25:41.988717Z",
     "start_time": "2021-05-10T14:25:41.778283Z"
    },
    "scrolled": true
   },
   "outputs": [
    {
     "data": {
      "text/html": [
       "<div>\n",
       "<style scoped>\n",
       "    .dataframe tbody tr th:only-of-type {\n",
       "        vertical-align: middle;\n",
       "    }\n",
       "\n",
       "    .dataframe tbody tr th {\n",
       "        vertical-align: top;\n",
       "    }\n",
       "\n",
       "    .dataframe thead th {\n",
       "        text-align: right;\n",
       "    }\n",
       "</style>\n",
       "<table border=\"1\" class=\"dataframe\">\n",
       "  <thead>\n",
       "    <tr style=\"text-align: right;\">\n",
       "      <th></th>\n",
       "      <th>Open_6502</th>\n",
       "      <th>High_6502</th>\n",
       "      <th>Low_6502</th>\n",
       "      <th>Close_6502</th>\n",
       "      <th>Volume_6502</th>\n",
       "    </tr>\n",
       "    <tr>\n",
       "      <th>timestamp</th>\n",
       "      <th></th>\n",
       "      <th></th>\n",
       "      <th></th>\n",
       "      <th></th>\n",
       "      <th></th>\n",
       "    </tr>\n",
       "  </thead>\n",
       "  <tbody>\n",
       "    <tr>\n",
       "      <th>2020-11-04 00:00:00+09:00</th>\n",
       "      <td>NaN</td>\n",
       "      <td>NaN</td>\n",
       "      <td>NaN</td>\n",
       "      <td>NaN</td>\n",
       "      <td>0.0</td>\n",
       "    </tr>\n",
       "    <tr>\n",
       "      <th>2020-11-04 00:05:00+09:00</th>\n",
       "      <td>NaN</td>\n",
       "      <td>NaN</td>\n",
       "      <td>NaN</td>\n",
       "      <td>NaN</td>\n",
       "      <td>0.0</td>\n",
       "    </tr>\n",
       "    <tr>\n",
       "      <th>2020-11-04 00:10:00+09:00</th>\n",
       "      <td>NaN</td>\n",
       "      <td>NaN</td>\n",
       "      <td>NaN</td>\n",
       "      <td>NaN</td>\n",
       "      <td>0.0</td>\n",
       "    </tr>\n",
       "    <tr>\n",
       "      <th>2020-11-04 00:15:00+09:00</th>\n",
       "      <td>NaN</td>\n",
       "      <td>NaN</td>\n",
       "      <td>NaN</td>\n",
       "      <td>NaN</td>\n",
       "      <td>0.0</td>\n",
       "    </tr>\n",
       "    <tr>\n",
       "      <th>2020-11-04 00:20:00+09:00</th>\n",
       "      <td>NaN</td>\n",
       "      <td>NaN</td>\n",
       "      <td>NaN</td>\n",
       "      <td>NaN</td>\n",
       "      <td>0.0</td>\n",
       "    </tr>\n",
       "    <tr>\n",
       "      <th>...</th>\n",
       "      <td>...</td>\n",
       "      <td>...</td>\n",
       "      <td>...</td>\n",
       "      <td>...</td>\n",
       "      <td>...</td>\n",
       "    </tr>\n",
       "    <tr>\n",
       "      <th>2020-11-30 23:35:00+09:00</th>\n",
       "      <td>NaN</td>\n",
       "      <td>NaN</td>\n",
       "      <td>NaN</td>\n",
       "      <td>NaN</td>\n",
       "      <td>0.0</td>\n",
       "    </tr>\n",
       "    <tr>\n",
       "      <th>2020-11-30 23:40:00+09:00</th>\n",
       "      <td>NaN</td>\n",
       "      <td>NaN</td>\n",
       "      <td>NaN</td>\n",
       "      <td>NaN</td>\n",
       "      <td>0.0</td>\n",
       "    </tr>\n",
       "    <tr>\n",
       "      <th>2020-11-30 23:45:00+09:00</th>\n",
       "      <td>NaN</td>\n",
       "      <td>NaN</td>\n",
       "      <td>NaN</td>\n",
       "      <td>NaN</td>\n",
       "      <td>0.0</td>\n",
       "    </tr>\n",
       "    <tr>\n",
       "      <th>2020-11-30 23:50:00+09:00</th>\n",
       "      <td>NaN</td>\n",
       "      <td>NaN</td>\n",
       "      <td>NaN</td>\n",
       "      <td>NaN</td>\n",
       "      <td>0.0</td>\n",
       "    </tr>\n",
       "    <tr>\n",
       "      <th>2020-11-30 23:55:00+09:00</th>\n",
       "      <td>NaN</td>\n",
       "      <td>NaN</td>\n",
       "      <td>NaN</td>\n",
       "      <td>NaN</td>\n",
       "      <td>0.0</td>\n",
       "    </tr>\n",
       "  </tbody>\n",
       "</table>\n",
       "<p>7776 rows × 5 columns</p>\n",
       "</div>"
      ],
      "text/plain": [
       "                           Open_6502  High_6502  Low_6502  Close_6502  \\\n",
       "timestamp                                                               \n",
       "2020-11-04 00:00:00+09:00        NaN        NaN       NaN         NaN   \n",
       "2020-11-04 00:05:00+09:00        NaN        NaN       NaN         NaN   \n",
       "2020-11-04 00:10:00+09:00        NaN        NaN       NaN         NaN   \n",
       "2020-11-04 00:15:00+09:00        NaN        NaN       NaN         NaN   \n",
       "2020-11-04 00:20:00+09:00        NaN        NaN       NaN         NaN   \n",
       "...                              ...        ...       ...         ...   \n",
       "2020-11-30 23:35:00+09:00        NaN        NaN       NaN         NaN   \n",
       "2020-11-30 23:40:00+09:00        NaN        NaN       NaN         NaN   \n",
       "2020-11-30 23:45:00+09:00        NaN        NaN       NaN         NaN   \n",
       "2020-11-30 23:50:00+09:00        NaN        NaN       NaN         NaN   \n",
       "2020-11-30 23:55:00+09:00        NaN        NaN       NaN         NaN   \n",
       "\n",
       "                           Volume_6502  \n",
       "timestamp                               \n",
       "2020-11-04 00:00:00+09:00          0.0  \n",
       "2020-11-04 00:05:00+09:00          0.0  \n",
       "2020-11-04 00:10:00+09:00          0.0  \n",
       "2020-11-04 00:15:00+09:00          0.0  \n",
       "2020-11-04 00:20:00+09:00          0.0  \n",
       "...                                ...  \n",
       "2020-11-30 23:35:00+09:00          0.0  \n",
       "2020-11-30 23:40:00+09:00          0.0  \n",
       "2020-11-30 23:45:00+09:00          0.0  \n",
       "2020-11-30 23:50:00+09:00          0.0  \n",
       "2020-11-30 23:55:00+09:00          0.0  \n",
       "\n",
       "[7776 rows x 5 columns]"
      ]
     },
     "execution_count": 22,
     "metadata": {},
     "output_type": "execute_result"
    }
   ],
   "source": [
    "freq_converter = ConvertFreqOHLCV(\"5T\")\n",
    "resampled_df = freq_converter(stock_df)\n",
    "resampled_df"
   ]
  },
  {
   "cell_type": "code",
   "execution_count": 23,
   "metadata": {
    "ExecuteTime": {
     "end_time": "2021-05-10T14:25:45.246008Z",
     "start_time": "2021-05-10T14:25:42.000690Z"
    }
   },
   "outputs": [
    {
     "name": "stdout",
     "output_type": "stream",
     "text": [
      "36.6 ms ± 9.52 ms per loop (mean ± std. dev. of 7 runs, 10 loops each)\n"
     ]
    }
   ],
   "source": [
    "%timeit resampled_df = freq_converter(stock_df)"
   ]
  },
  {
   "cell_type": "markdown",
   "metadata": {},
   "source": [
    "### 余りを修正して切り捨てる "
   ]
  },
  {
   "cell_type": "code",
   "execution_count": 24,
   "metadata": {
    "ExecuteTime": {
     "end_time": "2021-05-10T14:25:45.344738Z",
     "start_time": "2021-05-10T14:25:45.254981Z"
    }
   },
   "outputs": [],
   "source": [
    "def get_floor_mod_datetime(select_datetime, freq_str, will_warn=False):\n",
    "    \"\"\"\n",
    "    指定した日時を指定する周期に応じて切り捨てる. D以下・Y,M,Wに対応している．\n",
    "    select_datetime: datetime.datetime\n",
    "        指定日時\n",
    "    freq_str: freq_str\n",
    "        サンプリング周期に対応する文字列\n",
    "    will_warn: bool\n",
    "        切り捨て時にwarningを出すかどうか\n",
    "    \"\"\"\n",
    "    select_date = select_datetime.date()\n",
    "    select_is_aware = select_datetime.tzinfo is not None  # select_datetimeがawareかどうか\n",
    "    if select_is_aware:\n",
    "        select_timezone = timezone(str(select_datetime.tzinfo))\n",
    "    \n",
    "    if freq_str == \"Y\":  # 年足で求めるとき（元旦始まり）\n",
    "        year, month, day = select_datetime.year, select_datetime.month, select_datetime.day\n",
    "        hour, minute, second = select_datetime.hour, select_datetime.minute, select_datetime.second\n",
    "\n",
    "        if {hour, minute, second} != {0} or {month, day} != {1}:  # 月以下がすべて0でないとき\n",
    "            warnings.warn(\"input time is not coresponded to frequency. next datetime may be wrong\")\n",
    "            month, day, hour, minute, second = 1,1,0,0,0\n",
    "        \n",
    "        out_datetime = datetime.datetime(year=year,\n",
    "                                         month=month,\n",
    "                                         day=day,\n",
    "                                         hour=hour,\n",
    "                                         minute=minute,\n",
    "                                         second=second\n",
    "                                        )\n",
    "        if select_is_aware:\n",
    "            out_datetime = select_timezone.localize(out_datetime)\n",
    "\n",
    "        return out_datetime\n",
    "    \n",
    "    elif freq_str == \"M\":  # 月足を求めるとき\n",
    "        year, month, day = select_datetime.year, select_datetime.month, select_datetime.day\n",
    "        hour, minute, second = select_datetime.hour, select_datetime.minute, select_datetime.second\n",
    "\n",
    "        if {hour, minute, second} != {0} or day!=1:  # 月の開始時でないとき\n",
    "            if will_warn:\n",
    "                warnings.warn(\"input datetime is floord\")\n",
    "            day, hour, minute, second = 1,0,0,0\n",
    "            \n",
    "        out_datetime = datetime.datetime(year=year,\n",
    "                                         month=month,\n",
    "                                         day=day,\n",
    "                                         hour=hour,\n",
    "                                         minute=minute,\n",
    "                                         second=second\n",
    "                                        )\n",
    "        if select_is_aware:\n",
    "            out_datetime = select_timezone.localize(out_datetime)\n",
    "\n",
    "        return out_datetime\n",
    "        \n",
    "    elif freq_str == \"W\":  # 週足のとき\n",
    "        year, month, day = select_datetime.year, select_datetime.month, select_datetime.day\n",
    "        hour, minute, second = select_datetime.hour, select_datetime.minute, select_datetime.second\n",
    "\n",
    "        weekday = select_datetime.weekday()\n",
    "        if {hour, minute, second} != {0} or weekday != 6:  # 時間以下が全て0でないときあるいは，日曜でなかった場合\n",
    "            if will_warn:\n",
    "                warnings.warn(\"input datetime is floord\")\n",
    "            if {hour, minute, second} != {0}:\n",
    "                hour, minute, second = 0,0,0\n",
    "                \n",
    "            if weekday==6:\n",
    "                weekday = 0  # 月曜始まりを日曜始まりに強引に変更\n",
    "            else:\n",
    "                weekday += 1  # 月曜始まりを日曜始まりに強引に変更\n",
    "            \n",
    "            sub_day = weekday\n",
    "            out_date = select_date - timedelta(days=sub_day)\n",
    "            \n",
    "            out_datetime = datetime.datetime(year=out_date.year,\n",
    "                                             month=out_date.month,\n",
    "                                             day=out_date.day,\n",
    "                                             hour=hour,\n",
    "                                             minute=minute,\n",
    "                                             second=second\n",
    "                                            )\n",
    "            if select_is_aware:\n",
    "                out_datetime = select_timezone.localize(out_datetime)\n",
    "                \n",
    "            return out_datetime\n",
    "        else:\n",
    "            return select_datetime\n",
    "\n",
    "    elif get_sec_from_freq(freq_str) <= get_sec_from_freq(\"D\"):  #日足以下のの足の場合\n",
    "        sec_from_freq = get_sec_from_freq(freq_str)\n",
    "        if select_is_aware:\n",
    "            timezone_datetime = select_datetime\n",
    "        else:\n",
    "            utc_timezone = timezone(\"UTC\")  # これはどこでもよい\n",
    "            timezone_datetime = utc_timezone.localize(select_datetime)\n",
    "\n",
    "        select_time_unix =  timezone_datetime.timestamp() + timezone_datetime.utcoffset().total_seconds() \n",
    "        select_time_mod = int(select_time_unix) % int(sec_from_freq)\n",
    "        if select_time_mod != 0 and will_warn:  # 余りが出てしまった場合\n",
    "            warnings.warn(\"input datetime is floord\")\n",
    "\n",
    "        return select_datetime - timedelta(seconds=select_time_mod)\n",
    "    \n",
    "    else:\n",
    "        raise Exception(\"This freq({})'s floor is not defined\".format(freq_str))"
   ]
  },
  {
   "cell_type": "code",
   "execution_count": 25,
   "metadata": {
    "ExecuteTime": {
     "end_time": "2021-05-10T14:25:45.591080Z",
     "start_time": "2021-05-10T14:25:45.354713Z"
    }
   },
   "outputs": [
    {
     "data": {
      "text/plain": [
       "datetime.datetime(2020, 11, 4, 12, 0)"
      ]
     },
     "execution_count": 25,
     "metadata": {},
     "output_type": "execute_result"
    }
   ],
   "source": [
    "select_datetime = datetime.datetime(2020, 11, 4, 12, 30, 0)\n",
    "\n",
    "freq_str = \"H\"\n",
    "floor_datetime = get_floor_mod_datetime(select_datetime, freq_str)\n",
    "floor_datetime"
   ]
  },
  {
   "cell_type": "code",
   "execution_count": 26,
   "metadata": {
    "ExecuteTime": {
     "end_time": "2021-05-10T14:25:45.670870Z",
     "start_time": "2021-05-10T14:25:45.617011Z"
    }
   },
   "outputs": [
    {
     "data": {
      "text/plain": [
       "datetime.datetime(2020, 11, 4, 8, 0)"
      ]
     },
     "execution_count": 26,
     "metadata": {},
     "output_type": "execute_result"
    }
   ],
   "source": [
    "select_datetime = datetime.datetime(2020, 11, 4, 9, 30, 0)\n",
    "\n",
    "freq_str = \"4H\"\n",
    "floor_datetime = get_floor_mod_datetime(select_datetime, freq_str)\n",
    "floor_datetime"
   ]
  },
  {
   "cell_type": "code",
   "execution_count": 27,
   "metadata": {
    "ExecuteTime": {
     "end_time": "2021-05-10T14:25:45.734696Z",
     "start_time": "2021-05-10T14:25:45.691815Z"
    }
   },
   "outputs": [
    {
     "data": {
      "text/plain": [
       "datetime.datetime(2021, 5, 9, 0, 0)"
      ]
     },
     "execution_count": 27,
     "metadata": {},
     "output_type": "execute_result"
    }
   ],
   "source": [
    "select_datetime = datetime.datetime(2021, 5, 9, 0, 0, 0)\n",
    "\n",
    "freq_str = \"W\"\n",
    "floor_datetime = get_floor_mod_datetime(select_datetime, freq_str)\n",
    "floor_datetime"
   ]
  },
  {
   "cell_type": "markdown",
   "metadata": {},
   "source": [
    "### 余りを修正して切り上げる "
   ]
  },
  {
   "cell_type": "code",
   "execution_count": 28,
   "metadata": {
    "ExecuteTime": {
     "end_time": "2021-05-10T14:25:45.942140Z",
     "start_time": "2021-05-10T14:25:45.749660Z"
    }
   },
   "outputs": [],
   "source": [
    "def get_ceil_mod_datetime(select_datetime, freq_str, will_warn=False):\n",
    "    \"\"\"\n",
    "    指定した日時を指定する周期に応じて切り捨てるD以下・Y,M,Wに対応している．\n",
    "    select_datetime: datetime.datetime\n",
    "        指定日時\n",
    "    freq_str: freq_str\n",
    "        サンプリング周期に対応する文字列\n",
    "    will_warn: bool\n",
    "        切り捨て時にwarningを出すかどうか\n",
    "    \"\"\"\n",
    "    select_date = select_datetime.date()\n",
    "    select_is_aware = select_datetime.tzinfo is not None  # select_datetimeがawareかどうか\n",
    "    if select_is_aware:\n",
    "        select_timezone = timezone(str(select_datetime.tzinfo))\n",
    "        \n",
    "    if freq_str == \"Y\":  # 年足で求めるとき（元旦始まり）\n",
    "        year, month, day = select_datetime.year, select_datetime.month, select_datetime.day\n",
    "        hour, minute, second = select_datetime.hour, select_datetime.minute, select_datetime.second\n",
    "\n",
    "        if {hour, minute, second} != {0} or {month, day} != {1}:  # 月以下がすべて0でないとき\n",
    "            if will_warn:\n",
    "                warnings.warn(\"input datetime is ceiled\")\n",
    "            month, day, hour, minute, second = 1,1,0,0,0\n",
    "        \n",
    "        year += 1\n",
    "        \n",
    "        out_datetime = datetime.datetime(year=year,\n",
    "                                         month=month,\n",
    "                                         day=day,\n",
    "                                         hour=hour,\n",
    "                                         minute=minute,\n",
    "                                         second=second\n",
    "                                        )\n",
    "        if select_is_aware:\n",
    "            out_datetime = select_timezone.localize(out_datetime)\n",
    "\n",
    "        return out_datetime\n",
    "    \n",
    "    elif freq_str == \"M\":  # 月足を求めるとき\n",
    "        year, month, day = select_datetime.year, select_datetime.month, select_datetime.day\n",
    "        hour, minute, second = select_datetime.hour, select_datetime.minute, select_datetime.second\n",
    "\n",
    "        if {hour, minute, second} != {0} or day!=1:  # 月の開始時でないとき\n",
    "            if will_warn:\n",
    "                warnings.warn(\"input datetime is ceiled\")\n",
    "            day, hour, minute, second = 1,0,0,0\n",
    "            \n",
    "        if month==12:\n",
    "            year += 1\n",
    "            month = 1\n",
    "        else:\n",
    "            month += 1\n",
    "            \n",
    "        out_datetime = datetime.datetime(year=year,\n",
    "                                         month=month,\n",
    "                                         day=day,\n",
    "                                         hour=hour,\n",
    "                                         minute=minute,\n",
    "                                         second=second\n",
    "                                        )\n",
    "        if select_is_aware:\n",
    "            out_datetime = select_timezone.localize(out_datetime)\n",
    "\n",
    "        return out_datetime\n",
    "        \n",
    "    elif freq_str == \"W\":  # 週足のとき\n",
    "        year, month, day = select_datetime.year, select_datetime.month, select_datetime.day\n",
    "        hour, minute, second = select_datetime.hour, select_datetime.minute, select_datetime.second\n",
    "\n",
    "        weekday = select_datetime.weekday()\n",
    "        if {hour, minute, second} != {0} or weekday != 6:  # 時間以下が全て0でないときあるいは，日曜でなかった場合\n",
    "            if will_warn:\n",
    "                warnings.warn(\"input datetime is ceiled\")\n",
    "            if {hour, minute, second} != {0}:\n",
    "                hour, minute, second = 0,0,0\n",
    "                \n",
    "            if weekday==6:\n",
    "                weekday = 0  # 月曜始まりを日曜始まりに強引に変更\n",
    "            else:\n",
    "                weekday += 1  # 月曜始まりを日曜始まりに強引に変更\n",
    "            \n",
    "            add_day = 6 - weekday  # 日曜からの差分\n",
    "            out_date = select_date + timedelta(days=add_day)\n",
    "            \n",
    "            out_datetime = datetime.datetime(year=out_date.year,\n",
    "                                             month=out_date.month,\n",
    "                                             day=out_date.day,\n",
    "                                             hour=hour,\n",
    "                                             minute=minute,\n",
    "                                             second=second\n",
    "                                            )\n",
    "            if select_is_aware:\n",
    "                out_datetime = select_timezone.localize(out_datetime)\n",
    "                \n",
    "            return out_datetime\n",
    "        else:\n",
    "            return select_datetime\n",
    "\n",
    "    elif get_sec_from_freq(freq_str) <= get_sec_from_freq(\"D\"):  #日足以下のの足の場合\n",
    "        sec_from_freq = get_sec_from_freq(freq_str)\n",
    "        if select_is_aware:\n",
    "            timezone_datetime = select_datetime\n",
    "        else:\n",
    "            utc_timezone = timezone(\"UTC\")  # これはどこでもよい\n",
    "            timezone_datetime = utc_timezone.localize(select_datetime)\n",
    "\n",
    "        select_time_unix =  timezone_datetime.timestamp() + timezone_datetime.utcoffset().total_seconds() \n",
    "        select_time_mod = int(select_time_unix) % int(sec_from_freq)\n",
    "        if select_time_mod != 0:  # 余りが出てしまった場合\n",
    "            if will_warn:\n",
    "                warnings.warn(\"input datetime is ceiled\")\n",
    "            return select_datetime +timedelta(seconds=(sec_from_freq-select_time_mod))\n",
    "        else:\n",
    "            return select_datetime\n",
    "    \n",
    "    else:\n",
    "        raise Exception(\"This freq({})'s ceil is not defined\".format(freq_str))"
   ]
  },
  {
   "cell_type": "code",
   "execution_count": 29,
   "metadata": {
    "ExecuteTime": {
     "end_time": "2021-05-10T14:25:46.115677Z",
     "start_time": "2021-05-10T14:25:45.952114Z"
    }
   },
   "outputs": [
    {
     "data": {
      "text/plain": [
       "datetime.datetime(2020, 11, 4, 16, 0)"
      ]
     },
     "execution_count": 29,
     "metadata": {},
     "output_type": "execute_result"
    }
   ],
   "source": [
    "select_datetime = datetime.datetime(2020, 11, 4, 12, 30, 0)\n",
    "\n",
    "freq_str = \"4H\"\n",
    "floor_datetime = get_ceil_mod_datetime(select_datetime, freq_str)\n",
    "floor_datetime"
   ]
  },
  {
   "cell_type": "code",
   "execution_count": 30,
   "metadata": {
    "ExecuteTime": {
     "end_time": "2021-05-10T14:25:46.163551Z",
     "start_time": "2021-05-10T14:25:46.126647Z"
    }
   },
   "outputs": [
    {
     "data": {
      "text/plain": [
       "datetime.datetime(2020, 11, 4, 12, 0)"
      ]
     },
     "execution_count": 30,
     "metadata": {},
     "output_type": "execute_result"
    }
   ],
   "source": [
    "select_datetime = datetime.datetime(2020, 11, 4, 12, 0, 0)\n",
    "\n",
    "freq_str = \"4H\"\n",
    "floor_datetime = get_ceil_mod_datetime(select_datetime, freq_str)\n",
    "floor_datetime"
   ]
  },
  {
   "cell_type": "code",
   "execution_count": 31,
   "metadata": {
    "ExecuteTime": {
     "end_time": "2021-05-10T14:25:46.210423Z",
     "start_time": "2021-05-10T14:25:46.175518Z"
    }
   },
   "outputs": [
    {
     "data": {
      "text/plain": [
       "datetime.datetime(2020, 11, 7, 0, 0)"
      ]
     },
     "execution_count": 31,
     "metadata": {},
     "output_type": "execute_result"
    }
   ],
   "source": [
    "select_datetime = datetime.datetime(2020, 11, 4, 12, 0, 0)\n",
    "\n",
    "freq_str = \"W\"\n",
    "floor_datetime = get_ceil_mod_datetime(select_datetime, freq_str)\n",
    "floor_datetime"
   ]
  },
  {
   "cell_type": "markdown",
   "metadata": {},
   "source": [
    "### サンプリング周期を考慮した次の日時を取得  "
   ]
  },
  {
   "cell_type": "code",
   "execution_count": 32,
   "metadata": {
    "ExecuteTime": {
     "end_time": "2021-05-10T14:25:46.341075Z",
     "start_time": "2021-05-10T14:25:46.223389Z"
    }
   },
   "outputs": [],
   "source": [
    "def get_next_datetime(select_datetime, freq_str, number=1, clear_mod=True, will_warn=False):\n",
    "    \"\"\"\n",
    "    与えられた日時から，frequency_strを考慮して次の時間を求めるための関数．余りが出てしまった場合， warningを出す．\n",
    "    \"D\"以下，さらに\"W\",\"M\",\"Y\"に対応している\n",
    "    select_datetime: datetime.datetime(aware or naive)\n",
    "        与える日時，awareなdatetimeかlocal timeを前提としたnaiveなdatetime\n",
    "    freq_str: str\n",
    "        frequencyに対応する文字列\n",
    "    number: int\n",
    "        進めるfreq_strの個数\n",
    "    clear_mod: bool\n",
    "        与える日時の余りを削除するかどうか\n",
    "    \"\"\"\n",
    "    #from IPython.core.debugger import Pdb; Pdb().set_trace()\n",
    "    assert number >= 0\n",
    "    freq_str = middle_sample_type_with_check(freq_str)\n",
    "\n",
    "    select_is_aware = select_datetime.tzinfo is not None  # select_datetimeがawareかどうか\n",
    "    if select_is_aware:\n",
    "        select_timezone = timezone(str(select_datetime.tzinfo))\n",
    "\n",
    "    if clear_mod:  # 余りを無視する\n",
    "        select_datetime = get_floor_mod_datetime(select_datetime, freq_str, will_warn=will_warn)\n",
    "        \n",
    "    if freq_str == \"Y\":  # 年足の場合，元旦始まり\n",
    "        year, month, day = select_datetime.year, select_datetime.month, select_datetime.day\n",
    "        hour, minute, second = select_datetime.hour, select_datetime.minute, select_datetime.second\n",
    "        year += int(number)\n",
    "        next_datetime = datetime.datetime(year, month, day, hour, minute, second)\n",
    "        if select_is_aware:  # select_datetmeがawareな場合\n",
    "            next_datetime = select_timezone.localize(next_datetime)\n",
    "            \n",
    "    elif freq_str == \"M\":  # 月足の場合\n",
    "        year, month, day = select_datetime.year, select_datetime.month, select_datetime.day\n",
    "        hour, minute, second = select_datetime.hour, select_datetime.minute, select_datetime.second\n",
    "        def inclement_month(year ,month):\n",
    "            if month == 12:  # 12月のとき\n",
    "                year += 1\n",
    "                month = 1  # １月にする\n",
    "            else:\n",
    "                month += 1  # 月を一つ加える\n",
    "            \n",
    "            return year, month\n",
    "                \n",
    "        for _ in range(number):\n",
    "            year, month = inclement_month(year, month)\n",
    "        \n",
    "        next_datetime = datetime.datetime(year, month, day, hour, minute, second)\n",
    "        if select_is_aware:  # select_datetmeがawareな場合\n",
    "            next_datetime = select_timezone.localize(next_datetime)\n",
    "\n",
    "    elif freq_str==\"W\":  # 週足あるいは2週足を求めるとき\n",
    "            next_datetime = select_datetime + timedelta(days=7)*number\n",
    "\n",
    "    elif get_sec_from_freq(freq_str)<=get_sec_from_freq(\"D\"):  # 日足以下の足の場合\n",
    "        sec_from_freq = get_sec_from_freq(freq_str)\n",
    "        next_datetime = select_datetime + timedelta(seconds=sec_from_freq)*number\n",
    "    \n",
    "    else:\n",
    "        raise Exception(\"This freq({})'s next is not defined\".format(freq_str))\n",
    "\n",
    "    return next_datetime"
   ]
  },
  {
   "cell_type": "markdown",
   "metadata": {},
   "source": [
    "#### naiveな場合  "
   ]
  },
  {
   "cell_type": "code",
   "execution_count": 33,
   "metadata": {
    "ExecuteTime": {
     "end_time": "2021-05-10T14:25:46.415874Z",
     "start_time": "2021-05-10T14:25:46.359029Z"
    },
    "scrolled": true
   },
   "outputs": [
    {
     "data": {
      "text/plain": [
       "datetime.datetime(2020, 11, 6, 4, 0)"
      ]
     },
     "execution_count": 33,
     "metadata": {},
     "output_type": "execute_result"
    }
   ],
   "source": [
    "select_datetime = datetime.datetime(2020, 11, 4, 12, 30, 0)\n",
    "\n",
    "freq_str = \"4H\"\n",
    "next_datetime = get_next_datetime(select_datetime, freq_str, clear_mod=True, number=10)\n",
    "next_datetime"
   ]
  },
  {
   "cell_type": "code",
   "execution_count": 34,
   "metadata": {
    "ExecuteTime": {
     "end_time": "2021-05-10T14:25:46.492667Z",
     "start_time": "2021-05-10T14:25:46.428842Z"
    }
   },
   "outputs": [
    {
     "data": {
      "text/plain": [
       "datetime.datetime(2020, 11, 4, 13, 30)"
      ]
     },
     "execution_count": 34,
     "metadata": {},
     "output_type": "execute_result"
    }
   ],
   "source": [
    "select_datetime = datetime.datetime(2020, 11, 4, 12, 30, 0)\n",
    "\n",
    "freq_str = \"H\"\n",
    "next_datetime = get_next_datetime(select_datetime, freq_str, clear_mod=False)\n",
    "next_datetime"
   ]
  },
  {
   "cell_type": "markdown",
   "metadata": {},
   "source": [
    "#### awareな場合 "
   ]
  },
  {
   "cell_type": "code",
   "execution_count": 35,
   "metadata": {
    "ExecuteTime": {
     "end_time": "2021-05-10T14:25:46.571458Z",
     "start_time": "2021-05-10T14:25:46.509627Z"
    }
   },
   "outputs": [
    {
     "name": "stdout",
     "output_type": "stream",
     "text": [
      "2020-11-04 12:30:00+09:00\n"
     ]
    },
    {
     "data": {
      "text/plain": [
       "datetime.datetime(2020, 11, 4, 16, 0, tzinfo=<DstTzInfo 'Asia/Tokyo' JST+9:00:00 STD>)"
      ]
     },
     "execution_count": 35,
     "metadata": {},
     "output_type": "execute_result"
    }
   ],
   "source": [
    "jst_timezone = timezone(\"Asia/Tokyo\")\n",
    "select_datetime = jst_timezone.localize(datetime.datetime(2020, 11, 4, 12, 30, 0))\n",
    "print(select_datetime)\n",
    "freq_str = \"4H\"\n",
    "next_datetime = get_next_datetime(select_datetime, freq_str, clear_mod=True)\n",
    "next_datetime"
   ]
  },
  {
   "cell_type": "code",
   "execution_count": 36,
   "metadata": {
    "ExecuteTime": {
     "end_time": "2021-05-10T14:25:46.682171Z",
     "start_time": "2021-05-10T14:25:46.584423Z"
    }
   },
   "outputs": [
    {
     "name": "stdout",
     "output_type": "stream",
     "text": [
      "2020-11-04 12:30:00+08:00\n"
     ]
    },
    {
     "data": {
      "text/plain": [
       "datetime.datetime(2020, 11, 4, 16, 0, tzinfo=<DstTzInfo 'Asia/Hong_Kong' HKT+8:00:00 STD>)"
      ]
     },
     "execution_count": 36,
     "metadata": {},
     "output_type": "execute_result"
    }
   ],
   "source": [
    "hk_timezone = timezone(\"Asia/Hong_Kong\")\n",
    "select_datetime = hk_timezone.localize(datetime.datetime(2020, 11, 4, 12, 30, 0))\n",
    "print(select_datetime)\n",
    "freq_str = \"4H\"\n",
    "next_datetime = get_next_datetime(select_datetime, freq_str, clear_mod=True)\n",
    "next_datetime"
   ]
  },
  {
   "cell_type": "code",
   "execution_count": 37,
   "metadata": {
    "ExecuteTime": {
     "end_time": "2021-05-10T14:25:48.907209Z",
     "start_time": "2021-05-10T14:25:46.694132Z"
    }
   },
   "outputs": [
    {
     "name": "stdout",
     "output_type": "stream",
     "text": [
      "2.51 ms ± 701 µs per loop (mean ± std. dev. of 7 runs, 100 loops each)\n"
     ]
    }
   ],
   "source": [
    "%timeit next_datetime = get_next_datetime(select_datetime, \"M\", 1000,clear_mod=True)"
   ]
  },
  {
   "cell_type": "markdown",
   "metadata": {},
   "source": [
    "### サンプリング周期を考慮した前の日時を取得  "
   ]
  },
  {
   "cell_type": "code",
   "execution_count": 38,
   "metadata": {
    "ExecuteTime": {
     "end_time": "2021-05-10T14:25:49.046833Z",
     "start_time": "2021-05-10T14:25:48.928157Z"
    }
   },
   "outputs": [],
   "source": [
    "def get_previous_datetime(select_datetime, freq_str, number=1, clear_mod=True, will_warn=False):\n",
    "    \"\"\"\n",
    "    与えられた日時から，frequency_strを考慮して前の時間を求めるための関数．必要ないだろうが，一応作っておく\n",
    "    余りが出てしまった場合， warningを出す．\n",
    "    \"D\"以下，さらに\"W\",\"M\",\"Y\"に対応している\n",
    "    select_datetime: datetime.datetime(aware or naive)\n",
    "        与える日時，awareなdatetimeかlocal timeを前提としたnaiveなdatetime\n",
    "    freq_str: str\n",
    "        frequencyに対応する文字列\n",
    "    number: int\n",
    "        減らすfreq_strの個数\n",
    "    clear_mod: bool\n",
    "        与える日時の余りを削除するかどうか\n",
    "    \"\"\"\n",
    "    #from IPython.core.debugger import Pdb; Pdb().set_trace()\n",
    "    assert number >= 0\n",
    "    freq_str = middle_sample_type_with_check(freq_str)\n",
    "\n",
    "    select_is_aware = select_datetime.tzinfo is not None  # select_datetimeがawareかどうか\n",
    "    if select_is_aware:\n",
    "        select_timezone = timezone(str(select_datetime.tzinfo))\n",
    "\n",
    "    if clear_mod:  # 余りを無視する\n",
    "       select_datetime = get_ceil_mod_datetime(select_datetime, freq_str, will_warn=will_warn)\n",
    "\n",
    "\n",
    "    if freq_str == \"Y\":  # 年足の場合，元旦始まり\n",
    "        year, month, day = select_datetime.year, select_datetime.month, select_datetime.day\n",
    "        hour, minute, second = select_datetime.hour, select_datetime.minute, select_datetime.second\n",
    "        year -= int(number)\n",
    "        prev_datetime = datetime.datetime(year, month, day, hour, minute, second)\n",
    "        if select_is_aware:  # select_datetmeがawareな場合\n",
    "            prev_datetime = select_timezone.localize(prev_datetime)\n",
    "    \n",
    "    if freq_str == \"M\":  # 月足の場合\n",
    "        year, month, day = select_datetime.year, select_datetime.month, select_datetime.day\n",
    "        hour, minute, second = select_datetime.hour, select_datetime.minute, select_datetime.second\n",
    "        def decrement_month(year, month):\n",
    "            if month == 1:  # 1月のとき\n",
    "                year -= 1\n",
    "                month = 12  # 12月にする\n",
    "            else:\n",
    "                month -= 1  # 月を一つ減らす\n",
    "                \n",
    "            return year, month\n",
    "        \n",
    "        for _ in range(number):\n",
    "            year, month = decrement_month(year, month)\n",
    "        \n",
    "        prev_datetime = datetime.datetime(year, month, day, hour, minute, second)\n",
    "        if select_is_aware:  # select_datetmeがawareな場合\n",
    "            prev_datetime = select_timezone.localize(prev_datetime)\n",
    "    \n",
    "    elif freq_str == \"W\":  # 週足あるいは2週足を求めるとき\n",
    "        prev_datetime = select_datetime - timedelta(days=7) * number\n",
    "\n",
    "    elif get_sec_from_freq(freq_str)<=get_sec_from_freq(\"D\"):  # 日足以下の足の場合\n",
    "        sec_from_freq = get_sec_from_freq(freq_str)\n",
    "        prev_datetime = select_datetime - timedelta(seconds=sec_from_freq) * number\n",
    "        \n",
    "    else:\n",
    "        raise Exception(\"This freq({})'s previous is not defined\".format(freq_str))\n",
    "\n",
    "    return prev_datetime"
   ]
  },
  {
   "cell_type": "code",
   "execution_count": 39,
   "metadata": {
    "ExecuteTime": {
     "end_time": "2021-05-10T14:25:49.109666Z",
     "start_time": "2021-05-10T14:25:49.056810Z"
    }
   },
   "outputs": [
    {
     "name": "stdout",
     "output_type": "stream",
     "text": [
      "2020-11-04 12:30:00+09:00\n"
     ]
    },
    {
     "data": {
      "text/plain": [
       "datetime.datetime(2020, 11, 4, 12, 0, tzinfo=<DstTzInfo 'Asia/Tokyo' JST+9:00:00 STD>)"
      ]
     },
     "execution_count": 39,
     "metadata": {},
     "output_type": "execute_result"
    }
   ],
   "source": [
    "jst_timezone = timezone(\"Asia/Tokyo\")\n",
    "select_datetime = jst_timezone.localize(datetime.datetime(2020, 11, 4, 12, 30, 0))\n",
    "print(select_datetime)\n",
    "freq_str = \"4H\"\n",
    "next_datetime = get_previous_datetime(select_datetime, freq_str, clear_mod=True)\n",
    "next_datetime"
   ]
  },
  {
   "cell_type": "code",
   "execution_count": 40,
   "metadata": {
    "ExecuteTime": {
     "end_time": "2021-05-10T14:25:49.204411Z",
     "start_time": "2021-05-10T14:25:49.118644Z"
    }
   },
   "outputs": [
    {
     "name": "stdout",
     "output_type": "stream",
     "text": [
      "2020-11-04 12:30:00+09:00\n"
     ]
    },
    {
     "data": {
      "text/plain": [
       "datetime.datetime(2020, 11, 4, 8, 30, tzinfo=<DstTzInfo 'Asia/Tokyo' JST+9:00:00 STD>)"
      ]
     },
     "execution_count": 40,
     "metadata": {},
     "output_type": "execute_result"
    }
   ],
   "source": [
    "jst_timezone = timezone(\"Asia/Tokyo\")\n",
    "select_datetime = jst_timezone.localize(datetime.datetime(2020, 11, 4, 12, 30, 0))\n",
    "print(select_datetime)\n",
    "freq_str = \"4H\"\n",
    "next_datetime = get_previous_datetime(select_datetime, freq_str, clear_mod=False)\n",
    "next_datetime"
   ]
  },
  {
   "cell_type": "markdown",
   "metadata": {},
   "source": [
    "### awareなdatetimeをnaiveなutcのdatetimeに変更 "
   ]
  },
  {
   "cell_type": "markdown",
   "metadata": {},
   "source": [
    "sqliteの仕様上,utcのnaiveなdatetimeに変換する必要がある．そこで，ローカルのタイムゾーンを考慮して，対応するutcのdatetimeをnaiveで返す．"
   ]
  },
  {
   "cell_type": "code",
   "execution_count": 41,
   "metadata": {
    "ExecuteTime": {
     "end_time": "2021-05-10T14:25:49.252285Z",
     "start_time": "2021-05-10T14:25:49.215387Z"
    }
   },
   "outputs": [],
   "source": [
    "def get_utc_naive_datetime_from_datetime(select_datetime):\n",
    "    \"\"\"\n",
    "    awareなdatetimeかnaiveなdatetime(local timeを前提)をutcのnaiveなdatetimeに返る\n",
    "    select_datetime: datetime\n",
    "    \"\"\"\n",
    "    # awareなdatetimeからutc\n",
    "    select_datetime_unix = select_datetime.timestamp()  #システムローカルのタイムゾーンを考慮したunix時刻\n",
    "    utc_naive_datetime = datetime.datetime.utcfromtimestamp(select_datetime_unix)  # unix時刻から考慮したutcのnaiveなdatetime\n",
    "    return utc_naive_datetime"
   ]
  },
  {
   "cell_type": "code",
   "execution_count": 42,
   "metadata": {
    "ExecuteTime": {
     "end_time": "2021-05-10T14:25:49.300159Z",
     "start_time": "2021-05-10T14:25:49.263255Z"
    }
   },
   "outputs": [
    {
     "data": {
      "text/plain": [
       "datetime.datetime(2020, 11, 4, 3, 30)"
      ]
     },
     "execution_count": 42,
     "metadata": {},
     "output_type": "execute_result"
    }
   ],
   "source": [
    "jst_timezone = timezone(\"Asia/Tokyo\")\n",
    "jst_datetime = jst_timezone.localize(datetime.datetime(2020, 11, 4, 12, 30, 0))\n",
    "\n",
    "utc_naive_datetime = get_utc_naive_datetime_from_datetime(jst_datetime)\n",
    "utc_naive_datetime"
   ]
  },
  {
   "cell_type": "code",
   "execution_count": 43,
   "metadata": {
    "ExecuteTime": {
     "end_time": "2021-05-10T14:25:49.362988Z",
     "start_time": "2021-05-10T14:25:49.309133Z"
    }
   },
   "outputs": [
    {
     "data": {
      "text/plain": [
       "datetime.datetime(2020, 11, 4, 3, 30)"
      ]
     },
     "execution_count": 43,
     "metadata": {},
     "output_type": "execute_result"
    }
   ],
   "source": [
    "hk_timezone = timezone(\"Asia/Hong_Kong\")\n",
    "hk_datetime = hk_timezone.localize(datetime.datetime(2020, 11, 4, 11, 30, 0))\n",
    "\n",
    "utc_naive_datetime = get_utc_naive_datetime_from_datetime(hk_datetime)\n",
    "utc_naive_datetime"
   ]
  },
  {
   "cell_type": "markdown",
   "metadata": {},
   "source": [
    "### awareなdatetimeをnaiveなシステムローカルのdatetimeに変更 "
   ]
  },
  {
   "cell_type": "markdown",
   "metadata": {
    "ExecuteTime": {
     "end_time": "2021-05-10T14:22:51.192994Z",
     "start_time": "2021-05-10T14:22:50.661416Z"
    }
   },
   "source": [
    "グラフに表示する時などawareなdatetimeを利用できない場合に使う"
   ]
  },
  {
   "cell_type": "code",
   "execution_count": 47,
   "metadata": {
    "ExecuteTime": {
     "end_time": "2021-05-10T14:28:25.434444Z",
     "start_time": "2021-05-10T14:28:25.408517Z"
    }
   },
   "outputs": [],
   "source": [
    "def get_naive_datetime_from_datetime(select_datetime):\n",
    "    \"\"\"\n",
    "    awareなdatetimeをnaiveなdatetime(local timeを前提)に変換する．\n",
    "    select_datetime: datetime\n",
    "    \"\"\"\n",
    "    select_is_aware = select_datetime.tzinfo is not None\n",
    "    if select_is_aware:\n",
    "        return select_datetime.replace(tzinfo=None)\n",
    "    else:\n",
    "        return select_datetime"
   ]
  },
  {
   "cell_type": "code",
   "execution_count": 45,
   "metadata": {
    "ExecuteTime": {
     "end_time": "2021-05-10T14:25:52.660167Z",
     "start_time": "2021-05-10T14:25:52.639222Z"
    }
   },
   "outputs": [
    {
     "data": {
      "text/plain": [
       "datetime.datetime(2020, 11, 4, 12, 30)"
      ]
     },
     "execution_count": 45,
     "metadata": {},
     "output_type": "execute_result"
    }
   ],
   "source": [
    "jst_timezone = timezone(\"Asia/Tokyo\")\n",
    "jst_datetime = jst_timezone.localize(datetime.datetime(2020, 11, 4, 12, 30, 0))\n",
    "\n",
    "utc_naive_datetime = get_naive_datetime_from_datetime(jst_datetime)\n",
    "utc_naive_datetime"
   ]
  },
  {
   "cell_type": "code",
   "execution_count": 46,
   "metadata": {
    "ExecuteTime": {
     "end_time": "2021-05-10T14:27:17.731576Z",
     "start_time": "2021-05-10T14:27:17.699667Z"
    }
   },
   "outputs": [
    {
     "data": {
      "text/plain": [
       "datetime.datetime(2020, 11, 4, 11, 30)"
      ]
     },
     "execution_count": 46,
     "metadata": {},
     "output_type": "execute_result"
    }
   ],
   "source": [
    "hk_timezone = timezone(\"Asia/Hong_Kong\")\n",
    "hk_datetime = hk_timezone.localize(datetime.datetime(2020, 11, 4, 11, 30, 0))\n",
    "\n",
    "utc_naive_datetime = get_naive_datetime_from_datetime(hk_datetime)\n",
    "utc_naive_datetime"
   ]
  },
  {
   "cell_type": "markdown",
   "metadata": {},
   "source": [
    "### timezoneの同じdatetimeに変換"
   ]
  },
  {
   "cell_type": "code",
   "execution_count": 42,
   "metadata": {
    "ExecuteTime": {
     "end_time": "2021-05-08T15:35:24.811867Z",
     "start_time": "2021-05-08T15:35:24.759012Z"
    }
   },
   "outputs": [],
   "source": [
    "def get_timezone_datetime_like(select_datetime, like_datetime):\n",
    "    \"\"\"\n",
    "    select_datetimeをlike_datetimeとおなじtimezoneにして返す\n",
    "    select_datetime: datetime.datetime\n",
    "    like_datetime: datetime.datetime\n",
    "    \"\"\"\n",
    "    like_datetime_is_aware = like_datetime.tzinfo is not None\n",
    "    if like_datetime_is_aware:\n",
    "        like_timezone = timezone(str(like_datetime.tzinfo))\n",
    "    \n",
    "    select_datetime_is_aware = select_datetime.tzinfo is not None\n",
    "    \n",
    "    if not like_datetime_is_aware and not select_datetime_is_aware:# select_datetime, like_datetimeがどちらもnaiveな場合\n",
    "        return select_datetime\n",
    "    elif like_datetime_is_aware and not select_datetime_is_aware:# like_datetimeのみがawareな場合\n",
    "        return like_timezone.localize(select_datetime)\n",
    "    elif not like_datetime_is_aware and select_datetime_is_aware:# select_datetimeのみがawareな場合\n",
    "        return select_datetime.replace(tzinfo=None)\n",
    "    elif like_datetime_is_aware and select_datetime_is_aware:# select_datetime, like_datetimeがどちらもawareな場合\n",
    "        if str(like_datetime.tzinfo) != str(select_datetime.tzinfo):\n",
    "            return select_datetime.astimezone(like_timezone)\n",
    "        else:\n",
    "            return select_datetime"
   ]
  },
  {
   "cell_type": "code",
   "execution_count": 43,
   "metadata": {
    "ExecuteTime": {
     "end_time": "2021-05-08T15:35:24.877692Z",
     "start_time": "2021-05-08T15:35:24.822841Z"
    }
   },
   "outputs": [
    {
     "data": {
      "text/plain": [
       "datetime.datetime(2020, 11, 5, 0, 0)"
      ]
     },
     "execution_count": 43,
     "metadata": {},
     "output_type": "execute_result"
    }
   ],
   "source": [
    "#jst_timezone = timezone(\"Asia/Tokyo\")\n",
    "#jst_timezone = timezone(\"UTC\")\n",
    "#like_datetime = jst_timezone.localize(datetime.datetime(2020, 11, 4, 12, 30, 0))\n",
    "like_datetime = datetime.datetime(2020, 11, 4, 12, 30, 0)\n",
    "\n",
    "#select_datetime = datetime.datetime(2020,11,5,0,0,0)\n",
    "utc_timezone = timezone(\"UTC\")\n",
    "select_datetime = utc_timezone.localize(datetime.datetime(2020,11,5,0,0,0))\n",
    "\n",
    "\n",
    "modified_select_datetime = get_timezone_datetime_like(select_datetime, like_datetime)\n",
    "modified_select_datetime"
   ]
  },
  {
   "cell_type": "markdown",
   "metadata": {},
   "source": [
    "### 営業日・営業時間を考慮した次の日時 "
   ]
  },
  {
   "cell_type": "code",
   "execution_count": 120,
   "metadata": {
    "ExecuteTime": {
     "end_time": "2021-05-09T04:09:13.596170Z",
     "start_time": "2021-05-09T04:09:13.565254Z"
    }
   },
   "outputs": [],
   "source": [
    "def get_next_workday_intraday_datetime(select_datetime, freq_str, number=1, clear_mod=True, will_warn=False):\n",
    "    \"\"\"\n",
    "    与えられた日時から，frequency_strと営業時間を考慮して次の時間を求めるための関数．余りが出てしまった場合， warningを出す．\n",
    "    H以下を前提としている\n",
    "    select_datetime: datetime.datetime(aware or naive)\n",
    "        与える日時，awareなdatetimeかlocal timeを前提としたnaiveなdatetime\n",
    "    freq_str: str\n",
    "        frequencyに対応する文字列\n",
    "    number: int\n",
    "        進めるfreq_strの個数\n",
    "    clear_mod: bool\n",
    "        与える日時の余りを削除するかどうか\n",
    "    \"\"\"\n",
    "    assert number >= 0\n",
    "    if get_sec_from_freq(freq_str) > get_sec_from_freq(\"H\"):\n",
    "        raise Exception(\"This freq is not suitable for considaring intraday\")\n",
    "    #from IPython.core.debugger import Pdb; Pdb().set_trace()\n",
    "    if clear_mod:\n",
    "        select_datetime = get_floor_mod_datetime(select_datetime, freq_str, will_warn=will_warn)\n",
    "    \n",
    "    sec_from_freq = get_sec_from_freq(freq_str)\n",
    "    out_datetime = add_workday_intraday_datetime(select_datetime, timedelta(seconds=sec_from_freq)*number)\n",
    "    return out_datetime"
   ]
  },
  {
   "cell_type": "code",
   "execution_count": 121,
   "metadata": {
    "ExecuteTime": {
     "end_time": "2021-05-09T04:09:20.364062Z",
     "start_time": "2021-05-09T04:09:20.323170Z"
    },
    "scrolled": true
   },
   "outputs": [
    {
     "data": {
      "text/plain": [
       "datetime.datetime(2020, 11, 5, 9, 0, tzinfo=<DstTzInfo 'Asia/Tokyo' JST+9:00:00 STD>)"
      ]
     },
     "execution_count": 121,
     "metadata": {},
     "output_type": "execute_result"
    }
   ],
   "source": [
    "jst_timezone = timezone(\"Asia/Tokyo\")\n",
    "select_datetime = jst_timezone.localize(datetime.datetime(2020, 11, 4, 14, 55, 0))\n",
    "freq_str = \"H\"\n",
    "next_datetime = get_next_workday_intraday_datetime(select_datetime, freq_str, clear_mod=True)\n",
    "next_datetime"
   ]
  },
  {
   "cell_type": "code",
   "execution_count": 122,
   "metadata": {
    "ExecuteTime": {
     "end_time": "2021-05-09T04:09:20.901622Z",
     "start_time": "2021-05-09T04:09:20.849769Z"
    }
   },
   "outputs": [
    {
     "data": {
      "text/plain": [
       "datetime.datetime(2020, 11, 5, 9, 55, tzinfo=<DstTzInfo 'Asia/Tokyo' JST+9:00:00 STD>)"
      ]
     },
     "execution_count": 122,
     "metadata": {},
     "output_type": "execute_result"
    }
   ],
   "source": [
    "jst_timezone = timezone(\"Asia/Tokyo\")\n",
    "select_datetime = jst_timezone.localize(datetime.datetime(2020, 11, 4, 14, 55, 0))\n",
    "freq_str = \"H\"\n",
    "next_datetime = get_next_workday_intraday_datetime(select_datetime, freq_str, clear_mod=False)\n",
    "next_datetime"
   ]
  },
  {
   "cell_type": "code",
   "execution_count": 123,
   "metadata": {
    "ExecuteTime": {
     "end_time": "2021-05-09T04:09:41.388813Z",
     "start_time": "2021-05-09T04:09:41.351911Z"
    }
   },
   "outputs": [
    {
     "data": {
      "text/plain": [
       "datetime.datetime(2020, 12, 3, 14, 55, tzinfo=<DstTzInfo 'Asia/Tokyo' JST+9:00:00 STD>)"
      ]
     },
     "execution_count": 123,
     "metadata": {},
     "output_type": "execute_result"
    }
   ],
   "source": [
    "jst_timezone = timezone(\"Asia/Tokyo\")\n",
    "select_datetime = jst_timezone.localize(datetime.datetime(2020, 11, 4, 14, 55, 0))\n",
    "freq_str = \"H\"\n",
    "next_datetime = get_next_workday_intraday_datetime(select_datetime, freq_str, 100, clear_mod=False)\n",
    "next_datetime"
   ]
  },
  {
   "cell_type": "code",
   "execution_count": 130,
   "metadata": {
    "ExecuteTime": {
     "end_time": "2021-05-09T04:11:54.050905Z",
     "start_time": "2021-05-09T04:11:50.725794Z"
    }
   },
   "outputs": [
    {
     "name": "stdout",
     "output_type": "stream",
     "text": [
      "380 µs ± 27 µs per loop (mean ± std. dev. of 7 runs, 1000 loops each)\n"
     ]
    }
   ],
   "source": [
    "%timeit get_next_workday_intraday_datetime(select_datetime, freq_str, 1, clear_mod=False)"
   ]
  },
  {
   "cell_type": "markdown",
   "metadata": {},
   "source": [
    "### 営業日・営業時間を考慮した前の日時"
   ]
  },
  {
   "cell_type": "code",
   "execution_count": 131,
   "metadata": {
    "ExecuteTime": {
     "end_time": "2021-05-09T04:13:25.079367Z",
     "start_time": "2021-05-09T04:13:25.056431Z"
    }
   },
   "outputs": [],
   "source": [
    "def get_previous_workday_intraday_datetime(select_datetime, freq_str, number=1, clear_mod=False):\n",
    "    \"\"\"\n",
    "    与えられた日時から，frequency_strと営業時間を考慮して前の時間を求めるための関数．余りが出てしまった場合， warningを出す．\n",
    "    H以下を前提としている\n",
    "    select_datetime: datetime.datetime(aware or naive)\n",
    "        与える日時，awareなdatetimeかlocal timeを前提としたnaiveなdatetime\n",
    "    freq_str: str\n",
    "        frequencyに対応する文字列\n",
    "    number: int\n",
    "        減らすfreq_strの個数\n",
    "    clear_mod: bool\n",
    "        与える日時の余りを削除するかどうか\n",
    "    \"\"\"\n",
    "    assert number >= 0\n",
    "    if get_sec_from_freq(freq_str) > get_sec_from_freq(\"H\"):\n",
    "        raise Exception(\"This freq is not suitable for considaring intraday\")\n",
    "    #from IPython.core.debugger import Pdb; Pdb().set_trace()\n",
    "    if clear_mod:\n",
    "        select_datetime = get_ceil_mod_datetime(select_datetime, freq_str, will_warn=True)\n",
    "    \n",
    "    sec_from_freq = get_sec_from_freq(freq_str)\n",
    "    out_datetime = sub_workday_intraday_datetime(select_datetime, timedelta(seconds=sec_from_freq)*number)\n",
    "    return out_datetime"
   ]
  },
  {
   "cell_type": "code",
   "execution_count": 132,
   "metadata": {
    "ExecuteTime": {
     "end_time": "2021-05-09T04:13:28.070366Z",
     "start_time": "2021-05-09T04:13:28.037455Z"
    },
    "scrolled": true
   },
   "outputs": [
    {
     "data": {
      "text/plain": [
       "datetime.datetime(2021, 5, 6, 9, 0, tzinfo=<DstTzInfo 'Asia/Tokyo' JST+9:00:00 STD>)"
      ]
     },
     "execution_count": 132,
     "metadata": {},
     "output_type": "execute_result"
    }
   ],
   "source": [
    "jst_timezone = timezone(\"Asia/Tokyo\")\n",
    "select_datetime = jst_timezone.localize(datetime.datetime(2021, 5, 6, 10, 0, 0))\n",
    "freq_str = \"H\"\n",
    "previous_datetime = get_previous_workday_intraday_datetime(select_datetime, freq_str, clear_mod=False)\n",
    "previous_datetime"
   ]
  },
  {
   "cell_type": "code",
   "execution_count": 133,
   "metadata": {
    "ExecuteTime": {
     "end_time": "2021-05-09T04:13:32.607233Z",
     "start_time": "2021-05-09T04:13:28.427437Z"
    }
   },
   "outputs": [
    {
     "name": "stdout",
     "output_type": "stream",
     "text": [
      "503 µs ± 103 µs per loop (mean ± std. dev. of 7 runs, 1000 loops each)\n"
     ]
    }
   ],
   "source": [
    "%timeit previous_datetime = get_previous_workday_intraday_datetime(select_datetime, freq_str, clear_mod=False)"
   ]
  }
 ],
 "metadata": {
  "kernelspec": {
   "display_name": "torch_py37",
   "language": "python",
   "name": "torch_py37"
  },
  "language_info": {
   "codemirror_mode": {
    "name": "ipython",
    "version": 3
   },
   "file_extension": ".py",
   "mimetype": "text/x-python",
   "name": "python",
   "nbconvert_exporter": "python",
   "pygments_lexer": "ipython3",
   "version": "3.7.4"
  },
  "toc": {
   "base_numbering": 1,
   "nav_menu": {},
   "number_sections": true,
   "sideBar": true,
   "skip_h1_title": false,
   "title_cell": "Table of Contents",
   "title_sidebar": "Contents",
   "toc_cell": false,
   "toc_position": {
    "height": "calc(100% - 180px)",
    "left": "10px",
    "top": "150px",
    "width": "254.594px"
   },
   "toc_section_display": true,
   "toc_window_display": true
  }
 },
 "nbformat": 4,
 "nbformat_minor": 4
}
