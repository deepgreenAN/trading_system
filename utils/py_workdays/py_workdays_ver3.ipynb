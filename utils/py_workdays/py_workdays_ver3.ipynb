{
 "cells": [
  {
   "cell_type": "markdown",
   "metadata": {},
   "source": [
    "# 特定の日時のリストを取得する "
   ]
  },
  {
   "cell_type": "code",
   "execution_count": 1,
   "metadata": {
    "ExecuteTime": {
     "end_time": "2021-03-27T14:25:09.022256Z",
     "start_time": "2021-03-27T14:25:08.933095Z"
    }
   },
   "outputs": [],
   "source": [
    "import jpholiday\n",
    "from pytz import timezone, utc\n",
    "import datetime\n",
    "import pickle\n",
    "from pathlib import Path"
   ]
  },
  {
   "cell_type": "code",
   "execution_count": 2,
   "metadata": {
    "ExecuteTime": {
     "end_time": "2021-03-27T14:25:12.486895Z",
     "start_time": "2021-03-27T14:25:09.034792Z"
    }
   },
   "outputs": [],
   "source": [
    "import numpy as np\n",
    "import pandas as pd"
   ]
  },
  {
   "cell_type": "code",
   "execution_count": 3,
   "metadata": {
    "ExecuteTime": {
     "end_time": "2021-03-27T14:25:12.564870Z",
     "start_time": "2021-03-27T14:25:12.504957Z"
    }
   },
   "outputs": [],
   "source": [
    "def check_jst_datetimes_to_naive(*arg_datetimes):\n",
    "    \"\"\"\n",
    "    ＊*今のところ，ローカルが東京でないnaiveなdatetimeはそのまま通してしまう\n",
    "    引数のタイムゾーンが同じかどうかチェックし，存在するなら日本であるかチェック\n",
    "    awareな場合は，naiveに変更\n",
    "    \"\"\"\n",
    "    jst_timezone = timezone(\"Asia/Tokyo\")\n",
    "    tz_info_set = set([one_datetime.tzinfo for one_datetime in arg_datetimes])\n",
    "    if len(tz_info_set) > 1:\n",
    "        raise Exception(\"timezones are different\")\n",
    "        \n",
    "    datetimes_tzinfo = list(tz_info_set)[0]\n",
    "    \n",
    "    if datetimes_tzinfo is not None:  # 長さが1のはず\n",
    "        if timezone(str(datetimes_tzinfo)) != jst_timezone:\n",
    "            raise Exception(\"timezones must be Asia/Tokyo\")\n",
    "        # naiveなdatetimeに変更\n",
    "        arg_datetimes = [one_datetime.replace(tzinfo=None) for one_datetime in arg_datetimes]\n",
    "    \n",
    "    # 引数が一つであるかどうか\n",
    "    if len(arg_datetimes) > 1:  # 引数が複数の場合\n",
    "        return tuple(arg_datetimes)\n",
    "    else:  # 引数が一つの場合\n",
    "        return arg_datetimes[0]"
   ]
  },
  {
   "cell_type": "markdown",
   "metadata": {},
   "source": [
    "## 営業日・休日を取得する "
   ]
  },
  {
   "cell_type": "markdown",
   "metadata": {},
   "source": [
    "Optionの簡単化のため，HolidayGetterクラスを作成する．jpholidayを利用するものとCSVファイルを読み込むものの二つを用意する．"
   ]
  },
  {
   "cell_type": "markdown",
   "metadata": {},
   "source": [
    "### 祝日のndarrayを取得する(jpholidayを利用)"
   ]
  },
  {
   "cell_type": "markdown",
   "metadata": {},
   "source": [
    "以下はjpholidayを利用した素直な実装だが，遅い．そこで一度しか呼ばないようにすべき"
   ]
  },
  {
   "cell_type": "code",
   "execution_count": 4,
   "metadata": {
    "ExecuteTime": {
     "end_time": "2021-03-27T14:25:12.626705Z",
     "start_time": "2021-03-27T14:25:12.584817Z"
    }
   },
   "outputs": [],
   "source": [
    "class JPHolidayGetter:\n",
    "    def get_holidays(self, start_date, end_date, with_name=False):\n",
    "        \"\"\"\n",
    "        期間を指定して祝日を取得．jpholidayを利用して祝日を取得している．\n",
    "\n",
    "        start_date: datetime.date\n",
    "            開始時刻のdate\n",
    "        end_datetime: datetime.date\n",
    "            終了時刻のdate\n",
    "        with_name: bool\n",
    "            休日の名前を出力するかどうか\n",
    "        to_date: bool\n",
    "            出力をdatetime.datetimeにするかdatetime.dateにするか\n",
    "        \"\"\"\n",
    "        assert isinstance(start_date, datetime.date) and isinstance(end_date, datetime.date)\n",
    "\n",
    "        holidays_array = np.array(jpholiday.between(start_date, end_date))\n",
    "\n",
    "        if not with_name:  # 祝日名がいらない場合\n",
    "            return holidays_array[:,0].copy()\n",
    "\n",
    "        return holidays_array\n",
    "        "
   ]
  },
  {
   "cell_type": "code",
   "execution_count": 5,
   "metadata": {
    "ExecuteTime": {
     "end_time": "2021-03-27T14:25:34.533331Z",
     "start_time": "2021-03-27T14:25:12.637678Z"
    }
   },
   "outputs": [],
   "source": [
    "start_date = datetime.date(1960, 1, 1)\n",
    "end_date = datetime.date(2021, 12, 31)\n",
    "\n",
    "holidays_array = JPHolidayGetter().get_holidays(start_date, end_date, with_name=True)"
   ]
  },
  {
   "cell_type": "code",
   "execution_count": 6,
   "metadata": {
    "ExecuteTime": {
     "end_time": "2021-03-27T14:25:34.701877Z",
     "start_time": "2021-03-27T14:25:34.575230Z"
    }
   },
   "outputs": [
    {
     "data": {
      "text/plain": [
       "array([[datetime.date(1960, 1, 1), '元日'],\n",
       "       [datetime.date(1960, 1, 15), '成人の日'],\n",
       "       [datetime.date(1960, 3, 20), '春分の日'],\n",
       "       ...,\n",
       "       [datetime.date(2021, 9, 23), '秋分の日'],\n",
       "       [datetime.date(2021, 11, 3), '文化の日'],\n",
       "       [datetime.date(2021, 11, 23), '勤労感謝の日']], dtype=object)"
      ]
     },
     "execution_count": 6,
     "metadata": {},
     "output_type": "execute_result"
    }
   ],
   "source": [
    "holidays_array"
   ]
  },
  {
   "cell_type": "code",
   "execution_count": 7,
   "metadata": {
    "ExecuteTime": {
     "end_time": "2021-03-27T14:25:34.750751Z",
     "start_time": "2021-03-27T14:25:34.714845Z"
    }
   },
   "outputs": [
    {
     "data": {
      "text/plain": [
       "937"
      ]
     },
     "execution_count": 7,
     "metadata": {},
     "output_type": "execute_result"
    }
   ],
   "source": [
    "len(holidays_array)"
   ]
  },
  {
   "cell_type": "markdown",
   "metadata": {},
   "source": [
    "### 祝日のndarrayを取得(CSVファイルを利用) "
   ]
  },
  {
   "cell_type": "markdown",
   "metadata": {},
   "source": [
    "思ったより速度が速いので，毎回これを呼ぶことも可能であるが，jpholidayのものを踏襲してこれも一度あるいはOptionを変更したときのみ呼ばれるようにする．"
   ]
  },
  {
   "cell_type": "code",
   "execution_count": 8,
   "metadata": {
    "ExecuteTime": {
     "end_time": "2021-03-27T14:25:34.952486Z",
     "start_time": "2021-03-27T14:25:34.793642Z"
    }
   },
   "outputs": [],
   "source": [
    "class CSVHolidayGetter:\n",
    "    def __init__(self, csv_paths):\n",
    "        if not isinstance(csv_paths, list):  # リストでないなら，リストにしておく\n",
    "            csv_paths = [csv_paths]\n",
    "            \n",
    "        self.csv_paths = csv_paths\n",
    "        \n",
    "    def get_holidays(self, start_date, end_date, with_name=False):\n",
    "        \"\"\"\n",
    "        期間を指定して祝日を取得．csvファイルを利用して祝日を取得している．\n",
    "\n",
    "        start_date: datetime.date\n",
    "            開始時刻のdate\n",
    "        end_datetime: datetime.date\n",
    "            終了時刻のdate\n",
    "        with_name: bool\n",
    "            休日の名前を出力するかどうか\n",
    "        to_date: bool\n",
    "            出力をdatetime.datetimeにするかdatetime.dateにするか\n",
    "        \"\"\"\n",
    "        assert isinstance(start_date, datetime.date) and isinstance(end_date, datetime.date)\n",
    "        \n",
    "        # datetime.dateをpd.Timestampに変換(datetime.dateは通常pd.DatetimeIndexと比較できないため)\n",
    "        start_timestamp = pd.Timestamp(start_date)\n",
    "        end_timestamp = pd.Timestamp(end_date)\n",
    "        \n",
    "        for i, csv_path in enumerate(self.csv_paths):\n",
    "            holiday_df = pd.read_csv(csv_path, \n",
    "                                     header=None,\n",
    "                                     names=[\"date\", \"holiday_name\"],\n",
    "                                     index_col=\"date\",\n",
    "                                     parse_dates=True\n",
    "                                    )\n",
    "            if i == 0:\n",
    "                left_df = holiday_df\n",
    "            else:\n",
    "                append_bool = ~holiday_df.index.isin(left_df.index)  # 左Dataframeに存在しない部分を追加\n",
    "                left_df = left_df.append(holiday_df.loc[append_bool], sort=True)\n",
    "\n",
    "        \n",
    "        # 指定範囲内の祝日を取得\n",
    "        holiday_in_span_index = (start_timestamp<=left_df.index)&(left_df.index<end_timestamp)\n",
    "        holiday_in_span_df = left_df.loc[holiday_in_span_index]\n",
    "        \n",
    "        holiday_in_span_date_array = holiday_in_span_df.index.date\n",
    "        holiday_in_span_name_array = holiday_in_span_df.loc[:,\"holiday_name\"].values\n",
    "        holiday_in_span_array = np.stack([holiday_in_span_date_array,\n",
    "                                          holiday_in_span_name_array\n",
    "                                         ],\n",
    "                                         axis=1\n",
    "                                        )\n",
    "        \n",
    "        if not with_name:  # 祝日名がいらない場合\n",
    "            return holiday_in_span_date_array\n",
    "            \n",
    "        return holiday_in_span_array\n",
    "            "
   ]
  },
  {
   "cell_type": "code",
   "execution_count": 9,
   "metadata": {
    "ExecuteTime": {
     "end_time": "2021-03-27T14:25:35.276469Z",
     "start_time": "2021-03-27T14:25:34.975539Z"
    }
   },
   "outputs": [
    {
     "data": {
      "text/plain": [
       "array([[datetime.date(1960, 1, 1), '元日'],\n",
       "       [datetime.date(1960, 1, 15), '成人の日'],\n",
       "       [datetime.date(1960, 3, 20), '春分の日'],\n",
       "       ...,\n",
       "       [datetime.date(2021, 9, 23), '秋分の日'],\n",
       "       [datetime.date(2021, 11, 3), '文化の日'],\n",
       "       [datetime.date(2021, 11, 23), '勤労感謝の日']], dtype=object)"
      ]
     },
     "execution_count": 9,
     "metadata": {},
     "output_type": "execute_result"
    }
   ],
   "source": [
    "source_paths = [Path(\"source/holiday_naikaku.csv\"),\n",
    "                Path(\"source/holiday_api.csv\")\n",
    "               ]\n",
    "\n",
    "holiday_getter = CSVHolidayGetter(source_paths)\n",
    "\n",
    "start_date = datetime.date(1960, 1, 1)\n",
    "end_date = datetime.date(2021, 12, 31)\n",
    "\n",
    "holidays_array = holiday_getter.get_holidays(start_date, end_date, with_name=True)\n",
    "holidays_array"
   ]
  },
  {
   "cell_type": "code",
   "execution_count": 10,
   "metadata": {
    "ExecuteTime": {
     "end_time": "2021-03-27T14:25:35.324516Z",
     "start_time": "2021-03-27T14:25:35.290520Z"
    }
   },
   "outputs": [
    {
     "data": {
      "text/plain": [
       "913"
      ]
     },
     "execution_count": 10,
     "metadata": {},
     "output_type": "execute_result"
    }
   ],
   "source": [
    "len(holidays_array)"
   ]
  },
  {
   "cell_type": "code",
   "execution_count": 11,
   "metadata": {
    "ExecuteTime": {
     "end_time": "2021-03-27T14:25:35.877569Z",
     "start_time": "2021-03-27T14:25:35.335484Z"
    }
   },
   "outputs": [
    {
     "name": "stdout",
     "output_type": "stream",
     "text": [
      "Timer unit: 1e-07 s\n",
      "\n",
      "Total time: 0 s\n",
      "File: <ipython-input-8-73157d16bb73>\n",
      "Function: __init__ at line 2\n",
      "\n",
      "Line #      Hits         Time  Per Hit   % Time  Line Contents\n",
      "==============================================================\n",
      "     2                                               def __init__(self, csv_paths):\n",
      "     3                                                   if not isinstance(csv_paths, list):  # リストでないなら，リストにしておく\n",
      "     4                                                       csv_paths = [csv_paths]\n",
      "     5                                                       \n",
      "     6                                                   self.csv_paths = csv_paths\n",
      "\n",
      "Total time: 0.232327 s\n",
      "File: <ipython-input-8-73157d16bb73>\n",
      "Function: get_holidays at line 8\n",
      "\n",
      "Line #      Hits         Time  Per Hit   % Time  Line Contents\n",
      "==============================================================\n",
      "     8                                               def get_holidays(self, start_date, end_date, with_name=False):\n",
      "     9                                                   \"\"\"\n",
      "    10                                                   期間を指定して祝日を取得．csvファイルを利用して祝日を取得している．\n",
      "    11                                           \n",
      "    12                                                   start_date: datetime.date\n",
      "    13                                                       開始時刻のdate\n",
      "    14                                                   end_datetime: datetime.date\n",
      "    15                                                       終了時刻のdate\n",
      "    16                                                   with_name: bool\n",
      "    17                                                       休日の名前を出力するかどうか\n",
      "    18                                                   to_date: bool\n",
      "    19                                                       出力をdatetime.datetimeにするかdatetime.dateにするか\n",
      "    20                                                   \"\"\"\n",
      "    21         1        287.0    287.0      0.0          assert isinstance(start_date, datetime.date) and isinstance(end_date, datetime.date)\n",
      "    22                                                   \n",
      "    23                                                   # datetime.dateをpd.Timestampに変換(datetime.dateは通常pd.DatetimeIndexと比較できないため)\n",
      "    24         1        753.0    753.0      0.0          start_timestamp = pd.Timestamp(start_date)\n",
      "    25         1        382.0    382.0      0.0          end_timestamp = pd.Timestamp(end_date)\n",
      "    26                                                   \n",
      "    27         3        317.0    105.7      0.0          for i, csv_path in enumerate(self.csv_paths):\n",
      "    28         2        172.0     86.0      0.0              holiday_df = pd.read_csv(csv_path, \n",
      "    29         2        319.0    159.5      0.0                                       header=None,\n",
      "    30         2        135.0     67.5      0.0                                       names=[\"date\", \"holiday_name\"],\n",
      "    31         2        151.0     75.5      0.0                                       index_col=\"date\",\n",
      "    32         2    1965553.0 982776.5     84.6                                       parse_dates=True\n",
      "    33                                                                               )\n",
      "    34         2        253.0    126.5      0.0              if i == 0:\n",
      "    35         1         70.0     70.0      0.0                  left_df = holiday_df\n",
      "    36                                                       else:\n",
      "    37         1      19562.0  19562.0      0.8                  append_bool = ~holiday_df.index.isin(left_df.index)  # 左Dataframeに存在しない部分を追加\n",
      "    38         1     207111.0 207111.0      8.9                  left_df = left_df.append(holiday_df.loc[append_bool], sort=True)\n",
      "    39                                           \n",
      "    40                                                   \n",
      "    41                                                   # 指定範囲内の祝日を取得\n",
      "    42         1      11993.0  11993.0      0.5          holiday_in_span_index = (start_timestamp<=left_df.index)&(left_df.index<end_timestamp)\n",
      "    43         1      67120.0  67120.0      2.9          holiday_in_span_df = left_df.loc[holiday_in_span_index]\n",
      "    44                                                   \n",
      "    45         1      26264.0  26264.0      1.1          holiday_in_span_date_array = holiday_in_span_df.index.date\n",
      "    46         1      17602.0  17602.0      0.8          holiday_in_span_name_array = holiday_in_span_df.loc[:,\"holiday_name\"].values\n",
      "    47         1        106.0    106.0      0.0          holiday_in_span_array = np.stack([holiday_in_span_date_array,\n",
      "    48         1         69.0     69.0      0.0                                            holiday_in_span_name_array\n",
      "    49                                                                                    ],\n",
      "    50         1       4885.0   4885.0      0.2                                           axis=1\n",
      "    51                                                                                   )\n",
      "    52                                                   \n",
      "    53         1         98.0     98.0      0.0          if not with_name:  # 祝日名がいらない場合\n",
      "    54                                                       return holiday_in_span_date_array\n",
      "    55                                                       \n",
      "    56         1         66.0     66.0      0.0          return holiday_in_span_array\n",
      "\n"
     ]
    }
   ],
   "source": [
    "def temp_func():\n",
    "    holidays_array = holiday_getter.get_holidays(start_date, end_date, with_name=True)\n",
    "\n",
    "from line_profiler import LineProfiler\n",
    "prf = LineProfiler()                                                                                         \n",
    "prf.add_module(CSVHolidayGetter)                                                                                          \n",
    "#prf.add_function()                                                                                      \n",
    "prf.runcall(temp_func)                                                                                          \n",
    "prf.print_stats()"
   ]
  },
  {
   "cell_type": "markdown",
   "metadata": {},
   "source": [
    "このメソッドはそれほど呼ばないので速度が遅くてもかまわない．それに速度の向上は期待できない．"
   ]
  },
  {
   "cell_type": "markdown",
   "metadata": {},
   "source": [
    "## Option"
   ]
  },
  {
   "cell_type": "markdown",
   "metadata": {},
   "source": [
    "jpholidayの休日取得速度が遅いため(csvとしても毎回読み込むのは非効率なため)，パッケージとして読み込む時にあらかじめ利用する休日をarrayとして保持しておくOptionを作成する．さらに利用する休日の期間やcsvとjpholidayの切り替え，休日曜日の切り替え，日中時間の切り替えなどを行うことができる．"
   ]
  },
  {
   "cell_type": "code",
   "execution_count": 12,
   "metadata": {
    "ExecuteTime": {
     "end_time": "2021-03-27T14:25:36.309463Z",
     "start_time": "2021-03-27T14:25:35.895526Z"
    },
    "code_folding": []
   },
   "outputs": [],
   "source": [
    "class Option():\n",
    "    \"\"\"\n",
    "    オプションの指定のためのクラス\n",
    "    holiday_start_year: int\n",
    "        利用する休日の開始年\n",
    "    holiday_end_year: int\n",
    "        利用する休日の終了年\n",
    "    backend: str\n",
    "        休日取得のバックエンド．csvかjpholidayのいずれかが選べる\n",
    "    csv_source_paths: list of str or pathlib.Path\n",
    "        バックエンドをcsvにした場合の休日のソースcsvファイル\n",
    "    holiday_weekdays: list of int\n",
    "        休日曜日の整数のリスト\n",
    "    intraday_borders: list of list of 2 datetime.time\n",
    "        日中を指定する境界時間のリストのリスト\n",
    "    \"\"\"\n",
    "    def __init__(self):\n",
    "        self._holiday_start_year = datetime.datetime.now().year-5\n",
    "        self._holiday_end_year = datetime.datetime.now().year\n",
    "        \n",
    "        self._backend = \"csv\"\n",
    "        self._csv_source_paths = [Path(\"source/holiday_naikaku.csv\"),]\n",
    "        \n",
    "        self.make_holiday_getter()  # HolidayGetterを作成\n",
    "        self.make_holidays()  # アトリビュートに追加\n",
    "        \n",
    "        self._holiday_weekdays = [5,6]  # 土曜日・日曜日\n",
    "        self._intraday_borders = [[datetime.time(9,0), datetime.time(11,30)],\n",
    "                                  [datetime.time(12,30), datetime.time(15,0)]]\n",
    "        \n",
    "    \n",
    "    def make_holiday_getter(self):\n",
    "        if self.backend == \"jp_holiday\":\n",
    "            self._holiday_getter = JPHolidayGetter()\n",
    "        elif self.backend == \"csv\":\n",
    "            self._holiday_getter = CSVHolidayGetter(self.csv_source_paths)\n",
    "        \n",
    "    \n",
    "    def make_holidays(self):\n",
    "        \"\"\"\n",
    "        利用する休日のarrayとDatetimeIndexをアトリビュートとして作成\n",
    "        \"\"\"\n",
    "        self._holidays_date_array = self._holiday_getter.get_holidays(start_date=datetime.date(self.holiday_start_year,1,1),\n",
    "                                                    end_date=datetime.date(self.holiday_end_year,12,31),\n",
    "                                                    with_name=False,\n",
    "                                                   )\n",
    "        self._holidays_datetimeindex =  pd.DatetimeIndex(self._holidays_date_array)\n",
    "        \n",
    "    \n",
    "    @property\n",
    "    def holiday_start_year(self):\n",
    "        return self._holiday_start_year\n",
    "    \n",
    "    @holiday_start_year.setter\n",
    "    def holiday_start_year(self, year):\n",
    "        assert isinstance(year,int)\n",
    "        self._holiday_start_year = year\n",
    "        self.make_holidays()  # アトリビュートに追加\n",
    "    \n",
    "    @property\n",
    "    def holiday_end_year(self):\n",
    "        return self._holiday_end_year\n",
    "\n",
    "    @holiday_end_year.setter\n",
    "    def holiday_end_year(self, year):\n",
    "        assert isinstance(year,int)\n",
    "        self._holiday_end_year = year\n",
    "        self.make_holidays()  # アトリビュートに追加\n",
    "    \n",
    "    @property\n",
    "    def backend(self):\n",
    "        return self._backend\n",
    "    \n",
    "    @backend.setter\n",
    "    def backend(self, backend_str):\n",
    "        if backend_str not in (\"jp_holiday\",\"csv\"):\n",
    "            raise Exception(\"backend must be 'jp_holiday' or 'csv'.\")\n",
    "        self._backend = backend_str\n",
    "        self.make_holiday_getter()  # HolidayGetterを作成\n",
    "    \n",
    "    @property\n",
    "    def csv_source_paths(self):\n",
    "        #中身の確認\n",
    "        for csv_source_path in self._csv_source_paths:\n",
    "            if not isinstance(csv_source_path, str) and not isinstance(csv_source_path, Path):\n",
    "                raise Exception(\"csv_source_paths must be list of str or pathlib.Path\")\n",
    "        \n",
    "        return self._csv_source_paths\n",
    "    \n",
    "    @csv_source_paths.setter\n",
    "    def csv_source_paths(self, path_list):\n",
    "        self.csv_source_paths = path_list\n",
    "        \n",
    "    @property\n",
    "    def holidays_date_array(self):\n",
    "        return self._holidays_date_array\n",
    "    \n",
    "    @property\n",
    "    def holidays_datetimeindex(self):\n",
    "        return self._holidays_datetimeindex\n",
    "    \n",
    "    @property\n",
    "    def holiday_weekdays(self):\n",
    "        # 中身の確認\n",
    "        for weekday in self._holiday_weekdays:\n",
    "            if not isinstance(weekday, int):\n",
    "                raise Exception(\"holiday_weekdays must be list of integer(0<=x<=6)\")\n",
    "                \n",
    "        return self._holiday_weekdays\n",
    "    \n",
    "    @holiday_weekdays.setter\n",
    "    def holiday_weekdays(self, weekdays_list):\n",
    "        self._holiday_weekdays = weekdays_list\n",
    "    \n",
    "    @property\n",
    "    def intraday_borders(self):\n",
    "        # 中身の確認\n",
    "        for border in self._intraday_borders:\n",
    "            if not isinstance(border, list) or len(border) != 2:\n",
    "                raise Exception(\"intraday_borders must be list of list whitch has 2 datetime.time\")\n",
    "                \n",
    "            for border_time in border:\n",
    "                if not isinstance(border_time, datetime.time):\n",
    "                    raise Exception(\"intraday_borders must be list of list whitch has 2 datetime.time\")\n",
    "             \n",
    "        return self._intraday_borders\n",
    "    \n",
    "    @intraday_borders.setter\n",
    "    def intraday_borders(self, borders_list):\n",
    "        self._intraday_borders = borders_list"
   ]
  },
  {
   "cell_type": "markdown",
   "metadata": {},
   "source": [
    "### Optionのコンストラクト "
   ]
  },
  {
   "cell_type": "code",
   "execution_count": 13,
   "metadata": {
    "ExecuteTime": {
     "end_time": "2021-03-27T14:25:36.496428Z",
     "start_time": "2021-03-27T14:25:36.345448Z"
    }
   },
   "outputs": [],
   "source": [
    "option = Option()"
   ]
  },
  {
   "cell_type": "markdown",
   "metadata": {},
   "source": [
    "### 休日を取得する関数"
   ]
  },
  {
   "cell_type": "code",
   "execution_count": 14,
   "metadata": {
    "ExecuteTime": {
     "end_time": "2021-03-27T14:25:36.792923Z",
     "start_time": "2021-03-27T14:25:36.515461Z"
    }
   },
   "outputs": [],
   "source": [
    "def get_holidays_jp(start_date, end_date, with_name=False, independent=False):\n",
    "        \"\"\"\n",
    "        期間を指定して祝日を取得．\n",
    "\n",
    "        start_date: datetime.date\n",
    "            開始時刻のdate\n",
    "        end_datetime: datetime.date\n",
    "            終了時刻のdate\n",
    "        with_name: bool\n",
    "            休日の名前を出力するかどうか\n",
    "        to_date: bool\n",
    "            出力をdatetime.datetimeにするかdatetime.dateにするか\n",
    "        independent: bool，default:False\n",
    "            休日をoptionから独立させるかどうか．FalseならばOption内で保持する休日が取得される\n",
    "        \"\"\"\n",
    "        assert isinstance(start_date, datetime.date) and isinstance(end_date, datetime.date)\n",
    "        \n",
    "        if not independent:\n",
    "            # datetime.dateをpd.Timestampに変換(datetime.dateは通常pd.DatetimeIndexと比較できないため)\n",
    "            start_timestamp = pd.Timestamp(start_date)\n",
    "            end_timestamp = pd.Timestamp(end_date)\n",
    "\n",
    "            holidays_in_span_index = (start_timestamp<=option.holidays_datetimeindex)&(option.holidays_datetimeindex<end_timestamp)  # DatetimeIndexを使うことに注意\n",
    "            holidays_in_span_array = option.holidays_date_array[holidays_in_span_index]  # ndarrayを使う\n",
    "\n",
    "            return holidays_in_span_array\n",
    "        else:\n",
    "            if option.backend == \"jp_holiday\":\n",
    "                holiday_getter = JPHolidayGetter()\n",
    "            elif option.backend == \"csv\":\n",
    "                holiday_getter = CSVHolidayGetter(option.csv_source_paths)\n",
    "                \n",
    "            holidays_array = holiday_getter.get_holidays(start_date=start_date,\n",
    "                                                         end_date=end_date,\n",
    "                                                         with_name=with_name\n",
    "                                                        ) \n",
    "            return  holidays_array"
   ]
  },
  {
   "cell_type": "code",
   "execution_count": 15,
   "metadata": {
    "ExecuteTime": {
     "end_time": "2021-03-27T14:25:36.854497Z",
     "start_time": "2021-03-27T14:25:36.804554Z"
    }
   },
   "outputs": [
    {
     "data": {
      "text/plain": [
       "array([datetime.date(2016, 1, 1), datetime.date(2016, 1, 11),\n",
       "       datetime.date(2016, 2, 11), datetime.date(2016, 3, 20),\n",
       "       datetime.date(2016, 3, 21), datetime.date(2016, 4, 29),\n",
       "       datetime.date(2016, 5, 3), datetime.date(2016, 5, 4),\n",
       "       datetime.date(2016, 5, 5), datetime.date(2016, 7, 18),\n",
       "       datetime.date(2016, 8, 11), datetime.date(2016, 9, 19),\n",
       "       datetime.date(2016, 9, 22), datetime.date(2016, 10, 10),\n",
       "       datetime.date(2016, 11, 3), datetime.date(2016, 11, 23),\n",
       "       datetime.date(2016, 12, 23), datetime.date(2017, 1, 1),\n",
       "       datetime.date(2017, 1, 2), datetime.date(2017, 1, 9),\n",
       "       datetime.date(2017, 2, 11), datetime.date(2017, 3, 20),\n",
       "       datetime.date(2017, 4, 29), datetime.date(2017, 5, 3),\n",
       "       datetime.date(2017, 5, 4), datetime.date(2017, 5, 5),\n",
       "       datetime.date(2017, 7, 17), datetime.date(2017, 8, 11),\n",
       "       datetime.date(2017, 9, 18), datetime.date(2017, 9, 23),\n",
       "       datetime.date(2017, 10, 9), datetime.date(2017, 11, 3),\n",
       "       datetime.date(2017, 11, 23), datetime.date(2017, 12, 23),\n",
       "       datetime.date(2018, 1, 1), datetime.date(2018, 1, 8),\n",
       "       datetime.date(2018, 2, 11), datetime.date(2018, 2, 12),\n",
       "       datetime.date(2018, 3, 21), datetime.date(2018, 4, 29),\n",
       "       datetime.date(2018, 4, 30), datetime.date(2018, 5, 3),\n",
       "       datetime.date(2018, 5, 4), datetime.date(2018, 5, 5),\n",
       "       datetime.date(2018, 7, 16), datetime.date(2018, 8, 11),\n",
       "       datetime.date(2018, 9, 17), datetime.date(2018, 9, 23),\n",
       "       datetime.date(2018, 9, 24), datetime.date(2018, 10, 8),\n",
       "       datetime.date(2018, 11, 3), datetime.date(2018, 11, 23),\n",
       "       datetime.date(2018, 12, 23), datetime.date(2018, 12, 24),\n",
       "       datetime.date(2019, 1, 1), datetime.date(2019, 1, 14),\n",
       "       datetime.date(2019, 2, 11), datetime.date(2019, 3, 21),\n",
       "       datetime.date(2019, 4, 29), datetime.date(2019, 4, 30),\n",
       "       datetime.date(2019, 5, 1), datetime.date(2019, 5, 2),\n",
       "       datetime.date(2019, 5, 3), datetime.date(2019, 5, 4),\n",
       "       datetime.date(2019, 5, 5), datetime.date(2019, 5, 6),\n",
       "       datetime.date(2019, 7, 15), datetime.date(2019, 8, 11),\n",
       "       datetime.date(2019, 8, 12), datetime.date(2019, 9, 16),\n",
       "       datetime.date(2019, 9, 23), datetime.date(2019, 10, 14),\n",
       "       datetime.date(2019, 10, 22), datetime.date(2019, 11, 3),\n",
       "       datetime.date(2019, 11, 4), datetime.date(2019, 11, 23),\n",
       "       datetime.date(2020, 1, 1), datetime.date(2020, 1, 13),\n",
       "       datetime.date(2020, 2, 11), datetime.date(2020, 2, 23),\n",
       "       datetime.date(2020, 2, 24), datetime.date(2020, 3, 20),\n",
       "       datetime.date(2020, 4, 29), datetime.date(2020, 5, 3),\n",
       "       datetime.date(2020, 5, 4), datetime.date(2020, 5, 5),\n",
       "       datetime.date(2020, 5, 6), datetime.date(2020, 7, 23),\n",
       "       datetime.date(2020, 7, 24), datetime.date(2020, 8, 10),\n",
       "       datetime.date(2020, 9, 21), datetime.date(2020, 9, 22),\n",
       "       datetime.date(2020, 11, 3), datetime.date(2020, 11, 23),\n",
       "       datetime.date(2021, 1, 1), datetime.date(2021, 1, 11),\n",
       "       datetime.date(2021, 2, 11), datetime.date(2021, 2, 23),\n",
       "       datetime.date(2021, 3, 20), datetime.date(2021, 4, 29),\n",
       "       datetime.date(2021, 5, 3), datetime.date(2021, 5, 4),\n",
       "       datetime.date(2021, 5, 5), datetime.date(2021, 7, 22),\n",
       "       datetime.date(2021, 7, 23), datetime.date(2021, 8, 8),\n",
       "       datetime.date(2021, 8, 9), datetime.date(2021, 9, 20),\n",
       "       datetime.date(2021, 9, 23), datetime.date(2021, 11, 3),\n",
       "       datetime.date(2021, 11, 23)], dtype=object)"
      ]
     },
     "execution_count": 15,
     "metadata": {},
     "output_type": "execute_result"
    }
   ],
   "source": [
    "start_date = datetime.date(1960, 1, 1)\n",
    "end_date = datetime.date(2021, 12, 31)\n",
    "\n",
    "holidays_array = get_holidays_jp(start_date, \n",
    "                                end_date,\n",
    "                                with_name=True,\n",
    "                                independent=False\n",
    "                               )\n",
    "holidays_array"
   ]
  },
  {
   "cell_type": "code",
   "execution_count": 16,
   "metadata": {
    "ExecuteTime": {
     "end_time": "2021-03-27T14:25:36.994492Z",
     "start_time": "2021-03-27T14:25:36.864467Z"
    }
   },
   "outputs": [
    {
     "name": "stdout",
     "output_type": "stream",
     "text": [
      "Timer unit: 1e-07 s\n",
      "\n",
      "Total time: 0.0158959 s\n",
      "File: <ipython-input-14-f5cc5d2acc13>\n",
      "Function: get_holidays_jp at line 1\n",
      "\n",
      "Line #      Hits         Time  Per Hit   % Time  Line Contents\n",
      "==============================================================\n",
      "     1                                           def get_holidays_jp(start_date, end_date, with_name=False, independent=False):\n",
      "     2                                                   \"\"\"\n",
      "     3                                                   期間を指定して祝日を取得．\n",
      "     4                                           \n",
      "     5                                                   start_date: datetime.date\n",
      "     6                                                       開始時刻のdate\n",
      "     7                                                   end_datetime: datetime.date\n",
      "     8                                                       終了時刻のdate\n",
      "     9                                                   with_name: bool\n",
      "    10                                                       休日の名前を出力するかどうか\n",
      "    11                                                   to_date: bool\n",
      "    12                                                       出力をdatetime.datetimeにするかdatetime.dateにするか\n",
      "    13                                                   independent: bool，default:False\n",
      "    14                                                       休日をoptionから独立させるかどうか．FalseならばOption内で保持する休日が取得される\n",
      "    15                                                   \"\"\"\n",
      "    16         1        186.0    186.0      0.1          assert isinstance(start_date, datetime.date) and isinstance(end_date, datetime.date)\n",
      "    17                                                   \n",
      "    18         1        105.0    105.0      0.1          if not independent:\n",
      "    19                                                       # datetime.dateをpd.Timestampに変換(datetime.dateは通常pd.DatetimeIndexと比較できないため)\n",
      "    20         1       6066.0   6066.0      3.8              start_timestamp = pd.Timestamp(start_date)\n",
      "    21         1        487.0    487.0      0.3              end_timestamp = pd.Timestamp(end_date)\n",
      "    22                                           \n",
      "    23         1     151742.0 151742.0     95.5              holidays_in_span_index = (start_timestamp<=option.holidays_datetimeindex)&(option.holidays_datetimeindex<end_timestamp)  # DatetimeIndexを使うことに注意\n",
      "    24         1        323.0    323.0      0.2              holidays_in_span_array = option.holidays_date_array[holidays_in_span_index]  # ndarrayを使う\n",
      "    25                                           \n",
      "    26         1         50.0     50.0      0.0              return holidays_in_span_array\n",
      "    27                                                   else:\n",
      "    28                                                       if option.backend == \"jp_holiday\":\n",
      "    29                                                           holiday_getter = JPHolidayGetter()\n",
      "    30                                                       elif option.backend == \"csv\":\n",
      "    31                                                           holiday_getter = CSVHolidayGetter(option.csv_source_paths)\n",
      "    32                                                           \n",
      "    33                                                       holidays_array = holiday_getter.get_holidays(start_date=start_date,\n",
      "    34                                                                                                    end_date=end_date,\n",
      "    35                                                                                                    with_name=with_name\n",
      "    36                                                                                                   ) \n",
      "    37                                                       return  holidays_array\n",
      "\n"
     ]
    }
   ],
   "source": [
    "def temp_func():\n",
    "    holidays_array = get_holidays_jp(start_date, \n",
    "                                end_date,\n",
    "                                with_name=True,\n",
    "                                independent=False\n",
    "                               )\n",
    "\n",
    "from line_profiler import LineProfiler\n",
    "prf = LineProfiler()                                                                                         \n",
    "#prf.add_module()                                                                                          \n",
    "prf.add_function(get_holidays_jp)                                                                                      \n",
    "prf.runcall(temp_func)                                                                                          \n",
    "prf.print_stats()"
   ]
  },
  {
   "cell_type": "markdown",
   "metadata": {},
   "source": [
    "ボトルネックはなさそう"
   ]
  },
  {
   "cell_type": "markdown",
   "metadata": {},
   "source": [
    "## 営業日の取得 "
   ]
  },
  {
   "cell_type": "markdown",
   "metadata": {},
   "source": [
    "optionの休日を参照する．"
   ]
  },
  {
   "cell_type": "markdown",
   "metadata": {},
   "source": [
    "### 指定した期間の営業日のndarrayを取得する"
   ]
  },
  {
   "cell_type": "code",
   "execution_count": 17,
   "metadata": {
    "ExecuteTime": {
     "end_time": "2021-03-27T14:25:37.104354Z",
     "start_time": "2021-03-27T14:25:37.008458Z"
    },
    "code_folding": []
   },
   "outputs": [],
   "source": [
    "def get_workdays_jp(start_date, end_date, return_as=\"date\", end_include=False):\n",
    "    \"\"\"\n",
    "    営業日を取得\n",
    "    \n",
    "    start_date: datetime.date\n",
    "        開始時刻のdate\n",
    "    end_datetime: datetime.date\n",
    "        終了時刻のdate\n",
    "    return_as: str, defalt: 'dt'\n",
    "        返り値の形式\n",
    "        - 'dt':pd.DatetimeIndex\n",
    "        - 'date': datetime.date array\n",
    "    end_include: bool\n",
    "        最終日も含めて出力するか\n",
    "    \"\"\"\n",
    "    assert isinstance(start_date, datetime.date) and isinstance(end_date, datetime.date)\n",
    "    # 返り値の形式の指定\n",
    "    return_as_set = {\"dt\", \"date\"}\n",
    "    if not return_as in return_as_set:\n",
    "        raise Exception(\"return_as must be any in {}\".format(return_as_set))\n",
    "    \n",
    "    # datetime.dateをpd.Timestampに変換(datetime.dateは通常pd.DatetimeIndexと比較できないため)\n",
    "    start_timestamp = pd.Timestamp(start_date)\n",
    "    end_timestamp = pd.Timestamp(end_date)\n",
    "    \n",
    "    # 期間中のholidayを取得\n",
    "    holidays_in_span_index = (start_timestamp<=option.holidays_datetimeindex)&(option.holidays_datetimeindex<end_timestamp)  # DatetimeIndexを使うことに注意\n",
    "    holidays_in_span_array = option.holidays_date_array[holidays_in_span_index]  # ndarrayを使う\n",
    "\n",
    "    # 期間中のdatetimeのarrayを取得\n",
    "    if end_include:\n",
    "        days_datetimeindex = pd.date_range(start=start_date, end=end_date, freq=\"D\")  # 最終日も含める\n",
    "    else:\n",
    "        days_datetimeindex = pd.date_range(start=start_date, end=end_date-datetime.timedelta(days=1), freq=\"D\")  # 最終日は含めない\n",
    "    \n",
    "    \n",
    "    # 休日に含まれないもの，さらに土日に含まれないもののboolインデックスを取得\n",
    "    holiday_bool_array = np.in1d(days_datetimeindex.date, holidays_in_span_array)  # 休日であるかのブール(pd.DatetimeIndex.isin)でもいい\n",
    "    holiday_weekday_each_bool_arrays = [days_datetimeindex.weekday==weekday for weekday in option.holiday_weekdays]  # inを使うのを回避\n",
    "    holiday_weekday_bool_array = np.logical_or.reduce(holiday_weekday_each_bool_arrays)  # 休日曜日\n",
    "    \n",
    "    workdays_bool_array = (~holiday_bool_array)&(~holiday_weekday_bool_array)  # 休日でなく休日曜日でない\n",
    "    \n",
    "    workdays_datetimeindex = days_datetimeindex[workdays_bool_array].copy()\n",
    "    if return_as==\"dt\":\n",
    "        return workdays_datetimeindex\n",
    "    elif return_as==\"date\":\n",
    "        return workdays_datetimeindex.date"
   ]
  },
  {
   "cell_type": "code",
   "execution_count": 18,
   "metadata": {
    "ExecuteTime": {
     "end_time": "2021-03-27T14:25:37.260242Z",
     "start_time": "2021-03-27T14:25:37.114325Z"
    }
   },
   "outputs": [],
   "source": [
    "start_date = datetime.datetime(2021, 1, 1)\n",
    "end_date = datetime.datetime(2021, 12, 31)\n",
    "\n",
    "workdays = get_workdays_jp(start_date, end_date, return_as=\"date\", end_include=False)"
   ]
  },
  {
   "cell_type": "code",
   "execution_count": 19,
   "metadata": {
    "ExecuteTime": {
     "end_time": "2021-03-27T14:25:37.327216Z",
     "start_time": "2021-03-27T14:25:37.276198Z"
    }
   },
   "outputs": [
    {
     "data": {
      "text/plain": [
       "array([datetime.date(2021, 1, 4), datetime.date(2021, 1, 5),\n",
       "       datetime.date(2021, 1, 6), datetime.date(2021, 1, 7),\n",
       "       datetime.date(2021, 1, 8), datetime.date(2021, 1, 12),\n",
       "       datetime.date(2021, 1, 13), datetime.date(2021, 1, 14),\n",
       "       datetime.date(2021, 1, 15), datetime.date(2021, 1, 18),\n",
       "       datetime.date(2021, 1, 19), datetime.date(2021, 1, 20),\n",
       "       datetime.date(2021, 1, 21), datetime.date(2021, 1, 22),\n",
       "       datetime.date(2021, 1, 25), datetime.date(2021, 1, 26),\n",
       "       datetime.date(2021, 1, 27), datetime.date(2021, 1, 28),\n",
       "       datetime.date(2021, 1, 29), datetime.date(2021, 2, 1),\n",
       "       datetime.date(2021, 2, 2), datetime.date(2021, 2, 3),\n",
       "       datetime.date(2021, 2, 4), datetime.date(2021, 2, 5),\n",
       "       datetime.date(2021, 2, 8), datetime.date(2021, 2, 9),\n",
       "       datetime.date(2021, 2, 10), datetime.date(2021, 2, 12),\n",
       "       datetime.date(2021, 2, 15), datetime.date(2021, 2, 16),\n",
       "       datetime.date(2021, 2, 17), datetime.date(2021, 2, 18),\n",
       "       datetime.date(2021, 2, 19), datetime.date(2021, 2, 22),\n",
       "       datetime.date(2021, 2, 24), datetime.date(2021, 2, 25),\n",
       "       datetime.date(2021, 2, 26), datetime.date(2021, 3, 1),\n",
       "       datetime.date(2021, 3, 2), datetime.date(2021, 3, 3),\n",
       "       datetime.date(2021, 3, 4), datetime.date(2021, 3, 5),\n",
       "       datetime.date(2021, 3, 8), datetime.date(2021, 3, 9),\n",
       "       datetime.date(2021, 3, 10), datetime.date(2021, 3, 11),\n",
       "       datetime.date(2021, 3, 12), datetime.date(2021, 3, 15),\n",
       "       datetime.date(2021, 3, 16), datetime.date(2021, 3, 17)],\n",
       "      dtype=object)"
      ]
     },
     "execution_count": 19,
     "metadata": {},
     "output_type": "execute_result"
    }
   ],
   "source": [
    "workdays[:50]"
   ]
  },
  {
   "cell_type": "code",
   "execution_count": 20,
   "metadata": {
    "ExecuteTime": {
     "end_time": "2021-03-27T14:25:37.481240Z",
     "start_time": "2021-03-27T14:25:37.340742Z"
    }
   },
   "outputs": [
    {
     "name": "stdout",
     "output_type": "stream",
     "text": [
      "Timer unit: 1e-07 s\n",
      "\n",
      "Total time: 0.0302853 s\n",
      "File: <ipython-input-17-e1372a9d4670>\n",
      "Function: get_workdays_jp at line 1\n",
      "\n",
      "Line #      Hits         Time  Per Hit   % Time  Line Contents\n",
      "==============================================================\n",
      "     1                                           def get_workdays_jp(start_date, end_date, return_as=\"date\", end_include=False):\n",
      "     2                                               \"\"\"\n",
      "     3                                               営業日を取得\n",
      "     4                                               \n",
      "     5                                               start_date: datetime.date\n",
      "     6                                                   開始時刻のdate\n",
      "     7                                               end_datetime: datetime.date\n",
      "     8                                                   終了時刻のdate\n",
      "     9                                               return_as: str, defalt: 'dt'\n",
      "    10                                                   返り値の形式\n",
      "    11                                                   - 'dt':pd.DatetimeIndex\n",
      "    12                                                   - 'date': datetime.date array\n",
      "    13                                               end_include: bool\n",
      "    14                                                   最終日も含めて出力するか\n",
      "    15                                               \"\"\"\n",
      "    16         1        171.0    171.0      0.1      assert isinstance(start_date, datetime.date) and isinstance(end_date, datetime.date)\n",
      "    17                                               # 返り値の形式の指定\n",
      "    18         1        147.0    147.0      0.0      return_as_set = {\"dt\", \"date\"}\n",
      "    19         1         85.0     85.0      0.0      if not return_as in return_as_set:\n",
      "    20                                                   raise Exception(\"return_as must be any in {}\".format(return_as_set))\n",
      "    21                                               \n",
      "    22                                               # datetime.dateをpd.Timestampに変換(datetime.dateは通常pd.DatetimeIndexと比較できないため)\n",
      "    23         1        641.0    641.0      0.2      start_timestamp = pd.Timestamp(start_date)\n",
      "    24         1        275.0    275.0      0.1      end_timestamp = pd.Timestamp(end_date)\n",
      "    25                                               \n",
      "    26                                               # 期間中のholidayを取得\n",
      "    27         1      14508.0  14508.0      4.8      holidays_in_span_index = (start_timestamp<=option.holidays_datetimeindex)&(option.holidays_datetimeindex<end_timestamp)  # DatetimeIndexを使うことに注意\n",
      "    28         1        274.0    274.0      0.1      holidays_in_span_array = option.holidays_date_array[holidays_in_span_index]  # ndarrayを使う\n",
      "    29                                           \n",
      "    30                                               # 期間中のdatetimeのarrayを取得\n",
      "    31         1         72.0     72.0      0.0      if end_include:\n",
      "    32                                                   days_datetimeindex = pd.date_range(start=start_date, end=end_date, freq=\"D\")  # 最終日も含める\n",
      "    33                                               else:\n",
      "    34         1      43374.0  43374.0     14.3          days_datetimeindex = pd.date_range(start=start_date, end=end_date-datetime.timedelta(days=1), freq=\"D\")  # 最終日は含めない\n",
      "    35                                               \n",
      "    36                                               \n",
      "    37                                               # 休日に含まれないもの，さらに土日に含まれないもののboolインデックスを取得\n",
      "    38         1      79905.0  79905.0     26.4      holiday_bool_array = np.in1d(days_datetimeindex.date, holidays_in_span_array)  # 休日であるかのブール(pd.DatetimeIndex.isin)でもいい\n",
      "    39         1     129034.0 129034.0     42.6      holiday_weekday_each_bool_arrays = [days_datetimeindex.weekday==weekday for weekday in option.holiday_weekdays]  # inを使うのを回避\n",
      "    40         1       2925.0   2925.0      1.0      holiday_weekday_bool_array = np.logical_or.reduce(holiday_weekday_each_bool_arrays)  # 休日曜日\n",
      "    41                                               \n",
      "    42         1        609.0    609.0      0.2      workdays_bool_array = (~holiday_bool_array)&(~holiday_weekday_bool_array)  # 休日でなく休日曜日でない\n",
      "    43                                               \n",
      "    44         1      24794.0  24794.0      8.2      workdays_datetimeindex = days_datetimeindex[workdays_bool_array].copy()\n",
      "    45         1        107.0    107.0      0.0      if return_as==\"dt\":\n",
      "    46                                                   return workdays_datetimeindex\n",
      "    47         1         80.0     80.0      0.0      elif return_as==\"date\":\n",
      "    48         1       5852.0   5852.0      1.9          return workdays_datetimeindex.date\n",
      "\n"
     ]
    }
   ],
   "source": [
    "def temp_func():\n",
    "    workdays = get_workdays_jp(start_date, end_date, return_as=\"date\", end_include=False)\n",
    "\n",
    "from line_profiler import LineProfiler\n",
    "prf = LineProfiler()                                                                                         \n",
    "#prf.add_module()                                                                                          \n",
    "prf.add_function(get_workdays_jp)                                                                                      \n",
    "prf.runcall(temp_func)                                                                                          \n",
    "prf.print_stats()"
   ]
  },
  {
   "cell_type": "code",
   "execution_count": 21,
   "metadata": {
    "ExecuteTime": {
     "end_time": "2021-03-27T14:25:37.560203Z",
     "start_time": "2021-03-27T14:25:37.505262Z"
    }
   },
   "outputs": [],
   "source": [
    "days_datetimeindex = pd.date_range(start=start_date, end=end_date, freq=\"D\")"
   ]
  },
  {
   "cell_type": "markdown",
   "metadata": {},
   "source": [
    "ボトルネックは以下の部分である．"
   ]
  },
  {
   "cell_type": "code",
   "execution_count": 22,
   "metadata": {
    "ExecuteTime": {
     "end_time": "2021-03-27T14:25:40.865755Z",
     "start_time": "2021-03-27T14:25:37.575255Z"
    }
   },
   "outputs": [
    {
     "name": "stdout",
     "output_type": "stream",
     "text": [
      "3.92 ms ± 683 µs per loop (mean ± std. dev. of 7 runs, 100 loops each)\n"
     ]
    }
   ],
   "source": [
    "%%timeit \n",
    "[days_datetimeindex.weekday==weekday for weekday in option.holiday_weekdays]"
   ]
  },
  {
   "cell_type": "markdown",
   "metadata": {},
   "source": [
    "ここで，weekdayアトリビュートの取得にほぼすべての時間が費やされていることに注意すれば"
   ]
  },
  {
   "cell_type": "code",
   "execution_count": 23,
   "metadata": {
    "ExecuteTime": {
     "end_time": "2021-03-27T14:25:51.186515Z",
     "start_time": "2021-03-27T14:25:40.910627Z"
    }
   },
   "outputs": [
    {
     "name": "stdout",
     "output_type": "stream",
     "text": [
      "1.32 ms ± 307 µs per loop (mean ± std. dev. of 7 runs, 1000 loops each)\n"
     ]
    }
   ],
   "source": [
    "%%timeit\n",
    "weekday_array = days_datetimeindex.weekday.values\n",
    "[weekday_array==weekday for weekday in option.holiday_weekdays]"
   ]
  },
  {
   "cell_type": "markdown",
   "metadata": {},
   "source": [
    "これでholiday_weekdaysの個数に依存しなくなる．"
   ]
  },
  {
   "cell_type": "markdown",
   "metadata": {},
   "source": [
    "### 営業日であるかどうか "
   ]
  },
  {
   "cell_type": "code",
   "execution_count": 24,
   "metadata": {
    "ExecuteTime": {
     "end_time": "2021-03-27T14:25:51.326502Z",
     "start_time": "2021-03-27T14:25:51.215525Z"
    }
   },
   "outputs": [],
   "source": [
    "def check_workday_jp(select_date):\n",
    "    \"\"\"\n",
    "    与えられたdatetime.dateが営業日であるかどうかを出力する\n",
    "    select_date: datetime.date\n",
    "        入力するdate\n",
    "    \"\"\"\n",
    "    assert isinstance(select_date, datetime.date)\n",
    "    select_date_array = np.array([select_date])  # データ数が一つのndarray\n",
    "    # 休日であるかどうか\n",
    "    is_holiday = np.in1d(select_date_array, option.holidays_date_array).item()  # データ数が一つのため，item\n",
    "    \n",
    "    # 休日曜日であるかどうか\n",
    "    is_holiday_weekday = select_date.weekday() in option.holiday_weekdays\n",
    "    \n",
    "    is_workday = not any([is_holiday, is_holiday_weekday])\n",
    "    \n",
    "    return is_workday"
   ]
  },
  {
   "cell_type": "code",
   "execution_count": 25,
   "metadata": {
    "ExecuteTime": {
     "end_time": "2021-03-27T14:25:51.402927Z",
     "start_time": "2021-03-27T14:25:51.343537Z"
    }
   },
   "outputs": [
    {
     "data": {
      "text/plain": [
       "False"
      ]
     },
     "execution_count": 25,
     "metadata": {},
     "output_type": "execute_result"
    }
   ],
   "source": [
    "select_date = datetime.date(2021, 1, 3)\n",
    "check_workday_jp(select_date)"
   ]
  },
  {
   "cell_type": "code",
   "execution_count": 26,
   "metadata": {
    "ExecuteTime": {
     "end_time": "2021-03-27T14:25:51.634518Z",
     "start_time": "2021-03-27T14:25:51.422415Z"
    }
   },
   "outputs": [
    {
     "name": "stdout",
     "output_type": "stream",
     "text": [
      "Timer unit: 1e-07 s\n",
      "\n",
      "Total time: 0.007907 s\n",
      "File: <ipython-input-24-45ef695fe0ae>\n",
      "Function: check_workday_jp at line 1\n",
      "\n",
      "Line #      Hits         Time  Per Hit   % Time  Line Contents\n",
      "==============================================================\n",
      "     1                                           def check_workday_jp(select_date):\n",
      "     2                                               \"\"\"\n",
      "     3                                               与えられたdatetime.dateが営業日であるかどうかを出力する\n",
      "     4                                               select_date: datetime.date\n",
      "     5                                                   入力するdate\n",
      "     6                                               \"\"\"\n",
      "     7         1        113.0    113.0      0.1      assert isinstance(select_date, datetime.date)\n",
      "     8         1        848.0    848.0      1.1      select_date_array = np.array([select_date])  # データ数が一つのndarray\n",
      "     9                                               # 休日であるかどうか\n",
      "    10         1      77518.0  77518.0     98.0      is_holiday = np.in1d(select_date_array, option.holidays_date_array).item()  # データ数が一つのため，item\n",
      "    11                                               \n",
      "    12                                               # 休日曜日であるかどうか\n",
      "    13         1        376.0    376.0      0.5      is_holiday_weekday = select_date.weekday() in option.holiday_weekdays\n",
      "    14                                               \n",
      "    15         1        133.0    133.0      0.2      is_workday = not any([is_holiday, is_holiday_weekday])\n",
      "    16                                               \n",
      "    17         1         82.0     82.0      0.1      return is_workday\n",
      "\n"
     ]
    }
   ],
   "source": [
    "def temp_func():\n",
    "    check_workday_jp(select_date)\n",
    "    \n",
    "from line_profiler import LineProfiler\n",
    "prf = LineProfiler()                                                                                         \n",
    "#prf.add_module()                                                                                          \n",
    "prf.add_function(check_workday_jp)                                                                                      \n",
    "prf.runcall(temp_func)                                                                                          \n",
    "prf.print_stats()"
   ]
  },
  {
   "cell_type": "markdown",
   "metadata": {},
   "source": [
    "np.in1dの速度とコンストラクタの速度の問題がある．"
   ]
  },
  {
   "cell_type": "code",
   "execution_count": 27,
   "metadata": {
    "ExecuteTime": {
     "end_time": "2021-03-27T14:25:53.629465Z",
     "start_time": "2021-03-27T14:25:51.649464Z"
    }
   },
   "outputs": [
    {
     "name": "stdout",
     "output_type": "stream",
     "text": [
      "23.3 ms ± 5.19 ms per loop (mean ± std. dev. of 7 runs, 10 loops each)\n"
     ]
    }
   ],
   "source": [
    "%%timeit\n",
    "select_date = datetime.date(2021, 1, 3)\n",
    "select_date_array = select_date_array = np.array([select_date])\n",
    "np.in1d(select_date_array, option.holidays_date_array).item()  # データ数が一つのため，item"
   ]
  },
  {
   "cell_type": "markdown",
   "metadata": {},
   "source": [
    "この問題では探すのが1つであるので，以下のようにdatetime.dateの比較演算子を利用できる．"
   ]
  },
  {
   "cell_type": "code",
   "execution_count": 28,
   "metadata": {
    "ExecuteTime": {
     "end_time": "2021-03-27T14:25:56.458435Z",
     "start_time": "2021-03-27T14:25:53.647415Z"
    }
   },
   "outputs": [
    {
     "name": "stdout",
     "output_type": "stream",
     "text": [
      "250 µs ± 70.4 µs per loop (mean ± std. dev. of 7 runs, 1000 loops each)\n"
     ]
    }
   ],
   "source": [
    "%%timeit \n",
    "select_date = datetime.date(2021, 1, 3)\n",
    "(option.holidays_date_array == select_date).sum() > 0"
   ]
  },
  {
   "cell_type": "markdown",
   "metadata": {},
   "source": [
    "### 非営業日を取得"
   ]
  },
  {
   "cell_type": "markdown",
   "metadata": {},
   "source": [
    "同様に，すでに取得したholidayと照らし合わせる．"
   ]
  },
  {
   "cell_type": "code",
   "execution_count": 29,
   "metadata": {
    "ExecuteTime": {
     "end_time": "2021-03-27T14:25:56.786470Z",
     "start_time": "2021-03-27T14:25:56.495426Z"
    }
   },
   "outputs": [],
   "source": [
    "def get_not_workdays_jp(start_date, end_date, return_as=\"date\", end_include=False):\n",
    "    \"\"\"\n",
    "    非営業日を取得(土日or祝日)\n",
    "    \n",
    "    start_date: datetime.date\n",
    "        開始時刻のdate\n",
    "    end_datetime: datetime.date\n",
    "        終了時刻のdate\n",
    "    return_as: str, defalt: 'dt'\n",
    "        返り値の形式\n",
    "        - 'dt':pd.DatetimeIndex\n",
    "        - 'date': datetime.date array\n",
    "    end_include: bool\n",
    "        最終日も含めて出力するか\n",
    "    \"\"\"\n",
    "    assert isinstance(start_date, datetime.date) and isinstance(end_date, datetime.date)\n",
    "    # 返り値の形式の指定\n",
    "    return_as_set = {\"dt\", \"date\"}\n",
    "    if not return_as in return_as_set:\n",
    "        raise Exception(\"return_as must be any in {}\".format(return_as_set))\n",
    "    \n",
    "    # datetime.dateをpd.Timestampに変換(datetime.dateは通常pd.DatetimeIndexと比較できないため)\n",
    "    start_timestamp = pd.Timestamp(start_date)\n",
    "    end_timestamp = pd.Timestamp(end_date)\n",
    "    \n",
    "    # 期間中のholidayを取得\n",
    "    holidays_in_span_index = (start_timestamp<=option.holidays_datetimeindex)&(option.holidays_datetimeindex<end_timestamp)  # DatetimeIndexを使うことに注意\n",
    "    holidays_in_span_array = option.holidays_date_array[holidays_in_span_index]  # ndarrayを使う\n",
    "\n",
    "    # 期間中のdatetimeのarrayを取得\n",
    "    if end_include:\n",
    "        days_datetimeindex = pd.date_range(start=start_date, end=end_date, freq=\"D\")  # 最終日も含める\n",
    "    else:\n",
    "        days_datetimeindex = pd.date_range(start=start_date, end=end_date-datetime.timedelta(days=1), freq=\"D\")  # 最終日は含めない\n",
    "    \n",
    "    # 休日に含まれないもの，さらに休日曜日に含まれないもののboolインデックスを取得\n",
    "    holiday_bool_array = np.in1d(days_datetimeindex.date, holidays_in_span_array)  # 休日であるかのブール(pd.DatetimeIndex.isin)でもいい\n",
    "    holiday_weekday_each_bool_arrays = [days_datetimeindex.weekday==weekday for weekday in option.holiday_weekdays]  # inを使うのを回避\n",
    "    holiday_weekday_bool_array = np.logical_or.reduce(holiday_weekday_each_bool_arrays)  # 休日曜日\n",
    "    \n",
    "    not_workdays_bool_array = holiday_bool_array | holiday_weekday_bool_array  # 休日あるいは休日曜日\n",
    "    \n",
    "    not_workdays_datetimeindex = days_datetimeindex[not_workdays_bool_array].copy()\n",
    "    if return_as==\"dt\":\n",
    "        return not_workdays_datetimeindex\n",
    "    elif return_as==\"date\":\n",
    "        return not_workdays_datetimeindex.date"
   ]
  },
  {
   "cell_type": "code",
   "execution_count": 30,
   "metadata": {
    "ExecuteTime": {
     "end_time": "2021-03-27T14:25:56.861967Z",
     "start_time": "2021-03-27T14:25:56.800433Z"
    }
   },
   "outputs": [],
   "source": [
    "start_datetime = datetime.date(2019, 1, 1)\n",
    "end_datetime = datetime.date(2019, 12, 31)\n",
    "\n",
    "not_workdays = get_not_workdays_jp(start_date, end_date, return_as=\"dt\")"
   ]
  },
  {
   "cell_type": "code",
   "execution_count": 31,
   "metadata": {
    "ExecuteTime": {
     "end_time": "2021-03-27T14:25:56.939759Z",
     "start_time": "2021-03-27T14:25:56.878922Z"
    }
   },
   "outputs": [
    {
     "data": {
      "text/plain": [
       "DatetimeIndex(['2021-01-01', '2021-01-02', '2021-01-03', '2021-01-09',\n",
       "               '2021-01-10', '2021-01-11', '2021-01-16', '2021-01-17',\n",
       "               '2021-01-23', '2021-01-24',\n",
       "               ...\n",
       "               '2021-11-27', '2021-11-28', '2021-12-04', '2021-12-05',\n",
       "               '2021-12-11', '2021-12-12', '2021-12-18', '2021-12-19',\n",
       "               '2021-12-25', '2021-12-26'],\n",
       "              dtype='datetime64[ns]', length=119, freq=None)"
      ]
     },
     "execution_count": 31,
     "metadata": {},
     "output_type": "execute_result"
    }
   ],
   "source": [
    "not_workdays"
   ]
  },
  {
   "cell_type": "markdown",
   "metadata": {},
   "source": [
    "プロファイリングは省略"
   ]
  },
  {
   "cell_type": "markdown",
   "metadata": {},
   "source": [
    "## 指定した日数後の営業日を取得"
   ]
  },
  {
   "cell_type": "code",
   "execution_count": 32,
   "metadata": {
    "ExecuteTime": {
     "end_time": "2021-03-27T14:25:57.051472Z",
     "start_time": "2021-03-27T14:25:56.957712Z"
    }
   },
   "outputs": [],
   "source": [
    "def get_next_workday_jp(select_date, days=1, select_include=False, return_as=\"date\"):\n",
    "    \"\"\"\n",
    "    指定した日数後の営業日を取得\n",
    "    select_date: datetime.date\n",
    "        指定する日時\n",
    "    days: int\n",
    "        日数\n",
    "    return_as: str, defalt: 'dt'\n",
    "        返り値の形式\n",
    "        - 'dt':pd.Timstamp\n",
    "        - 'datetime': datetime.datetime array\n",
    "    \"\"\"\n",
    "    assert isinstance(select_date, datetime.date)\n",
    "    # 返り値の形式の指定\n",
    "    return_as_set = {\"dt\", \"date\"}\n",
    "    if not return_as in return_as_set:\n",
    "        raise Exception(\"return_as must be any in {}\".format(return_as_set))\n",
    "        \n",
    "\n",
    "    def get_next_workday_jp_gen(select_date):\n",
    "        add_days = 1  # 追加日数の初期値\n",
    "        while True:\n",
    "            next_day = select_date + datetime.timedelta(days=add_days)\n",
    "            if check_workday_jp(next_day):\n",
    "                yield next_day\n",
    "            add_days += 1  # 追加日数をさらに追加\n",
    "    \n",
    "    next_workday_gen = get_next_workday_jp_gen(select_date)\n",
    "    \n",
    "    for i in range(days):\n",
    "        next_day = next(next_workday_gen)\n",
    "    \n",
    "    if return_as==\"date\":\n",
    "        return next_day\n",
    "    elif return_as==\"dt\":\n",
    "        return pd.Timestamp(next_day)"
   ]
  },
  {
   "cell_type": "code",
   "execution_count": 33,
   "metadata": {
    "ExecuteTime": {
     "end_time": "2021-03-27T14:25:57.303456Z",
     "start_time": "2021-03-27T14:25:57.064424Z"
    }
   },
   "outputs": [
    {
     "data": {
      "text/plain": [
       "datetime.date(2021, 1, 18)"
      ]
     },
     "execution_count": 33,
     "metadata": {},
     "output_type": "execute_result"
    }
   ],
   "source": [
    "select_date = datetime.date(2021, 1, 1)\n",
    "next_workday = get_next_workday_jp(select_date, days=10, return_as=\"date\")\n",
    "next_workday"
   ]
  },
  {
   "cell_type": "code",
   "execution_count": 34,
   "metadata": {
    "ExecuteTime": {
     "end_time": "2021-03-27T14:25:58.687316Z",
     "start_time": "2021-03-27T14:25:57.323402Z"
    }
   },
   "outputs": [
    {
     "name": "stdout",
     "output_type": "stream",
     "text": [
      "Timer unit: 1e-07 s\n",
      "\n",
      "Total time: 1.17492 s\n",
      "File: <ipython-input-32-b69df8e77b24>\n",
      "Function: get_next_workday_jp at line 1\n",
      "\n",
      "Line #      Hits         Time  Per Hit   % Time  Line Contents\n",
      "==============================================================\n",
      "     1                                           def get_next_workday_jp(select_date, days=1, select_include=False, return_as=\"date\"):\n",
      "     2                                               \"\"\"\n",
      "     3                                               指定した日数後の営業日を取得\n",
      "     4                                               select_date: datetime.date\n",
      "     5                                                   指定する日時\n",
      "     6                                               days: int\n",
      "     7                                                   日数\n",
      "     8                                               return_as: str, defalt: 'dt'\n",
      "     9                                                   返り値の形式\n",
      "    10                                                   - 'dt':pd.Timstamp\n",
      "    11                                                   - 'datetime': datetime.datetime array\n",
      "    12                                               \"\"\"\n",
      "    13         1        140.0    140.0      0.0      assert isinstance(select_date, datetime.date)\n",
      "    14                                               # 返り値の形式の指定\n",
      "    15         1         79.0     79.0      0.0      return_as_set = {\"dt\", \"date\"}\n",
      "    16         1         64.0     64.0      0.0      if not return_as in return_as_set:\n",
      "    17                                                   raise Exception(\"return_as must be any in {}\".format(return_as_set))\n",
      "    18                                                   \n",
      "    19                                           \n",
      "    20         1         65.0     65.0      0.0      def get_next_workday_jp_gen(select_date):\n",
      "    21                                                   add_days = 1  # 追加日数の初期値\n",
      "    22                                                   while True:\n",
      "    23                                                       next_day = select_date + datetime.timedelta(days=add_days)\n",
      "    24                                                       if check_workday_jp(next_day):\n",
      "    25                                                           yield next_day\n",
      "    26                                                       add_days += 1  # 追加日数をさらに追加\n",
      "    27                                               \n",
      "    28         1         67.0     67.0      0.0      next_workday_gen = get_next_workday_jp_gen(select_date)\n",
      "    29                                               \n",
      "    30        44       5816.0    132.2      0.0      for i in range(days):\n",
      "    31        43   11742881.0 273090.3     99.9          next_day = next(next_workday_gen)\n",
      "    32                                               \n",
      "    33         1         65.0     65.0      0.0      if return_as==\"date\":\n",
      "    34         1         59.0     59.0      0.0          return next_day\n",
      "    35                                               elif return_as==\"dt\":\n",
      "    36                                                   return pd.Timestamp(next_day)\n",
      "\n"
     ]
    }
   ],
   "source": [
    "def temp_func():\n",
    "    select_date = datetime.date(2021, 1, 1)\n",
    "    next_workday = get_next_workday_jp(select_date, days=43, return_as=\"date\")\n",
    "    \n",
    "from line_profiler import LineProfiler\n",
    "prf = LineProfiler()                                                                                         \n",
    "#prf.add_module()                                                                                          \n",
    "prf.add_function(get_next_workday_jp)                                                                                      \n",
    "prf.runcall(temp_func)                                                                                          \n",
    "prf.print_stats()"
   ]
  },
  {
   "cell_type": "markdown",
   "metadata": {
    "ExecuteTime": {
     "end_time": "2021-03-26T16:01:59.370652Z",
     "start_time": "2021-03-26T16:01:59.219055Z"
    }
   },
   "source": [
    "ボトルネックは明らかであり，毎回get_next_workday_jpで判定していることである．結局のところ，普通の日にちのイテレーターと休日イテレーターを回しながら一つづつ判定するのが効果的と思われる．"
   ]
  },
  {
   "cell_type": "code",
   "execution_count": 35,
   "metadata": {
    "ExecuteTime": {
     "end_time": "2021-03-27T14:25:58.839390Z",
     "start_time": "2021-03-27T14:25:58.704660Z"
    }
   },
   "outputs": [],
   "source": [
    "select_date = datetime.date(2021, 1, 1)\n",
    "select_days = 10\n",
    "\n",
    "counter = 0\n",
    "holiday_weekdays_set = set(option.holiday_weekdays)  #setにした方が高速？\n",
    "\n",
    "holiday_bigger_select_index = (option.holidays_date_array<=select_date).sum()\n",
    "holiday_iter = iter(option.holidays_date_array[holiday_bigger_select_index:])\n",
    "def days_gen(select_date):\n",
    "    add_days = 1  # select_dateを含まない\n",
    "    while True:\n",
    "        yield select_date + datetime.timedelta(days=add_days)\n",
    "        add_days += 1\n",
    "days_iter = days_gen(select_date)\n",
    "\n",
    "# 以下二つのイテレーターを比較し，one_dayが休日に含まれる場合，カウントしカウントが指定に達した場合終了する\n",
    "one_day = next(days_iter)\n",
    "\n",
    "one_holiday = next(holiday_iter)\n",
    "\n",
    "while True:\n",
    "    if one_day==one_holiday:  #その日が祝日である\n",
    "        one_holiday = next(holiday_iter)\n",
    "    else:\n",
    "        if not one_day.weekday() in holiday_weekdays_set:  #その日が休日曜日である\n",
    "            #print(one_day)\n",
    "            counter += 1  # カウンターをインクリメント\n",
    "    \n",
    "    if counter >= select_days:\n",
    "        break\n",
    "    \n",
    "    one_day = next(days_iter)"
   ]
  },
  {
   "cell_type": "code",
   "execution_count": 36,
   "metadata": {
    "ExecuteTime": {
     "end_time": "2021-03-27T14:25:58.949537Z",
     "start_time": "2021-03-27T14:25:58.853442Z"
    }
   },
   "outputs": [
    {
     "data": {
      "text/plain": [
       "datetime.date(2021, 1, 18)"
      ]
     },
     "execution_count": 36,
     "metadata": {},
     "output_type": "execute_result"
    }
   ],
   "source": [
    "one_day"
   ]
  },
  {
   "cell_type": "code",
   "execution_count": 37,
   "metadata": {
    "ExecuteTime": {
     "end_time": "2021-03-27T14:25:59.013468Z",
     "start_time": "2021-03-27T14:25:58.960506Z"
    }
   },
   "outputs": [
    {
     "data": {
      "text/plain": [
       "True"
      ]
     },
     "execution_count": 37,
     "metadata": {},
     "output_type": "execute_result"
    }
   ],
   "source": [
    "datetime.date(2021,1,1) == datetime.date(2021,1,1)"
   ]
  },
  {
   "cell_type": "markdown",
   "metadata": {},
   "source": [
    "## 指定した日数分の営業日を取得"
   ]
  },
  {
   "cell_type": "code",
   "execution_count": 38,
   "metadata": {
    "ExecuteTime": {
     "end_time": "2021-03-27T14:25:59.120609Z",
     "start_time": "2021-03-27T14:25:59.088442Z"
    }
   },
   "outputs": [],
   "source": [
    "def get_workdays_number_jp(start_date, days, return_as=\"date\"):\n",
    "    \"\"\"\n",
    "    指定した日数分の営業日を取得\n",
    "    start_date: datetime.date\n",
    "        開始日時\n",
    "    days: int\n",
    "        日数\n",
    "    return_as: str, defalt: 'dt'\n",
    "        返り値の形式\n",
    "        - 'dt':pd.Timstamp\n",
    "        - 'datetime': datetime.datetime array\n",
    "    \"\"\"\n",
    "    end_date = get_next_workday_jp(start_date, days=days, return_as=\"date\")\n",
    "    return get_workdays_jp(start_date, end_date, end_include=True, return_as=return_as)"
   ]
  },
  {
   "cell_type": "code",
   "execution_count": 39,
   "metadata": {
    "ExecuteTime": {
     "end_time": "2021-03-27T14:25:59.711549Z",
     "start_time": "2021-03-27T14:25:59.173467Z"
    }
   },
   "outputs": [
    {
     "data": {
      "text/plain": [
       "array([datetime.date(2021, 1, 4), datetime.date(2021, 1, 5),\n",
       "       datetime.date(2021, 1, 6), datetime.date(2021, 1, 7),\n",
       "       datetime.date(2021, 1, 8), datetime.date(2021, 1, 12),\n",
       "       datetime.date(2021, 1, 13), datetime.date(2021, 1, 14),\n",
       "       datetime.date(2021, 1, 15), datetime.date(2021, 1, 18)],\n",
       "      dtype=object)"
      ]
     },
     "execution_count": 39,
     "metadata": {},
     "output_type": "execute_result"
    }
   ],
   "source": [
    "start__date = datetime.date(2021, 1, 1)\n",
    "workdays = get_workdays_number_jp(select_date, days=10, return_as=\"date\")\n",
    "workdays"
   ]
  },
  {
   "cell_type": "markdown",
   "metadata": {},
   "source": [
    "## データフレームに関しての処理"
   ]
  },
  {
   "cell_type": "markdown",
   "metadata": {},
   "source": [
    "### データの用意 "
   ]
  },
  {
   "cell_type": "markdown",
   "metadata": {},
   "source": [
    "awareなdatetimeを持つDataFrame"
   ]
  },
  {
   "cell_type": "code",
   "execution_count": 40,
   "metadata": {
    "ExecuteTime": {
     "end_time": "2021-03-27T14:26:04.700764Z",
     "start_time": "2021-03-27T14:25:59.765681Z"
    }
   },
   "outputs": [
    {
     "data": {
      "text/html": [
       "<div>\n",
       "<style scoped>\n",
       "    .dataframe tbody tr th:only-of-type {\n",
       "        vertical-align: middle;\n",
       "    }\n",
       "\n",
       "    .dataframe tbody tr th {\n",
       "        vertical-align: top;\n",
       "    }\n",
       "\n",
       "    .dataframe thead th {\n",
       "        text-align: right;\n",
       "    }\n",
       "</style>\n",
       "<table border=\"1\" class=\"dataframe\">\n",
       "  <thead>\n",
       "    <tr style=\"text-align: right;\">\n",
       "      <th></th>\n",
       "      <th>Open_6502</th>\n",
       "      <th>High_6502</th>\n",
       "      <th>Low_6502</th>\n",
       "      <th>Close_6502</th>\n",
       "      <th>Volume_6502</th>\n",
       "    </tr>\n",
       "    <tr>\n",
       "      <th>timestamp</th>\n",
       "      <th></th>\n",
       "      <th></th>\n",
       "      <th></th>\n",
       "      <th></th>\n",
       "      <th></th>\n",
       "    </tr>\n",
       "  </thead>\n",
       "  <tbody>\n",
       "    <tr>\n",
       "      <th>2020-11-04 00:00:00+09:00</th>\n",
       "      <td>NaN</td>\n",
       "      <td>NaN</td>\n",
       "      <td>NaN</td>\n",
       "      <td>NaN</td>\n",
       "      <td>NaN</td>\n",
       "    </tr>\n",
       "    <tr>\n",
       "      <th>2020-11-04 00:01:00+09:00</th>\n",
       "      <td>NaN</td>\n",
       "      <td>NaN</td>\n",
       "      <td>NaN</td>\n",
       "      <td>NaN</td>\n",
       "      <td>NaN</td>\n",
       "    </tr>\n",
       "    <tr>\n",
       "      <th>2020-11-04 00:02:00+09:00</th>\n",
       "      <td>NaN</td>\n",
       "      <td>NaN</td>\n",
       "      <td>NaN</td>\n",
       "      <td>NaN</td>\n",
       "      <td>NaN</td>\n",
       "    </tr>\n",
       "    <tr>\n",
       "      <th>2020-11-04 00:03:00+09:00</th>\n",
       "      <td>NaN</td>\n",
       "      <td>NaN</td>\n",
       "      <td>NaN</td>\n",
       "      <td>NaN</td>\n",
       "      <td>NaN</td>\n",
       "    </tr>\n",
       "    <tr>\n",
       "      <th>2020-11-04 00:04:00+09:00</th>\n",
       "      <td>NaN</td>\n",
       "      <td>NaN</td>\n",
       "      <td>NaN</td>\n",
       "      <td>NaN</td>\n",
       "      <td>NaN</td>\n",
       "    </tr>\n",
       "    <tr>\n",
       "      <th>...</th>\n",
       "      <td>...</td>\n",
       "      <td>...</td>\n",
       "      <td>...</td>\n",
       "      <td>...</td>\n",
       "      <td>...</td>\n",
       "    </tr>\n",
       "    <tr>\n",
       "      <th>2020-11-30 23:55:00+09:00</th>\n",
       "      <td>NaN</td>\n",
       "      <td>NaN</td>\n",
       "      <td>NaN</td>\n",
       "      <td>NaN</td>\n",
       "      <td>NaN</td>\n",
       "    </tr>\n",
       "    <tr>\n",
       "      <th>2020-11-30 23:56:00+09:00</th>\n",
       "      <td>NaN</td>\n",
       "      <td>NaN</td>\n",
       "      <td>NaN</td>\n",
       "      <td>NaN</td>\n",
       "      <td>NaN</td>\n",
       "    </tr>\n",
       "    <tr>\n",
       "      <th>2020-11-30 23:57:00+09:00</th>\n",
       "      <td>NaN</td>\n",
       "      <td>NaN</td>\n",
       "      <td>NaN</td>\n",
       "      <td>NaN</td>\n",
       "      <td>NaN</td>\n",
       "    </tr>\n",
       "    <tr>\n",
       "      <th>2020-11-30 23:58:00+09:00</th>\n",
       "      <td>NaN</td>\n",
       "      <td>NaN</td>\n",
       "      <td>NaN</td>\n",
       "      <td>NaN</td>\n",
       "      <td>NaN</td>\n",
       "    </tr>\n",
       "    <tr>\n",
       "      <th>2020-11-30 23:59:00+09:00</th>\n",
       "      <td>NaN</td>\n",
       "      <td>NaN</td>\n",
       "      <td>NaN</td>\n",
       "      <td>NaN</td>\n",
       "      <td>NaN</td>\n",
       "    </tr>\n",
       "  </tbody>\n",
       "</table>\n",
       "<p>38880 rows × 5 columns</p>\n",
       "</div>"
      ],
      "text/plain": [
       "                           Open_6502  High_6502  Low_6502  Close_6502  \\\n",
       "timestamp                                                               \n",
       "2020-11-04 00:00:00+09:00        NaN        NaN       NaN         NaN   \n",
       "2020-11-04 00:01:00+09:00        NaN        NaN       NaN         NaN   \n",
       "2020-11-04 00:02:00+09:00        NaN        NaN       NaN         NaN   \n",
       "2020-11-04 00:03:00+09:00        NaN        NaN       NaN         NaN   \n",
       "2020-11-04 00:04:00+09:00        NaN        NaN       NaN         NaN   \n",
       "...                              ...        ...       ...         ...   \n",
       "2020-11-30 23:55:00+09:00        NaN        NaN       NaN         NaN   \n",
       "2020-11-30 23:56:00+09:00        NaN        NaN       NaN         NaN   \n",
       "2020-11-30 23:57:00+09:00        NaN        NaN       NaN         NaN   \n",
       "2020-11-30 23:58:00+09:00        NaN        NaN       NaN         NaN   \n",
       "2020-11-30 23:59:00+09:00        NaN        NaN       NaN         NaN   \n",
       "\n",
       "                           Volume_6502  \n",
       "timestamp                               \n",
       "2020-11-04 00:00:00+09:00          NaN  \n",
       "2020-11-04 00:01:00+09:00          NaN  \n",
       "2020-11-04 00:02:00+09:00          NaN  \n",
       "2020-11-04 00:03:00+09:00          NaN  \n",
       "2020-11-04 00:04:00+09:00          NaN  \n",
       "...                                ...  \n",
       "2020-11-30 23:55:00+09:00          NaN  \n",
       "2020-11-30 23:56:00+09:00          NaN  \n",
       "2020-11-30 23:57:00+09:00          NaN  \n",
       "2020-11-30 23:58:00+09:00          NaN  \n",
       "2020-11-30 23:59:00+09:00          NaN  \n",
       "\n",
       "[38880 rows x 5 columns]"
      ]
     },
     "execution_count": 40,
     "metadata": {},
     "output_type": "execute_result"
    }
   ],
   "source": [
    "with open(\"aware_stock_df.pickle\", \"rb\") as f:\n",
    "    aware_stock_df = pickle.load(f)\n",
    "\n",
    "aware_stock_df"
   ]
  },
  {
   "cell_type": "markdown",
   "metadata": {},
   "source": [
    "naiveなdatetimeを持つDataFrame"
   ]
  },
  {
   "cell_type": "code",
   "execution_count": 41,
   "metadata": {
    "ExecuteTime": {
     "end_time": "2021-03-27T14:26:05.058505Z",
     "start_time": "2021-03-27T14:26:04.728710Z"
    }
   },
   "outputs": [
    {
     "data": {
      "text/html": [
       "<div>\n",
       "<style scoped>\n",
       "    .dataframe tbody tr th:only-of-type {\n",
       "        vertical-align: middle;\n",
       "    }\n",
       "\n",
       "    .dataframe tbody tr th {\n",
       "        vertical-align: top;\n",
       "    }\n",
       "\n",
       "    .dataframe thead th {\n",
       "        text-align: right;\n",
       "    }\n",
       "</style>\n",
       "<table border=\"1\" class=\"dataframe\">\n",
       "  <thead>\n",
       "    <tr style=\"text-align: right;\">\n",
       "      <th></th>\n",
       "      <th>Open_6502</th>\n",
       "      <th>High_6502</th>\n",
       "      <th>Low_6502</th>\n",
       "      <th>Close_6502</th>\n",
       "      <th>Volume_6502</th>\n",
       "    </tr>\n",
       "    <tr>\n",
       "      <th>timestamp</th>\n",
       "      <th></th>\n",
       "      <th></th>\n",
       "      <th></th>\n",
       "      <th></th>\n",
       "      <th></th>\n",
       "    </tr>\n",
       "  </thead>\n",
       "  <tbody>\n",
       "    <tr>\n",
       "      <th>2020-11-04 09:00:00</th>\n",
       "      <td>2669.0</td>\n",
       "      <td>2670.0</td>\n",
       "      <td>2658.0</td>\n",
       "      <td>2664.0</td>\n",
       "      <td>93000.0</td>\n",
       "    </tr>\n",
       "    <tr>\n",
       "      <th>2020-11-05 09:00:00</th>\n",
       "      <td>2631.0</td>\n",
       "      <td>2641.0</td>\n",
       "      <td>2630.0</td>\n",
       "      <td>2639.0</td>\n",
       "      <td>55000.0</td>\n",
       "    </tr>\n",
       "    <tr>\n",
       "      <th>2020-11-06 09:00:00</th>\n",
       "      <td>2615.0</td>\n",
       "      <td>2644.0</td>\n",
       "      <td>2609.0</td>\n",
       "      <td>2617.0</td>\n",
       "      <td>90700.0</td>\n",
       "    </tr>\n",
       "    <tr>\n",
       "      <th>2020-11-07 09:00:00</th>\n",
       "      <td>NaN</td>\n",
       "      <td>NaN</td>\n",
       "      <td>NaN</td>\n",
       "      <td>NaN</td>\n",
       "      <td>NaN</td>\n",
       "    </tr>\n",
       "    <tr>\n",
       "      <th>2020-11-08 09:00:00</th>\n",
       "      <td>NaN</td>\n",
       "      <td>NaN</td>\n",
       "      <td>NaN</td>\n",
       "      <td>NaN</td>\n",
       "      <td>NaN</td>\n",
       "    </tr>\n",
       "    <tr>\n",
       "      <th>2020-11-09 09:00:00</th>\n",
       "      <td>2711.0</td>\n",
       "      <td>2719.0</td>\n",
       "      <td>2707.0</td>\n",
       "      <td>2710.0</td>\n",
       "      <td>0.0</td>\n",
       "    </tr>\n",
       "    <tr>\n",
       "      <th>2020-11-10 09:00:00</th>\n",
       "      <td>2780.0</td>\n",
       "      <td>2782.0</td>\n",
       "      <td>2770.0</td>\n",
       "      <td>2777.0</td>\n",
       "      <td>142700.0</td>\n",
       "    </tr>\n",
       "    <tr>\n",
       "      <th>2020-11-11 09:00:00</th>\n",
       "      <td>NaN</td>\n",
       "      <td>NaN</td>\n",
       "      <td>NaN</td>\n",
       "      <td>NaN</td>\n",
       "      <td>NaN</td>\n",
       "    </tr>\n",
       "    <tr>\n",
       "      <th>2020-11-12 09:00:00</th>\n",
       "      <td>2788.0</td>\n",
       "      <td>2800.0</td>\n",
       "      <td>2781.0</td>\n",
       "      <td>2789.0</td>\n",
       "      <td>108400.0</td>\n",
       "    </tr>\n",
       "    <tr>\n",
       "      <th>2020-11-13 09:00:00</th>\n",
       "      <td>2750.0</td>\n",
       "      <td>2754.0</td>\n",
       "      <td>2741.0</td>\n",
       "      <td>2750.0</td>\n",
       "      <td>71500.0</td>\n",
       "    </tr>\n",
       "    <tr>\n",
       "      <th>2020-11-14 09:00:00</th>\n",
       "      <td>NaN</td>\n",
       "      <td>NaN</td>\n",
       "      <td>NaN</td>\n",
       "      <td>NaN</td>\n",
       "      <td>NaN</td>\n",
       "    </tr>\n",
       "    <tr>\n",
       "      <th>2020-11-15 09:00:00</th>\n",
       "      <td>NaN</td>\n",
       "      <td>NaN</td>\n",
       "      <td>NaN</td>\n",
       "      <td>NaN</td>\n",
       "      <td>NaN</td>\n",
       "    </tr>\n",
       "    <tr>\n",
       "      <th>2020-11-16 09:00:00</th>\n",
       "      <td>2714.0</td>\n",
       "      <td>2716.0</td>\n",
       "      <td>2705.0</td>\n",
       "      <td>2710.0</td>\n",
       "      <td>111000.0</td>\n",
       "    </tr>\n",
       "    <tr>\n",
       "      <th>2020-11-17 09:00:00</th>\n",
       "      <td>2748.0</td>\n",
       "      <td>2748.0</td>\n",
       "      <td>2729.0</td>\n",
       "      <td>2734.0</td>\n",
       "      <td>124400.0</td>\n",
       "    </tr>\n",
       "    <tr>\n",
       "      <th>2020-11-18 09:00:00</th>\n",
       "      <td>2819.0</td>\n",
       "      <td>2823.0</td>\n",
       "      <td>2814.0</td>\n",
       "      <td>2820.0</td>\n",
       "      <td>76000.0</td>\n",
       "    </tr>\n",
       "    <tr>\n",
       "      <th>2020-11-19 09:00:00</th>\n",
       "      <td>2858.0</td>\n",
       "      <td>2867.0</td>\n",
       "      <td>2858.0</td>\n",
       "      <td>2860.0</td>\n",
       "      <td>107000.0</td>\n",
       "    </tr>\n",
       "    <tr>\n",
       "      <th>2020-11-20 09:00:00</th>\n",
       "      <td>2875.0</td>\n",
       "      <td>2887.0</td>\n",
       "      <td>2873.0</td>\n",
       "      <td>2884.0</td>\n",
       "      <td>106000.0</td>\n",
       "    </tr>\n",
       "    <tr>\n",
       "      <th>2020-11-21 09:00:00</th>\n",
       "      <td>NaN</td>\n",
       "      <td>NaN</td>\n",
       "      <td>NaN</td>\n",
       "      <td>NaN</td>\n",
       "      <td>NaN</td>\n",
       "    </tr>\n",
       "    <tr>\n",
       "      <th>2020-11-22 09:00:00</th>\n",
       "      <td>NaN</td>\n",
       "      <td>NaN</td>\n",
       "      <td>NaN</td>\n",
       "      <td>NaN</td>\n",
       "      <td>NaN</td>\n",
       "    </tr>\n",
       "    <tr>\n",
       "      <th>2020-11-23 09:00:00</th>\n",
       "      <td>NaN</td>\n",
       "      <td>NaN</td>\n",
       "      <td>NaN</td>\n",
       "      <td>NaN</td>\n",
       "      <td>NaN</td>\n",
       "    </tr>\n",
       "    <tr>\n",
       "      <th>2020-11-24 09:00:00</th>\n",
       "      <td>2957.0</td>\n",
       "      <td>2967.0</td>\n",
       "      <td>2952.0</td>\n",
       "      <td>2966.0</td>\n",
       "      <td>0.0</td>\n",
       "    </tr>\n",
       "    <tr>\n",
       "      <th>2020-11-25 09:00:00</th>\n",
       "      <td>2927.0</td>\n",
       "      <td>2934.0</td>\n",
       "      <td>2926.0</td>\n",
       "      <td>2933.0</td>\n",
       "      <td>74000.0</td>\n",
       "    </tr>\n",
       "    <tr>\n",
       "      <th>2020-11-26 09:00:00</th>\n",
       "      <td>2822.0</td>\n",
       "      <td>2831.0</td>\n",
       "      <td>2818.0</td>\n",
       "      <td>2824.0</td>\n",
       "      <td>93500.0</td>\n",
       "    </tr>\n",
       "    <tr>\n",
       "      <th>2020-11-27 09:00:00</th>\n",
       "      <td>2809.0</td>\n",
       "      <td>2828.0</td>\n",
       "      <td>2809.0</td>\n",
       "      <td>2822.0</td>\n",
       "      <td>107600.0</td>\n",
       "    </tr>\n",
       "    <tr>\n",
       "      <th>2020-11-28 09:00:00</th>\n",
       "      <td>NaN</td>\n",
       "      <td>NaN</td>\n",
       "      <td>NaN</td>\n",
       "      <td>NaN</td>\n",
       "      <td>NaN</td>\n",
       "    </tr>\n",
       "    <tr>\n",
       "      <th>2020-11-29 09:00:00</th>\n",
       "      <td>NaN</td>\n",
       "      <td>NaN</td>\n",
       "      <td>NaN</td>\n",
       "      <td>NaN</td>\n",
       "      <td>NaN</td>\n",
       "    </tr>\n",
       "    <tr>\n",
       "      <th>2020-11-30 09:00:00</th>\n",
       "      <td>2940.0</td>\n",
       "      <td>2954.0</td>\n",
       "      <td>2936.0</td>\n",
       "      <td>2940.0</td>\n",
       "      <td>225300.0</td>\n",
       "    </tr>\n",
       "  </tbody>\n",
       "</table>\n",
       "</div>"
      ],
      "text/plain": [
       "                     Open_6502  High_6502  Low_6502  Close_6502  Volume_6502\n",
       "timestamp                                                                   \n",
       "2020-11-04 09:00:00     2669.0     2670.0    2658.0      2664.0      93000.0\n",
       "2020-11-05 09:00:00     2631.0     2641.0    2630.0      2639.0      55000.0\n",
       "2020-11-06 09:00:00     2615.0     2644.0    2609.0      2617.0      90700.0\n",
       "2020-11-07 09:00:00        NaN        NaN       NaN         NaN          NaN\n",
       "2020-11-08 09:00:00        NaN        NaN       NaN         NaN          NaN\n",
       "2020-11-09 09:00:00     2711.0     2719.0    2707.0      2710.0          0.0\n",
       "2020-11-10 09:00:00     2780.0     2782.0    2770.0      2777.0     142700.0\n",
       "2020-11-11 09:00:00        NaN        NaN       NaN         NaN          NaN\n",
       "2020-11-12 09:00:00     2788.0     2800.0    2781.0      2789.0     108400.0\n",
       "2020-11-13 09:00:00     2750.0     2754.0    2741.0      2750.0      71500.0\n",
       "2020-11-14 09:00:00        NaN        NaN       NaN         NaN          NaN\n",
       "2020-11-15 09:00:00        NaN        NaN       NaN         NaN          NaN\n",
       "2020-11-16 09:00:00     2714.0     2716.0    2705.0      2710.0     111000.0\n",
       "2020-11-17 09:00:00     2748.0     2748.0    2729.0      2734.0     124400.0\n",
       "2020-11-18 09:00:00     2819.0     2823.0    2814.0      2820.0      76000.0\n",
       "2020-11-19 09:00:00     2858.0     2867.0    2858.0      2860.0     107000.0\n",
       "2020-11-20 09:00:00     2875.0     2887.0    2873.0      2884.0     106000.0\n",
       "2020-11-21 09:00:00        NaN        NaN       NaN         NaN          NaN\n",
       "2020-11-22 09:00:00        NaN        NaN       NaN         NaN          NaN\n",
       "2020-11-23 09:00:00        NaN        NaN       NaN         NaN          NaN\n",
       "2020-11-24 09:00:00     2957.0     2967.0    2952.0      2966.0          0.0\n",
       "2020-11-25 09:00:00     2927.0     2934.0    2926.0      2933.0      74000.0\n",
       "2020-11-26 09:00:00     2822.0     2831.0    2818.0      2824.0      93500.0\n",
       "2020-11-27 09:00:00     2809.0     2828.0    2809.0      2822.0     107600.0\n",
       "2020-11-28 09:00:00        NaN        NaN       NaN         NaN          NaN\n",
       "2020-11-29 09:00:00        NaN        NaN       NaN         NaN          NaN\n",
       "2020-11-30 09:00:00     2940.0     2954.0    2936.0      2940.0     225300.0"
      ]
     },
     "execution_count": 41,
     "metadata": {},
     "output_type": "execute_result"
    }
   ],
   "source": [
    "with open(\"naive_stock_df.pickle\", \"rb\") as f:\n",
    "    naive_stock_df = pickle.load(f)\n",
    "\n",
    "naive_stock_df.at_time(datetime.time(9,0))"
   ]
  },
  {
   "cell_type": "markdown",
   "metadata": {},
   "source": [
    "### 営業日データを取得"
   ]
  },
  {
   "cell_type": "markdown",
   "metadata": {},
   "source": [
    "高速化のため，既存のholidayと照らし合わせる方法でとる"
   ]
  },
  {
   "cell_type": "code",
   "execution_count": 42,
   "metadata": {
    "ExecuteTime": {
     "end_time": "2021-03-27T14:26:05.196620Z",
     "start_time": "2021-03-27T14:26:05.084436Z"
    }
   },
   "outputs": [],
   "source": [
    "def extract_workdays_jp_index(dt_index, return_as=\"index\"):\n",
    "    \"\"\"\n",
    "    pd.DatetimeIndexから，営業日のデータのものを抽出\n",
    "    dt_index: pd.DatetimeIndex\n",
    "        入力するDatetimeIndex，すでにdatetimeでソートしていることが前提\n",
    "    return_as: str\n",
    "        出力データの形式\n",
    "        - \"index\": 引数としたdfの対応するインデックスを返す\n",
    "        - \"bool\": 引数としたdfに対応するboolインデックスを返す\n",
    "    \"\"\"\n",
    "    # 返り値の形式の指定\n",
    "    return_as_set = {\"index\", \"bool\"}\n",
    "    if not return_as in return_as_set:\n",
    "        raise Exception(\"return_as must be any in {}\".format(return_as_set))\n",
    "        \n",
    "    # すでにtimestampでソートさてている前提\n",
    "    start_datetime = dt_index[0].to_pydatetime()\n",
    "    end_datetime = dt_index[-1].to_pydatetime()\n",
    "    \n",
    "    start_datetime, end_datetime = check_jst_datetimes_to_naive(start_datetime, end_datetime)  # 二つのdatetimeのタイムゾーンをチェック・naiveに変更\n",
    "    \n",
    "    # 期間内のholidayを取得\n",
    "    holidays_in_span_index = ((start_datetime-datetime.timedelta(days=1))<option.holidays_datetimeindex)&\\\n",
    "    (option.holidays_datetimeindex<=end_datetime)  # DatetimeIndexを使うことに注意, 当日を含めるため，startから1を引いている．\n",
    "    holidays_in_span_array = option.holidays_date_array[holidays_in_span_index]  # ndarrayを使う\n",
    "    \n",
    "    # 休日に含まれないもの，さらに土日に含まれないもののboolインデックスを取得    \n",
    "    holiday_bool_array = np.in1d(dt_index.date, holidays_in_span_array)  # 休日\n",
    "    holiday_weekday_each_bool_arrays = [dt_index.weekday==weekday for weekday in option.holiday_weekdays]  # inを使うのを回避\n",
    "    holiday_weekday_bool_array = np.logical_or.reduce(holiday_weekday_each_bool_arrays)  # 休日曜日\n",
    "    \n",
    "    workdays_bool_array = (~holiday_bool_array)&(~holiday_weekday_bool_array)  # 休日でなく休日曜日でない\n",
    "    if return_as==\"bool\":  # boolで返す場合\n",
    "        return workdays_bool_array\n",
    "    \n",
    "    elif return_as==\"index\":  # indexで返す場合\n",
    "        workdays_df_indice = dt_index[workdays_bool_array]\n",
    "        return workdays_df_indice"
   ]
  },
  {
   "cell_type": "code",
   "execution_count": 43,
   "metadata": {
    "ExecuteTime": {
     "end_time": "2021-03-27T14:26:05.303628Z",
     "start_time": "2021-03-27T14:26:05.220556Z"
    }
   },
   "outputs": [],
   "source": [
    "def extract_workdays_jp(df, return_as=\"df\"):\n",
    "    \"\"\"\n",
    "    データフレームから，営業日のデータのものを抽出．出力データ形式をreturn_asで指定する．\n",
    "    df: pd.DataFrame(インデックスとしてpd.DatetimeIndex)\n",
    "        入力データ\n",
    "    return_as: str\n",
    "        出力データの形式\n",
    "        - \"df\": 抽出した新しいpd.DataFrameを返す\n",
    "        - \"index\": 引数としたdfの対応するインデックスを返す\n",
    "        - \"bool\": 引数としたdfに対応するboolインデックスを返す\n",
    "    \"\"\"\n",
    "    \n",
    "    # 返り値の形式の指定\n",
    "    return_as_set = {\"df\", \"index\", \"bool\"}\n",
    "    if not return_as in return_as_set:\n",
    "        raise Exception(\"return_as must be any in {}\".format(return_as_set))\n",
    "    \n",
    "    workdays_bool_array = extract_workdays_jp_index(df.index, return_as=\"bool\")\n",
    "    if return_as==\"bool\":\n",
    "        return workdays_bool_array\n",
    "    \n",
    "    workdays_df_indice = df.index[workdays_bool_array]\n",
    "    if return_as==\"index\":\n",
    "        return workdays_df_indice\n",
    "\n",
    "    out_df = df.loc[workdays_df_indice].copy()\n",
    "    return out_df"
   ]
  },
  {
   "cell_type": "code",
   "execution_count": 44,
   "metadata": {
    "ExecuteTime": {
     "end_time": "2021-03-27T14:26:05.806439Z",
     "start_time": "2021-03-27T14:26:05.322671Z"
    }
   },
   "outputs": [
    {
     "data": {
      "text/html": [
       "<div>\n",
       "<style scoped>\n",
       "    .dataframe tbody tr th:only-of-type {\n",
       "        vertical-align: middle;\n",
       "    }\n",
       "\n",
       "    .dataframe tbody tr th {\n",
       "        vertical-align: top;\n",
       "    }\n",
       "\n",
       "    .dataframe thead th {\n",
       "        text-align: right;\n",
       "    }\n",
       "</style>\n",
       "<table border=\"1\" class=\"dataframe\">\n",
       "  <thead>\n",
       "    <tr style=\"text-align: right;\">\n",
       "      <th></th>\n",
       "      <th>Open_6502</th>\n",
       "      <th>High_6502</th>\n",
       "      <th>Low_6502</th>\n",
       "      <th>Close_6502</th>\n",
       "      <th>Volume_6502</th>\n",
       "    </tr>\n",
       "    <tr>\n",
       "      <th>timestamp</th>\n",
       "      <th></th>\n",
       "      <th></th>\n",
       "      <th></th>\n",
       "      <th></th>\n",
       "      <th></th>\n",
       "    </tr>\n",
       "  </thead>\n",
       "  <tbody>\n",
       "    <tr>\n",
       "      <th>2020-11-04 09:00:00+09:00</th>\n",
       "      <td>2669.0</td>\n",
       "      <td>2670.0</td>\n",
       "      <td>2658.0</td>\n",
       "      <td>2664.0</td>\n",
       "      <td>93000.0</td>\n",
       "    </tr>\n",
       "    <tr>\n",
       "      <th>2020-11-05 09:00:00+09:00</th>\n",
       "      <td>2631.0</td>\n",
       "      <td>2641.0</td>\n",
       "      <td>2630.0</td>\n",
       "      <td>2639.0</td>\n",
       "      <td>55000.0</td>\n",
       "    </tr>\n",
       "    <tr>\n",
       "      <th>2020-11-06 09:00:00+09:00</th>\n",
       "      <td>2615.0</td>\n",
       "      <td>2644.0</td>\n",
       "      <td>2609.0</td>\n",
       "      <td>2617.0</td>\n",
       "      <td>90700.0</td>\n",
       "    </tr>\n",
       "    <tr>\n",
       "      <th>2020-11-09 09:00:00+09:00</th>\n",
       "      <td>2711.0</td>\n",
       "      <td>2719.0</td>\n",
       "      <td>2707.0</td>\n",
       "      <td>2710.0</td>\n",
       "      <td>0.0</td>\n",
       "    </tr>\n",
       "    <tr>\n",
       "      <th>2020-11-10 09:00:00+09:00</th>\n",
       "      <td>2780.0</td>\n",
       "      <td>2782.0</td>\n",
       "      <td>2770.0</td>\n",
       "      <td>2777.0</td>\n",
       "      <td>142700.0</td>\n",
       "    </tr>\n",
       "    <tr>\n",
       "      <th>2020-11-11 09:00:00+09:00</th>\n",
       "      <td>NaN</td>\n",
       "      <td>NaN</td>\n",
       "      <td>NaN</td>\n",
       "      <td>NaN</td>\n",
       "      <td>NaN</td>\n",
       "    </tr>\n",
       "    <tr>\n",
       "      <th>2020-11-12 09:00:00+09:00</th>\n",
       "      <td>2788.0</td>\n",
       "      <td>2800.0</td>\n",
       "      <td>2781.0</td>\n",
       "      <td>2789.0</td>\n",
       "      <td>108400.0</td>\n",
       "    </tr>\n",
       "    <tr>\n",
       "      <th>2020-11-13 09:00:00+09:00</th>\n",
       "      <td>2750.0</td>\n",
       "      <td>2754.0</td>\n",
       "      <td>2741.0</td>\n",
       "      <td>2750.0</td>\n",
       "      <td>71500.0</td>\n",
       "    </tr>\n",
       "    <tr>\n",
       "      <th>2020-11-16 09:00:00+09:00</th>\n",
       "      <td>2714.0</td>\n",
       "      <td>2716.0</td>\n",
       "      <td>2705.0</td>\n",
       "      <td>2710.0</td>\n",
       "      <td>111000.0</td>\n",
       "    </tr>\n",
       "    <tr>\n",
       "      <th>2020-11-17 09:00:00+09:00</th>\n",
       "      <td>2748.0</td>\n",
       "      <td>2748.0</td>\n",
       "      <td>2729.0</td>\n",
       "      <td>2734.0</td>\n",
       "      <td>124400.0</td>\n",
       "    </tr>\n",
       "    <tr>\n",
       "      <th>2020-11-18 09:00:00+09:00</th>\n",
       "      <td>2819.0</td>\n",
       "      <td>2823.0</td>\n",
       "      <td>2814.0</td>\n",
       "      <td>2820.0</td>\n",
       "      <td>76000.0</td>\n",
       "    </tr>\n",
       "    <tr>\n",
       "      <th>2020-11-19 09:00:00+09:00</th>\n",
       "      <td>2858.0</td>\n",
       "      <td>2867.0</td>\n",
       "      <td>2858.0</td>\n",
       "      <td>2860.0</td>\n",
       "      <td>107000.0</td>\n",
       "    </tr>\n",
       "    <tr>\n",
       "      <th>2020-11-20 09:00:00+09:00</th>\n",
       "      <td>2875.0</td>\n",
       "      <td>2887.0</td>\n",
       "      <td>2873.0</td>\n",
       "      <td>2884.0</td>\n",
       "      <td>106000.0</td>\n",
       "    </tr>\n",
       "    <tr>\n",
       "      <th>2020-11-24 09:00:00+09:00</th>\n",
       "      <td>2957.0</td>\n",
       "      <td>2967.0</td>\n",
       "      <td>2952.0</td>\n",
       "      <td>2966.0</td>\n",
       "      <td>0.0</td>\n",
       "    </tr>\n",
       "    <tr>\n",
       "      <th>2020-11-25 09:00:00+09:00</th>\n",
       "      <td>2927.0</td>\n",
       "      <td>2934.0</td>\n",
       "      <td>2926.0</td>\n",
       "      <td>2933.0</td>\n",
       "      <td>74000.0</td>\n",
       "    </tr>\n",
       "    <tr>\n",
       "      <th>2020-11-26 09:00:00+09:00</th>\n",
       "      <td>2822.0</td>\n",
       "      <td>2831.0</td>\n",
       "      <td>2818.0</td>\n",
       "      <td>2824.0</td>\n",
       "      <td>93500.0</td>\n",
       "    </tr>\n",
       "    <tr>\n",
       "      <th>2020-11-27 09:00:00+09:00</th>\n",
       "      <td>2809.0</td>\n",
       "      <td>2828.0</td>\n",
       "      <td>2809.0</td>\n",
       "      <td>2822.0</td>\n",
       "      <td>107600.0</td>\n",
       "    </tr>\n",
       "    <tr>\n",
       "      <th>2020-11-30 09:00:00+09:00</th>\n",
       "      <td>2940.0</td>\n",
       "      <td>2954.0</td>\n",
       "      <td>2936.0</td>\n",
       "      <td>2940.0</td>\n",
       "      <td>225300.0</td>\n",
       "    </tr>\n",
       "  </tbody>\n",
       "</table>\n",
       "</div>"
      ],
      "text/plain": [
       "                           Open_6502  High_6502  Low_6502  Close_6502  \\\n",
       "timestamp                                                               \n",
       "2020-11-04 09:00:00+09:00     2669.0     2670.0    2658.0      2664.0   \n",
       "2020-11-05 09:00:00+09:00     2631.0     2641.0    2630.0      2639.0   \n",
       "2020-11-06 09:00:00+09:00     2615.0     2644.0    2609.0      2617.0   \n",
       "2020-11-09 09:00:00+09:00     2711.0     2719.0    2707.0      2710.0   \n",
       "2020-11-10 09:00:00+09:00     2780.0     2782.0    2770.0      2777.0   \n",
       "2020-11-11 09:00:00+09:00        NaN        NaN       NaN         NaN   \n",
       "2020-11-12 09:00:00+09:00     2788.0     2800.0    2781.0      2789.0   \n",
       "2020-11-13 09:00:00+09:00     2750.0     2754.0    2741.0      2750.0   \n",
       "2020-11-16 09:00:00+09:00     2714.0     2716.0    2705.0      2710.0   \n",
       "2020-11-17 09:00:00+09:00     2748.0     2748.0    2729.0      2734.0   \n",
       "2020-11-18 09:00:00+09:00     2819.0     2823.0    2814.0      2820.0   \n",
       "2020-11-19 09:00:00+09:00     2858.0     2867.0    2858.0      2860.0   \n",
       "2020-11-20 09:00:00+09:00     2875.0     2887.0    2873.0      2884.0   \n",
       "2020-11-24 09:00:00+09:00     2957.0     2967.0    2952.0      2966.0   \n",
       "2020-11-25 09:00:00+09:00     2927.0     2934.0    2926.0      2933.0   \n",
       "2020-11-26 09:00:00+09:00     2822.0     2831.0    2818.0      2824.0   \n",
       "2020-11-27 09:00:00+09:00     2809.0     2828.0    2809.0      2822.0   \n",
       "2020-11-30 09:00:00+09:00     2940.0     2954.0    2936.0      2940.0   \n",
       "\n",
       "                           Volume_6502  \n",
       "timestamp                               \n",
       "2020-11-04 09:00:00+09:00      93000.0  \n",
       "2020-11-05 09:00:00+09:00      55000.0  \n",
       "2020-11-06 09:00:00+09:00      90700.0  \n",
       "2020-11-09 09:00:00+09:00          0.0  \n",
       "2020-11-10 09:00:00+09:00     142700.0  \n",
       "2020-11-11 09:00:00+09:00          NaN  \n",
       "2020-11-12 09:00:00+09:00     108400.0  \n",
       "2020-11-13 09:00:00+09:00      71500.0  \n",
       "2020-11-16 09:00:00+09:00     111000.0  \n",
       "2020-11-17 09:00:00+09:00     124400.0  \n",
       "2020-11-18 09:00:00+09:00      76000.0  \n",
       "2020-11-19 09:00:00+09:00     107000.0  \n",
       "2020-11-20 09:00:00+09:00     106000.0  \n",
       "2020-11-24 09:00:00+09:00          0.0  \n",
       "2020-11-25 09:00:00+09:00      74000.0  \n",
       "2020-11-26 09:00:00+09:00      93500.0  \n",
       "2020-11-27 09:00:00+09:00     107600.0  \n",
       "2020-11-30 09:00:00+09:00     225300.0  "
      ]
     },
     "execution_count": 44,
     "metadata": {},
     "output_type": "execute_result"
    }
   ],
   "source": [
    "extracted_stock_df = extract_workdays_jp(aware_stock_df, return_as=\"df\")\n",
    "extracted_stock_df.at_time(datetime.time(9,0))"
   ]
  },
  {
   "cell_type": "code",
   "execution_count": 45,
   "metadata": {
    "ExecuteTime": {
     "end_time": "2021-03-27T14:26:06.248337Z",
     "start_time": "2021-03-27T14:26:05.822988Z"
    },
    "scrolled": false
   },
   "outputs": [
    {
     "name": "stdout",
     "output_type": "stream",
     "text": [
      "Timer unit: 1e-07 s\n",
      "\n",
      "Total time: 0.254345 s\n",
      "File: <ipython-input-42-2a9ab9585719>\n",
      "Function: extract_workdays_jp_index at line 1\n",
      "\n",
      "Line #      Hits         Time  Per Hit   % Time  Line Contents\n",
      "==============================================================\n",
      "     1                                           def extract_workdays_jp_index(dt_index, return_as=\"index\"):\n",
      "     2                                               \"\"\"\n",
      "     3                                               pd.DatetimeIndexから，営業日のデータのものを抽出\n",
      "     4                                               dt_index: pd.DatetimeIndex\n",
      "     5                                                   入力するDatetimeIndex，すでにdatetimeでソートしていることが前提\n",
      "     6                                               return_as: str\n",
      "     7                                                   出力データの形式\n",
      "     8                                                   - \"index\": 引数としたdfの対応するインデックスを返す\n",
      "     9                                                   - \"bool\": 引数としたdfに対応するboolインデックスを返す\n",
      "    10                                               \"\"\"\n",
      "    11                                               # 返り値の形式の指定\n",
      "    12         1         78.0     78.0      0.0      return_as_set = {\"index\", \"bool\"}\n",
      "    13         1         77.0     77.0      0.0      if not return_as in return_as_set:\n",
      "    14                                                   raise Exception(\"return_as must be any in {}\".format(return_as_set))\n",
      "    15                                                   \n",
      "    16                                               # すでにtimestampでソートさてている前提\n",
      "    17         1       4104.0   4104.0      0.2      start_datetime = dt_index[0].to_pydatetime()\n",
      "    18         1       3068.0   3068.0      0.1      end_datetime = dt_index[-1].to_pydatetime()\n",
      "    19                                               \n",
      "    20         1       2579.0   2579.0      0.1      start_datetime, end_datetime = check_jst_datetimes_to_naive(start_datetime, end_datetime)  # 二つのdatetimeのタイムゾーンをチェック・naiveに変更\n",
      "    21                                               \n",
      "    22                                               # 期間内のholidayを取得\n",
      "    23         1       7819.0   7819.0      0.3      holidays_in_span_index = ((start_datetime-datetime.timedelta(days=1))<option.holidays_datetimeindex)&\\\n",
      "    24         1       6500.0   6500.0      0.3      (option.holidays_datetimeindex<=end_datetime)  # DatetimeIndexを使うことに注意, 当日を含めるため，startから1を引いている．\n",
      "    25         1        436.0    436.0      0.0      holidays_in_span_array = option.holidays_date_array[holidays_in_span_index]  # ndarrayを使う\n",
      "    26                                               \n",
      "    27                                               # 休日に含まれないもの，さらに土日に含まれないもののboolインデックスを取得    \n",
      "    28         1    1723188.0 1723188.0     67.7      holiday_bool_array = np.in1d(dt_index.date, holidays_in_span_array)  # 休日\n",
      "    29         1     786906.0 786906.0     30.9      holiday_weekday_each_bool_arrays = [dt_index.weekday==weekday for weekday in option.holiday_weekdays]  # inを使うのを回避\n",
      "    30         1       2667.0   2667.0      0.1      holiday_weekday_bool_array = np.logical_or.reduce(holiday_weekday_each_bool_arrays)  # 休日曜日\n",
      "    31                                               \n",
      "    32         1       5883.0   5883.0      0.2      workdays_bool_array = (~holiday_bool_array)&(~holiday_weekday_bool_array)  # 休日でなく休日曜日でない\n",
      "    33         1         79.0     79.0      0.0      if return_as==\"bool\":  # boolで返す場合\n",
      "    34         1         70.0     70.0      0.0          return workdays_bool_array\n",
      "    35                                               \n",
      "    36                                               elif return_as==\"index\":  # indexで返す場合\n",
      "    37                                                   workdays_df_indice = dt_index[workdays_bool_array]\n",
      "    38                                                   return workdays_df_indice\n",
      "\n",
      "Total time: 0.289638 s\n",
      "File: <ipython-input-43-73f69d09a7f8>\n",
      "Function: extract_workdays_jp at line 1\n",
      "\n",
      "Line #      Hits         Time  Per Hit   % Time  Line Contents\n",
      "==============================================================\n",
      "     1                                           def extract_workdays_jp(df, return_as=\"df\"):\n",
      "     2                                               \"\"\"\n",
      "     3                                               データフレームから，営業日のデータのものを抽出．出力データ形式をreturn_asで指定する．\n",
      "     4                                               df: pd.DataFrame(インデックスとしてpd.DatetimeIndex)\n",
      "     5                                                   入力データ\n",
      "     6                                               return_as: str\n",
      "     7                                                   出力データの形式\n",
      "     8                                                   - \"df\": 抽出した新しいpd.DataFrameを返す\n",
      "     9                                                   - \"index\": 引数としたdfの対応するインデックスを返す\n",
      "    10                                                   - \"bool\": 引数としたdfに対応するboolインデックスを返す\n",
      "    11                                               \"\"\"\n",
      "    12                                               \n",
      "    13                                               # 返り値の形式の指定\n",
      "    14         1         99.0     99.0      0.0      return_as_set = {\"df\", \"index\", \"bool\"}\n",
      "    15         1         60.0     60.0      0.0      if not return_as in return_as_set:\n",
      "    16                                                   raise Exception(\"return_as must be any in {}\".format(return_as_set))\n",
      "    17                                               \n",
      "    18         1    2545732.0 2545732.0     87.9      workdays_bool_array = extract_workdays_jp_index(df.index, return_as=\"bool\")\n",
      "    19         1         48.0     48.0      0.0      if return_as==\"bool\":\n",
      "    20                                                   return workdays_bool_array\n",
      "    21                                               \n",
      "    22         1      23170.0  23170.0      0.8      workdays_df_indice = df.index[workdays_bool_array]\n",
      "    23         1         70.0     70.0      0.0      if return_as==\"index\":\n",
      "    24                                                   return workdays_df_indice\n",
      "    25                                           \n",
      "    26         1     327130.0 327130.0     11.3      out_df = df.loc[workdays_df_indice].copy()\n",
      "    27         1         72.0     72.0      0.0      return out_df\n",
      "\n"
     ]
    }
   ],
   "source": [
    "def temp_func():\n",
    "    extracted_stock_df = extract_workdays_jp(aware_stock_df, return_as=\"df\")\n",
    "    \n",
    "from line_profiler import LineProfiler\n",
    "prf = LineProfiler()                                                                                         \n",
    "#prf.add_module()                                                                                          \n",
    "prf.add_function(extract_workdays_jp)\n",
    "prf.add_function(extract_workdays_jp_index)\n",
    "prf.runcall(temp_func)                                                                                          \n",
    "prf.print_stats()"
   ]
  },
  {
   "cell_type": "code",
   "execution_count": 46,
   "metadata": {
    "ExecuteTime": {
     "end_time": "2021-03-27T14:26:06.334102Z",
     "start_time": "2021-03-27T14:26:06.267278Z"
    }
   },
   "outputs": [],
   "source": [
    "# すでにtimestampでソートさてている前提\n",
    "start_datetime = aware_stock_df.index[0].to_pydatetime()\n",
    "end_datetime = aware_stock_df.index[-1].to_pydatetime()\n",
    "\n",
    "start_datetime, end_datetime = check_jst_datetimes_to_naive(start_datetime, end_datetime)  # 二つのdatetimeのタイムゾーンをチェック・naiveに変更\n",
    "\n",
    "# 期間内のholidayを取得\n",
    "holidays_in_span_index = ((start_datetime-datetime.timedelta(days=1))<option.holidays_datetimeindex)&(option.holidays_datetimeindex<=end_datetime)  # DatetimeIndexを使うことに注意, 当日を含めるため，startから1を引いている．\n",
    "\n",
    "holidays_in_span_array = option.holidays_date_array[holidays_in_span_index]  # ndarrayを使う\n",
    "holidays_in_span_datetimeindex = option.holidays_datetimeindex[holidays_in_span_index]"
   ]
  },
  {
   "cell_type": "code",
   "execution_count": 47,
   "metadata": {
    "ExecuteTime": {
     "end_time": "2021-03-27T14:26:06.394936Z",
     "start_time": "2021-03-27T14:26:06.347065Z"
    }
   },
   "outputs": [
    {
     "data": {
      "text/plain": [
       "array([datetime.date(2020, 11, 23)], dtype=object)"
      ]
     },
     "execution_count": 47,
     "metadata": {},
     "output_type": "execute_result"
    }
   ],
   "source": [
    "holidays_in_span_array"
   ]
  },
  {
   "cell_type": "markdown",
   "metadata": {},
   "source": [
    "こちらはobjectのndarrayのin1dである．これは遅いことが知られている"
   ]
  },
  {
   "cell_type": "code",
   "execution_count": 48,
   "metadata": {
    "ExecuteTime": {
     "end_time": "2021-03-27T14:26:06.613509Z",
     "start_time": "2021-03-27T14:26:06.407905Z"
    }
   },
   "outputs": [
    {
     "name": "stdout",
     "output_type": "stream",
     "text": [
      "1440\n"
     ]
    }
   ],
   "source": [
    "holiday_bool_array1 = np.in1d(aware_stock_df.index.date, holidays_in_span_array)\n",
    "print(holiday_bool_array1.sum())"
   ]
  },
  {
   "cell_type": "code",
   "execution_count": 49,
   "metadata": {
    "ExecuteTime": {
     "end_time": "2021-03-27T14:26:17.328412Z",
     "start_time": "2021-03-27T14:26:06.623485Z"
    }
   },
   "outputs": [
    {
     "name": "stdout",
     "output_type": "stream",
     "text": [
      "132 ms ± 19.9 ms per loop (mean ± std. dev. of 7 runs, 10 loops each)\n"
     ]
    }
   ],
   "source": [
    "%%timeit\n",
    "holiday_bool_array1 = np.in1d(aware_stock_df.index.date, holidays_in_span_array)"
   ]
  },
  {
   "cell_type": "markdown",
   "metadata": {},
   "source": [
    "一方int(unix時間)に変更してしまえば，in1dは高速になる．しかし変更するのに多少時間がかかる．"
   ]
  },
  {
   "cell_type": "code",
   "execution_count": 50,
   "metadata": {
    "ExecuteTime": {
     "end_time": "2021-03-27T14:26:26.447785Z",
     "start_time": "2021-03-27T14:26:17.342377Z"
    }
   },
   "outputs": [
    {
     "name": "stdout",
     "output_type": "stream",
     "text": [
      "10.8 ms ± 3.22 ms per loop (mean ± std. dev. of 7 runs, 100 loops each)\n"
     ]
    }
   ],
   "source": [
    "%%timeit\n",
    "df_index_date_int = aware_stock_df.index.tz_localize(None).floor(\"D\").astype(int).values\n",
    "holidays_in_span_int = holidays_in_span_datetimeindex.astype(int).values\n",
    "holiday_bool_array2 = np.in1d(df_index_date_int, holidays_in_span_int)"
   ]
  },
  {
   "cell_type": "code",
   "execution_count": 51,
   "metadata": {
    "ExecuteTime": {
     "end_time": "2021-03-27T14:26:26.508750Z",
     "start_time": "2021-03-27T14:26:26.460875Z"
    }
   },
   "outputs": [
    {
     "name": "stdout",
     "output_type": "stream",
     "text": [
      "1440\n"
     ]
    }
   ],
   "source": [
    "df_index_date_int = aware_stock_df.index.tz_localize(None).floor(\"D\").astype(int).values\n",
    "holidays_in_span_int = holidays_in_span_datetimeindex.astype(int).values\n",
    "holiday_bool_array2 = np.in1d(df_index_date_int, holidays_in_span_int)\n",
    "print(holiday_bool_array2.sum())"
   ]
  },
  {
   "cell_type": "code",
   "execution_count": 52,
   "metadata": {
    "ExecuteTime": {
     "end_time": "2021-03-27T14:26:26.556619Z",
     "start_time": "2021-03-27T14:26:26.517725Z"
    }
   },
   "outputs": [
    {
     "data": {
      "text/plain": [
       "True"
      ]
     },
     "execution_count": 52,
     "metadata": {},
     "output_type": "execute_result"
    }
   ],
   "source": [
    "np.array_equal(holiday_bool_array1, holiday_bool_array2)"
   ]
  },
  {
   "cell_type": "markdown",
   "metadata": {},
   "source": [
    "もちろんもとのarrayと同じである．"
   ]
  },
  {
   "cell_type": "markdown",
   "metadata": {},
   "source": [
    "他の選択肢としてpd.DatetimeIndexのisinメソッドを利用してみる．こっちの方がintに変換しない分早い?"
   ]
  },
  {
   "cell_type": "code",
   "execution_count": 53,
   "metadata": {
    "ExecuteTime": {
     "end_time": "2021-03-27T14:26:33.678192Z",
     "start_time": "2021-03-27T14:26:26.565097Z"
    }
   },
   "outputs": [
    {
     "name": "stdout",
     "output_type": "stream",
     "text": [
      "8.51 ms ± 1.96 ms per loop (mean ± std. dev. of 7 runs, 100 loops each)\n"
     ]
    }
   ],
   "source": [
    "%%timeit\n",
    "holiday_bool_array3 = aware_stock_df.index.tz_localize(None).floor(\"D\").isin(holidays_in_span_datetimeindex)"
   ]
  },
  {
   "cell_type": "code",
   "execution_count": 54,
   "metadata": {
    "ExecuteTime": {
     "end_time": "2021-03-27T14:26:33.740028Z",
     "start_time": "2021-03-27T14:26:33.695150Z"
    }
   },
   "outputs": [],
   "source": [
    "holiday_bool_array3 = aware_stock_df.index.tz_localize(None).floor(\"D\").isin(holidays_in_span_datetimeindex)"
   ]
  },
  {
   "cell_type": "code",
   "execution_count": 55,
   "metadata": {
    "ExecuteTime": {
     "end_time": "2021-03-27T14:26:33.818821Z",
     "start_time": "2021-03-27T14:26:33.754988Z"
    }
   },
   "outputs": [
    {
     "data": {
      "text/plain": [
       "True"
      ]
     },
     "execution_count": 55,
     "metadata": {},
     "output_type": "execute_result"
    }
   ],
   "source": [
    "np.array_equal(holiday_bool_array1, holiday_bool_array3)"
   ]
  },
  {
   "cell_type": "markdown",
   "metadata": {},
   "source": [
    "### 日中データを取得"
   ]
  },
  {
   "cell_type": "markdown",
   "metadata": {},
   "source": [
    "おそらく使わない，以下の営業日＋日中内で使う．"
   ]
  },
  {
   "cell_type": "code",
   "execution_count": 56,
   "metadata": {
    "ExecuteTime": {
     "end_time": "2021-03-27T14:26:33.899621Z",
     "start_time": "2021-03-27T14:26:33.828792Z"
    }
   },
   "outputs": [],
   "source": [
    "def extract_intraday_jp_index(dt_index, return_as=\"index\"):\n",
    "    \"\"\"\n",
    "    pd.DatetimeIndexから，日中のデータのものを抽出．出力データ形式をreturn_asで指定する．\n",
    "    dt_index: pd.DatetimeIndex\n",
    "        入力するDatetimeIndex\n",
    "    return_as: str\n",
    "        出力データの形式\n",
    "        - \"index\": 引数としたdfの対応するインデックスを返す\n",
    "        - \"bool\": 引数としたdfに対応するboolインデックスを返す\n",
    "    \"\"\"\n",
    "    \n",
    "    # 返り値の形式の指定\n",
    "    return_as_set = {\"index\", \"bool\"}\n",
    "    if not return_as in return_as_set:\n",
    "        raise Exception(\"return_as must be any in {}\".format(return_as_set))    \n",
    "  \n",
    "    bool_array = np.full(len(dt_index), False)\n",
    "    \n",
    "    # ボーダー内のboolをTrueにする\n",
    "    for borders in option.intraday_borders:\n",
    "        start_time, end_time = borders[0], borders[1]  # 開始時刻と終了時刻\n",
    "        in_border_indice = dt_index.indexer_between_time(start_time=start_time, end_time=end_time, include_end=False)\n",
    "        bool_array[in_border_indice] = True\n",
    "    \n",
    "    if return_as==\"bool\":\n",
    "        return bool_array\n",
    "\n",
    "    elif return_as==\"index\":\n",
    "        intraday_indice = dt_index[bool_array]\n",
    "        return intraday_indice"
   ]
  },
  {
   "cell_type": "code",
   "execution_count": 57,
   "metadata": {
    "ExecuteTime": {
     "end_time": "2021-03-27T14:26:34.007562Z",
     "start_time": "2021-03-27T14:26:33.927133Z"
    }
   },
   "outputs": [],
   "source": [
    "def extract_intraday_jp(df, return_as=\"df\"):\n",
    "    \"\"\"\n",
    "    データフレームから，日中のデータのものを抽出．出力データ形式をreturn_asで指定する．\n",
    "    df: pd.DataFrame(インデックスとしてpd.DatetimeIndex)\n",
    "        入力データ\n",
    "    return_as: str\n",
    "        出力データの形式\n",
    "        - \"df\": 抽出した新しいpd.DataFrameを返す\n",
    "        - \"index\": 引数としたdfの対応するインデックスを返す\n",
    "        - \"bool\": 引数としたdfに対応するboolインデックスを返す\n",
    "    \"\"\"\n",
    "    \n",
    "    # 返り値の形式の指定\n",
    "    return_as_set = {\"df\", \"index\", \"bool\"}\n",
    "    if not return_as in return_as_set:\n",
    "        raise Exception(\"return_as must be any in {}\".format(return_as_set))    \n",
    "  \n",
    "    intraday_bool_array = extract_intraday_jp_index(df.index, return_as=\"bool\")\n",
    "    if return_as==\"bool\":\n",
    "        return intraday_bool_array\n",
    "    \n",
    "    intraday_indice = df.index[intraday_bool_array]\n",
    "    if return_as==\"index\":\n",
    "        return intraday_indice\n",
    "    \n",
    "    out_df = df.loc[intraday_indice].copy()\n",
    "    return out_df"
   ]
  },
  {
   "cell_type": "markdown",
   "metadata": {},
   "source": [
    "以下の例では，朝8時のデータは存在しない"
   ]
  },
  {
   "cell_type": "code",
   "execution_count": 58,
   "metadata": {
    "ExecuteTime": {
     "end_time": "2021-03-27T14:26:34.178165Z",
     "start_time": "2021-03-27T14:26:34.026513Z"
    }
   },
   "outputs": [
    {
     "data": {
      "text/html": [
       "<div>\n",
       "<style scoped>\n",
       "    .dataframe tbody tr th:only-of-type {\n",
       "        vertical-align: middle;\n",
       "    }\n",
       "\n",
       "    .dataframe tbody tr th {\n",
       "        vertical-align: top;\n",
       "    }\n",
       "\n",
       "    .dataframe thead th {\n",
       "        text-align: right;\n",
       "    }\n",
       "</style>\n",
       "<table border=\"1\" class=\"dataframe\">\n",
       "  <thead>\n",
       "    <tr style=\"text-align: right;\">\n",
       "      <th></th>\n",
       "      <th>Open_6502</th>\n",
       "      <th>High_6502</th>\n",
       "      <th>Low_6502</th>\n",
       "      <th>Close_6502</th>\n",
       "      <th>Volume_6502</th>\n",
       "    </tr>\n",
       "    <tr>\n",
       "      <th>timestamp</th>\n",
       "      <th></th>\n",
       "      <th></th>\n",
       "      <th></th>\n",
       "      <th></th>\n",
       "      <th></th>\n",
       "    </tr>\n",
       "  </thead>\n",
       "  <tbody>\n",
       "  </tbody>\n",
       "</table>\n",
       "</div>"
      ],
      "text/plain": [
       "Empty DataFrame\n",
       "Columns: [Open_6502, High_6502, Low_6502, Close_6502, Volume_6502]\n",
       "Index: []"
      ]
     },
     "execution_count": 58,
     "metadata": {},
     "output_type": "execute_result"
    }
   ],
   "source": [
    "extracted_df = extract_intraday_jp(naive_stock_df, return_as=\"df\")\n",
    "extracted_df.at_time(datetime.time(8,0))"
   ]
  },
  {
   "cell_type": "code",
   "execution_count": 59,
   "metadata": {
    "ExecuteTime": {
     "end_time": "2021-03-27T14:26:34.352699Z",
     "start_time": "2021-03-27T14:26:34.207088Z"
    }
   },
   "outputs": [
    {
     "name": "stdout",
     "output_type": "stream",
     "text": [
      "Timer unit: 1e-07 s\n",
      "\n",
      "Total time: 0.0328537 s\n",
      "File: <ipython-input-56-6cd31f91260a>\n",
      "Function: extract_intraday_jp_index at line 1\n",
      "\n",
      "Line #      Hits         Time  Per Hit   % Time  Line Contents\n",
      "==============================================================\n",
      "     1                                           def extract_intraday_jp_index(dt_index, return_as=\"index\"):\n",
      "     2                                               \"\"\"\n",
      "     3                                               pd.DatetimeIndexから，日中のデータのものを抽出．出力データ形式をreturn_asで指定する．\n",
      "     4                                               dt_index: pd.DatetimeIndex\n",
      "     5                                                   入力するDatetimeIndex\n",
      "     6                                               return_as: str\n",
      "     7                                                   出力データの形式\n",
      "     8                                                   - \"index\": 引数としたdfの対応するインデックスを返す\n",
      "     9                                                   - \"bool\": 引数としたdfに対応するboolインデックスを返す\n",
      "    10                                               \"\"\"\n",
      "    11                                               \n",
      "    12                                               # 返り値の形式の指定\n",
      "    13         1         93.0     93.0      0.0      return_as_set = {\"index\", \"bool\"}\n",
      "    14         1         87.0     87.0      0.0      if not return_as in return_as_set:\n",
      "    15                                                   raise Exception(\"return_as must be any in {}\".format(return_as_set))    \n",
      "    16                                             \n",
      "    17         1       6407.0   6407.0      2.0      bool_array = np.full(len(dt_index), False)\n",
      "    18                                               \n",
      "    19                                               # ボーダー内のboolをTrueにする\n",
      "    20         3        836.0    278.7      0.3      for borders in option.intraday_borders:\n",
      "    21         2        228.0    114.0      0.1          start_time, end_time = borders[0], borders[1]  # 開始時刻と終了時刻\n",
      "    22         2     318572.0 159286.0     97.0          in_border_indice = dt_index.indexer_between_time(start_time=start_time, end_time=end_time, include_end=False)\n",
      "    23         2       2211.0   1105.5      0.7          bool_array[in_border_indice] = True\n",
      "    24                                               \n",
      "    25         1         55.0     55.0      0.0      if return_as==\"bool\":\n",
      "    26         1         48.0     48.0      0.0          return bool_array\n",
      "    27                                           \n",
      "    28                                               elif return_as==\"index\":\n",
      "    29                                                   intraday_indice = dt_index[bool_array]\n",
      "    30                                                   return intraday_indice\n",
      "\n",
      "Total time: 0.048206 s\n",
      "File: <ipython-input-57-1516331a793b>\n",
      "Function: extract_intraday_jp at line 1\n",
      "\n",
      "Line #      Hits         Time  Per Hit   % Time  Line Contents\n",
      "==============================================================\n",
      "     1                                           def extract_intraday_jp(df, return_as=\"df\"):\n",
      "     2                                               \"\"\"\n",
      "     3                                               データフレームから，日中のデータのものを抽出．出力データ形式をreturn_asで指定する．\n",
      "     4                                               df: pd.DataFrame(インデックスとしてpd.DatetimeIndex)\n",
      "     5                                                   入力データ\n",
      "     6                                               return_as: str\n",
      "     7                                                   出力データの形式\n",
      "     8                                                   - \"df\": 抽出した新しいpd.DataFrameを返す\n",
      "     9                                                   - \"index\": 引数としたdfの対応するインデックスを返す\n",
      "    10                                                   - \"bool\": 引数としたdfに対応するboolインデックスを返す\n",
      "    11                                               \"\"\"\n",
      "    12                                               \n",
      "    13                                               # 返り値の形式の指定\n",
      "    14         1        108.0    108.0      0.0      return_as_set = {\"df\", \"index\", \"bool\"}\n",
      "    15         1         80.0     80.0      0.0      if not return_as in return_as_set:\n",
      "    16                                                   raise Exception(\"return_as must be any in {}\".format(return_as_set))    \n",
      "    17                                             \n",
      "    18         1     330484.0 330484.0     68.6      intraday_bool_array = extract_intraday_jp_index(df.index, return_as=\"bool\")\n",
      "    19         1         42.0     42.0      0.0      if return_as==\"bool\":\n",
      "    20                                                   return intraday_bool_array\n",
      "    21                                               \n",
      "    22         1      17715.0  17715.0      3.7      intraday_indice = df.index[intraday_bool_array]\n",
      "    23         1         68.0     68.0      0.0      if return_as==\"index\":\n",
      "    24                                                   return intraday_indice\n",
      "    25                                               \n",
      "    26         1     133500.0 133500.0     27.7      out_df = df.loc[intraday_indice].copy()\n",
      "    27         1         63.0     63.0      0.0      return out_df\n",
      "\n"
     ]
    }
   ],
   "source": [
    "def temp_func():\n",
    "    extracted_df = extract_intraday_jp(naive_stock_df, return_as=\"df\")\n",
    "    \n",
    "from line_profiler import LineProfiler\n",
    "prf = LineProfiler()                                                                                         \n",
    "#prf.add_module()                                                                                          \n",
    "prf.add_function(extract_intraday_jp)\n",
    "prf.add_function(extract_intraday_jp_index)\n",
    "prf.runcall(temp_func)                                                                                          \n",
    "prf.print_stats()"
   ]
  },
  {
   "cell_type": "markdown",
   "metadata": {},
   "source": [
    "ボトルネックはないようだ"
   ]
  },
  {
   "cell_type": "markdown",
   "metadata": {},
   "source": [
    "### 営業日＋日中データを取得 "
   ]
  },
  {
   "cell_type": "code",
   "execution_count": 60,
   "metadata": {
    "ExecuteTime": {
     "end_time": "2021-03-27T14:26:34.412540Z",
     "start_time": "2021-03-27T14:26:34.364670Z"
    }
   },
   "outputs": [],
   "source": [
    "def extract_workdays_intraday_jp_index(dt_index, return_as=\"index\"):\n",
    "    \"\"\"\n",
    "    pd.DatetimeIndexから，営業日+日中のデータのものを抽出．出力データ形式をreturn_asで指定する．\n",
    "    dt_index: pd.DatetimeIndex\n",
    "        入力するDatetimeIndex\n",
    "    return_as: str\n",
    "        出力データの形式\n",
    "        - \"index\": 引数としたdfの対応するインデックスを返す\n",
    "        - \"bool\": 引数としたdfに対応するboolインデックスを返す\n",
    "    \"\"\"\n",
    "\n",
    "    # 返り値の形式の指定\n",
    "    return_as_set = {\"index\", \"bool\"}\n",
    "    if not return_as in return_as_set:\n",
    "        raise Exception(\"return_as must be any in {}\".format(return_as_set))\n",
    "        \n",
    "    workday_bool_array = extract_workdays_jp_index(dt_index, return_as=\"bool\")\n",
    "    intraday_bool_array = extract_intraday_jp_index(dt_index, return_as=\"bool\")\n",
    "    \n",
    "    workday_intraday_bool_array = workday_bool_array & intraday_bool_array\n",
    "    if return_as==\"bool\":\n",
    "        return workday_intraday_bool_array\n",
    "    elif return_as==\"index\":\n",
    "        workday_intraday_indice = dt_index[workday_intraday_bool_array]\n",
    "        return workday_intraday_indice"
   ]
  },
  {
   "cell_type": "code",
   "execution_count": 61,
   "metadata": {
    "ExecuteTime": {
     "end_time": "2021-03-27T14:26:34.490013Z",
     "start_time": "2021-03-27T14:26:34.448602Z"
    }
   },
   "outputs": [],
   "source": [
    "def extract_workdays_intraday_jp(df, return_as=\"df\"):\n",
    "    \"\"\"\n",
    "    データフレームから，営業日+日中のデータのものを抽出．出力データ形式をreturn_asで指定する．\n",
    "    df: pd.DataFrame(インデックスとしてpd.DatetimeIndex)\n",
    "        入力データ\n",
    "    return_as: str\n",
    "        出力データの形式\n",
    "        - \"df\": 抽出した新しいpd.DataFrameを返す\n",
    "        - \"index\": 引数としたdfの対応するインデックスを返す\n",
    "        - \"bool\": 引数としたdfに対応するboolインデックスを返す\n",
    "    \"\"\"\n",
    "    \n",
    "    # 返り値の形式の指定\n",
    "    return_as_set = {\"df\", \"index\", \"bool\"}\n",
    "    if not return_as in return_as_set:\n",
    "        raise Exception(\"return_as must be any in {}\".format(return_as_set))    \n",
    "       \n",
    "    workday_intraday_bool_array = extract_workdays_intraday_jp_index(df.index, return_as=\"bool\")\n",
    "    \n",
    "    if return_as==\"bool\":\n",
    "        return workday_intraday_bool_array\n",
    "    \n",
    "    workday_intraday_indice = df.index[workday_intraday_bool_array]\n",
    "    \n",
    "    if return_as==\"index\":\n",
    "        return workday_intraday_indice\n",
    "    \n",
    "    out_df = df.loc[workday_intraday_indice].copy()\n",
    "    return out_df"
   ]
  },
  {
   "cell_type": "code",
   "execution_count": 62,
   "metadata": {
    "ExecuteTime": {
     "end_time": "2021-03-27T14:26:34.804845Z",
     "start_time": "2021-03-27T14:26:34.502397Z"
    }
   },
   "outputs": [
    {
     "data": {
      "text/html": [
       "<div>\n",
       "<style scoped>\n",
       "    .dataframe tbody tr th:only-of-type {\n",
       "        vertical-align: middle;\n",
       "    }\n",
       "\n",
       "    .dataframe tbody tr th {\n",
       "        vertical-align: top;\n",
       "    }\n",
       "\n",
       "    .dataframe thead th {\n",
       "        text-align: right;\n",
       "    }\n",
       "</style>\n",
       "<table border=\"1\" class=\"dataframe\">\n",
       "  <thead>\n",
       "    <tr style=\"text-align: right;\">\n",
       "      <th></th>\n",
       "      <th>Open_6502</th>\n",
       "      <th>High_6502</th>\n",
       "      <th>Low_6502</th>\n",
       "      <th>Close_6502</th>\n",
       "      <th>Volume_6502</th>\n",
       "    </tr>\n",
       "    <tr>\n",
       "      <th>timestamp</th>\n",
       "      <th></th>\n",
       "      <th></th>\n",
       "      <th></th>\n",
       "      <th></th>\n",
       "      <th></th>\n",
       "    </tr>\n",
       "  </thead>\n",
       "  <tbody>\n",
       "    <tr>\n",
       "      <th>2020-11-04 09:00:00+09:00</th>\n",
       "      <td>2669.0</td>\n",
       "      <td>2670.0</td>\n",
       "      <td>2658.0</td>\n",
       "      <td>2664.0</td>\n",
       "      <td>93000.0</td>\n",
       "    </tr>\n",
       "    <tr>\n",
       "      <th>2020-11-05 09:00:00+09:00</th>\n",
       "      <td>2631.0</td>\n",
       "      <td>2641.0</td>\n",
       "      <td>2630.0</td>\n",
       "      <td>2639.0</td>\n",
       "      <td>55000.0</td>\n",
       "    </tr>\n",
       "    <tr>\n",
       "      <th>2020-11-06 09:00:00+09:00</th>\n",
       "      <td>2615.0</td>\n",
       "      <td>2644.0</td>\n",
       "      <td>2609.0</td>\n",
       "      <td>2617.0</td>\n",
       "      <td>90700.0</td>\n",
       "    </tr>\n",
       "    <tr>\n",
       "      <th>2020-11-09 09:00:00+09:00</th>\n",
       "      <td>2711.0</td>\n",
       "      <td>2719.0</td>\n",
       "      <td>2707.0</td>\n",
       "      <td>2710.0</td>\n",
       "      <td>0.0</td>\n",
       "    </tr>\n",
       "    <tr>\n",
       "      <th>2020-11-10 09:00:00+09:00</th>\n",
       "      <td>2780.0</td>\n",
       "      <td>2782.0</td>\n",
       "      <td>2770.0</td>\n",
       "      <td>2777.0</td>\n",
       "      <td>142700.0</td>\n",
       "    </tr>\n",
       "    <tr>\n",
       "      <th>2020-11-11 09:00:00+09:00</th>\n",
       "      <td>NaN</td>\n",
       "      <td>NaN</td>\n",
       "      <td>NaN</td>\n",
       "      <td>NaN</td>\n",
       "      <td>NaN</td>\n",
       "    </tr>\n",
       "    <tr>\n",
       "      <th>2020-11-12 09:00:00+09:00</th>\n",
       "      <td>2788.0</td>\n",
       "      <td>2800.0</td>\n",
       "      <td>2781.0</td>\n",
       "      <td>2789.0</td>\n",
       "      <td>108400.0</td>\n",
       "    </tr>\n",
       "    <tr>\n",
       "      <th>2020-11-13 09:00:00+09:00</th>\n",
       "      <td>2750.0</td>\n",
       "      <td>2754.0</td>\n",
       "      <td>2741.0</td>\n",
       "      <td>2750.0</td>\n",
       "      <td>71500.0</td>\n",
       "    </tr>\n",
       "    <tr>\n",
       "      <th>2020-11-16 09:00:00+09:00</th>\n",
       "      <td>2714.0</td>\n",
       "      <td>2716.0</td>\n",
       "      <td>2705.0</td>\n",
       "      <td>2710.0</td>\n",
       "      <td>111000.0</td>\n",
       "    </tr>\n",
       "    <tr>\n",
       "      <th>2020-11-17 09:00:00+09:00</th>\n",
       "      <td>2748.0</td>\n",
       "      <td>2748.0</td>\n",
       "      <td>2729.0</td>\n",
       "      <td>2734.0</td>\n",
       "      <td>124400.0</td>\n",
       "    </tr>\n",
       "    <tr>\n",
       "      <th>2020-11-18 09:00:00+09:00</th>\n",
       "      <td>2819.0</td>\n",
       "      <td>2823.0</td>\n",
       "      <td>2814.0</td>\n",
       "      <td>2820.0</td>\n",
       "      <td>76000.0</td>\n",
       "    </tr>\n",
       "    <tr>\n",
       "      <th>2020-11-19 09:00:00+09:00</th>\n",
       "      <td>2858.0</td>\n",
       "      <td>2867.0</td>\n",
       "      <td>2858.0</td>\n",
       "      <td>2860.0</td>\n",
       "      <td>107000.0</td>\n",
       "    </tr>\n",
       "    <tr>\n",
       "      <th>2020-11-20 09:00:00+09:00</th>\n",
       "      <td>2875.0</td>\n",
       "      <td>2887.0</td>\n",
       "      <td>2873.0</td>\n",
       "      <td>2884.0</td>\n",
       "      <td>106000.0</td>\n",
       "    </tr>\n",
       "    <tr>\n",
       "      <th>2020-11-24 09:00:00+09:00</th>\n",
       "      <td>2957.0</td>\n",
       "      <td>2967.0</td>\n",
       "      <td>2952.0</td>\n",
       "      <td>2966.0</td>\n",
       "      <td>0.0</td>\n",
       "    </tr>\n",
       "    <tr>\n",
       "      <th>2020-11-25 09:00:00+09:00</th>\n",
       "      <td>2927.0</td>\n",
       "      <td>2934.0</td>\n",
       "      <td>2926.0</td>\n",
       "      <td>2933.0</td>\n",
       "      <td>74000.0</td>\n",
       "    </tr>\n",
       "    <tr>\n",
       "      <th>2020-11-26 09:00:00+09:00</th>\n",
       "      <td>2822.0</td>\n",
       "      <td>2831.0</td>\n",
       "      <td>2818.0</td>\n",
       "      <td>2824.0</td>\n",
       "      <td>93500.0</td>\n",
       "    </tr>\n",
       "    <tr>\n",
       "      <th>2020-11-27 09:00:00+09:00</th>\n",
       "      <td>2809.0</td>\n",
       "      <td>2828.0</td>\n",
       "      <td>2809.0</td>\n",
       "      <td>2822.0</td>\n",
       "      <td>107600.0</td>\n",
       "    </tr>\n",
       "    <tr>\n",
       "      <th>2020-11-30 09:00:00+09:00</th>\n",
       "      <td>2940.0</td>\n",
       "      <td>2954.0</td>\n",
       "      <td>2936.0</td>\n",
       "      <td>2940.0</td>\n",
       "      <td>225300.0</td>\n",
       "    </tr>\n",
       "  </tbody>\n",
       "</table>\n",
       "</div>"
      ],
      "text/plain": [
       "                           Open_6502  High_6502  Low_6502  Close_6502  \\\n",
       "timestamp                                                               \n",
       "2020-11-04 09:00:00+09:00     2669.0     2670.0    2658.0      2664.0   \n",
       "2020-11-05 09:00:00+09:00     2631.0     2641.0    2630.0      2639.0   \n",
       "2020-11-06 09:00:00+09:00     2615.0     2644.0    2609.0      2617.0   \n",
       "2020-11-09 09:00:00+09:00     2711.0     2719.0    2707.0      2710.0   \n",
       "2020-11-10 09:00:00+09:00     2780.0     2782.0    2770.0      2777.0   \n",
       "2020-11-11 09:00:00+09:00        NaN        NaN       NaN         NaN   \n",
       "2020-11-12 09:00:00+09:00     2788.0     2800.0    2781.0      2789.0   \n",
       "2020-11-13 09:00:00+09:00     2750.0     2754.0    2741.0      2750.0   \n",
       "2020-11-16 09:00:00+09:00     2714.0     2716.0    2705.0      2710.0   \n",
       "2020-11-17 09:00:00+09:00     2748.0     2748.0    2729.0      2734.0   \n",
       "2020-11-18 09:00:00+09:00     2819.0     2823.0    2814.0      2820.0   \n",
       "2020-11-19 09:00:00+09:00     2858.0     2867.0    2858.0      2860.0   \n",
       "2020-11-20 09:00:00+09:00     2875.0     2887.0    2873.0      2884.0   \n",
       "2020-11-24 09:00:00+09:00     2957.0     2967.0    2952.0      2966.0   \n",
       "2020-11-25 09:00:00+09:00     2927.0     2934.0    2926.0      2933.0   \n",
       "2020-11-26 09:00:00+09:00     2822.0     2831.0    2818.0      2824.0   \n",
       "2020-11-27 09:00:00+09:00     2809.0     2828.0    2809.0      2822.0   \n",
       "2020-11-30 09:00:00+09:00     2940.0     2954.0    2936.0      2940.0   \n",
       "\n",
       "                           Volume_6502  \n",
       "timestamp                               \n",
       "2020-11-04 09:00:00+09:00      93000.0  \n",
       "2020-11-05 09:00:00+09:00      55000.0  \n",
       "2020-11-06 09:00:00+09:00      90700.0  \n",
       "2020-11-09 09:00:00+09:00          0.0  \n",
       "2020-11-10 09:00:00+09:00     142700.0  \n",
       "2020-11-11 09:00:00+09:00          NaN  \n",
       "2020-11-12 09:00:00+09:00     108400.0  \n",
       "2020-11-13 09:00:00+09:00      71500.0  \n",
       "2020-11-16 09:00:00+09:00     111000.0  \n",
       "2020-11-17 09:00:00+09:00     124400.0  \n",
       "2020-11-18 09:00:00+09:00      76000.0  \n",
       "2020-11-19 09:00:00+09:00     107000.0  \n",
       "2020-11-20 09:00:00+09:00     106000.0  \n",
       "2020-11-24 09:00:00+09:00          0.0  \n",
       "2020-11-25 09:00:00+09:00      74000.0  \n",
       "2020-11-26 09:00:00+09:00      93500.0  \n",
       "2020-11-27 09:00:00+09:00     107600.0  \n",
       "2020-11-30 09:00:00+09:00     225300.0  "
      ]
     },
     "execution_count": 62,
     "metadata": {},
     "output_type": "execute_result"
    }
   ],
   "source": [
    "extracted_df = extract_workdays_intraday_jp(aware_stock_df, return_as=\"df\")\n",
    "extracted_df.at_time(datetime.time(9,0))"
   ]
  },
  {
   "cell_type": "code",
   "execution_count": 63,
   "metadata": {
    "ExecuteTime": {
     "end_time": "2021-03-27T14:26:34.866801Z",
     "start_time": "2021-03-27T14:26:34.815817Z"
    }
   },
   "outputs": [
    {
     "data": {
      "text/html": [
       "<div>\n",
       "<style scoped>\n",
       "    .dataframe tbody tr th:only-of-type {\n",
       "        vertical-align: middle;\n",
       "    }\n",
       "\n",
       "    .dataframe tbody tr th {\n",
       "        vertical-align: top;\n",
       "    }\n",
       "\n",
       "    .dataframe thead th {\n",
       "        text-align: right;\n",
       "    }\n",
       "</style>\n",
       "<table border=\"1\" class=\"dataframe\">\n",
       "  <thead>\n",
       "    <tr style=\"text-align: right;\">\n",
       "      <th></th>\n",
       "      <th>Open_6502</th>\n",
       "      <th>High_6502</th>\n",
       "      <th>Low_6502</th>\n",
       "      <th>Close_6502</th>\n",
       "      <th>Volume_6502</th>\n",
       "    </tr>\n",
       "    <tr>\n",
       "      <th>timestamp</th>\n",
       "      <th></th>\n",
       "      <th></th>\n",
       "      <th></th>\n",
       "      <th></th>\n",
       "      <th></th>\n",
       "    </tr>\n",
       "  </thead>\n",
       "  <tbody>\n",
       "  </tbody>\n",
       "</table>\n",
       "</div>"
      ],
      "text/plain": [
       "Empty DataFrame\n",
       "Columns: [Open_6502, High_6502, Low_6502, Close_6502, Volume_6502]\n",
       "Index: []"
      ]
     },
     "execution_count": 63,
     "metadata": {},
     "output_type": "execute_result"
    }
   ],
   "source": [
    "extracted_df.at_time(datetime.time(8,0))"
   ]
  },
  {
   "cell_type": "markdown",
   "metadata": {},
   "source": [
    "## 以上のプロファイリングを考慮した新しいバージョン "
   ]
  },
  {
   "cell_type": "markdown",
   "metadata": {},
   "source": [
    "## 営業日の取得 "
   ]
  },
  {
   "cell_type": "markdown",
   "metadata": {},
   "source": [
    "### 指定した期間の営業日のndarrayを取得する"
   ]
  },
  {
   "cell_type": "code",
   "execution_count": 64,
   "metadata": {
    "ExecuteTime": {
     "end_time": "2021-03-27T14:26:34.945054Z",
     "start_time": "2021-03-27T14:26:34.876776Z"
    }
   },
   "outputs": [],
   "source": [
    "def get_workdays_jp(start_date, end_date, return_as=\"date\", end_include=False):\n",
    "    \"\"\"\n",
    "    営業日を取得\n",
    "    \n",
    "    start_date: datetime.date\n",
    "        開始時刻のdate\n",
    "    end_datetime: datetime.date\n",
    "        終了時刻のdate\n",
    "    return_as: str, defalt: 'dt'\n",
    "        返り値の形式\n",
    "        - 'dt':pd.DatetimeIndex\n",
    "        - 'date': datetime.date array\n",
    "    end_include: bool\n",
    "        最終日も含めて出力するか\n",
    "    \"\"\"\n",
    "    assert isinstance(start_date, datetime.date) and isinstance(end_date, datetime.date)\n",
    "    # 返り値の形式の指定\n",
    "    return_as_set = {\"dt\", \"date\"}\n",
    "    if not return_as in return_as_set:\n",
    "        raise Exception(\"return_as must be any in {}\".format(return_as_set))\n",
    "    \n",
    "    # datetime.dateをpd.Timestampに変換(datetime.dateは通常pd.DatetimeIndexと比較できないため)\n",
    "    start_timestamp = pd.Timestamp(start_date)\n",
    "    end_timestamp = pd.Timestamp(end_date)\n",
    "    \n",
    "    # 期間中のholidayを取得\n",
    "    holidays_in_span_index = (start_timestamp<=option.holidays_datetimeindex)&(option.holidays_datetimeindex<end_timestamp)  # DatetimeIndexを使うことに注意\n",
    "    holidays_in_span_datetimeindex = option.holidays_datetimeindex[holidays_in_span_index]  # ndarrayを使う\n",
    "\n",
    "    # 期間中のdatetimeのarrayを取得\n",
    "    if end_include:\n",
    "        days_datetimeindex = pd.date_range(start=start_date, end=end_date, freq=\"D\")  # 最終日も含める\n",
    "    else:\n",
    "        days_datetimeindex = pd.date_range(start=start_date, end=end_date-datetime.timedelta(days=1), freq=\"D\")  # 最終日は含めない\n",
    "    \n",
    "    \n",
    "    # 休日に含まれないもの，さらに土日に含まれないもののboolインデックスを取得\n",
    "    holiday_bool_array = days_datetimeindex.isin(holidays_in_span_datetimeindex)  # 休日であるかのブール\n",
    "    \n",
    "    days_weekday_array = days_datetimeindex.weekday.values\n",
    "    holiday_weekday_each_bool_arrays = [days_weekday_array==weekday for weekday in option.holiday_weekdays]  # inを使うのを回避\n",
    "    holiday_weekday_bool_array = np.logical_or.reduce(holiday_weekday_each_bool_arrays)  # 休日曜日\n",
    "    \n",
    "    workdays_bool_array = (~holiday_bool_array)&(~holiday_weekday_bool_array)  # 休日でなく休日曜日でない\n",
    "    \n",
    "    workdays_datetimeindex = days_datetimeindex[workdays_bool_array].copy()\n",
    "    if return_as==\"dt\":\n",
    "        return workdays_datetimeindex\n",
    "    elif return_as==\"date\":\n",
    "        return workdays_datetimeindex.date"
   ]
  },
  {
   "cell_type": "code",
   "execution_count": 65,
   "metadata": {
    "ExecuteTime": {
     "end_time": "2021-03-27T14:26:35.083389Z",
     "start_time": "2021-03-27T14:26:34.960015Z"
    }
   },
   "outputs": [
    {
     "name": "stdout",
     "output_type": "stream",
     "text": [
      "Timer unit: 1e-07 s\n",
      "\n",
      "Total time: 0.0121342 s\n",
      "File: <ipython-input-64-990d4bea55dd>\n",
      "Function: get_workdays_jp at line 1\n",
      "\n",
      "Line #      Hits         Time  Per Hit   % Time  Line Contents\n",
      "==============================================================\n",
      "     1                                           def get_workdays_jp(start_date, end_date, return_as=\"date\", end_include=False):\n",
      "     2                                               \"\"\"\n",
      "     3                                               営業日を取得\n",
      "     4                                               \n",
      "     5                                               start_date: datetime.date\n",
      "     6                                                   開始時刻のdate\n",
      "     7                                               end_datetime: datetime.date\n",
      "     8                                                   終了時刻のdate\n",
      "     9                                               return_as: str, defalt: 'dt'\n",
      "    10                                                   返り値の形式\n",
      "    11                                                   - 'dt':pd.DatetimeIndex\n",
      "    12                                                   - 'date': datetime.date array\n",
      "    13                                               end_include: bool\n",
      "    14                                                   最終日も含めて出力するか\n",
      "    15                                               \"\"\"\n",
      "    16         1        305.0    305.0      0.3      assert isinstance(start_date, datetime.date) and isinstance(end_date, datetime.date)\n",
      "    17                                               # 返り値の形式の指定\n",
      "    18         1         96.0     96.0      0.1      return_as_set = {\"dt\", \"date\"}\n",
      "    19         1         84.0     84.0      0.1      if not return_as in return_as_set:\n",
      "    20                                                   raise Exception(\"return_as must be any in {}\".format(return_as_set))\n",
      "    21                                               \n",
      "    22                                               # datetime.dateをpd.Timestampに変換(datetime.dateは通常pd.DatetimeIndexと比較できないため)\n",
      "    23         1        613.0    613.0      0.5      start_timestamp = pd.Timestamp(start_date)\n",
      "    24         1        301.0    301.0      0.2      end_timestamp = pd.Timestamp(end_date)\n",
      "    25                                               \n",
      "    26                                               # 期間中のholidayを取得\n",
      "    27         1      23315.0  23315.0     19.2      holidays_in_span_index = (start_timestamp<=option.holidays_datetimeindex)&(option.holidays_datetimeindex<end_timestamp)  # DatetimeIndexを使うことに注意\n",
      "    28         1      25552.0  25552.0     21.1      holidays_in_span_datetimeindex = option.holidays_datetimeindex[holidays_in_span_index]  # ndarrayを使う\n",
      "    29                                           \n",
      "    30                                               # 期間中のdatetimeのarrayを取得\n",
      "    31         1        114.0    114.0      0.1      if end_include:\n",
      "    32                                                   days_datetimeindex = pd.date_range(start=start_date, end=end_date, freq=\"D\")  # 最終日も含める\n",
      "    33                                               else:\n",
      "    34         1      18375.0  18375.0     15.1          days_datetimeindex = pd.date_range(start=start_date, end=end_date-datetime.timedelta(days=1), freq=\"D\")  # 最終日は含めない\n",
      "    35                                               \n",
      "    36                                               \n",
      "    37                                               # 休日に含まれないもの，さらに土日に含まれないもののboolインデックスを取得\n",
      "    38         1      10848.0  10848.0      8.9      holiday_bool_array = days_datetimeindex.isin(holidays_in_span_datetimeindex)  # 休日であるかのブール\n",
      "    39                                               \n",
      "    40         1      12740.0  12740.0     10.5      days_weekday_array = days_datetimeindex.weekday.values\n",
      "    41         1        711.0    711.0      0.6      holiday_weekday_each_bool_arrays = [days_weekday_array==weekday for weekday in option.holiday_weekdays]  # inを使うのを回避\n",
      "    42         1        888.0    888.0      0.7      holiday_weekday_bool_array = np.logical_or.reduce(holiday_weekday_each_bool_arrays)  # 休日曜日\n",
      "    43                                               \n",
      "    44         1        350.0    350.0      0.3      workdays_bool_array = (~holiday_bool_array)&(~holiday_weekday_bool_array)  # 休日でなく休日曜日でない\n",
      "    45                                               \n",
      "    46         1      18497.0  18497.0     15.2      workdays_datetimeindex = days_datetimeindex[workdays_bool_array].copy()\n",
      "    47         1         98.0     98.0      0.1      if return_as==\"dt\":\n",
      "    48                                                   return workdays_datetimeindex\n",
      "    49         1         78.0     78.0      0.1      elif return_as==\"date\":\n",
      "    50         1       8377.0   8377.0      6.9          return workdays_datetimeindex.date\n",
      "\n"
     ]
    }
   ],
   "source": [
    "def temp_func():\n",
    "    start_date = datetime.datetime(2021, 1, 1)\n",
    "    end_date = datetime.datetime(2021, 12, 31)\n",
    "    workdays = get_workdays_jp(start_date, end_date, return_as=\"date\", end_include=False)\n",
    "\n",
    "from line_profiler import LineProfiler\n",
    "prf = LineProfiler()                                                                                         \n",
    "#prf.add_module()                                                                                          \n",
    "prf.add_function(get_workdays_jp)                                                                                      \n",
    "prf.runcall(temp_func)                                                                                          \n",
    "prf.print_stats()"
   ]
  },
  {
   "cell_type": "markdown",
   "metadata": {},
   "source": [
    "### 営業日であるかどうか "
   ]
  },
  {
   "cell_type": "code",
   "execution_count": 66,
   "metadata": {
    "ExecuteTime": {
     "end_time": "2021-03-27T14:26:35.148225Z",
     "start_time": "2021-03-27T14:26:35.094363Z"
    }
   },
   "outputs": [],
   "source": [
    "def check_workday_jp(select_date):\n",
    "    \"\"\"\n",
    "    与えられたdatetime.dateが営業日であるかどうかを出力する\n",
    "    select_date: datetime.date\n",
    "        入力するdate\n",
    "    \"\"\"\n",
    "    assert isinstance(select_date, datetime.date)\n",
    "    # 休日であるかどうか\n",
    "    is_holiday = (option.holidays_date_array==select_date).sum() > 0\n",
    "    \n",
    "    # 休日曜日であるかどうか\n",
    "    is_holiday_weekday = select_date.weekday() in set(option.holiday_weekdays)\n",
    "    \n",
    "    is_workday = not any([is_holiday, is_holiday_weekday])\n",
    "    \n",
    "    return is_workday"
   ]
  },
  {
   "cell_type": "code",
   "execution_count": 67,
   "metadata": {
    "ExecuteTime": {
     "end_time": "2021-03-27T14:26:35.224015Z",
     "start_time": "2021-03-27T14:26:35.162180Z"
    }
   },
   "outputs": [
    {
     "name": "stdout",
     "output_type": "stream",
     "text": [
      "Timer unit: 1e-07 s\n",
      "\n",
      "Total time: 0.0008685 s\n",
      "File: <ipython-input-66-32034ee082ba>\n",
      "Function: check_workday_jp at line 1\n",
      "\n",
      "Line #      Hits         Time  Per Hit   % Time  Line Contents\n",
      "==============================================================\n",
      "     1                                           def check_workday_jp(select_date):\n",
      "     2                                               \"\"\"\n",
      "     3                                               与えられたdatetime.dateが営業日であるかどうかを出力する\n",
      "     4                                               select_date: datetime.date\n",
      "     5                                                   入力するdate\n",
      "     6                                               \"\"\"\n",
      "     7         1       1929.0   1929.0     22.2      assert isinstance(select_date, datetime.date)\n",
      "     8                                               # 休日であるかどうか\n",
      "     9         1       4497.0   4497.0     51.8      is_holiday = (option.holidays_date_array==select_date).sum() > 0\n",
      "    10                                               \n",
      "    11                                               # 休日曜日であるかどうか\n",
      "    12         1        444.0    444.0      5.1      is_holiday_weekday = select_date.weekday() in set(option.holiday_weekdays)\n",
      "    13                                               \n",
      "    14         1        136.0    136.0      1.6      is_workday = not any([is_holiday, is_holiday_weekday])\n",
      "    15                                               \n",
      "    16         1       1679.0   1679.0     19.3      return is_workday\n",
      "\n"
     ]
    }
   ],
   "source": [
    "def temp_func():\n",
    "    select_date = datetime.date(2021, 1, 3)\n",
    "    check_workday_jp(select_date)\n",
    "    \n",
    "from line_profiler import LineProfiler\n",
    "prf = LineProfiler()                                                                                         \n",
    "#prf.add_module()                                                                                          \n",
    "prf.add_function(check_workday_jp)                                                                                      \n",
    "prf.runcall(temp_func)                                                                                          \n",
    "prf.print_stats()"
   ]
  },
  {
   "cell_type": "code",
   "execution_count": 69,
   "metadata": {
    "ExecuteTime": {
     "end_time": "2021-03-27T14:27:49.488048Z",
     "start_time": "2021-03-27T14:27:49.331600Z"
    }
   },
   "outputs": [
    {
     "name": "stdout",
     "output_type": "stream",
     "text": [
      "Timer unit: 1e-07 s\n",
      "\n",
      "Total time: 0.030399 s\n",
      "File: <ipython-input-32-b69df8e77b24>\n",
      "Function: get_next_workday_jp at line 1\n",
      "\n",
      "Line #      Hits         Time  Per Hit   % Time  Line Contents\n",
      "==============================================================\n",
      "     1                                           def get_next_workday_jp(select_date, days=1, select_include=False, return_as=\"date\"):\n",
      "     2                                               \"\"\"\n",
      "     3                                               指定した日数後の営業日を取得\n",
      "     4                                               select_date: datetime.date\n",
      "     5                                                   指定する日時\n",
      "     6                                               days: int\n",
      "     7                                                   日数\n",
      "     8                                               return_as: str, defalt: 'dt'\n",
      "     9                                                   返り値の形式\n",
      "    10                                                   - 'dt':pd.Timstamp\n",
      "    11                                                   - 'datetime': datetime.datetime array\n",
      "    12                                               \"\"\"\n",
      "    13         1        195.0    195.0      0.1      assert isinstance(select_date, datetime.date)\n",
      "    14                                               # 返り値の形式の指定\n",
      "    15         1        131.0    131.0      0.0      return_as_set = {\"dt\", \"date\"}\n",
      "    16         1        111.0    111.0      0.0      if not return_as in return_as_set:\n",
      "    17                                                   raise Exception(\"return_as must be any in {}\".format(return_as_set))\n",
      "    18                                                   \n",
      "    19                                           \n",
      "    20         1        111.0    111.0      0.0      def get_next_workday_jp_gen(select_date):\n",
      "    21                                                   add_days = 1  # 追加日数の初期値\n",
      "    22                                                   while True:\n",
      "    23                                                       next_day = select_date + datetime.timedelta(days=add_days)\n",
      "    24                                                       if check_workday_jp(next_day):\n",
      "    25                                                           yield next_day\n",
      "    26                                                       add_days += 1  # 追加日数をさらに追加\n",
      "    27                                               \n",
      "    28         1        111.0    111.0      0.0      next_workday_gen = get_next_workday_jp_gen(select_date)\n",
      "    29                                               \n",
      "    30        44       4631.0    105.2      1.5      for i in range(days):\n",
      "    31        43     298553.0   6943.1     98.2          next_day = next(next_workday_gen)\n",
      "    32                                               \n",
      "    33         1         76.0     76.0      0.0      if return_as==\"date\":\n",
      "    34         1         71.0     71.0      0.0          return next_day\n",
      "    35                                               elif return_as==\"dt\":\n",
      "    36                                                   return pd.Timestamp(next_day)\n",
      "\n",
      "Total time: 0.0214684 s\n",
      "File: <ipython-input-66-32034ee082ba>\n",
      "Function: check_workday_jp at line 1\n",
      "\n",
      "Line #      Hits         Time  Per Hit   % Time  Line Contents\n",
      "==============================================================\n",
      "     1                                           def check_workday_jp(select_date):\n",
      "     2                                               \"\"\"\n",
      "     3                                               与えられたdatetime.dateが営業日であるかどうかを出力する\n",
      "     4                                               select_date: datetime.date\n",
      "     5                                                   入力するdate\n",
      "     6                                               \"\"\"\n",
      "     7        66      20700.0    313.6      9.6      assert isinstance(select_date, datetime.date)\n",
      "     8                                               # 休日であるかどうか\n",
      "     9        66     142420.0   2157.9     66.3      is_holiday = (option.holidays_date_array==select_date).sum() > 0\n",
      "    10                                               \n",
      "    11                                               # 休日曜日であるかどうか\n",
      "    12        66      38773.0    587.5     18.1      is_holiday_weekday = select_date.weekday() in set(option.holiday_weekdays)\n",
      "    13                                               \n",
      "    14        66       8583.0    130.0      4.0      is_workday = not any([is_holiday, is_holiday_weekday])\n",
      "    15                                               \n",
      "    16        66       4208.0     63.8      2.0      return is_workday\n",
      "\n"
     ]
    }
   ],
   "source": [
    "def temp_func():\n",
    "    next_workday = get_next_workday_jp(select_date, days=43, return_as=\"date\")\n",
    "\n",
    "from line_profiler import LineProfiler\n",
    "prf = LineProfiler()                                                                                         \n",
    "#prf.add_module()                                                                                          \n",
    "prf.add_function(check_workday_jp) \n",
    "prf.add_function(get_next_workday_jp)\n",
    "prf.runcall(temp_func)                                                                                          \n",
    "prf.print_stats()"
   ]
  },
  {
   "cell_type": "markdown",
   "metadata": {},
   "source": [
    "### 非営業日を取得 "
   ]
  },
  {
   "cell_type": "code",
   "execution_count": 70,
   "metadata": {
    "ExecuteTime": {
     "end_time": "2021-03-27T14:28:15.383354Z",
     "start_time": "2021-03-27T14:28:15.277085Z"
    }
   },
   "outputs": [],
   "source": [
    "def get_not_workdays_jp(start_date, end_date, return_as=\"date\", end_include=False):\n",
    "    \"\"\"\n",
    "    非営業日を取得(土日or祝日)\n",
    "    \n",
    "    start_date: datetime.date\n",
    "        開始時刻のdate\n",
    "    end_datetime: datetime.date\n",
    "        終了時刻のdate\n",
    "    return_as: str, defalt: 'dt'\n",
    "        返り値の形式\n",
    "        - 'dt':pd.DatetimeIndex\n",
    "        - 'date': datetime.date array\n",
    "    end_include: bool\n",
    "        最終日も含めて出力するか\n",
    "    \"\"\"\n",
    "    assert isinstance(start_date, datetime.date) and isinstance(end_date, datetime.date)\n",
    "    # 返り値の形式の指定\n",
    "    return_as_set = {\"dt\", \"date\"}\n",
    "    if not return_as in return_as_set:\n",
    "        raise Exception(\"return_as must be any in {}\".format(return_as_set))\n",
    "    \n",
    "    # datetime.dateをpd.Timestampに変換(datetime.dateは通常pd.DatetimeIndexと比較できないため)\n",
    "    start_timestamp = pd.Timestamp(start_date)\n",
    "    end_timestamp = pd.Timestamp(end_date)\n",
    "    \n",
    "    # 期間中のholidayを取得\n",
    "    holidays_in_span_index = (start_timestamp<=option.holidays_datetimeindex)&(option.holidays_datetimeindex<end_timestamp)  # DatetimeIndexを使うことに注意\n",
    "    holidays_in_span_datetimeindex = option.holidays_datetimeindex[holidays_in_span_index]  # pd.DatetimeIndexを使う\n",
    "\n",
    "    # 期間中のdatetimeのarrayを取得\n",
    "    if end_include:\n",
    "        days_datetimeindex = pd.date_range(start=start_date, end=end_date, freq=\"D\")  # 最終日も含める\n",
    "    else:\n",
    "        days_datetimeindex = pd.date_range(start=start_date, end=end_date-datetime.timedelta(days=1), freq=\"D\")  # 最終日は含めない\n",
    "    \n",
    "    # 休日に含まれないもの，さらに休日曜日に含まれないもののboolインデックスを取得\n",
    "    holiday_bool_array = days_datetimeindex.isin(holidays_in_span_datetimeindex)  # 休日であるかのブール\n",
    "    \n",
    "    days_weekday_array = days_datetimeindex.weekday.values\n",
    "    holiday_weekday_each_bool_arrays = [days_weekday_array==weekday for weekday in option.holiday_weekdays]  # inを使うのを回避\n",
    "    holiday_weekday_bool_array = np.logical_or.reduce(holiday_weekday_each_bool_arrays)  # 休日曜日\n",
    "    \n",
    "    not_workdays_bool_array = holiday_bool_array | holiday_weekday_bool_array  # 休日あるいは休日曜日\n",
    "    \n",
    "    not_workdays_datetimeindex = days_datetimeindex[not_workdays_bool_array].copy()\n",
    "    if return_as==\"dt\":\n",
    "        return not_workdays_datetimeindex\n",
    "    elif return_as==\"date\":\n",
    "        return not_workdays_datetimeindex.date"
   ]
  },
  {
   "cell_type": "markdown",
   "metadata": {},
   "source": [
    "## 指定した日数後の営業日を取得 "
   ]
  },
  {
   "cell_type": "code",
   "execution_count": 71,
   "metadata": {
    "ExecuteTime": {
     "end_time": "2021-03-27T14:28:17.761030Z",
     "start_time": "2021-03-27T14:28:17.692595Z"
    }
   },
   "outputs": [],
   "source": [
    "def get_next_workday_jp(select_date, days=1, select_include=False, return_as=\"date\"):\n",
    "    \"\"\"\n",
    "    指定した日数後の営業日を取得\n",
    "    select_date: datetime.date\n",
    "        指定する日時\n",
    "    days: int\n",
    "        日数\n",
    "    return_as: str, defalt: 'dt'\n",
    "        返り値の形式\n",
    "        - 'dt':pd.Timstamp\n",
    "        - 'datetime': datetime.datetime array\n",
    "    \"\"\"\n",
    "    assert isinstance(select_date, datetime.date)\n",
    "    # 返り値の形式の指定\n",
    "    return_as_set = {\"dt\", \"date\"}\n",
    "    if not return_as in return_as_set:\n",
    "        raise Exception(\"return_as must be any in {}\".format(return_as_set))\n",
    "        \n",
    "    day_counter = 0\n",
    "    holiday_weekdays_set = set(option.holiday_weekdays)  #setにした方が高速？\n",
    "\n",
    "    holiday_bigger_select_index = (option.holidays_date_array<=select_date).sum()\n",
    "    # 祝日イテレータ\n",
    "    holiday_iter = iter(option.holidays_date_array[holiday_bigger_select_index:])\n",
    "    def days_gen(select_date):\n",
    "        add_days = 1  # select_dateを含まない\n",
    "        while True:\n",
    "            yield select_date + datetime.timedelta(days=add_days)\n",
    "            add_days += 1\n",
    "    # 日にちイテレータ\n",
    "    days_iter = days_gen(select_date)\n",
    "\n",
    "    # 以下二つのイテレーターを比較し，one_dayが休日に含まれる場合，カウントしカウントが指定に達した場合終了する\n",
    "    one_day = next(days_iter)\n",
    "\n",
    "    one_holiday = next(holiday_iter)\n",
    "\n",
    "    while True:\n",
    "        if one_day==one_holiday:  #その日が祝日である\n",
    "            one_holiday = next(holiday_iter)\n",
    "        else:\n",
    "            if not one_day.weekday() in holiday_weekdays_set:  #その日が休日曜日である\n",
    "                #print(one_day)\n",
    "                day_counter += 1  # カウンターをインクリメント\n",
    "\n",
    "        if day_counter >= days:\n",
    "            break\n",
    "\n",
    "        one_day = next(days_iter)\n",
    "        \n",
    "    if return_as==\"date\":\n",
    "        return one_day\n",
    "    elif return_as==\"dt\":\n",
    "        return pd.Timestamp(one_day)"
   ]
  },
  {
   "cell_type": "code",
   "execution_count": 72,
   "metadata": {
    "ExecuteTime": {
     "end_time": "2021-03-27T14:28:18.883906Z",
     "start_time": "2021-03-27T14:28:18.812095Z"
    }
   },
   "outputs": [
    {
     "name": "stdout",
     "output_type": "stream",
     "text": [
      "Timer unit: 1e-07 s\n",
      "\n",
      "Total time: 0.0041762 s\n",
      "File: <ipython-input-71-b93b881f58d1>\n",
      "Function: get_next_workday_jp at line 1\n",
      "\n",
      "Line #      Hits         Time  Per Hit   % Time  Line Contents\n",
      "==============================================================\n",
      "     1                                           def get_next_workday_jp(select_date, days=1, select_include=False, return_as=\"date\"):\n",
      "     2                                               \"\"\"\n",
      "     3                                               指定した日数後の営業日を取得\n",
      "     4                                               select_date: datetime.date\n",
      "     5                                                   指定する日時\n",
      "     6                                               days: int\n",
      "     7                                                   日数\n",
      "     8                                               return_as: str, defalt: 'dt'\n",
      "     9                                                   返り値の形式\n",
      "    10                                                   - 'dt':pd.Timstamp\n",
      "    11                                                   - 'datetime': datetime.datetime array\n",
      "    12                                               \"\"\"\n",
      "    13         1        129.0    129.0      0.3      assert isinstance(select_date, datetime.date)\n",
      "    14                                               # 返り値の形式の指定\n",
      "    15         1         96.0     96.0      0.2      return_as_set = {\"dt\", \"date\"}\n",
      "    16         1         79.0     79.0      0.2      if not return_as in return_as_set:\n",
      "    17                                                   raise Exception(\"return_as must be any in {}\".format(return_as_set))\n",
      "    18                                                   \n",
      "    19         1         72.0     72.0      0.2      day_counter = 0\n",
      "    20         1        296.0    296.0      0.7      holiday_weekdays_set = set(option.holiday_weekdays)  #setにした方が高速？\n",
      "    21                                           \n",
      "    22         1       2306.0   2306.0      5.5      holiday_bigger_select_index = (option.holidays_date_array<=select_date).sum()\n",
      "    23                                               # 祝日イテレータ\n",
      "    24         1        394.0    394.0      0.9      holiday_iter = iter(option.holidays_date_array[holiday_bigger_select_index:])\n",
      "    25         1         87.0     87.0      0.2      def days_gen(select_date):\n",
      "    26                                                   add_days = 1  # select_dateを含まない\n",
      "    27                                                   while True:\n",
      "    28                                                       yield select_date + datetime.timedelta(days=add_days)\n",
      "    29                                                       add_days += 1\n",
      "    30                                               # 日にちイテレータ\n",
      "    31         1         93.0     93.0      0.2      days_iter = days_gen(select_date)\n",
      "    32                                           \n",
      "    33                                               # 以下二つのイテレーターを比較し，one_dayが休日に含まれる場合，カウントしカウントが指定に達した場合終了する\n",
      "    34         1       1153.0   1153.0      2.8      one_day = next(days_iter)\n",
      "    35                                           \n",
      "    36         1        174.0    174.0      0.4      one_holiday = next(holiday_iter)\n",
      "    37                                           \n",
      "    38         1         67.0     67.0      0.2      while True:\n",
      "    39        66       4738.0     71.8     11.3          if one_day==one_holiday:  #その日が祝日である\n",
      "    40         3        218.0     72.7      0.5              one_holiday = next(holiday_iter)\n",
      "    41                                                   else:\n",
      "    42        63       5041.0     80.0     12.1              if not one_day.weekday() in holiday_weekdays_set:  #その日が休日曜日である\n",
      "    43                                                           #print(one_day)\n",
      "    44        43       2370.0     55.1      5.7                  day_counter += 1  # カウンターをインクリメント\n",
      "    45                                           \n",
      "    46        66       3564.0     54.0      8.5          if day_counter >= days:\n",
      "    47         1         68.0     68.0      0.2              break\n",
      "    48                                           \n",
      "    49        65      20685.0    318.2     49.5          one_day = next(days_iter)\n",
      "    50                                                   \n",
      "    51         1         73.0     73.0      0.2      if return_as==\"date\":\n",
      "    52         1         59.0     59.0      0.1          return one_day\n",
      "    53                                               elif return_as==\"dt\":\n",
      "    54                                                   return pd.Timestamp(one_day)\n",
      "\n"
     ]
    }
   ],
   "source": [
    "def temp_func():\n",
    "    select_date = datetime.date(2021, 1, 1)\n",
    "    next_workday = get_next_workday_jp(select_date, days=43, return_as=\"date\")\n",
    "    \n",
    "from line_profiler import LineProfiler\n",
    "prf = LineProfiler()                                                                                         \n",
    "#prf.add_module()                                                                                          \n",
    "prf.add_function(get_next_workday_jp)                                                                                      \n",
    "prf.runcall(temp_func)                                                                                          \n",
    "prf.print_stats()"
   ]
  },
  {
   "cell_type": "markdown",
   "metadata": {},
   "source": [
    "## データフレームに関しての処理 "
   ]
  },
  {
   "cell_type": "markdown",
   "metadata": {},
   "source": [
    "### 営業日データを取得 "
   ]
  },
  {
   "cell_type": "code",
   "execution_count": 73,
   "metadata": {
    "ExecuteTime": {
     "end_time": "2021-03-27T14:28:32.404262Z",
     "start_time": "2021-03-27T14:28:32.303427Z"
    }
   },
   "outputs": [],
   "source": [
    "def extract_workdays_jp_index(dt_index, return_as=\"index\"):\n",
    "    \"\"\"\n",
    "    pd.DatetimeIndexから，営業日のデータのものを抽出\n",
    "    dt_index: pd.DatetimeIndex\n",
    "        入力するDatetimeIndex，すでにdatetimeでソートしていることが前提\n",
    "    return_as: str\n",
    "        出力データの形式\n",
    "        - \"index\": 引数としたdfの対応するインデックスを返す\n",
    "        - \"bool\": 引数としたdfに対応するboolインデックスを返す\n",
    "    \"\"\"\n",
    "    # 返り値の形式の指定\n",
    "    return_as_set = {\"index\", \"bool\"}\n",
    "    if not return_as in return_as_set:\n",
    "        raise Exception(\"return_as must be any in {}\".format(return_as_set))\n",
    "        \n",
    "    # すでにtimestampでソートさてている前提\n",
    "    start_datetime = dt_index[0].to_pydatetime()\n",
    "    end_datetime = dt_index[-1].to_pydatetime()\n",
    "    \n",
    "    start_datetime, end_datetime = check_jst_datetimes_to_naive(start_datetime, end_datetime)  # 二つのdatetimeのタイムゾーンをチェック・naiveに変更\n",
    "    \n",
    "    # 期間内のholidayを取得\n",
    "    holidays_in_span_index = ((start_datetime-datetime.timedelta(days=1))<option.holidays_datetimeindex)&\\\n",
    "    (option.holidays_datetimeindex<=end_datetime)  # DatetimeIndexを使うことに注意, 当日を含めるため，startから1を引いている．\n",
    "    holidays_in_span_datetimeindex = option.holidays_datetimeindex[holidays_in_span_index]  # pd.DatetimeIndexを使う\n",
    "    \n",
    "    # 休日に含まれないもの，さらに土日に含まれないもののboolインデックスを取得    \n",
    "    holiday_bool_array = dt_index.tz_localize(None).floor(\"D\").isin(holidays_in_span_datetimeindex)  # 休日\n",
    "    \n",
    "    dt_index_weekday = dt_index.weekday\n",
    "    holiday_weekday_each_bool_arrays = [dt_index_weekday==weekday for weekday in option.holiday_weekdays]  # inを使うのを回避\n",
    "    holiday_weekday_bool_array = np.logical_or.reduce(holiday_weekday_each_bool_arrays)  # 休日曜日\n",
    "    \n",
    "    workdays_bool_array = (~holiday_bool_array)&(~holiday_weekday_bool_array)  # 休日でなく休日曜日でない\n",
    "    if return_as==\"bool\":  # boolで返す場合\n",
    "        return workdays_bool_array\n",
    "    \n",
    "    elif return_as==\"index\":  # indexで返す場合\n",
    "        workdays_df_indice = dt_index[workdays_bool_array]\n",
    "        return workdays_df_indice"
   ]
  },
  {
   "cell_type": "code",
   "execution_count": 74,
   "metadata": {
    "ExecuteTime": {
     "end_time": "2021-03-27T14:28:33.592219Z",
     "start_time": "2021-03-27T14:28:33.434951Z"
    },
    "scrolled": false
   },
   "outputs": [
    {
     "name": "stdout",
     "output_type": "stream",
     "text": [
      "Timer unit: 1e-07 s\n",
      "\n",
      "Total time: 0.0654691 s\n",
      "File: <ipython-input-43-73f69d09a7f8>\n",
      "Function: extract_workdays_jp at line 1\n",
      "\n",
      "Line #      Hits         Time  Per Hit   % Time  Line Contents\n",
      "==============================================================\n",
      "     1                                           def extract_workdays_jp(df, return_as=\"df\"):\n",
      "     2                                               \"\"\"\n",
      "     3                                               データフレームから，営業日のデータのものを抽出．出力データ形式をreturn_asで指定する．\n",
      "     4                                               df: pd.DataFrame(インデックスとしてpd.DatetimeIndex)\n",
      "     5                                                   入力データ\n",
      "     6                                               return_as: str\n",
      "     7                                                   出力データの形式\n",
      "     8                                                   - \"df\": 抽出した新しいpd.DataFrameを返す\n",
      "     9                                                   - \"index\": 引数としたdfの対応するインデックスを返す\n",
      "    10                                                   - \"bool\": 引数としたdfに対応するboolインデックスを返す\n",
      "    11                                               \"\"\"\n",
      "    12                                               \n",
      "    13                                               # 返り値の形式の指定\n",
      "    14         1        116.0    116.0      0.0      return_as_set = {\"df\", \"index\", \"bool\"}\n",
      "    15         1         92.0     92.0      0.0      if not return_as in return_as_set:\n",
      "    16                                                   raise Exception(\"return_as must be any in {}\".format(return_as_set))\n",
      "    17                                               \n",
      "    18         1     431188.0 431188.0     65.9      workdays_bool_array = extract_workdays_jp_index(df.index, return_as=\"bool\")\n",
      "    19         1         24.0     24.0      0.0      if return_as==\"bool\":\n",
      "    20                                                   return workdays_bool_array\n",
      "    21                                               \n",
      "    22         1      21342.0  21342.0      3.3      workdays_df_indice = df.index[workdays_bool_array]\n",
      "    23         1         68.0     68.0      0.0      if return_as==\"index\":\n",
      "    24                                                   return workdays_df_indice\n",
      "    25                                           \n",
      "    26         1     201760.0 201760.0     30.8      out_df = df.loc[workdays_df_indice].copy()\n",
      "    27         1        101.0    101.0      0.0      return out_df\n",
      "\n",
      "Total time: 0.0427245 s\n",
      "File: <ipython-input-73-b9144e4bcd56>\n",
      "Function: extract_workdays_jp_index at line 1\n",
      "\n",
      "Line #      Hits         Time  Per Hit   % Time  Line Contents\n",
      "==============================================================\n",
      "     1                                           def extract_workdays_jp_index(dt_index, return_as=\"index\"):\n",
      "     2                                               \"\"\"\n",
      "     3                                               pd.DatetimeIndexから，営業日のデータのものを抽出\n",
      "     4                                               dt_index: pd.DatetimeIndex\n",
      "     5                                                   入力するDatetimeIndex，すでにdatetimeでソートしていることが前提\n",
      "     6                                               return_as: str\n",
      "     7                                                   出力データの形式\n",
      "     8                                                   - \"index\": 引数としたdfの対応するインデックスを返す\n",
      "     9                                                   - \"bool\": 引数としたdfに対応するboolインデックスを返す\n",
      "    10                                               \"\"\"\n",
      "    11                                               # 返り値の形式の指定\n",
      "    12         1        108.0    108.0      0.0      return_as_set = {\"index\", \"bool\"}\n",
      "    13         1         84.0     84.0      0.0      if not return_as in return_as_set:\n",
      "    14                                                   raise Exception(\"return_as must be any in {}\".format(return_as_set))\n",
      "    15                                                   \n",
      "    16                                               # すでにtimestampでソートさてている前提\n",
      "    17         1       6573.0   6573.0      1.5      start_datetime = dt_index[0].to_pydatetime()\n",
      "    18         1       4058.0   4058.0      0.9      end_datetime = dt_index[-1].to_pydatetime()\n",
      "    19                                               \n",
      "    20         1       3241.0   3241.0      0.8      start_datetime, end_datetime = check_jst_datetimes_to_naive(start_datetime, end_datetime)  # 二つのdatetimeのタイムゾーンをチェック・naiveに変更\n",
      "    21                                               \n",
      "    22                                               # 期間内のholidayを取得\n",
      "    23         1       8624.0   8624.0      2.0      holidays_in_span_index = ((start_datetime-datetime.timedelta(days=1))<option.holidays_datetimeindex)&\\\n",
      "    24         1       6484.0   6484.0      1.5      (option.holidays_datetimeindex<=end_datetime)  # DatetimeIndexを使うことに注意, 当日を含めるため，startから1を引いている．\n",
      "    25         1      17943.0  17943.0      4.2      holidays_in_span_datetimeindex = option.holidays_datetimeindex[holidays_in_span_index]  # pd.DatetimeIndexを使う\n",
      "    26                                               \n",
      "    27                                               # 休日に含まれないもの，さらに土日に含まれないもののboolインデックスを取得    \n",
      "    28         1     118903.0 118903.0     27.8      holiday_bool_array = dt_index.tz_localize(None).floor(\"D\").isin(holidays_in_span_datetimeindex)  # 休日\n",
      "    29                                               \n",
      "    30         1     214647.0 214647.0     50.2      dt_index_weekday = dt_index.weekday\n",
      "    31         1      41636.0  41636.0      9.7      holiday_weekday_each_bool_arrays = [dt_index_weekday==weekday for weekday in option.holiday_weekdays]  # inを使うのを回避\n",
      "    32         1       1460.0   1460.0      0.3      holiday_weekday_bool_array = np.logical_or.reduce(holiday_weekday_each_bool_arrays)  # 休日曜日\n",
      "    33                                               \n",
      "    34         1       3422.0   3422.0      0.8      workdays_bool_array = (~holiday_bool_array)&(~holiday_weekday_bool_array)  # 休日でなく休日曜日でない\n",
      "    35         1         36.0     36.0      0.0      if return_as==\"bool\":  # boolで返す場合\n",
      "    36         1         26.0     26.0      0.0          return workdays_bool_array\n",
      "    37                                               \n",
      "    38                                               elif return_as==\"index\":  # indexで返す場合\n",
      "    39                                                   workdays_df_indice = dt_index[workdays_bool_array]\n",
      "    40                                                   return workdays_df_indice\n",
      "\n"
     ]
    }
   ],
   "source": [
    "def temp_func():\n",
    "    extracted_stock_df = extract_workdays_jp(aware_stock_df, return_as=\"df\")\n",
    "    \n",
    "from line_profiler import LineProfiler\n",
    "prf = LineProfiler()                                                                                         \n",
    "#prf.add_module()                                                                                          \n",
    "prf.add_function(extract_workdays_jp)\n",
    "prf.add_function(extract_workdays_jp_index)\n",
    "prf.runcall(temp_func)                                                                                          \n",
    "prf.print_stats()"
   ]
  },
  {
   "cell_type": "code",
   "execution_count": 75,
   "metadata": {
    "ExecuteTime": {
     "end_time": "2021-03-27T14:28:34.281216Z",
     "start_time": "2021-03-27T14:28:34.116613Z"
    }
   },
   "outputs": [
    {
     "data": {
      "text/html": [
       "<div>\n",
       "<style scoped>\n",
       "    .dataframe tbody tr th:only-of-type {\n",
       "        vertical-align: middle;\n",
       "    }\n",
       "\n",
       "    .dataframe tbody tr th {\n",
       "        vertical-align: top;\n",
       "    }\n",
       "\n",
       "    .dataframe thead th {\n",
       "        text-align: right;\n",
       "    }\n",
       "</style>\n",
       "<table border=\"1\" class=\"dataframe\">\n",
       "  <thead>\n",
       "    <tr style=\"text-align: right;\">\n",
       "      <th></th>\n",
       "      <th>Open_6502</th>\n",
       "      <th>High_6502</th>\n",
       "      <th>Low_6502</th>\n",
       "      <th>Close_6502</th>\n",
       "      <th>Volume_6502</th>\n",
       "    </tr>\n",
       "    <tr>\n",
       "      <th>timestamp</th>\n",
       "      <th></th>\n",
       "      <th></th>\n",
       "      <th></th>\n",
       "      <th></th>\n",
       "      <th></th>\n",
       "    </tr>\n",
       "  </thead>\n",
       "  <tbody>\n",
       "    <tr>\n",
       "      <th>2020-11-04 09:00:00+09:00</th>\n",
       "      <td>2669.0</td>\n",
       "      <td>2670.0</td>\n",
       "      <td>2658.0</td>\n",
       "      <td>2664.0</td>\n",
       "      <td>93000.0</td>\n",
       "    </tr>\n",
       "    <tr>\n",
       "      <th>2020-11-05 09:00:00+09:00</th>\n",
       "      <td>2631.0</td>\n",
       "      <td>2641.0</td>\n",
       "      <td>2630.0</td>\n",
       "      <td>2639.0</td>\n",
       "      <td>55000.0</td>\n",
       "    </tr>\n",
       "    <tr>\n",
       "      <th>2020-11-06 09:00:00+09:00</th>\n",
       "      <td>2615.0</td>\n",
       "      <td>2644.0</td>\n",
       "      <td>2609.0</td>\n",
       "      <td>2617.0</td>\n",
       "      <td>90700.0</td>\n",
       "    </tr>\n",
       "    <tr>\n",
       "      <th>2020-11-09 09:00:00+09:00</th>\n",
       "      <td>2711.0</td>\n",
       "      <td>2719.0</td>\n",
       "      <td>2707.0</td>\n",
       "      <td>2710.0</td>\n",
       "      <td>0.0</td>\n",
       "    </tr>\n",
       "    <tr>\n",
       "      <th>2020-11-10 09:00:00+09:00</th>\n",
       "      <td>2780.0</td>\n",
       "      <td>2782.0</td>\n",
       "      <td>2770.0</td>\n",
       "      <td>2777.0</td>\n",
       "      <td>142700.0</td>\n",
       "    </tr>\n",
       "    <tr>\n",
       "      <th>2020-11-11 09:00:00+09:00</th>\n",
       "      <td>NaN</td>\n",
       "      <td>NaN</td>\n",
       "      <td>NaN</td>\n",
       "      <td>NaN</td>\n",
       "      <td>NaN</td>\n",
       "    </tr>\n",
       "    <tr>\n",
       "      <th>2020-11-12 09:00:00+09:00</th>\n",
       "      <td>2788.0</td>\n",
       "      <td>2800.0</td>\n",
       "      <td>2781.0</td>\n",
       "      <td>2789.0</td>\n",
       "      <td>108400.0</td>\n",
       "    </tr>\n",
       "    <tr>\n",
       "      <th>2020-11-13 09:00:00+09:00</th>\n",
       "      <td>2750.0</td>\n",
       "      <td>2754.0</td>\n",
       "      <td>2741.0</td>\n",
       "      <td>2750.0</td>\n",
       "      <td>71500.0</td>\n",
       "    </tr>\n",
       "    <tr>\n",
       "      <th>2020-11-16 09:00:00+09:00</th>\n",
       "      <td>2714.0</td>\n",
       "      <td>2716.0</td>\n",
       "      <td>2705.0</td>\n",
       "      <td>2710.0</td>\n",
       "      <td>111000.0</td>\n",
       "    </tr>\n",
       "    <tr>\n",
       "      <th>2020-11-17 09:00:00+09:00</th>\n",
       "      <td>2748.0</td>\n",
       "      <td>2748.0</td>\n",
       "      <td>2729.0</td>\n",
       "      <td>2734.0</td>\n",
       "      <td>124400.0</td>\n",
       "    </tr>\n",
       "    <tr>\n",
       "      <th>2020-11-18 09:00:00+09:00</th>\n",
       "      <td>2819.0</td>\n",
       "      <td>2823.0</td>\n",
       "      <td>2814.0</td>\n",
       "      <td>2820.0</td>\n",
       "      <td>76000.0</td>\n",
       "    </tr>\n",
       "    <tr>\n",
       "      <th>2020-11-19 09:00:00+09:00</th>\n",
       "      <td>2858.0</td>\n",
       "      <td>2867.0</td>\n",
       "      <td>2858.0</td>\n",
       "      <td>2860.0</td>\n",
       "      <td>107000.0</td>\n",
       "    </tr>\n",
       "    <tr>\n",
       "      <th>2020-11-20 09:00:00+09:00</th>\n",
       "      <td>2875.0</td>\n",
       "      <td>2887.0</td>\n",
       "      <td>2873.0</td>\n",
       "      <td>2884.0</td>\n",
       "      <td>106000.0</td>\n",
       "    </tr>\n",
       "    <tr>\n",
       "      <th>2020-11-24 09:00:00+09:00</th>\n",
       "      <td>2957.0</td>\n",
       "      <td>2967.0</td>\n",
       "      <td>2952.0</td>\n",
       "      <td>2966.0</td>\n",
       "      <td>0.0</td>\n",
       "    </tr>\n",
       "    <tr>\n",
       "      <th>2020-11-25 09:00:00+09:00</th>\n",
       "      <td>2927.0</td>\n",
       "      <td>2934.0</td>\n",
       "      <td>2926.0</td>\n",
       "      <td>2933.0</td>\n",
       "      <td>74000.0</td>\n",
       "    </tr>\n",
       "    <tr>\n",
       "      <th>2020-11-26 09:00:00+09:00</th>\n",
       "      <td>2822.0</td>\n",
       "      <td>2831.0</td>\n",
       "      <td>2818.0</td>\n",
       "      <td>2824.0</td>\n",
       "      <td>93500.0</td>\n",
       "    </tr>\n",
       "    <tr>\n",
       "      <th>2020-11-27 09:00:00+09:00</th>\n",
       "      <td>2809.0</td>\n",
       "      <td>2828.0</td>\n",
       "      <td>2809.0</td>\n",
       "      <td>2822.0</td>\n",
       "      <td>107600.0</td>\n",
       "    </tr>\n",
       "    <tr>\n",
       "      <th>2020-11-30 09:00:00+09:00</th>\n",
       "      <td>2940.0</td>\n",
       "      <td>2954.0</td>\n",
       "      <td>2936.0</td>\n",
       "      <td>2940.0</td>\n",
       "      <td>225300.0</td>\n",
       "    </tr>\n",
       "  </tbody>\n",
       "</table>\n",
       "</div>"
      ],
      "text/plain": [
       "                           Open_6502  High_6502  Low_6502  Close_6502  \\\n",
       "timestamp                                                               \n",
       "2020-11-04 09:00:00+09:00     2669.0     2670.0    2658.0      2664.0   \n",
       "2020-11-05 09:00:00+09:00     2631.0     2641.0    2630.0      2639.0   \n",
       "2020-11-06 09:00:00+09:00     2615.0     2644.0    2609.0      2617.0   \n",
       "2020-11-09 09:00:00+09:00     2711.0     2719.0    2707.0      2710.0   \n",
       "2020-11-10 09:00:00+09:00     2780.0     2782.0    2770.0      2777.0   \n",
       "2020-11-11 09:00:00+09:00        NaN        NaN       NaN         NaN   \n",
       "2020-11-12 09:00:00+09:00     2788.0     2800.0    2781.0      2789.0   \n",
       "2020-11-13 09:00:00+09:00     2750.0     2754.0    2741.0      2750.0   \n",
       "2020-11-16 09:00:00+09:00     2714.0     2716.0    2705.0      2710.0   \n",
       "2020-11-17 09:00:00+09:00     2748.0     2748.0    2729.0      2734.0   \n",
       "2020-11-18 09:00:00+09:00     2819.0     2823.0    2814.0      2820.0   \n",
       "2020-11-19 09:00:00+09:00     2858.0     2867.0    2858.0      2860.0   \n",
       "2020-11-20 09:00:00+09:00     2875.0     2887.0    2873.0      2884.0   \n",
       "2020-11-24 09:00:00+09:00     2957.0     2967.0    2952.0      2966.0   \n",
       "2020-11-25 09:00:00+09:00     2927.0     2934.0    2926.0      2933.0   \n",
       "2020-11-26 09:00:00+09:00     2822.0     2831.0    2818.0      2824.0   \n",
       "2020-11-27 09:00:00+09:00     2809.0     2828.0    2809.0      2822.0   \n",
       "2020-11-30 09:00:00+09:00     2940.0     2954.0    2936.0      2940.0   \n",
       "\n",
       "                           Volume_6502  \n",
       "timestamp                               \n",
       "2020-11-04 09:00:00+09:00      93000.0  \n",
       "2020-11-05 09:00:00+09:00      55000.0  \n",
       "2020-11-06 09:00:00+09:00      90700.0  \n",
       "2020-11-09 09:00:00+09:00          0.0  \n",
       "2020-11-10 09:00:00+09:00     142700.0  \n",
       "2020-11-11 09:00:00+09:00          NaN  \n",
       "2020-11-12 09:00:00+09:00     108400.0  \n",
       "2020-11-13 09:00:00+09:00      71500.0  \n",
       "2020-11-16 09:00:00+09:00     111000.0  \n",
       "2020-11-17 09:00:00+09:00     124400.0  \n",
       "2020-11-18 09:00:00+09:00      76000.0  \n",
       "2020-11-19 09:00:00+09:00     107000.0  \n",
       "2020-11-20 09:00:00+09:00     106000.0  \n",
       "2020-11-24 09:00:00+09:00          0.0  \n",
       "2020-11-25 09:00:00+09:00      74000.0  \n",
       "2020-11-26 09:00:00+09:00      93500.0  \n",
       "2020-11-27 09:00:00+09:00     107600.0  \n",
       "2020-11-30 09:00:00+09:00     225300.0  "
      ]
     },
     "execution_count": 75,
     "metadata": {},
     "output_type": "execute_result"
    }
   ],
   "source": [
    "extracted_stock_df = extract_workdays_jp(aware_stock_df, return_as=\"df\")\n",
    "extracted_stock_df.at_time(datetime.time(9,0))"
   ]
  }
 ],
 "metadata": {
  "kernelspec": {
   "display_name": "torch_py37",
   "language": "python",
   "name": "torch_py37"
  },
  "language_info": {
   "codemirror_mode": {
    "name": "ipython",
    "version": 3
   },
   "file_extension": ".py",
   "mimetype": "text/x-python",
   "name": "python",
   "nbconvert_exporter": "python",
   "pygments_lexer": "ipython3",
   "version": "3.7.4"
  },
  "toc": {
   "base_numbering": 1,
   "nav_menu": {},
   "number_sections": true,
   "sideBar": true,
   "skip_h1_title": true,
   "title_cell": "Table of Contents",
   "title_sidebar": "Contents",
   "toc_cell": false,
   "toc_position": {
    "height": "calc(100% - 180px)",
    "left": "10px",
    "top": "150px",
    "width": "165px"
   },
   "toc_section_display": true,
   "toc_window_display": false
  }
 },
 "nbformat": 4,
 "nbformat_minor": 4
}
