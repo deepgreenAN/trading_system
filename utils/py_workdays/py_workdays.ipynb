{
 "cells": [
  {
   "cell_type": "markdown",
   "metadata": {},
   "source": [
    "# 特定の日時のリストを取得する "
   ]
  },
  {
   "cell_type": "code",
   "execution_count": 1,
   "metadata": {
    "ExecuteTime": {
     "end_time": "2020-12-31T20:52:19.807888Z",
     "start_time": "2020-12-31T20:52:19.764971Z"
    }
   },
   "outputs": [],
   "source": [
    "import jpholiday\n",
    "import workdays\n",
    "from pytz import timezone, utc\n",
    "import datetime\n",
    "import pickle"
   ]
  },
  {
   "cell_type": "code",
   "execution_count": 2,
   "metadata": {
    "ExecuteTime": {
     "end_time": "2020-12-31T20:52:21.089427Z",
     "start_time": "2020-12-31T20:52:19.812845Z"
    }
   },
   "outputs": [],
   "source": [
    "import numpy as np\n",
    "import pandas as pd"
   ]
  },
  {
   "cell_type": "code",
   "execution_count": 3,
   "metadata": {
    "ExecuteTime": {
     "end_time": "2020-12-31T20:52:21.110370Z",
     "start_time": "2020-12-31T20:52:21.093415Z"
    }
   },
   "outputs": [],
   "source": [
    "def check_jst_datetimes_to_naive(*arg_datetimes):\n",
    "    \"\"\"\n",
    "    ＊*今のところ，ローカルが東京でないnaiveなdatetimeはそのまま通してしまう\n",
    "    引数のタイムゾーンが同じかどうかチェックし，存在するなら日本であるかチェック\n",
    "    awareな場合は，naiveに変更\n",
    "    \"\"\"\n",
    "    jst_timezone = timezone(\"Asia/Tokyo\")\n",
    "    tz_info_set = set([one_datetime.tzinfo for one_datetime in arg_datetimes])\n",
    "    if len(tz_info_set) > 1:\n",
    "        raise Exception(\"timezones are different\")\n",
    "        \n",
    "    datetimes_tzinfo = list(tz_info_set)[0]\n",
    "    \n",
    "    if datetimes_tzinfo is not None:  # 長さが1のはず\n",
    "        if timezone(str(datetimes_tzinfo)) != jst_timezone:\n",
    "            raise Exception(\"timezones must be Asia/Tokyo\")\n",
    "        # naiveなdatetimeに変更\n",
    "        arg_datetimes = [one_datetime.replace(tzinfo=None) for one_datetime in arg_datetimes]\n",
    "        \n",
    "    return tuple(arg_datetimes)"
   ]
  },
  {
   "cell_type": "markdown",
   "metadata": {},
   "source": [
    "## 営業日・休日を取得する "
   ]
  },
  {
   "cell_type": "markdown",
   "metadata": {},
   "source": [
    "### 祝日のndarrayを取得する"
   ]
  },
  {
   "cell_type": "markdown",
   "metadata": {},
   "source": [
    "以下が素直な実装だが，遅い．そこで一度しか呼ばないようにすべき"
   ]
  },
  {
   "cell_type": "code",
   "execution_count": 4,
   "metadata": {
    "ExecuteTime": {
     "end_time": "2020-12-31T20:52:21.138297Z",
     "start_time": "2020-12-31T20:52:21.119348Z"
    }
   },
   "outputs": [],
   "source": [
    "def get_holiday_jp(start_date, end_date, with_name=False):\n",
    "    \"\"\"\n",
    "    期間を指定して祝日を取得\n",
    "    \n",
    "    start_date: datetime.date\n",
    "        開始時刻のdate\n",
    "    end_datetime: datetime.date\n",
    "        終了時刻のdate\n",
    "    eith_name: bool\n",
    "        休日の名前を出力するかどうか\n",
    "    to_date: bool\n",
    "        出力をdatetime.datetimeにするかdatetime.dateにするか\n",
    "    \"\"\"\n",
    "    assert isinstance(start_date, datetime.date) and isinstance(end_date, datetime.date)\n",
    "    \n",
    "    holydays_array = np.array(jpholiday.between(start_date, end_date))\n",
    "    \n",
    "    if not with_name:\n",
    "        return holydays_array[:,0].copy()\n",
    "    \n",
    "    return holydays_array"
   ]
  },
  {
   "cell_type": "code",
   "execution_count": 5,
   "metadata": {
    "ExecuteTime": {
     "end_time": "2020-12-31T20:52:21.416551Z",
     "start_time": "2020-12-31T20:52:21.146276Z"
    }
   },
   "outputs": [],
   "source": [
    "start_date = datetime.date(2019, 1, 1)\n",
    "end_date = datetime.date(2020, 12, 31)\n",
    "\n",
    "holydays = get_holiday_jp(start_date, end_date, with_name=False)"
   ]
  },
  {
   "cell_type": "code",
   "execution_count": 6,
   "metadata": {
    "ExecuteTime": {
     "end_time": "2020-12-31T20:52:21.459437Z",
     "start_time": "2020-12-31T20:52:21.420546Z"
    }
   },
   "outputs": [
    {
     "data": {
      "text/plain": [
       "array([datetime.date(2019, 1, 1), datetime.date(2019, 1, 14),\n",
       "       datetime.date(2019, 2, 11), datetime.date(2019, 3, 21),\n",
       "       datetime.date(2019, 4, 29), datetime.date(2019, 4, 30),\n",
       "       datetime.date(2019, 5, 1), datetime.date(2019, 5, 2),\n",
       "       datetime.date(2019, 5, 3), datetime.date(2019, 5, 4),\n",
       "       datetime.date(2019, 5, 5), datetime.date(2019, 5, 6),\n",
       "       datetime.date(2019, 7, 15), datetime.date(2019, 8, 11),\n",
       "       datetime.date(2019, 8, 12), datetime.date(2019, 9, 16),\n",
       "       datetime.date(2019, 9, 23), datetime.date(2019, 10, 14),\n",
       "       datetime.date(2019, 10, 22), datetime.date(2019, 11, 3),\n",
       "       datetime.date(2019, 11, 4), datetime.date(2019, 11, 23),\n",
       "       datetime.date(2020, 1, 1), datetime.date(2020, 1, 13),\n",
       "       datetime.date(2020, 2, 11), datetime.date(2020, 2, 23),\n",
       "       datetime.date(2020, 2, 24), datetime.date(2020, 3, 20),\n",
       "       datetime.date(2020, 4, 29), datetime.date(2020, 5, 3),\n",
       "       datetime.date(2020, 5, 4), datetime.date(2020, 5, 5),\n",
       "       datetime.date(2020, 5, 6), datetime.date(2020, 7, 23),\n",
       "       datetime.date(2020, 7, 24), datetime.date(2020, 8, 10),\n",
       "       datetime.date(2020, 9, 21), datetime.date(2020, 9, 22),\n",
       "       datetime.date(2020, 11, 3), datetime.date(2020, 11, 23)],\n",
       "      dtype=object)"
      ]
     },
     "execution_count": 6,
     "metadata": {},
     "output_type": "execute_result"
    }
   ],
   "source": [
    "holydays"
   ]
  },
  {
   "cell_type": "markdown",
   "metadata": {},
   "source": [
    "## 営業日を取得"
   ]
  },
  {
   "cell_type": "markdown",
   "metadata": {},
   "source": [
    "内部で外部の関数等を利用するので，jitコンパイルはできない．そこで，あらかじめ数年分のholidayを得て置き，それと照らし合わせることにする．"
   ]
  },
  {
   "cell_type": "code",
   "execution_count": 7,
   "metadata": {
    "ExecuteTime": {
     "end_time": "2020-12-31T20:52:21.511309Z",
     "start_time": "2020-12-31T20:52:21.465430Z"
    },
    "code_folding": []
   },
   "outputs": [],
   "source": [
    "class Option():\n",
    "    \"\"\"\n",
    "    オプションの指定のためのクラス\n",
    "    \"\"\"\n",
    "    def __init__(self):\n",
    "        self._holiday_start_year = datetime.datetime.now().year-5\n",
    "        self._holiday_end_year = datetime.datetime.now().year\n",
    "        \n",
    "        # 利用する休日のarray\n",
    "        self._holidays_date_array =  get_holiday_jp(start_date=datetime.date(self._holiday_start_year,1,1),\n",
    "                                                    end_date=datetime.date(self._holiday_end_year,12,31),\n",
    "                                                    with_name=False,\n",
    "                                                   )\n",
    "        # 利用する休日のDatetimeIndex\n",
    "        self._holidays_datetimeindex = pd.DatetimeIndex(self._holidays_date_array)\n",
    "    \n",
    "    @property\n",
    "    def holiday_start_year(self):\n",
    "        return self._holiday_start_year\n",
    "    \n",
    "    @property\n",
    "    def holiday_end_year(self):\n",
    "        return self._holiday_end_year\n",
    "        \n",
    "    @holiday_start_year.setter\n",
    "    def holiday_start_year(self, year):\n",
    "        self._holiday_start_year = year\n",
    "        # 利用する休日のarray\n",
    "        self._holidays_date_array =  get_holiday_jp(start_date=datetime.date(self._holiday_start_year,1,1),\n",
    "                                                    end_date=datetime.date(self._holiday_end_year,12,31),\n",
    "                                                    with_name=False,\n",
    "                                                   )\n",
    "        # 利用する休日のDatetimeIndex\n",
    "        self._holidays_datetimeindex = pd.DatetimeIndex(self._holidays_date_array)\n",
    "        \n",
    "    @holiday_end_year.setter\n",
    "    def holiday_end_year(self, year):\n",
    "        self._holiday_end_year = year\n",
    "        # 利用する休日のarray\n",
    "        self._holidays_date_array =  get_holiday_jp(start_date=datetime.date(self._holiday_start_year,1,1),\n",
    "                                                    end_date=datetime.date(self._holiday_end_year,12,31),\n",
    "                                                    with_name=False,\n",
    "                                                   )\n",
    "        # 利用する休日のDatetimeIndex\n",
    "        self._holidays_datetimeindex = pd.DatetimeIndex(self._holidays_date_array)\n",
    "        \n",
    "    @property\n",
    "    def holidays_date_array(self):\n",
    "        return self._holidays_date_array\n",
    "    \n",
    "    @property\n",
    "    def holidays_datetimeindex(self):\n",
    "        return self._holidays_datetimeindex"
   ]
  },
  {
   "cell_type": "markdown",
   "metadata": {},
   "source": [
    "### Optionのコンストラクト "
   ]
  },
  {
   "cell_type": "code",
   "execution_count": 8,
   "metadata": {
    "ExecuteTime": {
     "end_time": "2020-12-31T20:52:22.234394Z",
     "start_time": "2020-12-31T20:52:21.530248Z"
    }
   },
   "outputs": [],
   "source": [
    "option = Option()"
   ]
  },
  {
   "cell_type": "markdown",
   "metadata": {},
   "source": [
    "### 指定した期間の営業日のndarrayを取得する"
   ]
  },
  {
   "cell_type": "code",
   "execution_count": 9,
   "metadata": {
    "ExecuteTime": {
     "end_time": "2020-12-31T20:52:22.271265Z",
     "start_time": "2020-12-31T20:52:22.239349Z"
    },
    "code_folding": []
   },
   "outputs": [],
   "source": [
    "def get_workdays_jp(start_date, end_date, return_as=\"date\", end_include=False):\n",
    "    \"\"\"\n",
    "    営業日を取得\n",
    "    \n",
    "    start_date: datetime.date\n",
    "        開始時刻のdate\n",
    "    end_datetime: datetime.date\n",
    "        終了時刻のdate\n",
    "    return_as: str, defalt: 'dt'\n",
    "        返り値の形式\n",
    "        - 'dt':pd.DatetimeIndex\n",
    "        - 'date': datetime.date array\n",
    "    end_include: bool\n",
    "        最終日も含めて出力するか\n",
    "    \"\"\"\n",
    "    assert isinstance(start_date, datetime.date) and isinstance(end_date, datetime.date)\n",
    "    # 返り値の形式の指定\n",
    "    return_as_set = {\"dt\", \"date\"}\n",
    "    if not return_as in return_as_set:\n",
    "        raise Exception(\"return_as must be any in {}\".format(return_as_set))\n",
    "    \n",
    "    # datetime.dateをpd.Timestampに変換(datetime.dateは通常pd.DatetimeIndexと比較できないため)\n",
    "    start_timestamp = pd.Timestamp(start_date)\n",
    "    end_timestamp = pd.Timestamp(end_date)\n",
    "    \n",
    "    # 期間中のholidayを取得\n",
    "    holidays_in_span_index = (start_timestamp<=option.holidays_datetimeindex)&(option.holidays_datetimeindex<end_timestamp)  # DatetimeIndexを使うことに注意\n",
    "    holidays_in_span_array = option.holidays_date_array[holidays_in_span_index]  # ndarrayを使う\n",
    "\n",
    "    # 期間中のdatetimeのarrayを取得\n",
    "    if end_include:\n",
    "        days_datetimeindex = pd.date_range(start=start_date, end=end_date, freq=\"D\")  # 最終日も含める\n",
    "    else:\n",
    "        days_datetimeindex = pd.date_range(start=start_date, end=end_date-datetime.timedelta(days=1), freq=\"D\")  # 最終日は含めない\n",
    "    \n",
    "    \n",
    "    # 休日に含まれないもの，さらに土日に含まれないもののboolインデックスを取得\n",
    "    holiday_bool_array = np.in1d(days_datetimeindex.date, holidays_in_span_array)  # 休日であるかのブール(pd.DatetimeIndex.isin)でもいい\n",
    "    sun_or_satur_bool_array = (days_datetimeindex.weekday==5) | (days_datetimeindex.weekday==6)  # 土曜日or日曜日\n",
    "    \n",
    "    workdays_bool_array = (~holiday_bool_array)&(~sun_or_satur_bool_array)  # 休日でなく土日でない\n",
    "    \n",
    "    workdays_datetimeindex = days_datetimeindex[workdays_bool_array].copy()\n",
    "    if return_as==\"dt\":\n",
    "        return workdays_datetimeindex\n",
    "    elif return_as==\"date\":\n",
    "        return workdays_datetimeindex.date"
   ]
  },
  {
   "cell_type": "code",
   "execution_count": 10,
   "metadata": {
    "ExecuteTime": {
     "end_time": "2020-12-31T20:52:22.309163Z",
     "start_time": "2020-12-31T20:52:22.282241Z"
    }
   },
   "outputs": [],
   "source": [
    "start_date = datetime.datetime(2019, 1, 1)\n",
    "end_date = datetime.datetime(2019, 12, 31)\n",
    "\n",
    "workdays = get_workdays_jp(start_date, end_date, return_as=\"date\", end_include=False)"
   ]
  },
  {
   "cell_type": "code",
   "execution_count": 11,
   "metadata": {
    "ExecuteTime": {
     "end_time": "2020-12-31T20:52:22.336091Z",
     "start_time": "2020-12-31T20:52:22.315147Z"
    }
   },
   "outputs": [
    {
     "data": {
      "text/plain": [
       "array([datetime.date(2019, 1, 2), datetime.date(2019, 1, 3),\n",
       "       datetime.date(2019, 1, 4), datetime.date(2019, 1, 7),\n",
       "       datetime.date(2019, 1, 8), datetime.date(2019, 1, 9),\n",
       "       datetime.date(2019, 1, 10), datetime.date(2019, 1, 11),\n",
       "       datetime.date(2019, 1, 15), datetime.date(2019, 1, 16),\n",
       "       datetime.date(2019, 1, 17), datetime.date(2019, 1, 18),\n",
       "       datetime.date(2019, 1, 21), datetime.date(2019, 1, 22),\n",
       "       datetime.date(2019, 1, 23), datetime.date(2019, 1, 24),\n",
       "       datetime.date(2019, 1, 25), datetime.date(2019, 1, 28),\n",
       "       datetime.date(2019, 1, 29), datetime.date(2019, 1, 30),\n",
       "       datetime.date(2019, 1, 31), datetime.date(2019, 2, 1),\n",
       "       datetime.date(2019, 2, 4), datetime.date(2019, 2, 5),\n",
       "       datetime.date(2019, 2, 6), datetime.date(2019, 2, 7),\n",
       "       datetime.date(2019, 2, 8), datetime.date(2019, 2, 12),\n",
       "       datetime.date(2019, 2, 13), datetime.date(2019, 2, 14),\n",
       "       datetime.date(2019, 2, 15), datetime.date(2019, 2, 18),\n",
       "       datetime.date(2019, 2, 19), datetime.date(2019, 2, 20),\n",
       "       datetime.date(2019, 2, 21), datetime.date(2019, 2, 22),\n",
       "       datetime.date(2019, 2, 25), datetime.date(2019, 2, 26),\n",
       "       datetime.date(2019, 2, 27), datetime.date(2019, 2, 28),\n",
       "       datetime.date(2019, 3, 1), datetime.date(2019, 3, 4),\n",
       "       datetime.date(2019, 3, 5), datetime.date(2019, 3, 6),\n",
       "       datetime.date(2019, 3, 7), datetime.date(2019, 3, 8),\n",
       "       datetime.date(2019, 3, 11), datetime.date(2019, 3, 12),\n",
       "       datetime.date(2019, 3, 13), datetime.date(2019, 3, 14),\n",
       "       datetime.date(2019, 3, 15), datetime.date(2019, 3, 18),\n",
       "       datetime.date(2019, 3, 19), datetime.date(2019, 3, 20),\n",
       "       datetime.date(2019, 3, 22), datetime.date(2019, 3, 25),\n",
       "       datetime.date(2019, 3, 26), datetime.date(2019, 3, 27),\n",
       "       datetime.date(2019, 3, 28), datetime.date(2019, 3, 29),\n",
       "       datetime.date(2019, 4, 1), datetime.date(2019, 4, 2),\n",
       "       datetime.date(2019, 4, 3), datetime.date(2019, 4, 4),\n",
       "       datetime.date(2019, 4, 5), datetime.date(2019, 4, 8),\n",
       "       datetime.date(2019, 4, 9), datetime.date(2019, 4, 10),\n",
       "       datetime.date(2019, 4, 11), datetime.date(2019, 4, 12),\n",
       "       datetime.date(2019, 4, 15), datetime.date(2019, 4, 16),\n",
       "       datetime.date(2019, 4, 17), datetime.date(2019, 4, 18),\n",
       "       datetime.date(2019, 4, 19), datetime.date(2019, 4, 22),\n",
       "       datetime.date(2019, 4, 23), datetime.date(2019, 4, 24),\n",
       "       datetime.date(2019, 4, 25), datetime.date(2019, 4, 26),\n",
       "       datetime.date(2019, 5, 7), datetime.date(2019, 5, 8),\n",
       "       datetime.date(2019, 5, 9), datetime.date(2019, 5, 10),\n",
       "       datetime.date(2019, 5, 13), datetime.date(2019, 5, 14),\n",
       "       datetime.date(2019, 5, 15), datetime.date(2019, 5, 16),\n",
       "       datetime.date(2019, 5, 17), datetime.date(2019, 5, 20),\n",
       "       datetime.date(2019, 5, 21), datetime.date(2019, 5, 22),\n",
       "       datetime.date(2019, 5, 23), datetime.date(2019, 5, 24),\n",
       "       datetime.date(2019, 5, 27), datetime.date(2019, 5, 28),\n",
       "       datetime.date(2019, 5, 29), datetime.date(2019, 5, 30),\n",
       "       datetime.date(2019, 5, 31), datetime.date(2019, 6, 3),\n",
       "       datetime.date(2019, 6, 4), datetime.date(2019, 6, 5),\n",
       "       datetime.date(2019, 6, 6), datetime.date(2019, 6, 7),\n",
       "       datetime.date(2019, 6, 10), datetime.date(2019, 6, 11),\n",
       "       datetime.date(2019, 6, 12), datetime.date(2019, 6, 13),\n",
       "       datetime.date(2019, 6, 14), datetime.date(2019, 6, 17),\n",
       "       datetime.date(2019, 6, 18), datetime.date(2019, 6, 19),\n",
       "       datetime.date(2019, 6, 20), datetime.date(2019, 6, 21),\n",
       "       datetime.date(2019, 6, 24), datetime.date(2019, 6, 25),\n",
       "       datetime.date(2019, 6, 26), datetime.date(2019, 6, 27),\n",
       "       datetime.date(2019, 6, 28), datetime.date(2019, 7, 1),\n",
       "       datetime.date(2019, 7, 2), datetime.date(2019, 7, 3),\n",
       "       datetime.date(2019, 7, 4), datetime.date(2019, 7, 5),\n",
       "       datetime.date(2019, 7, 8), datetime.date(2019, 7, 9),\n",
       "       datetime.date(2019, 7, 10), datetime.date(2019, 7, 11),\n",
       "       datetime.date(2019, 7, 12), datetime.date(2019, 7, 16),\n",
       "       datetime.date(2019, 7, 17), datetime.date(2019, 7, 18),\n",
       "       datetime.date(2019, 7, 19), datetime.date(2019, 7, 22),\n",
       "       datetime.date(2019, 7, 23), datetime.date(2019, 7, 24),\n",
       "       datetime.date(2019, 7, 25), datetime.date(2019, 7, 26),\n",
       "       datetime.date(2019, 7, 29), datetime.date(2019, 7, 30),\n",
       "       datetime.date(2019, 7, 31), datetime.date(2019, 8, 1),\n",
       "       datetime.date(2019, 8, 2), datetime.date(2019, 8, 5),\n",
       "       datetime.date(2019, 8, 6), datetime.date(2019, 8, 7),\n",
       "       datetime.date(2019, 8, 8), datetime.date(2019, 8, 9),\n",
       "       datetime.date(2019, 8, 13), datetime.date(2019, 8, 14),\n",
       "       datetime.date(2019, 8, 15), datetime.date(2019, 8, 16),\n",
       "       datetime.date(2019, 8, 19), datetime.date(2019, 8, 20),\n",
       "       datetime.date(2019, 8, 21), datetime.date(2019, 8, 22),\n",
       "       datetime.date(2019, 8, 23), datetime.date(2019, 8, 26),\n",
       "       datetime.date(2019, 8, 27), datetime.date(2019, 8, 28),\n",
       "       datetime.date(2019, 8, 29), datetime.date(2019, 8, 30),\n",
       "       datetime.date(2019, 9, 2), datetime.date(2019, 9, 3),\n",
       "       datetime.date(2019, 9, 4), datetime.date(2019, 9, 5),\n",
       "       datetime.date(2019, 9, 6), datetime.date(2019, 9, 9),\n",
       "       datetime.date(2019, 9, 10), datetime.date(2019, 9, 11),\n",
       "       datetime.date(2019, 9, 12), datetime.date(2019, 9, 13),\n",
       "       datetime.date(2019, 9, 17), datetime.date(2019, 9, 18),\n",
       "       datetime.date(2019, 9, 19), datetime.date(2019, 9, 20),\n",
       "       datetime.date(2019, 9, 24), datetime.date(2019, 9, 25),\n",
       "       datetime.date(2019, 9, 26), datetime.date(2019, 9, 27),\n",
       "       datetime.date(2019, 9, 30), datetime.date(2019, 10, 1),\n",
       "       datetime.date(2019, 10, 2), datetime.date(2019, 10, 3),\n",
       "       datetime.date(2019, 10, 4), datetime.date(2019, 10, 7),\n",
       "       datetime.date(2019, 10, 8), datetime.date(2019, 10, 9),\n",
       "       datetime.date(2019, 10, 10), datetime.date(2019, 10, 11),\n",
       "       datetime.date(2019, 10, 15), datetime.date(2019, 10, 16),\n",
       "       datetime.date(2019, 10, 17), datetime.date(2019, 10, 18),\n",
       "       datetime.date(2019, 10, 21), datetime.date(2019, 10, 23),\n",
       "       datetime.date(2019, 10, 24), datetime.date(2019, 10, 25),\n",
       "       datetime.date(2019, 10, 28), datetime.date(2019, 10, 29),\n",
       "       datetime.date(2019, 10, 30), datetime.date(2019, 10, 31),\n",
       "       datetime.date(2019, 11, 1), datetime.date(2019, 11, 5),\n",
       "       datetime.date(2019, 11, 6), datetime.date(2019, 11, 7),\n",
       "       datetime.date(2019, 11, 8), datetime.date(2019, 11, 11),\n",
       "       datetime.date(2019, 11, 12), datetime.date(2019, 11, 13),\n",
       "       datetime.date(2019, 11, 14), datetime.date(2019, 11, 15),\n",
       "       datetime.date(2019, 11, 18), datetime.date(2019, 11, 19),\n",
       "       datetime.date(2019, 11, 20), datetime.date(2019, 11, 21),\n",
       "       datetime.date(2019, 11, 22), datetime.date(2019, 11, 25),\n",
       "       datetime.date(2019, 11, 26), datetime.date(2019, 11, 27),\n",
       "       datetime.date(2019, 11, 28), datetime.date(2019, 11, 29),\n",
       "       datetime.date(2019, 12, 2), datetime.date(2019, 12, 3),\n",
       "       datetime.date(2019, 12, 4), datetime.date(2019, 12, 5),\n",
       "       datetime.date(2019, 12, 6), datetime.date(2019, 12, 9),\n",
       "       datetime.date(2019, 12, 10), datetime.date(2019, 12, 11),\n",
       "       datetime.date(2019, 12, 12), datetime.date(2019, 12, 13),\n",
       "       datetime.date(2019, 12, 16), datetime.date(2019, 12, 17),\n",
       "       datetime.date(2019, 12, 18), datetime.date(2019, 12, 19),\n",
       "       datetime.date(2019, 12, 20), datetime.date(2019, 12, 23),\n",
       "       datetime.date(2019, 12, 24), datetime.date(2019, 12, 25),\n",
       "       datetime.date(2019, 12, 26), datetime.date(2019, 12, 27),\n",
       "       datetime.date(2019, 12, 30)], dtype=object)"
      ]
     },
     "execution_count": 11,
     "metadata": {},
     "output_type": "execute_result"
    }
   ],
   "source": [
    "workdays"
   ]
  },
  {
   "cell_type": "markdown",
   "metadata": {},
   "source": [
    "### 営業日であるかどうか "
   ]
  },
  {
   "cell_type": "code",
   "execution_count": 12,
   "metadata": {
    "ExecuteTime": {
     "end_time": "2020-12-31T20:52:22.359043Z",
     "start_time": "2020-12-31T20:52:22.341080Z"
    }
   },
   "outputs": [],
   "source": [
    "def check_workday_jp(select_date):\n",
    "    \"\"\"\n",
    "    与えられたdatetime.dateが営業日であるかどうかを出力する\n",
    "    select_date: datetime.date\n",
    "        入力するdate\n",
    "    \"\"\"\n",
    "    assert isinstance(select_date, datetime.date)\n",
    "    select_date_array = np.array([select_date])  # データ数が一つのndarray\n",
    "    # 休日であるかどうか\n",
    "    is_holiday = np.in1d(select_date_array, option.holidays_date_array).item()  # データ数が一つのため，item\n",
    "    \n",
    "    # 土曜日か日曜日であるかどうか\n",
    "    is_sun_satur = (select_date.weekday()==5) or (select_date.weekday()==6)\n",
    "    \n",
    "    is_workday = (not is_holiday) and (not is_sun_satur)\n",
    "    \n",
    "    return is_workday"
   ]
  },
  {
   "cell_type": "code",
   "execution_count": 13,
   "metadata": {
    "ExecuteTime": {
     "end_time": "2020-12-31T20:52:22.385957Z",
     "start_time": "2020-12-31T20:52:22.365014Z"
    }
   },
   "outputs": [
    {
     "data": {
      "text/plain": [
       "True"
      ]
     },
     "execution_count": 13,
     "metadata": {},
     "output_type": "execute_result"
    }
   ],
   "source": [
    "select_date = datetime.date(2019, 1, 4)\n",
    "\n",
    "check_workday_jp(select_date)"
   ]
  },
  {
   "cell_type": "markdown",
   "metadata": {},
   "source": [
    "### 非営業日を取得"
   ]
  },
  {
   "cell_type": "markdown",
   "metadata": {},
   "source": [
    "同様に，すでに取得したholidayと照らし合わせる．"
   ]
  },
  {
   "cell_type": "code",
   "execution_count": 14,
   "metadata": {
    "ExecuteTime": {
     "end_time": "2020-12-31T20:52:22.416875Z",
     "start_time": "2020-12-31T20:52:22.389948Z"
    }
   },
   "outputs": [],
   "source": [
    "def get_not_workdays_jp(start_date, end_date, return_as=\"date\", end_include=False):\n",
    "    \"\"\"\n",
    "    非営業日を取得(土日or祝日)\n",
    "    \n",
    "    start_date: datetime.date\n",
    "        開始時刻のdate\n",
    "    end_datetime: datetime.date\n",
    "        終了時刻のdate\n",
    "    return_as: str, defalt: 'dt'\n",
    "        返り値の形式\n",
    "        - 'dt':pd.DatetimeIndex\n",
    "        - 'date': datetime.date array\n",
    "    end_include: bool\n",
    "        最終日も含めて出力するか\n",
    "    \"\"\"\n",
    "    assert isinstance(start_date, datetime.date) and isinstance(end_date, datetime.date)\n",
    "    # 返り値の形式の指定\n",
    "    return_as_set = {\"dt\", \"date\"}\n",
    "    if not return_as in return_as_set:\n",
    "        raise Exception(\"return_as must be any in {}\".format(return_as_set))\n",
    "    \n",
    "    # datetime.dateをpd.Timestampに変換(datetime.dateは通常pd.DatetimeIndexと比較できないため)\n",
    "    start_timestamp = pd.Timestamp(start_date)\n",
    "    end_timestamp = pd.Timestamp(end_date)\n",
    "    \n",
    "    # 期間中のholidayを取得\n",
    "    holidays_in_span_index = (start_timestamp<=option.holidays_datetimeindex)&(option.holidays_datetimeindex<end_timestamp)  # DatetimeIndexを使うことに注意\n",
    "    holidays_in_span_array = option.holidays_date_array[holidays_in_span_index]  # ndarrayを使う\n",
    "\n",
    "    # 期間中のdatetimeのarrayを取得\n",
    "    if end_include:\n",
    "        days_datetimeindex = pd.date_range(start=start_date, end=end_date, freq=\"D\")  # 最終日も含める\n",
    "    else:\n",
    "        days_datetimeindex = pd.date_range(start=start_date, end=end_date-datetime.timedelta(days=1), freq=\"D\")  # 最終日は含めない\n",
    "    \n",
    "    # 休日に含まれないもの，さらに土日に含まれないもののboolインデックスを取得\n",
    "    holiday_bool_array = np.in1d(days_datetimeindex.date, holidays_in_span_array)  # 休日であるかのブール(pd.DatetimeIndex.isin)でもいい\n",
    "    sun_or_satur_bool_array = (days_datetimeindex.weekday==5) | (days_datetimeindex.weekday==6)  # 土曜日or日曜日\n",
    "    \n",
    "    not_workdays_bool_array = holiday_bool_array | sun_or_satur_bool_array  # 休日あるいは土日\n",
    "    \n",
    "    not_workdays_datetimeindex = days_datetimeindex[not_workdays_bool_array].copy()\n",
    "    if return_as==\"dt\":\n",
    "        return not_workdays_datetimeindex\n",
    "    elif return_as==\"date\":\n",
    "        return not_workdays_datetimeindex.date"
   ]
  },
  {
   "cell_type": "code",
   "execution_count": 15,
   "metadata": {
    "ExecuteTime": {
     "end_time": "2020-12-31T20:52:22.433829Z",
     "start_time": "2020-12-31T20:52:22.420865Z"
    }
   },
   "outputs": [],
   "source": [
    "start_datetime = datetime.date(2019, 1, 1)\n",
    "end_datetime = datetime.date(2019, 12, 31)\n",
    "\n",
    "not_workdays = get_not_workdays_jp(start_date, end_date, return_as=\"dt\")"
   ]
  },
  {
   "cell_type": "code",
   "execution_count": 16,
   "metadata": {
    "ExecuteTime": {
     "end_time": "2020-12-31T20:52:22.449787Z",
     "start_time": "2020-12-31T20:52:22.437819Z"
    }
   },
   "outputs": [
    {
     "data": {
      "text/plain": [
       "DatetimeIndex(['2019-01-01', '2019-01-05', '2019-01-06', '2019-01-12',\n",
       "               '2019-01-13', '2019-01-14', '2019-01-19', '2019-01-20',\n",
       "               '2019-01-26', '2019-01-27',\n",
       "               ...\n",
       "               '2019-11-30', '2019-12-01', '2019-12-07', '2019-12-08',\n",
       "               '2019-12-14', '2019-12-15', '2019-12-21', '2019-12-22',\n",
       "               '2019-12-28', '2019-12-29'],\n",
       "              dtype='datetime64[ns]', length=121, freq=None)"
      ]
     },
     "execution_count": 16,
     "metadata": {},
     "output_type": "execute_result"
    }
   ],
   "source": [
    "not_workdays"
   ]
  },
  {
   "cell_type": "markdown",
   "metadata": {},
   "source": [
    "## 指定した日数後の営業日を取得"
   ]
  },
  {
   "cell_type": "markdown",
   "metadata": {},
   "source": [
    "ジェネレーターを使うので速度注意"
   ]
  },
  {
   "cell_type": "code",
   "execution_count": 17,
   "metadata": {
    "ExecuteTime": {
     "end_time": "2020-12-31T20:52:22.466742Z",
     "start_time": "2020-12-31T20:52:22.453778Z"
    }
   },
   "outputs": [],
   "source": [
    "def get_next_workday_jp(select_date, return_as=\"date\", days=1):\n",
    "    \"\"\"\n",
    "    select_date: datetime.date\n",
    "        指定する日時\n",
    "    return_as: str, defalt: 'dt'\n",
    "        返り値の形式\n",
    "        - 'dt':pd.Timstamp\n",
    "        - 'datetime': datetime.datetime array\n",
    "    \"\"\"\n",
    "    assert isinstance(select_date, datetime.date)\n",
    "    # 返り値の形式の指定\n",
    "    return_as_set = {\"dt\", \"date\"}\n",
    "    if not return_as in return_as_set:\n",
    "        raise Exception(\"return_as must be any in {}\".format(return_as_set))\n",
    "        \n",
    "    def get_next_workday_jp_gen(select_date):\n",
    "        add_days=1\n",
    "        while True:\n",
    "            next_day = select_date + datetime.timedelta(days=add_days)\n",
    "            if check_workday_jp(next_day):\n",
    "                yield next_day\n",
    "            add_days += 1\n",
    "    \n",
    "    next_workday_gen = get_next_workday_jp_gen(select_date)\n",
    "    for i in range(days):\n",
    "        next_day = next(next_workday_gen)\n",
    "    \n",
    "    if return_as==\"date\":\n",
    "        return next_day\n",
    "    elif return_as==\"dt\":\n",
    "        return pd.Timestamp(next_day)"
   ]
  },
  {
   "cell_type": "code",
   "execution_count": 18,
   "metadata": {
    "ExecuteTime": {
     "end_time": "2020-12-31T20:52:23.207758Z",
     "start_time": "2020-12-31T20:52:22.470732Z"
    }
   },
   "outputs": [
    {
     "data": {
      "text/plain": [
       "Timestamp('2020-01-09 00:00:00+0900', tz='Asia/Tokyo')"
      ]
     },
     "execution_count": 18,
     "metadata": {},
     "output_type": "execute_result"
    }
   ],
   "source": [
    "jst_timezone = timezone(\"Asia/Tokyo\")\n",
    "select_datetime = jst_timezone.localize(datetime.datetime(2020, 1, 1, 0, 0, 0))\n",
    "\n",
    "next_workday = get_next_workday_jp(select_datetime, days=6, return_as=\"dt\")\n",
    "next_workday"
   ]
  },
  {
   "cell_type": "markdown",
   "metadata": {},
   "source": [
    "## データフレームに関しての処理"
   ]
  },
  {
   "cell_type": "markdown",
   "metadata": {},
   "source": [
    "### データの用意 "
   ]
  },
  {
   "cell_type": "markdown",
   "metadata": {},
   "source": [
    "awareなdatetimeを持つDataFrame"
   ]
  },
  {
   "cell_type": "code",
   "execution_count": 19,
   "metadata": {
    "ExecuteTime": {
     "end_time": "2020-12-31T20:52:23.345409Z",
     "start_time": "2020-12-31T20:52:23.211749Z"
    }
   },
   "outputs": [
    {
     "data": {
      "text/html": [
       "<div>\n",
       "<style scoped>\n",
       "    .dataframe tbody tr th:only-of-type {\n",
       "        vertical-align: middle;\n",
       "    }\n",
       "\n",
       "    .dataframe tbody tr th {\n",
       "        vertical-align: top;\n",
       "    }\n",
       "\n",
       "    .dataframe thead th {\n",
       "        text-align: right;\n",
       "    }\n",
       "</style>\n",
       "<table border=\"1\" class=\"dataframe\">\n",
       "  <thead>\n",
       "    <tr style=\"text-align: right;\">\n",
       "      <th></th>\n",
       "      <th>Open_6502</th>\n",
       "      <th>High_6502</th>\n",
       "      <th>Low_6502</th>\n",
       "      <th>Close_6502</th>\n",
       "      <th>Volume_6502</th>\n",
       "    </tr>\n",
       "    <tr>\n",
       "      <th>timestamp</th>\n",
       "      <th></th>\n",
       "      <th></th>\n",
       "      <th></th>\n",
       "      <th></th>\n",
       "      <th></th>\n",
       "    </tr>\n",
       "  </thead>\n",
       "  <tbody>\n",
       "    <tr>\n",
       "      <th>2020-11-04 00:00:00+09:00</th>\n",
       "      <td>NaN</td>\n",
       "      <td>NaN</td>\n",
       "      <td>NaN</td>\n",
       "      <td>NaN</td>\n",
       "      <td>NaN</td>\n",
       "    </tr>\n",
       "    <tr>\n",
       "      <th>2020-11-04 00:01:00+09:00</th>\n",
       "      <td>NaN</td>\n",
       "      <td>NaN</td>\n",
       "      <td>NaN</td>\n",
       "      <td>NaN</td>\n",
       "      <td>NaN</td>\n",
       "    </tr>\n",
       "    <tr>\n",
       "      <th>2020-11-04 00:02:00+09:00</th>\n",
       "      <td>NaN</td>\n",
       "      <td>NaN</td>\n",
       "      <td>NaN</td>\n",
       "      <td>NaN</td>\n",
       "      <td>NaN</td>\n",
       "    </tr>\n",
       "    <tr>\n",
       "      <th>2020-11-04 00:03:00+09:00</th>\n",
       "      <td>NaN</td>\n",
       "      <td>NaN</td>\n",
       "      <td>NaN</td>\n",
       "      <td>NaN</td>\n",
       "      <td>NaN</td>\n",
       "    </tr>\n",
       "    <tr>\n",
       "      <th>2020-11-04 00:04:00+09:00</th>\n",
       "      <td>NaN</td>\n",
       "      <td>NaN</td>\n",
       "      <td>NaN</td>\n",
       "      <td>NaN</td>\n",
       "      <td>NaN</td>\n",
       "    </tr>\n",
       "    <tr>\n",
       "      <th>...</th>\n",
       "      <td>...</td>\n",
       "      <td>...</td>\n",
       "      <td>...</td>\n",
       "      <td>...</td>\n",
       "      <td>...</td>\n",
       "    </tr>\n",
       "    <tr>\n",
       "      <th>2020-11-30 23:55:00+09:00</th>\n",
       "      <td>NaN</td>\n",
       "      <td>NaN</td>\n",
       "      <td>NaN</td>\n",
       "      <td>NaN</td>\n",
       "      <td>NaN</td>\n",
       "    </tr>\n",
       "    <tr>\n",
       "      <th>2020-11-30 23:56:00+09:00</th>\n",
       "      <td>NaN</td>\n",
       "      <td>NaN</td>\n",
       "      <td>NaN</td>\n",
       "      <td>NaN</td>\n",
       "      <td>NaN</td>\n",
       "    </tr>\n",
       "    <tr>\n",
       "      <th>2020-11-30 23:57:00+09:00</th>\n",
       "      <td>NaN</td>\n",
       "      <td>NaN</td>\n",
       "      <td>NaN</td>\n",
       "      <td>NaN</td>\n",
       "      <td>NaN</td>\n",
       "    </tr>\n",
       "    <tr>\n",
       "      <th>2020-11-30 23:58:00+09:00</th>\n",
       "      <td>NaN</td>\n",
       "      <td>NaN</td>\n",
       "      <td>NaN</td>\n",
       "      <td>NaN</td>\n",
       "      <td>NaN</td>\n",
       "    </tr>\n",
       "    <tr>\n",
       "      <th>2020-11-30 23:59:00+09:00</th>\n",
       "      <td>NaN</td>\n",
       "      <td>NaN</td>\n",
       "      <td>NaN</td>\n",
       "      <td>NaN</td>\n",
       "      <td>NaN</td>\n",
       "    </tr>\n",
       "  </tbody>\n",
       "</table>\n",
       "<p>29520 rows × 5 columns</p>\n",
       "</div>"
      ],
      "text/plain": [
       "                           Open_6502  High_6502  Low_6502  Close_6502  \\\n",
       "timestamp                                                               \n",
       "2020-11-04 00:00:00+09:00        NaN        NaN       NaN         NaN   \n",
       "2020-11-04 00:01:00+09:00        NaN        NaN       NaN         NaN   \n",
       "2020-11-04 00:02:00+09:00        NaN        NaN       NaN         NaN   \n",
       "2020-11-04 00:03:00+09:00        NaN        NaN       NaN         NaN   \n",
       "2020-11-04 00:04:00+09:00        NaN        NaN       NaN         NaN   \n",
       "...                              ...        ...       ...         ...   \n",
       "2020-11-30 23:55:00+09:00        NaN        NaN       NaN         NaN   \n",
       "2020-11-30 23:56:00+09:00        NaN        NaN       NaN         NaN   \n",
       "2020-11-30 23:57:00+09:00        NaN        NaN       NaN         NaN   \n",
       "2020-11-30 23:58:00+09:00        NaN        NaN       NaN         NaN   \n",
       "2020-11-30 23:59:00+09:00        NaN        NaN       NaN         NaN   \n",
       "\n",
       "                           Volume_6502  \n",
       "timestamp                               \n",
       "2020-11-04 00:00:00+09:00          NaN  \n",
       "2020-11-04 00:01:00+09:00          NaN  \n",
       "2020-11-04 00:02:00+09:00          NaN  \n",
       "2020-11-04 00:03:00+09:00          NaN  \n",
       "2020-11-04 00:04:00+09:00          NaN  \n",
       "...                                ...  \n",
       "2020-11-30 23:55:00+09:00          NaN  \n",
       "2020-11-30 23:56:00+09:00          NaN  \n",
       "2020-11-30 23:57:00+09:00          NaN  \n",
       "2020-11-30 23:58:00+09:00          NaN  \n",
       "2020-11-30 23:59:00+09:00          NaN  \n",
       "\n",
       "[29520 rows x 5 columns]"
      ]
     },
     "execution_count": 19,
     "metadata": {},
     "output_type": "execute_result"
    }
   ],
   "source": [
    "with open(\"aware_stock_df.pickle\", \"rb\") as f:\n",
    "    aware_stock_df = pickle.load(f)\n",
    "\n",
    "aware_stock_df"
   ]
  },
  {
   "cell_type": "markdown",
   "metadata": {},
   "source": [
    "naiveなdatetimeを持つDataFrame"
   ]
  },
  {
   "cell_type": "code",
   "execution_count": 20,
   "metadata": {
    "ExecuteTime": {
     "end_time": "2020-12-31T20:52:23.453103Z",
     "start_time": "2020-12-31T20:52:23.350389Z"
    }
   },
   "outputs": [
    {
     "data": {
      "text/html": [
       "<div>\n",
       "<style scoped>\n",
       "    .dataframe tbody tr th:only-of-type {\n",
       "        vertical-align: middle;\n",
       "    }\n",
       "\n",
       "    .dataframe tbody tr th {\n",
       "        vertical-align: top;\n",
       "    }\n",
       "\n",
       "    .dataframe thead th {\n",
       "        text-align: right;\n",
       "    }\n",
       "</style>\n",
       "<table border=\"1\" class=\"dataframe\">\n",
       "  <thead>\n",
       "    <tr style=\"text-align: right;\">\n",
       "      <th></th>\n",
       "      <th>Open_6502</th>\n",
       "      <th>High_6502</th>\n",
       "      <th>Low_6502</th>\n",
       "      <th>Close_6502</th>\n",
       "      <th>Volume_6502</th>\n",
       "    </tr>\n",
       "    <tr>\n",
       "      <th>timestamp</th>\n",
       "      <th></th>\n",
       "      <th></th>\n",
       "      <th></th>\n",
       "      <th></th>\n",
       "      <th></th>\n",
       "    </tr>\n",
       "  </thead>\n",
       "  <tbody>\n",
       "    <tr>\n",
       "      <th>2020-11-04 09:00:00</th>\n",
       "      <td>2669.0</td>\n",
       "      <td>2670.0</td>\n",
       "      <td>2658.0</td>\n",
       "      <td>2664.0</td>\n",
       "      <td>93000.0</td>\n",
       "    </tr>\n",
       "    <tr>\n",
       "      <th>2020-11-05 09:00:00</th>\n",
       "      <td>2631.0</td>\n",
       "      <td>2641.0</td>\n",
       "      <td>2630.0</td>\n",
       "      <td>2639.0</td>\n",
       "      <td>55000.0</td>\n",
       "    </tr>\n",
       "    <tr>\n",
       "      <th>2020-11-06 09:00:00</th>\n",
       "      <td>2615.0</td>\n",
       "      <td>2644.0</td>\n",
       "      <td>2609.0</td>\n",
       "      <td>2617.0</td>\n",
       "      <td>90700.0</td>\n",
       "    </tr>\n",
       "    <tr>\n",
       "      <th>2020-11-09 09:00:00</th>\n",
       "      <td>2711.0</td>\n",
       "      <td>2719.0</td>\n",
       "      <td>2707.0</td>\n",
       "      <td>2710.0</td>\n",
       "      <td>0.0</td>\n",
       "    </tr>\n",
       "    <tr>\n",
       "      <th>2020-11-10 09:00:00</th>\n",
       "      <td>2780.0</td>\n",
       "      <td>2782.0</td>\n",
       "      <td>2770.0</td>\n",
       "      <td>2777.0</td>\n",
       "      <td>142700.0</td>\n",
       "    </tr>\n",
       "    <tr>\n",
       "      <th>2020-11-11 09:00:00</th>\n",
       "      <td>NaN</td>\n",
       "      <td>NaN</td>\n",
       "      <td>NaN</td>\n",
       "      <td>NaN</td>\n",
       "      <td>NaN</td>\n",
       "    </tr>\n",
       "    <tr>\n",
       "      <th>2020-11-12 09:00:00</th>\n",
       "      <td>2788.0</td>\n",
       "      <td>2800.0</td>\n",
       "      <td>2781.0</td>\n",
       "      <td>2789.0</td>\n",
       "      <td>108400.0</td>\n",
       "    </tr>\n",
       "    <tr>\n",
       "      <th>2020-11-13 09:00:00</th>\n",
       "      <td>2750.0</td>\n",
       "      <td>2754.0</td>\n",
       "      <td>2741.0</td>\n",
       "      <td>2750.0</td>\n",
       "      <td>71500.0</td>\n",
       "    </tr>\n",
       "    <tr>\n",
       "      <th>2020-11-14 09:00:00</th>\n",
       "      <td>NaN</td>\n",
       "      <td>NaN</td>\n",
       "      <td>NaN</td>\n",
       "      <td>NaN</td>\n",
       "      <td>NaN</td>\n",
       "    </tr>\n",
       "    <tr>\n",
       "      <th>2020-11-15 09:00:00</th>\n",
       "      <td>NaN</td>\n",
       "      <td>NaN</td>\n",
       "      <td>NaN</td>\n",
       "      <td>NaN</td>\n",
       "      <td>NaN</td>\n",
       "    </tr>\n",
       "    <tr>\n",
       "      <th>2020-11-16 09:00:00</th>\n",
       "      <td>2714.0</td>\n",
       "      <td>2716.0</td>\n",
       "      <td>2705.0</td>\n",
       "      <td>2710.0</td>\n",
       "      <td>111000.0</td>\n",
       "    </tr>\n",
       "    <tr>\n",
       "      <th>2020-11-17 09:00:00</th>\n",
       "      <td>2748.0</td>\n",
       "      <td>2748.0</td>\n",
       "      <td>2729.0</td>\n",
       "      <td>2734.0</td>\n",
       "      <td>124400.0</td>\n",
       "    </tr>\n",
       "    <tr>\n",
       "      <th>2020-11-18 09:00:00</th>\n",
       "      <td>2819.0</td>\n",
       "      <td>2823.0</td>\n",
       "      <td>2814.0</td>\n",
       "      <td>2820.0</td>\n",
       "      <td>76000.0</td>\n",
       "    </tr>\n",
       "    <tr>\n",
       "      <th>2020-11-19 09:00:00</th>\n",
       "      <td>2858.0</td>\n",
       "      <td>2867.0</td>\n",
       "      <td>2858.0</td>\n",
       "      <td>2860.0</td>\n",
       "      <td>107000.0</td>\n",
       "    </tr>\n",
       "    <tr>\n",
       "      <th>2020-11-20 09:00:00</th>\n",
       "      <td>2875.0</td>\n",
       "      <td>2887.0</td>\n",
       "      <td>2873.0</td>\n",
       "      <td>2884.0</td>\n",
       "      <td>106000.0</td>\n",
       "    </tr>\n",
       "    <tr>\n",
       "      <th>2020-11-24 09:00:00</th>\n",
       "      <td>2957.0</td>\n",
       "      <td>2967.0</td>\n",
       "      <td>2952.0</td>\n",
       "      <td>2966.0</td>\n",
       "      <td>0.0</td>\n",
       "    </tr>\n",
       "    <tr>\n",
       "      <th>2020-11-25 09:00:00</th>\n",
       "      <td>2927.0</td>\n",
       "      <td>2934.0</td>\n",
       "      <td>2926.0</td>\n",
       "      <td>2933.0</td>\n",
       "      <td>74000.0</td>\n",
       "    </tr>\n",
       "    <tr>\n",
       "      <th>2020-11-26 09:00:00</th>\n",
       "      <td>2822.0</td>\n",
       "      <td>2831.0</td>\n",
       "      <td>2818.0</td>\n",
       "      <td>2824.0</td>\n",
       "      <td>93500.0</td>\n",
       "    </tr>\n",
       "    <tr>\n",
       "      <th>2020-11-27 09:00:00</th>\n",
       "      <td>2809.0</td>\n",
       "      <td>2828.0</td>\n",
       "      <td>2809.0</td>\n",
       "      <td>2822.0</td>\n",
       "      <td>107600.0</td>\n",
       "    </tr>\n",
       "    <tr>\n",
       "      <th>2020-11-28 09:00:00</th>\n",
       "      <td>NaN</td>\n",
       "      <td>NaN</td>\n",
       "      <td>NaN</td>\n",
       "      <td>NaN</td>\n",
       "      <td>NaN</td>\n",
       "    </tr>\n",
       "    <tr>\n",
       "      <th>2020-11-29 09:00:00</th>\n",
       "      <td>NaN</td>\n",
       "      <td>NaN</td>\n",
       "      <td>NaN</td>\n",
       "      <td>NaN</td>\n",
       "      <td>NaN</td>\n",
       "    </tr>\n",
       "    <tr>\n",
       "      <th>2020-11-30 09:00:00</th>\n",
       "      <td>2940.0</td>\n",
       "      <td>2954.0</td>\n",
       "      <td>2936.0</td>\n",
       "      <td>2940.0</td>\n",
       "      <td>225300.0</td>\n",
       "    </tr>\n",
       "  </tbody>\n",
       "</table>\n",
       "</div>"
      ],
      "text/plain": [
       "                     Open_6502  High_6502  Low_6502  Close_6502  Volume_6502\n",
       "timestamp                                                                   \n",
       "2020-11-04 09:00:00     2669.0     2670.0    2658.0      2664.0      93000.0\n",
       "2020-11-05 09:00:00     2631.0     2641.0    2630.0      2639.0      55000.0\n",
       "2020-11-06 09:00:00     2615.0     2644.0    2609.0      2617.0      90700.0\n",
       "2020-11-09 09:00:00     2711.0     2719.0    2707.0      2710.0          0.0\n",
       "2020-11-10 09:00:00     2780.0     2782.0    2770.0      2777.0     142700.0\n",
       "2020-11-11 09:00:00        NaN        NaN       NaN         NaN          NaN\n",
       "2020-11-12 09:00:00     2788.0     2800.0    2781.0      2789.0     108400.0\n",
       "2020-11-13 09:00:00     2750.0     2754.0    2741.0      2750.0      71500.0\n",
       "2020-11-14 09:00:00        NaN        NaN       NaN         NaN          NaN\n",
       "2020-11-15 09:00:00        NaN        NaN       NaN         NaN          NaN\n",
       "2020-11-16 09:00:00     2714.0     2716.0    2705.0      2710.0     111000.0\n",
       "2020-11-17 09:00:00     2748.0     2748.0    2729.0      2734.0     124400.0\n",
       "2020-11-18 09:00:00     2819.0     2823.0    2814.0      2820.0      76000.0\n",
       "2020-11-19 09:00:00     2858.0     2867.0    2858.0      2860.0     107000.0\n",
       "2020-11-20 09:00:00     2875.0     2887.0    2873.0      2884.0     106000.0\n",
       "2020-11-24 09:00:00     2957.0     2967.0    2952.0      2966.0          0.0\n",
       "2020-11-25 09:00:00     2927.0     2934.0    2926.0      2933.0      74000.0\n",
       "2020-11-26 09:00:00     2822.0     2831.0    2818.0      2824.0      93500.0\n",
       "2020-11-27 09:00:00     2809.0     2828.0    2809.0      2822.0     107600.0\n",
       "2020-11-28 09:00:00        NaN        NaN       NaN         NaN          NaN\n",
       "2020-11-29 09:00:00        NaN        NaN       NaN         NaN          NaN\n",
       "2020-11-30 09:00:00     2940.0     2954.0    2936.0      2940.0     225300.0"
      ]
     },
     "execution_count": 20,
     "metadata": {},
     "output_type": "execute_result"
    }
   ],
   "source": [
    "with open(\"naive_stock_df.pickle\", \"rb\") as f:\n",
    "    naive_stock_df = pickle.load(f)\n",
    "\n",
    "naive_stock_df.at_time(datetime.time(9,0))"
   ]
  },
  {
   "cell_type": "markdown",
   "metadata": {},
   "source": [
    "### 営業日データを取得"
   ]
  },
  {
   "cell_type": "markdown",
   "metadata": {},
   "source": [
    "高速化のため，既存のholidayと照らし合わせる方法でとる"
   ]
  },
  {
   "cell_type": "code",
   "execution_count": 21,
   "metadata": {
    "ExecuteTime": {
     "end_time": "2020-12-31T20:52:23.553832Z",
     "start_time": "2020-12-31T20:52:23.466069Z"
    }
   },
   "outputs": [],
   "source": [
    "def extract_workdays_jp_index(dt_index, return_as=\"index\"):\n",
    "    \"\"\"\n",
    "    pd.DatetimeIndexから，営業日のデータのものを抽出\n",
    "    dt_index: pd.DatetimeIndex\n",
    "        入力するDatetimeIndex，すでにdatetimeでソートしていることが前提\n",
    "    return_as: str\n",
    "        出力データの形式\n",
    "        - \"index\": 引数としたdfの対応するインデックスを返す\n",
    "        - \"bool\": 引数としたdfに対応するboolインデックスを返す\n",
    "    \"\"\"\n",
    "    # 返り値の形式の指定\n",
    "    return_as_set = {\"index\", \"bool\"}\n",
    "    if not return_as in return_as_set:\n",
    "        raise Exception(\"return_as must be any in {}\".format(return_as_set))\n",
    "        \n",
    "    # すでにtimestampでソートさてている前提\n",
    "    start_datetime = dt_index[0].to_pydatetime()\n",
    "    end_datetime = dt_index[-1].to_pydatetime()\n",
    "    \n",
    "    start_datetime, end_datetime = check_jst_datetimes_to_naive(start_datetime, end_datetime)  # 二つのdatetimeのタイムゾーンをチェック・naiveに変更\n",
    "    \n",
    "    # 期間内のholidayを取得\n",
    "    holidays_in_span_index = ((start_datetime-datetime.timedelta(days=1))<option.holidays_datetimeindex)&\\\n",
    "    (option.holidays_datetimeindex<=end_datetime)  # DatetimeIndexを使うことに注意, 当日を含めるため，startから1を引いている．\n",
    "    holidays_in_span_array = option.holidays_date_array[holidays_in_span_index]  # ndarrayを使う\n",
    "    \n",
    "    # 休日に含まれないもの，さらに土日に含まれないもののboolインデックスを取得    \n",
    "    holiday_bool_array = np.in1d(dt_index.date, holidays_in_span_array)  # 休日\n",
    "    sun_or_satur_bool_array = (dt_index.weekday==5) | (dt_index.weekday==6)  # 土曜日or日曜日\n",
    "    \n",
    "    workdays_bool_array = (~holiday_bool_array)&(~sun_or_satur_bool_array)  # 休日でなく土日でない\n",
    "    if return_as==\"bool\":  # boolで返す場合\n",
    "        return workdays_bool_array\n",
    "    \n",
    "    elif return_as==\"index\":  # indexで返す場合\n",
    "        workdays_df_indice = dt_index[workdays_bool_array]\n",
    "        return workdays_df_indice"
   ]
  },
  {
   "cell_type": "code",
   "execution_count": 22,
   "metadata": {
    "ExecuteTime": {
     "end_time": "2020-12-31T20:52:23.584750Z",
     "start_time": "2020-12-31T20:52:23.561813Z"
    }
   },
   "outputs": [],
   "source": [
    "def extract_workdays_jp(df, return_as=\"df\"):\n",
    "    \"\"\"\n",
    "    データフレームから，営業日のデータのものを抽出．出力データ形式をreturn_asで指定する．\n",
    "    df: pd.DataFrame(インデックスとしてpd.DatetimeIndex)\n",
    "        入力データ\n",
    "    return_as: str\n",
    "        出力データの形式\n",
    "        - \"df\": 抽出した新しいpd.DataFrameを返す\n",
    "        - \"index\": 引数としたdfの対応するインデックスを返す\n",
    "        - \"bool\": 引数としたdfに対応するboolインデックスを返す\n",
    "    \"\"\"\n",
    "    \n",
    "    # 返り値の形式の指定\n",
    "    return_as_set = {\"df\", \"index\", \"bool\"}\n",
    "    if not return_as in return_as_set:\n",
    "        raise Exception(\"return_as must be any in {}\".format(return_as_set))\n",
    "    \n",
    "    workdays_bool_array = extract_workdays_jp_index(df.index, return_as=\"bool\")\n",
    "    if return_as==\"bool\":\n",
    "        return workdays_bool_array\n",
    "    \n",
    "    workdays_df_indice = df.index[workdays_bool_array]\n",
    "    if return_as==\"index\":\n",
    "        return workdays_df_indice\n",
    "\n",
    "    out_df = df.loc[workdays_df_indice].copy()\n",
    "    return out_df"
   ]
  },
  {
   "cell_type": "code",
   "execution_count": 23,
   "metadata": {
    "ExecuteTime": {
     "end_time": "2020-12-31T20:52:23.754297Z",
     "start_time": "2020-12-31T20:52:23.600709Z"
    }
   },
   "outputs": [
    {
     "data": {
      "text/html": [
       "<div>\n",
       "<style scoped>\n",
       "    .dataframe tbody tr th:only-of-type {\n",
       "        vertical-align: middle;\n",
       "    }\n",
       "\n",
       "    .dataframe tbody tr th {\n",
       "        vertical-align: top;\n",
       "    }\n",
       "\n",
       "    .dataframe thead th {\n",
       "        text-align: right;\n",
       "    }\n",
       "</style>\n",
       "<table border=\"1\" class=\"dataframe\">\n",
       "  <thead>\n",
       "    <tr style=\"text-align: right;\">\n",
       "      <th></th>\n",
       "      <th>Open_6502</th>\n",
       "      <th>High_6502</th>\n",
       "      <th>Low_6502</th>\n",
       "      <th>Close_6502</th>\n",
       "      <th>Volume_6502</th>\n",
       "    </tr>\n",
       "    <tr>\n",
       "      <th>timestamp</th>\n",
       "      <th></th>\n",
       "      <th></th>\n",
       "      <th></th>\n",
       "      <th></th>\n",
       "      <th></th>\n",
       "    </tr>\n",
       "  </thead>\n",
       "  <tbody>\n",
       "    <tr>\n",
       "      <th>2020-11-04 09:00:00+09:00</th>\n",
       "      <td>2669.0</td>\n",
       "      <td>2670.0</td>\n",
       "      <td>2658.0</td>\n",
       "      <td>2664.0</td>\n",
       "      <td>93000.0</td>\n",
       "    </tr>\n",
       "    <tr>\n",
       "      <th>2020-11-05 09:00:00+09:00</th>\n",
       "      <td>2631.0</td>\n",
       "      <td>2641.0</td>\n",
       "      <td>2630.0</td>\n",
       "      <td>2639.0</td>\n",
       "      <td>55000.0</td>\n",
       "    </tr>\n",
       "    <tr>\n",
       "      <th>2020-11-06 09:00:00+09:00</th>\n",
       "      <td>2615.0</td>\n",
       "      <td>2644.0</td>\n",
       "      <td>2609.0</td>\n",
       "      <td>2617.0</td>\n",
       "      <td>90700.0</td>\n",
       "    </tr>\n",
       "    <tr>\n",
       "      <th>2020-11-09 09:00:00+09:00</th>\n",
       "      <td>2711.0</td>\n",
       "      <td>2719.0</td>\n",
       "      <td>2707.0</td>\n",
       "      <td>2710.0</td>\n",
       "      <td>0.0</td>\n",
       "    </tr>\n",
       "    <tr>\n",
       "      <th>2020-11-10 09:00:00+09:00</th>\n",
       "      <td>2780.0</td>\n",
       "      <td>2782.0</td>\n",
       "      <td>2770.0</td>\n",
       "      <td>2777.0</td>\n",
       "      <td>142700.0</td>\n",
       "    </tr>\n",
       "    <tr>\n",
       "      <th>2020-11-11 09:00:00+09:00</th>\n",
       "      <td>NaN</td>\n",
       "      <td>NaN</td>\n",
       "      <td>NaN</td>\n",
       "      <td>NaN</td>\n",
       "      <td>NaN</td>\n",
       "    </tr>\n",
       "    <tr>\n",
       "      <th>2020-11-12 09:00:00+09:00</th>\n",
       "      <td>2788.0</td>\n",
       "      <td>2800.0</td>\n",
       "      <td>2781.0</td>\n",
       "      <td>2789.0</td>\n",
       "      <td>108400.0</td>\n",
       "    </tr>\n",
       "    <tr>\n",
       "      <th>2020-11-13 09:00:00+09:00</th>\n",
       "      <td>2750.0</td>\n",
       "      <td>2754.0</td>\n",
       "      <td>2741.0</td>\n",
       "      <td>2750.0</td>\n",
       "      <td>71500.0</td>\n",
       "    </tr>\n",
       "    <tr>\n",
       "      <th>2020-11-16 09:00:00+09:00</th>\n",
       "      <td>2714.0</td>\n",
       "      <td>2716.0</td>\n",
       "      <td>2705.0</td>\n",
       "      <td>2710.0</td>\n",
       "      <td>111000.0</td>\n",
       "    </tr>\n",
       "    <tr>\n",
       "      <th>2020-11-17 09:00:00+09:00</th>\n",
       "      <td>2748.0</td>\n",
       "      <td>2748.0</td>\n",
       "      <td>2729.0</td>\n",
       "      <td>2734.0</td>\n",
       "      <td>124400.0</td>\n",
       "    </tr>\n",
       "    <tr>\n",
       "      <th>2020-11-18 09:00:00+09:00</th>\n",
       "      <td>2819.0</td>\n",
       "      <td>2823.0</td>\n",
       "      <td>2814.0</td>\n",
       "      <td>2820.0</td>\n",
       "      <td>76000.0</td>\n",
       "    </tr>\n",
       "    <tr>\n",
       "      <th>2020-11-19 09:00:00+09:00</th>\n",
       "      <td>2858.0</td>\n",
       "      <td>2867.0</td>\n",
       "      <td>2858.0</td>\n",
       "      <td>2860.0</td>\n",
       "      <td>107000.0</td>\n",
       "    </tr>\n",
       "    <tr>\n",
       "      <th>2020-11-20 09:00:00+09:00</th>\n",
       "      <td>2875.0</td>\n",
       "      <td>2887.0</td>\n",
       "      <td>2873.0</td>\n",
       "      <td>2884.0</td>\n",
       "      <td>106000.0</td>\n",
       "    </tr>\n",
       "    <tr>\n",
       "      <th>2020-11-24 09:00:00+09:00</th>\n",
       "      <td>2957.0</td>\n",
       "      <td>2967.0</td>\n",
       "      <td>2952.0</td>\n",
       "      <td>2966.0</td>\n",
       "      <td>0.0</td>\n",
       "    </tr>\n",
       "    <tr>\n",
       "      <th>2020-11-25 09:00:00+09:00</th>\n",
       "      <td>2927.0</td>\n",
       "      <td>2934.0</td>\n",
       "      <td>2926.0</td>\n",
       "      <td>2933.0</td>\n",
       "      <td>74000.0</td>\n",
       "    </tr>\n",
       "    <tr>\n",
       "      <th>2020-11-26 09:00:00+09:00</th>\n",
       "      <td>2822.0</td>\n",
       "      <td>2831.0</td>\n",
       "      <td>2818.0</td>\n",
       "      <td>2824.0</td>\n",
       "      <td>93500.0</td>\n",
       "    </tr>\n",
       "    <tr>\n",
       "      <th>2020-11-27 09:00:00+09:00</th>\n",
       "      <td>2809.0</td>\n",
       "      <td>2828.0</td>\n",
       "      <td>2809.0</td>\n",
       "      <td>2822.0</td>\n",
       "      <td>107600.0</td>\n",
       "    </tr>\n",
       "    <tr>\n",
       "      <th>2020-11-30 09:00:00+09:00</th>\n",
       "      <td>2940.0</td>\n",
       "      <td>2954.0</td>\n",
       "      <td>2936.0</td>\n",
       "      <td>2940.0</td>\n",
       "      <td>225300.0</td>\n",
       "    </tr>\n",
       "  </tbody>\n",
       "</table>\n",
       "</div>"
      ],
      "text/plain": [
       "                           Open_6502  High_6502  Low_6502  Close_6502  \\\n",
       "timestamp                                                               \n",
       "2020-11-04 09:00:00+09:00     2669.0     2670.0    2658.0      2664.0   \n",
       "2020-11-05 09:00:00+09:00     2631.0     2641.0    2630.0      2639.0   \n",
       "2020-11-06 09:00:00+09:00     2615.0     2644.0    2609.0      2617.0   \n",
       "2020-11-09 09:00:00+09:00     2711.0     2719.0    2707.0      2710.0   \n",
       "2020-11-10 09:00:00+09:00     2780.0     2782.0    2770.0      2777.0   \n",
       "2020-11-11 09:00:00+09:00        NaN        NaN       NaN         NaN   \n",
       "2020-11-12 09:00:00+09:00     2788.0     2800.0    2781.0      2789.0   \n",
       "2020-11-13 09:00:00+09:00     2750.0     2754.0    2741.0      2750.0   \n",
       "2020-11-16 09:00:00+09:00     2714.0     2716.0    2705.0      2710.0   \n",
       "2020-11-17 09:00:00+09:00     2748.0     2748.0    2729.0      2734.0   \n",
       "2020-11-18 09:00:00+09:00     2819.0     2823.0    2814.0      2820.0   \n",
       "2020-11-19 09:00:00+09:00     2858.0     2867.0    2858.0      2860.0   \n",
       "2020-11-20 09:00:00+09:00     2875.0     2887.0    2873.0      2884.0   \n",
       "2020-11-24 09:00:00+09:00     2957.0     2967.0    2952.0      2966.0   \n",
       "2020-11-25 09:00:00+09:00     2927.0     2934.0    2926.0      2933.0   \n",
       "2020-11-26 09:00:00+09:00     2822.0     2831.0    2818.0      2824.0   \n",
       "2020-11-27 09:00:00+09:00     2809.0     2828.0    2809.0      2822.0   \n",
       "2020-11-30 09:00:00+09:00     2940.0     2954.0    2936.0      2940.0   \n",
       "\n",
       "                           Volume_6502  \n",
       "timestamp                               \n",
       "2020-11-04 09:00:00+09:00      93000.0  \n",
       "2020-11-05 09:00:00+09:00      55000.0  \n",
       "2020-11-06 09:00:00+09:00      90700.0  \n",
       "2020-11-09 09:00:00+09:00          0.0  \n",
       "2020-11-10 09:00:00+09:00     142700.0  \n",
       "2020-11-11 09:00:00+09:00          NaN  \n",
       "2020-11-12 09:00:00+09:00     108400.0  \n",
       "2020-11-13 09:00:00+09:00      71500.0  \n",
       "2020-11-16 09:00:00+09:00     111000.0  \n",
       "2020-11-17 09:00:00+09:00     124400.0  \n",
       "2020-11-18 09:00:00+09:00      76000.0  \n",
       "2020-11-19 09:00:00+09:00     107000.0  \n",
       "2020-11-20 09:00:00+09:00     106000.0  \n",
       "2020-11-24 09:00:00+09:00          0.0  \n",
       "2020-11-25 09:00:00+09:00      74000.0  \n",
       "2020-11-26 09:00:00+09:00      93500.0  \n",
       "2020-11-27 09:00:00+09:00     107600.0  \n",
       "2020-11-30 09:00:00+09:00     225300.0  "
      ]
     },
     "execution_count": 23,
     "metadata": {},
     "output_type": "execute_result"
    }
   ],
   "source": [
    "extracted_stock_df = extract_workdays_jp(aware_stock_df, return_as=\"df\")\n",
    "extracted_stock_df.at_time(datetime.time(9,0))"
   ]
  },
  {
   "cell_type": "markdown",
   "metadata": {},
   "source": [
    "### 日中データを取得"
   ]
  },
  {
   "cell_type": "markdown",
   "metadata": {},
   "source": [
    "おそらく使わない，以下の営業日＋日中内で使う．"
   ]
  },
  {
   "cell_type": "code",
   "execution_count": 24,
   "metadata": {
    "ExecuteTime": {
     "end_time": "2020-12-31T20:52:23.785214Z",
     "start_time": "2020-12-31T20:52:23.763323Z"
    }
   },
   "outputs": [],
   "source": [
    "def extract_intraday_jp_index(dt_index, return_as=\"index\"):\n",
    "    \"\"\"\n",
    "    pd.DatetimeIndexから，日中(9時から11時半，12時半から15時)のデータのものを抽出．出力データ形式をreturn_asで指定する．\n",
    "    dt_index: pd.DatetimeIndex\n",
    "        入力するDatetimeIndex\n",
    "    return_as: str\n",
    "        出力データの形式\n",
    "        - \"index\": 引数としたdfの対応するインデックスを返す\n",
    "        - \"bool\": 引数としたdfに対応するboolインデックスを返す\n",
    "    \"\"\"\n",
    "    \n",
    "    # 返り値の形式の指定\n",
    "    return_as_set = {\"index\", \"bool\"}\n",
    "    if not return_as in return_as_set:\n",
    "        raise Exception(\"return_as must be any in {}\".format(return_as_set))    \n",
    "  \n",
    "    bool_array = np.array([False]*len(dt_index))\n",
    "    \n",
    "    # 午前をTrueに\n",
    "    am_indice = dt_index.indexer_between_time(start_time=datetime.time(9,0), end_time=datetime.time(11,30), include_end=False)\n",
    "    bool_array[am_indice] = True\n",
    "    \n",
    "    # 午後をTrueに\n",
    "    pm_indice = dt_index.indexer_between_time(start_time=datetime.time(12,30), end_time=datetime.time(15,0), include_end=False)\n",
    "    bool_array[pm_indice] = True\n",
    "    \n",
    "    if return_as==\"bool\":\n",
    "        return bool_array\n",
    "\n",
    "    elif return_as==\"index\":\n",
    "        intraday_indice = dt_index[bool_array]\n",
    "        return intraday_indice"
   ]
  },
  {
   "cell_type": "code",
   "execution_count": 25,
   "metadata": {
    "ExecuteTime": {
     "end_time": "2020-12-31T20:52:23.818125Z",
     "start_time": "2020-12-31T20:52:23.791200Z"
    }
   },
   "outputs": [],
   "source": [
    "def extract_intraday_jp(df, return_as=\"df\"):\n",
    "    \"\"\"\n",
    "    データフレームから，日中(9時から11時半，12時半から15時)のデータのものを抽出．出力データ形式をreturn_asで指定する．\n",
    "    df: pd.DataFrame(インデックスとしてpd.DatetimeIndex)\n",
    "        入力データ\n",
    "    return_as: str\n",
    "        出力データの形式\n",
    "        - \"df\": 抽出した新しいpd.DataFrameを返す\n",
    "        - \"index\": 引数としたdfの対応するインデックスを返す\n",
    "        - \"bool\": 引数としたdfに対応するboolインデックスを返す\n",
    "    \"\"\"\n",
    "    \n",
    "    # 返り値の形式の指定\n",
    "    return_as_set = {\"df\", \"index\", \"bool\"}\n",
    "    if not return_as in return_as_set:\n",
    "        raise Exception(\"return_as must be any in {}\".format(return_as_set))    \n",
    "  \n",
    "    intraday_bool_array = extract_intraday_jp_index(df.index, return_as=\"bool\")\n",
    "    if return_as==\"bool\":\n",
    "        return intraday_bool_array\n",
    "    \n",
    "    intraday_indice = df.index[intraday_bool_array]\n",
    "    if return_as==\"index\":\n",
    "        return intraday_indice\n",
    "    \n",
    "    out_df = df.loc[intraday_indice].copy()\n",
    "    return out_df"
   ]
  },
  {
   "cell_type": "markdown",
   "metadata": {},
   "source": [
    "以下の例では，朝8時のデータは存在しない"
   ]
  },
  {
   "cell_type": "code",
   "execution_count": 26,
   "metadata": {
    "ExecuteTime": {
     "end_time": "2020-12-31T20:52:23.882952Z",
     "start_time": "2020-12-31T20:52:23.823114Z"
    }
   },
   "outputs": [
    {
     "data": {
      "text/html": [
       "<div>\n",
       "<style scoped>\n",
       "    .dataframe tbody tr th:only-of-type {\n",
       "        vertical-align: middle;\n",
       "    }\n",
       "\n",
       "    .dataframe tbody tr th {\n",
       "        vertical-align: top;\n",
       "    }\n",
       "\n",
       "    .dataframe thead th {\n",
       "        text-align: right;\n",
       "    }\n",
       "</style>\n",
       "<table border=\"1\" class=\"dataframe\">\n",
       "  <thead>\n",
       "    <tr style=\"text-align: right;\">\n",
       "      <th></th>\n",
       "      <th>Open_6502</th>\n",
       "      <th>High_6502</th>\n",
       "      <th>Low_6502</th>\n",
       "      <th>Close_6502</th>\n",
       "      <th>Volume_6502</th>\n",
       "    </tr>\n",
       "    <tr>\n",
       "      <th>timestamp</th>\n",
       "      <th></th>\n",
       "      <th></th>\n",
       "      <th></th>\n",
       "      <th></th>\n",
       "      <th></th>\n",
       "    </tr>\n",
       "  </thead>\n",
       "  <tbody>\n",
       "  </tbody>\n",
       "</table>\n",
       "</div>"
      ],
      "text/plain": [
       "Empty DataFrame\n",
       "Columns: [Open_6502, High_6502, Low_6502, Close_6502, Volume_6502]\n",
       "Index: []"
      ]
     },
     "execution_count": 26,
     "metadata": {},
     "output_type": "execute_result"
    }
   ],
   "source": [
    "extracted_df = extract_intraday_jp(naive_stock_df, return_as=\"df\")\n",
    "extracted_df.at_time(datetime.time(8,0))"
   ]
  },
  {
   "cell_type": "markdown",
   "metadata": {},
   "source": [
    "### 営業日＋日中データを取得 "
   ]
  },
  {
   "cell_type": "code",
   "execution_count": 27,
   "metadata": {
    "ExecuteTime": {
     "end_time": "2020-12-31T20:52:23.901901Z",
     "start_time": "2020-12-31T20:52:23.885945Z"
    }
   },
   "outputs": [],
   "source": [
    "def extract_workdays_intraday_jp_index(dt_index, return_as=\"index\"):\n",
    "    \"\"\"\n",
    "    pd.DatetimeIndexから，営業日+日中(9時から11時半，12時半から15時)のデータのものを抽出．出力データ形式をreturn_asで指定する．\n",
    "    dt_index: pd.DatetimeIndex\n",
    "        入力するDatetimeIndex\n",
    "    return_as: str\n",
    "        出力データの形式\n",
    "        - \"index\": 引数としたdfの対応するインデックスを返す\n",
    "        - \"bool\": 引数としたdfに対応するboolインデックスを返す\n",
    "    \"\"\"\n",
    "\n",
    "    # 返り値の形式の指定\n",
    "    return_as_set = {\"index\", \"bool\"}\n",
    "    if not return_as in return_as_set:\n",
    "        raise Exception(\"return_as must be any in {}\".format(return_as_set))\n",
    "        \n",
    "    workday_bool_array = extract_workdays_jp_index(dt_index, return_as=\"bool\")\n",
    "    intraday_bool_array = extract_intraday_jp_index(dt_index, return_as=\"bool\")\n",
    "    \n",
    "    workday_intraday_bool_array = workday_bool_array & intraday_bool_array\n",
    "    if return_as==\"bool\":\n",
    "        return workday_intraday_bool_array\n",
    "    elif return_as==\"index\":\n",
    "        workday_intraday_indice = dt_index[workday_intraday_bool_array]\n",
    "        return workday_intraday_indice"
   ]
  },
  {
   "cell_type": "code",
   "execution_count": 28,
   "metadata": {
    "ExecuteTime": {
     "end_time": "2020-12-31T20:52:23.918856Z",
     "start_time": "2020-12-31T20:52:23.905892Z"
    }
   },
   "outputs": [],
   "source": [
    "def extract_workdays_intraday_jp(df, return_as=\"df\"):\n",
    "    \"\"\"\n",
    "    データフレームから，営業日+日中(9時から11時半，12時半から15時)のデータのものを抽出．出力データ形式をreturn_asで指定する．\n",
    "    df: pd.DataFrame(インデックスとしてpd.DatetimeIndex)\n",
    "        入力データ\n",
    "    return_as: str\n",
    "        出力データの形式\n",
    "        - \"df\": 抽出した新しいpd.DataFrameを返す\n",
    "        - \"index\": 引数としたdfの対応するインデックスを返す\n",
    "        - \"bool\": 引数としたdfに対応するboolインデックスを返す\n",
    "    \"\"\"\n",
    "    \n",
    "    # 返り値の形式の指定\n",
    "    return_as_set = {\"df\", \"index\", \"bool\"}\n",
    "    if not return_as in return_as_set:\n",
    "        raise Exception(\"return_as must be any in {}\".format(return_as_set))    \n",
    "       \n",
    "    workday_intraday_bool_array = extract_workdays_intraday_jp_index(df.index, return_as=\"bool\")\n",
    "    \n",
    "    if return_as==\"bool\":\n",
    "        return workday_intraday_bool_array\n",
    "    \n",
    "    workday_intraday_indice = df.index[workday_intraday_bool_array]\n",
    "    \n",
    "    if return_as==\"index\":\n",
    "        return workday_intraday_indice\n",
    "    \n",
    "    out_df = df.loc[workday_intraday_indice].copy()\n",
    "    return out_df"
   ]
  },
  {
   "cell_type": "code",
   "execution_count": 29,
   "metadata": {
    "ExecuteTime": {
     "end_time": "2020-12-31T20:52:23.991661Z",
     "start_time": "2020-12-31T20:52:23.923845Z"
    }
   },
   "outputs": [
    {
     "data": {
      "text/html": [
       "<div>\n",
       "<style scoped>\n",
       "    .dataframe tbody tr th:only-of-type {\n",
       "        vertical-align: middle;\n",
       "    }\n",
       "\n",
       "    .dataframe tbody tr th {\n",
       "        vertical-align: top;\n",
       "    }\n",
       "\n",
       "    .dataframe thead th {\n",
       "        text-align: right;\n",
       "    }\n",
       "</style>\n",
       "<table border=\"1\" class=\"dataframe\">\n",
       "  <thead>\n",
       "    <tr style=\"text-align: right;\">\n",
       "      <th></th>\n",
       "      <th>Open_6502</th>\n",
       "      <th>High_6502</th>\n",
       "      <th>Low_6502</th>\n",
       "      <th>Close_6502</th>\n",
       "      <th>Volume_6502</th>\n",
       "    </tr>\n",
       "    <tr>\n",
       "      <th>timestamp</th>\n",
       "      <th></th>\n",
       "      <th></th>\n",
       "      <th></th>\n",
       "      <th></th>\n",
       "      <th></th>\n",
       "    </tr>\n",
       "  </thead>\n",
       "  <tbody>\n",
       "    <tr>\n",
       "      <th>2020-11-04 09:00:00+09:00</th>\n",
       "      <td>2669.0</td>\n",
       "      <td>2670.0</td>\n",
       "      <td>2658.0</td>\n",
       "      <td>2664.0</td>\n",
       "      <td>93000.0</td>\n",
       "    </tr>\n",
       "    <tr>\n",
       "      <th>2020-11-05 09:00:00+09:00</th>\n",
       "      <td>2631.0</td>\n",
       "      <td>2641.0</td>\n",
       "      <td>2630.0</td>\n",
       "      <td>2639.0</td>\n",
       "      <td>55000.0</td>\n",
       "    </tr>\n",
       "    <tr>\n",
       "      <th>2020-11-06 09:00:00+09:00</th>\n",
       "      <td>2615.0</td>\n",
       "      <td>2644.0</td>\n",
       "      <td>2609.0</td>\n",
       "      <td>2617.0</td>\n",
       "      <td>90700.0</td>\n",
       "    </tr>\n",
       "    <tr>\n",
       "      <th>2020-11-09 09:00:00+09:00</th>\n",
       "      <td>2711.0</td>\n",
       "      <td>2719.0</td>\n",
       "      <td>2707.0</td>\n",
       "      <td>2710.0</td>\n",
       "      <td>0.0</td>\n",
       "    </tr>\n",
       "    <tr>\n",
       "      <th>2020-11-10 09:00:00+09:00</th>\n",
       "      <td>2780.0</td>\n",
       "      <td>2782.0</td>\n",
       "      <td>2770.0</td>\n",
       "      <td>2777.0</td>\n",
       "      <td>142700.0</td>\n",
       "    </tr>\n",
       "    <tr>\n",
       "      <th>2020-11-11 09:00:00+09:00</th>\n",
       "      <td>NaN</td>\n",
       "      <td>NaN</td>\n",
       "      <td>NaN</td>\n",
       "      <td>NaN</td>\n",
       "      <td>NaN</td>\n",
       "    </tr>\n",
       "    <tr>\n",
       "      <th>2020-11-12 09:00:00+09:00</th>\n",
       "      <td>2788.0</td>\n",
       "      <td>2800.0</td>\n",
       "      <td>2781.0</td>\n",
       "      <td>2789.0</td>\n",
       "      <td>108400.0</td>\n",
       "    </tr>\n",
       "    <tr>\n",
       "      <th>2020-11-13 09:00:00+09:00</th>\n",
       "      <td>2750.0</td>\n",
       "      <td>2754.0</td>\n",
       "      <td>2741.0</td>\n",
       "      <td>2750.0</td>\n",
       "      <td>71500.0</td>\n",
       "    </tr>\n",
       "    <tr>\n",
       "      <th>2020-11-16 09:00:00+09:00</th>\n",
       "      <td>2714.0</td>\n",
       "      <td>2716.0</td>\n",
       "      <td>2705.0</td>\n",
       "      <td>2710.0</td>\n",
       "      <td>111000.0</td>\n",
       "    </tr>\n",
       "    <tr>\n",
       "      <th>2020-11-17 09:00:00+09:00</th>\n",
       "      <td>2748.0</td>\n",
       "      <td>2748.0</td>\n",
       "      <td>2729.0</td>\n",
       "      <td>2734.0</td>\n",
       "      <td>124400.0</td>\n",
       "    </tr>\n",
       "    <tr>\n",
       "      <th>2020-11-18 09:00:00+09:00</th>\n",
       "      <td>2819.0</td>\n",
       "      <td>2823.0</td>\n",
       "      <td>2814.0</td>\n",
       "      <td>2820.0</td>\n",
       "      <td>76000.0</td>\n",
       "    </tr>\n",
       "    <tr>\n",
       "      <th>2020-11-19 09:00:00+09:00</th>\n",
       "      <td>2858.0</td>\n",
       "      <td>2867.0</td>\n",
       "      <td>2858.0</td>\n",
       "      <td>2860.0</td>\n",
       "      <td>107000.0</td>\n",
       "    </tr>\n",
       "    <tr>\n",
       "      <th>2020-11-20 09:00:00+09:00</th>\n",
       "      <td>2875.0</td>\n",
       "      <td>2887.0</td>\n",
       "      <td>2873.0</td>\n",
       "      <td>2884.0</td>\n",
       "      <td>106000.0</td>\n",
       "    </tr>\n",
       "    <tr>\n",
       "      <th>2020-11-24 09:00:00+09:00</th>\n",
       "      <td>2957.0</td>\n",
       "      <td>2967.0</td>\n",
       "      <td>2952.0</td>\n",
       "      <td>2966.0</td>\n",
       "      <td>0.0</td>\n",
       "    </tr>\n",
       "    <tr>\n",
       "      <th>2020-11-25 09:00:00+09:00</th>\n",
       "      <td>2927.0</td>\n",
       "      <td>2934.0</td>\n",
       "      <td>2926.0</td>\n",
       "      <td>2933.0</td>\n",
       "      <td>74000.0</td>\n",
       "    </tr>\n",
       "    <tr>\n",
       "      <th>2020-11-26 09:00:00+09:00</th>\n",
       "      <td>2822.0</td>\n",
       "      <td>2831.0</td>\n",
       "      <td>2818.0</td>\n",
       "      <td>2824.0</td>\n",
       "      <td>93500.0</td>\n",
       "    </tr>\n",
       "    <tr>\n",
       "      <th>2020-11-27 09:00:00+09:00</th>\n",
       "      <td>2809.0</td>\n",
       "      <td>2828.0</td>\n",
       "      <td>2809.0</td>\n",
       "      <td>2822.0</td>\n",
       "      <td>107600.0</td>\n",
       "    </tr>\n",
       "    <tr>\n",
       "      <th>2020-11-30 09:00:00+09:00</th>\n",
       "      <td>2940.0</td>\n",
       "      <td>2954.0</td>\n",
       "      <td>2936.0</td>\n",
       "      <td>2940.0</td>\n",
       "      <td>225300.0</td>\n",
       "    </tr>\n",
       "  </tbody>\n",
       "</table>\n",
       "</div>"
      ],
      "text/plain": [
       "                           Open_6502  High_6502  Low_6502  Close_6502  \\\n",
       "timestamp                                                               \n",
       "2020-11-04 09:00:00+09:00     2669.0     2670.0    2658.0      2664.0   \n",
       "2020-11-05 09:00:00+09:00     2631.0     2641.0    2630.0      2639.0   \n",
       "2020-11-06 09:00:00+09:00     2615.0     2644.0    2609.0      2617.0   \n",
       "2020-11-09 09:00:00+09:00     2711.0     2719.0    2707.0      2710.0   \n",
       "2020-11-10 09:00:00+09:00     2780.0     2782.0    2770.0      2777.0   \n",
       "2020-11-11 09:00:00+09:00        NaN        NaN       NaN         NaN   \n",
       "2020-11-12 09:00:00+09:00     2788.0     2800.0    2781.0      2789.0   \n",
       "2020-11-13 09:00:00+09:00     2750.0     2754.0    2741.0      2750.0   \n",
       "2020-11-16 09:00:00+09:00     2714.0     2716.0    2705.0      2710.0   \n",
       "2020-11-17 09:00:00+09:00     2748.0     2748.0    2729.0      2734.0   \n",
       "2020-11-18 09:00:00+09:00     2819.0     2823.0    2814.0      2820.0   \n",
       "2020-11-19 09:00:00+09:00     2858.0     2867.0    2858.0      2860.0   \n",
       "2020-11-20 09:00:00+09:00     2875.0     2887.0    2873.0      2884.0   \n",
       "2020-11-24 09:00:00+09:00     2957.0     2967.0    2952.0      2966.0   \n",
       "2020-11-25 09:00:00+09:00     2927.0     2934.0    2926.0      2933.0   \n",
       "2020-11-26 09:00:00+09:00     2822.0     2831.0    2818.0      2824.0   \n",
       "2020-11-27 09:00:00+09:00     2809.0     2828.0    2809.0      2822.0   \n",
       "2020-11-30 09:00:00+09:00     2940.0     2954.0    2936.0      2940.0   \n",
       "\n",
       "                           Volume_6502  \n",
       "timestamp                               \n",
       "2020-11-04 09:00:00+09:00      93000.0  \n",
       "2020-11-05 09:00:00+09:00      55000.0  \n",
       "2020-11-06 09:00:00+09:00      90700.0  \n",
       "2020-11-09 09:00:00+09:00          0.0  \n",
       "2020-11-10 09:00:00+09:00     142700.0  \n",
       "2020-11-11 09:00:00+09:00          NaN  \n",
       "2020-11-12 09:00:00+09:00     108400.0  \n",
       "2020-11-13 09:00:00+09:00      71500.0  \n",
       "2020-11-16 09:00:00+09:00     111000.0  \n",
       "2020-11-17 09:00:00+09:00     124400.0  \n",
       "2020-11-18 09:00:00+09:00      76000.0  \n",
       "2020-11-19 09:00:00+09:00     107000.0  \n",
       "2020-11-20 09:00:00+09:00     106000.0  \n",
       "2020-11-24 09:00:00+09:00          0.0  \n",
       "2020-11-25 09:00:00+09:00      74000.0  \n",
       "2020-11-26 09:00:00+09:00      93500.0  \n",
       "2020-11-27 09:00:00+09:00     107600.0  \n",
       "2020-11-30 09:00:00+09:00     225300.0  "
      ]
     },
     "execution_count": 29,
     "metadata": {},
     "output_type": "execute_result"
    }
   ],
   "source": [
    "extracted_df = extract_workdays_intraday_jp(aware_stock_df, return_as=\"df\")\n",
    "extracted_df.at_time(datetime.time(9,0))"
   ]
  },
  {
   "cell_type": "code",
   "execution_count": 30,
   "metadata": {
    "ExecuteTime": {
     "end_time": "2020-12-31T20:52:24.011608Z",
     "start_time": "2020-12-31T20:52:23.994654Z"
    }
   },
   "outputs": [
    {
     "data": {
      "text/html": [
       "<div>\n",
       "<style scoped>\n",
       "    .dataframe tbody tr th:only-of-type {\n",
       "        vertical-align: middle;\n",
       "    }\n",
       "\n",
       "    .dataframe tbody tr th {\n",
       "        vertical-align: top;\n",
       "    }\n",
       "\n",
       "    .dataframe thead th {\n",
       "        text-align: right;\n",
       "    }\n",
       "</style>\n",
       "<table border=\"1\" class=\"dataframe\">\n",
       "  <thead>\n",
       "    <tr style=\"text-align: right;\">\n",
       "      <th></th>\n",
       "      <th>Open_6502</th>\n",
       "      <th>High_6502</th>\n",
       "      <th>Low_6502</th>\n",
       "      <th>Close_6502</th>\n",
       "      <th>Volume_6502</th>\n",
       "    </tr>\n",
       "    <tr>\n",
       "      <th>timestamp</th>\n",
       "      <th></th>\n",
       "      <th></th>\n",
       "      <th></th>\n",
       "      <th></th>\n",
       "      <th></th>\n",
       "    </tr>\n",
       "  </thead>\n",
       "  <tbody>\n",
       "  </tbody>\n",
       "</table>\n",
       "</div>"
      ],
      "text/plain": [
       "Empty DataFrame\n",
       "Columns: [Open_6502, High_6502, Low_6502, Close_6502, Volume_6502]\n",
       "Index: []"
      ]
     },
     "execution_count": 30,
     "metadata": {},
     "output_type": "execute_result"
    }
   ],
   "source": [
    "extracted_df.at_time(datetime.time(8,0))"
   ]
  }
 ],
 "metadata": {
  "kernelspec": {
   "display_name": "torch_py37",
   "language": "python",
   "name": "torch_py37"
  },
  "language_info": {
   "codemirror_mode": {
    "name": "ipython",
    "version": 3
   },
   "file_extension": ".py",
   "mimetype": "text/x-python",
   "name": "python",
   "nbconvert_exporter": "python",
   "pygments_lexer": "ipython3",
   "version": "3.7.4"
  },
  "toc": {
   "base_numbering": 1,
   "nav_menu": {},
   "number_sections": true,
   "sideBar": true,
   "skip_h1_title": true,
   "title_cell": "Table of Contents",
   "title_sidebar": "Contents",
   "toc_cell": false,
   "toc_position": {
    "height": "calc(100% - 180px)",
    "left": "10px",
    "top": "150px",
    "width": "165px"
   },
   "toc_section_display": true,
   "toc_window_display": true
  }
 },
 "nbformat": 4,
 "nbformat_minor": 4
}
