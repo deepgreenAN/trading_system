{
 "cells": [
  {
   "cell_type": "code",
   "execution_count": 1,
   "metadata": {
    "ExecuteTime": {
     "end_time": "2021-03-28T02:36:12.582157Z",
     "start_time": "2021-03-28T02:36:12.570189Z"
    }
   },
   "outputs": [],
   "source": [
    "import datetime\n",
    "import pickle"
   ]
  },
  {
   "cell_type": "markdown",
   "metadata": {},
   "source": [
    "このリポジトリが提供する関数 "
   ]
  },
  {
   "cell_type": "code",
   "execution_count": 2,
   "metadata": {
    "ExecuteTime": {
     "end_time": "2021-03-28T02:36:17.556859Z",
     "start_time": "2021-03-28T02:36:12.615067Z"
    }
   },
   "outputs": [],
   "source": [
    "from py_workdays_ver3 import get_workdays_jp, check_workday_jp, get_next_workday_jp"
   ]
  },
  {
   "cell_type": "code",
   "execution_count": 3,
   "metadata": {
    "ExecuteTime": {
     "end_time": "2021-03-28T02:36:17.604092Z",
     "start_time": "2021-03-28T02:36:17.571819Z"
    }
   },
   "outputs": [],
   "source": [
    "from py_workdays_ver3 import get_workdays_number_jp, extract_workdays_intraday_jp, option"
   ]
  },
  {
   "cell_type": "markdown",
   "metadata": {},
   "source": [
    "比較対象の[workdays](https://pypi.org/project/workdays/)．このパッケージはnumpy・pandasに依存していないので，一応の比較"
   ]
  },
  {
   "cell_type": "code",
   "execution_count": 4,
   "metadata": {
    "ExecuteTime": {
     "end_time": "2021-03-28T02:36:17.669625Z",
     "start_time": "2021-03-28T02:36:17.634716Z"
    }
   },
   "outputs": [],
   "source": [
    "import workdays"
   ]
  },
  {
   "cell_type": "markdown",
   "metadata": {},
   "source": [
    "## 営業日を取得"
   ]
  },
  {
   "cell_type": "code",
   "execution_count": 5,
   "metadata": {
    "ExecuteTime": {
     "end_time": "2021-03-28T02:36:24.077515Z",
     "start_time": "2021-03-28T02:36:17.705931Z"
    }
   },
   "outputs": [
    {
     "name": "stdout",
     "output_type": "stream",
     "text": [
      "7.52 ms ± 1.15 ms per loop (mean ± std. dev. of 7 runs, 100 loops each)\n"
     ]
    }
   ],
   "source": [
    "start_date = datetime.date(2020,11,1)\n",
    "end_date = datetime.date(2021,1,1)\n",
    "\n",
    "%timeit workdays = get_workdays_jp(start_date, end_date, return_as=\"date\")"
   ]
  },
  {
   "cell_type": "markdown",
   "metadata": {},
   "source": [
    "## 営業日かどうか判定 "
   ]
  },
  {
   "cell_type": "code",
   "execution_count": 6,
   "metadata": {
    "ExecuteTime": {
     "end_time": "2021-03-28T02:36:25.024258Z",
     "start_time": "2021-03-28T02:36:24.091477Z"
    }
   },
   "outputs": [
    {
     "name": "stdout",
     "output_type": "stream",
     "text": [
      "85 µs ± 19.3 µs per loop (mean ± std. dev. of 7 runs, 1000 loops each)\n"
     ]
    }
   ],
   "source": [
    "select_date = datetime.date(2020,1,1)\n",
    "\n",
    "%timeit is_workday = check_workday_jp(select_date)"
   ]
  },
  {
   "cell_type": "markdown",
   "metadata": {},
   "source": [
    "## 次の営業日を取得 "
   ]
  },
  {
   "cell_type": "code",
   "execution_count": 7,
   "metadata": {
    "ExecuteTime": {
     "end_time": "2021-03-28T02:36:27.009575Z",
     "start_time": "2021-03-28T02:36:25.052190Z"
    }
   },
   "outputs": [
    {
     "name": "stdout",
     "output_type": "stream",
     "text": [
      "223 µs ± 35.4 µs per loop (mean ± std. dev. of 7 runs, 1000 loops each)\n"
     ]
    }
   ],
   "source": [
    "select_date = datetime.date(2020,1,1)\n",
    "\n",
    "%timeit next_workday = get_next_workday_jp(select_date, days=6, return_as=\"dt\")"
   ]
  },
  {
   "cell_type": "markdown",
   "metadata": {},
   "source": [
    "workdaysよりもわずかに高速である．"
   ]
  },
  {
   "cell_type": "code",
   "execution_count": 8,
   "metadata": {
    "ExecuteTime": {
     "end_time": "2021-03-28T02:36:30.557608Z",
     "start_time": "2021-03-28T02:36:27.022555Z"
    }
   },
   "outputs": [
    {
     "name": "stdout",
     "output_type": "stream",
     "text": [
      "402 µs ± 55.1 µs per loop (mean ± std. dev. of 7 runs, 1000 loops each)\n"
     ]
    }
   ],
   "source": [
    "%timeit workdays.workday(select_date, days=6, holidays=option.holidays_date_array.tolist())"
   ]
  },
  {
   "cell_type": "markdown",
   "metadata": {},
   "source": [
    "## 指定する日数の営業日を取得 "
   ]
  },
  {
   "cell_type": "code",
   "execution_count": 9,
   "metadata": {
    "ExecuteTime": {
     "end_time": "2021-03-28T02:36:38.102164Z",
     "start_time": "2021-03-28T02:36:30.578561Z"
    }
   },
   "outputs": [
    {
     "name": "stdout",
     "output_type": "stream",
     "text": [
      "9.35 ms ± 3.63 ms per loop (mean ± std. dev. of 7 runs, 100 loops each)\n"
     ]
    }
   ],
   "source": [
    "start_date = datetime.date(2020,11,1)\n",
    "days = 42\n",
    "\n",
    "%timeit workdays = get_workdays_number_jp(start_date, days)"
   ]
  },
  {
   "cell_type": "markdown",
   "metadata": {},
   "source": [
    "workdaysより高速である．"
   ]
  },
  {
   "cell_type": "code",
   "execution_count": 10,
   "metadata": {
    "ExecuteTime": {
     "end_time": "2021-03-28T02:36:42.601769Z",
     "start_time": "2021-03-28T02:36:38.116129Z"
    }
   },
   "outputs": [
    {
     "name": "stdout",
     "output_type": "stream",
     "text": [
      "55.4 ms ± 17.2 ms per loop (mean ± std. dev. of 7 runs, 10 loops each)\n"
     ]
    }
   ],
   "source": [
    "%timeit [workdays.workday(start_date, days=d, holidays=option.holidays_date_array.tolist())  for d in range(42)]"
   ]
  },
  {
   "cell_type": "markdown",
   "metadata": {},
   "source": [
    "## 既存のデータフレームから営業日・営業時間のものを取得 "
   ]
  },
  {
   "cell_type": "markdown",
   "metadata": {},
   "source": [
    "デフォルトでは，東京証券取引所の営業日(土日・祝日，振替休日を除く)・営業時間(9時～11時30分，12時30分～15時)として利用できる．"
   ]
  },
  {
   "cell_type": "code",
   "execution_count": 11,
   "metadata": {
    "ExecuteTime": {
     "end_time": "2021-03-28T02:36:46.406866Z",
     "start_time": "2021-03-28T02:36:42.614736Z"
    }
   },
   "outputs": [],
   "source": [
    "with open(\"aware_stock_df.pickle\", \"rb\") as f:\n",
    "    aware_stock_df = pickle.load(f)"
   ]
  },
  {
   "cell_type": "code",
   "execution_count": 12,
   "metadata": {
    "ExecuteTime": {
     "end_time": "2021-03-28T02:36:53.347329Z",
     "start_time": "2021-03-28T02:36:46.416841Z"
    }
   },
   "outputs": [
    {
     "name": "stdout",
     "output_type": "stream",
     "text": [
      "80.9 ms ± 20 ms per loop (mean ± std. dev. of 7 runs, 10 loops each)\n"
     ]
    }
   ],
   "source": [
    "%timeit extracted_stock_df = extract_workdays_intraday_jp(aware_stock_df, return_as=\"df\")"
   ]
  },
  {
   "cell_type": "markdown",
   "metadata": {},
   "source": [
    "高速に抽出できる．"
   ]
  }
 ],
 "metadata": {
  "kernelspec": {
   "display_name": "torch_py37",
   "language": "python",
   "name": "torch_py37"
  },
  "language_info": {
   "codemirror_mode": {
    "name": "ipython",
    "version": 3
   },
   "file_extension": ".py",
   "mimetype": "text/x-python",
   "name": "python",
   "nbconvert_exporter": "python",
   "pygments_lexer": "ipython3",
   "version": "3.7.4"
  },
  "toc": {
   "base_numbering": 1,
   "nav_menu": {},
   "number_sections": true,
   "sideBar": true,
   "skip_h1_title": true,
   "title_cell": "Table of Contents",
   "title_sidebar": "Contents",
   "toc_cell": false,
   "toc_position": {},
   "toc_section_display": true,
   "toc_window_display": false
  }
 },
 "nbformat": 4,
 "nbformat_minor": 4
}
