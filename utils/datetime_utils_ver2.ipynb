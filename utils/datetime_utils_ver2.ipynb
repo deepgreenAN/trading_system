{
 "cells": [
  {
   "cell_type": "markdown",
   "metadata": {},
   "source": [
    "# 特定の日時のリストを取得する "
   ]
  },
  {
   "cell_type": "code",
   "execution_count": 4,
   "metadata": {
    "ExecuteTime": {
     "end_time": "2020-12-11T05:15:01.526450Z",
     "start_time": "2020-12-11T05:15:01.491545Z"
    }
   },
   "outputs": [
    {
     "name": "stdout",
     "output_type": "stream",
     "text": [
      "E:\\システムトレード入門\\trade_system_git_workspace\n"
     ]
    }
   ],
   "source": [
    "%cd .."
   ]
  },
  {
   "cell_type": "code",
   "execution_count": 37,
   "metadata": {
    "ExecuteTime": {
     "end_time": "2020-12-11T05:52:21.372780Z",
     "start_time": "2020-12-11T05:52:21.360812Z"
    }
   },
   "outputs": [],
   "source": [
    "import jpholiday\n",
    "import workdays\n",
    "from pytz import timezone, utc\n",
    "import datetime"
   ]
  },
  {
   "cell_type": "code",
   "execution_count": 38,
   "metadata": {
    "ExecuteTime": {
     "end_time": "2020-12-11T05:52:21.704892Z",
     "start_time": "2020-12-11T05:52:21.694909Z"
    }
   },
   "outputs": [],
   "source": [
    "import numpy as np\n",
    "import pandas as pd"
   ]
  },
  {
   "cell_type": "code",
   "execution_count": 39,
   "metadata": {
    "ExecuteTime": {
     "end_time": "2020-12-11T05:52:21.987129Z",
     "start_time": "2020-12-11T05:52:21.950229Z"
    }
   },
   "outputs": [],
   "source": [
    "def check_jst_datetimes_to_naive(*arg_datetimes):\n",
    "    \"\"\"\n",
    "    ＊*今のところ，ローカルが東京でないnaiveなdatetimeはそのまま通してしまう\n",
    "    引数のタイムゾーンが同じかどうかチェックし，存在するなら日本であるかチェック\n",
    "    awareな場合は，naiveに変更\n",
    "    \"\"\"\n",
    "    jst_timezone = timezone(\"Asia/Tokyo\")\n",
    "    tz_info_set = set([one_datetime.tzinfo for one_datetime in arg_datetimes])\n",
    "    if len(tz_info_set) > 1:\n",
    "        raise Exception(\"timezones are different\")\n",
    "        \n",
    "    datetimes_tzinfo = list(tz_info_set)[0]\n",
    "    \n",
    "    if datetimes_tzinfo is not None:  # 長さが1のはず\n",
    "        if timezone(str(datetimes_tzinfo)) != jst_timezone:\n",
    "            raise Exception(\"timezones must be Asia/Tokyo\")\n",
    "        # naiveなdatetimeに変更\n",
    "        arg_datetimes = [one_datetime.replace(tzinfo=None) for one_datetime in arg_datetimes]\n",
    "        \n",
    "    return tuple(arg_datetimes)"
   ]
  },
  {
   "cell_type": "markdown",
   "metadata": {},
   "source": [
    "## 営業日・休日を取得する "
   ]
  },
  {
   "cell_type": "markdown",
   "metadata": {},
   "source": [
    "### 祝日のndarrayを取得する"
   ]
  },
  {
   "cell_type": "markdown",
   "metadata": {},
   "source": [
    "以下が素直な実装だが，遅い．そこで一度しか呼ばないようにすべき"
   ]
  },
  {
   "cell_type": "code",
   "execution_count": 40,
   "metadata": {
    "ExecuteTime": {
     "end_time": "2020-12-11T05:52:22.820900Z",
     "start_time": "2020-12-11T05:52:22.785001Z"
    }
   },
   "outputs": [],
   "source": [
    "def get_holiday_jp(start_datetime, end_datetime, with_name=False, to_date=True):\n",
    "    \"\"\"\n",
    "    期間を指定して祝日を取得\n",
    "    \n",
    "    start_datetime: datetime.datetime\n",
    "        開始時刻のjstのタイムゾーンが指定されたawareなdatetimeか，naiveなdatetime(ローカルなタイムゾーンとして日本を仮定)\n",
    "    end_datetime: datetime.datetime\n",
    "        終了時刻のjstのタイムゾーンが指定されたawareなdatetimeか，naiveなdatetime(ローカルなタイムゾーンとして日本を仮定)\n",
    "    eith_name: bool\n",
    "        休日の名前を出力するかどうか\n",
    "    to_date: bool\n",
    "        出力をdatetime.datetimeにするかdatetime.dateにするか\n",
    "    \"\"\"\n",
    "    start_datetime, end_datetime = check_jst_datetimes_to_naive(start_datetime, end_datetime)\n",
    "    \n",
    "    if to_date:\n",
    "        start_datetime = start_datetime.date()\n",
    "        end_datetime = end_datetime.date()\n",
    "    \n",
    "    holydays_array = np.array(jpholiday.between(start_datetime, end_datetime))\n",
    "    \n",
    "    if not with_name:\n",
    "        return holydays_array[:,0].copy()\n",
    "    \n",
    "    return holydays_array"
   ]
  },
  {
   "cell_type": "code",
   "execution_count": 41,
   "metadata": {
    "ExecuteTime": {
     "end_time": "2020-12-11T05:52:23.572898Z",
     "start_time": "2020-12-11T05:52:22.957533Z"
    }
   },
   "outputs": [],
   "source": [
    "start_datetime = datetime.datetime(2019, 1, 1, 0, 0, 0)\n",
    "end_datetime = datetime.datetime(2020, 12, 31, 0, 0, 0)\n",
    "\n",
    "#jst_timezone = timezone(\"Asia/Tokyo\")\n",
    "#start_datetime = jst_timezone.localize(datetime.datetime(2019, 1, 1, 0, 0, 0))\n",
    "#end_datetime = jst_timezone.localize(datetime.datetime(2020, 12, 31, 0, 0, 0))\n",
    "\n",
    "holydays = get_holiday_jp(start_datetime, end_datetime, with_name=False, to_date=True)"
   ]
  },
  {
   "cell_type": "code",
   "execution_count": 42,
   "metadata": {
    "ExecuteTime": {
     "end_time": "2020-12-11T05:52:23.625748Z",
     "start_time": "2020-12-11T05:52:23.588850Z"
    }
   },
   "outputs": [
    {
     "data": {
      "text/plain": [
       "array([datetime.date(2019, 1, 1), datetime.date(2019, 1, 14),\n",
       "       datetime.date(2019, 2, 11), datetime.date(2019, 3, 21),\n",
       "       datetime.date(2019, 4, 29), datetime.date(2019, 4, 30),\n",
       "       datetime.date(2019, 5, 1), datetime.date(2019, 5, 2),\n",
       "       datetime.date(2019, 5, 3), datetime.date(2019, 5, 4),\n",
       "       datetime.date(2019, 5, 5), datetime.date(2019, 5, 6),\n",
       "       datetime.date(2019, 7, 15), datetime.date(2019, 8, 11),\n",
       "       datetime.date(2019, 8, 12), datetime.date(2019, 9, 16),\n",
       "       datetime.date(2019, 9, 23), datetime.date(2019, 10, 14),\n",
       "       datetime.date(2019, 10, 22), datetime.date(2019, 11, 3),\n",
       "       datetime.date(2019, 11, 4), datetime.date(2019, 11, 23),\n",
       "       datetime.date(2020, 1, 1), datetime.date(2020, 1, 13),\n",
       "       datetime.date(2020, 2, 11), datetime.date(2020, 2, 23),\n",
       "       datetime.date(2020, 2, 24), datetime.date(2020, 3, 20),\n",
       "       datetime.date(2020, 4, 29), datetime.date(2020, 5, 3),\n",
       "       datetime.date(2020, 5, 4), datetime.date(2020, 5, 5),\n",
       "       datetime.date(2020, 5, 6), datetime.date(2020, 7, 23),\n",
       "       datetime.date(2020, 7, 24), datetime.date(2020, 8, 10),\n",
       "       datetime.date(2020, 9, 21), datetime.date(2020, 9, 22),\n",
       "       datetime.date(2020, 11, 3), datetime.date(2020, 11, 23)],\n",
       "      dtype=object)"
      ]
     },
     "execution_count": 42,
     "metadata": {},
     "output_type": "execute_result"
    }
   ],
   "source": [
    "holydays"
   ]
  },
  {
   "cell_type": "markdown",
   "metadata": {},
   "source": [
    "### 営業日を取得"
   ]
  },
  {
   "cell_type": "markdown",
   "metadata": {},
   "source": [
    "内部で外部の関数等を利用するので，jitコンパイルはできない．そこで，あらかじめ数年分のholidayを得て置き，それと照らし合わせることにする．"
   ]
  },
  {
   "cell_type": "code",
   "execution_count": 43,
   "metadata": {
    "ExecuteTime": {
     "end_time": "2020-12-11T05:52:26.265686Z",
     "start_time": "2020-12-11T05:52:24.442561Z"
    }
   },
   "outputs": [
    {
     "name": "stdout",
     "output_type": "stream",
     "text": [
      "[datetime.date(2015, 1, 1) datetime.date(2015, 1, 12)\n",
      " datetime.date(2015, 2, 11) datetime.date(2015, 3, 21)\n",
      " datetime.date(2015, 4, 29) datetime.date(2015, 5, 3)\n",
      " datetime.date(2015, 5, 4) datetime.date(2015, 5, 5)\n",
      " datetime.date(2015, 5, 6) datetime.date(2015, 7, 20)\n",
      " datetime.date(2015, 9, 21) datetime.date(2015, 9, 22)\n",
      " datetime.date(2015, 9, 23) datetime.date(2015, 10, 12)\n",
      " datetime.date(2015, 11, 3) datetime.date(2015, 11, 23)\n",
      " datetime.date(2015, 12, 23) datetime.date(2016, 1, 1)\n",
      " datetime.date(2016, 1, 11) datetime.date(2016, 2, 11)\n",
      " datetime.date(2016, 3, 20) datetime.date(2016, 3, 21)\n",
      " datetime.date(2016, 4, 29) datetime.date(2016, 5, 3)\n",
      " datetime.date(2016, 5, 4) datetime.date(2016, 5, 5)\n",
      " datetime.date(2016, 7, 18) datetime.date(2016, 8, 11)\n",
      " datetime.date(2016, 9, 19) datetime.date(2016, 9, 22)\n",
      " datetime.date(2016, 10, 10) datetime.date(2016, 11, 3)\n",
      " datetime.date(2016, 11, 23) datetime.date(2016, 12, 23)\n",
      " datetime.date(2017, 1, 1) datetime.date(2017, 1, 2)\n",
      " datetime.date(2017, 1, 9) datetime.date(2017, 2, 11)\n",
      " datetime.date(2017, 3, 20) datetime.date(2017, 4, 29)\n",
      " datetime.date(2017, 5, 3) datetime.date(2017, 5, 4)\n",
      " datetime.date(2017, 5, 5) datetime.date(2017, 7, 17)\n",
      " datetime.date(2017, 8, 11) datetime.date(2017, 9, 18)\n",
      " datetime.date(2017, 9, 23) datetime.date(2017, 10, 9)\n",
      " datetime.date(2017, 11, 3) datetime.date(2017, 11, 23)\n",
      " datetime.date(2017, 12, 23) datetime.date(2018, 1, 1)\n",
      " datetime.date(2018, 1, 8) datetime.date(2018, 2, 11)\n",
      " datetime.date(2018, 2, 12) datetime.date(2018, 3, 21)\n",
      " datetime.date(2018, 4, 29) datetime.date(2018, 4, 30)\n",
      " datetime.date(2018, 5, 3) datetime.date(2018, 5, 4)\n",
      " datetime.date(2018, 5, 5) datetime.date(2018, 7, 16)\n",
      " datetime.date(2018, 8, 11) datetime.date(2018, 9, 17)\n",
      " datetime.date(2018, 9, 23) datetime.date(2018, 9, 24)\n",
      " datetime.date(2018, 10, 8) datetime.date(2018, 11, 3)\n",
      " datetime.date(2018, 11, 23) datetime.date(2018, 12, 23)\n",
      " datetime.date(2018, 12, 24) datetime.date(2019, 1, 1)\n",
      " datetime.date(2019, 1, 14) datetime.date(2019, 2, 11)\n",
      " datetime.date(2019, 3, 21) datetime.date(2019, 4, 29)\n",
      " datetime.date(2019, 4, 30) datetime.date(2019, 5, 1)\n",
      " datetime.date(2019, 5, 2) datetime.date(2019, 5, 3)\n",
      " datetime.date(2019, 5, 4) datetime.date(2019, 5, 5)\n",
      " datetime.date(2019, 5, 6) datetime.date(2019, 7, 15)\n",
      " datetime.date(2019, 8, 11) datetime.date(2019, 8, 12)\n",
      " datetime.date(2019, 9, 16) datetime.date(2019, 9, 23)\n",
      " datetime.date(2019, 10, 14) datetime.date(2019, 10, 22)\n",
      " datetime.date(2019, 11, 3) datetime.date(2019, 11, 4)\n",
      " datetime.date(2019, 11, 23) datetime.date(2020, 1, 1)\n",
      " datetime.date(2020, 1, 13) datetime.date(2020, 2, 11)\n",
      " datetime.date(2020, 2, 23) datetime.date(2020, 2, 24)\n",
      " datetime.date(2020, 3, 20) datetime.date(2020, 4, 29)\n",
      " datetime.date(2020, 5, 3) datetime.date(2020, 5, 4)\n",
      " datetime.date(2020, 5, 5) datetime.date(2020, 5, 6)\n",
      " datetime.date(2020, 7, 23) datetime.date(2020, 7, 24)\n",
      " datetime.date(2020, 8, 10) datetime.date(2020, 9, 21)\n",
      " datetime.date(2020, 9, 22) datetime.date(2020, 11, 3)\n",
      " datetime.date(2020, 11, 23)]\n",
      "DatetimeIndex(['2015-01-01', '2015-01-12', '2015-02-11', '2015-03-21',\n",
      "               '2015-04-29', '2015-05-03', '2015-05-04', '2015-05-05',\n",
      "               '2015-05-06', '2015-07-20',\n",
      "               ...\n",
      "               '2020-05-04', '2020-05-05', '2020-05-06', '2020-07-23',\n",
      "               '2020-07-24', '2020-08-10', '2020-09-21', '2020-09-22',\n",
      "               '2020-11-03', '2020-11-23'],\n",
      "              dtype='datetime64[ns]', length=111, freq=None)\n"
     ]
    }
   ],
   "source": [
    "holiday_start_year = 2015\n",
    "holiday_end_year = 2020\n",
    "\n",
    "holidays_date_array = get_holiday_jp(start_datetime=datetime.datetime(holiday_start_year,1,1,0,0,0),\n",
    "                                end_datetime=datetime.datetime(holiday_end_year,12,31,23,59,59),\n",
    "                                with_name=False,\n",
    "                               )\n",
    "print(holidays_date_array)\n",
    "\n",
    "holidays_datetimeindex = pd.DatetimeIndex(holidays_date_array)\n",
    "print(holidays_datetimeindex)"
   ]
  },
  {
   "cell_type": "code",
   "execution_count": 44,
   "metadata": {
    "ExecuteTime": {
     "end_time": "2020-12-11T05:52:26.331514Z",
     "start_time": "2020-12-11T05:52:26.279653Z"
    },
    "code_folding": []
   },
   "outputs": [],
   "source": [
    "def get_workdays_jp(start_datetime, end_datetime, return_as=\"dt\", end_include=False):\n",
    "    \"\"\"\n",
    "    営業日を取得\n",
    "    \n",
    "    start_datetime: datetime.datetime\n",
    "        開始時刻のjstのタイムゾーンが指定されたawareなdatetimeか，naiveなdatetime(ローカルなタイムゾーンとして日本を仮定)\n",
    "    end_datetime: datetime.datetime\n",
    "        終了時刻のjstのタイムゾーンが指定されたawareなdatetimeか，naiveなdatetime(ローカルなタイムゾーンとして日本を仮定)\n",
    "    return_as: str, defalt: 'dt'\n",
    "        返り値の形式\n",
    "        - 'dt':pd.DatetimeIndex\n",
    "        - 'date': datetime.date array\n",
    "        - 'datetime': datetime.datetime array \n",
    "    end_include: bool\n",
    "        最終日も含めて出力するか\n",
    "    \"\"\"\n",
    "    # 返り値の形式の指定\n",
    "    return_as_set = {\"dt\", \"datetime\", \"date\"}\n",
    "    if not return_as in return_as_set:\n",
    "        raise Exception(\"return_as must be any in {}\".format(return_as_set))\n",
    "    \n",
    "    start_datetime, end_datetime = check_jst_datetimes_to_naive(start_datetime, end_datetime)\n",
    "    \n",
    "    # 期間中のholidayを取得\n",
    "    holidays_in_span_index = (start_datetime<=holidays_datetimeindex)&(holidays_datetimeindex<end_datetime)  # DatetimeIndexを使うことに注意\n",
    "    holidays_in_span_array = holidays_date_array[holidays_in_span_index]  # ndarrayを使う\n",
    "\n",
    "    # 期間中のdatetimeのarrayを取得\n",
    "    if end_include:\n",
    "        days_datetimeindex = pd.date_range(start=start_datetime, end=end_datetime, freq=\"D\")  # 最終日も含める\n",
    "    else:\n",
    "        days_datetimeindex = pd.date_range(start=start_datetime, end=end_datetime-datetime.timedelta(days=1), freq=\"D\")  # 最終日は含めない\n",
    "    \n",
    "    \n",
    "    # 休日に含まれないもの，さらに土日に含まれないもののboolインデックスを取得\n",
    "    holiday_bool_array = np.in1d(days_datetimeindex.date, holidays_in_span_array)  # 休日であるかのブール(pd.DatetimeIndex.isin)でもいい\n",
    "    sun_or_satur_bool_array = (days_datetimeindex.weekday==5) | (days_datetimeindex.weekday==6)  # 土曜日or日曜日\n",
    "    \n",
    "    workdays_bool_array = (~holiday_bool_array)&(~sun_or_satur_bool_array)  # 休日でなく土日でない\n",
    "    \n",
    "    workdays_datetimeindex = days_datetimeindex[workdays_bool_array].copy()\n",
    "    if return_as==\"dt\":\n",
    "        return workdays_datetimeindex\n",
    "    elif return_as==\"date\":\n",
    "        return workdays_datetimeindex.date\n",
    "    elif return_as==\"datetime\":\n",
    "        workdays_array = workdays_datetimeindex.to_pydatetime()\n",
    "        return workdays_array"
   ]
  },
  {
   "cell_type": "code",
   "execution_count": 45,
   "metadata": {
    "ExecuteTime": {
     "end_time": "2020-12-11T05:52:26.383371Z",
     "start_time": "2020-12-11T05:52:26.346474Z"
    }
   },
   "outputs": [],
   "source": [
    "#start_datetime = datetime.datetime(2019, 1, 1, 0, 0, 0)\n",
    "#end_datetime = datetime.datetime(2019, 12, 31, 0, 0, 0)\n",
    "\n",
    "jst_timezone = timezone(\"Asia/Tokyo\")\n",
    "start_datetime = jst_timezone.localize(datetime.datetime(2020, 1, 1, 0, 0, 0))\n",
    "end_datetime = jst_timezone.localize(datetime.datetime(2020, 12, 31, 0, 0, 0))\n",
    "\n",
    "workdays = get_workdays_jp(start_datetime, end_datetime, return_as=\"date\", end_include=True)"
   ]
  },
  {
   "cell_type": "code",
   "execution_count": 46,
   "metadata": {
    "ExecuteTime": {
     "end_time": "2020-12-11T05:52:26.495074Z",
     "start_time": "2020-12-11T05:52:26.453197Z"
    }
   },
   "outputs": [
    {
     "data": {
      "text/plain": [
       "array([datetime.date(2020, 1, 2), datetime.date(2020, 1, 3),\n",
       "       datetime.date(2020, 1, 6), datetime.date(2020, 1, 7),\n",
       "       datetime.date(2020, 1, 8), datetime.date(2020, 1, 9),\n",
       "       datetime.date(2020, 1, 10), datetime.date(2020, 1, 14),\n",
       "       datetime.date(2020, 1, 15), datetime.date(2020, 1, 16),\n",
       "       datetime.date(2020, 1, 17), datetime.date(2020, 1, 20),\n",
       "       datetime.date(2020, 1, 21), datetime.date(2020, 1, 22),\n",
       "       datetime.date(2020, 1, 23), datetime.date(2020, 1, 24),\n",
       "       datetime.date(2020, 1, 27), datetime.date(2020, 1, 28),\n",
       "       datetime.date(2020, 1, 29), datetime.date(2020, 1, 30),\n",
       "       datetime.date(2020, 1, 31), datetime.date(2020, 2, 3),\n",
       "       datetime.date(2020, 2, 4), datetime.date(2020, 2, 5),\n",
       "       datetime.date(2020, 2, 6), datetime.date(2020, 2, 7),\n",
       "       datetime.date(2020, 2, 10), datetime.date(2020, 2, 12),\n",
       "       datetime.date(2020, 2, 13), datetime.date(2020, 2, 14),\n",
       "       datetime.date(2020, 2, 17), datetime.date(2020, 2, 18),\n",
       "       datetime.date(2020, 2, 19), datetime.date(2020, 2, 20),\n",
       "       datetime.date(2020, 2, 21), datetime.date(2020, 2, 25),\n",
       "       datetime.date(2020, 2, 26), datetime.date(2020, 2, 27),\n",
       "       datetime.date(2020, 2, 28), datetime.date(2020, 3, 2),\n",
       "       datetime.date(2020, 3, 3), datetime.date(2020, 3, 4),\n",
       "       datetime.date(2020, 3, 5), datetime.date(2020, 3, 6),\n",
       "       datetime.date(2020, 3, 9), datetime.date(2020, 3, 10),\n",
       "       datetime.date(2020, 3, 11), datetime.date(2020, 3, 12),\n",
       "       datetime.date(2020, 3, 13), datetime.date(2020, 3, 16),\n",
       "       datetime.date(2020, 3, 17), datetime.date(2020, 3, 18),\n",
       "       datetime.date(2020, 3, 19), datetime.date(2020, 3, 23),\n",
       "       datetime.date(2020, 3, 24), datetime.date(2020, 3, 25),\n",
       "       datetime.date(2020, 3, 26), datetime.date(2020, 3, 27),\n",
       "       datetime.date(2020, 3, 30), datetime.date(2020, 3, 31),\n",
       "       datetime.date(2020, 4, 1), datetime.date(2020, 4, 2),\n",
       "       datetime.date(2020, 4, 3), datetime.date(2020, 4, 6),\n",
       "       datetime.date(2020, 4, 7), datetime.date(2020, 4, 8),\n",
       "       datetime.date(2020, 4, 9), datetime.date(2020, 4, 10),\n",
       "       datetime.date(2020, 4, 13), datetime.date(2020, 4, 14),\n",
       "       datetime.date(2020, 4, 15), datetime.date(2020, 4, 16),\n",
       "       datetime.date(2020, 4, 17), datetime.date(2020, 4, 20),\n",
       "       datetime.date(2020, 4, 21), datetime.date(2020, 4, 22),\n",
       "       datetime.date(2020, 4, 23), datetime.date(2020, 4, 24),\n",
       "       datetime.date(2020, 4, 27), datetime.date(2020, 4, 28),\n",
       "       datetime.date(2020, 4, 30), datetime.date(2020, 5, 1),\n",
       "       datetime.date(2020, 5, 7), datetime.date(2020, 5, 8),\n",
       "       datetime.date(2020, 5, 11), datetime.date(2020, 5, 12),\n",
       "       datetime.date(2020, 5, 13), datetime.date(2020, 5, 14),\n",
       "       datetime.date(2020, 5, 15), datetime.date(2020, 5, 18),\n",
       "       datetime.date(2020, 5, 19), datetime.date(2020, 5, 20),\n",
       "       datetime.date(2020, 5, 21), datetime.date(2020, 5, 22),\n",
       "       datetime.date(2020, 5, 25), datetime.date(2020, 5, 26),\n",
       "       datetime.date(2020, 5, 27), datetime.date(2020, 5, 28),\n",
       "       datetime.date(2020, 5, 29), datetime.date(2020, 6, 1),\n",
       "       datetime.date(2020, 6, 2), datetime.date(2020, 6, 3),\n",
       "       datetime.date(2020, 6, 4), datetime.date(2020, 6, 5),\n",
       "       datetime.date(2020, 6, 8), datetime.date(2020, 6, 9),\n",
       "       datetime.date(2020, 6, 10), datetime.date(2020, 6, 11),\n",
       "       datetime.date(2020, 6, 12), datetime.date(2020, 6, 15),\n",
       "       datetime.date(2020, 6, 16), datetime.date(2020, 6, 17),\n",
       "       datetime.date(2020, 6, 18), datetime.date(2020, 6, 19),\n",
       "       datetime.date(2020, 6, 22), datetime.date(2020, 6, 23),\n",
       "       datetime.date(2020, 6, 24), datetime.date(2020, 6, 25),\n",
       "       datetime.date(2020, 6, 26), datetime.date(2020, 6, 29),\n",
       "       datetime.date(2020, 6, 30), datetime.date(2020, 7, 1),\n",
       "       datetime.date(2020, 7, 2), datetime.date(2020, 7, 3),\n",
       "       datetime.date(2020, 7, 6), datetime.date(2020, 7, 7),\n",
       "       datetime.date(2020, 7, 8), datetime.date(2020, 7, 9),\n",
       "       datetime.date(2020, 7, 10), datetime.date(2020, 7, 13),\n",
       "       datetime.date(2020, 7, 14), datetime.date(2020, 7, 15),\n",
       "       datetime.date(2020, 7, 16), datetime.date(2020, 7, 17),\n",
       "       datetime.date(2020, 7, 20), datetime.date(2020, 7, 21),\n",
       "       datetime.date(2020, 7, 22), datetime.date(2020, 7, 27),\n",
       "       datetime.date(2020, 7, 28), datetime.date(2020, 7, 29),\n",
       "       datetime.date(2020, 7, 30), datetime.date(2020, 7, 31),\n",
       "       datetime.date(2020, 8, 3), datetime.date(2020, 8, 4),\n",
       "       datetime.date(2020, 8, 5), datetime.date(2020, 8, 6),\n",
       "       datetime.date(2020, 8, 7), datetime.date(2020, 8, 11),\n",
       "       datetime.date(2020, 8, 12), datetime.date(2020, 8, 13),\n",
       "       datetime.date(2020, 8, 14), datetime.date(2020, 8, 17),\n",
       "       datetime.date(2020, 8, 18), datetime.date(2020, 8, 19),\n",
       "       datetime.date(2020, 8, 20), datetime.date(2020, 8, 21),\n",
       "       datetime.date(2020, 8, 24), datetime.date(2020, 8, 25),\n",
       "       datetime.date(2020, 8, 26), datetime.date(2020, 8, 27),\n",
       "       datetime.date(2020, 8, 28), datetime.date(2020, 8, 31),\n",
       "       datetime.date(2020, 9, 1), datetime.date(2020, 9, 2),\n",
       "       datetime.date(2020, 9, 3), datetime.date(2020, 9, 4),\n",
       "       datetime.date(2020, 9, 7), datetime.date(2020, 9, 8),\n",
       "       datetime.date(2020, 9, 9), datetime.date(2020, 9, 10),\n",
       "       datetime.date(2020, 9, 11), datetime.date(2020, 9, 14),\n",
       "       datetime.date(2020, 9, 15), datetime.date(2020, 9, 16),\n",
       "       datetime.date(2020, 9, 17), datetime.date(2020, 9, 18),\n",
       "       datetime.date(2020, 9, 23), datetime.date(2020, 9, 24),\n",
       "       datetime.date(2020, 9, 25), datetime.date(2020, 9, 28),\n",
       "       datetime.date(2020, 9, 29), datetime.date(2020, 9, 30),\n",
       "       datetime.date(2020, 10, 1), datetime.date(2020, 10, 2),\n",
       "       datetime.date(2020, 10, 5), datetime.date(2020, 10, 6),\n",
       "       datetime.date(2020, 10, 7), datetime.date(2020, 10, 8),\n",
       "       datetime.date(2020, 10, 9), datetime.date(2020, 10, 12),\n",
       "       datetime.date(2020, 10, 13), datetime.date(2020, 10, 14),\n",
       "       datetime.date(2020, 10, 15), datetime.date(2020, 10, 16),\n",
       "       datetime.date(2020, 10, 19), datetime.date(2020, 10, 20),\n",
       "       datetime.date(2020, 10, 21), datetime.date(2020, 10, 22),\n",
       "       datetime.date(2020, 10, 23), datetime.date(2020, 10, 26),\n",
       "       datetime.date(2020, 10, 27), datetime.date(2020, 10, 28),\n",
       "       datetime.date(2020, 10, 29), datetime.date(2020, 10, 30),\n",
       "       datetime.date(2020, 11, 2), datetime.date(2020, 11, 4),\n",
       "       datetime.date(2020, 11, 5), datetime.date(2020, 11, 6),\n",
       "       datetime.date(2020, 11, 9), datetime.date(2020, 11, 10),\n",
       "       datetime.date(2020, 11, 11), datetime.date(2020, 11, 12),\n",
       "       datetime.date(2020, 11, 13), datetime.date(2020, 11, 16),\n",
       "       datetime.date(2020, 11, 17), datetime.date(2020, 11, 18),\n",
       "       datetime.date(2020, 11, 19), datetime.date(2020, 11, 20),\n",
       "       datetime.date(2020, 11, 24), datetime.date(2020, 11, 25),\n",
       "       datetime.date(2020, 11, 26), datetime.date(2020, 11, 27),\n",
       "       datetime.date(2020, 11, 30), datetime.date(2020, 12, 1),\n",
       "       datetime.date(2020, 12, 2), datetime.date(2020, 12, 3),\n",
       "       datetime.date(2020, 12, 4), datetime.date(2020, 12, 7),\n",
       "       datetime.date(2020, 12, 8), datetime.date(2020, 12, 9),\n",
       "       datetime.date(2020, 12, 10), datetime.date(2020, 12, 11),\n",
       "       datetime.date(2020, 12, 14), datetime.date(2020, 12, 15),\n",
       "       datetime.date(2020, 12, 16), datetime.date(2020, 12, 17),\n",
       "       datetime.date(2020, 12, 18), datetime.date(2020, 12, 21),\n",
       "       datetime.date(2020, 12, 22), datetime.date(2020, 12, 23),\n",
       "       datetime.date(2020, 12, 24), datetime.date(2020, 12, 25),\n",
       "       datetime.date(2020, 12, 28), datetime.date(2020, 12, 29),\n",
       "       datetime.date(2020, 12, 30), datetime.date(2020, 12, 31)],\n",
       "      dtype=object)"
      ]
     },
     "execution_count": 46,
     "metadata": {},
     "output_type": "execute_result"
    }
   ],
   "source": [
    "workdays"
   ]
  },
  {
   "cell_type": "markdown",
   "metadata": {},
   "source": [
    "### 営業日であるかどうか "
   ]
  },
  {
   "cell_type": "code",
   "execution_count": 111,
   "metadata": {
    "ExecuteTime": {
     "end_time": "2020-12-11T06:19:04.535651Z",
     "start_time": "2020-12-11T06:19:04.449879Z"
    }
   },
   "outputs": [],
   "source": [
    "def check_workday_jp(select_datetime):\n",
    "    \"\"\"\n",
    "    与えられたdatetime.datetimeが営業日であるかどうかを出力する\n",
    "    select_datetime: datetime.datetime\n",
    "        入力するdatetime\n",
    "    \"\"\"\n",
    "    select_datetime_array = np.array([select_datetime.date()])  # データ数が一つのndarray\n",
    "    # 休日であるかどうか\n",
    "    is_holiday = np.in1d(select_datetime_array, holidays_date_array).item()  # データ数が一つのため，item\n",
    "    \n",
    "    # 土曜日か日曜日であるかどうか\n",
    "    is_sun_satur = (select_datetime.weekday()==5) or (select_datetime.weekday()==6)\n",
    "    \n",
    "    is_workday = (not is_holiday) and (not is_sun_satur)\n",
    "    \n",
    "    return is_workday"
   ]
  },
  {
   "cell_type": "code",
   "execution_count": 112,
   "metadata": {
    "ExecuteTime": {
     "end_time": "2020-12-11T06:19:05.059250Z",
     "start_time": "2020-12-11T06:19:05.022347Z"
    }
   },
   "outputs": [
    {
     "data": {
      "text/plain": [
       "False"
      ]
     },
     "execution_count": 112,
     "metadata": {},
     "output_type": "execute_result"
    }
   ],
   "source": [
    "select_datetime = datetime.datetime(2020, 1, 4, 0, 0, 0)\n",
    "\n",
    "#jst_timezone = timezone(\"Asia/Tokyo\")\n",
    "#select_datetime = jst_timezone.localize(datetime.datetime(2020, 1, 4, 0, 0, 0))\n",
    "\n",
    "check_workday_jp(select_datetime)"
   ]
  },
  {
   "cell_type": "markdown",
   "metadata": {},
   "source": [
    "### 非営業日を取得"
   ]
  },
  {
   "cell_type": "markdown",
   "metadata": {},
   "source": [
    "同様に，すでに取得したholidayと照らし合わせる．"
   ]
  },
  {
   "cell_type": "code",
   "execution_count": 52,
   "metadata": {
    "ExecuteTime": {
     "end_time": "2020-12-11T05:52:45.462359Z",
     "start_time": "2020-12-11T05:52:45.414475Z"
    }
   },
   "outputs": [],
   "source": [
    "def get_not_workdays_jp(start_datetime, end_datetime, return_as=\"dt\", end_include=False):\n",
    "    \"\"\"\n",
    "    非営業日を取得(土日or祝日)\n",
    "    \n",
    "    start_datetime: datetime.datetime\n",
    "        開始時刻のjstのタイムゾーンが指定されたawareなdatetimeか，naiveなdatetime(ローカルなタイムゾーンとして日本を仮定)\n",
    "    end_datetime: datetime.datetime\n",
    "        囚虜時刻のjstのタイムゾーンが指定されたawareなdatetimeか，naiveなdatetime(ローカルなタイムゾーンとして日本を仮定)\n",
    "    return_as: str, defalt: 'dt'\n",
    "        返り値の形式\n",
    "        - 'dt':pd.DatetimeIndex\n",
    "        - 'date': datetime.date array\n",
    "        - 'datetime': datetime.datetime array\n",
    "    end_include: bool\n",
    "        最終日も含めて出力するか\n",
    "    \"\"\"\n",
    "    start_datetime, end_datetime = check_jst_datetimes_to_naive(start_datetime, end_datetime)\n",
    "    \n",
    "    # 期間中のholidayを取得\n",
    "    holidays_in_span_index = (start_datetime<=holidays_datetimeindex)&(holidays_datetimeindex<end_datetime)  # DatetimeIndexを使うことに注意\n",
    "    holidays_in_span_array = holidays_date_array[holidays_in_span_index]  # ndarrayを使う\n",
    "\n",
    "    # 期間中のdatetimeのarrayを取得\n",
    "    if end_include:\n",
    "        days_datetimeindex = pd.date_range(start=start_datetime, end=end_datetime, freq=\"D\")  # 最終日も含める\n",
    "    else:\n",
    "        days_datetimeindex = pd.date_range(start=start_datetime, end=end_datetime-datetime.timedelta(days=1), freq=\"D\")  # 最終日は含めない\n",
    "    \n",
    "    # 休日に含まれないもの，さらに土日に含まれないもののboolインデックスを取得\n",
    "    holiday_bool_array = np.in1d(days_datetimeindex.date, holidays_in_span_array)  # 休日であるかのブール(pd.DatetimeIndex.isin)でもいい\n",
    "    sun_or_satur_bool_array = (days_datetimeindex.weekday==5) | (days_datetimeindex.weekday==6)  # 土曜日or日曜日\n",
    "    \n",
    "    not_workdays_bool_array = holiday_bool_array | sun_or_satur_bool_array  # 休日あるいは土日\n",
    "    \n",
    "    not_workdays_datetimeindex = days_datetimeindex[not_workdays_bool_array].copy()\n",
    "    if return_as==\"dt\":\n",
    "        return not_workdays_datetimeindex\n",
    "    elif return_as==\"date\":\n",
    "        return not_workdays_datetimeindex.date\n",
    "    elif return_as==\"datetime\":\n",
    "        not_workdays_array = not_workdays_datetimeindex.to_pydatetime()        \n",
    "        return not_workdays_array"
   ]
  },
  {
   "cell_type": "code",
   "execution_count": 53,
   "metadata": {
    "ExecuteTime": {
     "end_time": "2020-12-11T05:52:45.790473Z",
     "start_time": "2020-12-11T05:52:45.758578Z"
    }
   },
   "outputs": [],
   "source": [
    "#start_datetime = datetime.datetime(2019, 1, 1, 0, 0, 0)\n",
    "#end_datetime = datetime.datetime(2019, 12, 31, 0, 0, 0)\n",
    "\n",
    "jst_timezone = timezone(\"Asia/Tokyo\")\n",
    "start_datetime = jst_timezone.localize(datetime.datetime(2020, 1, 1, 0, 0, 0))\n",
    "end_datetime = jst_timezone.localize(datetime.datetime(2020, 12, 31, 0, 0, 0))\n",
    "\n",
    "not_workdays = get_not_workdays_jp(start_datetime, end_datetime, return_as=\"dt\")"
   ]
  },
  {
   "cell_type": "code",
   "execution_count": 54,
   "metadata": {
    "ExecuteTime": {
     "end_time": "2020-12-11T05:52:46.280166Z",
     "start_time": "2020-12-11T05:52:46.252240Z"
    }
   },
   "outputs": [
    {
     "data": {
      "text/plain": [
       "DatetimeIndex(['2020-01-01', '2020-01-04', '2020-01-05', '2020-01-11',\n",
       "               '2020-01-12', '2020-01-13', '2020-01-18', '2020-01-19',\n",
       "               '2020-01-25', '2020-01-26',\n",
       "               ...\n",
       "               '2020-11-28', '2020-11-29', '2020-12-05', '2020-12-06',\n",
       "               '2020-12-12', '2020-12-13', '2020-12-19', '2020-12-20',\n",
       "               '2020-12-26', '2020-12-27'],\n",
       "              dtype='datetime64[ns]', length=120, freq=None)"
      ]
     },
     "execution_count": 54,
     "metadata": {},
     "output_type": "execute_result"
    }
   ],
   "source": [
    "not_workdays"
   ]
  },
  {
   "cell_type": "markdown",
   "metadata": {},
   "source": [
    "## 指定した日数後の営業日を取得"
   ]
  },
  {
   "cell_type": "markdown",
   "metadata": {},
   "source": [
    "ジェネレーターを使うので注意"
   ]
  },
  {
   "cell_type": "code",
   "execution_count": 107,
   "metadata": {
    "ExecuteTime": {
     "end_time": "2020-12-11T06:14:31.555494Z",
     "start_time": "2020-12-11T06:14:31.520571Z"
    }
   },
   "outputs": [],
   "source": [
    "def get_next_workday_jp(select_datetime, return_as=\"datetime\", days=1):\n",
    "    \"\"\"\n",
    "    select_datetime: datetime.datetime\n",
    "        指定する日時\n",
    "    return_as: str, defalt: 'dt'\n",
    "        返り値の形式\n",
    "        - 'dt':pd.Timstamp\n",
    "        - 'date': datetime.date array\n",
    "        - 'datetime': datetime.datetime array\n",
    "    \"\"\"\n",
    "    # 返り値の形式の指定\n",
    "    return_as_set = {\"dt\", \"datetime\", \"date\"}\n",
    "    if not return_as in return_as_set:\n",
    "        raise Exception(\"return_as must be any in {}\".format(return_as_set))\n",
    "        \n",
    "    def get_next_workday_jp_gen(select_datetime):\n",
    "        add_days=1\n",
    "        while True:\n",
    "            next_day = select_datetime + datetime.timedelta(days=add_days)\n",
    "            if check_workday_jp(next_day):\n",
    "                yield next_day\n",
    "            add_days += 1\n",
    "    \n",
    "    next_workday_gen = get_next_workday_jp_gen(select_datetime)\n",
    "    for i in range(days):\n",
    "        next_day = next(next_workday_gen)\n",
    "    \n",
    "    if return_as==\"datetime\":\n",
    "        return next_day\n",
    "    elif return_as==\"date\":\n",
    "        return next_day.date()\n",
    "    elif return_as==\"dt\":\n",
    "        return pd.Timestamp(next_day)"
   ]
  },
  {
   "cell_type": "code",
   "execution_count": 110,
   "metadata": {
    "ExecuteTime": {
     "end_time": "2020-12-11T06:14:59.908664Z",
     "start_time": "2020-12-11T06:14:59.828873Z"
    }
   },
   "outputs": [
    {
     "data": {
      "text/plain": [
       "Timestamp('2020-01-09 00:00:00+0900', tz='Asia/Tokyo')"
      ]
     },
     "execution_count": 110,
     "metadata": {},
     "output_type": "execute_result"
    }
   ],
   "source": [
    "jst_timezone = timezone(\"Asia/Tokyo\")\n",
    "select_datetime = jst_timezone.localize(datetime.datetime(2020, 1, 1, 0, 0, 0))\n",
    "\n",
    "next_workday = get_next_workday_jp(select_datetime, days=6, return_as=\"dt\")\n",
    "next_workday"
   ]
  },
  {
   "cell_type": "markdown",
   "metadata": {},
   "source": [
    "## データフレームに関しての処理"
   ]
  },
  {
   "cell_type": "markdown",
   "metadata": {},
   "source": [
    "### データの用意 "
   ]
  },
  {
   "cell_type": "code",
   "execution_count": 20,
   "metadata": {
    "ExecuteTime": {
     "end_time": "2020-12-08T14:32:24.629532Z",
     "start_time": "2020-12-08T14:32:19.906011Z"
    }
   },
   "outputs": [],
   "source": [
    "from get_stock_price import StockDatabase\n",
    "from pathlib import Path\n",
    "\n",
    "db_path = Path(\"db/stock_db\") / Path(\"stock.db\")\n",
    "stock_db = StockDatabase(db_path)"
   ]
  },
  {
   "cell_type": "code",
   "execution_count": 89,
   "metadata": {
    "ExecuteTime": {
     "end_time": "2020-12-09T09:27:26.087744Z",
     "start_time": "2020-12-09T09:27:19.700778Z"
    }
   },
   "outputs": [
    {
     "data": {
      "text/html": [
       "<div>\n",
       "<style scoped>\n",
       "    .dataframe tbody tr th:only-of-type {\n",
       "        vertical-align: middle;\n",
       "    }\n",
       "\n",
       "    .dataframe tbody tr th {\n",
       "        vertical-align: top;\n",
       "    }\n",
       "\n",
       "    .dataframe thead th {\n",
       "        text-align: right;\n",
       "    }\n",
       "</style>\n",
       "<table border=\"1\" class=\"dataframe\">\n",
       "  <thead>\n",
       "    <tr style=\"text-align: right;\">\n",
       "      <th></th>\n",
       "      <th>Open_6502</th>\n",
       "      <th>High_6502</th>\n",
       "      <th>Low_6502</th>\n",
       "      <th>Close_6502</th>\n",
       "      <th>Volume_6502</th>\n",
       "    </tr>\n",
       "    <tr>\n",
       "      <th>timestamp</th>\n",
       "      <th></th>\n",
       "      <th></th>\n",
       "      <th></th>\n",
       "      <th></th>\n",
       "      <th></th>\n",
       "    </tr>\n",
       "  </thead>\n",
       "  <tbody>\n",
       "    <tr>\n",
       "      <th>2020-11-02 09:00:00+09:00</th>\n",
       "      <td>2607.0</td>\n",
       "      <td>2620.0</td>\n",
       "      <td>2606.0</td>\n",
       "      <td>2617.0</td>\n",
       "      <td>0.0</td>\n",
       "    </tr>\n",
       "    <tr>\n",
       "      <th>2020-11-02 09:01:00+09:00</th>\n",
       "      <td>2619.0</td>\n",
       "      <td>2627.0</td>\n",
       "      <td>2619.0</td>\n",
       "      <td>2627.0</td>\n",
       "      <td>4900.0</td>\n",
       "    </tr>\n",
       "    <tr>\n",
       "      <th>2020-11-02 09:02:00+09:00</th>\n",
       "      <td>2634.0</td>\n",
       "      <td>2636.0</td>\n",
       "      <td>2634.0</td>\n",
       "      <td>2634.0</td>\n",
       "      <td>30000.0</td>\n",
       "    </tr>\n",
       "    <tr>\n",
       "      <th>2020-11-02 09:03:00+09:00</th>\n",
       "      <td>2636.0</td>\n",
       "      <td>2642.0</td>\n",
       "      <td>2633.0</td>\n",
       "      <td>2636.0</td>\n",
       "      <td>35000.0</td>\n",
       "    </tr>\n",
       "    <tr>\n",
       "      <th>2020-11-02 09:04:00+09:00</th>\n",
       "      <td>2638.0</td>\n",
       "      <td>2640.0</td>\n",
       "      <td>2633.0</td>\n",
       "      <td>2638.0</td>\n",
       "      <td>10100.0</td>\n",
       "    </tr>\n",
       "    <tr>\n",
       "      <th>...</th>\n",
       "      <td>...</td>\n",
       "      <td>...</td>\n",
       "      <td>...</td>\n",
       "      <td>...</td>\n",
       "      <td>...</td>\n",
       "    </tr>\n",
       "    <tr>\n",
       "      <th>2020-12-01 14:55:00+09:00</th>\n",
       "      <td>2950.0</td>\n",
       "      <td>2952.0</td>\n",
       "      <td>2949.0</td>\n",
       "      <td>2951.0</td>\n",
       "      <td>25100.0</td>\n",
       "    </tr>\n",
       "    <tr>\n",
       "      <th>2020-12-01 14:56:00+09:00</th>\n",
       "      <td>2950.0</td>\n",
       "      <td>2951.0</td>\n",
       "      <td>2948.0</td>\n",
       "      <td>2949.0</td>\n",
       "      <td>16400.0</td>\n",
       "    </tr>\n",
       "    <tr>\n",
       "      <th>2020-12-01 14:57:00+09:00</th>\n",
       "      <td>2950.0</td>\n",
       "      <td>2955.0</td>\n",
       "      <td>2950.0</td>\n",
       "      <td>2954.0</td>\n",
       "      <td>25800.0</td>\n",
       "    </tr>\n",
       "    <tr>\n",
       "      <th>2020-12-01 14:58:00+09:00</th>\n",
       "      <td>2954.0</td>\n",
       "      <td>2960.0</td>\n",
       "      <td>2954.0</td>\n",
       "      <td>2959.0</td>\n",
       "      <td>58900.0</td>\n",
       "    </tr>\n",
       "    <tr>\n",
       "      <th>2020-12-01 14:59:00+09:00</th>\n",
       "      <td>2958.0</td>\n",
       "      <td>2960.0</td>\n",
       "      <td>2955.0</td>\n",
       "      <td>2958.0</td>\n",
       "      <td>37200.0</td>\n",
       "    </tr>\n",
       "  </tbody>\n",
       "</table>\n",
       "<p>32760 rows × 5 columns</p>\n",
       "</div>"
      ],
      "text/plain": [
       "                           Open_6502  High_6502  Low_6502  Close_6502  \\\n",
       "timestamp                                                               \n",
       "2020-11-02 09:00:00+09:00     2607.0     2620.0    2606.0      2617.0   \n",
       "2020-11-02 09:01:00+09:00     2619.0     2627.0    2619.0      2627.0   \n",
       "2020-11-02 09:02:00+09:00     2634.0     2636.0    2634.0      2634.0   \n",
       "2020-11-02 09:03:00+09:00     2636.0     2642.0    2633.0      2636.0   \n",
       "2020-11-02 09:04:00+09:00     2638.0     2640.0    2633.0      2638.0   \n",
       "...                              ...        ...       ...         ...   \n",
       "2020-12-01 14:55:00+09:00     2950.0     2952.0    2949.0      2951.0   \n",
       "2020-12-01 14:56:00+09:00     2950.0     2951.0    2948.0      2949.0   \n",
       "2020-12-01 14:57:00+09:00     2950.0     2955.0    2950.0      2954.0   \n",
       "2020-12-01 14:58:00+09:00     2954.0     2960.0    2954.0      2959.0   \n",
       "2020-12-01 14:59:00+09:00     2958.0     2960.0    2955.0      2958.0   \n",
       "\n",
       "                           Volume_6502  \n",
       "timestamp                               \n",
       "2020-11-02 09:00:00+09:00          0.0  \n",
       "2020-11-02 09:01:00+09:00       4900.0  \n",
       "2020-11-02 09:02:00+09:00      30000.0  \n",
       "2020-11-02 09:03:00+09:00      35000.0  \n",
       "2020-11-02 09:04:00+09:00      10100.0  \n",
       "...                                ...  \n",
       "2020-12-01 14:55:00+09:00      25100.0  \n",
       "2020-12-01 14:56:00+09:00      16400.0  \n",
       "2020-12-01 14:57:00+09:00      25800.0  \n",
       "2020-12-01 14:58:00+09:00      58900.0  \n",
       "2020-12-01 14:59:00+09:00      37200.0  \n",
       "\n",
       "[32760 rows x 5 columns]"
      ]
     },
     "execution_count": 89,
     "metadata": {},
     "output_type": "execute_result"
    }
   ],
   "source": [
    "jst_timezone = timezone(\"Asia/Tokyo\")\n",
    "start_datetime = jst_timezone.localize(datetime.datetime(2020,11,1,9,0,0))\n",
    "end_datetime = jst_timezone.localize(datetime.datetime(2020,12,1,15,0,0))\n",
    "\n",
    "stock_df = stock_db.search_span(stock_names=[\"6502\"], \n",
    "                                start_datetime=start_datetime,\n",
    "                                end_datetime=end_datetime,\n",
    "                                freq_str=\"T\",\n",
    "                                to_tokyo=True,\n",
    "                               )\n",
    "stock_df"
   ]
  },
  {
   "cell_type": "markdown",
   "metadata": {},
   "source": [
    "### 営業日データを取得"
   ]
  },
  {
   "cell_type": "markdown",
   "metadata": {},
   "source": [
    "高速化のため，既存のholidayと照らし合わせる方法でとる"
   ]
  },
  {
   "cell_type": "code",
   "execution_count": 161,
   "metadata": {
    "ExecuteTime": {
     "end_time": "2020-12-09T11:07:50.044264Z",
     "start_time": "2020-12-09T11:07:49.969459Z"
    }
   },
   "outputs": [],
   "source": [
    "def extract_workdays_jp_index(dt_index, return_as=\"index\"):\n",
    "    \"\"\"\n",
    "    pd.DatetimeIndexから，営業日のデータのものを抽出\n",
    "    dt_index: pd.DatetimeIndex\n",
    "        入力するDatetimeIndex\n",
    "    return_as: str\n",
    "        出力データの形式\n",
    "        - \"index\": 引数としたdfの対応するインデックスを返す\n",
    "        - \"bool\": 引数としたdfに対応するboolインデックスを返す\n",
    "    \"\"\"\n",
    " \n",
    "    # 返り値の形式の指定\n",
    "    return_as_set = {\"index\", \"bool\"}\n",
    "    if not return_as in return_as_set:\n",
    "        raise Exception(\"return_as must be any in {}\".format(return_as_set))\n",
    "        \n",
    "    # すでにtimestampでソートさてている前提\n",
    "    start_datetime = dt_index[0].to_pydatetime()\n",
    "    end_datetime = dt_index[-1].to_pydatetime()\n",
    "    \n",
    "    start_datetime, end_datetime = check_jst_datetimes_to_naive(start_datetime, end_datetime)\n",
    "    \n",
    "    # 期間内のholidayを取得\n",
    "    holidays_in_span_index = ((start_datetime-datetime.timedelta(days=1))<holidays_datetimeindex)&\\\n",
    "    (holidays_datetimeindex<=end_datetime)  # DatetimeIndexを使うことに注意, 当日を含めるため，startから1を引いている．\n",
    "    holidays_in_span_array = holidays_date_array[holidays_in_span_index]  # ndarrayを使う\n",
    "    \n",
    "    # 休日に含まれないもの，さらに土日に含まれないもののboolインデックスを取得    \n",
    "    holiday_bool_array = np.in1d(dt_index.date, holidays_in_span_array)  # 休日\n",
    "    sun_or_satur_bool_array = (dt_index.weekday==5) | (dt_index.weekday==6)  # 土曜日or日曜日\n",
    "    \n",
    "    workdays_bool_array = (~holiday_bool_array)&(~sun_or_satur_bool_array)  # 休日でなく土日でない\n",
    "    if return_as==\"bool\":  # boolで返す場合\n",
    "        return workdays_bool_array\n",
    "    \n",
    "    elif return_as==\"index\":  # indexで返す場合\n",
    "        workdays_df_indice = dt_index[workdays_bool_array]\n",
    "        return workdays_df_indice"
   ]
  },
  {
   "cell_type": "code",
   "execution_count": 186,
   "metadata": {
    "ExecuteTime": {
     "end_time": "2020-12-09T11:36:16.596668Z",
     "start_time": "2020-12-09T11:36:16.536828Z"
    }
   },
   "outputs": [],
   "source": [
    "def extract_workdays_jp(df, return_as=\"df\"):\n",
    "    \"\"\"\n",
    "    データフレームから，営業日のデータのものを抽出．出力データ形式をreturn_asで指定する．\n",
    "    df: pd.DataFrame(インデックスとしてpd.DatetimeIndex)\n",
    "        入力データ\n",
    "    return_as: str\n",
    "        出力データの形式\n",
    "        - \"df\": 抽出した新しいpd.DataFrameを返す\n",
    "        - \"index\": 引数としたdfの対応するインデックスを返す\n",
    "        - \"bool\": 引数としたdfに対応するboolインデックスを返す\n",
    "    \"\"\"\n",
    "    \n",
    "    # 返り値の形式の指定\n",
    "    return_as_set = {\"df\", \"index\", \"bool\"}\n",
    "    if not return_as in return_as_set:\n",
    "        raise Exception(\"return_as must be any in {}\".format(return_as_set))\n",
    "    \n",
    "    workdays_bool_array = extract_workdays_jp_index(df.index, return_as=\"bool\")\n",
    "    if return_as==\"bool\":\n",
    "        return workdays_bool_array\n",
    "    \n",
    "    workdays_df_indice = df.index[workdays_bool_array]\n",
    "    if return_as==\"index\":\n",
    "        return workdays_df_indice\n",
    "\n",
    "    out_df = df.loc[workdays_df_indice].copy()\n",
    "    return out_df"
   ]
  },
  {
   "cell_type": "code",
   "execution_count": 187,
   "metadata": {
    "ExecuteTime": {
     "end_time": "2020-12-09T11:36:18.000910Z",
     "start_time": "2020-12-09T11:36:17.551168Z"
    }
   },
   "outputs": [
    {
     "data": {
      "text/html": [
       "<div>\n",
       "<style scoped>\n",
       "    .dataframe tbody tr th:only-of-type {\n",
       "        vertical-align: middle;\n",
       "    }\n",
       "\n",
       "    .dataframe tbody tr th {\n",
       "        vertical-align: top;\n",
       "    }\n",
       "\n",
       "    .dataframe thead th {\n",
       "        text-align: right;\n",
       "    }\n",
       "</style>\n",
       "<table border=\"1\" class=\"dataframe\">\n",
       "  <thead>\n",
       "    <tr style=\"text-align: right;\">\n",
       "      <th></th>\n",
       "      <th>Open_6502</th>\n",
       "      <th>High_6502</th>\n",
       "      <th>Low_6502</th>\n",
       "      <th>Close_6502</th>\n",
       "      <th>Volume_6502</th>\n",
       "    </tr>\n",
       "    <tr>\n",
       "      <th>timestamp</th>\n",
       "      <th></th>\n",
       "      <th></th>\n",
       "      <th></th>\n",
       "      <th></th>\n",
       "      <th></th>\n",
       "    </tr>\n",
       "  </thead>\n",
       "  <tbody>\n",
       "    <tr>\n",
       "      <th>2020-11-02 09:00:00+09:00</th>\n",
       "      <td>2607.0</td>\n",
       "      <td>2620.0</td>\n",
       "      <td>2606.0</td>\n",
       "      <td>2617.0</td>\n",
       "      <td>0.0</td>\n",
       "    </tr>\n",
       "    <tr>\n",
       "      <th>2020-11-04 09:00:00+09:00</th>\n",
       "      <td>2669.0</td>\n",
       "      <td>2670.0</td>\n",
       "      <td>2658.0</td>\n",
       "      <td>2664.0</td>\n",
       "      <td>93000.0</td>\n",
       "    </tr>\n",
       "    <tr>\n",
       "      <th>2020-11-05 09:00:00+09:00</th>\n",
       "      <td>2631.0</td>\n",
       "      <td>2641.0</td>\n",
       "      <td>2630.0</td>\n",
       "      <td>2639.0</td>\n",
       "      <td>55000.0</td>\n",
       "    </tr>\n",
       "    <tr>\n",
       "      <th>2020-11-06 09:00:00+09:00</th>\n",
       "      <td>2615.0</td>\n",
       "      <td>2644.0</td>\n",
       "      <td>2609.0</td>\n",
       "      <td>2617.0</td>\n",
       "      <td>90700.0</td>\n",
       "    </tr>\n",
       "    <tr>\n",
       "      <th>2020-11-09 09:00:00+09:00</th>\n",
       "      <td>2711.0</td>\n",
       "      <td>2719.0</td>\n",
       "      <td>2707.0</td>\n",
       "      <td>2710.0</td>\n",
       "      <td>0.0</td>\n",
       "    </tr>\n",
       "    <tr>\n",
       "      <th>2020-11-10 09:00:00+09:00</th>\n",
       "      <td>2780.0</td>\n",
       "      <td>2782.0</td>\n",
       "      <td>2770.0</td>\n",
       "      <td>2777.0</td>\n",
       "      <td>142700.0</td>\n",
       "    </tr>\n",
       "    <tr>\n",
       "      <th>2020-11-11 09:00:00+09:00</th>\n",
       "      <td>NaN</td>\n",
       "      <td>NaN</td>\n",
       "      <td>NaN</td>\n",
       "      <td>NaN</td>\n",
       "      <td>NaN</td>\n",
       "    </tr>\n",
       "    <tr>\n",
       "      <th>2020-11-12 09:00:00+09:00</th>\n",
       "      <td>2788.0</td>\n",
       "      <td>2800.0</td>\n",
       "      <td>2781.0</td>\n",
       "      <td>2789.0</td>\n",
       "      <td>108400.0</td>\n",
       "    </tr>\n",
       "    <tr>\n",
       "      <th>2020-11-13 09:00:00+09:00</th>\n",
       "      <td>2750.0</td>\n",
       "      <td>2754.0</td>\n",
       "      <td>2741.0</td>\n",
       "      <td>2750.0</td>\n",
       "      <td>71500.0</td>\n",
       "    </tr>\n",
       "    <tr>\n",
       "      <th>2020-11-16 09:00:00+09:00</th>\n",
       "      <td>2714.0</td>\n",
       "      <td>2716.0</td>\n",
       "      <td>2705.0</td>\n",
       "      <td>2710.0</td>\n",
       "      <td>111000.0</td>\n",
       "    </tr>\n",
       "    <tr>\n",
       "      <th>2020-11-17 09:00:00+09:00</th>\n",
       "      <td>2748.0</td>\n",
       "      <td>2748.0</td>\n",
       "      <td>2729.0</td>\n",
       "      <td>2734.0</td>\n",
       "      <td>124400.0</td>\n",
       "    </tr>\n",
       "    <tr>\n",
       "      <th>2020-11-18 09:00:00+09:00</th>\n",
       "      <td>2819.0</td>\n",
       "      <td>2823.0</td>\n",
       "      <td>2814.0</td>\n",
       "      <td>2820.0</td>\n",
       "      <td>76000.0</td>\n",
       "    </tr>\n",
       "    <tr>\n",
       "      <th>2020-11-19 09:00:00+09:00</th>\n",
       "      <td>2858.0</td>\n",
       "      <td>2867.0</td>\n",
       "      <td>2858.0</td>\n",
       "      <td>2860.0</td>\n",
       "      <td>107000.0</td>\n",
       "    </tr>\n",
       "    <tr>\n",
       "      <th>2020-11-20 09:00:00+09:00</th>\n",
       "      <td>2875.0</td>\n",
       "      <td>2887.0</td>\n",
       "      <td>2873.0</td>\n",
       "      <td>2884.0</td>\n",
       "      <td>106000.0</td>\n",
       "    </tr>\n",
       "    <tr>\n",
       "      <th>2020-11-24 09:00:00+09:00</th>\n",
       "      <td>2957.0</td>\n",
       "      <td>2967.0</td>\n",
       "      <td>2952.0</td>\n",
       "      <td>2966.0</td>\n",
       "      <td>0.0</td>\n",
       "    </tr>\n",
       "    <tr>\n",
       "      <th>2020-11-25 09:00:00+09:00</th>\n",
       "      <td>2927.0</td>\n",
       "      <td>2934.0</td>\n",
       "      <td>2926.0</td>\n",
       "      <td>2933.0</td>\n",
       "      <td>74000.0</td>\n",
       "    </tr>\n",
       "    <tr>\n",
       "      <th>2020-11-26 09:00:00+09:00</th>\n",
       "      <td>2822.0</td>\n",
       "      <td>2831.0</td>\n",
       "      <td>2818.0</td>\n",
       "      <td>2824.0</td>\n",
       "      <td>93500.0</td>\n",
       "    </tr>\n",
       "    <tr>\n",
       "      <th>2020-11-27 09:00:00+09:00</th>\n",
       "      <td>2809.0</td>\n",
       "      <td>2828.0</td>\n",
       "      <td>2809.0</td>\n",
       "      <td>2822.0</td>\n",
       "      <td>107600.0</td>\n",
       "    </tr>\n",
       "    <tr>\n",
       "      <th>2020-11-30 09:00:00+09:00</th>\n",
       "      <td>2940.0</td>\n",
       "      <td>2954.0</td>\n",
       "      <td>2936.0</td>\n",
       "      <td>2940.0</td>\n",
       "      <td>225300.0</td>\n",
       "    </tr>\n",
       "    <tr>\n",
       "      <th>2020-12-01 09:00:00+09:00</th>\n",
       "      <td>2937.0</td>\n",
       "      <td>2943.0</td>\n",
       "      <td>2931.0</td>\n",
       "      <td>2933.0</td>\n",
       "      <td>95100.0</td>\n",
       "    </tr>\n",
       "  </tbody>\n",
       "</table>\n",
       "</div>"
      ],
      "text/plain": [
       "                           Open_6502  High_6502  Low_6502  Close_6502  \\\n",
       "timestamp                                                               \n",
       "2020-11-02 09:00:00+09:00     2607.0     2620.0    2606.0      2617.0   \n",
       "2020-11-04 09:00:00+09:00     2669.0     2670.0    2658.0      2664.0   \n",
       "2020-11-05 09:00:00+09:00     2631.0     2641.0    2630.0      2639.0   \n",
       "2020-11-06 09:00:00+09:00     2615.0     2644.0    2609.0      2617.0   \n",
       "2020-11-09 09:00:00+09:00     2711.0     2719.0    2707.0      2710.0   \n",
       "2020-11-10 09:00:00+09:00     2780.0     2782.0    2770.0      2777.0   \n",
       "2020-11-11 09:00:00+09:00        NaN        NaN       NaN         NaN   \n",
       "2020-11-12 09:00:00+09:00     2788.0     2800.0    2781.0      2789.0   \n",
       "2020-11-13 09:00:00+09:00     2750.0     2754.0    2741.0      2750.0   \n",
       "2020-11-16 09:00:00+09:00     2714.0     2716.0    2705.0      2710.0   \n",
       "2020-11-17 09:00:00+09:00     2748.0     2748.0    2729.0      2734.0   \n",
       "2020-11-18 09:00:00+09:00     2819.0     2823.0    2814.0      2820.0   \n",
       "2020-11-19 09:00:00+09:00     2858.0     2867.0    2858.0      2860.0   \n",
       "2020-11-20 09:00:00+09:00     2875.0     2887.0    2873.0      2884.0   \n",
       "2020-11-24 09:00:00+09:00     2957.0     2967.0    2952.0      2966.0   \n",
       "2020-11-25 09:00:00+09:00     2927.0     2934.0    2926.0      2933.0   \n",
       "2020-11-26 09:00:00+09:00     2822.0     2831.0    2818.0      2824.0   \n",
       "2020-11-27 09:00:00+09:00     2809.0     2828.0    2809.0      2822.0   \n",
       "2020-11-30 09:00:00+09:00     2940.0     2954.0    2936.0      2940.0   \n",
       "2020-12-01 09:00:00+09:00     2937.0     2943.0    2931.0      2933.0   \n",
       "\n",
       "                           Volume_6502  \n",
       "timestamp                               \n",
       "2020-11-02 09:00:00+09:00          0.0  \n",
       "2020-11-04 09:00:00+09:00      93000.0  \n",
       "2020-11-05 09:00:00+09:00      55000.0  \n",
       "2020-11-06 09:00:00+09:00      90700.0  \n",
       "2020-11-09 09:00:00+09:00          0.0  \n",
       "2020-11-10 09:00:00+09:00     142700.0  \n",
       "2020-11-11 09:00:00+09:00          NaN  \n",
       "2020-11-12 09:00:00+09:00     108400.0  \n",
       "2020-11-13 09:00:00+09:00      71500.0  \n",
       "2020-11-16 09:00:00+09:00     111000.0  \n",
       "2020-11-17 09:00:00+09:00     124400.0  \n",
       "2020-11-18 09:00:00+09:00      76000.0  \n",
       "2020-11-19 09:00:00+09:00     107000.0  \n",
       "2020-11-20 09:00:00+09:00     106000.0  \n",
       "2020-11-24 09:00:00+09:00          0.0  \n",
       "2020-11-25 09:00:00+09:00      74000.0  \n",
       "2020-11-26 09:00:00+09:00      93500.0  \n",
       "2020-11-27 09:00:00+09:00     107600.0  \n",
       "2020-11-30 09:00:00+09:00     225300.0  \n",
       "2020-12-01 09:00:00+09:00      95100.0  "
      ]
     },
     "execution_count": 187,
     "metadata": {},
     "output_type": "execute_result"
    }
   ],
   "source": [
    "extracted_stock_df = extract_workdays_jp(stock_df, return_as=\"df\")\n",
    "extracted_stock_df.at_time(datetime.time(9,0))"
   ]
  },
  {
   "cell_type": "markdown",
   "metadata": {},
   "source": [
    "### 日中データを取得"
   ]
  },
  {
   "cell_type": "markdown",
   "metadata": {},
   "source": [
    "おそらく使わない，以下の営業日＋日中内で使う．"
   ]
  },
  {
   "cell_type": "code",
   "execution_count": 172,
   "metadata": {
    "ExecuteTime": {
     "end_time": "2020-12-09T11:15:14.544045Z",
     "start_time": "2020-12-09T11:15:14.478221Z"
    }
   },
   "outputs": [],
   "source": [
    "def extract_intraday_jp_index(dt_index, return_as=\"index\"):\n",
    "    \"\"\"\n",
    "    pd.DatetimeIndexから，日中(9時から11時半，12時半から15時)のデータのものを抽出．出力データ形式をreturn_asで指定する．\n",
    "    dt_index: pd.DatetimeIndex\n",
    "        入力するDatetimeIndex\n",
    "    return_as: str\n",
    "        出力データの形式\n",
    "        - \"index\": 引数としたdfの対応するインデックスを返す\n",
    "        - \"bool\": 引数としたdfに対応するboolインデックスを返す\n",
    "    \"\"\"\n",
    "    \n",
    "    # 返り値の形式の指定\n",
    "    return_as_set = {\"index\", \"bool\"}\n",
    "    if not return_as in return_as_set:\n",
    "        raise Exception(\"return_as must be any in {}\".format(return_as_set))    \n",
    "  \n",
    "    bool_array = np.array([False]*len(dt_index))\n",
    "    \n",
    "    # 午前をTrueに\n",
    "    am_indice = dt_index.indexer_between_time(start_time=datetime.time(9,0), end_time=datetime.time(11,30), include_end=False)\n",
    "    bool_array[am_indice] = True\n",
    "    \n",
    "    # 午後をTrueに\n",
    "    pm_indice = dt_index.indexer_between_time(start_time=datetime.time(12,30), end_time=datetime.time(15,0), include_end=False)\n",
    "    bool_array[pm_indice] = True\n",
    "    \n",
    "    if return_as==\"bool\":\n",
    "        return bool_array\n",
    "\n",
    "    elif return_as==\"index\":\n",
    "        intraday_indice = dt_index[bool_array]\n",
    "        return intraday_indice"
   ]
  },
  {
   "cell_type": "code",
   "execution_count": 184,
   "metadata": {
    "ExecuteTime": {
     "end_time": "2020-12-09T11:36:05.270953Z",
     "start_time": "2020-12-09T11:36:05.226075Z"
    }
   },
   "outputs": [],
   "source": [
    "def extract_intraday_jp(df, return_as=\"df\"):\n",
    "    \"\"\"\n",
    "    データフレームから，日中(9時から11時半，12時半から15時)のデータのものを抽出．出力データ形式をreturn_asで指定する．\n",
    "    df: pd.DataFrame(インデックスとしてpd.DatetimeIndex)\n",
    "        入力データ\n",
    "    return_as: str\n",
    "        出力データの形式\n",
    "        - \"df\": 抽出した新しいpd.DataFrameを返す\n",
    "        - \"index\": 引数としたdfの対応するインデックスを返す\n",
    "        - \"bool\": 引数としたdfに対応するboolインデックスを返す\n",
    "    \"\"\"\n",
    "    \n",
    "    # 返り値の形式の指定\n",
    "    return_as_set = {\"df\", \"index\", \"bool\"}\n",
    "    if not return_as in return_as_set:\n",
    "        raise Exception(\"return_as must be any in {}\".format(return_as_set))    \n",
    "  \n",
    "    intraday_bool_array = extract_intraday_jp_index(df.index, return_as=\"bool\")\n",
    "    if return_as==\"bool\":\n",
    "        return intraday_bool_array\n",
    "    \n",
    "    intraday_indice = df.index[intraday_bool_array]\n",
    "    if return_as==\"index\":\n",
    "        return intraday_indice\n",
    "    \n",
    "    out_df = df.loc[intraday_indice].copy()\n",
    "    return out_df"
   ]
  },
  {
   "cell_type": "code",
   "execution_count": 185,
   "metadata": {
    "ExecuteTime": {
     "end_time": "2020-12-09T11:36:06.132654Z",
     "start_time": "2020-12-09T11:36:05.947148Z"
    }
   },
   "outputs": [
    {
     "data": {
      "text/html": [
       "<div>\n",
       "<style scoped>\n",
       "    .dataframe tbody tr th:only-of-type {\n",
       "        vertical-align: middle;\n",
       "    }\n",
       "\n",
       "    .dataframe tbody tr th {\n",
       "        vertical-align: top;\n",
       "    }\n",
       "\n",
       "    .dataframe thead th {\n",
       "        text-align: right;\n",
       "    }\n",
       "</style>\n",
       "<table border=\"1\" class=\"dataframe\">\n",
       "  <thead>\n",
       "    <tr style=\"text-align: right;\">\n",
       "      <th></th>\n",
       "      <th>Open_6502</th>\n",
       "      <th>High_6502</th>\n",
       "      <th>Low_6502</th>\n",
       "      <th>Close_6502</th>\n",
       "      <th>Volume_6502</th>\n",
       "    </tr>\n",
       "    <tr>\n",
       "      <th>timestamp</th>\n",
       "      <th></th>\n",
       "      <th></th>\n",
       "      <th></th>\n",
       "      <th></th>\n",
       "      <th></th>\n",
       "    </tr>\n",
       "  </thead>\n",
       "  <tbody>\n",
       "    <tr>\n",
       "      <th>2020-11-02 09:00:00+09:00</th>\n",
       "      <td>2607.0</td>\n",
       "      <td>2620.0</td>\n",
       "      <td>2606.0</td>\n",
       "      <td>2617.0</td>\n",
       "      <td>0.0</td>\n",
       "    </tr>\n",
       "    <tr>\n",
       "      <th>2020-11-02 09:01:00+09:00</th>\n",
       "      <td>2619.0</td>\n",
       "      <td>2627.0</td>\n",
       "      <td>2619.0</td>\n",
       "      <td>2627.0</td>\n",
       "      <td>4900.0</td>\n",
       "    </tr>\n",
       "    <tr>\n",
       "      <th>2020-11-02 09:02:00+09:00</th>\n",
       "      <td>2634.0</td>\n",
       "      <td>2636.0</td>\n",
       "      <td>2634.0</td>\n",
       "      <td>2634.0</td>\n",
       "      <td>30000.0</td>\n",
       "    </tr>\n",
       "    <tr>\n",
       "      <th>2020-11-02 09:03:00+09:00</th>\n",
       "      <td>2636.0</td>\n",
       "      <td>2642.0</td>\n",
       "      <td>2633.0</td>\n",
       "      <td>2636.0</td>\n",
       "      <td>35000.0</td>\n",
       "    </tr>\n",
       "    <tr>\n",
       "      <th>2020-11-02 09:04:00+09:00</th>\n",
       "      <td>2638.0</td>\n",
       "      <td>2640.0</td>\n",
       "      <td>2633.0</td>\n",
       "      <td>2638.0</td>\n",
       "      <td>10100.0</td>\n",
       "    </tr>\n",
       "    <tr>\n",
       "      <th>...</th>\n",
       "      <td>...</td>\n",
       "      <td>...</td>\n",
       "      <td>...</td>\n",
       "      <td>...</td>\n",
       "      <td>...</td>\n",
       "    </tr>\n",
       "    <tr>\n",
       "      <th>2020-12-01 14:55:00+09:00</th>\n",
       "      <td>2950.0</td>\n",
       "      <td>2952.0</td>\n",
       "      <td>2949.0</td>\n",
       "      <td>2951.0</td>\n",
       "      <td>25100.0</td>\n",
       "    </tr>\n",
       "    <tr>\n",
       "      <th>2020-12-01 14:56:00+09:00</th>\n",
       "      <td>2950.0</td>\n",
       "      <td>2951.0</td>\n",
       "      <td>2948.0</td>\n",
       "      <td>2949.0</td>\n",
       "      <td>16400.0</td>\n",
       "    </tr>\n",
       "    <tr>\n",
       "      <th>2020-12-01 14:57:00+09:00</th>\n",
       "      <td>2950.0</td>\n",
       "      <td>2955.0</td>\n",
       "      <td>2950.0</td>\n",
       "      <td>2954.0</td>\n",
       "      <td>25800.0</td>\n",
       "    </tr>\n",
       "    <tr>\n",
       "      <th>2020-12-01 14:58:00+09:00</th>\n",
       "      <td>2954.0</td>\n",
       "      <td>2960.0</td>\n",
       "      <td>2954.0</td>\n",
       "      <td>2959.0</td>\n",
       "      <td>58900.0</td>\n",
       "    </tr>\n",
       "    <tr>\n",
       "      <th>2020-12-01 14:59:00+09:00</th>\n",
       "      <td>2958.0</td>\n",
       "      <td>2960.0</td>\n",
       "      <td>2955.0</td>\n",
       "      <td>2958.0</td>\n",
       "      <td>37200.0</td>\n",
       "    </tr>\n",
       "  </tbody>\n",
       "</table>\n",
       "<p>7500 rows × 5 columns</p>\n",
       "</div>"
      ],
      "text/plain": [
       "                           Open_6502  High_6502  Low_6502  Close_6502  \\\n",
       "timestamp                                                               \n",
       "2020-11-02 09:00:00+09:00     2607.0     2620.0    2606.0      2617.0   \n",
       "2020-11-02 09:01:00+09:00     2619.0     2627.0    2619.0      2627.0   \n",
       "2020-11-02 09:02:00+09:00     2634.0     2636.0    2634.0      2634.0   \n",
       "2020-11-02 09:03:00+09:00     2636.0     2642.0    2633.0      2636.0   \n",
       "2020-11-02 09:04:00+09:00     2638.0     2640.0    2633.0      2638.0   \n",
       "...                              ...        ...       ...         ...   \n",
       "2020-12-01 14:55:00+09:00     2950.0     2952.0    2949.0      2951.0   \n",
       "2020-12-01 14:56:00+09:00     2950.0     2951.0    2948.0      2949.0   \n",
       "2020-12-01 14:57:00+09:00     2950.0     2955.0    2950.0      2954.0   \n",
       "2020-12-01 14:58:00+09:00     2954.0     2960.0    2954.0      2959.0   \n",
       "2020-12-01 14:59:00+09:00     2958.0     2960.0    2955.0      2958.0   \n",
       "\n",
       "                           Volume_6502  \n",
       "timestamp                               \n",
       "2020-11-02 09:00:00+09:00          0.0  \n",
       "2020-11-02 09:01:00+09:00       4900.0  \n",
       "2020-11-02 09:02:00+09:00      30000.0  \n",
       "2020-11-02 09:03:00+09:00      35000.0  \n",
       "2020-11-02 09:04:00+09:00      10100.0  \n",
       "...                                ...  \n",
       "2020-12-01 14:55:00+09:00      25100.0  \n",
       "2020-12-01 14:56:00+09:00      16400.0  \n",
       "2020-12-01 14:57:00+09:00      25800.0  \n",
       "2020-12-01 14:58:00+09:00      58900.0  \n",
       "2020-12-01 14:59:00+09:00      37200.0  \n",
       "\n",
       "[7500 rows x 5 columns]"
      ]
     },
     "execution_count": 185,
     "metadata": {},
     "output_type": "execute_result"
    }
   ],
   "source": [
    "extracted_df = extract_intraday_jp(stock_df, return_as=\"df\")\n",
    "extracted_df"
   ]
  },
  {
   "cell_type": "markdown",
   "metadata": {},
   "source": [
    "### 営業日＋日中データを取得 "
   ]
  },
  {
   "cell_type": "code",
   "execution_count": 175,
   "metadata": {
    "ExecuteTime": {
     "end_time": "2020-12-09T11:15:33.889314Z",
     "start_time": "2020-12-09T11:15:33.845433Z"
    }
   },
   "outputs": [],
   "source": [
    "def extract_workdays_intraday_jp_index(dt_index, return_as=\"index\"):\n",
    "    \"\"\"\n",
    "    pd.DatetimeIndexから，営業日+日中(9時から11時半，12時半から15時)のデータのものを抽出．出力データ形式をreturn_asで指定する．\n",
    "    dt_index: pd.DatetimeIndex\n",
    "        入力するDatetimeIndex\n",
    "    return_as: str\n",
    "        出力データの形式\n",
    "        - \"index\": 引数としたdfの対応するインデックスを返す\n",
    "        - \"bool\": 引数としたdfに対応するboolインデックスを返す\n",
    "    \"\"\"\n",
    "\n",
    "    # 返り値の形式の指定\n",
    "    return_as_set = {\"index\", \"bool\"}\n",
    "    if not return_as in return_as_set:\n",
    "        raise Exception(\"return_as must be any in {}\".format(return_as_set))\n",
    "        \n",
    "    workday_bool_array = extract_workdays_jp_index(dt_index, return_as=\"bool\")\n",
    "    intraday_bool_array = extract_intraday_jp_index(dt_index, return_as=\"bool\")\n",
    "    \n",
    "    workday_intraday_bool_array = workday_bool_array & intraday_bool_array\n",
    "    if return_as==\"bool\":\n",
    "        return workday_intraday_bool_array\n",
    "    elif return_as==\"index\":\n",
    "        workday_intraday_indice = dt_index[workday_intraday_bool_array]\n",
    "        return workday_intraday_indice"
   ]
  },
  {
   "cell_type": "code",
   "execution_count": 180,
   "metadata": {
    "ExecuteTime": {
     "end_time": "2020-12-09T11:17:07.852037Z",
     "start_time": "2020-12-09T11:17:07.721383Z"
    }
   },
   "outputs": [
    {
     "data": {
      "text/plain": [
       "DatetimeIndex(['2020-11-02 09:00:00+09:00', '2020-11-04 09:00:00+09:00',\n",
       "               '2020-11-05 09:00:00+09:00', '2020-11-06 09:00:00+09:00',\n",
       "               '2020-11-09 09:00:00+09:00', '2020-11-10 09:00:00+09:00',\n",
       "               '2020-11-11 09:00:00+09:00', '2020-11-12 09:00:00+09:00',\n",
       "               '2020-11-13 09:00:00+09:00', '2020-11-16 09:00:00+09:00',\n",
       "               '2020-11-17 09:00:00+09:00', '2020-11-18 09:00:00+09:00',\n",
       "               '2020-11-19 09:00:00+09:00', '2020-11-20 09:00:00+09:00',\n",
       "               '2020-11-24 09:00:00+09:00', '2020-11-25 09:00:00+09:00',\n",
       "               '2020-11-26 09:00:00+09:00', '2020-11-27 09:00:00+09:00',\n",
       "               '2020-11-30 09:00:00+09:00', '2020-12-01 09:00:00+09:00'],\n",
       "              dtype='datetime64[ns, Asia/Tokyo]', freq=None)"
      ]
     },
     "execution_count": 180,
     "metadata": {},
     "output_type": "execute_result"
    }
   ],
   "source": [
    "jst_timezone = timezone(\"Asia/Tokyo\")\n",
    "start_datetime = jst_timezone.localize(datetime.datetime(2020,11,1,9,0,0))\n",
    "end_datetime = jst_timezone.localize(datetime.datetime(2020,12,1,15,0,0))\n",
    "\n",
    "datetime_index = pd.date_range(start_datetime, end_datetime, freq=\"5T\")\n",
    "datetime_index[datetime_index.indexer_at_time(datetime.time(9,0))]\n",
    "\n",
    "intraday_workday_index = extract_workdays_intraday_jp_index(datetime_index, return_as=\"index\")\n",
    "intraday_workday_index[intraday_workday_index.indexer_at_time(datetime.time(9,0))]"
   ]
  },
  {
   "cell_type": "code",
   "execution_count": 181,
   "metadata": {
    "ExecuteTime": {
     "end_time": "2020-12-09T11:35:50.855505Z",
     "start_time": "2020-12-09T11:35:50.612182Z"
    }
   },
   "outputs": [],
   "source": [
    "def extract_workdays_intraday_jp(df, return_as=\"df\"):\n",
    "    \"\"\"\n",
    "    データフレームから，営業日+日中(9時から11時半，12時半から15時)のデータのものを抽出．出力データ形式をreturn_asで指定する．\n",
    "    df: pd.DataFrame(インデックスとしてpd.DatetimeIndex)\n",
    "        入力データ\n",
    "    return_as: str\n",
    "        出力データの形式\n",
    "        - \"df\": 抽出した新しいpd.DataFrameを返す\n",
    "        - \"index\": 引数としたdfの対応するインデックスを返す\n",
    "        - \"bool\": 引数としたdfに対応するboolインデックスを返す\n",
    "    \"\"\"\n",
    "    \n",
    "    # 返り値の形式の指定\n",
    "    return_as_set = {\"df\", \"index\", \"bool\"}\n",
    "    if not return_as in return_as_set:\n",
    "        raise Exception(\"return_as must be any in {}\".format(return_as_set))    \n",
    "       \n",
    "    workday_intraday_bool_array = extract_workdays_intraday_jp_index(df.index, return_as=\"bool\")\n",
    "    \n",
    "    if return_as==\"bool\":\n",
    "        return workday_intraday_bool_array\n",
    "    \n",
    "    workday_intraday_indice = df.index[workday_intraday_bool_array]\n",
    "    \n",
    "    if return_as==\"index\":\n",
    "        return workday_intraday_indice\n",
    "    \n",
    "    out_df = df.loc[workday_intraday_indice].copy()\n",
    "    return out_df"
   ]
  },
  {
   "cell_type": "code",
   "execution_count": 183,
   "metadata": {
    "ExecuteTime": {
     "end_time": "2020-12-09T11:35:55.696560Z",
     "start_time": "2020-12-09T11:35:55.380454Z"
    }
   },
   "outputs": [
    {
     "data": {
      "text/html": [
       "<div>\n",
       "<style scoped>\n",
       "    .dataframe tbody tr th:only-of-type {\n",
       "        vertical-align: middle;\n",
       "    }\n",
       "\n",
       "    .dataframe tbody tr th {\n",
       "        vertical-align: top;\n",
       "    }\n",
       "\n",
       "    .dataframe thead th {\n",
       "        text-align: right;\n",
       "    }\n",
       "</style>\n",
       "<table border=\"1\" class=\"dataframe\">\n",
       "  <thead>\n",
       "    <tr style=\"text-align: right;\">\n",
       "      <th></th>\n",
       "      <th>Open_6502</th>\n",
       "      <th>High_6502</th>\n",
       "      <th>Low_6502</th>\n",
       "      <th>Close_6502</th>\n",
       "      <th>Volume_6502</th>\n",
       "    </tr>\n",
       "    <tr>\n",
       "      <th>timestamp</th>\n",
       "      <th></th>\n",
       "      <th></th>\n",
       "      <th></th>\n",
       "      <th></th>\n",
       "      <th></th>\n",
       "    </tr>\n",
       "  </thead>\n",
       "  <tbody>\n",
       "    <tr>\n",
       "      <th>2020-11-02 09:00:00+09:00</th>\n",
       "      <td>2607.0</td>\n",
       "      <td>2620.0</td>\n",
       "      <td>2606.0</td>\n",
       "      <td>2617.0</td>\n",
       "      <td>0.0</td>\n",
       "    </tr>\n",
       "    <tr>\n",
       "      <th>2020-11-02 09:01:00+09:00</th>\n",
       "      <td>2619.0</td>\n",
       "      <td>2627.0</td>\n",
       "      <td>2619.0</td>\n",
       "      <td>2627.0</td>\n",
       "      <td>4900.0</td>\n",
       "    </tr>\n",
       "    <tr>\n",
       "      <th>2020-11-02 09:02:00+09:00</th>\n",
       "      <td>2634.0</td>\n",
       "      <td>2636.0</td>\n",
       "      <td>2634.0</td>\n",
       "      <td>2634.0</td>\n",
       "      <td>30000.0</td>\n",
       "    </tr>\n",
       "    <tr>\n",
       "      <th>2020-11-02 09:03:00+09:00</th>\n",
       "      <td>2636.0</td>\n",
       "      <td>2642.0</td>\n",
       "      <td>2633.0</td>\n",
       "      <td>2636.0</td>\n",
       "      <td>35000.0</td>\n",
       "    </tr>\n",
       "    <tr>\n",
       "      <th>2020-11-02 09:04:00+09:00</th>\n",
       "      <td>2638.0</td>\n",
       "      <td>2640.0</td>\n",
       "      <td>2633.0</td>\n",
       "      <td>2638.0</td>\n",
       "      <td>10100.0</td>\n",
       "    </tr>\n",
       "    <tr>\n",
       "      <th>...</th>\n",
       "      <td>...</td>\n",
       "      <td>...</td>\n",
       "      <td>...</td>\n",
       "      <td>...</td>\n",
       "      <td>...</td>\n",
       "    </tr>\n",
       "    <tr>\n",
       "      <th>2020-12-01 14:55:00+09:00</th>\n",
       "      <td>2950.0</td>\n",
       "      <td>2952.0</td>\n",
       "      <td>2949.0</td>\n",
       "      <td>2951.0</td>\n",
       "      <td>25100.0</td>\n",
       "    </tr>\n",
       "    <tr>\n",
       "      <th>2020-12-01 14:56:00+09:00</th>\n",
       "      <td>2950.0</td>\n",
       "      <td>2951.0</td>\n",
       "      <td>2948.0</td>\n",
       "      <td>2949.0</td>\n",
       "      <td>16400.0</td>\n",
       "    </tr>\n",
       "    <tr>\n",
       "      <th>2020-12-01 14:57:00+09:00</th>\n",
       "      <td>2950.0</td>\n",
       "      <td>2955.0</td>\n",
       "      <td>2950.0</td>\n",
       "      <td>2954.0</td>\n",
       "      <td>25800.0</td>\n",
       "    </tr>\n",
       "    <tr>\n",
       "      <th>2020-12-01 14:58:00+09:00</th>\n",
       "      <td>2954.0</td>\n",
       "      <td>2960.0</td>\n",
       "      <td>2954.0</td>\n",
       "      <td>2959.0</td>\n",
       "      <td>58900.0</td>\n",
       "    </tr>\n",
       "    <tr>\n",
       "      <th>2020-12-01 14:59:00+09:00</th>\n",
       "      <td>2958.0</td>\n",
       "      <td>2960.0</td>\n",
       "      <td>2955.0</td>\n",
       "      <td>2958.0</td>\n",
       "      <td>37200.0</td>\n",
       "    </tr>\n",
       "  </tbody>\n",
       "</table>\n",
       "<p>6000 rows × 5 columns</p>\n",
       "</div>"
      ],
      "text/plain": [
       "                           Open_6502  High_6502  Low_6502  Close_6502  \\\n",
       "timestamp                                                               \n",
       "2020-11-02 09:00:00+09:00     2607.0     2620.0    2606.0      2617.0   \n",
       "2020-11-02 09:01:00+09:00     2619.0     2627.0    2619.0      2627.0   \n",
       "2020-11-02 09:02:00+09:00     2634.0     2636.0    2634.0      2634.0   \n",
       "2020-11-02 09:03:00+09:00     2636.0     2642.0    2633.0      2636.0   \n",
       "2020-11-02 09:04:00+09:00     2638.0     2640.0    2633.0      2638.0   \n",
       "...                              ...        ...       ...         ...   \n",
       "2020-12-01 14:55:00+09:00     2950.0     2952.0    2949.0      2951.0   \n",
       "2020-12-01 14:56:00+09:00     2950.0     2951.0    2948.0      2949.0   \n",
       "2020-12-01 14:57:00+09:00     2950.0     2955.0    2950.0      2954.0   \n",
       "2020-12-01 14:58:00+09:00     2954.0     2960.0    2954.0      2959.0   \n",
       "2020-12-01 14:59:00+09:00     2958.0     2960.0    2955.0      2958.0   \n",
       "\n",
       "                           Volume_6502  \n",
       "timestamp                               \n",
       "2020-11-02 09:00:00+09:00          0.0  \n",
       "2020-11-02 09:01:00+09:00       4900.0  \n",
       "2020-11-02 09:02:00+09:00      30000.0  \n",
       "2020-11-02 09:03:00+09:00      35000.0  \n",
       "2020-11-02 09:04:00+09:00      10100.0  \n",
       "...                                ...  \n",
       "2020-12-01 14:55:00+09:00      25100.0  \n",
       "2020-12-01 14:56:00+09:00      16400.0  \n",
       "2020-12-01 14:57:00+09:00      25800.0  \n",
       "2020-12-01 14:58:00+09:00      58900.0  \n",
       "2020-12-01 14:59:00+09:00      37200.0  \n",
       "\n",
       "[6000 rows x 5 columns]"
      ]
     },
     "execution_count": 183,
     "metadata": {},
     "output_type": "execute_result"
    }
   ],
   "source": [
    "extracted_df = extract_workdays_intraday_jp(stock_df, return_as=\"df\")\n",
    "extracted_df"
   ]
  },
  {
   "cell_type": "code",
   "execution_count": null,
   "metadata": {},
   "outputs": [],
   "source": []
  }
 ],
 "metadata": {
  "kernelspec": {
   "display_name": "torch_py37",
   "language": "python",
   "name": "torch_py37"
  },
  "language_info": {
   "codemirror_mode": {
    "name": "ipython",
    "version": 3
   },
   "file_extension": ".py",
   "mimetype": "text/x-python",
   "name": "python",
   "nbconvert_exporter": "python",
   "pygments_lexer": "ipython3",
   "version": "3.7.4"
  },
  "toc": {
   "base_numbering": 1,
   "nav_menu": {},
   "number_sections": true,
   "sideBar": true,
   "skip_h1_title": true,
   "title_cell": "Table of Contents",
   "title_sidebar": "Contents",
   "toc_cell": false,
   "toc_position": {
    "height": "calc(100% - 180px)",
    "left": "10px",
    "top": "150px",
    "width": "165px"
   },
   "toc_section_display": true,
   "toc_window_display": false
  }
 },
 "nbformat": 4,
 "nbformat_minor": 4
}
