{
 "cells": [
  {
   "cell_type": "markdown",
   "metadata": {},
   "source": [
    "### 実行位置の調整 "
   ]
  },
  {
   "cell_type": "code",
   "execution_count": 1,
   "metadata": {
    "ExecuteTime": {
     "end_time": "2021-05-02T01:27:57.462711Z",
     "start_time": "2021-05-02T01:27:57.425810Z"
    }
   },
   "outputs": [
    {
     "name": "stdout",
     "output_type": "stream",
     "text": [
      "E:\\システムトレード入門\\trade_system_git_workspace\n"
     ]
    }
   ],
   "source": [
    "%cd .."
   ]
  },
  {
   "cell_type": "code",
   "execution_count": 2,
   "metadata": {
    "ExecuteTime": {
     "end_time": "2021-05-02T01:28:00.382956Z",
     "start_time": "2021-05-02T01:27:58.385246Z"
    }
   },
   "outputs": [],
   "source": [
    "import pandas as pd\n",
    "import datetime\n",
    "from datetime import timedelta\n",
    "from pytz import timezone"
   ]
  },
  {
   "cell_type": "code",
   "execution_count": 3,
   "metadata": {
    "ExecuteTime": {
     "end_time": "2021-05-02T01:28:01.350320Z",
     "start_time": "2021-05-02T01:28:00.391882Z"
    }
   },
   "outputs": [],
   "source": [
    "from get_stock_price import YahooFinanceStockLoaderMin"
   ]
  },
  {
   "cell_type": "code",
   "execution_count": 4,
   "metadata": {
    "ExecuteTime": {
     "end_time": "2021-05-02T01:28:03.295123Z",
     "start_time": "2021-05-02T01:28:03.271181Z"
    }
   },
   "outputs": [],
   "source": [
    "import re"
   ]
  },
  {
   "cell_type": "code",
   "execution_count": 5,
   "metadata": {
    "ExecuteTime": {
     "end_time": "2021-05-02T01:28:03.659146Z",
     "start_time": "2021-05-02T01:28:03.641198Z"
    }
   },
   "outputs": [],
   "source": [
    "import warnings"
   ]
  },
  {
   "cell_type": "code",
   "execution_count": 55,
   "metadata": {
    "ExecuteTime": {
     "end_time": "2021-05-02T03:10:44.410083Z",
     "start_time": "2021-05-02T03:10:44.387146Z"
    }
   },
   "outputs": [],
   "source": [
    "from py_workdays import option"
   ]
  },
  {
   "cell_type": "markdown",
   "metadata": {},
   "source": [
    "自分の実装では，以下の足を使う．それぞれ．秒足, 30秒足, 分足, 10分足, 30分足, 1時間足, 2時間足, 4時間足, 12時間足, 日足, 営業日足, 週足, 2週足, 月足, 4半期足, 年足を使う．"
   ]
  },
  {
   "cell_type": "code",
   "execution_count": 7,
   "metadata": {
    "ExecuteTime": {
     "end_time": "2021-05-02T01:28:16.278402Z",
     "start_time": "2021-05-02T01:28:16.244496Z"
    }
   },
   "outputs": [],
   "source": [
    "# 自分が利用する足\n",
    "available_sample_type = set([\"S\", \"1S\", \"30S\", \"T\", \"1T\", \"5T\", \"10T\", \"30T\", \"H\",\"1H\", \"2H\", \"4H\", \n",
    "                             \"12H\", \"D\", \"1D\", \"B\", \"1B\", \"W\", \"1W\", \"2W\", \"M\", \"1M\", \"Q\", \"1Q\", \"Y\", \"1Y\"])"
   ]
  },
  {
   "cell_type": "code",
   "execution_count": 8,
   "metadata": {
    "ExecuteTime": {
     "end_time": "2021-05-02T01:28:18.370809Z",
     "start_time": "2021-05-02T01:28:18.342880Z"
    }
   },
   "outputs": [],
   "source": [
    "middle_type_dict ={\"S\":\"S\",\"1S\":\"S\",\"30S\":\"30S\",\"min\":\"T\",\"1min\":\"T\",\"T\":\"T\",\"1T\":\"T\",\"5T\":\"5T\",\"10T\":\"10T\",\"30T\":\"30T\",\n",
    "                   \"H\":\"H\",\"1H\":\"H\",\"2H\":\"2H\",\"4H\":\"4H\",\"12H\":\"12H\",\"D\":\"D\",\"1D\":\"D\",\n",
    "                   \"B\":\"B\",\"1B\":\"B\",\"W\":\"W\",\"1W\":\"W\",\"2W\":\"2W\",\"M\":\"M\",\"1M\":\"M\",\"Q\":\"Q\",\"1Q\":\"Q\",\n",
    "                   \"Y\":\"Y\",\"1Y\":\"Y\"\n",
    "                   }"
   ]
  },
  {
   "cell_type": "code",
   "execution_count": 9,
   "metadata": {
    "ExecuteTime": {
     "end_time": "2021-05-02T01:28:38.176852Z",
     "start_time": "2021-05-02T01:28:38.147927Z"
    }
   },
   "outputs": [],
   "source": [
    "# frequencyとtimedeltaの辞書Sから2Wまで\n",
    "type_deltataime_dict = {\n",
    "    \"S\":timedelta(seconds=1),\"30S\":timedelta(seconds=30),\"T\":timedelta(minutes=1),\"5T\":timedelta(minutes=5),\"10T\":timedelta(minutes=10),\n",
    "    \"30T\":timedelta(minutes=30),\"H\":timedelta(hours=1),\"2H\":timedelta(hours=2),\"4H\":timedelta(hours=4),\"12H\":timedelta(hours=12),\n",
    "    \"D\":timedelta(days=1),\"W\":timedelta(days=7),\"2W\":timedelta(days=14)\n",
    "}"
   ]
  },
  {
   "cell_type": "markdown",
   "metadata": {},
   "source": [
    "### 秒：サンプリング周期　の辞書"
   ]
  },
  {
   "cell_type": "code",
   "execution_count": 10,
   "metadata": {
    "ExecuteTime": {
     "end_time": "2021-05-02T01:28:45.846340Z",
     "start_time": "2021-05-02T01:28:45.737633Z"
    }
   },
   "outputs": [
    {
     "data": {
      "text/plain": [
       "{1.0: 'S',\n",
       " 30.0: '30S',\n",
       " 60.0: 'T',\n",
       " 300.0: '5T',\n",
       " 600.0: '10T',\n",
       " 1800.0: '30T',\n",
       " 3600.0: 'H',\n",
       " 7200.0: '2H',\n",
       " 14400.0: '4H',\n",
       " 43200.0: '12H',\n",
       " 86400.0: 'D',\n",
       " 604800.0: 'W',\n",
       " 1209600.0: '2W'}"
      ]
     },
     "execution_count": 10,
     "metadata": {},
     "output_type": "execute_result"
    }
   ],
   "source": [
    "seconds_freq = {type_deltataime_dict[i].total_seconds():i for i in type_deltataime_dict.keys()}\n",
    "seconds_freq"
   ]
  },
  {
   "cell_type": "markdown",
   "metadata": {},
   "source": [
    "### サンプリング周期：秒　の辞書 "
   ]
  },
  {
   "cell_type": "code",
   "execution_count": 11,
   "metadata": {
    "ExecuteTime": {
     "end_time": "2021-05-02T01:28:53.489904Z",
     "start_time": "2021-05-02T01:28:53.467962Z"
    }
   },
   "outputs": [
    {
     "data": {
      "text/plain": [
       "{'S': 1.0,\n",
       " '30S': 30.0,\n",
       " 'T': 60.0,\n",
       " '5T': 300.0,\n",
       " '10T': 600.0,\n",
       " '30T': 1800.0,\n",
       " 'H': 3600.0,\n",
       " '2H': 7200.0,\n",
       " '4H': 14400.0,\n",
       " '12H': 43200.0,\n",
       " 'D': 86400.0,\n",
       " 'W': 604800.0,\n",
       " '2W': 1209600.0}"
      ]
     },
     "execution_count": 11,
     "metadata": {},
     "output_type": "execute_result"
    }
   ],
   "source": [
    "freq_seconds = {i:type_deltataime_dict[i].total_seconds() for i in type_deltataime_dict.keys()}\n",
    "freq_seconds"
   ]
  },
  {
   "cell_type": "markdown",
   "metadata": {},
   "source": [
    "### 株価データ"
   ]
  },
  {
   "cell_type": "code",
   "execution_count": 12,
   "metadata": {
    "ExecuteTime": {
     "end_time": "2021-05-02T01:29:48.815974Z",
     "start_time": "2021-05-02T01:29:47.148427Z"
    }
   },
   "outputs": [
    {
     "data": {
      "text/html": [
       "<div>\n",
       "<style scoped>\n",
       "    .dataframe tbody tr th:only-of-type {\n",
       "        vertical-align: middle;\n",
       "    }\n",
       "\n",
       "    .dataframe tbody tr th {\n",
       "        vertical-align: top;\n",
       "    }\n",
       "\n",
       "    .dataframe thead th {\n",
       "        text-align: right;\n",
       "    }\n",
       "</style>\n",
       "<table border=\"1\" class=\"dataframe\">\n",
       "  <thead>\n",
       "    <tr style=\"text-align: right;\">\n",
       "      <th></th>\n",
       "      <th>Open_4755</th>\n",
       "      <th>High_4755</th>\n",
       "      <th>Low_4755</th>\n",
       "      <th>Close_4755</th>\n",
       "      <th>Volume_4755</th>\n",
       "    </tr>\n",
       "    <tr>\n",
       "      <th>timestamp</th>\n",
       "      <th></th>\n",
       "      <th></th>\n",
       "      <th></th>\n",
       "      <th></th>\n",
       "      <th></th>\n",
       "    </tr>\n",
       "  </thead>\n",
       "  <tbody>\n",
       "    <tr>\n",
       "      <th>2021-04-30 14:55:00+09:00</th>\n",
       "      <td>1388.0</td>\n",
       "      <td>1389.0</td>\n",
       "      <td>1387.0</td>\n",
       "      <td>1389.0</td>\n",
       "      <td>33300.0</td>\n",
       "    </tr>\n",
       "    <tr>\n",
       "      <th>2021-04-30 14:56:00+09:00</th>\n",
       "      <td>1389.0</td>\n",
       "      <td>1389.0</td>\n",
       "      <td>1388.0</td>\n",
       "      <td>1389.0</td>\n",
       "      <td>11100.0</td>\n",
       "    </tr>\n",
       "    <tr>\n",
       "      <th>2021-04-30 14:57:00+09:00</th>\n",
       "      <td>1388.0</td>\n",
       "      <td>1389.0</td>\n",
       "      <td>1388.0</td>\n",
       "      <td>1389.0</td>\n",
       "      <td>34300.0</td>\n",
       "    </tr>\n",
       "    <tr>\n",
       "      <th>2021-04-30 14:58:00+09:00</th>\n",
       "      <td>1389.0</td>\n",
       "      <td>1390.0</td>\n",
       "      <td>1388.0</td>\n",
       "      <td>1389.0</td>\n",
       "      <td>47000.0</td>\n",
       "    </tr>\n",
       "    <tr>\n",
       "      <th>2021-04-30 14:59:00+09:00</th>\n",
       "      <td>1388.0</td>\n",
       "      <td>1389.0</td>\n",
       "      <td>1386.0</td>\n",
       "      <td>1388.0</td>\n",
       "      <td>103700.0</td>\n",
       "    </tr>\n",
       "  </tbody>\n",
       "</table>\n",
       "</div>"
      ],
      "text/plain": [
       "                           Open_4755  High_4755  Low_4755  Close_4755  \\\n",
       "timestamp                                                               \n",
       "2021-04-30 14:55:00+09:00     1388.0     1389.0    1387.0      1389.0   \n",
       "2021-04-30 14:56:00+09:00     1389.0     1389.0    1388.0      1389.0   \n",
       "2021-04-30 14:57:00+09:00     1388.0     1389.0    1388.0      1389.0   \n",
       "2021-04-30 14:58:00+09:00     1389.0     1390.0    1388.0      1389.0   \n",
       "2021-04-30 14:59:00+09:00     1388.0     1389.0    1386.0      1388.0   \n",
       "\n",
       "                           Volume_4755  \n",
       "timestamp                               \n",
       "2021-04-30 14:55:00+09:00      33300.0  \n",
       "2021-04-30 14:56:00+09:00      11100.0  \n",
       "2021-04-30 14:57:00+09:00      34300.0  \n",
       "2021-04-30 14:58:00+09:00      47000.0  \n",
       "2021-04-30 14:59:00+09:00     103700.0  "
      ]
     },
     "execution_count": 12,
     "metadata": {},
     "output_type": "execute_result"
    }
   ],
   "source": [
    "stock_names = [\"4755.T\"]\n",
    "\n",
    "stockloader = YahooFinanceStockLoaderMin(stock_names, stop_time_span=2.0, is_use_stop=False)\n",
    "stock_df = stockloader.load()\n",
    "stock_df.tail(5)"
   ]
  },
  {
   "cell_type": "markdown",
   "metadata": {},
   "source": [
    "### 各種frequency取得関連関数 "
   ]
  },
  {
   "cell_type": "code",
   "execution_count": 13,
   "metadata": {
    "ExecuteTime": {
     "end_time": "2021-05-02T01:30:56.967191Z",
     "start_time": "2021-05-02T01:30:56.931291Z"
    }
   },
   "outputs": [],
   "source": [
    "def middle_sample_type_with_check(freq):\n",
    "    \"\"\"\n",
    "    与えられたfreq_strが使えるものかどうか判断し，pandasで利用可能なfreq_strを返す．\n",
    "    freq: str\n",
    "        frequencyを意味する文字列\n",
    "    \"\"\"\n",
    "    if freq not in available_sample_type:\n",
    "        raise ValueError(\"This freq is invalid\")\n",
    "\n",
    "    return middle_type_dict[freq]\n",
    "\n",
    "def get_freq_from_sec(seconds):\n",
    "    \"\"\"\n",
    "    指定した秒数から，pandasで指定されるfrequency strを出力する．ただし，\"S\"から\"2W\"まで\n",
    "    seconds: int\n",
    "        frequencyを求めたい整数\n",
    "    \"\"\"\n",
    "    if seconds not in seconds_freq:\n",
    "        raise ValueError(\"This seconds is invalid\")\n",
    "\n",
    "    return seconds_freq[seconds]\n",
    "\n",
    "def get_sec_from_freq(freq):\n",
    "    \"\"\"\n",
    "    指定したfrequency strから，秒数を出力する関数．ただし\"S\"から\"2W\"まで\n",
    "    freq: str\n",
    "        秒数を求めたいfrequency str\n",
    "    \"\"\"\n",
    "    if freq not in freq_seconds:\n",
    "        raise ValueError(\"This freq is invalid\")\n",
    "    return freq_seconds[freq]\n"
   ]
  },
  {
   "cell_type": "markdown",
   "metadata": {},
   "source": [
    "### DataFrameが何足データか判定する関数 "
   ]
  },
  {
   "cell_type": "markdown",
   "metadata": {},
   "source": [
    "YahooFinanceStockLoaderMinで取得されるdataframeはfreqが設定されている"
   ]
  },
  {
   "cell_type": "code",
   "execution_count": 14,
   "metadata": {
    "ExecuteTime": {
     "end_time": "2021-05-02T01:30:58.919971Z",
     "start_time": "2021-05-02T01:30:58.891043Z"
    }
   },
   "outputs": [
    {
     "data": {
      "text/plain": [
       "'T'"
      ]
     },
     "execution_count": 14,
     "metadata": {},
     "output_type": "execute_result"
    }
   ],
   "source": [
    "stock_df.index.freqstr"
   ]
  },
  {
   "cell_type": "markdown",
   "metadata": {},
   "source": [
    "もしfreqstrが得られなかった場合,秒足，分足，時間足，日足だけは判定できるようにする．"
   ]
  },
  {
   "cell_type": "code",
   "execution_count": 15,
   "metadata": {
    "ExecuteTime": {
     "end_time": "2021-05-02T01:31:21.416817Z",
     "start_time": "2021-05-02T01:31:21.376919Z"
    }
   },
   "outputs": [
    {
     "data": {
      "text/plain": [
       "60.0"
      ]
     },
     "execution_count": 15,
     "metadata": {},
     "output_type": "execute_result"
    }
   ],
   "source": [
    "first_datetime = stock_df.index[0].to_pydatetime()\n",
    "second_datetime = stock_df.index[1].to_pydatetime()\n",
    "\n",
    "diff_seconds = second_datetime.timestamp() - first_datetime.timestamp()\n",
    "diff_seconds"
   ]
  },
  {
   "cell_type": "code",
   "execution_count": 17,
   "metadata": {
    "ExecuteTime": {
     "end_time": "2021-05-02T01:31:58.724056Z",
     "start_time": "2021-05-02T01:31:58.696132Z"
    }
   },
   "outputs": [],
   "source": [
    "def get_df_freq(df):\n",
    "    \"\"\"\n",
    "    pandasのdfのfreqを出力する関数\n",
    "    \"\"\"\n",
    "\n",
    "    if df.index.freqstr is not None:\n",
    "        return df.index.freqstr\n",
    "        \n",
    "    if len(df.index) < 2:\n",
    "        raise ValueError(\"cannot caolculate frequency of dataframe\")\n",
    "        \n",
    "    first_datetime = df.index[0].to_pydatetime()  # datetime.datetimeに変換\n",
    "    second_datetime = df.index[1].to_pydatetime()  # datetime.datetimeに変換\n",
    "\n",
    "    diff_seconds = second_datetime.timestamp() - first_datetime.timestamp()  # unixに変換\n",
    "    return get_freq_from_sec(diff_seconds)"
   ]
  },
  {
   "cell_type": "code",
   "execution_count": 18,
   "metadata": {
    "ExecuteTime": {
     "end_time": "2021-05-02T01:31:59.407232Z",
     "start_time": "2021-05-02T01:31:59.343401Z"
    }
   },
   "outputs": [
    {
     "name": "stdout",
     "output_type": "stream",
     "text": [
      "None\n"
     ]
    },
    {
     "data": {
      "text/plain": [
       "'T'"
      ]
     },
     "execution_count": 18,
     "metadata": {},
     "output_type": "execute_result"
    }
   ],
   "source": [
    "datetime_list = [datetime.datetime(2020, 10, 25, 12, 0, 0),\n",
    "                 datetime.datetime(2020, 10, 25, 12, 1, 0),\n",
    "                 datetime.datetime(2020, 10, 25, 12, 2, 0)\n",
    "                ]\n",
    "df = pd.DataFrame([[0,1],[2,3],[3,4]], columns=[\"A\",\"B\"],index=pd.DatetimeIndex(datetime_list))\n",
    "print(df.index.freqstr)\n",
    "get_df_freq(df)"
   ]
  },
  {
   "cell_type": "markdown",
   "metadata": {},
   "source": [
    "### DataFrameを各足に変換するためのクラス "
   ]
  },
  {
   "cell_type": "code",
   "execution_count": 19,
   "metadata": {
    "ExecuteTime": {
     "end_time": "2021-05-02T01:33:06.734207Z",
     "start_time": "2021-05-02T01:33:06.633475Z"
    }
   },
   "outputs": [],
   "source": [
    "base_ohlc_patterns = {\n",
    "    \"Open\":re.compile(\"Open_[0-9]+\"),\n",
    "    \"High\":re.compile(\"High_[0-9]+\"),\n",
    "    \"Low\":re.compile(\"Low_[0-9]+\"),\n",
    "    \"Close\":re.compile(\"Close_[0-9]+\"),\n",
    "    \"Volume\":re.compile(\"Volume_[0-9]+\")\n",
    "}\n",
    "\n",
    "class ConvertFreqOHLCV():\n",
    "    \"\"\"\n",
    "    dataframeの足をダウンサンプリングする．\n",
    "    \"\"\"\n",
    "    def __init__(self, freq_str, ohlcv_patterns=base_ohlc_patterns):\n",
    "        \"\"\"\n",
    "        freq_str: str\n",
    "            サンプリング周期に対応する文字列\n",
    "        ohlcv_patterns: dict of str:pattern\n",
    "            Open,High,Low,Close,Volumeとそれに対応するパターン\n",
    "        \"\"\"\n",
    "        freq_str = middle_sample_type_with_check(freq_str)\n",
    "        self.freq_str = freq_str\n",
    "        \n",
    "        self.ohlcv_patterns = ohlcv_patterns\n",
    "         \n",
    "    def __call__(self, df):\n",
    "        # dfのfrequencyの判定とアップサンプリング時のエラー\n",
    "        df_freq = get_df_freq(df)\n",
    "        df_freq = middle_sample_type_with_check(df_freq)\n",
    "        if get_sec_from_freq(df_freq) > get_sec_from_freq(self.freq_str):  # アップサンプリングの時\n",
    "            raise ValueError(\"this is upsampling\")\n",
    "        \n",
    "        # ohlcvそれぞれ対応するカラムを求める(aggに渡す辞書を求める)\n",
    "        column_series = pd.Series(len(df.columns)*[None], index=df.columns)\n",
    "\n",
    "        column_series.loc[column_series.index.str.match(self.ohlcv_patterns[\"Open\"])] = \"first\"\n",
    "        column_series.loc[column_series.index.str.match(self.ohlcv_patterns[\"High\"])] = \"max\"\n",
    "        column_series.loc[column_series.index.str.match(self.ohlcv_patterns[\"Low\"])] = \"min\"\n",
    "        column_series.loc[column_series.index.str.match(self.ohlcv_patterns[\"Close\"])] = \"last\"\n",
    "        column_series.loc[column_series.index.str.match(self.ohlcv_patterns[\"Volume\"])] = \"sum\"\n",
    "        agg_dict = dict(column_series)\n",
    "\n",
    "        resampled_df = df.resample(self.freq_str).agg(agg_dict)  # resampling\n",
    "        return resampled_df"
   ]
  },
  {
   "cell_type": "code",
   "execution_count": 20,
   "metadata": {
    "ExecuteTime": {
     "end_time": "2021-05-02T01:33:07.605873Z",
     "start_time": "2021-05-02T01:33:07.439321Z"
    }
   },
   "outputs": [
    {
     "data": {
      "text/html": [
       "<div>\n",
       "<style scoped>\n",
       "    .dataframe tbody tr th:only-of-type {\n",
       "        vertical-align: middle;\n",
       "    }\n",
       "\n",
       "    .dataframe tbody tr th {\n",
       "        vertical-align: top;\n",
       "    }\n",
       "\n",
       "    .dataframe thead th {\n",
       "        text-align: right;\n",
       "    }\n",
       "</style>\n",
       "<table border=\"1\" class=\"dataframe\">\n",
       "  <thead>\n",
       "    <tr style=\"text-align: right;\">\n",
       "      <th></th>\n",
       "      <th>Open_4755</th>\n",
       "      <th>High_4755</th>\n",
       "      <th>Low_4755</th>\n",
       "      <th>Close_4755</th>\n",
       "      <th>Volume_4755</th>\n",
       "    </tr>\n",
       "    <tr>\n",
       "      <th>timestamp</th>\n",
       "      <th></th>\n",
       "      <th></th>\n",
       "      <th></th>\n",
       "      <th></th>\n",
       "      <th></th>\n",
       "    </tr>\n",
       "  </thead>\n",
       "  <tbody>\n",
       "    <tr>\n",
       "      <th>2021-04-27 10:30:00+09:00</th>\n",
       "      <td>1422.0</td>\n",
       "      <td>1424.0</td>\n",
       "      <td>1420.0</td>\n",
       "      <td>1423.0</td>\n",
       "      <td>103200.0</td>\n",
       "    </tr>\n",
       "    <tr>\n",
       "      <th>2021-04-27 10:35:00+09:00</th>\n",
       "      <td>1422.0</td>\n",
       "      <td>1426.0</td>\n",
       "      <td>1422.0</td>\n",
       "      <td>1425.0</td>\n",
       "      <td>201600.0</td>\n",
       "    </tr>\n",
       "    <tr>\n",
       "      <th>2021-04-27 10:40:00+09:00</th>\n",
       "      <td>1425.0</td>\n",
       "      <td>1429.0</td>\n",
       "      <td>1424.0</td>\n",
       "      <td>1428.0</td>\n",
       "      <td>177000.0</td>\n",
       "    </tr>\n",
       "    <tr>\n",
       "      <th>2021-04-27 10:45:00+09:00</th>\n",
       "      <td>1427.0</td>\n",
       "      <td>1429.0</td>\n",
       "      <td>1425.0</td>\n",
       "      <td>1427.0</td>\n",
       "      <td>154500.0</td>\n",
       "    </tr>\n",
       "    <tr>\n",
       "      <th>2021-04-27 10:50:00+09:00</th>\n",
       "      <td>1427.0</td>\n",
       "      <td>1436.0</td>\n",
       "      <td>1427.0</td>\n",
       "      <td>1435.0</td>\n",
       "      <td>425300.0</td>\n",
       "    </tr>\n",
       "    <tr>\n",
       "      <th>...</th>\n",
       "      <td>...</td>\n",
       "      <td>...</td>\n",
       "      <td>...</td>\n",
       "      <td>...</td>\n",
       "      <td>...</td>\n",
       "    </tr>\n",
       "    <tr>\n",
       "      <th>2021-04-30 14:35:00+09:00</th>\n",
       "      <td>1391.0</td>\n",
       "      <td>1393.0</td>\n",
       "      <td>1391.0</td>\n",
       "      <td>1392.0</td>\n",
       "      <td>68400.0</td>\n",
       "    </tr>\n",
       "    <tr>\n",
       "      <th>2021-04-30 14:40:00+09:00</th>\n",
       "      <td>1392.0</td>\n",
       "      <td>1392.0</td>\n",
       "      <td>1390.0</td>\n",
       "      <td>1390.0</td>\n",
       "      <td>56000.0</td>\n",
       "    </tr>\n",
       "    <tr>\n",
       "      <th>2021-04-30 14:45:00+09:00</th>\n",
       "      <td>1391.0</td>\n",
       "      <td>1391.0</td>\n",
       "      <td>1390.0</td>\n",
       "      <td>1391.0</td>\n",
       "      <td>77600.0</td>\n",
       "    </tr>\n",
       "    <tr>\n",
       "      <th>2021-04-30 14:50:00+09:00</th>\n",
       "      <td>1391.0</td>\n",
       "      <td>1392.0</td>\n",
       "      <td>1387.0</td>\n",
       "      <td>1387.0</td>\n",
       "      <td>363600.0</td>\n",
       "    </tr>\n",
       "    <tr>\n",
       "      <th>2021-04-30 14:55:00+09:00</th>\n",
       "      <td>1388.0</td>\n",
       "      <td>1390.0</td>\n",
       "      <td>1386.0</td>\n",
       "      <td>1388.0</td>\n",
       "      <td>229400.0</td>\n",
       "    </tr>\n",
       "  </tbody>\n",
       "</table>\n",
       "<p>918 rows × 5 columns</p>\n",
       "</div>"
      ],
      "text/plain": [
       "                           Open_4755  High_4755  Low_4755  Close_4755  \\\n",
       "timestamp                                                               \n",
       "2021-04-27 10:30:00+09:00     1422.0     1424.0    1420.0      1423.0   \n",
       "2021-04-27 10:35:00+09:00     1422.0     1426.0    1422.0      1425.0   \n",
       "2021-04-27 10:40:00+09:00     1425.0     1429.0    1424.0      1428.0   \n",
       "2021-04-27 10:45:00+09:00     1427.0     1429.0    1425.0      1427.0   \n",
       "2021-04-27 10:50:00+09:00     1427.0     1436.0    1427.0      1435.0   \n",
       "...                              ...        ...       ...         ...   \n",
       "2021-04-30 14:35:00+09:00     1391.0     1393.0    1391.0      1392.0   \n",
       "2021-04-30 14:40:00+09:00     1392.0     1392.0    1390.0      1390.0   \n",
       "2021-04-30 14:45:00+09:00     1391.0     1391.0    1390.0      1391.0   \n",
       "2021-04-30 14:50:00+09:00     1391.0     1392.0    1387.0      1387.0   \n",
       "2021-04-30 14:55:00+09:00     1388.0     1390.0    1386.0      1388.0   \n",
       "\n",
       "                           Volume_4755  \n",
       "timestamp                               \n",
       "2021-04-27 10:30:00+09:00     103200.0  \n",
       "2021-04-27 10:35:00+09:00     201600.0  \n",
       "2021-04-27 10:40:00+09:00     177000.0  \n",
       "2021-04-27 10:45:00+09:00     154500.0  \n",
       "2021-04-27 10:50:00+09:00     425300.0  \n",
       "...                                ...  \n",
       "2021-04-30 14:35:00+09:00      68400.0  \n",
       "2021-04-30 14:40:00+09:00      56000.0  \n",
       "2021-04-30 14:45:00+09:00      77600.0  \n",
       "2021-04-30 14:50:00+09:00     363600.0  \n",
       "2021-04-30 14:55:00+09:00     229400.0  \n",
       "\n",
       "[918 rows x 5 columns]"
      ]
     },
     "execution_count": 20,
     "metadata": {},
     "output_type": "execute_result"
    }
   ],
   "source": [
    "freq_converter = ConvertFreqOHLCV(\"5T\")\n",
    "resampled_df = freq_converter(stock_df)\n",
    "resampled_df"
   ]
  },
  {
   "cell_type": "markdown",
   "metadata": {},
   "source": [
    "### サンプリング周期を考慮した次の日時を取得  "
   ]
  },
  {
   "cell_type": "code",
   "execution_count": 36,
   "metadata": {
    "ExecuteTime": {
     "end_time": "2021-05-02T02:52:57.577284Z",
     "start_time": "2021-05-02T02:52:57.290050Z"
    }
   },
   "outputs": [],
   "source": [
    "def get_next_datetime(select_datetime, freq_str, clear_mod=True):\n",
    "        \"\"\"\n",
    "        与えられた日時から，frequency_strを考慮して次の時間を求めるための関数．余りが出てしまった場合， warningを出す．\n",
    "        \"D\"以下，さらに\"W\",\"2W\",\"M\",\"Y\"を前提としている．\n",
    "        select_datetime: datetime.datetime(aware or naive)\n",
    "            与える日時，awareなdatetimeかlocal timeを前提としたnaiveなdatetime\n",
    "        freq_str: str\n",
    "            frequencyに対応する文字列\n",
    "        clear_mod: bool\n",
    "            与える日時の余りを削除するかどうか\n",
    "        \"\"\"\n",
    "        #from IPython.core.debugger import Pdb; Pdb().set_trace()\n",
    "        freq_str = middle_sample_type_with_check(freq_str)\n",
    "\n",
    "        select_is_aware = select_datetime.tzinfo is not None  # select_datetimeがawareかどうか\n",
    "        if select_is_aware:\n",
    "            select_timezone = timezone(str(select_datetime.tzinfo))\n",
    "\n",
    "        if clear_mod:  # 余りを無視する\n",
    "            if freq_str in {\"W\",\"2W\"}:  # 週足あるいは2週足を求めるとき\n",
    "                years, months, days = select_datetime.year, select_datetime.month, select_datetime.day\n",
    "                hours, minutes, seconds = select_datetime.hour, select_datetime.minute, select_datetime.second\n",
    "\n",
    "                weekday = select_datetime.weekday()\n",
    "                if {hours, minutes, seconds} != {0} or weekday != 6:  # 時間以下が全て0でないときあるいは，日曜でなかった場合\n",
    "                    warnings.warn(\"input time is not coresponded to frequency. resampling result may be wrong\")\n",
    "                    if {hours, minutes, seconds} != {0}:\n",
    "                        hours, minutes, seconds = 0,0,0\n",
    "        \n",
    "                    weekday += 1  # 月曜始まりを日曜始まりに強引に変更\n",
    "                    if freq_str == \"W\":  # 週足の場合\n",
    "                        add_days = 7 - weekday\n",
    "                    elif freq_str == \"2W\":  # 2週足の場合\n",
    "                        add_days = 14 - weekday\n",
    "                else:  # 日曜だった場合\n",
    "                    if freq_str == \"W\":  # 週足の場合\n",
    "                        add_days= 7\n",
    "                    elif freq_str == \"2W\":  # 2週足の場合\n",
    "                        add_days = 14\n",
    "                \n",
    "                next_datetime = datetime.datetime(years, months, days+add_days, hours, minutes, seconds)\n",
    "                if select_is_aware:  # select_datetmeがawareな場合\n",
    "                    next_datetime = select_timezone.localize(next_datetime)\n",
    "                \n",
    "            elif freq_str == \"M\":  # 月足を求めるとき\n",
    "                years, months, days = select_datetime.year, select_datetime.month, select_datetime.day\n",
    "                hours, minutes, seconds = select_datetime.hour, select_datetime.minute, select_datetime.second\n",
    "\n",
    "                if {days, hours, minutes, seconds} != {0}:  # 日にち以下がすべて0でないとき(月の開始時でないとき)\n",
    "                    warnings.warn(\"input time is not coresponded to frequency. next datetime may be wrong\")\n",
    "                    days, hours, minutes, seconds = 1,0,0,0\n",
    "\n",
    "                if months == 12:  # 12月のとき\n",
    "                    years += 1\n",
    "                    months = 1  # １月にする\n",
    "                else:  # 月の開始時のとき\n",
    "                    months += 1  # 月を一つ加える\n",
    "                next_datetime = datetime.datetime(years, months, days, hours, minutes, seconds)\n",
    "                if select_is_aware:  # select_datetmeがawareな場合\n",
    "                    next_datetime = select_timezone.localize(next_datetime)\n",
    "\n",
    "            elif freq_str == \"Y\":  # 年足で求めるとき（元旦始まり）\n",
    "                years, months, days = select_datetime.year, select_datetime.month, select_datetime.day\n",
    "                hours, minutes, seconds = select_datetime.hour, select_datetime.minute, select_datetime.second\n",
    "\n",
    "                if {months, days, hours, minutes, seconds} != {0}:  # 月以下がすべて0でないとき\n",
    "                    warnings.warn(\"input time is not coresponded to frequency. next datetime may be wrong\")\n",
    "                    months, days, hours, minutes, seconds = 1,1,0,0,0\n",
    "                \n",
    "                years += 1\n",
    "                next_datetime = datetime.datetime(years, months, days, hours, minutes, seconds)\n",
    "                if select_is_aware:  # select_datetmeがawareな場合\n",
    "                    next_datetime = select_timezone.localize(next_datetime)\n",
    "\n",
    "            else:  # それ以下の足を求める場合\n",
    "                sec_from_freq = get_sec_from_freq(freq_str)\n",
    "                if select_is_aware:\n",
    "                    timezone_datetime = select_datetime\n",
    "                else:\n",
    "                    utc_timezone = timezone(\"UTC\")  # これはどこでもよい\n",
    "                    timezone_datetime = utc_timezone.localize(select_datetime)\n",
    "                # select_datetimeと同じdatetimeの値を持つutcのunix時間＋sec_from_freqを取得\n",
    "                next_time_unix = timezone_datetime.timestamp() + timezone_datetime.utcoffset().total_seconds() + sec_from_freq  # unix時間\n",
    "                \n",
    "                next_time_mod = int(next_time_unix) % int(sec_from_freq)\n",
    "                if next_time_mod != 0:  # 余りが出てしまった場合\n",
    "                    warnings.warn(\"input time is not coresponded to frequency. next datetime may be wrong\")\n",
    "                    next_time_unix = next_time_unix - next_time_mod\n",
    "                    \n",
    "                next_datetime = datetime.datetime.utcfromtimestamp(next_time_unix)  # utcのnaiveなdatetimeになる(datetimeの値に準ずる)\n",
    "                if select_is_aware:  # select_datetmeがawareな場合\n",
    "                    next_datetime = select_timezone.localize(next_datetime)\n",
    "\n",
    "        else:  # （余りを残すとき）\n",
    "            if freq_str in {\"W\",\"2W\"}:  # 週足あるいは2週足を求めるとき\n",
    "                if freq_str == \"W\":  # 週足を求める場合\n",
    "                    next_datetime = select_datetime + timedelta(days=7)\n",
    "                elif freq_str == \"2W\":  # 2週足を求める場合\n",
    "                    next_datetime = select_datetime + timedelta(days=14)\n",
    "\n",
    "            elif freq_str == \"M\":  # 月足の場合\n",
    "                years, months = select_datetime.year, select_datetime.month\n",
    "                if months == 12:  # 12月のとき\n",
    "                    years += 1\n",
    "                    months = 1  # １月にする\n",
    "                else:\n",
    "                    months += 1  # 月を一つ加える\n",
    "                next_datetime = datetime.datetime(years, months, 1, 0, 0, 0)\n",
    "                if select_is_aware:  # select_datetmeがawareな場合\n",
    "                    next_datetime = select_timezone.localize(next_datetime)\n",
    "\n",
    "            elif freq_str == \"Y\":  # 年足の場合，元旦始まり\n",
    "                years = select_datetime.year\n",
    "                years += 1\n",
    "                next_datetime = datetime.datetime(years, 1, 1, 0, 0, 0)\n",
    "                if select_is_aware:  # select_datetmeがawareな場合\n",
    "                    next_datetime = select_timezone.localize(next_datetime)\n",
    "\n",
    "            else:  # それ以下の足の場合\n",
    "                sec_from_freq = get_sec_from_freq(freq_str)\n",
    "                next_datetime = select_datetime + timedelta(seconds=sec_from_freq)\n",
    "        \n",
    "        return next_datetime"
   ]
  },
  {
   "cell_type": "markdown",
   "metadata": {},
   "source": [
    "#### naiveな場合  "
   ]
  },
  {
   "cell_type": "code",
   "execution_count": 37,
   "metadata": {
    "ExecuteTime": {
     "end_time": "2021-05-02T02:53:56.633372Z",
     "start_time": "2021-05-02T02:53:56.578519Z"
    },
    "scrolled": true
   },
   "outputs": [
    {
     "name": "stderr",
     "output_type": "stream",
     "text": [
      "C:\\Users\\Asami Naoto\\Anaconda3\\envs\\torch_py37\\lib\\site-packages\\ipykernel_launcher.py:87: UserWarning: input time is not coresponded to frequency. next datetime may be wrong\n"
     ]
    },
    {
     "data": {
      "text/plain": [
       "datetime.datetime(2020, 11, 4, 13, 0)"
      ]
     },
     "execution_count": 37,
     "metadata": {},
     "output_type": "execute_result"
    }
   ],
   "source": [
    "select_datetime = datetime.datetime(2020, 11, 4, 12, 30, 0)\n",
    "\n",
    "freq_str = \"H\"\n",
    "next_datetime = get_next_datetime(select_datetime, freq_str, clear_mod=True)\n",
    "next_datetime"
   ]
  },
  {
   "cell_type": "code",
   "execution_count": 38,
   "metadata": {
    "ExecuteTime": {
     "end_time": "2021-05-02T02:54:19.144180Z",
     "start_time": "2021-05-02T02:54:19.119247Z"
    }
   },
   "outputs": [
    {
     "data": {
      "text/plain": [
       "datetime.datetime(2020, 11, 4, 13, 30)"
      ]
     },
     "execution_count": 38,
     "metadata": {},
     "output_type": "execute_result"
    }
   ],
   "source": [
    "select_datetime = datetime.datetime(2020, 11, 4, 12, 30, 0)\n",
    "\n",
    "freq_str = \"H\"\n",
    "next_datetime = get_next_datetime(select_datetime, freq_str, clear_mod=False)\n",
    "next_datetime"
   ]
  },
  {
   "cell_type": "markdown",
   "metadata": {},
   "source": [
    "#### awareな場合 "
   ]
  },
  {
   "cell_type": "code",
   "execution_count": 39,
   "metadata": {
    "ExecuteTime": {
     "end_time": "2021-05-02T02:54:41.539299Z",
     "start_time": "2021-05-02T02:54:41.502400Z"
    }
   },
   "outputs": [
    {
     "name": "stdout",
     "output_type": "stream",
     "text": [
      "2020-11-04 12:30:00+09:00\n"
     ]
    },
    {
     "name": "stderr",
     "output_type": "stream",
     "text": [
      "C:\\Users\\Asami Naoto\\Anaconda3\\envs\\torch_py37\\lib\\site-packages\\ipykernel_launcher.py:87: UserWarning: input time is not coresponded to frequency. next datetime may be wrong\n"
     ]
    },
    {
     "data": {
      "text/plain": [
       "datetime.datetime(2020, 11, 4, 16, 0, tzinfo=<DstTzInfo 'Asia/Tokyo' JST+9:00:00 STD>)"
      ]
     },
     "execution_count": 39,
     "metadata": {},
     "output_type": "execute_result"
    }
   ],
   "source": [
    "jst_timezone = timezone(\"Asia/Tokyo\")\n",
    "select_datetime = jst_timezone.localize(datetime.datetime(2020, 11, 4, 12, 30, 0))\n",
    "print(select_datetime)\n",
    "freq_str = \"4H\"\n",
    "next_datetime = get_next_datetime(select_datetime, freq_str, clear_mod=True)\n",
    "next_datetime"
   ]
  },
  {
   "cell_type": "code",
   "execution_count": 40,
   "metadata": {
    "ExecuteTime": {
     "end_time": "2021-05-02T02:54:53.384624Z",
     "start_time": "2021-05-02T02:54:53.348730Z"
    }
   },
   "outputs": [
    {
     "name": "stdout",
     "output_type": "stream",
     "text": [
      "2020-11-04 12:30:00+08:00\n"
     ]
    },
    {
     "name": "stderr",
     "output_type": "stream",
     "text": [
      "C:\\Users\\Asami Naoto\\Anaconda3\\envs\\torch_py37\\lib\\site-packages\\ipykernel_launcher.py:87: UserWarning: input time is not coresponded to frequency. next datetime may be wrong\n"
     ]
    },
    {
     "data": {
      "text/plain": [
       "datetime.datetime(2020, 11, 4, 16, 0, tzinfo=<DstTzInfo 'Asia/Hong_Kong' HKT+8:00:00 STD>)"
      ]
     },
     "execution_count": 40,
     "metadata": {},
     "output_type": "execute_result"
    }
   ],
   "source": [
    "hk_timezone = timezone(\"Asia/Hong_Kong\")\n",
    "select_datetime = hk_timezone.localize(datetime.datetime(2020, 11, 4, 12, 30, 0))\n",
    "print(select_datetime)\n",
    "freq_str = \"4H\"\n",
    "next_datetime = get_next_datetime(select_datetime, freq_str, clear_mod=True)\n",
    "next_datetime"
   ]
  },
  {
   "cell_type": "markdown",
   "metadata": {},
   "source": [
    "### サンプリング周期を考慮した前の日時を取得  "
   ]
  },
  {
   "cell_type": "code",
   "execution_count": 41,
   "metadata": {
    "ExecuteTime": {
     "end_time": "2021-05-02T02:56:46.297707Z",
     "start_time": "2021-05-02T02:56:46.120181Z"
    }
   },
   "outputs": [],
   "source": [
    "def get_previous_datetime(select_datetime, freq_str, clear_mod=True):\n",
    "        \"\"\"\n",
    "        与えられた日時から，frequency_strを考慮して前の時間を求めるための関数．必要ないだろうが，一応作っておく\n",
    "        余りが出てしまった場合， warningを出す．\n",
    "        \"D\"以下，さらに\"W\",\"2W\",\"M\",\"Y\"を前提としている．\n",
    "        select_datetime: datetime.datetime(aware or naive)\n",
    "            与える日時，awareなdatetimeかlocal timeを前提としたnaiveなdatetime\n",
    "        freq_str: str\n",
    "            frequencyに対応する文字列\n",
    "        clear_mod: bool\n",
    "            与える日時の余りを削除するかどうか\n",
    "        \"\"\"\n",
    "        #from IPython.core.debugger import Pdb; Pdb().set_trace()\n",
    "        freq_str = middle_sample_type_with_check(freq_str)\n",
    "\n",
    "        select_is_aware = select_datetime.tzinfo is not None  # select_datetimeがawareかどうか\n",
    "        if select_is_aware:\n",
    "            select_timezone = timezone(str(select_datetime.tzinfo))\n",
    "\n",
    "        if clear_mod:  # 余りを無視する\n",
    "            if freq_str in {\"W\",\"2W\"}:  # 週足あるいは2週足を求めるとき\n",
    "                years, months, days = select_datetime.year, select_datetime.month, select_datetime.day\n",
    "                hours, minutes, seconds = select_datetime.hour, select_datetime.minute, select_datetime.second\n",
    "\n",
    "                weekday = select_datetime.weekday()\n",
    "                if {hours, minutes, seconds} != {0} or weekday != 6:  # 時間以下が全て0でないときあるいは，日曜でなかった場合\n",
    "                    warnings.warn(\"input time is not coresponded to frequency. resampling result may be wrong\")\n",
    "                    if {hours, minutes, seconds} != {0}:\n",
    "                        hours, minutes, seconds = 0,0,0\n",
    "        \n",
    "                    weekday += 1  # 月曜始まりを日曜始まりに強引に変更\n",
    "                    if freq_str == \"W\":  # 週足の場合\n",
    "                        sub_days =  weekday\n",
    "                    elif freq_str == \"2W\":  # 2週足の場合\n",
    "                        sub_days = 7 + weekday\n",
    "                else:  # 日曜だった場合\n",
    "                    if freq_str == \"W\":  # 週足の場合\n",
    "                        sub_days= 7\n",
    "                    elif freq_str == \"2W\":  # 2週足の場合\n",
    "                        sub_days = 14\n",
    "\n",
    "                prev_datetime = datetime.datetime(years, months, days, hours, minutes, seconds) + timedelta(days=-sub_days)\n",
    "                if select_is_aware:  # select_datetmeがawareな場合\n",
    "                    prev_datetime = select_timezone.localize(prev_datetime)\n",
    "                \n",
    "            elif freq_str == \"M\":  # 月足を求めるとき\n",
    "                years, months, days = select_datetime.year, select_datetime.month, select_datetime.day\n",
    "                hours, minutes, seconds = select_datetime.hour, select_datetime.minute, select_datetime.second\n",
    "\n",
    "                if {days, hours, minutes, seconds} != {0}:  # 日にち以下がすべて0でないとき(月の開始時でないとき)\n",
    "                    warnings.warn(\"input time is not coresponded to frequency. prev datetime may be wrong\")\n",
    "                    days, hours, minutes, seconds = 1,0,0,0\n",
    "\n",
    "                if months == 1:  # 1月のとき\n",
    "                    years -= 1\n",
    "                    months = 12  # 12月にする\n",
    "                else:  # 月の開始時のとき\n",
    "                    months -= 1  # 月を一つ減らす\n",
    "                prev_datetime = datetime.datetime(years, months, days, hours, minutes, seconds)\n",
    "                if select_is_aware:  # select_datetmeがawareな場合\n",
    "                    prev_datetime = select_timezone.localize(prev_datetime)\n",
    "\n",
    "            elif freq_str == \"Y\":  # 年足で求めるとき（元旦始まり）\n",
    "                years, months, days = select_datetime.year, select_datetime.month, select_datetime.day\n",
    "                hours, minutes, seconds = select_datetime.hour, select_datetime.minute, select_datetime.second\n",
    "\n",
    "                if {months, days, hours, minutes, seconds} != {0}:  # 月以下がすべて0でないとき\n",
    "                    warnings.warn(\"input time is not coresponded to frequency. prev datetime may be wrong\")\n",
    "                    months, days, hours, minutes, seconds = 1,1,0,0,0\n",
    "                \n",
    "                years -= 1\n",
    "                prev_datetime = datetime.datetime(years, months, days, hours, minutes, seconds)\n",
    "                if select_is_aware:  # select_datetmeがawareな場合\n",
    "                    prev_datetime = select_timezone.localize(prev_datetime)\n",
    "\n",
    "            else:  # それ以下の足を求める場合\n",
    "                sec_from_freq = get_sec_from_freq(freq_str)\n",
    "                if select_is_aware:\n",
    "                    timezone_datetime = select_datetime\n",
    "                else:\n",
    "                    utc_timezone = timezone(\"UTC\")  # これはどこでもよい\n",
    "                    timezone_datetime = utc_timezone.localize(select_datetime)\n",
    "                # select_datetimeと同じdatetimeの値を持つutcのunix時間-sec_from_freqを取得\n",
    "                prev_time_unix = timezone_datetime.timestamp() + timezone_datetime.utcoffset().total_seconds() - sec_from_freq  # unix時間\n",
    "\n",
    "                prev_time_mod = int(prev_time_unix) % int(sec_from_freq)\n",
    "                if prev_time_mod != 0:  # 余りが出てしまった場合\n",
    "                    warnings.warn(\"input time is not coresponded to frequency. prev datetime may be wrong\")\n",
    "                    prev_time_unix = prev_time_unix + (sec_from_freq - prev_time_mod)\n",
    "                \n",
    "                prev_datetime = datetime.datetime.utcfromtimestamp(prev_time_unix)  # utcのnaiveなdatetimeになる(datetimeの値に準ずる)\n",
    "                if select_is_aware:  # select_datetmeがawareな場合\n",
    "                    prev_datetime = select_timezone.localize(prev_datetime)\n",
    "\n",
    "        else:  # （余りを残すとき）\n",
    "            if freq_str in {\"W\",\"2W\"}:  # 週足あるいは2週足を求めるとき\n",
    "                if freq_str == \"W\":  # 週足を求める場合\n",
    "                    prev_datetime = select_datetime + timedelta(days=-7)\n",
    "                elif freq_str == \"2W\":  # 2週足を求める場合\n",
    "                    prev_datetime = select_datetime + timedelta(days=-14)\n",
    "                if select_is_aware:  # select_datetmeがawareな場合\n",
    "                    prev_datetime = select_timezone.localize(prev_datetime)\n",
    "\n",
    "            elif freq_str == \"M\":  # 月足の場合\n",
    "                years, months = select_datetime.year, select_datetime.month\n",
    "                if months == 1:  # 1月のとき\n",
    "                    years -= 1\n",
    "                    months = 12  # 12月にする\n",
    "                else:\n",
    "                    months -= 1  # 月を一つ減らす\n",
    "                prev_datetime = datetime.datetime(years, months, 1, 0, 0, 0)\n",
    "                if select_is_aware:  # select_datetmeがawareな場合\n",
    "                    prev_datetime = select_timezone.localize(prev_datetime)\n",
    "\n",
    "            elif freq_str == \"Y\":  # 年足の場合，元旦始まり\n",
    "                years = select_datetime.year\n",
    "                years += 1\n",
    "                prev_datetime = datetime.datetime(years, 1, 1, 0, 0, 0)\n",
    "                if select_is_aware:  # select_datetmeがawareな場合\n",
    "                    prev_datetime = select_timezone.localize(prev_datetime)\n",
    "\n",
    "            else:  # それ以下の足の場合\n",
    "                sec_from_freq = get_sec_from_freq(freq_str)\n",
    "                prev_datetime = select_datetime + timedelta(seconds=-sec_from_freq)\n",
    "        \n",
    "        return prev_datetime"
   ]
  },
  {
   "cell_type": "code",
   "execution_count": 42,
   "metadata": {
    "ExecuteTime": {
     "end_time": "2021-05-02T02:56:55.915991Z",
     "start_time": "2021-05-02T02:56:55.876101Z"
    }
   },
   "outputs": [
    {
     "name": "stdout",
     "output_type": "stream",
     "text": [
      "2020-11-04 12:30:00+09:00\n"
     ]
    },
    {
     "name": "stderr",
     "output_type": "stream",
     "text": [
      "C:\\Users\\Asami Naoto\\Anaconda3\\envs\\torch_py37\\lib\\site-packages\\ipykernel_launcher.py:88: UserWarning: input time is not coresponded to frequency. prev datetime may be wrong\n"
     ]
    },
    {
     "data": {
      "text/plain": [
       "datetime.datetime(2020, 11, 4, 12, 0, tzinfo=<DstTzInfo 'Asia/Tokyo' JST+9:00:00 STD>)"
      ]
     },
     "execution_count": 42,
     "metadata": {},
     "output_type": "execute_result"
    }
   ],
   "source": [
    "jst_timezone = timezone(\"Asia/Tokyo\")\n",
    "select_datetime = jst_timezone.localize(datetime.datetime(2020, 11, 4, 12, 30, 0))\n",
    "print(select_datetime)\n",
    "freq_str = \"4H\"\n",
    "next_datetime = get_previous_datetime(select_datetime, freq_str, clear_mod=True)\n",
    "next_datetime"
   ]
  },
  {
   "cell_type": "code",
   "execution_count": 43,
   "metadata": {
    "ExecuteTime": {
     "end_time": "2021-05-02T02:57:24.214327Z",
     "start_time": "2021-05-02T02:57:24.180414Z"
    }
   },
   "outputs": [
    {
     "name": "stdout",
     "output_type": "stream",
     "text": [
      "2020-11-04 12:30:00+09:00\n"
     ]
    },
    {
     "data": {
      "text/plain": [
       "datetime.datetime(2020, 11, 4, 8, 30, tzinfo=<DstTzInfo 'Asia/Tokyo' JST+9:00:00 STD>)"
      ]
     },
     "execution_count": 43,
     "metadata": {},
     "output_type": "execute_result"
    }
   ],
   "source": [
    "jst_timezone = timezone(\"Asia/Tokyo\")\n",
    "select_datetime = jst_timezone.localize(datetime.datetime(2020, 11, 4, 12, 30, 0))\n",
    "print(select_datetime)\n",
    "freq_str = \"4H\"\n",
    "next_datetime = get_previous_datetime(select_datetime, freq_str, clear_mod=False)\n",
    "next_datetime"
   ]
  },
  {
   "cell_type": "markdown",
   "metadata": {},
   "source": [
    "### awareなdatetimeをnaiveなutcのdatetimeに変更 "
   ]
  },
  {
   "cell_type": "markdown",
   "metadata": {},
   "source": [
    "sqliteの仕様上,utcのnaiveなdatetimeに変換する必要がある．そこで，ローカルのタイムゾーンを考慮して，対応するutcのdatetimeをnaiveで返す．"
   ]
  },
  {
   "cell_type": "code",
   "execution_count": 27,
   "metadata": {
    "ExecuteTime": {
     "end_time": "2021-05-02T01:44:50.202302Z",
     "start_time": "2021-05-02T01:44:50.184348Z"
    }
   },
   "outputs": [],
   "source": [
    "def get_utc_naive_datetime_from_datetime(select_datetime):\n",
    "    \"\"\"\n",
    "    awareなdatetimeかnaiveなdatetime(local timeを前提)をutcのnaiveなdatetimeに返る\n",
    "    select_datetime: datetime\n",
    "    \"\"\"\n",
    "    # awareなdatetimeからutc\n",
    "    select_datetime_unix = select_datetime.timestamp()  #システムローカルのタイムゾーンを考慮したunix時刻\n",
    "    utc_naive_datetime = datetime.datetime.utcfromtimestamp(select_datetime_unix)  # unix時刻から考慮したutcのnaiveなdatetime\n",
    "    return utc_naive_datetime"
   ]
  },
  {
   "cell_type": "code",
   "execution_count": 28,
   "metadata": {
    "ExecuteTime": {
     "end_time": "2021-05-02T01:44:50.818659Z",
     "start_time": "2021-05-02T01:44:50.782747Z"
    }
   },
   "outputs": [
    {
     "data": {
      "text/plain": [
       "datetime.datetime(2020, 11, 4, 3, 30)"
      ]
     },
     "execution_count": 28,
     "metadata": {},
     "output_type": "execute_result"
    }
   ],
   "source": [
    "jst_timezone = timezone(\"Asia/Tokyo\")\n",
    "jst_datetime = jst_timezone.localize(datetime.datetime(2020, 11, 4, 12, 30, 0))\n",
    "\n",
    "utc_naive_datetime = get_utc_naive_datetime_from_datetime(jst_datetime)\n",
    "utc_naive_datetime"
   ]
  },
  {
   "cell_type": "code",
   "execution_count": 29,
   "metadata": {
    "ExecuteTime": {
     "end_time": "2021-05-02T01:44:52.492177Z",
     "start_time": "2021-05-02T01:44:52.470244Z"
    }
   },
   "outputs": [
    {
     "data": {
      "text/plain": [
       "datetime.datetime(2020, 11, 4, 3, 30)"
      ]
     },
     "execution_count": 29,
     "metadata": {},
     "output_type": "execute_result"
    }
   ],
   "source": [
    "hk_timezone = timezone(\"Asia/Hong_Kong\")\n",
    "hk_datetime = hk_timezone.localize(datetime.datetime(2020, 11, 4, 11, 30, 0))\n",
    "\n",
    "utc_naive_datetime = get_utc_naive_datetime_from_datetime(hk_datetime)\n",
    "utc_naive_datetime"
   ]
  },
  {
   "cell_type": "markdown",
   "metadata": {},
   "source": [
    "### datetimeを進める関数"
   ]
  },
  {
   "cell_type": "code",
   "execution_count": 44,
   "metadata": {
    "ExecuteTime": {
     "end_time": "2021-05-02T02:58:50.864633Z",
     "start_time": "2021-05-02T02:58:50.828728Z"
    }
   },
   "outputs": [],
   "source": [
    "def add_datetime(select_datetime, freq_str, add_number=1, clear_mod=True):\n",
    "    \"\"\"\n",
    "    select_datetime: datetime.datetime\n",
    "        指定する日時\n",
    "    freq_str: str\n",
    "        \n",
    "    \"\"\"\n",
    "    freq_str = middle_sample_type_with_check(freq_str)\n",
    "    iter_datetime = select_datetime\n",
    "    for i in range(add_number):\n",
    "        iter_datetime = get_next_datetime(iter_datetime, freq_str, clear_mod=clear_mod)\n",
    "\n",
    "    return iter_datetime  "
   ]
  },
  {
   "cell_type": "code",
   "execution_count": 47,
   "metadata": {
    "ExecuteTime": {
     "end_time": "2021-05-02T02:59:25.733397Z",
     "start_time": "2021-05-02T02:59:25.696501Z"
    }
   },
   "outputs": [
    {
     "name": "stderr",
     "output_type": "stream",
     "text": [
      "C:\\Users\\Asami Naoto\\Anaconda3\\envs\\torch_py37\\lib\\site-packages\\ipykernel_launcher.py:87: UserWarning: input time is not coresponded to frequency. next datetime may be wrong\n"
     ]
    },
    {
     "data": {
      "text/plain": [
       "datetime.datetime(2020, 11, 14, 0, 0, tzinfo=<DstTzInfo 'Asia/Tokyo' JST+9:00:00 STD>)"
      ]
     },
     "execution_count": 47,
     "metadata": {},
     "output_type": "execute_result"
    }
   ],
   "source": [
    "jst_timezone = timezone(\"Asia/Tokyo\")\n",
    "jst_datetime = jst_timezone.localize(datetime.datetime(2020, 11, 4, 12, 30, 0))\n",
    "\n",
    "added_datetime = add_datetime(jst_datetime, freq_str=\"D\",add_number=10, clear_mod=True)\n",
    "added_datetime"
   ]
  },
  {
   "cell_type": "code",
   "execution_count": 48,
   "metadata": {
    "ExecuteTime": {
     "end_time": "2021-05-02T03:00:05.405318Z",
     "start_time": "2021-05-02T03:00:05.363430Z"
    }
   },
   "outputs": [
    {
     "data": {
      "text/plain": [
       "datetime.datetime(2020, 11, 14, 12, 30, tzinfo=<DstTzInfo 'Asia/Tokyo' JST+9:00:00 STD>)"
      ]
     },
     "execution_count": 48,
     "metadata": {},
     "output_type": "execute_result"
    }
   ],
   "source": [
    "jst_timezone = timezone(\"Asia/Tokyo\")\n",
    "jst_datetime = jst_timezone.localize(datetime.datetime(2020, 11, 4, 12, 30, 0))\n",
    "\n",
    "added_datetime = add_datetime(jst_datetime, freq_str=\"D\",add_number=10, clear_mod=False)\n",
    "added_datetime"
   ]
  },
  {
   "cell_type": "markdown",
   "metadata": {},
   "source": [
    "### datetimeを減らす関数 "
   ]
  },
  {
   "cell_type": "code",
   "execution_count": 49,
   "metadata": {
    "ExecuteTime": {
     "end_time": "2021-05-02T03:01:32.893386Z",
     "start_time": "2021-05-02T03:01:32.865459Z"
    }
   },
   "outputs": [],
   "source": [
    "def sub_datetime(select_datetime, freq_str, sub_number=1, clear_mod=True):\n",
    "    \"\"\"\n",
    "    select_datetime: datetime.datetime\n",
    "        指定する日時\n",
    "    freq_str: str\n",
    "    \"\"\"\n",
    "    freq_str = middle_sample_type_with_check(freq_str)\n",
    "    iter_datetime = select_datetime\n",
    "    for i in range(sub_number):\n",
    "        iter_datetime = get_previous_datetime(iter_datetime, freq_str, clear_mod=clear_mod)\n",
    "\n",
    "    return iter_datetime  "
   ]
  },
  {
   "cell_type": "code",
   "execution_count": 52,
   "metadata": {
    "ExecuteTime": {
     "end_time": "2021-05-02T03:03:26.359379Z",
     "start_time": "2021-05-02T03:03:26.329463Z"
    }
   },
   "outputs": [
    {
     "name": "stderr",
     "output_type": "stream",
     "text": [
      "C:\\Users\\Asami Naoto\\Anaconda3\\envs\\torch_py37\\lib\\site-packages\\ipykernel_launcher.py:88: UserWarning: input time is not coresponded to frequency. prev datetime may be wrong\n"
     ]
    },
    {
     "data": {
      "text/plain": [
       "datetime.datetime(2020, 10, 26, 0, 0, tzinfo=<DstTzInfo 'Asia/Tokyo' JST+9:00:00 STD>)"
      ]
     },
     "execution_count": 52,
     "metadata": {},
     "output_type": "execute_result"
    }
   ],
   "source": [
    "jst_timezone = timezone(\"Asia/Tokyo\")\n",
    "jst_datetime = jst_timezone.localize(datetime.datetime(2020, 11, 4, 12, 30, 0))\n",
    "\n",
    "added_datetime = sub_datetime(jst_datetime, freq_str=\"D\",sub_number=10, clear_mod=True)\n",
    "added_datetime"
   ]
  },
  {
   "cell_type": "code",
   "execution_count": 51,
   "metadata": {
    "ExecuteTime": {
     "end_time": "2021-05-02T03:03:02.191006Z",
     "start_time": "2021-05-02T03:03:02.147123Z"
    }
   },
   "outputs": [
    {
     "data": {
      "text/plain": [
       "datetime.datetime(2020, 10, 25, 12, 30, tzinfo=<DstTzInfo 'Asia/Tokyo' JST+9:00:00 STD>)"
      ]
     },
     "execution_count": 51,
     "metadata": {},
     "output_type": "execute_result"
    }
   ],
   "source": [
    "jst_timezone = timezone(\"Asia/Tokyo\")\n",
    "jst_datetime = jst_timezone.localize(datetime.datetime(2020, 11, 4, 12, 30, 0))\n",
    "\n",
    "added_datetime = sub_datetime(jst_datetime, freq_str=\"D\",sub_number=10, clear_mod=False)\n",
    "added_datetime"
   ]
  },
  {
   "cell_type": "markdown",
   "metadata": {},
   "source": [
    "### timezoneの同じdatetimeに変換"
   ]
  },
  {
   "cell_type": "code",
   "execution_count": 53,
   "metadata": {
    "ExecuteTime": {
     "end_time": "2021-05-02T03:03:42.886193Z",
     "start_time": "2021-05-02T03:03:42.847300Z"
    }
   },
   "outputs": [],
   "source": [
    "def get_timezone_datetime_like(select_datetime, like_datetime):\n",
    "    like_datetime_is_aware = like_datetime.tzinfo is not None\n",
    "    if like_datetime_is_aware:\n",
    "        like_timezone = timezone(str(like_datetime.tzinfo))\n",
    "    \n",
    "    select_datetime_is_aware = select_datetime.tzinfo is not None\n",
    "    \n",
    "    if not like_datetime_is_aware and not select_datetime_is_aware:# select_datetime, like_datetimeがどちらもnaiveな場合\n",
    "        return select_datetime\n",
    "    elif like_datetime_is_aware and not select_datetime_is_aware:# like_datetimeのみがawareな場合\n",
    "        return like_timezone.localize(select_datetime)\n",
    "    elif not like_datetime_is_aware and select_datetime_is_aware:# select_datetimeのみがawareな場合\n",
    "        return select_datetime.replace(tzinfo=None)\n",
    "    elif like_datetime_is_aware and select_datetime_is_aware:# select_datetime, like_datetimeがどちらもawareな場合\n",
    "        if str(like_datetime.tzinfo) != str(select_datetime.tzinfo):\n",
    "            return select_datetime.astimezone(like_timezone)\n",
    "        else:\n",
    "            return select_datetime"
   ]
  },
  {
   "cell_type": "code",
   "execution_count": 54,
   "metadata": {
    "ExecuteTime": {
     "end_time": "2021-05-02T03:03:43.723950Z",
     "start_time": "2021-05-02T03:03:43.687056Z"
    }
   },
   "outputs": [
    {
     "data": {
      "text/plain": [
       "datetime.datetime(2020, 11, 5, 0, 0)"
      ]
     },
     "execution_count": 54,
     "metadata": {},
     "output_type": "execute_result"
    }
   ],
   "source": [
    "#jst_timezone = timezone(\"Asia/Tokyo\")\n",
    "#jst_timezone = timezone(\"UTC\")\n",
    "#like_datetime = jst_timezone.localize(datetime.datetime(2020, 11, 4, 12, 30, 0))\n",
    "like_datetime = datetime.datetime(2020, 11, 4, 12, 30, 0)\n",
    "\n",
    "#select_datetime = datetime.datetime(2020,11,5,0,0,0)\n",
    "utc_timezone = timezone(\"UTC\")\n",
    "select_datetime = utc_timezone.localize(datetime.datetime(2020,11,5,0,0,0))\n",
    "\n",
    "\n",
    "modified_select_datetime = get_timezone_datetime_like(select_datetime, like_datetime)\n",
    "modified_select_datetime"
   ]
  },
  {
   "cell_type": "markdown",
   "metadata": {},
   "source": [
    "### 営業日・営業時間を考慮した次の日時 "
   ]
  },
  {
   "cell_type": "code",
   "execution_count": null,
   "metadata": {},
   "outputs": [],
   "source": [
    "def add_workdays_intraday_datetime(select_datetime, freq_str, add_number=1, clear_mod=True):\n",
    "    "
   ]
  }
 ],
 "metadata": {
  "kernelspec": {
   "display_name": "torch_py37",
   "language": "python",
   "name": "torch_py37"
  },
  "language_info": {
   "codemirror_mode": {
    "name": "ipython",
    "version": 3
   },
   "file_extension": ".py",
   "mimetype": "text/x-python",
   "name": "python",
   "nbconvert_exporter": "python",
   "pygments_lexer": "ipython3",
   "version": "3.7.4"
  },
  "toc": {
   "base_numbering": 1,
   "nav_menu": {},
   "number_sections": true,
   "sideBar": true,
   "skip_h1_title": false,
   "title_cell": "Table of Contents",
   "title_sidebar": "Contents",
   "toc_cell": false,
   "toc_position": {
    "height": "calc(100% - 180px)",
    "left": "10px",
    "top": "150px",
    "width": "254.594px"
   },
   "toc_section_display": true,
   "toc_window_display": true
  }
 },
 "nbformat": 4,
 "nbformat_minor": 4
}
